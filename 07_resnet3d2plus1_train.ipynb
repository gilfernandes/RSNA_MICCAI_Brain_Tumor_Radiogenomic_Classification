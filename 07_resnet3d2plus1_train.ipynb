{
 "cells": [
  {
   "cell_type": "code",
   "execution_count": 1,
   "id": "68031610-6a2d-40a7-9a4d-2e2ac382d637",
   "metadata": {},
   "outputs": [],
   "source": [
    "import math, glob, random, os, time\n",
    "import pydicom\n",
    "import cv2\n",
    "from functools import partial\n",
    "from pathlib import Path\n",
    "\n",
    "import numpy as np\n",
    "import pandas as pd\n",
    "\n",
    "import torch\n",
    "import torch.nn as nn\n",
    "import torch.nn.functional as F\n",
    "from torch.utils import data as torch_data\n",
    "from sklearn import model_selection as sk_model_selection\n",
    "from tqdm.notebook import tqdm\n",
    "from sklearn.metrics import roc_auc_score\n",
    "import matplotlib.pyplot as plt"
   ]
  },
  {
   "cell_type": "markdown",
   "id": "0755d7a8-e06f-45e2-9e11-6519119446bc",
   "metadata": {},
   "source": [
    "### Config"
   ]
  },
  {
   "cell_type": "code",
   "execution_count": 2,
   "id": "20cee47e-558e-4899-bb60-5f60a8ea8c6b",
   "metadata": {},
   "outputs": [],
   "source": [
    "class Config():\n",
    "    device = torch.device(\"cuda\" if torch.cuda.is_available() else \"cpu\")\n",
    "    size = 256\n",
    "    num_images = 64\n",
    "    base_path = Path('/home/RSNA_MICCAI_Brain_Tumor/data')\n",
    "    assert base_path.exists(), f'{base_path} does not exist'\n",
    "    models_path = Path('/home/RSNA_MICCAI_Brain_Tumor/models')\n",
    "    assert models_path.exists()\n",
    "    seed = 42\n",
    "    test_size = 0.1\n",
    "    clahe=False\n",
    "    mri_types = ['FLAIR','T1w','T1wCE','T2w']\n",
    "    batch_size = 4\n",
    "    num_workers = 7\n",
    "    epochs = 20\n",
    "    extra_check_epochs = [19, 20]\n",
    "    \n",
    "cfg = Config()"
   ]
  },
  {
   "cell_type": "code",
   "execution_count": 3,
   "id": "bb8380aa-8190-48c9-9ea4-069c01095d73",
   "metadata": {},
   "outputs": [
    {
     "data": {
      "text/plain": [
       "device(type='cuda')"
      ]
     },
     "execution_count": 3,
     "metadata": {},
     "output_type": "execute_result"
    }
   ],
   "source": [
    "cfg.device"
   ]
  },
  {
   "cell_type": "markdown",
   "id": "9faf3adc-106a-4493-8c18-f63e74456f99",
   "metadata": {},
   "source": [
    "### Functions for loading images"
   ]
  },
  {
   "cell_type": "code",
   "execution_count": 4,
   "id": "14f2d79d-552d-4b7e-941b-bbb55a6898b6",
   "metadata": {},
   "outputs": [],
   "source": [
    "def load_dicom_image(path, img_size=cfg.size, clahe=False):\n",
    "    dicom = pydicom.read_file(path)\n",
    "    data = dicom.pixel_array\n",
    "    max_data = np.max(data)\n",
    "    min_data = np.min(data)\n",
    "    if min_data == max_data:\n",
    "        data = np.zeros((img_size,img_size))\n",
    "        return data\n",
    "    data = data - min_data\n",
    "    if max_data != 0:\n",
    "        data = data / (max_data - min_data) \n",
    "    \n",
    "    #data = (data * 255).astype(np.uint8)\n",
    "    data = cv2.resize(data, (img_size, img_size))\n",
    "    return data"
   ]
  },
  {
   "cell_type": "code",
   "execution_count": 5,
   "id": "e51e7b17-e406-41f7-8cb3-f7ab6462c2c8",
   "metadata": {},
   "outputs": [],
   "source": [
    "def load_dicom_images_3d(scan_id, num_imgs=cfg.num_images, img_size=cfg.size, mri_type=\"FLAIR\", split=\"train\", clahe=False):\n",
    "\n",
    "    files = sorted(glob.glob(f\"{cfg.base_path}/{split}/{scan_id}/{mri_type}/*.dcm\"))\n",
    "    assert len(files) > 0\n",
    "    \n",
    "    middle = len(files)//2\n",
    "    num_imgs2 = num_imgs//2\n",
    "    p1 = max(0, middle - num_imgs2)\n",
    "    p2 = min(len(files), middle + num_imgs2)\n",
    "    img3d = np.stack([load_dicom_image(f, clahe=False) for f in files[p1:p2]]).T \n",
    "    if img3d.shape[-1] < num_imgs:\n",
    "        n_zero = np.zeros((img_size, img_size, num_imgs - img3d.shape[-1]))\n",
    "        img3d = np.concatenate((img3d,  n_zero), axis = -1)\n",
    "    img3d = img3d[:,:,:]\n",
    "    # Transforms\n",
    "#     img3d = flip3D(brightness(img3d))\n",
    "#     if convert_vertical_flag:\n",
    "#         img3d_vert = convert_vertical(img3d, size=img3d.shape[0])\n",
    "#         img3d = np.concatenate([img3d, img3d_vert], axis=-1)\n",
    "    return np.expand_dims(img3d[:,:,:], 0)"
   ]
  },
  {
   "cell_type": "code",
   "execution_count": 6,
   "id": "a262bf03-fec2-42d4-8481-12895a17e5c4",
   "metadata": {},
   "outputs": [
    {
     "data": {
      "text/plain": [
       "(1, 256, 256, 64)"
      ]
     },
     "execution_count": 6,
     "metadata": {},
     "output_type": "execute_result"
    }
   ],
   "source": [
    "sample_image_0 = load_dicom_images_3d(\"00000\")\n",
    "sample_image_0.shape"
   ]
  },
  {
   "cell_type": "markdown",
   "id": "e8408819-4d52-43a4-841a-c79d5c370587",
   "metadata": {},
   "source": [
    "### Seeding"
   ]
  },
  {
   "cell_type": "code",
   "execution_count": 7,
   "id": "d9c9f9f7-35ad-4e11-b597-5f4eed0aa5dc",
   "metadata": {},
   "outputs": [],
   "source": [
    "def set_seed(seed):\n",
    "    random.seed(seed)\n",
    "    os.environ[\"PYTHONHASHSEED\"] = str(seed)\n",
    "    np.random.seed(seed)\n",
    "    torch.manual_seed(seed)\n",
    "    if torch.cuda.is_available():\n",
    "        torch.cuda.manual_seed_all(seed)\n",
    "        torch.backends.cudnn.deterministic = True\n",
    "\n",
    "set_seed(cfg.seed)"
   ]
  },
  {
   "cell_type": "markdown",
   "id": "38245804-c74d-4efe-be8f-bf06b8bfe550",
   "metadata": {},
   "source": [
    "### Tabular Data"
   ]
  },
  {
   "cell_type": "code",
   "execution_count": 8,
   "id": "7701e739-7246-4a42-a288-e38a89efd310",
   "metadata": {},
   "outputs": [
    {
     "data": {
      "text/html": [
       "<div>\n",
       "<style scoped>\n",
       "    .dataframe tbody tr th:only-of-type {\n",
       "        vertical-align: middle;\n",
       "    }\n",
       "\n",
       "    .dataframe tbody tr th {\n",
       "        vertical-align: top;\n",
       "    }\n",
       "\n",
       "    .dataframe thead th {\n",
       "        text-align: right;\n",
       "    }\n",
       "</style>\n",
       "<table border=\"1\" class=\"dataframe\">\n",
       "  <thead>\n",
       "    <tr style=\"text-align: right;\">\n",
       "      <th></th>\n",
       "      <th>BraTS21ID</th>\n",
       "      <th>MGMT_value</th>\n",
       "    </tr>\n",
       "  </thead>\n",
       "  <tbody>\n",
       "    <tr>\n",
       "      <th>0</th>\n",
       "      <td>0</td>\n",
       "      <td>1</td>\n",
       "    </tr>\n",
       "    <tr>\n",
       "      <th>1</th>\n",
       "      <td>2</td>\n",
       "      <td>1</td>\n",
       "    </tr>\n",
       "    <tr>\n",
       "      <th>2</th>\n",
       "      <td>3</td>\n",
       "      <td>0</td>\n",
       "    </tr>\n",
       "    <tr>\n",
       "      <th>3</th>\n",
       "      <td>5</td>\n",
       "      <td>1</td>\n",
       "    </tr>\n",
       "    <tr>\n",
       "      <th>4</th>\n",
       "      <td>6</td>\n",
       "      <td>1</td>\n",
       "    </tr>\n",
       "    <tr>\n",
       "      <th>...</th>\n",
       "      <td>...</td>\n",
       "      <td>...</td>\n",
       "    </tr>\n",
       "    <tr>\n",
       "      <th>580</th>\n",
       "      <td>1005</td>\n",
       "      <td>1</td>\n",
       "    </tr>\n",
       "    <tr>\n",
       "      <th>581</th>\n",
       "      <td>1007</td>\n",
       "      <td>1</td>\n",
       "    </tr>\n",
       "    <tr>\n",
       "      <th>582</th>\n",
       "      <td>1008</td>\n",
       "      <td>1</td>\n",
       "    </tr>\n",
       "    <tr>\n",
       "      <th>583</th>\n",
       "      <td>1009</td>\n",
       "      <td>0</td>\n",
       "    </tr>\n",
       "    <tr>\n",
       "      <th>584</th>\n",
       "      <td>1010</td>\n",
       "      <td>0</td>\n",
       "    </tr>\n",
       "  </tbody>\n",
       "</table>\n",
       "<p>585 rows × 2 columns</p>\n",
       "</div>"
      ],
      "text/plain": [
       "     BraTS21ID  MGMT_value\n",
       "0            0           1\n",
       "1            2           1\n",
       "2            3           0\n",
       "3            5           1\n",
       "4            6           1\n",
       "..         ...         ...\n",
       "580       1005           1\n",
       "581       1007           1\n",
       "582       1008           1\n",
       "583       1009           0\n",
       "584       1010           0\n",
       "\n",
       "[585 rows x 2 columns]"
      ]
     },
     "execution_count": 8,
     "metadata": {},
     "output_type": "execute_result"
    }
   ],
   "source": [
    "train_df = pd.read_csv(f\"{cfg.base_path}/train_labels.csv\")\n",
    "train_df"
   ]
  },
  {
   "cell_type": "code",
   "execution_count": 9,
   "id": "d557a01e-52f1-4764-9110-b08bab3df523",
   "metadata": {},
   "outputs": [
    {
     "data": {
      "text/html": [
       "<div>\n",
       "<style scoped>\n",
       "    .dataframe tbody tr th:only-of-type {\n",
       "        vertical-align: middle;\n",
       "    }\n",
       "\n",
       "    .dataframe tbody tr th {\n",
       "        vertical-align: top;\n",
       "    }\n",
       "\n",
       "    .dataframe thead th {\n",
       "        text-align: right;\n",
       "    }\n",
       "</style>\n",
       "<table border=\"1\" class=\"dataframe\">\n",
       "  <thead>\n",
       "    <tr style=\"text-align: right;\">\n",
       "      <th></th>\n",
       "      <th>BraTS21ID</th>\n",
       "      <th>MGMT_value</th>\n",
       "    </tr>\n",
       "  </thead>\n",
       "  <tbody>\n",
       "    <tr>\n",
       "      <th>0</th>\n",
       "      <td>0</td>\n",
       "      <td>1</td>\n",
       "    </tr>\n",
       "    <tr>\n",
       "      <th>1</th>\n",
       "      <td>2</td>\n",
       "      <td>1</td>\n",
       "    </tr>\n",
       "    <tr>\n",
       "      <th>2</th>\n",
       "      <td>3</td>\n",
       "      <td>0</td>\n",
       "    </tr>\n",
       "    <tr>\n",
       "      <th>3</th>\n",
       "      <td>5</td>\n",
       "      <td>1</td>\n",
       "    </tr>\n",
       "    <tr>\n",
       "      <th>4</th>\n",
       "      <td>6</td>\n",
       "      <td>1</td>\n",
       "    </tr>\n",
       "    <tr>\n",
       "      <th>...</th>\n",
       "      <td>...</td>\n",
       "      <td>...</td>\n",
       "    </tr>\n",
       "    <tr>\n",
       "      <th>580</th>\n",
       "      <td>1005</td>\n",
       "      <td>1</td>\n",
       "    </tr>\n",
       "    <tr>\n",
       "      <th>581</th>\n",
       "      <td>1007</td>\n",
       "      <td>1</td>\n",
       "    </tr>\n",
       "    <tr>\n",
       "      <th>582</th>\n",
       "      <td>1008</td>\n",
       "      <td>1</td>\n",
       "    </tr>\n",
       "    <tr>\n",
       "      <th>583</th>\n",
       "      <td>1009</td>\n",
       "      <td>0</td>\n",
       "    </tr>\n",
       "    <tr>\n",
       "      <th>584</th>\n",
       "      <td>1010</td>\n",
       "      <td>0</td>\n",
       "    </tr>\n",
       "  </tbody>\n",
       "</table>\n",
       "<p>582 rows × 2 columns</p>\n",
       "</div>"
      ],
      "text/plain": [
       "     BraTS21ID  MGMT_value\n",
       "0            0           1\n",
       "1            2           1\n",
       "2            3           0\n",
       "3            5           1\n",
       "4            6           1\n",
       "..         ...         ...\n",
       "580       1005           1\n",
       "581       1007           1\n",
       "582       1008           1\n",
       "583       1009           0\n",
       "584       1010           0\n",
       "\n",
       "[582 rows x 2 columns]"
      ]
     },
     "execution_count": 9,
     "metadata": {},
     "output_type": "execute_result"
    }
   ],
   "source": [
    "train_df = train_df.drop(train_df[train_df['BraTS21ID'].isin([109, 123, 709])].index)\n",
    "train_df"
   ]
  },
  {
   "cell_type": "markdown",
   "id": "7a956074-ba2c-4760-94da-27731099459b",
   "metadata": {},
   "source": [
    "### Train / Test Split"
   ]
  },
  {
   "cell_type": "code",
   "execution_count": 10,
   "id": "fd31f549-a539-48cb-a847-ace203f5c0ec",
   "metadata": {},
   "outputs": [],
   "source": [
    "df_train, df_valid = sk_model_selection.train_test_split(\n",
    "    train_df, \n",
    "    test_size=cfg.test_size, \n",
    "    random_state=42, \n",
    "    stratify=train_df[\"MGMT_value\"],\n",
    ")"
   ]
  },
  {
   "cell_type": "code",
   "execution_count": 11,
   "id": "8ade0aa2-c3a1-47d7-b356-07ffce681da6",
   "metadata": {},
   "outputs": [
    {
     "data": {
      "text/plain": [
       "0.11281070745697896"
      ]
     },
     "execution_count": 11,
     "metadata": {},
     "output_type": "execute_result"
    }
   ],
   "source": [
    "len(df_valid) / len(df_train)"
   ]
  },
  {
   "cell_type": "code",
   "execution_count": 12,
   "id": "1d7b8a87-1fe7-4c07-9dd4-91e7e2e92c34",
   "metadata": {},
   "outputs": [],
   "source": [
    "df_valid = df_valid.append(pd.DataFrame([{'BraTS21ID': 1, 'MGMT_value': 1}, {'BraTS21ID': 13, 'MGMT_value': 1}]))"
   ]
  },
  {
   "cell_type": "code",
   "execution_count": 13,
   "id": "b4310dea-01ba-41d7-bc47-9e34c99c7ffb",
   "metadata": {},
   "outputs": [
    {
     "data": {
      "text/plain": [
       "0.11663479923518165"
      ]
     },
     "execution_count": 13,
     "metadata": {},
     "output_type": "execute_result"
    }
   ],
   "source": [
    "len(df_valid) / len(df_train)"
   ]
  },
  {
   "cell_type": "markdown",
   "id": "6f8f60e3-d196-4ff8-ad8f-f5caf5a755fe",
   "metadata": {},
   "source": [
    "### Dataset"
   ]
  },
  {
   "cell_type": "code",
   "execution_count": 14,
   "id": "366241e8-0531-42eb-bfc6-d6f5d0faa832",
   "metadata": {},
   "outputs": [],
   "source": [
    "class Dataset(torch_data.Dataset):\n",
    "    def __init__(self, paths, targets=None, mri_type=None, label_smoothing=0.01, split=\"train\"):\n",
    "        self.paths = paths\n",
    "        self.targets = targets\n",
    "        self.mri_type = mri_type\n",
    "        self.label_smoothing = label_smoothing\n",
    "        self.split = split\n",
    "          \n",
    "    def __len__(self):\n",
    "        return len(self.paths)\n",
    "    \n",
    "    def __getitem__(self, index):\n",
    "        scan_id = self.paths[index]\n",
    "        if self.targets is None:\n",
    "            data = load_dicom_images_3d(str(scan_id).zfill(5), mri_type=self.mri_type[index], split=self.split, clahe=cfg.clahe)\n",
    "        else:\n",
    "            data = load_dicom_images_3d(str(scan_id).zfill(5), mri_type=self.mri_type[index], split=\"train\", clahe=cfg.clahe)\n",
    "\n",
    "        if self.targets is None:\n",
    "            return {\"X\": torch.tensor(data).float(), \"id\": scan_id}\n",
    "        else:\n",
    "            y = torch.tensor(abs(self.targets[index]-self.label_smoothing), dtype=torch.float)\n",
    "            return {\"X\": torch.tensor(data).float(), \"y\": y}\n"
   ]
  },
  {
   "cell_type": "code",
   "execution_count": 15,
   "id": "5c807a37-95f9-40a7-ad91-b2eec71f326a",
   "metadata": {},
   "outputs": [
    {
     "name": "stderr",
     "output_type": "stream",
     "text": [
      "/opt/conda/lib/python3.8/site-packages/pandas/core/indexing.py:1597: SettingWithCopyWarning: \n",
      "A value is trying to be set on a copy of a slice from a DataFrame.\n",
      "Try using .loc[row_indexer,col_indexer] = value instead\n",
      "\n",
      "See the caveats in the documentation: https://pandas.pydata.org/pandas-docs/stable/user_guide/indexing.html#returning-a-view-versus-a-copy\n",
      "  self.obj[key] = value\n",
      "/opt/conda/lib/python3.8/site-packages/pandas/core/indexing.py:1720: SettingWithCopyWarning: \n",
      "A value is trying to be set on a copy of a slice from a DataFrame.\n",
      "Try using .loc[row_indexer,col_indexer] = value instead\n",
      "\n",
      "See the caveats in the documentation: https://pandas.pydata.org/pandas-docs/stable/user_guide/indexing.html#returning-a-view-versus-a-copy\n",
      "  self._setitem_single_column(loc, value, pi)\n"
     ]
    }
   ],
   "source": [
    "df_train.loc[:,\"MRI_Type\"] = 'FLAIR'\n",
    "sample_ds = Dataset(df_train['BraTS21ID'], df_train['MGMT_value'], df_train['MRI_Type'])"
   ]
  },
  {
   "cell_type": "code",
   "execution_count": 16,
   "id": "b970f28c-d712-43e8-a2df-c88414f7e32d",
   "metadata": {},
   "outputs": [
    {
     "data": {
      "text/plain": [
       "torch.Size([1, 256, 256, 64])"
      ]
     },
     "execution_count": 16,
     "metadata": {},
     "output_type": "execute_result"
    }
   ],
   "source": [
    "sample_ds[0]['X'].shape"
   ]
  },
  {
   "cell_type": "markdown",
   "id": "e4fd55ab-41ed-496c-bcbf-e551e6ab1910",
   "metadata": {},
   "source": [
    "### Model"
   ]
  },
  {
   "cell_type": "code",
   "execution_count": 17,
   "id": "0d2eb2f2-f02b-4c3d-a3dd-3fe53a695abb",
   "metadata": {},
   "outputs": [],
   "source": [
    "def get_inplanes():\n",
    "    return [64, 128, 256, 512]\n",
    "\n",
    "\n",
    "def conv1x3x3(in_planes, mid_planes, stride=1):\n",
    "    return nn.Conv3d(in_planes,\n",
    "                     mid_planes,\n",
    "                     kernel_size=(1, 3, 3),\n",
    "                     stride=(1, stride, stride),\n",
    "                     padding=(0, 1, 1),\n",
    "                     bias=False)\n",
    "\n",
    "\n",
    "def conv3x1x1(mid_planes, planes, stride=1):\n",
    "    return nn.Conv3d(mid_planes,\n",
    "                     planes,\n",
    "                     kernel_size=(3, 1, 1),\n",
    "                     stride=(stride, 1, 1),\n",
    "                     padding=(1, 0, 0),\n",
    "                     bias=False)\n",
    "\n",
    "\n",
    "def conv1x1x1(in_planes, out_planes, stride=1):\n",
    "    return nn.Conv3d(in_planes,\n",
    "                     out_planes,\n",
    "                     kernel_size=1,\n",
    "                     stride=stride,\n",
    "                     bias=False)"
   ]
  },
  {
   "cell_type": "code",
   "execution_count": 18,
   "id": "9c57198f-0d07-4cd6-b81e-47ab485e0803",
   "metadata": {},
   "outputs": [],
   "source": [
    "class BasicBlock(nn.Module):\n",
    "    expansion = 1\n",
    "\n",
    "    def __init__(self, in_planes, planes, stride=1, downsample=None):\n",
    "        super().__init__()\n",
    "\n",
    "        n_3d_parameters1 = in_planes * planes * 3 * 3 * 3\n",
    "        n_2p1d_parameters1 = in_planes * 3 * 3 + 3 * planes\n",
    "        mid_planes1 = n_3d_parameters1 // n_2p1d_parameters1\n",
    "        self.conv1_s = conv1x3x3(in_planes, mid_planes1, stride)\n",
    "        self.bn1_s = nn.BatchNorm3d(mid_planes1)\n",
    "        self.conv1_t = conv3x1x1(mid_planes1, planes, stride)\n",
    "        self.bn1_t = nn.BatchNorm3d(planes)\n",
    "\n",
    "        n_3d_parameters2 = planes * planes * 3 * 3 * 3\n",
    "        n_2p1d_parameters2 = planes * 3 * 3 + 3 * planes\n",
    "        mid_planes2 = n_3d_parameters2 // n_2p1d_parameters2\n",
    "        self.conv2_s = conv1x3x3(planes, mid_planes2)\n",
    "        self.bn2_s = nn.BatchNorm3d(mid_planes2)\n",
    "        self.conv2_t = conv3x1x1(mid_planes2, planes)\n",
    "        self.bn2_t = nn.BatchNorm3d(planes)\n",
    "\n",
    "        self.relu = nn.ReLU(inplace=True)\n",
    "        self.downsample = downsample\n",
    "        self.stride = stride\n",
    "\n",
    "    def forward(self, x):\n",
    "        residual = x\n",
    "\n",
    "        out = self.conv1_s(x)\n",
    "        out = self.bn1_s(out)\n",
    "        out = self.relu(out)\n",
    "        out = self.conv1_t(out)\n",
    "        out = self.bn1_t(out)\n",
    "        out = self.relu(out)\n",
    "\n",
    "        out = self.conv2_s(out)\n",
    "        out = self.bn2_s(out)\n",
    "        out = self.relu(out)\n",
    "        out = self.conv2_t(out)\n",
    "        out = self.bn2_t(out)\n",
    "\n",
    "        if self.downsample is not None:\n",
    "            residual = self.downsample(x)\n",
    "\n",
    "        out += residual\n",
    "        out = self.relu(out)\n",
    "\n",
    "        return out\n",
    "\n",
    "\n",
    "class Bottleneck(nn.Module):\n",
    "    expansion = 4\n",
    "\n",
    "    def __init__(self, in_planes, planes, stride=1, downsample=None):\n",
    "        super().__init__()\n",
    "\n",
    "        self.conv1 = conv1x1x1(in_planes, planes)\n",
    "        self.bn1 = nn.BatchNorm3d(planes)\n",
    "\n",
    "        n_3d_parameters = planes * planes * 3 * 3 * 3\n",
    "        n_2p1d_parameters = planes * 3 * 3 + 3 * planes\n",
    "        mid_planes = n_3d_parameters // n_2p1d_parameters\n",
    "        self.conv2_s = conv1x3x3(planes, mid_planes, stride)\n",
    "        self.bn2_s = nn.BatchNorm3d(mid_planes)\n",
    "        self.conv2_t = conv3x1x1(mid_planes, planes, stride)\n",
    "        self.bn2_t = nn.BatchNorm3d(planes)\n",
    "\n",
    "        self.conv3 = conv1x1x1(planes, planes * self.expansion)\n",
    "        self.bn3 = nn.BatchNorm3d(planes * self.expansion)\n",
    "        self.relu = nn.ReLU(inplace=True)\n",
    "        self.downsample = downsample\n",
    "        self.stride = stride\n",
    "\n",
    "    def forward(self, x):\n",
    "        residual = x\n",
    "\n",
    "        out = self.conv1(x)\n",
    "        out = self.bn1(out)\n",
    "        out = self.relu(out)\n",
    "\n",
    "        out = self.conv2_s(out)\n",
    "        out = self.bn2_s(out)\n",
    "        out = self.relu(out)\n",
    "        out = self.conv2_t(out)\n",
    "        out = self.bn2_t(out)\n",
    "        out = self.relu(out)\n",
    "\n",
    "        out = self.conv3(out)\n",
    "        out = self.bn3(out)\n",
    "\n",
    "        if self.downsample is not None:\n",
    "            residual = self.downsample(x)\n",
    "\n",
    "        out += residual\n",
    "        out = self.relu(out)\n",
    "\n",
    "        return out\n",
    "\n",
    "\n",
    "class ResNet(nn.Module):\n",
    "\n",
    "    def __init__(self,\n",
    "                 block,\n",
    "                 layers,\n",
    "                 block_inplanes,\n",
    "                 n_input_channels=3,\n",
    "                 conv1_t_size=7,\n",
    "                 conv1_t_stride=1,\n",
    "                 no_max_pool=False,\n",
    "                 shortcut_type='B',\n",
    "                 widen_factor=1.0,\n",
    "                 n_classes=400):\n",
    "        super().__init__()\n",
    "\n",
    "        block_inplanes = [int(x * widen_factor) for x in block_inplanes]\n",
    "\n",
    "        self.in_planes = block_inplanes[0]\n",
    "        self.no_max_pool = no_max_pool\n",
    "\n",
    "        n_3d_parameters = 3 * self.in_planes * conv1_t_size * 7 * 7\n",
    "        n_2p1d_parameters = 3 * 7 * 7 + conv1_t_size * self.in_planes\n",
    "        mid_planes = n_3d_parameters // n_2p1d_parameters\n",
    "        self.conv1_s = nn.Conv3d(n_input_channels,\n",
    "                                 mid_planes,\n",
    "                                 kernel_size=(1, 7, 7),\n",
    "                                 stride=(1, 2, 2),\n",
    "                                 padding=(0, 3, 3),\n",
    "                                 bias=False)\n",
    "        self.bn1_s = nn.BatchNorm3d(mid_planes)\n",
    "        self.conv1_t = nn.Conv3d(mid_planes,\n",
    "                                 self.in_planes,\n",
    "                                 kernel_size=(conv1_t_size, 1, 1),\n",
    "                                 stride=(conv1_t_stride, 1, 1),\n",
    "                                 padding=(conv1_t_size // 2, 0, 0),\n",
    "                                 bias=False)\n",
    "        self.bn1_t = nn.BatchNorm3d(self.in_planes)\n",
    "        self.relu = nn.ReLU(inplace=True)\n",
    "\n",
    "        self.maxpool = nn.MaxPool3d(kernel_size=3, stride=2, padding=1)\n",
    "        self.layer1 = self._make_layer(block, block_inplanes[0], layers[0],\n",
    "                                       shortcut_type)\n",
    "        self.layer2 = self._make_layer(block,\n",
    "                                       block_inplanes[1],\n",
    "                                       layers[1],\n",
    "                                       shortcut_type,\n",
    "                                       stride=2)\n",
    "        self.layer3 = self._make_layer(block,\n",
    "                                       block_inplanes[2],\n",
    "                                       layers[2],\n",
    "                                       shortcut_type,\n",
    "                                       stride=2)\n",
    "        self.layer4 = self._make_layer(block,\n",
    "                                       block_inplanes[3],\n",
    "                                       layers[3],\n",
    "                                       shortcut_type,\n",
    "                                       stride=2)\n",
    "\n",
    "        self.avgpool = nn.AdaptiveAvgPool3d((1, 1, 1))\n",
    "        self.fc = nn.Linear(block_inplanes[3] * block.expansion, n_classes)\n",
    "\n",
    "        for m in self.modules():\n",
    "            if isinstance(m, nn.Conv3d):\n",
    "                nn.init.kaiming_normal_(m.weight,\n",
    "                                        mode='fan_out',\n",
    "                                        nonlinearity='relu')\n",
    "            elif isinstance(m, nn.BatchNorm3d):\n",
    "                nn.init.constant_(m.weight, 1)\n",
    "                nn.init.constant_(m.bias, 0)\n",
    "\n",
    "    def _downsample_basic_block(self, x, planes, stride):\n",
    "        out = F.avg_pool3d(x, kernel_size=1, stride=stride)\n",
    "        zero_pads = torch.zeros(out.size(0), planes - out.size(1), out.size(2),\n",
    "                                out.size(3), out.size(4))\n",
    "        if isinstance(out.data, torch.cuda.FloatTensor):\n",
    "            zero_pads = zero_pads.cuda()\n",
    "\n",
    "        out = torch.cat([out.data, zero_pads], dim=1)\n",
    "\n",
    "        return out\n",
    "\n",
    "    def _make_layer(self, block, planes, blocks, shortcut_type, stride=1):\n",
    "        downsample = None\n",
    "        if stride != 1 or self.in_planes != planes * block.expansion:\n",
    "            if shortcut_type == 'A':\n",
    "                downsample = partial(self._downsample_basic_block,\n",
    "                                     planes=planes * block.expansion,\n",
    "                                     stride=stride)\n",
    "            else:\n",
    "                downsample = nn.Sequential(\n",
    "                    conv1x1x1(self.in_planes, planes * block.expansion, stride),\n",
    "                    nn.BatchNorm3d(planes * block.expansion))\n",
    "\n",
    "        layers = []\n",
    "        layers.append(\n",
    "            block(in_planes=self.in_planes,\n",
    "                  planes=planes,\n",
    "                  stride=stride,\n",
    "                  downsample=downsample))\n",
    "        self.in_planes = planes * block.expansion\n",
    "        for i in range(1, blocks):\n",
    "            layers.append(block(self.in_planes, planes))\n",
    "\n",
    "        return nn.Sequential(*layers)\n",
    "\n",
    "    def forward(self, x):\n",
    "        x = self.conv1_s(x)\n",
    "        x = self.bn1_s(x)\n",
    "        x = self.relu(x)\n",
    "        x = self.conv1_t(x)\n",
    "        x = self.bn1_t(x)\n",
    "        x = self.relu(x)\n",
    "\n",
    "        if not self.no_max_pool:\n",
    "            x = self.maxpool(x)\n",
    "\n",
    "        x = self.layer1(x)\n",
    "        x = self.layer2(x)\n",
    "        x = self.layer3(x)\n",
    "        x = self.layer4(x)\n",
    "\n",
    "        x = self.avgpool(x)\n",
    "\n",
    "        x = x.view(x.size(0), -1)\n",
    "        x = self.fc(x)\n",
    "\n",
    "        return x\n",
    "\n",
    "\n",
    "def generate_model(model_depth, **kwargs):\n",
    "    assert model_depth in [10, 18, 34, 50, 101, 152, 200]\n",
    "\n",
    "    if model_depth == 10:\n",
    "        model = ResNet(BasicBlock, [1, 1, 1, 1], get_inplanes(), **kwargs)\n",
    "    elif model_depth == 18:\n",
    "        model = ResNet(BasicBlock, [2, 2, 2, 2], get_inplanes(), **kwargs)\n",
    "    elif model_depth == 34:\n",
    "        model = ResNet(BasicBlock, [3, 4, 6, 3], get_inplanes(), **kwargs)\n",
    "    elif model_depth == 50:\n",
    "        model = ResNet(Bottleneck, [3, 4, 6, 3], get_inplanes(), **kwargs)\n",
    "    elif model_depth == 101:\n",
    "        model = ResNet(Bottleneck, [3, 4, 23, 3], get_inplanes(), **kwargs)\n",
    "    elif model_depth == 152:\n",
    "        model = ResNet(Bottleneck, [3, 8, 36, 3], get_inplanes(), **kwargs)\n",
    "    elif model_depth == 200:\n",
    "        model = ResNet(Bottleneck, [3, 24, 36, 3], get_inplanes(), **kwargs)\n",
    "\n",
    "    return model"
   ]
  },
  {
   "cell_type": "code",
   "execution_count": 19,
   "id": "4910f1f7-f628-4cd7-a14b-51e11c822e16",
   "metadata": {},
   "outputs": [],
   "source": [
    "def create_model():\n",
    "    return generate_model(34, n_input_channels=1, n_classes=1).to(cfg.device)"
   ]
  },
  {
   "cell_type": "code",
   "execution_count": 20,
   "id": "8733df41-11a6-4027-bb9d-2254044685ff",
   "metadata": {},
   "outputs": [],
   "source": [
    "# resnet = create_model()"
   ]
  },
  {
   "cell_type": "code",
   "execution_count": 21,
   "id": "a447bfc4-3556-43d2-84a3-aeb1488017aa",
   "metadata": {},
   "outputs": [],
   "source": [
    "# sample_data = torch.randn([4, 1, 64, 256, 256]).to(cfg.device)"
   ]
  },
  {
   "cell_type": "code",
   "execution_count": 22,
   "id": "139696e2-2ae3-417e-b186-d82efbd7a637",
   "metadata": {},
   "outputs": [],
   "source": [
    "torch.backends.cudnn.enabled = False"
   ]
  },
  {
   "cell_type": "code",
   "execution_count": 23,
   "id": "ef09870d-9ab1-4708-8b54-e1f1d987952d",
   "metadata": {},
   "outputs": [],
   "source": [
    "# resnet(sample_data)"
   ]
  },
  {
   "cell_type": "markdown",
   "id": "0008065b-02a6-4e85-859c-585e153fe0ef",
   "metadata": {},
   "source": [
    "### Trainer"
   ]
  },
  {
   "cell_type": "code",
   "execution_count": 24,
   "id": "0e927c98-58e9-4c24-b16b-b029730808aa",
   "metadata": {},
   "outputs": [],
   "source": [
    "class Trainer:\n",
    "    def __init__(\n",
    "        self, \n",
    "        model, \n",
    "        device, \n",
    "        optimizer, \n",
    "        criterion\n",
    "    ):\n",
    "        self.model = model\n",
    "        self.device = device\n",
    "        self.optimizer = optimizer\n",
    "        self.criterion = criterion\n",
    "\n",
    "        self.best_valid_score = np.inf\n",
    "        self.n_patience = 0\n",
    "        self.lastmodel = None\n",
    "        \n",
    "    def fit(self, epochs, train_loader, valid_loader, save_path, patience):  \n",
    "        tbar = tqdm(range(1, epochs + 1), total=epochs)\n",
    "#         self.lr_sched = torch.optim.lr_scheduler.CosineAnnealingWarmRestarts(self.optimizer, T_0=int(len(train_loader) / 2), T_mult=1, eta_min=0.0001, last_epoch=-1)\n",
    "        self.lr_sched = torch.optim.lr_scheduler.OneCycleLR(self.optimizer, max_lr=1e-3, steps_per_epoch=len(train_loader), epochs=epochs)\n",
    "        self.lrs = []\n",
    "        \n",
    "        for n_epoch in tbar:\n",
    "            \n",
    "            self.info_message(\"EPOCH: {}\", n_epoch)\n",
    "            tbar.set_description(f'EPOCH: {n_epoch}')\n",
    "            \n",
    "            \n",
    "            train_loss, train_time = self.train_epoch(train_loader, valid_loader, n_epoch, save_path)\n",
    "            valid_loss, valid_auc, valid_time = self.valid_epoch(valid_loader)\n",
    "            \n",
    "            self.info_message(\n",
    "                \"[Epoch Train: {}] loss: {:.4f}, time: {:.2f} s            \",\n",
    "                n_epoch, train_loss, train_time\n",
    "            )\n",
    "            \n",
    "            self.print_valid_message(valid_loss, valid_auc, valid_time, n_epoch)\n",
    "            \n",
    "            self.check_and_save(valid_loss, valid_auc, valid_time, n_epoch, save_path)\n",
    "            \n",
    "            if self.n_patience >= patience:\n",
    "                self.info_message(\"\\nValid auc didn't improve last {} epochs.\", patience)\n",
    "                break\n",
    "        plt.plot(self.lrs)\n",
    "        \n",
    "    def check_and_save(self, valid_loss, valid_auc, valid_time, n_epoch, save_path):\n",
    "        # if True:\n",
    "        # if self.best_valid_score < valid_auc: \n",
    "        if self.best_valid_score > valid_loss and valid_auc > 0.5: \n",
    "            self.save_model(n_epoch, save_path, valid_loss, valid_auc)\n",
    "            self.info_message(\n",
    "                 \"auc improved from {:.4f} to {:.4f}. Saved model to '{}'\", \n",
    "                self.best_valid_score, valid_loss, self.lastmodel\n",
    "            )\n",
    "            self.best_valid_score = valid_loss\n",
    "            self.n_patience = 0\n",
    "        else:\n",
    "            self.n_patience += 1\n",
    "            \n",
    "    def print_valid_message(self, valid_loss, valid_auc, valid_time, n_epoch):\n",
    "        self.info_message(\n",
    "            \"[Epoch Valid: {}] loss: {:.4f}, auc: {:.4f}, time: {:.2f} s\",\n",
    "            n_epoch, valid_loss, valid_auc, valid_time\n",
    "        )\n",
    "            \n",
    "    def train_epoch(self, train_loader, valid_loader, n_epoch, save_path):\n",
    "        self.model.train()\n",
    "        t = time.time()\n",
    "        sum_loss = 0\n",
    "\n",
    "        tbar = tqdm(enumerate(train_loader, 1), total=len(train_loader))\n",
    "        \n",
    "        for step, batch in tbar:\n",
    "            X = batch[\"X\"].to(self.device)\n",
    "            targets = batch[\"y\"].to(self.device)\n",
    "            self.optimizer.zero_grad()\n",
    "            outputs = self.model(X).squeeze(1)\n",
    "            \n",
    "            loss = self.criterion(outputs, targets)\n",
    "            loss.backward()\n",
    "\n",
    "            sum_loss += loss.detach().item()\n",
    "            torch.nn.utils.clip_grad_norm_(self.model.parameters(), 1.0)\n",
    "            self.optimizer.step()\n",
    "            self.lr_sched.step()\n",
    "            current_lr = self.optimizer.param_groups[0][\"lr\"]\n",
    "            self.lrs.append(\n",
    "                current_lr\n",
    "            )\n",
    "            \n",
    "            message = 'Train Step {}/{}, train_loss: {:.4f}'\n",
    "            self.info_message(message, step, len(train_loader), sum_loss/step, end=\"\\r\")\n",
    "            \n",
    "            if n_epoch in cfg.extra_check_epochs:\n",
    "                if step % 3 == 0:\n",
    "                    valid_loss, valid_auc, valid_time = self.valid_epoch(valid_loader)\n",
    "                    self.check_and_save(valid_loss, valid_auc, valid_time, n_epoch, save_path)\n",
    "                    self.print_valid_message(valid_loss, valid_auc, valid_time, n_epoch)\n",
    "            \n",
    "        \n",
    "        return sum_loss/len(train_loader), int(time.time() - t)\n",
    "    \n",
    "    def valid_epoch(self, valid_loader):\n",
    "        self.model.eval()\n",
    "        t = time.time()\n",
    "        sum_loss = 0\n",
    "        y_all = []\n",
    "        outputs_all = []\n",
    "\n",
    "        tbar = tqdm(enumerate(valid_loader, 1), total=len(valid_loader))\n",
    "        for step, batch in tbar:\n",
    "            with torch.no_grad():\n",
    "                X = batch[\"X\"].to(self.device)\n",
    "                targets = batch[\"y\"].to(self.device)\n",
    "\n",
    "                outputs = torch.sigmoid(self.model(X).squeeze(1))\n",
    "                loss = self.criterion(outputs, targets)\n",
    "                print('outputs', outputs.mean().item(), outputs.std().item())\n",
    "                print('targets', targets.mean().item(), targets.std().item())\n",
    "                \n",
    "                sum_loss += loss.detach().item()\n",
    "                y_all.extend(batch[\"y\"].tolist())\n",
    "                outputs_all.extend(outputs.tolist())\n",
    "\n",
    "            message = 'Valid Step {}/{}, valid_loss: {:.4f}'\n",
    "            self.info_message(message, step, len(valid_loader), sum_loss/step, end=\"\\r\")\n",
    "            \n",
    "        y_all = [1 if x > 0.5 else 0 for x in y_all]\n",
    "        auc = roc_auc_score(y_all, outputs_all)\n",
    "        \n",
    "        return sum_loss/len(valid_loader), auc, int(time.time() - t)\n",
    "    \n",
    "    def save_model(self, n_epoch, save_path, loss, auc):\n",
    "        self.lastmodel = str(cfg.models_path/f\"{save_path}-e{n_epoch}-loss{loss:.3f}-auc{auc:.3f}.pth\")\n",
    "        torch.save(\n",
    "            {\n",
    "                \"model_state_dict\": self.model.state_dict(),\n",
    "                \"optimizer_state_dict\": self.optimizer.state_dict(),\n",
    "                \"best_valid_score\": self.best_valid_score,\n",
    "                \"n_epoch\": n_epoch,\n",
    "            },\n",
    "            self.lastmodel,\n",
    "        )\n",
    "    \n",
    "    @staticmethod\n",
    "    def info_message(message, *args, end=\"\\n\"):\n",
    "        print(message.format(*args), end=end)"
   ]
  },
  {
   "cell_type": "code",
   "execution_count": 25,
   "id": "d09f1015-467e-422e-b2f3-0a3930286a52",
   "metadata": {},
   "outputs": [],
   "source": [
    "def loss_func(input, target):\n",
    "#     return F.binary_cross_entropy_with_logits(input, target) * 0.5 + F.mse_loss(input, target) * 0.5\n",
    "#     return F.binary_cross_entropy_with_logits(input, target) * 0.2 + dice_loss(input, target) * 0.8\n",
    "    return F.binary_cross_entropy_with_logits(input, target)"
   ]
  },
  {
   "cell_type": "code",
   "execution_count": 26,
   "id": "3eaf90a3-36ed-41bc-9bfa-9e59914bb51a",
   "metadata": {},
   "outputs": [],
   "source": [
    "def train_mri_type(df_train, df_valid, mri_type):\n",
    "    if mri_type==\"all\":\n",
    "        train_list = []\n",
    "        valid_list = []\n",
    "        for mri_type in mri_types:\n",
    "            df_train.loc[:,\"MRI_Type\"] = mri_type\n",
    "            train_list.append(df_train.copy())\n",
    "            df_valid.loc[:,\"MRI_Type\"] = mri_type\n",
    "            valid_list.append(df_valid.copy())\n",
    "\n",
    "        df_train = pd.concat(train_list)\n",
    "        df_valid = pd.concat(valid_list)\n",
    "    else:\n",
    "        df_train.loc[:,\"MRI_Type\"] = mri_type\n",
    "        df_valid.loc[:,\"MRI_Type\"] = mri_type\n",
    "\n",
    "    print(df_train.shape, df_valid.shape)\n",
    "    display(df_train.head())\n",
    "    \n",
    "    train_data_retriever = Dataset(\n",
    "        df_train[\"BraTS21ID\"].values, \n",
    "        df_train[\"MGMT_value\"].values, \n",
    "        df_train[\"MRI_Type\"].values\n",
    "    )\n",
    "\n",
    "    valid_data_retriever = Dataset(\n",
    "        df_valid[\"BraTS21ID\"].values, \n",
    "        df_valid[\"MGMT_value\"].values,\n",
    "        df_valid[\"MRI_Type\"].values\n",
    "    )\n",
    "\n",
    "    train_loader = torch_data.DataLoader(\n",
    "        train_data_retriever,\n",
    "        batch_size=cfg.batch_size,\n",
    "        shuffle=True,\n",
    "        num_workers=cfg.num_workers,\n",
    "    )\n",
    "\n",
    "    valid_loader = torch_data.DataLoader(\n",
    "        valid_data_retriever, \n",
    "        batch_size=cfg.batch_size,\n",
    "        shuffle=False,\n",
    "        num_workers=cfg.num_workers,\n",
    "    )\n",
    "\n",
    "    model = create_model()\n",
    "\n",
    "    #checkpoint = torch.load(\"best-model-all-auc0.555.pth\")\n",
    "    #model.load_state_dict(checkpoint[\"model_state_dict\"])\n",
    "\n",
    "    #print(model)\n",
    "\n",
    "    optimizer = torch.optim.Adam(model.parameters(), lr=0.001)\n",
    "    #optimizer = torch.optim.SGD(model.parameters(), lr=0.001, momentum=0.9)\n",
    "\n",
    "    criterion = loss_func\n",
    "\n",
    "    trainer = Trainer(\n",
    "        model, \n",
    "        cfg.device, \n",
    "        optimizer, \n",
    "        criterion\n",
    "    )\n",
    "\n",
    "    history = trainer.fit(\n",
    "        cfg.epochs, \n",
    "        train_loader, \n",
    "        valid_loader, \n",
    "        f\"{mri_type}\", \n",
    "        cfg.epochs + 100,\n",
    "    )\n",
    "    \n",
    "    return trainer.lastmodel"
   ]
  },
  {
   "cell_type": "code",
   "execution_count": 27,
   "id": "089771ea-d968-4959-a870-3d3025fe6ac8",
   "metadata": {},
   "outputs": [],
   "source": [
    "!rm -rf {str(cfg.models_path)}/*.pth"
   ]
  },
  {
   "cell_type": "code",
   "execution_count": 28,
   "id": "ca72818e-1672-49c0-8e3f-9f0e68332685",
   "metadata": {},
   "outputs": [
    {
     "name": "stdout",
     "output_type": "stream",
     "text": [
      "(523, 3) (61, 3)\n"
     ]
    },
    {
     "data": {
      "text/html": [
       "<div>\n",
       "<style scoped>\n",
       "    .dataframe tbody tr th:only-of-type {\n",
       "        vertical-align: middle;\n",
       "    }\n",
       "\n",
       "    .dataframe tbody tr th {\n",
       "        vertical-align: top;\n",
       "    }\n",
       "\n",
       "    .dataframe thead th {\n",
       "        text-align: right;\n",
       "    }\n",
       "</style>\n",
       "<table border=\"1\" class=\"dataframe\">\n",
       "  <thead>\n",
       "    <tr style=\"text-align: right;\">\n",
       "      <th></th>\n",
       "      <th>BraTS21ID</th>\n",
       "      <th>MGMT_value</th>\n",
       "      <th>MRI_Type</th>\n",
       "    </tr>\n",
       "  </thead>\n",
       "  <tbody>\n",
       "    <tr>\n",
       "      <th>549</th>\n",
       "      <td>803</td>\n",
       "      <td>0</td>\n",
       "      <td>FLAIR</td>\n",
       "    </tr>\n",
       "    <tr>\n",
       "      <th>353</th>\n",
       "      <td>520</td>\n",
       "      <td>1</td>\n",
       "      <td>FLAIR</td>\n",
       "    </tr>\n",
       "    <tr>\n",
       "      <th>272</th>\n",
       "      <td>399</td>\n",
       "      <td>0</td>\n",
       "      <td>FLAIR</td>\n",
       "    </tr>\n",
       "    <tr>\n",
       "      <th>137</th>\n",
       "      <td>206</td>\n",
       "      <td>0</td>\n",
       "      <td>FLAIR</td>\n",
       "    </tr>\n",
       "    <tr>\n",
       "      <th>292</th>\n",
       "      <td>423</td>\n",
       "      <td>0</td>\n",
       "      <td>FLAIR</td>\n",
       "    </tr>\n",
       "  </tbody>\n",
       "</table>\n",
       "</div>"
      ],
      "text/plain": [
       "     BraTS21ID  MGMT_value MRI_Type\n",
       "549        803           0    FLAIR\n",
       "353        520           1    FLAIR\n",
       "272        399           0    FLAIR\n",
       "137        206           0    FLAIR\n",
       "292        423           0    FLAIR"
      ]
     },
     "metadata": {},
     "output_type": "display_data"
    },
    {
     "data": {
      "application/vnd.jupyter.widget-view+json": {
       "model_id": "64669c55c0734acfb7339e030154ea2f",
       "version_major": 2,
       "version_minor": 0
      },
      "text/plain": [
       "HBox(children=(FloatProgress(value=0.0, max=18.0), HTML(value='')))"
      ]
     },
     "metadata": {},
     "output_type": "display_data"
    },
    {
     "name": "stdout",
     "output_type": "stream",
     "text": [
      "EPOCH: 1\n"
     ]
    },
    {
     "data": {
      "application/vnd.jupyter.widget-view+json": {
       "model_id": "1d9ac3b9f46148fb8716ebd50a9aa96f",
       "version_major": 2,
       "version_minor": 0
      },
      "text/plain": [
       "HBox(children=(FloatProgress(value=0.0, max=131.0), HTML(value='')))"
      ]
     },
     "metadata": {},
     "output_type": "display_data"
    },
    {
     "name": "stdout",
     "output_type": "stream",
     "text": [
      "Train Step 131/131, train_loss: 0.7730\n"
     ]
    },
    {
     "data": {
      "application/vnd.jupyter.widget-view+json": {
       "model_id": "ea30e46811fd44fb807ac68552ca5614",
       "version_major": 2,
       "version_minor": 0
      },
      "text/plain": [
       "HBox(children=(FloatProgress(value=0.0, max=16.0), HTML(value='')))"
      ]
     },
     "metadata": {},
     "output_type": "display_data"
    },
    {
     "name": "stdout",
     "output_type": "stream",
     "text": [
      "outputs 0.023723382502794266 0.025007713586091995\n",
      "targets 0.5 0.5658032894134521\n",
      "outputs 0.3896282911300659 0.3181827962398529\n",
      "targets 0.5 0.5658032894134521\n",
      "outputs 0.16932512819766998 0.3163505792617798\n",
      "targets 0.7450000047683716 0.49000000953674316\n",
      "outputs 0.007592570967972279 0.009280974976718426\n",
      "targets 0.5 0.5658032894134521\n",
      "outputs 0.29334646463394165 0.31400349736213684\n",
      "targets 0.7450000047683716 0.49000000953674316\n",
      "outputs 0.03387288376688957 0.04871757701039314\n",
      "targets 0.2549999952316284 0.49000000953674316\n",
      "outputs 0.12188916653394699 0.2396494448184967\n",
      "targets 0.5 0.5658032894134521\n",
      "outputs 0.3527144193649292 0.24211958050727844\n",
      "targets 0.7450000047683716 0.49000000953674316\n",
      "outputs 0.32066109776496887 0.3612162470817566\n",
      "targets 0.5 0.5658032894134521\n",
      "outputs 0.09402047097682953 0.06739277392625809\n",
      "targets 0.2549999952316284 0.49000000953674316\n",
      "outputs 0.33210355043411255 0.38223937153816223\n",
      "targets 0.2549999952316284 0.49000000953674316\n",
      "outputs 0.2816985845565796 0.3342818319797516\n",
      "targets 0.5 0.5658032894134521\n",
      "outputs 0.14910311996936798 0.1617911159992218\n",
      "targets 0.5 0.5658032894134521\n",
      "outputs 0.21913839876651764 0.28286346793174744\n",
      "targets 0.7450000047683716 0.49000000953674316\n",
      "outputs 0.11093210428953171 0.21962898969650269\n",
      "targets 0.7450000047683716 0.49000000953674316\n",
      "outputs 6.148374086478725e-05 nan842\n",
      "targets 0.9900000095367432 nan\n",
      "Valid Step 16/16, valid_loss: 0.6848\n",
      "[Epoch Train: 1] loss: 0.7730, time: 163.00 s            \n",
      "[Epoch Valid: 1] loss: 0.6848, auc: 0.5303, time: 7.00 s\n",
      "auc improved from inf to 0.6848. Saved model to '/home/RSNA_MICCAI_Brain_Tumor/models/FLAIR-e1-loss0.685-auc0.530.pth'\n",
      "EPOCH: 2\n"
     ]
    },
    {
     "data": {
      "application/vnd.jupyter.widget-view+json": {
       "model_id": "b739e29190c24efd8e266add5e681307",
       "version_major": 2,
       "version_minor": 0
      },
      "text/plain": [
       "HBox(children=(FloatProgress(value=0.0, max=131.0), HTML(value='')))"
      ]
     },
     "metadata": {},
     "output_type": "display_data"
    },
    {
     "name": "stdout",
     "output_type": "stream",
     "text": [
      "Train Step 131/131, train_loss: 0.7630\n"
     ]
    },
    {
     "data": {
      "application/vnd.jupyter.widget-view+json": {
       "model_id": "66a9cf28cd0a4ebc9be40ac9e7c5500e",
       "version_major": 2,
       "version_minor": 0
      },
      "text/plain": [
       "HBox(children=(FloatProgress(value=0.0, max=16.0), HTML(value='')))"
      ]
     },
     "metadata": {},
     "output_type": "display_data"
    },
    {
     "name": "stdout",
     "output_type": "stream",
     "text": [
      "outputs 1.0 0.0\n",
      "targets 0.5 0.5658032894134521\n",
      "outputs 0.7594897747039795 0.27986130118370056\n",
      "targets 0.5 0.5658032894134521\n",
      "outputs 0.8650280833244324 0.26994383335113525\n",
      "targets 0.7450000047683716 0.49000000953674316\n",
      "outputs 0.9999761581420898 4.7663881559856236e-05\n",
      "targets 0.5 0.5658032894134521\n",
      "outputs 0.8637017011642456 0.24471421539783478\n",
      "targets 0.7450000047683716 0.49000000953674316\n",
      "outputs 0.9999971389770508 4.900043222733075e-06\n",
      "targets 0.2549999952316284 0.49000000953674316\n",
      "outputs 0.9473552703857422 0.10465952754020691\n",
      "targets 0.5 0.5658032894134521\n",
      "outputs 0.8411760330200195 0.2555747330188751\n",
      "targets 0.7450000047683716 0.49000000953674316\n",
      "outputs 0.8469290733337402 0.26054900884628296\n",
      "targets 0.5 0.5658032894134521\n",
      "outputs 0.9469795823097229 0.09924933314323425\n",
      "targets 0.2549999952316284 0.49000000953674316\n",
      "outputs 0.7431837320327759 0.29732075333595276\n",
      "targets 0.2549999952316284 0.49000000953674316\n",
      "outputs 0.8925419449806213 0.20157687366008759\n",
      "targets 0.5 0.5658032894134521\n",
      "outputs 0.9983879327774048 0.0032240748405456543\n",
      "targets 0.5 0.5658032894134521\n",
      "outputs 0.8954514861106873 0.18173544108867645\n",
      "targets 0.7450000047683716 0.49000000953674316\n",
      "outputs 0.9293073415756226 0.14138512313365936\n",
      "targets 0.7450000047683716 0.49000000953674316\n",
      "outputs 1.0 nan6, valid_loss: 0.7667\n",
      "targets 0.9900000095367432 nan\n",
      "Valid Step 16/16, valid_loss: 0.7390\n",
      "[Epoch Train: 2] loss: 0.7630, time: 162.00 s            \n",
      "[Epoch Valid: 2] loss: 0.7390, auc: 0.4307, time: 7.00 s\n",
      "EPOCH: 3\n"
     ]
    },
    {
     "data": {
      "application/vnd.jupyter.widget-view+json": {
       "model_id": "2c20029ef6f54cacba181f1be09db414",
       "version_major": 2,
       "version_minor": 0
      },
      "text/plain": [
       "HBox(children=(FloatProgress(value=0.0, max=131.0), HTML(value='')))"
      ]
     },
     "metadata": {},
     "output_type": "display_data"
    },
    {
     "name": "stdout",
     "output_type": "stream",
     "text": [
      "Train Step 131/131, train_loss: 0.7477\n"
     ]
    },
    {
     "data": {
      "application/vnd.jupyter.widget-view+json": {
       "model_id": "07517069bcfe4b899c7fc256be23b91e",
       "version_major": 2,
       "version_minor": 0
      },
      "text/plain": [
       "HBox(children=(FloatProgress(value=0.0, max=16.0), HTML(value='')))"
      ]
     },
     "metadata": {},
     "output_type": "display_data"
    },
    {
     "name": "stdout",
     "output_type": "stream",
     "text": [
      "outputs 1.0 5.960464477539063e-08\n",
      "targets 0.5 0.5658032894134521\n",
      "outputs 0.7376511096954346 0.17504236102104187\n",
      "targets 0.5 0.5658032894134521\n",
      "outputs 0.9140312075614929 0.17193759977817535\n",
      "targets 0.7450000047683716 0.49000000953674316\n",
      "outputs 0.9999997615814209 5.364418029785156e-07\n",
      "targets 0.5 0.5658032894134521\n",
      "outputs 0.826335072517395 0.20053106546401978\n",
      "targets 0.7450000047683716 0.49000000953674316\n",
      "outputs 1.0 0.0, valid_loss: 0.6945\n",
      "targets 0.2549999952316284 0.49000000953674316\n",
      "outputs 0.9070298671722412 0.18593329191207886\n",
      "targets 0.5 0.5658032894134521\n",
      "outputs 0.7394217252731323 0.17372724413871765\n",
      "targets 0.7450000047683716 0.49000000953674316\n",
      "outputs 0.8273221850395203 0.19939379394054413\n",
      "targets 0.5 0.5658032894134521\n",
      "outputs 0.9725704193115234 0.05453033372759819\n",
      "targets 0.2549999952316284 0.49000000953674316\n",
      "outputs 0.827877402305603 0.19875028729438782\n",
      "targets 0.2549999952316284 0.49000000953674316\n",
      "outputs 0.8267042636871338 0.2001105397939682\n",
      "targets 0.5 0.5658032894134521\n",
      "outputs 0.9115672707557678 0.17686542868614197\n",
      "targets 0.5 0.5658032894134521\n",
      "outputs 0.857124924659729 0.1722738891839981\n",
      "targets 0.7450000047683716 0.49000000953674316\n",
      "outputs 0.9128018617630005 0.17439627647399902\n",
      "targets 0.7450000047683716 0.49000000953674316\n",
      "outputs 1.0 nan6, valid_loss: 0.7731\n",
      "targets 0.9900000095367432 nan\n",
      "Valid Step 16/16, valid_loss: 0.7450\n",
      "[Epoch Train: 3] loss: 0.7477, time: 162.00 s            \n",
      "[Epoch Valid: 3] loss: 0.7450, auc: 0.4410, time: 7.00 s\n",
      "EPOCH: 4\n"
     ]
    },
    {
     "data": {
      "application/vnd.jupyter.widget-view+json": {
       "model_id": "7c6d6f8530a84e589e9d3e704fc88d2f",
       "version_major": 2,
       "version_minor": 0
      },
      "text/plain": [
       "HBox(children=(FloatProgress(value=0.0, max=131.0), HTML(value='')))"
      ]
     },
     "metadata": {},
     "output_type": "display_data"
    },
    {
     "name": "stdout",
     "output_type": "stream",
     "text": [
      "Train Step 131/131, train_loss: 0.7814\n"
     ]
    },
    {
     "data": {
      "application/vnd.jupyter.widget-view+json": {
       "model_id": "6326d06a07de4568aa2818e2c3a9e363",
       "version_major": 2,
       "version_minor": 0
      },
      "text/plain": [
       "HBox(children=(FloatProgress(value=0.0, max=16.0), HTML(value='')))"
      ]
     },
     "metadata": {},
     "output_type": "display_data"
    },
    {
     "name": "stdout",
     "output_type": "stream",
     "text": [
      "outputs 0.6372290849685669 0.018195005133748055\n",
      "targets 0.5 0.5658032894134521\n",
      "outputs 0.5800259113311768 0.02919071353971958\n",
      "targets 0.5 0.5658032894134521\n",
      "outputs 0.6105301976203918 0.03481833636760712\n",
      "targets 0.7450000047683716 0.49000000953674316\n",
      "outputs 0.6784339547157288 0.04485948756337166\n",
      "targets 0.5 0.5658032894134521\n",
      "outputs 0.6100706458091736 0.06280265003442764\n",
      "targets 0.7450000047683716 0.49000000953674316\n",
      "outputs 0.6923377513885498 0.05906405299901962\n",
      "targets 0.2549999952316284 0.49000000953674316\n",
      "outputs 0.6471269130706787 0.06053876504302025\n",
      "targets 0.5 0.5658032894134521\n",
      "outputs 0.591023862361908 0.011074132286012173\n",
      "targets 0.7450000047683716 0.49000000953674316\n",
      "outputs 0.5988309383392334 0.0569300651550293\n",
      "targets 0.5 0.5658032894134521\n",
      "outputs 0.6381245255470276 0.021355371922254562\n",
      "targets 0.2549999952316284 0.49000000953674316\n",
      "outputs 0.5732462406158447 0.02592436410486698\n",
      "targets 0.2549999952316284 0.49000000953674316\n",
      "outputs 0.6305936574935913 0.1123480275273323\n",
      "targets 0.5 0.5658032894134521\n",
      "outputs 0.6306277513504028 0.04560035839676857\n",
      "targets 0.5 0.5658032894134521\n",
      "outputs 0.6180992722511292 0.06547890603542328\n",
      "targets 0.7450000047683716 0.49000000953674316\n",
      "outputs 0.5664561986923218 0.13361628353595734\n",
      "targets 0.7450000047683716 0.49000000953674316\n",
      "outputs 0.6163737177848816 nan0.7221\n",
      "targets 0.9900000095367432 nan\n",
      "Valid Step 16/16, valid_loss: 0.7043\n",
      "[Epoch Train: 4] loss: 0.7814, time: 162.00 s            \n",
      "[Epoch Valid: 4] loss: 0.7043, auc: 0.4253, time: 7.00 s\n",
      "EPOCH: 5\n"
     ]
    },
    {
     "data": {
      "application/vnd.jupyter.widget-view+json": {
       "model_id": "e4b29428d1594161805e615467ec12eb",
       "version_major": 2,
       "version_minor": 0
      },
      "text/plain": [
       "HBox(children=(FloatProgress(value=0.0, max=131.0), HTML(value='')))"
      ]
     },
     "metadata": {},
     "output_type": "display_data"
    },
    {
     "name": "stdout",
     "output_type": "stream",
     "text": [
      "Train Step 131/131, train_loss: 0.7483\n"
     ]
    },
    {
     "data": {
      "application/vnd.jupyter.widget-view+json": {
       "model_id": "636df2595bd545c19bc8d1c6c60ceed2",
       "version_major": 2,
       "version_minor": 0
      },
      "text/plain": [
       "HBox(children=(FloatProgress(value=0.0, max=16.0), HTML(value='')))"
      ]
     },
     "metadata": {},
     "output_type": "display_data"
    },
    {
     "name": "stdout",
     "output_type": "stream",
     "text": [
      "outputs 0.6586772203445435 0.00040721811819821596\n",
      "targets 0.5 0.5658032894134521\n",
      "outputs 0.650810956954956 0.016071978956460953\n",
      "targets 0.5 0.5658032894134521\n",
      "outputs 0.6586624383926392 0.0005452593904919922\n",
      "targets 0.7450000047683716 0.49000000953674316\n",
      "outputs 0.6503810882568359 0.013690367341041565\n",
      "targets 0.5 0.5658032894134521\n",
      "outputs 0.652671217918396 0.01251155324280262\n",
      "targets 0.7450000047683716 0.49000000953674316\n",
      "outputs 0.6691147685050964 0.05249343812465668\n",
      "targets 0.2549999952316284 0.49000000953674316\n",
      "outputs 0.6585451364517212 0.021846527233719826\n",
      "targets 0.5 0.5658032894134521\n",
      "outputs 0.6402362585067749 0.011850294657051563\n",
      "targets 0.7450000047683716 0.49000000953674316\n",
      "outputs 0.6587967872619629 0.00013330507499631494\n",
      "targets 0.5 0.5658032894134521\n",
      "outputs 0.6484783887863159 0.03418433293700218\n",
      "targets 0.2549999952316284 0.49000000953674316\n",
      "outputs 0.6577835083007812 0.002277781255543232\n",
      "targets 0.2549999952316284 0.49000000953674316\n",
      "outputs 0.6535271406173706 0.01917296089231968\n",
      "targets 0.5 0.5658032894134521\n",
      "outputs 0.656735897064209 0.003659552661702037\n",
      "targets 0.5 0.5658032894134521\n",
      "outputs 0.6497269868850708 0.01406355481594801\n",
      "targets 0.7450000047683716 0.49000000953674316\n",
      "outputs 0.6715489625930786 0.03164105489850044\n",
      "targets 0.7450000047683716 0.49000000953674316\n",
      "outputs 0.6589018106460571 nan0.7234\n",
      "targets 0.9900000095367432 nan\n",
      "Valid Step 16/16, valid_loss: 0.7046\n",
      "[Epoch Train: 5] loss: 0.7483, time: 162.00 s            \n",
      "[Epoch Valid: 5] loss: 0.7046, auc: 0.5141, time: 7.00 s\n",
      "EPOCH: 6\n"
     ]
    },
    {
     "data": {
      "application/vnd.jupyter.widget-view+json": {
       "model_id": "189dd11a55d94352abee67cd56adc171",
       "version_major": 2,
       "version_minor": 0
      },
      "text/plain": [
       "HBox(children=(FloatProgress(value=0.0, max=131.0), HTML(value='')))"
      ]
     },
     "metadata": {},
     "output_type": "display_data"
    },
    {
     "name": "stdout",
     "output_type": "stream",
     "text": [
      "Train Step 131/131, train_loss: 0.7446\n"
     ]
    },
    {
     "data": {
      "application/vnd.jupyter.widget-view+json": {
       "model_id": "d28b0846aff3445db00a4c7cd4a87037",
       "version_major": 2,
       "version_minor": 0
      },
      "text/plain": [
       "HBox(children=(FloatProgress(value=0.0, max=16.0), HTML(value='')))"
      ]
     },
     "metadata": {},
     "output_type": "display_data"
    },
    {
     "name": "stdout",
     "output_type": "stream",
     "text": [
      "outputs 0.48016366362571716 0.00018430491036269814\n",
      "targets 0.5 0.5658032894134521\n",
      "outputs 0.4803355932235718 9.837072138907388e-05\n",
      "targets 0.5 0.5658032894134521\n",
      "outputs 0.5336230397224426 0.10675519704818726\n",
      "targets 0.7450000047683716 0.49000000953674316\n",
      "outputs 0.4796443581581116 0.001193328876979649\n",
      "targets 0.5 0.5658032894134521\n",
      "outputs 0.480132520198822 0.00034505437361076474\n",
      "targets 0.7450000047683716 0.49000000953674316\n",
      "outputs 0.4996430575847626 0.0389726497232914\n",
      "targets 0.2549999952316284 0.49000000953674316\n",
      "outputs 0.4767496585845947 0.0068252733908593655\n",
      "targets 0.5 0.5658032894134521\n",
      "outputs 0.49292054772377014 0.025170888751745224\n",
      "targets 0.7450000047683716 0.49000000953674316\n",
      "outputs 0.48976171016693115 0.018924882635474205\n",
      "targets 0.5 0.5658032894134521\n",
      "outputs 0.4973536729812622 0.04425797238945961\n",
      "targets 0.2549999952316284 0.49000000953674316\n",
      "outputs 0.48306670784950256 0.005507004447281361\n",
      "targets 0.2549999952316284 0.49000000953674316\n",
      "outputs 0.4795553684234619 0.001422707922756672\n",
      "targets 0.5 0.5658032894134521\n",
      "outputs 0.5292876958847046 0.09898046404123306\n",
      "targets 0.5 0.5658032894134521\n",
      "outputs 0.4798433780670166 0.0008149640634655952\n",
      "targets 0.7450000047683716 0.49000000953674316\n",
      "outputs 0.47994837164878845 0.0003704566042870283\n",
      "targets 0.7450000047683716 0.49000000953674316\n",
      "outputs 0.47995930910110474 nan.7117\n",
      "targets 0.9900000095367432 nan\n",
      "Valid Step 16/16, valid_loss: 0.6976\n",
      "[Epoch Train: 6] loss: 0.7446, time: 162.00 s            \n",
      "[Epoch Valid: 6] loss: 0.6976, auc: 0.4226, time: 7.00 s\n",
      "EPOCH: 7\n"
     ]
    },
    {
     "data": {
      "application/vnd.jupyter.widget-view+json": {
       "model_id": "00e8c0022a0f455fa417c796f85a9cf4",
       "version_major": 2,
       "version_minor": 0
      },
      "text/plain": [
       "HBox(children=(FloatProgress(value=0.0, max=131.0), HTML(value='')))"
      ]
     },
     "metadata": {},
     "output_type": "display_data"
    },
    {
     "name": "stdout",
     "output_type": "stream",
     "text": [
      "Train Step 131/131, train_loss: 0.7291\n"
     ]
    },
    {
     "data": {
      "application/vnd.jupyter.widget-view+json": {
       "model_id": "ce778654e56c4ded86f20885a29dbaf1",
       "version_major": 2,
       "version_minor": 0
      },
      "text/plain": [
       "HBox(children=(FloatProgress(value=0.0, max=16.0), HTML(value='')))"
      ]
     },
     "metadata": {},
     "output_type": "display_data"
    },
    {
     "name": "stdout",
     "output_type": "stream",
     "text": [
      "outputs 0.5152689814567566 0.0004868627875111997\n",
      "targets 0.5 0.5658032894134521\n",
      "outputs 0.5552433729171753 0.0776536762714386\n",
      "targets 0.5 0.5658032894134521\n",
      "outputs 0.5168305039405823 0.0041096946224570274\n",
      "targets 0.7450000047683716 0.49000000953674316\n",
      "outputs 0.5098460912704468 0.0052481889724731445\n",
      "targets 0.5 0.5658032894134521\n",
      "outputs 0.5260533094406128 0.021547313779592514\n",
      "targets 0.7450000047683716 0.49000000953674316\n",
      "outputs 0.5125912427902222 0.004120212979614735\n",
      "targets 0.2549999952316284 0.49000000953674316\n",
      "outputs 0.6058200597763062 0.18049836158752441\n",
      "targets 0.5 0.5658032894134521\n",
      "outputs 0.51549232006073 0.00137042673304677\n",
      "targets 0.7450000047683716 0.49000000953674316\n",
      "outputs 0.5593395829200745 0.08646565675735474\n",
      "targets 0.5 0.5658032894134521\n",
      "outputs 0.514494776725769 0.0015519177541136742\n",
      "targets 0.2549999952316284 0.49000000953674316\n",
      "outputs 0.5140937566757202 0.0031134227756410837\n",
      "targets 0.2549999952316284 0.49000000953674316\n",
      "outputs 0.5192952156066895 0.016933709383010864\n",
      "targets 0.5 0.5658032894134521\n",
      "outputs 0.5288524627685547 0.02692364528775215\n",
      "targets 0.5 0.5658032894134521\n",
      "outputs 0.5137417912483215 0.0020520957186818123\n",
      "targets 0.7450000047683716 0.49000000953674316\n",
      "outputs 0.5701887607574463 0.11742165684700012\n",
      "targets 0.7450000047683716 0.49000000953674316\n",
      "outputs 0.5118080973625183 nan0.7124\n",
      "targets 0.9900000095367432 nan\n",
      "Valid Step 16/16, valid_loss: 0.6976\n",
      "[Epoch Train: 7] loss: 0.7291, time: 162.00 s            \n",
      "[Epoch Valid: 7] loss: 0.6976, auc: 0.5519, time: 7.00 s\n",
      "EPOCH: 8\n"
     ]
    },
    {
     "data": {
      "application/vnd.jupyter.widget-view+json": {
       "model_id": "3769ad75898d4a028b967630f0cc424d",
       "version_major": 2,
       "version_minor": 0
      },
      "text/plain": [
       "HBox(children=(FloatProgress(value=0.0, max=131.0), HTML(value='')))"
      ]
     },
     "metadata": {},
     "output_type": "display_data"
    },
    {
     "name": "stdout",
     "output_type": "stream",
     "text": [
      "Train Step 3/131, train_loss: 0.7086\r"
     ]
    },
    {
     "data": {
      "application/vnd.jupyter.widget-view+json": {
       "model_id": "b1552939da6745f9a3c69739cb4984a8",
       "version_major": 2,
       "version_minor": 0
      },
      "text/plain": [
       "HBox(children=(FloatProgress(value=0.0, max=16.0), HTML(value='')))"
      ]
     },
     "metadata": {},
     "output_type": "display_data"
    },
    {
     "name": "stdout",
     "output_type": "stream",
     "text": [
      "outputs 0.4648563265800476 0.0004438154574017972\n",
      "targets 0.5 0.5658032894134521\n",
      "outputs 0.483997642993927 0.03555069863796234\n",
      "targets 0.5 0.5658032894134521\n",
      "outputs 0.46403390169143677 0.002249892335385084\n",
      "targets 0.7450000047683716 0.49000000953674316\n",
      "outputs 0.4591420888900757 0.005314171779900789\n",
      "targets 0.5 0.5658032894134521\n",
      "outputs 0.4704194664955139 0.011385303921997547\n",
      "targets 0.7450000047683716 0.49000000953674316\n",
      "outputs 0.46208077669143677 0.0043070679530501366\n",
      "targets 0.2549999952316284 0.49000000953674316\n",
      "outputs 0.5098385214805603 0.08937479555606842\n",
      "targets 0.5 0.5658032894134521\n",
      "outputs 0.46515971422195435 0.0015549215022474527\n",
      "targets 0.7450000047683716 0.49000000953674316\n",
      "outputs 0.48770710825920105 0.04393165931105614\n",
      "targets 0.5 0.5658032894134521\n",
      "outputs 0.46404916048049927 0.0016984597314149141\n",
      "targets 0.2549999952316284 0.49000000953674316\n",
      "outputs 0.463788777589798 0.0031170970760285854\n",
      "targets 0.2549999952316284 0.49000000953674316\n",
      "outputs 0.46325957775115967 0.010621946305036545\n",
      "targets 0.5 0.5658032894134521\n",
      "outputs 0.46986302733421326 0.00960357952862978\n",
      "targets 0.5 0.5658032894134521\n",
      "outputs 0.46327435970306396 0.0022308817133307457\n",
      "targets 0.7450000047683716 0.49000000953674316\n",
      "outputs 0.48103785514831543 0.04029593989253044\n",
      "targets 0.7450000047683716 0.49000000953674316\n",
      "outputs 0.45992907881736755 nan.7062\n",
      "targets 0.9900000095367432 nan\n",
      "Valid Step 16/16, valid_loss: 0.6929\n",
      "[Epoch Valid: 8] loss: 0.6929, auc: 0.5325, time: 7.00 s\n",
      "Train Step 6/131, train_loss: 0.7029\r"
     ]
    },
    {
     "data": {
      "application/vnd.jupyter.widget-view+json": {
       "model_id": "3c47263e8c734d1ea2121986d6874a3d",
       "version_major": 2,
       "version_minor": 0
      },
      "text/plain": [
       "HBox(children=(FloatProgress(value=0.0, max=16.0), HTML(value='')))"
      ]
     },
     "metadata": {},
     "output_type": "display_data"
    },
    {
     "name": "stdout",
     "output_type": "stream",
     "text": [
      "outputs 0.46562984585762024 0.0001627247256692499\n",
      "targets 0.5 0.5658032894134521\n",
      "outputs 0.4661203622817993 0.00022437454026658088\n",
      "targets 0.5 0.5658032894134521\n",
      "outputs 0.46470606327056885 0.0014208850916475058\n",
      "targets 0.7450000047683716 0.49000000953674316\n",
      "outputs 0.46429508924484253 0.0014127426547929645\n",
      "targets 0.5 0.5658032894134521\n",
      "outputs 0.46590954065322876 0.00044235269888304174\n",
      "targets 0.7450000047683716 0.49000000953674316\n",
      "outputs 0.46439844369888306 0.0023350606206804514\n",
      "targets 0.2549999952316284 0.49000000953674316\n",
      "outputs 0.46445542573928833 0.0028666709549725056\n",
      "targets 0.5 0.5658032894134521\n",
      "outputs 0.465946227312088 0.0005179051076993346\n",
      "targets 0.7450000047683716 0.49000000953674316\n",
      "outputs 0.46596235036849976 0.00030511972727254033\n",
      "targets 0.5 0.5658032894134521\n",
      "outputs 0.46559107303619385 0.0003522432816680521\n",
      "targets 0.2549999952316284 0.49000000953674316\n",
      "outputs 0.46538394689559937 0.0012016462860628963\n",
      "targets 0.2549999952316284 0.49000000953674316\n",
      "outputs 0.46367982029914856 0.004571277182549238\n",
      "targets 0.5 0.5658032894134521\n",
      "outputs 0.46577343344688416 0.00027760618831962347\n",
      "targets 0.5 0.5658032894134521\n",
      "outputs 0.4649462103843689 0.0015068423235788941\n",
      "targets 0.7450000047683716 0.49000000953674316\n",
      "outputs 0.4632985591888428 0.0023035279009491205\n",
      "targets 0.7450000047683716 0.49000000953674316\n",
      "outputs 0.462158739566803 nan 0.7047\n",
      "targets 0.9900000095367432 nan\n",
      "Valid Step 16/16, valid_loss: 0.6915\n",
      "[Epoch Valid: 8] loss: 0.6915, auc: 0.5649, time: 7.00 s\n",
      "Train Step 9/131, train_loss: 0.6990\r"
     ]
    },
    {
     "data": {
      "application/vnd.jupyter.widget-view+json": {
       "model_id": "1f815c914c3e4129ba1f0f6d469f2f5e",
       "version_major": 2,
       "version_minor": 0
      },
      "text/plain": [
       "HBox(children=(FloatProgress(value=0.0, max=16.0), HTML(value='')))"
      ]
     },
     "metadata": {},
     "output_type": "display_data"
    },
    {
     "name": "stdout",
     "output_type": "stream",
     "text": [
      "outputs 0.37730127573013306 9.006749314721674e-05\n",
      "targets 0.5 0.5658032894134521\n",
      "outputs 0.3776152729988098 9.601778583601117e-05\n",
      "targets 0.5 0.5658032894134521\n",
      "outputs 0.3771933913230896 0.00039524471503682435\n",
      "targets 0.7450000047683716 0.49000000953674316\n",
      "outputs 0.3768719732761383 0.000450730265583843\n",
      "targets 0.5 0.5658032894134521\n",
      "outputs 0.377453088760376 0.000226593081606552\n",
      "targets 0.7450000047683716 0.49000000953674316\n",
      "outputs 0.3769000172615051 0.0007208238821476698\n",
      "targets 0.2549999952316284 0.49000000953674316\n",
      "outputs 0.37705445289611816 0.0007329890504479408\n",
      "targets 0.5 0.5658032894134521\n",
      "outputs 0.37751275300979614 0.00015337762306444347\n",
      "targets 0.7450000047683716 0.49000000953674316\n",
      "outputs 0.3775177299976349 0.000196895663975738\n",
      "targets 0.5 0.5658032894134521\n",
      "outputs 0.37729018926620483 0.00011307989188935608\n",
      "targets 0.2549999952316284 0.49000000953674316\n",
      "outputs 0.3773089051246643 0.00041806293302215636\n",
      "targets 0.2549999952316284 0.49000000953674316\n",
      "outputs 0.3768001198768616 0.001457953010685742\n",
      "targets 0.5 0.5658032894134521\n",
      "outputs 0.3774096369743347 0.0001658146211411804\n",
      "targets 0.5 0.5658032894134521\n",
      "outputs 0.3770928382873535 0.0005900600226595998\n",
      "targets 0.7450000047683716 0.49000000953674316\n",
      "outputs 0.37696459889411926 0.0006511122919619083\n",
      "targets 0.7450000047683716 0.49000000953674316\n",
      "outputs 0.37632134556770325 nan.6985\n",
      "targets 0.9900000095367432 nan\n",
      "Valid Step 16/16, valid_loss: 0.6877\n",
      "[Epoch Valid: 8] loss: 0.6877, auc: 0.5595, time: 7.00 s\n",
      "Train Step 12/131, train_loss: 0.6782\r"
     ]
    },
    {
     "data": {
      "application/vnd.jupyter.widget-view+json": {
       "model_id": "bb217b64f583488595690066db0748ca",
       "version_major": 2,
       "version_minor": 0
      },
      "text/plain": [
       "HBox(children=(FloatProgress(value=0.0, max=16.0), HTML(value='')))"
      ]
     },
     "metadata": {},
     "output_type": "display_data"
    },
    {
     "name": "stdout",
     "output_type": "stream",
     "text": [
      "outputs 0.2902767062187195 3.519287929520942e-05\n",
      "targets 0.5 0.5658032894134521\n",
      "outputs 0.2903200387954712 3.045618359465152e-05\n",
      "targets 0.5 0.5658032894134521\n",
      "outputs 0.2902318835258484 9.648060222389176e-05\n",
      "targets 0.7450000047683716 0.49000000953674316\n",
      "outputs 0.29009029269218445 0.00021316854690667242\n",
      "targets 0.5 0.5658032894134521\n",
      "outputs 0.2902714014053345 5.3154100896790624e-05\n",
      "targets 0.7450000047683716 0.49000000953674316\n",
      "outputs 0.29012393951416016 0.0002510995836928487\n",
      "targets 0.2549999952316284 0.49000000953674316\n",
      "outputs 0.2902708351612091 2.4527225832571276e-05\n",
      "targets 0.5 0.5658032894134521\n",
      "outputs 0.2902742922306061 3.3517393603688106e-05\n",
      "targets 0.7450000047683716 0.49000000953674316\n",
      "outputs 0.2903032600879669 7.039434422040358e-05\n",
      "targets 0.5 0.5658032894134521\n",
      "outputs 0.2902047634124756 7.853244460420683e-05\n",
      "targets 0.2549999952316284 0.49000000953674316\n",
      "outputs 0.29021498560905457 0.00010416397708468139\n",
      "targets 0.2549999952316284 0.49000000953674316\n",
      "outputs 0.29001086950302124 0.0005399792571552098\n",
      "targets 0.5 0.5658032894134521\n",
      "outputs 0.29030194878578186 3.304237543488853e-05\n",
      "targets 0.5 0.5658032894134521\n",
      "outputs 0.2901318669319153 0.00020672329992521554\n",
      "targets 0.7450000047683716 0.49000000953674316\n",
      "outputs 0.2902405261993408 0.0003335354558657855\n",
      "targets 0.7450000047683716 0.49000000953674316\n",
      "outputs 0.2899283468723297 nan0.6942\n",
      "targets 0.9900000095367432 nan\n",
      "Valid Step 16/16, valid_loss: 0.6859\n",
      "[Epoch Valid: 8] loss: 0.6859, auc: 0.4908, time: 7.00 s\n",
      "Train Step 15/131, train_loss: 0.7160\r"
     ]
    },
    {
     "data": {
      "application/vnd.jupyter.widget-view+json": {
       "model_id": "c9448247875646d9b0c9e23a22f15842",
       "version_major": 2,
       "version_minor": 0
      },
      "text/plain": [
       "HBox(children=(FloatProgress(value=0.0, max=16.0), HTML(value='')))"
      ]
     },
     "metadata": {},
     "output_type": "display_data"
    },
    {
     "name": "stdout",
     "output_type": "stream",
     "text": [
      "outputs 0.3318749964237213 3.63239596481435e-05\n",
      "targets 0.5 0.5658032894134521\n",
      "outputs 0.3319385051727295 2.4996252250275575e-05\n",
      "targets 0.5 0.5658032894134521\n",
      "outputs 0.33187538385391235 7.056462345644832e-05\n",
      "targets 0.7450000047683716 0.49000000953674316\n",
      "outputs 0.3317872881889343 0.00010149683657800779\n",
      "targets 0.5 0.5658032894134521\n",
      "outputs 0.3319075405597687 4.4389798858901486e-05\n",
      "targets 0.7450000047683716 0.49000000953674316\n",
      "outputs 0.33180493116378784 0.00010763307363959029\n",
      "targets 0.2549999952316284 0.49000000953674316\n",
      "outputs 0.33187758922576904 5.9825943026226014e-05\n",
      "targets 0.5 0.5658032894134521\n",
      "outputs 0.33192452788352966 2.1906136680627242e-05\n",
      "targets 0.7450000047683716 0.49000000953674316\n",
      "outputs 0.331920325756073 5.4977899708319455e-05\n",
      "targets 0.5 0.5658032894134521\n",
      "outputs 0.33185631036758423 3.730815296876244e-05\n",
      "targets 0.2549999952316284 0.49000000953674316\n",
      "outputs 0.3318798542022705 9.205064998241141e-05\n",
      "targets 0.2549999952316284 0.49000000953674316\n",
      "outputs 0.33179205656051636 0.00026018914650194347\n",
      "targets 0.5 0.5658032894134521\n",
      "outputs 0.33188819885253906 4.1000646888278425e-05\n",
      "targets 0.5 0.5658032894134521\n",
      "outputs 0.33183568716049194 0.0001251377398148179\n",
      "targets 0.7450000047683716 0.49000000953674316\n",
      "outputs 0.3318599462509155 0.00016085742390714586\n",
      "targets 0.7450000047683716 0.49000000953674316\n",
      "outputs 0.33173826336860657 nan.6960\n",
      "targets 0.9900000095367432 nan\n",
      "Valid Step 16/16, valid_loss: 0.6865\n",
      "[Epoch Valid: 8] loss: 0.6865, auc: 0.5931, time: 7.00 s\n",
      "Train Step 18/131, train_loss: 0.7035\r"
     ]
    },
    {
     "data": {
      "application/vnd.jupyter.widget-view+json": {
       "model_id": "4e1400a0a1014ca59af1cd7d78c3ae55",
       "version_major": 2,
       "version_minor": 0
      },
      "text/plain": [
       "HBox(children=(FloatProgress(value=0.0, max=16.0), HTML(value='')))"
      ]
     },
     "metadata": {},
     "output_type": "display_data"
    },
    {
     "name": "stdout",
     "output_type": "stream",
     "text": [
      "outputs 0.38659465312957764 4.5636083086719736e-05\n",
      "targets 0.5 0.5658032894134521\n",
      "outputs 0.38671666383743286 5.0192091293865815e-05\n",
      "targets 0.5 0.5658032894134521\n",
      "outputs 0.3866317570209503 9.412180952494964e-05\n",
      "targets 0.7450000047683716 0.49000000953674316\n",
      "outputs 0.38651901483535767 9.559947648085654e-05\n",
      "targets 0.5 0.5658032894134521\n",
      "outputs 0.386665940284729 8.357152546523139e-05\n",
      "targets 0.7450000047683716 0.49000000953674316\n",
      "outputs 0.3865225911140442 9.022986341733485e-05\n",
      "targets 0.2549999952316284 0.49000000953674316\n",
      "outputs 0.38660216331481934 8.551061182515696e-05\n",
      "targets 0.5 0.5658032894134521\n",
      "outputs 0.3866944909095764 4.798192094312981e-05\n",
      "targets 0.7450000047683716 0.49000000953674316\n",
      "outputs 0.38668912649154663 9.075139678316191e-05\n",
      "targets 0.5 0.5658032894134521\n",
      "outputs 0.3865836262702942 4.6139797632349655e-05\n",
      "targets 0.2549999952316284 0.49000000953674316\n",
      "outputs 0.3866531252861023 0.00012221951328683645\n",
      "targets 0.2549999952316284 0.49000000953674316\n",
      "outputs 0.386579692363739 0.0002366142871323973\n",
      "targets 0.5 0.5658032894134521\n",
      "outputs 0.3866160213947296 7.940639625303447e-05\n",
      "targets 0.5 0.5658032894134521\n",
      "outputs 0.3866193890571594 0.00010485776874702424\n",
      "targets 0.7450000047683716 0.49000000953674316\n",
      "outputs 0.386565625667572 0.00014637289859820157\n",
      "targets 0.7450000047683716 0.49000000953674316\n",
      "outputs 0.38652732968330383 nan.6991\n",
      "targets 0.9900000095367432 nan\n",
      "Valid Step 16/16, valid_loss: 0.6880\n",
      "[Epoch Valid: 8] loss: 0.6880, auc: 0.5898, time: 7.00 s\n",
      "Train Step 21/131, train_loss: 0.7093\r"
     ]
    },
    {
     "data": {
      "application/vnd.jupyter.widget-view+json": {
       "model_id": "85d872735670416dbc2ff5c843695c52",
       "version_major": 2,
       "version_minor": 0
      },
      "text/plain": [
       "HBox(children=(FloatProgress(value=0.0, max=16.0), HTML(value='')))"
      ]
     },
     "metadata": {},
     "output_type": "display_data"
    },
    {
     "name": "stdout",
     "output_type": "stream",
     "text": [
      "outputs 0.45810768008232117 5.400218287832104e-05\n",
      "targets 0.5 0.5658032894134521\n",
      "outputs 0.45829007029533386 6.64638209855184e-05\n",
      "targets 0.5 0.5658032894134521\n",
      "outputs 0.4581664204597473 0.00012869367492385209\n",
      "targets 0.7450000047683716 0.49000000953674316\n",
      "outputs 0.4580375552177429 9.65000144788064e-05\n",
      "targets 0.5 0.5658032894134521\n",
      "outputs 0.45822176337242126 0.00011961874406551942\n",
      "targets 0.7450000047683716 0.49000000953674316\n",
      "outputs 0.45803314447402954 8.433756738668308e-05\n",
      "targets 0.2549999952316284 0.49000000953674316\n",
      "outputs 0.4581196904182434 0.0001504881220171228\n",
      "targets 0.5 0.5658032894134521\n",
      "outputs 0.4582614600658417 7.587553409393877e-05\n",
      "targets 0.7450000047683716 0.49000000953674316\n",
      "outputs 0.4582456946372986 0.00012559967581182718\n",
      "targets 0.5 0.5658032894134521\n",
      "outputs 0.45811891555786133 4.972445094608702e-05\n",
      "targets 0.2549999952316284 0.49000000953674316\n",
      "outputs 0.4582057297229767 0.00016605728887952864\n",
      "targets 0.2549999952316284 0.49000000953674316\n",
      "outputs 0.4581349790096283 0.0002703763893805444\n",
      "targets 0.5 0.5658032894134521\n",
      "outputs 0.4581376016139984 0.00011975860252277926\n",
      "targets 0.5 0.5658032894134521\n",
      "outputs 0.458166241645813 0.00014502645353786647\n",
      "targets 0.7450000047683716 0.49000000953674316\n",
      "outputs 0.4580632746219635 0.00017826959083322436\n",
      "targets 0.7450000047683716 0.49000000953674316\n",
      "outputs 0.45804715156555176 nan.7042\n",
      "targets 0.9900000095367432 nan\n",
      "Valid Step 16/16, valid_loss: 0.6911\n",
      "[Epoch Valid: 8] loss: 0.6911, auc: 0.5909, time: 7.00 s\n",
      "Train Step 24/131, train_loss: 0.7092\r"
     ]
    },
    {
     "data": {
      "application/vnd.jupyter.widget-view+json": {
       "model_id": "95245490eb7949349bf03890609b410c",
       "version_major": 2,
       "version_minor": 0
      },
      "text/plain": [
       "HBox(children=(FloatProgress(value=0.0, max=16.0), HTML(value='')))"
      ]
     },
     "metadata": {},
     "output_type": "display_data"
    },
    {
     "name": "stdout",
     "output_type": "stream",
     "text": [
      "outputs 0.5352864861488342 4.097498094779439e-05\n",
      "targets 0.5 0.5658032894134521\n",
      "outputs 0.5353193879127502 1.8941183952847496e-05\n",
      "targets 0.5 0.5658032894134521\n",
      "outputs 0.5352795124053955 4.744669422507286e-05\n",
      "targets 0.7450000047683716 0.49000000953674316\n",
      "outputs 0.5352578163146973 4.248028199071996e-05\n",
      "targets 0.5 0.5658032894134521\n",
      "outputs 0.5353059768676758 2.836733438016381e-05\n",
      "targets 0.7450000047683716 0.49000000953674316\n",
      "outputs 0.5352503061294556 5.400050213211216e-05\n",
      "targets 0.2549999952316284 0.49000000953674316\n",
      "outputs 0.535252034664154 8.267994417110458e-05\n",
      "targets 0.5 0.5658032894134521\n",
      "outputs 0.5353182554244995 1.8208673282060772e-05\n",
      "targets 0.7450000047683716 0.49000000953674316\n",
      "outputs 0.5353075265884399 3.0646526283817366e-05\n",
      "targets 0.5 0.5658032894134521\n",
      "outputs 0.5352910161018372 8.493749191984534e-06\n",
      "targets 0.2549999952316284 0.49000000953674316\n",
      "outputs 0.535287618637085 5.418013097369112e-05\n",
      "targets 0.2549999952316284 0.49000000953674316\n",
      "outputs 0.5352520942687988 0.00013034543371759355\n",
      "targets 0.5 0.5658032894134521\n",
      "outputs 0.5353033542633057 1.9918090401915833e-05\n",
      "targets 0.5 0.5658032894134521\n",
      "outputs 0.535277247428894 5.998610140522942e-05\n",
      "targets 0.7450000047683716 0.49000000953674316\n",
      "outputs 0.5352503657341003 5.667212826665491e-05\n",
      "targets 0.7450000047683716 0.49000000953674316\n",
      "outputs 0.5351880192756653 nan0.7111\n",
      "targets 0.9900000095367432 nan\n",
      "Valid Step 16/16, valid_loss: 0.6958\n",
      "[Epoch Valid: 8] loss: 0.6958, auc: 0.5509, time: 7.00 s\n",
      "Train Step 27/131, train_loss: 0.7041\r"
     ]
    },
    {
     "data": {
      "application/vnd.jupyter.widget-view+json": {
       "model_id": "1a9f38f626c44d76a2efd23261ea471e",
       "version_major": 2,
       "version_minor": 0
      },
      "text/plain": [
       "HBox(children=(FloatProgress(value=0.0, max=16.0), HTML(value='')))"
      ]
     },
     "metadata": {},
     "output_type": "display_data"
    },
    {
     "name": "stdout",
     "output_type": "stream",
     "text": [
      "outputs 0.665130615234375 2.038531056314241e-05\n",
      "targets 0.5 0.5658032894134521\n",
      "outputs 0.6651378273963928 8.110649105219636e-06\n",
      "targets 0.5 0.5658032894134521\n",
      "outputs 0.665099561214447 3.5946181014878675e-05\n",
      "targets 0.7450000047683716 0.49000000953674316\n",
      "outputs 0.6651319265365601 2.2033411369193345e-05\n",
      "targets 0.5 0.5658032894134521\n",
      "outputs 0.6651337742805481 1.123591027862858e-05\n",
      "targets 0.7450000047683716 0.49000000953674316\n",
      "outputs 0.665111780166626 4.4585129217011854e-05\n",
      "targets 0.2549999952316284 0.49000000953674316\n",
      "outputs 0.6650600433349609 0.00011841215018648654\n",
      "targets 0.5 0.5658032894134521\n",
      "outputs 0.6651409864425659 5.604210400633747e-06\n",
      "targets 0.7450000047683716 0.49000000953674316\n",
      "outputs 0.6651315093040466 1.1081388947786763e-05\n",
      "targets 0.5 0.5658032894134521\n",
      "outputs 0.6651610732078552 4.882505163550377e-05\n",
      "targets 0.2549999952316284 0.49000000953674316\n",
      "outputs 0.6651206016540527 2.377805685682688e-05\n",
      "targets 0.2549999952316284 0.49000000953674316\n",
      "outputs 0.6650817394256592 0.00011315496522001922\n",
      "targets 0.5 0.5658032894134521\n",
      "outputs 0.6651391983032227 1.0514631867408752e-05\n",
      "targets 0.5 0.5658032894134521\n",
      "outputs 0.6651016473770142 7.025829108897597e-05\n",
      "targets 0.7450000047683716 0.49000000953674316\n",
      "outputs 0.6650972962379456 5.816471093567088e-05\n",
      "targets 0.7450000047683716 0.49000000953674316\n",
      "outputs 0.6650065183639526 nan0.7257\n",
      "targets 0.9900000095367432 nan\n",
      "Valid Step 16/16, valid_loss: 0.7067\n",
      "[Epoch Valid: 8] loss: 0.7067, auc: 0.5308, time: 7.00 s\n",
      "Train Step 30/131, train_loss: 0.7194\r"
     ]
    },
    {
     "data": {
      "application/vnd.jupyter.widget-view+json": {
       "model_id": "f81e6824f96c49a398227c930a5d9437",
       "version_major": 2,
       "version_minor": 0
      },
      "text/plain": [
       "HBox(children=(FloatProgress(value=0.0, max=16.0), HTML(value='')))"
      ]
     },
     "metadata": {},
     "output_type": "display_data"
    },
    {
     "name": "stdout",
     "output_type": "stream",
     "text": [
      "outputs 0.738383412361145 1.915659595397301e-05\n",
      "targets 0.5 0.5658032894134521\n",
      "outputs 0.7385144233703613 3.0178458473528735e-05\n",
      "targets 0.5 0.5658032894134521\n",
      "outputs 0.7384372353553772 6.794522778363898e-05\n",
      "targets 0.7450000047683716 0.49000000953674316\n",
      "outputs 0.7384071350097656 4.402038757689297e-05\n",
      "targets 0.5 0.5658032894134521\n",
      "outputs 0.7384725213050842 7.528618152718991e-05\n",
      "targets 0.7450000047683716 0.49000000953674316\n",
      "outputs 0.7383886575698853 2.6867384804063477e-05\n",
      "targets 0.2549999952316284 0.49000000953674316\n",
      "outputs 0.7384308576583862 9.22947729122825e-05\n",
      "targets 0.5 0.5658032894134521\n",
      "outputs 0.7385014295578003 5.6432123528793454e-05\n",
      "targets 0.7450000047683716 0.49000000953674316\n",
      "outputs 0.738473653793335 8.391493611270562e-05\n",
      "targets 0.5 0.5658032894134521\n",
      "outputs 0.7384492754936218 4.843053102376871e-05\n",
      "targets 0.2549999952316284 0.49000000953674316\n",
      "outputs 0.7384618520736694 9.242340456694365e-05\n",
      "targets 0.2549999952316284 0.49000000953674316\n",
      "outputs 0.7384742498397827 8.436299685854465e-05\n",
      "targets 0.5 0.5658032894134521\n",
      "outputs 0.7384015321731567 8.598868589615449e-05\n",
      "targets 0.5 0.5658032894134521\n",
      "outputs 0.7384520769119263 9.093599510379136e-05\n",
      "targets 0.7450000047683716 0.49000000953674316\n",
      "outputs 0.7384159564971924 7.739149441476911e-05\n",
      "targets 0.7450000047683716 0.49000000953674316\n",
      "outputs 0.7384081482887268 nan0.7357\n",
      "targets 0.9900000095367432 nan\n",
      "Valid Step 16/16, valid_loss: 0.7146\n",
      "[Epoch Valid: 8] loss: 0.7146, auc: 0.6407, time: 7.00 s\n",
      "Train Step 33/131, train_loss: 0.7223\r"
     ]
    },
    {
     "data": {
      "application/vnd.jupyter.widget-view+json": {
       "model_id": "4368001b3de44456b952b4057bb5cccb",
       "version_major": 2,
       "version_minor": 0
      },
      "text/plain": [
       "HBox(children=(FloatProgress(value=0.0, max=16.0), HTML(value='')))"
      ]
     },
     "metadata": {},
     "output_type": "display_data"
    },
    {
     "name": "stdout",
     "output_type": "stream",
     "text": [
      "outputs 0.6095862984657288 3.926422505173832e-05\n",
      "targets 0.5 0.5658032894134521\n",
      "outputs 0.6097167730331421 4.238273686496541e-05\n",
      "targets 0.5 0.5658032894134521\n",
      "outputs 0.6096530556678772 7.142465619836003e-05\n",
      "targets 0.7450000047683716 0.49000000953674316\n",
      "outputs 0.6095888018608093 2.634068914630916e-05\n",
      "targets 0.5 0.5658032894134521\n",
      "outputs 0.6096760034561157 7.63328789616935e-05\n",
      "targets 0.7450000047683716 0.49000000953674316\n",
      "outputs 0.609569787979126 8.765835445956327e-06\n",
      "targets 0.2549999952316284 0.49000000953674316\n",
      "outputs 0.6096374988555908 7.137480133678764e-05\n",
      "targets 0.5 0.5658032894134521\n",
      "outputs 0.6097010374069214 5.757817780249752e-05\n",
      "targets 0.7450000047683716 0.49000000953674316\n",
      "outputs 0.6096794605255127 9.015138493850827e-05\n",
      "targets 0.5 0.5658032894134521\n",
      "outputs 0.6096195578575134 3.053171167266555e-05\n",
      "targets 0.2549999952316284 0.49000000953674316\n",
      "outputs 0.6096693873405457 0.00010198624659096822\n",
      "targets 0.2549999952316284 0.49000000953674316\n",
      "outputs 0.6096748113632202 8.438584336545318e-05\n",
      "targets 0.5 0.5658032894134521\n",
      "outputs 0.609606146812439 8.561603317502886e-05\n",
      "targets 0.5 0.5658032894134521\n",
      "outputs 0.6096625328063965 8.214492117986083e-05\n",
      "targets 0.7450000047683716 0.49000000953674316\n",
      "outputs 0.6096078157424927 9.189589763991535e-05\n",
      "targets 0.7450000047683716 0.49000000953674316\n",
      "outputs 0.6096342206001282 nan0.7190\n",
      "targets 0.9900000095367432 nan\n",
      "Valid Step 16/16, valid_loss: 0.7016\n",
      "[Epoch Valid: 8] loss: 0.7016, auc: 0.6418, time: 7.00 s\n",
      "Train Step 36/131, train_loss: 0.7098\r"
     ]
    },
    {
     "data": {
      "application/vnd.jupyter.widget-view+json": {
       "model_id": "63fe86b40c1e463490e175de137aeece",
       "version_major": 2,
       "version_minor": 0
      },
      "text/plain": [
       "HBox(children=(FloatProgress(value=0.0, max=16.0), HTML(value='')))"
      ]
     },
     "metadata": {},
     "output_type": "display_data"
    },
    {
     "name": "stdout",
     "output_type": "stream",
     "text": [
      "outputs 0.6266220808029175 3.5088163713226095e-05\n",
      "targets 0.5 0.5658032894134521\n",
      "outputs 0.6267463564872742 3.6329383874544874e-05\n",
      "targets 0.5 0.5658032894134521\n",
      "outputs 0.6266729831695557 7.006871601333842e-05\n",
      "targets 0.7450000047683716 0.49000000953674316\n",
      "outputs 0.6266316175460815 3.461239975877106e-05\n",
      "targets 0.5 0.5658032894134521\n",
      "outputs 0.6267078518867493 6.782676791772246e-05\n",
      "targets 0.7450000047683716 0.49000000953674316\n",
      "outputs 0.6266194581985474 2.2906273443368264e-05\n",
      "targets 0.2549999952316284 0.49000000953674316\n",
      "outputs 0.6266649961471558 7.908284169388935e-05\n",
      "targets 0.5 0.5658032894134521\n",
      "outputs 0.6267284750938416 5.9525686083361506e-05\n",
      "targets 0.7450000047683716 0.49000000953674316\n",
      "outputs 0.6267078518867493 8.166014595190063e-05\n",
      "targets 0.5 0.5658032894134521\n",
      "outputs 0.6266746520996094 3.371111233718693e-05\n",
      "targets 0.2549999952316284 0.49000000953674316\n",
      "outputs 0.6266923546791077 9.752823825692758e-05\n",
      "targets 0.2549999952316284 0.49000000953674316\n",
      "outputs 0.6266990303993225 8.724649524083361e-05\n",
      "targets 0.5 0.5658032894134521\n",
      "outputs 0.626644492149353 7.821445615263656e-05\n",
      "targets 0.5 0.5658032894134521\n",
      "outputs 0.6266847848892212 8.47438132041134e-05\n",
      "targets 0.7450000047683716 0.49000000953674316\n",
      "outputs 0.6266351938247681 8.314540173159912e-05\n",
      "targets 0.7450000047683716 0.49000000953674316\n",
      "outputs 0.6266341805458069 nan0.7210\n",
      "targets 0.9900000095367432 nan\n",
      "Valid Step 16/16, valid_loss: 0.7031\n",
      "[Epoch Valid: 8] loss: 0.7031, auc: 0.6353, time: 7.00 s\n",
      "Train Step 39/131, train_loss: 0.7163\r"
     ]
    },
    {
     "data": {
      "application/vnd.jupyter.widget-view+json": {
       "model_id": "45a6095d23d042559fe5567eec187d6f",
       "version_major": 2,
       "version_minor": 0
      },
      "text/plain": [
       "HBox(children=(FloatProgress(value=0.0, max=16.0), HTML(value='')))"
      ]
     },
     "metadata": {},
     "output_type": "display_data"
    },
    {
     "name": "stdout",
     "output_type": "stream",
     "text": [
      "outputs 0.6430264711380005 3.9655576983932406e-05\n",
      "targets 0.5 0.5658032894134521\n",
      "outputs 0.6431503295898438 3.8500609662150964e-05\n",
      "targets 0.5 0.5658032894134521\n",
      "outputs 0.6430761814117432 7.299820572370663e-05\n",
      "targets 0.7450000047683716 0.49000000953674316\n",
      "outputs 0.6430292129516602 3.062554606003687e-05\n",
      "targets 0.5 0.5658032894134521\n",
      "outputs 0.6431112289428711 6.89394655637443e-05\n",
      "targets 0.7450000047683716 0.49000000953674316\n",
      "outputs 0.6430175304412842 2.417758878436871e-05\n",
      "targets 0.2549999952316284 0.49000000953674316\n",
      "outputs 0.6430644989013672 8.152840018738061e-05\n",
      "targets 0.5 0.5658032894134521\n",
      "outputs 0.6431329250335693 5.8337380323791876e-05\n",
      "targets 0.7450000047683716 0.49000000953674316\n",
      "outputs 0.6431128978729248 8.19871129351668e-05\n",
      "targets 0.5 0.5658032894134521\n",
      "outputs 0.6430732607841492 3.0386017897399142e-05\n",
      "targets 0.2549999952316284 0.49000000953674316\n",
      "outputs 0.6430960297584534 0.00010046507668448612\n",
      "targets 0.2549999952316284 0.49000000953674316\n",
      "outputs 0.6430943608283997 0.00010045061208074912\n",
      "targets 0.5 0.5658032894134521\n",
      "outputs 0.6430497169494629 7.78720568632707e-05\n",
      "targets 0.5 0.5658032894134521\n",
      "outputs 0.6430871486663818 8.468246960546821e-05\n",
      "targets 0.7450000047683716 0.49000000953674316\n",
      "outputs 0.6430347561836243 8.70690491865389e-05\n",
      "targets 0.7450000047683716 0.49000000953674316\n",
      "outputs 0.6430286765098572 nan0.7230\n",
      "targets 0.9900000095367432 nan\n",
      "Valid Step 16/16, valid_loss: 0.7046\n",
      "[Epoch Valid: 8] loss: 0.7046, auc: 0.6228, time: 7.00 s\n",
      "Train Step 42/131, train_loss: 0.7109\r"
     ]
    },
    {
     "data": {
      "application/vnd.jupyter.widget-view+json": {
       "model_id": "60257463b85e4042aa6f673f7011408d",
       "version_major": 2,
       "version_minor": 0
      },
      "text/plain": [
       "HBox(children=(FloatProgress(value=0.0, max=16.0), HTML(value='')))"
      ]
     },
     "metadata": {},
     "output_type": "display_data"
    },
    {
     "name": "stdout",
     "output_type": "stream",
     "text": [
      "outputs 0.6417091488838196 4.0777773392619565e-05\n",
      "targets 0.5 0.5658032894134521\n",
      "outputs 0.6418203115463257 3.662381641333923e-05\n",
      "targets 0.5 0.5658032894134521\n",
      "outputs 0.6417531371116638 6.787084566894919e-05\n",
      "targets 0.7450000047683716 0.49000000953674316\n",
      "outputs 0.641710638999939 2.991375367855653e-05\n",
      "targets 0.5 0.5658032894134521\n",
      "outputs 0.6417855024337769 6.228525307960808e-05\n",
      "targets 0.7450000047683716 0.49000000953674316\n",
      "outputs 0.641697883605957 2.302799839526415e-05\n",
      "targets 0.2549999952316284 0.49000000953674316\n",
      "outputs 0.6417379379272461 7.920504140201956e-05\n",
      "targets 0.5 0.5658032894134521\n",
      "outputs 0.6418043375015259 5.408477954915725e-05\n",
      "targets 0.7450000047683716 0.49000000953674316\n",
      "outputs 0.6417858600616455 7.553659816039726e-05\n",
      "targets 0.5 0.5658032894134521\n",
      "outputs 0.6417475938796997 2.5794675821089186e-05\n",
      "targets 0.2549999952316284 0.49000000953674316\n",
      "outputs 0.6417710781097412 9.272191527998075e-05\n",
      "targets 0.2549999952316284 0.49000000953674316\n",
      "outputs 0.6417658925056458 9.714384941617027e-05\n",
      "targets 0.5 0.5658032894134521\n",
      "outputs 0.6417302489280701 7.05498896422796e-05\n",
      "targets 0.5 0.5658032894134521\n",
      "outputs 0.6417616605758667 7.81642593210563e-05\n",
      "targets 0.7450000047683716 0.49000000953674316\n",
      "outputs 0.6417108178138733 8.172285743057728e-05\n",
      "targets 0.7450000047683716 0.49000000953674316\n",
      "outputs 0.6417034268379211 nan0.7228\n",
      "targets 0.9900000095367432 nan\n",
      "Valid Step 16/16, valid_loss: 0.7045\n",
      "[Epoch Valid: 8] loss: 0.7045, auc: 0.6223, time: 7.00 s\n",
      "Train Step 45/131, train_loss: 0.7095\r"
     ]
    },
    {
     "data": {
      "application/vnd.jupyter.widget-view+json": {
       "model_id": "2a27d2c05d0a42e18e347f29dc2a5736",
       "version_major": 2,
       "version_minor": 0
      },
      "text/plain": [
       "HBox(children=(FloatProgress(value=0.0, max=16.0), HTML(value='')))"
      ]
     },
     "metadata": {},
     "output_type": "display_data"
    },
    {
     "name": "stdout",
     "output_type": "stream",
     "text": [
      "outputs 0.6103342771530151 2.9052542231511325e-05\n",
      "targets 0.5 0.5658032894134521\n",
      "outputs 0.6104152202606201 2.571079858171288e-05\n",
      "targets 0.5 0.5658032894134521\n",
      "outputs 0.6103633046150208 4.991582682123408e-05\n",
      "targets 0.7450000047683716 0.49000000953674316\n",
      "outputs 0.6103415489196777 2.6480891392566264e-05\n",
      "targets 0.5 0.5658032894134521\n",
      "outputs 0.6103907823562622 4.305039328755811e-05\n",
      "targets 0.7450000047683716 0.49000000953674316\n",
      "outputs 0.6103345155715942 2.2174785044626333e-05\n",
      "targets 0.2549999952316284 0.49000000953674316\n",
      "outputs 0.6103543043136597 6.635512545472011e-05\n",
      "targets 0.5 0.5658032894134521\n",
      "outputs 0.61040198802948 4.258429544279352e-05\n",
      "targets 0.7450000047683716 0.49000000953674316\n",
      "outputs 0.6103872060775757 5.50394288438838e-05\n",
      "targets 0.5 0.5658032894134521\n",
      "outputs 0.6103692650794983 2.4258162738988176e-05\n",
      "targets 0.2549999952316284 0.49000000953674316\n",
      "outputs 0.6103770136833191 6.711402966175228e-05\n",
      "targets 0.2549999952316284 0.49000000953674316\n",
      "outputs 0.6103765964508057 6.796966772526503e-05\n",
      "targets 0.5 0.5658032894134521\n",
      "outputs 0.6103494167327881 5.131316720508039e-05\n",
      "targets 0.5 0.5658032894134521\n",
      "outputs 0.610369086265564 6.171566928969696e-05\n",
      "targets 0.7450000047683716 0.49000000953674316\n",
      "outputs 0.610333263874054 5.96699865127448e-05\n",
      "targets 0.7450000047683716 0.49000000953674316\n",
      "outputs 0.6103201508522034 nan0.7191\n",
      "targets 0.9900000095367432 nan\n",
      "Valid Step 16/16, valid_loss: 0.7016\n",
      "[Epoch Valid: 8] loss: 0.7016, auc: 0.6196, time: 7.00 s\n",
      "Train Step 48/131, train_loss: 0.7120\r"
     ]
    },
    {
     "data": {
      "application/vnd.jupyter.widget-view+json": {
       "model_id": "41b1770d9cb345329b57f9528905fdc4",
       "version_major": 2,
       "version_minor": 0
      },
      "text/plain": [
       "HBox(children=(FloatProgress(value=0.0, max=16.0), HTML(value='')))"
      ]
     },
     "metadata": {},
     "output_type": "display_data"
    },
    {
     "name": "stdout",
     "output_type": "stream",
     "text": [
      "outputs 0.5861817002296448 2.686361585801933e-05\n",
      "targets 0.5 0.5658032894134521\n",
      "outputs 0.5862559676170349 2.2334608729579486e-05\n",
      "targets 0.5 0.5658032894134521\n",
      "outputs 0.5862066745758057 4.5115360990166664e-05\n",
      "targets 0.7450000047683716 0.49000000953674316\n",
      "outputs 0.5861959457397461 2.8449039746192284e-05\n",
      "targets 0.5 0.5658032894134521\n",
      "outputs 0.5862340927124023 3.7438745494000614e-05\n",
      "targets 0.7450000047683716 0.49000000953674316\n",
      "outputs 0.586192786693573 2.877855149563402e-05\n",
      "targets 0.2549999952316284 0.49000000953674316\n",
      "outputs 0.5861992239952087 6.885975744808093e-05\n",
      "targets 0.5 0.5658032894134521\n",
      "outputs 0.58624267578125 4.125955456402153e-05\n",
      "targets 0.7450000047683716 0.49000000953674316\n",
      "outputs 0.5862278938293457 4.996423012926243e-05\n",
      "targets 0.5 0.5658032894134521\n",
      "outputs 0.5862225890159607 2.8885671781608835e-05\n",
      "targets 0.2549999952316284 0.49000000953674316\n",
      "outputs 0.5862189531326294 6.016386396368034e-05\n",
      "targets 0.2549999952316284 0.49000000953674316\n",
      "outputs 0.5862219929695129 5.957285611657426e-05\n",
      "targets 0.5 0.5658032894134521\n",
      "outputs 0.5861976146697998 4.630238254321739e-05\n",
      "targets 0.5 0.5658032894134521\n",
      "outputs 0.586212694644928 5.835973934154026e-05\n",
      "targets 0.7450000047683716 0.49000000953674316\n",
      "outputs 0.5861799716949463 5.828319990541786e-05\n",
      "targets 0.7450000047683716 0.49000000953674316\n",
      "outputs 0.5861603617668152 nan0.7163\n",
      "targets 0.9900000095367432 nan\n",
      "Valid Step 16/16, valid_loss: 0.6996\n",
      "[Epoch Valid: 8] loss: 0.6996, auc: 0.6201, time: 7.00 s\n",
      "Train Step 51/131, train_loss: 0.7070\r"
     ]
    },
    {
     "data": {
      "application/vnd.jupyter.widget-view+json": {
       "model_id": "9c66e772aedf47ac9a1cdfce0a58b725",
       "version_major": 2,
       "version_minor": 0
      },
      "text/plain": [
       "HBox(children=(FloatProgress(value=0.0, max=16.0), HTML(value='')))"
      ]
     },
     "metadata": {},
     "output_type": "display_data"
    },
    {
     "name": "stdout",
     "output_type": "stream",
     "text": [
      "outputs 0.5824130177497864 1.8811191694112495e-05\n",
      "targets 0.5 0.5658032894134521\n",
      "outputs 0.5824567079544067 1.3130192201060709e-05\n",
      "targets 0.5 0.5658032894134521\n",
      "outputs 0.582426130771637 2.813644277921412e-05\n",
      "targets 0.7450000047683716 0.49000000953674316\n",
      "outputs 0.582423985004425 1.9268623873358592e-05\n",
      "targets 0.5 0.5658032894134521\n",
      "outputs 0.5824445486068726 1.997130675590597e-05\n",
      "targets 0.7450000047683716 0.49000000953674316\n",
      "outputs 0.5824217796325684 2.1250343706924468e-05\n",
      "targets 0.2549999952316284 0.49000000953674316\n",
      "outputs 0.5824204087257385 5.1713122957153246e-05\n",
      "targets 0.5 0.5658032894134521\n",
      "outputs 0.5824480056762695 2.5590716177248396e-05\n",
      "targets 0.7450000047683716 0.49000000953674316\n",
      "outputs 0.582438588142395 2.925548869825434e-05\n",
      "targets 0.5 0.5658032894134521\n",
      "outputs 0.5824397206306458 2.1244715753709897e-05\n",
      "targets 0.2549999952316284 0.49000000953674316\n",
      "outputs 0.582433819770813 3.572775312932208e-05\n",
      "targets 0.2549999952316284 0.49000000953674316\n",
      "outputs 0.5824320316314697 4.204033029964194e-05\n",
      "targets 0.5 0.5658032894134521\n",
      "outputs 0.5824230909347534 2.662421320565045e-05\n",
      "targets 0.5 0.5658032894134521\n",
      "outputs 0.5824266076087952 4.153926420258358e-05\n",
      "targets 0.7450000047683716 0.49000000953674316\n",
      "outputs 0.5824092030525208 3.830398782156408e-05\n",
      "targets 0.7450000047683716 0.49000000953674316\n",
      "outputs 0.5823908448219299 nan0.7159\n",
      "targets 0.9900000095367432 nan\n",
      "Valid Step 16/16, valid_loss: 0.6993\n",
      "[Epoch Valid: 8] loss: 0.6993, auc: 0.6126, time: 7.00 s\n",
      "Train Step 54/131, train_loss: 0.7055\r"
     ]
    },
    {
     "data": {
      "application/vnd.jupyter.widget-view+json": {
       "model_id": "49656a07b3da4d8a93c47469c9ac5f77",
       "version_major": 2,
       "version_minor": 0
      },
      "text/plain": [
       "HBox(children=(FloatProgress(value=0.0, max=16.0), HTML(value='')))"
      ]
     },
     "metadata": {},
     "output_type": "display_data"
    },
    {
     "name": "stdout",
     "output_type": "stream",
     "text": [
      "outputs 0.5856343507766724 1.7948241293197498e-05\n",
      "targets 0.5 0.5658032894134521\n",
      "outputs 0.5856810808181763 1.3153823601896875e-05\n",
      "targets 0.5 0.5658032894134521\n",
      "outputs 0.5856492519378662 2.8650867534452118e-05\n",
      "targets 0.7450000047683716 0.49000000953674316\n",
      "outputs 0.5856438875198364 1.9092894945060834e-05\n",
      "targets 0.5 0.5658032894134521\n",
      "outputs 0.5856683254241943 2.0670411686296575e-05\n",
      "targets 0.7450000047683716 0.49000000953674316\n",
      "outputs 0.5856430530548096 2.154450339730829e-05\n",
      "targets 0.2549999952316284 0.49000000953674316\n",
      "outputs 0.585647702217102 4.9199286877410486e-05\n",
      "targets 0.5 0.5658032894134521\n",
      "outputs 0.58567214012146 2.6082487238454632e-05\n",
      "targets 0.7450000047683716 0.49000000953674316\n",
      "outputs 0.5856621265411377 3.073996413149871e-05\n",
      "targets 0.5 0.5658032894134521\n",
      "outputs 0.5856622457504272 2.2279198674368672e-05\n",
      "targets 0.2549999952316284 0.49000000953674316\n",
      "outputs 0.5856568813323975 3.760659456020221e-05\n",
      "targets 0.2549999952316284 0.49000000953674316\n",
      "outputs 0.5856568813323975 4.1525425331201404e-05\n",
      "targets 0.5 0.5658032894134521\n",
      "outputs 0.5856441855430603 2.8283309802645817e-05\n",
      "targets 0.5 0.5658032894134521\n",
      "outputs 0.5856490731239319 4.39345276390668e-05\n",
      "targets 0.7450000047683716 0.49000000953674316\n",
      "outputs 0.5856342315673828 3.6584104236681014e-05\n",
      "targets 0.7450000047683716 0.49000000953674316\n",
      "outputs 0.5856159925460815 nan0.7163\n",
      "targets 0.9900000095367432 nan\n",
      "Valid Step 16/16, valid_loss: 0.6995\n",
      "[Epoch Valid: 8] loss: 0.6995, auc: 0.6136, time: 7.00 s\n",
      "Train Step 57/131, train_loss: 0.7098\r"
     ]
    },
    {
     "data": {
      "application/vnd.jupyter.widget-view+json": {
       "model_id": "3701905ab2964e73b2b8f0a67864125f",
       "version_major": 2,
       "version_minor": 0
      },
      "text/plain": [
       "HBox(children=(FloatProgress(value=0.0, max=16.0), HTML(value='')))"
      ]
     },
     "metadata": {},
     "output_type": "display_data"
    },
    {
     "name": "stdout",
     "output_type": "stream",
     "text": [
      "outputs 0.5609760284423828 1.2118129234295338e-05\n",
      "targets 0.5 0.5658032894134521\n",
      "outputs 0.5609967112541199 6.501461484731408e-06\n",
      "targets 0.5 0.5658032894134521\n",
      "outputs 0.5609802007675171 1.6267336832243018e-05\n",
      "targets 0.7450000047683716 0.49000000953674316\n",
      "outputs 0.5609847903251648 1.1313295544823632e-05\n",
      "targets 0.5 0.5658032894134521\n",
      "outputs 0.5609920024871826 7.13975578037207e-06\n",
      "targets 0.7450000047683716 0.49000000953674316\n",
      "outputs 0.5609861016273499 1.623758907953743e-05\n",
      "targets 0.2549999952316284 0.49000000953674316\n",
      "outputs 0.5609769821166992 3.996862142230384e-05\n",
      "targets 0.5 0.5658032894134521\n",
      "outputs 0.5609906911849976 1.490342583565507e-05\n",
      "targets 0.7450000047683716 0.49000000953674316\n",
      "outputs 0.5609855651855469 1.5289684597519226e-05\n",
      "targets 0.5 0.5658032894134521\n",
      "outputs 0.5609931349754333 1.5578947568428703e-05\n",
      "targets 0.2549999952316284 0.49000000953674316\n",
      "outputs 0.5609831809997559 1.9370057998457924e-05\n",
      "targets 0.2549999952316284 0.49000000953674316\n",
      "outputs 0.560982346534729 2.572745506768115e-05\n",
      "targets 0.5 0.5658032894134521\n",
      "outputs 0.5609829425811768 1.1112150787084829e-05\n",
      "targets 0.5 0.5658032894134521\n",
      "outputs 0.560976505279541 3.179544000886381e-05\n",
      "targets 0.7450000047683716 0.49000000953674316\n",
      "outputs 0.5609708428382874 2.478533315297682e-05\n",
      "targets 0.7450000047683716 0.49000000953674316\n",
      "outputs 0.560951292514801 nan 0.7137\n",
      "targets 0.9900000095367432 nan\n",
      "Valid Step 16/16, valid_loss: 0.6976\n",
      "[Epoch Valid: 8] loss: 0.6976, auc: 0.5622, time: 7.00 s\n",
      "Train Step 60/131, train_loss: 0.7097\r"
     ]
    },
    {
     "data": {
      "application/vnd.jupyter.widget-view+json": {
       "model_id": "bf9ebcdb8f044e5997e4ba0f3042f65b",
       "version_major": 2,
       "version_minor": 0
      },
      "text/plain": [
       "HBox(children=(FloatProgress(value=0.0, max=16.0), HTML(value='')))"
      ]
     },
     "metadata": {},
     "output_type": "display_data"
    },
    {
     "name": "stdout",
     "output_type": "stream",
     "text": [
      "outputs 0.5263308882713318 6.148096872493625e-06\n",
      "targets 0.5 0.5658032894134521\n",
      "outputs 0.5263261198997498 3.5438458780845394e-06\n",
      "targets 0.5 0.5658032894134521\n",
      "outputs 0.5263246297836304 8.585241630498786e-06\n",
      "targets 0.7450000047683716 0.49000000953674316\n",
      "outputs 0.5263423919677734 2.889749794121599e-06\n",
      "targets 0.5 0.5658032894134521\n",
      "outputs 0.5263293981552124 8.925584552343935e-06\n",
      "targets 0.7450000047683716 0.49000000953674316\n",
      "outputs 0.5263426303863525 9.372471140522975e-06\n",
      "targets 0.2549999952316284 0.49000000953674316\n",
      "outputs 0.526322066783905 3.169782939949073e-05\n",
      "targets 0.5 0.5658032894134521\n",
      "outputs 0.5263255834579468 2.830122411978664e-06\n",
      "targets 0.7450000047683716 0.49000000953674316\n",
      "outputs 0.5263235569000244 6.401605332939653e-06\n",
      "targets 0.5 0.5658032894134521\n",
      "outputs 0.526339054107666 1.2605666597664822e-05\n",
      "targets 0.2549999952316284 0.49000000953674316\n",
      "outputs 0.526324987411499 9.328904525318649e-06\n",
      "targets 0.2549999952316284 0.49000000953674316\n",
      "outputs 0.5263234376907349 1.0687224857974797e-05\n",
      "targets 0.5 0.5658032894134521\n",
      "outputs 0.5263355374336243 7.623804322065553e-06\n",
      "targets 0.5 0.5658032894134521\n",
      "outputs 0.5263193845748901 2.440221214783378e-05\n",
      "targets 0.7450000047683716 0.49000000953674316\n",
      "outputs 0.5263271331787109 1.9848897863994353e-05\n",
      "targets 0.7450000047683716 0.49000000953674316\n",
      "outputs 0.5263053774833679 nan0.7102\n",
      "targets 0.9900000095367432 nan\n",
      "Valid Step 16/16, valid_loss: 0.6951\n",
      "[Epoch Valid: 8] loss: 0.6951, auc: 0.4632, time: 7.00 s\n",
      "Train Step 63/131, train_loss: 0.7086\r"
     ]
    },
    {
     "data": {
      "application/vnd.jupyter.widget-view+json": {
       "model_id": "d77ec05dc080407bb206c02f80ca099e",
       "version_major": 2,
       "version_minor": 0
      },
      "text/plain": [
       "HBox(children=(FloatProgress(value=0.0, max=16.0), HTML(value='')))"
      ]
     },
     "metadata": {},
     "output_type": "display_data"
    },
    {
     "name": "stdout",
     "output_type": "stream",
     "text": [
      "outputs 0.5235201716423035 5.926242465648102e-06\n",
      "targets 0.5 0.5658032894134521\n",
      "outputs 0.5235263109207153 3.722070232470287e-06\n",
      "targets 0.5 0.5658032894134521\n",
      "outputs 0.5235174894332886 9.95361915556714e-06\n",
      "targets 0.7450000047683716 0.49000000953674316\n",
      "outputs 0.5235286951065063 6.3015295381774195e-06\n",
      "targets 0.5 0.5658032894134521\n",
      "outputs 0.5235260725021362 3.959860350732924e-06\n",
      "targets 0.7450000047683716 0.49000000953674316\n",
      "outputs 0.5235333442687988 1.4103228750173002e-05\n",
      "targets 0.2549999952316284 0.49000000953674316\n",
      "outputs 0.5235158205032349 3.784741784329526e-05\n",
      "targets 0.5 0.5658032894134521\n",
      "outputs 0.5235229134559631 7.004877261351794e-06\n",
      "targets 0.7450000047683716 0.49000000953674316\n",
      "outputs 0.5235205292701721 5.249327386991354e-06\n",
      "targets 0.5 0.5658032894134521\n",
      "outputs 0.5235345959663391 1.5534549675066955e-05\n",
      "targets 0.2549999952316284 0.49000000953674316\n",
      "outputs 0.5235193967819214 9.234424396709073e-06\n",
      "targets 0.2549999952316284 0.49000000953674316\n",
      "outputs 0.5235167145729065 1.9045914086746052e-05\n",
      "targets 0.5 0.5658032894134521\n",
      "outputs 0.5235249996185303 2.34145886679471e-06\n",
      "targets 0.5 0.5658032894134521\n",
      "outputs 0.5235118865966797 2.7684909582603723e-05\n",
      "targets 0.7450000047683716 0.49000000953674316\n",
      "outputs 0.5235170722007751 2.141442928405013e-05\n",
      "targets 0.7450000047683716 0.49000000953674316\n",
      "outputs 0.5234952569007874 nan0.7099\n",
      "targets 0.9900000095367432 nan\n",
      "Valid Step 16/16, valid_loss: 0.6950\n",
      "[Epoch Valid: 8] loss: 0.6950, auc: 0.5817, time: 7.00 s\n",
      "Train Step 66/131, train_loss: 0.7076\r"
     ]
    },
    {
     "data": {
      "application/vnd.jupyter.widget-view+json": {
       "model_id": "281a799d34f44dde8236465e869cef41",
       "version_major": 2,
       "version_minor": 0
      },
      "text/plain": [
       "HBox(children=(FloatProgress(value=0.0, max=16.0), HTML(value='')))"
      ]
     },
     "metadata": {},
     "output_type": "display_data"
    },
    {
     "name": "stdout",
     "output_type": "stream",
     "text": [
      "outputs 0.5303142070770264 8.421463462582324e-06\n",
      "targets 0.5 0.5658032894134521\n",
      "outputs 0.5303356051445007 5.31830210093176e-06\n",
      "targets 0.5 0.5658032894134521\n",
      "outputs 0.5303179621696472 1.4210530935088173e-05\n",
      "targets 0.7450000047683716 0.49000000953674316\n",
      "outputs 0.5303264856338501 1.3516615581465885e-05\n",
      "targets 0.5 0.5658032894134521\n",
      "outputs 0.5303313732147217 4.788013029610738e-06\n",
      "targets 0.7450000047683716 0.49000000953674316\n",
      "outputs 0.530331015586853 2.194025910284836e-05\n",
      "targets 0.2549999952316284 0.49000000953674316\n",
      "outputs 0.5303192734718323 4.253322185832076e-05\n",
      "targets 0.5 0.5658032894134521\n",
      "outputs 0.5303303599357605 1.3665743608726189e-05\n",
      "targets 0.7450000047683716 0.49000000953674316\n",
      "outputs 0.5303248763084412 1.3216224033385515e-05\n",
      "targets 0.5 0.5658032894134521\n",
      "outputs 0.5303380489349365 2.219059933850076e-05\n",
      "targets 0.2549999952316284 0.49000000953674316\n",
      "outputs 0.5303225517272949 1.5698838979005814e-05\n",
      "targets 0.2549999952316284 0.49000000953674316\n",
      "outputs 0.5303230285644531 2.2272566639003344e-05\n",
      "targets 0.5 0.5658032894134521\n",
      "outputs 0.5303206443786621 1.1734195140888914e-05\n",
      "targets 0.5 0.5658032894134521\n",
      "outputs 0.5303144454956055 3.2543779525440186e-05\n",
      "targets 0.7450000047683716 0.49000000953674316\n",
      "outputs 0.5303158164024353 2.6808544134837575e-05\n",
      "targets 0.7450000047683716 0.49000000953674316\n",
      "outputs 0.5302942991256714 nan0.7106\n",
      "targets 0.9900000095367432 nan\n",
      "Valid Step 16/16, valid_loss: 0.6954\n",
      "[Epoch Valid: 8] loss: 0.6954, auc: 0.5979, time: 7.00 s\n",
      "Train Step 69/131, train_loss: 0.7078\r"
     ]
    },
    {
     "data": {
      "application/vnd.jupyter.widget-view+json": {
       "model_id": "1ecc7574853849c486071fd091550e93",
       "version_major": 2,
       "version_minor": 0
      },
      "text/plain": [
       "HBox(children=(FloatProgress(value=0.0, max=16.0), HTML(value='')))"
      ]
     },
     "metadata": {},
     "output_type": "display_data"
    },
    {
     "name": "stdout",
     "output_type": "stream",
     "text": [
      "outputs 0.5221765041351318 8.535265806131065e-06\n",
      "targets 0.5 0.5658032894134521\n",
      "outputs 0.5221951007843018 5.184633209864842e-06\n",
      "targets 0.5 0.5658032894134521\n",
      "outputs 0.5221788883209229 1.3275521268951707e-05\n",
      "targets 0.7450000047683716 0.49000000953674316\n",
      "outputs 0.5221878290176392 1.2487777894421015e-05\n",
      "targets 0.5 0.5658032894134521\n",
      "outputs 0.5221917629241943 3.5237387692177435e-06\n",
      "targets 0.7450000047683716 0.49000000953674316\n",
      "outputs 0.522193431854248 2.1659845515387133e-05\n",
      "targets 0.2549999952316284 0.49000000953674316\n",
      "outputs 0.5221809148788452 4.163630728726275e-05\n",
      "targets 0.5 0.5658032894134521\n",
      "outputs 0.5221899747848511 1.2757134754792787e-05\n",
      "targets 0.7450000047683716 0.49000000953674316\n",
      "outputs 0.522185206413269 1.1783668924181256e-05\n",
      "targets 0.5 0.5658032894134521\n",
      "outputs 0.5221990942955017 2.1469948478625156e-05\n",
      "targets 0.2549999952316284 0.49000000953674316\n",
      "outputs 0.5221827030181885 1.4768747860216536e-05\n",
      "targets 0.2549999952316284 0.49000000953674316\n",
      "outputs 0.5221825242042542 2.1611815100186504e-05\n",
      "targets 0.5 0.5658032894134521\n",
      "outputs 0.5221829414367676 9.874303032120224e-06\n",
      "targets 0.5 0.5658032894134521\n",
      "outputs 0.5221750736236572 3.091525286436081e-05\n",
      "targets 0.7450000047683716 0.49000000953674316\n",
      "outputs 0.5221770405769348 2.650535316206515e-05\n",
      "targets 0.7450000047683716 0.49000000953674316\n",
      "outputs 0.5221541523933411 nan0.7098\n",
      "targets 0.9900000095367432 nan\n",
      "Valid Step 16/16, valid_loss: 0.6949\n",
      "[Epoch Valid: 8] loss: 0.6949, auc: 0.6001, time: 7.00 s\n",
      "Train Step 72/131, train_loss: 0.7070\r"
     ]
    },
    {
     "data": {
      "application/vnd.jupyter.widget-view+json": {
       "model_id": "ecdf7808db914dae954caee43b4b030b",
       "version_major": 2,
       "version_minor": 0
      },
      "text/plain": [
       "HBox(children=(FloatProgress(value=0.0, max=16.0), HTML(value='')))"
      ]
     },
     "metadata": {},
     "output_type": "display_data"
    },
    {
     "name": "stdout",
     "output_type": "stream",
     "text": [
      "outputs 0.5182439088821411 9.115354259847663e-06\n",
      "targets 0.5 0.5658032894134521\n",
      "outputs 0.5182660818099976 6.1709761212114245e-06\n",
      "targets 0.5 0.5658032894134521\n",
      "outputs 0.5182476043701172 1.5295938283088617e-05\n",
      "targets 0.7450000047683716 0.49000000953674316\n",
      "outputs 0.5182536244392395 1.1822898159152828e-05\n",
      "targets 0.5 0.5658032894134521\n",
      "outputs 0.5182613134384155 5.44146087122499e-06\n",
      "targets 0.7450000047683716 0.49000000953674316\n",
      "outputs 0.5182590484619141 2.0379602574394085e-05\n",
      "targets 0.2549999952316284 0.49000000953674316\n",
      "outputs 0.5182486772537231 4.236568202031776e-05\n",
      "targets 0.5 0.5658032894134521\n",
      "outputs 0.51826012134552 1.4516780538542662e-05\n",
      "targets 0.7450000047683716 0.49000000953674316\n",
      "outputs 0.5182552337646484 1.4318788089440204e-05\n",
      "targets 0.5 0.5658032894134521\n",
      "outputs 0.5182661414146423 1.9960527424700558e-05\n",
      "targets 0.2549999952316284 0.49000000953674316\n",
      "outputs 0.5182517766952515 1.8163824279326946e-05\n",
      "targets 0.2549999952316284 0.49000000953674316\n",
      "outputs 0.5182504057884216 2.6296133000869304e-05\n",
      "targets 0.5 0.5658032894134521\n",
      "outputs 0.5182512998580933 1.1882371836691163e-05\n",
      "targets 0.5 0.5658032894134521\n",
      "outputs 0.5182440280914307 3.2233419915428385e-05\n",
      "targets 0.7450000047683716 0.49000000953674316\n",
      "outputs 0.5182434320449829 2.668222805368714e-05\n",
      "targets 0.7450000047683716 0.49000000953674316\n",
      "outputs 0.5182200074195862 nan0.7094\n",
      "targets 0.9900000095367432 nan\n",
      "Valid Step 16/16, valid_loss: 0.6946\n",
      "[Epoch Valid: 8] loss: 0.6946, auc: 0.5703, time: 7.00 s\n",
      "Train Step 75/131, train_loss: 0.7065\r"
     ]
    },
    {
     "data": {
      "application/vnd.jupyter.widget-view+json": {
       "model_id": "33b9ed66c94e4e249bb1b932409c28ab",
       "version_major": 2,
       "version_minor": 0
      },
      "text/plain": [
       "HBox(children=(FloatProgress(value=0.0, max=16.0), HTML(value='')))"
      ]
     },
     "metadata": {},
     "output_type": "display_data"
    },
    {
     "name": "stdout",
     "output_type": "stream",
     "text": [
      "outputs 0.5201228857040405 1.1876814824063331e-05\n",
      "targets 0.5 0.5658032894134521\n",
      "outputs 0.5201576948165894 9.289723493566271e-06\n",
      "targets 0.5 0.5658032894134521\n",
      "outputs 0.5201316475868225 2.1599975298158824e-05\n",
      "targets 0.7450000047683716 0.49000000953674316\n",
      "outputs 0.5201330184936523 1.553512083773967e-05\n",
      "targets 0.5 0.5658032894134521\n",
      "outputs 0.5201491117477417 1.1787135917984415e-05\n",
      "targets 0.7450000047683716 0.49000000953674316\n",
      "outputs 0.5201382637023926 2.3477774448110722e-05\n",
      "targets 0.2549999952316284 0.49000000953674316\n",
      "outputs 0.520133376121521 4.758851355290972e-05\n",
      "targets 0.5 0.5658032894134521\n",
      "outputs 0.5201500058174133 2.055527875199914e-05\n",
      "targets 0.7450000047683716 0.49000000953674316\n",
      "outputs 0.5201429128646851 2.2237605662667193e-05\n",
      "targets 0.5 0.5658032894134521\n",
      "outputs 0.520150363445282 2.2733709556632675e-05\n",
      "targets 0.2549999952316284 0.49000000953674316\n",
      "outputs 0.5201377868652344 2.7342879548086785e-05\n",
      "targets 0.2549999952316284 0.49000000953674316\n",
      "outputs 0.5201375484466553 3.3899083064170554e-05\n",
      "targets 0.5 0.5658032894134521\n",
      "outputs 0.5201321840286255 2.003771260206122e-05\n",
      "targets 0.5 0.5658032894134521\n",
      "outputs 0.520129382610321 3.8775931898271665e-05\n",
      "targets 0.7450000047683716 0.49000000953674316\n",
      "outputs 0.5201241970062256 3.2340285542886704e-05\n",
      "targets 0.7450000047683716 0.49000000953674316\n",
      "outputs 0.5201002955436707 nan0.7096\n",
      "targets 0.9900000095367432 nan\n",
      "Valid Step 16/16, valid_loss: 0.6947\n",
      "[Epoch Valid: 8] loss: 0.6947, auc: 0.5660, time: 7.00 s\n",
      "Train Step 78/131, train_loss: 0.7058\r"
     ]
    },
    {
     "data": {
      "application/vnd.jupyter.widget-view+json": {
       "model_id": "4a27955c35f9411d8ed327cb91ed5ac1",
       "version_major": 2,
       "version_minor": 0
      },
      "text/plain": [
       "HBox(children=(FloatProgress(value=0.0, max=16.0), HTML(value='')))"
      ]
     },
     "metadata": {},
     "output_type": "display_data"
    },
    {
     "name": "stdout",
     "output_type": "stream",
     "text": [
      "outputs 0.5227649807929993 1.3843940905644558e-05\n",
      "targets 0.5 0.5658032894134521\n",
      "outputs 0.5228086709976196 1.1450712918303907e-05\n",
      "targets 0.5 0.5658032894134521\n",
      "outputs 0.5227779150009155 2.5516066671116278e-05\n",
      "targets 0.7450000047683716 0.49000000953674316\n",
      "outputs 0.522777259349823 1.90086957445601e-05\n",
      "targets 0.5 0.5658032894134521\n",
      "outputs 0.5227974653244019 1.645242991799023e-05\n",
      "targets 0.7450000047683716 0.49000000953674316\n",
      "outputs 0.5227817893028259 2.6667421479942277e-05\n",
      "targets 0.2549999952316284 0.49000000953674316\n",
      "outputs 0.522780179977417 5.0632206693990156e-05\n",
      "targets 0.5 0.5658032894134521\n",
      "outputs 0.522800087928772 2.4599827156635e-05\n",
      "targets 0.7450000047683716 0.49000000953674316\n",
      "outputs 0.5227911472320557 2.7873686121893115e-05\n",
      "targets 0.5 0.5658032894134521\n",
      "outputs 0.5227971076965332 2.562404733907897e-05\n",
      "targets 0.2549999952316284 0.49000000953674316\n",
      "outputs 0.5227852463722229 3.322064003441483e-05\n",
      "targets 0.2549999952316284 0.49000000953674316\n",
      "outputs 0.5227868556976318 3.692167956614867e-05\n",
      "targets 0.5 0.5658032894134521\n",
      "outputs 0.5227755904197693 2.5757299226825126e-05\n",
      "targets 0.5 0.5658032894134521\n",
      "outputs 0.52277672290802 4.31770968134515e-05\n",
      "targets 0.7450000047683716 0.49000000953674316\n",
      "outputs 0.522769033908844 3.653458406915888e-05\n",
      "targets 0.7450000047683716 0.49000000953674316\n",
      "outputs 0.5227451324462891 nan0.7098\n",
      "targets 0.9900000095367432 nan\n",
      "Valid Step 16/16, valid_loss: 0.6949\n",
      "[Epoch Valid: 8] loss: 0.6949, auc: 0.5763, time: 7.00 s\n",
      "Train Step 81/131, train_loss: 0.7059\r"
     ]
    },
    {
     "data": {
      "application/vnd.jupyter.widget-view+json": {
       "model_id": "c1df55be4b13496db350758dca89178b",
       "version_major": 2,
       "version_minor": 0
      },
      "text/plain": [
       "HBox(children=(FloatProgress(value=0.0, max=16.0), HTML(value='')))"
      ]
     },
     "metadata": {},
     "output_type": "display_data"
    },
    {
     "name": "stdout",
     "output_type": "stream",
     "text": [
      "outputs 0.5172066688537598 1.5362338672275655e-05\n",
      "targets 0.5 0.5658032894134521\n",
      "outputs 0.5172584652900696 1.3778731954516843e-05\n",
      "targets 0.5 0.5658032894134521\n",
      "outputs 0.5172227621078491 2.9886821721447632e-05\n",
      "targets 0.7450000047683716 0.49000000953674316\n",
      "outputs 0.5172186493873596 2.0269801098038442e-05\n",
      "targets 0.5 0.5658032894134521\n",
      "outputs 0.5172446966171265 2.0823415979975834e-05\n",
      "targets 0.7450000047683716 0.49000000953674316\n",
      "outputs 0.51722252368927 2.7581541871768422e-05\n",
      "targets 0.2549999952316284 0.49000000953674316\n",
      "outputs 0.5172246694564819 5.5011238146107644e-05\n",
      "targets 0.5 0.5658032894134521\n",
      "outputs 0.5172486305236816 2.848018084478099e-05\n",
      "targets 0.7450000047683716 0.49000000953674316\n",
      "outputs 0.5172384977340698 3.29944487020839e-05\n",
      "targets 0.5 0.5658032894134521\n",
      "outputs 0.5172414779663086 2.6684481781558134e-05\n",
      "targets 0.2549999952316284 0.49000000953674316\n",
      "outputs 0.5172312259674072 3.967191878473386e-05\n",
      "targets 0.2549999952316284 0.49000000953674316\n",
      "outputs 0.5172324180603027 4.402089325594716e-05\n",
      "targets 0.5 0.5658032894134521\n",
      "outputs 0.517218828201294 3.068297155550681e-05\n",
      "targets 0.5 0.5658032894134521\n",
      "outputs 0.5172221660614014 4.818247543880716e-05\n",
      "targets 0.7450000047683716 0.49000000953674316\n",
      "outputs 0.5172109603881836 4.1051396692637354e-05\n",
      "targets 0.7450000047683716 0.49000000953674316\n",
      "outputs 0.5171858072280884 nan0.7093\n",
      "targets 0.9900000095367432 nan\n",
      "Valid Step 16/16, valid_loss: 0.6945\n",
      "[Epoch Valid: 8] loss: 0.6945, auc: 0.6017, time: 7.00 s\n",
      "Train Step 84/131, train_loss: 0.7048\r"
     ]
    },
    {
     "data": {
      "application/vnd.jupyter.widget-view+json": {
       "model_id": "2747427fddce4e90ab575e298373b370",
       "version_major": 2,
       "version_minor": 0
      },
      "text/plain": [
       "HBox(children=(FloatProgress(value=0.0, max=16.0), HTML(value='')))"
      ]
     },
     "metadata": {},
     "output_type": "display_data"
    },
    {
     "name": "stdout",
     "output_type": "stream",
     "text": [
      "outputs 0.5294356942176819 1.7690601453068666e-05\n",
      "targets 0.5 0.5658032894134521\n",
      "outputs 0.5294855833053589 1.4312935491034295e-05\n",
      "targets 0.5 0.5658032894134521\n",
      "outputs 0.5294517278671265 3.0026170861674473e-05\n",
      "targets 0.7450000047683716 0.49000000953674316\n",
      "outputs 0.5294458866119385 1.880535091913771e-05\n",
      "targets 0.5 0.5658032894134521\n",
      "outputs 0.5294723510742188 2.0765226508956403e-05\n",
      "targets 0.7450000047683716 0.49000000953674316\n",
      "outputs 0.529448926448822 2.5915947844623588e-05\n",
      "targets 0.2549999952316284 0.49000000953674316\n",
      "outputs 0.5294516682624817 5.311431596055627e-05\n",
      "targets 0.5 0.5658032894134521\n",
      "outputs 0.5294763445854187 2.800067341013346e-05\n",
      "targets 0.7450000047683716 0.49000000953674316\n",
      "outputs 0.5294663906097412 3.3327331038890406e-05\n",
      "targets 0.5 0.5658032894134521\n",
      "outputs 0.5294667482376099 2.370009860896971e-05\n",
      "targets 0.2549999952316284 0.49000000953674316\n",
      "outputs 0.5294595956802368 3.9883852878119797e-05\n",
      "targets 0.2549999952316284 0.49000000953674316\n",
      "outputs 0.5294590592384338 4.539021756500006e-05\n",
      "targets 0.5 0.5658032894134521\n",
      "outputs 0.5294474363327026 2.9805094527546316e-05\n",
      "targets 0.5 0.5658032894134521\n",
      "outputs 0.5294501185417175 4.722389712696895e-05\n",
      "targets 0.7450000047683716 0.49000000953674316\n",
      "outputs 0.5294381380081177 3.955585998483002e-05\n",
      "targets 0.7450000047683716 0.49000000953674316\n",
      "outputs 0.5294145345687866 nan0.7105\n",
      "targets 0.9900000095367432 nan\n",
      "Valid Step 16/16, valid_loss: 0.6954\n",
      "[Epoch Valid: 8] loss: 0.6954, auc: 0.6104, time: 7.00 s\n",
      "Train Step 87/131, train_loss: 0.7045\r"
     ]
    },
    {
     "data": {
      "application/vnd.jupyter.widget-view+json": {
       "model_id": "57d5bb9852884cd5b6f111b6146f8bb2",
       "version_major": 2,
       "version_minor": 0
      },
      "text/plain": [
       "HBox(children=(FloatProgress(value=0.0, max=16.0), HTML(value='')))"
      ]
     },
     "metadata": {},
     "output_type": "display_data"
    },
    {
     "name": "stdout",
     "output_type": "stream",
     "text": [
      "outputs 0.541599690914154 1.8519627701607533e-05\n",
      "targets 0.5 0.5658032894134521\n",
      "outputs 0.5416494011878967 1.473645716032479e-05\n",
      "targets 0.5 0.5658032894134521\n",
      "outputs 0.5416165590286255 3.0071218134253286e-05\n",
      "targets 0.7450000047683716 0.49000000953674316\n",
      "outputs 0.5416066646575928 1.613251879462041e-05\n",
      "targets 0.5 0.5658032894134521\n",
      "outputs 0.5416358113288879 2.121167563018389e-05\n",
      "targets 0.7450000047683716 0.49000000953674316\n",
      "outputs 0.5416080951690674 2.338558988412842e-05\n",
      "targets 0.2549999952316284 0.49000000953674316\n",
      "outputs 0.5416138768196106 5.1482969865901396e-05\n",
      "targets 0.5 0.5658032894134521\n",
      "outputs 0.5416396856307983 2.7749243599828333e-05\n",
      "targets 0.7450000047683716 0.49000000953674316\n",
      "outputs 0.5416304469108582 3.4064614737872034e-05\n",
      "targets 0.5 0.5658032894134521\n",
      "outputs 0.5416264533996582 2.0316982045187615e-05\n",
      "targets 0.2549999952316284 0.49000000953674316\n",
      "outputs 0.5416239500045776 4.054780220030807e-05\n",
      "targets 0.2549999952316284 0.49000000953674316\n",
      "outputs 0.5416210889816284 4.831672413274646e-05\n",
      "targets 0.5 0.5658032894134521\n",
      "outputs 0.5416108965873718 2.974305607494898e-05\n",
      "targets 0.5 0.5658032894134521\n",
      "outputs 0.5416133403778076 4.68118378194049e-05\n",
      "targets 0.7450000047683716 0.49000000953674316\n",
      "outputs 0.5416008830070496 3.892319364240393e-05\n",
      "targets 0.7450000047683716 0.49000000953674316\n",
      "outputs 0.5415790677070618 nan0.7117\n",
      "targets 0.9900000095367432 nan\n",
      "Valid Step 16/16, valid_loss: 0.6962\n",
      "[Epoch Valid: 8] loss: 0.6962, auc: 0.6180, time: 7.00 s\n",
      "Train Step 90/131, train_loss: 0.7037\r"
     ]
    },
    {
     "data": {
      "application/vnd.jupyter.widget-view+json": {
       "model_id": "953a351cd945494fa055359d3617013a",
       "version_major": 2,
       "version_minor": 0
      },
      "text/plain": [
       "HBox(children=(FloatProgress(value=0.0, max=16.0), HTML(value='')))"
      ]
     },
     "metadata": {},
     "output_type": "display_data"
    },
    {
     "name": "stdout",
     "output_type": "stream",
     "text": [
      "outputs 0.5553053617477417 2.2923715732758865e-05\n",
      "targets 0.5 0.5658032894134521\n",
      "outputs 0.5553673505783081 1.895752575364895e-05\n",
      "targets 0.5 0.5658032894134521\n",
      "outputs 0.5553276538848877 3.727226430783048e-05\n",
      "targets 0.7450000047683716 0.49000000953674316\n",
      "outputs 0.5553123950958252 1.8343211195315234e-05\n",
      "targets 0.5 0.5658032894134521\n",
      "outputs 0.5553503036499023 2.83823592326371e-05\n",
      "targets 0.7450000047683716 0.49000000953674316\n",
      "outputs 0.5553120970726013 2.3503511329181492e-05\n",
      "targets 0.2549999952316284 0.49000000953674316\n",
      "outputs 0.5553230047225952 5.716255691368133e-05\n",
      "targets 0.5 0.5658032894134521\n",
      "outputs 0.5553566217422485 3.3080767025239766e-05\n",
      "targets 0.7450000047683716 0.49000000953674316\n",
      "outputs 0.5553451776504517 4.196273584966548e-05\n",
      "targets 0.5 0.5658032894134521\n",
      "outputs 0.5553356409072876 2.12565155379707e-05\n",
      "targets 0.2549999952316284 0.49000000953674316\n",
      "outputs 0.5553368330001831 5.0850550906034186e-05\n",
      "targets 0.2549999952316284 0.49000000953674316\n",
      "outputs 0.5553337335586548 5.839263030793518e-05\n",
      "targets 0.5 0.5658032894134521\n",
      "outputs 0.5553194284439087 3.735107384272851e-05\n",
      "targets 0.5 0.5658032894134521\n",
      "outputs 0.5553258061408997 5.4322939831763506e-05\n",
      "targets 0.7450000047683716 0.49000000953674316\n",
      "outputs 0.5553079843521118 4.546444324660115e-05\n",
      "targets 0.7450000047683716 0.49000000953674316\n",
      "outputs 0.5552858114242554 nan0.7131\n",
      "targets 0.9900000095367432 nan\n",
      "Valid Step 16/16, valid_loss: 0.6972\n",
      "[Epoch Valid: 8] loss: 0.6972, auc: 0.6158, time: 7.00 s\n",
      "Train Step 93/131, train_loss: 0.7024\r"
     ]
    },
    {
     "data": {
      "application/vnd.jupyter.widget-view+json": {
       "model_id": "4a5665194b7c4d418ea96ac15a9473d8",
       "version_major": 2,
       "version_minor": 0
      },
      "text/plain": [
       "HBox(children=(FloatProgress(value=0.0, max=16.0), HTML(value='')))"
      ]
     },
     "metadata": {},
     "output_type": "display_data"
    },
    {
     "name": "stdout",
     "output_type": "stream",
     "text": [
      "outputs 0.5748195648193359 2.36901414609747e-05\n",
      "targets 0.5 0.5658032894134521\n",
      "outputs 0.5749033689498901 2.3198103008326143e-05\n",
      "targets 0.5 0.5658032894134521\n",
      "outputs 0.5748511552810669 4.808181620319374e-05\n",
      "targets 0.7450000047683716 0.49000000953674316\n",
      "outputs 0.5748277306556702 2.289483200001996e-05\n",
      "targets 0.5 0.5658032894134521\n",
      "outputs 0.5748789310455322 4.057345722685568e-05\n",
      "targets 0.7450000047683716 0.49000000953674316\n",
      "outputs 0.574827253818512 2.7297593987896107e-05\n",
      "targets 0.2549999952316284 0.49000000953674316\n",
      "outputs 0.5748485922813416 6.430171197280288e-05\n",
      "targets 0.5 0.5658032894134521\n",
      "outputs 0.5748904943466187 4.094533869647421e-05\n",
      "targets 0.7450000047683716 0.49000000953674316\n",
      "outputs 0.5748748779296875 5.401332600740716e-05\n",
      "targets 0.5 0.5658032894134521\n",
      "outputs 0.5748605728149414 2.873662015190348e-05\n",
      "targets 0.2549999952316284 0.49000000953674316\n",
      "outputs 0.5748643279075623 6.53403258183971e-05\n",
      "targets 0.2549999952316284 0.49000000953674316\n",
      "outputs 0.5748647451400757 6.71200905344449e-05\n",
      "targets 0.5 0.5658032894134521\n",
      "outputs 0.5748356580734253 5.1106235332554206e-05\n",
      "targets 0.5 0.5658032894134521\n",
      "outputs 0.5748527646064758 6.649567512795329e-05\n",
      "targets 0.7450000047683716 0.49000000953674316\n",
      "outputs 0.5748307704925537 5.505920125870034e-05\n",
      "targets 0.7450000047683716 0.49000000953674316\n",
      "outputs 0.5748061537742615 nan0.7151\n",
      "targets 0.9900000095367432 nan\n",
      "Valid Step 16/16, valid_loss: 0.6987\n",
      "[Epoch Valid: 8] loss: 0.6987, auc: 0.6261, time: 7.00 s\n",
      "Train Step 96/131, train_loss: 0.7008\r"
     ]
    },
    {
     "data": {
      "application/vnd.jupyter.widget-view+json": {
       "model_id": "dbec1e5d57734fdb9788104c03a2a1a2",
       "version_major": 2,
       "version_minor": 0
      },
      "text/plain": [
       "HBox(children=(FloatProgress(value=0.0, max=16.0), HTML(value='')))"
      ]
     },
     "metadata": {},
     "output_type": "display_data"
    },
    {
     "name": "stdout",
     "output_type": "stream",
     "text": [
      "outputs 0.5968042612075806 2.3753565983497538e-05\n",
      "targets 0.5 0.5658032894134521\n",
      "outputs 0.5968950986862183 2.5029621610883623e-05\n",
      "targets 0.5 0.5658032894134521\n",
      "outputs 0.5968383550643921 5.1805927796522155e-05\n",
      "targets 0.7450000047683716 0.49000000953674316\n",
      "outputs 0.5968127250671387 2.474570464983117e-05\n",
      "targets 0.5 0.5658032894134521\n",
      "outputs 0.5968673229217529 4.611149415723048e-05\n",
      "targets 0.7450000047683716 0.49000000953674316\n",
      "outputs 0.5968104004859924 2.679375211300794e-05\n",
      "targets 0.2549999952316284 0.49000000953674316\n",
      "outputs 0.5968347787857056 6.701068923575804e-05\n",
      "targets 0.5 0.5658032894134521\n",
      "outputs 0.5968806743621826 4.4087282731197774e-05\n",
      "targets 0.7450000047683716 0.49000000953674316\n",
      "outputs 0.5968645811080933 5.811446681036614e-05\n",
      "targets 0.5 0.5658032894134521\n",
      "outputs 0.5968471765518188 3.0385373975150287e-05\n",
      "targets 0.2549999952316284 0.49000000953674316\n",
      "outputs 0.5968530178070068 7.046967220958322e-05\n",
      "targets 0.2549999952316284 0.49000000953674316\n",
      "outputs 0.596854567527771 7.00908713042736e-05\n",
      "targets 0.5 0.5658032894134521\n",
      "outputs 0.5968198776245117 5.629092629533261e-05\n",
      "targets 0.5 0.5658032894134521\n",
      "outputs 0.5968421697616577 6.959354504942894e-05\n",
      "targets 0.7450000047683716 0.49000000953674316\n",
      "outputs 0.5968149304389954 5.9413294366095215e-05\n",
      "targets 0.7450000047683716 0.49000000953674316\n",
      "outputs 0.5967957973480225 nan0.7175\n",
      "targets 0.9900000095367432 nan\n",
      "Valid Step 16/16, valid_loss: 0.7005\n",
      "[Epoch Valid: 8] loss: 0.7005, auc: 0.6320, time: 7.00 s\n",
      "Train Step 99/131, train_loss: 0.7021\r"
     ]
    },
    {
     "data": {
      "application/vnd.jupyter.widget-view+json": {
       "model_id": "9570ced62f8e4851bff433c0e978b102",
       "version_major": 2,
       "version_minor": 0
      },
      "text/plain": [
       "HBox(children=(FloatProgress(value=0.0, max=16.0), HTML(value='')))"
      ]
     },
     "metadata": {},
     "output_type": "display_data"
    },
    {
     "name": "stdout",
     "output_type": "stream",
     "text": [
      "outputs 0.5987393856048584 2.163610224670265e-05\n",
      "targets 0.5 0.5658032894134521\n",
      "outputs 0.5988314151763916 2.44598832068732e-05\n",
      "targets 0.5 0.5658032894134521\n",
      "outputs 0.5987741947174072 5.146221519680694e-05\n",
      "targets 0.7450000047683716 0.49000000953674316\n",
      "outputs 0.5987482666969299 2.5579318389645778e-05\n",
      "targets 0.5 0.5658032894134521\n",
      "outputs 0.598802924156189 4.715605973615311e-05\n",
      "targets 0.7450000047683716 0.49000000953674316\n",
      "outputs 0.5987471342086792 2.5975979951908812e-05\n",
      "targets 0.2549999952316284 0.49000000953674316\n",
      "outputs 0.598772406578064 6.507211219286546e-05\n",
      "targets 0.5 0.5658032894134521\n",
      "outputs 0.5988166332244873 4.422846177476458e-05\n",
      "targets 0.7450000047683716 0.49000000953674316\n",
      "outputs 0.5988009572029114 5.761477950727567e-05\n",
      "targets 0.5 0.5658032894134521\n",
      "outputs 0.598784327507019 3.174123048665933e-05\n",
      "targets 0.2549999952316284 0.49000000953674316\n",
      "outputs 0.5987892150878906 6.996896263444796e-05\n",
      "targets 0.2549999952316284 0.49000000953674316\n",
      "outputs 0.5987935066223145 6.53328825137578e-05\n",
      "targets 0.5 0.5658032894134521\n",
      "outputs 0.5987546443939209 5.7019569794647396e-05\n",
      "targets 0.5 0.5658032894134521\n",
      "outputs 0.5987790822982788 6.921905878698453e-05\n",
      "targets 0.7450000047683716 0.49000000953674316\n",
      "outputs 0.5987528562545776 5.7999001001007855e-05\n",
      "targets 0.7450000047683716 0.49000000953674316\n",
      "outputs 0.5987362861633301 nan0.7177\n",
      "targets 0.9900000095367432 nan\n",
      "Valid Step 16/16, valid_loss: 0.7006\n",
      "[Epoch Valid: 8] loss: 0.7006, auc: 0.6364, time: 7.00 s\n",
      "Train Step 102/131, train_loss: 0.7006\r"
     ]
    },
    {
     "data": {
      "application/vnd.jupyter.widget-view+json": {
       "model_id": "789b067905394e86b8c506728688cdfd",
       "version_major": 2,
       "version_minor": 0
      },
      "text/plain": [
       "HBox(children=(FloatProgress(value=0.0, max=16.0), HTML(value='')))"
      ]
     },
     "metadata": {},
     "output_type": "display_data"
    },
    {
     "name": "stdout",
     "output_type": "stream",
     "text": [
      "outputs 0.6072624921798706 2.1448411644087173e-05\n",
      "targets 0.5 0.5658032894134521\n",
      "outputs 0.6073572635650635 2.4964067051769234e-05\n",
      "targets 0.5 0.5658032894134521\n",
      "outputs 0.6072983741760254 5.267824963084422e-05\n",
      "targets 0.7450000047683716 0.49000000953674316\n",
      "outputs 0.6072707772254944 2.6179775886703283e-05\n",
      "targets 0.5 0.5658032894134521\n",
      "outputs 0.6073274612426758 4.907335096504539e-05\n",
      "targets 0.7450000047683716 0.49000000953674316\n",
      "outputs 0.6072697639465332 2.5751805878826417e-05\n",
      "targets 0.2549999952316284 0.49000000953674316\n",
      "outputs 0.6072972416877747 6.473153916886076e-05\n",
      "targets 0.5 0.5658032894134521\n",
      "outputs 0.6073418855667114 4.51991509180516e-05\n",
      "targets 0.7450000047683716 0.49000000953674316\n",
      "outputs 0.6073260307312012 5.903289275011048e-05\n",
      "targets 0.5 0.5658032894134521\n",
      "outputs 0.6073085069656372 3.228619971196167e-05\n",
      "targets 0.2549999952316284 0.49000000953674316\n",
      "outputs 0.6073138117790222 7.189108146121725e-05\n",
      "targets 0.2549999952316284 0.49000000953674316\n",
      "outputs 0.6073186993598938 6.609549018321559e-05\n",
      "targets 0.5 0.5658032894134521\n",
      "outputs 0.6072777509689331 5.8777084632311016e-05\n",
      "targets 0.5 0.5658032894134521\n",
      "outputs 0.6073042750358582 7.002667553024366e-05\n",
      "targets 0.7450000047683716 0.49000000953674316\n",
      "outputs 0.6072763800621033 5.9196812799200416e-05\n",
      "targets 0.7450000047683716 0.49000000953674316\n",
      "outputs 0.6072614192962646 nan0.7187\n",
      "targets 0.9900000095367432 nan\n",
      "Valid Step 16/16, valid_loss: 0.7014\n",
      "[Epoch Valid: 8] loss: 0.7014, auc: 0.6418, time: 7.00 s\n",
      "Train Step 105/131, train_loss: 0.6990\r"
     ]
    },
    {
     "data": {
      "application/vnd.jupyter.widget-view+json": {
       "model_id": "4139d6b1f8ff49cd9f81ba791dac44a9",
       "version_major": 2,
       "version_minor": 0
      },
      "text/plain": [
       "HBox(children=(FloatProgress(value=0.0, max=16.0), HTML(value='')))"
      ]
     },
     "metadata": {},
     "output_type": "display_data"
    },
    {
     "name": "stdout",
     "output_type": "stream",
     "text": [
      "outputs 0.6164144277572632 2.185455377912149e-05\n",
      "targets 0.5 0.5658032894134521\n",
      "outputs 0.6165117621421814 2.5522969735902734e-05\n",
      "targets 0.5 0.5658032894134521\n",
      "outputs 0.6164519786834717 5.3963784012012184e-05\n",
      "targets 0.7450000047683716 0.49000000953674316\n",
      "outputs 0.6164216995239258 2.6111301849596202e-05\n",
      "targets 0.5 0.5658032894134521\n",
      "outputs 0.6164807081222534 5.117629552842118e-05\n",
      "targets 0.7450000047683716 0.49000000953674316\n",
      "outputs 0.6164201498031616 2.4974204279715195e-05\n",
      "targets 0.2549999952316284 0.49000000953674316\n",
      "outputs 0.6164497137069702 6.490509258583188e-05\n",
      "targets 0.5 0.5658032894134521\n",
      "outputs 0.6164959669113159 4.5965396566316485e-05\n",
      "targets 0.7450000047683716 0.49000000953674316\n",
      "outputs 0.616479754447937 6.0877049691043794e-05\n",
      "targets 0.5 0.5658032894134521\n",
      "outputs 0.6164605617523193 3.2159041438717395e-05\n",
      "targets 0.2549999952316284 0.49000000953674316\n",
      "outputs 0.616467297077179 7.403687050100416e-05\n",
      "targets 0.2549999952316284 0.49000000953674316\n",
      "outputs 0.6164717078208923 6.844670133432373e-05\n",
      "targets 0.5 0.5658032894134521\n",
      "outputs 0.6164295673370361 6.073725671740249e-05\n",
      "targets 0.5 0.5658032894134521\n",
      "outputs 0.6164580583572388 7.083630043780431e-05\n",
      "targets 0.7450000047683716 0.49000000953674316\n",
      "outputs 0.6164283156394958 6.062009197194129e-05\n",
      "targets 0.7450000047683716 0.49000000953674316\n",
      "outputs 0.6164153814315796 nan0.7198\n",
      "targets 0.9900000095367432 nan\n",
      "Valid Step 16/16, valid_loss: 0.7022\n",
      "[Epoch Valid: 8] loss: 0.7022, auc: 0.6407, time: 7.00 s\n",
      "Train Step 108/131, train_loss: 0.6974\r"
     ]
    },
    {
     "data": {
      "application/vnd.jupyter.widget-view+json": {
       "model_id": "042175b0ffc74daf8db670db22c83e9c",
       "version_major": 2,
       "version_minor": 0
      },
      "text/plain": [
       "HBox(children=(FloatProgress(value=0.0, max=16.0), HTML(value='')))"
      ]
     },
     "metadata": {},
     "output_type": "display_data"
    },
    {
     "name": "stdout",
     "output_type": "stream",
     "text": [
      "outputs 0.6234176754951477 2.332111216674093e-05\n",
      "targets 0.5 0.5658032894134521\n",
      "outputs 0.6235216856002808 2.7588754164753482e-05\n",
      "targets 0.5 0.5658032894134521\n",
      "outputs 0.6234583258628845 5.770617281086743e-05\n",
      "targets 0.7450000047683716 0.49000000953674316\n",
      "outputs 0.6234237551689148 2.58788641076535e-05\n",
      "targets 0.5 0.5658032894134521\n",
      "outputs 0.6234883069992065 5.544595842366107e-05\n",
      "targets 0.7450000047683716 0.49000000953674316\n",
      "outputs 0.6234208345413208 2.4311913875862956e-05\n",
      "targets 0.2549999952316284 0.49000000953674316\n",
      "outputs 0.6234540343284607 6.822626164648682e-05\n",
      "targets 0.5 0.5658032894134521\n",
      "outputs 0.623505175113678 4.817364606424235e-05\n",
      "targets 0.7450000047683716 0.49000000953674316\n",
      "outputs 0.6234879493713379 6.508722435683012e-05\n",
      "targets 0.5 0.5658032894134521\n",
      "outputs 0.623464822769165 3.255506817367859e-05\n",
      "targets 0.2549999952316284 0.49000000953674316\n",
      "outputs 0.6234747171401978 7.919416384538636e-05\n",
      "targets 0.2549999952316284 0.49000000953674316\n",
      "outputs 0.6234771609306335 7.602969708386809e-05\n",
      "targets 0.5 0.5658032894134521\n",
      "outputs 0.6234335899353027 6.514730921480805e-05\n",
      "targets 0.5 0.5658032894134521\n",
      "outputs 0.6234649419784546 7.451989949913695e-05\n",
      "targets 0.7450000047683716 0.49000000953674316\n",
      "outputs 0.6234320998191833 6.510329694719985e-05\n",
      "targets 0.7450000047683716 0.49000000953674316\n",
      "outputs 0.6234199404716492 nan0.7206\n",
      "targets 0.9900000095367432 nan\n",
      "Valid Step 16/16, valid_loss: 0.7028\n",
      "[Epoch Valid: 8] loss: 0.7028, auc: 0.6358, time: 7.00 s\n",
      "Train Step 111/131, train_loss: 0.6959\r"
     ]
    },
    {
     "data": {
      "application/vnd.jupyter.widget-view+json": {
       "model_id": "6bbf420b04eb4703a90817132a37cf0b",
       "version_major": 2,
       "version_minor": 0
      },
      "text/plain": [
       "HBox(children=(FloatProgress(value=0.0, max=16.0), HTML(value='')))"
      ]
     },
     "metadata": {},
     "output_type": "display_data"
    },
    {
     "name": "stdout",
     "output_type": "stream",
     "text": [
      "outputs 0.6383519172668457 2.8703530915663578e-05\n",
      "targets 0.5 0.5658032894134521\n",
      "outputs 0.638458788394928 3.069267768296413e-05\n",
      "targets 0.5 0.5658032894134521\n",
      "outputs 0.6383951306343079 6.065567140467465e-05\n",
      "targets 0.7450000047683716 0.49000000953674316\n",
      "outputs 0.6383562088012695 2.521889291529078e-05\n",
      "targets 0.5 0.5658032894134521\n",
      "outputs 0.6384245157241821 5.8103774790652096e-05\n",
      "targets 0.7450000047683716 0.49000000953674316\n",
      "outputs 0.6383509635925293 2.274749567732215e-05\n",
      "targets 0.2549999952316284 0.49000000953674316\n",
      "outputs 0.638386607170105 6.964857311686501e-05\n",
      "targets 0.5 0.5658032894134521\n",
      "outputs 0.6384423971176147 4.94076193717774e-05\n",
      "targets 0.7450000047683716 0.49000000953674316\n",
      "outputs 0.6384246349334717 6.879297870909795e-05\n",
      "targets 0.5 0.5658032894134521\n",
      "outputs 0.6383954286575317 2.998695163114462e-05\n",
      "targets 0.2549999952316284 0.49000000953674316\n",
      "outputs 0.6384114027023315 8.342442743014544e-05\n",
      "targets 0.2549999952316284 0.49000000953674316\n",
      "outputs 0.6384105086326599 8.264924690593034e-05\n",
      "targets 0.5 0.5658032894134521\n",
      "outputs 0.6383692622184753 6.72638343530707e-05\n",
      "targets 0.5 0.5658032894134521\n",
      "outputs 0.6384011507034302 7.6002768764738e-05\n",
      "targets 0.7450000047683716 0.49000000953674316\n",
      "outputs 0.6383640766143799 6.935358396731317e-05\n",
      "targets 0.7450000047683716 0.49000000953674316\n",
      "outputs 0.6383537650108337 nan0.7224\n",
      "targets 0.9900000095367432 nan\n",
      "Valid Step 16/16, valid_loss: 0.7041\n",
      "[Epoch Valid: 8] loss: 0.7041, auc: 0.6277, time: 7.00 s\n",
      "Train Step 114/131, train_loss: 0.6982\r"
     ]
    },
    {
     "data": {
      "application/vnd.jupyter.widget-view+json": {
       "model_id": "d466d249e51a43f28292341cd26e74ff",
       "version_major": 2,
       "version_minor": 0
      },
      "text/plain": [
       "HBox(children=(FloatProgress(value=0.0, max=16.0), HTML(value='')))"
      ]
     },
     "metadata": {},
     "output_type": "display_data"
    },
    {
     "name": "stdout",
     "output_type": "stream",
     "text": [
      "outputs 0.6383970975875854 2.875093741749879e-05\n",
      "targets 0.5 0.5658032894134521\n",
      "outputs 0.6385025978088379 3.086816650466062e-05\n",
      "targets 0.5 0.5658032894134521\n",
      "outputs 0.6384402513504028 6.013144229655154e-05\n",
      "targets 0.7450000047683716 0.49000000953674316\n",
      "outputs 0.6383998394012451 2.3572638383484446e-05\n",
      "targets 0.5 0.5658032894134521\n",
      "outputs 0.6384687423706055 5.777615660917945e-05\n",
      "targets 0.7450000047683716 0.49000000953674316\n",
      "outputs 0.6383939385414124 2.1746058337157592e-05\n",
      "targets 0.2549999952316284 0.49000000953674316\n",
      "outputs 0.6384307146072388 6.842735456302762e-05\n",
      "targets 0.5 0.5658032894134521\n",
      "outputs 0.6384868025779724 4.8212365072686225e-05\n",
      "targets 0.7450000047683716 0.49000000953674316\n",
      "outputs 0.6384693384170532 6.798451795475557e-05\n",
      "targets 0.5 0.5658032894134521\n",
      "outputs 0.6384381055831909 2.8358137569739483e-05\n",
      "targets 0.2549999952316284 0.49000000953674316\n",
      "outputs 0.6384562253952026 8.26525065349415e-05\n",
      "targets 0.2549999952316284 0.49000000953674316\n",
      "outputs 0.6384532451629639 8.469348540529609e-05\n",
      "targets 0.5 0.5658032894134521\n",
      "outputs 0.6384141445159912 6.653765012742952e-05\n",
      "targets 0.5 0.5658032894134521\n",
      "outputs 0.6384455561637878 7.487686525564641e-05\n",
      "targets 0.7450000047683716 0.49000000953674316\n",
      "outputs 0.638408899307251 6.916223355801776e-05\n",
      "targets 0.7450000047683716 0.49000000953674316\n",
      "outputs 0.638398289680481 nan 0.7224\n",
      "targets 0.9900000095367432 nan\n",
      "Valid Step 16/16, valid_loss: 0.7041\n",
      "[Epoch Valid: 8] loss: 0.7041, auc: 0.6266, time: 7.00 s\n",
      "Train Step 117/131, train_loss: 0.7024\r"
     ]
    },
    {
     "data": {
      "application/vnd.jupyter.widget-view+json": {
       "model_id": "9758dc8eb50c472f8a0dca362666dc6b",
       "version_major": 2,
       "version_minor": 0
      },
      "text/plain": [
       "HBox(children=(FloatProgress(value=0.0, max=16.0), HTML(value='')))"
      ]
     },
     "metadata": {},
     "output_type": "display_data"
    },
    {
     "name": "stdout",
     "output_type": "stream",
     "text": [
      "outputs 0.6154646873474121 2.11341684916988e-05\n",
      "targets 0.5 0.5658032894134521\n",
      "outputs 0.6155654788017273 2.7825284632854164e-05\n",
      "targets 0.5 0.5658032894134521\n",
      "outputs 0.6155034303665161 5.7676392316352576e-05\n",
      "targets 0.7450000047683716 0.49000000953674316\n",
      "outputs 0.6154662370681763 2.041812149400357e-05\n",
      "targets 0.5 0.5658032894134521\n",
      "outputs 0.615532636642456 5.463508568936959e-05\n",
      "targets 0.7450000047683716 0.49000000953674316\n",
      "outputs 0.6154633164405823 2.2963084120419808e-05\n",
      "targets 0.2549999952316284 0.49000000953674316\n",
      "outputs 0.6154969930648804 6.723413389408961e-05\n",
      "targets 0.5 0.5658032894134521\n",
      "outputs 0.6155503392219543 4.5346700062509626e-05\n",
      "targets 0.7450000047683716 0.49000000953674316\n",
      "outputs 0.6155346035957336 6.228458369150758e-05\n",
      "targets 0.5 0.5658032894134521\n",
      "outputs 0.615507185459137 2.8656892027356662e-05\n",
      "targets 0.2549999952316284 0.49000000953674316\n",
      "outputs 0.6155208349227905 7.714503590250388e-05\n",
      "targets 0.2549999952316284 0.49000000953674316\n",
      "outputs 0.6155169010162354 8.298591274069622e-05\n",
      "targets 0.5 0.5658032894134521\n",
      "outputs 0.6154811382293701 6.257529457798228e-05\n",
      "targets 0.5 0.5658032894134521\n",
      "outputs 0.6155097484588623 7.255411765072495e-05\n",
      "targets 0.7450000047683716 0.49000000953674316\n",
      "outputs 0.6154769659042358 6.512844993267208e-05\n",
      "targets 0.7450000047683716 0.49000000953674316\n",
      "outputs 0.6154609322547913 nan0.7197\n",
      "targets 0.9900000095367432 nan\n",
      "Valid Step 16/16, valid_loss: 0.7021\n",
      "[Epoch Valid: 8] loss: 0.7021, auc: 0.6212, time: 7.00 s\n",
      "Train Step 120/131, train_loss: 0.7027\r"
     ]
    },
    {
     "data": {
      "application/vnd.jupyter.widget-view+json": {
       "model_id": "a4cf0189eb5746ee8cfc8f0f4097f753",
       "version_major": 2,
       "version_minor": 0
      },
      "text/plain": [
       "HBox(children=(FloatProgress(value=0.0, max=16.0), HTML(value='')))"
      ]
     },
     "metadata": {},
     "output_type": "display_data"
    },
    {
     "name": "stdout",
     "output_type": "stream",
     "text": [
      "outputs 0.5906951427459717 2.5738188924151473e-05\n",
      "targets 0.5 0.5658032894134521\n",
      "outputs 0.5907890796661377 2.9073169571347535e-05\n",
      "targets 0.5 0.5658032894134521\n",
      "outputs 0.5907332897186279 5.552607399295084e-05\n",
      "targets 0.7450000047683716 0.49000000953674316\n",
      "outputs 0.5906916856765747 1.884234370663762e-05\n",
      "targets 0.5 0.5658032894134521\n",
      "outputs 0.5907585024833679 5.275879811961204e-05\n",
      "targets 0.7450000047683716 0.49000000953674316\n",
      "outputs 0.5906867384910583 2.111150388373062e-05\n",
      "targets 0.2549999952316284 0.49000000953674316\n",
      "outputs 0.5907208919525146 6.520331226056442e-05\n",
      "targets 0.5 0.5658032894134521\n",
      "outputs 0.5907758474349976 4.2778101487783715e-05\n",
      "targets 0.7450000047683716 0.49000000953674316\n",
      "outputs 0.5907614231109619 6.04761007707566e-05\n",
      "targets 0.5 0.5658032894134521\n",
      "outputs 0.5907283425331116 2.1866078895982355e-05\n",
      "targets 0.2549999952316284 0.49000000953674316\n",
      "outputs 0.5907481908798218 7.561665552202612e-05\n",
      "targets 0.2549999952316284 0.49000000953674316\n",
      "outputs 0.5907384157180786 8.927833550842479e-05\n",
      "targets 0.5 0.5658032894134521\n",
      "outputs 0.5907118320465088 5.837999560753815e-05\n",
      "targets 0.5 0.5658032894134521\n",
      "outputs 0.5907368659973145 6.78653668728657e-05\n",
      "targets 0.7450000047683716 0.49000000953674316\n",
      "outputs 0.5907031297683716 6.570905679836869e-05\n",
      "targets 0.7450000047683716 0.49000000953674316\n",
      "outputs 0.5906909108161926 nan0.7168\n",
      "targets 0.9900000095367432 nan\n",
      "Valid Step 16/16, valid_loss: 0.7000\n",
      "[Epoch Valid: 8] loss: 0.7000, auc: 0.6115, time: 7.00 s\n",
      "Train Step 123/131, train_loss: 0.7047\r"
     ]
    },
    {
     "data": {
      "application/vnd.jupyter.widget-view+json": {
       "model_id": "9b167e51b09342ecb60cf55f30c60bd7",
       "version_major": 2,
       "version_minor": 0
      },
      "text/plain": [
       "HBox(children=(FloatProgress(value=0.0, max=16.0), HTML(value='')))"
      ]
     },
     "metadata": {},
     "output_type": "display_data"
    },
    {
     "name": "stdout",
     "output_type": "stream",
     "text": [
      "outputs 0.5477465391159058 3.73886177840177e-05\n",
      "targets 0.5 0.5658032894134521\n",
      "outputs 0.5478367209434509 3.1969368137652054e-05\n",
      "targets 0.5 0.5658032894134521\n",
      "outputs 0.5477866530418396 5.537940887734294e-05\n",
      "targets 0.7450000047683716 0.49000000953674316\n",
      "outputs 0.5477357506752014 2.8859176381956786e-05\n",
      "targets 0.5 0.5658032894134521\n",
      "outputs 0.547807514667511 5.240648897597566e-05\n",
      "targets 0.7450000047683716 0.49000000953674316\n",
      "outputs 0.5477299094200134 1.767154572007712e-05\n",
      "targets 0.2549999952316284 0.49000000953674316\n",
      "outputs 0.5477750897407532 5.200689338380471e-05\n",
      "targets 0.5 0.5658032894134521\n",
      "outputs 0.547825038433075 3.9808124711271375e-05\n",
      "targets 0.7450000047683716 0.49000000953674316\n",
      "outputs 0.547808825969696 6.547290104208514e-05\n",
      "targets 0.5 0.5658032894134521\n",
      "outputs 0.5477654337882996 2.1017294784542173e-05\n",
      "targets 0.2549999952316284 0.49000000953674316\n",
      "outputs 0.5477982759475708 7.874952279962599e-05\n",
      "targets 0.2549999952316284 0.49000000953674316\n",
      "outputs 0.5477860569953918 8.993562369141728e-05\n",
      "targets 0.5 0.5658032894134521\n",
      "outputs 0.5477591753005981 6.019521606503986e-05\n",
      "targets 0.5 0.5658032894134521\n",
      "outputs 0.5477849245071411 6.667627167189494e-05\n",
      "targets 0.7450000047683716 0.49000000953674316\n",
      "outputs 0.5477518439292908 7.08322913851589e-05\n",
      "targets 0.7450000047683716 0.49000000953674316\n",
      "outputs 0.5477498769760132 nan0.7123\n",
      "targets 0.9900000095367432 nan\n",
      "Valid Step 16/16, valid_loss: 0.6966\n",
      "[Epoch Valid: 8] loss: 0.6966, auc: 0.6358, time: 7.00 s\n",
      "Train Step 126/131, train_loss: 0.7049\r"
     ]
    },
    {
     "data": {
      "application/vnd.jupyter.widget-view+json": {
       "model_id": "8faf9c94650f42a384f46de8fda20685",
       "version_major": 2,
       "version_minor": 0
      },
      "text/plain": [
       "HBox(children=(FloatProgress(value=0.0, max=16.0), HTML(value='')))"
      ]
     },
     "metadata": {},
     "output_type": "display_data"
    },
    {
     "name": "stdout",
     "output_type": "stream",
     "text": [
      "outputs 0.5095175504684448 3.103244671365246e-05\n",
      "targets 0.5 0.5658032894134521\n",
      "outputs 0.5095753073692322 2.6756511942949146e-05\n",
      "targets 0.5 0.5658032894134521\n",
      "outputs 0.5095533132553101 3.6516354157356545e-05\n",
      "targets 0.7450000047683716 0.49000000953674316\n",
      "outputs 0.5095021724700928 2.9376675229286775e-05\n",
      "targets 0.5 0.5658032894134521\n",
      "outputs 0.5095568895339966 3.5526118153939024e-05\n",
      "targets 0.7450000047683716 0.49000000953674316\n",
      "outputs 0.5094946026802063 1.7732239939505234e-05\n",
      "targets 0.2549999952316284 0.49000000953674316\n",
      "outputs 0.5095386505126953 2.784585376502946e-05\n",
      "targets 0.5 0.5658032894134521\n",
      "outputs 0.5095687508583069 2.1547512005781755e-05\n",
      "targets 0.7450000047683716 0.49000000953674316\n",
      "outputs 0.5095608234405518 4.520774746197276e-05\n",
      "targets 0.5 0.5658032894134521\n",
      "outputs 0.5095123052597046 2.3867623895057477e-05\n",
      "targets 0.2549999952316284 0.49000000953674316\n",
      "outputs 0.5095545649528503 5.3920502978144214e-05\n",
      "targets 0.2549999952316284 0.49000000953674316\n",
      "outputs 0.5095393061637878 6.555382424267009e-05\n",
      "targets 0.5 0.5658032894134521\n",
      "outputs 0.5095296502113342 3.7195692129898816e-05\n",
      "targets 0.5 0.5658032894134521\n",
      "outputs 0.5095477104187012 3.5507313441485167e-05\n",
      "targets 0.7450000047683716 0.49000000953674316\n",
      "outputs 0.5095263123512268 5.817120836582035e-05\n",
      "targets 0.7450000047683716 0.49000000953674316\n",
      "outputs 0.5095350742340088 nan0.7086\n",
      "targets 0.9900000095367432 nan\n",
      "Valid Step 16/16, valid_loss: 0.6940\n",
      "[Epoch Valid: 8] loss: 0.6940, auc: 0.6158, time: 7.00 s\n",
      "Train Step 129/131, train_loss: 0.7046\r"
     ]
    },
    {
     "data": {
      "application/vnd.jupyter.widget-view+json": {
       "model_id": "46867cb524ed497cb68fa14f7f9188e0",
       "version_major": 2,
       "version_minor": 0
      },
      "text/plain": [
       "HBox(children=(FloatProgress(value=0.0, max=16.0), HTML(value='')))"
      ]
     },
     "metadata": {},
     "output_type": "display_data"
    },
    {
     "name": "stdout",
     "output_type": "stream",
     "text": [
      "outputs 0.49010172486305237 2.7505711841513403e-05\n",
      "targets 0.5 0.5658032894134521\n",
      "outputs 0.4901474714279175 2.3387583496514708e-05\n",
      "targets 0.5 0.5658032894134521\n",
      "outputs 0.4901324212551117 2.867875991796609e-05\n",
      "targets 0.7450000047683716 0.49000000953674316\n",
      "outputs 0.4900936484336853 2.799340472847689e-05\n",
      "targets 0.5 0.5658032894134521\n",
      "outputs 0.4901324510574341 2.9208065825514495e-05\n",
      "targets 0.7450000047683716 0.49000000953674316\n",
      "outputs 0.49008452892303467 7.733679012744687e-06\n",
      "targets 0.2549999952316284 0.49000000953674316\n",
      "outputs 0.49011754989624023 2.2858423108118586e-05\n",
      "targets 0.5 0.5658032894134521\n",
      "outputs 0.49014267325401306 1.6858670278452337e-05\n",
      "targets 0.7450000047683716 0.49000000953674316\n",
      "outputs 0.49013495445251465 3.852648660540581e-05\n",
      "targets 0.5 0.5658032894134521\n",
      "outputs 0.490092933177948 1.9207260265829973e-05\n",
      "targets 0.2549999952316284 0.49000000953674316\n",
      "outputs 0.49013322591781616 4.2288222175557166e-05\n",
      "targets 0.2549999952316284 0.49000000953674316\n",
      "outputs 0.4901215434074402 4.9383910663891584e-05\n",
      "targets 0.5 0.5658032894134521\n",
      "outputs 0.49011069536209106 3.036710768355988e-05\n",
      "targets 0.5 0.5658032894134521\n",
      "outputs 0.4901289939880371 2.649228736117948e-05\n",
      "targets 0.7450000047683716 0.49000000953674316\n",
      "outputs 0.49010568857192993 4.5199831220088527e-05\n",
      "targets 0.7450000047683716 0.49000000953674316\n",
      "outputs 0.4901168644428253 nan0.7069\n",
      "targets 0.9900000095367432 nan\n",
      "Valid Step 16/16, valid_loss: 0.6929\n",
      "[Epoch Valid: 8] loss: 0.6929, auc: 0.6163, time: 6.00 s\n",
      "Train Step 131/131, train_loss: 0.7047\n"
     ]
    },
    {
     "data": {
      "application/vnd.jupyter.widget-view+json": {
       "model_id": "03cc9c3b0a9c4ac5adea11a3e41fb64a",
       "version_major": 2,
       "version_minor": 0
      },
      "text/plain": [
       "HBox(children=(FloatProgress(value=0.0, max=16.0), HTML(value='')))"
      ]
     },
     "metadata": {},
     "output_type": "display_data"
    },
    {
     "name": "stdout",
     "output_type": "stream",
     "text": [
      "outputs 0.4956071972846985 2.0088702513021417e-05\n",
      "targets 0.5 0.5658032894134521\n",
      "outputs 0.49562573432922363 1.4281993571785279e-05\n",
      "targets 0.5 0.5658032894134521\n",
      "outputs 0.4956204891204834 1.6409609088441357e-05\n",
      "targets 0.7450000047683716 0.49000000953674316\n",
      "outputs 0.49559199810028076 2.3966696971911006e-05\n",
      "targets 0.5 0.5658032894134521\n",
      "outputs 0.4956198036670685 1.3740228496317286e-05\n",
      "targets 0.7450000047683716 0.49000000953674316\n",
      "outputs 0.4955923557281494 9.185531780531164e-06\n",
      "targets 0.2549999952316284 0.49000000953674316\n",
      "outputs 0.49561092257499695 8.884225280780811e-06\n",
      "targets 0.5 0.5658032894134521\n",
      "outputs 0.49562397599220276 6.021691660862416e-06\n",
      "targets 0.7450000047683716 0.49000000953674316\n",
      "outputs 0.4956209063529968 2.112198853865266e-05\n",
      "targets 0.5 0.5658032894134521\n",
      "outputs 0.49559226632118225 1.8962431568070315e-05\n",
      "targets 0.2549999952316284 0.49000000953674316\n",
      "outputs 0.49562063813209534 2.1365174688980915e-05\n",
      "targets 0.2549999952316284 0.49000000953674316\n",
      "outputs 0.49560633301734924 3.3861204428831115e-05\n",
      "targets 0.5 0.5658032894134521\n",
      "outputs 0.49561116099357605 1.312825861532474e-05\n",
      "targets 0.5 0.5658032894134521\n",
      "outputs 0.4956146776676178 1.269710082851816e-05\n",
      "targets 0.7450000047683716 0.49000000953674316\n",
      "outputs 0.49560731649398804 3.101134643657133e-05\n",
      "targets 0.7450000047683716 0.49000000953674316\n",
      "outputs 0.4956071078777313 nan0.7074\n",
      "targets 0.9900000095367432 nan\n",
      "Valid Step 16/16, valid_loss: 0.6932\n",
      "[Epoch Train: 8] loss: 0.7047, time: 467.00 s            \n",
      "[Epoch Valid: 8] loss: 0.6932, auc: 0.6023, time: 7.00 s\n",
      "EPOCH: 9\n"
     ]
    },
    {
     "data": {
      "application/vnd.jupyter.widget-view+json": {
       "model_id": "0f9928cdbebe4bb784bc27201cefc6be",
       "version_major": 2,
       "version_minor": 0
      },
      "text/plain": [
       "HBox(children=(FloatProgress(value=0.0, max=131.0), HTML(value='')))"
      ]
     },
     "metadata": {},
     "output_type": "display_data"
    },
    {
     "name": "stdout",
     "output_type": "stream",
     "text": [
      "Train Step 3/131, train_loss: 0.7050\r"
     ]
    },
    {
     "data": {
      "application/vnd.jupyter.widget-view+json": {
       "model_id": "fa958a17a9a745ab9bafd94fa11843b2",
       "version_major": 2,
       "version_minor": 0
      },
      "text/plain": [
       "HBox(children=(FloatProgress(value=0.0, max=16.0), HTML(value='')))"
      ]
     },
     "metadata": {},
     "output_type": "display_data"
    },
    {
     "name": "stdout",
     "output_type": "stream",
     "text": [
      "outputs 0.49461305141448975 2.4306276827701367e-05\n",
      "targets 0.5 0.5658032894134521\n",
      "outputs 0.4946208596229553 1.4630153600592166e-05\n",
      "targets 0.5 0.5658032894134521\n",
      "outputs 0.49460718035697937 3.1438561563845724e-05\n",
      "targets 0.7450000047683716 0.49000000953674316\n",
      "outputs 0.49459564685821533 2.6881152734858915e-05\n",
      "targets 0.5 0.5658032894134521\n",
      "outputs 0.4946192502975464 1.0347702300350647e-05\n",
      "targets 0.7450000047683716 0.49000000953674316\n",
      "outputs 0.4945841133594513 2.1989320885040797e-05\n",
      "targets 0.2549999952316284 0.49000000953674316\n",
      "outputs 0.49456503987312317 8.24538292363286e-05\n",
      "targets 0.5 0.5658032894134521\n",
      "outputs 0.4946231245994568 4.12283998230123e-06\n",
      "targets 0.7450000047683716 0.49000000953674316\n",
      "outputs 0.4946199655532837 1.5800038454472087e-05\n",
      "targets 0.5 0.5658032894134521\n",
      "outputs 0.4945901334285736 2.2726551833329722e-05\n",
      "targets 0.2549999952316284 0.49000000953674316\n",
      "outputs 0.49461930990219116 1.998979496420361e-05\n",
      "targets 0.2549999952316284 0.49000000953674316\n",
      "outputs 0.49458062648773193 7.108879799488932e-05\n",
      "targets 0.5 0.5658032894134521\n",
      "outputs 0.49461454153060913 8.092798452707939e-06\n",
      "targets 0.5 0.5658032894134521\n",
      "outputs 0.494589626789093 5.681292896042578e-05\n",
      "targets 0.7450000047683716 0.49000000953674316\n",
      "outputs 0.49460190534591675 4.206860103295185e-05\n",
      "targets 0.7450000047683716 0.49000000953674316\n",
      "outputs 0.4945645332336426 nan0.7073\n",
      "targets 0.9900000095367432 nan\n",
      "Valid Step 16/16, valid_loss: 0.6931\n",
      "[Epoch Valid: 9] loss: 0.6931, auc: 0.5850, time: 7.00 s\n",
      "Train Step 6/131, train_loss: 0.6982\r"
     ]
    },
    {
     "data": {
      "application/vnd.jupyter.widget-view+json": {
       "model_id": "7dde7bbb53244146b8a0dc10b6b19497",
       "version_major": 2,
       "version_minor": 0
      },
      "text/plain": [
       "HBox(children=(FloatProgress(value=0.0, max=16.0), HTML(value='')))"
      ]
     },
     "metadata": {},
     "output_type": "display_data"
    },
    {
     "name": "stdout",
     "output_type": "stream",
     "text": [
      "outputs 0.4822785556316376 2.1530653611989692e-05\n",
      "targets 0.5 0.5658032894134521\n",
      "outputs 0.4822840392589569 1.4424575965676922e-05\n",
      "targets 0.5 0.5658032894134521\n",
      "outputs 0.4822719395160675 3.1936382583808154e-05\n",
      "targets 0.7450000047683716 0.49000000953674316\n",
      "outputs 0.4822573661804199 2.877828956115991e-05\n",
      "targets 0.5 0.5658032894134521\n",
      "outputs 0.48228251934051514 9.481034794589505e-06\n",
      "targets 0.7450000047683716 0.49000000953674316\n",
      "outputs 0.4822476804256439 2.6109762984560803e-05\n",
      "targets 0.2549999952316284 0.49000000953674316\n",
      "outputs 0.48222529888153076 8.490677282679826e-05\n",
      "targets 0.5 0.5658032894134521\n",
      "outputs 0.4822867512702942 4.860109129367629e-06\n",
      "targets 0.7450000047683716 0.49000000953674316\n",
      "outputs 0.48228535056114197 1.23435174828046e-05\n",
      "targets 0.5 0.5658032894134521\n",
      "outputs 0.4822518825531006 2.6803403670783155e-05\n",
      "targets 0.2549999952316284 0.49000000953674316\n",
      "outputs 0.48228541016578674 1.6557673006900586e-05\n",
      "targets 0.2549999952316284 0.49000000953674316\n",
      "outputs 0.4822431206703186 7.203428685897961e-05\n",
      "targets 0.5 0.5658032894134521\n",
      "outputs 0.4822792708873749 6.495185516541824e-06\n",
      "targets 0.5 0.5658032894134521\n",
      "outputs 0.48225295543670654 5.679111563949846e-05\n",
      "targets 0.7450000047683716 0.49000000953674316\n",
      "outputs 0.4822688102722168 4.5521439460571855e-05\n",
      "targets 0.7450000047683716 0.49000000953674316\n",
      "outputs 0.4822358191013336 nan0.7062\n",
      "targets 0.9900000095367432 nan\n",
      "Valid Step 16/16, valid_loss: 0.6924\n",
      "[Epoch Valid: 9] loss: 0.6924, auc: 0.5644, time: 7.00 s\n",
      "Train Step 9/131, train_loss: 0.7013\r"
     ]
    },
    {
     "data": {
      "application/vnd.jupyter.widget-view+json": {
       "model_id": "e0a14c5d0c3a4365b4d4409d9802ab2e",
       "version_major": 2,
       "version_minor": 0
      },
      "text/plain": [
       "HBox(children=(FloatProgress(value=0.0, max=16.0), HTML(value='')))"
      ]
     },
     "metadata": {},
     "output_type": "display_data"
    },
    {
     "name": "stdout",
     "output_type": "stream",
     "text": [
      "outputs 0.49453461170196533 1.5798937965882942e-05\n",
      "targets 0.5 0.5658032894134521\n",
      "outputs 0.4945485591888428 7.64229662308935e-06\n",
      "targets 0.5 0.5658032894134521\n",
      "outputs 0.49452072381973267 3.7744612200185657e-05\n",
      "targets 0.7450000047683716 0.49000000953674316\n",
      "outputs 0.4945267140865326 2.14465271710651e-05\n",
      "targets 0.5 0.5658032894134521\n",
      "outputs 0.49454572796821594 6.627605671383208e-06\n",
      "targets 0.7450000047683716 0.49000000953674316\n",
      "outputs 0.49451929330825806 2.9989230824867263e-05\n",
      "targets 0.2549999952316284 0.49000000953674316\n",
      "outputs 0.4944886863231659 0.000122373181511648\n",
      "targets 0.5 0.5658032894134521\n",
      "outputs 0.4945487976074219 6.741498054907424e-06\n",
      "targets 0.7450000047683716 0.49000000953674316\n",
      "outputs 0.4945433735847473 1.3292648873175494e-05\n",
      "targets 0.5 0.5658032894134521\n",
      "outputs 0.49453407526016235 5.469693860504776e-06\n",
      "targets 0.2549999952316284 0.49000000953674316\n",
      "outputs 0.4945366382598877 2.3361833882518113e-05\n",
      "targets 0.2549999952316284 0.49000000953674316\n",
      "outputs 0.49449825286865234 9.63680213317275e-05\n",
      "targets 0.5 0.5658032894134521\n",
      "outputs 0.4945394992828369 8.165709004970267e-06\n",
      "targets 0.5 0.5658032894134521\n",
      "outputs 0.4945029020309448 8.404357504332438e-05\n",
      "targets 0.7450000047683716 0.49000000953674316\n",
      "outputs 0.49452152848243713 5.429025259218179e-05\n",
      "targets 0.7450000047683716 0.49000000953674316\n",
      "outputs 0.4944484233856201 nan0.7073\n",
      "targets 0.9900000095367432 nan\n",
      "Valid Step 16/16, valid_loss: 0.6931\n",
      "[Epoch Valid: 9] loss: 0.6931, auc: 0.6223, time: 7.00 s\n",
      "Train Step 12/131, train_loss: 0.6999\r"
     ]
    },
    {
     "data": {
      "application/vnd.jupyter.widget-view+json": {
       "model_id": "cbf8e23e1a9949ca8f91d0387c8918eb",
       "version_major": 2,
       "version_minor": 0
      },
      "text/plain": [
       "HBox(children=(FloatProgress(value=0.0, max=16.0), HTML(value='')))"
      ]
     },
     "metadata": {},
     "output_type": "display_data"
    },
    {
     "name": "stdout",
     "output_type": "stream",
     "text": [
      "outputs 0.4967007637023926 1.2433951269485988e-05\n",
      "targets 0.5 0.5658032894134521\n",
      "outputs 0.4967120885848999 6.038862920831889e-06\n",
      "targets 0.5 0.5658032894134521\n",
      "outputs 0.49668455123901367 3.6318400816526264e-05\n",
      "targets 0.7450000047683716 0.49000000953674316\n",
      "outputs 0.49668267369270325 2.4262055376311764e-05\n",
      "targets 0.5 0.5658032894134521\n",
      "outputs 0.4967086911201477 5.147856882103952e-06\n",
      "targets 0.7450000047683716 0.49000000953674316\n",
      "outputs 0.4966801404953003 3.577854295144789e-05\n",
      "targets 0.2549999952316284 0.49000000953674316\n",
      "outputs 0.4966617226600647 0.00010470424604136497\n",
      "targets 0.5 0.5658032894134521\n",
      "outputs 0.49671056866645813 6.3001316448207945e-06\n",
      "targets 0.7450000047683716 0.49000000953674316\n",
      "outputs 0.49670711159706116 1.0904860573646147e-05\n",
      "targets 0.5 0.5658032894134521\n",
      "outputs 0.4966965913772583 6.368719823512947e-06\n",
      "targets 0.2549999952316284 0.49000000953674316\n",
      "outputs 0.4966975450515747 2.4515949917258695e-05\n",
      "targets 0.2549999952316284 0.49000000953674316\n",
      "outputs 0.4966564178466797 0.00010369065421400592\n",
      "targets 0.5 0.5658032894134521\n",
      "outputs 0.49670496582984924 5.083109044790035e-06\n",
      "targets 0.5 0.5658032894134521\n",
      "outputs 0.4966655671596527 7.95179366832599e-05\n",
      "targets 0.7450000047683716 0.49000000953674316\n",
      "outputs 0.49668535590171814 5.756175596616231e-05\n",
      "targets 0.7450000047683716 0.49000000953674316\n",
      "outputs 0.49660858511924744 nan.7074\n",
      "targets 0.9900000095367432 nan\n",
      "Valid Step 16/16, valid_loss: 0.6932\n",
      "[Epoch Valid: 9] loss: 0.6932, auc: 0.6066, time: 7.00 s\n",
      "Train Step 15/131, train_loss: 0.6988\r"
     ]
    },
    {
     "data": {
      "application/vnd.jupyter.widget-view+json": {
       "model_id": "70d8cc34103d4cbebe738f31089c25cf",
       "version_major": 2,
       "version_minor": 0
      },
      "text/plain": [
       "HBox(children=(FloatProgress(value=0.0, max=16.0), HTML(value='')))"
      ]
     },
     "metadata": {},
     "output_type": "display_data"
    },
    {
     "name": "stdout",
     "output_type": "stream",
     "text": [
      "outputs 0.5058243274688721 1.268449705094099e-05\n",
      "targets 0.5 0.5658032894134521\n",
      "outputs 0.505833089351654 5.6892522479756735e-06\n",
      "targets 0.5 0.5658032894134521\n",
      "outputs 0.5058065056800842 3.6490611819317564e-05\n",
      "targets 0.7450000047683716 0.49000000953674316\n",
      "outputs 0.5058049559593201 2.638911064423155e-05\n",
      "targets 0.5 0.5658032894134521\n",
      "outputs 0.5058296918869019 5.231701379670994e-06\n",
      "targets 0.7450000047683716 0.49000000953674316\n",
      "outputs 0.5058021545410156 3.661771188490093e-05\n",
      "targets 0.2549999952316284 0.49000000953674316\n",
      "outputs 0.5057862997055054 9.503823093837127e-05\n",
      "targets 0.5 0.5658032894134521\n",
      "outputs 0.5058320760726929 6.258534995140508e-06\n",
      "targets 0.7450000047683716 0.49000000953674316\n",
      "outputs 0.5058287978172302 9.375345143780578e-06\n",
      "targets 0.5 0.5658032894134521\n",
      "outputs 0.505818784236908 6.1730866036668885e-06\n",
      "targets 0.2549999952316284 0.49000000953674316\n",
      "outputs 0.5058198571205139 2.3779102775733918e-05\n",
      "targets 0.2549999952316284 0.49000000953674316\n",
      "outputs 0.5057775974273682 0.00010217564704362303\n",
      "targets 0.5 0.5658032894134521\n",
      "outputs 0.5058271884918213 4.245759100740543e-06\n",
      "targets 0.5 0.5658032894134521\n",
      "outputs 0.5057896971702576 7.50229082768783e-05\n",
      "targets 0.7450000047683716 0.49000000953674316\n",
      "outputs 0.5058046579360962 5.312520079314709e-05\n",
      "targets 0.7450000047683716 0.49000000953674316\n",
      "outputs 0.5057331323623657 nan0.7083\n",
      "targets 0.9900000095367432 nan\n",
      "Valid Step 16/16, valid_loss: 0.6938\n",
      "[Epoch Valid: 9] loss: 0.6938, auc: 0.5947, time: 7.00 s\n",
      "Train Step 18/131, train_loss: 0.6958\r"
     ]
    },
    {
     "data": {
      "application/vnd.jupyter.widget-view+json": {
       "model_id": "454ed85f4aa44a5c99e63d47b9db6c60",
       "version_major": 2,
       "version_minor": 0
      },
      "text/plain": [
       "HBox(children=(FloatProgress(value=0.0, max=16.0), HTML(value='')))"
      ]
     },
     "metadata": {},
     "output_type": "display_data"
    },
    {
     "name": "stdout",
     "output_type": "stream",
     "text": [
      "outputs 0.5244342088699341 1.1037056538043544e-05\n",
      "targets 0.5 0.5658032894134521\n",
      "outputs 0.5244437456130981 5.825928383274004e-06\n",
      "targets 0.5 0.5658032894134521\n",
      "outputs 0.5244196057319641 3.365093652973883e-05\n",
      "targets 0.7450000047683716 0.49000000953674316\n",
      "outputs 0.5244169235229492 2.4926075639086775e-05\n",
      "targets 0.5 0.5658032894134521\n",
      "outputs 0.5244388580322266 6.578959528269479e-06\n",
      "targets 0.7450000047683716 0.49000000953674316\n",
      "outputs 0.524410605430603 3.718611696967855e-05\n",
      "targets 0.2549999952316284 0.49000000953674316\n",
      "outputs 0.5243980288505554 7.868142711231485e-05\n",
      "targets 0.5 0.5658032894134521\n",
      "outputs 0.5244406461715698 5.725511527998606e-06\n",
      "targets 0.7450000047683716 0.49000000953674316\n",
      "outputs 0.5244395732879639 9.41709367907606e-06\n",
      "targets 0.5 0.5658032894134521\n",
      "outputs 0.5244274139404297 8.779536983638536e-06\n",
      "targets 0.2549999952316284 0.49000000953674316\n",
      "outputs 0.5244302153587341 2.182194839406293e-05\n",
      "targets 0.2549999952316284 0.49000000953674316\n",
      "outputs 0.5243916511535645 9.334182686870918e-05\n",
      "targets 0.5 0.5658032894134521\n",
      "outputs 0.5244385004043579 4.578449079417624e-06\n",
      "targets 0.5 0.5658032894134521\n",
      "outputs 0.5244038105010986 6.570333061972633e-05\n",
      "targets 0.7450000047683716 0.49000000953674316\n",
      "outputs 0.5244157314300537 4.176636502961628e-05\n",
      "targets 0.7450000047683716 0.49000000953674316\n",
      "outputs 0.5243532657623291 nan0.7100\n",
      "targets 0.9900000095367432 nan\n",
      "Valid Step 16/16, valid_loss: 0.6950\n",
      "[Epoch Valid: 9] loss: 0.6950, auc: 0.5406, time: 7.00 s\n",
      "Train Step 21/131, train_loss: 0.6957\r"
     ]
    },
    {
     "data": {
      "application/vnd.jupyter.widget-view+json": {
       "model_id": "7282075870994e16baaf9c8045070f9b",
       "version_major": 2,
       "version_minor": 0
      },
      "text/plain": [
       "HBox(children=(FloatProgress(value=0.0, max=16.0), HTML(value='')))"
      ]
     },
     "metadata": {},
     "output_type": "display_data"
    },
    {
     "name": "stdout",
     "output_type": "stream",
     "text": [
      "outputs 0.5400499105453491 1.0859937901841477e-05\n",
      "targets 0.5 0.5658032894134521\n",
      "outputs 0.5400720834732056 8.71774409461068e-06\n",
      "targets 0.5 0.5658032894134521\n",
      "outputs 0.5400445461273193 3.336105146445334e-05\n",
      "targets 0.7450000047683716 0.49000000953674316\n",
      "outputs 0.5400366187095642 2.221792055934202e-05\n",
      "targets 0.5 0.5658032894134521\n",
      "outputs 0.5400621891021729 1.4426233065023553e-05\n",
      "targets 0.7450000047683716 0.49000000953674316\n",
      "outputs 0.54002845287323 3.4069340472342446e-05\n",
      "targets 0.2549999952316284 0.49000000953674316\n",
      "outputs 0.5400255918502808 6.710733578074723e-05\n",
      "targets 0.5 0.5658032894134521\n",
      "outputs 0.5400678515434265 8.907255505619105e-06\n",
      "targets 0.7450000047683716 0.49000000953674316\n",
      "outputs 0.5400644540786743 1.5666404578951187e-05\n",
      "targets 0.5 0.5658032894134521\n",
      "outputs 0.5400490760803223 5.273298938845983e-06\n",
      "targets 0.2549999952316284 0.49000000953674316\n",
      "outputs 0.5400552749633789 2.7024578230339102e-05\n",
      "targets 0.2549999952316284 0.49000000953674316\n",
      "outputs 0.5400203466415405 9.077332651941106e-05\n",
      "targets 0.5 0.5658032894134521\n",
      "outputs 0.540054440498352 1.2896522093797103e-05\n",
      "targets 0.5 0.5658032894134521\n",
      "outputs 0.5400305986404419 6.40156795270741e-05\n",
      "targets 0.7450000047683716 0.49000000953674316\n",
      "outputs 0.5400389432907104 4.151467510382645e-05\n",
      "targets 0.7450000047683716 0.49000000953674316\n",
      "outputs 0.5399837493896484 nan0.7115\n",
      "targets 0.9900000095367432 nan\n",
      "Valid Step 16/16, valid_loss: 0.6961\n",
      "[Epoch Valid: 9] loss: 0.6961, auc: 0.5557, time: 7.00 s\n",
      "Train Step 24/131, train_loss: 0.6961\r"
     ]
    },
    {
     "data": {
      "application/vnd.jupyter.widget-view+json": {
       "model_id": "3ab45ecfc67d4726b5eab60c6dca5772",
       "version_major": 2,
       "version_minor": 0
      },
      "text/plain": [
       "HBox(children=(FloatProgress(value=0.0, max=16.0), HTML(value='')))"
      ]
     },
     "metadata": {},
     "output_type": "display_data"
    },
    {
     "name": "stdout",
     "output_type": "stream",
     "text": [
      "outputs 0.5364606380462646 9.81994435278466e-06\n",
      "targets 0.5 0.5658032894134521\n",
      "outputs 0.5364858508110046 9.190268428937998e-06\n",
      "targets 0.5 0.5658032894134521\n",
      "outputs 0.5364572405815125 3.291731627541594e-05\n",
      "targets 0.7450000047683716 0.49000000953674316\n",
      "outputs 0.5364487767219543 2.1046573237981647e-05\n",
      "targets 0.5 0.5658032894134521\n",
      "outputs 0.5364751815795898 1.5566532965749502e-05\n",
      "targets 0.7450000047683716 0.49000000953674316\n",
      "outputs 0.5364413261413574 3.390292476979084e-05\n",
      "targets 0.2549999952316284 0.49000000953674316\n",
      "outputs 0.5364407300949097 6.301674147835001e-05\n",
      "targets 0.5 0.5658032894134521\n",
      "outputs 0.536481499671936 9.522980690235272e-06\n",
      "targets 0.7450000047683716 0.49000000953674316\n",
      "outputs 0.5364776849746704 1.684364724496845e-05\n",
      "targets 0.5 0.5658032894134521\n",
      "outputs 0.536461353302002 4.0207005440606736e-06\n",
      "targets 0.2549999952316284 0.49000000953674316\n",
      "outputs 0.5364692807197571 2.7051066354033537e-05\n",
      "targets 0.2549999952316284 0.49000000953674316\n",
      "outputs 0.5364362597465515 8.71409647515975e-05\n",
      "targets 0.5 0.5658032894134521\n",
      "outputs 0.5364656448364258 1.4655916857009288e-05\n",
      "targets 0.5 0.5658032894134521\n",
      "outputs 0.5364457964897156 5.97406760789454e-05\n",
      "targets 0.7450000047683716 0.49000000953674316\n",
      "outputs 0.5364500284194946 3.6194785934640095e-05\n",
      "targets 0.7450000047683716 0.49000000953674316\n",
      "outputs 0.5363999605178833 nan0.7112\n",
      "targets 0.9900000095367432 nan\n",
      "Valid Step 16/16, valid_loss: 0.6958\n",
      "[Epoch Valid: 9] loss: 0.6958, auc: 0.5487, time: 7.00 s\n",
      "Train Step 27/131, train_loss: 0.6962\r"
     ]
    },
    {
     "data": {
      "application/vnd.jupyter.widget-view+json": {
       "model_id": "d4f2d98c852d4e97bc56665062f71dd5",
       "version_major": 2,
       "version_minor": 0
      },
      "text/plain": [
       "HBox(children=(FloatProgress(value=0.0, max=16.0), HTML(value='')))"
      ]
     },
     "metadata": {},
     "output_type": "display_data"
    },
    {
     "name": "stdout",
     "output_type": "stream",
     "text": [
      "outputs 0.5329004526138306 9.886049156193621e-06\n",
      "targets 0.5 0.5658032894134521\n",
      "outputs 0.5329279899597168 9.396982932230458e-06\n",
      "targets 0.5 0.5658032894134521\n",
      "outputs 0.5328987836837769 3.234907126170583e-05\n",
      "targets 0.7450000047683716 0.49000000953674316\n",
      "outputs 0.5328895449638367 1.9956387404818088e-05\n",
      "targets 0.5 0.5658032894134521\n",
      "outputs 0.5329164862632751 1.6750247596064582e-05\n",
      "targets 0.7450000047683716 0.49000000953674316\n",
      "outputs 0.5328832864761353 3.0383434932446107e-05\n",
      "targets 0.2549999952316284 0.49000000953674316\n",
      "outputs 0.5328844785690308 5.896392394788563e-05\n",
      "targets 0.5 0.5658032894134521\n",
      "outputs 0.5329228639602661 1.0894070328504313e-05\n",
      "targets 0.7450000047683716 0.49000000953674316\n",
      "outputs 0.5329188108444214 1.8384127542958595e-05\n",
      "targets 0.5 0.5658032894134521\n",
      "outputs 0.5329031944274902 3.7605288980557816e-06\n",
      "targets 0.2549999952316284 0.49000000953674316\n",
      "outputs 0.5329105854034424 2.788454912661109e-05\n",
      "targets 0.2549999952316284 0.49000000953674316\n",
      "outputs 0.5328800678253174 8.369672286789864e-05\n",
      "targets 0.5 0.5658032894134521\n",
      "outputs 0.5329055190086365 1.6191064787562937e-05\n",
      "targets 0.5 0.5658032894134521\n",
      "outputs 0.5328885316848755 5.621032323688269e-05\n",
      "targets 0.7450000047683716 0.49000000953674316\n",
      "outputs 0.5328904390335083 3.5036362532991916e-05\n",
      "targets 0.7450000047683716 0.49000000953674316\n",
      "outputs 0.5328456163406372 nan0.7108\n",
      "targets 0.9900000095367432 nan\n",
      "Valid Step 16/16, valid_loss: 0.6956\n",
      "[Epoch Valid: 9] loss: 0.6956, auc: 0.5541, time: 7.00 s\n",
      "Train Step 30/131, train_loss: 0.6963\r"
     ]
    },
    {
     "data": {
      "application/vnd.jupyter.widget-view+json": {
       "model_id": "b31e59d5cedc4c27982b162ef86ebc69",
       "version_major": 2,
       "version_minor": 0
      },
      "text/plain": [
       "HBox(children=(FloatProgress(value=0.0, max=16.0), HTML(value='')))"
      ]
     },
     "metadata": {},
     "output_type": "display_data"
    },
    {
     "name": "stdout",
     "output_type": "stream",
     "text": [
      "outputs 0.5257956981658936 9.428059456695337e-06\n",
      "targets 0.5 0.5658032894134521\n",
      "outputs 0.5258321762084961 1.0871109225263353e-05\n",
      "targets 0.5 0.5658032894134521\n",
      "outputs 0.5258001089096069 3.255473347962834e-05\n",
      "targets 0.7450000047683716 0.49000000953674316\n",
      "outputs 0.5257894396781921 1.4982833818066865e-05\n",
      "targets 0.5 0.5658032894134521\n",
      "outputs 0.525818943977356 2.041562765953131e-05\n",
      "targets 0.7450000047683716 0.49000000953674316\n",
      "outputs 0.5257859230041504 2.3873106329119764e-05\n",
      "targets 0.2549999952316284 0.49000000953674316\n",
      "outputs 0.5257899165153503 5.625877020065673e-05\n",
      "targets 0.5 0.5658032894134521\n",
      "outputs 0.5258261561393738 1.5119640011107549e-05\n",
      "targets 0.7450000047683716 0.49000000953674316\n",
      "outputs 0.5258200168609619 2.2888196326675825e-05\n",
      "targets 0.5 0.5658032894134521\n",
      "outputs 0.5258066654205322 6.913410743436543e-06\n",
      "targets 0.2549999952316284 0.49000000953674316\n",
      "outputs 0.5258111357688904 3.313518755021505e-05\n",
      "targets 0.2549999952316284 0.49000000953674316\n",
      "outputs 0.5257882475852966 7.670628110645339e-05\n",
      "targets 0.5 0.5658032894134521\n",
      "outputs 0.5258032083511353 2.0871586457360536e-05\n",
      "targets 0.5 0.5658032894134521\n",
      "outputs 0.5257921814918518 5.561149009736255e-05\n",
      "targets 0.7450000047683716 0.49000000953674316\n",
      "outputs 0.5257922410964966 3.5146756999893114e-05\n",
      "targets 0.7450000047683716 0.49000000953674316\n",
      "outputs 0.5257503390312195 nan0.7101\n",
      "targets 0.9900000095367432 nan\n",
      "Valid Step 16/16, valid_loss: 0.6951\n",
      "[Epoch Valid: 9] loss: 0.6951, auc: 0.5622, time: 7.00 s\n",
      "Train Step 33/131, train_loss: 0.6970\r"
     ]
    },
    {
     "data": {
      "application/vnd.jupyter.widget-view+json": {
       "model_id": "7a7985f92c254d01bdedbc4799a498f7",
       "version_major": 2,
       "version_minor": 0
      },
      "text/plain": [
       "HBox(children=(FloatProgress(value=0.0, max=16.0), HTML(value='')))"
      ]
     },
     "metadata": {},
     "output_type": "display_data"
    },
    {
     "name": "stdout",
     "output_type": "stream",
     "text": [
      "outputs 0.5227662324905396 9.652947483118623e-06\n",
      "targets 0.5 0.5658032894134521\n",
      "outputs 0.5228043794631958 1.1505575457704253e-05\n",
      "targets 0.5 0.5658032894134521\n",
      "outputs 0.5227723717689514 3.229479261790402e-05\n",
      "targets 0.7450000047683716 0.49000000953674316\n",
      "outputs 0.5227597951889038 1.505175623606192e-05\n",
      "targets 0.5 0.5658032894134521\n",
      "outputs 0.5227906703948975 2.1384959836723283e-05\n",
      "targets 0.7450000047683716 0.49000000953674316\n",
      "outputs 0.5227571129798889 2.29485631280113e-05\n",
      "targets 0.2549999952316284 0.49000000953674316\n",
      "outputs 0.5227631330490112 5.313671863405034e-05\n",
      "targets 0.5 0.5658032894134521\n",
      "outputs 0.5227980613708496 1.586504549777601e-05\n",
      "targets 0.7450000047683716 0.49000000953674316\n",
      "outputs 0.5227916836738586 2.398108881607186e-05\n",
      "targets 0.5 0.5658032894134521\n",
      "outputs 0.522777795791626 7.146967163862428e-06\n",
      "targets 0.2549999952316284 0.49000000953674316\n",
      "outputs 0.5227828025817871 3.428194031585008e-05\n",
      "targets 0.2549999952316284 0.49000000953674316\n",
      "outputs 0.5227609872817993 7.550874579465017e-05\n",
      "targets 0.5 0.5658032894134521\n",
      "outputs 0.5227741003036499 2.191778003179934e-05\n",
      "targets 0.5 0.5658032894134521\n",
      "outputs 0.5227648019790649 5.4163461754797027e-05\n",
      "targets 0.7450000047683716 0.49000000953674316\n",
      "outputs 0.5227638483047485 3.523689156281762e-05\n",
      "targets 0.7450000047683716 0.49000000953674316\n",
      "outputs 0.5227236747741699 nan0.7098\n",
      "targets 0.9900000095367432 nan\n",
      "Valid Step 16/16, valid_loss: 0.6949\n",
      "[Epoch Valid: 9] loss: 0.6949, auc: 0.5644, time: 7.00 s\n",
      "Train Step 36/131, train_loss: 0.6976\r"
     ]
    },
    {
     "data": {
      "application/vnd.jupyter.widget-view+json": {
       "model_id": "3d92b1dc32994183bb21491abdb79842",
       "version_major": 2,
       "version_minor": 0
      },
      "text/plain": [
       "HBox(children=(FloatProgress(value=0.0, max=16.0), HTML(value='')))"
      ]
     },
     "metadata": {},
     "output_type": "display_data"
    },
    {
     "name": "stdout",
     "output_type": "stream",
     "text": [
      "outputs 0.5056601762771606 7.4351864896016195e-06\n",
      "targets 0.5 0.5658032894134521\n",
      "outputs 0.5056799650192261 6.398691311915172e-06\n",
      "targets 0.5 0.5658032894134521\n",
      "outputs 0.5056592226028442 2.3812708604964428e-05\n",
      "targets 0.7450000047683716 0.49000000953674316\n",
      "outputs 0.5056484341621399 1.705569593468681e-05\n",
      "targets 0.5 0.5658032894134521\n",
      "outputs 0.505671501159668 1.1608760360104498e-05\n",
      "targets 0.7450000047683716 0.49000000953674316\n",
      "outputs 0.5056474208831787 2.4013559595914558e-05\n",
      "targets 0.2549999952316284 0.49000000953674316\n",
      "outputs 0.5056501626968384 3.859466960420832e-05\n",
      "targets 0.5 0.5658032894134521\n",
      "outputs 0.5056755542755127 7.132329301384743e-06\n",
      "targets 0.7450000047683716 0.49000000953674316\n",
      "outputs 0.5056729316711426 1.2695416444330476e-05\n",
      "targets 0.5 0.5658032894134521\n",
      "outputs 0.5056611895561218 2.638922296682722e-06\n",
      "targets 0.2549999952316284 0.49000000953674316\n",
      "outputs 0.5056662559509277 2.048453825409524e-05\n",
      "targets 0.2549999952316284 0.49000000953674316\n",
      "outputs 0.5056411623954773 6.714405753882602e-05\n",
      "targets 0.5 0.5658032894134521\n",
      "outputs 0.5056633949279785 1.1447222277638502e-05\n",
      "targets 0.5 0.5658032894134521\n",
      "outputs 0.5056489109992981 4.254436498740688e-05\n",
      "targets 0.7450000047683716 0.49000000953674316\n",
      "outputs 0.5056540369987488 2.7880407287739217e-05\n",
      "targets 0.7450000047683716 0.49000000953674316\n",
      "outputs 0.5056178569793701 nan0.7083\n",
      "targets 0.9900000095367432 nan\n",
      "Valid Step 16/16, valid_loss: 0.6938\n",
      "[Epoch Valid: 9] loss: 0.6938, auc: 0.5444, time: 7.00 s\n",
      "Train Step 39/131, train_loss: 0.6968\r"
     ]
    },
    {
     "data": {
      "application/vnd.jupyter.widget-view+json": {
       "model_id": "fe06fb11e87b48baa827592cdc22f833",
       "version_major": 2,
       "version_minor": 0
      },
      "text/plain": [
       "HBox(children=(FloatProgress(value=0.0, max=16.0), HTML(value='')))"
      ]
     },
     "metadata": {},
     "output_type": "display_data"
    },
    {
     "name": "stdout",
     "output_type": "stream",
     "text": [
      "outputs 0.47831934690475464 7.525140517827822e-06\n",
      "targets 0.5 0.5658032894134521\n",
      "outputs 0.47833049297332764 4.69784572487697e-06\n",
      "targets 0.5 0.5658032894134521\n",
      "outputs 0.4783148169517517 1.88564408745151e-05\n",
      "targets 0.7450000047683716 0.49000000953674316\n",
      "outputs 0.4783097803592682 1.5160499060584698e-05\n",
      "targets 0.5 0.5658032894134521\n",
      "outputs 0.47832655906677246 5.9078547565150075e-06\n",
      "targets 0.7450000047683716 0.49000000953674316\n",
      "outputs 0.4783081114292145 2.1845247829332948e-05\n",
      "targets 0.2549999952316284 0.49000000953674316\n",
      "outputs 0.4783063232898712 3.514715353958309e-05\n",
      "targets 0.5 0.5658032894134521\n",
      "outputs 0.47832685708999634 5.488511305884458e-06\n",
      "targets 0.7450000047683716 0.49000000953674316\n",
      "outputs 0.47832560539245605 9.46243653743295e-06\n",
      "targets 0.5 0.5658032894134521\n",
      "outputs 0.4783184230327606 1.8278487914358266e-06\n",
      "targets 0.2549999952316284 0.49000000953674316\n",
      "outputs 0.4783198833465576 1.4982641914684791e-05\n",
      "targets 0.2549999952316284 0.49000000953674316\n",
      "outputs 0.47829705476760864 6.113461131462827e-05\n",
      "targets 0.5 0.5658032894134521\n",
      "outputs 0.478322833776474 6.3246961872209795e-06\n",
      "targets 0.5 0.5658032894134521\n",
      "outputs 0.47830304503440857 3.8512567698489875e-05\n",
      "targets 0.7450000047683716 0.49000000953674316\n",
      "outputs 0.47830936312675476 2.2800799342803657e-05\n",
      "targets 0.7450000047683716 0.49000000953674316\n",
      "outputs 0.4782773554325104 nan0.7059\n",
      "targets 0.9900000095367432 nan\n",
      "Valid Step 16/16, valid_loss: 0.6922\n",
      "[Epoch Valid: 9] loss: 0.6922, auc: 0.5552, time: 7.00 s\n",
      "Train Step 42/131, train_loss: 0.6972\r"
     ]
    },
    {
     "data": {
      "application/vnd.jupyter.widget-view+json": {
       "model_id": "ccc6e74c196f4219b3e047072da74994",
       "version_major": 2,
       "version_minor": 0
      },
      "text/plain": [
       "HBox(children=(FloatProgress(value=0.0, max=16.0), HTML(value='')))"
      ]
     },
     "metadata": {},
     "output_type": "display_data"
    },
    {
     "name": "stdout",
     "output_type": "stream",
     "text": [
      "outputs 0.4639776945114136 5.2817977120867e-06\n",
      "targets 0.5 0.5658032894134521\n",
      "outputs 0.463986873626709 3.2530979297007434e-06\n",
      "targets 0.5 0.5658032894134521\n",
      "outputs 0.4639724791049957 1.6758716810727492e-05\n",
      "targets 0.7450000047683716 0.49000000953674316\n",
      "outputs 0.4639692008495331 1.1922127669095062e-05\n",
      "targets 0.5 0.5658032894134521\n",
      "outputs 0.46398305892944336 4.920813807984814e-06\n",
      "targets 0.7450000047683716 0.49000000953674316\n",
      "outputs 0.4639655649662018 2.058605787169654e-05\n",
      "targets 0.2549999952316284 0.49000000953674316\n",
      "outputs 0.4639642834663391 3.246433334425092e-05\n",
      "targets 0.5 0.5658032894134521\n",
      "outputs 0.4639832377433777 4.891365279036108e-06\n",
      "targets 0.7450000047683716 0.49000000953674316\n",
      "outputs 0.46398258209228516 7.2407788138662e-06\n",
      "targets 0.5 0.5658032894134521\n",
      "outputs 0.46397674083709717 1.4846423255221453e-06\n",
      "targets 0.2549999952316284 0.49000000953674316\n",
      "outputs 0.463977187871933 1.2980237443116494e-05\n",
      "targets 0.2549999952316284 0.49000000953674316\n",
      "outputs 0.463955819606781 5.68704454053659e-05\n",
      "targets 0.5 0.5658032894134521\n",
      "outputs 0.46397972106933594 5.6177573242166545e-06\n",
      "targets 0.5 0.5658032894134521\n",
      "outputs 0.4639626145362854 3.353760621394031e-05\n",
      "targets 0.7450000047683716 0.49000000953674316\n",
      "outputs 0.46396753191947937 2.0609679268090986e-05\n",
      "targets 0.7450000047683716 0.49000000953674316\n",
      "outputs 0.4639386236667633 nan0.7047\n",
      "targets 0.9900000095367432 nan\n",
      "Valid Step 16/16, valid_loss: 0.6914\n",
      "[Epoch Valid: 9] loss: 0.6914, auc: 0.5422, time: 7.00 s\n",
      "Train Step 45/131, train_loss: 0.6954\r"
     ]
    },
    {
     "data": {
      "application/vnd.jupyter.widget-view+json": {
       "model_id": "28a283413fec43f9b1300b3797c75101",
       "version_major": 2,
       "version_minor": 0
      },
      "text/plain": [
       "HBox(children=(FloatProgress(value=0.0, max=16.0), HTML(value='')))"
      ]
     },
     "metadata": {},
     "output_type": "display_data"
    },
    {
     "name": "stdout",
     "output_type": "stream",
     "text": [
      "outputs 0.4495723843574524 6.490819941973314e-06\n",
      "targets 0.5 0.5658032894134521\n",
      "outputs 0.44959142804145813 6.100443897594232e-06\n",
      "targets 0.5 0.5658032894134521\n",
      "outputs 0.44957083463668823 1.9038983737118542e-05\n",
      "targets 0.7450000047683716 0.49000000953674316\n",
      "outputs 0.4495716691017151 8.194600013666786e-06\n",
      "targets 0.5 0.5658032894134521\n",
      "outputs 0.4495852589607239 8.611727935203817e-06\n",
      "targets 0.7450000047683716 0.49000000953674316\n",
      "outputs 0.4495653510093689 1.9935841919505037e-05\n",
      "targets 0.2549999952316284 0.49000000953674316\n",
      "outputs 0.4495648145675659 3.675894549814984e-05\n",
      "targets 0.5 0.5658032894134521\n",
      "outputs 0.4495856463909149 1.0615373867040034e-05\n",
      "targets 0.7450000047683716 0.49000000953674316\n",
      "outputs 0.4495833218097687 1.3614671843242832e-05\n",
      "targets 0.5 0.5658032894134521\n",
      "outputs 0.4495795667171478 5.792215233668685e-06\n",
      "targets 0.2549999952316284 0.49000000953674316\n",
      "outputs 0.44957658648490906 1.9169639926985838e-05\n",
      "targets 0.2549999952316284 0.49000000953674316\n",
      "outputs 0.4495620131492615 5.495156437973492e-05\n",
      "targets 0.5 0.5658032894134521\n",
      "outputs 0.4495784342288971 1.116704606829444e-05\n",
      "targets 0.5 0.5658032894134521\n",
      "outputs 0.4495641589164734 3.609964551287703e-05\n",
      "targets 0.7450000047683716 0.49000000953674316\n",
      "outputs 0.44956347346305847 2.8865148124168627e-05\n",
      "targets 0.7450000047683716 0.49000000953674316\n",
      "outputs 0.4495317041873932 nan0.7035\n",
      "targets 0.9900000095367432 nan\n",
      "Valid Step 16/16, valid_loss: 0.6907\n",
      "[Epoch Valid: 9] loss: 0.6907, auc: 0.5758, time: 7.00 s\n",
      "Train Step 48/131, train_loss: 0.6988\r"
     ]
    },
    {
     "data": {
      "application/vnd.jupyter.widget-view+json": {
       "model_id": "5702a4385f8949728e45d4f0230a15e9",
       "version_major": 2,
       "version_minor": 0
      },
      "text/plain": [
       "HBox(children=(FloatProgress(value=0.0, max=16.0), HTML(value='')))"
      ]
     },
     "metadata": {},
     "output_type": "display_data"
    },
    {
     "name": "stdout",
     "output_type": "stream",
     "text": [
      "outputs 0.45293283462524414 4.819706191483419e-06\n",
      "targets 0.5 0.5658032894134521\n",
      "outputs 0.45292624831199646 1.125670678447932e-06\n",
      "targets 0.5 0.5658032894134521\n",
      "outputs 0.45292410254478455 1.2533787412394304e-05\n",
      "targets 0.7450000047683716 0.49000000953674316\n",
      "outputs 0.452921986579895 1.74979395524133e-05\n",
      "targets 0.5 0.5658032894134521\n",
      "outputs 0.4529271125793457 5.254950337985065e-06\n",
      "targets 0.7450000047683716 0.49000000953674316\n",
      "outputs 0.4529215693473816 2.048749774985481e-05\n",
      "targets 0.2549999952316284 0.49000000953674316\n",
      "outputs 0.45291781425476074 1.316318321187282e-05\n",
      "targets 0.5 0.5658032894134521\n",
      "outputs 0.4529249668121338 4.1384291762369685e-06\n",
      "targets 0.7450000047683716 0.49000000953674316\n",
      "outputs 0.4529283046722412 5.280410277919145e-06\n",
      "targets 0.5 0.5658032894134521\n",
      "outputs 0.4529229998588562 8.281408554466907e-06\n",
      "targets 0.2549999952316284 0.49000000953674316\n",
      "outputs 0.45292431116104126 7.155278126447229e-06\n",
      "targets 0.2549999952316284 0.49000000953674316\n",
      "outputs 0.45290350914001465 4.1153656638925895e-05\n",
      "targets 0.5 0.5658032894134521\n",
      "outputs 0.45293381810188293 5.09985557073378e-06\n",
      "targets 0.5 0.5658032894134521\n",
      "outputs 0.45291438698768616 2.0857289200648665e-05\n",
      "targets 0.7450000047683716 0.49000000953674316\n",
      "outputs 0.45292171835899353 8.041473847697489e-06\n",
      "targets 0.7450000047683716 0.49000000953674316\n",
      "outputs 0.4528970420360565 nan0.7038\n",
      "targets 0.9900000095367432 nan\n",
      "Valid Step 16/16, valid_loss: 0.6908\n",
      "[Epoch Valid: 9] loss: 0.6908, auc: 0.3653, time: 7.00 s\n",
      "Train Step 51/131, train_loss: 0.6978\r"
     ]
    },
    {
     "data": {
      "application/vnd.jupyter.widget-view+json": {
       "model_id": "fca5c1637a2742ada97fd8fe0c0da719",
       "version_major": 2,
       "version_minor": 0
      },
      "text/plain": [
       "HBox(children=(FloatProgress(value=0.0, max=16.0), HTML(value='')))"
      ]
     },
     "metadata": {},
     "output_type": "display_data"
    },
    {
     "name": "stdout",
     "output_type": "stream",
     "text": [
      "outputs 0.4589373767375946 4.730612090497743e-06\n",
      "targets 0.5 0.5658032894134521\n",
      "outputs 0.45892953872680664 1.5010039078333648e-06\n",
      "targets 0.5 0.5658032894134521\n",
      "outputs 0.4589282274246216 1.2699082617473323e-05\n",
      "targets 0.7450000047683716 0.49000000953674316\n",
      "outputs 0.4589235186576843 2.007567491091322e-05\n",
      "targets 0.5 0.5658032894134521\n",
      "outputs 0.4589303433895111 5.768424216512358e-06\n",
      "targets 0.7450000047683716 0.49000000953674316\n",
      "outputs 0.4589238166809082 2.2515117962029763e-05\n",
      "targets 0.2549999952316284 0.49000000953674316\n",
      "outputs 0.4589237570762634 9.81291668722406e-06\n",
      "targets 0.5 0.5658032894134521\n",
      "outputs 0.4589278995990753 5.303054877003888e-06\n",
      "targets 0.7450000047683716 0.49000000953674316\n",
      "outputs 0.45893198251724243 4.92983008371084e-06\n",
      "targets 0.5 0.5658032894134521\n",
      "outputs 0.4589249789714813 1.0489747182873543e-05\n",
      "targets 0.2549999952316284 0.49000000953674316\n",
      "outputs 0.4589281678199768 7.490873485949123e-06\n",
      "targets 0.2549999952316284 0.49000000953674316\n",
      "outputs 0.4589058458805084 4.029785850434564e-05\n",
      "targets 0.5 0.5658032894134521\n",
      "outputs 0.4589371681213379 6.314377969829366e-06\n",
      "targets 0.5 0.5658032894134521\n",
      "outputs 0.45891767740249634 2.03527306439355e-05\n",
      "targets 0.7450000047683716 0.49000000953674316\n",
      "outputs 0.45892664790153503 1.4054873645363841e-05\n",
      "targets 0.7450000047683716 0.49000000953674316\n",
      "outputs 0.45890071988105774 nan.7043\n",
      "targets 0.9900000095367432 nan\n",
      "Valid Step 16/16, valid_loss: 0.6911\n",
      "[Epoch Valid: 9] loss: 0.6911, auc: 0.3755, time: 7.00 s\n",
      "Train Step 54/131, train_loss: 0.6978\r"
     ]
    },
    {
     "data": {
      "application/vnd.jupyter.widget-view+json": {
       "model_id": "5f803c0330e34363a41b716030d84ebe",
       "version_major": 2,
       "version_minor": 0
      },
      "text/plain": [
       "HBox(children=(FloatProgress(value=0.0, max=16.0), HTML(value='')))"
      ]
     },
     "metadata": {},
     "output_type": "display_data"
    },
    {
     "name": "stdout",
     "output_type": "stream",
     "text": [
      "outputs 0.4670557975769043 4.156062004767591e-06\n",
      "targets 0.5 0.5658032894134521\n",
      "outputs 0.4670606851577759 2.654666104717762e-06\n",
      "targets 0.5 0.5658032894134521\n",
      "outputs 0.46705102920532227 1.4967027709644753e-05\n",
      "targets 0.7450000047683716 0.49000000953674316\n",
      "outputs 0.4670461416244507 1.5039807294670027e-05\n",
      "targets 0.5 0.5658032894134521\n",
      "outputs 0.467058002948761 3.180551630066475e-06\n",
      "targets 0.7450000047683716 0.49000000953674316\n",
      "outputs 0.4670465588569641 2.006979048019275e-05\n",
      "targets 0.2549999952316284 0.49000000953674316\n",
      "outputs 0.4670494794845581 1.7852640667115338e-05\n",
      "targets 0.5 0.5658032894134521\n",
      "outputs 0.46705782413482666 3.0099361083557596e-06\n",
      "targets 0.7450000047683716 0.49000000953674316\n",
      "outputs 0.46705886721611023 4.878759227722185e-06\n",
      "targets 0.5 0.5658032894134521\n",
      "outputs 0.46705278754234314 5.230427632341161e-06\n",
      "targets 0.2549999952316284 0.49000000953674316\n",
      "outputs 0.4670533239841461 1.1352279216225725e-05\n",
      "targets 0.2549999952316284 0.49000000953674316\n",
      "outputs 0.46703583002090454 4.283798989490606e-05\n",
      "targets 0.5 0.5658032894134521\n",
      "outputs 0.46705877780914307 1.6146974530784064e-06\n",
      "targets 0.5 0.5658032894134521\n",
      "outputs 0.4670434892177582 2.469659739290364e-05\n",
      "targets 0.7450000047683716 0.49000000953674316\n",
      "outputs 0.4670482277870178 1.5864201486692764e-05\n",
      "targets 0.7450000047683716 0.49000000953674316\n",
      "outputs 0.4670216739177704 nan0.7049\n",
      "targets 0.9900000095367432 nan\n",
      "Valid Step 16/16, valid_loss: 0.6916\n",
      "[Epoch Valid: 9] loss: 0.6916, auc: 0.4843, time: 7.00 s\n",
      "Train Step 57/131, train_loss: 0.6988\r"
     ]
    },
    {
     "data": {
      "application/vnd.jupyter.widget-view+json": {
       "model_id": "4063006aa91f45388b23a44f1d0cbc19",
       "version_major": 2,
       "version_minor": 0
      },
      "text/plain": [
       "HBox(children=(FloatProgress(value=0.0, max=16.0), HTML(value='')))"
      ]
     },
     "metadata": {},
     "output_type": "display_data"
    },
    {
     "name": "stdout",
     "output_type": "stream",
     "text": [
      "outputs 0.47627371549606323 4.910801180812996e-06\n",
      "targets 0.5 0.5658032894134521\n",
      "outputs 0.4762831926345825 3.3782830541895237e-06\n",
      "targets 0.5 0.5658032894134521\n",
      "outputs 0.47626936435699463 1.7149961422546767e-05\n",
      "targets 0.7450000047683716 0.49000000953674316\n",
      "outputs 0.4762642979621887 1.271286510018399e-05\n",
      "targets 0.5 0.5658032894134521\n",
      "outputs 0.47627919912338257 4.761148375109769e-06\n",
      "targets 0.7450000047683716 0.49000000953674316\n",
      "outputs 0.47626495361328125 1.8674327293410897e-05\n",
      "targets 0.2549999952316284 0.49000000953674316\n",
      "outputs 0.4762686789035797 2.357716584810987e-05\n",
      "targets 0.5 0.5658032894134521\n",
      "outputs 0.4762793779373169 5.731519649998518e-06\n",
      "targets 0.7450000047683716 0.49000000953674316\n",
      "outputs 0.4762793779373169 7.371030733338557e-06\n",
      "targets 0.5 0.5658032894134521\n",
      "outputs 0.47627419233322144 3.842574187729042e-06\n",
      "targets 0.2549999952316284 0.49000000953674316\n",
      "outputs 0.47627317905426025 1.4592161278415006e-05\n",
      "targets 0.2549999952316284 0.49000000953674316\n",
      "outputs 0.47625696659088135 4.516480476013385e-05\n",
      "targets 0.5 0.5658032894134521\n",
      "outputs 0.47627681493759155 4.523265488387551e-06\n",
      "targets 0.5 0.5658032894134521\n",
      "outputs 0.47626280784606934 2.7787707949755713e-05\n",
      "targets 0.7450000047683716 0.49000000953674316\n",
      "outputs 0.47626519203186035 1.9697363313753158e-05\n",
      "targets 0.7450000047683716 0.49000000953674316\n",
      "outputs 0.47623851895332336 nan.7057\n",
      "targets 0.9900000095367432 nan\n",
      "Valid Step 16/16, valid_loss: 0.6921\n",
      "[Epoch Valid: 9] loss: 0.6921, auc: 0.5465, time: 7.00 s\n",
      "Train Step 60/131, train_loss: 0.6989\r"
     ]
    },
    {
     "data": {
      "application/vnd.jupyter.widget-view+json": {
       "model_id": "1f1e08362a5941b3b08b09d509e2c994",
       "version_major": 2,
       "version_minor": 0
      },
      "text/plain": [
       "HBox(children=(FloatProgress(value=0.0, max=16.0), HTML(value='')))"
      ]
     },
     "metadata": {},
     "output_type": "display_data"
    },
    {
     "name": "stdout",
     "output_type": "stream",
     "text": [
      "outputs 0.49061140418052673 8.326198440045118e-06\n",
      "targets 0.5 0.5658032894134521\n",
      "outputs 0.49062755703926086 5.809465619677212e-06\n",
      "targets 0.5 0.5658032894134521\n",
      "outputs 0.4906085133552551 2.1079931684653275e-05\n",
      "targets 0.7450000047683716 0.49000000953674316\n",
      "outputs 0.49060243368148804 1.3460959962685592e-05\n",
      "targets 0.5 0.5658032894134521\n",
      "outputs 0.49062222242355347 7.4323788794572465e-06\n",
      "targets 0.7450000047683716 0.49000000953674316\n",
      "outputs 0.4906027317047119 1.9045688532060012e-05\n",
      "targets 0.2549999952316284 0.49000000953674316\n",
      "outputs 0.4906066060066223 3.308362283860333e-05\n",
      "targets 0.5 0.5658032894134521\n",
      "outputs 0.490622878074646 9.757056432135869e-06\n",
      "targets 0.7450000047683716 0.49000000953674316\n",
      "outputs 0.4906212091445923 1.2169776709924918e-05\n",
      "targets 0.5 0.5658032894134521\n",
      "outputs 0.49061501026153564 4.440746124600992e-06\n",
      "targets 0.2549999952316284 0.49000000953674316\n",
      "outputs 0.4906139373779297 2.0794102965737693e-05\n",
      "targets 0.2549999952316284 0.49000000953674316\n",
      "outputs 0.49059781432151794 5.1068422180833295e-05\n",
      "targets 0.5 0.5658032894134521\n",
      "outputs 0.49061623215675354 8.381334737350699e-06\n",
      "targets 0.5 0.5658032894134521\n",
      "outputs 0.49060294032096863 3.3079490094678476e-05\n",
      "targets 0.7450000047683716 0.49000000953674316\n",
      "outputs 0.4906006455421448 2.5150944566121325e-05\n",
      "targets 0.7450000047683716 0.49000000953674316\n",
      "outputs 0.49057236313819885 nan.7069\n",
      "targets 0.9900000095367432 nan\n",
      "Valid Step 16/16, valid_loss: 0.6929\n",
      "[Epoch Valid: 9] loss: 0.6929, auc: 0.5666, time: 7.00 s\n",
      "Train Step 63/131, train_loss: 0.6987\r"
     ]
    },
    {
     "data": {
      "application/vnd.jupyter.widget-view+json": {
       "model_id": "dff93f6621244156b62c4e7ba26c8143",
       "version_major": 2,
       "version_minor": 0
      },
      "text/plain": [
       "HBox(children=(FloatProgress(value=0.0, max=16.0), HTML(value='')))"
      ]
     },
     "metadata": {},
     "output_type": "display_data"
    },
    {
     "name": "stdout",
     "output_type": "stream",
     "text": [
      "outputs 0.502029538154602 1.0702477993618231e-05\n",
      "targets 0.5 0.5658032894134521\n",
      "outputs 0.502044677734375 5.7739130170375574e-06\n",
      "targets 0.5 0.5658032894134521\n",
      "outputs 0.5020268559455872 2.1042858861619607e-05\n",
      "targets 0.7450000047683716 0.49000000953674316\n",
      "outputs 0.502018392086029 1.4862825992167927e-05\n",
      "targets 0.5 0.5658032894134521\n",
      "outputs 0.5020397901535034 6.2157673710316885e-06\n",
      "targets 0.7450000047683716 0.49000000953674316\n",
      "outputs 0.5020192265510559 2.175109511881601e-05\n",
      "targets 0.2549999952316284 0.49000000953674316\n",
      "outputs 0.5020248889923096 3.404799281270243e-05\n",
      "targets 0.5 0.5658032894134521\n",
      "outputs 0.5020400285720825 9.344632417196408e-06\n",
      "targets 0.7450000047683716 0.49000000953674316\n",
      "outputs 0.5020384788513184 1.1896043361048214e-05\n",
      "targets 0.5 0.5658032894134521\n",
      "outputs 0.5020313262939453 5.481575499288738e-06\n",
      "targets 0.2549999952316284 0.49000000953674316\n",
      "outputs 0.5020309686660767 2.1236910470179282e-05\n",
      "targets 0.2549999952316284 0.49000000953674316\n",
      "outputs 0.5020120739936829 5.5690274166408926e-05\n",
      "targets 0.5 0.5658032894134521\n",
      "outputs 0.502034068107605 7.783752153045498e-06\n",
      "targets 0.5 0.5658032894134521\n",
      "outputs 0.5020188093185425 3.445225956966169e-05\n",
      "targets 0.7450000047683716 0.49000000953674316\n",
      "outputs 0.5020180940628052 2.8163442038930953e-05\n",
      "targets 0.7450000047683716 0.49000000953674316\n",
      "outputs 0.5019870400428772 nan0.7079\n",
      "targets 0.9900000095367432 nan\n",
      "Valid Step 16/16, valid_loss: 0.6936\n",
      "[Epoch Valid: 9] loss: 0.6936, auc: 0.5747, time: 7.00 s\n",
      "Train Step 66/131, train_loss: 0.6979\r"
     ]
    },
    {
     "data": {
      "application/vnd.jupyter.widget-view+json": {
       "model_id": "d36f5c7c816244278b42d524df096674",
       "version_major": 2,
       "version_minor": 0
      },
      "text/plain": [
       "HBox(children=(FloatProgress(value=0.0, max=16.0), HTML(value='')))"
      ]
     },
     "metadata": {},
     "output_type": "display_data"
    },
    {
     "name": "stdout",
     "output_type": "stream",
     "text": [
      "outputs 0.5219781398773193 1.3323071470949799e-05\n",
      "targets 0.5 0.5658032894134521\n",
      "outputs 0.5219964981079102 6.899993877595989e-06\n",
      "targets 0.5 0.5658032894134521\n",
      "outputs 0.5219740867614746 2.4767696231720038e-05\n",
      "targets 0.7450000047683716 0.49000000953674316\n",
      "outputs 0.5219665169715881 1.5962030374794267e-05\n",
      "targets 0.5 0.5658032894134521\n",
      "outputs 0.5219911336898804 7.109170837793499e-06\n",
      "targets 0.7450000047683716 0.49000000953674316\n",
      "outputs 0.5219682455062866 2.412826506770216e-05\n",
      "targets 0.2549999952316284 0.49000000953674316\n",
      "outputs 0.5219711065292358 4.568173972074874e-05\n",
      "targets 0.5 0.5658032894134521\n",
      "outputs 0.5219911336898804 1.2129386959713884e-05\n",
      "targets 0.7450000047683716 0.49000000953674316\n",
      "outputs 0.5219889879226685 1.3644539649249054e-05\n",
      "targets 0.5 0.5658032894134521\n",
      "outputs 0.5219824910163879 6.643890628765803e-06\n",
      "targets 0.2549999952316284 0.49000000953674316\n",
      "outputs 0.5219800472259521 2.5420315068913624e-05\n",
      "targets 0.2549999952316284 0.49000000953674316\n",
      "outputs 0.5219588279724121 6.435888644773513e-05\n",
      "targets 0.5 0.5658032894134521\n",
      "outputs 0.521984338760376 9.314803719462361e-06\n",
      "targets 0.5 0.5658032894134521\n",
      "outputs 0.5219669938087463 4.0058941522147506e-05\n",
      "targets 0.7450000047683716 0.49000000953674316\n",
      "outputs 0.52196204662323 3.4846201742766425e-05\n",
      "targets 0.7450000047683716 0.49000000953674316\n",
      "outputs 0.52192622423172 nan: 0.7098\n",
      "targets 0.9900000095367432 nan\n",
      "Valid Step 16/16, valid_loss: 0.6949\n",
      "[Epoch Valid: 9] loss: 0.6949, auc: 0.5763, time: 7.00 s\n",
      "Train Step 69/131, train_loss: 0.6985\r"
     ]
    },
    {
     "data": {
      "application/vnd.jupyter.widget-view+json": {
       "model_id": "e8c1f4115a03493081c12d3ae6e9007e",
       "version_major": 2,
       "version_minor": 0
      },
      "text/plain": [
       "HBox(children=(FloatProgress(value=0.0, max=16.0), HTML(value='')))"
      ]
     },
     "metadata": {},
     "output_type": "display_data"
    },
    {
     "name": "stdout",
     "output_type": "stream",
     "text": [
      "outputs 0.5299074649810791 1.2988206435693428e-05\n",
      "targets 0.5 0.5658032894134521\n",
      "outputs 0.5299248695373535 6.712781669193646e-06\n",
      "targets 0.5 0.5658032894134521\n",
      "outputs 0.5299023389816284 2.5214467314071953e-05\n",
      "targets 0.7450000047683716 0.49000000953674316\n",
      "outputs 0.529895007610321 1.656054701015819e-05\n",
      "targets 0.5 0.5658032894134521\n",
      "outputs 0.5299197435379028 6.793665761506418e-06\n",
      "targets 0.7450000047683716 0.49000000953674316\n",
      "outputs 0.52989661693573 2.490982114977669e-05\n",
      "targets 0.2549999952316284 0.49000000953674316\n",
      "outputs 0.5298975706100464 4.8724297812441364e-05\n",
      "targets 0.5 0.5658032894134521\n",
      "outputs 0.5299201011657715 1.1257311598455999e-05\n",
      "targets 0.7450000047683716 0.49000000953674316\n",
      "outputs 0.5299179553985596 1.3030057743890211e-05\n",
      "targets 0.5 0.5658032894134521\n",
      "outputs 0.5299108028411865 6.068463335395791e-06\n",
      "targets 0.2549999952316284 0.49000000953674316\n",
      "outputs 0.5299091339111328 2.4765735361143015e-05\n",
      "targets 0.2549999952316284 0.49000000953674316\n",
      "outputs 0.5298864245414734 6.61413578200154e-05\n",
      "targets 0.5 0.5658032894134521\n",
      "outputs 0.5299129486083984 9.095552741200663e-06\n",
      "targets 0.5 0.5658032894134521\n",
      "outputs 0.5298952460289001 4.0702045225771144e-05\n",
      "targets 0.7450000047683716 0.49000000953674316\n",
      "outputs 0.5298900604248047 3.484096669126302e-05\n",
      "targets 0.7450000047683716 0.49000000953674316\n",
      "outputs 0.5298535227775574 nan0.7105\n",
      "targets 0.9900000095367432 nan\n",
      "Valid Step 16/16, valid_loss: 0.6954\n",
      "[Epoch Valid: 9] loss: 0.6954, auc: 0.5747, time: 7.00 s\n",
      "Train Step 72/131, train_loss: 0.6984\r"
     ]
    },
    {
     "data": {
      "application/vnd.jupyter.widget-view+json": {
       "model_id": "a359138f5e2844ffaf3551af95df5ee7",
       "version_major": 2,
       "version_minor": 0
      },
      "text/plain": [
       "HBox(children=(FloatProgress(value=0.0, max=16.0), HTML(value='')))"
      ]
     },
     "metadata": {},
     "output_type": "display_data"
    },
    {
     "name": "stdout",
     "output_type": "stream",
     "text": [
      "outputs 0.5291984677314758 1.2225419595779385e-05\n",
      "targets 0.5 0.5658032894134521\n",
      "outputs 0.5292142629623413 6.277711236180039e-06\n",
      "targets 0.5 0.5658032894134521\n",
      "outputs 0.5291931629180908 2.4547780412831344e-05\n",
      "targets 0.7450000047683716 0.49000000953674316\n",
      "outputs 0.5291846990585327 1.7230742741958238e-05\n",
      "targets 0.5 0.5658032894134521\n",
      "outputs 0.529209315776825 6.3630109252699185e-06\n",
      "targets 0.7450000047683716 0.49000000953674316\n",
      "outputs 0.5291861891746521 2.5856017600744963e-05\n",
      "targets 0.2549999952316284 0.49000000953674316\n",
      "outputs 0.5291881561279297 4.605773210641928e-05\n",
      "targets 0.5 0.5658032894134521\n",
      "outputs 0.5292097926139832 9.880537618300878e-06\n",
      "targets 0.7450000047683716 0.49000000953674316\n",
      "outputs 0.5292081832885742 1.1953716239077039e-05\n",
      "targets 0.5 0.5658032894134521\n",
      "outputs 0.5292000770568848 5.80556570639601e-06\n",
      "targets 0.2549999952316284 0.49000000953674316\n",
      "outputs 0.529199481010437 2.3450658773072064e-05\n",
      "targets 0.2549999952316284 0.49000000953674316\n",
      "outputs 0.5291756987571716 6.638814375037327e-05\n",
      "targets 0.5 0.5658032894134521\n",
      "outputs 0.5292032957077026 8.176670235116035e-06\n",
      "targets 0.5 0.5658032894134521\n",
      "outputs 0.5291850566864014 3.9882328564999625e-05\n",
      "targets 0.7450000047683716 0.49000000953674316\n",
      "outputs 0.5291823148727417 3.3547428756719455e-05\n",
      "targets 0.7450000047683716 0.49000000953674316\n",
      "outputs 0.5291457176208496 nan0.7105\n",
      "targets 0.9900000095367432 nan\n",
      "Valid Step 16/16, valid_loss: 0.6953\n",
      "[Epoch Valid: 9] loss: 0.6953, auc: 0.5731, time: 7.00 s\n",
      "Train Step 75/131, train_loss: 0.6974\r"
     ]
    },
    {
     "data": {
      "application/vnd.jupyter.widget-view+json": {
       "model_id": "e42dcc321474459d8fdaf5b992f77a8a",
       "version_major": 2,
       "version_minor": 0
      },
      "text/plain": [
       "HBox(children=(FloatProgress(value=0.0, max=16.0), HTML(value='')))"
      ]
     },
     "metadata": {},
     "output_type": "display_data"
    },
    {
     "name": "stdout",
     "output_type": "stream",
     "text": [
      "outputs 0.5346863269805908 1.3263093933346681e-05\n",
      "targets 0.5 0.5658032894134521\n",
      "outputs 0.5347023606300354 6.767336799384793e-06\n",
      "targets 0.5 0.5658032894134521\n",
      "outputs 0.5346797108650208 2.6680896553443745e-05\n",
      "targets 0.7450000047683716 0.49000000953674316\n",
      "outputs 0.5346711277961731 1.9174995031789877e-05\n",
      "targets 0.5 0.5658032894134521\n",
      "outputs 0.5346973538398743 6.625014520977857e-06\n",
      "targets 0.7450000047683716 0.49000000953674316\n",
      "outputs 0.5346726179122925 2.7773141482612118e-05\n",
      "targets 0.2549999952316284 0.49000000953674316\n",
      "outputs 0.5346730947494507 5.133900776854716e-05\n",
      "targets 0.5 0.5658032894134521\n",
      "outputs 0.5346978306770325 1.0409646165498998e-05\n",
      "targets 0.7450000047683716 0.49000000953674316\n",
      "outputs 0.5346961617469788 1.2256014997547027e-05\n",
      "targets 0.5 0.5658032894134521\n",
      "outputs 0.5346872210502625 5.858361419086577e-06\n",
      "targets 0.2549999952316284 0.49000000953674316\n",
      "outputs 0.5346869230270386 2.470982144586742e-05\n",
      "targets 0.2549999952316284 0.49000000953674316\n",
      "outputs 0.5346612334251404 7.073974120430648e-05\n",
      "targets 0.5 0.5658032894134521\n",
      "outputs 0.5346916317939758 8.237669135269243e-06\n",
      "targets 0.5 0.5658032894134521\n",
      "outputs 0.5346716642379761 4.2104391468456015e-05\n",
      "targets 0.7450000047683716 0.49000000953674316\n",
      "outputs 0.5346671938896179 3.561144330888055e-05\n",
      "targets 0.7450000047683716 0.49000000953674316\n",
      "outputs 0.5346290469169617 nan0.7110\n",
      "targets 0.9900000095367432 nan\n",
      "Valid Step 16/16, valid_loss: 0.6957\n",
      "[Epoch Valid: 9] loss: 0.6957, auc: 0.5682, time: 7.00 s\n",
      "Train Step 78/131, train_loss: 0.6959\r"
     ]
    },
    {
     "data": {
      "application/vnd.jupyter.widget-view+json": {
       "model_id": "a71c0a07460f4fa8b875cd7944f069fc",
       "version_major": 2,
       "version_minor": 0
      },
      "text/plain": [
       "HBox(children=(FloatProgress(value=0.0, max=16.0), HTML(value='')))"
      ]
     },
     "metadata": {},
     "output_type": "display_data"
    },
    {
     "name": "stdout",
     "output_type": "stream",
     "text": [
      "outputs 0.5445734262466431 1.4682697837997694e-05\n",
      "targets 0.5 0.5658032894134521\n",
      "outputs 0.5445917844772339 7.839314093871508e-06\n",
      "targets 0.5 0.5658032894134521\n",
      "outputs 0.5445663928985596 2.9163893486838788e-05\n",
      "targets 0.7450000047683716 0.49000000953674316\n",
      "outputs 0.5445575714111328 2.071779454126954e-05\n",
      "targets 0.5 0.5658032894134521\n",
      "outputs 0.544586181640625 7.860057849029545e-06\n",
      "targets 0.7450000047683716 0.49000000953674316\n",
      "outputs 0.544558584690094 2.905505789385643e-05\n",
      "targets 0.2549999952316284 0.49000000953674316\n",
      "outputs 0.5445574522018433 5.934761793469079e-05\n",
      "targets 0.5 0.5658032894134521\n",
      "outputs 0.544586718082428 1.2135024007875472e-05\n",
      "targets 0.7450000047683716 0.49000000953674316\n",
      "outputs 0.5445849299430847 1.4077804735279642e-05\n",
      "targets 0.5 0.5658032894134521\n",
      "outputs 0.5445743799209595 5.882971436221851e-06\n",
      "targets 0.2549999952316284 0.49000000953674316\n",
      "outputs 0.5445751547813416 2.725110243773088e-05\n",
      "targets 0.2549999952316284 0.49000000953674316\n",
      "outputs 0.5445480346679688 7.547701534349471e-05\n",
      "targets 0.5 0.5658032894134521\n",
      "outputs 0.5445793867111206 9.711564416647889e-06\n",
      "targets 0.5 0.5658032894134521\n",
      "outputs 0.5445588827133179 4.4519641960505396e-05\n",
      "targets 0.7450000047683716 0.49000000953674316\n",
      "outputs 0.5445513725280762 3.87200343539007e-05\n",
      "targets 0.7450000047683716 0.49000000953674316\n",
      "outputs 0.5445123910903931 nan0.7120\n",
      "targets 0.9900000095367432 nan\n",
      "Valid Step 16/16, valid_loss: 0.6964\n",
      "[Epoch Valid: 9] loss: 0.6964, auc: 0.5720, time: 7.00 s\n",
      "Train Step 81/131, train_loss: 0.6966\r"
     ]
    },
    {
     "data": {
      "application/vnd.jupyter.widget-view+json": {
       "model_id": "565683bb542e4b66b078021585d6d028",
       "version_major": 2,
       "version_minor": 0
      },
      "text/plain": [
       "HBox(children=(FloatProgress(value=0.0, max=16.0), HTML(value='')))"
      ]
     },
     "metadata": {},
     "output_type": "display_data"
    },
    {
     "name": "stdout",
     "output_type": "stream",
     "text": [
      "outputs 0.5512251257896423 1.4225357517716475e-05\n",
      "targets 0.5 0.5658032894134521\n",
      "outputs 0.5512429475784302 7.4859417509287596e-06\n",
      "targets 0.5 0.5658032894134521\n",
      "outputs 0.5512176752090454 2.8472662961576134e-05\n",
      "targets 0.7450000047683716 0.49000000953674316\n",
      "outputs 0.551209568977356 2.0158226107014343e-05\n",
      "targets 0.5 0.5658032894134521\n",
      "outputs 0.5512375235557556 7.668179023312405e-06\n",
      "targets 0.7450000047683716 0.49000000953674316\n",
      "outputs 0.5512115955352783 2.7107109417556785e-05\n",
      "targets 0.2549999952316284 0.49000000953674316\n",
      "outputs 0.5512082576751709 6.085467248340137e-05\n",
      "targets 0.5 0.5658032894134521\n",
      "outputs 0.5512377023696899 1.2249708561284933e-05\n",
      "targets 0.7450000047683716 0.49000000953674316\n",
      "outputs 0.5512362122535706 1.3797627616440877e-05\n",
      "targets 0.5 0.5658032894134521\n",
      "outputs 0.5512268543243408 5.704997875000117e-06\n",
      "targets 0.2549999952316284 0.49000000953674316\n",
      "outputs 0.5512264966964722 2.6625057216733694e-05\n",
      "targets 0.2549999952316284 0.49000000953674316\n",
      "outputs 0.5512006282806396 7.36088550183922e-05\n",
      "targets 0.5 0.5658032894134521\n",
      "outputs 0.5512310266494751 9.661684089223854e-06\n",
      "targets 0.5 0.5658032894134521\n",
      "outputs 0.5512106418609619 4.378439552965574e-05\n",
      "targets 0.7450000047683716 0.49000000953674316\n",
      "outputs 0.5512022972106934 3.8434121961472556e-05\n",
      "targets 0.7450000047683716 0.49000000953674316\n",
      "outputs 0.551165759563446 nan 0.7126\n",
      "targets 0.9900000095367432 nan\n",
      "Valid Step 16/16, valid_loss: 0.6969\n",
      "[Epoch Valid: 9] loss: 0.6969, auc: 0.5693, time: 7.00 s\n",
      "Train Step 84/131, train_loss: 0.6948\r"
     ]
    },
    {
     "data": {
      "application/vnd.jupyter.widget-view+json": {
       "model_id": "17dc820323cd482590ba38da486a275f",
       "version_major": 2,
       "version_minor": 0
      },
      "text/plain": [
       "HBox(children=(FloatProgress(value=0.0, max=16.0), HTML(value='')))"
      ]
     },
     "metadata": {},
     "output_type": "display_data"
    },
    {
     "name": "stdout",
     "output_type": "stream",
     "text": [
      "outputs 0.5630431771278381 1.5121265278139617e-05\n",
      "targets 0.5 0.5658032894134521\n",
      "outputs 0.5630632638931274 8.093438736977987e-06\n",
      "targets 0.5 0.5658032894134521\n",
      "outputs 0.5630348920822144 3.05800094793085e-05\n",
      "targets 0.7450000047683716 0.49000000953674316\n",
      "outputs 0.5630276203155518 2.1556330466410145e-05\n",
      "targets 0.5 0.5658032894134521\n",
      "outputs 0.5630571842193604 8.832522325974423e-06\n",
      "targets 0.7450000047683716 0.49000000953674316\n",
      "outputs 0.5630300641059875 2.6706351491156965e-05\n",
      "targets 0.2549999952316284 0.49000000953674316\n",
      "outputs 0.5630226135253906 7.020759949227795e-05\n",
      "targets 0.5 0.5658032894134521\n",
      "outputs 0.5630574822425842 1.4154524251352996e-05\n",
      "targets 0.7450000047683716 0.49000000953674316\n",
      "outputs 0.5630555748939514 1.536709714855533e-05\n",
      "targets 0.5 0.5658032894134521\n",
      "outputs 0.5630465149879456 5.060255261923885e-06\n",
      "targets 0.2549999952316284 0.49000000953674316\n",
      "outputs 0.5630453824996948 2.8814249162678607e-05\n",
      "targets 0.2549999952316284 0.49000000953674316\n",
      "outputs 0.563019335269928 7.647803431609645e-05\n",
      "targets 0.5 0.5658032894134521\n",
      "outputs 0.5630497932434082 1.1298106983304024e-05\n",
      "targets 0.5 0.5658032894134521\n",
      "outputs 0.563029408454895 4.552706377580762e-05\n",
      "targets 0.7450000047683716 0.49000000953674316\n",
      "outputs 0.5630159378051758 4.1584353311918676e-05\n",
      "targets 0.7450000047683716 0.49000000953674316\n",
      "outputs 0.5629810094833374 nan0.7139\n",
      "targets 0.9900000095367432 nan\n",
      "Valid Step 16/16, valid_loss: 0.6978\n",
      "[Epoch Valid: 9] loss: 0.6978, auc: 0.5682, time: 7.00 s\n",
      "Train Step 87/131, train_loss: 0.6943\r"
     ]
    },
    {
     "data": {
      "application/vnd.jupyter.widget-view+json": {
       "model_id": "3e8014030a2b4500a6fc72b6e6286b66",
       "version_major": 2,
       "version_minor": 0
      },
      "text/plain": [
       "HBox(children=(FloatProgress(value=0.0, max=16.0), HTML(value='')))"
      ]
     },
     "metadata": {},
     "output_type": "display_data"
    },
    {
     "name": "stdout",
     "output_type": "stream",
     "text": [
      "outputs 0.576687216758728 1.5909621652099304e-05\n",
      "targets 0.5 0.5658032894134521\n",
      "outputs 0.5767085552215576 8.497895578329917e-06\n",
      "targets 0.5 0.5658032894134521\n",
      "outputs 0.5766790509223938 3.092675979132764e-05\n",
      "targets 0.7450000047683716 0.49000000953674316\n",
      "outputs 0.5766738653182983 2.1551990357693285e-05\n",
      "targets 0.5 0.5658032894134521\n",
      "outputs 0.576702892780304 9.315788702224381e-06\n",
      "targets 0.7450000047683716 0.49000000953674316\n",
      "outputs 0.5766764283180237 2.414338814560324e-05\n",
      "targets 0.2549999952316284 0.49000000953674316\n",
      "outputs 0.576665997505188 7.46923906262964e-05\n",
      "targets 0.5 0.5658032894134521\n",
      "outputs 0.5767027735710144 1.5927011190797202e-05\n",
      "targets 0.7450000047683716 0.49000000953674316\n",
      "outputs 0.5767004489898682 1.6542140656383708e-05\n",
      "targets 0.5 0.5658032894134521\n",
      "outputs 0.576693058013916 5.408279776020208e-06\n",
      "targets 0.2549999952316284 0.49000000953674316\n",
      "outputs 0.5766903162002563 2.9883849492762238e-05\n",
      "targets 0.2549999952316284 0.49000000953674316\n",
      "outputs 0.5766669511795044 7.335227564908564e-05\n",
      "targets 0.5 0.5658032894134521\n",
      "outputs 0.5766945481300354 1.2440676073310897e-05\n",
      "targets 0.5 0.5658032894134521\n",
      "outputs 0.5766757130622864 4.457190880202688e-05\n",
      "targets 0.7450000047683716 0.49000000953674316\n",
      "outputs 0.5766579508781433 4.402579361340031e-05\n",
      "targets 0.7450000047683716 0.49000000953674316\n",
      "outputs 0.5766263604164124 nan0.7153\n",
      "targets 0.9900000095367432 nan\n",
      "Valid Step 16/16, valid_loss: 0.6988\n",
      "[Epoch Valid: 9] loss: 0.6988, auc: 0.5741, time: 7.00 s\n",
      "Train Step 90/131, train_loss: 0.6947\r"
     ]
    },
    {
     "data": {
      "application/vnd.jupyter.widget-view+json": {
       "model_id": "7048808d33e94eee81a60162b99e5171",
       "version_major": 2,
       "version_minor": 0
      },
      "text/plain": [
       "HBox(children=(FloatProgress(value=0.0, max=16.0), HTML(value='')))"
      ]
     },
     "metadata": {},
     "output_type": "display_data"
    },
    {
     "name": "stdout",
     "output_type": "stream",
     "text": [
      "outputs 0.583764910697937 1.674199302215129e-05\n",
      "targets 0.5 0.5658032894134521\n",
      "outputs 0.5837860703468323 9.039033102453686e-06\n",
      "targets 0.5 0.5658032894134521\n",
      "outputs 0.5837565064430237 3.135168299195357e-05\n",
      "targets 0.7450000047683716 0.49000000953674316\n",
      "outputs 0.5837500095367432 2.288210453116335e-05\n",
      "targets 0.5 0.5658032894134521\n",
      "outputs 0.5837805867195129 9.571604095981456e-06\n",
      "targets 0.7450000047683716 0.49000000953674316\n",
      "outputs 0.5837530493736267 2.4299513825098984e-05\n",
      "targets 0.2549999952316284 0.49000000953674316\n",
      "outputs 0.5837423205375671 7.533986354246736e-05\n",
      "targets 0.5 0.5658032894134521\n",
      "outputs 0.5837801694869995 1.6326923287124373e-05\n",
      "targets 0.7450000047683716 0.49000000953674316\n",
      "outputs 0.5837781429290771 1.690871431492269e-05\n",
      "targets 0.5 0.5658032894134521\n",
      "outputs 0.5837699174880981 5.175317255634582e-06\n",
      "targets 0.2549999952316284 0.49000000953674316\n",
      "outputs 0.5837679505348206 3.052745159948245e-05\n",
      "targets 0.2549999952316284 0.49000000953674316\n",
      "outputs 0.5837438106536865 7.407728844555095e-05\n",
      "targets 0.5 0.5658032894134521\n",
      "outputs 0.5837725400924683 1.248196804226609e-05\n",
      "targets 0.5 0.5658032894134521\n",
      "outputs 0.5837535262107849 4.349485243437812e-05\n",
      "targets 0.7450000047683716 0.49000000953674316\n",
      "outputs 0.5837336182594299 4.4174306822242215e-05\n",
      "targets 0.7450000047683716 0.49000000953674316\n",
      "outputs 0.5837038159370422 nan0.7161\n",
      "targets 0.9900000095367432 nan\n",
      "Valid Step 16/16, valid_loss: 0.6994\n",
      "[Epoch Valid: 9] loss: 0.6994, auc: 0.5747, time: 7.00 s\n",
      "Train Step 93/131, train_loss: 0.6915\r"
     ]
    },
    {
     "data": {
      "application/vnd.jupyter.widget-view+json": {
       "model_id": "22c8e8545805445dad0cb9e447839a94",
       "version_major": 2,
       "version_minor": 0
      },
      "text/plain": [
       "HBox(children=(FloatProgress(value=0.0, max=16.0), HTML(value='')))"
      ]
     },
     "metadata": {},
     "output_type": "display_data"
    },
    {
     "name": "stdout",
     "output_type": "stream",
     "text": [
      "outputs 0.599431037902832 1.997468643821776e-05\n",
      "targets 0.5 0.5658032894134521\n",
      "outputs 0.5994547009468079 1.0863372153835371e-05\n",
      "targets 0.5 0.5658032894134521\n",
      "outputs 0.59942227602005 3.4717220842139795e-05\n",
      "targets 0.7450000047683716 0.49000000953674316\n",
      "outputs 0.5994135141372681 2.711003617150709e-05\n",
      "targets 0.5 0.5658032894134521\n",
      "outputs 0.5994488596916199 1.1426098353695124e-05\n",
      "targets 0.7450000047683716 0.49000000953674316\n",
      "outputs 0.5994169116020203 2.5979888960137032e-05\n",
      "targets 0.2549999952316284 0.49000000953674316\n",
      "outputs 0.5994046926498413 8.355292811756954e-05\n",
      "targets 0.5 0.5658032894134521\n",
      "outputs 0.5994484424591064 1.8913793610408902e-05\n",
      "targets 0.7450000047683716 0.49000000953674316\n",
      "outputs 0.5994460582733154 1.9738648916245438e-05\n",
      "targets 0.5 0.5658032894134521\n",
      "outputs 0.5994360446929932 5.284739927446935e-06\n",
      "targets 0.2549999952316284 0.49000000953674316\n",
      "outputs 0.5994348526000977 3.486468267510645e-05\n",
      "targets 0.2549999952316284 0.49000000953674316\n",
      "outputs 0.5994086265563965 8.017547224881127e-05\n",
      "targets 0.5 0.5658032894134521\n",
      "outputs 0.5994400382041931 1.4217863281373866e-05\n",
      "targets 0.5 0.5658032894134521\n",
      "outputs 0.5994207262992859 4.439605982042849e-05\n",
      "targets 0.7450000047683716 0.49000000953674316\n",
      "outputs 0.5993934869766235 4.934823664370924e-05\n",
      "targets 0.7450000047683716 0.49000000953674316\n",
      "outputs 0.5993656516075134 nan0.7178\n",
      "targets 0.9900000095367432 nan\n",
      "Valid Step 16/16, valid_loss: 0.7007\n",
      "[Epoch Valid: 9] loss: 0.7007, auc: 0.5779, time: 7.00 s\n",
      "Train Step 96/131, train_loss: 0.6922\r"
     ]
    },
    {
     "data": {
      "application/vnd.jupyter.widget-view+json": {
       "model_id": "794fa7f34c474606b0f8f294f6f6b0e4",
       "version_major": 2,
       "version_minor": 0
      },
      "text/plain": [
       "HBox(children=(FloatProgress(value=0.0, max=16.0), HTML(value='')))"
      ]
     },
     "metadata": {},
     "output_type": "display_data"
    },
    {
     "name": "stdout",
     "output_type": "stream",
     "text": [
      "outputs 0.6040929555892944 2.158306961064227e-05\n",
      "targets 0.5 0.5658032894134521\n",
      "outputs 0.6041197776794434 1.2485643310355954e-05\n",
      "targets 0.5 0.5658032894134521\n",
      "outputs 0.6040849685668945 3.731215838342905e-05\n",
      "targets 0.7450000047683716 0.49000000953674316\n",
      "outputs 0.6040729284286499 2.9839988201274537e-05\n",
      "targets 0.5 0.5658032894134521\n",
      "outputs 0.6041127443313599 1.3590883099823259e-05\n",
      "targets 0.7450000047683716 0.49000000953674316\n",
      "outputs 0.6040761470794678 2.7912576115340926e-05\n",
      "targets 0.2549999952316284 0.49000000953674316\n",
      "outputs 0.6040655970573425 8.656314457766712e-05\n",
      "targets 0.5 0.5658032894134521\n",
      "outputs 0.6041128635406494 2.0594634406734258e-05\n",
      "targets 0.7450000047683716 0.49000000953674316\n",
      "outputs 0.6041103601455688 2.2208443624549545e-05\n",
      "targets 0.5 0.5658032894134521\n",
      "outputs 0.6040973663330078 5.4104143600852694e-06\n",
      "targets 0.2549999952316284 0.49000000953674316\n",
      "outputs 0.6040982604026794 3.8423851947300136e-05\n",
      "targets 0.2549999952316284 0.49000000953674316\n",
      "outputs 0.604070246219635 8.577199332648888e-05\n",
      "targets 0.5 0.5658032894134521\n",
      "outputs 0.6041025519371033 1.6093585145426914e-05\n",
      "targets 0.5 0.5658032894134521\n",
      "outputs 0.604083776473999 4.603984416462481e-05\n",
      "targets 0.7450000047683716 0.49000000953674316\n",
      "outputs 0.604053258895874 5.1695948059204966e-05\n",
      "targets 0.7450000047683716 0.49000000953674316\n",
      "outputs 0.6040257215499878 nan0.7183\n",
      "targets 0.9900000095367432 nan\n",
      "Valid Step 16/16, valid_loss: 0.7011\n",
      "[Epoch Valid: 9] loss: 0.7011, auc: 0.5812, time: 7.00 s\n",
      "Train Step 99/131, train_loss: 0.6931\r"
     ]
    },
    {
     "data": {
      "application/vnd.jupyter.widget-view+json": {
       "model_id": "4de9c010eb324dbbadfc61f0a074c53b",
       "version_major": 2,
       "version_minor": 0
      },
      "text/plain": [
       "HBox(children=(FloatProgress(value=0.0, max=16.0), HTML(value='')))"
      ]
     },
     "metadata": {},
     "output_type": "display_data"
    },
    {
     "name": "stdout",
     "output_type": "stream",
     "text": [
      "outputs 0.6082596182823181 2.2575359253096394e-05\n",
      "targets 0.5 0.5658032894134521\n",
      "outputs 0.6082876324653625 1.328709095105296e-05\n",
      "targets 0.5 0.5658032894134521\n",
      "outputs 0.6082521677017212 3.83136430173181e-05\n",
      "targets 0.7450000047683716 0.49000000953674316\n",
      "outputs 0.6082382798194885 3.122738053207286e-05\n",
      "targets 0.5 0.5658032894134521\n",
      "outputs 0.6082801818847656 1.4542270946549252e-05\n",
      "targets 0.7450000047683716 0.49000000953674316\n",
      "outputs 0.6082413196563721 2.8689612008747645e-05\n",
      "targets 0.2549999952316284 0.49000000953674316\n",
      "outputs 0.6082315444946289 8.74777979333885e-05\n",
      "targets 0.5 0.5658032894134521\n",
      "outputs 0.6082805395126343 2.1158808522159234e-05\n",
      "targets 0.7450000047683716 0.49000000953674316\n",
      "outputs 0.6082779765129089 2.3351864001597278e-05\n",
      "targets 0.5 0.5658032894134521\n",
      "outputs 0.6082632541656494 5.824048002978088e-06\n",
      "targets 0.2549999952316284 0.49000000953674316\n",
      "outputs 0.60826575756073 3.983340866398066e-05\n",
      "targets 0.2549999952316284 0.49000000953674316\n",
      "outputs 0.6082366704940796 8.814949978841469e-05\n",
      "targets 0.5 0.5658032894134521\n",
      "outputs 0.6082693934440613 1.6849780877237208e-05\n",
      "targets 0.5 0.5658032894134521\n",
      "outputs 0.6082508563995361 4.6525761717930436e-05\n",
      "targets 0.7450000047683716 0.49000000953674316\n",
      "outputs 0.6082190275192261 5.24792485521175e-05\n",
      "targets 0.7450000047683716 0.49000000953674316\n",
      "outputs 0.6081921458244324 nan0.7188\n",
      "targets 0.9900000095367432 nan\n",
      "Valid Step 16/16, valid_loss: 0.7014\n",
      "[Epoch Valid: 9] loss: 0.7014, auc: 0.5806, time: 7.00 s\n",
      "Train Step 102/131, train_loss: 0.6937\r"
     ]
    },
    {
     "data": {
      "application/vnd.jupyter.widget-view+json": {
       "model_id": "65ab3959f0a049a3a09ba618caba7930",
       "version_major": 2,
       "version_minor": 0
      },
      "text/plain": [
       "HBox(children=(FloatProgress(value=0.0, max=16.0), HTML(value='')))"
      ]
     },
     "metadata": {},
     "output_type": "display_data"
    },
    {
     "name": "stdout",
     "output_type": "stream",
     "text": [
      "outputs 0.5943664312362671 1.9739878553082235e-05\n",
      "targets 0.5 0.5658032894134521\n",
      "outputs 0.5943995118141174 1.3675272384716664e-05\n",
      "targets 0.5 0.5658032894134521\n",
      "outputs 0.5943617820739746 3.9540893340017647e-05\n",
      "targets 0.7450000047683716 0.49000000953674316\n",
      "outputs 0.5943464040756226 2.8440203095669858e-05\n",
      "targets 0.5 0.5658032894134521\n",
      "outputs 0.5943896770477295 1.7221840607817285e-05\n",
      "targets 0.7450000047683716 0.49000000953674316\n",
      "outputs 0.5943476557731628 3.0118084396235645e-05\n",
      "targets 0.2549999952316284 0.49000000953674316\n",
      "outputs 0.594342827796936 8.518729009665549e-05\n",
      "targets 0.5 0.5658032894134521\n",
      "outputs 0.5943918228149414 2.130638858943712e-05\n",
      "targets 0.7450000047683716 0.49000000953674316\n",
      "outputs 0.5943887233734131 2.4499877326888964e-05\n",
      "targets 0.5 0.5658032894134521\n",
      "outputs 0.5943716764450073 4.9776717787608504e-06\n",
      "targets 0.2549999952316284 0.49000000953674316\n",
      "outputs 0.5943760275840759 4.115680349059403e-05\n",
      "targets 0.2549999952316284 0.49000000953674316\n",
      "outputs 0.5943472385406494 9.044075704878196e-05\n",
      "targets 0.5 0.5658032894134521\n",
      "outputs 0.5943757891654968 1.9373404938960448e-05\n",
      "targets 0.5 0.5658032894134521\n",
      "outputs 0.5943594574928284 5.071755367680453e-05\n",
      "targets 0.7450000047683716 0.49000000953674316\n",
      "outputs 0.5943323969841003 5.1155799155822024e-05\n",
      "targets 0.7450000047683716 0.49000000953674316\n",
      "outputs 0.5943024158477783 nan0.7173\n",
      "targets 0.9900000095367432 nan\n",
      "Valid Step 16/16, valid_loss: 0.7003\n",
      "[Epoch Valid: 9] loss: 0.7003, auc: 0.5844, time: 7.00 s\n",
      "Train Step 105/131, train_loss: 0.6958\r"
     ]
    },
    {
     "data": {
      "application/vnd.jupyter.widget-view+json": {
       "model_id": "c2230e0e52a04e6b865099bb83ead44c",
       "version_major": 2,
       "version_minor": 0
      },
      "text/plain": [
       "HBox(children=(FloatProgress(value=0.0, max=16.0), HTML(value='')))"
      ]
     },
     "metadata": {},
     "output_type": "display_data"
    },
    {
     "name": "stdout",
     "output_type": "stream",
     "text": [
      "outputs 0.5712395906448364 1.6387104551540688e-05\n",
      "targets 0.5 0.5658032894134521\n",
      "outputs 0.5712687969207764 1.1839839316962752e-05\n",
      "targets 0.5 0.5658032894134521\n",
      "outputs 0.5712347030639648 3.6023222492076457e-05\n",
      "targets 0.7450000047683716 0.49000000953674316\n",
      "outputs 0.5712178945541382 2.599873005237896e-05\n",
      "targets 0.5 0.5658032894134521\n",
      "outputs 0.5712590217590332 1.5281937521649525e-05\n",
      "targets 0.7450000047683716 0.49000000953674316\n",
      "outputs 0.571218729019165 3.362471397849731e-05\n",
      "targets 0.2549999952316284 0.49000000953674316\n",
      "outputs 0.5712194442749023 7.138782530091703e-05\n",
      "targets 0.5 0.5658032894134521\n",
      "outputs 0.5712617039680481 1.6671498087816872e-05\n",
      "targets 0.7450000047683716 0.49000000953674316\n",
      "outputs 0.5712597370147705 2.079809200949967e-05\n",
      "targets 0.5 0.5658032894134521\n",
      "outputs 0.5712407827377319 6.232130544958636e-06\n",
      "targets 0.2549999952316284 0.49000000953674316\n",
      "outputs 0.5712476968765259 3.6053872463526204e-05\n",
      "targets 0.2549999952316284 0.49000000953674316\n",
      "outputs 0.5712167620658875 8.932226046454161e-05\n",
      "targets 0.5 0.5658032894134521\n",
      "outputs 0.5712470412254333 1.6436910300399177e-05\n",
      "targets 0.5 0.5658032894134521\n",
      "outputs 0.5712295174598694 4.9116602895082906e-05\n",
      "targets 0.7450000047683716 0.49000000953674316\n",
      "outputs 0.5712127685546875 4.4435433665057644e-05\n",
      "targets 0.7450000047683716 0.49000000953674316\n",
      "outputs 0.5711782574653625 nan0.7147\n",
      "targets 0.9900000095367432 nan\n",
      "Valid Step 16/16, valid_loss: 0.6984\n",
      "[Epoch Valid: 9] loss: 0.6984, auc: 0.5871, time: 7.00 s\n",
      "Train Step 108/131, train_loss: 0.6935\r"
     ]
    },
    {
     "data": {
      "application/vnd.jupyter.widget-view+json": {
       "model_id": "bd6aac6b138c40ad87046b8b1fb2bd7a",
       "version_major": 2,
       "version_minor": 0
      },
      "text/plain": [
       "HBox(children=(FloatProgress(value=0.0, max=16.0), HTML(value='')))"
      ]
     },
     "metadata": {},
     "output_type": "display_data"
    },
    {
     "name": "stdout",
     "output_type": "stream",
     "text": [
      "outputs 0.5613531470298767 1.4027156794327311e-05\n",
      "targets 0.5 0.5658032894134521\n",
      "outputs 0.5613759756088257 1.0046786883322056e-05\n",
      "targets 0.5 0.5658032894134521\n",
      "outputs 0.5613479614257812 3.162477150908671e-05\n",
      "targets 0.7450000047683716 0.49000000953674316\n",
      "outputs 0.561332106590271 2.4103193936753087e-05\n",
      "targets 0.5 0.5658032894134521\n",
      "outputs 0.561367928981781 1.2427961337380111e-05\n",
      "targets 0.7450000047683716 0.49000000953674316\n",
      "outputs 0.5613316297531128 3.366525561432354e-05\n",
      "targets 0.2549999952316284 0.49000000953674316\n",
      "outputs 0.5613329410552979 6.160178600111976e-05\n",
      "targets 0.5 0.5658032894134521\n",
      "outputs 0.5613704919815063 1.248623630090151e-05\n",
      "targets 0.7450000047683716 0.49000000953674316\n",
      "outputs 0.5613691210746765 1.6433037671959028e-05\n",
      "targets 0.5 0.5658032894134521\n",
      "outputs 0.56135094165802 7.382840067293728e-06\n",
      "targets 0.2549999952316284 0.49000000953674316\n",
      "outputs 0.5613589286804199 2.9876080589019693e-05\n",
      "targets 0.2549999952316284 0.49000000953674316\n",
      "outputs 0.5613276958465576 8.277122833533213e-05\n",
      "targets 0.5 0.5658032894134521\n",
      "outputs 0.5613588094711304 1.2645857168536168e-05\n",
      "targets 0.5 0.5658032894134521\n",
      "outputs 0.5613408088684082 4.5294051233213395e-05\n",
      "targets 0.7450000047683716 0.49000000953674316\n",
      "outputs 0.5613305568695068 3.821832069661468e-05\n",
      "targets 0.7450000047683716 0.49000000953674316\n",
      "outputs 0.5612959861755371 nan0.7137\n",
      "targets 0.9900000095367432 nan\n",
      "Valid Step 16/16, valid_loss: 0.6976\n",
      "[Epoch Valid: 9] loss: 0.6976, auc: 0.5768, time: 6.00 s\n",
      "Train Step 111/131, train_loss: 0.6943\r"
     ]
    },
    {
     "data": {
      "application/vnd.jupyter.widget-view+json": {
       "model_id": "1a003e37e1c74ef6b295be4862887734",
       "version_major": 2,
       "version_minor": 0
      },
      "text/plain": [
       "HBox(children=(FloatProgress(value=0.0, max=16.0), HTML(value='')))"
      ]
     },
     "metadata": {},
     "output_type": "display_data"
    },
    {
     "name": "stdout",
     "output_type": "stream",
     "text": [
      "outputs 0.5531299114227295 1.3124260476615746e-05\n",
      "targets 0.5 0.5658032894134521\n",
      "outputs 0.5531536936759949 9.771193617780227e-06\n",
      "targets 0.5 0.5658032894134521\n",
      "outputs 0.5531266927719116 3.0476057872874662e-05\n",
      "targets 0.7450000047683716 0.49000000953674316\n",
      "outputs 0.5531105995178223 2.1620649931719527e-05\n",
      "targets 0.5 0.5658032894134521\n",
      "outputs 0.5531454682350159 1.286673614231404e-05\n",
      "targets 0.7450000047683716 0.49000000953674316\n",
      "outputs 0.5531105995178223 3.144220681861043e-05\n",
      "targets 0.2549999952316284 0.49000000953674316\n",
      "outputs 0.5531148910522461 5.529175541596487e-05\n",
      "targets 0.5 0.5658032894134521\n",
      "outputs 0.553148627281189 1.222294940816937e-05\n",
      "targets 0.7450000047683716 0.49000000953674316\n",
      "outputs 0.5531466603279114 1.6487931134179235e-05\n",
      "targets 0.5 0.5658032894134521\n",
      "outputs 0.5531294941902161 6.614146514039021e-06\n",
      "targets 0.2549999952316284 0.49000000953674316\n",
      "outputs 0.5531368851661682 2.942526225524489e-05\n",
      "targets 0.2549999952316284 0.49000000953674316\n",
      "outputs 0.5531079769134521 7.844767242204398e-05\n",
      "targets 0.5 0.5658032894134521\n",
      "outputs 0.5531351566314697 1.3347248568607029e-05\n",
      "targets 0.5 0.5658032894134521\n",
      "outputs 0.5531195998191833 4.416695446707308e-05\n",
      "targets 0.7450000047683716 0.49000000953674316\n",
      "outputs 0.5531120300292969 3.659996218630113e-05\n",
      "targets 0.7450000047683716 0.49000000953674316\n",
      "outputs 0.5530778169631958 nan0.7128\n",
      "targets 0.9900000095367432 nan\n",
      "Valid Step 16/16, valid_loss: 0.6970\n",
      "[Epoch Valid: 9] loss: 0.6970, auc: 0.5790, time: 7.00 s\n",
      "Train Step 114/131, train_loss: 0.6944\r"
     ]
    },
    {
     "data": {
      "application/vnd.jupyter.widget-view+json": {
       "model_id": "14c9ee89bf4741afbc87bf968b7be640",
       "version_major": 2,
       "version_minor": 0
      },
      "text/plain": [
       "HBox(children=(FloatProgress(value=0.0, max=16.0), HTML(value='')))"
      ]
     },
     "metadata": {},
     "output_type": "display_data"
    },
    {
     "name": "stdout",
     "output_type": "stream",
     "text": [
      "outputs 0.5478680729866028 1.1873374205606524e-05\n",
      "targets 0.5 0.5658032894134521\n",
      "outputs 0.5478856563568115 8.452448128082324e-06\n",
      "targets 0.5 0.5658032894134521\n",
      "outputs 0.5478636026382446 2.6950232495437376e-05\n",
      "targets 0.7450000047683716 0.49000000953674316\n",
      "outputs 0.5478478670120239 2.259115717606619e-05\n",
      "targets 0.5 0.5658032894134521\n",
      "outputs 0.5478787422180176 1.0513082997931633e-05\n",
      "targets 0.7450000047683716 0.49000000953674316\n",
      "outputs 0.5478469133377075 3.151782220811583e-05\n",
      "targets 0.2549999952316284 0.49000000953674316\n",
      "outputs 0.5478522777557373 4.588726005749777e-05\n",
      "targets 0.5 0.5658032894134521\n",
      "outputs 0.5478816628456116 8.51008098834427e-06\n",
      "targets 0.7450000047683716 0.49000000953674316\n",
      "outputs 0.5478810667991638 1.2771283763868269e-05\n",
      "targets 0.5 0.5658032894134521\n",
      "outputs 0.5478631258010864 8.373338459932711e-06\n",
      "targets 0.2549999952316284 0.49000000953674316\n",
      "outputs 0.5478726625442505 2.3989889086806215e-05\n",
      "targets 0.2549999952316284 0.49000000953674316\n",
      "outputs 0.5478423833847046 7.398816524073482e-05\n",
      "targets 0.5 0.5658032894134521\n",
      "outputs 0.5478711128234863 1.0134630429092795e-05\n",
      "targets 0.5 0.5658032894134521\n",
      "outputs 0.5478557348251343 3.879325231537223e-05\n",
      "targets 0.7450000047683716 0.49000000953674316\n",
      "outputs 0.5478521585464478 3.266990461270325e-05\n",
      "targets 0.7450000047683716 0.49000000953674316\n",
      "outputs 0.5478201508522034 nan0.7123\n",
      "targets 0.9900000095367432 nan\n",
      "Valid Step 16/16, valid_loss: 0.6966\n",
      "[Epoch Valid: 9] loss: 0.6966, auc: 0.5774, time: 7.00 s\n",
      "Train Step 117/131, train_loss: 0.6945\r"
     ]
    },
    {
     "data": {
      "application/vnd.jupyter.widget-view+json": {
       "model_id": "f5f98fd5811c41df98fc03e81ee6573b",
       "version_major": 2,
       "version_minor": 0
      },
      "text/plain": [
       "HBox(children=(FloatProgress(value=0.0, max=16.0), HTML(value='')))"
      ]
     },
     "metadata": {},
     "output_type": "display_data"
    },
    {
     "name": "stdout",
     "output_type": "stream",
     "text": [
      "outputs 0.5404791831970215 1.065176275005797e-05\n",
      "targets 0.5 0.5658032894134521\n",
      "outputs 0.5404940843582153 7.763299436192028e-06\n",
      "targets 0.5 0.5658032894134521\n",
      "outputs 0.5404746532440186 2.4684217351023108e-05\n",
      "targets 0.7450000047683716 0.49000000953674316\n",
      "outputs 0.5404596328735352 2.1824891518917866e-05\n",
      "targets 0.5 0.5658032894134521\n",
      "outputs 0.5404878854751587 9.150235200650059e-06\n",
      "targets 0.7450000047683716 0.49000000953674316\n",
      "outputs 0.5404583811759949 3.0229937692638487e-05\n",
      "targets 0.2549999952316284 0.49000000953674316\n",
      "outputs 0.540464460849762 4.064390668645501e-05\n",
      "targets 0.5 0.5658032894134521\n",
      "outputs 0.5404905080795288 7.098293281160295e-06\n",
      "targets 0.7450000047683716 0.49000000953674316\n",
      "outputs 0.5404901504516602 1.11278850454255e-05\n",
      "targets 0.5 0.5658032894134521\n",
      "outputs 0.5404729247093201 8.390576113015413e-06\n",
      "targets 0.2549999952316284 0.49000000953674316\n",
      "outputs 0.5404828786849976 2.1210797058301978e-05\n",
      "targets 0.2549999952316284 0.49000000953674316\n",
      "outputs 0.5404532551765442 6.989354005781934e-05\n",
      "targets 0.5 0.5658032894134521\n",
      "outputs 0.5404813289642334 8.787390470388345e-06\n",
      "targets 0.5 0.5658032894134521\n",
      "outputs 0.5404661297798157 3.6760855437023565e-05\n",
      "targets 0.7450000047683716 0.49000000953674316\n",
      "outputs 0.5404654741287231 3.120725887129083e-05\n",
      "targets 0.7450000047683716 0.49000000953674316\n",
      "outputs 0.540433406829834 nan 0.7116\n",
      "targets 0.9900000095367432 nan\n",
      "Valid Step 16/16, valid_loss: 0.6961\n",
      "[Epoch Valid: 9] loss: 0.6961, auc: 0.5823, time: 7.00 s\n",
      "Train Step 120/131, train_loss: 0.6939\r"
     ]
    },
    {
     "data": {
      "application/vnd.jupyter.widget-view+json": {
       "model_id": "c3639bd3daf04df4a165603ecfeffd02",
       "version_major": 2,
       "version_minor": 0
      },
      "text/plain": [
       "HBox(children=(FloatProgress(value=0.0, max=16.0), HTML(value='')))"
      ]
     },
     "metadata": {},
     "output_type": "display_data"
    },
    {
     "name": "stdout",
     "output_type": "stream",
     "text": [
      "outputs 0.5410027503967285 1.1021837053704076e-05\n",
      "targets 0.5 0.5658032894134521\n",
      "outputs 0.5410189032554626 8.106304449029267e-06\n",
      "targets 0.5 0.5658032894134521\n",
      "outputs 0.5409980416297913 2.6351028282078914e-05\n",
      "targets 0.7450000047683716 0.49000000953674316\n",
      "outputs 0.5409823060035706 2.2724330847267993e-05\n",
      "targets 0.5 0.5658032894134521\n",
      "outputs 0.5410122871398926 9.989721547754016e-06\n",
      "targets 0.7450000047683716 0.49000000953674316\n",
      "outputs 0.5409808158874512 3.223157546017319e-05\n",
      "targets 0.2549999952316284 0.49000000953674316\n",
      "outputs 0.5409870147705078 4.3600532080745324e-05\n",
      "targets 0.5 0.5658032894134521\n",
      "outputs 0.5410151481628418 7.614751211804105e-06\n",
      "targets 0.7450000047683716 0.49000000953674316\n",
      "outputs 0.5410146713256836 1.1807738701463677e-05\n",
      "targets 0.5 0.5658032894134521\n",
      "outputs 0.5409964323043823 8.747273568587843e-06\n",
      "targets 0.2549999952316284 0.49000000953674316\n",
      "outputs 0.541006863117218 2.266979390697088e-05\n",
      "targets 0.2549999952316284 0.49000000953674316\n",
      "outputs 0.5409756898880005 7.411619299091399e-05\n",
      "targets 0.5 0.5658032894134521\n",
      "outputs 0.5410053133964539 9.445032446819823e-06\n",
      "targets 0.5 0.5658032894134521\n",
      "outputs 0.5409892797470093 3.903244942193851e-05\n",
      "targets 0.7450000047683716 0.49000000953674316\n",
      "outputs 0.5409884452819824 3.315112553536892e-05\n",
      "targets 0.7450000047683716 0.49000000953674316\n",
      "outputs 0.54095458984375 nan: 0.7116\n",
      "targets 0.9900000095367432 nan\n",
      "Valid Step 16/16, valid_loss: 0.6962\n",
      "[Epoch Valid: 9] loss: 0.6962, auc: 0.5795, time: 7.00 s\n",
      "Train Step 123/131, train_loss: 0.6940\r"
     ]
    },
    {
     "data": {
      "application/vnd.jupyter.widget-view+json": {
       "model_id": "510d7f539a2a4feb9c5e6f343ea11846",
       "version_major": 2,
       "version_minor": 0
      },
      "text/plain": [
       "HBox(children=(FloatProgress(value=0.0, max=16.0), HTML(value='')))"
      ]
     },
     "metadata": {},
     "output_type": "display_data"
    },
    {
     "name": "stdout",
     "output_type": "stream",
     "text": [
      "outputs 0.5418686866760254 1.1750557860068511e-05\n",
      "targets 0.5 0.5658032894134521\n",
      "outputs 0.5418863892555237 8.73684257385321e-06\n",
      "targets 0.5 0.5658032894134521\n",
      "outputs 0.5418634414672852 2.8759339329553768e-05\n",
      "targets 0.7450000047683716 0.49000000953674316\n",
      "outputs 0.5418472290039062 2.3950105969561264e-05\n",
      "targets 0.5 0.5658032894134521\n",
      "outputs 0.5418791770935059 1.0896406820393167e-05\n",
      "targets 0.7450000047683716 0.49000000953674316\n",
      "outputs 0.5418456792831421 3.461302549112588e-05\n",
      "targets 0.2549999952316284 0.49000000953674316\n",
      "outputs 0.5418511033058167 4.9094338464783505e-05\n",
      "targets 0.5 0.5658032894134521\n",
      "outputs 0.5418825149536133 8.582378541177604e-06\n",
      "targets 0.7450000047683716 0.49000000953674316\n",
      "outputs 0.5418816804885864 1.2849052836827468e-05\n",
      "targets 0.5 0.5658032894134521\n",
      "outputs 0.5418624877929688 8.929662726586685e-06\n",
      "targets 0.2549999952316284 0.49000000953674316\n",
      "outputs 0.5418730974197388 2.474039138178341e-05\n",
      "targets 0.2549999952316284 0.49000000953674316\n",
      "outputs 0.5418401956558228 7.96111417002976e-05\n",
      "targets 0.5 0.5658032894134521\n",
      "outputs 0.5418720245361328 1.0095232937601395e-05\n",
      "targets 0.5 0.5658032894134521\n",
      "outputs 0.5418545603752136 4.247221659170464e-05\n",
      "targets 0.7450000047683716 0.49000000953674316\n",
      "outputs 0.5418524146080017 3.5437864426057786e-05\n",
      "targets 0.7450000047683716 0.49000000953674316\n",
      "outputs 0.5418157577514648 nan0.7117\n",
      "targets 0.9900000095367432 nan\n",
      "Valid Step 16/16, valid_loss: 0.6962\n",
      "[Epoch Valid: 9] loss: 0.6962, auc: 0.5790, time: 7.00 s\n",
      "Train Step 126/131, train_loss: 0.6944\r"
     ]
    },
    {
     "data": {
      "application/vnd.jupyter.widget-view+json": {
       "model_id": "325b32f42b8942499fb643ff7c0412bd",
       "version_major": 2,
       "version_minor": 0
      },
      "text/plain": [
       "HBox(children=(FloatProgress(value=0.0, max=16.0), HTML(value='')))"
      ]
     },
     "metadata": {},
     "output_type": "display_data"
    },
    {
     "name": "stdout",
     "output_type": "stream",
     "text": [
      "outputs 0.5358127951622009 1.1450143574620597e-05\n",
      "targets 0.5 0.5658032894134521\n",
      "outputs 0.5358287692070007 8.131174581649248e-06\n",
      "targets 0.5 0.5658032894134521\n",
      "outputs 0.5358072519302368 2.7739266442949884e-05\n",
      "targets 0.7450000047683716 0.49000000953674316\n",
      "outputs 0.5357914566993713 2.387818858551327e-05\n",
      "targets 0.5 0.5658032894134521\n",
      "outputs 0.5358222723007202 9.843462066783104e-06\n",
      "targets 0.7450000047683716 0.49000000953674316\n",
      "outputs 0.5357898473739624 3.4460361348465085e-05\n",
      "targets 0.2549999952316284 0.49000000953674316\n",
      "outputs 0.5357948541641235 4.7860012273304164e-05\n",
      "targets 0.5 0.5658032894134521\n",
      "outputs 0.535825252532959 7.762460882076994e-06\n",
      "targets 0.7450000047683716 0.49000000953674316\n",
      "outputs 0.5358245372772217 1.1820594409073237e-05\n",
      "targets 0.5 0.5658032894134521\n",
      "outputs 0.5358059406280518 9.036150913743768e-06\n",
      "targets 0.2549999952316284 0.49000000953674316\n",
      "outputs 0.5358163118362427 2.3511760446126573e-05\n",
      "targets 0.2549999952316284 0.49000000953674316\n",
      "outputs 0.5357835292816162 7.822616316843778e-05\n",
      "targets 0.5 0.5658032894134521\n",
      "outputs 0.5358160734176636 8.847526260069571e-06\n",
      "targets 0.5 0.5658032894134521\n",
      "outputs 0.5357977747917175 4.2032967030536383e-05\n",
      "targets 0.7450000047683716 0.49000000953674316\n",
      "outputs 0.535797119140625 3.522511906339787e-05\n",
      "targets 0.7450000047683716 0.49000000953674316\n",
      "outputs 0.5357600450515747 nan0.7111\n",
      "targets 0.9900000095367432 nan\n",
      "Valid Step 16/16, valid_loss: 0.6958\n",
      "[Epoch Valid: 9] loss: 0.6958, auc: 0.5801, time: 7.00 s\n",
      "Train Step 129/131, train_loss: 0.6951\r"
     ]
    },
    {
     "data": {
      "application/vnd.jupyter.widget-view+json": {
       "model_id": "b438425a393843cab318f92bb7880a2a",
       "version_major": 2,
       "version_minor": 0
      },
      "text/plain": [
       "HBox(children=(FloatProgress(value=0.0, max=16.0), HTML(value='')))"
      ]
     },
     "metadata": {},
     "output_type": "display_data"
    },
    {
     "name": "stdout",
     "output_type": "stream",
     "text": [
      "outputs 0.5251438617706299 9.835609489527997e-06\n",
      "targets 0.5 0.5658032894134521\n",
      "outputs 0.5251597762107849 7.149990778998472e-06\n",
      "targets 0.5 0.5658032894134521\n",
      "outputs 0.5251377820968628 2.683799175429158e-05\n",
      "targets 0.7450000047683716 0.49000000953674316\n",
      "outputs 0.5251241326332092 2.222580587840639e-05\n",
      "targets 0.5 0.5658032894134521\n",
      "outputs 0.5251532196998596 8.819506547297351e-06\n",
      "targets 0.7450000047683716 0.49000000953674316\n",
      "outputs 0.5251243710517883 3.136397572234273e-05\n",
      "targets 0.2549999952316284 0.49000000953674316\n",
      "outputs 0.5251281261444092 4.704646926256828e-05\n",
      "targets 0.5 0.5658032894134521\n",
      "outputs 0.5251559019088745 7.715560059295967e-06\n",
      "targets 0.7450000047683716 0.49000000953674316\n",
      "outputs 0.5251554250717163 1.1127752259199042e-05\n",
      "targets 0.5 0.5658032894134521\n",
      "outputs 0.5251384973526001 8.041953151405323e-06\n",
      "targets 0.2549999952316284 0.49000000953674316\n",
      "outputs 0.5251466631889343 2.2925767552806064e-05\n",
      "targets 0.2549999952316284 0.49000000953674316\n",
      "outputs 0.5251171588897705 7.397001900244504e-05\n",
      "targets 0.5 0.5658032894134521\n",
      "outputs 0.5251477956771851 8.144817002175841e-06\n",
      "targets 0.5 0.5658032894134521\n",
      "outputs 0.525129497051239 4.1289265936939046e-05\n",
      "targets 0.7450000047683716 0.49000000953674316\n",
      "outputs 0.5251294374465942 3.325552097521722e-05\n",
      "targets 0.7450000047683716 0.49000000953674316\n",
      "outputs 0.5250929594039917 nan0.7101\n",
      "targets 0.9900000095367432 nan\n",
      "Valid Step 16/16, valid_loss: 0.6951\n",
      "[Epoch Valid: 9] loss: 0.6951, auc: 0.5850, time: 7.00 s\n",
      "Train Step 131/131, train_loss: 0.6954\n"
     ]
    },
    {
     "data": {
      "application/vnd.jupyter.widget-view+json": {
       "model_id": "22874c8d2ef34ef1bf2e4fbba54050e8",
       "version_major": 2,
       "version_minor": 0
      },
      "text/plain": [
       "HBox(children=(FloatProgress(value=0.0, max=16.0), HTML(value='')))"
      ]
     },
     "metadata": {},
     "output_type": "display_data"
    },
    {
     "name": "stdout",
     "output_type": "stream",
     "text": [
      "outputs 0.5126808881759644 1.0305169780622236e-05\n",
      "targets 0.5 0.5658032894134521\n",
      "outputs 0.5126964449882507 7.160252152971225e-06\n",
      "targets 0.5 0.5658032894134521\n",
      "outputs 0.5126751661300659 2.647527799126692e-05\n",
      "targets 0.7450000047683716 0.49000000953674316\n",
      "outputs 0.512660801410675 2.287744609930087e-05\n",
      "targets 0.5 0.5658032894134521\n",
      "outputs 0.5126899480819702 8.66771188157145e-06\n",
      "targets 0.7450000047683716 0.49000000953674316\n",
      "outputs 0.5126620531082153 2.9587548851850443e-05\n",
      "targets 0.2549999952316284 0.49000000953674316\n",
      "outputs 0.5126648545265198 4.708684718934819e-05\n",
      "targets 0.5 0.5658032894134521\n",
      "outputs 0.512692928314209 7.146843017835636e-06\n",
      "targets 0.7450000047683716 0.49000000953674316\n",
      "outputs 0.5126922130584717 1.1322032150928862e-05\n",
      "targets 0.5 0.5658032894134521\n",
      "outputs 0.5126752257347107 8.14183567854343e-06\n",
      "targets 0.2549999952316284 0.49000000953674316\n",
      "outputs 0.5126835107803345 2.300566848134622e-05\n",
      "targets 0.2549999952316284 0.49000000953674316\n",
      "outputs 0.5126547813415527 7.191202166723087e-05\n",
      "targets 0.5 0.5658032894134521\n",
      "outputs 0.5126851201057434 7.92091668699868e-06\n",
      "targets 0.5 0.5658032894134521\n",
      "outputs 0.5126670598983765 4.008744144812226e-05\n",
      "targets 0.7450000047683716 0.49000000953674316\n",
      "outputs 0.5126672983169556 3.2920241210376844e-05\n",
      "targets 0.7450000047683716 0.49000000953674316\n",
      "outputs 0.5126321911811829 nan0.7089\n",
      "targets 0.9900000095367432 nan\n",
      "Valid Step 16/16, valid_loss: 0.6942\n",
      "[Epoch Train: 9] loss: 0.6954, time: 466.00 s            \n",
      "[Epoch Valid: 9] loss: 0.6942, auc: 0.5839, time: 7.00 s\n",
      "EPOCH: 10\n"
     ]
    },
    {
     "data": {
      "application/vnd.jupyter.widget-view+json": {
       "model_id": "d3cd31410e7d4552932d0ddcc7b12d79",
       "version_major": 2,
       "version_minor": 0
      },
      "text/plain": [
       "HBox(children=(FloatProgress(value=0.0, max=131.0), HTML(value='')))"
      ]
     },
     "metadata": {},
     "output_type": "display_data"
    },
    {
     "name": "stdout",
     "output_type": "stream",
     "text": [
      "Train Step 131/131, train_loss: 0.7160\n"
     ]
    },
    {
     "data": {
      "application/vnd.jupyter.widget-view+json": {
       "model_id": "8159f73d80cb46f09dad06693d89502e",
       "version_major": 2,
       "version_minor": 0
      },
      "text/plain": [
       "HBox(children=(FloatProgress(value=0.0, max=16.0), HTML(value='')))"
      ]
     },
     "metadata": {},
     "output_type": "display_data"
    },
    {
     "name": "stdout",
     "output_type": "stream",
     "text": [
      "outputs 0.48844969272613525 0.003396156243979931\n",
      "targets 0.5 0.5658032894134521\n",
      "outputs 0.7827211022377014 0.20504464209079742\n",
      "targets 0.5 0.5658032894134521\n",
      "outputs 0.5293167233467102 0.08248081803321838\n",
      "targets 0.7450000047683716 0.49000000953674316\n",
      "outputs 0.4892536401748657 0.0028092472348362207\n",
      "targets 0.5 0.5658032894134521\n",
      "outputs 0.6335311532020569 0.23764212429523468\n",
      "targets 0.7450000047683716 0.49000000953674316\n",
      "outputs 0.4916898310184479 0.0004892072174698114\n",
      "targets 0.2549999952316284 0.49000000953674316\n",
      "outputs 0.4891291558742523 0.007094103377312422\n",
      "targets 0.5 0.5658032894134521\n",
      "outputs 0.6032243371009827 0.2248031347990036\n",
      "targets 0.7450000047683716 0.49000000953674316\n",
      "outputs 0.6032446622848511 0.2240186482667923\n",
      "targets 0.5 0.5658032894134521\n",
      "outputs 0.49249690771102905 0.0007367844227701426\n",
      "targets 0.2549999952316284 0.49000000953674316\n",
      "outputs 0.5957766175270081 0.1809726357460022\n",
      "targets 0.2549999952316284 0.49000000953674316\n",
      "outputs 0.7078085541725159 0.25170353055000305\n",
      "targets 0.5 0.5658032894134521\n",
      "outputs 0.6804378628730774 0.22565129399299622\n",
      "targets 0.5 0.5658032894134521\n",
      "outputs 0.5651344060897827 0.15351799130439758\n",
      "targets 0.7450000047683716 0.49000000953674316\n",
      "outputs 0.5703522562980652 0.17303982377052307\n",
      "targets 0.7450000047683716 0.49000000953674316\n",
      "outputs 0.48672133684158325 nan.7103\n",
      "targets 0.9900000095367432 nan\n",
      "Valid Step 16/16, valid_loss: 0.6961\n",
      "[Epoch Train: 10] loss: 0.7160, time: 162.00 s            \n",
      "[Epoch Valid: 10] loss: 0.6961, auc: 0.5725, time: 6.00 s\n",
      "EPOCH: 11\n"
     ]
    },
    {
     "data": {
      "application/vnd.jupyter.widget-view+json": {
       "model_id": "97b8da8b10ee43efa249bcdc8ea218eb",
       "version_major": 2,
       "version_minor": 0
      },
      "text/plain": [
       "HBox(children=(FloatProgress(value=0.0, max=131.0), HTML(value='')))"
      ]
     },
     "metadata": {},
     "output_type": "display_data"
    },
    {
     "name": "stdout",
     "output_type": "stream",
     "text": [
      "Train Step 131/131, train_loss: 0.7143\n"
     ]
    },
    {
     "data": {
      "application/vnd.jupyter.widget-view+json": {
       "model_id": "97e1c00bc3b94383b51e4423eb19ef24",
       "version_major": 2,
       "version_minor": 0
      },
      "text/plain": [
       "HBox(children=(FloatProgress(value=0.0, max=16.0), HTML(value='')))"
      ]
     },
     "metadata": {},
     "output_type": "display_data"
    },
    {
     "name": "stdout",
     "output_type": "stream",
     "text": [
      "outputs 0.47630417346954346 0.00780312716960907\n",
      "targets 0.5 0.5658032894134521\n",
      "outputs 0.8554168939590454 0.24616920948028564\n",
      "targets 0.5 0.5658032894134521\n",
      "outputs 0.4818889796733856 0.014230412431061268\n",
      "targets 0.7450000047683716 0.49000000953674316\n",
      "outputs 0.4689072370529175 0.004060973878949881\n",
      "targets 0.5 0.5658032894134521\n",
      "outputs 0.611335039138794 0.2589329481124878\n",
      "targets 0.7450000047683716 0.49000000953674316\n",
      "outputs 0.4740346074104309 0.007016136310994625\n",
      "targets 0.2549999952316284 0.49000000953674316\n",
      "outputs 0.47830942273139954 0.013497522100806236\n",
      "targets 0.5 0.5658032894134521\n",
      "outputs 0.6116247177124023 0.2578982710838318\n",
      "targets 0.7450000047683716 0.49000000953674316\n",
      "outputs 0.6122345924377441 0.2585316598415375\n",
      "targets 0.5 0.5658032894134521\n",
      "outputs 0.4828122854232788 0.003659462556242943\n",
      "targets 0.2549999952316284 0.49000000953674316\n",
      "outputs 0.6684636473655701 0.2252589911222458\n",
      "targets 0.2549999952316284 0.49000000953674316\n",
      "outputs 0.736227810382843 0.30339211225509644\n",
      "targets 0.5 0.5658032894134521\n",
      "outputs 0.7370149493217468 0.30280157923698425\n",
      "targets 0.5 0.5658032894134521\n",
      "outputs 0.5980802774429321 0.2451896071434021\n",
      "targets 0.7450000047683716 0.49000000953674316\n",
      "outputs 0.5962523221969604 0.26182320713996887\n",
      "targets 0.7450000047683716 0.49000000953674316\n",
      "outputs 0.4747960865497589 nan0.7141\n",
      "targets 0.9900000095367432 nan\n",
      "Valid Step 16/16, valid_loss: 0.7000\n",
      "[Epoch Train: 11] loss: 0.7143, time: 162.00 s            \n",
      "[Epoch Valid: 11] loss: 0.7000, auc: 0.5595, time: 7.00 s\n",
      "EPOCH: 12\n"
     ]
    },
    {
     "data": {
      "application/vnd.jupyter.widget-view+json": {
       "model_id": "b76208dc4ca941f7b1aa40dd1fb146a2",
       "version_major": 2,
       "version_minor": 0
      },
      "text/plain": [
       "HBox(children=(FloatProgress(value=0.0, max=131.0), HTML(value='')))"
      ]
     },
     "metadata": {},
     "output_type": "display_data"
    },
    {
     "name": "stdout",
     "output_type": "stream",
     "text": [
      "Train Step 131/131, train_loss: 0.6991\n"
     ]
    },
    {
     "data": {
      "application/vnd.jupyter.widget-view+json": {
       "model_id": "a01f34c1ae8b4949af1ebdff28da3f2c",
       "version_major": 2,
       "version_minor": 0
      },
      "text/plain": [
       "HBox(children=(FloatProgress(value=0.0, max=16.0), HTML(value='')))"
      ]
     },
     "metadata": {},
     "output_type": "display_data"
    },
    {
     "name": "stdout",
     "output_type": "stream",
     "text": [
      "outputs 0.5230069756507874 0.007954106666147709\n",
      "targets 0.5 0.5658032894134521\n",
      "outputs 0.8781506419181824 0.22901731729507446\n",
      "targets 0.5 0.5658032894134521\n",
      "outputs 0.6108511686325073 0.17704318463802338\n",
      "targets 0.7450000047683716 0.49000000953674316\n",
      "outputs 0.5171802043914795 0.004015510436147451\n",
      "targets 0.5 0.5658032894134521\n",
      "outputs 0.6899725198745728 0.22072109580039978\n",
      "targets 0.7450000047683716 0.49000000953674316\n",
      "outputs 0.7578717470169067 0.27944323420524597\n",
      "targets 0.2549999952316284 0.49000000953674316\n",
      "outputs 0.5269484519958496 0.010070279240608215\n",
      "targets 0.5 0.5658032894134521\n",
      "outputs 0.641024649143219 0.22183705866336823\n",
      "targets 0.7450000047683716 0.49000000953674316\n",
      "outputs 0.6469985246658325 0.23395946621894836\n",
      "targets 0.5 0.5658032894134521\n",
      "outputs 0.5294376611709595 0.003821563208475709\n",
      "targets 0.2549999952316284 0.49000000953674316\n",
      "outputs 0.7611964344978333 0.2681991159915924\n",
      "targets 0.2549999952316284 0.49000000953674316\n",
      "outputs 0.7588611841201782 0.27290016412734985\n",
      "targets 0.5 0.5658032894134521\n",
      "outputs 0.7575507760047913 0.27123790979385376\n",
      "targets 0.5 0.5658032894134521\n",
      "outputs 0.6210762858390808 0.19598041474819183\n",
      "targets 0.7450000047683716 0.49000000953674316\n",
      "outputs 0.6303410530090332 0.23334020376205444\n",
      "targets 0.7450000047683716 0.49000000953674316\n",
      "outputs 0.5236091017723083 nan0.7327\n",
      "targets 0.9900000095367432 nan\n",
      "Valid Step 16/16, valid_loss: 0.7163\n",
      "[Epoch Train: 12] loss: 0.6991, time: 162.00 s            \n",
      "[Epoch Valid: 12] loss: 0.7163, auc: 0.5011, time: 7.00 s\n",
      "EPOCH: 13\n"
     ]
    },
    {
     "data": {
      "application/vnd.jupyter.widget-view+json": {
       "model_id": "7d49a61f3fe64df6a3c251a630ca60f5",
       "version_major": 2,
       "version_minor": 0
      },
      "text/plain": [
       "HBox(children=(FloatProgress(value=0.0, max=131.0), HTML(value='')))"
      ]
     },
     "metadata": {},
     "output_type": "display_data"
    },
    {
     "name": "stdout",
     "output_type": "stream",
     "text": [
      "Train Step 131/131, train_loss: 0.7154\n"
     ]
    },
    {
     "data": {
      "application/vnd.jupyter.widget-view+json": {
       "model_id": "8ba0a25be94346dd879c1e05b59e60eb",
       "version_major": 2,
       "version_minor": 0
      },
      "text/plain": [
       "HBox(children=(FloatProgress(value=0.0, max=16.0), HTML(value='')))"
      ]
     },
     "metadata": {},
     "output_type": "display_data"
    },
    {
     "name": "stdout",
     "output_type": "stream",
     "text": [
      "outputs 0.5041945576667786 0.003776942379772663\n",
      "targets 0.5 0.5658032894134521\n",
      "outputs 0.6290144324302673 0.09292425960302353\n",
      "targets 0.5 0.5658032894134521\n",
      "outputs 0.5050299167633057 0.002414069604128599\n",
      "targets 0.7450000047683716 0.49000000953674316\n",
      "outputs 0.5046642422676086 0.004365712869912386\n",
      "targets 0.5 0.5658032894134521\n",
      "outputs 0.5684796571731567 0.12436310946941376\n",
      "targets 0.7450000047683716 0.49000000953674316\n",
      "outputs 0.6000986695289612 0.11557632684707642\n",
      "targets 0.2549999952316284 0.49000000953674316\n",
      "outputs 0.5049929618835449 0.0030529326759278774\n",
      "targets 0.5 0.5658032894134521\n",
      "outputs 0.5505653619766235 0.09091610461473465\n",
      "targets 0.7450000047683716 0.49000000953674316\n",
      "outputs 0.5992468595504761 0.1863589733839035\n",
      "targets 0.5 0.5658032894134521\n",
      "outputs 0.5056297779083252 0.0019447851227596402\n",
      "targets 0.2549999952316284 0.49000000953674316\n",
      "outputs 0.5889217257499695 0.11319202929735184\n",
      "targets 0.2549999952316284 0.49000000953674316\n",
      "outputs 0.6417670845985413 0.1620761603116989\n",
      "targets 0.5 0.5658032894134521\n",
      "outputs 0.6851199865341187 0.22859801352024078\n",
      "targets 0.5 0.5658032894134521\n",
      "outputs 0.5171615481376648 0.026949912309646606\n",
      "targets 0.7450000047683716 0.49000000953674316\n",
      "outputs 0.5532903075218201 0.11184439063072205\n",
      "targets 0.7450000047683716 0.49000000953674316\n",
      "outputs 0.5037188529968262 nan0.7126\n",
      "targets 0.9900000095367432 nan\n",
      "Valid Step 16/16, valid_loss: 0.6979\n",
      "[Epoch Train: 13] loss: 0.7154, time: 162.00 s            \n",
      "[Epoch Valid: 13] loss: 0.6979, auc: 0.5357, time: 7.00 s\n",
      "EPOCH: 14\n"
     ]
    },
    {
     "data": {
      "application/vnd.jupyter.widget-view+json": {
       "model_id": "5f1437fa645e4da8b0b5b143e2278354",
       "version_major": 2,
       "version_minor": 0
      },
      "text/plain": [
       "HBox(children=(FloatProgress(value=0.0, max=131.0), HTML(value='')))"
      ]
     },
     "metadata": {},
     "output_type": "display_data"
    },
    {
     "name": "stdout",
     "output_type": "stream",
     "text": [
      "Train Step 131/131, train_loss: 0.7108\n"
     ]
    },
    {
     "data": {
      "application/vnd.jupyter.widget-view+json": {
       "model_id": "4971d47da19d4423be2d8ada6391e746",
       "version_major": 2,
       "version_minor": 0
      },
      "text/plain": [
       "HBox(children=(FloatProgress(value=0.0, max=16.0), HTML(value='')))"
      ]
     },
     "metadata": {},
     "output_type": "display_data"
    },
    {
     "name": "stdout",
     "output_type": "stream",
     "text": [
      "outputs 0.5042401552200317 0.0049749682657420635\n",
      "targets 0.5 0.5658032894134521\n",
      "outputs 0.7848040461540222 0.2060130387544632\n",
      "targets 0.5 0.5658032894134521\n",
      "outputs 0.5579433441162109 0.10989334434270859\n",
      "targets 0.7450000047683716 0.49000000953674316\n",
      "outputs 0.5012239813804626 0.004226858727633953\n",
      "targets 0.5 0.5658032894134521\n",
      "outputs 0.6409618854522705 0.18626517057418823\n",
      "targets 0.7450000047683716 0.49000000953674316\n",
      "outputs 0.5107734203338623 0.009265752509236336\n",
      "targets 0.2549999952316284 0.49000000953674316\n",
      "outputs 0.5058390498161316 0.007938587106764317\n",
      "targets 0.5 0.5658032894134521\n",
      "outputs 0.6086575984954834 0.2003331482410431\n",
      "targets 0.7450000047683716 0.49000000953674316\n",
      "outputs 0.6212592124938965 0.22555875778198242\n",
      "targets 0.5 0.5658032894134521\n",
      "outputs 0.5079060792922974 0.003963368013501167\n",
      "targets 0.2549999952316284 0.49000000953674316\n",
      "outputs 0.644134521484375 0.19307629764080048\n",
      "targets 0.2549999952316284 0.49000000953674316\n",
      "outputs 0.7179660797119141 0.2478744387626648\n",
      "targets 0.5 0.5658032894134521\n",
      "outputs 0.7030625343322754 0.23137064278125763\n",
      "targets 0.5 0.5658032894134521\n",
      "outputs 0.6026943325996399 0.19764411449432373\n",
      "targets 0.7450000047683716 0.49000000953674316\n",
      "outputs 0.6039812564849854 0.21315017342567444\n",
      "targets 0.7450000047683716 0.49000000953674316\n",
      "outputs 0.5046448111534119 nan0.7126\n",
      "targets 0.9900000095367432 nan\n",
      "Valid Step 16/16, valid_loss: 0.6979\n",
      "[Epoch Train: 14] loss: 0.7108, time: 162.00 s            \n",
      "[Epoch Valid: 14] loss: 0.6979, auc: 0.5519, time: 7.00 s\n",
      "EPOCH: 15\n"
     ]
    },
    {
     "data": {
      "application/vnd.jupyter.widget-view+json": {
       "model_id": "52329dbe0d5f49b5b957fd07c9e858df",
       "version_major": 2,
       "version_minor": 0
      },
      "text/plain": [
       "HBox(children=(FloatProgress(value=0.0, max=131.0), HTML(value='')))"
      ]
     },
     "metadata": {},
     "output_type": "display_data"
    },
    {
     "name": "stdout",
     "output_type": "stream",
     "text": [
      "Train Step 131/131, train_loss: 0.6988\n"
     ]
    },
    {
     "data": {
      "application/vnd.jupyter.widget-view+json": {
       "model_id": "319e8d4fcd054cf4b931a599aae21da1",
       "version_major": 2,
       "version_minor": 0
      },
      "text/plain": [
       "HBox(children=(FloatProgress(value=0.0, max=16.0), HTML(value='')))"
      ]
     },
     "metadata": {},
     "output_type": "display_data"
    },
    {
     "name": "stdout",
     "output_type": "stream",
     "text": [
      "outputs 0.49283260107040405 0.01340831071138382\n",
      "targets 0.5 0.5658032894134521\n",
      "outputs 0.6154857277870178 0.1098039448261261\n",
      "targets 0.5 0.5658032894134521\n",
      "outputs 0.49598705768585205 0.010572295635938644\n",
      "targets 0.7450000047683716 0.49000000953674316\n",
      "outputs 0.4846736490726471 0.005883298348635435\n",
      "targets 0.5 0.5658032894134521\n",
      "outputs 0.5556501150131226 0.1027250736951828\n",
      "targets 0.7450000047683716 0.49000000953674316\n",
      "outputs 0.49510544538497925 0.01741204783320427\n",
      "targets 0.2549999952316284 0.49000000953674316\n",
      "outputs 0.500515341758728 0.019570112228393555\n",
      "targets 0.5 0.5658032894134521\n",
      "outputs 0.5401734113693237 0.06414628773927689\n",
      "targets 0.7450000047683716 0.49000000953674316\n",
      "outputs 0.583746075630188 0.15326708555221558\n",
      "targets 0.5 0.5658032894134521\n",
      "outputs 0.5004187226295471 0.01094458531588316\n",
      "targets 0.2549999952316284 0.49000000953674316\n",
      "outputs 0.5571667551994324 0.07147315889596939\n",
      "targets 0.2549999952316284 0.49000000953674316\n",
      "outputs 0.5976815223693848 0.11980871856212616\n",
      "targets 0.5 0.5658032894134521\n",
      "outputs 0.595750093460083 0.13645996153354645\n",
      "targets 0.5 0.5658032894134521\n",
      "outputs 0.5232596397399902 0.05774276331067085\n",
      "targets 0.7450000047683716 0.49000000953674316\n",
      "outputs 0.5303537845611572 0.10120748728513718\n",
      "targets 0.7450000047683716 0.49000000953674316\n",
      "outputs 0.4932042956352234 nan0.7049\n",
      "targets 0.9900000095367432 nan\n",
      "Valid Step 16/16, valid_loss: 0.6909\n",
      "[Epoch Train: 15] loss: 0.6988, time: 162.00 s            \n",
      "[Epoch Valid: 15] loss: 0.6909, auc: 0.5747, time: 7.00 s\n",
      "EPOCH: 16\n"
     ]
    },
    {
     "data": {
      "application/vnd.jupyter.widget-view+json": {
       "model_id": "5167b5e9fc25444a942da2661055a16d",
       "version_major": 2,
       "version_minor": 0
      },
      "text/plain": [
       "HBox(children=(FloatProgress(value=0.0, max=131.0), HTML(value='')))"
      ]
     },
     "metadata": {},
     "output_type": "display_data"
    },
    {
     "name": "stdout",
     "output_type": "stream",
     "text": [
      "Train Step 131/131, train_loss: 0.6941\n"
     ]
    },
    {
     "data": {
      "application/vnd.jupyter.widget-view+json": {
       "model_id": "61b0bcea14544bcca7c455f827405640",
       "version_major": 2,
       "version_minor": 0
      },
      "text/plain": [
       "HBox(children=(FloatProgress(value=0.0, max=16.0), HTML(value='')))"
      ]
     },
     "metadata": {},
     "output_type": "display_data"
    },
    {
     "name": "stdout",
     "output_type": "stream",
     "text": [
      "outputs 0.49203360080718994 0.015781598165631294\n",
      "targets 0.5 0.5658032894134521\n",
      "outputs 0.6298221349716187 0.13731878995895386\n",
      "targets 0.5 0.5658032894134521\n",
      "outputs 0.4960554242134094 0.013094543479382992\n",
      "targets 0.7450000047683716 0.49000000953674316\n",
      "outputs 0.4824603796005249 0.006386397872120142\n",
      "targets 0.5 0.5658032894134521\n",
      "outputs 0.5590521097183228 0.1081685870885849\n",
      "targets 0.7450000047683716 0.49000000953674316\n",
      "outputs 0.4983910322189331 0.025881575420498848\n",
      "targets 0.2549999952316284 0.49000000953674316\n",
      "outputs 0.5002460479736328 0.023633936420083046\n",
      "targets 0.5 0.5658032894134521\n",
      "outputs 0.5530877113342285 0.0864255502820015\n",
      "targets 0.7450000047683716 0.49000000953674316\n",
      "outputs 0.5935986638069153 0.17061278223991394\n",
      "targets 0.5 0.5658032894134521\n",
      "outputs 0.4995388090610504 0.013638821430504322\n",
      "targets 0.2549999952316284 0.49000000953674316\n",
      "outputs 0.5694372057914734 0.10108890384435654\n",
      "targets 0.2549999952316284 0.49000000953674316\n",
      "outputs 0.6114709377288818 0.13508258759975433\n",
      "targets 0.5 0.5658032894134521\n",
      "outputs 0.590670645236969 0.12371470779180527\n",
      "targets 0.5 0.5658032894134521\n",
      "outputs 0.536447286605835 0.08496945351362228\n",
      "targets 0.7450000047683716 0.49000000953674316\n",
      "outputs 0.5441046953201294 0.13379186391830444\n",
      "targets 0.7450000047683716 0.49000000953674316\n",
      "outputs 0.49257782101631165 nan.7045\n",
      "targets 0.9900000095367432 nan\n",
      "Valid Step 16/16, valid_loss: 0.6906\n",
      "[Epoch Train: 16] loss: 0.6941, time: 162.00 s            \n",
      "[Epoch Valid: 16] loss: 0.6906, auc: 0.5682, time: 7.00 s\n",
      "EPOCH: 17\n"
     ]
    },
    {
     "data": {
      "application/vnd.jupyter.widget-view+json": {
       "model_id": "7b8267fd78a749c0a408009f4e06b9e5",
       "version_major": 2,
       "version_minor": 0
      },
      "text/plain": [
       "HBox(children=(FloatProgress(value=0.0, max=131.0), HTML(value='')))"
      ]
     },
     "metadata": {},
     "output_type": "display_data"
    },
    {
     "name": "stdout",
     "output_type": "stream",
     "text": [
      "Train Step 131/131, train_loss: 0.6826\n"
     ]
    },
    {
     "data": {
      "application/vnd.jupyter.widget-view+json": {
       "model_id": "c5fef36add7d437691ce3b978fe24683",
       "version_major": 2,
       "version_minor": 0
      },
      "text/plain": [
       "HBox(children=(FloatProgress(value=0.0, max=16.0), HTML(value='')))"
      ]
     },
     "metadata": {},
     "output_type": "display_data"
    },
    {
     "name": "stdout",
     "output_type": "stream",
     "text": [
      "outputs 0.4868273138999939 0.020890749990940094\n",
      "targets 0.5 0.5658032894134521\n",
      "outputs 0.6438503265380859 0.13020507991313934\n",
      "targets 0.5 0.5658032894134521\n",
      "outputs 0.49460819363594055 0.02095402404665947\n",
      "targets 0.7450000047683716 0.49000000953674316\n",
      "outputs 0.4761902391910553 0.00694943405687809\n",
      "targets 0.5 0.5658032894134521\n",
      "outputs 0.5784515142440796 0.14360961318016052\n",
      "targets 0.7450000047683716 0.49000000953674316\n",
      "outputs 0.49332061409950256 0.03079252317547798\n",
      "targets 0.2549999952316284 0.49000000953674316\n",
      "outputs 0.5013653039932251 0.03001682087779045\n",
      "targets 0.5 0.5658032894134521\n",
      "outputs 0.5723225474357605 0.11847934126853943\n",
      "targets 0.7450000047683716 0.49000000953674316\n",
      "outputs 0.6011072397232056 0.1823100447654724\n",
      "targets 0.5 0.5658032894134521\n",
      "outputs 0.49588146805763245 0.020195262506604195\n",
      "targets 0.2549999952316284 0.49000000953674316\n",
      "outputs 0.5668569803237915 0.10502945631742477\n",
      "targets 0.2549999952316284 0.49000000953674316\n",
      "outputs 0.6317223310470581 0.16237404942512512\n",
      "targets 0.5 0.5658032894134521\n",
      "outputs 0.5935900211334229 0.13633236289024353\n",
      "targets 0.5 0.5658032894134521\n",
      "outputs 0.538106381893158 0.09507681429386139\n",
      "targets 0.7450000047683716 0.49000000953674316\n",
      "outputs 0.5372055768966675 0.1328447014093399\n",
      "targets 0.7450000047683716 0.49000000953674316\n",
      "outputs 0.48879581689834595 nan.7042\n",
      "targets 0.9900000095367432 nan\n",
      "Valid Step 16/16, valid_loss: 0.6904\n",
      "[Epoch Train: 17] loss: 0.6826, time: 162.00 s            \n",
      "[Epoch Valid: 17] loss: 0.6904, auc: 0.5790, time: 7.00 s\n",
      "EPOCH: 18\n"
     ]
    },
    {
     "data": {
      "application/vnd.jupyter.widget-view+json": {
       "model_id": "d37930b018744578a8996cc36ece7194",
       "version_major": 2,
       "version_minor": 0
      },
      "text/plain": [
       "HBox(children=(FloatProgress(value=0.0, max=131.0), HTML(value='')))"
      ]
     },
     "metadata": {},
     "output_type": "display_data"
    },
    {
     "name": "stdout",
     "output_type": "stream",
     "text": [
      "Train Step 131/131, train_loss: 0.6916\n"
     ]
    },
    {
     "data": {
      "application/vnd.jupyter.widget-view+json": {
       "model_id": "3b581c4490a84131ab7cf9e2f94f6db0",
       "version_major": 2,
       "version_minor": 0
      },
      "text/plain": [
       "HBox(children=(FloatProgress(value=0.0, max=16.0), HTML(value='')))"
      ]
     },
     "metadata": {},
     "output_type": "display_data"
    },
    {
     "name": "stdout",
     "output_type": "stream",
     "text": [
      "outputs 0.4904768466949463 0.023336222395300865\n",
      "targets 0.5 0.5658032894134521\n",
      "outputs 0.5929214954376221 0.08219331502914429\n",
      "targets 0.5 0.5658032894134521\n",
      "outputs 0.4962506592273712 0.01823236607015133\n",
      "targets 0.7450000047683716 0.49000000953674316\n",
      "outputs 0.476083368062973 0.008346585556864738\n",
      "targets 0.5 0.5658032894134521\n",
      "outputs 0.551899790763855 0.08540132641792297\n",
      "targets 0.7450000047683716 0.49000000953674316\n",
      "outputs 0.4853842258453369 0.02249603345990181\n",
      "targets 0.2549999952316284 0.49000000953674316\n",
      "outputs 0.504920482635498 0.0329752080142498\n",
      "targets 0.5 0.5658032894134521\n",
      "outputs 0.5459538698196411 0.05795181170105934\n",
      "targets 0.7450000047683716 0.49000000953674316\n",
      "outputs 0.5809985995292664 0.13383519649505615\n",
      "targets 0.5 0.5658032894134521\n",
      "outputs 0.5000523328781128 0.02138981968164444\n",
      "targets 0.2549999952316284 0.49000000953674316\n",
      "outputs 0.5386496782302856 0.05538713559508324\n",
      "targets 0.2549999952316284 0.49000000953674316\n",
      "outputs 0.5824212431907654 0.10418614745140076\n",
      "targets 0.5 0.5658032894134521\n",
      "outputs 0.559596061706543 0.091400146484375\n",
      "targets 0.5 0.5658032894134521\n",
      "outputs 0.5136169791221619 0.04296460747718811\n",
      "targets 0.7450000047683716 0.49000000953674316\n",
      "outputs 0.5123987197875977 0.08278031647205353\n",
      "targets 0.7450000047683716 0.49000000953674316\n",
      "outputs 0.49156948924064636 nan.7036\n",
      "targets 0.9900000095367432 nan\n",
      "Valid Step 16/16, valid_loss: 0.6898\n",
      "[Epoch Train: 18] loss: 0.6916, time: 162.00 s            \n",
      "[Epoch Valid: 18] loss: 0.6898, auc: 0.5909, time: 7.00 s\n",
      "\n",
      "(523, 3) (61, 3)\n"
     ]
    },
    {
     "name": "stderr",
     "output_type": "stream",
     "text": [
      "/opt/conda/lib/python3.8/site-packages/pandas/core/indexing.py:1720: SettingWithCopyWarning: \n",
      "A value is trying to be set on a copy of a slice from a DataFrame.\n",
      "Try using .loc[row_indexer,col_indexer] = value instead\n",
      "\n",
      "See the caveats in the documentation: https://pandas.pydata.org/pandas-docs/stable/user_guide/indexing.html#returning-a-view-versus-a-copy\n",
      "  self._setitem_single_column(loc, value, pi)\n"
     ]
    },
    {
     "data": {
      "text/html": [
       "<div>\n",
       "<style scoped>\n",
       "    .dataframe tbody tr th:only-of-type {\n",
       "        vertical-align: middle;\n",
       "    }\n",
       "\n",
       "    .dataframe tbody tr th {\n",
       "        vertical-align: top;\n",
       "    }\n",
       "\n",
       "    .dataframe thead th {\n",
       "        text-align: right;\n",
       "    }\n",
       "</style>\n",
       "<table border=\"1\" class=\"dataframe\">\n",
       "  <thead>\n",
       "    <tr style=\"text-align: right;\">\n",
       "      <th></th>\n",
       "      <th>BraTS21ID</th>\n",
       "      <th>MGMT_value</th>\n",
       "      <th>MRI_Type</th>\n",
       "    </tr>\n",
       "  </thead>\n",
       "  <tbody>\n",
       "    <tr>\n",
       "      <th>549</th>\n",
       "      <td>803</td>\n",
       "      <td>0</td>\n",
       "      <td>T1w</td>\n",
       "    </tr>\n",
       "    <tr>\n",
       "      <th>353</th>\n",
       "      <td>520</td>\n",
       "      <td>1</td>\n",
       "      <td>T1w</td>\n",
       "    </tr>\n",
       "    <tr>\n",
       "      <th>272</th>\n",
       "      <td>399</td>\n",
       "      <td>0</td>\n",
       "      <td>T1w</td>\n",
       "    </tr>\n",
       "    <tr>\n",
       "      <th>137</th>\n",
       "      <td>206</td>\n",
       "      <td>0</td>\n",
       "      <td>T1w</td>\n",
       "    </tr>\n",
       "    <tr>\n",
       "      <th>292</th>\n",
       "      <td>423</td>\n",
       "      <td>0</td>\n",
       "      <td>T1w</td>\n",
       "    </tr>\n",
       "  </tbody>\n",
       "</table>\n",
       "</div>"
      ],
      "text/plain": [
       "     BraTS21ID  MGMT_value MRI_Type\n",
       "549        803           0      T1w\n",
       "353        520           1      T1w\n",
       "272        399           0      T1w\n",
       "137        206           0      T1w\n",
       "292        423           0      T1w"
      ]
     },
     "metadata": {},
     "output_type": "display_data"
    },
    {
     "data": {
      "application/vnd.jupyter.widget-view+json": {
       "model_id": "acc086772ba14292b5a0064c6ac21e04",
       "version_major": 2,
       "version_minor": 0
      },
      "text/plain": [
       "HBox(children=(FloatProgress(value=0.0, max=18.0), HTML(value='')))"
      ]
     },
     "metadata": {},
     "output_type": "display_data"
    },
    {
     "name": "stdout",
     "output_type": "stream",
     "text": [
      "EPOCH: 1\n"
     ]
    },
    {
     "data": {
      "application/vnd.jupyter.widget-view+json": {
       "model_id": "7a7fde71fbe340a088c21f372580240a",
       "version_major": 2,
       "version_minor": 0
      },
      "text/plain": [
       "HBox(children=(FloatProgress(value=0.0, max=131.0), HTML(value='')))"
      ]
     },
     "metadata": {},
     "output_type": "display_data"
    },
    {
     "name": "stdout",
     "output_type": "stream",
     "text": [
      "Train Step 4/131, train_loss: 0.8886\n",
      "\n"
     ]
    },
    {
     "ename": "KeyboardInterrupt",
     "evalue": "",
     "output_type": "error",
     "traceback": [
      "\u001b[0;31m---------------------------------------------------------------------------\u001b[0m",
      "\u001b[0;31mKeyboardInterrupt\u001b[0m                         Traceback (most recent call last)",
      "\u001b[0;32m<ipython-input-28-cb118edb5f29>\u001b[0m in \u001b[0;36m<module>\u001b[0;34m\u001b[0m\n\u001b[1;32m      2\u001b[0m \u001b[0;34m\u001b[0m\u001b[0m\n\u001b[1;32m      3\u001b[0m \u001b[0;32mif\u001b[0m \u001b[0;32mnot\u001b[0m \u001b[0mmodelfiles\u001b[0m\u001b[0;34m:\u001b[0m\u001b[0;34m\u001b[0m\u001b[0;34m\u001b[0m\u001b[0m\n\u001b[0;32m----> 4\u001b[0;31m     \u001b[0mmodelfiles\u001b[0m \u001b[0;34m=\u001b[0m \u001b[0;34m[\u001b[0m\u001b[0mtrain_mri_type\u001b[0m\u001b[0;34m(\u001b[0m\u001b[0mdf_train\u001b[0m\u001b[0;34m,\u001b[0m \u001b[0mdf_valid\u001b[0m\u001b[0;34m,\u001b[0m \u001b[0mm\u001b[0m\u001b[0;34m)\u001b[0m \u001b[0;32mfor\u001b[0m \u001b[0mm\u001b[0m \u001b[0;32min\u001b[0m \u001b[0mcfg\u001b[0m\u001b[0;34m.\u001b[0m\u001b[0mmri_types\u001b[0m\u001b[0;34m]\u001b[0m\u001b[0;34m\u001b[0m\u001b[0;34m\u001b[0m\u001b[0m\n\u001b[0m\u001b[1;32m      5\u001b[0m     \u001b[0mprint\u001b[0m\u001b[0;34m(\u001b[0m\u001b[0mmodelfiles\u001b[0m\u001b[0;34m)\u001b[0m\u001b[0;34m\u001b[0m\u001b[0;34m\u001b[0m\u001b[0m\n",
      "\u001b[0;32m<ipython-input-28-cb118edb5f29>\u001b[0m in \u001b[0;36m<listcomp>\u001b[0;34m(.0)\u001b[0m\n\u001b[1;32m      2\u001b[0m \u001b[0;34m\u001b[0m\u001b[0m\n\u001b[1;32m      3\u001b[0m \u001b[0;32mif\u001b[0m \u001b[0;32mnot\u001b[0m \u001b[0mmodelfiles\u001b[0m\u001b[0;34m:\u001b[0m\u001b[0;34m\u001b[0m\u001b[0;34m\u001b[0m\u001b[0m\n\u001b[0;32m----> 4\u001b[0;31m     \u001b[0mmodelfiles\u001b[0m \u001b[0;34m=\u001b[0m \u001b[0;34m[\u001b[0m\u001b[0mtrain_mri_type\u001b[0m\u001b[0;34m(\u001b[0m\u001b[0mdf_train\u001b[0m\u001b[0;34m,\u001b[0m \u001b[0mdf_valid\u001b[0m\u001b[0;34m,\u001b[0m \u001b[0mm\u001b[0m\u001b[0;34m)\u001b[0m \u001b[0;32mfor\u001b[0m \u001b[0mm\u001b[0m \u001b[0;32min\u001b[0m \u001b[0mcfg\u001b[0m\u001b[0;34m.\u001b[0m\u001b[0mmri_types\u001b[0m\u001b[0;34m]\u001b[0m\u001b[0;34m\u001b[0m\u001b[0;34m\u001b[0m\u001b[0m\n\u001b[0m\u001b[1;32m      5\u001b[0m     \u001b[0mprint\u001b[0m\u001b[0;34m(\u001b[0m\u001b[0mmodelfiles\u001b[0m\u001b[0;34m)\u001b[0m\u001b[0;34m\u001b[0m\u001b[0;34m\u001b[0m\u001b[0m\n",
      "\u001b[0;32m<ipython-input-26-76be1168f4ff>\u001b[0m in \u001b[0;36mtrain_mri_type\u001b[0;34m(df_train, df_valid, mri_type)\u001b[0m\n\u001b[1;32m     63\u001b[0m     )\n\u001b[1;32m     64\u001b[0m \u001b[0;34m\u001b[0m\u001b[0m\n\u001b[0;32m---> 65\u001b[0;31m     history = trainer.fit(\n\u001b[0m\u001b[1;32m     66\u001b[0m         \u001b[0mcfg\u001b[0m\u001b[0;34m.\u001b[0m\u001b[0mepochs\u001b[0m\u001b[0;34m,\u001b[0m\u001b[0;34m\u001b[0m\u001b[0;34m\u001b[0m\u001b[0m\n\u001b[1;32m     67\u001b[0m         \u001b[0mtrain_loader\u001b[0m\u001b[0;34m,\u001b[0m\u001b[0;34m\u001b[0m\u001b[0;34m\u001b[0m\u001b[0m\n",
      "\u001b[0;32m<ipython-input-24-5f385f3065d2>\u001b[0m in \u001b[0;36mfit\u001b[0;34m(self, epochs, train_loader, valid_loader, save_path, patience)\u001b[0m\n\u001b[1;32m     28\u001b[0m \u001b[0;34m\u001b[0m\u001b[0m\n\u001b[1;32m     29\u001b[0m \u001b[0;34m\u001b[0m\u001b[0m\n\u001b[0;32m---> 30\u001b[0;31m             \u001b[0mtrain_loss\u001b[0m\u001b[0;34m,\u001b[0m \u001b[0mtrain_time\u001b[0m \u001b[0;34m=\u001b[0m \u001b[0mself\u001b[0m\u001b[0;34m.\u001b[0m\u001b[0mtrain_epoch\u001b[0m\u001b[0;34m(\u001b[0m\u001b[0mtrain_loader\u001b[0m\u001b[0;34m,\u001b[0m \u001b[0mvalid_loader\u001b[0m\u001b[0;34m,\u001b[0m \u001b[0mn_epoch\u001b[0m\u001b[0;34m,\u001b[0m \u001b[0msave_path\u001b[0m\u001b[0;34m)\u001b[0m\u001b[0;34m\u001b[0m\u001b[0;34m\u001b[0m\u001b[0m\n\u001b[0m\u001b[1;32m     31\u001b[0m             \u001b[0mvalid_loss\u001b[0m\u001b[0;34m,\u001b[0m \u001b[0mvalid_auc\u001b[0m\u001b[0;34m,\u001b[0m \u001b[0mvalid_time\u001b[0m \u001b[0;34m=\u001b[0m \u001b[0mself\u001b[0m\u001b[0;34m.\u001b[0m\u001b[0mvalid_epoch\u001b[0m\u001b[0;34m(\u001b[0m\u001b[0mvalid_loader\u001b[0m\u001b[0;34m)\u001b[0m\u001b[0;34m\u001b[0m\u001b[0;34m\u001b[0m\u001b[0m\n\u001b[1;32m     32\u001b[0m \u001b[0;34m\u001b[0m\u001b[0m\n",
      "\u001b[0;32m<ipython-input-24-5f385f3065d2>\u001b[0m in \u001b[0;36mtrain_epoch\u001b[0;34m(self, train_loader, valid_loader, n_epoch, save_path)\u001b[0m\n\u001b[1;32m     81\u001b[0m             \u001b[0mloss\u001b[0m\u001b[0;34m.\u001b[0m\u001b[0mbackward\u001b[0m\u001b[0;34m(\u001b[0m\u001b[0;34m)\u001b[0m\u001b[0;34m\u001b[0m\u001b[0;34m\u001b[0m\u001b[0m\n\u001b[1;32m     82\u001b[0m \u001b[0;34m\u001b[0m\u001b[0m\n\u001b[0;32m---> 83\u001b[0;31m             \u001b[0msum_loss\u001b[0m \u001b[0;34m+=\u001b[0m \u001b[0mloss\u001b[0m\u001b[0;34m.\u001b[0m\u001b[0mdetach\u001b[0m\u001b[0;34m(\u001b[0m\u001b[0;34m)\u001b[0m\u001b[0;34m.\u001b[0m\u001b[0mitem\u001b[0m\u001b[0;34m(\u001b[0m\u001b[0;34m)\u001b[0m\u001b[0;34m\u001b[0m\u001b[0;34m\u001b[0m\u001b[0m\n\u001b[0m\u001b[1;32m     84\u001b[0m             \u001b[0mtorch\u001b[0m\u001b[0;34m.\u001b[0m\u001b[0mnn\u001b[0m\u001b[0;34m.\u001b[0m\u001b[0mutils\u001b[0m\u001b[0;34m.\u001b[0m\u001b[0mclip_grad_norm_\u001b[0m\u001b[0;34m(\u001b[0m\u001b[0mself\u001b[0m\u001b[0;34m.\u001b[0m\u001b[0mmodel\u001b[0m\u001b[0;34m.\u001b[0m\u001b[0mparameters\u001b[0m\u001b[0;34m(\u001b[0m\u001b[0;34m)\u001b[0m\u001b[0;34m,\u001b[0m \u001b[0;36m1.0\u001b[0m\u001b[0;34m)\u001b[0m\u001b[0;34m\u001b[0m\u001b[0;34m\u001b[0m\u001b[0m\n\u001b[1;32m     85\u001b[0m             \u001b[0mself\u001b[0m\u001b[0;34m.\u001b[0m\u001b[0moptimizer\u001b[0m\u001b[0;34m.\u001b[0m\u001b[0mstep\u001b[0m\u001b[0;34m(\u001b[0m\u001b[0;34m)\u001b[0m\u001b[0;34m\u001b[0m\u001b[0;34m\u001b[0m\u001b[0m\n",
      "\u001b[0;31mKeyboardInterrupt\u001b[0m: "
     ]
    },
    {
     "data": {
      "image/png": "[encoded data removed]",
      "text/plain": [
       "<Figure size 432x288 with 1 Axes>"
      ]
     },
     "metadata": {
      "needs_background": "light"
     },
     "output_type": "display_data"
    }
   ],
   "source": [
    "modelfiles = None\n",
    "\n",
    "if not modelfiles:\n",
    "    modelfiles = [train_mri_type(df_train, df_valid, m) for m in cfg.mri_types]\n",
    "    print(modelfiles)"
   ]
  },
  {
   "cell_type": "markdown",
   "id": "375c1a78-031a-47d4-ad5c-d0d4c55aa6ff",
   "metadata": {},
   "source": [
    "## Predict Function"
   ]
  },
  {
   "cell_type": "code",
   "execution_count": null,
   "id": "fce99aae-a8d8-457c-82b6-c370be8479a2",
   "metadata": {},
   "outputs": [],
   "source": [
    "def predict(modelfile, df, mri_type, split):\n",
    "    print(\"Predict:\", modelfile, mri_type, df.shape)\n",
    "    df.loc[:,\"MRI_Type\"] = mri_type\n",
    "    data_retriever = Dataset(\n",
    "        df.index.values, \n",
    "        mri_type=df[\"MRI_Type\"].values,\n",
    "        split=split\n",
    "    )\n",
    "\n",
    "    data_loader = torch_data.DataLoader(\n",
    "        data_retriever,\n",
    "        batch_size=cfg.batch_size,\n",
    "        shuffle=False,\n",
    "        num_workers=8,\n",
    "    )\n",
    "   \n",
    "    model = Model()\n",
    "    model.to(device)\n",
    "    \n",
    "    checkpoint = torch.load(modelfile)\n",
    "    model.load_state_dict(checkpoint[\"model_state_dict\"])\n",
    "    model.eval()\n",
    "    \n",
    "    y_pred = []\n",
    "    ids = []\n",
    "\n",
    "    for e, batch in enumerate(data_loader,1):\n",
    "        print(f\"{e}/{len(data_loader)}\", end=\"\\r\")\n",
    "        with torch.no_grad():\n",
    "            tmp_pred = torch.sigmoid(model(batch[\"X\"].to(device)).cpu().numpy().squeeze())\n",
    "            print('tmp_pred', tmp_pred)\n",
    "            if tmp_pred.size == 1:\n",
    "                y_pred.append(tmp_pred)\n",
    "            else:\n",
    "                y_pred.extend(tmp_pred.tolist())\n",
    "            ids.extend(batch[\"id\"].numpy().tolist())\n",
    "            \n",
    "    preddf = pd.DataFrame({\"BraTS21ID\": ids, \"MGMT_value\": y_pred}) \n",
    "    preddf = preddf.set_index(\"BraTS21ID\")\n",
    "    return preddf"
   ]
  },
  {
   "cell_type": "markdown",
   "id": "16cb658c-ec2a-4854-9ddd-d1b21f1af23b",
   "metadata": {},
   "source": [
    "### Ensemble for Validation"
   ]
  },
  {
   "cell_type": "code",
   "execution_count": null,
   "id": "8771772d-7171-40bb-ae18-4b820519a5e8",
   "metadata": {},
   "outputs": [],
   "source": [
    "df_valid = df_valid.set_index(\"BraTS21ID\")"
   ]
  },
  {
   "cell_type": "code",
   "execution_count": null,
   "id": "e7fa9705-3b2b-49bf-bc72-f9ebc849c264",
   "metadata": {},
   "outputs": [],
   "source": [
    "def normalize_results(preds, train):\n",
    "    return (preds - (preds.mean() - train.mean()))"
   ]
  },
  {
   "cell_type": "code",
   "execution_count": null,
   "id": "a39e8f7c-e055-4a78-9a54-aa2e169cf459",
   "metadata": {},
   "outputs": [],
   "source": [
    "df_valid[\"MGMT_pred\"] = 0\n",
    "for m, mtype in zip(modelfiles,  mri_types):\n",
    "    pred = predict(m, df_valid, mtype, \"train\")\n",
    "    df_valid[\"MGMT_pred\"] += pred[\"MGMT_value\"]\n",
    "df_valid[\"MGMT_pred\"] /= len(modelfiles)\n",
    "auc = roc_auc_score(df_valid[\"MGMT_value\"], df_valid[\"MGMT_pred\"])\n",
    "print(f\"Validation ensemble AUC: {auc:.4f}\")\n",
    "sns.displot(df_valid[\"MGMT_pred\"])"
   ]
  }
 ],
 "metadata": {
  "kernelspec": {
   "display_name": "Python 3",
   "language": "python",
   "name": "python3"
  },
  "language_info": {
   "codemirror_mode": {
    "name": "ipython",
    "version": 3
   },
   "file_extension": ".py",
   "mimetype": "text/x-python",
   "name": "python",
   "nbconvert_exporter": "python",
   "pygments_lexer": "ipython3",
   "version": "3.8.5"
  }
 },
 "nbformat": 4,
 "nbformat_minor": 5
}
