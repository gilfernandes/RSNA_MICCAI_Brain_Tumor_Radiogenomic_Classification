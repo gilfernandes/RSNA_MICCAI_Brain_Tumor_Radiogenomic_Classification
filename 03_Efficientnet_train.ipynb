{
 "cells": [
  {
   "cell_type": "code",
   "execution_count": null,
   "id": "72117177-df3f-4363-a641-da66a457edf3",
   "metadata": {},
   "outputs": [],
   "source": [
    "# !pip install pydicom"
   ]
  },
  {
   "cell_type": "code",
   "execution_count": null,
   "id": "c33b20de-fe4a-4b0d-bc34-4279cfb9ef3c",
   "metadata": {},
   "outputs": [],
   "source": [
    "# !pip install git+https://github.com/shijianjian/EfficientNet-PyTorch-3D"
   ]
  },
  {
   "cell_type": "code",
   "execution_count": 1,
   "id": "44c5d7f0-ba25-4c0d-bd2f-0b1e48ef8f55",
   "metadata": {},
   "outputs": [],
   "source": [
    "import os\n",
    "import sys \n",
    "import json\n",
    "import glob\n",
    "import random\n",
    "import collections\n",
    "import time\n",
    "import re\n",
    "\n",
    "import numpy as np\n",
    "import pandas as pd\n",
    "import pydicom\n",
    "import cv2\n",
    "import matplotlib.pyplot as plt\n",
    "import seaborn as sns\n",
    "\n",
    "import torch\n",
    "from torch import nn\n",
    "from torch.utils import data as torch_data\n",
    "from sklearn import model_selection as sk_model_selection\n",
    "from torch.nn import functional as torch_functional\n",
    "import torch.nn.functional as F\n",
    "\n",
    "from sklearn.model_selection import StratifiedKFold\n",
    "from sklearn.metrics import roc_auc_score\n",
    "\n",
    "from pathlib import Path\n",
    "from efficientnet_pytorch_3d import EfficientNet3D\n",
    "\n",
    "from tqdm.notebook import tqdm\n",
    "\n",
    "from functools import cmp_to_key"
   ]
  },
  {
   "cell_type": "code",
   "execution_count": 2,
   "id": "74596712-6d6f-4683-85fe-4a5997117a7d",
   "metadata": {},
   "outputs": [],
   "source": [
    "class Config():\n",
    "    epochs = 15\n",
    "    batch_size = 8\n",
    "    base_path = Path('/home/RSNA_MICCAI_Brain_Tumor/data')\n",
    "    assert base_path.exists()\n",
    "    models_path = Path('/home/RSNA_MICCAI_Brain_Tumor/models')\n",
    "    assert models_path.exists()\n",
    "    seed = 42\n",
    "    num_workers = 7\n",
    "    model_name = 'efficientnet-2'\n",
    "    \n",
    "cfg = Config()"
   ]
  },
  {
   "cell_type": "code",
   "execution_count": 3,
   "id": "6f7b5414-6108-42cc-8c59-f77b4b22386a",
   "metadata": {},
   "outputs": [],
   "source": [
    "if os.path.exists(cfg.base_path):\n",
    "    data_directory = cfg.base_path\n",
    "else:\n",
    "    assert False, \"data_directory does not exist\"\n",
    "    \n",
    "# mri_types = ['FLAIR']\n",
    "mri_types = ['FLAIR','T1w','T1wCE','T2w']\n",
    "SIZE = 512\n",
    "NUM_IMAGES = 3"
   ]
  },
  {
   "cell_type": "markdown",
   "id": "4dd6e771-9bbb-4c33-9025-28f3a3852827",
   "metadata": {},
   "source": [
    "### Functions to load images"
   ]
  },
  {
   "cell_type": "code",
   "execution_count": 4,
   "id": "07ebc209-c89b-4e98-8266-e8daedfd0e02",
   "metadata": {},
   "outputs": [],
   "source": [
    "def load_dicom_image(path, img_size=SIZE):\n",
    "    dicom = pydicom.read_file(path)\n",
    "    data = dicom.pixel_array\n",
    "    if np.min(data)==np.max(data):\n",
    "        data = np.zeros((img_size,img_size))\n",
    "        return data\n",
    "    data = data - np.min(data)\n",
    "    if np.max(data) != 0:\n",
    "        data = data / np.max(data)\n",
    "    \n",
    "    #data = (data * 255).astype(np.uint8)\n",
    "    data = cv2.resize(data, (img_size, img_size))\n",
    "    return data\n",
    "\n",
    "def convert_path_to_int(x):\n",
    "    res = int(re.sub(r'.+\\-+(\\d+)\\..+', r'\\1', x))\n",
    "    return res\n",
    "\n",
    "def load_dicom_images_3d(scan_id, num_imgs=NUM_IMAGES, img_size=SIZE, mri_type=\"FLAIR\", split=\"train\"):\n",
    "\n",
    "    glob_expr = f'{cfg.base_path}/{split}/{scan_id}/{mri_type}/*.dcm'\n",
    "    files = glob.glob(glob_expr)\n",
    "    files.sort(key=cmp_to_key(lambda x, y: -1 if convert_path_to_int(x) < convert_path_to_int(y) else 1))\n",
    "    \n",
    "    \n",
    "    middle = len(files)//2\n",
    "    num_imgs2 = num_imgs//2\n",
    "    p1 = max(0, middle - num_imgs2)\n",
    "    p2 = min(len(files), middle + num_imgs2)\n",
    "    img3d = np.stack([load_dicom_image(f) for f in files[p1:p2]]).T \n",
    "    if img3d.shape[-1] < num_imgs:\n",
    "        n_zero = np.zeros((img_size, img_size, num_imgs - img3d.shape[-1]))\n",
    "        img3d = np.concatenate((img3d,  n_zero), axis = -1)\n",
    "            \n",
    "    return img3d\n",
    "\n"
   ]
  },
  {
   "cell_type": "code",
   "execution_count": 5,
   "id": "2a52b621-5497-4313-b81a-03e4e06f7a79",
   "metadata": {},
   "outputs": [],
   "source": [
    "from efficientnet_pytorch import EfficientNet\n",
    "model = EfficientNet.from_name('efficientnet-b2')"
   ]
  },
  {
   "cell_type": "code",
   "execution_count": 6,
   "id": "ae3636ad-11b5-4f12-93d0-67dd5b20ed60",
   "metadata": {},
   "outputs": [],
   "source": [
    "def view_image_pair(sample_img_1, sample_img_2):\n",
    "    fig = plt.figure(figsize=(10, 5))\n",
    "    fig.add_subplot(1, 2, 1)\n",
    "    plt.imshow(sample_img_1)\n",
    "    fig.add_subplot(1, 2, 2)\n",
    "    plt.imshow(sample_img_2)\n"
   ]
  },
  {
   "cell_type": "code",
   "execution_count": 7,
   "id": "60f8eaa2-189d-4e58-b08f-fcb5c9d9d1bd",
   "metadata": {},
   "outputs": [],
   "source": [
    "def show_sample_img(scan_id):\n",
    "    sample_img = load_dicom_images_3d(scan_id, num_imgs=3)\n",
    "    sample_img = torch.tensor(sample_img)\n",
    "    \n",
    "    plt.imshow(torch.tensor(sample_img.squeeze()))"
   ]
  },
  {
   "cell_type": "code",
   "execution_count": 9,
   "id": "0140d076-dfde-472e-8d6a-68f0440ac46f",
   "metadata": {},
   "outputs": [
    {
     "name": "stderr",
     "output_type": "stream",
     "text": [
      "<ipython-input-7-26b4ca3db0c6>:5: UserWarning: To copy construct from a tensor, it is recommended to use sourceTensor.clone().detach() or sourceTensor.clone().detach().requires_grad_(True), rather than torch.tensor(sourceTensor).\n",
      "  plt.imshow(torch.tensor(sample_img.squeeze()))\n"
     ]
    },
    {
     "data": {
      "image/png": "[encoded data removed]",
      "text/plain": [
       "<Figure size 432x288 with 1 Axes>"
      ]
     },
     "metadata": {
      "needs_background": "light"
     },
     "output_type": "display_data"
    }
   ],
   "source": [
    "show_sample_img(\"00000\")"
   ]
  },
  {
   "cell_type": "code",
   "execution_count": 10,
   "id": "cac93f4b-8838-4e59-a77e-fe2b85a5a61d",
   "metadata": {},
   "outputs": [
    {
     "name": "stderr",
     "output_type": "stream",
     "text": [
      "<ipython-input-7-26b4ca3db0c6>:5: UserWarning: To copy construct from a tensor, it is recommended to use sourceTensor.clone().detach() or sourceTensor.clone().detach().requires_grad_(True), rather than torch.tensor(sourceTensor).\n",
      "  plt.imshow(torch.tensor(sample_img.squeeze()))\n"
     ]
    },
    {
     "data": {
      "image/png": "[encoded data removed]",
      "text/plain": [
       "<Figure size 432x288 with 1 Axes>"
      ]
     },
     "metadata": {
      "needs_background": "light"
     },
     "output_type": "display_data"
    }
   ],
   "source": [
    "show_sample_img(\"00002\")"
   ]
  },
  {
   "cell_type": "code",
   "execution_count": 11,
   "id": "b45f60fc-a3b8-4a79-980a-d7e7ac7a327a",
   "metadata": {},
   "outputs": [],
   "source": [
    "sample_img = load_dicom_images_3d(\"00000\", num_imgs=3)\n",
    "sample_img = torch.tensor(sample_img).float().permute(-1, 0, 1)"
   ]
  },
  {
   "cell_type": "code",
   "execution_count": 12,
   "id": "15c12ac1-e6f7-44cb-ad25-484c3749b978",
   "metadata": {},
   "outputs": [
    {
     "data": {
      "text/plain": [
       "torch.Size([3, 512, 512])"
      ]
     },
     "execution_count": 12,
     "metadata": {},
     "output_type": "execute_result"
    }
   ],
   "source": [
    "sample_img.shape"
   ]
  },
  {
   "cell_type": "code",
   "execution_count": 13,
   "id": "f2bbeaa2-a240-4ce4-a6d6-c13d86c8284f",
   "metadata": {},
   "outputs": [
    {
     "data": {
      "text/plain": [
       "torch.Size([1, 1000])"
      ]
     },
     "execution_count": 13,
     "metadata": {},
     "output_type": "execute_result"
    }
   ],
   "source": [
    "model(sample_img.unsqueeze(0)).shape"
   ]
  },
  {
   "cell_type": "code",
   "execution_count": 14,
   "id": "b5ac59ed-8eba-4bb4-a1b5-da9a88ab513c",
   "metadata": {},
   "outputs": [],
   "source": [
    "def set_seed(seed):\n",
    "    random.seed(seed)\n",
    "    os.environ[\"PYTHONHASHSEED\"] = str(seed)\n",
    "    np.random.seed(seed)\n",
    "    torch.manual_seed(seed)\n",
    "    if torch.cuda.is_available():\n",
    "        torch.cuda.manual_seed_all(seed)\n",
    "        torch.backends.cudnn.deterministic = True\n",
    "\n",
    "set_seed(cfg.seed)"
   ]
  },
  {
   "cell_type": "markdown",
   "id": "3d6e1a77-ceea-4ab9-b78a-ea23ee7ee1c4",
   "metadata": {},
   "source": [
    "### train / test splits"
   ]
  },
  {
   "cell_type": "code",
   "execution_count": 15,
   "id": "5aaaeb81-51ab-4642-a231-de6a2d696e86",
   "metadata": {},
   "outputs": [
    {
     "data": {
      "text/html": [
       "<div>\n",
       "<style scoped>\n",
       "    .dataframe tbody tr th:only-of-type {\n",
       "        vertical-align: middle;\n",
       "    }\n",
       "\n",
       "    .dataframe tbody tr th {\n",
       "        vertical-align: top;\n",
       "    }\n",
       "\n",
       "    .dataframe thead th {\n",
       "        text-align: right;\n",
       "    }\n",
       "</style>\n",
       "<table border=\"1\" class=\"dataframe\">\n",
       "  <thead>\n",
       "    <tr style=\"text-align: right;\">\n",
       "      <th></th>\n",
       "      <th>BraTS21ID</th>\n",
       "      <th>MGMT_value</th>\n",
       "    </tr>\n",
       "  </thead>\n",
       "  <tbody>\n",
       "    <tr>\n",
       "      <th>0</th>\n",
       "      <td>0</td>\n",
       "      <td>1</td>\n",
       "    </tr>\n",
       "    <tr>\n",
       "      <th>1</th>\n",
       "      <td>2</td>\n",
       "      <td>1</td>\n",
       "    </tr>\n",
       "    <tr>\n",
       "      <th>2</th>\n",
       "      <td>3</td>\n",
       "      <td>0</td>\n",
       "    </tr>\n",
       "    <tr>\n",
       "      <th>3</th>\n",
       "      <td>5</td>\n",
       "      <td>1</td>\n",
       "    </tr>\n",
       "    <tr>\n",
       "      <th>4</th>\n",
       "      <td>6</td>\n",
       "      <td>1</td>\n",
       "    </tr>\n",
       "    <tr>\n",
       "      <th>...</th>\n",
       "      <td>...</td>\n",
       "      <td>...</td>\n",
       "    </tr>\n",
       "    <tr>\n",
       "      <th>580</th>\n",
       "      <td>1005</td>\n",
       "      <td>1</td>\n",
       "    </tr>\n",
       "    <tr>\n",
       "      <th>581</th>\n",
       "      <td>1007</td>\n",
       "      <td>1</td>\n",
       "    </tr>\n",
       "    <tr>\n",
       "      <th>582</th>\n",
       "      <td>1008</td>\n",
       "      <td>1</td>\n",
       "    </tr>\n",
       "    <tr>\n",
       "      <th>583</th>\n",
       "      <td>1009</td>\n",
       "      <td>0</td>\n",
       "    </tr>\n",
       "    <tr>\n",
       "      <th>584</th>\n",
       "      <td>1010</td>\n",
       "      <td>0</td>\n",
       "    </tr>\n",
       "  </tbody>\n",
       "</table>\n",
       "<p>585 rows × 2 columns</p>\n",
       "</div>"
      ],
      "text/plain": [
       "     BraTS21ID  MGMT_value\n",
       "0            0           1\n",
       "1            2           1\n",
       "2            3           0\n",
       "3            5           1\n",
       "4            6           1\n",
       "..         ...         ...\n",
       "580       1005           1\n",
       "581       1007           1\n",
       "582       1008           1\n",
       "583       1009           0\n",
       "584       1010           0\n",
       "\n",
       "[585 rows x 2 columns]"
      ]
     },
     "metadata": {},
     "output_type": "display_data"
    }
   ],
   "source": [
    "train_df = pd.read_csv(f\"{data_directory}/train_labels.csv\")\n",
    "display(train_df)\n",
    "\n",
    "df_train, df_valid = sk_model_selection.train_test_split(\n",
    "    train_df, \n",
    "    test_size=0.2, \n",
    "    random_state=42, \n",
    "    stratify=train_df[\"MGMT_value\"],\n",
    ")\n"
   ]
  },
  {
   "cell_type": "code",
   "execution_count": 16,
   "id": "c4abc40f-9634-4ca7-b027-d0d5686b9126",
   "metadata": {},
   "outputs": [
    {
     "data": {
      "text/html": [
       "<div>\n",
       "<style scoped>\n",
       "    .dataframe tbody tr th:only-of-type {\n",
       "        vertical-align: middle;\n",
       "    }\n",
       "\n",
       "    .dataframe tbody tr th {\n",
       "        vertical-align: top;\n",
       "    }\n",
       "\n",
       "    .dataframe thead th {\n",
       "        text-align: right;\n",
       "    }\n",
       "</style>\n",
       "<table border=\"1\" class=\"dataframe\">\n",
       "  <thead>\n",
       "    <tr style=\"text-align: right;\">\n",
       "      <th></th>\n",
       "      <th>BraTS21ID</th>\n",
       "      <th>MGMT_value</th>\n",
       "    </tr>\n",
       "  </thead>\n",
       "  <tbody>\n",
       "    <tr>\n",
       "      <th>549</th>\n",
       "      <td>803</td>\n",
       "      <td>0</td>\n",
       "    </tr>\n",
       "    <tr>\n",
       "      <th>504</th>\n",
       "      <td>735</td>\n",
       "      <td>0</td>\n",
       "    </tr>\n",
       "    <tr>\n",
       "      <th>2</th>\n",
       "      <td>3</td>\n",
       "      <td>0</td>\n",
       "    </tr>\n",
       "    <tr>\n",
       "      <th>550</th>\n",
       "      <td>804</td>\n",
       "      <td>0</td>\n",
       "    </tr>\n",
       "    <tr>\n",
       "      <th>247</th>\n",
       "      <td>359</td>\n",
       "      <td>1</td>\n",
       "    </tr>\n",
       "  </tbody>\n",
       "</table>\n",
       "</div>"
      ],
      "text/plain": [
       "     BraTS21ID  MGMT_value\n",
       "549        803           0\n",
       "504        735           0\n",
       "2            3           0\n",
       "550        804           0\n",
       "247        359           1"
      ]
     },
     "execution_count": 16,
     "metadata": {},
     "output_type": "execute_result"
    }
   ],
   "source": [
    "df_train.tail()"
   ]
  },
  {
   "cell_type": "markdown",
   "id": "c2be3fc3-c1a7-4feb-8928-027733a61d3b",
   "metadata": {},
   "source": [
    "### Model and training classes"
   ]
  },
  {
   "cell_type": "code",
   "execution_count": 17,
   "id": "49d9c846-1f59-4092-ab69-34fa0814087c",
   "metadata": {},
   "outputs": [],
   "source": [
    "class Dataset(torch_data.Dataset):\n",
    "    def __init__(self, paths, targets=None, mri_type=None, label_smoothing=0.01, split=\"train\"):\n",
    "        self.paths = paths\n",
    "        self.targets = targets\n",
    "        self.mri_type = mri_type\n",
    "        self.label_smoothing = label_smoothing\n",
    "        self.split = split\n",
    "          \n",
    "    def __len__(self):\n",
    "        return len(self.paths)\n",
    "    \n",
    "    def __getitem__(self, index):\n",
    "        scan_id = self.paths[index]\n",
    "        if self.targets is None:\n",
    "            data = load_dicom_images_3d(str(scan_id).zfill(5), mri_type=self.mri_type[index], split=self.split)\n",
    "        else:\n",
    "            data = load_dicom_images_3d(str(scan_id).zfill(5), mri_type=self.mri_type[index], split=\"train\")\n",
    "        data = torch.tensor(data).float()\n",
    "        data = data.permute(-1, 0, 1)\n",
    "        if self.targets is None:\n",
    "            return {\"X\": data, \"id\": scan_id}\n",
    "        else:\n",
    "            y = torch.tensor(abs(self.targets[index]-self.label_smoothing), dtype=torch.float)\n",
    "            return {\"X\": data, \"y\": y}\n"
   ]
  },
  {
   "cell_type": "code",
   "execution_count": 18,
   "id": "c18c0d48-a6ec-4756-86ed-fde82ff59fe6",
   "metadata": {},
   "outputs": [],
   "source": [
    "class ModelHead(nn.Module):\n",
    "    \n",
    "    def __init__(self, in_features, hidden_dim):\n",
    "        super().__init__()\n",
    "        self._fc = nn.Linear(in_features=in_features, out_features=hidden_dim, bias=True)\n",
    "        self._fc_2 = nn.Linear(in_features=hidden_dim, out_features=1, bias=True)\n",
    "        \n",
    "    def forward(self, x):\n",
    "        x = self._fc(x)\n",
    "        x = self._fc_2(x)\n",
    "        return x\n",
    "\n",
    "class Model(nn.Module):\n",
    "    def __init__(self):\n",
    "        super().__init__()\n",
    "        self.net = EfficientNet.from_name('efficientnet-b1')\n",
    "        n_features = self.net._fc.in_features\n",
    "        self.net._fc = ModelHead(n_features, 600)\n",
    "        \n",
    "    \n",
    "    def forward(self, x):\n",
    "        out = self.net(x)\n",
    "        return out\n",
    "    "
   ]
  },
  {
   "cell_type": "code",
   "execution_count": 19,
   "id": "fd7f3eee-d04b-4401-8ee8-bc167c76b2bd",
   "metadata": {},
   "outputs": [],
   "source": [
    "class Trainer:\n",
    "    def __init__(\n",
    "        self, \n",
    "        model, \n",
    "        device, \n",
    "        optimizer, \n",
    "        criterion\n",
    "    ):\n",
    "        self.model = model\n",
    "        self.device = device\n",
    "        self.optimizer = optimizer\n",
    "        self.criterion = criterion\n",
    "\n",
    "        self.best_valid_score = np.inf\n",
    "        self.n_patience = 0\n",
    "        self.lastmodel = None\n",
    "        \n",
    "    def fit(self, epochs, train_loader, valid_loader, save_path, patience):  \n",
    "        tbar = tqdm(range(1, epochs + 1), total=epochs)\n",
    "        self.lr_sched = torch.optim.lr_scheduler.CosineAnnealingWarmRestarts(self.optimizer, T_0=int(len(train_loader)), T_mult=1, eta_min=0.0001, last_epoch=-1)\n",
    "        self.lrs = []\n",
    "        \n",
    "        for n_epoch in tbar:\n",
    "            \n",
    "            self.info_message(\"EPOCH: {}\", n_epoch)\n",
    "            tbar.set_description(f'EPOCH: {n_epoch}')\n",
    "            \n",
    "            \n",
    "            train_loss, train_time = self.train_epoch(train_loader)\n",
    "            valid_loss, valid_auc, valid_time = self.valid_epoch(valid_loader)\n",
    "            \n",
    "            self.info_message(\n",
    "                \"[Epoch Train: {}] loss: {:.4f}, time: {:.2f} s            \",\n",
    "                n_epoch, train_loss, train_time\n",
    "            )\n",
    "            \n",
    "            self.info_message(\n",
    "                \"[Epoch Valid: {}] loss: {:.4f}, auc: {:.4f}, time: {:.2f} s\",\n",
    "                n_epoch, valid_loss, valid_auc, valid_time\n",
    "            )\n",
    "\n",
    "            # if True:\n",
    "            # if self.best_valid_score < valid_auc: \n",
    "            if self.best_valid_score > valid_loss and n_epoch > 4 and valid_auc > 0.5: \n",
    "                self.save_model(n_epoch, save_path, valid_loss, valid_auc)\n",
    "                self.info_message(\n",
    "                     \"auc improved from {:.4f} to {:.4f}. Saved model to '{}'\", \n",
    "                    self.best_valid_score, valid_loss, self.lastmodel\n",
    "                )\n",
    "                self.best_valid_score = valid_loss\n",
    "                self.n_patience = 0\n",
    "            else:\n",
    "                self.n_patience += 1\n",
    "            \n",
    "            if self.n_patience >= patience:\n",
    "                self.info_message(\"\\nValid auc didn't improve last {} epochs.\", patience)\n",
    "                break\n",
    "        plt.plot(self.lrs)\n",
    "            \n",
    "    def train_epoch(self, train_loader):\n",
    "        self.model.train()\n",
    "        t = time.time()\n",
    "        sum_loss = 0\n",
    "\n",
    "        tbar = tqdm(enumerate(train_loader, 1), total=len(train_loader))\n",
    "        \n",
    "        for step, batch in tbar:\n",
    "            X = batch[\"X\"].to(self.device)\n",
    "            targets = batch[\"y\"].to(self.device)\n",
    "            self.optimizer.zero_grad()\n",
    "            outputs = self.model(X).squeeze(1)\n",
    "            \n",
    "            loss = self.criterion(outputs, targets)\n",
    "            loss.backward()\n",
    "\n",
    "            sum_loss += loss.detach().item()\n",
    "            torch.nn.utils.clip_grad_norm_(self.model.parameters(), 1.0)\n",
    "            self.optimizer.step()\n",
    "            self.lr_sched.step()\n",
    "            current_lr = self.optimizer.param_groups[0][\"lr\"]\n",
    "            self.lrs.append(\n",
    "                current_lr\n",
    "            )\n",
    "            \n",
    "            message = 'Train Step {}/{}, train_loss: {:.4f}'\n",
    "            self.info_message(message, step, len(train_loader), sum_loss/step, end=\"\\r\")\n",
    "        \n",
    "        return sum_loss/len(train_loader), int(time.time() - t)\n",
    "    \n",
    "    def valid_epoch(self, valid_loader):\n",
    "        self.model.eval()\n",
    "        t = time.time()\n",
    "        sum_loss = 0\n",
    "        y_all = []\n",
    "        outputs_all = []\n",
    "\n",
    "        tbar = tqdm(enumerate(valid_loader, 1), total=len(valid_loader))\n",
    "        for step, batch in tbar:\n",
    "            with torch.no_grad():\n",
    "                X = batch[\"X\"].to(self.device)\n",
    "                targets = batch[\"y\"].to(self.device)\n",
    "\n",
    "                outputs = self.model(X).squeeze(1)\n",
    "                outputs = torch.sigmoid(outputs)\n",
    "                loss = self.criterion(outputs, targets)\n",
    "                print('outputs', outputs, outputs.std())\n",
    "                print('targets', targets, targets.std())\n",
    "                \n",
    "                sum_loss += loss.detach().item()\n",
    "                y_all.extend(batch[\"y\"].tolist())\n",
    "                outputs_all.extend(outputs.tolist())\n",
    "\n",
    "            message = 'Valid Step {}/{}, valid_loss: {:.4f}'\n",
    "            self.info_message(message, step, len(valid_loader), sum_loss/step, end=\"\\r\")\n",
    "            \n",
    "        y_all = [1 if x > 0.5 else 0 for x in y_all]\n",
    "        auc = roc_auc_score(y_all, outputs_all)\n",
    "        \n",
    "        return sum_loss/len(valid_loader), auc, int(time.time() - t)\n",
    "    \n",
    "    def save_model(self, n_epoch, save_path, loss, auc):\n",
    "        self.lastmodel = str(cfg.models_path/f\"{save_path}-e{n_epoch}-loss{loss:.3f}-auc{auc:.3f}.pth\")\n",
    "        torch.save(\n",
    "            {\n",
    "                \"model_state_dict\": self.model.state_dict(),\n",
    "                \"optimizer_state_dict\": self.optimizer.state_dict(),\n",
    "                \"best_valid_score\": self.best_valid_score,\n",
    "                \"n_epoch\": n_epoch,\n",
    "            },\n",
    "            self.lastmodel,\n",
    "        )\n",
    "    \n",
    "    @staticmethod\n",
    "    def info_message(message, *args, end=\"\\n\"):\n",
    "        print(message.format(*args), end=end)"
   ]
  },
  {
   "cell_type": "code",
   "execution_count": 20,
   "id": "02bd6b73-6c36-4da3-850a-24a96a670b17",
   "metadata": {},
   "outputs": [],
   "source": [
    "device = torch.device(\"cuda\" if torch.cuda.is_available() else \"cpu\")\n",
    "\n",
    "def train_mri_type(df_train, df_valid, mri_type):\n",
    "    if mri_type==\"all\":\n",
    "        train_list = []\n",
    "        valid_list = []\n",
    "        for mri_type in mri_types:\n",
    "            df_train.loc[:,\"MRI_Type\"] = mri_type\n",
    "            train_list.append(df_train.copy())\n",
    "            df_valid.loc[:,\"MRI_Type\"] = mri_type\n",
    "            valid_list.append(df_valid.copy())\n",
    "\n",
    "        df_train = pd.concat(train_list)\n",
    "        df_valid = pd.concat(valid_list)\n",
    "    else:\n",
    "        df_train.loc[:,\"MRI_Type\"] = mri_type\n",
    "        df_valid.loc[:,\"MRI_Type\"] = mri_type\n",
    "\n",
    "    print(df_train.shape, df_valid.shape)\n",
    "    display(df_train.head())\n",
    "    \n",
    "    train_data_retriever = Dataset(\n",
    "        df_train[\"BraTS21ID\"].values, \n",
    "        df_train[\"MGMT_value\"].values, \n",
    "        df_train[\"MRI_Type\"].values\n",
    "    )\n",
    "\n",
    "    valid_data_retriever = Dataset(\n",
    "        df_valid[\"BraTS21ID\"].values, \n",
    "        df_valid[\"MGMT_value\"].values,\n",
    "        df_valid[\"MRI_Type\"].values\n",
    "    )\n",
    "\n",
    "    train_loader = torch_data.DataLoader(\n",
    "        train_data_retriever,\n",
    "        batch_size=cfg.batch_size,\n",
    "        shuffle=True,\n",
    "        num_workers=cfg.num_workers,\n",
    "    )\n",
    "\n",
    "    valid_loader = torch_data.DataLoader(\n",
    "        valid_data_retriever, \n",
    "        batch_size=cfg.batch_size,\n",
    "        shuffle=False,\n",
    "        num_workers=cfg.num_workers,\n",
    "    )\n",
    "\n",
    "    model = Model()\n",
    "    model.to(device)\n",
    "\n",
    "    #checkpoint = torch.load(\"best-model-all-auc0.555.pth\")\n",
    "    #model.load_state_dict(checkpoint[\"model_state_dict\"])\n",
    "\n",
    "    #print(model)\n",
    "\n",
    "    optimizer = torch.optim.Adam(model.parameters(), lr=0.001)\n",
    "    #optimizer = torch.optim.SGD(model.parameters(), lr=0.001, momentum=0.9)\n",
    "\n",
    "    criterion = torch_functional.binary_cross_entropy_with_logits\n",
    "\n",
    "    trainer = Trainer(\n",
    "        model, \n",
    "        device, \n",
    "        optimizer, \n",
    "        criterion\n",
    "    )\n",
    "\n",
    "    history = trainer.fit(\n",
    "        cfg.epochs, \n",
    "        train_loader, \n",
    "        valid_loader, \n",
    "        f\"{mri_type}\", \n",
    "        cfg.epochs,\n",
    "    )\n",
    "    \n",
    "    return trainer.lastmodel"
   ]
  },
  {
   "cell_type": "code",
   "execution_count": 21,
   "id": "9461defa-ea31-47fd-b163-c2b00ddc9ffe",
   "metadata": {},
   "outputs": [],
   "source": [
    "!rm -rf {str(cfg.models_path)}/*.pth"
   ]
  },
  {
   "cell_type": "code",
   "execution_count": 22,
   "id": "da597e83-3a85-4eb4-83bb-999c9ef78bf6",
   "metadata": {},
   "outputs": [
    {
     "name": "stdout",
     "output_type": "stream",
     "text": [
      "(468, 3) (117, 3)\n"
     ]
    },
    {
     "name": "stderr",
     "output_type": "stream",
     "text": [
      "/opt/conda/lib/python3.8/site-packages/pandas/core/indexing.py:1597: SettingWithCopyWarning: \n",
      "A value is trying to be set on a copy of a slice from a DataFrame.\n",
      "Try using .loc[row_indexer,col_indexer] = value instead\n",
      "\n",
      "See the caveats in the documentation: https://pandas.pydata.org/pandas-docs/stable/user_guide/indexing.html#returning-a-view-versus-a-copy\n",
      "  self.obj[key] = value\n",
      "/opt/conda/lib/python3.8/site-packages/pandas/core/indexing.py:1720: SettingWithCopyWarning: \n",
      "A value is trying to be set on a copy of a slice from a DataFrame.\n",
      "Try using .loc[row_indexer,col_indexer] = value instead\n",
      "\n",
      "See the caveats in the documentation: https://pandas.pydata.org/pandas-docs/stable/user_guide/indexing.html#returning-a-view-versus-a-copy\n",
      "  self._setitem_single_column(loc, value, pi)\n"
     ]
    },
    {
     "data": {
      "text/html": [
       "<div>\n",
       "<style scoped>\n",
       "    .dataframe tbody tr th:only-of-type {\n",
       "        vertical-align: middle;\n",
       "    }\n",
       "\n",
       "    .dataframe tbody tr th {\n",
       "        vertical-align: top;\n",
       "    }\n",
       "\n",
       "    .dataframe thead th {\n",
       "        text-align: right;\n",
       "    }\n",
       "</style>\n",
       "<table border=\"1\" class=\"dataframe\">\n",
       "  <thead>\n",
       "    <tr style=\"text-align: right;\">\n",
       "      <th></th>\n",
       "      <th>BraTS21ID</th>\n",
       "      <th>MGMT_value</th>\n",
       "      <th>MRI_Type</th>\n",
       "    </tr>\n",
       "  </thead>\n",
       "  <tbody>\n",
       "    <tr>\n",
       "      <th>102</th>\n",
       "      <td>154</td>\n",
       "      <td>0</td>\n",
       "      <td>FLAIR</td>\n",
       "    </tr>\n",
       "    <tr>\n",
       "      <th>161</th>\n",
       "      <td>240</td>\n",
       "      <td>1</td>\n",
       "      <td>FLAIR</td>\n",
       "    </tr>\n",
       "    <tr>\n",
       "      <th>508</th>\n",
       "      <td>740</td>\n",
       "      <td>1</td>\n",
       "      <td>FLAIR</td>\n",
       "    </tr>\n",
       "    <tr>\n",
       "      <th>495</th>\n",
       "      <td>725</td>\n",
       "      <td>1</td>\n",
       "      <td>FLAIR</td>\n",
       "    </tr>\n",
       "    <tr>\n",
       "      <th>298</th>\n",
       "      <td>432</td>\n",
       "      <td>0</td>\n",
       "      <td>FLAIR</td>\n",
       "    </tr>\n",
       "  </tbody>\n",
       "</table>\n",
       "</div>"
      ],
      "text/plain": [
       "     BraTS21ID  MGMT_value MRI_Type\n",
       "102        154           0    FLAIR\n",
       "161        240           1    FLAIR\n",
       "508        740           1    FLAIR\n",
       "495        725           1    FLAIR\n",
       "298        432           0    FLAIR"
      ]
     },
     "metadata": {},
     "output_type": "display_data"
    },
    {
     "data": {
      "application/vnd.jupyter.widget-view+json": {
       "model_id": "ad7823942f014f3882987e7eb090d49b",
       "version_major": 2,
       "version_minor": 0
      },
      "text/plain": [
       "HBox(children=(FloatProgress(value=0.0, max=15.0), HTML(value='')))"
      ]
     },
     "metadata": {},
     "output_type": "display_data"
    },
    {
     "name": "stdout",
     "output_type": "stream",
     "text": [
      "EPOCH: 1\n"
     ]
    },
    {
     "data": {
      "application/vnd.jupyter.widget-view+json": {
       "model_id": "050e64d19c4b42319b7ba241118b6e48",
       "version_major": 2,
       "version_minor": 0
      },
      "text/plain": [
       "HBox(children=(FloatProgress(value=0.0, max=59.0), HTML(value='')))"
      ]
     },
     "metadata": {},
     "output_type": "display_data"
    },
    {
     "name": "stdout",
     "output_type": "stream",
     "text": [
      "Train Step 59/59, train_loss: 0.8952\n"
     ]
    },
    {
     "data": {
      "application/vnd.jupyter.widget-view+json": {
       "model_id": "272770dcba684bbcb7174d2743399cc3",
       "version_major": 2,
       "version_minor": 0
      },
      "text/plain": [
       "HBox(children=(FloatProgress(value=0.0, max=15.0), HTML(value='')))"
      ]
     },
     "metadata": {},
     "output_type": "display_data"
    },
    {
     "name": "stdout",
     "output_type": "stream",
     "text": [
      "outputs tensor([0.5218, 0.5218, 0.5218, 0.5218, 0.5218, 0.5218, 0.5218, 0.5218],\n",
      "       device='cuda:0') tensor(0., device='cuda:0')\n",
      "targets tensor([0.0100, 0.0100, 0.9900, 0.9900, 0.9900, 0.9900, 0.9900, 0.9900],\n",
      "       device='cuda:0') tensor(0.4537, device='cuda:0')\n",
      "outputs tensor([0.5218, 0.5218, 0.5218, 0.5218, 0.5218, 0.5218, 0.5218, 0.5218],\n",
      "       device='cuda:0') tensor(0., device='cuda:0')\n",
      "targets tensor([0.0100, 0.9900, 0.0100, 0.0100, 0.0100, 0.0100, 0.9900, 0.0100],\n",
      "       device='cuda:0') tensor(0.4537, device='cuda:0')\n",
      "outputs tensor([0.5218, 0.5218, 0.5218, 0.5218, 0.5218, 0.5218, 0.5218, 0.5218],\n",
      "       device='cuda:0') tensor(0., device='cuda:0')\n",
      "targets tensor([0.0100, 0.0100, 0.9900, 0.0100, 0.0100, 0.9900, 0.0100, 0.0100],\n",
      "       device='cuda:0') tensor(0.4537, device='cuda:0')\n",
      "outputs ep 3/15, valid_loss: 0.7694tensor([0.5218, 0.5218, 0.5218, 0.5218, 0.5218, 0.5218, 0.5218, 0.5218],\n",
      "       device='cuda:0') tensor(0., device='cuda:0')\n",
      "targets tensor([0.9900, 0.9900, 0.9900, 0.0100, 0.9900, 0.9900, 0.0100, 0.0100],\n",
      "       device='cuda:0') tensor(0.5072, device='cuda:0')\n",
      "outputs tensor([0.5218, 0.5218, 0.5218, 0.5218, 0.5218, 0.5218, 0.5218, 0.5218],\n",
      "       device='cuda:0') tensor(0., device='cuda:0')\n",
      "targets tensor([0.9900, 0.0100, 0.9900, 0.0100, 0.9900, 0.9900, 0.9900, 0.9900],\n",
      "       device='cuda:0') tensor(0.4537, device='cuda:0')\n",
      "outputs tensor([0.5218, 0.5218, 0.5218, 0.5218, 0.5218, 0.5218, 0.5218, 0.5218],\n",
      "       device='cuda:0') tensor(0., device='cuda:0')\n",
      "targets tensor([0.9900, 0.9900, 0.0100, 0.0100, 0.9900, 0.9900, 0.0100, 0.0100],\n",
      "       device='cuda:0') tensor(0.5238, device='cuda:0')\n",
      "outputs tensor([0.5218, 0.5218, 0.5218, 0.5218, 0.5218, 0.5218, 0.5218, 0.5218],\n",
      "       device='cuda:0') tensor(0., device='cuda:0')\n",
      "targets tensor([0.0100, 0.9900, 0.9900, 0.9900, 0.9900, 0.0100, 0.0100, 0.0100],\n",
      "       device='cuda:0') tensor(0.5238, device='cuda:0')\n",
      "outputs tensor([0.5218, 0.5218, 0.5218, 0.5218, 0.5218, 0.5218, 0.5218, 0.5218],\n",
      "       device='cuda:0') tensor(0., device='cuda:0')\n",
      "targets tensor([0.0100, 0.9900, 0.9900, 0.9900, 0.0100, 0.9900, 0.9900, 0.0100],\n",
      "       device='cuda:0') tensor(0.5072, device='cuda:0')\n",
      "outputs tensor([0.5218, 0.5218, 0.5218, 0.5218, 0.5218, 0.5218, 0.5218, 0.5218],\n",
      "       device='cuda:0') tensor(0., device='cuda:0')\n",
      "targets tensor([0.0100, 0.0100, 0.0100, 0.0100, 0.9900, 0.0100, 0.0100, 0.9900],\n",
      "       device='cuda:0') tensor(0.4537, device='cuda:0')\n",
      "outputs tensor([0.5218, 0.5218, 0.5218, 0.5218, 0.5218, 0.5218, 0.5218, 0.5218],\n",
      "       device='cuda:0') tensor(0., device='cuda:0')\n",
      "targets tensor([0.9900, 0.9900, 0.0100, 0.9900, 0.9900, 0.9900, 0.9900, 0.0100],\n",
      "       device='cuda:0') tensor(0.4537, device='cuda:0')\n",
      "outputs ep 10/15, valid_loss: 0.7140tensor([0.5218, 0.5218, 0.5218, 0.5218, 0.5218, 0.5218, 0.5218, 0.5218],\n",
      "       device='cuda:0') tensor(0., device='cuda:0')\n",
      "targets tensor([0.0100, 0.0100, 0.0100, 0.9900, 0.9900, 0.9900, 0.9900, 0.9900],\n",
      "       device='cuda:0') tensor(0.5072, device='cuda:0')\n",
      "outputs tensor([0.5218, 0.5218, 0.5218, 0.5218, 0.5218, 0.5218, 0.5218, 0.5218],\n",
      "       device='cuda:0') tensor(0., device='cuda:0')\n",
      "targets tensor([0.0100, 0.9900, 0.0100, 0.9900, 0.9900, 0.9900, 0.9900, 0.0100],\n",
      "       device='cuda:0') tensor(0.5072, device='cuda:0')\n",
      "outputs tensor([0.5218, 0.5218, 0.5218, 0.5218, 0.5218, 0.5218, 0.5218, 0.5218],\n",
      "       device='cuda:0') tensor(0., device='cuda:0')\n",
      "targets tensor([0.9900, 0.9900, 0.9900, 0.0100, 0.0100, 0.9900, 0.0100, 0.9900],\n",
      "       device='cuda:0') tensor(0.5072, device='cuda:0')\n",
      "outputs tensor([0.5218, 0.5218, 0.5218, 0.5218, 0.5218, 0.5218, 0.5218, 0.5218],\n",
      "       device='cuda:0') tensor(0., device='cuda:0')\n",
      "targets tensor([0.0100, 0.9900, 0.0100, 0.0100, 0.0100, 0.0100, 0.9900, 0.0100],\n",
      "       device='cuda:0') tensor(0.4537, device='cuda:0')\n",
      "outputs tensor([0.5218, 0.5218, 0.5218, 0.5218, 0.5218], device='cuda:0') tensor(0., device='cuda:0')\n",
      "targets tensor([0.9900, 0.0100, 0.0100, 0.9900, 0.0100], device='cuda:0') tensor(0.5368, device='cuda:0')\n",
      "Valid Step 15/15, valid_loss: 0.7174\n",
      "[Epoch Train: 1] loss: 0.8952, time: 17.00 s            \n",
      "[Epoch Valid: 1] loss: 0.7174, auc: 0.5000, time: 2.00 s\n",
      "EPOCH: 2\n"
     ]
    },
    {
     "data": {
      "application/vnd.jupyter.widget-view+json": {
       "model_id": "124b081fd10541078fd157c21f67a49c",
       "version_major": 2,
       "version_minor": 0
      },
      "text/plain": [
       "HBox(children=(FloatProgress(value=0.0, max=59.0), HTML(value='')))"
      ]
     },
     "metadata": {},
     "output_type": "display_data"
    },
    {
     "name": "stdout",
     "output_type": "stream",
     "text": [
      "Train Step 59/59, train_loss: 0.7348\n"
     ]
    },
    {
     "data": {
      "application/vnd.jupyter.widget-view+json": {
       "model_id": "38f3efc380ec43a888bc98058976e267",
       "version_major": 2,
       "version_minor": 0
      },
      "text/plain": [
       "HBox(children=(FloatProgress(value=0.0, max=15.0), HTML(value='')))"
      ]
     },
     "metadata": {},
     "output_type": "display_data"
    },
    {
     "name": "stdout",
     "output_type": "stream",
     "text": [
      "outputs tensor([0.5325, 0.5325, 0.5325, 0.5325, 0.5325, 0.5325, 0.5325, 0.5325],\n",
      "       device='cuda:0') tensor(0., device='cuda:0')\n",
      "targets tensor([0.0100, 0.0100, 0.9900, 0.9900, 0.9900, 0.9900, 0.9900, 0.9900],\n",
      "       device='cuda:0') tensor(0.4537, device='cuda:0')\n",
      "outputs tensor([0.5325, 0.5325, 0.5325, 0.5325, 0.5325, 0.5325, 0.5325, 0.5325],\n",
      "       device='cuda:0') tensor(0., device='cuda:0')\n",
      "targets tensor([0.0100, 0.9900, 0.0100, 0.0100, 0.0100, 0.0100, 0.9900, 0.0100],\n",
      "       device='cuda:0') tensor(0.4537, device='cuda:0')\n",
      "outputs tensor([0.5325, 0.5325, 0.5325, 0.5325, 0.5325, 0.5325, 0.5325, 0.5325],\n",
      "       device='cuda:0') tensor(0., device='cuda:0')\n",
      "targets tensor([0.0100, 0.0100, 0.9900, 0.0100, 0.0100, 0.9900, 0.0100, 0.0100],\n",
      "       device='cuda:0') tensor(0.4537, device='cuda:0')\n",
      "outputs tensor([0.5325, 0.5325, 0.5325, 0.5325, 0.5325, 0.5325, 0.5325, 0.5325],\n",
      "       device='cuda:0') tensor(0., device='cuda:0')\n",
      "targets tensor([0.9900, 0.9900, 0.9900, 0.0100, 0.9900, 0.9900, 0.0100, 0.0100],\n",
      "       device='cuda:0') tensor(0.5072, device='cuda:0')\n",
      "outputs tensor([0.5325, 0.5325, 0.5325, 0.5325, 0.5325, 0.5325, 0.5325, 0.5325],\n",
      "       device='cuda:0') tensor(0., device='cuda:0')\n",
      "targets tensor([0.9900, 0.0100, 0.9900, 0.0100, 0.9900, 0.9900, 0.9900, 0.9900],\n",
      "       device='cuda:0') tensor(0.4537, device='cuda:0')\n",
      "outputs tensor([0.5325, 0.5325, 0.5325, 0.5325, 0.5325, 0.5325, 0.5325, 0.5325],\n",
      "       device='cuda:0') tensor(0., device='cuda:0')\n",
      "targets tensor([0.9900, 0.9900, 0.0100, 0.0100, 0.9900, 0.9900, 0.0100, 0.0100],\n",
      "       device='cuda:0') tensor(0.5238, device='cuda:0')\n",
      "outputs tensor([0.5325, 0.5325, 0.5325, 0.5325, 0.5325, 0.5325, 0.5325, 0.5325],\n",
      "       device='cuda:0') tensor(0., device='cuda:0')\n",
      "targets tensor([0.0100, 0.9900, 0.9900, 0.9900, 0.9900, 0.0100, 0.0100, 0.0100],\n",
      "       device='cuda:0') tensor(0.5238, device='cuda:0')\n",
      "outputs ep 7/15, valid_loss: 0.7189tensor([0.5325, 0.5325, 0.5325, 0.5325, 0.5325, 0.5325, 0.5325, 0.5325],\n",
      "       device='cuda:0') tensor(0., device='cuda:0')\n",
      "targets tensor([0.0100, 0.9900, 0.9900, 0.9900, 0.0100, 0.9900, 0.9900, 0.0100],\n",
      "       device='cuda:0') tensor(0.5072, device='cuda:0')\n",
      "outputs tensor([0.5325, 0.5325, 0.5325, 0.5325, 0.5325, 0.5325, 0.5325, 0.5325],\n",
      "       device='cuda:0') tensor(0., device='cuda:0')\n",
      "targets tensor([0.0100, 0.0100, 0.0100, 0.0100, 0.9900, 0.0100, 0.0100, 0.9900],\n",
      "       device='cuda:0') tensor(0.4537, device='cuda:0')\n",
      "outputs tensor([0.5325, 0.5325, 0.5325, 0.5325, 0.5325, 0.5325, 0.5325, 0.5325],\n",
      "       device='cuda:0') tensor(0., device='cuda:0')\n",
      "targets tensor([0.9900, 0.9900, 0.0100, 0.9900, 0.9900, 0.9900, 0.9900, 0.0100],\n",
      "       device='cuda:0') tensor(0.4537, device='cuda:0')\n",
      "outputs tensor([0.5325, 0.5325, 0.5325, 0.5325, 0.5325, 0.5325, 0.5325, 0.5325],\n",
      "       device='cuda:0') tensor(0., device='cuda:0')\n",
      "targets tensor([0.0100, 0.0100, 0.0100, 0.9900, 0.9900, 0.9900, 0.9900, 0.9900],\n",
      "       device='cuda:0') tensor(0.5072, device='cuda:0')\n",
      "outputs tensor([0.5325, 0.5325, 0.5325, 0.5325, 0.5325, 0.5325, 0.5325, 0.5325],\n",
      "       device='cuda:0') tensor(0., device='cuda:0')\n",
      "targets tensor([0.0100, 0.9900, 0.0100, 0.9900, 0.9900, 0.9900, 0.9900, 0.0100],\n",
      "       device='cuda:0') tensor(0.5072, device='cuda:0')\n",
      "outputs tensor([0.5325, 0.5325, 0.5325, 0.5325, 0.5325, 0.5325, 0.5325, 0.5325],\n",
      "       device='cuda:0') tensor(0., device='cuda:0')\n",
      "targets tensor([0.9900, 0.9900, 0.9900, 0.0100, 0.0100, 0.9900, 0.0100, 0.9900],\n",
      "       device='cuda:0') tensor(0.5072, device='cuda:0')\n",
      "outputs tensor([0.5325, 0.5325, 0.5325, 0.5325, 0.5325, 0.5325, 0.5325, 0.5325],\n",
      "       device='cuda:0') tensor(0., device='cuda:0')\n",
      "targets tensor([0.0100, 0.9900, 0.0100, 0.0100, 0.0100, 0.0100, 0.9900, 0.0100],\n",
      "       device='cuda:0') tensor(0.4537, device='cuda:0')\n",
      "outputs tensor([0.5325, 0.5325, 0.5325, 0.5325, 0.5325], device='cuda:0') tensor(0., device='cuda:0')\n",
      "targets tensor([0.9900, 0.0100, 0.0100, 0.9900, 0.0100], device='cuda:0') tensor(0.5368, device='cuda:0')\n",
      "Valid Step 15/15, valid_loss: 0.7186\n",
      "[Epoch Train: 2] loss: 0.7348, time: 14.00 s            \n",
      "[Epoch Valid: 2] loss: 0.7186, auc: 0.5000, time: 2.00 s\n",
      "EPOCH: 3\n"
     ]
    },
    {
     "data": {
      "application/vnd.jupyter.widget-view+json": {
       "model_id": "d67103ff265f4fddb313f2b8535cf1bf",
       "version_major": 2,
       "version_minor": 0
      },
      "text/plain": [
       "HBox(children=(FloatProgress(value=0.0, max=59.0), HTML(value='')))"
      ]
     },
     "metadata": {},
     "output_type": "display_data"
    },
    {
     "name": "stdout",
     "output_type": "stream",
     "text": [
      "Train Step 59/59, train_loss: 0.7141\n"
     ]
    },
    {
     "data": {
      "application/vnd.jupyter.widget-view+json": {
       "model_id": "b6bfa4b1b1ed4d24a0ba9e279f0a8ab9",
       "version_major": 2,
       "version_minor": 0
      },
      "text/plain": [
       "HBox(children=(FloatProgress(value=0.0, max=15.0), HTML(value='')))"
      ]
     },
     "metadata": {},
     "output_type": "display_data"
    },
    {
     "name": "stdout",
     "output_type": "stream",
     "text": [
      "outputs tensor([0.6194, 0.6194, 0.6194, 0.6194, 0.6194, 0.6194, 0.6194, 0.6194],\n",
      "       device='cuda:0') tensor(0., device='cuda:0')\n",
      "targets tensor([0.0100, 0.0100, 0.9900, 0.9900, 0.9900, 0.9900, 0.9900, 0.9900],\n",
      "       device='cuda:0') tensor(0.4537, device='cuda:0')\n",
      "outputs tensor([0.6194, 0.6194, 0.6194, 0.6194, 0.6194, 0.6194, 0.6194, 0.6194],\n",
      "       device='cuda:0') tensor(0., device='cuda:0')\n",
      "targets tensor([0.0100, 0.9900, 0.0100, 0.0100, 0.0100, 0.0100, 0.9900, 0.0100],\n",
      "       device='cuda:0') tensor(0.4537, device='cuda:0')\n",
      "outputs tensor([0.6194, 0.6194, 0.6194, 0.6194, 0.6194, 0.6194, 0.6194, 0.6194],\n",
      "       device='cuda:0') tensor(0., device='cuda:0')\n",
      "targets tensor([0.0100, 0.0100, 0.9900, 0.0100, 0.0100, 0.9900, 0.0100, 0.0100],\n",
      "       device='cuda:0') tensor(0.4537, device='cuda:0')\n",
      "outputs ep 3/15, valid_loss: 0.7909tensor([0.6194, 0.6194, 0.6194, 0.6194, 0.6194, 0.6194, 0.6194, 0.6194],\n",
      "       device='cuda:0') tensor(0., device='cuda:0')\n",
      "targets tensor([0.9900, 0.9900, 0.9900, 0.0100, 0.9900, 0.9900, 0.0100, 0.0100],\n",
      "       device='cuda:0') tensor(0.5072, device='cuda:0')\n",
      "outputs tensor([0.6194, 0.6194, 0.6194, 0.6194, 0.6194, 0.6194, 0.6194, 0.6194],\n",
      "       device='cuda:0') tensor(0., device='cuda:0')\n",
      "targets tensor([0.9900, 0.0100, 0.9900, 0.0100, 0.9900, 0.9900, 0.9900, 0.9900],\n",
      "       device='cuda:0') tensor(0.4537, device='cuda:0')\n",
      "outputs tensor([0.6194, 0.6194, 0.6194, 0.6194, 0.6194, 0.6194, 0.6194, 0.6194],\n",
      "       device='cuda:0') tensor(0., device='cuda:0')\n",
      "targets tensor([0.9900, 0.9900, 0.0100, 0.0100, 0.9900, 0.9900, 0.0100, 0.0100],\n",
      "       device='cuda:0') tensor(0.5238, device='cuda:0')\n",
      "outputs tensor([0.6194, 0.6194, 0.6194, 0.6194, 0.6194, 0.6194, 0.6194, 0.6194],\n",
      "       device='cuda:0') tensor(0., device='cuda:0')\n",
      "targets tensor([0.0100, 0.9900, 0.9900, 0.9900, 0.9900, 0.0100, 0.0100, 0.0100],\n",
      "       device='cuda:0') tensor(0.5238, device='cuda:0')\n",
      "outputs tensor([0.6194, 0.6194, 0.6194, 0.6194, 0.6194, 0.6194, 0.6194, 0.6194],\n",
      "       device='cuda:0') tensor(0., device='cuda:0')\n",
      "targets tensor([0.0100, 0.9900, 0.9900, 0.9900, 0.0100, 0.9900, 0.9900, 0.0100],\n",
      "       device='cuda:0') tensor(0.5072, device='cuda:0')\n",
      "outputs tensor([0.6194, 0.6194, 0.6194, 0.6194, 0.6194, 0.6194, 0.6194, 0.6194],\n",
      "       device='cuda:0') tensor(0., device='cuda:0')\n",
      "targets tensor([0.0100, 0.0100, 0.0100, 0.0100, 0.9900, 0.0100, 0.0100, 0.9900],\n",
      "       device='cuda:0') tensor(0.4537, device='cuda:0')\n",
      "outputs tensor([0.6194, 0.6194, 0.6194, 0.6194, 0.6194, 0.6194, 0.6194, 0.6194],\n",
      "       device='cuda:0') tensor(0., device='cuda:0')\n",
      "targets tensor([0.9900, 0.9900, 0.0100, 0.9900, 0.9900, 0.9900, 0.9900, 0.0100],\n",
      "       device='cuda:0') tensor(0.4537, device='cuda:0')\n",
      "outputs ep 10/15, valid_loss: 0.7252tensor([0.6194, 0.6194, 0.6194, 0.6194, 0.6194, 0.6194, 0.6194, 0.6194],\n",
      "       device='cuda:0') tensor(0., device='cuda:0')\n",
      "targets tensor([0.0100, 0.0100, 0.0100, 0.9900, 0.9900, 0.9900, 0.9900, 0.9900],\n",
      "       device='cuda:0') tensor(0.5072, device='cuda:0')\n",
      "outputs tensor([0.6194, 0.6194, 0.6194, 0.6194, 0.6194, 0.6194, 0.6194, 0.6194],\n",
      "       device='cuda:0') tensor(0., device='cuda:0')\n",
      "targets tensor([0.0100, 0.9900, 0.0100, 0.9900, 0.9900, 0.9900, 0.9900, 0.0100],\n",
      "       device='cuda:0') tensor(0.5072, device='cuda:0')\n",
      "outputs tensor([0.6194, 0.6194, 0.6194, 0.6194, 0.6194, 0.6194, 0.6194, 0.6194],\n",
      "       device='cuda:0') tensor(0., device='cuda:0')\n",
      "targets tensor([0.9900, 0.9900, 0.9900, 0.0100, 0.0100, 0.9900, 0.0100, 0.9900],\n",
      "       device='cuda:0') tensor(0.5072, device='cuda:0')\n",
      "outputs tensor([0.6194, 0.6194, 0.6194, 0.6194, 0.6194, 0.6194, 0.6194, 0.6194],\n",
      "       device='cuda:0') tensor(0., device='cuda:0')\n",
      "targets tensor([0.0100, 0.9900, 0.0100, 0.0100, 0.0100, 0.0100, 0.9900, 0.0100],\n",
      "       device='cuda:0') tensor(0.4537, device='cuda:0')\n",
      "outputs tensor([0.6194, 0.6194, 0.6194, 0.6194, 0.6194], device='cuda:0') tensor(0., device='cuda:0')\n",
      "targets tensor([0.9900, 0.0100, 0.0100, 0.9900, 0.0100], device='cuda:0') tensor(0.5368, device='cuda:0')\n",
      "Valid Step 15/15, valid_loss: 0.7292\n",
      "[Epoch Train: 3] loss: 0.7141, time: 14.00 s            \n",
      "[Epoch Valid: 3] loss: 0.7292, auc: 0.5000, time: 2.00 s\n",
      "EPOCH: 4\n"
     ]
    },
    {
     "data": {
      "application/vnd.jupyter.widget-view+json": {
       "model_id": "d300a5e92cc24e9489590dd188613bcf",
       "version_major": 2,
       "version_minor": 0
      },
      "text/plain": [
       "HBox(children=(FloatProgress(value=0.0, max=59.0), HTML(value='')))"
      ]
     },
     "metadata": {},
     "output_type": "display_data"
    },
    {
     "name": "stdout",
     "output_type": "stream",
     "text": [
      "Train Step 59/59, train_loss: 0.6972\n"
     ]
    },
    {
     "data": {
      "application/vnd.jupyter.widget-view+json": {
       "model_id": "10109611e44a4179a04dff4394dc58c8",
       "version_major": 2,
       "version_minor": 0
      },
      "text/plain": [
       "HBox(children=(FloatProgress(value=0.0, max=15.0), HTML(value='')))"
      ]
     },
     "metadata": {},
     "output_type": "display_data"
    },
    {
     "name": "stdout",
     "output_type": "stream",
     "text": [
      "outputs tensor([0.5084, 0.5084, 0.5084, 0.5084, 0.5084, 0.5084, 0.5084, 0.5084],\n",
      "       device='cuda:0') tensor(0., device='cuda:0')\n",
      "targets tensor([0.0100, 0.0100, 0.9900, 0.9900, 0.9900, 0.9900, 0.9900, 0.9900],\n",
      "       device='cuda:0') tensor(0.4537, device='cuda:0')\n",
      "outputs tensor([0.5084, 0.5084, 0.5084, 0.5084, 0.5084, 0.5084, 0.5084, 0.5084],\n",
      "       device='cuda:0') tensor(0., device='cuda:0')\n",
      "targets tensor([0.0100, 0.9900, 0.0100, 0.0100, 0.0100, 0.0100, 0.9900, 0.0100],\n",
      "       device='cuda:0') tensor(0.4537, device='cuda:0')\n",
      "outputs tensor([0.5084, 0.5084, 0.5084, 0.5084, 0.5084, 0.5084, 0.5084, 0.5084],\n",
      "       device='cuda:0') tensor(4.2147e-08, device='cuda:0')\n",
      "targets tensor([0.0100, 0.0100, 0.9900, 0.0100, 0.0100, 0.9900, 0.0100, 0.0100],\n",
      "       device='cuda:0') tensor(0.4537, device='cuda:0')\n",
      "outputs ep 3/15, valid_loss: 0.7666tensor([0.5084, 0.5084, 0.5084, 0.5084, 0.5084, 0.5084, 0.5084, 0.5084],\n",
      "       device='cuda:0') tensor(0., device='cuda:0')\n",
      "targets tensor([0.9900, 0.9900, 0.9900, 0.0100, 0.9900, 0.9900, 0.0100, 0.0100],\n",
      "       device='cuda:0') tensor(0.5072, device='cuda:0')\n",
      "outputs tensor([0.5084, 0.5084, 0.5084, 0.5084, 0.5084, 0.5084, 0.5084, 0.5084],\n",
      "       device='cuda:0') tensor(4.2147e-08, device='cuda:0')\n",
      "targets tensor([0.9900, 0.0100, 0.9900, 0.0100, 0.9900, 0.9900, 0.9900, 0.9900],\n",
      "       device='cuda:0') tensor(0.4537, device='cuda:0')\n",
      "outputs tensor([0.5084, 0.5084, 0.5084, 0.5084, 0.5084, 0.5084, 0.5084, 0.5084],\n",
      "       device='cuda:0') tensor(0., device='cuda:0')\n",
      "targets tensor([0.9900, 0.9900, 0.0100, 0.0100, 0.9900, 0.9900, 0.0100, 0.0100],\n",
      "       device='cuda:0') tensor(0.5238, device='cuda:0')\n",
      "outputs tensor([0.5084, 0.5084, 0.5084, 0.5084, 0.5084, 0.5084, 0.5084, 0.5084],\n",
      "       device='cuda:0') tensor(0., device='cuda:0')\n",
      "targets tensor([0.0100, 0.9900, 0.9900, 0.9900, 0.9900, 0.0100, 0.0100, 0.0100],\n",
      "       device='cuda:0') tensor(0.5238, device='cuda:0')\n",
      "outputs tensor([0.5084, 0.5084, 0.5084, 0.5084, 0.5084, 0.5084, 0.5084, 0.5084],\n",
      "       device='cuda:0') tensor(0., device='cuda:0')\n",
      "targets tensor([0.0100, 0.9900, 0.9900, 0.9900, 0.0100, 0.9900, 0.9900, 0.0100],\n",
      "       device='cuda:0') tensor(0.5072, device='cuda:0')\n",
      "outputs tensor([0.5084, 0.5084, 0.5084, 0.5084, 0.5084, 0.5084, 0.5084, 0.5084],\n",
      "       device='cuda:0') tensor(0., device='cuda:0')\n",
      "targets tensor([0.0100, 0.0100, 0.0100, 0.0100, 0.9900, 0.0100, 0.0100, 0.9900],\n",
      "       device='cuda:0') tensor(0.4537, device='cuda:0')\n",
      "outputs tensor([0.5084, 0.5084, 0.5084, 0.5084, 0.5084, 0.5084, 0.5084, 0.5084],\n",
      "       device='cuda:0') tensor(0., device='cuda:0')\n",
      "targets tensor([0.9900, 0.9900, 0.0100, 0.9900, 0.9900, 0.9900, 0.9900, 0.0100],\n",
      "       device='cuda:0') tensor(0.4537, device='cuda:0')\n",
      "outputs ep 10/15, valid_loss: 0.7127tensor([0.5084, 0.5084, 0.5084, 0.5084, 0.5084, 0.5084, 0.5084, 0.5084],\n",
      "       device='cuda:0') tensor(0., device='cuda:0')\n",
      "targets tensor([0.0100, 0.0100, 0.0100, 0.9900, 0.9900, 0.9900, 0.9900, 0.9900],\n",
      "       device='cuda:0') tensor(0.5072, device='cuda:0')\n",
      "outputs tensor([0.5084, 0.5084, 0.5084, 0.5084, 0.5084, 0.5084, 0.5084, 0.5084],\n",
      "       device='cuda:0') tensor(0., device='cuda:0')\n",
      "targets tensor([0.0100, 0.9900, 0.0100, 0.9900, 0.9900, 0.9900, 0.9900, 0.0100],\n",
      "       device='cuda:0') tensor(0.5072, device='cuda:0')\n",
      "outputs tensor([0.5084, 0.5084, 0.5084, 0.5084, 0.5084, 0.5084, 0.5084, 0.5084],\n",
      "       device='cuda:0') tensor(0., device='cuda:0')\n",
      "targets tensor([0.9900, 0.9900, 0.9900, 0.0100, 0.0100, 0.9900, 0.0100, 0.9900],\n",
      "       device='cuda:0') tensor(0.5072, device='cuda:0')\n",
      "outputs tensor([0.5084, 0.5084, 0.5084, 0.5084, 0.5084, 0.5084, 0.5084, 0.5084],\n",
      "       device='cuda:0') tensor(0., device='cuda:0')\n",
      "targets tensor([0.0100, 0.9900, 0.0100, 0.0100, 0.0100, 0.0100, 0.9900, 0.0100],\n",
      "       device='cuda:0') tensor(0.4537, device='cuda:0')\n",
      "outputs tensor([0.5084, 0.5084, 0.5084, 0.5084, 0.5084], device='cuda:0') tensor(0., device='cuda:0')\n",
      "targets tensor([0.9900, 0.0100, 0.0100, 0.9900, 0.0100], device='cuda:0') tensor(0.5368, device='cuda:0')\n",
      "Valid Step 15/15, valid_loss: 0.7160\n",
      "[Epoch Train: 4] loss: 0.6972, time: 14.00 s            \n",
      "[Epoch Valid: 4] loss: 0.7160, auc: 0.4993, time: 2.00 s\n",
      "EPOCH: 5\n"
     ]
    },
    {
     "data": {
      "application/vnd.jupyter.widget-view+json": {
       "model_id": "bcaaf2b2316a47b69b5667fc77c47976",
       "version_major": 2,
       "version_minor": 0
      },
      "text/plain": [
       "HBox(children=(FloatProgress(value=0.0, max=59.0), HTML(value='')))"
      ]
     },
     "metadata": {},
     "output_type": "display_data"
    },
    {
     "name": "stdout",
     "output_type": "stream",
     "text": [
      "Train Step 59/59, train_loss: 0.7012\n"
     ]
    },
    {
     "data": {
      "application/vnd.jupyter.widget-view+json": {
       "model_id": "4f76c67e1c074cc29817f8a552376d5b",
       "version_major": 2,
       "version_minor": 0
      },
      "text/plain": [
       "HBox(children=(FloatProgress(value=0.0, max=15.0), HTML(value='')))"
      ]
     },
     "metadata": {},
     "output_type": "display_data"
    },
    {
     "name": "stdout",
     "output_type": "stream",
     "text": [
      "outputs tensor([0.5123, 0.5123, 0.5123, 0.5123, 0.5123, 0.5123, 0.5123, 0.5123],\n",
      "       device='cuda:0') tensor(6.5681e-08, device='cuda:0')\n",
      "targets tensor([0.0100, 0.0100, 0.9900, 0.9900, 0.9900, 0.9900, 0.9900, 0.9900],\n",
      "       device='cuda:0') tensor(0.4537, device='cuda:0')\n",
      "outputs tensor([0.5123, 0.5123, 0.5123, 0.5123, 0.5123, 0.5123, 0.5123, 0.5123],\n",
      "       device='cuda:0') tensor(8.1227e-08, device='cuda:0')\n",
      "targets tensor([0.0100, 0.9900, 0.0100, 0.0100, 0.0100, 0.0100, 0.9900, 0.0100],\n",
      "       device='cuda:0') tensor(0.4537, device='cuda:0')\n",
      "outputs tensor([0.5123, 0.5123, 0.5123, 0.5123, 0.5123, 0.5123, 0.5123, 0.5123],\n",
      "       device='cuda:0') tensor(8.2775e-08, device='cuda:0')\n",
      "targets tensor([0.0100, 0.0100, 0.9900, 0.0100, 0.0100, 0.9900, 0.0100, 0.0100],\n",
      "       device='cuda:0') tensor(0.4537, device='cuda:0')\n",
      "outputs ep 3/15, valid_loss: 0.7674tensor([0.5123, 0.5123, 0.5123, 0.5123, 0.5123, 0.5123, 0.5123, 0.5123],\n",
      "       device='cuda:0') tensor(1.0324e-07, device='cuda:0')\n",
      "targets tensor([0.9900, 0.9900, 0.9900, 0.0100, 0.9900, 0.9900, 0.0100, 0.0100],\n",
      "       device='cuda:0') tensor(0.5072, device='cuda:0')\n",
      "outputs tensor([0.5123, 0.5123, 0.5123, 0.5123, 0.5123, 0.5123, 0.5123, 0.5123],\n",
      "       device='cuda:0') tensor(1.2442e-07, device='cuda:0')\n",
      "targets tensor([0.9900, 0.0100, 0.9900, 0.0100, 0.9900, 0.9900, 0.9900, 0.9900],\n",
      "       device='cuda:0') tensor(0.4537, device='cuda:0')\n",
      "outputs tensor([0.5123, 0.5123, 0.5123, 0.5123, 0.5123, 0.5123, 0.5123, 0.5123],\n",
      "       device='cuda:0') tensor(1.0075e-07, device='cuda:0')\n",
      "targets tensor([0.9900, 0.9900, 0.0100, 0.0100, 0.9900, 0.9900, 0.0100, 0.0100],\n",
      "       device='cuda:0') tensor(0.5238, device='cuda:0')\n",
      "outputs tensor([0.5123, 0.5123, 0.5123, 0.5123, 0.5123, 0.5123, 0.5123, 0.5123],\n",
      "       device='cuda:0') tensor(9.8199e-08, device='cuda:0')\n",
      "targets tensor([0.0100, 0.9900, 0.9900, 0.9900, 0.9900, 0.0100, 0.0100, 0.0100],\n",
      "       device='cuda:0') tensor(0.5238, device='cuda:0')\n",
      "outputs tensor([0.5123, 0.5123, 0.5123, 0.5123, 0.5123, 0.5123, 0.5123, 0.5123],\n",
      "       device='cuda:0') tensor(9.0114e-08, device='cuda:0')\n",
      "targets tensor([0.0100, 0.9900, 0.9900, 0.9900, 0.0100, 0.9900, 0.9900, 0.0100],\n",
      "       device='cuda:0') tensor(0.5072, device='cuda:0')\n",
      "outputs tensor([0.5123, 0.5123, 0.5123, 0.5123, 0.5123, 0.5123, 0.5123, 0.5123],\n",
      "       device='cuda:0') tensor(9.4243e-08, device='cuda:0')\n",
      "targets tensor([0.0100, 0.0100, 0.0100, 0.0100, 0.9900, 0.0100, 0.0100, 0.9900],\n",
      "       device='cuda:0') tensor(0.4537, device='cuda:0')\n",
      "outputs tensor([0.5123, 0.5123, 0.5123, 0.5123, 0.5123, 0.5123, 0.5123, 0.5123],\n",
      "       device='cuda:0') tensor(1.2744e-07, device='cuda:0')\n",
      "targets tensor([0.9900, 0.9900, 0.0100, 0.9900, 0.9900, 0.9900, 0.9900, 0.0100],\n",
      "       device='cuda:0') tensor(0.4537, device='cuda:0')\n",
      "outputs ep 10/15, valid_loss: 0.7131tensor([0.5123, 0.5123, 0.5123, 0.5123, 0.5123, 0.5123, 0.5123, 0.5123],\n",
      "       device='cuda:0') tensor(9.6898e-08, device='cuda:0')\n",
      "targets tensor([0.0100, 0.0100, 0.0100, 0.9900, 0.9900, 0.9900, 0.9900, 0.9900],\n",
      "       device='cuda:0') tensor(0.5072, device='cuda:0')\n",
      "outputs tensor([0.5123, 0.5123, 0.5123, 0.5123, 0.5123, 0.5123, 0.5123, 0.5123],\n",
      "       device='cuda:0') tensor(9.1511e-08, device='cuda:0')\n",
      "targets tensor([0.0100, 0.9900, 0.0100, 0.9900, 0.9900, 0.9900, 0.9900, 0.0100],\n",
      "       device='cuda:0') tensor(0.5072, device='cuda:0')\n",
      "outputs tensor([0.5123, 0.5123, 0.5123, 0.5123, 0.5123, 0.5123, 0.5123, 0.5123],\n",
      "       device='cuda:0') tensor(1.0567e-07, device='cuda:0')\n",
      "targets tensor([0.9900, 0.9900, 0.9900, 0.0100, 0.0100, 0.9900, 0.0100, 0.9900],\n",
      "       device='cuda:0') tensor(0.5072, device='cuda:0')\n",
      "outputs tensor([0.5123, 0.5123, 0.5123, 0.5123, 0.5123, 0.5123, 0.5123, 0.5123],\n",
      "       device='cuda:0') tensor(6.3720e-08, device='cuda:0')\n",
      "targets tensor([0.0100, 0.9900, 0.0100, 0.0100, 0.0100, 0.0100, 0.9900, 0.0100],\n",
      "       device='cuda:0') tensor(0.4537, device='cuda:0')\n",
      "outputs tensor([0.5123, 0.5123, 0.5123, 0.5123, 0.5123], device='cuda:0') tensor(1.3450e-07, device='cuda:0')\n",
      "targets tensor([0.9900, 0.0100, 0.0100, 0.9900, 0.0100], device='cuda:0') tensor(0.5368, device='cuda:0')\n",
      "Valid Step 15/15, valid_loss: 0.7164\n",
      "[Epoch Train: 5] loss: 0.7012, time: 14.00 s            \n",
      "[Epoch Valid: 5] loss: 0.7164, auc: 0.3295, time: 2.00 s\n",
      "EPOCH: 6\n"
     ]
    },
    {
     "data": {
      "application/vnd.jupyter.widget-view+json": {
       "model_id": "c89c6ae00b26496abfdfa4155040daff",
       "version_major": 2,
       "version_minor": 0
      },
      "text/plain": [
       "HBox(children=(FloatProgress(value=0.0, max=59.0), HTML(value='')))"
      ]
     },
     "metadata": {},
     "output_type": "display_data"
    },
    {
     "name": "stdout",
     "output_type": "stream",
     "text": [
      "Train Step 59/59, train_loss: 0.7045\n"
     ]
    },
    {
     "data": {
      "application/vnd.jupyter.widget-view+json": {
       "model_id": "5156ab4f39a047eb87308e745870368d",
       "version_major": 2,
       "version_minor": 0
      },
      "text/plain": [
       "HBox(children=(FloatProgress(value=0.0, max=15.0), HTML(value='')))"
      ]
     },
     "metadata": {},
     "output_type": "display_data"
    },
    {
     "name": "stdout",
     "output_type": "stream",
     "text": [
      "outputs tensor([0.5107, 0.5107, 0.5107, 0.5107, 0.5107, 0.5107, 0.5107, 0.5107],\n",
      "       device='cuda:0') tensor(3.7052e-07, device='cuda:0')\n",
      "targets tensor([0.0100, 0.0100, 0.9900, 0.9900, 0.9900, 0.9900, 0.9900, 0.9900],\n",
      "       device='cuda:0') tensor(0.4537, device='cuda:0')\n",
      "outputs tensor([0.5107, 0.5107, 0.5107, 0.5107, 0.5107, 0.5107, 0.5107, 0.5107],\n",
      "       device='cuda:0') tensor(5.6501e-07, device='cuda:0')\n",
      "targets tensor([0.0100, 0.9900, 0.0100, 0.0100, 0.0100, 0.0100, 0.9900, 0.0100],\n",
      "       device='cuda:0') tensor(0.4537, device='cuda:0')\n",
      "outputs tensor([0.5107, 0.5107, 0.5107, 0.5107, 0.5107, 0.5107, 0.5107, 0.5107],\n",
      "       device='cuda:0') tensor(5.5252e-07, device='cuda:0')\n",
      "targets tensor([0.0100, 0.0100, 0.9900, 0.0100, 0.0100, 0.9900, 0.0100, 0.0100],\n",
      "       device='cuda:0') tensor(0.4537, device='cuda:0')\n",
      "outputs ep 3/15, valid_loss: 0.7671tensor([0.5107, 0.5107, 0.5107, 0.5107, 0.5107, 0.5107, 0.5107, 0.5107],\n",
      "       device='cuda:0') tensor(5.0350e-07, device='cuda:0')\n",
      "targets tensor([0.9900, 0.9900, 0.9900, 0.0100, 0.9900, 0.9900, 0.0100, 0.0100],\n",
      "       device='cuda:0') tensor(0.5072, device='cuda:0')\n",
      "outputs tensor([0.5107, 0.5107, 0.5107, 0.5107, 0.5107, 0.5107, 0.5107, 0.5107],\n",
      "       device='cuda:0') tensor(8.1664e-07, device='cuda:0')\n",
      "targets tensor([0.9900, 0.0100, 0.9900, 0.0100, 0.9900, 0.9900, 0.9900, 0.9900],\n",
      "       device='cuda:0') tensor(0.4537, device='cuda:0')\n",
      "outputs tensor([0.5107, 0.5107, 0.5107, 0.5107, 0.5107, 0.5107, 0.5107, 0.5107],\n",
      "       device='cuda:0') tensor(7.0561e-07, device='cuda:0')\n",
      "targets tensor([0.9900, 0.9900, 0.0100, 0.0100, 0.9900, 0.9900, 0.0100, 0.0100],\n",
      "       device='cuda:0') tensor(0.5238, device='cuda:0')\n",
      "outputs tensor([0.5107, 0.5107, 0.5107, 0.5107, 0.5107, 0.5107, 0.5107, 0.5107],\n",
      "       device='cuda:0') tensor(6.0450e-07, device='cuda:0')\n",
      "targets tensor([0.0100, 0.9900, 0.9900, 0.9900, 0.9900, 0.0100, 0.0100, 0.0100],\n",
      "       device='cuda:0') tensor(0.5238, device='cuda:0')\n",
      "outputs tensor([0.5107, 0.5107, 0.5107, 0.5107, 0.5107, 0.5107, 0.5107, 0.5107],\n",
      "       device='cuda:0') tensor(7.4939e-07, device='cuda:0')\n",
      "targets tensor([0.0100, 0.9900, 0.9900, 0.9900, 0.0100, 0.9900, 0.9900, 0.0100],\n",
      "       device='cuda:0') tensor(0.5072, device='cuda:0')\n",
      "outputs tensor([0.5107, 0.5107, 0.5107, 0.5107, 0.5107, 0.5107, 0.5107, 0.5107],\n",
      "       device='cuda:0') tensor(4.8475e-07, device='cuda:0')\n",
      "targets tensor([0.0100, 0.0100, 0.0100, 0.0100, 0.9900, 0.0100, 0.0100, 0.9900],\n",
      "       device='cuda:0') tensor(0.4537, device='cuda:0')\n",
      "outputs tensor([0.5107, 0.5107, 0.5107, 0.5107, 0.5107, 0.5107, 0.5107, 0.5107],\n",
      "       device='cuda:0') tensor(8.4669e-07, device='cuda:0')\n",
      "targets tensor([0.9900, 0.9900, 0.0100, 0.9900, 0.9900, 0.9900, 0.9900, 0.0100],\n",
      "       device='cuda:0') tensor(0.4537, device='cuda:0')\n",
      "outputs ep 10/15, valid_loss: 0.7129tensor([0.5107, 0.5107, 0.5107, 0.5107, 0.5107, 0.5107, 0.5107, 0.5107],\n",
      "       device='cuda:0') tensor(5.5959e-07, device='cuda:0')\n",
      "targets tensor([0.0100, 0.0100, 0.0100, 0.9900, 0.9900, 0.9900, 0.9900, 0.9900],\n",
      "       device='cuda:0') tensor(0.5072, device='cuda:0')\n",
      "outputs tensor([0.5107, 0.5107, 0.5107, 0.5107, 0.5107, 0.5107, 0.5107, 0.5107],\n",
      "       device='cuda:0') tensor(6.1717e-07, device='cuda:0')\n",
      "targets tensor([0.0100, 0.9900, 0.0100, 0.9900, 0.9900, 0.9900, 0.9900, 0.0100],\n",
      "       device='cuda:0') tensor(0.5072, device='cuda:0')\n",
      "outputs tensor([0.5107, 0.5107, 0.5107, 0.5107, 0.5107, 0.5107, 0.5107, 0.5107],\n",
      "       device='cuda:0') tensor(5.4605e-07, device='cuda:0')\n",
      "targets tensor([0.9900, 0.9900, 0.9900, 0.0100, 0.0100, 0.9900, 0.0100, 0.9900],\n",
      "       device='cuda:0') tensor(0.5072, device='cuda:0')\n",
      "outputs tensor([0.5107, 0.5107, 0.5107, 0.5107, 0.5107, 0.5107, 0.5107, 0.5107],\n",
      "       device='cuda:0') tensor(4.4746e-07, device='cuda:0')\n",
      "targets tensor([0.0100, 0.9900, 0.0100, 0.0100, 0.0100, 0.0100, 0.9900, 0.0100],\n",
      "       device='cuda:0') tensor(0.4537, device='cuda:0')\n",
      "outputs tensor([0.5107, 0.5107, 0.5107, 0.5107, 0.5107], device='cuda:0') tensor(7.2469e-07, device='cuda:0')\n",
      "targets tensor([0.9900, 0.0100, 0.0100, 0.9900, 0.0100], device='cuda:0') tensor(0.5368, device='cuda:0')\n",
      "Valid Step 15/15, valid_loss: 0.7162\n",
      "[Epoch Train: 6] loss: 0.7045, time: 14.00 s            \n",
      "[Epoch Valid: 6] loss: 0.7162, auc: 0.6594, time: 2.00 s\n",
      "auc improved from inf to 0.7162. Saved model to '/home/RSNA_MICCAI_Brain_Tumor/models/FLAIR-e6-loss0.716-auc0.659.pth'\n",
      "EPOCH: 7\n"
     ]
    },
    {
     "data": {
      "application/vnd.jupyter.widget-view+json": {
       "model_id": "2f0c5035582240cdba81f6b692bcfaf3",
       "version_major": 2,
       "version_minor": 0
      },
      "text/plain": [
       "HBox(children=(FloatProgress(value=0.0, max=59.0), HTML(value='')))"
      ]
     },
     "metadata": {},
     "output_type": "display_data"
    },
    {
     "name": "stdout",
     "output_type": "stream",
     "text": [
      "Train Step 59/59, train_loss: 0.6958\n"
     ]
    },
    {
     "data": {
      "application/vnd.jupyter.widget-view+json": {
       "model_id": "ded29ea6e4e54af19ed1db0a907eed65",
       "version_major": 2,
       "version_minor": 0
      },
      "text/plain": [
       "HBox(children=(FloatProgress(value=0.0, max=15.0), HTML(value='')))"
      ]
     },
     "metadata": {},
     "output_type": "display_data"
    },
    {
     "name": "stdout",
     "output_type": "stream",
     "text": [
      "outputs tensor([0.5399, 0.5399, 0.5398, 0.5399, 0.5398, 0.5399, 0.5399, 0.5398],\n",
      "       device='cuda:0') tensor(1.9711e-05, device='cuda:0')\n",
      "targets tensor([0.0100, 0.0100, 0.9900, 0.9900, 0.9900, 0.9900, 0.9900, 0.9900],\n",
      "       device='cuda:0') tensor(0.4537, device='cuda:0')\n",
      "outputs tensor([0.5399, 0.5399, 0.5399, 0.5399, 0.5399, 0.5399, 0.5399, 0.5399],\n",
      "       device='cuda:0') tensor(2.2117e-05, device='cuda:0')\n",
      "targets tensor([0.0100, 0.9900, 0.0100, 0.0100, 0.0100, 0.0100, 0.9900, 0.0100],\n",
      "       device='cuda:0') tensor(0.4537, device='cuda:0')\n",
      "outputs tensor([0.5399, 0.5399, 0.5399, 0.5399, 0.5399, 0.5398, 0.5399, 0.5399],\n",
      "       device='cuda:0') tensor(2.3393e-05, device='cuda:0')\n",
      "targets tensor([0.0100, 0.0100, 0.9900, 0.0100, 0.0100, 0.9900, 0.0100, 0.0100],\n",
      "       device='cuda:0') tensor(0.4537, device='cuda:0')\n",
      "outputs tensor([0.5398, 0.5398, 0.5399, 0.5399, 0.5399, 0.5399, 0.5399, 0.5398],\n",
      "       device='cuda:0') tensor(2.0045e-05, device='cuda:0')\n",
      "targets tensor([0.9900, 0.9900, 0.9900, 0.0100, 0.9900, 0.9900, 0.0100, 0.0100],\n",
      "       device='cuda:0') tensor(0.5072, device='cuda:0')\n",
      "outputs tensor([0.5399, 0.5399, 0.5399, 0.5398, 0.5399, 0.5399, 0.5399, 0.5399],\n",
      "       device='cuda:0') tensor(2.5602e-05, device='cuda:0')\n",
      "targets tensor([0.9900, 0.0100, 0.9900, 0.0100, 0.9900, 0.9900, 0.9900, 0.9900],\n",
      "       device='cuda:0') tensor(0.4537, device='cuda:0')\n",
      "outputs tensor([0.5399, 0.5398, 0.5399, 0.5399, 0.5398, 0.5398, 0.5399, 0.5399],\n",
      "       device='cuda:0') tensor(2.5935e-05, device='cuda:0')\n",
      "targets tensor([0.9900, 0.9900, 0.0100, 0.0100, 0.9900, 0.9900, 0.0100, 0.0100],\n",
      "       device='cuda:0') tensor(0.5238, device='cuda:0')\n",
      "outputs tensor([0.5399, 0.5399, 0.5399, 0.5399, 0.5399, 0.5399, 0.5399, 0.5399],\n",
      "       device='cuda:0') tensor(1.9158e-05, device='cuda:0')\n",
      "targets tensor([0.0100, 0.9900, 0.9900, 0.9900, 0.9900, 0.0100, 0.0100, 0.0100],\n",
      "       device='cuda:0') tensor(0.5238, device='cuda:0')\n",
      "outputs ep 7/15, valid_loss: 0.7197tensor([0.5399, 0.5399, 0.5399, 0.5398, 0.5399, 0.5399, 0.5399, 0.5399],\n",
      "       device='cuda:0') tensor(1.9480e-05, device='cuda:0')\n",
      "targets tensor([0.0100, 0.9900, 0.9900, 0.9900, 0.0100, 0.9900, 0.9900, 0.0100],\n",
      "       device='cuda:0') tensor(0.5072, device='cuda:0')\n",
      "outputs tensor([0.5399, 0.5399, 0.5399, 0.5399, 0.5398, 0.5399, 0.5399, 0.5398],\n",
      "       device='cuda:0') tensor(2.1835e-05, device='cuda:0')\n",
      "targets tensor([0.0100, 0.0100, 0.0100, 0.0100, 0.9900, 0.0100, 0.0100, 0.9900],\n",
      "       device='cuda:0') tensor(0.4537, device='cuda:0')\n",
      "outputs tensor([0.5399, 0.5398, 0.5399, 0.5398, 0.5399, 0.5399, 0.5399, 0.5399],\n",
      "       device='cuda:0') tensor(1.8994e-05, device='cuda:0')\n",
      "targets tensor([0.9900, 0.9900, 0.0100, 0.9900, 0.9900, 0.9900, 0.9900, 0.0100],\n",
      "       device='cuda:0') tensor(0.4537, device='cuda:0')\n",
      "outputs tensor([0.5399, 0.5399, 0.5399, 0.5399, 0.5398, 0.5399, 0.5399, 0.5399],\n",
      "       device='cuda:0') tensor(1.9628e-05, device='cuda:0')\n",
      "targets tensor([0.0100, 0.0100, 0.0100, 0.9900, 0.9900, 0.9900, 0.9900, 0.9900],\n",
      "       device='cuda:0') tensor(0.5072, device='cuda:0')\n",
      "outputs tensor([0.5399, 0.5399, 0.5399, 0.5399, 0.5399, 0.5398, 0.5399, 0.5399],\n",
      "       device='cuda:0') tensor(2.1226e-05, device='cuda:0')\n",
      "targets tensor([0.0100, 0.9900, 0.0100, 0.9900, 0.9900, 0.9900, 0.9900, 0.0100],\n",
      "       device='cuda:0') tensor(0.5072, device='cuda:0')\n",
      "outputs tensor([0.5399, 0.5398, 0.5399, 0.5399, 0.5399, 0.5399, 0.5399, 0.5399],\n",
      "       device='cuda:0') tensor(1.9654e-05, device='cuda:0')\n",
      "targets tensor([0.9900, 0.9900, 0.9900, 0.0100, 0.0100, 0.9900, 0.0100, 0.9900],\n",
      "       device='cuda:0') tensor(0.5072, device='cuda:0')\n",
      "outputs tensor([0.5399, 0.5399, 0.5399, 0.5399, 0.5399, 0.5399, 0.5398, 0.5399],\n",
      "       device='cuda:0') tensor(1.9745e-05, device='cuda:0')\n",
      "targets tensor([0.0100, 0.9900, 0.0100, 0.0100, 0.0100, 0.0100, 0.9900, 0.0100],\n",
      "       device='cuda:0') tensor(0.4537, device='cuda:0')\n",
      "outputs tensor([0.5399, 0.5399, 0.5398, 0.5399, 0.5399], device='cuda:0') tensor(2.6421e-05, device='cuda:0')\n",
      "targets tensor([0.9900, 0.0100, 0.0100, 0.9900, 0.0100], device='cuda:0') tensor(0.5368, device='cuda:0')\n",
      "Valid Step 15/15, valid_loss: 0.7194\n",
      "[Epoch Train: 7] loss: 0.6958, time: 14.00 s            \n",
      "[Epoch Valid: 7] loss: 0.7194, auc: 0.3043, time: 2.00 s\n",
      "EPOCH: 8\n"
     ]
    },
    {
     "data": {
      "application/vnd.jupyter.widget-view+json": {
       "model_id": "3ca02277e5b24c8fb9bc14c6be3754ec",
       "version_major": 2,
       "version_minor": 0
      },
      "text/plain": [
       "HBox(children=(FloatProgress(value=0.0, max=59.0), HTML(value='')))"
      ]
     },
     "metadata": {},
     "output_type": "display_data"
    },
    {
     "name": "stdout",
     "output_type": "stream",
     "text": [
      "Train Step 59/59, train_loss: 0.6945\n"
     ]
    },
    {
     "data": {
      "application/vnd.jupyter.widget-view+json": {
       "model_id": "ab3d7c5001d94ed2a7387a4b2f8e9dcf",
       "version_major": 2,
       "version_minor": 0
      },
      "text/plain": [
       "HBox(children=(FloatProgress(value=0.0, max=15.0), HTML(value='')))"
      ]
     },
     "metadata": {},
     "output_type": "display_data"
    },
    {
     "name": "stdout",
     "output_type": "stream",
     "text": [
      "outputs tensor([0.5184, 0.5199, 0.5180, 0.5184, 0.5180, 0.5183, 0.5172, 0.5182],\n",
      "       device='cuda:0') tensor(0.0007, device='cuda:0')\n",
      "targets tensor([0.0100, 0.0100, 0.9900, 0.9900, 0.9900, 0.9900, 0.9900, 0.9900],\n",
      "       device='cuda:0') tensor(0.4537, device='cuda:0')\n",
      "outputs tensor([0.5185, 0.5184, 0.5182, 0.5183, 0.5180, 0.5182, 0.5183, 0.5186],\n",
      "       device='cuda:0') tensor(0.0002, device='cuda:0')\n",
      "targets tensor([0.0100, 0.9900, 0.0100, 0.0100, 0.0100, 0.0100, 0.9900, 0.0100],\n",
      "       device='cuda:0') tensor(0.4537, device='cuda:0')\n",
      "outputs tensor([0.5169, 0.5179, 0.5184, 0.5174, 0.5176, 0.5170, 0.5204, 0.5186],\n",
      "       device='cuda:0') tensor(0.0012, device='cuda:0')\n",
      "targets tensor([0.0100, 0.0100, 0.9900, 0.0100, 0.0100, 0.9900, 0.0100, 0.0100],\n",
      "       device='cuda:0') tensor(0.4537, device='cuda:0')\n",
      "outputs ep 3/15, valid_loss: 0.7687tensor([0.5173, 0.5175, 0.5172, 0.5282, 0.5183, 0.5182, 0.5179, 0.5173],\n",
      "       device='cuda:0') tensor(0.0037, device='cuda:0')\n",
      "targets tensor([0.9900, 0.9900, 0.9900, 0.0100, 0.9900, 0.9900, 0.0100, 0.0100],\n",
      "       device='cuda:0') tensor(0.5072, device='cuda:0')\n",
      "outputs tensor([0.5183, 0.5194, 0.5182, 0.5180, 0.5181, 0.5192, 0.5179, 0.5177],\n",
      "       device='cuda:0') tensor(0.0006, device='cuda:0')\n",
      "targets tensor([0.9900, 0.0100, 0.9900, 0.0100, 0.9900, 0.9900, 0.9900, 0.9900],\n",
      "       device='cuda:0') tensor(0.4537, device='cuda:0')\n",
      "outputs tensor([0.5187, 0.5178, 0.5184, 0.5191, 0.5178, 0.5176, 0.5182, 0.5179],\n",
      "       device='cuda:0') tensor(0.0005, device='cuda:0')\n",
      "targets tensor([0.9900, 0.9900, 0.0100, 0.0100, 0.9900, 0.9900, 0.0100, 0.0100],\n",
      "       device='cuda:0') tensor(0.5238, device='cuda:0')\n",
      "outputs tensor([0.5182, 0.5178, 0.5231, 0.5181, 0.5168, 0.5187, 0.5185, 0.5173],\n",
      "       device='cuda:0') tensor(0.0019, device='cuda:0')\n",
      "targets tensor([0.0100, 0.9900, 0.9900, 0.9900, 0.9900, 0.0100, 0.0100, 0.0100],\n",
      "       device='cuda:0') tensor(0.5238, device='cuda:0')\n",
      "outputs tensor([0.5166, 0.5185, 0.5175, 0.5179, 0.5186, 0.5233, 0.5183, 0.5187],\n",
      "       device='cuda:0') tensor(0.0020, device='cuda:0')\n",
      "targets tensor([0.0100, 0.9900, 0.9900, 0.9900, 0.0100, 0.9900, 0.9900, 0.0100],\n",
      "       device='cuda:0') tensor(0.5072, device='cuda:0')\n",
      "outputs tensor([0.5181, 0.5185, 0.5181, 0.5182, 0.5173, 0.5234, 0.5183, 0.5169],\n",
      "       device='cuda:0') tensor(0.0020, device='cuda:0')\n",
      "targets tensor([0.0100, 0.0100, 0.0100, 0.0100, 0.9900, 0.0100, 0.0100, 0.9900],\n",
      "       device='cuda:0') tensor(0.4537, device='cuda:0')\n",
      "outputs tensor([0.5175, 0.5173, 0.5178, 0.5177, 0.5180, 0.5180, 0.5173, 0.5177],\n",
      "       device='cuda:0') tensor(0.0003, device='cuda:0')\n",
      "targets tensor([0.9900, 0.9900, 0.0100, 0.9900, 0.9900, 0.9900, 0.9900, 0.0100],\n",
      "       device='cuda:0') tensor(0.4537, device='cuda:0')\n",
      "outputs ep 10/15, valid_loss: 0.7138tensor([0.5182, 0.5184, 0.5179, 0.5189, 0.5177, 0.5184, 0.5175, 0.5173],\n",
      "       device='cuda:0') tensor(0.0005, device='cuda:0')\n",
      "targets tensor([0.0100, 0.0100, 0.0100, 0.9900, 0.9900, 0.9900, 0.9900, 0.9900],\n",
      "       device='cuda:0') tensor(0.5072, device='cuda:0')\n",
      "outputs tensor([0.5172, 0.5184, 0.5190, 0.5184, 0.5182, 0.5176, 0.5185, 0.5185],\n",
      "       device='cuda:0') tensor(0.0006, device='cuda:0')\n",
      "targets tensor([0.0100, 0.9900, 0.0100, 0.9900, 0.9900, 0.9900, 0.9900, 0.0100],\n",
      "       device='cuda:0') tensor(0.5072, device='cuda:0')\n",
      "outputs tensor([0.5180, 0.5179, 0.5182, 0.5185, 0.5172, 0.5205, 0.5174, 0.5183],\n",
      "       device='cuda:0') tensor(0.0010, device='cuda:0')\n",
      "targets tensor([0.9900, 0.9900, 0.9900, 0.0100, 0.0100, 0.9900, 0.0100, 0.9900],\n",
      "       device='cuda:0') tensor(0.5072, device='cuda:0')\n",
      "outputs tensor([0.5177, 0.5180, 0.5209, 0.5181, 0.5178, 0.5184, 0.5181, 0.5182],\n",
      "       device='cuda:0') tensor(0.0010, device='cuda:0')\n",
      "targets tensor([0.0100, 0.9900, 0.0100, 0.0100, 0.0100, 0.0100, 0.9900, 0.0100],\n",
      "       device='cuda:0') tensor(0.4537, device='cuda:0')\n",
      "outputs tensor([0.5197, 0.5195, 0.5183, 0.5262, 0.5202], device='cuda:0') tensor(0.0031, device='cuda:0')\n",
      "targets tensor([0.9900, 0.0100, 0.0100, 0.9900, 0.0100], device='cuda:0') tensor(0.5368, device='cuda:0')\n",
      "Valid Step 15/15, valid_loss: 0.7171\n",
      "[Epoch Train: 8] loss: 0.6945, time: 14.00 s            \n",
      "[Epoch Valid: 8] loss: 0.7171, auc: 0.3987, time: 2.00 s\n",
      "EPOCH: 9\n"
     ]
    },
    {
     "data": {
      "application/vnd.jupyter.widget-view+json": {
       "model_id": "350b3fb59620449cb6dc5c7507ef22b1",
       "version_major": 2,
       "version_minor": 0
      },
      "text/plain": [
       "HBox(children=(FloatProgress(value=0.0, max=59.0), HTML(value='')))"
      ]
     },
     "metadata": {},
     "output_type": "display_data"
    },
    {
     "name": "stdout",
     "output_type": "stream",
     "text": [
      "Train Step 59/59, train_loss: 0.6987\n"
     ]
    },
    {
     "data": {
      "application/vnd.jupyter.widget-view+json": {
       "model_id": "1f00a92f35c34c8a9c726dc5efc56969",
       "version_major": 2,
       "version_minor": 0
      },
      "text/plain": [
       "HBox(children=(FloatProgress(value=0.0, max=15.0), HTML(value='')))"
      ]
     },
     "metadata": {},
     "output_type": "display_data"
    },
    {
     "name": "stdout",
     "output_type": "stream",
     "text": [
      "outputs tensor([0.9520, 0.9368, 0.9222, 0.9266, 0.9091, 0.9181, 0.9207, 0.9220],\n",
      "       device='cuda:0') tensor(0.0131, device='cuda:0')\n",
      "targets tensor([0.0100, 0.0100, 0.9900, 0.9900, 0.9900, 0.9900, 0.9900, 0.9900],\n",
      "       device='cuda:0') tensor(0.4537, device='cuda:0')\n",
      "outputs tensor([0.9075, 0.9102, 0.9314, 0.9212, 0.9141, 0.9649, 0.9669, 0.9352],\n",
      "       device='cuda:0') tensor(0.0234, device='cuda:0')\n",
      "targets tensor([0.0100, 0.9900, 0.0100, 0.0100, 0.0100, 0.0100, 0.9900, 0.0100],\n",
      "       device='cuda:0') tensor(0.4537, device='cuda:0')\n",
      "outputs tensor([0.7678, 0.9105, 0.8822, 0.9445, 0.9498, 0.9592, 0.9220, 0.9061],\n",
      "       device='cuda:0') tensor(0.0611, device='cuda:0')\n",
      "targets tensor([0.0100, 0.0100, 0.9900, 0.0100, 0.0100, 0.9900, 0.0100, 0.0100],\n",
      "       device='cuda:0') tensor(0.4537, device='cuda:0')\n",
      "outputs tensor([0.8810, 0.9637, 0.9440, 0.9089, 0.9482, 0.9295, 0.9298, 0.9692],\n",
      "       device='cuda:0') tensor(0.0290, device='cuda:0')\n",
      "targets tensor([0.9900, 0.9900, 0.9900, 0.0100, 0.9900, 0.9900, 0.0100, 0.0100],\n",
      "       device='cuda:0') tensor(0.5072, device='cuda:0')\n",
      "outputs tensor([0.9629, 0.9262, 0.9214, 0.9205, 0.8800, 0.8573, 0.9262, 0.9078],\n",
      "       device='cuda:0') tensor(0.0320, device='cuda:0')\n",
      "targets tensor([0.9900, 0.0100, 0.9900, 0.0100, 0.9900, 0.9900, 0.9900, 0.9900],\n",
      "       device='cuda:0') tensor(0.4537, device='cuda:0')\n",
      "outputs tensor([0.9408, 0.9135, 0.9203, 0.9237, 0.8838, 0.8998, 0.9174, 0.9082],\n",
      "       device='cuda:0') tensor(0.0169, device='cuda:0')\n",
      "targets tensor([0.9900, 0.9900, 0.0100, 0.0100, 0.9900, 0.9900, 0.0100, 0.0100],\n",
      "       device='cuda:0') tensor(0.5238, device='cuda:0')\n",
      "outputs tensor([0.9449, 0.9013, 0.9293, 0.9264, 0.9232, 0.9165, 0.9444, 0.9106],\n",
      "       device='cuda:0') tensor(0.0153, device='cuda:0')\n",
      "targets tensor([0.0100, 0.9900, 0.9900, 0.9900, 0.9900, 0.0100, 0.0100, 0.0100],\n",
      "       device='cuda:0') tensor(0.5238, device='cuda:0')\n",
      "outputs ep 7/15, valid_loss: 0.7802tensor([0.8886, 0.9591, 0.9551, 0.9093, 0.9786, 0.9055, 0.8843, 0.9516],\n",
      "       device='cuda:0') tensor(0.0361, device='cuda:0')\n",
      "targets tensor([0.0100, 0.9900, 0.9900, 0.9900, 0.0100, 0.9900, 0.9900, 0.0100],\n",
      "       device='cuda:0') tensor(0.5072, device='cuda:0')\n",
      "outputs tensor([0.9691, 0.9475, 0.9708, 0.9605, 0.9113, 0.9296, 0.8989, 0.9575],\n",
      "       device='cuda:0') tensor(0.0271, device='cuda:0')\n",
      "targets tensor([0.0100, 0.0100, 0.0100, 0.0100, 0.9900, 0.0100, 0.0100, 0.9900],\n",
      "       device='cuda:0') tensor(0.4537, device='cuda:0')\n",
      "outputs tensor([0.9686, 0.9017, 0.9090, 0.9159, 0.8970, 0.9175, 0.9467, 0.9111],\n",
      "       device='cuda:0') tensor(0.0244, device='cuda:0')\n",
      "targets tensor([0.9900, 0.9900, 0.0100, 0.9900, 0.9900, 0.9900, 0.9900, 0.0100],\n",
      "       device='cuda:0') tensor(0.4537, device='cuda:0')\n",
      "outputs tensor([0.9006, 0.9521, 0.9430, 0.8697, 0.8943, 0.9465, 0.9337, 0.9410],\n",
      "       device='cuda:0') tensor(0.0303, device='cuda:0')\n",
      "targets tensor([0.0100, 0.0100, 0.0100, 0.9900, 0.9900, 0.9900, 0.9900, 0.9900],\n",
      "       device='cuda:0') tensor(0.5072, device='cuda:0')\n",
      "outputs tensor([0.9292, 0.9126, 0.9209, 0.9180, 0.9433, 0.9097, 0.9054, 0.9385],\n",
      "       device='cuda:0') tensor(0.0137, device='cuda:0')\n",
      "targets tensor([0.0100, 0.9900, 0.0100, 0.9900, 0.9900, 0.9900, 0.9900, 0.0100],\n",
      "       device='cuda:0') tensor(0.5072, device='cuda:0')\n",
      "outputs tensor([0.9612, 0.9026, 0.9230, 0.9378, 0.9204, 0.9407, 0.9329, 0.9313],\n",
      "       device='cuda:0') tensor(0.0171, device='cuda:0')\n",
      "targets tensor([0.9900, 0.9900, 0.9900, 0.0100, 0.0100, 0.9900, 0.0100, 0.9900],\n",
      "       device='cuda:0') tensor(0.5072, device='cuda:0')\n",
      "outputs tensor([0.9187, 0.8960, 0.9082, 0.9572, 0.8937, 0.9620, 0.8992, 0.9077],\n",
      "       device='cuda:0') tensor(0.0270, device='cuda:0')\n",
      "targets tensor([0.0100, 0.9900, 0.0100, 0.0100, 0.0100, 0.0100, 0.9900, 0.0100],\n",
      "       device='cuda:0') tensor(0.4537, device='cuda:0')\n",
      "outputs tensor([0.8923, 0.8734, 0.9156, 0.8505, 0.8787], device='cuda:0') tensor(0.0240, device='cuda:0')\n",
      "targets tensor([0.9900, 0.0100, 0.0100, 0.9900, 0.0100], device='cuda:0') tensor(0.5368, device='cuda:0')\n",
      "Valid Step 15/15, valid_loss: 0.7806\n",
      "[Epoch Train: 9] loss: 0.6987, time: 14.00 s            \n",
      "[Epoch Valid: 9] loss: 0.7806, auc: 0.4227, time: 2.00 s\n",
      "EPOCH: 10\n"
     ]
    },
    {
     "data": {
      "application/vnd.jupyter.widget-view+json": {
       "model_id": "be2fdc6bd8f14b41922ee0dc5935da69",
       "version_major": 2,
       "version_minor": 0
      },
      "text/plain": [
       "HBox(children=(FloatProgress(value=0.0, max=59.0), HTML(value='')))"
      ]
     },
     "metadata": {},
     "output_type": "display_data"
    },
    {
     "name": "stdout",
     "output_type": "stream",
     "text": [
      "Train Step 59/59, train_loss: 0.6965\n"
     ]
    },
    {
     "data": {
      "application/vnd.jupyter.widget-view+json": {
       "model_id": "ad6c45be1d034dcb8e716bf5a0301a19",
       "version_major": 2,
       "version_minor": 0
      },
      "text/plain": [
       "HBox(children=(FloatProgress(value=0.0, max=15.0), HTML(value='')))"
      ]
     },
     "metadata": {},
     "output_type": "display_data"
    },
    {
     "name": "stdout",
     "output_type": "stream",
     "text": [
      "outputs tensor([0.4736, 0.5094, 0.5006, 0.4866, 0.4760, 0.4917, 0.4992, 0.4888],\n",
      "       device='cuda:0') tensor(0.0122, device='cuda:0')\n",
      "targets tensor([0.0100, 0.0100, 0.9900, 0.9900, 0.9900, 0.9900, 0.9900, 0.9900],\n",
      "       device='cuda:0') tensor(0.4537, device='cuda:0')\n",
      "outputs tensor([0.5095, 0.4915, 0.4834, 0.5101, 0.4920, 0.4774, 0.4684, 0.5041],\n",
      "       device='cuda:0') tensor(0.0153, device='cuda:0')\n",
      "targets tensor([0.0100, 0.9900, 0.0100, 0.0100, 0.0100, 0.0100, 0.9900, 0.0100],\n",
      "       device='cuda:0') tensor(0.4537, device='cuda:0')\n",
      "outputs tensor([0.5068, 0.4884, 0.4996, 0.4980, 0.4860, 0.4926, 0.5111, 0.5089],\n",
      "       device='cuda:0') tensor(0.0095, device='cuda:0')\n",
      "targets tensor([0.0100, 0.0100, 0.9900, 0.0100, 0.0100, 0.9900, 0.0100, 0.0100],\n",
      "       device='cuda:0') tensor(0.4537, device='cuda:0')\n",
      "outputs tensor([0.4992, 0.4795, 0.4895, 0.5132, 0.5017, 0.4793, 0.4803, 0.4827],\n",
      "       device='cuda:0') tensor(0.0127, device='cuda:0')\n",
      "targets tensor([0.9900, 0.9900, 0.9900, 0.0100, 0.9900, 0.9900, 0.0100, 0.0100],\n",
      "       device='cuda:0') tensor(0.5072, device='cuda:0')\n",
      "outputs tensor([0.4633, 0.5080, 0.4893, 0.4892, 0.5117, 0.5123, 0.4903, 0.5106],\n",
      "       device='cuda:0') tensor(0.0171, device='cuda:0')\n",
      "targets tensor([0.9900, 0.0100, 0.9900, 0.0100, 0.9900, 0.9900, 0.9900, 0.9900],\n",
      "       device='cuda:0') tensor(0.4537, device='cuda:0')\n",
      "outputs tensor([0.5085, 0.5013, 0.5006, 0.5109, 0.4975, 0.4912, 0.5110, 0.4848],\n",
      "       device='cuda:0') tensor(0.0095, device='cuda:0')\n",
      "targets tensor([0.9900, 0.9900, 0.0100, 0.0100, 0.9900, 0.9900, 0.0100, 0.0100],\n",
      "       device='cuda:0') tensor(0.5238, device='cuda:0')\n",
      "outputs tensor([0.5006, 0.5085, 0.5123, 0.5029, 0.5093, 0.5100, 0.5060, 0.5096],\n",
      "       device='cuda:0') tensor(0.0039, device='cuda:0')\n",
      "targets tensor([0.0100, 0.9900, 0.9900, 0.9900, 0.9900, 0.0100, 0.0100, 0.0100],\n",
      "       device='cuda:0') tensor(0.5238, device='cuda:0')\n",
      "outputs ep 7/15, valid_loss: 0.7159tensor([0.5063, 0.4762, 0.4735, 0.4921, 0.4778, 0.5127, 0.5041, 0.5016],\n",
      "       device='cuda:0') tensor(0.0154, device='cuda:0')\n",
      "targets tensor([0.0100, 0.9900, 0.9900, 0.9900, 0.0100, 0.9900, 0.9900, 0.0100],\n",
      "       device='cuda:0') tensor(0.5072, device='cuda:0')\n",
      "outputs tensor([0.4600, 0.4971, 0.4639, 0.4958, 0.5002, 0.5103, 0.5095, 0.4792],\n",
      "       device='cuda:0') tensor(0.0196, device='cuda:0')\n",
      "targets tensor([0.0100, 0.0100, 0.0100, 0.0100, 0.9900, 0.0100, 0.0100, 0.9900],\n",
      "       device='cuda:0') tensor(0.4537, device='cuda:0')\n",
      "outputs tensor([0.4813, 0.4991, 0.5112, 0.4899, 0.4915, 0.4967, 0.4971, 0.5075],\n",
      "       device='cuda:0') tensor(0.0096, device='cuda:0')\n",
      "targets tensor([0.9900, 0.9900, 0.0100, 0.9900, 0.9900, 0.9900, 0.9900, 0.0100],\n",
      "       device='cuda:0') tensor(0.4537, device='cuda:0')\n",
      "outputs tensor([0.4948, 0.4927, 0.4943, 0.5116, 0.5008, 0.5018, 0.5016, 0.4996],\n",
      "       device='cuda:0') tensor(0.0060, device='cuda:0')\n",
      "targets tensor([0.0100, 0.0100, 0.0100, 0.9900, 0.9900, 0.9900, 0.9900, 0.9900],\n",
      "       device='cuda:0') tensor(0.5072, device='cuda:0')\n",
      "outputs tensor([0.5097, 0.4977, 0.5106, 0.4977, 0.5022, 0.4957, 0.4931, 0.5065],\n",
      "       device='cuda:0') tensor(0.0067, device='cuda:0')\n",
      "targets tensor([0.0100, 0.9900, 0.0100, 0.9900, 0.9900, 0.9900, 0.9900, 0.0100],\n",
      "       device='cuda:0') tensor(0.5072, device='cuda:0')\n",
      "outputs tensor([0.4693, 0.4952, 0.4922, 0.5030, 0.4960, 0.5065, 0.5045, 0.5070],\n",
      "       device='cuda:0') tensor(0.0124, device='cuda:0')\n",
      "targets tensor([0.9900, 0.9900, 0.9900, 0.0100, 0.0100, 0.9900, 0.0100, 0.9900],\n",
      "       device='cuda:0') tensor(0.5072, device='cuda:0')\n",
      "outputs tensor([0.5092, 0.4863, 0.5123, 0.4834, 0.5015, 0.4719, 0.5046, 0.4770],\n",
      "       device='cuda:0') tensor(0.0155, device='cuda:0')\n",
      "targets tensor([0.0100, 0.9900, 0.0100, 0.0100, 0.0100, 0.0100, 0.9900, 0.0100],\n",
      "       device='cuda:0') tensor(0.4537, device='cuda:0')\n",
      "outputs tensor([0.5096, 0.5134, 0.4910, 0.5141, 0.5131], device='cuda:0') tensor(0.0098, device='cuda:0')\n",
      "targets tensor([0.9900, 0.0100, 0.0100, 0.9900, 0.0100], device='cuda:0') tensor(0.5368, device='cuda:0')\n",
      "Valid Step 15/15, valid_loss: 0.7154\n",
      "[Epoch Train: 10] loss: 0.6965, time: 14.00 s            \n",
      "[Epoch Valid: 10] loss: 0.7154, auc: 0.4221, time: 2.00 s\n",
      "EPOCH: 11\n"
     ]
    },
    {
     "data": {
      "application/vnd.jupyter.widget-view+json": {
       "model_id": "2c4571355ace4741acbf237102f61341",
       "version_major": 2,
       "version_minor": 0
      },
      "text/plain": [
       "HBox(children=(FloatProgress(value=0.0, max=59.0), HTML(value='')))"
      ]
     },
     "metadata": {},
     "output_type": "display_data"
    },
    {
     "name": "stdout",
     "output_type": "stream",
     "text": [
      "Train Step 59/59, train_loss: 0.6929\n"
     ]
    },
    {
     "data": {
      "application/vnd.jupyter.widget-view+json": {
       "model_id": "8a3f819efdcf4655aeb2922d721b4623",
       "version_major": 2,
       "version_minor": 0
      },
      "text/plain": [
       "HBox(children=(FloatProgress(value=0.0, max=15.0), HTML(value='')))"
      ]
     },
     "metadata": {},
     "output_type": "display_data"
    },
    {
     "name": "stdout",
     "output_type": "stream",
     "text": [
      "outputs tensor([0.6345, 0.5162, 0.6391, 0.7385, 0.7369, 0.6802, 0.5192, 0.6936],\n",
      "       device='cuda:0') tensor(0.0873, device='cuda:0')\n",
      "targets tensor([0.0100, 0.0100, 0.9900, 0.9900, 0.9900, 0.9900, 0.9900, 0.9900],\n",
      "       device='cuda:0') tensor(0.4537, device='cuda:0')\n",
      "outputs tensor([0.5178, 0.6664, 0.7362, 0.5184, 0.6533, 0.6336, 0.6514, 0.5183],\n",
      "       device='cuda:0') tensor(0.0832, device='cuda:0')\n",
      "targets tensor([0.0100, 0.9900, 0.0100, 0.0100, 0.0100, 0.0100, 0.9900, 0.0100],\n",
      "       device='cuda:0') tensor(0.4537, device='cuda:0')\n",
      "outputs tensor([0.5215, 0.6601, 0.6562, 0.5189, 0.5302, 0.6340, 0.5185, 0.5193],\n",
      "       device='cuda:0') tensor(0.0670, device='cuda:0')\n",
      "targets tensor([0.0100, 0.0100, 0.9900, 0.0100, 0.0100, 0.9900, 0.0100, 0.0100],\n",
      "       device='cuda:0') tensor(0.4537, device='cuda:0')\n",
      "outputs tensor([0.6714, 0.6233, 0.5893, 0.5183, 0.5924, 0.7093, 0.7362, 0.6877],\n",
      "       device='cuda:0') tensor(0.0729, device='cuda:0')\n",
      "targets tensor([0.9900, 0.9900, 0.9900, 0.0100, 0.9900, 0.9900, 0.0100, 0.0100],\n",
      "       device='cuda:0') tensor(0.5072, device='cuda:0')\n",
      "outputs tensor([0.6581, 0.5185, 0.6861, 0.6561, 0.5191, 0.5198, 0.7180, 0.5190],\n",
      "       device='cuda:0') tensor(0.0879, device='cuda:0')\n",
      "targets tensor([0.9900, 0.0100, 0.9900, 0.0100, 0.9900, 0.9900, 0.9900, 0.9900],\n",
      "       device='cuda:0') tensor(0.4537, device='cuda:0')\n",
      "outputs tensor([0.5184, 0.6094, 0.5187, 0.5190, 0.6201, 0.6514, 0.5183, 0.7139],\n",
      "       device='cuda:0') tensor(0.0760, device='cuda:0')\n",
      "targets tensor([0.9900, 0.9900, 0.0100, 0.0100, 0.9900, 0.9900, 0.0100, 0.0100],\n",
      "       device='cuda:0') tensor(0.5238, device='cuda:0')\n",
      "outputs tensor([0.5191, 0.6057, 0.5178, 0.6227, 0.5192, 0.5192, 0.5171, 0.5193],\n",
      "       device='cuda:0') tensor(0.0445, device='cuda:0')\n",
      "targets tensor([0.0100, 0.9900, 0.9900, 0.9900, 0.9900, 0.0100, 0.0100, 0.0100],\n",
      "       device='cuda:0') tensor(0.5238, device='cuda:0')\n",
      "outputs ep 7/15, valid_loss: 0.7151tensor([0.5206, 0.5951, 0.6111, 0.6936, 0.7082, 0.5163, 0.6209, 0.5174],\n",
      "       device='cuda:0') tensor(0.0767, device='cuda:0')\n",
      "targets tensor([0.0100, 0.9900, 0.9900, 0.9900, 0.0100, 0.9900, 0.9900, 0.0100],\n",
      "       device='cuda:0') tensor(0.5072, device='cuda:0')\n",
      "outputs tensor([0.6985, 0.5173, 0.7087, 0.5868, 0.6183, 0.5183, 0.5195, 0.6879],\n",
      "       device='cuda:0') tensor(0.0840, device='cuda:0')\n",
      "targets tensor([0.0100, 0.0100, 0.0100, 0.0100, 0.9900, 0.0100, 0.0100, 0.9900],\n",
      "       device='cuda:0') tensor(0.4537, device='cuda:0')\n",
      "outputs tensor([0.6547, 0.6400, 0.5196, 0.7013, 0.6473, 0.6721, 0.5189, 0.5186],\n",
      "       device='cuda:0') tensor(0.0768, device='cuda:0')\n",
      "targets tensor([0.9900, 0.9900, 0.0100, 0.9900, 0.9900, 0.9900, 0.9900, 0.0100],\n",
      "       device='cuda:0') tensor(0.4537, device='cuda:0')\n",
      "outputs tensor([0.6624, 0.6726, 0.5179, 0.5193, 0.6325, 0.5175, 0.5186, 0.5200],\n",
      "       device='cuda:0') tensor(0.0719, device='cuda:0')\n",
      "targets tensor([0.0100, 0.0100, 0.0100, 0.9900, 0.9900, 0.9900, 0.9900, 0.9900],\n",
      "       device='cuda:0') tensor(0.5072, device='cuda:0')\n",
      "outputs tensor([0.5182, 0.6221, 0.5186, 0.6408, 0.5298, 0.6660, 0.6496, 0.5194],\n",
      "       device='cuda:0') tensor(0.0670, device='cuda:0')\n",
      "targets tensor([0.0100, 0.9900, 0.0100, 0.9900, 0.9900, 0.9900, 0.9900, 0.0100],\n",
      "       device='cuda:0') tensor(0.5072, device='cuda:0')\n",
      "outputs tensor([0.6610, 0.6789, 0.6610, 0.5193, 0.6392, 0.5171, 0.5192, 0.5178],\n",
      "       device='cuda:0') tensor(0.0765, device='cuda:0')\n",
      "targets tensor([0.9900, 0.9900, 0.9900, 0.0100, 0.0100, 0.9900, 0.0100, 0.9900],\n",
      "       device='cuda:0') tensor(0.5072, device='cuda:0')\n",
      "outputs tensor([0.5197, 0.6673, 0.5153, 0.6936, 0.6210, 0.5641, 0.6188, 0.7363],\n",
      "       device='cuda:0') tensor(0.0804, device='cuda:0')\n",
      "targets tensor([0.0100, 0.9900, 0.0100, 0.0100, 0.0100, 0.0100, 0.9900, 0.0100],\n",
      "       device='cuda:0') tensor(0.4537, device='cuda:0')\n",
      "outputs tensor([0.5192, 0.5184, 0.6667, 0.5187, 0.5186], device='cuda:0') tensor(0.0662, device='cuda:0')\n",
      "targets tensor([0.9900, 0.0100, 0.0100, 0.9900, 0.0100], device='cuda:0') tensor(0.5368, device='cuda:0')\n",
      "Valid Step 15/15, valid_loss: 0.7177\n",
      "[Epoch Train: 11] loss: 0.6929, time: 14.00 s            \n",
      "[Epoch Valid: 11] loss: 0.7177, auc: 0.6361, time: 2.00 s\n",
      "EPOCH: 12\n"
     ]
    },
    {
     "data": {
      "application/vnd.jupyter.widget-view+json": {
       "model_id": "7851b804adb247a284928d3111a44d7e",
       "version_major": 2,
       "version_minor": 0
      },
      "text/plain": [
       "HBox(children=(FloatProgress(value=0.0, max=59.0), HTML(value='')))"
      ]
     },
     "metadata": {},
     "output_type": "display_data"
    },
    {
     "name": "stdout",
     "output_type": "stream",
     "text": [
      "Train Step 59/59, train_loss: 0.6928\n"
     ]
    },
    {
     "data": {
      "application/vnd.jupyter.widget-view+json": {
       "model_id": "287a58baebf6454088ec43b7d31aa18d",
       "version_major": 2,
       "version_minor": 0
      },
      "text/plain": [
       "HBox(children=(FloatProgress(value=0.0, max=15.0), HTML(value='')))"
      ]
     },
     "metadata": {},
     "output_type": "display_data"
    },
    {
     "name": "stdout",
     "output_type": "stream",
     "text": [
      "outputs tensor([0.5133, 0.5141, 0.5137, 0.5138, 0.5141, 0.5136, 0.5128, 0.5138],\n",
      "       device='cuda:0') tensor(0.0004, device='cuda:0')\n",
      "targets tensor([0.0100, 0.0100, 0.9900, 0.9900, 0.9900, 0.9900, 0.9900, 0.9900],\n",
      "       device='cuda:0') tensor(0.4537, device='cuda:0')\n",
      "outputs tensor([0.5135, 0.5136, 0.5143, 0.5140, 0.5138, 0.5129, 0.5132, 0.5136],\n",
      "       device='cuda:0') tensor(0.0005, device='cuda:0')\n",
      "targets tensor([0.0100, 0.9900, 0.0100, 0.0100, 0.0100, 0.0100, 0.9900, 0.0100],\n",
      "       device='cuda:0') tensor(0.4537, device='cuda:0')\n",
      "outputs tensor([0.5130, 0.5135, 0.5137, 0.5134, 0.5133, 0.5135, 0.5140, 0.5136],\n",
      "       device='cuda:0') tensor(0.0003, device='cuda:0')\n",
      "targets tensor([0.0100, 0.0100, 0.9900, 0.0100, 0.0100, 0.9900, 0.0100, 0.0100],\n",
      "       device='cuda:0') tensor(0.4537, device='cuda:0')\n",
      "outputs tensor([0.5137, 0.5129, 0.5128, 0.5140, 0.5131, 0.5137, 0.5138, 0.5131],\n",
      "       device='cuda:0') tensor(0.0005, device='cuda:0')\n",
      "targets tensor([0.9900, 0.9900, 0.9900, 0.0100, 0.9900, 0.9900, 0.0100, 0.0100],\n",
      "       device='cuda:0') tensor(0.5072, device='cuda:0')\n",
      "outputs tensor([0.5134, 0.5137, 0.5135, 0.5134, 0.5139, 0.5141, 0.5138, 0.5138],\n",
      "       device='cuda:0') tensor(0.0002, device='cuda:0')\n",
      "targets tensor([0.9900, 0.0100, 0.9900, 0.0100, 0.9900, 0.9900, 0.9900, 0.9900],\n",
      "       device='cuda:0') tensor(0.4537, device='cuda:0')\n",
      "outputs tensor([0.5137, 0.5138, 0.5132, 0.5140, 0.5136, 0.5134, 0.5140, 0.5141],\n",
      "       device='cuda:0') tensor(0.0003, device='cuda:0')\n",
      "targets tensor([0.9900, 0.9900, 0.0100, 0.0100, 0.9900, 0.9900, 0.0100, 0.0100],\n",
      "       device='cuda:0') tensor(0.5238, device='cuda:0')\n",
      "outputs ep 6/15, valid_loss: 0.7153tensor([0.5133, 0.5138, 0.5140, 0.5136, 0.5137, 0.5135, 0.5139, 0.5136],\n",
      "       device='cuda:0') tensor(0.0002, device='cuda:0')\n",
      "targets tensor([0.0100, 0.9900, 0.9900, 0.9900, 0.9900, 0.0100, 0.0100, 0.0100],\n",
      "       device='cuda:0') tensor(0.5238, device='cuda:0')\n",
      "outputs tensor([0.5130, 0.5136, 0.5129, 0.5138, 0.5140, 0.5142, 0.5136, 0.5137],\n",
      "       device='cuda:0') tensor(0.0005, device='cuda:0')\n",
      "targets tensor([0.0100, 0.9900, 0.9900, 0.9900, 0.0100, 0.9900, 0.9900, 0.0100],\n",
      "       device='cuda:0') tensor(0.5072, device='cuda:0')\n",
      "outputs tensor([0.5130, 0.5133, 0.5130, 0.5136, 0.5136, 0.5139, 0.5136, 0.5131],\n",
      "       device='cuda:0') tensor(0.0004, device='cuda:0')\n",
      "targets tensor([0.0100, 0.0100, 0.0100, 0.0100, 0.9900, 0.0100, 0.0100, 0.9900],\n",
      "       device='cuda:0') tensor(0.4537, device='cuda:0')\n",
      "outputs tensor([0.5137, 0.5134, 0.5136, 0.5139, 0.5138, 0.5139, 0.5128, 0.5136],\n",
      "       device='cuda:0') tensor(0.0004, device='cuda:0')\n",
      "targets tensor([0.9900, 0.9900, 0.0100, 0.9900, 0.9900, 0.9900, 0.9900, 0.0100],\n",
      "       device='cuda:0') tensor(0.4537, device='cuda:0')\n",
      "outputs tensor([0.5138, 0.5135, 0.5135, 0.5138, 0.5136, 0.5139, 0.5133, 0.5131],\n",
      "       device='cuda:0') tensor(0.0003, device='cuda:0')\n",
      "targets tensor([0.0100, 0.0100, 0.0100, 0.9900, 0.9900, 0.9900, 0.9900, 0.9900],\n",
      "       device='cuda:0') tensor(0.5072, device='cuda:0')\n",
      "outputs tensor([0.5137, 0.5136, 0.5140, 0.5136, 0.5132, 0.5134, 0.5136, 0.5133],\n",
      "       device='cuda:0') tensor(0.0003, device='cuda:0')\n",
      "targets tensor([0.0100, 0.9900, 0.0100, 0.9900, 0.9900, 0.9900, 0.9900, 0.0100],\n",
      "       device='cuda:0') tensor(0.5072, device='cuda:0')\n",
      "outputs tensor([0.5132, 0.5137, 0.5137, 0.5134, 0.5138, 0.5138, 0.5133, 0.5136],\n",
      "       device='cuda:0') tensor(0.0002, device='cuda:0')\n",
      "targets tensor([0.9900, 0.9900, 0.9900, 0.0100, 0.0100, 0.9900, 0.0100, 0.9900],\n",
      "       device='cuda:0') tensor(0.5072, device='cuda:0')\n",
      "outputs ep 13/15, valid_loss: 0.7016tensor([0.5132, 0.5136, 0.5140, 0.5139, 0.5135, 0.5133, 0.5136, 0.5141],\n",
      "       device='cuda:0') tensor(0.0003, device='cuda:0')\n",
      "targets tensor([0.0100, 0.9900, 0.0100, 0.0100, 0.0100, 0.0100, 0.9900, 0.0100],\n",
      "       device='cuda:0') tensor(0.4537, device='cuda:0')\n",
      "outputs tensor([0.5136, 0.5142, 0.5136, 0.5145, 0.5141], device='cuda:0') tensor(0.0004, device='cuda:0')\n",
      "targets tensor([0.9900, 0.0100, 0.0100, 0.9900, 0.0100], device='cuda:0') tensor(0.5368, device='cuda:0')\n",
      "Valid Step 15/15, valid_loss: 0.7165\n",
      "[Epoch Train: 12] loss: 0.6928, time: 14.00 s            \n",
      "[Epoch Valid: 12] loss: 0.7165, auc: 0.4889, time: 2.00 s\n",
      "EPOCH: 13\n"
     ]
    },
    {
     "data": {
      "application/vnd.jupyter.widget-view+json": {
       "model_id": "aa4a2a9044c84036acd6fd71d9a6fb04",
       "version_major": 2,
       "version_minor": 0
      },
      "text/plain": [
       "HBox(children=(FloatProgress(value=0.0, max=59.0), HTML(value='')))"
      ]
     },
     "metadata": {},
     "output_type": "display_data"
    },
    {
     "name": "stdout",
     "output_type": "stream",
     "text": [
      "Train Step 59/59, train_loss: 0.6940\n"
     ]
    },
    {
     "data": {
      "application/vnd.jupyter.widget-view+json": {
       "model_id": "8d322e0bc03d404984a33d0f78befd9a",
       "version_major": 2,
       "version_minor": 0
      },
      "text/plain": [
       "HBox(children=(FloatProgress(value=0.0, max=15.0), HTML(value='')))"
      ]
     },
     "metadata": {},
     "output_type": "display_data"
    },
    {
     "name": "stdout",
     "output_type": "stream",
     "text": [
      "outputs tensor([0.5183, 0.5177, 0.5105, 0.5096, 0.5018, 0.5131, 0.5181, 0.5078],\n",
      "       device='cuda:0') tensor(0.0059, device='cuda:0')\n",
      "targets tensor([0.0100, 0.0100, 0.9900, 0.9900, 0.9900, 0.9900, 0.9900, 0.9900],\n",
      "       device='cuda:0') tensor(0.4537, device='cuda:0')\n",
      "outputs tensor([0.5179, 0.5120, 0.5039, 0.5177, 0.5088, 0.5186, 0.5182, 0.5182],\n",
      "       device='cuda:0') tensor(0.0056, device='cuda:0')\n",
      "targets tensor([0.0100, 0.9900, 0.0100, 0.0100, 0.0100, 0.0100, 0.9900, 0.0100],\n",
      "       device='cuda:0') tensor(0.4537, device='cuda:0')\n",
      "outputs tensor([0.5176, 0.5141, 0.5131, 0.5186, 0.5185, 0.5152, 0.5178, 0.5172],\n",
      "       device='cuda:0') tensor(0.0021, device='cuda:0')\n",
      "targets tensor([0.0100, 0.0100, 0.9900, 0.0100, 0.0100, 0.9900, 0.0100, 0.0100],\n",
      "       device='cuda:0') tensor(0.4537, device='cuda:0')\n",
      "outputs tensor([0.5048, 0.5182, 0.5182, 0.5177, 0.5182, 0.5116, 0.5056, 0.5091],\n",
      "       device='cuda:0') tensor(0.0059, device='cuda:0')\n",
      "targets tensor([0.9900, 0.9900, 0.9900, 0.0100, 0.9900, 0.9900, 0.0100, 0.0100],\n",
      "       device='cuda:0') tensor(0.5072, device='cuda:0')\n",
      "outputs tensor([0.5183, 0.5175, 0.5102, 0.5129, 0.5173, 0.5169, 0.5091, 0.5180],\n",
      "       device='cuda:0') tensor(0.0037, device='cuda:0')\n",
      "targets tensor([0.9900, 0.0100, 0.9900, 0.0100, 0.9900, 0.9900, 0.9900, 0.9900],\n",
      "       device='cuda:0') tensor(0.4537, device='cuda:0')\n",
      "outputs tensor([0.5180, 0.5063, 0.5176, 0.5181, 0.5170, 0.5094, 0.5183, 0.5029],\n",
      "       device='cuda:0') tensor(0.0063, device='cuda:0')\n",
      "targets tensor([0.9900, 0.9900, 0.0100, 0.0100, 0.9900, 0.9900, 0.0100, 0.0100],\n",
      "       device='cuda:0') tensor(0.5238, device='cuda:0')\n",
      "outputs tensor([0.5177, 0.5066, 0.5183, 0.5166, 0.5174, 0.5172, 0.5178, 0.5173],\n",
      "       device='cuda:0') tensor(0.0039, device='cuda:0')\n",
      "targets tensor([0.0100, 0.9900, 0.9900, 0.9900, 0.9900, 0.0100, 0.0100, 0.0100],\n",
      "       device='cuda:0') tensor(0.5238, device='cuda:0')\n",
      "outputs ep 7/15, valid_loss: 0.7173tensor([0.5185, 0.5199, 0.5185, 0.5069, 0.5152, 0.5176, 0.5153, 0.5184],\n",
      "       device='cuda:0') tensor(0.0041, device='cuda:0')\n",
      "targets tensor([0.0100, 0.9900, 0.9900, 0.9900, 0.0100, 0.9900, 0.9900, 0.0100],\n",
      "       device='cuda:0') tensor(0.5072, device='cuda:0')\n",
      "outputs tensor([0.5172, 0.5184, 0.5148, 0.5199, 0.5084, 0.5183, 0.5179, 0.5110],\n",
      "       device='cuda:0') tensor(0.0040, device='cuda:0')\n",
      "targets tensor([0.0100, 0.0100, 0.0100, 0.0100, 0.9900, 0.0100, 0.0100, 0.9900],\n",
      "       device='cuda:0') tensor(0.4537, device='cuda:0')\n",
      "outputs tensor([0.5177, 0.5102, 0.5173, 0.5060, 0.5085, 0.5068, 0.5176, 0.5183],\n",
      "       device='cuda:0') tensor(0.0054, device='cuda:0')\n",
      "targets tensor([0.9900, 0.9900, 0.0100, 0.9900, 0.9900, 0.9900, 0.9900, 0.0100],\n",
      "       device='cuda:0') tensor(0.4537, device='cuda:0')\n",
      "outputs tensor([0.5077, 0.5143, 0.5189, 0.5171, 0.5143, 0.5179, 0.5173, 0.5177],\n",
      "       device='cuda:0') tensor(0.0036, device='cuda:0')\n",
      "targets tensor([0.0100, 0.0100, 0.0100, 0.9900, 0.9900, 0.9900, 0.9900, 0.9900],\n",
      "       device='cuda:0') tensor(0.5072, device='cuda:0')\n",
      "outputs tensor([0.5176, 0.5149, 0.5176, 0.5124, 0.5188, 0.5116, 0.5149, 0.5181],\n",
      "       device='cuda:0') tensor(0.0027, device='cuda:0')\n",
      "targets tensor([0.0100, 0.9900, 0.0100, 0.9900, 0.9900, 0.9900, 0.9900, 0.0100],\n",
      "       device='cuda:0') tensor(0.5072, device='cuda:0')\n",
      "outputs tensor([0.5188, 0.5081, 0.5095, 0.5173, 0.5086, 0.5176, 0.5178, 0.5175],\n",
      "       device='cuda:0') tensor(0.0047, device='cuda:0')\n",
      "targets tensor([0.9900, 0.9900, 0.9900, 0.0100, 0.0100, 0.9900, 0.0100, 0.9900],\n",
      "       device='cuda:0') tensor(0.5072, device='cuda:0')\n",
      "outputs tensor([0.5181, 0.5144, 0.5173, 0.5135, 0.5170, 0.5188, 0.5120, 0.5044],\n",
      "       device='cuda:0') tensor(0.0047, device='cuda:0')\n",
      "targets tensor([0.0100, 0.9900, 0.0100, 0.0100, 0.0100, 0.0100, 0.9900, 0.0100],\n",
      "       device='cuda:0') tensor(0.4537, device='cuda:0')\n",
      "outputs tensor([0.5179, 0.5175, 0.5071, 0.5173, 0.5178], device='cuda:0') tensor(0.0047, device='cuda:0')\n",
      "targets tensor([0.9900, 0.0100, 0.0100, 0.9900, 0.0100], device='cuda:0') tensor(0.5368, device='cuda:0')\n",
      "Valid Step 15/15, valid_loss: 0.7171\n",
      "[Epoch Train: 13] loss: 0.6940, time: 14.00 s            \n",
      "[Epoch Valid: 13] loss: 0.7171, auc: 0.3649, time: 2.00 s\n",
      "EPOCH: 14\n"
     ]
    },
    {
     "data": {
      "application/vnd.jupyter.widget-view+json": {
       "model_id": "8f3d78f7095b46e599184150cd35d986",
       "version_major": 2,
       "version_minor": 0
      },
      "text/plain": [
       "HBox(children=(FloatProgress(value=0.0, max=59.0), HTML(value='')))"
      ]
     },
     "metadata": {},
     "output_type": "display_data"
    },
    {
     "name": "stdout",
     "output_type": "stream",
     "text": [
      "Train Step 59/59, train_loss: 0.6926\n"
     ]
    },
    {
     "data": {
      "application/vnd.jupyter.widget-view+json": {
       "model_id": "4800e4d1e7f14407ab4d564b66a0ce80",
       "version_major": 2,
       "version_minor": 0
      },
      "text/plain": [
       "HBox(children=(FloatProgress(value=0.0, max=15.0), HTML(value='')))"
      ]
     },
     "metadata": {},
     "output_type": "display_data"
    },
    {
     "name": "stdout",
     "output_type": "stream",
     "text": [
      "outputs tensor([0.5128, 0.5165, 0.5172, 0.5165, 0.5130, 0.5129, 0.5119, 0.5130],\n",
      "       device='cuda:0') tensor(0.0021, device='cuda:0')\n",
      "targets tensor([0.0100, 0.0100, 0.9900, 0.9900, 0.9900, 0.9900, 0.9900, 0.9900],\n",
      "       device='cuda:0') tensor(0.4537, device='cuda:0')\n",
      "outputs tensor([0.5163, 0.5166, 0.5165, 0.5118, 0.5128, 0.5164, 0.5130, 0.5114],\n",
      "       device='cuda:0') tensor(0.0023, device='cuda:0')\n",
      "targets tensor([0.0100, 0.9900, 0.0100, 0.0100, 0.0100, 0.0100, 0.9900, 0.0100],\n",
      "       device='cuda:0') tensor(0.4537, device='cuda:0')\n",
      "outputs tensor([0.5148, 0.5146, 0.5160, 0.5132, 0.5123, 0.5163, 0.5114, 0.5115],\n",
      "       device='cuda:0') tensor(0.0020, device='cuda:0')\n",
      "targets tensor([0.0100, 0.0100, 0.9900, 0.0100, 0.0100, 0.9900, 0.0100, 0.0100],\n",
      "       device='cuda:0') tensor(0.4537, device='cuda:0')\n",
      "outputs ep 3/15, valid_loss: 0.7676tensor([0.5151, 0.5168, 0.5161, 0.5157, 0.5139, 0.5134, 0.5133, 0.5124],\n",
      "       device='cuda:0') tensor(0.0016, device='cuda:0')\n",
      "targets tensor([0.9900, 0.9900, 0.9900, 0.0100, 0.9900, 0.9900, 0.0100, 0.0100],\n",
      "       device='cuda:0') tensor(0.5072, device='cuda:0')\n",
      "outputs tensor([0.5122, 0.5115, 0.5169, 0.5155, 0.5113, 0.5108, 0.5167, 0.5116],\n",
      "       device='cuda:0') tensor(0.0026, device='cuda:0')\n",
      "targets tensor([0.9900, 0.0100, 0.9900, 0.0100, 0.9900, 0.9900, 0.9900, 0.9900],\n",
      "       device='cuda:0') tensor(0.4537, device='cuda:0')\n",
      "outputs tensor([0.5122, 0.5158, 0.5134, 0.5130, 0.5157, 0.5133, 0.5117, 0.5162],\n",
      "       device='cuda:0') tensor(0.0017, device='cuda:0')\n",
      "targets tensor([0.9900, 0.9900, 0.0100, 0.0100, 0.9900, 0.9900, 0.0100, 0.0100],\n",
      "       device='cuda:0') tensor(0.5238, device='cuda:0')\n",
      "outputs tensor([0.5114, 0.5128, 0.5117, 0.5154, 0.5124, 0.5115, 0.5168, 0.5115],\n",
      "       device='cuda:0') tensor(0.0021, device='cuda:0')\n",
      "targets tensor([0.0100, 0.9900, 0.9900, 0.9900, 0.9900, 0.0100, 0.0100, 0.0100],\n",
      "       device='cuda:0') tensor(0.5238, device='cuda:0')\n",
      "outputs tensor([0.5166, 0.5151, 0.5126, 0.5171, 0.5139, 0.5163, 0.5135, 0.5124],\n",
      "       device='cuda:0') tensor(0.0019, device='cuda:0')\n",
      "targets tensor([0.0100, 0.9900, 0.9900, 0.9900, 0.0100, 0.9900, 0.9900, 0.0100],\n",
      "       device='cuda:0') tensor(0.5072, device='cuda:0')\n",
      "outputs tensor([0.5129, 0.5127, 0.5157, 0.5169, 0.5157, 0.5125, 0.5121, 0.5171],\n",
      "       device='cuda:0') tensor(0.0021, device='cuda:0')\n",
      "targets tensor([0.0100, 0.0100, 0.0100, 0.0100, 0.9900, 0.0100, 0.0100, 0.9900],\n",
      "       device='cuda:0') tensor(0.4537, device='cuda:0')\n",
      "outputs tensor([0.5164, 0.5174, 0.5114, 0.5151, 0.5131, 0.5155, 0.5130, 0.5120],\n",
      "       device='cuda:0') tensor(0.0021, device='cuda:0')\n",
      "targets tensor([0.9900, 0.9900, 0.0100, 0.9900, 0.9900, 0.9900, 0.9900, 0.0100],\n",
      "       device='cuda:0') tensor(0.4537, device='cuda:0')\n",
      "outputs ep 10/15, valid_loss: 0.7130tensor([0.5169, 0.5156, 0.5165, 0.5113, 0.5161, 0.5120, 0.5116, 0.5148],\n",
      "       device='cuda:0') tensor(0.0023, device='cuda:0')\n",
      "targets tensor([0.0100, 0.0100, 0.0100, 0.9900, 0.9900, 0.9900, 0.9900, 0.9900],\n",
      "       device='cuda:0') tensor(0.5072, device='cuda:0')\n",
      "outputs tensor([0.5142, 0.5162, 0.5115, 0.5162, 0.5120, 0.5175, 0.5140, 0.5133],\n",
      "       device='cuda:0') tensor(0.0021, device='cuda:0')\n",
      "targets tensor([0.0100, 0.9900, 0.0100, 0.9900, 0.9900, 0.9900, 0.9900, 0.0100],\n",
      "       device='cuda:0') tensor(0.5072, device='cuda:0')\n",
      "outputs tensor([0.5123, 0.5156, 0.5148, 0.5126, 0.5131, 0.5151, 0.5120, 0.5158],\n",
      "       device='cuda:0') tensor(0.0016, device='cuda:0')\n",
      "targets tensor([0.9900, 0.9900, 0.9900, 0.0100, 0.0100, 0.9900, 0.0100, 0.9900],\n",
      "       device='cuda:0') tensor(0.5072, device='cuda:0')\n",
      "outputs tensor([0.5122, 0.5150, 0.5164, 0.5163, 0.5150, 0.5130, 0.5150, 0.5128],\n",
      "       device='cuda:0') tensor(0.0016, device='cuda:0')\n",
      "targets tensor([0.0100, 0.9900, 0.0100, 0.0100, 0.0100, 0.0100, 0.9900, 0.0100],\n",
      "       device='cuda:0') tensor(0.4537, device='cuda:0')\n",
      "outputs tensor([0.5114, 0.5117, 0.5131, 0.5112, 0.5122], device='cuda:0') tensor(0.0008, device='cuda:0')\n",
      "targets tensor([0.9900, 0.0100, 0.0100, 0.9900, 0.0100], device='cuda:0') tensor(0.5368, device='cuda:0')\n",
      "Valid Step 15/15, valid_loss: 0.7164\n",
      "[Epoch Train: 14] loss: 0.6926, time: 15.00 s            \n",
      "[Epoch Valid: 14] loss: 0.7164, auc: 0.5943, time: 2.00 s\n",
      "EPOCH: 15\n"
     ]
    },
    {
     "data": {
      "application/vnd.jupyter.widget-view+json": {
       "model_id": "1d628937a9364b01892b03e0274048be",
       "version_major": 2,
       "version_minor": 0
      },
      "text/plain": [
       "HBox(children=(FloatProgress(value=0.0, max=59.0), HTML(value='')))"
      ]
     },
     "metadata": {},
     "output_type": "display_data"
    },
    {
     "name": "stdout",
     "output_type": "stream",
     "text": [
      "Train Step 59/59, train_loss: 0.6927\n"
     ]
    },
    {
     "data": {
      "application/vnd.jupyter.widget-view+json": {
       "model_id": "cea60dccb9a04379beb05bbb0c4806ab",
       "version_major": 2,
       "version_minor": 0
      },
      "text/plain": [
       "HBox(children=(FloatProgress(value=0.0, max=15.0), HTML(value='')))"
      ]
     },
     "metadata": {},
     "output_type": "display_data"
    },
    {
     "name": "stdout",
     "output_type": "stream",
     "text": [
      "outputs tensor([0.5113, 0.5103, 0.5105, 0.5109, 0.5110, 0.5114, 0.5112, 0.5114],\n",
      "       device='cuda:0') tensor(0.0004, device='cuda:0')\n",
      "targets tensor([0.0100, 0.0100, 0.9900, 0.9900, 0.9900, 0.9900, 0.9900, 0.9900],\n",
      "       device='cuda:0') tensor(0.4537, device='cuda:0')\n",
      "outputs tensor([0.5104, 0.5111, 0.5111, 0.5114, 0.5115, 0.5107, 0.5113, 0.5116],\n",
      "       device='cuda:0') tensor(0.0004, device='cuda:0')\n",
      "targets tensor([0.0100, 0.9900, 0.0100, 0.0100, 0.0100, 0.0100, 0.9900, 0.0100],\n",
      "       device='cuda:0') tensor(0.4537, device='cuda:0')\n",
      "outputs tensor([0.5105, 0.5111, 0.5113, 0.5114, 0.5115, 0.5104, 0.5116, 0.5115],\n",
      "       device='cuda:0') tensor(0.0005, device='cuda:0')\n",
      "targets tensor([0.0100, 0.0100, 0.9900, 0.0100, 0.0100, 0.9900, 0.0100, 0.0100],\n",
      "       device='cuda:0') tensor(0.4537, device='cuda:0')\n",
      "outputs ep 3/15, valid_loss: 0.7672tensor([0.5112, 0.5104, 0.5104, 0.5103, 0.5113, 0.5114, 0.5114, 0.5114],\n",
      "       device='cuda:0') tensor(0.0005, device='cuda:0')\n",
      "targets tensor([0.9900, 0.9900, 0.9900, 0.0100, 0.9900, 0.9900, 0.0100, 0.0100],\n",
      "       device='cuda:0') tensor(0.5072, device='cuda:0')\n",
      "outputs tensor([0.5115, 0.5116, 0.5106, 0.5112, 0.5115, 0.5117, 0.5110, 0.5116],\n",
      "       device='cuda:0') tensor(0.0004, device='cuda:0')\n",
      "targets tensor([0.9900, 0.0100, 0.9900, 0.0100, 0.9900, 0.9900, 0.9900, 0.9900],\n",
      "       device='cuda:0') tensor(0.4537, device='cuda:0')\n",
      "outputs tensor([0.5113, 0.5112, 0.5117, 0.5115, 0.5109, 0.5112, 0.5115, 0.5111],\n",
      "       device='cuda:0') tensor(0.0002, device='cuda:0')\n",
      "targets tensor([0.9900, 0.9900, 0.0100, 0.0100, 0.9900, 0.9900, 0.0100, 0.0100],\n",
      "       device='cuda:0') tensor(0.5238, device='cuda:0')\n",
      "outputs tensor([0.5116, 0.5113, 0.5116, 0.5111, 0.5109, 0.5114, 0.5101, 0.5115],\n",
      "       device='cuda:0') tensor(0.0005, device='cuda:0')\n",
      "targets tensor([0.0100, 0.9900, 0.9900, 0.9900, 0.9900, 0.0100, 0.0100, 0.0100],\n",
      "       device='cuda:0') tensor(0.5238, device='cuda:0')\n",
      "outputs tensor([0.5095, 0.5113, 0.5114, 0.5107, 0.5115, 0.5107, 0.5115, 0.5114],\n",
      "       device='cuda:0') tensor(0.0007, device='cuda:0')\n",
      "targets tensor([0.0100, 0.9900, 0.9900, 0.9900, 0.0100, 0.9900, 0.9900, 0.0100],\n",
      "       device='cuda:0') tensor(0.5072, device='cuda:0')\n",
      "outputs tensor([0.5114, 0.5113, 0.5112, 0.5098, 0.5112, 0.5113, 0.5116, 0.5104],\n",
      "       device='cuda:0') tensor(0.0006, device='cuda:0')\n",
      "targets tensor([0.0100, 0.0100, 0.0100, 0.0100, 0.9900, 0.0100, 0.0100, 0.9900],\n",
      "       device='cuda:0') tensor(0.4537, device='cuda:0')\n",
      "outputs tensor([0.5102, 0.5097, 0.5115, 0.5113, 0.5111, 0.5112, 0.5111, 0.5114],\n",
      "       device='cuda:0') tensor(0.0006, device='cuda:0')\n",
      "targets tensor([0.9900, 0.9900, 0.0100, 0.9900, 0.9900, 0.9900, 0.9900, 0.0100],\n",
      "       device='cuda:0') tensor(0.4537, device='cuda:0')\n",
      "outputs ep 10/15, valid_loss: 0.7130tensor([0.5110, 0.5112, 0.5106, 0.5116, 0.5110, 0.5116, 0.5114, 0.5096],\n",
      "       device='cuda:0') tensor(0.0007, device='cuda:0')\n",
      "targets tensor([0.0100, 0.0100, 0.0100, 0.9900, 0.9900, 0.9900, 0.9900, 0.9900],\n",
      "       device='cuda:0') tensor(0.5072, device='cuda:0')\n",
      "outputs tensor([0.5113, 0.5111, 0.5115, 0.5112, 0.5115, 0.5100, 0.5114, 0.5113],\n",
      "       device='cuda:0') tensor(0.0005, device='cuda:0')\n",
      "targets tensor([0.0100, 0.9900, 0.0100, 0.9900, 0.9900, 0.9900, 0.9900, 0.0100],\n",
      "       device='cuda:0') tensor(0.5072, device='cuda:0')\n",
      "outputs tensor([0.5116, 0.5112, 0.5113, 0.5115, 0.5113, 0.5114, 0.5116, 0.5106],\n",
      "       device='cuda:0') tensor(0.0003, device='cuda:0')\n",
      "targets tensor([0.9900, 0.9900, 0.9900, 0.0100, 0.0100, 0.9900, 0.0100, 0.9900],\n",
      "       device='cuda:0') tensor(0.5072, device='cuda:0')\n",
      "outputs tensor([0.5115, 0.5110, 0.5104, 0.5106, 0.5111, 0.5112, 0.5113, 0.5112],\n",
      "       device='cuda:0') tensor(0.0004, device='cuda:0')\n",
      "targets tensor([0.0100, 0.9900, 0.0100, 0.0100, 0.0100, 0.0100, 0.9900, 0.0100],\n",
      "       device='cuda:0') tensor(0.4537, device='cuda:0')\n",
      "outputs tensor([0.5116, 0.5114, 0.5111, 0.5115, 0.5115], device='cuda:0') tensor(0.0002, device='cuda:0')\n",
      "targets tensor([0.9900, 0.0100, 0.0100, 0.9900, 0.0100], device='cuda:0') tensor(0.5368, device='cuda:0')\n",
      "Valid Step 15/15, valid_loss: 0.7163\n",
      "[Epoch Train: 15] loss: 0.6927, time: 14.00 s            \n",
      "[Epoch Valid: 15] loss: 0.7163, auc: 0.4066, time: 2.00 s\n",
      "\n",
      "(468, 3) (117, 3)\n"
     ]
    },
    {
     "name": "stderr",
     "output_type": "stream",
     "text": [
      "/opt/conda/lib/python3.8/site-packages/pandas/core/indexing.py:1720: SettingWithCopyWarning: \n",
      "A value is trying to be set on a copy of a slice from a DataFrame.\n",
      "Try using .loc[row_indexer,col_indexer] = value instead\n",
      "\n",
      "See the caveats in the documentation: https://pandas.pydata.org/pandas-docs/stable/user_guide/indexing.html#returning-a-view-versus-a-copy\n",
      "  self._setitem_single_column(loc, value, pi)\n"
     ]
    },
    {
     "data": {
      "text/html": [
       "<div>\n",
       "<style scoped>\n",
       "    .dataframe tbody tr th:only-of-type {\n",
       "        vertical-align: middle;\n",
       "    }\n",
       "\n",
       "    .dataframe tbody tr th {\n",
       "        vertical-align: top;\n",
       "    }\n",
       "\n",
       "    .dataframe thead th {\n",
       "        text-align: right;\n",
       "    }\n",
       "</style>\n",
       "<table border=\"1\" class=\"dataframe\">\n",
       "  <thead>\n",
       "    <tr style=\"text-align: right;\">\n",
       "      <th></th>\n",
       "      <th>BraTS21ID</th>\n",
       "      <th>MGMT_value</th>\n",
       "      <th>MRI_Type</th>\n",
       "    </tr>\n",
       "  </thead>\n",
       "  <tbody>\n",
       "    <tr>\n",
       "      <th>102</th>\n",
       "      <td>154</td>\n",
       "      <td>0</td>\n",
       "      <td>T1w</td>\n",
       "    </tr>\n",
       "    <tr>\n",
       "      <th>161</th>\n",
       "      <td>240</td>\n",
       "      <td>1</td>\n",
       "      <td>T1w</td>\n",
       "    </tr>\n",
       "    <tr>\n",
       "      <th>508</th>\n",
       "      <td>740</td>\n",
       "      <td>1</td>\n",
       "      <td>T1w</td>\n",
       "    </tr>\n",
       "    <tr>\n",
       "      <th>495</th>\n",
       "      <td>725</td>\n",
       "      <td>1</td>\n",
       "      <td>T1w</td>\n",
       "    </tr>\n",
       "    <tr>\n",
       "      <th>298</th>\n",
       "      <td>432</td>\n",
       "      <td>0</td>\n",
       "      <td>T1w</td>\n",
       "    </tr>\n",
       "  </tbody>\n",
       "</table>\n",
       "</div>"
      ],
      "text/plain": [
       "     BraTS21ID  MGMT_value MRI_Type\n",
       "102        154           0      T1w\n",
       "161        240           1      T1w\n",
       "508        740           1      T1w\n",
       "495        725           1      T1w\n",
       "298        432           0      T1w"
      ]
     },
     "metadata": {},
     "output_type": "display_data"
    },
    {
     "data": {
      "application/vnd.jupyter.widget-view+json": {
       "model_id": "7b1efa8f717444f989a449b89ed8f4fd",
       "version_major": 2,
       "version_minor": 0
      },
      "text/plain": [
       "HBox(children=(FloatProgress(value=0.0, max=15.0), HTML(value='')))"
      ]
     },
     "metadata": {},
     "output_type": "display_data"
    },
    {
     "name": "stdout",
     "output_type": "stream",
     "text": [
      "EPOCH: 1\n"
     ]
    },
    {
     "data": {
      "application/vnd.jupyter.widget-view+json": {
       "model_id": "949121d3a83f4d0a91e93add226cd492",
       "version_major": 2,
       "version_minor": 0
      },
      "text/plain": [
       "HBox(children=(FloatProgress(value=0.0, max=59.0), HTML(value='')))"
      ]
     },
     "metadata": {},
     "output_type": "display_data"
    },
    {
     "name": "stdout",
     "output_type": "stream",
     "text": [
      "Train Step 59/59, train_loss: 0.9406\n"
     ]
    },
    {
     "data": {
      "application/vnd.jupyter.widget-view+json": {
       "model_id": "3b11cd122dc149918ae586f0d7415947",
       "version_major": 2,
       "version_minor": 0
      },
      "text/plain": [
       "HBox(children=(FloatProgress(value=0.0, max=15.0), HTML(value='')))"
      ]
     },
     "metadata": {},
     "output_type": "display_data"
    },
    {
     "name": "stdout",
     "output_type": "stream",
     "text": [
      "outputs tensor([0.5374, 0.5374, 0.5374, 0.5374, 0.5374, 0.5374, 0.5374, 0.5374],\n",
      "       device='cuda:0') tensor(0., device='cuda:0')\n",
      "targets tensor([0.0100, 0.0100, 0.9900, 0.9900, 0.9900, 0.9900, 0.9900, 0.9900],\n",
      "       device='cuda:0') tensor(0.4537, device='cuda:0')\n",
      "outputs tensor([0.5374, 0.5374, 0.5374, 0.5374, 0.5374, 0.5374, 0.5374, 0.5374],\n",
      "       device='cuda:0') tensor(0., device='cuda:0')\n",
      "targets tensor([0.0100, 0.9900, 0.0100, 0.0100, 0.0100, 0.0100, 0.9900, 0.0100],\n",
      "       device='cuda:0') tensor(0.4537, device='cuda:0')\n",
      "outputs tensor([0.5374, 0.5374, 0.5374, 0.5374, 0.5374, 0.5374, 0.5374, 0.5374],\n",
      "       device='cuda:0') tensor(0., device='cuda:0')\n",
      "targets tensor([0.0100, 0.0100, 0.9900, 0.0100, 0.0100, 0.9900, 0.0100, 0.0100],\n",
      "       device='cuda:0') tensor(0.4537, device='cuda:0')\n",
      "outputs tensor([0.5374, 0.5374, 0.5374, 0.5374, 0.5374, 0.5374, 0.5374, 0.5374],\n",
      "       device='cuda:0') tensor(0., device='cuda:0')\n",
      "targets tensor([0.9900, 0.9900, 0.9900, 0.0100, 0.9900, 0.9900, 0.0100, 0.0100],\n",
      "       device='cuda:0') tensor(0.5072, device='cuda:0')\n",
      "outputs tensor([0.5374, 0.5374, 0.5374, 0.5374, 0.5374, 0.5374, 0.5374, 0.5374],\n",
      "       device='cuda:0') tensor(0., device='cuda:0')\n",
      "targets tensor([0.9900, 0.0100, 0.9900, 0.0100, 0.9900, 0.9900, 0.9900, 0.9900],\n",
      "       device='cuda:0') tensor(0.4537, device='cuda:0')\n",
      "outputs tensor([0.5374, 0.5374, 0.5374, 0.5374, 0.5374, 0.5374, 0.5374, 0.5374],\n",
      "       device='cuda:0') tensor(0., device='cuda:0')\n",
      "targets tensor([0.9900, 0.9900, 0.0100, 0.0100, 0.9900, 0.9900, 0.0100, 0.0100],\n",
      "       device='cuda:0') tensor(0.5238, device='cuda:0')\n",
      "outputs ep 6/15, valid_loss: 0.7179tensor([0.5374, 0.5374, 0.5374, 0.5374, 0.5374, 0.5374, 0.5374, 0.5374],\n",
      "       device='cuda:0') tensor(0., device='cuda:0')\n",
      "targets tensor([0.0100, 0.9900, 0.9900, 0.9900, 0.9900, 0.0100, 0.0100, 0.0100],\n",
      "       device='cuda:0') tensor(0.5238, device='cuda:0')\n",
      "outputs tensor([0.5374, 0.5374, 0.5374, 0.5374, 0.5374, 0.5374, 0.5374, 0.5374],\n",
      "       device='cuda:0') tensor(0., device='cuda:0')\n",
      "targets tensor([0.0100, 0.9900, 0.9900, 0.9900, 0.0100, 0.9900, 0.9900, 0.0100],\n",
      "       device='cuda:0') tensor(0.5072, device='cuda:0')\n",
      "outputs tensor([0.5374, 0.5374, 0.5374, 0.5374, 0.5374, 0.5374, 0.5374, 0.5374],\n",
      "       device='cuda:0') tensor(0., device='cuda:0')\n",
      "targets tensor([0.0100, 0.0100, 0.0100, 0.0100, 0.9900, 0.0100, 0.0100, 0.9900],\n",
      "       device='cuda:0') tensor(0.4537, device='cuda:0')\n",
      "outputs tensor([0.5374, 0.5374, 0.5374, 0.5374, 0.5374, 0.5374, 0.5374, 0.5374],\n",
      "       device='cuda:0') tensor(0., device='cuda:0')\n",
      "targets tensor([0.9900, 0.9900, 0.0100, 0.9900, 0.9900, 0.9900, 0.9900, 0.0100],\n",
      "       device='cuda:0') tensor(0.4537, device='cuda:0')\n",
      "outputs tensor([0.5374, 0.5374, 0.5374, 0.5374, 0.5374, 0.5374, 0.5374, 0.5374],\n",
      "       device='cuda:0') tensor(0., device='cuda:0')\n",
      "targets tensor([0.0100, 0.0100, 0.0100, 0.9900, 0.9900, 0.9900, 0.9900, 0.9900],\n",
      "       device='cuda:0') tensor(0.5072, device='cuda:0')\n",
      "outputs tensor([0.5374, 0.5374, 0.5374, 0.5374, 0.5374, 0.5374, 0.5374, 0.5374],\n",
      "       device='cuda:0') tensor(0., device='cuda:0')\n",
      "targets tensor([0.0100, 0.9900, 0.0100, 0.9900, 0.9900, 0.9900, 0.9900, 0.0100],\n",
      "       device='cuda:0') tensor(0.5072, device='cuda:0')\n",
      "outputs tensor([0.5374, 0.5374, 0.5374, 0.5374, 0.5374, 0.5374, 0.5374, 0.5374],\n",
      "       device='cuda:0') tensor(0., device='cuda:0')\n",
      "targets tensor([0.9900, 0.9900, 0.9900, 0.0100, 0.0100, 0.9900, 0.0100, 0.9900],\n",
      "       device='cuda:0') tensor(0.5072, device='cuda:0')\n",
      "outputs ep 13/15, valid_loss: 0.7035tensor([0.5374, 0.5374, 0.5374, 0.5374, 0.5374, 0.5374, 0.5374, 0.5374],\n",
      "       device='cuda:0') tensor(0., device='cuda:0')\n",
      "targets tensor([0.0100, 0.9900, 0.0100, 0.0100, 0.0100, 0.0100, 0.9900, 0.0100],\n",
      "       device='cuda:0') tensor(0.4537, device='cuda:0')\n",
      "outputs tensor([0.5374, 0.5374, 0.5374, 0.5374, 0.5374], device='cuda:0') tensor(0., device='cuda:0')\n",
      "targets tensor([0.9900, 0.0100, 0.0100, 0.9900, 0.0100], device='cuda:0') tensor(0.5368, device='cuda:0')\n",
      "Valid Step 15/15, valid_loss: 0.7192\n",
      "[Epoch Train: 1] loss: 0.9406, time: 14.00 s            \n",
      "[Epoch Valid: 1] loss: 0.7192, auc: 0.5000, time: 2.00 s\n",
      "EPOCH: 2\n"
     ]
    },
    {
     "data": {
      "application/vnd.jupyter.widget-view+json": {
       "model_id": "0cf5c2f45d7e44469f23d7b6697005c7",
       "version_major": 2,
       "version_minor": 0
      },
      "text/plain": [
       "HBox(children=(FloatProgress(value=0.0, max=59.0), HTML(value='')))"
      ]
     },
     "metadata": {},
     "output_type": "display_data"
    },
    {
     "name": "stdout",
     "output_type": "stream",
     "text": [
      "Train Step 59/59, train_loss: 0.7116\n"
     ]
    },
    {
     "data": {
      "application/vnd.jupyter.widget-view+json": {
       "model_id": "58352a513e414c5b8048b521d2c89517",
       "version_major": 2,
       "version_minor": 0
      },
      "text/plain": [
       "HBox(children=(FloatProgress(value=0.0, max=15.0), HTML(value='')))"
      ]
     },
     "metadata": {},
     "output_type": "display_data"
    },
    {
     "name": "stdout",
     "output_type": "stream",
     "text": [
      "outputs tensor([0.5510, 0.5510, 0.5510, 0.5510, 0.5510, 0.5510, 0.5510, 0.5510],\n",
      "       device='cuda:0') tensor(0., device='cuda:0')\n",
      "targets tensor([0.0100, 0.0100, 0.9900, 0.9900, 0.9900, 0.9900, 0.9900, 0.9900],\n",
      "       device='cuda:0') tensor(0.4537, device='cuda:0')\n",
      "outputs tensor([0.5510, 0.5510, 0.5510, 0.5510, 0.5510, 0.5510, 0.5510, 0.5510],\n",
      "       device='cuda:0') tensor(0., device='cuda:0')\n",
      "targets tensor([0.0100, 0.9900, 0.0100, 0.0100, 0.0100, 0.0100, 0.9900, 0.0100],\n",
      "       device='cuda:0') tensor(0.4537, device='cuda:0')\n",
      "outputs tensor([0.5510, 0.5510, 0.5510, 0.5510, 0.5510, 0.5510, 0.5510, 0.5510],\n",
      "       device='cuda:0') tensor(0., device='cuda:0')\n",
      "targets tensor([0.0100, 0.0100, 0.9900, 0.0100, 0.0100, 0.9900, 0.0100, 0.0100],\n",
      "       device='cuda:0') tensor(0.4537, device='cuda:0')\n",
      "outputs tensor([0.5510, 0.5510, 0.5510, 0.5510, 0.5510, 0.5510, 0.5510, 0.5510],\n",
      "       device='cuda:0') tensor(0., device='cuda:0')\n",
      "targets tensor([0.9900, 0.9900, 0.9900, 0.0100, 0.9900, 0.9900, 0.0100, 0.0100],\n",
      "       device='cuda:0') tensor(0.5072, device='cuda:0')\n",
      "outputs tensor([0.5510, 0.5510, 0.5510, 0.5510, 0.5510, 0.5510, 0.5510, 0.5510],\n",
      "       device='cuda:0') tensor(0., device='cuda:0')\n",
      "targets tensor([0.9900, 0.0100, 0.9900, 0.0100, 0.9900, 0.9900, 0.9900, 0.9900],\n",
      "       device='cuda:0') tensor(0.4537, device='cuda:0')\n",
      "outputs tensor([0.5510, 0.5510, 0.5510, 0.5510, 0.5510, 0.5510, 0.5510, 0.5510],\n",
      "       device='cuda:0') tensor(0., device='cuda:0')\n",
      "targets tensor([0.9900, 0.9900, 0.0100, 0.0100, 0.9900, 0.9900, 0.0100, 0.0100],\n",
      "       device='cuda:0') tensor(0.5238, device='cuda:0')\n",
      "outputs tensor([0.5510, 0.5510, 0.5510, 0.5510, 0.5510, 0.5510, 0.5510, 0.5510],\n",
      "       device='cuda:0') tensor(0., device='cuda:0')\n",
      "targets tensor([0.0100, 0.9900, 0.9900, 0.9900, 0.9900, 0.0100, 0.0100, 0.0100],\n",
      "       device='cuda:0') tensor(0.5238, device='cuda:0')\n",
      "outputs tensor([0.5510, 0.5510, 0.5510, 0.5510, 0.5510, 0.5510, 0.5510, 0.5510],\n",
      "       device='cuda:0') tensor(0., device='cuda:0')\n",
      "targets tensor([0.0100, 0.9900, 0.9900, 0.9900, 0.0100, 0.9900, 0.9900, 0.0100],\n",
      "       device='cuda:0') tensor(0.5072, device='cuda:0')\n",
      "outputs tensor([0.5510, 0.5510, 0.5510, 0.5510, 0.5510, 0.5510, 0.5510, 0.5510],\n",
      "       device='cuda:0') tensor(0., device='cuda:0')\n",
      "targets tensor([0.0100, 0.0100, 0.0100, 0.0100, 0.9900, 0.0100, 0.0100, 0.9900],\n",
      "       device='cuda:0') tensor(0.4537, device='cuda:0')\n",
      "outputs ep 9/15, valid_loss: 0.7306tensor([0.5510, 0.5510, 0.5510, 0.5510, 0.5510, 0.5510, 0.5510, 0.5510],\n",
      "       device='cuda:0') tensor(0., device='cuda:0')\n",
      "targets tensor([0.9900, 0.9900, 0.0100, 0.9900, 0.9900, 0.9900, 0.9900, 0.0100],\n",
      "       device='cuda:0') tensor(0.4537, device='cuda:0')\n",
      "outputs tensor([0.5510, 0.5510, 0.5510, 0.5510, 0.5510, 0.5510, 0.5510, 0.5510],\n",
      "       device='cuda:0') tensor(0., device='cuda:0')\n",
      "targets tensor([0.0100, 0.0100, 0.0100, 0.9900, 0.9900, 0.9900, 0.9900, 0.9900],\n",
      "       device='cuda:0') tensor(0.5072, device='cuda:0')\n",
      "outputs tensor([0.5510, 0.5510, 0.5510, 0.5510, 0.5510, 0.5510, 0.5510, 0.5510],\n",
      "       device='cuda:0') tensor(0., device='cuda:0')\n",
      "targets tensor([0.0100, 0.9900, 0.0100, 0.9900, 0.9900, 0.9900, 0.9900, 0.0100],\n",
      "       device='cuda:0') tensor(0.5072, device='cuda:0')\n",
      "outputs tensor([0.5510, 0.5510, 0.5510, 0.5510, 0.5510, 0.5510, 0.5510, 0.5510],\n",
      "       device='cuda:0') tensor(0., device='cuda:0')\n",
      "targets tensor([0.9900, 0.9900, 0.9900, 0.0100, 0.0100, 0.9900, 0.0100, 0.9900],\n",
      "       device='cuda:0') tensor(0.5072, device='cuda:0')\n",
      "outputs tensor([0.5510, 0.5510, 0.5510, 0.5510, 0.5510, 0.5510, 0.5510, 0.5510],\n",
      "       device='cuda:0') tensor(0., device='cuda:0')\n",
      "targets tensor([0.0100, 0.9900, 0.0100, 0.0100, 0.0100, 0.0100, 0.9900, 0.0100],\n",
      "       device='cuda:0') tensor(0.4537, device='cuda:0')\n",
      "outputs tensor([0.5510, 0.5510, 0.5510, 0.5510, 0.5510], device='cuda:0') tensor(0., device='cuda:0')\n",
      "targets tensor([0.9900, 0.0100, 0.0100, 0.9900, 0.0100], device='cuda:0') tensor(0.5368, device='cuda:0')\n",
      "Valid Step 15/15, valid_loss: 0.7207\n",
      "[Epoch Train: 2] loss: 0.7116, time: 15.00 s            \n",
      "[Epoch Valid: 2] loss: 0.7207, auc: 0.5000, time: 2.00 s\n",
      "EPOCH: 3\n"
     ]
    },
    {
     "data": {
      "application/vnd.jupyter.widget-view+json": {
       "model_id": "5588b18a02b948d0928d7ab59069627d",
       "version_major": 2,
       "version_minor": 0
      },
      "text/plain": [
       "HBox(children=(FloatProgress(value=0.0, max=59.0), HTML(value='')))"
      ]
     },
     "metadata": {},
     "output_type": "display_data"
    },
    {
     "name": "stdout",
     "output_type": "stream",
     "text": [
      "Train Step 59/59, train_loss: 0.6983\n"
     ]
    },
    {
     "data": {
      "application/vnd.jupyter.widget-view+json": {
       "model_id": "e78f49ae64884a68a4e57cadfda4c304",
       "version_major": 2,
       "version_minor": 0
      },
      "text/plain": [
       "HBox(children=(FloatProgress(value=0.0, max=15.0), HTML(value='')))"
      ]
     },
     "metadata": {},
     "output_type": "display_data"
    },
    {
     "name": "stdout",
     "output_type": "stream",
     "text": [
      "outputs tensor([0.4789, 0.4789, 0.4789, 0.4789, 0.4789, 0.4789, 0.4789, 0.4789],\n",
      "       device='cuda:0') tensor(0., device='cuda:0')\n",
      "targets tensor([0.0100, 0.0100, 0.9900, 0.9900, 0.9900, 0.9900, 0.9900, 0.9900],\n",
      "       device='cuda:0') tensor(0.4537, device='cuda:0')\n",
      "outputs tensor([0.4789, 0.4789, 0.4789, 0.4789, 0.4789, 0.4789, 0.4789, 0.4789],\n",
      "       device='cuda:0') tensor(0., device='cuda:0')\n",
      "targets tensor([0.0100, 0.9900, 0.0100, 0.0100, 0.0100, 0.0100, 0.9900, 0.0100],\n",
      "       device='cuda:0') tensor(0.4537, device='cuda:0')\n",
      "outputs tensor([0.4789, 0.4789, 0.4789, 0.4789, 0.4789, 0.4789, 0.4789, 0.4789],\n",
      "       device='cuda:0') tensor(0., device='cuda:0')\n",
      "targets tensor([0.0100, 0.0100, 0.9900, 0.0100, 0.0100, 0.9900, 0.0100, 0.0100],\n",
      "       device='cuda:0') tensor(0.4537, device='cuda:0')\n",
      "outputs tensor([0.4789, 0.4789, 0.4789, 0.4789, 0.4789, 0.4789, 0.4789, 0.4789],\n",
      "       device='cuda:0') tensor(0., device='cuda:0')\n",
      "targets tensor([0.9900, 0.9900, 0.9900, 0.0100, 0.9900, 0.9900, 0.0100, 0.0100],\n",
      "       device='cuda:0') tensor(0.5072, device='cuda:0')\n",
      "outputs tensor([0.4789, 0.4789, 0.4789, 0.4789, 0.4789, 0.4789, 0.4789, 0.4789],\n",
      "       device='cuda:0') tensor(0., device='cuda:0')\n",
      "targets tensor([0.9900, 0.0100, 0.9900, 0.0100, 0.9900, 0.9900, 0.9900, 0.9900],\n",
      "       device='cuda:0') tensor(0.4537, device='cuda:0')\n",
      "outputs tensor([0.4789, 0.4789, 0.4789, 0.4789, 0.4789, 0.4789, 0.4789, 0.4789],\n",
      "       device='cuda:0') tensor(0., device='cuda:0')\n",
      "targets tensor([0.9900, 0.9900, 0.0100, 0.0100, 0.9900, 0.9900, 0.0100, 0.0100],\n",
      "       device='cuda:0') tensor(0.5238, device='cuda:0')\n",
      "outputs ep 6/15, valid_loss: 0.7118tensor([0.4789, 0.4789, 0.4789, 0.4789, 0.4789, 0.4789, 0.4789, 0.4789],\n",
      "       device='cuda:0') tensor(0., device='cuda:0')\n",
      "targets tensor([0.0100, 0.9900, 0.9900, 0.9900, 0.9900, 0.0100, 0.0100, 0.0100],\n",
      "       device='cuda:0') tensor(0.5238, device='cuda:0')\n",
      "outputs tensor([0.4789, 0.4789, 0.4789, 0.4789, 0.4789, 0.4789, 0.4789, 0.4789],\n",
      "       device='cuda:0') tensor(0., device='cuda:0')\n",
      "targets tensor([0.0100, 0.9900, 0.9900, 0.9900, 0.0100, 0.9900, 0.9900, 0.0100],\n",
      "       device='cuda:0') tensor(0.5072, device='cuda:0')\n",
      "outputs tensor([0.4789, 0.4789, 0.4789, 0.4789, 0.4789, 0.4789, 0.4789, 0.4789],\n",
      "       device='cuda:0') tensor(0., device='cuda:0')\n",
      "targets tensor([0.0100, 0.0100, 0.0100, 0.0100, 0.9900, 0.0100, 0.0100, 0.9900],\n",
      "       device='cuda:0') tensor(0.4537, device='cuda:0')\n",
      "outputs tensor([0.4789, 0.4789, 0.4789, 0.4789, 0.4789, 0.4789, 0.4789, 0.4789],\n",
      "       device='cuda:0') tensor(0., device='cuda:0')\n",
      "targets tensor([0.9900, 0.9900, 0.0100, 0.9900, 0.9900, 0.9900, 0.9900, 0.0100],\n",
      "       device='cuda:0') tensor(0.4537, device='cuda:0')\n",
      "outputs tensor([0.4789, 0.4789, 0.4789, 0.4789, 0.4789, 0.4789, 0.4789, 0.4789],\n",
      "       device='cuda:0') tensor(0., device='cuda:0')\n",
      "targets tensor([0.0100, 0.0100, 0.0100, 0.9900, 0.9900, 0.9900, 0.9900, 0.9900],\n",
      "       device='cuda:0') tensor(0.5072, device='cuda:0')\n",
      "outputs tensor([0.4789, 0.4789, 0.4789, 0.4789, 0.4789, 0.4789, 0.4789, 0.4789],\n",
      "       device='cuda:0') tensor(0., device='cuda:0')\n",
      "targets tensor([0.0100, 0.9900, 0.0100, 0.9900, 0.9900, 0.9900, 0.9900, 0.0100],\n",
      "       device='cuda:0') tensor(0.5072, device='cuda:0')\n",
      "outputs tensor([0.4789, 0.4789, 0.4789, 0.4789, 0.4789, 0.4789, 0.4789, 0.4789],\n",
      "       device='cuda:0') tensor(0., device='cuda:0')\n",
      "targets tensor([0.9900, 0.9900, 0.9900, 0.0100, 0.0100, 0.9900, 0.0100, 0.9900],\n",
      "       device='cuda:0') tensor(0.5072, device='cuda:0')\n",
      "outputs ep 13/15, valid_loss: 0.6990tensor([0.4789, 0.4789, 0.4789, 0.4789, 0.4789, 0.4789, 0.4789, 0.4789],\n",
      "       device='cuda:0') tensor(0., device='cuda:0')\n",
      "targets tensor([0.0100, 0.9900, 0.0100, 0.0100, 0.0100, 0.0100, 0.9900, 0.0100],\n",
      "       device='cuda:0') tensor(0.4537, device='cuda:0')\n",
      "outputs tensor([0.4789, 0.4789, 0.4789, 0.4789, 0.4789], device='cuda:0') tensor(0., device='cuda:0')\n",
      "targets tensor([0.9900, 0.0100, 0.0100, 0.9900, 0.0100], device='cuda:0') tensor(0.5368, device='cuda:0')\n",
      "Valid Step 15/15, valid_loss: 0.7129\n",
      "[Epoch Train: 3] loss: 0.6983, time: 14.00 s            \n",
      "[Epoch Valid: 3] loss: 0.7129, auc: 0.5000, time: 2.00 s\n",
      "EPOCH: 4\n"
     ]
    },
    {
     "data": {
      "application/vnd.jupyter.widget-view+json": {
       "model_id": "9d27087fca6f4bacb43b227121255024",
       "version_major": 2,
       "version_minor": 0
      },
      "text/plain": [
       "HBox(children=(FloatProgress(value=0.0, max=59.0), HTML(value='')))"
      ]
     },
     "metadata": {},
     "output_type": "display_data"
    },
    {
     "name": "stdout",
     "output_type": "stream",
     "text": [
      "Train Step 59/59, train_loss: 0.7440\n"
     ]
    },
    {
     "data": {
      "application/vnd.jupyter.widget-view+json": {
       "model_id": "cbc69ebd4d3b47e2ab2a805c99060d43",
       "version_major": 2,
       "version_minor": 0
      },
      "text/plain": [
       "HBox(children=(FloatProgress(value=0.0, max=15.0), HTML(value='')))"
      ]
     },
     "metadata": {},
     "output_type": "display_data"
    },
    {
     "name": "stdout",
     "output_type": "stream",
     "text": [
      "outputs tensor([0.5091, 0.5091, 0.5091, 0.5091, 0.5091, 0.5091, 0.5091, 0.5091],\n",
      "       device='cuda:0') tensor(4.2147e-08, device='cuda:0')\n",
      "targets tensor([0.0100, 0.0100, 0.9900, 0.9900, 0.9900, 0.9900, 0.9900, 0.9900],\n",
      "       device='cuda:0') tensor(0.4537, device='cuda:0')\n",
      "outputs tensor([0.5091, 0.5091, 0.5091, 0.5091, 0.5091, 0.5091, 0.5091, 0.5091],\n",
      "       device='cuda:0') tensor(7.6398e-08, device='cuda:0')\n",
      "targets tensor([0.0100, 0.9900, 0.0100, 0.0100, 0.0100, 0.0100, 0.9900, 0.0100],\n",
      "       device='cuda:0') tensor(0.4537, device='cuda:0')\n",
      "outputs tensor([0.5091, 0.5091, 0.5091, 0.5091, 0.5091, 0.5091, 0.5091, 0.5091],\n",
      "       device='cuda:0') tensor(6.5681e-08, device='cuda:0')\n",
      "targets tensor([0.0100, 0.0100, 0.9900, 0.0100, 0.0100, 0.9900, 0.0100, 0.0100],\n",
      "       device='cuda:0') tensor(0.4537, device='cuda:0')\n",
      "outputs ep 3/15, valid_loss: 0.7668tensor([0.5091, 0.5091, 0.5091, 0.5091, 0.5091, 0.5091, 0.5091, 0.5091],\n",
      "       device='cuda:0') tensor(6.1697e-08, device='cuda:0')\n",
      "targets tensor([0.9900, 0.9900, 0.9900, 0.0100, 0.9900, 0.9900, 0.0100, 0.0100],\n",
      "       device='cuda:0') tensor(0.5072, device='cuda:0')\n",
      "outputs tensor([0.5091, 0.5091, 0.5091, 0.5091, 0.5091, 0.5091, 0.5091, 0.5091],\n",
      "       device='cuda:0') tensor(6.9437e-08, device='cuda:0')\n",
      "targets tensor([0.9900, 0.0100, 0.9900, 0.0100, 0.9900, 0.9900, 0.9900, 0.9900],\n",
      "       device='cuda:0') tensor(0.4537, device='cuda:0')\n",
      "outputs tensor([0.5091, 0.5091, 0.5091, 0.5091, 0.5091, 0.5091, 0.5091, 0.5091],\n",
      "       device='cuda:0') tensor(1.4773e-07, device='cuda:0')\n",
      "targets tensor([0.9900, 0.9900, 0.0100, 0.0100, 0.9900, 0.9900, 0.0100, 0.0100],\n",
      "       device='cuda:0') tensor(0.5238, device='cuda:0')\n",
      "outputs tensor([0.5091, 0.5091, 0.5091, 0.5091, 0.5091, 0.5091, 0.5091, 0.5091],\n",
      "       device='cuda:0') tensor(8.5786e-08, device='cuda:0')\n",
      "targets tensor([0.0100, 0.9900, 0.9900, 0.9900, 0.9900, 0.0100, 0.0100, 0.0100],\n",
      "       device='cuda:0') tensor(0.5238, device='cuda:0')\n",
      "outputs tensor([0.5091, 0.5091, 0.5091, 0.5091, 0.5091, 0.5091, 0.5091, 0.5091],\n",
      "       device='cuda:0') tensor(5.9605e-08, device='cuda:0')\n",
      "targets tensor([0.0100, 0.9900, 0.9900, 0.9900, 0.0100, 0.9900, 0.9900, 0.0100],\n",
      "       device='cuda:0') tensor(0.5072, device='cuda:0')\n",
      "outputs tensor([0.5091, 0.5091, 0.5091, 0.5091, 0.5091, 0.5091, 0.5091, 0.5091],\n",
      "       device='cuda:0') tensor(3.9020e-08, device='cuda:0')\n",
      "targets tensor([0.0100, 0.0100, 0.0100, 0.0100, 0.9900, 0.0100, 0.0100, 0.9900],\n",
      "       device='cuda:0') tensor(0.4537, device='cuda:0')\n",
      "outputs tensor([0.5091, 0.5091, 0.5091, 0.5091, 0.5091, 0.5091, 0.5091, 0.5091],\n",
      "       device='cuda:0') tensor(6.1697e-08, device='cuda:0')\n",
      "targets tensor([0.9900, 0.9900, 0.0100, 0.9900, 0.9900, 0.9900, 0.9900, 0.0100],\n",
      "       device='cuda:0') tensor(0.4537, device='cuda:0')\n",
      "outputs ep 10/15, valid_loss: 0.7127tensor([0.5091, 0.5091, 0.5091, 0.5091, 0.5091, 0.5091, 0.5091, 0.5091],\n",
      "       device='cuda:0') tensor(7.9650e-08, device='cuda:0')\n",
      "targets tensor([0.0100, 0.0100, 0.0100, 0.9900, 0.9900, 0.9900, 0.9900, 0.9900],\n",
      "       device='cuda:0') tensor(0.5072, device='cuda:0')\n",
      "outputs tensor([0.5091, 0.5091, 0.5091, 0.5091, 0.5091, 0.5091, 0.5091, 0.5091],\n",
      "       device='cuda:0') tensor(3.1860e-08, device='cuda:0')\n",
      "targets tensor([0.0100, 0.9900, 0.0100, 0.9900, 0.9900, 0.9900, 0.9900, 0.0100],\n",
      "       device='cuda:0') tensor(0.5072, device='cuda:0')\n",
      "outputs tensor([0.5091, 0.5091, 0.5091, 0.5091, 0.5091, 0.5091, 0.5091, 0.5091],\n",
      "       device='cuda:0') tensor(7.9650e-08, device='cuda:0')\n",
      "targets tensor([0.9900, 0.9900, 0.9900, 0.0100, 0.0100, 0.9900, 0.0100, 0.9900],\n",
      "       device='cuda:0') tensor(0.5072, device='cuda:0')\n",
      "outputs tensor([0.5091, 0.5091, 0.5091, 0.5091, 0.5091, 0.5091, 0.5091, 0.5091],\n",
      "       device='cuda:0') tensor(1.0324e-07, device='cuda:0')\n",
      "targets tensor([0.0100, 0.9900, 0.0100, 0.0100, 0.0100, 0.0100, 0.9900, 0.0100],\n",
      "       device='cuda:0') tensor(0.4537, device='cuda:0')\n",
      "outputs tensor([0.5091, 0.5091, 0.5091, 0.5091, 0.5091], device='cuda:0') tensor(6.2277e-08, device='cuda:0')\n",
      "targets tensor([0.9900, 0.0100, 0.0100, 0.9900, 0.0100], device='cuda:0') tensor(0.5368, device='cuda:0')\n",
      "Valid Step 15/15, valid_loss: 0.7161\n",
      "[Epoch Train: 4] loss: 0.7440, time: 15.00 s            \n",
      "[Epoch Valid: 4] loss: 0.7161, auc: 0.4183, time: 2.00 s\n",
      "EPOCH: 5\n"
     ]
    },
    {
     "data": {
      "application/vnd.jupyter.widget-view+json": {
       "model_id": "76c2dabd897d49f9acdba00e697ee72c",
       "version_major": 2,
       "version_minor": 0
      },
      "text/plain": [
       "HBox(children=(FloatProgress(value=0.0, max=59.0), HTML(value='')))"
      ]
     },
     "metadata": {},
     "output_type": "display_data"
    },
    {
     "name": "stdout",
     "output_type": "stream",
     "text": [
      "Train Step 59/59, train_loss: 0.7054\n"
     ]
    },
    {
     "data": {
      "application/vnd.jupyter.widget-view+json": {
       "model_id": "afcedd5d9cb448378075a3b43261aa7f",
       "version_major": 2,
       "version_minor": 0
      },
      "text/plain": [
       "HBox(children=(FloatProgress(value=0.0, max=15.0), HTML(value='')))"
      ]
     },
     "metadata": {},
     "output_type": "display_data"
    },
    {
     "name": "stdout",
     "output_type": "stream",
     "text": [
      "outputs tensor([0.4797, 0.4800, 0.4799, 0.4803, 0.4802, 0.4801, 0.4802, 0.4801],\n",
      "       device='cuda:0') tensor(0.0002, device='cuda:0')\n",
      "targets tensor([0.0100, 0.0100, 0.9900, 0.9900, 0.9900, 0.9900, 0.9900, 0.9900],\n",
      "       device='cuda:0') tensor(0.4537, device='cuda:0')\n",
      "outputs tensor([0.4804, 0.4802, 0.4801, 0.4800, 0.4804, 0.4802, 0.4801, 0.4802],\n",
      "       device='cuda:0') tensor(0.0001, device='cuda:0')\n",
      "targets tensor([0.0100, 0.9900, 0.0100, 0.0100, 0.0100, 0.0100, 0.9900, 0.0100],\n",
      "       device='cuda:0') tensor(0.4537, device='cuda:0')\n",
      "outputs tensor([0.4796, 0.4801, 0.4801, 0.4800, 0.4802, 0.4803, 0.4799, 0.4800],\n",
      "       device='cuda:0') tensor(0.0002, device='cuda:0')\n",
      "targets tensor([0.0100, 0.0100, 0.9900, 0.0100, 0.0100, 0.9900, 0.0100, 0.0100],\n",
      "       device='cuda:0') tensor(0.4537, device='cuda:0')\n",
      "outputs tensor([0.4803, 0.4803, 0.4803, 0.4798, 0.4799, 0.4803, 0.4802, 0.4802],\n",
      "       device='cuda:0') tensor(0.0002, device='cuda:0')\n",
      "targets tensor([0.9900, 0.9900, 0.9900, 0.0100, 0.9900, 0.9900, 0.0100, 0.0100],\n",
      "       device='cuda:0') tensor(0.5072, device='cuda:0')\n",
      "outputs tensor([0.4802, 0.4801, 0.4801, 0.4802, 0.4796, 0.4796, 0.4801, 0.4799],\n",
      "       device='cuda:0') tensor(0.0002, device='cuda:0')\n",
      "targets tensor([0.9900, 0.0100, 0.9900, 0.0100, 0.9900, 0.9900, 0.9900, 0.9900],\n",
      "       device='cuda:0') tensor(0.4537, device='cuda:0')\n",
      "outputs tensor([0.4800, 0.4804, 0.4802, 0.4799, 0.4801, 0.4802, 0.4799, 0.4802],\n",
      "       device='cuda:0') tensor(0.0002, device='cuda:0')\n",
      "targets tensor([0.9900, 0.9900, 0.0100, 0.0100, 0.9900, 0.9900, 0.0100, 0.0100],\n",
      "       device='cuda:0') tensor(0.5238, device='cuda:0')\n",
      "outputs tensor([0.4801, 0.4804, 0.4800, 0.4801, 0.4802, 0.4800, 0.4802, 0.4799],\n",
      "       device='cuda:0') tensor(0.0001, device='cuda:0')\n",
      "targets tensor([0.0100, 0.9900, 0.9900, 0.9900, 0.9900, 0.0100, 0.0100, 0.0100],\n",
      "       device='cuda:0') tensor(0.5238, device='cuda:0')\n",
      "outputs ep 7/15, valid_loss: 0.7133tensor([0.4799, 0.4803, 0.4800, 0.4800, 0.4801, 0.4796, 0.4804, 0.4805],\n",
      "       device='cuda:0') tensor(0.0003, device='cuda:0')\n",
      "targets tensor([0.0100, 0.9900, 0.9900, 0.9900, 0.0100, 0.9900, 0.9900, 0.0100],\n",
      "       device='cuda:0') tensor(0.5072, device='cuda:0')\n",
      "outputs tensor([0.4801, 0.4797, 0.4802, 0.4803, 0.4803, 0.4801, 0.4800, 0.4803],\n",
      "       device='cuda:0') tensor(0.0002, device='cuda:0')\n",
      "targets tensor([0.0100, 0.0100, 0.0100, 0.0100, 0.9900, 0.0100, 0.0100, 0.9900],\n",
      "       device='cuda:0') tensor(0.4537, device='cuda:0')\n",
      "outputs tensor([0.4803, 0.4803, 0.4797, 0.4799, 0.4803, 0.4803, 0.4802, 0.4800],\n",
      "       device='cuda:0') tensor(0.0002, device='cuda:0')\n",
      "targets tensor([0.9900, 0.9900, 0.0100, 0.9900, 0.9900, 0.9900, 0.9900, 0.0100],\n",
      "       device='cuda:0') tensor(0.4537, device='cuda:0')\n",
      "outputs tensor([0.4803, 0.4800, 0.4805, 0.4799, 0.4801, 0.4801, 0.4801, 0.4801],\n",
      "       device='cuda:0') tensor(0.0002, device='cuda:0')\n",
      "targets tensor([0.0100, 0.0100, 0.0100, 0.9900, 0.9900, 0.9900, 0.9900, 0.9900],\n",
      "       device='cuda:0') tensor(0.5072, device='cuda:0')\n",
      "outputs tensor([0.4801, 0.4802, 0.4799, 0.4799, 0.4801, 0.4801, 0.4803, 0.4800],\n",
      "       device='cuda:0') tensor(0.0001, device='cuda:0')\n",
      "targets tensor([0.0100, 0.9900, 0.0100, 0.9900, 0.9900, 0.9900, 0.9900, 0.0100],\n",
      "       device='cuda:0') tensor(0.5072, device='cuda:0')\n",
      "outputs tensor([0.4805, 0.4803, 0.4803, 0.4800, 0.4801, 0.4801, 0.4800, 0.4799],\n",
      "       device='cuda:0') tensor(0.0002, device='cuda:0')\n",
      "targets tensor([0.9900, 0.9900, 0.9900, 0.0100, 0.0100, 0.9900, 0.0100, 0.9900],\n",
      "       device='cuda:0') tensor(0.5072, device='cuda:0')\n",
      "outputs tensor([0.4801, 0.4801, 0.4798, 0.4804, 0.4802, 0.4801, 0.4804, 0.4802],\n",
      "       device='cuda:0') tensor(0.0002, device='cuda:0')\n",
      "targets tensor([0.0100, 0.9900, 0.0100, 0.0100, 0.0100, 0.0100, 0.9900, 0.0100],\n",
      "       device='cuda:0') tensor(0.4537, device='cuda:0')\n",
      "outputs tensor([0.4800, 0.4802, 0.4799, 0.4795, 0.4796], device='cuda:0') tensor(0.0003, device='cuda:0')\n",
      "targets tensor([0.9900, 0.0100, 0.0100, 0.9900, 0.0100], device='cuda:0') tensor(0.5368, device='cuda:0')\n",
      "Valid Step 15/15, valid_loss: 0.7130\n",
      "[Epoch Train: 5] loss: 0.7054, time: 15.00 s            \n",
      "[Epoch Valid: 5] loss: 0.7130, auc: 0.6169, time: 2.00 s\n",
      "auc improved from inf to 0.7130. Saved model to '/home/RSNA_MICCAI_Brain_Tumor/models/T1w-e5-loss0.713-auc0.617.pth'\n",
      "EPOCH: 6\n"
     ]
    },
    {
     "data": {
      "application/vnd.jupyter.widget-view+json": {
       "model_id": "ec1b25964563429cbc1a971ab1d2258a",
       "version_major": 2,
       "version_minor": 0
      },
      "text/plain": [
       "HBox(children=(FloatProgress(value=0.0, max=59.0), HTML(value='')))"
      ]
     },
     "metadata": {},
     "output_type": "display_data"
    },
    {
     "name": "stdout",
     "output_type": "stream",
     "text": [
      "Train Step 59/59, train_loss: 0.7117\n"
     ]
    },
    {
     "data": {
      "application/vnd.jupyter.widget-view+json": {
       "model_id": "42881ed8f64d4b3fa751f2e3b1ea8ca2",
       "version_major": 2,
       "version_minor": 0
      },
      "text/plain": [
       "HBox(children=(FloatProgress(value=0.0, max=15.0), HTML(value='')))"
      ]
     },
     "metadata": {},
     "output_type": "display_data"
    },
    {
     "name": "stdout",
     "output_type": "stream",
     "text": [
      "outputs tensor([0.5308, 0.5387, 0.5339, 0.5410, 0.5403, 0.5386, 0.5405, 0.5395],\n",
      "       device='cuda:0') tensor(0.0036, device='cuda:0')\n",
      "targets tensor([0.0100, 0.0100, 0.9900, 0.9900, 0.9900, 0.9900, 0.9900, 0.9900],\n",
      "       device='cuda:0') tensor(0.4537, device='cuda:0')\n",
      "outputs tensor([0.5405, 0.5400, 0.5361, 0.5388, 0.5406, 0.5376, 0.5393, 0.5406],\n",
      "       device='cuda:0') tensor(0.0016, device='cuda:0')\n",
      "targets tensor([0.0100, 0.9900, 0.0100, 0.0100, 0.0100, 0.0100, 0.9900, 0.0100],\n",
      "       device='cuda:0') tensor(0.4537, device='cuda:0')\n",
      "outputs tensor([0.5311, 0.5385, 0.5386, 0.5353, 0.5411, 0.5408, 0.5373, 0.5395],\n",
      "       device='cuda:0') tensor(0.0033, device='cuda:0')\n",
      "targets tensor([0.0100, 0.0100, 0.9900, 0.0100, 0.0100, 0.9900, 0.0100, 0.0100],\n",
      "       device='cuda:0') tensor(0.4537, device='cuda:0')\n",
      "outputs tensor([0.5405, 0.5394, 0.5408, 0.5374, 0.5387, 0.5406, 0.5398, 0.5382],\n",
      "       device='cuda:0') tensor(0.0012, device='cuda:0')\n",
      "targets tensor([0.9900, 0.9900, 0.9900, 0.0100, 0.9900, 0.9900, 0.0100, 0.0100],\n",
      "       device='cuda:0') tensor(0.5072, device='cuda:0')\n",
      "outputs tensor([0.5403, 0.5393, 0.5379, 0.5394, 0.5269, 0.5331, 0.5396, 0.5374],\n",
      "       device='cuda:0') tensor(0.0046, device='cuda:0')\n",
      "targets tensor([0.9900, 0.0100, 0.9900, 0.0100, 0.9900, 0.9900, 0.9900, 0.9900],\n",
      "       device='cuda:0') tensor(0.4537, device='cuda:0')\n",
      "outputs tensor([0.5384, 0.5402, 0.5399, 0.5355, 0.5395, 0.5385, 0.5359, 0.5409],\n",
      "       device='cuda:0') tensor(0.0020, device='cuda:0')\n",
      "targets tensor([0.9900, 0.9900, 0.0100, 0.0100, 0.9900, 0.9900, 0.0100, 0.0100],\n",
      "       device='cuda:0') tensor(0.5238, device='cuda:0')\n",
      "outputs ep 6/15, valid_loss: 0.7178tensor([0.5388, 0.5410, 0.5398, 0.5396, 0.5400, 0.5375, 0.5401, 0.5373],\n",
      "       device='cuda:0') tensor(0.0013, device='cuda:0')\n",
      "targets tensor([0.0100, 0.9900, 0.9900, 0.9900, 0.9900, 0.0100, 0.0100, 0.0100],\n",
      "       device='cuda:0') tensor(0.5238, device='cuda:0')\n",
      "outputs tensor([0.5356, 0.5395, 0.5384, 0.5348, 0.5395, 0.5253, 0.5403, 0.5404],\n",
      "       device='cuda:0') tensor(0.0051, device='cuda:0')\n",
      "targets tensor([0.0100, 0.9900, 0.9900, 0.9900, 0.0100, 0.9900, 0.9900, 0.0100],\n",
      "       device='cuda:0') tensor(0.5072, device='cuda:0')\n",
      "outputs tensor([0.5383, 0.5291, 0.5392, 0.5410, 0.5399, 0.5395, 0.5390, 0.5401],\n",
      "       device='cuda:0') tensor(0.0038, device='cuda:0')\n",
      "targets tensor([0.0100, 0.0100, 0.0100, 0.0100, 0.9900, 0.0100, 0.0100, 0.9900],\n",
      "       device='cuda:0') tensor(0.4537, device='cuda:0')\n",
      "outputs tensor([0.5407, 0.5408, 0.5327, 0.5337, 0.5399, 0.5407, 0.5400, 0.5388],\n",
      "       device='cuda:0') tensor(0.0033, device='cuda:0')\n",
      "targets tensor([0.9900, 0.9900, 0.0100, 0.9900, 0.9900, 0.9900, 0.9900, 0.0100],\n",
      "       device='cuda:0') tensor(0.4537, device='cuda:0')\n",
      "outputs tensor([0.5390, 0.5379, 0.5403, 0.5380, 0.5393, 0.5394, 0.5392, 0.5409],\n",
      "       device='cuda:0') tensor(0.0010, device='cuda:0')\n",
      "targets tensor([0.0100, 0.0100, 0.0100, 0.9900, 0.9900, 0.9900, 0.9900, 0.9900],\n",
      "       device='cuda:0') tensor(0.5072, device='cuda:0')\n",
      "outputs tensor([0.5384, 0.5386, 0.5381, 0.5339, 0.5408, 0.5386, 0.5410, 0.5392],\n",
      "       device='cuda:0') tensor(0.0022, device='cuda:0')\n",
      "targets tensor([0.0100, 0.9900, 0.0100, 0.9900, 0.9900, 0.9900, 0.9900, 0.0100],\n",
      "       device='cuda:0') tensor(0.5072, device='cuda:0')\n",
      "outputs tensor([0.5405, 0.5392, 0.5400, 0.5378, 0.5400, 0.5400, 0.5365, 0.5356],\n",
      "       device='cuda:0') tensor(0.0019, device='cuda:0')\n",
      "targets tensor([0.9900, 0.9900, 0.9900, 0.0100, 0.0100, 0.9900, 0.0100, 0.9900],\n",
      "       device='cuda:0') tensor(0.5072, device='cuda:0')\n",
      "outputs ep 13/15, valid_loss: 0.7034tensor([0.5381, 0.5392, 0.5340, 0.5407, 0.5388, 0.5362, 0.5399, 0.5402],\n",
      "       device='cuda:0') tensor(0.0023, device='cuda:0')\n",
      "targets tensor([0.0100, 0.9900, 0.0100, 0.0100, 0.0100, 0.0100, 0.9900, 0.0100],\n",
      "       device='cuda:0') tensor(0.4537, device='cuda:0')\n",
      "outputs tensor([0.5383, 0.5405, 0.5324, 0.5269, 0.5289], device='cuda:0') tensor(0.0059, device='cuda:0')\n",
      "targets tensor([0.9900, 0.0100, 0.0100, 0.9900, 0.0100], device='cuda:0') tensor(0.5368, device='cuda:0')\n",
      "Valid Step 15/15, valid_loss: 0.7191\n",
      "[Epoch Train: 6] loss: 0.7117, time: 15.00 s            \n",
      "[Epoch Valid: 6] loss: 0.7191, auc: 0.6265, time: 2.00 s\n",
      "EPOCH: 7\n"
     ]
    },
    {
     "data": {
      "application/vnd.jupyter.widget-view+json": {
       "model_id": "d129ecc1607e487a96b98ec3bb2b2b04",
       "version_major": 2,
       "version_minor": 0
      },
      "text/plain": [
       "HBox(children=(FloatProgress(value=0.0, max=59.0), HTML(value='')))"
      ]
     },
     "metadata": {},
     "output_type": "display_data"
    },
    {
     "name": "stdout",
     "output_type": "stream",
     "text": [
      "Train Step 59/59, train_loss: 0.7046\n"
     ]
    },
    {
     "data": {
      "application/vnd.jupyter.widget-view+json": {
       "model_id": "1c61ac3156564b84bcc2a6a9b25e2572",
       "version_major": 2,
       "version_minor": 0
      },
      "text/plain": [
       "HBox(children=(FloatProgress(value=0.0, max=15.0), HTML(value='')))"
      ]
     },
     "metadata": {},
     "output_type": "display_data"
    },
    {
     "name": "stdout",
     "output_type": "stream",
     "text": [
      "outputs tensor([0.5418, 0.5356, 0.5421, 0.5302, 0.5331, 0.5370, 0.5311, 0.5337],\n",
      "       device='cuda:0') tensor(0.0045, device='cuda:0')\n",
      "targets tensor([0.0100, 0.0100, 0.9900, 0.9900, 0.9900, 0.9900, 0.9900, 0.9900],\n",
      "       device='cuda:0') tensor(0.4537, device='cuda:0')\n",
      "outputs tensor([0.5318, 0.5346, 0.5400, 0.5349, 0.5312, 0.5382, 0.5365, 0.5306],\n",
      "       device='cuda:0') tensor(0.0034, device='cuda:0')\n",
      "targets tensor([0.0100, 0.9900, 0.0100, 0.0100, 0.0100, 0.0100, 0.9900, 0.0100],\n",
      "       device='cuda:0') tensor(0.4537, device='cuda:0')\n",
      "outputs tensor([0.5413, 0.5378, 0.5369, 0.5392, 0.5291, 0.5301, 0.5379, 0.5334],\n",
      "       device='cuda:0') tensor(0.0044, device='cuda:0')\n",
      "targets tensor([0.0100, 0.0100, 0.9900, 0.0100, 0.0100, 0.9900, 0.0100, 0.0100],\n",
      "       device='cuda:0') tensor(0.4537, device='cuda:0')\n",
      "outputs tensor([0.5309, 0.5350, 0.5302, 0.5379, 0.5392, 0.5322, 0.5346, 0.5365],\n",
      "       device='cuda:0') tensor(0.0033, device='cuda:0')\n",
      "targets tensor([0.9900, 0.9900, 0.9900, 0.0100, 0.9900, 0.9900, 0.0100, 0.0100],\n",
      "       device='cuda:0') tensor(0.5072, device='cuda:0')\n",
      "outputs tensor([0.5325, 0.5341, 0.5382, 0.5368, 0.5415, 0.5375, 0.5371, 0.5366],\n",
      "       device='cuda:0') tensor(0.0027, device='cuda:0')\n",
      "targets tensor([0.9900, 0.0100, 0.9900, 0.0100, 0.9900, 0.9900, 0.9900, 0.9900],\n",
      "       device='cuda:0') tensor(0.4537, device='cuda:0')\n",
      "outputs tensor([0.5354, 0.5342, 0.5324, 0.5323, 0.5317, 0.5382, 0.5400, 0.5302],\n",
      "       device='cuda:0') tensor(0.0034, device='cuda:0')\n",
      "targets tensor([0.9900, 0.9900, 0.0100, 0.0100, 0.9900, 0.9900, 0.0100, 0.0100],\n",
      "       device='cuda:0') tensor(0.5238, device='cuda:0')\n",
      "outputs ep 6/15, valid_loss: 0.7177tensor([0.5344, 0.5310, 0.5335, 0.5350, 0.5288, 0.5370, 0.5321, 0.5380],\n",
      "       device='cuda:0') tensor(0.0031, device='cuda:0')\n",
      "targets tensor([0.0100, 0.9900, 0.9900, 0.9900, 0.9900, 0.0100, 0.0100, 0.0100],\n",
      "       device='cuda:0') tensor(0.5238, device='cuda:0')\n",
      "outputs tensor([0.5398, 0.5352, 0.5354, 0.5418, 0.5365, 0.5418, 0.5308, 0.5296],\n",
      "       device='cuda:0') tensor(0.0046, device='cuda:0')\n",
      "targets tensor([0.0100, 0.9900, 0.9900, 0.9900, 0.0100, 0.9900, 0.9900, 0.0100],\n",
      "       device='cuda:0') tensor(0.5072, device='cuda:0')\n",
      "outputs tensor([0.5378, 0.5421, 0.5365, 0.5301, 0.5349, 0.5331, 0.5338, 0.5315],\n",
      "       device='cuda:0') tensor(0.0038, device='cuda:0')\n",
      "targets tensor([0.0100, 0.0100, 0.0100, 0.0100, 0.9900, 0.0100, 0.0100, 0.9900],\n",
      "       device='cuda:0') tensor(0.4537, device='cuda:0')\n",
      "outputs tensor([0.5300, 0.5297, 0.5416, 0.5415, 0.5337, 0.5310, 0.5332, 0.5340],\n",
      "       device='cuda:0') tensor(0.0048, device='cuda:0')\n",
      "targets tensor([0.9900, 0.9900, 0.0100, 0.9900, 0.9900, 0.9900, 0.9900, 0.0100],\n",
      "       device='cuda:0') tensor(0.4537, device='cuda:0')\n",
      "outputs tensor([0.5375, 0.5327, 0.5292, 0.5358, 0.5358, 0.5351, 0.5345, 0.5299],\n",
      "       device='cuda:0') tensor(0.0030, device='cuda:0')\n",
      "targets tensor([0.0100, 0.0100, 0.0100, 0.9900, 0.9900, 0.9900, 0.9900, 0.9900],\n",
      "       device='cuda:0') tensor(0.5072, device='cuda:0')\n",
      "outputs tensor([0.5352, 0.5370, 0.5373, 0.5416, 0.5310, 0.5377, 0.5296, 0.5348],\n",
      "       device='cuda:0') tensor(0.0038, device='cuda:0')\n",
      "targets tensor([0.0100, 0.9900, 0.0100, 0.9900, 0.9900, 0.9900, 0.9900, 0.0100],\n",
      "       device='cuda:0') tensor(0.5072, device='cuda:0')\n",
      "outputs tensor([0.5298, 0.5365, 0.5353, 0.5357, 0.5323, 0.5336, 0.5386, 0.5387],\n",
      "       device='cuda:0') tensor(0.0031, device='cuda:0')\n",
      "targets tensor([0.9900, 0.9900, 0.9900, 0.0100, 0.0100, 0.9900, 0.0100, 0.9900],\n",
      "       device='cuda:0') tensor(0.5072, device='cuda:0')\n",
      "outputs ep 13/15, valid_loss: 0.7035tensor([0.5358, 0.5358, 0.5351, 0.5294, 0.5366, 0.5400, 0.5346, 0.5313],\n",
      "       device='cuda:0') tensor(0.0032, device='cuda:0')\n",
      "targets tensor([0.0100, 0.9900, 0.0100, 0.0100, 0.0100, 0.0100, 0.9900, 0.0100],\n",
      "       device='cuda:0') tensor(0.4537, device='cuda:0')\n",
      "outputs tensor([0.5355, 0.5301, 0.5419, 0.5421, 0.5427], device='cuda:0') tensor(0.0055, device='cuda:0')\n",
      "targets tensor([0.9900, 0.0100, 0.0100, 0.9900, 0.0100], device='cuda:0') tensor(0.5368, device='cuda:0')\n",
      "Valid Step 15/15, valid_loss: 0.7191\n",
      "[Epoch Train: 7] loss: 0.7046, time: 15.00 s            \n",
      "[Epoch Valid: 7] loss: 0.7191, auc: 0.4417, time: 2.00 s\n",
      "EPOCH: 8\n"
     ]
    },
    {
     "data": {
      "application/vnd.jupyter.widget-view+json": {
       "model_id": "dea299441fb743af8120ce42d90dec10",
       "version_major": 2,
       "version_minor": 0
      },
      "text/plain": [
       "HBox(children=(FloatProgress(value=0.0, max=59.0), HTML(value='')))"
      ]
     },
     "metadata": {},
     "output_type": "display_data"
    },
    {
     "name": "stdout",
     "output_type": "stream",
     "text": [
      "Train Step 59/59, train_loss: 0.7089\n"
     ]
    },
    {
     "data": {
      "application/vnd.jupyter.widget-view+json": {
       "model_id": "fa3ce8e165ca4b73af27ed8bb74e5f2d",
       "version_major": 2,
       "version_minor": 0
      },
      "text/plain": [
       "HBox(children=(FloatProgress(value=0.0, max=15.0), HTML(value='')))"
      ]
     },
     "metadata": {},
     "output_type": "display_data"
    },
    {
     "name": "stdout",
     "output_type": "stream",
     "text": [
      "outputs tensor([0.4968, 0.4968, 0.4968, 0.4969, 0.4969, 0.4968, 0.4968, 0.4968],\n",
      "       device='cuda:0') tensor(3.6998e-05, device='cuda:0')\n",
      "targets tensor([0.0100, 0.0100, 0.9900, 0.9900, 0.9900, 0.9900, 0.9900, 0.9900],\n",
      "       device='cuda:0') tensor(0.4537, device='cuda:0')\n",
      "outputs tensor([0.4968, 0.4970, 0.4969, 0.4968, 0.4969, 0.4968, 0.4970, 0.4969],\n",
      "       device='cuda:0') tensor(5.9995e-05, device='cuda:0')\n",
      "targets tensor([0.0100, 0.9900, 0.0100, 0.0100, 0.0100, 0.0100, 0.9900, 0.0100],\n",
      "       device='cuda:0') tensor(0.4537, device='cuda:0')\n",
      "outputs tensor([0.4969, 0.4968, 0.4968, 0.4968, 0.4968, 0.4968, 0.4968, 0.4968],\n",
      "       device='cuda:0') tensor(2.6264e-05, device='cuda:0')\n",
      "targets tensor([0.0100, 0.0100, 0.9900, 0.0100, 0.0100, 0.9900, 0.0100, 0.0100],\n",
      "       device='cuda:0') tensor(0.4537, device='cuda:0')\n",
      "outputs ep 3/15, valid_loss: 0.7643tensor([0.4968, 0.4968, 0.4969, 0.4970, 0.4977, 0.4968, 0.4968, 0.4968],\n",
      "       device='cuda:0') tensor(0.0003, device='cuda:0')\n",
      "targets tensor([0.9900, 0.9900, 0.9900, 0.0100, 0.9900, 0.9900, 0.0100, 0.0100],\n",
      "       device='cuda:0') tensor(0.5072, device='cuda:0')\n",
      "outputs tensor([0.4969, 0.4968, 0.4968, 0.4968, 0.4970, 0.4967, 0.4971, 0.4968],\n",
      "       device='cuda:0') tensor(0.0001, device='cuda:0')\n",
      "targets tensor([0.9900, 0.0100, 0.9900, 0.0100, 0.9900, 0.9900, 0.9900, 0.9900],\n",
      "       device='cuda:0') tensor(0.4537, device='cuda:0')\n",
      "outputs tensor([0.4968, 0.4968, 0.4968, 0.4967, 0.4968, 0.4968, 0.4968, 0.4968],\n",
      "       device='cuda:0') tensor(4.2989e-05, device='cuda:0')\n",
      "targets tensor([0.9900, 0.9900, 0.0100, 0.0100, 0.9900, 0.9900, 0.0100, 0.0100],\n",
      "       device='cuda:0') tensor(0.5238, device='cuda:0')\n",
      "outputs tensor([0.4968, 0.4968, 0.4969, 0.4968, 0.4967, 0.4968, 0.4968, 0.4968],\n",
      "       device='cuda:0') tensor(4.8852e-05, device='cuda:0')\n",
      "targets tensor([0.0100, 0.9900, 0.9900, 0.9900, 0.9900, 0.0100, 0.0100, 0.0100],\n",
      "       device='cuda:0') tensor(0.5238, device='cuda:0')\n",
      "outputs tensor([0.4969, 0.4968, 0.4969, 0.4970, 0.4970, 0.4968, 0.4968, 0.4968],\n",
      "       device='cuda:0') tensor(8.3754e-05, device='cuda:0')\n",
      "targets tensor([0.0100, 0.9900, 0.9900, 0.9900, 0.0100, 0.9900, 0.9900, 0.0100],\n",
      "       device='cuda:0') tensor(0.5072, device='cuda:0')\n",
      "outputs tensor([0.4969, 0.4969, 0.4968, 0.4969, 0.4968, 0.4968, 0.4968, 0.4968],\n",
      "       device='cuda:0') tensor(4.3244e-05, device='cuda:0')\n",
      "targets tensor([0.0100, 0.0100, 0.0100, 0.0100, 0.9900, 0.0100, 0.0100, 0.9900],\n",
      "       device='cuda:0') tensor(0.4537, device='cuda:0')\n",
      "outputs tensor([0.4968, 0.4968, 0.4968, 0.4969, 0.4968, 0.4968, 0.4968, 0.4968],\n",
      "       device='cuda:0') tensor(3.6610e-05, device='cuda:0')\n",
      "targets tensor([0.9900, 0.9900, 0.0100, 0.9900, 0.9900, 0.9900, 0.9900, 0.0100],\n",
      "       device='cuda:0') tensor(0.4537, device='cuda:0')\n",
      "outputs ep 10/15, valid_loss: 0.7115tensor([0.4968, 0.4967, 0.4967, 0.4968, 0.4968, 0.4968, 0.4968, 0.4969],\n",
      "       device='cuda:0') tensor(7.2359e-05, device='cuda:0')\n",
      "targets tensor([0.0100, 0.0100, 0.0100, 0.9900, 0.9900, 0.9900, 0.9900, 0.9900],\n",
      "       device='cuda:0') tensor(0.5072, device='cuda:0')\n",
      "outputs tensor([0.4968, 0.4968, 0.4969, 0.4968, 0.4969, 0.4968, 0.4969, 0.4969],\n",
      "       device='cuda:0') tensor(4.6368e-05, device='cuda:0')\n",
      "targets tensor([0.0100, 0.9900, 0.0100, 0.9900, 0.9900, 0.9900, 0.9900, 0.0100],\n",
      "       device='cuda:0') tensor(0.5072, device='cuda:0')\n",
      "outputs tensor([0.4968, 0.4968, 0.4969, 0.4968, 0.4969, 0.4969, 0.4968, 0.4968],\n",
      "       device='cuda:0') tensor(5.5946e-05, device='cuda:0')\n",
      "targets tensor([0.9900, 0.9900, 0.9900, 0.0100, 0.0100, 0.9900, 0.0100, 0.9900],\n",
      "       device='cuda:0') tensor(0.5072, device='cuda:0')\n",
      "outputs tensor([0.4968, 0.4968, 0.4967, 0.4968, 0.4968, 0.4969, 0.4968, 0.4968],\n",
      "       device='cuda:0') tensor(5.7156e-05, device='cuda:0')\n",
      "targets tensor([0.0100, 0.9900, 0.0100, 0.0100, 0.0100, 0.0100, 0.9900, 0.0100],\n",
      "       device='cuda:0') tensor(0.4537, device='cuda:0')\n",
      "outputs tensor([0.4968, 0.4970, 0.4968, 0.4968, 0.4968], device='cuda:0') tensor(8.5170e-05, device='cuda:0')\n",
      "targets tensor([0.9900, 0.0100, 0.0100, 0.9900, 0.0100], device='cuda:0') tensor(0.5368, device='cuda:0')\n",
      "Valid Step 15/15, valid_loss: 0.7148\n",
      "[Epoch Train: 8] loss: 0.7089, time: 15.00 s            \n",
      "[Epoch Valid: 8] loss: 0.7148, auc: 0.4747, time: 2.00 s\n",
      "EPOCH: 9\n"
     ]
    },
    {
     "data": {
      "application/vnd.jupyter.widget-view+json": {
       "model_id": "da2bf01688974903a1b78d7f2d5b9e36",
       "version_major": 2,
       "version_minor": 0
      },
      "text/plain": [
       "HBox(children=(FloatProgress(value=0.0, max=59.0), HTML(value='')))"
      ]
     },
     "metadata": {},
     "output_type": "display_data"
    },
    {
     "name": "stdout",
     "output_type": "stream",
     "text": [
      "Train Step 59/59, train_loss: 0.6945\n"
     ]
    },
    {
     "data": {
      "application/vnd.jupyter.widget-view+json": {
       "model_id": "b98d5aa34b9e4477946b79fa8ef548e9",
       "version_major": 2,
       "version_minor": 0
      },
      "text/plain": [
       "HBox(children=(FloatProgress(value=0.0, max=15.0), HTML(value='')))"
      ]
     },
     "metadata": {},
     "output_type": "display_data"
    },
    {
     "name": "stdout",
     "output_type": "stream",
     "text": [
      "outputs tensor([0.5322, 0.5289, 0.5317, 0.5293, 0.5322, 0.5302, 0.5294, 0.5294],\n",
      "       device='cuda:0') tensor(0.0014, device='cuda:0')\n",
      "targets tensor([0.0100, 0.0100, 0.9900, 0.9900, 0.9900, 0.9900, 0.9900, 0.9900],\n",
      "       device='cuda:0') tensor(0.4537, device='cuda:0')\n",
      "outputs tensor([0.5304, 0.5298, 0.5226, 0.5291, 0.5313, 0.5320, 0.5103, 0.5294],\n",
      "       device='cuda:0') tensor(0.0073, device='cuda:0')\n",
      "targets tensor([0.0100, 0.9900, 0.0100, 0.0100, 0.0100, 0.0100, 0.9900, 0.0100],\n",
      "       device='cuda:0') tensor(0.4537, device='cuda:0')\n",
      "outputs tensor([0.5307, 0.5320, 0.5312, 0.5308, 0.5045, 0.5297, 0.5298, 0.5290],\n",
      "       device='cuda:0') tensor(0.0092, device='cuda:0')\n",
      "targets tensor([0.0100, 0.0100, 0.9900, 0.0100, 0.0100, 0.9900, 0.0100, 0.0100],\n",
      "       device='cuda:0') tensor(0.4537, device='cuda:0')\n",
      "outputs tensor([0.5297, 0.5300, 0.5294, 0.5313, 0.0467, 0.5304, 0.5305, 0.5304],\n",
      "       device='cuda:0') tensor(0.1710, device='cuda:0')\n",
      "targets tensor([0.9900, 0.9900, 0.9900, 0.0100, 0.9900, 0.9900, 0.0100, 0.0100],\n",
      "       device='cuda:0') tensor(0.5072, device='cuda:0')\n",
      "outputs tensor([0.5310, 0.5292, 0.5303, 0.5318, 0.3981, 0.4678, 0.4737, 0.5287],\n",
      "       device='cuda:0') tensor(0.0488, device='cuda:0')\n",
      "targets tensor([0.9900, 0.0100, 0.9900, 0.0100, 0.9900, 0.9900, 0.9900, 0.9900],\n",
      "       device='cuda:0') tensor(0.4537, device='cuda:0')\n",
      "outputs tensor([0.5291, 0.5320, 0.5298, 0.5281, 0.5211, 0.5317, 0.5300, 0.5305],\n",
      "       device='cuda:0') tensor(0.0034, device='cuda:0')\n",
      "targets tensor([0.9900, 0.9900, 0.0100, 0.0100, 0.9900, 0.9900, 0.0100, 0.0100],\n",
      "       device='cuda:0') tensor(0.5238, device='cuda:0')\n",
      "outputs ep 6/15, valid_loss: 0.7230tensor([0.5291, 0.5303, 0.5290, 0.5304, 0.5323, 0.5307, 0.5287, 0.5303],\n",
      "       device='cuda:0') tensor(0.0011, device='cuda:0')\n",
      "targets tensor([0.0100, 0.9900, 0.9900, 0.9900, 0.9900, 0.0100, 0.0100, 0.0100],\n",
      "       device='cuda:0') tensor(0.5238, device='cuda:0')\n",
      "outputs tensor([0.5299, 0.5313, 0.5300, 0.3806, 0.5308, 0.5313, 0.5296, 0.5304],\n",
      "       device='cuda:0') tensor(0.0530, device='cuda:0')\n",
      "targets tensor([0.0100, 0.9900, 0.9900, 0.9900, 0.0100, 0.9900, 0.9900, 0.0100],\n",
      "       device='cuda:0') tensor(0.5072, device='cuda:0')\n",
      "outputs tensor([0.5324, 0.5296, 0.5317, 0.5289, 0.5309, 0.5286, 0.5290, 0.5300],\n",
      "       device='cuda:0') tensor(0.0014, device='cuda:0')\n",
      "targets tensor([0.0100, 0.0100, 0.0100, 0.0100, 0.9900, 0.0100, 0.0100, 0.9900],\n",
      "       device='cuda:0') tensor(0.4537, device='cuda:0')\n",
      "outputs tensor([0.5298, 0.5295, 0.5308, 0.5262, 0.5314, 0.5292, 0.5306, 0.5289],\n",
      "       device='cuda:0') tensor(0.0016, device='cuda:0')\n",
      "targets tensor([0.9900, 0.9900, 0.0100, 0.9900, 0.9900, 0.9900, 0.9900, 0.0100],\n",
      "       device='cuda:0') tensor(0.4537, device='cuda:0')\n",
      "outputs tensor([0.5320, 0.5293, 0.5312, 0.5289, 0.5313, 0.5293, 0.5296, 0.5303],\n",
      "       device='cuda:0') tensor(0.0011, device='cuda:0')\n",
      "targets tensor([0.0100, 0.0100, 0.0100, 0.9900, 0.9900, 0.9900, 0.9900, 0.9900],\n",
      "       device='cuda:0') tensor(0.5072, device='cuda:0')\n",
      "outputs tensor([0.5290, 0.5319, 0.5307, 0.5308, 0.5303, 0.5321, 0.5290, 0.5317],\n",
      "       device='cuda:0') tensor(0.0012, device='cuda:0')\n",
      "targets tensor([0.0100, 0.9900, 0.0100, 0.9900, 0.9900, 0.9900, 0.9900, 0.0100],\n",
      "       device='cuda:0') tensor(0.5072, device='cuda:0')\n",
      "outputs tensor([0.5303, 0.5319, 0.5146, 0.5291, 0.5296, 0.5310, 0.5307, 0.5296],\n",
      "       device='cuda:0') tensor(0.0056, device='cuda:0')\n",
      "targets tensor([0.9900, 0.9900, 0.9900, 0.0100, 0.0100, 0.9900, 0.0100, 0.9900],\n",
      "       device='cuda:0') tensor(0.5072, device='cuda:0')\n",
      "outputs ep 13/15, valid_loss: 0.7062tensor([0.5302, 0.5305, 0.5206, 0.5296, 0.5310, 0.5278, 0.5319, 0.5293],\n",
      "       device='cuda:0') tensor(0.0036, device='cuda:0')\n",
      "targets tensor([0.0100, 0.9900, 0.0100, 0.0100, 0.0100, 0.0100, 0.9900, 0.0100],\n",
      "       device='cuda:0') tensor(0.4537, device='cuda:0')\n",
      "outputs tensor([0.5289, 0.5038, 0.5318, 0.5305, 0.5314], device='cuda:0') tensor(0.0121, device='cuda:0')\n",
      "targets tensor([0.9900, 0.0100, 0.0100, 0.9900, 0.0100], device='cuda:0') tensor(0.5368, device='cuda:0')\n",
      "Valid Step 15/15, valid_loss: 0.7210\n",
      "[Epoch Train: 9] loss: 0.6945, time: 14.00 s            \n",
      "[Epoch Valid: 9] loss: 0.7210, auc: 0.4871, time: 2.00 s\n",
      "EPOCH: 10\n"
     ]
    },
    {
     "data": {
      "application/vnd.jupyter.widget-view+json": {
       "model_id": "9952010e2fd6435d9f0be5cf0035a3de",
       "version_major": 2,
       "version_minor": 0
      },
      "text/plain": [
       "HBox(children=(FloatProgress(value=0.0, max=59.0), HTML(value='')))"
      ]
     },
     "metadata": {},
     "output_type": "display_data"
    },
    {
     "name": "stdout",
     "output_type": "stream",
     "text": [
      "Train Step 59/59, train_loss: 0.7072\n"
     ]
    },
    {
     "data": {
      "application/vnd.jupyter.widget-view+json": {
       "model_id": "1e31d0596f734f10a05e19d546063db3",
       "version_major": 2,
       "version_minor": 0
      },
      "text/plain": [
       "HBox(children=(FloatProgress(value=0.0, max=15.0), HTML(value='')))"
      ]
     },
     "metadata": {},
     "output_type": "display_data"
    },
    {
     "name": "stdout",
     "output_type": "stream",
     "text": [
      "outputs tensor([0.4951, 0.4141, 0.4596, 0.4129, 0.4762, 0.4477, 0.4125, 0.4027],\n",
      "       device='cuda:0') tensor(0.0345, device='cuda:0')\n",
      "targets tensor([0.0100, 0.0100, 0.9900, 0.9900, 0.9900, 0.9900, 0.9900, 0.9900],\n",
      "       device='cuda:0') tensor(0.4537, device='cuda:0')\n",
      "outputs tensor([0.5005, 0.4827, 0.5076, 0.4093, 0.5042, 0.4698, 0.4514, 0.4367],\n",
      "       device='cuda:0') tensor(0.0355, device='cuda:0')\n",
      "targets tensor([0.0100, 0.9900, 0.0100, 0.0100, 0.0100, 0.0100, 0.9900, 0.0100],\n",
      "       device='cuda:0') tensor(0.4537, device='cuda:0')\n",
      "outputs ep 2/15, valid_loss: 0.7248tensor([0.3205, 0.4370, 0.4555, 0.4454, 0.2552, 0.4563, 0.4104, 0.4157],\n",
      "       device='cuda:0') tensor(0.0730, device='cuda:0')\n",
      "targets tensor([0.0100, 0.0100, 0.9900, 0.0100, 0.0100, 0.9900, 0.0100, 0.0100],\n",
      "       device='cuda:0') tensor(0.4537, device='cuda:0')\n",
      "outputs tensor([0.4903, 0.5187, 0.4446, 0.2672, 0.4204, 0.4466, 0.4639, 0.4678],\n",
      "       device='cuda:0') tensor(0.0760, device='cuda:0')\n",
      "targets tensor([0.9900, 0.9900, 0.9900, 0.0100, 0.9900, 0.9900, 0.0100, 0.0100],\n",
      "       device='cuda:0') tensor(0.5072, device='cuda:0')\n",
      "outputs tensor([0.4730, 0.4511, 0.3988, 0.4417, 0.2734, 0.1874, 0.4154, 0.4089],\n",
      "       device='cuda:0') tensor(0.0988, device='cuda:0')\n",
      "targets tensor([0.9900, 0.0100, 0.9900, 0.0100, 0.9900, 0.9900, 0.9900, 0.9900],\n",
      "       device='cuda:0') tensor(0.4537, device='cuda:0')\n",
      "outputs tensor([0.3798, 0.5108, 0.4831, 0.5169, 0.3427, 0.4720, 0.4145, 0.4108],\n",
      "       device='cuda:0') tensor(0.0637, device='cuda:0')\n",
      "targets tensor([0.9900, 0.9900, 0.0100, 0.0100, 0.9900, 0.9900, 0.0100, 0.0100],\n",
      "       device='cuda:0') tensor(0.5238, device='cuda:0')\n",
      "outputs tensor([0.4899, 0.4628, 0.3934, 0.3849, 0.3014, 0.4247, 0.4590, 0.4239],\n",
      "       device='cuda:0') tensor(0.0588, device='cuda:0')\n",
      "targets tensor([0.0100, 0.9900, 0.9900, 0.9900, 0.9900, 0.0100, 0.0100, 0.0100],\n",
      "       device='cuda:0') tensor(0.5238, device='cuda:0')\n",
      "outputs tensor([0.3683, 0.4953, 0.4156, 0.4369, 0.4674, 0.3268, 0.5160, 0.4789],\n",
      "       device='cuda:0') tensor(0.0651, device='cuda:0')\n",
      "targets tensor([0.0100, 0.9900, 0.9900, 0.9900, 0.0100, 0.9900, 0.9900, 0.0100],\n",
      "       device='cuda:0') tensor(0.5072, device='cuda:0')\n",
      "outputs tensor([0.4671, 0.3477, 0.4695, 0.3941, 0.4652, 0.4539, 0.4240, 0.5150],\n",
      "       device='cuda:0') tensor(0.0520, device='cuda:0')\n",
      "targets tensor([0.0100, 0.0100, 0.0100, 0.0100, 0.9900, 0.0100, 0.0100, 0.9900],\n",
      "       device='cuda:0') tensor(0.4537, device='cuda:0')\n",
      "outputs ep 9/15, valid_loss: 0.7183tensor([0.4719, 0.4446, 0.3774, 0.4554, 0.4929, 0.4461, 0.4234, 0.4533],\n",
      "       device='cuda:0') tensor(0.0343, device='cuda:0')\n",
      "targets tensor([0.9900, 0.9900, 0.0100, 0.9900, 0.9900, 0.9900, 0.9900, 0.0100],\n",
      "       device='cuda:0') tensor(0.4537, device='cuda:0')\n",
      "outputs tensor([0.4998, 0.5191, 0.3285, 0.3975, 0.4039, 0.4312, 0.4762, 0.3843],\n",
      "       device='cuda:0') tensor(0.0644, device='cuda:0')\n",
      "targets tensor([0.0100, 0.0100, 0.0100, 0.9900, 0.9900, 0.9900, 0.9900, 0.9900],\n",
      "       device='cuda:0') tensor(0.5072, device='cuda:0')\n",
      "outputs tensor([0.4308, 0.4837, 0.3932, 0.4323, 0.4034, 0.4533, 0.3610, 0.3963],\n",
      "       device='cuda:0') tensor(0.0387, device='cuda:0')\n",
      "targets tensor([0.0100, 0.9900, 0.0100, 0.9900, 0.9900, 0.9900, 0.9900, 0.0100],\n",
      "       device='cuda:0') tensor(0.5072, device='cuda:0')\n",
      "outputs tensor([0.4893, 0.5011, 0.4882, 0.4478, 0.4168, 0.4443, 0.4667, 0.4176],\n",
      "       device='cuda:0') tensor(0.0326, device='cuda:0')\n",
      "targets tensor([0.9900, 0.9900, 0.9900, 0.0100, 0.0100, 0.9900, 0.0100, 0.9900],\n",
      "       device='cuda:0') tensor(0.5072, device='cuda:0')\n",
      "outputs tensor([0.4738, 0.4397, 0.5179, 0.4059, 0.4708, 0.4688, 0.5130, 0.4052],\n",
      "       device='cuda:0') tensor(0.0429, device='cuda:0')\n",
      "targets tensor([0.0100, 0.9900, 0.0100, 0.0100, 0.0100, 0.0100, 0.9900, 0.0100],\n",
      "       device='cuda:0') tensor(0.4537, device='cuda:0')\n",
      "outputs tensor([0.4271, 0.3316, 0.4382, 0.2599, 0.3071], device='cuda:0') tensor(0.0774, device='cuda:0')\n",
      "targets tensor([0.9900, 0.0100, 0.0100, 0.9900, 0.0100], device='cuda:0') tensor(0.5368, device='cuda:0')\n",
      "Valid Step 15/15, valid_loss: 0.7087\n",
      "[Epoch Train: 10] loss: 0.7072, time: 15.00 s            \n",
      "[Epoch Valid: 10] loss: 0.7087, auc: 0.5029, time: 2.00 s\n",
      "auc improved from 0.7130 to 0.7087. Saved model to '/home/RSNA_MICCAI_Brain_Tumor/models/T1w-e10-loss0.709-auc0.503.pth'\n",
      "EPOCH: 11\n"
     ]
    },
    {
     "data": {
      "application/vnd.jupyter.widget-view+json": {
       "model_id": "b231a198d2804126adb561c393df9c1f",
       "version_major": 2,
       "version_minor": 0
      },
      "text/plain": [
       "HBox(children=(FloatProgress(value=0.0, max=59.0), HTML(value='')))"
      ]
     },
     "metadata": {},
     "output_type": "display_data"
    },
    {
     "name": "stdout",
     "output_type": "stream",
     "text": [
      "Train Step 59/59, train_loss: 0.6938\n"
     ]
    },
    {
     "data": {
      "application/vnd.jupyter.widget-view+json": {
       "model_id": "96269710e9f84e8ba39eec08ad683971",
       "version_major": 2,
       "version_minor": 0
      },
      "text/plain": [
       "HBox(children=(FloatProgress(value=0.0, max=15.0), HTML(value='')))"
      ]
     },
     "metadata": {},
     "output_type": "display_data"
    },
    {
     "name": "stdout",
     "output_type": "stream",
     "text": [
      "outputs tensor([0.5365, 0.5295, 0.5352, 0.5322, 0.5457, 0.5425, 0.5372, 0.5429],\n",
      "       device='cuda:0') tensor(0.0056, device='cuda:0')\n",
      "targets tensor([0.0100, 0.0100, 0.9900, 0.9900, 0.9900, 0.9900, 0.9900, 0.9900],\n",
      "       device='cuda:0') tensor(0.4537, device='cuda:0')\n",
      "outputs tensor([0.5613, 0.5569, 0.5399, 0.5369, 0.5674, 0.5542, 0.5317, 0.5424],\n",
      "       device='cuda:0') tensor(0.0128, device='cuda:0')\n",
      "targets tensor([0.0100, 0.9900, 0.0100, 0.0100, 0.0100, 0.0100, 0.9900, 0.0100],\n",
      "       device='cuda:0') tensor(0.4537, device='cuda:0')\n",
      "outputs tensor([0.5177, 0.5407, 0.5446, 0.5498, 0.5173, 0.5316, 0.5319, 0.5383],\n",
      "       device='cuda:0') tensor(0.0119, device='cuda:0')\n",
      "targets tensor([0.0100, 0.0100, 0.9900, 0.0100, 0.0100, 0.9900, 0.0100, 0.0100],\n",
      "       device='cuda:0') tensor(0.4537, device='cuda:0')\n",
      "outputs tensor([0.5639, 0.5881, 0.5377, 0.5173, 0.5610, 0.5448, 0.5411, 0.5636],\n",
      "       device='cuda:0') tensor(0.0215, device='cuda:0')\n",
      "targets tensor([0.9900, 0.9900, 0.9900, 0.0100, 0.9900, 0.9900, 0.0100, 0.0100],\n",
      "       device='cuda:0') tensor(0.5072, device='cuda:0')\n",
      "outputs tensor([0.5421, 0.5424, 0.5404, 0.5425, 0.5176, 0.5231, 0.5216, 0.5361],\n",
      "       device='cuda:0') tensor(0.0106, device='cuda:0')\n",
      "targets tensor([0.9900, 0.0100, 0.9900, 0.0100, 0.9900, 0.9900, 0.9900, 0.9900],\n",
      "       device='cuda:0') tensor(0.4537, device='cuda:0')\n",
      "outputs tensor([0.5349, 0.5785, 0.5712, 0.5483, 0.5394, 0.5525, 0.5347, 0.5227],\n",
      "       device='cuda:0') tensor(0.0191, device='cuda:0')\n",
      "targets tensor([0.9900, 0.9900, 0.0100, 0.0100, 0.9900, 0.9900, 0.0100, 0.0100],\n",
      "       device='cuda:0') tensor(0.5238, device='cuda:0')\n",
      "outputs tensor([0.5639, 0.5481, 0.5273, 0.5337, 0.5292, 0.5364, 0.5397, 0.5368],\n",
      "       device='cuda:0') tensor(0.0118, device='cuda:0')\n",
      "targets tensor([0.0100, 0.9900, 0.9900, 0.9900, 0.9900, 0.0100, 0.0100, 0.0100],\n",
      "       device='cuda:0') tensor(0.5238, device='cuda:0')\n",
      "outputs tensor([0.5194, 0.5627, 0.5411, 0.5227, 0.5307, 0.5188, 0.5693, 0.5592],\n",
      "       device='cuda:0') tensor(0.0207, device='cuda:0')\n",
      "targets tensor([0.0100, 0.9900, 0.9900, 0.9900, 0.0100, 0.9900, 0.9900, 0.0100],\n",
      "       device='cuda:0') tensor(0.5072, device='cuda:0')\n",
      "outputs tensor([0.5503, 0.5185, 0.5521, 0.5324, 0.5558, 0.5388, 0.5419, 0.5860],\n",
      "       device='cuda:0') tensor(0.0198, device='cuda:0')\n",
      "targets tensor([0.0100, 0.0100, 0.0100, 0.0100, 0.9900, 0.0100, 0.0100, 0.9900],\n",
      "       device='cuda:0') tensor(0.4537, device='cuda:0')\n",
      "outputs tensor([0.5388, 0.5320, 0.5270, 0.5339, 0.5655, 0.5520, 0.5527, 0.5465],\n",
      "       device='cuda:0') tensor(0.0129, device='cuda:0')\n",
      "targets tensor([0.9900, 0.9900, 0.0100, 0.9900, 0.9900, 0.9900, 0.9900, 0.0100],\n",
      "       device='cuda:0') tensor(0.4537, device='cuda:0')\n",
      "outputs tensor([0.5649, 0.5469, 0.5334, 0.5319, 0.5363, 0.5368, 0.5510, 0.5227],\n",
      "       device='cuda:0') tensor(0.0132, device='cuda:0')\n",
      "targets tensor([0.0100, 0.0100, 0.0100, 0.9900, 0.9900, 0.9900, 0.9900, 0.9900],\n",
      "       device='cuda:0') tensor(0.5072, device='cuda:0')\n",
      "outputs tensor([0.5445, 0.5619, 0.5258, 0.5420, 0.5307, 0.5425, 0.5293, 0.5324],\n",
      "       device='cuda:0') tensor(0.0117, device='cuda:0')\n",
      "targets tensor([0.0100, 0.9900, 0.0100, 0.9900, 0.9900, 0.9900, 0.9900, 0.0100],\n",
      "       device='cuda:0') tensor(0.5072, device='cuda:0')\n",
      "outputs ep 12/15, valid_loss: 0.7067tensor([0.5632, 0.5697, 0.5563, 0.5473, 0.5311, 0.5398, 0.5543, 0.5399],\n",
      "       device='cuda:0') tensor(0.0130, device='cuda:0')\n",
      "targets tensor([0.9900, 0.9900, 0.9900, 0.0100, 0.0100, 0.9900, 0.0100, 0.9900],\n",
      "       device='cuda:0') tensor(0.5072, device='cuda:0')\n",
      "outputs tensor([0.5568, 0.5412, 0.5500, 0.5280, 0.5494, 0.5412, 0.5769, 0.5421],\n",
      "       device='cuda:0') tensor(0.0144, device='cuda:0')\n",
      "targets tensor([0.0100, 0.9900, 0.0100, 0.0100, 0.0100, 0.0100, 0.9900, 0.0100],\n",
      "       device='cuda:0') tensor(0.4537, device='cuda:0')\n",
      "outputs tensor([0.5417, 0.5150, 0.5380, 0.5187, 0.5228], device='cuda:0') tensor(0.0119, device='cuda:0')\n",
      "targets tensor([0.9900, 0.0100, 0.0100, 0.9900, 0.0100], device='cuda:0') tensor(0.5368, device='cuda:0')\n",
      "Valid Step 15/15, valid_loss: 0.7188\n",
      "[Epoch Train: 11] loss: 0.6938, time: 14.00 s            \n",
      "[Epoch Valid: 11] loss: 0.7188, auc: 0.5439, time: 2.00 s\n",
      "EPOCH: 12\n"
     ]
    },
    {
     "data": {
      "application/vnd.jupyter.widget-view+json": {
       "model_id": "5233710782d54ab184ae082b04a4af16",
       "version_major": 2,
       "version_minor": 0
      },
      "text/plain": [
       "HBox(children=(FloatProgress(value=0.0, max=59.0), HTML(value='')))"
      ]
     },
     "metadata": {},
     "output_type": "display_data"
    },
    {
     "name": "stdout",
     "output_type": "stream",
     "text": [
      "Train Step 59/59, train_loss: 0.6954\n"
     ]
    },
    {
     "data": {
      "application/vnd.jupyter.widget-view+json": {
       "model_id": "702e65ea35604e43a559c01834c8dcf7",
       "version_major": 2,
       "version_minor": 0
      },
      "text/plain": [
       "HBox(children=(FloatProgress(value=0.0, max=15.0), HTML(value='')))"
      ]
     },
     "metadata": {},
     "output_type": "display_data"
    },
    {
     "name": "stdout",
     "output_type": "stream",
     "text": [
      "outputs tensor([0.5015, 0.5024, 0.5024, 0.5017, 0.5036, 0.5029, 0.5016, 0.5023],\n",
      "       device='cuda:0') tensor(0.0007, device='cuda:0')\n",
      "targets tensor([0.0100, 0.0100, 0.9900, 0.9900, 0.9900, 0.9900, 0.9900, 0.9900],\n",
      "       device='cuda:0') tensor(0.4537, device='cuda:0')\n",
      "outputs tensor([0.5070, 0.5052, 0.5033, 0.5018, 0.5101, 0.5036, 0.5027, 0.5018],\n",
      "       device='cuda:0') tensor(0.0029, device='cuda:0')\n",
      "targets tensor([0.0100, 0.9900, 0.0100, 0.0100, 0.0100, 0.0100, 0.9900, 0.0100],\n",
      "       device='cuda:0') tensor(0.4537, device='cuda:0')\n",
      "outputs tensor([0.4998, 0.5030, 0.5029, 0.5016, 0.5010, 0.5026, 0.5016, 0.5010],\n",
      "       device='cuda:0') tensor(0.0011, device='cuda:0')\n",
      "targets tensor([0.0100, 0.0100, 0.9900, 0.0100, 0.0100, 0.9900, 0.0100, 0.0100],\n",
      "       device='cuda:0') tensor(0.4537, device='cuda:0')\n",
      "outputs tensor([0.5063, 0.5026, 0.5021, 0.5002, 0.5135, 0.5027, 0.5032, 0.5039],\n",
      "       device='cuda:0') tensor(0.0041, device='cuda:0')\n",
      "targets tensor([0.9900, 0.9900, 0.9900, 0.0100, 0.9900, 0.9900, 0.0100, 0.0100],\n",
      "       device='cuda:0') tensor(0.5072, device='cuda:0')\n",
      "outputs tensor([0.5032, 0.5020, 0.5021, 0.5030, 0.4995, 0.4987, 0.5026, 0.5012],\n",
      "       device='cuda:0') tensor(0.0016, device='cuda:0')\n",
      "targets tensor([0.9900, 0.0100, 0.9900, 0.0100, 0.9900, 0.9900, 0.9900, 0.9900],\n",
      "       device='cuda:0') tensor(0.4537, device='cuda:0')\n",
      "outputs tensor([0.5018, 0.5122, 0.5103, 0.5000, 0.5004, 0.5035, 0.5020, 0.5020],\n",
      "       device='cuda:0') tensor(0.0046, device='cuda:0')\n",
      "targets tensor([0.9900, 0.9900, 0.0100, 0.0100, 0.9900, 0.9900, 0.0100, 0.0100],\n",
      "       device='cuda:0') tensor(0.5238, device='cuda:0')\n",
      "outputs ep 6/15, valid_loss: 0.7141tensor([0.5009, 0.5048, 0.5014, 0.5021, 0.5028, 0.5018, 0.5022, 0.5012],\n",
      "       device='cuda:0') tensor(0.0012, device='cuda:0')\n",
      "targets tensor([0.0100, 0.9900, 0.9900, 0.9900, 0.9900, 0.0100, 0.0100, 0.0100],\n",
      "       device='cuda:0') tensor(0.5238, device='cuda:0')\n",
      "outputs tensor([0.5007, 0.5064, 0.5010, 0.5019, 0.5026, 0.4997, 0.5022, 0.5022],\n",
      "       device='cuda:0') tensor(0.0020, device='cuda:0')\n",
      "targets tensor([0.0100, 0.9900, 0.9900, 0.9900, 0.0100, 0.9900, 0.9900, 0.0100],\n",
      "       device='cuda:0') tensor(0.5072, device='cuda:0')\n",
      "outputs tensor([0.5037, 0.5005, 0.5032, 0.5018, 0.5039, 0.5015, 0.5008, 0.5030],\n",
      "       device='cuda:0') tensor(0.0013, device='cuda:0')\n",
      "targets tensor([0.0100, 0.0100, 0.0100, 0.0100, 0.9900, 0.0100, 0.0100, 0.9900],\n",
      "       device='cuda:0') tensor(0.4537, device='cuda:0')\n",
      "outputs tensor([0.5025, 0.5023, 0.5004, 0.5018, 0.5102, 0.5023, 0.5019, 0.5006],\n",
      "       device='cuda:0') tensor(0.0031, device='cuda:0')\n",
      "targets tensor([0.9900, 0.9900, 0.0100, 0.9900, 0.9900, 0.9900, 0.9900, 0.0100],\n",
      "       device='cuda:0') tensor(0.4537, device='cuda:0')\n",
      "outputs tensor([0.5056, 0.5013, 0.5041, 0.5007, 0.5027, 0.5022, 0.5013, 0.5013],\n",
      "       device='cuda:0') tensor(0.0017, device='cuda:0')\n",
      "targets tensor([0.0100, 0.0100, 0.0100, 0.9900, 0.9900, 0.9900, 0.9900, 0.9900],\n",
      "       device='cuda:0') tensor(0.5072, device='cuda:0')\n",
      "outputs tensor([0.5013, 0.5061, 0.5016, 0.5018, 0.5020, 0.5027, 0.5021, 0.5017],\n",
      "       device='cuda:0') tensor(0.0015, device='cuda:0')\n",
      "targets tensor([0.0100, 0.9900, 0.0100, 0.9900, 0.9900, 0.9900, 0.9900, 0.0100],\n",
      "       device='cuda:0') tensor(0.5072, device='cuda:0')\n",
      "outputs tensor([0.5072, 0.5062, 0.5043, 0.5008, 0.5013, 0.5020, 0.5001, 0.5010],\n",
      "       device='cuda:0') tensor(0.0027, device='cuda:0')\n",
      "targets tensor([0.9900, 0.9900, 0.9900, 0.0100, 0.0100, 0.9900, 0.0100, 0.9900],\n",
      "       device='cuda:0') tensor(0.5072, device='cuda:0')\n",
      "outputs ep 13/15, valid_loss: 0.7005tensor([0.5005, 0.5026, 0.4996, 0.5026, 0.5030, 0.5029, 0.5105, 0.5016],\n",
      "       device='cuda:0') tensor(0.0033, device='cuda:0')\n",
      "targets tensor([0.0100, 0.9900, 0.0100, 0.0100, 0.0100, 0.0100, 0.9900, 0.0100],\n",
      "       device='cuda:0') tensor(0.4537, device='cuda:0')\n",
      "outputs tensor([0.5010, 0.5007, 0.5013, 0.4990, 0.4996], device='cuda:0') tensor(0.0010, device='cuda:0')\n",
      "targets tensor([0.9900, 0.0100, 0.0100, 0.9900, 0.0100], device='cuda:0') tensor(0.5368, device='cuda:0')\n",
      "Valid Step 15/15, valid_loss: 0.7151\n",
      "[Epoch Train: 12] loss: 0.6954, time: 14.00 s            \n",
      "[Epoch Valid: 12] loss: 0.7151, auc: 0.6391, time: 2.00 s\n",
      "EPOCH: 13\n"
     ]
    },
    {
     "data": {
      "application/vnd.jupyter.widget-view+json": {
       "model_id": "a23f0bd16e7c4e059352ada47d906eee",
       "version_major": 2,
       "version_minor": 0
      },
      "text/plain": [
       "HBox(children=(FloatProgress(value=0.0, max=59.0), HTML(value='')))"
      ]
     },
     "metadata": {},
     "output_type": "display_data"
    },
    {
     "name": "stdout",
     "output_type": "stream",
     "text": [
      "Train Step 59/59, train_loss: 0.6951\n"
     ]
    },
    {
     "data": {
      "application/vnd.jupyter.widget-view+json": {
       "model_id": "f54df0a19daf4da79955efc5f9378a3a",
       "version_major": 2,
       "version_minor": 0
      },
      "text/plain": [
       "HBox(children=(FloatProgress(value=0.0, max=15.0), HTML(value='')))"
      ]
     },
     "metadata": {},
     "output_type": "display_data"
    },
    {
     "name": "stdout",
     "output_type": "stream",
     "text": [
      "outputs tensor([0.5181, 0.5153, 0.5194, 0.5171, 0.5191, 0.5190, 0.5166, 0.5159],\n",
      "       device='cuda:0') tensor(0.0016, device='cuda:0')\n",
      "targets tensor([0.0100, 0.0100, 0.9900, 0.9900, 0.9900, 0.9900, 0.9900, 0.9900],\n",
      "       device='cuda:0') tensor(0.4537, device='cuda:0')\n",
      "outputs tensor([0.5189, 0.5190, 0.5204, 0.5155, 0.5207, 0.5187, 0.5199, 0.5158],\n",
      "       device='cuda:0') tensor(0.0020, device='cuda:0')\n",
      "targets tensor([0.0100, 0.9900, 0.0100, 0.0100, 0.0100, 0.0100, 0.9900, 0.0100],\n",
      "       device='cuda:0') tensor(0.4537, device='cuda:0')\n",
      "outputs tensor([0.5146, 0.5177, 0.5183, 0.5128, 0.5089, 0.5192, 0.5143, 0.5137],\n",
      "       device='cuda:0') tensor(0.0034, device='cuda:0')\n",
      "targets tensor([0.0100, 0.0100, 0.9900, 0.0100, 0.0100, 0.9900, 0.0100, 0.0100],\n",
      "       device='cuda:0') tensor(0.4537, device='cuda:0')\n",
      "outputs ep 3/15, valid_loss: 0.7679tensor([0.5174, 0.5217, 0.5186, 0.5140, 0.5193, 0.5190, 0.5195, 0.5165],\n",
      "       device='cuda:0') tensor(0.0023, device='cuda:0')\n",
      "targets tensor([0.9900, 0.9900, 0.9900, 0.0100, 0.9900, 0.9900, 0.0100, 0.0100],\n",
      "       device='cuda:0') tensor(0.5072, device='cuda:0')\n",
      "outputs tensor([0.5185, 0.5150, 0.5190, 0.5189, 0.5072, 0.4992, 0.5171, 0.5120],\n",
      "       device='cuda:0') tensor(0.0070, device='cuda:0')\n",
      "targets tensor([0.9900, 0.0100, 0.9900, 0.0100, 0.9900, 0.9900, 0.9900, 0.9900],\n",
      "       device='cuda:0') tensor(0.4537, device='cuda:0')\n",
      "outputs tensor([0.5124, 0.5217, 0.5187, 0.5215, 0.5158, 0.5201, 0.5144, 0.5186],\n",
      "       device='cuda:0') tensor(0.0034, device='cuda:0')\n",
      "targets tensor([0.9900, 0.9900, 0.0100, 0.0100, 0.9900, 0.9900, 0.0100, 0.0100],\n",
      "       device='cuda:0') tensor(0.5238, device='cuda:0')\n",
      "outputs ep 6/15, valid_loss: 0.7155tensor([0.5155, 0.5209, 0.5154, 0.5148, 0.5177, 0.5127, 0.5158, 0.5138],\n",
      "       device='cuda:0') tensor(0.0025, device='cuda:0')\n",
      "targets tensor([0.0100, 0.9900, 0.9900, 0.9900, 0.9900, 0.0100, 0.0100, 0.0100],\n",
      "       device='cuda:0') tensor(0.5238, device='cuda:0')\n",
      "outputs tensor([0.5124, 0.5197, 0.5116, 0.5191, 0.5177, 0.5083, 0.5166, 0.5191],\n",
      "       device='cuda:0') tensor(0.0043, device='cuda:0')\n",
      "targets tensor([0.0100, 0.9900, 0.9900, 0.9900, 0.0100, 0.9900, 0.9900, 0.0100],\n",
      "       device='cuda:0') tensor(0.5072, device='cuda:0')\n",
      "outputs tensor([0.5170, 0.5056, 0.5182, 0.5164, 0.5196, 0.5140, 0.5141, 0.5172],\n",
      "       device='cuda:0') tensor(0.0043, device='cuda:0')\n",
      "targets tensor([0.0100, 0.0100, 0.0100, 0.0100, 0.9900, 0.0100, 0.0100, 0.9900],\n",
      "       device='cuda:0') tensor(0.4537, device='cuda:0')\n",
      "outputs tensor([0.5185, 0.5175, 0.5127, 0.5182, 0.5185, 0.5179, 0.5167, 0.5140],\n",
      "       device='cuda:0') tensor(0.0022, device='cuda:0')\n",
      "targets tensor([0.9900, 0.9900, 0.0100, 0.9900, 0.9900, 0.9900, 0.9900, 0.0100],\n",
      "       device='cuda:0') tensor(0.4537, device='cuda:0')\n",
      "outputs tensor([0.5207, 0.5155, 0.5138, 0.5126, 0.5176, 0.5161, 0.5158, 0.5173],\n",
      "       device='cuda:0') tensor(0.0025, device='cuda:0')\n",
      "targets tensor([0.0100, 0.0100, 0.0100, 0.9900, 0.9900, 0.9900, 0.9900, 0.9900],\n",
      "       device='cuda:0') tensor(0.5072, device='cuda:0')\n",
      "outputs tensor([0.5126, 0.5176, 0.5151, 0.5169, 0.5175, 0.5178, 0.5170, 0.5133],\n",
      "       device='cuda:0') tensor(0.0021, device='cuda:0')\n",
      "targets tensor([0.0100, 0.9900, 0.0100, 0.9900, 0.9900, 0.9900, 0.9900, 0.0100],\n",
      "       device='cuda:0') tensor(0.5072, device='cuda:0')\n",
      "outputs tensor([0.5219, 0.5191, 0.5189, 0.5132, 0.5165, 0.5165, 0.5137, 0.5122],\n",
      "       device='cuda:0') tensor(0.0034, device='cuda:0')\n",
      "targets tensor([0.9900, 0.9900, 0.9900, 0.0100, 0.0100, 0.9900, 0.0100, 0.9900],\n",
      "       device='cuda:0') tensor(0.5072, device='cuda:0')\n",
      "outputs ep 13/15, valid_loss: 0.7015tensor([0.5147, 0.5176, 0.5212, 0.5175, 0.5187, 0.5201, 0.5205, 0.5154],\n",
      "       device='cuda:0') tensor(0.0024, device='cuda:0')\n",
      "targets tensor([0.0100, 0.9900, 0.0100, 0.0100, 0.0100, 0.0100, 0.9900, 0.0100],\n",
      "       device='cuda:0') tensor(0.4537, device='cuda:0')\n",
      "outputs tensor([0.5126, 0.5123, 0.5191, 0.5001, 0.5075], device='cuda:0') tensor(0.0070, device='cuda:0')\n",
      "targets tensor([0.9900, 0.0100, 0.0100, 0.9900, 0.0100], device='cuda:0') tensor(0.5368, device='cuda:0')\n",
      "Valid Step 15/15, valid_loss: 0.7166\n",
      "[Epoch Train: 13] loss: 0.6951, time: 15.00 s            \n",
      "[Epoch Valid: 13] loss: 0.7166, auc: 0.6270, time: 2.00 s\n",
      "EPOCH: 14\n"
     ]
    },
    {
     "data": {
      "application/vnd.jupyter.widget-view+json": {
       "model_id": "653dfc567f5444e6afce5d053e6fb3c6",
       "version_major": 2,
       "version_minor": 0
      },
      "text/plain": [
       "HBox(children=(FloatProgress(value=0.0, max=59.0), HTML(value='')))"
      ]
     },
     "metadata": {},
     "output_type": "display_data"
    },
    {
     "name": "stdout",
     "output_type": "stream",
     "text": [
      "Train Step 59/59, train_loss: 0.7037\n"
     ]
    },
    {
     "data": {
      "application/vnd.jupyter.widget-view+json": {
       "model_id": "ca64b993601140bca02e99fb0b5526b6",
       "version_major": 2,
       "version_minor": 0
      },
      "text/plain": [
       "HBox(children=(FloatProgress(value=0.0, max=15.0), HTML(value='')))"
      ]
     },
     "metadata": {},
     "output_type": "display_data"
    },
    {
     "name": "stdout",
     "output_type": "stream",
     "text": [
      "outputs tensor([0.5821, 0.5079, 0.5469, 0.5282, 0.4933, 0.5571, 0.5168, 0.5251],\n",
      "       device='cuda:0') tensor(0.0286, device='cuda:0')\n",
      "targets tensor([0.0100, 0.0100, 0.9900, 0.9900, 0.9900, 0.9900, 0.9900, 0.9900],\n",
      "       device='cuda:0') tensor(0.4537, device='cuda:0')\n",
      "outputs tensor([0.4862, 0.4872, 0.5235, 0.5141, 0.4871, 0.5832, 0.5114, 0.4881],\n",
      "       device='cuda:0') tensor(0.0331, device='cuda:0')\n",
      "targets tensor([0.0100, 0.9900, 0.0100, 0.0100, 0.0100, 0.0100, 0.9900, 0.0100],\n",
      "       device='cuda:0') tensor(0.4537, device='cuda:0')\n",
      "outputs tensor([0.5934, 0.5021, 0.5252, 0.5386, 0.4884, 0.5283, 0.5156, 0.4863],\n",
      "       device='cuda:0') tensor(0.0343, device='cuda:0')\n",
      "targets tensor([0.0100, 0.0100, 0.9900, 0.0100, 0.0100, 0.9900, 0.0100, 0.0100],\n",
      "       device='cuda:0') tensor(0.4537, device='cuda:0')\n",
      "outputs tensor([0.5029, 0.5749, 0.5207, 0.5755, 0.5770, 0.5057, 0.5038, 0.5200],\n",
      "       device='cuda:0') tensor(0.0344, device='cuda:0')\n",
      "targets tensor([0.9900, 0.9900, 0.9900, 0.0100, 0.9900, 0.9900, 0.0100, 0.0100],\n",
      "       device='cuda:0') tensor(0.5072, device='cuda:0')\n",
      "outputs tensor([0.4898, 0.5010, 0.5885, 0.5016, 0.5609, 0.6643, 0.4998, 0.5066],\n",
      "       device='cuda:0') tensor(0.0615, device='cuda:0')\n",
      "targets tensor([0.9900, 0.0100, 0.9900, 0.0100, 0.9900, 0.9900, 0.9900, 0.9900],\n",
      "       device='cuda:0') tensor(0.4537, device='cuda:0')\n",
      "outputs tensor([0.5027, 0.4900, 0.4879, 0.7305, 0.6374, 0.5236, 0.5103, 0.5139],\n",
      "       device='cuda:0') tensor(0.0874, device='cuda:0')\n",
      "targets tensor([0.9900, 0.9900, 0.0100, 0.0100, 0.9900, 0.9900, 0.0100, 0.0100],\n",
      "       device='cuda:0') tensor(0.5238, device='cuda:0')\n",
      "outputs ep 6/15, valid_loss: 0.7158tensor([0.5112, 0.4863, 0.4868, 0.5009, 0.4873, 0.5010, 0.4891, 0.4990],\n",
      "       device='cuda:0') tensor(0.0091, device='cuda:0')\n",
      "targets tensor([0.0100, 0.9900, 0.9900, 0.9900, 0.9900, 0.0100, 0.0100, 0.0100],\n",
      "       device='cuda:0') tensor(0.5238, device='cuda:0')\n",
      "outputs tensor([0.5710, 0.5145, 0.4875, 0.5909, 0.5004, 0.5978, 0.5429, 0.4865],\n",
      "       device='cuda:0') tensor(0.0457, device='cuda:0')\n",
      "targets tensor([0.0100, 0.9900, 0.9900, 0.9900, 0.0100, 0.9900, 0.9900, 0.0100],\n",
      "       device='cuda:0') tensor(0.5072, device='cuda:0')\n",
      "outputs tensor([0.5133, 0.5367, 0.5258, 0.4925, 0.5096, 0.4889, 0.4866, 0.5390],\n",
      "       device='cuda:0') tensor(0.0210, device='cuda:0')\n",
      "targets tensor([0.0100, 0.0100, 0.0100, 0.0100, 0.9900, 0.0100, 0.0100, 0.9900],\n",
      "       device='cuda:0') tensor(0.4537, device='cuda:0')\n",
      "outputs tensor([0.5106, 0.5194, 0.5784, 0.5014, 0.4972, 0.5060, 0.5643, 0.5068],\n",
      "       device='cuda:0') tensor(0.0308, device='cuda:0')\n",
      "targets tensor([0.9900, 0.9900, 0.0100, 0.9900, 0.9900, 0.9900, 0.9900, 0.0100],\n",
      "       device='cuda:0') tensor(0.4537, device='cuda:0')\n",
      "outputs tensor([0.5054, 0.6468, 0.4872, 0.4938, 0.5188, 0.4947, 0.5034, 0.4973],\n",
      "       device='cuda:0') tensor(0.0527, device='cuda:0')\n",
      "targets tensor([0.0100, 0.0100, 0.0100, 0.9900, 0.9900, 0.9900, 0.9900, 0.9900],\n",
      "       device='cuda:0') tensor(0.5072, device='cuda:0')\n",
      "outputs tensor([0.4912, 0.5055, 0.5006, 0.5548, 0.4931, 0.5139, 0.4907, 0.4870],\n",
      "       device='cuda:0') tensor(0.0222, device='cuda:0')\n",
      "targets tensor([0.0100, 0.9900, 0.0100, 0.9900, 0.9900, 0.9900, 0.9900, 0.0100],\n",
      "       device='cuda:0') tensor(0.5072, device='cuda:0')\n",
      "outputs tensor([0.4863, 0.5097, 0.4891, 0.5179, 0.5207, 0.4868, 0.5235, 0.5379],\n",
      "       device='cuda:0') tensor(0.0195, device='cuda:0')\n",
      "targets tensor([0.9900, 0.9900, 0.9900, 0.0100, 0.0100, 0.9900, 0.0100, 0.9900],\n",
      "       device='cuda:0') tensor(0.5072, device='cuda:0')\n",
      "outputs ep 13/15, valid_loss: 0.7022tensor([0.5107, 0.5040, 0.7814, 0.5414, 0.5355, 0.5966, 0.4934, 0.5118],\n",
      "       device='cuda:0') tensor(0.0953, device='cuda:0')\n",
      "targets tensor([0.0100, 0.9900, 0.0100, 0.0100, 0.0100, 0.0100, 0.9900, 0.0100],\n",
      "       device='cuda:0') tensor(0.4537, device='cuda:0')\n",
      "outputs tensor([0.5170, 0.4872, 0.6302, 0.5772, 0.5985], device='cuda:0') tensor(0.0588, device='cuda:0')\n",
      "targets tensor([0.9900, 0.0100, 0.0100, 0.9900, 0.0100], device='cuda:0') tensor(0.5368, device='cuda:0')\n",
      "Valid Step 15/15, valid_loss: 0.7204\n",
      "[Epoch Train: 14] loss: 0.7037, time: 15.00 s            \n",
      "[Epoch Valid: 14] loss: 0.7204, auc: 0.5018, time: 2.00 s\n",
      "EPOCH: 15\n"
     ]
    },
    {
     "data": {
      "application/vnd.jupyter.widget-view+json": {
       "model_id": "49fd1e81736d4282a2e0e3f7e5eb21ea",
       "version_major": 2,
       "version_minor": 0
      },
      "text/plain": [
       "HBox(children=(FloatProgress(value=0.0, max=59.0), HTML(value='')))"
      ]
     },
     "metadata": {},
     "output_type": "display_data"
    },
    {
     "name": "stdout",
     "output_type": "stream",
     "text": [
      "Train Step 59/59, train_loss: 0.7023\n"
     ]
    },
    {
     "data": {
      "application/vnd.jupyter.widget-view+json": {
       "model_id": "6d60398520db4a7382a9ffd588b2ab12",
       "version_major": 2,
       "version_minor": 0
      },
      "text/plain": [
       "HBox(children=(FloatProgress(value=0.0, max=15.0), HTML(value='')))"
      ]
     },
     "metadata": {},
     "output_type": "display_data"
    },
    {
     "name": "stdout",
     "output_type": "stream",
     "text": [
      "outputs tensor([0.4830, 0.4893, 0.4874, 0.4619, 0.4917, 0.4859, 0.4795, 0.4880],\n",
      "       device='cuda:0') tensor(0.0095, device='cuda:0')\n",
      "targets tensor([0.0100, 0.0100, 0.9900, 0.9900, 0.9900, 0.9900, 0.9900, 0.9900],\n",
      "       device='cuda:0') tensor(0.4537, device='cuda:0')\n",
      "outputs tensor([0.4912, 0.4876, 0.4838, 0.4892, 0.4911, 0.4612, 0.4759, 0.4899],\n",
      "       device='cuda:0') tensor(0.0105, device='cuda:0')\n",
      "targets tensor([0.0100, 0.9900, 0.0100, 0.0100, 0.0100, 0.0100, 0.9900, 0.0100],\n",
      "       device='cuda:0') tensor(0.4537, device='cuda:0')\n",
      "outputs tensor([0.4733, 0.4904, 0.4850, 0.4873, 0.4886, 0.4734, 0.4894, 0.4903],\n",
      "       device='cuda:0') tensor(0.0072, device='cuda:0')\n",
      "targets tensor([0.0100, 0.0100, 0.9900, 0.0100, 0.0100, 0.9900, 0.0100, 0.0100],\n",
      "       device='cuda:0') tensor(0.4537, device='cuda:0')\n",
      "outputs ep 3/15, valid_loss: 0.7626tensor([0.4846, 0.4862, 0.4675, 0.4528, 0.4224, 0.4873, 0.4886, 0.4893],\n",
      "       device='cuda:0') tensor(0.0239, device='cuda:0')\n",
      "targets tensor([0.9900, 0.9900, 0.9900, 0.0100, 0.9900, 0.9900, 0.0100, 0.0100],\n",
      "       device='cuda:0') tensor(0.5072, device='cuda:0')\n",
      "outputs tensor([0.4892, 0.4905, 0.4876, 0.4921, 0.4415, 0.4671, 0.4775, 0.4905],\n",
      "       device='cuda:0') tensor(0.0176, device='cuda:0')\n",
      "targets tensor([0.9900, 0.0100, 0.9900, 0.0100, 0.9900, 0.9900, 0.9900, 0.9900],\n",
      "       device='cuda:0') tensor(0.4537, device='cuda:0')\n",
      "outputs tensor([0.4888, 0.4926, 0.4910, 0.4790, 0.4512, 0.4913, 0.4920, 0.4752],\n",
      "       device='cuda:0') tensor(0.0143, device='cuda:0')\n",
      "targets tensor([0.9900, 0.9900, 0.0100, 0.0100, 0.9900, 0.9900, 0.0100, 0.0100],\n",
      "       device='cuda:0') tensor(0.5238, device='cuda:0')\n",
      "outputs tensor([0.4913, 0.4896, 0.4906, 0.4891, 0.4910, 0.4911, 0.4918, 0.4914],\n",
      "       device='cuda:0') tensor(0.0009, device='cuda:0')\n",
      "targets tensor([0.0100, 0.9900, 0.9900, 0.9900, 0.9900, 0.0100, 0.0100, 0.0100],\n",
      "       device='cuda:0') tensor(0.5238, device='cuda:0')\n",
      "outputs tensor([0.4761, 0.4897, 0.4908, 0.4520, 0.4812, 0.4803, 0.4833, 0.4932],\n",
      "       device='cuda:0') tensor(0.0130, device='cuda:0')\n",
      "targets tensor([0.0100, 0.9900, 0.9900, 0.9900, 0.0100, 0.9900, 0.9900, 0.0100],\n",
      "       device='cuda:0') tensor(0.5072, device='cuda:0')\n",
      "outputs tensor([0.4905, 0.4764, 0.4815, 0.4881, 0.4864, 0.4910, 0.4906, 0.4852],\n",
      "       device='cuda:0') tensor(0.0051, device='cuda:0')\n",
      "targets tensor([0.0100, 0.0100, 0.0100, 0.0100, 0.9900, 0.0100, 0.0100, 0.9900],\n",
      "       device='cuda:0') tensor(0.4537, device='cuda:0')\n",
      "outputs tensor([0.4729, 0.4423, 0.4898, 0.4794, 0.4901, 0.4887, 0.4709, 0.4902],\n",
      "       device='cuda:0') tensor(0.0165, device='cuda:0')\n",
      "targets tensor([0.9900, 0.9900, 0.0100, 0.9900, 0.9900, 0.9900, 0.9900, 0.0100],\n",
      "       device='cuda:0') tensor(0.4537, device='cuda:0')\n",
      "outputs ep 10/15, valid_loss: 0.7118tensor([0.4926, 0.4741, 0.4908, 0.4905, 0.4877, 0.4904, 0.4909, 0.4852],\n",
      "       device='cuda:0') tensor(0.0060, device='cuda:0')\n",
      "targets tensor([0.0100, 0.0100, 0.0100, 0.9900, 0.9900, 0.9900, 0.9900, 0.9900],\n",
      "       device='cuda:0') tensor(0.5072, device='cuda:0')\n",
      "outputs tensor([0.4904, 0.4922, 0.4900, 0.4907, 0.4872, 0.4915, 0.4887, 0.4916],\n",
      "       device='cuda:0') tensor(0.0016, device='cuda:0')\n",
      "targets tensor([0.0100, 0.9900, 0.0100, 0.9900, 0.9900, 0.9900, 0.9900, 0.0100],\n",
      "       device='cuda:0') tensor(0.5072, device='cuda:0')\n",
      "outputs tensor([0.4913, 0.4921, 0.4857, 0.4898, 0.4807, 0.4919, 0.4902, 0.4897],\n",
      "       device='cuda:0') tensor(0.0039, device='cuda:0')\n",
      "targets tensor([0.9900, 0.9900, 0.9900, 0.0100, 0.0100, 0.9900, 0.0100, 0.9900],\n",
      "       device='cuda:0') tensor(0.5072, device='cuda:0')\n",
      "outputs tensor([0.4908, 0.4899, 0.3880, 0.4502, 0.4862, 0.4739, 0.4925, 0.4837],\n",
      "       device='cuda:0') tensor(0.0357, device='cuda:0')\n",
      "targets tensor([0.0100, 0.9900, 0.0100, 0.0100, 0.0100, 0.0100, 0.9900, 0.0100],\n",
      "       device='cuda:0') tensor(0.4537, device='cuda:0')\n",
      "outputs tensor([0.4896, 0.4895, 0.4729, 0.4859, 0.4841], device='cuda:0') tensor(0.0068, device='cuda:0')\n",
      "targets tensor([0.9900, 0.0100, 0.0100, 0.9900, 0.0100], device='cuda:0') tensor(0.5368, device='cuda:0')\n",
      "Valid Step 15/15, valid_loss: 0.7136\n",
      "[Epoch Train: 15] loss: 0.7023, time: 15.00 s            \n",
      "[Epoch Valid: 15] loss: 0.7136, auc: 0.4444, time: 2.00 s\n",
      "\n",
      "(468, 3) (117, 3)\n"
     ]
    },
    {
     "name": "stderr",
     "output_type": "stream",
     "text": [
      "/opt/conda/lib/python3.8/site-packages/pandas/core/indexing.py:1720: SettingWithCopyWarning: \n",
      "A value is trying to be set on a copy of a slice from a DataFrame.\n",
      "Try using .loc[row_indexer,col_indexer] = value instead\n",
      "\n",
      "See the caveats in the documentation: https://pandas.pydata.org/pandas-docs/stable/user_guide/indexing.html#returning-a-view-versus-a-copy\n",
      "  self._setitem_single_column(loc, value, pi)\n"
     ]
    },
    {
     "data": {
      "text/html": [
       "<div>\n",
       "<style scoped>\n",
       "    .dataframe tbody tr th:only-of-type {\n",
       "        vertical-align: middle;\n",
       "    }\n",
       "\n",
       "    .dataframe tbody tr th {\n",
       "        vertical-align: top;\n",
       "    }\n",
       "\n",
       "    .dataframe thead th {\n",
       "        text-align: right;\n",
       "    }\n",
       "</style>\n",
       "<table border=\"1\" class=\"dataframe\">\n",
       "  <thead>\n",
       "    <tr style=\"text-align: right;\">\n",
       "      <th></th>\n",
       "      <th>BraTS21ID</th>\n",
       "      <th>MGMT_value</th>\n",
       "      <th>MRI_Type</th>\n",
       "    </tr>\n",
       "  </thead>\n",
       "  <tbody>\n",
       "    <tr>\n",
       "      <th>102</th>\n",
       "      <td>154</td>\n",
       "      <td>0</td>\n",
       "      <td>T1wCE</td>\n",
       "    </tr>\n",
       "    <tr>\n",
       "      <th>161</th>\n",
       "      <td>240</td>\n",
       "      <td>1</td>\n",
       "      <td>T1wCE</td>\n",
       "    </tr>\n",
       "    <tr>\n",
       "      <th>508</th>\n",
       "      <td>740</td>\n",
       "      <td>1</td>\n",
       "      <td>T1wCE</td>\n",
       "    </tr>\n",
       "    <tr>\n",
       "      <th>495</th>\n",
       "      <td>725</td>\n",
       "      <td>1</td>\n",
       "      <td>T1wCE</td>\n",
       "    </tr>\n",
       "    <tr>\n",
       "      <th>298</th>\n",
       "      <td>432</td>\n",
       "      <td>0</td>\n",
       "      <td>T1wCE</td>\n",
       "    </tr>\n",
       "  </tbody>\n",
       "</table>\n",
       "</div>"
      ],
      "text/plain": [
       "     BraTS21ID  MGMT_value MRI_Type\n",
       "102        154           0    T1wCE\n",
       "161        240           1    T1wCE\n",
       "508        740           1    T1wCE\n",
       "495        725           1    T1wCE\n",
       "298        432           0    T1wCE"
      ]
     },
     "metadata": {},
     "output_type": "display_data"
    },
    {
     "data": {
      "application/vnd.jupyter.widget-view+json": {
       "model_id": "ad59699cd9074b8981c62cf471a8a52e",
       "version_major": 2,
       "version_minor": 0
      },
      "text/plain": [
       "HBox(children=(FloatProgress(value=0.0, max=15.0), HTML(value='')))"
      ]
     },
     "metadata": {},
     "output_type": "display_data"
    },
    {
     "name": "stdout",
     "output_type": "stream",
     "text": [
      "EPOCH: 1\n"
     ]
    },
    {
     "data": {
      "application/vnd.jupyter.widget-view+json": {
       "model_id": "c4b5917a10d64caabc219a0ab0ec2777",
       "version_major": 2,
       "version_minor": 0
      },
      "text/plain": [
       "HBox(children=(FloatProgress(value=0.0, max=59.0), HTML(value='')))"
      ]
     },
     "metadata": {},
     "output_type": "display_data"
    },
    {
     "name": "stdout",
     "output_type": "stream",
     "text": [
      "Train Step 59/59, train_loss: 0.7983\n"
     ]
    },
    {
     "data": {
      "application/vnd.jupyter.widget-view+json": {
       "model_id": "a56cf0cc112c40dab56ff3c8c72b0316",
       "version_major": 2,
       "version_minor": 0
      },
      "text/plain": [
       "HBox(children=(FloatProgress(value=0.0, max=15.0), HTML(value='')))"
      ]
     },
     "metadata": {},
     "output_type": "display_data"
    },
    {
     "name": "stdout",
     "output_type": "stream",
     "text": [
      "outputs tensor([0.4055, 0.4055, 0.4055, 0.4055, 0.4055, 0.4055, 0.4055, 0.4055],\n",
      "       device='cuda:0') tensor(0., device='cuda:0')\n",
      "targets tensor([0.0100, 0.0100, 0.9900, 0.9900, 0.9900, 0.9900, 0.9900, 0.9900],\n",
      "       device='cuda:0') tensor(0.4537, device='cuda:0')\n",
      "outputs tensor([0.4055, 0.4055, 0.4055, 0.4055, 0.4055, 0.4055, 0.4055, 0.4055],\n",
      "       device='cuda:0') tensor(0., device='cuda:0')\n",
      "targets tensor([0.0100, 0.9900, 0.0100, 0.0100, 0.0100, 0.0100, 0.9900, 0.0100],\n",
      "       device='cuda:0') tensor(0.4537, device='cuda:0')\n",
      "outputs tensor([0.4055, 0.4055, 0.4055, 0.4055, 0.4055, 0.4055, 0.4055, 0.4055],\n",
      "       device='cuda:0') tensor(0., device='cuda:0')\n",
      "targets tensor([0.0100, 0.0100, 0.9900, 0.0100, 0.0100, 0.9900, 0.0100, 0.0100],\n",
      "       device='cuda:0') tensor(0.4537, device='cuda:0')\n",
      "outputs tensor([0.4055, 0.4055, 0.4055, 0.4055, 0.4055, 0.4055, 0.4055, 0.4055],\n",
      "       device='cuda:0') tensor(0., device='cuda:0')\n",
      "targets tensor([0.9900, 0.9900, 0.9900, 0.0100, 0.9900, 0.9900, 0.0100, 0.0100],\n",
      "       device='cuda:0') tensor(0.5072, device='cuda:0')\n",
      "outputs tensor([0.4055, 0.4055, 0.4055, 0.4055, 0.4055, 0.4055, 0.4055, 0.4055],\n",
      "       device='cuda:0') tensor(0., device='cuda:0')\n",
      "targets tensor([0.9900, 0.0100, 0.9900, 0.0100, 0.9900, 0.9900, 0.9900, 0.9900],\n",
      "       device='cuda:0') tensor(0.4537, device='cuda:0')\n",
      "outputs tensor([0.4055, 0.4055, 0.4055, 0.4055, 0.4055, 0.4055, 0.4055, 0.4055],\n",
      "       device='cuda:0') tensor(0., device='cuda:0')\n",
      "targets tensor([0.9900, 0.9900, 0.0100, 0.0100, 0.9900, 0.9900, 0.0100, 0.0100],\n",
      "       device='cuda:0') tensor(0.5238, device='cuda:0')\n",
      "outputs ep 6/15, valid_loss: 0.7053tensor([0.4055, 0.4055, 0.4055, 0.4055, 0.4055, 0.4055, 0.4055, 0.4055],\n",
      "       device='cuda:0') tensor(0., device='cuda:0')\n",
      "targets tensor([0.0100, 0.9900, 0.9900, 0.9900, 0.9900, 0.0100, 0.0100, 0.0100],\n",
      "       device='cuda:0') tensor(0.5238, device='cuda:0')\n",
      "outputs tensor([0.4055, 0.4055, 0.4055, 0.4055, 0.4055, 0.4055, 0.4055, 0.4055],\n",
      "       device='cuda:0') tensor(0., device='cuda:0')\n",
      "targets tensor([0.0100, 0.9900, 0.9900, 0.9900, 0.0100, 0.9900, 0.9900, 0.0100],\n",
      "       device='cuda:0') tensor(0.5072, device='cuda:0')\n",
      "outputs tensor([0.4055, 0.4055, 0.4055, 0.4055, 0.4055, 0.4055, 0.4055, 0.4055],\n",
      "       device='cuda:0') tensor(0., device='cuda:0')\n",
      "targets tensor([0.0100, 0.0100, 0.0100, 0.0100, 0.9900, 0.0100, 0.0100, 0.9900],\n",
      "       device='cuda:0') tensor(0.4537, device='cuda:0')\n",
      "outputs tensor([0.4055, 0.4055, 0.4055, 0.4055, 0.4055, 0.4055, 0.4055, 0.4055],\n",
      "       device='cuda:0') tensor(0., device='cuda:0')\n",
      "targets tensor([0.9900, 0.9900, 0.0100, 0.9900, 0.9900, 0.9900, 0.9900, 0.0100],\n",
      "       device='cuda:0') tensor(0.4537, device='cuda:0')\n",
      "outputs tensor([0.4055, 0.4055, 0.4055, 0.4055, 0.4055, 0.4055, 0.4055, 0.4055],\n",
      "       device='cuda:0') tensor(0., device='cuda:0')\n",
      "targets tensor([0.0100, 0.0100, 0.0100, 0.9900, 0.9900, 0.9900, 0.9900, 0.9900],\n",
      "       device='cuda:0') tensor(0.5072, device='cuda:0')\n",
      "outputs tensor([0.4055, 0.4055, 0.4055, 0.4055, 0.4055, 0.4055, 0.4055, 0.4055],\n",
      "       device='cuda:0') tensor(0., device='cuda:0')\n",
      "targets tensor([0.0100, 0.9900, 0.0100, 0.9900, 0.9900, 0.9900, 0.9900, 0.0100],\n",
      "       device='cuda:0') tensor(0.5072, device='cuda:0')\n",
      "outputs tensor([0.4055, 0.4055, 0.4055, 0.4055, 0.4055, 0.4055, 0.4055, 0.4055],\n",
      "       device='cuda:0') tensor(0., device='cuda:0')\n",
      "targets tensor([0.9900, 0.9900, 0.9900, 0.0100, 0.0100, 0.9900, 0.0100, 0.9900],\n",
      "       device='cuda:0') tensor(0.5072, device='cuda:0')\n",
      "outputs ep 13/15, valid_loss: 0.6945tensor([0.4055, 0.4055, 0.4055, 0.4055, 0.4055, 0.4055, 0.4055, 0.4055],\n",
      "       device='cuda:0') tensor(0., device='cuda:0')\n",
      "targets tensor([0.0100, 0.9900, 0.0100, 0.0100, 0.0100, 0.0100, 0.9900, 0.0100],\n",
      "       device='cuda:0') tensor(0.4537, device='cuda:0')\n",
      "outputs tensor([0.4055, 0.4055, 0.4055, 0.4055, 0.4055], device='cuda:0') tensor(0., device='cuda:0')\n",
      "targets tensor([0.9900, 0.0100, 0.0100, 0.9900, 0.0100], device='cuda:0') tensor(0.5368, device='cuda:0')\n",
      "Valid Step 15/15, valid_loss: 0.7063\n",
      "[Epoch Train: 1] loss: 0.7983, time: 15.00 s            \n",
      "[Epoch Valid: 1] loss: 0.7063, auc: 0.5000, time: 2.00 s\n",
      "EPOCH: 2\n"
     ]
    },
    {
     "data": {
      "application/vnd.jupyter.widget-view+json": {
       "model_id": "1919c0173ba34f7ead9126857c6bbe2d",
       "version_major": 2,
       "version_minor": 0
      },
      "text/plain": [
       "HBox(children=(FloatProgress(value=0.0, max=59.0), HTML(value='')))"
      ]
     },
     "metadata": {},
     "output_type": "display_data"
    },
    {
     "name": "stdout",
     "output_type": "stream",
     "text": [
      "Train Step 59/59, train_loss: 0.7023\n"
     ]
    },
    {
     "data": {
      "application/vnd.jupyter.widget-view+json": {
       "model_id": "2d873c3a6d194e9bbbf34ecb435958d4",
       "version_major": 2,
       "version_minor": 0
      },
      "text/plain": [
       "HBox(children=(FloatProgress(value=0.0, max=15.0), HTML(value='')))"
      ]
     },
     "metadata": {},
     "output_type": "display_data"
    },
    {
     "name": "stdout",
     "output_type": "stream",
     "text": [
      "outputs tensor([0.5510, 0.5510, 0.5510, 0.5510, 0.5510, 0.5510, 0.5510, 0.5510],\n",
      "       device='cuda:0') tensor(0., device='cuda:0')\n",
      "targets tensor([0.0100, 0.0100, 0.9900, 0.9900, 0.9900, 0.9900, 0.9900, 0.9900],\n",
      "       device='cuda:0') tensor(0.4537, device='cuda:0')\n",
      "outputs tensor([0.5510, 0.5510, 0.5510, 0.5510, 0.5510, 0.5510, 0.5510, 0.5510],\n",
      "       device='cuda:0') tensor(0., device='cuda:0')\n",
      "targets tensor([0.0100, 0.9900, 0.0100, 0.0100, 0.0100, 0.0100, 0.9900, 0.0100],\n",
      "       device='cuda:0') tensor(0.4537, device='cuda:0')\n",
      "outputs tensor([0.5510, 0.5510, 0.5510, 0.5510, 0.5510, 0.5510, 0.5510, 0.5510],\n",
      "       device='cuda:0') tensor(0., device='cuda:0')\n",
      "targets tensor([0.0100, 0.0100, 0.9900, 0.0100, 0.0100, 0.9900, 0.0100, 0.0100],\n",
      "       device='cuda:0') tensor(0.4537, device='cuda:0')\n",
      "outputs ep 3/15, valid_loss: 0.7756tensor([0.5510, 0.5510, 0.5510, 0.5510, 0.5510, 0.5510, 0.5510, 0.5510],\n",
      "       device='cuda:0') tensor(0., device='cuda:0')\n",
      "targets tensor([0.9900, 0.9900, 0.9900, 0.0100, 0.9900, 0.9900, 0.0100, 0.0100],\n",
      "       device='cuda:0') tensor(0.5072, device='cuda:0')\n",
      "outputs tensor([0.5510, 0.5510, 0.5510, 0.5510, 0.5510, 0.5510, 0.5510, 0.5510],\n",
      "       device='cuda:0') tensor(0., device='cuda:0')\n",
      "targets tensor([0.9900, 0.0100, 0.9900, 0.0100, 0.9900, 0.9900, 0.9900, 0.9900],\n",
      "       device='cuda:0') tensor(0.4537, device='cuda:0')\n",
      "outputs tensor([0.5510, 0.5510, 0.5510, 0.5510, 0.5510, 0.5510, 0.5510, 0.5510],\n",
      "       device='cuda:0') tensor(0., device='cuda:0')\n",
      "targets tensor([0.9900, 0.9900, 0.0100, 0.0100, 0.9900, 0.9900, 0.0100, 0.0100],\n",
      "       device='cuda:0') tensor(0.5238, device='cuda:0')\n",
      "outputs tensor([0.5510, 0.5510, 0.5510, 0.5510, 0.5510, 0.5510, 0.5510, 0.5510],\n",
      "       device='cuda:0') tensor(0., device='cuda:0')\n",
      "targets tensor([0.0100, 0.9900, 0.9900, 0.9900, 0.9900, 0.0100, 0.0100, 0.0100],\n",
      "       device='cuda:0') tensor(0.5238, device='cuda:0')\n",
      "outputs tensor([0.5510, 0.5510, 0.5510, 0.5510, 0.5510, 0.5510, 0.5510, 0.5510],\n",
      "       device='cuda:0') tensor(0., device='cuda:0')\n",
      "targets tensor([0.0100, 0.9900, 0.9900, 0.9900, 0.0100, 0.9900, 0.9900, 0.0100],\n",
      "       device='cuda:0') tensor(0.5072, device='cuda:0')\n",
      "outputs tensor([0.5510, 0.5510, 0.5510, 0.5510, 0.5510, 0.5510, 0.5510, 0.5510],\n",
      "       device='cuda:0') tensor(0., device='cuda:0')\n",
      "targets tensor([0.0100, 0.0100, 0.0100, 0.0100, 0.9900, 0.0100, 0.0100, 0.9900],\n",
      "       device='cuda:0') tensor(0.4537, device='cuda:0')\n",
      "outputs tensor([0.5510, 0.5510, 0.5510, 0.5510, 0.5510, 0.5510, 0.5510, 0.5510],\n",
      "       device='cuda:0') tensor(0., device='cuda:0')\n",
      "targets tensor([0.9900, 0.9900, 0.0100, 0.9900, 0.9900, 0.9900, 0.9900, 0.0100],\n",
      "       device='cuda:0') tensor(0.4537, device='cuda:0')\n",
      "outputs ep 10/15, valid_loss: 0.7171tensor([0.5510, 0.5510, 0.5510, 0.5510, 0.5510, 0.5510, 0.5510, 0.5510],\n",
      "       device='cuda:0') tensor(0., device='cuda:0')\n",
      "targets tensor([0.0100, 0.0100, 0.0100, 0.9900, 0.9900, 0.9900, 0.9900, 0.9900],\n",
      "       device='cuda:0') tensor(0.5072, device='cuda:0')\n",
      "outputs tensor([0.5510, 0.5510, 0.5510, 0.5510, 0.5510, 0.5510, 0.5510, 0.5510],\n",
      "       device='cuda:0') tensor(0., device='cuda:0')\n",
      "targets tensor([0.0100, 0.9900, 0.0100, 0.9900, 0.9900, 0.9900, 0.9900, 0.0100],\n",
      "       device='cuda:0') tensor(0.5072, device='cuda:0')\n",
      "outputs tensor([0.5510, 0.5510, 0.5510, 0.5510, 0.5510, 0.5510, 0.5510, 0.5510],\n",
      "       device='cuda:0') tensor(0., device='cuda:0')\n",
      "targets tensor([0.9900, 0.9900, 0.9900, 0.0100, 0.0100, 0.9900, 0.0100, 0.9900],\n",
      "       device='cuda:0') tensor(0.5072, device='cuda:0')\n",
      "outputs tensor([0.5510, 0.5510, 0.5510, 0.5510, 0.5510, 0.5510, 0.5510, 0.5510],\n",
      "       device='cuda:0') tensor(0., device='cuda:0')\n",
      "targets tensor([0.0100, 0.9900, 0.0100, 0.0100, 0.0100, 0.0100, 0.9900, 0.0100],\n",
      "       device='cuda:0') tensor(0.4537, device='cuda:0')\n",
      "outputs tensor([0.5510, 0.5510, 0.5510, 0.5510, 0.5510], device='cuda:0') tensor(0., device='cuda:0')\n",
      "targets tensor([0.9900, 0.0100, 0.0100, 0.9900, 0.0100], device='cuda:0') tensor(0.5368, device='cuda:0')\n",
      "Valid Step 15/15, valid_loss: 0.7207\n",
      "[Epoch Train: 2] loss: 0.7023, time: 14.00 s            \n",
      "[Epoch Valid: 2] loss: 0.7207, auc: 0.5000, time: 2.00 s\n",
      "EPOCH: 3\n"
     ]
    },
    {
     "data": {
      "application/vnd.jupyter.widget-view+json": {
       "model_id": "30f7d2af4248461099e5403a9a41a751",
       "version_major": 2,
       "version_minor": 0
      },
      "text/plain": [
       "HBox(children=(FloatProgress(value=0.0, max=59.0), HTML(value='')))"
      ]
     },
     "metadata": {},
     "output_type": "display_data"
    },
    {
     "name": "stdout",
     "output_type": "stream",
     "text": [
      "Train Step 59/59, train_loss: 0.7024\n"
     ]
    },
    {
     "data": {
      "application/vnd.jupyter.widget-view+json": {
       "model_id": "451aaa391dce4975a2b48c61553416cc",
       "version_major": 2,
       "version_minor": 0
      },
      "text/plain": [
       "HBox(children=(FloatProgress(value=0.0, max=15.0), HTML(value='')))"
      ]
     },
     "metadata": {},
     "output_type": "display_data"
    },
    {
     "name": "stdout",
     "output_type": "stream",
     "text": [
      "outputs tensor([0.5694, 0.5694, 0.5694, 0.5694, 0.5694, 0.5694, 0.5694, 0.5694],\n",
      "       device='cuda:0') tensor(0., device='cuda:0')\n",
      "targets tensor([0.0100, 0.0100, 0.9900, 0.9900, 0.9900, 0.9900, 0.9900, 0.9900],\n",
      "       device='cuda:0') tensor(0.4537, device='cuda:0')\n",
      "outputs tensor([0.5694, 0.5694, 0.5694, 0.5694, 0.5694, 0.5694, 0.5694, 0.5694],\n",
      "       device='cuda:0') tensor(0., device='cuda:0')\n",
      "targets tensor([0.0100, 0.9900, 0.0100, 0.0100, 0.0100, 0.0100, 0.9900, 0.0100],\n",
      "       device='cuda:0') tensor(0.4537, device='cuda:0')\n",
      "outputs tensor([0.5694, 0.5694, 0.5694, 0.5694, 0.5694, 0.5694, 0.5694, 0.5694],\n",
      "       device='cuda:0') tensor(0., device='cuda:0')\n",
      "targets tensor([0.0100, 0.0100, 0.9900, 0.0100, 0.0100, 0.9900, 0.0100, 0.0100],\n",
      "       device='cuda:0') tensor(0.4537, device='cuda:0')\n",
      "outputs tensor([0.5694, 0.5694, 0.5694, 0.5694, 0.5694, 0.5694, 0.5694, 0.5694],\n",
      "       device='cuda:0') tensor(0., device='cuda:0')\n",
      "targets tensor([0.9900, 0.9900, 0.9900, 0.0100, 0.9900, 0.9900, 0.0100, 0.0100],\n",
      "       device='cuda:0') tensor(0.5072, device='cuda:0')\n",
      "outputs tensor([0.5694, 0.5694, 0.5694, 0.5694, 0.5694, 0.5694, 0.5694, 0.5694],\n",
      "       device='cuda:0') tensor(0., device='cuda:0')\n",
      "targets tensor([0.9900, 0.0100, 0.9900, 0.0100, 0.9900, 0.9900, 0.9900, 0.9900],\n",
      "       device='cuda:0') tensor(0.4537, device='cuda:0')\n",
      "outputs tensor([0.5694, 0.5694, 0.5694, 0.5694, 0.5694, 0.5694, 0.5694, 0.5694],\n",
      "       device='cuda:0') tensor(0., device='cuda:0')\n",
      "targets tensor([0.9900, 0.9900, 0.0100, 0.0100, 0.9900, 0.9900, 0.0100, 0.0100],\n",
      "       device='cuda:0') tensor(0.5238, device='cuda:0')\n",
      "outputs tensor([0.5694, 0.5694, 0.5694, 0.5694, 0.5694, 0.5694, 0.5694, 0.5694],\n",
      "       device='cuda:0') tensor(0., device='cuda:0')\n",
      "targets tensor([0.0100, 0.9900, 0.9900, 0.9900, 0.9900, 0.0100, 0.0100, 0.0100],\n",
      "       device='cuda:0') tensor(0.5238, device='cuda:0')\n",
      "outputs ep 7/15, valid_loss: 0.7232tensor([0.5694, 0.5694, 0.5694, 0.5694, 0.5694, 0.5694, 0.5694, 0.5694],\n",
      "       device='cuda:0') tensor(0., device='cuda:0')\n",
      "targets tensor([0.0100, 0.9900, 0.9900, 0.9900, 0.0100, 0.9900, 0.9900, 0.0100],\n",
      "       device='cuda:0') tensor(0.5072, device='cuda:0')\n",
      "outputs tensor([0.5694, 0.5694, 0.5694, 0.5694, 0.5694, 0.5694, 0.5694, 0.5694],\n",
      "       device='cuda:0') tensor(0., device='cuda:0')\n",
      "targets tensor([0.0100, 0.0100, 0.0100, 0.0100, 0.9900, 0.0100, 0.0100, 0.9900],\n",
      "       device='cuda:0') tensor(0.4537, device='cuda:0')\n",
      "outputs tensor([0.5694, 0.5694, 0.5694, 0.5694, 0.5694, 0.5694, 0.5694, 0.5694],\n",
      "       device='cuda:0') tensor(0., device='cuda:0')\n",
      "targets tensor([0.9900, 0.9900, 0.0100, 0.9900, 0.9900, 0.9900, 0.9900, 0.0100],\n",
      "       device='cuda:0') tensor(0.4537, device='cuda:0')\n",
      "outputs tensor([0.5694, 0.5694, 0.5694, 0.5694, 0.5694, 0.5694, 0.5694, 0.5694],\n",
      "       device='cuda:0') tensor(0., device='cuda:0')\n",
      "targets tensor([0.0100, 0.0100, 0.0100, 0.9900, 0.9900, 0.9900, 0.9900, 0.9900],\n",
      "       device='cuda:0') tensor(0.5072, device='cuda:0')\n",
      "outputs tensor([0.5694, 0.5694, 0.5694, 0.5694, 0.5694, 0.5694, 0.5694, 0.5694],\n",
      "       device='cuda:0') tensor(0., device='cuda:0')\n",
      "targets tensor([0.0100, 0.9900, 0.0100, 0.9900, 0.9900, 0.9900, 0.9900, 0.0100],\n",
      "       device='cuda:0') tensor(0.5072, device='cuda:0')\n",
      "outputs tensor([0.5694, 0.5694, 0.5694, 0.5694, 0.5694, 0.5694, 0.5694, 0.5694],\n",
      "       device='cuda:0') tensor(0., device='cuda:0')\n",
      "targets tensor([0.9900, 0.9900, 0.9900, 0.0100, 0.0100, 0.9900, 0.0100, 0.9900],\n",
      "       device='cuda:0') tensor(0.5072, device='cuda:0')\n",
      "outputs tensor([0.5694, 0.5694, 0.5694, 0.5694, 0.5694, 0.5694, 0.5694, 0.5694],\n",
      "       device='cuda:0') tensor(0., device='cuda:0')\n",
      "targets tensor([0.0100, 0.9900, 0.0100, 0.0100, 0.0100, 0.0100, 0.9900, 0.0100],\n",
      "       device='cuda:0') tensor(0.4537, device='cuda:0')\n",
      "outputs tensor([0.5694, 0.5694, 0.5694, 0.5694, 0.5694], device='cuda:0') tensor(0., device='cuda:0')\n",
      "targets tensor([0.9900, 0.0100, 0.0100, 0.9900, 0.0100], device='cuda:0') tensor(0.5368, device='cuda:0')\n",
      "Valid Step 15/15, valid_loss: 0.7229\n",
      "[Epoch Train: 3] loss: 0.7024, time: 15.00 s            \n",
      "[Epoch Valid: 3] loss: 0.7229, auc: 0.5000, time: 2.00 s\n",
      "EPOCH: 4\n"
     ]
    },
    {
     "data": {
      "application/vnd.jupyter.widget-view+json": {
       "model_id": "10e31bab971d48ed87904c4d7d02ddd1",
       "version_major": 2,
       "version_minor": 0
      },
      "text/plain": [
       "HBox(children=(FloatProgress(value=0.0, max=59.0), HTML(value='')))"
      ]
     },
     "metadata": {},
     "output_type": "display_data"
    },
    {
     "name": "stdout",
     "output_type": "stream",
     "text": [
      "Train Step 59/59, train_loss: 0.7046\n"
     ]
    },
    {
     "data": {
      "application/vnd.jupyter.widget-view+json": {
       "model_id": "5b8f464a9a15481f8651f0437aefeb95",
       "version_major": 2,
       "version_minor": 0
      },
      "text/plain": [
       "HBox(children=(FloatProgress(value=0.0, max=15.0), HTML(value='')))"
      ]
     },
     "metadata": {},
     "output_type": "display_data"
    },
    {
     "name": "stdout",
     "output_type": "stream",
     "text": [
      "outputs tensor([0.5247, 0.5247, 0.5247, 0.5247, 0.5247, 0.5247, 0.5247, 0.5247],\n",
      "       device='cuda:0') tensor(0., device='cuda:0')\n",
      "targets tensor([0.0100, 0.0100, 0.9900, 0.9900, 0.9900, 0.9900, 0.9900, 0.9900],\n",
      "       device='cuda:0') tensor(0.4537, device='cuda:0')\n",
      "outputs tensor([0.5247, 0.5247, 0.5247, 0.5247, 0.5247, 0.5247, 0.5247, 0.5247],\n",
      "       device='cuda:0') tensor(0., device='cuda:0')\n",
      "targets tensor([0.0100, 0.9900, 0.0100, 0.0100, 0.0100, 0.0100, 0.9900, 0.0100],\n",
      "       device='cuda:0') tensor(0.4537, device='cuda:0')\n",
      "outputs tensor([0.5247, 0.5247, 0.5247, 0.5247, 0.5247, 0.5247, 0.5247, 0.5247],\n",
      "       device='cuda:0') tensor(0., device='cuda:0')\n",
      "targets tensor([0.0100, 0.0100, 0.9900, 0.0100, 0.0100, 0.9900, 0.0100, 0.0100],\n",
      "       device='cuda:0') tensor(0.4537, device='cuda:0')\n",
      "outputs tensor([0.5247, 0.5247, 0.5247, 0.5247, 0.5247, 0.5247, 0.5247, 0.5247],\n",
      "       device='cuda:0') tensor(0., device='cuda:0')\n",
      "targets tensor([0.9900, 0.9900, 0.9900, 0.0100, 0.9900, 0.9900, 0.0100, 0.0100],\n",
      "       device='cuda:0') tensor(0.5072, device='cuda:0')\n",
      "outputs tensor([0.5247, 0.5247, 0.5247, 0.5247, 0.5247, 0.5247, 0.5247, 0.5247],\n",
      "       device='cuda:0') tensor(0., device='cuda:0')\n",
      "targets tensor([0.9900, 0.0100, 0.9900, 0.0100, 0.9900, 0.9900, 0.9900, 0.9900],\n",
      "       device='cuda:0') tensor(0.4537, device='cuda:0')\n",
      "outputs tensor([0.5247, 0.5247, 0.5247, 0.5247, 0.5247, 0.5247, 0.5247, 0.5247],\n",
      "       device='cuda:0') tensor(0., device='cuda:0')\n",
      "targets tensor([0.9900, 0.9900, 0.0100, 0.0100, 0.9900, 0.9900, 0.0100, 0.0100],\n",
      "       device='cuda:0') tensor(0.5238, device='cuda:0')\n",
      "outputs ep 6/15, valid_loss: 0.7165tensor([0.5247, 0.5247, 0.5247, 0.5247, 0.5247, 0.5247, 0.5247, 0.5247],\n",
      "       device='cuda:0') tensor(0., device='cuda:0')\n",
      "targets tensor([0.0100, 0.9900, 0.9900, 0.9900, 0.9900, 0.0100, 0.0100, 0.0100],\n",
      "       device='cuda:0') tensor(0.5238, device='cuda:0')\n",
      "outputs tensor([0.5247, 0.5247, 0.5247, 0.5247, 0.5247, 0.5247, 0.5247, 0.5247],\n",
      "       device='cuda:0') tensor(0., device='cuda:0')\n",
      "targets tensor([0.0100, 0.9900, 0.9900, 0.9900, 0.0100, 0.9900, 0.9900, 0.0100],\n",
      "       device='cuda:0') tensor(0.5072, device='cuda:0')\n",
      "outputs tensor([0.5247, 0.5247, 0.5247, 0.5247, 0.5247, 0.5247, 0.5247, 0.5247],\n",
      "       device='cuda:0') tensor(0., device='cuda:0')\n",
      "targets tensor([0.0100, 0.0100, 0.0100, 0.0100, 0.9900, 0.0100, 0.0100, 0.9900],\n",
      "       device='cuda:0') tensor(0.4537, device='cuda:0')\n",
      "outputs tensor([0.5247, 0.5247, 0.5247, 0.5247, 0.5247, 0.5247, 0.5247, 0.5247],\n",
      "       device='cuda:0') tensor(0., device='cuda:0')\n",
      "targets tensor([0.9900, 0.9900, 0.0100, 0.9900, 0.9900, 0.9900, 0.9900, 0.0100],\n",
      "       device='cuda:0') tensor(0.4537, device='cuda:0')\n",
      "outputs tensor([0.5247, 0.5247, 0.5247, 0.5247, 0.5247, 0.5247, 0.5247, 0.5247],\n",
      "       device='cuda:0') tensor(0., device='cuda:0')\n",
      "targets tensor([0.0100, 0.0100, 0.0100, 0.9900, 0.9900, 0.9900, 0.9900, 0.9900],\n",
      "       device='cuda:0') tensor(0.5072, device='cuda:0')\n",
      "outputs tensor([0.5247, 0.5247, 0.5247, 0.5247, 0.5247, 0.5247, 0.5247, 0.5247],\n",
      "       device='cuda:0') tensor(0., device='cuda:0')\n",
      "targets tensor([0.0100, 0.9900, 0.0100, 0.9900, 0.9900, 0.9900, 0.9900, 0.0100],\n",
      "       device='cuda:0') tensor(0.5072, device='cuda:0')\n",
      "outputs tensor([0.5247, 0.5247, 0.5247, 0.5247, 0.5247, 0.5247, 0.5247, 0.5247],\n",
      "       device='cuda:0') tensor(0., device='cuda:0')\n",
      "targets tensor([0.9900, 0.9900, 0.9900, 0.0100, 0.0100, 0.9900, 0.0100, 0.9900],\n",
      "       device='cuda:0') tensor(0.5072, device='cuda:0')\n",
      "outputs ep 13/15, valid_loss: 0.7025tensor([0.5247, 0.5247, 0.5247, 0.5247, 0.5247, 0.5247, 0.5247, 0.5247],\n",
      "       device='cuda:0') tensor(0., device='cuda:0')\n",
      "targets tensor([0.0100, 0.9900, 0.0100, 0.0100, 0.0100, 0.0100, 0.9900, 0.0100],\n",
      "       device='cuda:0') tensor(0.4537, device='cuda:0')\n",
      "outputs tensor([0.5247, 0.5247, 0.5247, 0.5247, 0.5247], device='cuda:0') tensor(0., device='cuda:0')\n",
      "targets tensor([0.9900, 0.0100, 0.0100, 0.9900, 0.0100], device='cuda:0') tensor(0.5368, device='cuda:0')\n",
      "Valid Step 15/15, valid_loss: 0.7177\n",
      "[Epoch Train: 4] loss: 0.7046, time: 15.00 s            \n",
      "[Epoch Valid: 4] loss: 0.7177, auc: 0.5000, time: 2.00 s\n",
      "EPOCH: 5\n"
     ]
    },
    {
     "data": {
      "application/vnd.jupyter.widget-view+json": {
       "model_id": "ffc88feb348e4750b7cfd0e0b68d7e82",
       "version_major": 2,
       "version_minor": 0
      },
      "text/plain": [
       "HBox(children=(FloatProgress(value=0.0, max=59.0), HTML(value='')))"
      ]
     },
     "metadata": {},
     "output_type": "display_data"
    },
    {
     "name": "stdout",
     "output_type": "stream",
     "text": [
      "Train Step 59/59, train_loss: 0.6938\n"
     ]
    },
    {
     "data": {
      "application/vnd.jupyter.widget-view+json": {
       "model_id": "e27e18f1814f409598d597e9fc6853d1",
       "version_major": 2,
       "version_minor": 0
      },
      "text/plain": [
       "HBox(children=(FloatProgress(value=0.0, max=15.0), HTML(value='')))"
      ]
     },
     "metadata": {},
     "output_type": "display_data"
    },
    {
     "name": "stdout",
     "output_type": "stream",
     "text": [
      "outputs tensor([0.5374, 0.5374, 0.5374, 0.5374, 0.5374, 0.5374, 0.5374, 0.5374],\n",
      "       device='cuda:0') tensor(4.7657e-07, device='cuda:0')\n",
      "targets tensor([0.0100, 0.0100, 0.9900, 0.9900, 0.9900, 0.9900, 0.9900, 0.9900],\n",
      "       device='cuda:0') tensor(0.4537, device='cuda:0')\n",
      "outputs tensor([0.5374, 0.5374, 0.5374, 0.5374, 0.5374, 0.5374, 0.5374, 0.5374],\n",
      "       device='cuda:0') tensor(4.2536e-07, device='cuda:0')\n",
      "targets tensor([0.0100, 0.9900, 0.0100, 0.0100, 0.0100, 0.0100, 0.9900, 0.0100],\n",
      "       device='cuda:0') tensor(0.4537, device='cuda:0')\n",
      "outputs tensor([0.5374, 0.5374, 0.5374, 0.5374, 0.5374, 0.5374, 0.5374, 0.5374],\n",
      "       device='cuda:0') tensor(6.4413e-07, device='cuda:0')\n",
      "targets tensor([0.0100, 0.0100, 0.9900, 0.0100, 0.0100, 0.9900, 0.0100, 0.0100],\n",
      "       device='cuda:0') tensor(0.4537, device='cuda:0')\n",
      "outputs tensor([0.5374, 0.5374, 0.5374, 0.5374, 0.5374, 0.5374, 0.5374, 0.5374],\n",
      "       device='cuda:0') tensor(6.0408e-07, device='cuda:0')\n",
      "targets tensor([0.9900, 0.9900, 0.9900, 0.0100, 0.9900, 0.9900, 0.0100, 0.0100],\n",
      "       device='cuda:0') tensor(0.5072, device='cuda:0')\n",
      "outputs tensor([0.5374, 0.5374, 0.5374, 0.5374, 0.5374, 0.5374, 0.5374, 0.5374],\n",
      "       device='cuda:0') tensor(8.0490e-07, device='cuda:0')\n",
      "targets tensor([0.9900, 0.0100, 0.9900, 0.0100, 0.9900, 0.9900, 0.9900, 0.9900],\n",
      "       device='cuda:0') tensor(0.4537, device='cuda:0')\n",
      "outputs tensor([0.5374, 0.5374, 0.5374, 0.5374, 0.5374, 0.5374, 0.5374, 0.5374],\n",
      "       device='cuda:0') tensor(6.1963e-07, device='cuda:0')\n",
      "targets tensor([0.9900, 0.9900, 0.0100, 0.0100, 0.9900, 0.9900, 0.0100, 0.0100],\n",
      "       device='cuda:0') tensor(0.5238, device='cuda:0')\n",
      "outputs ep 6/15, valid_loss: 0.7178tensor([0.5374, 0.5374, 0.5374, 0.5374, 0.5374, 0.5374, 0.5374, 0.5374],\n",
      "       device='cuda:0') tensor(4.6032e-07, device='cuda:0')\n",
      "targets tensor([0.0100, 0.9900, 0.9900, 0.9900, 0.9900, 0.0100, 0.0100, 0.0100],\n",
      "       device='cuda:0') tensor(0.5238, device='cuda:0')\n",
      "outputs tensor([0.5374, 0.5374, 0.5374, 0.5374, 0.5374, 0.5374, 0.5374, 0.5374],\n",
      "       device='cuda:0') tensor(6.5041e-07, device='cuda:0')\n",
      "targets tensor([0.0100, 0.9900, 0.9900, 0.9900, 0.0100, 0.9900, 0.9900, 0.0100],\n",
      "       device='cuda:0') tensor(0.5072, device='cuda:0')\n",
      "outputs tensor([0.5374, 0.5374, 0.5374, 0.5374, 0.5374, 0.5374, 0.5374, 0.5374],\n",
      "       device='cuda:0') tensor(4.8028e-07, device='cuda:0')\n",
      "targets tensor([0.0100, 0.0100, 0.0100, 0.0100, 0.9900, 0.0100, 0.0100, 0.9900],\n",
      "       device='cuda:0') tensor(0.4537, device='cuda:0')\n",
      "outputs tensor([0.5374, 0.5374, 0.5374, 0.5374, 0.5374, 0.5374, 0.5374, 0.5374],\n",
      "       device='cuda:0') tensor(5.8444e-07, device='cuda:0')\n",
      "targets tensor([0.9900, 0.9900, 0.0100, 0.9900, 0.9900, 0.9900, 0.9900, 0.0100],\n",
      "       device='cuda:0') tensor(0.4537, device='cuda:0')\n",
      "outputs tensor([0.5374, 0.5374, 0.5374, 0.5374, 0.5374, 0.5374, 0.5374, 0.5374],\n",
      "       device='cuda:0') tensor(5.6005e-07, device='cuda:0')\n",
      "targets tensor([0.0100, 0.0100, 0.0100, 0.9900, 0.9900, 0.9900, 0.9900, 0.9900],\n",
      "       device='cuda:0') tensor(0.5072, device='cuda:0')\n",
      "outputs tensor([0.5374, 0.5374, 0.5374, 0.5374, 0.5374, 0.5374, 0.5374, 0.5374],\n",
      "       device='cuda:0') tensor(5.0851e-07, device='cuda:0')\n",
      "targets tensor([0.0100, 0.9900, 0.0100, 0.9900, 0.9900, 0.9900, 0.9900, 0.0100],\n",
      "       device='cuda:0') tensor(0.5072, device='cuda:0')\n",
      "outputs tensor([0.5374, 0.5374, 0.5374, 0.5374, 0.5374, 0.5374, 0.5374, 0.5374],\n",
      "       device='cuda:0') tensor(2.7821e-07, device='cuda:0')\n",
      "targets tensor([0.9900, 0.9900, 0.9900, 0.0100, 0.0100, 0.9900, 0.0100, 0.9900],\n",
      "       device='cuda:0') tensor(0.5072, device='cuda:0')\n",
      "outputs ep 13/15, valid_loss: 0.7035tensor([0.5374, 0.5374, 0.5374, 0.5374, 0.5374, 0.5374, 0.5374, 0.5374],\n",
      "       device='cuda:0') tensor(4.0489e-07, device='cuda:0')\n",
      "targets tensor([0.0100, 0.9900, 0.0100, 0.0100, 0.0100, 0.0100, 0.9900, 0.0100],\n",
      "       device='cuda:0') tensor(0.4537, device='cuda:0')\n",
      "outputs tensor([0.5374, 0.5374, 0.5374, 0.5374, 0.5374], device='cuda:0') tensor(7.0724e-07, device='cuda:0')\n",
      "targets tensor([0.9900, 0.0100, 0.0100, 0.9900, 0.0100], device='cuda:0') tensor(0.5368, device='cuda:0')\n",
      "Valid Step 15/15, valid_loss: 0.7192\n",
      "[Epoch Train: 5] loss: 0.6938, time: 14.00 s            \n",
      "[Epoch Valid: 5] loss: 0.7192, auc: 0.3226, time: 2.00 s\n",
      "EPOCH: 6\n"
     ]
    },
    {
     "data": {
      "application/vnd.jupyter.widget-view+json": {
       "model_id": "a93ef8f638ab415b86a5ad3c74c6b75c",
       "version_major": 2,
       "version_minor": 0
      },
      "text/plain": [
       "HBox(children=(FloatProgress(value=0.0, max=59.0), HTML(value='')))"
      ]
     },
     "metadata": {},
     "output_type": "display_data"
    },
    {
     "name": "stdout",
     "output_type": "stream",
     "text": [
      "Train Step 59/59, train_loss: 0.6936\n"
     ]
    },
    {
     "data": {
      "application/vnd.jupyter.widget-view+json": {
       "model_id": "86e47705ac994e329a27c84c6baf8cba",
       "version_major": 2,
       "version_minor": 0
      },
      "text/plain": [
       "HBox(children=(FloatProgress(value=0.0, max=15.0), HTML(value='')))"
      ]
     },
     "metadata": {},
     "output_type": "display_data"
    },
    {
     "name": "stdout",
     "output_type": "stream",
     "text": [
      "outputs tensor([0.5144, 0.5144, 0.5144, 0.5144, 0.5144, 0.5144, 0.5144, 0.5144],\n",
      "       device='cuda:0') tensor(1.4944e-07, device='cuda:0')\n",
      "targets tensor([0.0100, 0.0100, 0.9900, 0.9900, 0.9900, 0.9900, 0.9900, 0.9900],\n",
      "       device='cuda:0') tensor(0.4537, device='cuda:0')\n",
      "outputs tensor([0.5144, 0.5144, 0.5144, 0.5144, 0.5144, 0.5144, 0.5144, 0.5144],\n",
      "       device='cuda:0') tensor(1.2543e-07, device='cuda:0')\n",
      "targets tensor([0.0100, 0.9900, 0.0100, 0.0100, 0.0100, 0.0100, 0.9900, 0.0100],\n",
      "       device='cuda:0') tensor(0.4537, device='cuda:0')\n",
      "outputs tensor([0.5144, 0.5144, 0.5144, 0.5144, 0.5144, 0.5144, 0.5144, 0.5144],\n",
      "       device='cuda:0') tensor(2.0276e-07, device='cuda:0')\n",
      "targets tensor([0.0100, 0.0100, 0.9900, 0.0100, 0.0100, 0.9900, 0.0100, 0.0100],\n",
      "       device='cuda:0') tensor(0.4537, device='cuda:0')\n",
      "outputs tensor([0.5144, 0.5144, 0.5144, 0.5144, 0.5144, 0.5144, 0.5144, 0.5144],\n",
      "       device='cuda:0') tensor(1.7881e-07, device='cuda:0')\n",
      "targets tensor([0.9900, 0.9900, 0.9900, 0.0100, 0.9900, 0.9900, 0.0100, 0.0100],\n",
      "       device='cuda:0') tensor(0.5072, device='cuda:0')\n",
      "outputs tensor([0.5144, 0.5144, 0.5144, 0.5144, 0.5144, 0.5144, 0.5144, 0.5144],\n",
      "       device='cuda:0') tensor(2.0024e-07, device='cuda:0')\n",
      "targets tensor([0.9900, 0.0100, 0.9900, 0.0100, 0.9900, 0.9900, 0.9900, 0.9900],\n",
      "       device='cuda:0') tensor(0.4537, device='cuda:0')\n",
      "outputs tensor([0.5144, 0.5144, 0.5144, 0.5144, 0.5144, 0.5144, 0.5144, 0.5144],\n",
      "       device='cuda:0') tensor(2.0150e-07, device='cuda:0')\n",
      "targets tensor([0.9900, 0.9900, 0.0100, 0.0100, 0.9900, 0.9900, 0.0100, 0.0100],\n",
      "       device='cuda:0') tensor(0.5238, device='cuda:0')\n",
      "outputs ep 6/15, valid_loss: 0.7154tensor([0.5144, 0.5144, 0.5144, 0.5144, 0.5144, 0.5144, 0.5144, 0.5144],\n",
      "       device='cuda:0') tensor(1.2744e-07, device='cuda:0')\n",
      "targets tensor([0.0100, 0.9900, 0.9900, 0.9900, 0.9900, 0.0100, 0.0100, 0.0100],\n",
      "       device='cuda:0') tensor(0.5238, device='cuda:0')\n",
      "outputs tensor([0.5144, 0.5144, 0.5144, 0.5144, 0.5144, 0.5144, 0.5144, 0.5144],\n",
      "       device='cuda:0') tensor(1.6555e-07, device='cuda:0')\n",
      "targets tensor([0.0100, 0.9900, 0.9900, 0.9900, 0.0100, 0.9900, 0.9900, 0.0100],\n",
      "       device='cuda:0') tensor(0.5072, device='cuda:0')\n",
      "outputs tensor([0.5144, 0.5144, 0.5144, 0.5144, 0.5144, 0.5144, 0.5144, 0.5144],\n",
      "       device='cuda:0') tensor(1.1376e-07, device='cuda:0')\n",
      "targets tensor([0.0100, 0.0100, 0.0100, 0.0100, 0.9900, 0.0100, 0.0100, 0.9900],\n",
      "       device='cuda:0') tensor(0.4537, device='cuda:0')\n",
      "outputs tensor([0.5144, 0.5144, 0.5144, 0.5144, 0.5144, 0.5144, 0.5144, 0.5144],\n",
      "       device='cuda:0') tensor(1.7157e-07, device='cuda:0')\n",
      "targets tensor([0.9900, 0.9900, 0.0100, 0.9900, 0.9900, 0.9900, 0.9900, 0.0100],\n",
      "       device='cuda:0') tensor(0.4537, device='cuda:0')\n",
      "outputs tensor([0.5144, 0.5144, 0.5144, 0.5144, 0.5144, 0.5144, 0.5144, 0.5144],\n",
      "       device='cuda:0') tensor(1.5028e-07, device='cuda:0')\n",
      "targets tensor([0.0100, 0.0100, 0.0100, 0.9900, 0.9900, 0.9900, 0.9900, 0.9900],\n",
      "       device='cuda:0') tensor(0.5072, device='cuda:0')\n",
      "outputs tensor([0.5144, 0.5144, 0.5144, 0.5144, 0.5144, 0.5144, 0.5144, 0.5144],\n",
      "       device='cuda:0') tensor(1.4687e-07, device='cuda:0')\n",
      "targets tensor([0.0100, 0.9900, 0.0100, 0.9900, 0.9900, 0.9900, 0.9900, 0.0100],\n",
      "       device='cuda:0') tensor(0.5072, device='cuda:0')\n",
      "outputs tensor([0.5144, 0.5144, 0.5144, 0.5144, 0.5144, 0.5144, 0.5144, 0.5144],\n",
      "       device='cuda:0') tensor(7.9650e-08, device='cuda:0')\n",
      "targets tensor([0.9900, 0.9900, 0.9900, 0.0100, 0.0100, 0.9900, 0.0100, 0.9900],\n",
      "       device='cuda:0') tensor(0.5072, device='cuda:0')\n",
      "outputs ep 13/15, valid_loss: 0.7016tensor([0.5144, 0.5144, 0.5144, 0.5144, 0.5144, 0.5144, 0.5144, 0.5144],\n",
      "       device='cuda:0') tensor(8.2775e-08, device='cuda:0')\n",
      "targets tensor([0.0100, 0.9900, 0.0100, 0.0100, 0.0100, 0.0100, 0.9900, 0.0100],\n",
      "       device='cuda:0') tensor(0.4537, device='cuda:0')\n",
      "outputs tensor([0.5144, 0.5144, 0.5144, 0.5144, 0.5144], device='cuda:0') tensor(1.9918e-07, device='cuda:0')\n",
      "targets tensor([0.9900, 0.0100, 0.0100, 0.9900, 0.0100], device='cuda:0') tensor(0.5368, device='cuda:0')\n",
      "Valid Step 15/15, valid_loss: 0.7166\n",
      "[Epoch Train: 6] loss: 0.6936, time: 14.00 s            \n",
      "[Epoch Valid: 6] loss: 0.7166, auc: 0.3378, time: 2.00 s\n",
      "EPOCH: 7\n"
     ]
    },
    {
     "data": {
      "application/vnd.jupyter.widget-view+json": {
       "model_id": "8eb7846cfdad4d768b4ba110f27b4ed0",
       "version_major": 2,
       "version_minor": 0
      },
      "text/plain": [
       "HBox(children=(FloatProgress(value=0.0, max=59.0), HTML(value='')))"
      ]
     },
     "metadata": {},
     "output_type": "display_data"
    },
    {
     "name": "stdout",
     "output_type": "stream",
     "text": [
      "Train Step 12/59, train_loss: 0.6874\n",
      "\n"
     ]
    },
    {
     "ename": "KeyboardInterrupt",
     "evalue": "",
     "output_type": "error",
     "traceback": [
      "\u001b[0;31m---------------------------------------------------------------------------\u001b[0m",
      "\u001b[0;31mKeyboardInterrupt\u001b[0m                         Traceback (most recent call last)",
      "\u001b[0;32m<ipython-input-22-eeb126044218>\u001b[0m in \u001b[0;36m<module>\u001b[0;34m\u001b[0m\n\u001b[1;32m      2\u001b[0m \u001b[0;34m\u001b[0m\u001b[0m\n\u001b[1;32m      3\u001b[0m \u001b[0;32mif\u001b[0m \u001b[0;32mnot\u001b[0m \u001b[0mmodelfiles\u001b[0m\u001b[0;34m:\u001b[0m\u001b[0;34m\u001b[0m\u001b[0;34m\u001b[0m\u001b[0m\n\u001b[0;32m----> 4\u001b[0;31m     \u001b[0mmodelfiles\u001b[0m \u001b[0;34m=\u001b[0m \u001b[0;34m[\u001b[0m\u001b[0mtrain_mri_type\u001b[0m\u001b[0;34m(\u001b[0m\u001b[0mdf_train\u001b[0m\u001b[0;34m,\u001b[0m \u001b[0mdf_valid\u001b[0m\u001b[0;34m,\u001b[0m \u001b[0mm\u001b[0m\u001b[0;34m)\u001b[0m \u001b[0;32mfor\u001b[0m \u001b[0mm\u001b[0m \u001b[0;32min\u001b[0m \u001b[0mmri_types\u001b[0m\u001b[0;34m]\u001b[0m\u001b[0;34m\u001b[0m\u001b[0;34m\u001b[0m\u001b[0m\n\u001b[0m\u001b[1;32m      5\u001b[0m     \u001b[0mprint\u001b[0m\u001b[0;34m(\u001b[0m\u001b[0mmodelfiles\u001b[0m\u001b[0;34m)\u001b[0m\u001b[0;34m\u001b[0m\u001b[0;34m\u001b[0m\u001b[0m\n",
      "\u001b[0;32m<ipython-input-22-eeb126044218>\u001b[0m in \u001b[0;36m<listcomp>\u001b[0;34m(.0)\u001b[0m\n\u001b[1;32m      2\u001b[0m \u001b[0;34m\u001b[0m\u001b[0m\n\u001b[1;32m      3\u001b[0m \u001b[0;32mif\u001b[0m \u001b[0;32mnot\u001b[0m \u001b[0mmodelfiles\u001b[0m\u001b[0;34m:\u001b[0m\u001b[0;34m\u001b[0m\u001b[0;34m\u001b[0m\u001b[0m\n\u001b[0;32m----> 4\u001b[0;31m     \u001b[0mmodelfiles\u001b[0m \u001b[0;34m=\u001b[0m \u001b[0;34m[\u001b[0m\u001b[0mtrain_mri_type\u001b[0m\u001b[0;34m(\u001b[0m\u001b[0mdf_train\u001b[0m\u001b[0;34m,\u001b[0m \u001b[0mdf_valid\u001b[0m\u001b[0;34m,\u001b[0m \u001b[0mm\u001b[0m\u001b[0;34m)\u001b[0m \u001b[0;32mfor\u001b[0m \u001b[0mm\u001b[0m \u001b[0;32min\u001b[0m \u001b[0mmri_types\u001b[0m\u001b[0;34m]\u001b[0m\u001b[0;34m\u001b[0m\u001b[0;34m\u001b[0m\u001b[0m\n\u001b[0m\u001b[1;32m      5\u001b[0m     \u001b[0mprint\u001b[0m\u001b[0;34m(\u001b[0m\u001b[0mmodelfiles\u001b[0m\u001b[0;34m)\u001b[0m\u001b[0;34m\u001b[0m\u001b[0;34m\u001b[0m\u001b[0m\n",
      "\u001b[0;32m<ipython-input-20-08a90a1979b7>\u001b[0m in \u001b[0;36mtrain_mri_type\u001b[0;34m(df_train, df_valid, mri_type)\u001b[0m\n\u001b[1;32m     66\u001b[0m     )\n\u001b[1;32m     67\u001b[0m \u001b[0;34m\u001b[0m\u001b[0m\n\u001b[0;32m---> 68\u001b[0;31m     history = trainer.fit(\n\u001b[0m\u001b[1;32m     69\u001b[0m         \u001b[0mcfg\u001b[0m\u001b[0;34m.\u001b[0m\u001b[0mepochs\u001b[0m\u001b[0;34m,\u001b[0m\u001b[0;34m\u001b[0m\u001b[0;34m\u001b[0m\u001b[0m\n\u001b[1;32m     70\u001b[0m         \u001b[0mtrain_loader\u001b[0m\u001b[0;34m,\u001b[0m\u001b[0;34m\u001b[0m\u001b[0;34m\u001b[0m\u001b[0m\n",
      "\u001b[0;32m<ipython-input-19-16040d78e704>\u001b[0m in \u001b[0;36mfit\u001b[0;34m(self, epochs, train_loader, valid_loader, save_path, patience)\u001b[0m\n\u001b[1;32m     27\u001b[0m \u001b[0;34m\u001b[0m\u001b[0m\n\u001b[1;32m     28\u001b[0m \u001b[0;34m\u001b[0m\u001b[0m\n\u001b[0;32m---> 29\u001b[0;31m             \u001b[0mtrain_loss\u001b[0m\u001b[0;34m,\u001b[0m \u001b[0mtrain_time\u001b[0m \u001b[0;34m=\u001b[0m \u001b[0mself\u001b[0m\u001b[0;34m.\u001b[0m\u001b[0mtrain_epoch\u001b[0m\u001b[0;34m(\u001b[0m\u001b[0mtrain_loader\u001b[0m\u001b[0;34m)\u001b[0m\u001b[0;34m\u001b[0m\u001b[0;34m\u001b[0m\u001b[0m\n\u001b[0m\u001b[1;32m     30\u001b[0m             \u001b[0mvalid_loss\u001b[0m\u001b[0;34m,\u001b[0m \u001b[0mvalid_auc\u001b[0m\u001b[0;34m,\u001b[0m \u001b[0mvalid_time\u001b[0m \u001b[0;34m=\u001b[0m \u001b[0mself\u001b[0m\u001b[0;34m.\u001b[0m\u001b[0mvalid_epoch\u001b[0m\u001b[0;34m(\u001b[0m\u001b[0mvalid_loader\u001b[0m\u001b[0;34m)\u001b[0m\u001b[0;34m\u001b[0m\u001b[0;34m\u001b[0m\u001b[0m\n\u001b[1;32m     31\u001b[0m \u001b[0;34m\u001b[0m\u001b[0m\n",
      "\u001b[0;32m<ipython-input-19-16040d78e704>\u001b[0m in \u001b[0;36mtrain_epoch\u001b[0;34m(self, train_loader)\u001b[0m\n\u001b[1;32m     69\u001b[0m             \u001b[0mtargets\u001b[0m \u001b[0;34m=\u001b[0m \u001b[0mbatch\u001b[0m\u001b[0;34m[\u001b[0m\u001b[0;34m\"y\"\u001b[0m\u001b[0;34m]\u001b[0m\u001b[0;34m.\u001b[0m\u001b[0mto\u001b[0m\u001b[0;34m(\u001b[0m\u001b[0mself\u001b[0m\u001b[0;34m.\u001b[0m\u001b[0mdevice\u001b[0m\u001b[0;34m)\u001b[0m\u001b[0;34m\u001b[0m\u001b[0;34m\u001b[0m\u001b[0m\n\u001b[1;32m     70\u001b[0m             \u001b[0mself\u001b[0m\u001b[0;34m.\u001b[0m\u001b[0moptimizer\u001b[0m\u001b[0;34m.\u001b[0m\u001b[0mzero_grad\u001b[0m\u001b[0;34m(\u001b[0m\u001b[0;34m)\u001b[0m\u001b[0;34m\u001b[0m\u001b[0;34m\u001b[0m\u001b[0m\n\u001b[0;32m---> 71\u001b[0;31m             \u001b[0moutputs\u001b[0m \u001b[0;34m=\u001b[0m \u001b[0mself\u001b[0m\u001b[0;34m.\u001b[0m\u001b[0mmodel\u001b[0m\u001b[0;34m(\u001b[0m\u001b[0mX\u001b[0m\u001b[0;34m)\u001b[0m\u001b[0;34m.\u001b[0m\u001b[0msqueeze\u001b[0m\u001b[0;34m(\u001b[0m\u001b[0;36m1\u001b[0m\u001b[0;34m)\u001b[0m\u001b[0;34m\u001b[0m\u001b[0;34m\u001b[0m\u001b[0m\n\u001b[0m\u001b[1;32m     72\u001b[0m \u001b[0;34m\u001b[0m\u001b[0m\n\u001b[1;32m     73\u001b[0m             \u001b[0mloss\u001b[0m \u001b[0;34m=\u001b[0m \u001b[0mself\u001b[0m\u001b[0;34m.\u001b[0m\u001b[0mcriterion\u001b[0m\u001b[0;34m(\u001b[0m\u001b[0moutputs\u001b[0m\u001b[0;34m,\u001b[0m \u001b[0mtargets\u001b[0m\u001b[0;34m)\u001b[0m\u001b[0;34m\u001b[0m\u001b[0;34m\u001b[0m\u001b[0m\n",
      "\u001b[0;32m/opt/conda/lib/python3.8/site-packages/torch/nn/modules/module.py\u001b[0m in \u001b[0;36m_call_impl\u001b[0;34m(self, *input, **kwargs)\u001b[0m\n\u001b[1;32m    879\u001b[0m             \u001b[0mresult\u001b[0m \u001b[0;34m=\u001b[0m \u001b[0mself\u001b[0m\u001b[0;34m.\u001b[0m\u001b[0m_slow_forward\u001b[0m\u001b[0;34m(\u001b[0m\u001b[0;34m*\u001b[0m\u001b[0minput\u001b[0m\u001b[0;34m,\u001b[0m \u001b[0;34m**\u001b[0m\u001b[0mkwargs\u001b[0m\u001b[0;34m)\u001b[0m\u001b[0;34m\u001b[0m\u001b[0;34m\u001b[0m\u001b[0m\n\u001b[1;32m    880\u001b[0m         \u001b[0;32melse\u001b[0m\u001b[0;34m:\u001b[0m\u001b[0;34m\u001b[0m\u001b[0;34m\u001b[0m\u001b[0m\n\u001b[0;32m--> 881\u001b[0;31m             \u001b[0mresult\u001b[0m \u001b[0;34m=\u001b[0m \u001b[0mself\u001b[0m\u001b[0;34m.\u001b[0m\u001b[0mforward\u001b[0m\u001b[0;34m(\u001b[0m\u001b[0;34m*\u001b[0m\u001b[0minput\u001b[0m\u001b[0;34m,\u001b[0m \u001b[0;34m**\u001b[0m\u001b[0mkwargs\u001b[0m\u001b[0;34m)\u001b[0m\u001b[0;34m\u001b[0m\u001b[0;34m\u001b[0m\u001b[0m\n\u001b[0m\u001b[1;32m    882\u001b[0m         for hook in itertools.chain(\n\u001b[1;32m    883\u001b[0m                 \u001b[0m_global_forward_hooks\u001b[0m\u001b[0;34m.\u001b[0m\u001b[0mvalues\u001b[0m\u001b[0;34m(\u001b[0m\u001b[0;34m)\u001b[0m\u001b[0;34m,\u001b[0m\u001b[0;34m\u001b[0m\u001b[0;34m\u001b[0m\u001b[0m\n",
      "\u001b[0;32m<ipython-input-18-5dae85396ba6>\u001b[0m in \u001b[0;36mforward\u001b[0;34m(self, x)\u001b[0m\n\u001b[1;32m     20\u001b[0m \u001b[0;34m\u001b[0m\u001b[0m\n\u001b[1;32m     21\u001b[0m     \u001b[0;32mdef\u001b[0m \u001b[0mforward\u001b[0m\u001b[0;34m(\u001b[0m\u001b[0mself\u001b[0m\u001b[0;34m,\u001b[0m \u001b[0mx\u001b[0m\u001b[0;34m)\u001b[0m\u001b[0;34m:\u001b[0m\u001b[0;34m\u001b[0m\u001b[0;34m\u001b[0m\u001b[0m\n\u001b[0;32m---> 22\u001b[0;31m         \u001b[0mout\u001b[0m \u001b[0;34m=\u001b[0m \u001b[0mself\u001b[0m\u001b[0;34m.\u001b[0m\u001b[0mnet\u001b[0m\u001b[0;34m(\u001b[0m\u001b[0mx\u001b[0m\u001b[0;34m)\u001b[0m\u001b[0;34m\u001b[0m\u001b[0;34m\u001b[0m\u001b[0m\n\u001b[0m\u001b[1;32m     23\u001b[0m         \u001b[0;32mreturn\u001b[0m \u001b[0mout\u001b[0m\u001b[0;34m\u001b[0m\u001b[0;34m\u001b[0m\u001b[0m\n\u001b[1;32m     24\u001b[0m \u001b[0;34m\u001b[0m\u001b[0m\n",
      "\u001b[0;32m/opt/conda/lib/python3.8/site-packages/torch/nn/modules/module.py\u001b[0m in \u001b[0;36m_call_impl\u001b[0;34m(self, *input, **kwargs)\u001b[0m\n\u001b[1;32m    879\u001b[0m             \u001b[0mresult\u001b[0m \u001b[0;34m=\u001b[0m \u001b[0mself\u001b[0m\u001b[0;34m.\u001b[0m\u001b[0m_slow_forward\u001b[0m\u001b[0;34m(\u001b[0m\u001b[0;34m*\u001b[0m\u001b[0minput\u001b[0m\u001b[0;34m,\u001b[0m \u001b[0;34m**\u001b[0m\u001b[0mkwargs\u001b[0m\u001b[0;34m)\u001b[0m\u001b[0;34m\u001b[0m\u001b[0;34m\u001b[0m\u001b[0m\n\u001b[1;32m    880\u001b[0m         \u001b[0;32melse\u001b[0m\u001b[0;34m:\u001b[0m\u001b[0;34m\u001b[0m\u001b[0;34m\u001b[0m\u001b[0m\n\u001b[0;32m--> 881\u001b[0;31m             \u001b[0mresult\u001b[0m \u001b[0;34m=\u001b[0m \u001b[0mself\u001b[0m\u001b[0;34m.\u001b[0m\u001b[0mforward\u001b[0m\u001b[0;34m(\u001b[0m\u001b[0;34m*\u001b[0m\u001b[0minput\u001b[0m\u001b[0;34m,\u001b[0m \u001b[0;34m**\u001b[0m\u001b[0mkwargs\u001b[0m\u001b[0;34m)\u001b[0m\u001b[0;34m\u001b[0m\u001b[0;34m\u001b[0m\u001b[0m\n\u001b[0m\u001b[1;32m    882\u001b[0m         for hook in itertools.chain(\n\u001b[1;32m    883\u001b[0m                 \u001b[0m_global_forward_hooks\u001b[0m\u001b[0;34m.\u001b[0m\u001b[0mvalues\u001b[0m\u001b[0;34m(\u001b[0m\u001b[0;34m)\u001b[0m\u001b[0;34m,\u001b[0m\u001b[0;34m\u001b[0m\u001b[0;34m\u001b[0m\u001b[0m\n",
      "\u001b[0;32m/opt/conda/lib/python3.8/site-packages/efficientnet_pytorch/model.py\u001b[0m in \u001b[0;36mforward\u001b[0;34m(self, inputs)\u001b[0m\n\u001b[1;32m    312\u001b[0m         \"\"\"\n\u001b[1;32m    313\u001b[0m         \u001b[0;31m# Convolution layers\u001b[0m\u001b[0;34m\u001b[0m\u001b[0;34m\u001b[0m\u001b[0;34m\u001b[0m\u001b[0m\n\u001b[0;32m--> 314\u001b[0;31m         \u001b[0mx\u001b[0m \u001b[0;34m=\u001b[0m \u001b[0mself\u001b[0m\u001b[0;34m.\u001b[0m\u001b[0mextract_features\u001b[0m\u001b[0;34m(\u001b[0m\u001b[0minputs\u001b[0m\u001b[0;34m)\u001b[0m\u001b[0;34m\u001b[0m\u001b[0;34m\u001b[0m\u001b[0m\n\u001b[0m\u001b[1;32m    315\u001b[0m         \u001b[0;31m# Pooling and final linear layer\u001b[0m\u001b[0;34m\u001b[0m\u001b[0;34m\u001b[0m\u001b[0;34m\u001b[0m\u001b[0m\n\u001b[1;32m    316\u001b[0m         \u001b[0mx\u001b[0m \u001b[0;34m=\u001b[0m \u001b[0mself\u001b[0m\u001b[0;34m.\u001b[0m\u001b[0m_avg_pooling\u001b[0m\u001b[0;34m(\u001b[0m\u001b[0mx\u001b[0m\u001b[0;34m)\u001b[0m\u001b[0;34m\u001b[0m\u001b[0;34m\u001b[0m\u001b[0m\n",
      "\u001b[0;32m/opt/conda/lib/python3.8/site-packages/efficientnet_pytorch/model.py\u001b[0m in \u001b[0;36mextract_features\u001b[0;34m(self, inputs)\u001b[0m\n\u001b[1;32m    294\u001b[0m             \u001b[0;32mif\u001b[0m \u001b[0mdrop_connect_rate\u001b[0m\u001b[0;34m:\u001b[0m\u001b[0;34m\u001b[0m\u001b[0;34m\u001b[0m\u001b[0m\n\u001b[1;32m    295\u001b[0m                 \u001b[0mdrop_connect_rate\u001b[0m \u001b[0;34m*=\u001b[0m \u001b[0mfloat\u001b[0m\u001b[0;34m(\u001b[0m\u001b[0midx\u001b[0m\u001b[0;34m)\u001b[0m \u001b[0;34m/\u001b[0m \u001b[0mlen\u001b[0m\u001b[0;34m(\u001b[0m\u001b[0mself\u001b[0m\u001b[0;34m.\u001b[0m\u001b[0m_blocks\u001b[0m\u001b[0;34m)\u001b[0m  \u001b[0;31m# scale drop connect_rate\u001b[0m\u001b[0;34m\u001b[0m\u001b[0;34m\u001b[0m\u001b[0m\n\u001b[0;32m--> 296\u001b[0;31m             \u001b[0mx\u001b[0m \u001b[0;34m=\u001b[0m \u001b[0mblock\u001b[0m\u001b[0;34m(\u001b[0m\u001b[0mx\u001b[0m\u001b[0;34m,\u001b[0m \u001b[0mdrop_connect_rate\u001b[0m\u001b[0;34m=\u001b[0m\u001b[0mdrop_connect_rate\u001b[0m\u001b[0;34m)\u001b[0m\u001b[0;34m\u001b[0m\u001b[0;34m\u001b[0m\u001b[0m\n\u001b[0m\u001b[1;32m    297\u001b[0m \u001b[0;34m\u001b[0m\u001b[0m\n\u001b[1;32m    298\u001b[0m         \u001b[0;31m# Head\u001b[0m\u001b[0;34m\u001b[0m\u001b[0;34m\u001b[0m\u001b[0;34m\u001b[0m\u001b[0m\n",
      "\u001b[0;32m/opt/conda/lib/python3.8/site-packages/torch/nn/modules/module.py\u001b[0m in \u001b[0;36m_call_impl\u001b[0;34m(self, *input, **kwargs)\u001b[0m\n\u001b[1;32m    879\u001b[0m             \u001b[0mresult\u001b[0m \u001b[0;34m=\u001b[0m \u001b[0mself\u001b[0m\u001b[0;34m.\u001b[0m\u001b[0m_slow_forward\u001b[0m\u001b[0;34m(\u001b[0m\u001b[0;34m*\u001b[0m\u001b[0minput\u001b[0m\u001b[0;34m,\u001b[0m \u001b[0;34m**\u001b[0m\u001b[0mkwargs\u001b[0m\u001b[0;34m)\u001b[0m\u001b[0;34m\u001b[0m\u001b[0;34m\u001b[0m\u001b[0m\n\u001b[1;32m    880\u001b[0m         \u001b[0;32melse\u001b[0m\u001b[0;34m:\u001b[0m\u001b[0;34m\u001b[0m\u001b[0;34m\u001b[0m\u001b[0m\n\u001b[0;32m--> 881\u001b[0;31m             \u001b[0mresult\u001b[0m \u001b[0;34m=\u001b[0m \u001b[0mself\u001b[0m\u001b[0;34m.\u001b[0m\u001b[0mforward\u001b[0m\u001b[0;34m(\u001b[0m\u001b[0;34m*\u001b[0m\u001b[0minput\u001b[0m\u001b[0;34m,\u001b[0m \u001b[0;34m**\u001b[0m\u001b[0mkwargs\u001b[0m\u001b[0;34m)\u001b[0m\u001b[0;34m\u001b[0m\u001b[0;34m\u001b[0m\u001b[0m\n\u001b[0m\u001b[1;32m    882\u001b[0m         for hook in itertools.chain(\n\u001b[1;32m    883\u001b[0m                 \u001b[0m_global_forward_hooks\u001b[0m\u001b[0;34m.\u001b[0m\u001b[0mvalues\u001b[0m\u001b[0;34m(\u001b[0m\u001b[0;34m)\u001b[0m\u001b[0;34m,\u001b[0m\u001b[0;34m\u001b[0m\u001b[0;34m\u001b[0m\u001b[0m\n",
      "\u001b[0;32m/opt/conda/lib/python3.8/site-packages/efficientnet_pytorch/model.py\u001b[0m in \u001b[0;36mforward\u001b[0;34m(self, inputs, drop_connect_rate)\u001b[0m\n\u001b[1;32m    121\u001b[0m         \u001b[0;31m# Pointwise Convolution\u001b[0m\u001b[0;34m\u001b[0m\u001b[0;34m\u001b[0m\u001b[0;34m\u001b[0m\u001b[0m\n\u001b[1;32m    122\u001b[0m         \u001b[0mx\u001b[0m \u001b[0;34m=\u001b[0m \u001b[0mself\u001b[0m\u001b[0;34m.\u001b[0m\u001b[0m_project_conv\u001b[0m\u001b[0;34m(\u001b[0m\u001b[0mx\u001b[0m\u001b[0;34m)\u001b[0m\u001b[0;34m\u001b[0m\u001b[0;34m\u001b[0m\u001b[0m\n\u001b[0;32m--> 123\u001b[0;31m         \u001b[0mx\u001b[0m \u001b[0;34m=\u001b[0m \u001b[0mself\u001b[0m\u001b[0;34m.\u001b[0m\u001b[0m_bn2\u001b[0m\u001b[0;34m(\u001b[0m\u001b[0mx\u001b[0m\u001b[0;34m)\u001b[0m\u001b[0;34m\u001b[0m\u001b[0;34m\u001b[0m\u001b[0m\n\u001b[0m\u001b[1;32m    124\u001b[0m \u001b[0;34m\u001b[0m\u001b[0m\n\u001b[1;32m    125\u001b[0m         \u001b[0;31m# Skip connection and drop connect\u001b[0m\u001b[0;34m\u001b[0m\u001b[0;34m\u001b[0m\u001b[0;34m\u001b[0m\u001b[0m\n",
      "\u001b[0;32m/opt/conda/lib/python3.8/site-packages/torch/nn/modules/module.py\u001b[0m in \u001b[0;36m_call_impl\u001b[0;34m(self, *input, **kwargs)\u001b[0m\n\u001b[1;32m    879\u001b[0m             \u001b[0mresult\u001b[0m \u001b[0;34m=\u001b[0m \u001b[0mself\u001b[0m\u001b[0;34m.\u001b[0m\u001b[0m_slow_forward\u001b[0m\u001b[0;34m(\u001b[0m\u001b[0;34m*\u001b[0m\u001b[0minput\u001b[0m\u001b[0;34m,\u001b[0m \u001b[0;34m**\u001b[0m\u001b[0mkwargs\u001b[0m\u001b[0;34m)\u001b[0m\u001b[0;34m\u001b[0m\u001b[0;34m\u001b[0m\u001b[0m\n\u001b[1;32m    880\u001b[0m         \u001b[0;32melse\u001b[0m\u001b[0;34m:\u001b[0m\u001b[0;34m\u001b[0m\u001b[0;34m\u001b[0m\u001b[0m\n\u001b[0;32m--> 881\u001b[0;31m             \u001b[0mresult\u001b[0m \u001b[0;34m=\u001b[0m \u001b[0mself\u001b[0m\u001b[0;34m.\u001b[0m\u001b[0mforward\u001b[0m\u001b[0;34m(\u001b[0m\u001b[0;34m*\u001b[0m\u001b[0minput\u001b[0m\u001b[0;34m,\u001b[0m \u001b[0;34m**\u001b[0m\u001b[0mkwargs\u001b[0m\u001b[0;34m)\u001b[0m\u001b[0;34m\u001b[0m\u001b[0;34m\u001b[0m\u001b[0m\n\u001b[0m\u001b[1;32m    882\u001b[0m         for hook in itertools.chain(\n\u001b[1;32m    883\u001b[0m                 \u001b[0m_global_forward_hooks\u001b[0m\u001b[0;34m.\u001b[0m\u001b[0mvalues\u001b[0m\u001b[0;34m(\u001b[0m\u001b[0;34m)\u001b[0m\u001b[0;34m,\u001b[0m\u001b[0;34m\u001b[0m\u001b[0;34m\u001b[0m\u001b[0m\n",
      "\u001b[0;32m/opt/conda/lib/python3.8/site-packages/torch/nn/modules/batchnorm.py\u001b[0m in \u001b[0;36mforward\u001b[0;34m(self, input)\u001b[0m\n\u001b[1;32m    133\u001b[0m         \u001b[0;32massert\u001b[0m \u001b[0mself\u001b[0m\u001b[0;34m.\u001b[0m\u001b[0mrunning_mean\u001b[0m \u001b[0;32mis\u001b[0m \u001b[0;32mNone\u001b[0m \u001b[0;32mor\u001b[0m \u001b[0misinstance\u001b[0m\u001b[0;34m(\u001b[0m\u001b[0mself\u001b[0m\u001b[0;34m.\u001b[0m\u001b[0mrunning_mean\u001b[0m\u001b[0;34m,\u001b[0m \u001b[0mtorch\u001b[0m\u001b[0;34m.\u001b[0m\u001b[0mTensor\u001b[0m\u001b[0;34m)\u001b[0m\u001b[0;34m\u001b[0m\u001b[0;34m\u001b[0m\u001b[0m\n\u001b[1;32m    134\u001b[0m         \u001b[0;32massert\u001b[0m \u001b[0mself\u001b[0m\u001b[0;34m.\u001b[0m\u001b[0mrunning_var\u001b[0m \u001b[0;32mis\u001b[0m \u001b[0;32mNone\u001b[0m \u001b[0;32mor\u001b[0m \u001b[0misinstance\u001b[0m\u001b[0;34m(\u001b[0m\u001b[0mself\u001b[0m\u001b[0;34m.\u001b[0m\u001b[0mrunning_var\u001b[0m\u001b[0;34m,\u001b[0m \u001b[0mtorch\u001b[0m\u001b[0;34m.\u001b[0m\u001b[0mTensor\u001b[0m\u001b[0;34m)\u001b[0m\u001b[0;34m\u001b[0m\u001b[0;34m\u001b[0m\u001b[0m\n\u001b[0;32m--> 135\u001b[0;31m         return F.batch_norm(\n\u001b[0m\u001b[1;32m    136\u001b[0m             \u001b[0minput\u001b[0m\u001b[0;34m,\u001b[0m\u001b[0;34m\u001b[0m\u001b[0;34m\u001b[0m\u001b[0m\n\u001b[1;32m    137\u001b[0m             \u001b[0;31m# If buffers are not to be tracked, ensure that they won't be updated\u001b[0m\u001b[0;34m\u001b[0m\u001b[0;34m\u001b[0m\u001b[0;34m\u001b[0m\u001b[0m\n",
      "\u001b[0;32m/opt/conda/lib/python3.8/site-packages/torch/nn/functional.py\u001b[0m in \u001b[0;36mbatch_norm\u001b[0;34m(input, running_mean, running_var, weight, bias, training, momentum, eps)\u001b[0m\n\u001b[1;32m   2152\u001b[0m         \u001b[0m_verify_batch_size\u001b[0m\u001b[0;34m(\u001b[0m\u001b[0minput\u001b[0m\u001b[0;34m.\u001b[0m\u001b[0msize\u001b[0m\u001b[0;34m(\u001b[0m\u001b[0;34m)\u001b[0m\u001b[0;34m)\u001b[0m\u001b[0;34m\u001b[0m\u001b[0;34m\u001b[0m\u001b[0m\n\u001b[1;32m   2153\u001b[0m \u001b[0;34m\u001b[0m\u001b[0m\n\u001b[0;32m-> 2154\u001b[0;31m     return torch.batch_norm(\n\u001b[0m\u001b[1;32m   2155\u001b[0m         \u001b[0minput\u001b[0m\u001b[0;34m,\u001b[0m \u001b[0mweight\u001b[0m\u001b[0;34m,\u001b[0m \u001b[0mbias\u001b[0m\u001b[0;34m,\u001b[0m \u001b[0mrunning_mean\u001b[0m\u001b[0;34m,\u001b[0m \u001b[0mrunning_var\u001b[0m\u001b[0;34m,\u001b[0m \u001b[0mtraining\u001b[0m\u001b[0;34m,\u001b[0m \u001b[0mmomentum\u001b[0m\u001b[0;34m,\u001b[0m \u001b[0meps\u001b[0m\u001b[0;34m,\u001b[0m \u001b[0mtorch\u001b[0m\u001b[0;34m.\u001b[0m\u001b[0mbackends\u001b[0m\u001b[0;34m.\u001b[0m\u001b[0mcudnn\u001b[0m\u001b[0;34m.\u001b[0m\u001b[0menabled\u001b[0m\u001b[0;34m\u001b[0m\u001b[0;34m\u001b[0m\u001b[0m\n\u001b[1;32m   2156\u001b[0m     )\n",
      "\u001b[0;31mKeyboardInterrupt\u001b[0m: "
     ]
    },
    {
     "data": {
      "image/png": "[encoded data removed]",
      "text/plain": [
       "<Figure size 432x288 with 1 Axes>"
      ]
     },
     "metadata": {
      "needs_background": "light"
     },
     "output_type": "display_data"
    }
   ],
   "source": [
    "modelfiles = None\n",
    "\n",
    "if not modelfiles:\n",
    "    modelfiles = [train_mri_type(df_train, df_valid, m) for m in mri_types]\n",
    "    print(modelfiles)"
   ]
  },
  {
   "cell_type": "markdown",
   "id": "05788d01-ab53-4443-a1f5-267130f622f2",
   "metadata": {},
   "source": [
    "## Predict Function"
   ]
  },
  {
   "cell_type": "code",
   "execution_count": null,
   "id": "13ff8d67-0664-4d2d-b7d6-09c3416086b1",
   "metadata": {},
   "outputs": [],
   "source": [
    "def predict(modelfile, df, mri_type, split):\n",
    "    print(\"Predict:\", modelfile, mri_type, df.shape)\n",
    "    df.loc[:,\"MRI_Type\"] = mri_type\n",
    "    data_retriever = Dataset(\n",
    "        df.index.values, \n",
    "        mri_type=df[\"MRI_Type\"].values,\n",
    "        split=split\n",
    "    )\n",
    "\n",
    "    data_loader = torch_data.DataLoader(\n",
    "        data_retriever,\n",
    "        batch_size=cfg.batch_size,\n",
    "        shuffle=False,\n",
    "        num_workers=8,\n",
    "    )\n",
    "   \n",
    "    model = Model()\n",
    "    model.to(device)\n",
    "    \n",
    "    checkpoint = torch.load(modelfile)\n",
    "    model.load_state_dict(checkpoint[\"model_state_dict\"])\n",
    "    model.eval()\n",
    "    \n",
    "    y_pred = []\n",
    "    ids = []\n",
    "\n",
    "    for e, batch in enumerate(data_loader,1):\n",
    "        print(f\"{e}/{len(data_loader)}\", end=\"\\r\")\n",
    "        with torch.no_grad():\n",
    "            tmp_pred = torch.sigmoid(model(batch[\"X\"].to(device))).cpu().numpy().squeeze()\n",
    "            print('tmp_pred', tmp_pred)\n",
    "            if tmp_pred.size == 1:\n",
    "                y_pred.append(tmp_pred)\n",
    "            else:\n",
    "                y_pred.extend(tmp_pred.tolist())\n",
    "            ids.extend(batch[\"id\"].numpy().tolist())\n",
    "            \n",
    "    preddf = pd.DataFrame({\"BraTS21ID\": ids, \"MGMT_value\": y_pred}) \n",
    "    preddf = preddf.set_index(\"BraTS21ID\")\n",
    "    return preddf"
   ]
  },
  {
   "cell_type": "markdown",
   "id": "5e7d0f6a-db8a-4850-aed9-6703416c64df",
   "metadata": {},
   "source": [
    "## Ensemble for validation"
   ]
  },
  {
   "cell_type": "code",
   "execution_count": null,
   "id": "233526bf-87ff-40b6-8c3f-a9bbcfeb3fd7",
   "metadata": {},
   "outputs": [],
   "source": [
    "df_valid = df_valid.set_index(\"BraTS21ID\")"
   ]
  },
  {
   "cell_type": "code",
   "execution_count": null,
   "id": "b6116db7-eb98-410d-8f58-9afca0e5c6fe",
   "metadata": {},
   "outputs": [],
   "source": [
    "df_valid[\"MGMT_pred\"] = 0\n",
    "for m, mtype in zip(modelfiles,  mri_types):\n",
    "    pred = predict(m, df_valid, mtype, \"train\")\n",
    "    df_valid[\"MGMT_pred\"] += pred[\"MGMT_value\"]\n",
    "df_valid[\"MGMT_pred\"] /= len(modelfiles)\n",
    "auc = roc_auc_score(df_valid[\"MGMT_value\"], df_valid[\"MGMT_pred\"])\n",
    "print(f\"Validation ensemble AUC: {auc:.4f}\")\n",
    "sns.displot(df_valid[\"MGMT_pred\"])"
   ]
  },
  {
   "cell_type": "markdown",
   "id": "46e297d0-7053-4020-a641-d12bed19f3c2",
   "metadata": {},
   "source": [
    "## Export to Kaggle"
   ]
  },
  {
   "cell_type": "code",
   "execution_count": null,
   "id": "f31d4b72-51cb-41ee-b22a-9a6256c53313",
   "metadata": {},
   "outputs": [],
   "source": [
    "!rm -rf {cfg.models_path/cfg.model_name}"
   ]
  },
  {
   "cell_type": "code",
   "execution_count": null,
   "id": "49bff872-f714-475e-8f53-5fa0fe7ec93d",
   "metadata": {},
   "outputs": [],
   "source": [
    "import shutil\n",
    "\n",
    "if not Path(cfg.models_path/cfg.model_name).exists():\n",
    "    os.mkdir(cfg.models_path/cfg.model_name)\n",
    "for m in modelfiles:\n",
    "    shutil.copy(m, cfg.models_path/cfg.model_name)\n",
    "    \n",
    "shutil.make_archive(cfg.models_path/cfg.model_name, 'zip', cfg.models_path/cfg.model_name)"
   ]
  },
  {
   "cell_type": "code",
   "execution_count": null,
   "id": "f42f2bd7-08f4-465f-91bf-fd9022607820",
   "metadata": {},
   "outputs": [],
   "source": [
    "!du -h {cfg.models_path/cfg.model_name}"
   ]
  },
  {
   "cell_type": "code",
   "execution_count": null,
   "id": "a9a82981-4b50-4d8f-9293-d4be7e0496e4",
   "metadata": {},
   "outputs": [],
   "source": [
    "!rm -rf {cfg.models_path}/*.pth\n",
    "!rm -rf {cfg.models_path/cfg.model_name}/*.pth"
   ]
  },
  {
   "cell_type": "code",
   "execution_count": null,
   "id": "13ec0334-cd15-4f25-b042-bc4c60330bd4",
   "metadata": {},
   "outputs": [],
   "source": [
    "!mv {cfg.models_path/cfg.model_name}.zip {cfg.models_path/cfg.model_name}"
   ]
  },
  {
   "cell_type": "code",
   "execution_count": null,
   "id": "3b841211-646e-4e1e-bc9c-7a662821756b",
   "metadata": {},
   "outputs": [],
   "source": [
    "!kaggle datasets init -p {cfg.models_path/cfg.model_name}"
   ]
  },
  {
   "cell_type": "code",
   "execution_count": null,
   "id": "a7bda21d-cd62-4f78-ba42-5d1f1c7db7d2",
   "metadata": {},
   "outputs": [],
   "source": [
    "dataset_json_path = Path(cfg.models_path/cfg.model_name/'dataset-metadata.json')\n",
    "assert dataset_json_path.exists()"
   ]
  },
  {
   "cell_type": "code",
   "execution_count": null,
   "id": "c2f55eea-99a6-4573-ae4f-dbae945d4073",
   "metadata": {},
   "outputs": [],
   "source": [
    "with open(dataset_json_path, 'r') as f:\n",
    "    dataset_json = f.read()\n",
    "    dataset_json = dataset_json.replace('INSERT_TITLE_HERE', f'rsna-{cfg.model_name}').replace('INSERT_SLUG_HERE', f'rsna-{cfg.model_name}')\n",
    "    print(dataset_json)\n",
    "with(open(dataset_json_path, 'w')) as f:\n",
    "    f.write(dataset_json)"
   ]
  },
  {
   "cell_type": "code",
   "execution_count": null,
   "id": "6ff5db06-1a02-46b4-adde-e5de79ac43e8",
   "metadata": {},
   "outputs": [],
   "source": [
    "# !kaggle datasets create -p {cfg.models_path/cfg.model_name}"
   ]
  },
  {
   "cell_type": "code",
   "execution_count": null,
   "id": "6920eaa3-920e-4e22-9131-2818ea113d03",
   "metadata": {},
   "outputs": [],
   "source": [
    "!kaggle datasets version -p {cfg.models_path/cfg.model_name} -m \"Improved data set\" -d"
   ]
  },
  {
   "cell_type": "code",
   "execution_count": null,
   "id": "1729bf7a-a9b2-4f7f-a635-ef9bf6e89a2e",
   "metadata": {},
   "outputs": [],
   "source": []
  }
 ],
 "metadata": {
  "kernelspec": {
   "display_name": "Python 3",
   "language": "python",
   "name": "python3"
  },
  "language_info": {
   "codemirror_mode": {
    "name": "ipython",
    "version": 3
   },
   "file_extension": ".py",
   "mimetype": "text/x-python",
   "name": "python",
   "nbconvert_exporter": "python",
   "pygments_lexer": "ipython3",
   "version": "3.8.5"
  }
 },
 "nbformat": 4,
 "nbformat_minor": 5
}
