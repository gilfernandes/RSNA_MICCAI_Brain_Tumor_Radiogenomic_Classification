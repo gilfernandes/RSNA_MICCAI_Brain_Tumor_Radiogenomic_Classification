{
 "cells": [
  {
   "cell_type": "code",
   "execution_count": 1,
   "id": "72117177-df3f-4363-a641-da66a457edf3",
   "metadata": {},
   "outputs": [],
   "source": [
    "# !pip install pydicom"
   ]
  },
  {
   "cell_type": "code",
   "execution_count": 2,
   "id": "c33b20de-fe4a-4b0d-bc34-4279cfb9ef3c",
   "metadata": {},
   "outputs": [],
   "source": [
    "# !pip install git+https://github.com/shijianjian/EfficientNet-PyTorch-3D"
   ]
  },
  {
   "cell_type": "code",
   "execution_count": 3,
   "id": "44c5d7f0-ba25-4c0d-bd2f-0b1e48ef8f55",
   "metadata": {},
   "outputs": [],
   "source": [
    "import os\n",
    "import sys \n",
    "import json\n",
    "import glob\n",
    "import random\n",
    "import collections\n",
    "import time\n",
    "\n",
    "import numpy as np\n",
    "import pandas as pd\n",
    "import pydicom\n",
    "import cv2\n",
    "import matplotlib.pyplot as plt\n",
    "import seaborn as sns\n",
    "\n",
    "import torch\n",
    "from torch import nn\n",
    "from torch.utils import data as torch_data\n",
    "from sklearn import model_selection as sk_model_selection\n",
    "from torch.nn import functional as torch_functional\n",
    "import torch.nn.functional as F\n",
    "\n",
    "from sklearn.model_selection import StratifiedKFold\n",
    "from sklearn.metrics import roc_auc_score\n",
    "\n",
    "from pathlib import Path\n",
    "from efficientnet_pytorch_3d import EfficientNet3D\n",
    "\n",
    "from tqdm.notebook import tqdm"
   ]
  },
  {
   "cell_type": "code",
   "execution_count": 33,
   "id": "74596712-6d6f-4683-85fe-4a5997117a7d",
   "metadata": {},
   "outputs": [],
   "source": [
    "class Config():\n",
    "    epochs = 15\n",
    "    batch_size = 8\n",
    "    base_path = Path('/home/RSNA_MICCAI_Brain_Tumor/data')\n",
    "    assert base_path.exists()\n",
    "    models_path = Path('/home/RSNA_MICCAI_Brain_Tumor/models')\n",
    "    assert models_path.exists()\n",
    "    seed = 42\n",
    "    num_workers = 7\n",
    "    model_name = 'efficientnet3d-0'\n",
    "    \n",
    "cfg = Config()"
   ]
  },
  {
   "cell_type": "code",
   "execution_count": 5,
   "id": "6f7b5414-6108-42cc-8c59-f77b4b22386a",
   "metadata": {},
   "outputs": [],
   "source": [
    "if os.path.exists(cfg.base_path):\n",
    "    data_directory = cfg.base_path\n",
    "else:\n",
    "    assert False, \"data_directory does not exist\"\n",
    "    \n",
    "# mri_types = ['FLAIR']\n",
    "mri_types = ['FLAIR','T1w','T1wCE','T2w']\n",
    "SIZE = 256\n",
    "NUM_IMAGES = 64"
   ]
  },
  {
   "cell_type": "markdown",
   "id": "4dd6e771-9bbb-4c33-9025-28f3a3852827",
   "metadata": {},
   "source": [
    "### Functions to load images"
   ]
  },
  {
   "cell_type": "code",
   "execution_count": 6,
   "id": "07ebc209-c89b-4e98-8266-e8daedfd0e02",
   "metadata": {},
   "outputs": [
    {
     "data": {
      "text/plain": [
       "(1, 256, 256, 64)"
      ]
     },
     "execution_count": 6,
     "metadata": {},
     "output_type": "execute_result"
    }
   ],
   "source": [
    "def load_dicom_image(path, img_size=SIZE):\n",
    "    dicom = pydicom.read_file(path)\n",
    "    data = dicom.pixel_array\n",
    "    if np.min(data)==np.max(data):\n",
    "        data = np.zeros((img_size,img_size))\n",
    "        return data\n",
    "    data = data - np.min(data)\n",
    "    if np.max(data) != 0:\n",
    "        data = data / np.max(data)\n",
    "    \n",
    "    #data = (data * 255).astype(np.uint8)\n",
    "    data = cv2.resize(data, (img_size, img_size))\n",
    "    return data\n",
    "\n",
    "def load_dicom_images_3d(scan_id, num_imgs=NUM_IMAGES, img_size=SIZE, mri_type=\"FLAIR\", split=\"train\"):\n",
    "\n",
    "    files = sorted(glob.glob(f\"{data_directory}/{split}/{scan_id}/{mri_type}/*.dcm\"))\n",
    "    \n",
    "    middle = len(files)//2\n",
    "    num_imgs2 = num_imgs//2\n",
    "    p1 = max(0, middle - num_imgs2)\n",
    "    p2 = min(len(files), middle + num_imgs2)\n",
    "    img3d = np.stack([load_dicom_image(f) for f in files[p1:p2]]).T \n",
    "    if img3d.shape[-1] < num_imgs:\n",
    "        n_zero = np.zeros((img_size, img_size, num_imgs - img3d.shape[-1]))\n",
    "        img3d = np.concatenate((img3d,  n_zero), axis = -1)\n",
    "            \n",
    "    return np.expand_dims(img3d,0)\n",
    "\n",
    "load_dicom_images_3d(\"00000\").shape"
   ]
  },
  {
   "cell_type": "code",
   "execution_count": 7,
   "id": "b5ac59ed-8eba-4bb4-a1b5-da9a88ab513c",
   "metadata": {},
   "outputs": [],
   "source": [
    "def set_seed(seed):\n",
    "    random.seed(seed)\n",
    "    os.environ[\"PYTHONHASHSEED\"] = str(seed)\n",
    "    np.random.seed(seed)\n",
    "    torch.manual_seed(seed)\n",
    "    if torch.cuda.is_available():\n",
    "        torch.cuda.manual_seed_all(seed)\n",
    "        torch.backends.cudnn.deterministic = True\n",
    "\n",
    "set_seed(cfg.seed)"
   ]
  },
  {
   "cell_type": "markdown",
   "id": "3d6e1a77-ceea-4ab9-b78a-ea23ee7ee1c4",
   "metadata": {},
   "source": [
    "### train / test splits"
   ]
  },
  {
   "cell_type": "code",
   "execution_count": 8,
   "id": "5aaaeb81-51ab-4642-a231-de6a2d696e86",
   "metadata": {},
   "outputs": [
    {
     "data": {
      "text/html": [
       "<div>\n",
       "<style scoped>\n",
       "    .dataframe tbody tr th:only-of-type {\n",
       "        vertical-align: middle;\n",
       "    }\n",
       "\n",
       "    .dataframe tbody tr th {\n",
       "        vertical-align: top;\n",
       "    }\n",
       "\n",
       "    .dataframe thead th {\n",
       "        text-align: right;\n",
       "    }\n",
       "</style>\n",
       "<table border=\"1\" class=\"dataframe\">\n",
       "  <thead>\n",
       "    <tr style=\"text-align: right;\">\n",
       "      <th></th>\n",
       "      <th>BraTS21ID</th>\n",
       "      <th>MGMT_value</th>\n",
       "    </tr>\n",
       "  </thead>\n",
       "  <tbody>\n",
       "    <tr>\n",
       "      <th>0</th>\n",
       "      <td>0</td>\n",
       "      <td>1</td>\n",
       "    </tr>\n",
       "    <tr>\n",
       "      <th>1</th>\n",
       "      <td>2</td>\n",
       "      <td>1</td>\n",
       "    </tr>\n",
       "    <tr>\n",
       "      <th>2</th>\n",
       "      <td>3</td>\n",
       "      <td>0</td>\n",
       "    </tr>\n",
       "    <tr>\n",
       "      <th>3</th>\n",
       "      <td>5</td>\n",
       "      <td>1</td>\n",
       "    </tr>\n",
       "    <tr>\n",
       "      <th>4</th>\n",
       "      <td>6</td>\n",
       "      <td>1</td>\n",
       "    </tr>\n",
       "    <tr>\n",
       "      <th>...</th>\n",
       "      <td>...</td>\n",
       "      <td>...</td>\n",
       "    </tr>\n",
       "    <tr>\n",
       "      <th>580</th>\n",
       "      <td>1005</td>\n",
       "      <td>1</td>\n",
       "    </tr>\n",
       "    <tr>\n",
       "      <th>581</th>\n",
       "      <td>1007</td>\n",
       "      <td>1</td>\n",
       "    </tr>\n",
       "    <tr>\n",
       "      <th>582</th>\n",
       "      <td>1008</td>\n",
       "      <td>1</td>\n",
       "    </tr>\n",
       "    <tr>\n",
       "      <th>583</th>\n",
       "      <td>1009</td>\n",
       "      <td>0</td>\n",
       "    </tr>\n",
       "    <tr>\n",
       "      <th>584</th>\n",
       "      <td>1010</td>\n",
       "      <td>0</td>\n",
       "    </tr>\n",
       "  </tbody>\n",
       "</table>\n",
       "<p>585 rows × 2 columns</p>\n",
       "</div>"
      ],
      "text/plain": [
       "     BraTS21ID  MGMT_value\n",
       "0            0           1\n",
       "1            2           1\n",
       "2            3           0\n",
       "3            5           1\n",
       "4            6           1\n",
       "..         ...         ...\n",
       "580       1005           1\n",
       "581       1007           1\n",
       "582       1008           1\n",
       "583       1009           0\n",
       "584       1010           0\n",
       "\n",
       "[585 rows x 2 columns]"
      ]
     },
     "metadata": {},
     "output_type": "display_data"
    }
   ],
   "source": [
    "train_df = pd.read_csv(f\"{data_directory}/train_labels.csv\")\n",
    "display(train_df)\n",
    "\n",
    "df_train, df_valid = sk_model_selection.train_test_split(\n",
    "    train_df, \n",
    "    test_size=0.2, \n",
    "    random_state=42, \n",
    "    stratify=train_df[\"MGMT_value\"],\n",
    ")\n"
   ]
  },
  {
   "cell_type": "code",
   "execution_count": 9,
   "id": "c4abc40f-9634-4ca7-b027-d0d5686b9126",
   "metadata": {},
   "outputs": [
    {
     "data": {
      "text/html": [
       "<div>\n",
       "<style scoped>\n",
       "    .dataframe tbody tr th:only-of-type {\n",
       "        vertical-align: middle;\n",
       "    }\n",
       "\n",
       "    .dataframe tbody tr th {\n",
       "        vertical-align: top;\n",
       "    }\n",
       "\n",
       "    .dataframe thead th {\n",
       "        text-align: right;\n",
       "    }\n",
       "</style>\n",
       "<table border=\"1\" class=\"dataframe\">\n",
       "  <thead>\n",
       "    <tr style=\"text-align: right;\">\n",
       "      <th></th>\n",
       "      <th>BraTS21ID</th>\n",
       "      <th>MGMT_value</th>\n",
       "    </tr>\n",
       "  </thead>\n",
       "  <tbody>\n",
       "    <tr>\n",
       "      <th>549</th>\n",
       "      <td>803</td>\n",
       "      <td>0</td>\n",
       "    </tr>\n",
       "    <tr>\n",
       "      <th>504</th>\n",
       "      <td>735</td>\n",
       "      <td>0</td>\n",
       "    </tr>\n",
       "    <tr>\n",
       "      <th>2</th>\n",
       "      <td>3</td>\n",
       "      <td>0</td>\n",
       "    </tr>\n",
       "    <tr>\n",
       "      <th>550</th>\n",
       "      <td>804</td>\n",
       "      <td>0</td>\n",
       "    </tr>\n",
       "    <tr>\n",
       "      <th>247</th>\n",
       "      <td>359</td>\n",
       "      <td>1</td>\n",
       "    </tr>\n",
       "  </tbody>\n",
       "</table>\n",
       "</div>"
      ],
      "text/plain": [
       "     BraTS21ID  MGMT_value\n",
       "549        803           0\n",
       "504        735           0\n",
       "2            3           0\n",
       "550        804           0\n",
       "247        359           1"
      ]
     },
     "execution_count": 9,
     "metadata": {},
     "output_type": "execute_result"
    }
   ],
   "source": [
    "df_train.tail()"
   ]
  },
  {
   "cell_type": "markdown",
   "id": "c2be3fc3-c1a7-4feb-8928-027733a61d3b",
   "metadata": {},
   "source": [
    "### Model and training classes"
   ]
  },
  {
   "cell_type": "code",
   "execution_count": 10,
   "id": "49d9c846-1f59-4092-ab69-34fa0814087c",
   "metadata": {},
   "outputs": [],
   "source": [
    "class Dataset(torch_data.Dataset):\n",
    "    def __init__(self, paths, targets=None, mri_type=None, label_smoothing=0.01, split=\"train\"):\n",
    "        self.paths = paths\n",
    "        self.targets = targets\n",
    "        self.mri_type = mri_type\n",
    "        self.label_smoothing = label_smoothing\n",
    "        self.split = split\n",
    "          \n",
    "    def __len__(self):\n",
    "        return len(self.paths)\n",
    "    \n",
    "    def __getitem__(self, index):\n",
    "        scan_id = self.paths[index]\n",
    "        if self.targets is None:\n",
    "            data = load_dicom_images_3d(str(scan_id).zfill(5), mri_type=self.mri_type[index], split=self.split)\n",
    "        else:\n",
    "            data = load_dicom_images_3d(str(scan_id).zfill(5), mri_type=self.mri_type[index], split=\"train\")\n",
    "\n",
    "        if self.targets is None:\n",
    "            return {\"X\": torch.tensor(data).float(), \"id\": scan_id}\n",
    "        else:\n",
    "            y = torch.tensor(abs(self.targets[index]-self.label_smoothing), dtype=torch.float)\n",
    "            return {\"X\": torch.tensor(data).float(), \"y\": y}\n"
   ]
  },
  {
   "cell_type": "code",
   "execution_count": 11,
   "id": "d1c66e18-c105-4a53-92df-65de433a9fe7",
   "metadata": {},
   "outputs": [
    {
     "data": {
      "text/plain": [
       "tensor([0.3367, 0.1288, 0.2345, 0.2303, 0.0000, 0.0000, 2.2082, 0.0000, 0.4617,\n",
       "        0.2674])"
      ]
     },
     "execution_count": 11,
     "metadata": {},
     "output_type": "execute_result"
    }
   ],
   "source": [
    "torch.clamp(torch.randn([10]), min=0.0)"
   ]
  },
  {
   "cell_type": "code",
   "execution_count": 12,
   "id": "c18c0d48-a6ec-4756-86ed-fde82ff59fe6",
   "metadata": {},
   "outputs": [],
   "source": [
    "class ModelHead(nn.Module):\n",
    "    \n",
    "    def __init__(self, in_features, hidden_dim):\n",
    "        super().__init__()\n",
    "        self._fc = nn.Linear(in_features=in_features, out_features=hidden_dim, bias=True)\n",
    "        self._fc_2 = nn.Linear(in_features=hidden_dim, out_features=1, bias=True)\n",
    "        \n",
    "    def forward(self, x):\n",
    "        x = self._fc(x)\n",
    "        x = self._fc_2(x)\n",
    "        return x\n",
    "\n",
    "class Model(nn.Module):\n",
    "    def __init__(self):\n",
    "        super().__init__()\n",
    "        self.net = EfficientNet3D.from_name(\"efficientnet-b0\", override_params={'num_classes': 2}, in_channels=1)\n",
    "        n_features = self.net._fc.in_features\n",
    "        self.net._fc = ModelHead(n_features, 600)\n",
    "        \n",
    "    \n",
    "    def forward(self, x):\n",
    "        out = self.net(x)\n",
    "        return out\n",
    "    "
   ]
  },
  {
   "cell_type": "code",
   "execution_count": 13,
   "id": "fd7f3eee-d04b-4401-8ee8-bc167c76b2bd",
   "metadata": {},
   "outputs": [],
   "source": [
    "class Trainer:\n",
    "    def __init__(\n",
    "        self, \n",
    "        model, \n",
    "        device, \n",
    "        optimizer, \n",
    "        criterion\n",
    "    ):\n",
    "        self.model = model\n",
    "        self.device = device\n",
    "        self.optimizer = optimizer\n",
    "        self.criterion = criterion\n",
    "\n",
    "        self.best_valid_score = np.inf\n",
    "        self.n_patience = 0\n",
    "        self.lastmodel = None\n",
    "        \n",
    "    def fit(self, epochs, train_loader, valid_loader, save_path, patience):  \n",
    "        tbar = tqdm(range(1, epochs + 1), total=epochs)\n",
    "        self.lr_sched = torch.optim.lr_scheduler.CosineAnnealingWarmRestarts(self.optimizer, T_0=int(len(train_loader) / 2), T_mult=1, eta_min=0.0001, last_epoch=-1)\n",
    "        self.lrs = []\n",
    "        \n",
    "        for n_epoch in tbar:\n",
    "            \n",
    "            self.info_message(\"EPOCH: {}\", n_epoch)\n",
    "            tbar.set_description(f'EPOCH: {n_epoch}')\n",
    "            \n",
    "            \n",
    "            train_loss, train_time = self.train_epoch(train_loader)\n",
    "            valid_loss, valid_auc, valid_time = self.valid_epoch(valid_loader)\n",
    "            \n",
    "            self.info_message(\n",
    "                \"[Epoch Train: {}] loss: {:.4f}, time: {:.2f} s            \",\n",
    "                n_epoch, train_loss, train_time\n",
    "            )\n",
    "            \n",
    "            self.info_message(\n",
    "                \"[Epoch Valid: {}] loss: {:.4f}, auc: {:.4f}, time: {:.2f} s\",\n",
    "                n_epoch, valid_loss, valid_auc, valid_time\n",
    "            )\n",
    "\n",
    "            # if True:\n",
    "            # if self.best_valid_score < valid_auc: \n",
    "            if self.best_valid_score > valid_loss and n_epoch > 4 and valid_auc > 0.5: \n",
    "                self.save_model(n_epoch, save_path, valid_loss, valid_auc)\n",
    "                self.info_message(\n",
    "                     \"auc improved from {:.4f} to {:.4f}. Saved model to '{}'\", \n",
    "                    self.best_valid_score, valid_loss, self.lastmodel\n",
    "                )\n",
    "                self.best_valid_score = valid_loss\n",
    "                self.n_patience = 0\n",
    "            else:\n",
    "                self.n_patience += 1\n",
    "            \n",
    "            if self.n_patience >= patience:\n",
    "                self.info_message(\"\\nValid auc didn't improve last {} epochs.\", patience)\n",
    "                break\n",
    "        plt.plot(self.lrs)\n",
    "            \n",
    "    def train_epoch(self, train_loader):\n",
    "        self.model.train()\n",
    "        t = time.time()\n",
    "        sum_loss = 0\n",
    "\n",
    "        tbar = tqdm(enumerate(train_loader, 1), total=len(train_loader))\n",
    "        \n",
    "        for step, batch in tbar:\n",
    "            X = batch[\"X\"].to(self.device)\n",
    "            targets = batch[\"y\"].to(self.device)\n",
    "            self.optimizer.zero_grad()\n",
    "            outputs = self.model(X).squeeze(1)\n",
    "            \n",
    "            loss = self.criterion(outputs, targets)\n",
    "            loss.backward()\n",
    "\n",
    "            sum_loss += loss.detach().item()\n",
    "            torch.nn.utils.clip_grad_norm_(self.model.parameters(), 1.0)\n",
    "            self.optimizer.step()\n",
    "            self.lr_sched.step()\n",
    "            current_lr = self.optimizer.param_groups[0][\"lr\"]\n",
    "            self.lrs.append(\n",
    "                current_lr\n",
    "            )\n",
    "            \n",
    "            message = 'Train Step {}/{}, train_loss: {:.4f}'\n",
    "            self.info_message(message, step, len(train_loader), sum_loss/step, end=\"\\r\")\n",
    "        \n",
    "        return sum_loss/len(train_loader), int(time.time() - t)\n",
    "    \n",
    "    def valid_epoch(self, valid_loader):\n",
    "        self.model.eval()\n",
    "        t = time.time()\n",
    "        sum_loss = 0\n",
    "        y_all = []\n",
    "        outputs_all = []\n",
    "\n",
    "        tbar = tqdm(enumerate(valid_loader, 1), total=len(valid_loader))\n",
    "        for step, batch in tbar:\n",
    "            with torch.no_grad():\n",
    "                X = batch[\"X\"].to(self.device)\n",
    "                targets = batch[\"y\"].to(self.device)\n",
    "\n",
    "                outputs = self.model(X).squeeze(1)\n",
    "                loss = self.criterion(outputs, targets)\n",
    "                print('outputs', outputs.mean(), outputs.std())\n",
    "                print('targets', targets.mean(), targets.std())\n",
    "                \n",
    "                sum_loss += loss.detach().item()\n",
    "                y_all.extend(batch[\"y\"].tolist())\n",
    "                outputs_all.extend(outputs.tolist())\n",
    "\n",
    "            message = 'Valid Step {}/{}, valid_loss: {:.4f}'\n",
    "            self.info_message(message, step, len(valid_loader), sum_loss/step, end=\"\\r\")\n",
    "            \n",
    "        y_all = [1 if x > 0.5 else 0 for x in y_all]\n",
    "        auc = roc_auc_score(y_all, outputs_all)\n",
    "        \n",
    "        return sum_loss/len(valid_loader), auc, int(time.time() - t)\n",
    "    \n",
    "    def save_model(self, n_epoch, save_path, loss, auc):\n",
    "        self.lastmodel = str(cfg.models_path/f\"{save_path}-e{n_epoch}-loss{loss:.3f}-auc{auc:.3f}.pth\")\n",
    "        torch.save(\n",
    "            {\n",
    "                \"model_state_dict\": self.model.state_dict(),\n",
    "                \"optimizer_state_dict\": self.optimizer.state_dict(),\n",
    "                \"best_valid_score\": self.best_valid_score,\n",
    "                \"n_epoch\": n_epoch,\n",
    "            },\n",
    "            self.lastmodel,\n",
    "        )\n",
    "    \n",
    "    @staticmethod\n",
    "    def info_message(message, *args, end=\"\\n\"):\n",
    "        print(message.format(*args), end=end)"
   ]
  },
  {
   "cell_type": "code",
   "execution_count": 14,
   "id": "02bd6b73-6c36-4da3-850a-24a96a670b17",
   "metadata": {},
   "outputs": [],
   "source": [
    "device = torch.device(\"cuda\" if torch.cuda.is_available() else \"cpu\")\n",
    "\n",
    "def train_mri_type(df_train, df_valid, mri_type):\n",
    "    if mri_type==\"all\":\n",
    "        train_list = []\n",
    "        valid_list = []\n",
    "        for mri_type in mri_types:\n",
    "            df_train.loc[:,\"MRI_Type\"] = mri_type\n",
    "            train_list.append(df_train.copy())\n",
    "            df_valid.loc[:,\"MRI_Type\"] = mri_type\n",
    "            valid_list.append(df_valid.copy())\n",
    "\n",
    "        df_train = pd.concat(train_list)\n",
    "        df_valid = pd.concat(valid_list)\n",
    "    else:\n",
    "        df_train.loc[:,\"MRI_Type\"] = mri_type\n",
    "        df_valid.loc[:,\"MRI_Type\"] = mri_type\n",
    "\n",
    "    print(df_train.shape, df_valid.shape)\n",
    "    display(df_train.head())\n",
    "    \n",
    "    train_data_retriever = Dataset(\n",
    "        df_train[\"BraTS21ID\"].values, \n",
    "        df_train[\"MGMT_value\"].values, \n",
    "        df_train[\"MRI_Type\"].values\n",
    "    )\n",
    "\n",
    "    valid_data_retriever = Dataset(\n",
    "        df_valid[\"BraTS21ID\"].values, \n",
    "        df_valid[\"MGMT_value\"].values,\n",
    "        df_valid[\"MRI_Type\"].values\n",
    "    )\n",
    "\n",
    "    train_loader = torch_data.DataLoader(\n",
    "        train_data_retriever,\n",
    "        batch_size=cfg.batch_size,\n",
    "        shuffle=True,\n",
    "        num_workers=cfg.num_workers,\n",
    "    )\n",
    "\n",
    "    valid_loader = torch_data.DataLoader(\n",
    "        valid_data_retriever, \n",
    "        batch_size=cfg.batch_size,\n",
    "        shuffle=False,\n",
    "        num_workers=cfg.num_workers,\n",
    "    )\n",
    "\n",
    "    model = Model()\n",
    "    model.to(device)\n",
    "\n",
    "    #checkpoint = torch.load(\"best-model-all-auc0.555.pth\")\n",
    "    #model.load_state_dict(checkpoint[\"model_state_dict\"])\n",
    "\n",
    "    #print(model)\n",
    "\n",
    "    optimizer = torch.optim.Adam(model.parameters(), lr=0.001)\n",
    "    #optimizer = torch.optim.SGD(model.parameters(), lr=0.001, momentum=0.9)\n",
    "\n",
    "    criterion = torch_functional.binary_cross_entropy_with_logits\n",
    "\n",
    "    trainer = Trainer(\n",
    "        model, \n",
    "        device, \n",
    "        optimizer, \n",
    "        criterion\n",
    "    )\n",
    "\n",
    "    history = trainer.fit(\n",
    "        cfg.epochs, \n",
    "        train_loader, \n",
    "        valid_loader, \n",
    "        f\"{mri_type}\", \n",
    "        cfg.epochs,\n",
    "    )\n",
    "    \n",
    "    return trainer.lastmodel"
   ]
  },
  {
   "cell_type": "code",
   "execution_count": 15,
   "id": "9461defa-ea31-47fd-b163-c2b00ddc9ffe",
   "metadata": {},
   "outputs": [],
   "source": [
    "!rm -rf {str(cfg.models_path)}/*.pth"
   ]
  },
  {
   "cell_type": "code",
   "execution_count": 16,
   "id": "da597e83-3a85-4eb4-83bb-999c9ef78bf6",
   "metadata": {},
   "outputs": [
    {
     "name": "stdout",
     "output_type": "stream",
     "text": [
      "(468, 3) (117, 3)\n"
     ]
    },
    {
     "name": "stderr",
     "output_type": "stream",
     "text": [
      "/opt/conda/lib/python3.8/site-packages/pandas/core/indexing.py:1597: SettingWithCopyWarning: \n",
      "A value is trying to be set on a copy of a slice from a DataFrame.\n",
      "Try using .loc[row_indexer,col_indexer] = value instead\n",
      "\n",
      "See the caveats in the documentation: https://pandas.pydata.org/pandas-docs/stable/user_guide/indexing.html#returning-a-view-versus-a-copy\n",
      "  self.obj[key] = value\n",
      "/opt/conda/lib/python3.8/site-packages/pandas/core/indexing.py:1720: SettingWithCopyWarning: \n",
      "A value is trying to be set on a copy of a slice from a DataFrame.\n",
      "Try using .loc[row_indexer,col_indexer] = value instead\n",
      "\n",
      "See the caveats in the documentation: https://pandas.pydata.org/pandas-docs/stable/user_guide/indexing.html#returning-a-view-versus-a-copy\n",
      "  self._setitem_single_column(loc, value, pi)\n"
     ]
    },
    {
     "data": {
      "text/html": [
       "<div>\n",
       "<style scoped>\n",
       "    .dataframe tbody tr th:only-of-type {\n",
       "        vertical-align: middle;\n",
       "    }\n",
       "\n",
       "    .dataframe tbody tr th {\n",
       "        vertical-align: top;\n",
       "    }\n",
       "\n",
       "    .dataframe thead th {\n",
       "        text-align: right;\n",
       "    }\n",
       "</style>\n",
       "<table border=\"1\" class=\"dataframe\">\n",
       "  <thead>\n",
       "    <tr style=\"text-align: right;\">\n",
       "      <th></th>\n",
       "      <th>BraTS21ID</th>\n",
       "      <th>MGMT_value</th>\n",
       "      <th>MRI_Type</th>\n",
       "    </tr>\n",
       "  </thead>\n",
       "  <tbody>\n",
       "    <tr>\n",
       "      <th>102</th>\n",
       "      <td>154</td>\n",
       "      <td>0</td>\n",
       "      <td>FLAIR</td>\n",
       "    </tr>\n",
       "    <tr>\n",
       "      <th>161</th>\n",
       "      <td>240</td>\n",
       "      <td>1</td>\n",
       "      <td>FLAIR</td>\n",
       "    </tr>\n",
       "    <tr>\n",
       "      <th>508</th>\n",
       "      <td>740</td>\n",
       "      <td>1</td>\n",
       "      <td>FLAIR</td>\n",
       "    </tr>\n",
       "    <tr>\n",
       "      <th>495</th>\n",
       "      <td>725</td>\n",
       "      <td>1</td>\n",
       "      <td>FLAIR</td>\n",
       "    </tr>\n",
       "    <tr>\n",
       "      <th>298</th>\n",
       "      <td>432</td>\n",
       "      <td>0</td>\n",
       "      <td>FLAIR</td>\n",
       "    </tr>\n",
       "  </tbody>\n",
       "</table>\n",
       "</div>"
      ],
      "text/plain": [
       "     BraTS21ID  MGMT_value MRI_Type\n",
       "102        154           0    FLAIR\n",
       "161        240           1    FLAIR\n",
       "508        740           1    FLAIR\n",
       "495        725           1    FLAIR\n",
       "298        432           0    FLAIR"
      ]
     },
     "metadata": {},
     "output_type": "display_data"
    },
    {
     "data": {
      "application/vnd.jupyter.widget-view+json": {
       "model_id": "709492e29bc24eadaba68f63f1e1e6ed",
       "version_major": 2,
       "version_minor": 0
      },
      "text/plain": [
       "HBox(children=(FloatProgress(value=0.0, max=15.0), HTML(value='')))"
      ]
     },
     "metadata": {},
     "output_type": "display_data"
    },
    {
     "name": "stdout",
     "output_type": "stream",
     "text": [
      "EPOCH: 1\n"
     ]
    },
    {
     "data": {
      "application/vnd.jupyter.widget-view+json": {
       "model_id": "e66bf8d454134d6c8bb7cf279a7167d8",
       "version_major": 2,
       "version_minor": 0
      },
      "text/plain": [
       "HBox(children=(FloatProgress(value=0.0, max=59.0), HTML(value='')))"
      ]
     },
     "metadata": {},
     "output_type": "display_data"
    },
    {
     "name": "stdout",
     "output_type": "stream",
     "text": [
      "Train Step 59/59, train_loss: 0.8698\n"
     ]
    },
    {
     "data": {
      "application/vnd.jupyter.widget-view+json": {
       "model_id": "6617d7981c5f4a87b658f40ca48c7e39",
       "version_major": 2,
       "version_minor": 0
      },
      "text/plain": [
       "HBox(children=(FloatProgress(value=0.0, max=15.0), HTML(value='')))"
      ]
     },
     "metadata": {},
     "output_type": "display_data"
    },
    {
     "name": "stdout",
     "output_type": "stream",
     "text": [
      "outputs tensor(0.1923, device='cuda:0') tensor(3.9825e-09, device='cuda:0')\n",
      "targets tensor(0.7450, device='cuda:0') tensor(0.4537, device='cuda:0')\n",
      "outputs tensor(0.1923, device='cuda:0') tensor(8.9051e-09, device='cuda:0')\n",
      "targets tensor(0.2550, device='cuda:0') tensor(0.4537, device='cuda:0')\n",
      "outputs tensor(0.1923, device='cuda:0') tensor(0., device='cuda:0')\n",
      "targets tensor(0.2550, device='cuda:0') tensor(0.4537, device='cuda:0')\n",
      "outputs tensor(0.1923, device='cuda:0') tensor(3.9825e-09, device='cuda:0')\n",
      "targets tensor(0.6225, device='cuda:0') tensor(0.5072, device='cuda:0')\n",
      "outputs tensor(0.1923, device='cuda:0') tensor(5.6321e-09, device='cuda:0')\n",
      "targets tensor(0.7450, device='cuda:0') tensor(0.4537, device='cuda:0')\n",
      "outputs tensor(0.1923, device='cuda:0') tensor(0., device='cuda:0')\n",
      "targets tensor(0.5000, device='cuda:0') tensor(0.5238, device='cuda:0')\n",
      "outputs tensor(0.1923, device='cuda:0') tensor(0., device='cuda:0')\n",
      "targets tensor(0.5000, device='cuda:0') tensor(0.5238, device='cuda:0')\n",
      "outputs tensor(0.1923, device='cuda:0') tensor(3.9825e-09, device='cuda:0')\n",
      "targets tensor(0.6225, device='cuda:0') tensor(0.5072, device='cuda:0')\n",
      "outputs tensor(0.1923, device='cuda:0') tensor(3.9825e-09, device='cuda:0')\n",
      "targets tensor(0.2550, device='cuda:0') tensor(0.4537, device='cuda:0')\n",
      "outputs tensor(0.1923, device='cuda:0') tensor(3.9825e-09, device='cuda:0')\n",
      "targets tensor(0.7450, device='cuda:0') tensor(0.4537, device='cuda:0')\n",
      "outputs tensor(0.1923, device='cuda:0') tensor(3.9825e-09, device='cuda:0')\n",
      "targets tensor(0.6225, device='cuda:0') tensor(0.5072, device='cuda:0')\n",
      "outputs tensor(0.1923, device='cuda:0') tensor(3.9825e-09, device='cuda:0')\n",
      "targets tensor(0.6225, device='cuda:0') tensor(0.5072, device='cuda:0')\n",
      "outputs tensor(0.1923, device='cuda:0') tensor(6.8979e-09, device='cuda:0')\n",
      "targets tensor(0.6225, device='cuda:0') tensor(0.5072, device='cuda:0')\n",
      "outputs tensor(0.1923, device='cuda:0') tensor(3.9825e-09, device='cuda:0')\n",
      "targets tensor(0.2550, device='cuda:0') tensor(0.4537, device='cuda:0')\n",
      "outputs tensor(0.1923, device='cuda:0') tensor(0., device='cuda:0')\n",
      "targets tensor(0.4020, device='cuda:0') tensor(0.5368, device='cuda:0')\n",
      "Valid Step 15/15, valid_loss: 0.6943\n",
      "[Epoch Train: 1] loss: 0.8698, time: 53.00 s            \n",
      "[Epoch Valid: 1] loss: 0.6943, auc: 0.5124, time: 7.00 s\n",
      "EPOCH: 2\n"
     ]
    },
    {
     "data": {
      "application/vnd.jupyter.widget-view+json": {
       "model_id": "b4b0e361756149f38005e304e8c171f3",
       "version_major": 2,
       "version_minor": 0
      },
      "text/plain": [
       "HBox(children=(FloatProgress(value=0.0, max=59.0), HTML(value='')))"
      ]
     },
     "metadata": {},
     "output_type": "display_data"
    },
    {
     "name": "stdout",
     "output_type": "stream",
     "text": [
      "Train Step 59/59, train_loss: 0.7822\n"
     ]
    },
    {
     "data": {
      "application/vnd.jupyter.widget-view+json": {
       "model_id": "99c3ccded043404eb91f1e44790f4aea",
       "version_major": 2,
       "version_minor": 0
      },
      "text/plain": [
       "HBox(children=(FloatProgress(value=0.0, max=15.0), HTML(value='')))"
      ]
     },
     "metadata": {},
     "output_type": "display_data"
    },
    {
     "name": "stdout",
     "output_type": "stream",
     "text": [
      "outputs tensor(0.0246, device='cuda:0') tensor(0., device='cuda:0')\n",
      "targets tensor(0.7450, device='cuda:0') tensor(0.4537, device='cuda:0')\n",
      "outputs tensor(0.0246, device='cuda:0') tensor(4.9781e-10, device='cuda:0')\n",
      "targets tensor(0.2550, device='cuda:0') tensor(0.4537, device='cuda:0')\n",
      "outputs tensor(0.0246, device='cuda:0') tensor(0., device='cuda:0')\n",
      "targets tensor(0.2550, device='cuda:0') tensor(0.4537, device='cuda:0')\n",
      "outputs tensor(0.0246, device='cuda:0') tensor(0., device='cuda:0')\n",
      "targets tensor(0.6225, device='cuda:0') tensor(0.5072, device='cuda:0')\n",
      "outputs tensor(0.0246, device='cuda:0') tensor(0., device='cuda:0')\n",
      "targets tensor(0.7450, device='cuda:0') tensor(0.4537, device='cuda:0')\n",
      "outputs tensor(0.0246, device='cuda:0') tensor(0., device='cuda:0')\n",
      "targets tensor(0.5000, device='cuda:0') tensor(0.5238, device='cuda:0')\n",
      "outputs tensor(0.0246, device='cuda:0') tensor(0., device='cuda:0')\n",
      "targets tensor(0.5000, device='cuda:0') tensor(0.5238, device='cuda:0')\n",
      "outputs tensor(0.0246, device='cuda:0') tensor(0., device='cuda:0')\n",
      "targets tensor(0.6225, device='cuda:0') tensor(0.5072, device='cuda:0')\n",
      "outputs tensor(0.0246, device='cuda:0') tensor(0., device='cuda:0')\n",
      "targets tensor(0.2550, device='cuda:0') tensor(0.4537, device='cuda:0')\n",
      "outputs tensor(0.0246, device='cuda:0') tensor(0., device='cuda:0')\n",
      "targets tensor(0.7450, device='cuda:0') tensor(0.4537, device='cuda:0')\n",
      "outputs tensor(0.0246, device='cuda:0') tensor(0., device='cuda:0')\n",
      "targets tensor(0.6225, device='cuda:0') tensor(0.5072, device='cuda:0')\n",
      "outputs tensor(0.0246, device='cuda:0') tensor(0., device='cuda:0')\n",
      "targets tensor(0.6225, device='cuda:0') tensor(0.5072, device='cuda:0')\n",
      "outputs tensor(0.0246, device='cuda:0') tensor(0., device='cuda:0')\n",
      "targets tensor(0.6225, device='cuda:0') tensor(0.5072, device='cuda:0')\n",
      "outputs tensor(0.0246, device='cuda:0') tensor(0., device='cuda:0')\n",
      "targets tensor(0.2550, device='cuda:0') tensor(0.4537, device='cuda:0')\n",
      "outputs tensor(0.0246, device='cuda:0') tensor(0., device='cuda:0')\n",
      "targets tensor(0.4020, device='cuda:0') tensor(0.5368, device='cuda:0')\n",
      "Valid Step 15/15, valid_loss: 0.6928\n",
      "[Epoch Train: 2] loss: 0.7822, time: 51.00 s            \n",
      "[Epoch Valid: 2] loss: 0.6928, auc: 0.4911, time: 7.00 s\n",
      "EPOCH: 3\n"
     ]
    },
    {
     "data": {
      "application/vnd.jupyter.widget-view+json": {
       "model_id": "64bdce8b64b24b938a4e04469e0a7dc3",
       "version_major": 2,
       "version_minor": 0
      },
      "text/plain": [
       "HBox(children=(FloatProgress(value=0.0, max=59.0), HTML(value='')))"
      ]
     },
     "metadata": {},
     "output_type": "display_data"
    },
    {
     "name": "stdout",
     "output_type": "stream",
     "text": [
      "Train Step 59/59, train_loss: 0.7780\n"
     ]
    },
    {
     "data": {
      "application/vnd.jupyter.widget-view+json": {
       "model_id": "a8554e01dd5c4406a6fc1052558e785d",
       "version_major": 2,
       "version_minor": 0
      },
      "text/plain": [
       "HBox(children=(FloatProgress(value=0.0, max=15.0), HTML(value='')))"
      ]
     },
     "metadata": {},
     "output_type": "display_data"
    },
    {
     "name": "stdout",
     "output_type": "stream",
     "text": [
      "outputs tensor(0.1355, device='cuda:0') tensor(6.8979e-09, device='cuda:0')\n",
      "targets tensor(0.7450, device='cuda:0') tensor(0.4537, device='cuda:0')\n",
      "outputs tensor(0.1355, device='cuda:0') tensor(8.9051e-09, device='cuda:0')\n",
      "targets tensor(0.2550, device='cuda:0') tensor(0.4537, device='cuda:0')\n",
      "outputs tensor(0.1355, device='cuda:0') tensor(8.9051e-09, device='cuda:0')\n",
      "targets tensor(0.2550, device='cuda:0') tensor(0.4537, device='cuda:0')\n",
      "outputs tensor(0.1355, device='cuda:0') tensor(6.8979e-09, device='cuda:0')\n",
      "targets tensor(0.6225, device='cuda:0') tensor(0.5072, device='cuda:0')\n",
      "outputs tensor(0.1355, device='cuda:0') tensor(7.9650e-09, device='cuda:0')\n",
      "targets tensor(0.7450, device='cuda:0') tensor(0.4537, device='cuda:0')\n",
      "outputs tensor(0.1355, device='cuda:0') tensor(9.7551e-09, device='cuda:0')\n",
      "targets tensor(0.5000, device='cuda:0') tensor(0.5238, device='cuda:0')\n",
      "outputs tensor(0.1355, device='cuda:0') tensor(7.9650e-09, device='cuda:0')\n",
      "targets tensor(0.5000, device='cuda:0') tensor(0.5238, device='cuda:0')\n",
      "outputs tensor(0.1355, device='cuda:0') tensor(7.9650e-09, device='cuda:0')\n",
      "targets tensor(0.6225, device='cuda:0') tensor(0.5072, device='cuda:0')\n",
      "outputs tensor(0.1355, device='cuda:0') tensor(6.8979e-09, device='cuda:0')\n",
      "targets tensor(0.2550, device='cuda:0') tensor(0.4537, device='cuda:0')\n",
      "outputs tensor(0.1355, device='cuda:0') tensor(8.9051e-09, device='cuda:0')\n",
      "targets tensor(0.7450, device='cuda:0') tensor(0.4537, device='cuda:0')\n",
      "outputs tensor(0.1355, device='cuda:0') tensor(9.7551e-09, device='cuda:0')\n",
      "targets tensor(0.6225, device='cuda:0') tensor(0.5072, device='cuda:0')\n",
      "outputs tensor(0.1355, device='cuda:0') tensor(7.9650e-09, device='cuda:0')\n",
      "targets tensor(0.6225, device='cuda:0') tensor(0.5072, device='cuda:0')\n",
      "outputs tensor(0.1355, device='cuda:0') tensor(0., device='cuda:0')\n",
      "targets tensor(0.6225, device='cuda:0') tensor(0.5072, device='cuda:0')\n",
      "outputs tensor(0.1355, device='cuda:0') tensor(8.9051e-09, device='cuda:0')\n",
      "targets tensor(0.2550, device='cuda:0') tensor(0.4537, device='cuda:0')\n",
      "outputs tensor(0.1355, device='cuda:0') tensor(8.1617e-09, device='cuda:0')\n",
      "targets tensor(0.4020, device='cuda:0') tensor(0.5368, device='cuda:0')\n",
      "Valid Step 15/15, valid_loss: 0.6930\n",
      "[Epoch Train: 3] loss: 0.7780, time: 51.00 s            \n",
      "[Epoch Valid: 3] loss: 0.6930, auc: 0.4646, time: 6.00 s\n",
      "EPOCH: 4\n"
     ]
    },
    {
     "data": {
      "application/vnd.jupyter.widget-view+json": {
       "model_id": "4316e68565794d3d8fc8b36ad479802b",
       "version_major": 2,
       "version_minor": 0
      },
      "text/plain": [
       "HBox(children=(FloatProgress(value=0.0, max=59.0), HTML(value='')))"
      ]
     },
     "metadata": {},
     "output_type": "display_data"
    },
    {
     "name": "stdout",
     "output_type": "stream",
     "text": [
      "Train Step 59/59, train_loss: 0.7011\n"
     ]
    },
    {
     "data": {
      "application/vnd.jupyter.widget-view+json": {
       "model_id": "0784658eb5254bd29885aa9f9b0cfb08",
       "version_major": 2,
       "version_minor": 0
      },
      "text/plain": [
       "HBox(children=(FloatProgress(value=0.0, max=15.0), HTML(value='')))"
      ]
     },
     "metadata": {},
     "output_type": "display_data"
    },
    {
     "name": "stdout",
     "output_type": "stream",
     "text": [
      "outputs tensor(0.0853, device='cuda:0') tensor(2.0111e-08, device='cuda:0')\n",
      "targets tensor(0.7450, device='cuda:0') tensor(0.4537, device='cuda:0')\n",
      "outputs tensor(0.0853, device='cuda:0') tensor(4.0024e-08, device='cuda:0')\n",
      "targets tensor(0.2550, device='cuda:0') tensor(0.4537, device='cuda:0')\n",
      "outputs tensor(0.0853, device='cuda:0') tensor(4.1099e-08, device='cuda:0')\n",
      "targets tensor(0.2550, device='cuda:0') tensor(0.4537, device='cuda:0')\n",
      "outputs tensor(0.0853, device='cuda:0') tensor(3.4946e-08, device='cuda:0')\n",
      "targets tensor(0.6225, device='cuda:0') tensor(0.5072, device='cuda:0')\n",
      "outputs tensor(0.0853, device='cuda:0') tensor(2.7592e-08, device='cuda:0')\n",
      "targets tensor(0.7450, device='cuda:0') tensor(0.4537, device='cuda:0')\n",
      "outputs tensor(0.0853, device='cuda:0') tensor(4.2005e-08, device='cuda:0')\n",
      "targets tensor(0.5000, device='cuda:0') tensor(0.5238, device='cuda:0')\n",
      "outputs tensor(0.0853, device='cuda:0') tensor(4.3444e-08, device='cuda:0')\n",
      "targets tensor(0.5000, device='cuda:0') tensor(0.5238, device='cuda:0')\n",
      "outputs tensor(0.0853, device='cuda:0') tensor(2.6039e-08, device='cuda:0')\n",
      "targets tensor(0.6225, device='cuda:0') tensor(0.5072, device='cuda:0')\n",
      "outputs tensor(0.0853, device='cuda:0') tensor(3.9525e-08, device='cuda:0')\n",
      "targets tensor(0.2550, device='cuda:0') tensor(0.4537, device='cuda:0')\n",
      "outputs tensor(0.0853, device='cuda:0') tensor(3.9675e-08, device='cuda:0')\n",
      "targets tensor(0.7450, device='cuda:0') tensor(0.4537, device='cuda:0')\n",
      "outputs tensor(0.0853, device='cuda:0') tensor(4.1483e-08, device='cuda:0')\n",
      "targets tensor(0.6225, device='cuda:0') tensor(0.5072, device='cuda:0')\n",
      "outputs tensor(0.0853, device='cuda:0') tensor(4.5538e-08, device='cuda:0')\n",
      "targets tensor(0.6225, device='cuda:0') tensor(0.5072, device='cuda:0')\n",
      "outputs tensor(0.0853, device='cuda:0') tensor(3.4547e-08, device='cuda:0')\n",
      "targets tensor(0.6225, device='cuda:0') tensor(0.5072, device='cuda:0')\n",
      "outputs tensor(0.0853, device='cuda:0') tensor(3.0525e-08, device='cuda:0')\n",
      "targets tensor(0.2550, device='cuda:0') tensor(0.4537, device='cuda:0')\n",
      "outputs tensor(0.0853, device='cuda:0') tensor(2.2133e-08, device='cuda:0')\n",
      "targets tensor(0.4020, device='cuda:0') tensor(0.5368, device='cuda:0')\n",
      "Valid Step 15/15, valid_loss: 0.6925\n",
      "[Epoch Train: 4] loss: 0.7011, time: 52.00 s            \n",
      "[Epoch Valid: 4] loss: 0.6925, auc: 0.3561, time: 6.00 s\n",
      "EPOCH: 5\n"
     ]
    },
    {
     "data": {
      "application/vnd.jupyter.widget-view+json": {
       "model_id": "19bd635f320740aebf531b9094b73043",
       "version_major": 2,
       "version_minor": 0
      },
      "text/plain": [
       "HBox(children=(FloatProgress(value=0.0, max=59.0), HTML(value='')))"
      ]
     },
     "metadata": {},
     "output_type": "display_data"
    },
    {
     "name": "stdout",
     "output_type": "stream",
     "text": [
      "Train Step 59/59, train_loss: 0.7005\n"
     ]
    },
    {
     "data": {
      "application/vnd.jupyter.widget-view+json": {
       "model_id": "5abf001eb9df4c21a72c9642d8b865b8",
       "version_major": 2,
       "version_minor": 0
      },
      "text/plain": [
       "HBox(children=(FloatProgress(value=0.0, max=15.0), HTML(value='')))"
      ]
     },
     "metadata": {},
     "output_type": "display_data"
    },
    {
     "name": "stdout",
     "output_type": "stream",
     "text": [
      "outputs tensor(-0.0896, device='cuda:0') tensor(4.8018e-06, device='cuda:0')\n",
      "targets tensor(0.7450, device='cuda:0') tensor(0.4537, device='cuda:0')\n",
      "outputs tensor(-0.0896, device='cuda:0') tensor(4.6257e-06, device='cuda:0')\n",
      "targets tensor(0.2550, device='cuda:0') tensor(0.4537, device='cuda:0')\n",
      "outputs tensor(-0.0896, device='cuda:0') tensor(5.4559e-06, device='cuda:0')\n",
      "targets tensor(0.2550, device='cuda:0') tensor(0.4537, device='cuda:0')\n",
      "outputs tensor(-0.0896, device='cuda:0') tensor(5.6462e-06, device='cuda:0')\n",
      "targets tensor(0.6225, device='cuda:0') tensor(0.5072, device='cuda:0')\n",
      "outputs tensor(-0.0896, device='cuda:0') tensor(4.9909e-06, device='cuda:0')\n",
      "targets tensor(0.7450, device='cuda:0') tensor(0.4537, device='cuda:0')\n",
      "outputs tensor(-0.0896, device='cuda:0') tensor(4.5555e-06, device='cuda:0')\n",
      "targets tensor(0.5000, device='cuda:0') tensor(0.5238, device='cuda:0')\n",
      "outputs tensor(-0.0896, device='cuda:0') tensor(5.4288e-06, device='cuda:0')\n",
      "targets tensor(0.5000, device='cuda:0') tensor(0.5238, device='cuda:0')\n",
      "outputs tensor(-0.0896, device='cuda:0') tensor(5.0007e-06, device='cuda:0')\n",
      "targets tensor(0.6225, device='cuda:0') tensor(0.5072, device='cuda:0')\n",
      "outputs tensor(-0.0896, device='cuda:0') tensor(4.9756e-06, device='cuda:0')\n",
      "targets tensor(0.2550, device='cuda:0') tensor(0.4537, device='cuda:0')\n",
      "outputs tensor(-0.0896, device='cuda:0') tensor(5.2999e-06, device='cuda:0')\n",
      "targets tensor(0.7450, device='cuda:0') tensor(0.4537, device='cuda:0')\n",
      "outputs tensor(-0.0896, device='cuda:0') tensor(5.6566e-06, device='cuda:0')\n",
      "targets tensor(0.6225, device='cuda:0') tensor(0.5072, device='cuda:0')\n",
      "outputs tensor(-0.0896, device='cuda:0') tensor(6.3147e-06, device='cuda:0')\n",
      "targets tensor(0.6225, device='cuda:0') tensor(0.5072, device='cuda:0')\n",
      "outputs tensor(-0.0896, device='cuda:0') tensor(4.2950e-06, device='cuda:0')\n",
      "targets tensor(0.6225, device='cuda:0') tensor(0.5072, device='cuda:0')\n",
      "outputs tensor(-0.0896, device='cuda:0') tensor(4.4721e-06, device='cuda:0')\n",
      "targets tensor(0.2550, device='cuda:0') tensor(0.4537, device='cuda:0')\n",
      "outputs tensor(-0.0896, device='cuda:0') tensor(4.4993e-06, device='cuda:0')\n",
      "targets tensor(0.4020, device='cuda:0') tensor(0.5368, device='cuda:0')\n",
      "Valid Step 15/15, valid_loss: 0.6958\n",
      "[Epoch Train: 5] loss: 0.7005, time: 52.00 s            \n",
      "[Epoch Valid: 5] loss: 0.6958, auc: 0.5482, time: 7.00 s\n",
      "auc improved from inf to 0.6958. Saved model to '/home/RSNA_MICCAI_Brain_Tumor/models/FLAIR-e5-loss0.696-auc0.548.pth'\n",
      "EPOCH: 6\n"
     ]
    },
    {
     "data": {
      "application/vnd.jupyter.widget-view+json": {
       "model_id": "0d71104195c544b3999abeaa313d48af",
       "version_major": 2,
       "version_minor": 0
      },
      "text/plain": [
       "HBox(children=(FloatProgress(value=0.0, max=59.0), HTML(value='')))"
      ]
     },
     "metadata": {},
     "output_type": "display_data"
    },
    {
     "name": "stdout",
     "output_type": "stream",
     "text": [
      "Train Step 59/59, train_loss: 0.7044\n"
     ]
    },
    {
     "data": {
      "application/vnd.jupyter.widget-view+json": {
       "model_id": "337aee764e154ad48d63bdd8302bcd0b",
       "version_major": 2,
       "version_minor": 0
      },
      "text/plain": [
       "HBox(children=(FloatProgress(value=0.0, max=15.0), HTML(value='')))"
      ]
     },
     "metadata": {},
     "output_type": "display_data"
    },
    {
     "name": "stdout",
     "output_type": "stream",
     "text": [
      "outputs tensor(0.0580, device='cuda:0') tensor(1.5941e-05, device='cuda:0')\n",
      "targets tensor(0.7450, device='cuda:0') tensor(0.4537, device='cuda:0')\n",
      "outputs tensor(0.0580, device='cuda:0') tensor(1.2107e-05, device='cuda:0')\n",
      "targets tensor(0.2550, device='cuda:0') tensor(0.4537, device='cuda:0')\n",
      "outputs tensor(0.0580, device='cuda:0') tensor(1.2509e-05, device='cuda:0')\n",
      "targets tensor(0.2550, device='cuda:0') tensor(0.4537, device='cuda:0')\n",
      "outputs tensor(0.0580, device='cuda:0') tensor(1.5772e-05, device='cuda:0')\n",
      "targets tensor(0.6225, device='cuda:0') tensor(0.5072, device='cuda:0')\n",
      "outputs tensor(0.0580, device='cuda:0') tensor(1.2195e-05, device='cuda:0')\n",
      "targets tensor(0.7450, device='cuda:0') tensor(0.4537, device='cuda:0')\n",
      "outputs tensor(0.0580, device='cuda:0') tensor(9.9711e-06, device='cuda:0')\n",
      "targets tensor(0.5000, device='cuda:0') tensor(0.5238, device='cuda:0')\n",
      "outputs tensor(0.0580, device='cuda:0') tensor(1.2494e-05, device='cuda:0')\n",
      "targets tensor(0.5000, device='cuda:0') tensor(0.5238, device='cuda:0')\n",
      "outputs tensor(0.0580, device='cuda:0') tensor(1.2163e-05, device='cuda:0')\n",
      "targets tensor(0.6225, device='cuda:0') tensor(0.5072, device='cuda:0')\n",
      "outputs tensor(0.0580, device='cuda:0') tensor(1.7118e-05, device='cuda:0')\n",
      "targets tensor(0.2550, device='cuda:0') tensor(0.4537, device='cuda:0')\n",
      "outputs tensor(0.0580, device='cuda:0') tensor(1.3932e-05, device='cuda:0')\n",
      "targets tensor(0.7450, device='cuda:0') tensor(0.4537, device='cuda:0')\n",
      "outputs tensor(0.0580, device='cuda:0') tensor(1.4801e-05, device='cuda:0')\n",
      "targets tensor(0.6225, device='cuda:0') tensor(0.5072, device='cuda:0')\n",
      "outputs tensor(0.0580, device='cuda:0') tensor(1.6790e-05, device='cuda:0')\n",
      "targets tensor(0.6225, device='cuda:0') tensor(0.5072, device='cuda:0')\n",
      "outputs tensor(0.0580, device='cuda:0') tensor(9.6763e-06, device='cuda:0')\n",
      "targets tensor(0.6225, device='cuda:0') tensor(0.5072, device='cuda:0')\n",
      "outputs tensor(0.0580, device='cuda:0') tensor(1.1359e-05, device='cuda:0')\n",
      "targets tensor(0.2550, device='cuda:0') tensor(0.4537, device='cuda:0')\n",
      "outputs tensor(0.0580, device='cuda:0') tensor(9.7297e-06, device='cuda:0')\n",
      "targets tensor(0.4020, device='cuda:0') tensor(0.5368, device='cuda:0')\n",
      "Valid Step 15/15, valid_loss: 0.6925\n",
      "[Epoch Train: 6] loss: 0.7044, time: 51.00 s            \n",
      "[Epoch Valid: 6] loss: 0.6925, auc: 0.4602, time: 6.00 s\n",
      "EPOCH: 7\n"
     ]
    },
    {
     "data": {
      "application/vnd.jupyter.widget-view+json": {
       "model_id": "a359c613069548a69785ef17ec823472",
       "version_major": 2,
       "version_minor": 0
      },
      "text/plain": [
       "HBox(children=(FloatProgress(value=0.0, max=59.0), HTML(value='')))"
      ]
     },
     "metadata": {},
     "output_type": "display_data"
    },
    {
     "name": "stdout",
     "output_type": "stream",
     "text": [
      "Train Step 59/59, train_loss: 0.7052\n"
     ]
    },
    {
     "data": {
      "application/vnd.jupyter.widget-view+json": {
       "model_id": "45c6546578f9469eab909dd3ba361dd5",
       "version_major": 2,
       "version_minor": 0
      },
      "text/plain": [
       "HBox(children=(FloatProgress(value=0.0, max=15.0), HTML(value='')))"
      ]
     },
     "metadata": {},
     "output_type": "display_data"
    },
    {
     "name": "stdout",
     "output_type": "stream",
     "text": [
      "outputs tensor(0.0297, device='cuda:0') tensor(2.4677e-05, device='cuda:0')\n",
      "targets tensor(0.7450, device='cuda:0') tensor(0.4537, device='cuda:0')\n",
      "outputs tensor(0.0297, device='cuda:0') tensor(3.5221e-05, device='cuda:0')\n",
      "targets tensor(0.2550, device='cuda:0') tensor(0.4537, device='cuda:0')\n",
      "outputs tensor(0.0297, device='cuda:0') tensor(2.3757e-05, device='cuda:0')\n",
      "targets tensor(0.2550, device='cuda:0') tensor(0.4537, device='cuda:0')\n",
      "outputs tensor(0.0297, device='cuda:0') tensor(2.6876e-05, device='cuda:0')\n",
      "targets tensor(0.6225, device='cuda:0') tensor(0.5072, device='cuda:0')\n",
      "outputs tensor(0.0297, device='cuda:0') tensor(1.4368e-05, device='cuda:0')\n",
      "targets tensor(0.7450, device='cuda:0') tensor(0.4537, device='cuda:0')\n",
      "outputs tensor(0.0297, device='cuda:0') tensor(1.8378e-05, device='cuda:0')\n",
      "targets tensor(0.5000, device='cuda:0') tensor(0.5238, device='cuda:0')\n",
      "outputs tensor(0.0297, device='cuda:0') tensor(2.1039e-05, device='cuda:0')\n",
      "targets tensor(0.5000, device='cuda:0') tensor(0.5238, device='cuda:0')\n",
      "outputs tensor(0.0298, device='cuda:0') tensor(1.3661e-05, device='cuda:0')\n",
      "targets tensor(0.6225, device='cuda:0') tensor(0.5072, device='cuda:0')\n",
      "outputs tensor(0.0297, device='cuda:0') tensor(2.6394e-05, device='cuda:0')\n",
      "targets tensor(0.2550, device='cuda:0') tensor(0.4537, device='cuda:0')\n",
      "outputs tensor(0.0298, device='cuda:0') tensor(2.0872e-05, device='cuda:0')\n",
      "targets tensor(0.7450, device='cuda:0') tensor(0.4537, device='cuda:0')\n",
      "outputs tensor(0.0297, device='cuda:0') tensor(1.6204e-05, device='cuda:0')\n",
      "targets tensor(0.6225, device='cuda:0') tensor(0.5072, device='cuda:0')\n",
      "outputs tensor(0.0297, device='cuda:0') tensor(3.0619e-05, device='cuda:0')\n",
      "targets tensor(0.6225, device='cuda:0') tensor(0.5072, device='cuda:0')\n",
      "outputs tensor(0.0298, device='cuda:0') tensor(1.3849e-05, device='cuda:0')\n",
      "targets tensor(0.6225, device='cuda:0') tensor(0.5072, device='cuda:0')\n",
      "outputs tensor(0.0298, device='cuda:0') tensor(1.5463e-05, device='cuda:0')\n",
      "targets tensor(0.2550, device='cuda:0') tensor(0.4537, device='cuda:0')\n",
      "outputs tensor(0.0298, device='cuda:0') tensor(8.7137e-06, device='cuda:0')\n",
      "targets tensor(0.4020, device='cuda:0') tensor(0.5368, device='cuda:0')\n",
      "Valid Step 15/15, valid_loss: 0.6927\n",
      "[Epoch Train: 7] loss: 0.7052, time: 52.00 s            \n",
      "[Epoch Valid: 7] loss: 0.6927, auc: 0.5591, time: 6.00 s\n",
      "auc improved from 0.6958 to 0.6927. Saved model to '/home/RSNA_MICCAI_Brain_Tumor/models/FLAIR-e7-loss0.693-auc0.559.pth'\n",
      "EPOCH: 8\n"
     ]
    },
    {
     "data": {
      "application/vnd.jupyter.widget-view+json": {
       "model_id": "5f8b6f6dede4411e83d522327a944fe0",
       "version_major": 2,
       "version_minor": 0
      },
      "text/plain": [
       "HBox(children=(FloatProgress(value=0.0, max=59.0), HTML(value='')))"
      ]
     },
     "metadata": {},
     "output_type": "display_data"
    },
    {
     "name": "stdout",
     "output_type": "stream",
     "text": [
      "Train Step 59/59, train_loss: 0.6935\n"
     ]
    },
    {
     "data": {
      "application/vnd.jupyter.widget-view+json": {
       "model_id": "1193a5c6158b49c2b83ce46a9231ea99",
       "version_major": 2,
       "version_minor": 0
      },
      "text/plain": [
       "HBox(children=(FloatProgress(value=0.0, max=15.0), HTML(value='')))"
      ]
     },
     "metadata": {},
     "output_type": "display_data"
    },
    {
     "name": "stdout",
     "output_type": "stream",
     "text": [
      "outputs tensor(0.1211, device='cuda:0') tensor(5.6000e-05, device='cuda:0')\n",
      "targets tensor(0.7450, device='cuda:0') tensor(0.4537, device='cuda:0')\n",
      "outputs tensor(0.1212, device='cuda:0') tensor(0.0001, device='cuda:0')\n",
      "targets tensor(0.2550, device='cuda:0') tensor(0.4537, device='cuda:0')\n",
      "outputs tensor(0.1211, device='cuda:0') tensor(9.2260e-05, device='cuda:0')\n",
      "targets tensor(0.2550, device='cuda:0') tensor(0.4537, device='cuda:0')\n",
      "outputs tensor(0.1211, device='cuda:0') tensor(8.4988e-05, device='cuda:0')\n",
      "targets tensor(0.6225, device='cuda:0') tensor(0.5072, device='cuda:0')\n",
      "outputs tensor(0.1211, device='cuda:0') tensor(5.7556e-05, device='cuda:0')\n",
      "targets tensor(0.7450, device='cuda:0') tensor(0.4537, device='cuda:0')\n",
      "outputs tensor(0.1211, device='cuda:0') tensor(4.9781e-05, device='cuda:0')\n",
      "targets tensor(0.5000, device='cuda:0') tensor(0.5238, device='cuda:0')\n",
      "outputs tensor(0.1212, device='cuda:0') tensor(8.7610e-05, device='cuda:0')\n",
      "targets tensor(0.5000, device='cuda:0') tensor(0.5238, device='cuda:0')\n",
      "outputs tensor(0.1211, device='cuda:0') tensor(4.1479e-05, device='cuda:0')\n",
      "targets tensor(0.6225, device='cuda:0') tensor(0.5072, device='cuda:0')\n",
      "outputs tensor(0.1212, device='cuda:0') tensor(8.7998e-05, device='cuda:0')\n",
      "targets tensor(0.2550, device='cuda:0') tensor(0.4537, device='cuda:0')\n",
      "outputs tensor(0.1211, device='cuda:0') tensor(4.5860e-05, device='cuda:0')\n",
      "targets tensor(0.7450, device='cuda:0') tensor(0.4537, device='cuda:0')\n",
      "outputs tensor(0.1211, device='cuda:0') tensor(4.0910e-05, device='cuda:0')\n",
      "targets tensor(0.6225, device='cuda:0') tensor(0.5072, device='cuda:0')\n",
      "outputs tensor(0.1212, device='cuda:0') tensor(9.7761e-05, device='cuda:0')\n",
      "targets tensor(0.6225, device='cuda:0') tensor(0.5072, device='cuda:0')\n",
      "outputs tensor(0.1211, device='cuda:0') tensor(3.0757e-05, device='cuda:0')\n",
      "targets tensor(0.6225, device='cuda:0') tensor(0.5072, device='cuda:0')\n",
      "outputs tensor(0.1211, device='cuda:0') tensor(5.7611e-05, device='cuda:0')\n",
      "targets tensor(0.2550, device='cuda:0') tensor(0.4537, device='cuda:0')\n",
      "outputs tensor(0.1211, device='cuda:0') tensor(2.2293e-05, device='cuda:0')\n",
      "targets tensor(0.4020, device='cuda:0') tensor(0.5368, device='cuda:0')\n",
      "Valid Step 15/15, valid_loss: 0.6928\n",
      "[Epoch Train: 8] loss: 0.6935, time: 52.00 s            \n",
      "[Epoch Valid: 8] loss: 0.6928, auc: 0.4700, time: 7.00 s\n",
      "EPOCH: 9\n"
     ]
    },
    {
     "data": {
      "application/vnd.jupyter.widget-view+json": {
       "model_id": "9d3d5ab3e88c42ebbaec0d94142e5610",
       "version_major": 2,
       "version_minor": 0
      },
      "text/plain": [
       "HBox(children=(FloatProgress(value=0.0, max=59.0), HTML(value='')))"
      ]
     },
     "metadata": {},
     "output_type": "display_data"
    },
    {
     "name": "stdout",
     "output_type": "stream",
     "text": [
      "Train Step 59/59, train_loss: 0.6937\n"
     ]
    },
    {
     "data": {
      "application/vnd.jupyter.widget-view+json": {
       "model_id": "2e6475d8c67b45f882b1183d7546e3c4",
       "version_major": 2,
       "version_minor": 0
      },
      "text/plain": [
       "HBox(children=(FloatProgress(value=0.0, max=15.0), HTML(value='')))"
      ]
     },
     "metadata": {},
     "output_type": "display_data"
    },
    {
     "name": "stdout",
     "output_type": "stream",
     "text": [
      "outputs tensor(0.1985, device='cuda:0') tensor(0.0009, device='cuda:0')\n",
      "targets tensor(0.7450, device='cuda:0') tensor(0.4537, device='cuda:0')\n",
      "outputs tensor(0.1980, device='cuda:0') tensor(0.0010, device='cuda:0')\n",
      "targets tensor(0.2550, device='cuda:0') tensor(0.4537, device='cuda:0')\n",
      "outputs tensor(0.1949, device='cuda:0') tensor(0.0100, device='cuda:0')\n",
      "targets tensor(0.2550, device='cuda:0') tensor(0.4537, device='cuda:0')\n",
      "outputs tensor(0.1979, device='cuda:0') tensor(0.0024, device='cuda:0')\n",
      "targets tensor(0.6225, device='cuda:0') tensor(0.5072, device='cuda:0')\n",
      "outputs tensor(0.1986, device='cuda:0') tensor(0.0013, device='cuda:0')\n",
      "targets tensor(0.7450, device='cuda:0') tensor(0.4537, device='cuda:0')\n",
      "outputs tensor(0.1987, device='cuda:0') tensor(0.0014, device='cuda:0')\n",
      "targets tensor(0.5000, device='cuda:0') tensor(0.5238, device='cuda:0')\n",
      "outputs tensor(0.1724, device='cuda:0') tensor(0.0608, device='cuda:0')\n",
      "targets tensor(0.5000, device='cuda:0') tensor(0.5238, device='cuda:0')\n",
      "outputs tensor(0.1980, device='cuda:0') tensor(0.0027, device='cuda:0')\n",
      "targets tensor(0.6225, device='cuda:0') tensor(0.5072, device='cuda:0')\n",
      "outputs tensor(0.1983, device='cuda:0') tensor(0.0020, device='cuda:0')\n",
      "targets tensor(0.2550, device='cuda:0') tensor(0.4537, device='cuda:0')\n",
      "outputs tensor(0.1980, device='cuda:0') tensor(0.0010, device='cuda:0')\n",
      "targets tensor(0.7450, device='cuda:0') tensor(0.4537, device='cuda:0')\n",
      "outputs tensor(0.1988, device='cuda:0') tensor(0.0014, device='cuda:0')\n",
      "targets tensor(0.6225, device='cuda:0') tensor(0.5072, device='cuda:0')\n",
      "outputs tensor(0.1879, device='cuda:0') tensor(0.0206, device='cuda:0')\n",
      "targets tensor(0.6225, device='cuda:0') tensor(0.5072, device='cuda:0')\n",
      "outputs tensor(0.1984, device='cuda:0') tensor(0.0012, device='cuda:0')\n",
      "targets tensor(0.6225, device='cuda:0') tensor(0.5072, device='cuda:0')\n",
      "outputs tensor(0.1950, device='cuda:0') tensor(0.0080, device='cuda:0')\n",
      "targets tensor(0.2550, device='cuda:0') tensor(0.4537, device='cuda:0')\n",
      "outputs tensor(0.1995, device='cuda:0') tensor(0.0011, device='cuda:0')\n",
      "targets tensor(0.4020, device='cuda:0') tensor(0.5368, device='cuda:0')\n",
      "Valid Step 15/15, valid_loss: 0.6929\n",
      "[Epoch Train: 9] loss: 0.6937, time: 52.00 s            \n",
      "[Epoch Valid: 9] loss: 0.6929, auc: 0.5811, time: 6.00 s\n",
      "EPOCH: 10\n"
     ]
    },
    {
     "data": {
      "application/vnd.jupyter.widget-view+json": {
       "model_id": "6a65fd57631048f7bba78e040012b6cc",
       "version_major": 2,
       "version_minor": 0
      },
      "text/plain": [
       "HBox(children=(FloatProgress(value=0.0, max=59.0), HTML(value='')))"
      ]
     },
     "metadata": {},
     "output_type": "display_data"
    },
    {
     "name": "stdout",
     "output_type": "stream",
     "text": [
      "Train Step 59/59, train_loss: 0.6963\n"
     ]
    },
    {
     "data": {
      "application/vnd.jupyter.widget-view+json": {
       "model_id": "a6535b12a6b84879aafe33820e76bd7a",
       "version_major": 2,
       "version_minor": 0
      },
      "text/plain": [
       "HBox(children=(FloatProgress(value=0.0, max=15.0), HTML(value='')))"
      ]
     },
     "metadata": {},
     "output_type": "display_data"
    },
    {
     "name": "stdout",
     "output_type": "stream",
     "text": [
      "outputs tensor(0.1671, device='cuda:0') tensor(0.0978, device='cuda:0')\n",
      "targets tensor(0.7450, device='cuda:0') tensor(0.4537, device='cuda:0')\n",
      "outputs tensor(0.0900, device='cuda:0') tensor(0.1885, device='cuda:0')\n",
      "targets tensor(0.2550, device='cuda:0') tensor(0.4537, device='cuda:0')\n",
      "outputs tensor(0.0748, device='cuda:0') tensor(0.2498, device='cuda:0')\n",
      "targets tensor(0.2550, device='cuda:0') tensor(0.4537, device='cuda:0')\n",
      "outputs tensor(0.0282, device='cuda:0') tensor(0.2104, device='cuda:0')\n",
      "targets tensor(0.6225, device='cuda:0') tensor(0.5072, device='cuda:0')\n",
      "outputs tensor(0.1052, device='cuda:0') tensor(0.2341, device='cuda:0')\n",
      "targets tensor(0.7450, device='cuda:0') tensor(0.4537, device='cuda:0')\n",
      "outputs tensor(0.1669, device='cuda:0') tensor(0.1279, device='cuda:0')\n",
      "targets tensor(0.5000, device='cuda:0') tensor(0.5238, device='cuda:0')\n",
      "outputs tensor(0.1959, device='cuda:0') tensor(0.1020, device='cuda:0')\n",
      "targets tensor(0.5000, device='cuda:0') tensor(0.5238, device='cuda:0')\n",
      "outputs tensor(0.0589, device='cuda:0') tensor(0.2188, device='cuda:0')\n",
      "targets tensor(0.6225, device='cuda:0') tensor(0.5072, device='cuda:0')\n",
      "outputs tensor(0.1090, device='cuda:0') tensor(0.1846, device='cuda:0')\n",
      "targets tensor(0.2550, device='cuda:0') tensor(0.4537, device='cuda:0')\n",
      "outputs tensor(0.1127, device='cuda:0') tensor(0.1871, device='cuda:0')\n",
      "targets tensor(0.7450, device='cuda:0') tensor(0.4537, device='cuda:0')\n",
      "outputs tensor(0.1327, device='cuda:0') tensor(0.1980, device='cuda:0')\n",
      "targets tensor(0.6225, device='cuda:0') tensor(0.5072, device='cuda:0')\n",
      "outputs tensor(0.1720, device='cuda:0') tensor(0.1284, device='cuda:0')\n",
      "targets tensor(0.6225, device='cuda:0') tensor(0.5072, device='cuda:0')\n",
      "outputs tensor(0.2209, device='cuda:0') tensor(0.0343, device='cuda:0')\n",
      "targets tensor(0.6225, device='cuda:0') tensor(0.5072, device='cuda:0')\n",
      "outputs tensor(0.0782, device='cuda:0') tensor(0.2132, device='cuda:0')\n",
      "targets tensor(0.2550, device='cuda:0') tensor(0.4537, device='cuda:0')\n",
      "outputs tensor(0.1333, device='cuda:0') tensor(0.1507, device='cuda:0')\n",
      "targets tensor(0.4020, device='cuda:0') tensor(0.5368, device='cuda:0')\n",
      "Valid Step 15/15, valid_loss: 0.6938\n",
      "[Epoch Train: 10] loss: 0.6963, time: 52.00 s            \n",
      "[Epoch Valid: 10] loss: 0.6938, auc: 0.5594, time: 7.00 s\n",
      "EPOCH: 11\n"
     ]
    },
    {
     "data": {
      "application/vnd.jupyter.widget-view+json": {
       "model_id": "5c6c4c73c400451fa9044985472e6c38",
       "version_major": 2,
       "version_minor": 0
      },
      "text/plain": [
       "HBox(children=(FloatProgress(value=0.0, max=59.0), HTML(value='')))"
      ]
     },
     "metadata": {},
     "output_type": "display_data"
    },
    {
     "name": "stdout",
     "output_type": "stream",
     "text": [
      "Train Step 59/59, train_loss: 0.6938\n"
     ]
    },
    {
     "data": {
      "application/vnd.jupyter.widget-view+json": {
       "model_id": "c9f693c7a9744231b4fe2f36ecdba0cb",
       "version_major": 2,
       "version_minor": 0
      },
      "text/plain": [
       "HBox(children=(FloatProgress(value=0.0, max=15.0), HTML(value='')))"
      ]
     },
     "metadata": {},
     "output_type": "display_data"
    },
    {
     "name": "stdout",
     "output_type": "stream",
     "text": [
      "outputs tensor(0.0696, device='cuda:0') tensor(0.0006, device='cuda:0')\n",
      "targets tensor(0.7450, device='cuda:0') tensor(0.4537, device='cuda:0')\n",
      "outputs tensor(0.0383, device='cuda:0') tensor(0.0588, device='cuda:0')\n",
      "targets tensor(0.2550, device='cuda:0') tensor(0.4537, device='cuda:0')\n",
      "outputs tensor(0.0399, device='cuda:0') tensor(0.0565, device='cuda:0')\n",
      "targets tensor(0.2550, device='cuda:0') tensor(0.4537, device='cuda:0')\n",
      "outputs tensor(0.0453, device='cuda:0') tensor(0.0461, device='cuda:0')\n",
      "targets tensor(0.6225, device='cuda:0') tensor(0.5072, device='cuda:0')\n",
      "outputs tensor(0.0511, device='cuda:0') tensor(0.0519, device='cuda:0')\n",
      "targets tensor(0.7450, device='cuda:0') tensor(0.4537, device='cuda:0')\n",
      "outputs tensor(0.0430, device='cuda:0') tensor(0.0487, device='cuda:0')\n",
      "targets tensor(0.5000, device='cuda:0') tensor(0.5238, device='cuda:0')\n",
      "outputs tensor(-0.0070, device='cuda:0') tensor(0.0923, device='cuda:0')\n",
      "targets tensor(0.5000, device='cuda:0') tensor(0.5238, device='cuda:0')\n",
      "outputs tensor(0.0277, device='cuda:0') tensor(0.0611, device='cuda:0')\n",
      "targets tensor(0.6225, device='cuda:0') tensor(0.5072, device='cuda:0')\n",
      "outputs tensor(0.0288, device='cuda:0') tensor(0.0725, device='cuda:0')\n",
      "targets tensor(0.2550, device='cuda:0') tensor(0.4537, device='cuda:0')\n",
      "outputs tensor(0.0696, device='cuda:0') tensor(0.0005, device='cuda:0')\n",
      "targets tensor(0.7450, device='cuda:0') tensor(0.4537, device='cuda:0')\n",
      "outputs tensor(0.0472, device='cuda:0') tensor(0.0429, device='cuda:0')\n",
      "targets tensor(0.6225, device='cuda:0') tensor(0.5072, device='cuda:0')\n",
      "outputs tensor(-0.0079, device='cuda:0') tensor(0.1092, device='cuda:0')\n",
      "targets tensor(0.6225, device='cuda:0') tensor(0.5072, device='cuda:0')\n",
      "outputs tensor(0.0156, device='cuda:0') tensor(0.0810, device='cuda:0')\n",
      "targets tensor(0.6225, device='cuda:0') tensor(0.5072, device='cuda:0')\n",
      "outputs tensor(0.0540, device='cuda:0') tensor(0.0438, device='cuda:0')\n",
      "targets tensor(0.2550, device='cuda:0') tensor(0.4537, device='cuda:0')\n",
      "outputs tensor(0.0132, device='cuda:0') tensor(0.0736, device='cuda:0')\n",
      "targets tensor(0.4020, device='cuda:0') tensor(0.5368, device='cuda:0')\n",
      "Valid Step 15/15, valid_loss: 0.6833\n",
      "[Epoch Train: 11] loss: 0.6938, time: 52.00 s            \n",
      "[Epoch Valid: 11] loss: 0.6833, auc: 0.6664, time: 7.00 s\n",
      "auc improved from 0.6927 to 0.6833. Saved model to '/home/RSNA_MICCAI_Brain_Tumor/models/FLAIR-e11-loss0.683-auc0.666.pth'\n",
      "EPOCH: 12\n"
     ]
    },
    {
     "data": {
      "application/vnd.jupyter.widget-view+json": {
       "model_id": "c1fc9c8cc2484a808b93cf33d8353c8d",
       "version_major": 2,
       "version_minor": 0
      },
      "text/plain": [
       "HBox(children=(FloatProgress(value=0.0, max=59.0), HTML(value='')))"
      ]
     },
     "metadata": {},
     "output_type": "display_data"
    },
    {
     "name": "stdout",
     "output_type": "stream",
     "text": [
      "Train Step 59/59, train_loss: 0.6927\n"
     ]
    },
    {
     "data": {
      "application/vnd.jupyter.widget-view+json": {
       "model_id": "6b3c6d0d6e66484a8bac2399198b45d0",
       "version_major": 2,
       "version_minor": 0
      },
      "text/plain": [
       "HBox(children=(FloatProgress(value=0.0, max=15.0), HTML(value='')))"
      ]
     },
     "metadata": {},
     "output_type": "display_data"
    },
    {
     "name": "stdout",
     "output_type": "stream",
     "text": [
      "outputs tensor(0.0731, device='cuda:0') tensor(0.0007, device='cuda:0')\n",
      "targets tensor(0.7450, device='cuda:0') tensor(0.4537, device='cuda:0')\n",
      "outputs tensor(0.0174, device='cuda:0') tensor(0.1049, device='cuda:0')\n",
      "targets tensor(0.2550, device='cuda:0') tensor(0.4537, device='cuda:0')\n",
      "outputs tensor(0.0223, device='cuda:0') tensor(0.1233, device='cuda:0')\n",
      "targets tensor(0.2550, device='cuda:0') tensor(0.4537, device='cuda:0')\n",
      "outputs tensor(0.0307, device='cuda:0') tensor(0.0785, device='cuda:0')\n",
      "targets tensor(0.6225, device='cuda:0') tensor(0.5072, device='cuda:0')\n",
      "outputs tensor(0.0474, device='cuda:0') tensor(0.0726, device='cuda:0')\n",
      "targets tensor(0.7450, device='cuda:0') tensor(0.4537, device='cuda:0')\n",
      "outputs tensor(0.0383, device='cuda:0') tensor(0.0643, device='cuda:0')\n",
      "targets tensor(0.5000, device='cuda:0') tensor(0.5238, device='cuda:0')\n",
      "outputs tensor(-0.0521, device='cuda:0') tensor(0.1567, device='cuda:0')\n",
      "targets tensor(0.5000, device='cuda:0') tensor(0.5238, device='cuda:0')\n",
      "outputs tensor(0.0368, device='cuda:0') tensor(0.0991, device='cuda:0')\n",
      "targets tensor(0.6225, device='cuda:0') tensor(0.5072, device='cuda:0')\n",
      "outputs tensor(0.0114, device='cuda:0') tensor(0.1163, device='cuda:0')\n",
      "targets tensor(0.2550, device='cuda:0') tensor(0.4537, device='cuda:0')\n",
      "outputs tensor(0.0731, device='cuda:0') tensor(0.0006, device='cuda:0')\n",
      "targets tensor(0.7450, device='cuda:0') tensor(0.4537, device='cuda:0')\n",
      "outputs tensor(0.0574, device='cuda:0') tensor(0.0406, device='cuda:0')\n",
      "targets tensor(0.6225, device='cuda:0') tensor(0.5072, device='cuda:0')\n",
      "outputs tensor(-0.0661, device='cuda:0') tensor(0.2015, device='cuda:0')\n",
      "targets tensor(0.6225, device='cuda:0') tensor(0.5072, device='cuda:0')\n",
      "outputs tensor(-0.0035, device='cuda:0') tensor(0.1159, device='cuda:0')\n",
      "targets tensor(0.6225, device='cuda:0') tensor(0.5072, device='cuda:0')\n",
      "outputs tensor(0.0441, device='cuda:0') tensor(0.0808, device='cuda:0')\n",
      "targets tensor(0.2550, device='cuda:0') tensor(0.4537, device='cuda:0')\n",
      "outputs tensor(0.0729, device='cuda:0') tensor(0.0010, device='cuda:0')\n",
      "targets tensor(0.4020, device='cuda:0') tensor(0.5368, device='cuda:0')\n",
      "Valid Step 15/15, valid_loss: 0.6782\n",
      "[Epoch Train: 12] loss: 0.6927, time: 52.00 s            \n",
      "[Epoch Valid: 12] loss: 0.6782, auc: 0.6534, time: 7.00 s\n",
      "auc improved from 0.6833 to 0.6782. Saved model to '/home/RSNA_MICCAI_Brain_Tumor/models/FLAIR-e12-loss0.678-auc0.653.pth'\n",
      "EPOCH: 13\n"
     ]
    },
    {
     "data": {
      "application/vnd.jupyter.widget-view+json": {
       "model_id": "30c6c9cb63904b5eae699edae69804b6",
       "version_major": 2,
       "version_minor": 0
      },
      "text/plain": [
       "HBox(children=(FloatProgress(value=0.0, max=59.0), HTML(value='')))"
      ]
     },
     "metadata": {},
     "output_type": "display_data"
    },
    {
     "name": "stdout",
     "output_type": "stream",
     "text": [
      "Train Step 59/59, train_loss: 0.6930\n"
     ]
    },
    {
     "data": {
      "application/vnd.jupyter.widget-view+json": {
       "model_id": "ba68bdff21c84d7eab489688faeacecc",
       "version_major": 2,
       "version_minor": 0
      },
      "text/plain": [
       "HBox(children=(FloatProgress(value=0.0, max=15.0), HTML(value='')))"
      ]
     },
     "metadata": {},
     "output_type": "display_data"
    },
    {
     "name": "stdout",
     "output_type": "stream",
     "text": [
      "outputs tensor(0.1301, device='cuda:0') tensor(0.0004, device='cuda:0')\n",
      "targets tensor(0.7450, device='cuda:0') tensor(0.4537, device='cuda:0')\n",
      "outputs tensor(0.0869, device='cuda:0') tensor(0.0817, device='cuda:0')\n",
      "targets tensor(0.2550, device='cuda:0') tensor(0.4537, device='cuda:0')\n",
      "outputs tensor(0.0398, device='cuda:0') tensor(0.1783, device='cuda:0')\n",
      "targets tensor(0.2550, device='cuda:0') tensor(0.4537, device='cuda:0')\n",
      "outputs tensor(0.1012, device='cuda:0') tensor(0.0536, device='cuda:0')\n",
      "targets tensor(0.6225, device='cuda:0') tensor(0.5072, device='cuda:0')\n",
      "outputs tensor(0.0211, device='cuda:0') tensor(0.3009, device='cuda:0')\n",
      "targets tensor(0.7450, device='cuda:0') tensor(0.4537, device='cuda:0')\n",
      "outputs tensor(0.0119, device='cuda:0') tensor(0.2237, device='cuda:0')\n",
      "targets tensor(0.5000, device='cuda:0') tensor(0.5238, device='cuda:0')\n",
      "outputs tensor(-0.2885, device='cuda:0') tensor(0.5416, device='cuda:0')\n",
      "targets tensor(0.5000, device='cuda:0') tensor(0.5238, device='cuda:0')\n",
      "outputs tensor(-0.0670, device='cuda:0') tensor(0.3629, device='cuda:0')\n",
      "targets tensor(0.6225, device='cuda:0') tensor(0.5072, device='cuda:0')\n",
      "outputs tensor(-0.0664, device='cuda:0') tensor(0.3735, device='cuda:0')\n",
      "targets tensor(0.2550, device='cuda:0') tensor(0.4537, device='cuda:0')\n",
      "outputs tensor(0.1299, device='cuda:0') tensor(0.0008, device='cuda:0')\n",
      "targets tensor(0.7450, device='cuda:0') tensor(0.4537, device='cuda:0')\n",
      "outputs tensor(0.0542, device='cuda:0') tensor(0.1657, device='cuda:0')\n",
      "targets tensor(0.6225, device='cuda:0') tensor(0.5072, device='cuda:0')\n",
      "outputs tensor(-0.2446, device='cuda:0') tensor(0.5378, device='cuda:0')\n",
      "targets tensor(0.6225, device='cuda:0') tensor(0.5072, device='cuda:0')\n",
      "outputs tensor(-0.1727, device='cuda:0') tensor(0.4585, device='cuda:0')\n",
      "targets tensor(0.6225, device='cuda:0') tensor(0.5072, device='cuda:0')\n",
      "outputs tensor(0.0637, device='cuda:0') tensor(0.1838, device='cuda:0')\n",
      "targets tensor(0.2550, device='cuda:0') tensor(0.4537, device='cuda:0')\n",
      "outputs tensor(-0.1407, device='cuda:0') tensor(0.3718, device='cuda:0')\n",
      "targets tensor(0.4020, device='cuda:0') tensor(0.5368, device='cuda:0')\n",
      "Valid Step 15/15, valid_loss: 0.6541\n",
      "[Epoch Train: 13] loss: 0.6930, time: 51.00 s            \n",
      "[Epoch Valid: 13] loss: 0.6541, auc: 0.6800, time: 7.00 s\n",
      "auc improved from 0.6782 to 0.6541. Saved model to '/home/RSNA_MICCAI_Brain_Tumor/models/FLAIR-e13-loss0.654-auc0.680.pth'\n",
      "EPOCH: 14\n"
     ]
    },
    {
     "data": {
      "application/vnd.jupyter.widget-view+json": {
       "model_id": "178fc8233ab24596909a5a0191419367",
       "version_major": 2,
       "version_minor": 0
      },
      "text/plain": [
       "HBox(children=(FloatProgress(value=0.0, max=59.0), HTML(value='')))"
      ]
     },
     "metadata": {},
     "output_type": "display_data"
    },
    {
     "name": "stdout",
     "output_type": "stream",
     "text": [
      "Train Step 59/59, train_loss: 0.6915\n"
     ]
    },
    {
     "data": {
      "application/vnd.jupyter.widget-view+json": {
       "model_id": "1f5fd6835cf14723bee4322c5fbf1547",
       "version_major": 2,
       "version_minor": 0
      },
      "text/plain": [
       "HBox(children=(FloatProgress(value=0.0, max=15.0), HTML(value='')))"
      ]
     },
     "metadata": {},
     "output_type": "display_data"
    },
    {
     "name": "stdout",
     "output_type": "stream",
     "text": [
      "outputs tensor(0.2190, device='cuda:0') tensor(0.0008, device='cuda:0')\n",
      "targets tensor(0.7450, device='cuda:0') tensor(0.4537, device='cuda:0')\n",
      "outputs tensor(0.0991, device='cuda:0') tensor(0.2224, device='cuda:0')\n",
      "targets tensor(0.2550, device='cuda:0') tensor(0.4537, device='cuda:0')\n",
      "outputs tensor(-0.1652, device='cuda:0') tensor(0.7158, device='cuda:0')\n",
      "targets tensor(0.2550, device='cuda:0') tensor(0.4537, device='cuda:0')\n",
      "outputs tensor(0.1222, device='cuda:0') tensor(0.1581, device='cuda:0')\n",
      "targets tensor(0.6225, device='cuda:0') tensor(0.5072, device='cuda:0')\n",
      "outputs tensor(-0.0278, device='cuda:0') tensor(0.6278, device='cuda:0')\n",
      "targets tensor(0.7450, device='cuda:0') tensor(0.4537, device='cuda:0')\n",
      "outputs tensor(-0.1390, device='cuda:0') tensor(0.5520, device='cuda:0')\n",
      "targets tensor(0.5000, device='cuda:0') tensor(0.5238, device='cuda:0')\n",
      "outputs tensor(-0.7409, device='cuda:0') tensor(1.0969, device='cuda:0')\n",
      "targets tensor(0.5000, device='cuda:0') tensor(0.5238, device='cuda:0')\n",
      "outputs tensor(-0.0144, device='cuda:0') tensor(0.6310, device='cuda:0')\n",
      "targets tensor(0.6225, device='cuda:0') tensor(0.5072, device='cuda:0')\n",
      "outputs tensor(-0.1878, device='cuda:0') tensor(0.8002, device='cuda:0')\n",
      "targets tensor(0.2550, device='cuda:0') tensor(0.4537, device='cuda:0')\n",
      "outputs tensor(0.2165, device='cuda:0') tensor(0.0084, device='cuda:0')\n",
      "targets tensor(0.7450, device='cuda:0') tensor(0.4537, device='cuda:0')\n",
      "outputs tensor(0.0457, device='cuda:0') tensor(0.3844, device='cuda:0')\n",
      "targets tensor(0.6225, device='cuda:0') tensor(0.5072, device='cuda:0')\n",
      "outputs tensor(-0.6513, device='cuda:0') tensor(1.2344, device='cuda:0')\n",
      "targets tensor(0.6225, device='cuda:0') tensor(0.5072, device='cuda:0')\n",
      "outputs tensor(-0.4311, device='cuda:0') tensor(1.0312, device='cuda:0')\n",
      "targets tensor(0.6225, device='cuda:0') tensor(0.5072, device='cuda:0')\n",
      "outputs tensor(0.0486, device='cuda:0') tensor(0.4507, device='cuda:0')\n",
      "targets tensor(0.2550, device='cuda:0') tensor(0.4537, device='cuda:0')\n",
      "outputs tensor(0.1331, device='cuda:0') tensor(0.1861, device='cuda:0')\n",
      "targets tensor(0.4020, device='cuda:0') tensor(0.5368, device='cuda:0')\n",
      "Valid Step 15/15, valid_loss: 0.6377\n",
      "[Epoch Train: 14] loss: 0.6915, time: 52.00 s            \n",
      "[Epoch Valid: 14] loss: 0.6377, auc: 0.6698, time: 6.00 s\n",
      "auc improved from 0.6541 to 0.6377. Saved model to '/home/RSNA_MICCAI_Brain_Tumor/models/FLAIR-e14-loss0.638-auc0.670.pth'\n",
      "EPOCH: 15\n"
     ]
    },
    {
     "data": {
      "application/vnd.jupyter.widget-view+json": {
       "model_id": "eace85c542be4483aff4c24d5048ed86",
       "version_major": 2,
       "version_minor": 0
      },
      "text/plain": [
       "HBox(children=(FloatProgress(value=0.0, max=59.0), HTML(value='')))"
      ]
     },
     "metadata": {},
     "output_type": "display_data"
    },
    {
     "name": "stdout",
     "output_type": "stream",
     "text": [
      "Train Step 59/59, train_loss: 0.6918\n"
     ]
    },
    {
     "data": {
      "application/vnd.jupyter.widget-view+json": {
       "model_id": "036f8cb7551142b6aea8dc269278f858",
       "version_major": 2,
       "version_minor": 0
      },
      "text/plain": [
       "HBox(children=(FloatProgress(value=0.0, max=15.0), HTML(value='')))"
      ]
     },
     "metadata": {},
     "output_type": "display_data"
    },
    {
     "name": "stdout",
     "output_type": "stream",
     "text": [
      "outputs tensor(0.1393, device='cuda:0') tensor(0.0036, device='cuda:0')\n",
      "targets tensor(0.7450, device='cuda:0') tensor(0.4537, device='cuda:0')\n",
      "outputs tensor(0.1378, device='cuda:0') tensor(0.0060, device='cuda:0')\n",
      "targets tensor(0.2550, device='cuda:0') tensor(0.4537, device='cuda:0')\n",
      "outputs tensor(0.0993, device='cuda:0') tensor(0.0963, device='cuda:0')\n",
      "targets tensor(0.2550, device='cuda:0') tensor(0.4537, device='cuda:0')\n",
      "outputs tensor(-0.0734, device='cuda:0') tensor(0.5008, device='cuda:0')\n",
      "targets tensor(0.6225, device='cuda:0') tensor(0.5072, device='cuda:0')\n",
      "outputs tensor(0.0358, device='cuda:0') tensor(0.2763, device='cuda:0')\n",
      "targets tensor(0.7450, device='cuda:0') tensor(0.4537, device='cuda:0')\n",
      "outputs tensor(0.0072, device='cuda:0') tensor(0.3649, device='cuda:0')\n",
      "targets tensor(0.5000, device='cuda:0') tensor(0.5238, device='cuda:0')\n",
      "outputs tensor(0.1391, device='cuda:0') tensor(0.0066, device='cuda:0')\n",
      "targets tensor(0.5000, device='cuda:0') tensor(0.5238, device='cuda:0')\n",
      "outputs tensor(0.1015, device='cuda:0') tensor(0.0766, device='cuda:0')\n",
      "targets tensor(0.6225, device='cuda:0') tensor(0.5072, device='cuda:0')\n",
      "outputs tensor(0.1365, device='cuda:0') tensor(0.0101, device='cuda:0')\n",
      "targets tensor(0.2550, device='cuda:0') tensor(0.4537, device='cuda:0')\n",
      "outputs tensor(0.0036, device='cuda:0') tensor(0.3643, device='cuda:0')\n",
      "targets tensor(0.7450, device='cuda:0') tensor(0.4537, device='cuda:0')\n",
      "outputs tensor(0.1092, device='cuda:0') tensor(0.0697, device='cuda:0')\n",
      "targets tensor(0.6225, device='cuda:0') tensor(0.5072, device='cuda:0')\n",
      "outputs tensor(0.1417, device='cuda:0') tensor(0.0014, device='cuda:0')\n",
      "targets tensor(0.6225, device='cuda:0') tensor(0.5072, device='cuda:0')\n",
      "outputs tensor(0.1409, device='cuda:0') tensor(0.0022, device='cuda:0')\n",
      "targets tensor(0.6225, device='cuda:0') tensor(0.5072, device='cuda:0')\n",
      "outputs tensor(0.1324, device='cuda:0') tensor(0.0168, device='cuda:0')\n",
      "targets tensor(0.2550, device='cuda:0') tensor(0.4537, device='cuda:0')\n",
      "outputs tensor(0.1336, device='cuda:0') tensor(0.0083, device='cuda:0')\n",
      "targets tensor(0.4020, device='cuda:0') tensor(0.5368, device='cuda:0')\n",
      "Valid Step 15/15, valid_loss: 0.7148\n",
      "[Epoch Train: 15] loss: 0.6918, time: 51.00 s            \n",
      "[Epoch Valid: 15] loss: 0.7148, auc: 0.4772, time: 7.00 s\n",
      "\n",
      "(468, 3) (117, 3)\n"
     ]
    },
    {
     "name": "stderr",
     "output_type": "stream",
     "text": [
      "/opt/conda/lib/python3.8/site-packages/pandas/core/indexing.py:1720: SettingWithCopyWarning: \n",
      "A value is trying to be set on a copy of a slice from a DataFrame.\n",
      "Try using .loc[row_indexer,col_indexer] = value instead\n",
      "\n",
      "See the caveats in the documentation: https://pandas.pydata.org/pandas-docs/stable/user_guide/indexing.html#returning-a-view-versus-a-copy\n",
      "  self._setitem_single_column(loc, value, pi)\n"
     ]
    },
    {
     "data": {
      "text/html": [
       "<div>\n",
       "<style scoped>\n",
       "    .dataframe tbody tr th:only-of-type {\n",
       "        vertical-align: middle;\n",
       "    }\n",
       "\n",
       "    .dataframe tbody tr th {\n",
       "        vertical-align: top;\n",
       "    }\n",
       "\n",
       "    .dataframe thead th {\n",
       "        text-align: right;\n",
       "    }\n",
       "</style>\n",
       "<table border=\"1\" class=\"dataframe\">\n",
       "  <thead>\n",
       "    <tr style=\"text-align: right;\">\n",
       "      <th></th>\n",
       "      <th>BraTS21ID</th>\n",
       "      <th>MGMT_value</th>\n",
       "      <th>MRI_Type</th>\n",
       "    </tr>\n",
       "  </thead>\n",
       "  <tbody>\n",
       "    <tr>\n",
       "      <th>102</th>\n",
       "      <td>154</td>\n",
       "      <td>0</td>\n",
       "      <td>T1w</td>\n",
       "    </tr>\n",
       "    <tr>\n",
       "      <th>161</th>\n",
       "      <td>240</td>\n",
       "      <td>1</td>\n",
       "      <td>T1w</td>\n",
       "    </tr>\n",
       "    <tr>\n",
       "      <th>508</th>\n",
       "      <td>740</td>\n",
       "      <td>1</td>\n",
       "      <td>T1w</td>\n",
       "    </tr>\n",
       "    <tr>\n",
       "      <th>495</th>\n",
       "      <td>725</td>\n",
       "      <td>1</td>\n",
       "      <td>T1w</td>\n",
       "    </tr>\n",
       "    <tr>\n",
       "      <th>298</th>\n",
       "      <td>432</td>\n",
       "      <td>0</td>\n",
       "      <td>T1w</td>\n",
       "    </tr>\n",
       "  </tbody>\n",
       "</table>\n",
       "</div>"
      ],
      "text/plain": [
       "     BraTS21ID  MGMT_value MRI_Type\n",
       "102        154           0      T1w\n",
       "161        240           1      T1w\n",
       "508        740           1      T1w\n",
       "495        725           1      T1w\n",
       "298        432           0      T1w"
      ]
     },
     "metadata": {},
     "output_type": "display_data"
    },
    {
     "data": {
      "application/vnd.jupyter.widget-view+json": {
       "model_id": "b90894c071ba4a46af4ebcaf6c199c84",
       "version_major": 2,
       "version_minor": 0
      },
      "text/plain": [
       "HBox(children=(FloatProgress(value=0.0, max=15.0), HTML(value='')))"
      ]
     },
     "metadata": {},
     "output_type": "display_data"
    },
    {
     "name": "stdout",
     "output_type": "stream",
     "text": [
      "EPOCH: 1\n"
     ]
    },
    {
     "data": {
      "application/vnd.jupyter.widget-view+json": {
       "model_id": "2c54d97085124f8b96757e6ec3439e8f",
       "version_major": 2,
       "version_minor": 0
      },
      "text/plain": [
       "HBox(children=(FloatProgress(value=0.0, max=59.0), HTML(value='')))"
      ]
     },
     "metadata": {},
     "output_type": "display_data"
    },
    {
     "name": "stdout",
     "output_type": "stream",
     "text": [
      "Train Step 59/59, train_loss: 0.9155\n"
     ]
    },
    {
     "data": {
      "application/vnd.jupyter.widget-view+json": {
       "model_id": "53e46cc2eb364966ac731acbd88959d4",
       "version_major": 2,
       "version_minor": 0
      },
      "text/plain": [
       "HBox(children=(FloatProgress(value=0.0, max=15.0), HTML(value='')))"
      ]
     },
     "metadata": {},
     "output_type": "display_data"
    },
    {
     "name": "stdout",
     "output_type": "stream",
     "text": [
      "outputs tensor(0.0734, device='cuda:0') tensor(5.2684e-09, device='cuda:0')\n",
      "targets tensor(0.7450, device='cuda:0') tensor(0.4537, device='cuda:0')\n",
      "outputs tensor(0.0734, device='cuda:0') tensor(0., device='cuda:0')\n",
      "targets tensor(0.2550, device='cuda:0') tensor(0.4537, device='cuda:0')\n",
      "outputs tensor(0.0734, device='cuda:0') tensor(5.2684e-09, device='cuda:0')\n",
      "targets tensor(0.2550, device='cuda:0') tensor(0.4537, device='cuda:0')\n",
      "outputs tensor(0.0734, device='cuda:0') tensor(0., device='cuda:0')\n",
      "targets tensor(0.6225, device='cuda:0') tensor(0.5072, device='cuda:0')\n",
      "outputs tensor(0.0734, device='cuda:0') tensor(9.3398e-09, device='cuda:0')\n",
      "targets tensor(0.7450, device='cuda:0') tensor(0.4537, device='cuda:0')\n",
      "outputs tensor(0.0734, device='cuda:0') tensor(5.2684e-09, device='cuda:0')\n",
      "targets tensor(0.5000, device='cuda:0') tensor(0.5238, device='cuda:0')\n",
      "outputs tensor(0.0734, device='cuda:0') tensor(0., device='cuda:0')\n",
      "targets tensor(0.5000, device='cuda:0') tensor(0.5238, device='cuda:0')\n",
      "outputs tensor(0.0734, device='cuda:0') tensor(0., device='cuda:0')\n",
      "targets tensor(0.6225, device='cuda:0') tensor(0.5072, device='cuda:0')\n",
      "outputs tensor(0.0734, device='cuda:0') tensor(0., device='cuda:0')\n",
      "targets tensor(0.2550, device='cuda:0') tensor(0.4537, device='cuda:0')\n",
      "outputs tensor(0.0734, device='cuda:0') tensor(0., device='cuda:0')\n",
      "targets tensor(0.7450, device='cuda:0') tensor(0.4537, device='cuda:0')\n",
      "outputs tensor(0.0734, device='cuda:0') tensor(0., device='cuda:0')\n",
      "targets tensor(0.6225, device='cuda:0') tensor(0.5072, device='cuda:0')\n",
      "outputs tensor(0.0734, device='cuda:0') tensor(3.9825e-09, device='cuda:0')\n",
      "targets tensor(0.6225, device='cuda:0') tensor(0.5072, device='cuda:0')\n",
      "outputs tensor(0.0734, device='cuda:0') tensor(5.2684e-09, device='cuda:0')\n",
      "targets tensor(0.6225, device='cuda:0') tensor(0.5072, device='cuda:0')\n",
      "outputs tensor(0.0734, device='cuda:0') tensor(0., device='cuda:0')\n",
      "targets tensor(0.2550, device='cuda:0') tensor(0.4537, device='cuda:0')\n",
      "outputs tensor(0.0734, device='cuda:0') tensor(0., device='cuda:0')\n",
      "targets tensor(0.4020, device='cuda:0') tensor(0.5368, device='cuda:0')\n",
      "Valid Step 15/15, valid_loss: 0.6925\n",
      "[Epoch Train: 1] loss: 0.9155, time: 51.00 s            \n",
      "[Epoch Valid: 1] loss: 0.6925, auc: 0.5165, time: 6.00 s\n",
      "EPOCH: 2\n"
     ]
    },
    {
     "data": {
      "application/vnd.jupyter.widget-view+json": {
       "model_id": "41be8d4a0dd241ca84af8c16e631cd97",
       "version_major": 2,
       "version_minor": 0
      },
      "text/plain": [
       "HBox(children=(FloatProgress(value=0.0, max=59.0), HTML(value='')))"
      ]
     },
     "metadata": {},
     "output_type": "display_data"
    },
    {
     "name": "stdout",
     "output_type": "stream",
     "text": [
      "Train Step 59/59, train_loss: 0.7276\n"
     ]
    },
    {
     "data": {
      "application/vnd.jupyter.widget-view+json": {
       "model_id": "233433dda5fa4a8785ef67c757f8cf20",
       "version_major": 2,
       "version_minor": 0
      },
      "text/plain": [
       "HBox(children=(FloatProgress(value=0.0, max=15.0), HTML(value='')))"
      ]
     },
     "metadata": {},
     "output_type": "display_data"
    },
    {
     "name": "stdout",
     "output_type": "stream",
     "text": [
      "outputs tensor(0.0276, device='cuda:0') tensor(2.3349e-09, device='cuda:0')\n",
      "targets tensor(0.7450, device='cuda:0') tensor(0.4537, device='cuda:0')\n",
      "outputs tensor(0.0276, device='cuda:0') tensor(1.7245e-09, device='cuda:0')\n",
      "targets tensor(0.2550, device='cuda:0') tensor(0.4537, device='cuda:0')\n",
      "outputs tensor(0.0276, device='cuda:0') tensor(1.7245e-09, device='cuda:0')\n",
      "targets tensor(0.2550, device='cuda:0') tensor(0.4537, device='cuda:0')\n",
      "outputs tensor(0.0276, device='cuda:0') tensor(1.5742e-09, device='cuda:0')\n",
      "targets tensor(0.6225, device='cuda:0') tensor(0.5072, device='cuda:0')\n",
      "outputs tensor(0.0276, device='cuda:0') tensor(1.3171e-09, device='cuda:0')\n",
      "targets tensor(0.7450, device='cuda:0') tensor(0.4537, device='cuda:0')\n",
      "outputs tensor(0.0276, device='cuda:0') tensor(1.9913e-09, device='cuda:0')\n",
      "targets tensor(0.5000, device='cuda:0') tensor(0.5238, device='cuda:0')\n",
      "outputs tensor(0.0276, device='cuda:0') tensor(1.9913e-09, device='cuda:0')\n",
      "targets tensor(0.5000, device='cuda:0') tensor(0.5238, device='cuda:0')\n",
      "outputs tensor(0.0276, device='cuda:0') tensor(2.2263e-09, device='cuda:0')\n",
      "targets tensor(0.6225, device='cuda:0') tensor(0.5072, device='cuda:0')\n",
      "outputs tensor(0.0276, device='cuda:0') tensor(2.4388e-09, device='cuda:0')\n",
      "targets tensor(0.2550, device='cuda:0') tensor(0.4537, device='cuda:0')\n",
      "outputs tensor(0.0276, device='cuda:0') tensor(1.5742e-09, device='cuda:0')\n",
      "targets tensor(0.7450, device='cuda:0') tensor(0.4537, device='cuda:0')\n",
      "outputs tensor(0.0276, device='cuda:0') tensor(2.2263e-09, device='cuda:0')\n",
      "targets tensor(0.6225, device='cuda:0') tensor(0.5072, device='cuda:0')\n",
      "outputs tensor(0.0276, device='cuda:0') tensor(1.7949e-09, device='cuda:0')\n",
      "targets tensor(0.6225, device='cuda:0') tensor(0.5072, device='cuda:0')\n",
      "outputs tensor(0.0276, device='cuda:0') tensor(2.5384e-09, device='cuda:0')\n",
      "targets tensor(0.6225, device='cuda:0') tensor(0.5072, device='cuda:0')\n",
      "outputs tensor(0.0276, device='cuda:0') tensor(2.5384e-09, device='cuda:0')\n",
      "targets tensor(0.2550, device='cuda:0') tensor(0.4537, device='cuda:0')\n",
      "outputs tensor(0.0276, device='cuda:0') tensor(2.4047e-09, device='cuda:0')\n",
      "targets tensor(0.4020, device='cuda:0') tensor(0.5368, device='cuda:0')\n",
      "Valid Step 15/15, valid_loss: 0.6927\n",
      "[Epoch Train: 2] loss: 0.7276, time: 51.00 s            \n",
      "[Epoch Valid: 2] loss: 0.6927, auc: 0.4625, time: 6.00 s\n",
      "EPOCH: 3\n"
     ]
    },
    {
     "data": {
      "application/vnd.jupyter.widget-view+json": {
       "model_id": "7d0630a9934441af83c8e2f5bbfca421",
       "version_major": 2,
       "version_minor": 0
      },
      "text/plain": [
       "HBox(children=(FloatProgress(value=0.0, max=59.0), HTML(value='')))"
      ]
     },
     "metadata": {},
     "output_type": "display_data"
    },
    {
     "name": "stdout",
     "output_type": "stream",
     "text": [
      "Train Step 59/59, train_loss: 0.6992\n"
     ]
    },
    {
     "data": {
      "application/vnd.jupyter.widget-view+json": {
       "model_id": "d34e18d22c284246a85a1b2b29eaa80a",
       "version_major": 2,
       "version_minor": 0
      },
      "text/plain": [
       "HBox(children=(FloatProgress(value=0.0, max=15.0), HTML(value='')))"
      ]
     },
     "metadata": {},
     "output_type": "display_data"
    },
    {
     "name": "stdout",
     "output_type": "stream",
     "text": [
      "outputs tensor(0.1853, device='cuda:0') tensor(9.7551e-09, device='cuda:0')\n",
      "targets tensor(0.7450, device='cuda:0') tensor(0.4537, device='cuda:0')\n",
      "outputs tensor(0.1853, device='cuda:0') tensor(8.9051e-09, device='cuda:0')\n",
      "targets tensor(0.2550, device='cuda:0') tensor(0.4537, device='cuda:0')\n",
      "outputs tensor(0.1853, device='cuda:0') tensor(9.7551e-09, device='cuda:0')\n",
      "targets tensor(0.2550, device='cuda:0') tensor(0.4537, device='cuda:0')\n",
      "outputs tensor(0.1853, device='cuda:0') tensor(1.0537e-08, device='cuda:0')\n",
      "targets tensor(0.6225, device='cuda:0') tensor(0.5072, device='cuda:0')\n",
      "outputs tensor(0.1853, device='cuda:0') tensor(9.7551e-09, device='cuda:0')\n",
      "targets tensor(0.7450, device='cuda:0') tensor(0.4537, device='cuda:0')\n",
      "outputs tensor(0.1853, device='cuda:0') tensor(7.9650e-09, device='cuda:0')\n",
      "targets tensor(0.5000, device='cuda:0') tensor(0.5238, device='cuda:0')\n",
      "outputs tensor(0.1853, device='cuda:0') tensor(8.9051e-09, device='cuda:0')\n",
      "targets tensor(0.5000, device='cuda:0') tensor(0.5238, device='cuda:0')\n",
      "outputs tensor(0.1853, device='cuda:0') tensor(1.0537e-08, device='cuda:0')\n",
      "targets tensor(0.6225, device='cuda:0') tensor(0.5072, device='cuda:0')\n",
      "outputs tensor(0.1853, device='cuda:0') tensor(1.1948e-08, device='cuda:0')\n",
      "targets tensor(0.2550, device='cuda:0') tensor(0.4537, device='cuda:0')\n",
      "outputs tensor(0.1853, device='cuda:0') tensor(8.9051e-09, device='cuda:0')\n",
      "targets tensor(0.7450, device='cuda:0') tensor(0.4537, device='cuda:0')\n",
      "outputs tensor(0.1853, device='cuda:0') tensor(0., device='cuda:0')\n",
      "targets tensor(0.6225, device='cuda:0') tensor(0.5072, device='cuda:0')\n",
      "outputs tensor(0.1853, device='cuda:0') tensor(8.9051e-09, device='cuda:0')\n",
      "targets tensor(0.6225, device='cuda:0') tensor(0.5072, device='cuda:0')\n",
      "outputs tensor(0.1853, device='cuda:0') tensor(8.9051e-09, device='cuda:0')\n",
      "targets tensor(0.6225, device='cuda:0') tensor(0.5072, device='cuda:0')\n",
      "outputs tensor(0.1853, device='cuda:0') tensor(9.7551e-09, device='cuda:0')\n",
      "targets tensor(0.2550, device='cuda:0') tensor(0.4537, device='cuda:0')\n",
      "outputs tensor(0.1853, device='cuda:0') tensor(9.7144e-09, device='cuda:0')\n",
      "targets tensor(0.4020, device='cuda:0') tensor(0.5368, device='cuda:0')\n",
      "Valid Step 15/15, valid_loss: 0.6941\n",
      "[Epoch Train: 3] loss: 0.6992, time: 51.00 s            \n",
      "[Epoch Valid: 3] loss: 0.6941, auc: 0.5343, time: 6.00 s\n",
      "EPOCH: 4\n"
     ]
    },
    {
     "data": {
      "application/vnd.jupyter.widget-view+json": {
       "model_id": "eb4667ef81f94ed19c94517cf7d9aeb2",
       "version_major": 2,
       "version_minor": 0
      },
      "text/plain": [
       "HBox(children=(FloatProgress(value=0.0, max=59.0), HTML(value='')))"
      ]
     },
     "metadata": {},
     "output_type": "display_data"
    },
    {
     "name": "stdout",
     "output_type": "stream",
     "text": [
      "Train Step 59/59, train_loss: 0.7096\n"
     ]
    },
    {
     "data": {
      "application/vnd.jupyter.widget-view+json": {
       "model_id": "893c28205b2f4a26bb938aeb91d9b6c0",
       "version_major": 2,
       "version_minor": 0
      },
      "text/plain": [
       "HBox(children=(FloatProgress(value=0.0, max=15.0), HTML(value='')))"
      ]
     },
     "metadata": {},
     "output_type": "display_data"
    },
    {
     "name": "stdout",
     "output_type": "stream",
     "text": [
      "outputs tensor(0.0662, device='cuda:0') tensor(5.2684e-09, device='cuda:0')\n",
      "targets tensor(0.7450, device='cuda:0') tensor(0.4537, device='cuda:0')\n",
      "outputs tensor(0.0662, device='cuda:0') tensor(6.2969e-09, device='cuda:0')\n",
      "targets tensor(0.2550, device='cuda:0') tensor(0.4537, device='cuda:0')\n",
      "outputs tensor(0.0662, device='cuda:0') tensor(7.1796e-09, device='cuda:0')\n",
      "targets tensor(0.2550, device='cuda:0') tensor(0.4537, device='cuda:0')\n",
      "outputs tensor(0.0662, device='cuda:0') tensor(1.2435e-08, device='cuda:0')\n",
      "targets tensor(0.6225, device='cuda:0') tensor(0.5072, device='cuda:0')\n",
      "outputs tensor(0.0662, device='cuda:0') tensor(4.4526e-09, device='cuda:0')\n",
      "targets tensor(0.7450, device='cuda:0') tensor(0.4537, device='cuda:0')\n",
      "outputs tensor(0.0662, device='cuda:0') tensor(5.2684e-09, device='cuda:0')\n",
      "targets tensor(0.5000, device='cuda:0') tensor(0.5238, device='cuda:0')\n",
      "outputs tensor(0.0662, device='cuda:0') tensor(4.4526e-09, device='cuda:0')\n",
      "targets tensor(0.5000, device='cuda:0') tensor(0.5238, device='cuda:0')\n",
      "outputs tensor(0.0662, device='cuda:0') tensor(7.7121e-09, device='cuda:0')\n",
      "targets tensor(0.6225, device='cuda:0') tensor(0.5072, device='cuda:0')\n",
      "outputs tensor(0.0662, device='cuda:0') tensor(1.3208e-08, device='cuda:0')\n",
      "targets tensor(0.2550, device='cuda:0') tensor(0.4537, device='cuda:0')\n",
      "outputs tensor(0.0662, device='cuda:0') tensor(5.2684e-09, device='cuda:0')\n",
      "targets tensor(0.7450, device='cuda:0') tensor(0.4537, device='cuda:0')\n",
      "outputs tensor(0.0662, device='cuda:0') tensor(4.4526e-09, device='cuda:0')\n",
      "targets tensor(0.6225, device='cuda:0') tensor(0.5072, device='cuda:0')\n",
      "outputs tensor(0.0662, device='cuda:0') tensor(2.8161e-09, device='cuda:0')\n",
      "targets tensor(0.6225, device='cuda:0') tensor(0.5072, device='cuda:0')\n",
      "outputs tensor(0.0662, device='cuda:0') tensor(5.9738e-09, device='cuda:0')\n",
      "targets tensor(0.6225, device='cuda:0') tensor(0.5072, device='cuda:0')\n",
      "outputs tensor(0.0662, device='cuda:0') tensor(4.4526e-09, device='cuda:0')\n",
      "targets tensor(0.2550, device='cuda:0') tensor(0.4537, device='cuda:0')\n",
      "outputs tensor(0.0662, device='cuda:0') tensor(8.9717e-09, device='cuda:0')\n",
      "targets tensor(0.4020, device='cuda:0') tensor(0.5368, device='cuda:0')\n",
      "Valid Step 15/15, valid_loss: 0.6925\n",
      "[Epoch Train: 4] loss: 0.7096, time: 51.00 s            \n",
      "[Epoch Valid: 4] loss: 0.6925, auc: 0.6156, time: 6.00 s\n",
      "EPOCH: 5\n"
     ]
    },
    {
     "data": {
      "application/vnd.jupyter.widget-view+json": {
       "model_id": "9f7fe5ff7a5d46229ca2a67d15467757",
       "version_major": 2,
       "version_minor": 0
      },
      "text/plain": [
       "HBox(children=(FloatProgress(value=0.0, max=59.0), HTML(value='')))"
      ]
     },
     "metadata": {},
     "output_type": "display_data"
    },
    {
     "name": "stdout",
     "output_type": "stream",
     "text": [
      "Train Step 59/59, train_loss: 0.7027\n"
     ]
    },
    {
     "data": {
      "application/vnd.jupyter.widget-view+json": {
       "model_id": "bf13ee868e9f4075a982a13b246ef247",
       "version_major": 2,
       "version_minor": 0
      },
      "text/plain": [
       "HBox(children=(FloatProgress(value=0.0, max=15.0), HTML(value='')))"
      ]
     },
     "metadata": {},
     "output_type": "display_data"
    },
    {
     "name": "stdout",
     "output_type": "stream",
     "text": [
      "outputs tensor(0.0778, device='cuda:0') tensor(7.7723e-07, device='cuda:0')\n",
      "targets tensor(0.7450, device='cuda:0') tensor(0.4537, device='cuda:0')\n",
      "outputs tensor(0.0778, device='cuda:0') tensor(1.2261e-06, device='cuda:0')\n",
      "targets tensor(0.2550, device='cuda:0') tensor(0.4537, device='cuda:0')\n",
      "outputs tensor(0.0778, device='cuda:0') tensor(9.9656e-07, device='cuda:0')\n",
      "targets tensor(0.2550, device='cuda:0') tensor(0.4537, device='cuda:0')\n",
      "outputs tensor(0.0778, device='cuda:0') tensor(1.2098e-06, device='cuda:0')\n",
      "targets tensor(0.6225, device='cuda:0') tensor(0.5072, device='cuda:0')\n",
      "outputs tensor(0.0778, device='cuda:0') tensor(1.0523e-06, device='cuda:0')\n",
      "targets tensor(0.7450, device='cuda:0') tensor(0.4537, device='cuda:0')\n",
      "outputs tensor(0.0778, device='cuda:0') tensor(4.0623e-07, device='cuda:0')\n",
      "targets tensor(0.5000, device='cuda:0') tensor(0.5238, device='cuda:0')\n",
      "outputs tensor(0.0778, device='cuda:0') tensor(9.8842e-07, device='cuda:0')\n",
      "targets tensor(0.5000, device='cuda:0') tensor(0.5238, device='cuda:0')\n",
      "outputs tensor(0.0778, device='cuda:0') tensor(7.9223e-07, device='cuda:0')\n",
      "targets tensor(0.6225, device='cuda:0') tensor(0.5072, device='cuda:0')\n",
      "outputs tensor(0.0778, device='cuda:0') tensor(7.9526e-07, device='cuda:0')\n",
      "targets tensor(0.2550, device='cuda:0') tensor(0.4537, device='cuda:0')\n",
      "outputs tensor(0.0778, device='cuda:0') tensor(8.3076e-07, device='cuda:0')\n",
      "targets tensor(0.7450, device='cuda:0') tensor(0.4537, device='cuda:0')\n",
      "outputs tensor(0.0778, device='cuda:0') tensor(4.5091e-07, device='cuda:0')\n",
      "targets tensor(0.6225, device='cuda:0') tensor(0.5072, device='cuda:0')\n",
      "outputs tensor(0.0778, device='cuda:0') tensor(9.1546e-07, device='cuda:0')\n",
      "targets tensor(0.6225, device='cuda:0') tensor(0.5072, device='cuda:0')\n",
      "outputs tensor(0.0778, device='cuda:0') tensor(6.1105e-07, device='cuda:0')\n",
      "targets tensor(0.6225, device='cuda:0') tensor(0.5072, device='cuda:0')\n",
      "outputs tensor(0.0778, device='cuda:0') tensor(9.9198e-07, device='cuda:0')\n",
      "targets tensor(0.2550, device='cuda:0') tensor(0.4537, device='cuda:0')\n",
      "outputs tensor(0.0778, device='cuda:0') tensor(9.3743e-07, device='cuda:0')\n",
      "targets tensor(0.4020, device='cuda:0') tensor(0.5368, device='cuda:0')\n",
      "Valid Step 15/15, valid_loss: 0.6925\n",
      "[Epoch Train: 5] loss: 0.7027, time: 51.00 s            \n",
      "[Epoch Valid: 5] loss: 0.6925, auc: 0.4379, time: 6.00 s\n",
      "EPOCH: 6\n"
     ]
    },
    {
     "data": {
      "application/vnd.jupyter.widget-view+json": {
       "model_id": "95662f669b4840d79b206668996b53ed",
       "version_major": 2,
       "version_minor": 0
      },
      "text/plain": [
       "HBox(children=(FloatProgress(value=0.0, max=59.0), HTML(value='')))"
      ]
     },
     "metadata": {},
     "output_type": "display_data"
    },
    {
     "name": "stdout",
     "output_type": "stream",
     "text": [
      "Train Step 59/59, train_loss: 0.7239\n"
     ]
    },
    {
     "data": {
      "application/vnd.jupyter.widget-view+json": {
       "model_id": "a94fb39aed9d4373929227809c5d3e76",
       "version_major": 2,
       "version_minor": 0
      },
      "text/plain": [
       "HBox(children=(FloatProgress(value=0.0, max=15.0), HTML(value='')))"
      ]
     },
     "metadata": {},
     "output_type": "display_data"
    },
    {
     "name": "stdout",
     "output_type": "stream",
     "text": [
      "outputs tensor(0.2125, device='cuda:0') tensor(2.7600e-05, device='cuda:0')\n",
      "targets tensor(0.7450, device='cuda:0') tensor(0.4537, device='cuda:0')\n",
      "outputs tensor(0.2126, device='cuda:0') tensor(4.0542e-05, device='cuda:0')\n",
      "targets tensor(0.2550, device='cuda:0') tensor(0.4537, device='cuda:0')\n",
      "outputs tensor(0.2126, device='cuda:0') tensor(3.0829e-05, device='cuda:0')\n",
      "targets tensor(0.2550, device='cuda:0') tensor(0.4537, device='cuda:0')\n",
      "outputs tensor(0.2125, device='cuda:0') tensor(3.4653e-05, device='cuda:0')\n",
      "targets tensor(0.6225, device='cuda:0') tensor(0.5072, device='cuda:0')\n",
      "outputs tensor(0.2126, device='cuda:0') tensor(3.1302e-05, device='cuda:0')\n",
      "targets tensor(0.7450, device='cuda:0') tensor(0.4537, device='cuda:0')\n",
      "outputs tensor(0.2126, device='cuda:0') tensor(1.1757e-05, device='cuda:0')\n",
      "targets tensor(0.5000, device='cuda:0') tensor(0.5238, device='cuda:0')\n",
      "outputs tensor(0.2126, device='cuda:0') tensor(3.3744e-05, device='cuda:0')\n",
      "targets tensor(0.5000, device='cuda:0') tensor(0.5238, device='cuda:0')\n",
      "outputs tensor(0.2126, device='cuda:0') tensor(3.3522e-05, device='cuda:0')\n",
      "targets tensor(0.6225, device='cuda:0') tensor(0.5072, device='cuda:0')\n",
      "outputs tensor(0.2126, device='cuda:0') tensor(2.0547e-05, device='cuda:0')\n",
      "targets tensor(0.2550, device='cuda:0') tensor(0.4537, device='cuda:0')\n",
      "outputs tensor(0.2126, device='cuda:0') tensor(2.4381e-05, device='cuda:0')\n",
      "targets tensor(0.7450, device='cuda:0') tensor(0.4537, device='cuda:0')\n",
      "outputs tensor(0.2126, device='cuda:0') tensor(1.9871e-05, device='cuda:0')\n",
      "targets tensor(0.6225, device='cuda:0') tensor(0.5072, device='cuda:0')\n",
      "outputs tensor(0.2126, device='cuda:0') tensor(3.4533e-05, device='cuda:0')\n",
      "targets tensor(0.6225, device='cuda:0') tensor(0.5072, device='cuda:0')\n",
      "outputs tensor(0.2126, device='cuda:0') tensor(3.4199e-05, device='cuda:0')\n",
      "targets tensor(0.6225, device='cuda:0') tensor(0.5072, device='cuda:0')\n",
      "outputs tensor(0.2126, device='cuda:0') tensor(2.5971e-05, device='cuda:0')\n",
      "targets tensor(0.2550, device='cuda:0') tensor(0.4537, device='cuda:0')\n",
      "outputs tensor(0.2125, device='cuda:0') tensor(2.9580e-05, device='cuda:0')\n",
      "targets tensor(0.4020, device='cuda:0') tensor(0.5368, device='cuda:0')\n",
      "Valid Step 15/15, valid_loss: 0.6950\n",
      "[Epoch Train: 6] loss: 0.7239, time: 51.00 s            \n",
      "[Epoch Valid: 6] loss: 0.6950, auc: 0.4467, time: 6.00 s\n",
      "EPOCH: 7\n"
     ]
    },
    {
     "data": {
      "application/vnd.jupyter.widget-view+json": {
       "model_id": "7c202968cc9342ec8a71b97fc147306c",
       "version_major": 2,
       "version_minor": 0
      },
      "text/plain": [
       "HBox(children=(FloatProgress(value=0.0, max=59.0), HTML(value='')))"
      ]
     },
     "metadata": {},
     "output_type": "display_data"
    },
    {
     "name": "stdout",
     "output_type": "stream",
     "text": [
      "Train Step 59/59, train_loss: 0.7039\n"
     ]
    },
    {
     "data": {
      "application/vnd.jupyter.widget-view+json": {
       "model_id": "77ac3350a79f497383420a4986662c6e",
       "version_major": 2,
       "version_minor": 0
      },
      "text/plain": [
       "HBox(children=(FloatProgress(value=0.0, max=15.0), HTML(value='')))"
      ]
     },
     "metadata": {},
     "output_type": "display_data"
    },
    {
     "name": "stdout",
     "output_type": "stream",
     "text": [
      "outputs tensor(0.1168, device='cuda:0') tensor(6.4940e-05, device='cuda:0')\n",
      "targets tensor(0.7450, device='cuda:0') tensor(0.4537, device='cuda:0')\n",
      "outputs tensor(0.1168, device='cuda:0') tensor(1.3344e-05, device='cuda:0')\n",
      "targets tensor(0.2550, device='cuda:0') tensor(0.4537, device='cuda:0')\n",
      "outputs tensor(0.1168, device='cuda:0') tensor(4.5005e-05, device='cuda:0')\n",
      "targets tensor(0.2550, device='cuda:0') tensor(0.4537, device='cuda:0')\n",
      "outputs tensor(0.1168, device='cuda:0') tensor(2.6909e-05, device='cuda:0')\n",
      "targets tensor(0.6225, device='cuda:0') tensor(0.5072, device='cuda:0')\n",
      "outputs tensor(0.1168, device='cuda:0') tensor(3.8710e-05, device='cuda:0')\n",
      "targets tensor(0.7450, device='cuda:0') tensor(0.4537, device='cuda:0')\n",
      "outputs tensor(0.1168, device='cuda:0') tensor(1.3146e-05, device='cuda:0')\n",
      "targets tensor(0.5000, device='cuda:0') tensor(0.5238, device='cuda:0')\n",
      "outputs tensor(0.1168, device='cuda:0') tensor(5.5959e-06, device='cuda:0')\n",
      "targets tensor(0.5000, device='cuda:0') tensor(0.5238, device='cuda:0')\n",
      "outputs tensor(0.1168, device='cuda:0') tensor(4.8355e-05, device='cuda:0')\n",
      "targets tensor(0.6225, device='cuda:0') tensor(0.5072, device='cuda:0')\n",
      "outputs tensor(0.1168, device='cuda:0') tensor(3.8517e-05, device='cuda:0')\n",
      "targets tensor(0.2550, device='cuda:0') tensor(0.4537, device='cuda:0')\n",
      "outputs tensor(0.1168, device='cuda:0') tensor(5.9591e-05, device='cuda:0')\n",
      "targets tensor(0.7450, device='cuda:0') tensor(0.4537, device='cuda:0')\n",
      "outputs tensor(0.1168, device='cuda:0') tensor(4.4313e-05, device='cuda:0')\n",
      "targets tensor(0.6225, device='cuda:0') tensor(0.5072, device='cuda:0')\n",
      "outputs tensor(0.1168, device='cuda:0') tensor(8.7684e-05, device='cuda:0')\n",
      "targets tensor(0.6225, device='cuda:0') tensor(0.5072, device='cuda:0')\n",
      "outputs tensor(0.1168, device='cuda:0') tensor(0.0002, device='cuda:0')\n",
      "targets tensor(0.6225, device='cuda:0') tensor(0.5072, device='cuda:0')\n",
      "outputs tensor(0.1168, device='cuda:0') tensor(2.0819e-05, device='cuda:0')\n",
      "targets tensor(0.2550, device='cuda:0') tensor(0.4537, device='cuda:0')\n",
      "outputs tensor(0.1168, device='cuda:0') tensor(2.7032e-05, device='cuda:0')\n",
      "targets tensor(0.4020, device='cuda:0') tensor(0.5368, device='cuda:0')\n",
      "Valid Step 15/15, valid_loss: 0.6928\n",
      "[Epoch Train: 7] loss: 0.7039, time: 51.00 s            \n",
      "[Epoch Valid: 7] loss: 0.6928, auc: 0.4473, time: 6.00 s\n",
      "EPOCH: 8\n"
     ]
    },
    {
     "data": {
      "application/vnd.jupyter.widget-view+json": {
       "model_id": "8404abe4fe374c08859d4c7fd63759d8",
       "version_major": 2,
       "version_minor": 0
      },
      "text/plain": [
       "HBox(children=(FloatProgress(value=0.0, max=59.0), HTML(value='')))"
      ]
     },
     "metadata": {},
     "output_type": "display_data"
    },
    {
     "name": "stdout",
     "output_type": "stream",
     "text": [
      "Train Step 59/59, train_loss: 0.7185\n"
     ]
    },
    {
     "data": {
      "application/vnd.jupyter.widget-view+json": {
       "model_id": "abd77628198d4ed48de4955fb2f273f0",
       "version_major": 2,
       "version_minor": 0
      },
      "text/plain": [
       "HBox(children=(FloatProgress(value=0.0, max=15.0), HTML(value='')))"
      ]
     },
     "metadata": {},
     "output_type": "display_data"
    },
    {
     "name": "stdout",
     "output_type": "stream",
     "text": [
      "outputs tensor(0.1107, device='cuda:0') tensor(0.0035, device='cuda:0')\n",
      "targets tensor(0.7450, device='cuda:0') tensor(0.4537, device='cuda:0')\n",
      "outputs tensor(0.1091, device='cuda:0') tensor(0.0020, device='cuda:0')\n",
      "targets tensor(0.2550, device='cuda:0') tensor(0.4537, device='cuda:0')\n",
      "outputs tensor(0.1092, device='cuda:0') tensor(0.0016, device='cuda:0')\n",
      "targets tensor(0.2550, device='cuda:0') tensor(0.4537, device='cuda:0')\n",
      "outputs tensor(0.1172, device='cuda:0') tensor(0.0122, device='cuda:0')\n",
      "targets tensor(0.6225, device='cuda:0') tensor(0.5072, device='cuda:0')\n",
      "outputs tensor(0.1091, device='cuda:0') tensor(0.0020, device='cuda:0')\n",
      "targets tensor(0.7450, device='cuda:0') tensor(0.4537, device='cuda:0')\n",
      "outputs tensor(0.1083, device='cuda:0') tensor(0.0005, device='cuda:0')\n",
      "targets tensor(0.5000, device='cuda:0') tensor(0.5238, device='cuda:0')\n",
      "outputs tensor(0.1085, device='cuda:0') tensor(0.0016, device='cuda:0')\n",
      "targets tensor(0.5000, device='cuda:0') tensor(0.5238, device='cuda:0')\n",
      "outputs tensor(0.1086, device='cuda:0') tensor(0.0013, device='cuda:0')\n",
      "targets tensor(0.6225, device='cuda:0') tensor(0.5072, device='cuda:0')\n",
      "outputs tensor(0.1095, device='cuda:0') tensor(0.0021, device='cuda:0')\n",
      "targets tensor(0.2550, device='cuda:0') tensor(0.4537, device='cuda:0')\n",
      "outputs tensor(0.1183, device='cuda:0') tensor(0.0269, device='cuda:0')\n",
      "targets tensor(0.7450, device='cuda:0') tensor(0.4537, device='cuda:0')\n",
      "outputs tensor(0.1102, device='cuda:0') tensor(0.0057, device='cuda:0')\n",
      "targets tensor(0.6225, device='cuda:0') tensor(0.5072, device='cuda:0')\n",
      "outputs tensor(0.1292, device='cuda:0') tensor(0.0586, device='cuda:0')\n",
      "targets tensor(0.6225, device='cuda:0') tensor(0.5072, device='cuda:0')\n",
      "outputs tensor(0.1232, device='cuda:0') tensor(0.0421, device='cuda:0')\n",
      "targets tensor(0.6225, device='cuda:0') tensor(0.5072, device='cuda:0')\n",
      "outputs tensor(0.1082, device='cuda:0') tensor(0.0006, device='cuda:0')\n",
      "targets tensor(0.2550, device='cuda:0') tensor(0.4537, device='cuda:0')\n",
      "outputs tensor(0.1089, device='cuda:0') tensor(0.0015, device='cuda:0')\n",
      "targets tensor(0.4020, device='cuda:0') tensor(0.5368, device='cuda:0')\n",
      "Valid Step 15/15, valid_loss: 0.6911\n",
      "[Epoch Train: 8] loss: 0.7185, time: 51.00 s            \n",
      "[Epoch Valid: 8] loss: 0.6911, auc: 0.5776, time: 6.00 s\n",
      "auc improved from inf to 0.6911. Saved model to '/home/RSNA_MICCAI_Brain_Tumor/models/T1w-e8-loss0.691-auc0.578.pth'\n",
      "EPOCH: 9\n"
     ]
    },
    {
     "data": {
      "application/vnd.jupyter.widget-view+json": {
       "model_id": "f9bec6d9bdf94aba8ef5ae78fc782253",
       "version_major": 2,
       "version_minor": 0
      },
      "text/plain": [
       "HBox(children=(FloatProgress(value=0.0, max=59.0), HTML(value='')))"
      ]
     },
     "metadata": {},
     "output_type": "display_data"
    },
    {
     "name": "stdout",
     "output_type": "stream",
     "text": [
      "Train Step 59/59, train_loss: 0.7052\n"
     ]
    },
    {
     "data": {
      "application/vnd.jupyter.widget-view+json": {
       "model_id": "fc35e5217fef48fc872c718e2abc5e0f",
       "version_major": 2,
       "version_minor": 0
      },
      "text/plain": [
       "HBox(children=(FloatProgress(value=0.0, max=15.0), HTML(value='')))"
      ]
     },
     "metadata": {},
     "output_type": "display_data"
    },
    {
     "name": "stdout",
     "output_type": "stream",
     "text": [
      "outputs tensor(-0.0263, device='cuda:0') tensor(0.0061, device='cuda:0')\n",
      "targets tensor(0.7450, device='cuda:0') tensor(0.4537, device='cuda:0')\n",
      "outputs tensor(-0.0302, device='cuda:0') tensor(0.0003, device='cuda:0')\n",
      "targets tensor(0.2550, device='cuda:0') tensor(0.4537, device='cuda:0')\n",
      "outputs tensor(-0.0286, device='cuda:0') tensor(0.0049, device='cuda:0')\n",
      "targets tensor(0.2550, device='cuda:0') tensor(0.4537, device='cuda:0')\n",
      "outputs tensor(0.2315, device='cuda:0') tensor(0.4880, device='cuda:0')\n",
      "targets tensor(0.6225, device='cuda:0') tensor(0.5072, device='cuda:0')\n",
      "outputs tensor(-0.0302, device='cuda:0') tensor(0.0002, device='cuda:0')\n",
      "targets tensor(0.7450, device='cuda:0') tensor(0.4537, device='cuda:0')\n",
      "outputs tensor(-0.0303, device='cuda:0') tensor(0.0002, device='cuda:0')\n",
      "targets tensor(0.5000, device='cuda:0') tensor(0.5238, device='cuda:0')\n",
      "outputs tensor(-0.0304, device='cuda:0') tensor(3.2932e-05, device='cuda:0')\n",
      "targets tensor(0.5000, device='cuda:0') tensor(0.5238, device='cuda:0')\n",
      "outputs tensor(-0.0298, device='cuda:0') tensor(0.0016, device='cuda:0')\n",
      "targets tensor(0.6225, device='cuda:0') tensor(0.5072, device='cuda:0')\n",
      "outputs tensor(-0.0303, device='cuda:0') tensor(0.0002, device='cuda:0')\n",
      "targets tensor(0.2550, device='cuda:0') tensor(0.4537, device='cuda:0')\n",
      "outputs tensor(0.1035, device='cuda:0') tensor(0.3753, device='cuda:0')\n",
      "targets tensor(0.7450, device='cuda:0') tensor(0.4537, device='cuda:0')\n",
      "outputs tensor(0.1684, device='cuda:0') tensor(0.5622, device='cuda:0')\n",
      "targets tensor(0.6225, device='cuda:0') tensor(0.5072, device='cuda:0')\n",
      "outputs tensor(0.2541, device='cuda:0') tensor(0.8042, device='cuda:0')\n",
      "targets tensor(0.6225, device='cuda:0') tensor(0.5072, device='cuda:0')\n",
      "outputs tensor(0.5479, device='cuda:0') tensor(1.6355, device='cuda:0')\n",
      "targets tensor(0.6225, device='cuda:0') tensor(0.5072, device='cuda:0')\n",
      "outputs tensor(-0.0304, device='cuda:0') tensor(5.8032e-05, device='cuda:0')\n",
      "targets tensor(0.2550, device='cuda:0') tensor(0.4537, device='cuda:0')\n",
      "outputs tensor(-0.0303, device='cuda:0') tensor(9.5651e-05, device='cuda:0')\n",
      "targets tensor(0.4020, device='cuda:0') tensor(0.5368, device='cuda:0')\n",
      "Valid Step 15/15, valid_loss: 0.6823\n",
      "[Epoch Train: 9] loss: 0.7052, time: 51.00 s            \n",
      "[Epoch Valid: 9] loss: 0.6823, auc: 0.5802, time: 6.00 s\n",
      "auc improved from 0.6911 to 0.6823. Saved model to '/home/RSNA_MICCAI_Brain_Tumor/models/T1w-e9-loss0.682-auc0.580.pth'\n",
      "EPOCH: 10\n"
     ]
    },
    {
     "data": {
      "application/vnd.jupyter.widget-view+json": {
       "model_id": "04e6874af3784b739769f8e8e4bfc3c8",
       "version_major": 2,
       "version_minor": 0
      },
      "text/plain": [
       "HBox(children=(FloatProgress(value=0.0, max=59.0), HTML(value='')))"
      ]
     },
     "metadata": {},
     "output_type": "display_data"
    },
    {
     "name": "stdout",
     "output_type": "stream",
     "text": [
      "Train Step 59/59, train_loss: 0.6963\n"
     ]
    },
    {
     "data": {
      "application/vnd.jupyter.widget-view+json": {
       "model_id": "11bf825a3b584448a6223a383e06ba6b",
       "version_major": 2,
       "version_minor": 0
      },
      "text/plain": [
       "HBox(children=(FloatProgress(value=0.0, max=15.0), HTML(value='')))"
      ]
     },
     "metadata": {},
     "output_type": "display_data"
    },
    {
     "name": "stdout",
     "output_type": "stream",
     "text": [
      "outputs tensor(0.0525, device='cuda:0') tensor(0.0006, device='cuda:0')\n",
      "targets tensor(0.7450, device='cuda:0') tensor(0.4537, device='cuda:0')\n",
      "outputs tensor(0.0526, device='cuda:0') tensor(0.0015, device='cuda:0')\n",
      "targets tensor(0.2550, device='cuda:0') tensor(0.4537, device='cuda:0')\n",
      "outputs tensor(0.0523, device='cuda:0') tensor(0.0007, device='cuda:0')\n",
      "targets tensor(0.2550, device='cuda:0') tensor(0.4537, device='cuda:0')\n",
      "outputs tensor(0.0537, device='cuda:0') tensor(0.0022, device='cuda:0')\n",
      "targets tensor(0.6225, device='cuda:0') tensor(0.5072, device='cuda:0')\n",
      "outputs tensor(0.0523, device='cuda:0') tensor(0.0004, device='cuda:0')\n",
      "targets tensor(0.7450, device='cuda:0') tensor(0.4537, device='cuda:0')\n",
      "outputs tensor(0.0524, device='cuda:0') tensor(0.0009, device='cuda:0')\n",
      "targets tensor(0.5000, device='cuda:0') tensor(0.5238, device='cuda:0')\n",
      "outputs tensor(0.0518, device='cuda:0') tensor(0.0001, device='cuda:0')\n",
      "targets tensor(0.5000, device='cuda:0') tensor(0.5238, device='cuda:0')\n",
      "outputs tensor(0.0528, device='cuda:0') tensor(0.0013, device='cuda:0')\n",
      "targets tensor(0.6225, device='cuda:0') tensor(0.5072, device='cuda:0')\n",
      "outputs tensor(0.1320, device='cuda:0') tensor(0.1576, device='cuda:0')\n",
      "targets tensor(0.2550, device='cuda:0') tensor(0.4537, device='cuda:0')\n",
      "outputs tensor(0.0527, device='cuda:0') tensor(0.0010, device='cuda:0')\n",
      "targets tensor(0.7450, device='cuda:0') tensor(0.4537, device='cuda:0')\n",
      "outputs tensor(0.0523, device='cuda:0') tensor(0.0009, device='cuda:0')\n",
      "targets tensor(0.6225, device='cuda:0') tensor(0.5072, device='cuda:0')\n",
      "outputs tensor(0.0520, device='cuda:0') tensor(0.0008, device='cuda:0')\n",
      "targets tensor(0.6225, device='cuda:0') tensor(0.5072, device='cuda:0')\n",
      "outputs tensor(0.0524, device='cuda:0') tensor(0.0018, device='cuda:0')\n",
      "targets tensor(0.6225, device='cuda:0') tensor(0.5072, device='cuda:0')\n",
      "outputs tensor(0.0523, device='cuda:0') tensor(0.0006, device='cuda:0')\n",
      "targets tensor(0.2550, device='cuda:0') tensor(0.4537, device='cuda:0')\n",
      "outputs tensor(0.0524, device='cuda:0') tensor(0.0007, device='cuda:0')\n",
      "targets tensor(0.4020, device='cuda:0') tensor(0.5368, device='cuda:0')\n",
      "Valid Step 15/15, valid_loss: 0.6954\n",
      "[Epoch Train: 10] loss: 0.6963, time: 51.00 s            \n",
      "[Epoch Valid: 10] loss: 0.6954, auc: 0.5070, time: 6.00 s\n",
      "EPOCH: 11\n"
     ]
    },
    {
     "data": {
      "application/vnd.jupyter.widget-view+json": {
       "model_id": "dd8469e000c74bdca12a74d70f8a0ccd",
       "version_major": 2,
       "version_minor": 0
      },
      "text/plain": [
       "HBox(children=(FloatProgress(value=0.0, max=59.0), HTML(value='')))"
      ]
     },
     "metadata": {},
     "output_type": "display_data"
    },
    {
     "name": "stdout",
     "output_type": "stream",
     "text": [
      "Train Step 59/59, train_loss: 0.6935\n"
     ]
    },
    {
     "data": {
      "application/vnd.jupyter.widget-view+json": {
       "model_id": "6e906a3d7cf94b5ca0f5802dc6a37cbf",
       "version_major": 2,
       "version_minor": 0
      },
      "text/plain": [
       "HBox(children=(FloatProgress(value=0.0, max=15.0), HTML(value='')))"
      ]
     },
     "metadata": {},
     "output_type": "display_data"
    },
    {
     "name": "stdout",
     "output_type": "stream",
     "text": [
      "outputs tensor(0.0774, device='cuda:0') tensor(0.0030, device='cuda:0')\n",
      "targets tensor(0.7450, device='cuda:0') tensor(0.4537, device='cuda:0')\n",
      "outputs tensor(0.0788, device='cuda:0') tensor(0.0013, device='cuda:0')\n",
      "targets tensor(0.2550, device='cuda:0') tensor(0.4537, device='cuda:0')\n",
      "outputs tensor(0.0783, device='cuda:0') tensor(0.0020, device='cuda:0')\n",
      "targets tensor(0.2550, device='cuda:0') tensor(0.4537, device='cuda:0')\n",
      "outputs tensor(0.0708, device='cuda:0') tensor(0.0166, device='cuda:0')\n",
      "targets tensor(0.6225, device='cuda:0') tensor(0.5072, device='cuda:0')\n",
      "outputs tensor(0.0790, device='cuda:0') tensor(0.0008, device='cuda:0')\n",
      "targets tensor(0.7450, device='cuda:0') tensor(0.4537, device='cuda:0')\n",
      "outputs tensor(0.0788, device='cuda:0') tensor(0.0007, device='cuda:0')\n",
      "targets tensor(0.5000, device='cuda:0') tensor(0.5238, device='cuda:0')\n",
      "outputs tensor(0.0784, device='cuda:0') tensor(0.0001, device='cuda:0')\n",
      "targets tensor(0.5000, device='cuda:0') tensor(0.5238, device='cuda:0')\n",
      "outputs tensor(0.0794, device='cuda:0') tensor(0.0011, device='cuda:0')\n",
      "targets tensor(0.6225, device='cuda:0') tensor(0.5072, device='cuda:0')\n",
      "outputs tensor(0.0700, device='cuda:0') tensor(0.0143, device='cuda:0')\n",
      "targets tensor(0.2550, device='cuda:0') tensor(0.4537, device='cuda:0')\n",
      "outputs tensor(0.0727, device='cuda:0') tensor(0.0124, device='cuda:0')\n",
      "targets tensor(0.7450, device='cuda:0') tensor(0.4537, device='cuda:0')\n",
      "outputs tensor(0.0737, device='cuda:0') tensor(0.0135, device='cuda:0')\n",
      "targets tensor(0.6225, device='cuda:0') tensor(0.5072, device='cuda:0')\n",
      "outputs tensor(0.0747, device='cuda:0') tensor(0.0113, device='cuda:0')\n",
      "targets tensor(0.6225, device='cuda:0') tensor(0.5072, device='cuda:0')\n",
      "outputs tensor(0.0763, device='cuda:0') tensor(0.0059, device='cuda:0')\n",
      "targets tensor(0.6225, device='cuda:0') tensor(0.5072, device='cuda:0')\n",
      "outputs tensor(0.0786, device='cuda:0') tensor(0.0004, device='cuda:0')\n",
      "targets tensor(0.2550, device='cuda:0') tensor(0.4537, device='cuda:0')\n",
      "outputs tensor(0.0789, device='cuda:0') tensor(0.0007, device='cuda:0')\n",
      "targets tensor(0.4020, device='cuda:0') tensor(0.5368, device='cuda:0')\n",
      "Valid Step 15/15, valid_loss: 0.6926\n",
      "[Epoch Train: 11] loss: 0.6935, time: 52.00 s            \n",
      "[Epoch Valid: 11] loss: 0.6926, auc: 0.4792, time: 5.00 s\n",
      "EPOCH: 12\n"
     ]
    },
    {
     "data": {
      "application/vnd.jupyter.widget-view+json": {
       "model_id": "c40113e448564c10886cd77d24c562b5",
       "version_major": 2,
       "version_minor": 0
      },
      "text/plain": [
       "HBox(children=(FloatProgress(value=0.0, max=59.0), HTML(value='')))"
      ]
     },
     "metadata": {},
     "output_type": "display_data"
    },
    {
     "name": "stdout",
     "output_type": "stream",
     "text": [
      "Train Step 59/59, train_loss: 0.6951\n"
     ]
    },
    {
     "data": {
      "application/vnd.jupyter.widget-view+json": {
       "model_id": "326e484cfefe4ff7b5de7fbecc845b9f",
       "version_major": 2,
       "version_minor": 0
      },
      "text/plain": [
       "HBox(children=(FloatProgress(value=0.0, max=15.0), HTML(value='')))"
      ]
     },
     "metadata": {},
     "output_type": "display_data"
    },
    {
     "name": "stdout",
     "output_type": "stream",
     "text": [
      "outputs tensor(0.0680, device='cuda:0') tensor(0.0014, device='cuda:0')\n",
      "targets tensor(0.7450, device='cuda:0') tensor(0.4537, device='cuda:0')\n",
      "outputs tensor(0.0652, device='cuda:0') tensor(0.0078, device='cuda:0')\n",
      "targets tensor(0.2550, device='cuda:0') tensor(0.4537, device='cuda:0')\n",
      "outputs tensor(0.0674, device='cuda:0') tensor(0.0018, device='cuda:0')\n",
      "targets tensor(0.2550, device='cuda:0') tensor(0.4537, device='cuda:0')\n",
      "outputs tensor(0.0672, device='cuda:0') tensor(0.0036, device='cuda:0')\n",
      "targets tensor(0.6225, device='cuda:0') tensor(0.5072, device='cuda:0')\n",
      "outputs tensor(0.0671, device='cuda:0') tensor(0.0016, device='cuda:0')\n",
      "targets tensor(0.7450, device='cuda:0') tensor(0.4537, device='cuda:0')\n",
      "outputs tensor(0.0673, device='cuda:0') tensor(0.0019, device='cuda:0')\n",
      "targets tensor(0.5000, device='cuda:0') tensor(0.5238, device='cuda:0')\n",
      "outputs tensor(0.0666, device='cuda:0') tensor(0.0015, device='cuda:0')\n",
      "targets tensor(0.5000, device='cuda:0') tensor(0.5238, device='cuda:0')\n",
      "outputs tensor(0.0678, device='cuda:0') tensor(0.0015, device='cuda:0')\n",
      "targets tensor(0.6225, device='cuda:0') tensor(0.5072, device='cuda:0')\n",
      "outputs tensor(0.0647, device='cuda:0') tensor(0.0034, device='cuda:0')\n",
      "targets tensor(0.2550, device='cuda:0') tensor(0.4537, device='cuda:0')\n",
      "outputs tensor(0.0663, device='cuda:0') tensor(0.0058, device='cuda:0')\n",
      "targets tensor(0.7450, device='cuda:0') tensor(0.4537, device='cuda:0')\n",
      "outputs tensor(0.0673, device='cuda:0') tensor(0.0017, device='cuda:0')\n",
      "targets tensor(0.6225, device='cuda:0') tensor(0.5072, device='cuda:0')\n",
      "outputs tensor(0.0673, device='cuda:0') tensor(0.0015, device='cuda:0')\n",
      "targets tensor(0.6225, device='cuda:0') tensor(0.5072, device='cuda:0')\n",
      "outputs tensor(0.0662, device='cuda:0') tensor(0.0016, device='cuda:0')\n",
      "targets tensor(0.6225, device='cuda:0') tensor(0.5072, device='cuda:0')\n",
      "outputs tensor(0.0674, device='cuda:0') tensor(0.0014, device='cuda:0')\n",
      "targets tensor(0.2550, device='cuda:0') tensor(0.4537, device='cuda:0')\n",
      "outputs tensor(0.0673, device='cuda:0') tensor(0.0008, device='cuda:0')\n",
      "targets tensor(0.4020, device='cuda:0') tensor(0.5368, device='cuda:0')\n",
      "Valid Step 15/15, valid_loss: 0.6921\n",
      "[Epoch Train: 12] loss: 0.6951, time: 51.00 s            \n",
      "[Epoch Valid: 12] loss: 0.6921, auc: 0.6209, time: 6.00 s\n",
      "EPOCH: 13\n"
     ]
    },
    {
     "data": {
      "application/vnd.jupyter.widget-view+json": {
       "model_id": "904513f0dbea4da7a87dd3721de3efea",
       "version_major": 2,
       "version_minor": 0
      },
      "text/plain": [
       "HBox(children=(FloatProgress(value=0.0, max=59.0), HTML(value='')))"
      ]
     },
     "metadata": {},
     "output_type": "display_data"
    },
    {
     "name": "stdout",
     "output_type": "stream",
     "text": [
      "Train Step 59/59, train_loss: 0.6900\n"
     ]
    },
    {
     "data": {
      "application/vnd.jupyter.widget-view+json": {
       "model_id": "b631bcf6adf34210a41767f59b366252",
       "version_major": 2,
       "version_minor": 0
      },
      "text/plain": [
       "HBox(children=(FloatProgress(value=0.0, max=15.0), HTML(value='')))"
      ]
     },
     "metadata": {},
     "output_type": "display_data"
    },
    {
     "name": "stdout",
     "output_type": "stream",
     "text": [
      "outputs tensor(0.0897, device='cuda:0') tensor(0.0071, device='cuda:0')\n",
      "targets tensor(0.7450, device='cuda:0') tensor(0.4537, device='cuda:0')\n",
      "outputs tensor(0.4319, device='cuda:0') tensor(0.8900, device='cuda:0')\n",
      "targets tensor(0.2550, device='cuda:0') tensor(0.4537, device='cuda:0')\n",
      "outputs tensor(0.0888, device='cuda:0') tensor(0.0079, device='cuda:0')\n",
      "targets tensor(0.2550, device='cuda:0') tensor(0.4537, device='cuda:0')\n",
      "outputs tensor(0.1948, device='cuda:0') tensor(0.1870, device='cuda:0')\n",
      "targets tensor(0.6225, device='cuda:0') tensor(0.5072, device='cuda:0')\n",
      "outputs tensor(0.0884, device='cuda:0') tensor(0.0132, device='cuda:0')\n",
      "targets tensor(0.7450, device='cuda:0') tensor(0.4537, device='cuda:0')\n",
      "outputs tensor(0.0919, device='cuda:0') tensor(0.0149, device='cuda:0')\n",
      "targets tensor(0.5000, device='cuda:0') tensor(0.5238, device='cuda:0')\n",
      "outputs tensor(0.1027, device='cuda:0') tensor(0.0538, device='cuda:0')\n",
      "targets tensor(0.5000, device='cuda:0') tensor(0.5238, device='cuda:0')\n",
      "outputs tensor(0.0958, device='cuda:0') tensor(0.0127, device='cuda:0')\n",
      "targets tensor(0.6225, device='cuda:0') tensor(0.5072, device='cuda:0')\n",
      "outputs tensor(0.7685, device='cuda:0') tensor(1.4775, device='cuda:0')\n",
      "targets tensor(0.2550, device='cuda:0') tensor(0.4537, device='cuda:0')\n",
      "outputs tensor(0.0900, device='cuda:0') tensor(0.0050, device='cuda:0')\n",
      "targets tensor(0.7450, device='cuda:0') tensor(0.4537, device='cuda:0')\n",
      "outputs tensor(0.0873, device='cuda:0') tensor(0.0090, device='cuda:0')\n",
      "targets tensor(0.6225, device='cuda:0') tensor(0.5072, device='cuda:0')\n",
      "outputs tensor(0.0896, device='cuda:0') tensor(0.0042, device='cuda:0')\n",
      "targets tensor(0.6225, device='cuda:0') tensor(0.5072, device='cuda:0')\n",
      "outputs tensor(0.3253, device='cuda:0') tensor(0.6805, device='cuda:0')\n",
      "targets tensor(0.6225, device='cuda:0') tensor(0.5072, device='cuda:0')\n",
      "outputs tensor(0.0908, device='cuda:0') tensor(0.0140, device='cuda:0')\n",
      "targets tensor(0.2550, device='cuda:0') tensor(0.4537, device='cuda:0')\n",
      "outputs tensor(0.0902, device='cuda:0') tensor(0.0029, device='cuda:0')\n",
      "targets tensor(0.4020, device='cuda:0') tensor(0.5368, device='cuda:0')\n",
      "Valid Step 15/15, valid_loss: 0.7439\n",
      "[Epoch Train: 13] loss: 0.6900, time: 51.00 s            \n",
      "[Epoch Valid: 13] loss: 0.7439, auc: 0.5562, time: 6.00 s\n",
      "EPOCH: 14\n"
     ]
    },
    {
     "data": {
      "application/vnd.jupyter.widget-view+json": {
       "model_id": "0429ec5e4453455794f676371083afff",
       "version_major": 2,
       "version_minor": 0
      },
      "text/plain": [
       "HBox(children=(FloatProgress(value=0.0, max=59.0), HTML(value='')))"
      ]
     },
     "metadata": {},
     "output_type": "display_data"
    },
    {
     "name": "stdout",
     "output_type": "stream",
     "text": [
      "Train Step 59/59, train_loss: 0.7146\n"
     ]
    },
    {
     "data": {
      "application/vnd.jupyter.widget-view+json": {
       "model_id": "dc4d8ddfa08d4ecdbb756e569e92c31d",
       "version_major": 2,
       "version_minor": 0
      },
      "text/plain": [
       "HBox(children=(FloatProgress(value=0.0, max=15.0), HTML(value='')))"
      ]
     },
     "metadata": {},
     "output_type": "display_data"
    },
    {
     "name": "stdout",
     "output_type": "stream",
     "text": [
      "outputs tensor(-0.0901, device='cuda:0') tensor(0.0057, device='cuda:0')\n",
      "targets tensor(0.7450, device='cuda:0') tensor(0.4537, device='cuda:0')\n",
      "outputs tensor(2.3550, device='cuda:0') tensor(6.1005, device='cuda:0')\n",
      "targets tensor(0.2550, device='cuda:0') tensor(0.4537, device='cuda:0')\n",
      "outputs tensor(-0.0939, device='cuda:0') tensor(0.0069, device='cuda:0')\n",
      "targets tensor(0.2550, device='cuda:0') tensor(0.4537, device='cuda:0')\n",
      "outputs tensor(2.5930, device='cuda:0') tensor(5.8159, device='cuda:0')\n",
      "targets tensor(0.6225, device='cuda:0') tensor(0.5072, device='cuda:0')\n",
      "outputs tensor(0.1827, device='cuda:0') tensor(0.7778, device='cuda:0')\n",
      "targets tensor(0.7450, device='cuda:0') tensor(0.4537, device='cuda:0')\n",
      "outputs tensor(-0.0748, device='cuda:0') tensor(0.0432, device='cuda:0')\n",
      "targets tensor(0.5000, device='cuda:0') tensor(0.5238, device='cuda:0')\n",
      "outputs tensor(2.0450, device='cuda:0') tensor(6.0516, device='cuda:0')\n",
      "targets tensor(0.5000, device='cuda:0') tensor(0.5238, device='cuda:0')\n",
      "outputs tensor(0.6121, device='cuda:0') tensor(1.8948, device='cuda:0')\n",
      "targets tensor(0.6225, device='cuda:0') tensor(0.5072, device='cuda:0')\n",
      "outputs tensor(3.6461, device='cuda:0') tensor(6.9291, device='cuda:0')\n",
      "targets tensor(0.2550, device='cuda:0') tensor(0.4537, device='cuda:0')\n",
      "outputs tensor(0.1539, device='cuda:0') tensor(0.6905, device='cuda:0')\n",
      "targets tensor(0.7450, device='cuda:0') tensor(0.4537, device='cuda:0')\n",
      "outputs tensor(-0.0947, device='cuda:0') tensor(0.0055, device='cuda:0')\n",
      "targets tensor(0.6225, device='cuda:0') tensor(0.5072, device='cuda:0')\n",
      "outputs tensor(-0.0942, device='cuda:0') tensor(0.0062, device='cuda:0')\n",
      "targets tensor(0.6225, device='cuda:0') tensor(0.5072, device='cuda:0')\n",
      "outputs tensor(1.0137, device='cuda:0') tensor(3.1292, device='cuda:0')\n",
      "targets tensor(0.6225, device='cuda:0') tensor(0.5072, device='cuda:0')\n",
      "outputs tensor(0.2787, device='cuda:0') tensor(1.0523, device='cuda:0')\n",
      "targets tensor(0.2550, device='cuda:0') tensor(0.4537, device='cuda:0')\n",
      "outputs tensor(0.1506, device='cuda:0') tensor(0.5384, device='cuda:0')\n",
      "targets tensor(0.4020, device='cuda:0') tensor(0.5368, device='cuda:0')\n",
      "Valid Step 15/15, valid_loss: 1.3055\n",
      "[Epoch Train: 14] loss: 0.7146, time: 51.00 s            \n",
      "[Epoch Valid: 14] loss: 1.3055, auc: 0.5293, time: 6.00 s\n",
      "EPOCH: 15\n"
     ]
    },
    {
     "data": {
      "application/vnd.jupyter.widget-view+json": {
       "model_id": "ba5db3d088ad460283ff620af949abf8",
       "version_major": 2,
       "version_minor": 0
      },
      "text/plain": [
       "HBox(children=(FloatProgress(value=0.0, max=59.0), HTML(value='')))"
      ]
     },
     "metadata": {},
     "output_type": "display_data"
    },
    {
     "name": "stdout",
     "output_type": "stream",
     "text": [
      "Train Step 59/59, train_loss: 0.7024\n"
     ]
    },
    {
     "data": {
      "application/vnd.jupyter.widget-view+json": {
       "model_id": "f695c858e2434bdab5fdfee85766ea6b",
       "version_major": 2,
       "version_minor": 0
      },
      "text/plain": [
       "HBox(children=(FloatProgress(value=0.0, max=15.0), HTML(value='')))"
      ]
     },
     "metadata": {},
     "output_type": "display_data"
    },
    {
     "name": "stdout",
     "output_type": "stream",
     "text": [
      "outputs tensor(2.1153, device='cuda:0') tensor(2.4861, device='cuda:0')\n",
      "targets tensor(0.7450, device='cuda:0') tensor(0.4537, device='cuda:0')\n",
      "outputs tensor(8.1554, device='cuda:0') tensor(16.4350, device='cuda:0')\n",
      "targets tensor(0.2550, device='cuda:0') tensor(0.4537, device='cuda:0')\n",
      "outputs tensor(1.6712, device='cuda:0') tensor(3.3522, device='cuda:0')\n",
      "targets tensor(0.2550, device='cuda:0') tensor(0.4537, device='cuda:0')\n",
      "outputs tensor(14.5708, device='cuda:0') tensor(28.5306, device='cuda:0')\n",
      "targets tensor(0.6225, device='cuda:0') tensor(0.5072, device='cuda:0')\n",
      "outputs tensor(2.8535, device='cuda:0') tensor(7.2681, device='cuda:0')\n",
      "targets tensor(0.7450, device='cuda:0') tensor(0.4537, device='cuda:0')\n",
      "outputs tensor(1.1740, device='cuda:0') tensor(3.0060, device='cuda:0')\n",
      "targets tensor(0.5000, device='cuda:0') tensor(0.5238, device='cuda:0')\n",
      "outputs tensor(5.2159, device='cuda:0') tensor(14.7342, device='cuda:0')\n",
      "targets tensor(0.5000, device='cuda:0') tensor(0.5238, device='cuda:0')\n",
      "outputs tensor(3.6631, device='cuda:0') tensor(6.7238, device='cuda:0')\n",
      "targets tensor(0.6225, device='cuda:0') tensor(0.5072, device='cuda:0')\n",
      "outputs tensor(14.6853, device='cuda:0') tensor(27.4621, device='cuda:0')\n",
      "targets tensor(0.2550, device='cuda:0') tensor(0.4537, device='cuda:0')\n",
      "outputs tensor(1.2630, device='cuda:0') tensor(2.2520, device='cuda:0')\n",
      "targets tensor(0.7450, device='cuda:0') tensor(0.4537, device='cuda:0')\n",
      "outputs tensor(1.1921, device='cuda:0') tensor(1.9267, device='cuda:0')\n",
      "targets tensor(0.6225, device='cuda:0') tensor(0.5072, device='cuda:0')\n",
      "outputs tensor(0.7128, device='cuda:0') tensor(1.3665, device='cuda:0')\n",
      "targets tensor(0.6225, device='cuda:0') tensor(0.5072, device='cuda:0')\n",
      "outputs tensor(4.0377, device='cuda:0') tensor(7.4767, device='cuda:0')\n",
      "targets tensor(0.6225, device='cuda:0') tensor(0.5072, device='cuda:0')\n",
      "outputs tensor(3.4088, device='cuda:0') tensor(9.5711, device='cuda:0')\n",
      "targets tensor(0.2550, device='cuda:0') tensor(0.4537, device='cuda:0')\n",
      "outputs tensor(0.0567, device='cuda:0') tensor(0.0498, device='cuda:0')\n",
      "targets tensor(0.4020, device='cuda:0') tensor(0.5368, device='cuda:0')\n",
      "Valid Step 15/15, valid_loss: 3.6704\n",
      "[Epoch Train: 15] loss: 0.7024, time: 51.00 s            \n",
      "[Epoch Valid: 15] loss: 3.6704, auc: 0.5202, time: 6.00 s\n",
      "\n",
      "(468, 3) (117, 3)\n"
     ]
    },
    {
     "name": "stderr",
     "output_type": "stream",
     "text": [
      "/opt/conda/lib/python3.8/site-packages/pandas/core/indexing.py:1720: SettingWithCopyWarning: \n",
      "A value is trying to be set on a copy of a slice from a DataFrame.\n",
      "Try using .loc[row_indexer,col_indexer] = value instead\n",
      "\n",
      "See the caveats in the documentation: https://pandas.pydata.org/pandas-docs/stable/user_guide/indexing.html#returning-a-view-versus-a-copy\n",
      "  self._setitem_single_column(loc, value, pi)\n"
     ]
    },
    {
     "data": {
      "text/html": [
       "<div>\n",
       "<style scoped>\n",
       "    .dataframe tbody tr th:only-of-type {\n",
       "        vertical-align: middle;\n",
       "    }\n",
       "\n",
       "    .dataframe tbody tr th {\n",
       "        vertical-align: top;\n",
       "    }\n",
       "\n",
       "    .dataframe thead th {\n",
       "        text-align: right;\n",
       "    }\n",
       "</style>\n",
       "<table border=\"1\" class=\"dataframe\">\n",
       "  <thead>\n",
       "    <tr style=\"text-align: right;\">\n",
       "      <th></th>\n",
       "      <th>BraTS21ID</th>\n",
       "      <th>MGMT_value</th>\n",
       "      <th>MRI_Type</th>\n",
       "    </tr>\n",
       "  </thead>\n",
       "  <tbody>\n",
       "    <tr>\n",
       "      <th>102</th>\n",
       "      <td>154</td>\n",
       "      <td>0</td>\n",
       "      <td>T1wCE</td>\n",
       "    </tr>\n",
       "    <tr>\n",
       "      <th>161</th>\n",
       "      <td>240</td>\n",
       "      <td>1</td>\n",
       "      <td>T1wCE</td>\n",
       "    </tr>\n",
       "    <tr>\n",
       "      <th>508</th>\n",
       "      <td>740</td>\n",
       "      <td>1</td>\n",
       "      <td>T1wCE</td>\n",
       "    </tr>\n",
       "    <tr>\n",
       "      <th>495</th>\n",
       "      <td>725</td>\n",
       "      <td>1</td>\n",
       "      <td>T1wCE</td>\n",
       "    </tr>\n",
       "    <tr>\n",
       "      <th>298</th>\n",
       "      <td>432</td>\n",
       "      <td>0</td>\n",
       "      <td>T1wCE</td>\n",
       "    </tr>\n",
       "  </tbody>\n",
       "</table>\n",
       "</div>"
      ],
      "text/plain": [
       "     BraTS21ID  MGMT_value MRI_Type\n",
       "102        154           0    T1wCE\n",
       "161        240           1    T1wCE\n",
       "508        740           1    T1wCE\n",
       "495        725           1    T1wCE\n",
       "298        432           0    T1wCE"
      ]
     },
     "metadata": {},
     "output_type": "display_data"
    },
    {
     "data": {
      "application/vnd.jupyter.widget-view+json": {
       "model_id": "bd4cece97f724f01a2a5a681820824a9",
       "version_major": 2,
       "version_minor": 0
      },
      "text/plain": [
       "HBox(children=(FloatProgress(value=0.0, max=15.0), HTML(value='')))"
      ]
     },
     "metadata": {},
     "output_type": "display_data"
    },
    {
     "name": "stdout",
     "output_type": "stream",
     "text": [
      "EPOCH: 1\n"
     ]
    },
    {
     "data": {
      "application/vnd.jupyter.widget-view+json": {
       "model_id": "0b48944a5be745229dc217179719e63e",
       "version_major": 2,
       "version_minor": 0
      },
      "text/plain": [
       "HBox(children=(FloatProgress(value=0.0, max=59.0), HTML(value='')))"
      ]
     },
     "metadata": {},
     "output_type": "display_data"
    },
    {
     "name": "stdout",
     "output_type": "stream",
     "text": [
      "Train Step 59/59, train_loss: 0.9377\n"
     ]
    },
    {
     "data": {
      "application/vnd.jupyter.widget-view+json": {
       "model_id": "5b920b6353db4481b639ddd8e50d6aef",
       "version_major": 2,
       "version_minor": 0
      },
      "text/plain": [
       "HBox(children=(FloatProgress(value=0.0, max=15.0), HTML(value='')))"
      ]
     },
     "metadata": {},
     "output_type": "display_data"
    },
    {
     "name": "stdout",
     "output_type": "stream",
     "text": [
      "outputs tensor(-0.0235, device='cuda:0') tensor(1.7245e-09, device='cuda:0')\n",
      "targets tensor(0.7450, device='cuda:0') tensor(0.4537, device='cuda:0')\n",
      "outputs tensor(-0.0235, device='cuda:0') tensor(2.1120e-09, device='cuda:0')\n",
      "targets tensor(0.2550, device='cuda:0') tensor(0.4537, device='cuda:0')\n",
      "outputs tensor(-0.0235, device='cuda:0') tensor(2.1120e-09, device='cuda:0')\n",
      "targets tensor(0.2550, device='cuda:0') tensor(0.4537, device='cuda:0')\n",
      "outputs tensor(-0.0235, device='cuda:0') tensor(1.2194e-09, device='cuda:0')\n",
      "targets tensor(0.6225, device='cuda:0') tensor(0.5072, device='cuda:0')\n",
      "outputs tensor(-0.0235, device='cuda:0') tensor(2.9027e-09, device='cuda:0')\n",
      "targets tensor(0.7450, device='cuda:0') tensor(0.4537, device='cuda:0')\n",
      "outputs tensor(-0.0235, device='cuda:0') tensor(1.9913e-09, device='cuda:0')\n",
      "targets tensor(0.5000, device='cuda:0') tensor(0.5238, device='cuda:0')\n",
      "outputs tensor(-0.0235, device='cuda:0') tensor(1.2194e-09, device='cuda:0')\n",
      "targets tensor(0.5000, device='cuda:0') tensor(0.5238, device='cuda:0')\n",
      "outputs tensor(-0.0235, device='cuda:0') tensor(2.3349e-09, device='cuda:0')\n",
      "targets tensor(0.6225, device='cuda:0') tensor(0.5072, device='cuda:0')\n",
      "outputs tensor(-0.0235, device='cuda:0') tensor(1.2194e-09, device='cuda:0')\n",
      "targets tensor(0.2550, device='cuda:0') tensor(0.4537, device='cuda:0')\n",
      "outputs tensor(-0.0235, device='cuda:0') tensor(2.6342e-09, device='cuda:0')\n",
      "targets tensor(0.7450, device='cuda:0') tensor(0.4537, device='cuda:0')\n",
      "outputs tensor(-0.0235, device='cuda:0') tensor(1.7245e-09, device='cuda:0')\n",
      "targets tensor(0.6225, device='cuda:0') tensor(0.5072, device='cuda:0')\n",
      "outputs tensor(-0.0235, device='cuda:0') tensor(1.7245e-09, device='cuda:0')\n",
      "targets tensor(0.6225, device='cuda:0') tensor(0.5072, device='cuda:0')\n",
      "outputs tensor(-0.0235, device='cuda:0') tensor(1.2194e-09, device='cuda:0')\n",
      "targets tensor(0.6225, device='cuda:0') tensor(0.5072, device='cuda:0')\n",
      "outputs tensor(-0.0235, device='cuda:0') tensor(1.2194e-09, device='cuda:0')\n",
      "targets tensor(0.2550, device='cuda:0') tensor(0.4537, device='cuda:0')\n",
      "outputs tensor(-0.0235, device='cuda:0') tensor(1.8313e-09, device='cuda:0')\n",
      "targets tensor(0.4020, device='cuda:0') tensor(0.5368, device='cuda:0')\n",
      "Valid Step 15/15, valid_loss: 0.6936\n",
      "[Epoch Train: 1] loss: 0.9377, time: 51.00 s            \n",
      "[Epoch Valid: 1] loss: 0.6936, auc: 0.4659, time: 6.00 s\n",
      "EPOCH: 2\n"
     ]
    },
    {
     "data": {
      "application/vnd.jupyter.widget-view+json": {
       "model_id": "09fb2cd1924645e0a46d021cee72730b",
       "version_major": 2,
       "version_minor": 0
      },
      "text/plain": [
       "HBox(children=(FloatProgress(value=0.0, max=59.0), HTML(value='')))"
      ]
     },
     "metadata": {},
     "output_type": "display_data"
    },
    {
     "name": "stdout",
     "output_type": "stream",
     "text": [
      "Train Step 59/59, train_loss: 0.7625\n"
     ]
    },
    {
     "data": {
      "application/vnd.jupyter.widget-view+json": {
       "model_id": "5e1260331819450296063ea997cb9fef",
       "version_major": 2,
       "version_minor": 0
      },
      "text/plain": [
       "HBox(children=(FloatProgress(value=0.0, max=15.0), HTML(value='')))"
      ]
     },
     "metadata": {},
     "output_type": "display_data"
    },
    {
     "name": "stdout",
     "output_type": "stream",
     "text": [
      "outputs tensor(-0.2128, device='cuda:0') tensor(1.7810e-08, device='cuda:0')\n",
      "targets tensor(0.7450, device='cuda:0') tensor(0.4537, device='cuda:0')\n",
      "outputs tensor(-0.2128, device='cuda:0') tensor(8.9051e-09, device='cuda:0')\n",
      "targets tensor(0.2550, device='cuda:0') tensor(0.4537, device='cuda:0')\n",
      "outputs tensor(-0.2128, device='cuda:0') tensor(8.9051e-09, device='cuda:0')\n",
      "targets tensor(0.2550, device='cuda:0') tensor(0.4537, device='cuda:0')\n",
      "outputs tensor(-0.2128, device='cuda:0') tensor(1.8250e-08, device='cuda:0')\n",
      "targets tensor(0.6225, device='cuda:0') tensor(0.5072, device='cuda:0')\n",
      "outputs tensor(-0.2128, device='cuda:0') tensor(6.8979e-09, device='cuda:0')\n",
      "targets tensor(0.7450, device='cuda:0') tensor(0.4537, device='cuda:0')\n",
      "outputs tensor(-0.2128, device='cuda:0') tensor(1.6420e-08, device='cuda:0')\n",
      "targets tensor(0.5000, device='cuda:0') tensor(0.5238, device='cuda:0')\n",
      "outputs tensor(-0.2128, device='cuda:0') tensor(1.9913e-08, device='cuda:0')\n",
      "targets tensor(0.5000, device='cuda:0') tensor(0.5238, device='cuda:0')\n",
      "outputs tensor(-0.2128, device='cuda:0') tensor(1.8250e-08, device='cuda:0')\n",
      "targets tensor(0.6225, device='cuda:0') tensor(0.5072, device='cuda:0')\n",
      "outputs tensor(-0.2128, device='cuda:0') tensor(1.9510e-08, device='cuda:0')\n",
      "targets tensor(0.2550, device='cuda:0') tensor(0.4537, device='cuda:0')\n",
      "outputs tensor(-0.2128, device='cuda:0') tensor(8.9051e-09, device='cuda:0')\n",
      "targets tensor(0.7450, device='cuda:0') tensor(0.4537, device='cuda:0')\n",
      "outputs tensor(-0.2128, device='cuda:0') tensor(1.7810e-08, device='cuda:0')\n",
      "targets tensor(0.6225, device='cuda:0') tensor(0.5072, device='cuda:0')\n",
      "outputs tensor(-0.2128, device='cuda:0') tensor(1.5930e-08, device='cuda:0')\n",
      "targets tensor(0.6225, device='cuda:0') tensor(0.5072, device='cuda:0')\n",
      "outputs tensor(-0.2128, device='cuda:0') tensor(8.9051e-09, device='cuda:0')\n",
      "targets tensor(0.6225, device='cuda:0') tensor(0.5072, device='cuda:0')\n",
      "outputs tensor(-0.2128, device='cuda:0') tensor(9.7551e-09, device='cuda:0')\n",
      "targets tensor(0.2550, device='cuda:0') tensor(0.4537, device='cuda:0')\n",
      "outputs tensor(-0.2128, device='cuda:0') tensor(0., device='cuda:0')\n",
      "targets tensor(0.4020, device='cuda:0') tensor(0.5368, device='cuda:0')\n",
      "Valid Step 15/15, valid_loss: 0.7026\n",
      "[Epoch Train: 2] loss: 0.7625, time: 52.00 s            \n",
      "[Epoch Valid: 2] loss: 0.7026, auc: 0.4138, time: 6.00 s\n",
      "EPOCH: 3\n"
     ]
    },
    {
     "data": {
      "application/vnd.jupyter.widget-view+json": {
       "model_id": "8dd68c4740f541a8af8a9c94bedcd164",
       "version_major": 2,
       "version_minor": 0
      },
      "text/plain": [
       "HBox(children=(FloatProgress(value=0.0, max=59.0), HTML(value='')))"
      ]
     },
     "metadata": {},
     "output_type": "display_data"
    },
    {
     "name": "stdout",
     "output_type": "stream",
     "text": [
      "Train Step 59/59, train_loss: 0.7245\n"
     ]
    },
    {
     "data": {
      "application/vnd.jupyter.widget-view+json": {
       "model_id": "679910cecc844c11b04d1032226938dc",
       "version_major": 2,
       "version_minor": 0
      },
      "text/plain": [
       "HBox(children=(FloatProgress(value=0.0, max=15.0), HTML(value='')))"
      ]
     },
     "metadata": {},
     "output_type": "display_data"
    },
    {
     "name": "stdout",
     "output_type": "stream",
     "text": [
      "outputs tensor(0.0787, device='cuda:0') tensor(8.2101e-09, device='cuda:0')\n",
      "targets tensor(0.7450, device='cuda:0') tensor(0.4537, device='cuda:0')\n",
      "outputs tensor(0.0787, device='cuda:0') tensor(1.3939e-08, device='cuda:0')\n",
      "targets tensor(0.2550, device='cuda:0') tensor(0.4537, device='cuda:0')\n",
      "outputs tensor(0.0787, device='cuda:0') tensor(9.5497e-09, device='cuda:0')\n",
      "targets tensor(0.2550, device='cuda:0') tensor(0.4537, device='cuda:0')\n",
      "outputs tensor(0.0787, device='cuda:0') tensor(8.2101e-09, device='cuda:0')\n",
      "targets tensor(0.6225, device='cuda:0') tensor(0.5072, device='cuda:0')\n",
      "outputs tensor(0.0787, device='cuda:0') tensor(8.2101e-09, device='cuda:0')\n",
      "targets tensor(0.7450, device='cuda:0') tensor(0.4537, device='cuda:0')\n",
      "outputs tensor(0.0787, device='cuda:0') tensor(7.7121e-09, device='cuda:0')\n",
      "targets tensor(0.5000, device='cuda:0') tensor(0.5238, device='cuda:0')\n",
      "outputs tensor(0.0787, device='cuda:0') tensor(0., device='cuda:0')\n",
      "targets tensor(0.5000, device='cuda:0') tensor(0.5238, device='cuda:0')\n",
      "outputs tensor(0.0787, device='cuda:0') tensor(1.0907e-08, device='cuda:0')\n",
      "targets tensor(0.6225, device='cuda:0') tensor(0.5072, device='cuda:0')\n",
      "outputs tensor(0.0787, device='cuda:0') tensor(1.2435e-08, device='cuda:0')\n",
      "targets tensor(0.2550, device='cuda:0') tensor(0.4537, device='cuda:0')\n",
      "outputs tensor(0.0787, device='cuda:0') tensor(7.4506e-09, device='cuda:0')\n",
      "targets tensor(0.7450, device='cuda:0') tensor(0.4537, device='cuda:0')\n",
      "outputs tensor(0.0787, device='cuda:0') tensor(5.2684e-09, device='cuda:0')\n",
      "targets tensor(0.6225, device='cuda:0') tensor(0.5072, device='cuda:0')\n",
      "outputs tensor(0.0787, device='cuda:0') tensor(1.0907e-08, device='cuda:0')\n",
      "targets tensor(0.6225, device='cuda:0') tensor(0.5072, device='cuda:0')\n",
      "outputs tensor(0.0787, device='cuda:0') tensor(6.2969e-09, device='cuda:0')\n",
      "targets tensor(0.6225, device='cuda:0') tensor(0.5072, device='cuda:0')\n",
      "outputs tensor(0.0787, device='cuda:0') tensor(9.9563e-09, device='cuda:0')\n",
      "targets tensor(0.2550, device='cuda:0') tensor(0.4537, device='cuda:0')\n",
      "outputs tensor(0.0787, device='cuda:0') tensor(8.0475e-09, device='cuda:0')\n",
      "targets tensor(0.4020, device='cuda:0') tensor(0.5368, device='cuda:0')\n",
      "Valid Step 15/15, valid_loss: 0.6925\n",
      "[Epoch Train: 3] loss: 0.7245, time: 52.00 s            \n",
      "[Epoch Valid: 3] loss: 0.6925, auc: 0.5119, time: 6.00 s\n",
      "EPOCH: 4\n"
     ]
    },
    {
     "data": {
      "application/vnd.jupyter.widget-view+json": {
       "model_id": "5542f30a4fae44ccab6a66d11bd38a43",
       "version_major": 2,
       "version_minor": 0
      },
      "text/plain": [
       "HBox(children=(FloatProgress(value=0.0, max=59.0), HTML(value='')))"
      ]
     },
     "metadata": {},
     "output_type": "display_data"
    },
    {
     "name": "stdout",
     "output_type": "stream",
     "text": [
      "Train Step 59/59, train_loss: 0.7143\n"
     ]
    },
    {
     "data": {
      "application/vnd.jupyter.widget-view+json": {
       "model_id": "250b240a9ba44000b79d562dbc86e013",
       "version_major": 2,
       "version_minor": 0
      },
      "text/plain": [
       "HBox(children=(FloatProgress(value=0.0, max=15.0), HTML(value='')))"
      ]
     },
     "metadata": {},
     "output_type": "display_data"
    },
    {
     "name": "stdout",
     "output_type": "stream",
     "text": [
      "outputs tensor(-0.0652, device='cuda:0') tensor(4.0906e-08, device='cuda:0')\n",
      "targets tensor(0.7450, device='cuda:0') tensor(0.4537, device='cuda:0')\n",
      "outputs tensor(-0.0652, device='cuda:0') tensor(1.4013e-07, device='cuda:0')\n",
      "targets tensor(0.2550, device='cuda:0') tensor(0.4537, device='cuda:0')\n",
      "outputs tensor(-0.0652, device='cuda:0') tensor(5.4678e-08, device='cuda:0')\n",
      "targets tensor(0.2550, device='cuda:0') tensor(0.4537, device='cuda:0')\n",
      "outputs tensor(-0.0652, device='cuda:0') tensor(7.8244e-08, device='cuda:0')\n",
      "targets tensor(0.6225, device='cuda:0') tensor(0.5072, device='cuda:0')\n",
      "outputs tensor(-0.0652, device='cuda:0') tensor(4.5057e-08, device='cuda:0')\n",
      "targets tensor(0.7450, device='cuda:0') tensor(0.4537, device='cuda:0')\n",
      "outputs tensor(-0.0652, device='cuda:0') tensor(4.1483e-08, device='cuda:0')\n",
      "targets tensor(0.5000, device='cuda:0') tensor(0.5238, device='cuda:0')\n",
      "outputs tensor(-0.0652, device='cuda:0') tensor(4.2381e-08, device='cuda:0')\n",
      "targets tensor(0.5000, device='cuda:0') tensor(0.5238, device='cuda:0')\n",
      "outputs tensor(-0.0652, device='cuda:0') tensor(5.8020e-08, device='cuda:0')\n",
      "targets tensor(0.6225, device='cuda:0') tensor(0.5072, device='cuda:0')\n",
      "outputs tensor(-0.0652, device='cuda:0') tensor(6.5439e-08, device='cuda:0')\n",
      "targets tensor(0.2550, device='cuda:0') tensor(0.4537, device='cuda:0')\n",
      "outputs tensor(-0.0652, device='cuda:0') tensor(5.0884e-08, device='cuda:0')\n",
      "targets tensor(0.7450, device='cuda:0') tensor(0.4537, device='cuda:0')\n",
      "outputs tensor(-0.0652, device='cuda:0') tensor(4.3398e-08, device='cuda:0')\n",
      "targets tensor(0.6225, device='cuda:0') tensor(0.5072, device='cuda:0')\n",
      "outputs tensor(-0.0652, device='cuda:0') tensor(6.2145e-08, device='cuda:0')\n",
      "targets tensor(0.6225, device='cuda:0') tensor(0.5072, device='cuda:0')\n",
      "outputs tensor(-0.0652, device='cuda:0') tensor(2.7011e-08, device='cuda:0')\n",
      "targets tensor(0.6225, device='cuda:0') tensor(0.5072, device='cuda:0')\n",
      "outputs tensor(-0.0652, device='cuda:0') tensor(2.8856e-08, device='cuda:0')\n",
      "targets tensor(0.2550, device='cuda:0') tensor(0.4537, device='cuda:0')\n",
      "outputs tensor(-0.0652, device='cuda:0') tensor(3.5803e-08, device='cuda:0')\n",
      "targets tensor(0.4020, device='cuda:0') tensor(0.5368, device='cuda:0')\n",
      "Valid Step 15/15, valid_loss: 0.6949\n",
      "[Epoch Train: 4] loss: 0.7143, time: 52.00 s            \n",
      "[Epoch Valid: 4] loss: 0.6949, auc: 0.4838, time: 6.00 s\n",
      "EPOCH: 5\n"
     ]
    },
    {
     "data": {
      "application/vnd.jupyter.widget-view+json": {
       "model_id": "52b23fd22cf34e9292fed43e5a6b5664",
       "version_major": 2,
       "version_minor": 0
      },
      "text/plain": [
       "HBox(children=(FloatProgress(value=0.0, max=59.0), HTML(value='')))"
      ]
     },
     "metadata": {},
     "output_type": "display_data"
    },
    {
     "name": "stdout",
     "output_type": "stream",
     "text": [
      "Train Step 59/59, train_loss: 0.7010\n"
     ]
    },
    {
     "data": {
      "application/vnd.jupyter.widget-view+json": {
       "model_id": "098636de576d4b8dacc418dbc4b5571b",
       "version_major": 2,
       "version_minor": 0
      },
      "text/plain": [
       "HBox(children=(FloatProgress(value=0.0, max=15.0), HTML(value='')))"
      ]
     },
     "metadata": {},
     "output_type": "display_data"
    },
    {
     "name": "stdout",
     "output_type": "stream",
     "text": [
      "outputs tensor(0.1729, device='cuda:0') tensor(1.6918e-05, device='cuda:0')\n",
      "targets tensor(0.7450, device='cuda:0') tensor(0.4537, device='cuda:0')\n",
      "outputs tensor(0.1729, device='cuda:0') tensor(8.4450e-05, device='cuda:0')\n",
      "targets tensor(0.2550, device='cuda:0') tensor(0.4537, device='cuda:0')\n",
      "outputs tensor(0.1729, device='cuda:0') tensor(1.4837e-05, device='cuda:0')\n",
      "targets tensor(0.2550, device='cuda:0') tensor(0.4537, device='cuda:0')\n",
      "outputs tensor(0.1729, device='cuda:0') tensor(4.3743e-05, device='cuda:0')\n",
      "targets tensor(0.6225, device='cuda:0') tensor(0.5072, device='cuda:0')\n",
      "outputs tensor(0.1729, device='cuda:0') tensor(2.3962e-05, device='cuda:0')\n",
      "targets tensor(0.7450, device='cuda:0') tensor(0.4537, device='cuda:0')\n",
      "outputs tensor(0.1729, device='cuda:0') tensor(1.9924e-05, device='cuda:0')\n",
      "targets tensor(0.5000, device='cuda:0') tensor(0.5238, device='cuda:0')\n",
      "outputs tensor(0.1729, device='cuda:0') tensor(1.3831e-05, device='cuda:0')\n",
      "targets tensor(0.5000, device='cuda:0') tensor(0.5238, device='cuda:0')\n",
      "outputs tensor(0.1729, device='cuda:0') tensor(1.9982e-05, device='cuda:0')\n",
      "targets tensor(0.6225, device='cuda:0') tensor(0.5072, device='cuda:0')\n",
      "outputs tensor(0.1729, device='cuda:0') tensor(4.9049e-05, device='cuda:0')\n",
      "targets tensor(0.2550, device='cuda:0') tensor(0.4537, device='cuda:0')\n",
      "outputs tensor(0.1729, device='cuda:0') tensor(3.4242e-05, device='cuda:0')\n",
      "targets tensor(0.7450, device='cuda:0') tensor(0.4537, device='cuda:0')\n",
      "outputs tensor(0.1729, device='cuda:0') tensor(1.4242e-05, device='cuda:0')\n",
      "targets tensor(0.6225, device='cuda:0') tensor(0.5072, device='cuda:0')\n",
      "outputs tensor(0.1729, device='cuda:0') tensor(1.6426e-05, device='cuda:0')\n",
      "targets tensor(0.6225, device='cuda:0') tensor(0.5072, device='cuda:0')\n",
      "outputs tensor(0.1729, device='cuda:0') tensor(4.1965e-05, device='cuda:0')\n",
      "targets tensor(0.6225, device='cuda:0') tensor(0.5072, device='cuda:0')\n",
      "outputs tensor(0.1729, device='cuda:0') tensor(2.1624e-05, device='cuda:0')\n",
      "targets tensor(0.2550, device='cuda:0') tensor(0.4537, device='cuda:0')\n",
      "outputs tensor(0.1729, device='cuda:0') tensor(2.6660e-05, device='cuda:0')\n",
      "targets tensor(0.4020, device='cuda:0') tensor(0.5368, device='cuda:0')\n",
      "Valid Step 15/15, valid_loss: 0.6938\n",
      "[Epoch Train: 5] loss: 0.7010, time: 51.00 s            \n",
      "[Epoch Valid: 5] loss: 0.6938, auc: 0.5527, time: 6.00 s\n",
      "auc improved from inf to 0.6938. Saved model to '/home/RSNA_MICCAI_Brain_Tumor/models/T1wCE-e5-loss0.694-auc0.553.pth'\n",
      "EPOCH: 6\n"
     ]
    },
    {
     "data": {
      "application/vnd.jupyter.widget-view+json": {
       "model_id": "ec41607a7b024aefb4ffb3565049e4bb",
       "version_major": 2,
       "version_minor": 0
      },
      "text/plain": [
       "HBox(children=(FloatProgress(value=0.0, max=59.0), HTML(value='')))"
      ]
     },
     "metadata": {},
     "output_type": "display_data"
    },
    {
     "name": "stdout",
     "output_type": "stream",
     "text": [
      "Train Step 59/59, train_loss: 0.7027\n"
     ]
    },
    {
     "data": {
      "application/vnd.jupyter.widget-view+json": {
       "model_id": "4e393930fe3143a5ac068adc27c777f9",
       "version_major": 2,
       "version_minor": 0
      },
      "text/plain": [
       "HBox(children=(FloatProgress(value=0.0, max=15.0), HTML(value='')))"
      ]
     },
     "metadata": {},
     "output_type": "display_data"
    },
    {
     "name": "stdout",
     "output_type": "stream",
     "text": [
      "outputs tensor(0.0362, device='cuda:0') tensor(0.0002, device='cuda:0')\n",
      "targets tensor(0.7450, device='cuda:0') tensor(0.4537, device='cuda:0')\n",
      "outputs tensor(0.0362, device='cuda:0') tensor(0.0003, device='cuda:0')\n",
      "targets tensor(0.2550, device='cuda:0') tensor(0.4537, device='cuda:0')\n",
      "outputs tensor(0.0363, device='cuda:0') tensor(0.0003, device='cuda:0')\n",
      "targets tensor(0.2550, device='cuda:0') tensor(0.4537, device='cuda:0')\n",
      "outputs tensor(0.0361, device='cuda:0') tensor(0.0004, device='cuda:0')\n",
      "targets tensor(0.6225, device='cuda:0') tensor(0.5072, device='cuda:0')\n",
      "outputs tensor(0.0361, device='cuda:0') tensor(0.0004, device='cuda:0')\n",
      "targets tensor(0.7450, device='cuda:0') tensor(0.4537, device='cuda:0')\n",
      "outputs tensor(0.0362, device='cuda:0') tensor(0.0003, device='cuda:0')\n",
      "targets tensor(0.5000, device='cuda:0') tensor(0.5238, device='cuda:0')\n",
      "outputs tensor(0.0362, device='cuda:0') tensor(0.0003, device='cuda:0')\n",
      "targets tensor(0.5000, device='cuda:0') tensor(0.5238, device='cuda:0')\n",
      "outputs tensor(0.0363, device='cuda:0') tensor(0.0004, device='cuda:0')\n",
      "targets tensor(0.6225, device='cuda:0') tensor(0.5072, device='cuda:0')\n",
      "outputs tensor(0.0361, device='cuda:0') tensor(0.0004, device='cuda:0')\n",
      "targets tensor(0.2550, device='cuda:0') tensor(0.4537, device='cuda:0')\n",
      "outputs tensor(0.0362, device='cuda:0') tensor(0.0003, device='cuda:0')\n",
      "targets tensor(0.7450, device='cuda:0') tensor(0.4537, device='cuda:0')\n",
      "outputs tensor(0.0363, device='cuda:0') tensor(0.0003, device='cuda:0')\n",
      "targets tensor(0.6225, device='cuda:0') tensor(0.5072, device='cuda:0')\n",
      "outputs tensor(0.0364, device='cuda:0') tensor(0.0001, device='cuda:0')\n",
      "targets tensor(0.6225, device='cuda:0') tensor(0.5072, device='cuda:0')\n",
      "outputs tensor(0.0364, device='cuda:0') tensor(0.0001, device='cuda:0')\n",
      "targets tensor(0.6225, device='cuda:0') tensor(0.5072, device='cuda:0')\n",
      "outputs tensor(0.0363, device='cuda:0') tensor(0.0001, device='cuda:0')\n",
      "targets tensor(0.2550, device='cuda:0') tensor(0.4537, device='cuda:0')\n",
      "outputs tensor(0.0360, device='cuda:0') tensor(0.0004, device='cuda:0')\n",
      "targets tensor(0.4020, device='cuda:0') tensor(0.5368, device='cuda:0')\n",
      "Valid Step 15/15, valid_loss: 0.6926\n",
      "[Epoch Train: 6] loss: 0.7027, time: 52.00 s            \n",
      "[Epoch Valid: 6] loss: 0.6926, auc: 0.6060, time: 6.00 s\n",
      "auc improved from 0.6938 to 0.6926. Saved model to '/home/RSNA_MICCAI_Brain_Tumor/models/T1wCE-e6-loss0.693-auc0.606.pth'\n",
      "EPOCH: 7\n"
     ]
    },
    {
     "data": {
      "application/vnd.jupyter.widget-view+json": {
       "model_id": "7cd4e32ab7c345f2925b970f683f9c48",
       "version_major": 2,
       "version_minor": 0
      },
      "text/plain": [
       "HBox(children=(FloatProgress(value=0.0, max=59.0), HTML(value='')))"
      ]
     },
     "metadata": {},
     "output_type": "display_data"
    },
    {
     "name": "stdout",
     "output_type": "stream",
     "text": [
      "Train Step 59/59, train_loss: 0.6933\n"
     ]
    },
    {
     "data": {
      "application/vnd.jupyter.widget-view+json": {
       "model_id": "6df33b8f510c4ab0b420ff5ed16458d4",
       "version_major": 2,
       "version_minor": 0
      },
      "text/plain": [
       "HBox(children=(FloatProgress(value=0.0, max=15.0), HTML(value='')))"
      ]
     },
     "metadata": {},
     "output_type": "display_data"
    },
    {
     "name": "stdout",
     "output_type": "stream",
     "text": [
      "outputs tensor(0.8353, device='cuda:0') tensor(0.0048, device='cuda:0')\n",
      "targets tensor(0.7450, device='cuda:0') tensor(0.4537, device='cuda:0')\n",
      "outputs tensor(0.8364, device='cuda:0') tensor(0.0036, device='cuda:0')\n",
      "targets tensor(0.2550, device='cuda:0') tensor(0.4537, device='cuda:0')\n",
      "outputs tensor(0.8377, device='cuda:0') tensor(0.0066, device='cuda:0')\n",
      "targets tensor(0.2550, device='cuda:0') tensor(0.4537, device='cuda:0')\n",
      "outputs tensor(0.8312, device='cuda:0') tensor(0.0084, device='cuda:0')\n",
      "targets tensor(0.6225, device='cuda:0') tensor(0.5072, device='cuda:0')\n",
      "outputs tensor(0.8335, device='cuda:0') tensor(0.0070, device='cuda:0')\n",
      "targets tensor(0.7450, device='cuda:0') tensor(0.4537, device='cuda:0')\n",
      "outputs tensor(0.8346, device='cuda:0') tensor(0.0063, device='cuda:0')\n",
      "targets tensor(0.5000, device='cuda:0') tensor(0.5238, device='cuda:0')\n",
      "outputs tensor(0.8344, device='cuda:0') tensor(0.0030, device='cuda:0')\n",
      "targets tensor(0.5000, device='cuda:0') tensor(0.5238, device='cuda:0')\n",
      "outputs tensor(0.8374, device='cuda:0') tensor(0.0066, device='cuda:0')\n",
      "targets tensor(0.6225, device='cuda:0') tensor(0.5072, device='cuda:0')\n",
      "outputs tensor(0.8346, device='cuda:0') tensor(0.0091, device='cuda:0')\n",
      "targets tensor(0.2550, device='cuda:0') tensor(0.4537, device='cuda:0')\n",
      "outputs tensor(0.8363, device='cuda:0') tensor(0.0055, device='cuda:0')\n",
      "targets tensor(0.7450, device='cuda:0') tensor(0.4537, device='cuda:0')\n",
      "outputs tensor(0.8332, device='cuda:0') tensor(0.0083, device='cuda:0')\n",
      "targets tensor(0.6225, device='cuda:0') tensor(0.5072, device='cuda:0')\n",
      "outputs tensor(0.8402, device='cuda:0') tensor(0.0040, device='cuda:0')\n",
      "targets tensor(0.6225, device='cuda:0') tensor(0.5072, device='cuda:0')\n",
      "outputs tensor(0.8381, device='cuda:0') tensor(0.0080, device='cuda:0')\n",
      "targets tensor(0.6225, device='cuda:0') tensor(0.5072, device='cuda:0')\n",
      "outputs tensor(0.8355, device='cuda:0') tensor(0.0043, device='cuda:0')\n",
      "targets tensor(0.2550, device='cuda:0') tensor(0.4537, device='cuda:0')\n",
      "outputs tensor(0.8321, device='cuda:0') tensor(0.0020, device='cuda:0')\n",
      "targets tensor(0.4020, device='cuda:0') tensor(0.5368, device='cuda:0')\n",
      "Valid Step 15/15, valid_loss: 0.7625\n",
      "[Epoch Train: 7] loss: 0.6933, time: 51.00 s            \n",
      "[Epoch Valid: 7] loss: 0.7625, auc: 0.6007, time: 6.00 s\n",
      "EPOCH: 8\n"
     ]
    },
    {
     "data": {
      "application/vnd.jupyter.widget-view+json": {
       "model_id": "a98056fd7f424a49b613c46a64c77aa7",
       "version_major": 2,
       "version_minor": 0
      },
      "text/plain": [
       "HBox(children=(FloatProgress(value=0.0, max=59.0), HTML(value='')))"
      ]
     },
     "metadata": {},
     "output_type": "display_data"
    },
    {
     "name": "stdout",
     "output_type": "stream",
     "text": [
      "Train Step 59/59, train_loss: 0.6858\n"
     ]
    },
    {
     "data": {
      "application/vnd.jupyter.widget-view+json": {
       "model_id": "86ab1db374964993a34b9ec79862ece0",
       "version_major": 2,
       "version_minor": 0
      },
      "text/plain": [
       "HBox(children=(FloatProgress(value=0.0, max=15.0), HTML(value='')))"
      ]
     },
     "metadata": {},
     "output_type": "display_data"
    },
    {
     "name": "stdout",
     "output_type": "stream",
     "text": [
      "outputs tensor(-0.6271, device='cuda:0') tensor(0.0336, device='cuda:0')\n",
      "targets tensor(0.7450, device='cuda:0') tensor(0.4537, device='cuda:0')\n",
      "outputs tensor(-0.5598, device='cuda:0') tensor(0.2256, device='cuda:0')\n",
      "targets tensor(0.2550, device='cuda:0') tensor(0.4537, device='cuda:0')\n",
      "outputs tensor(-0.6243, device='cuda:0') tensor(0.0819, device='cuda:0')\n",
      "targets tensor(0.2550, device='cuda:0') tensor(0.4537, device='cuda:0')\n",
      "outputs tensor(-0.6101, device='cuda:0') tensor(0.1064, device='cuda:0')\n",
      "targets tensor(0.6225, device='cuda:0') tensor(0.5072, device='cuda:0')\n",
      "outputs tensor(-0.6355, device='cuda:0') tensor(0.0375, device='cuda:0')\n",
      "targets tensor(0.7450, device='cuda:0') tensor(0.4537, device='cuda:0')\n",
      "outputs tensor(-0.6424, device='cuda:0') tensor(0.0351, device='cuda:0')\n",
      "targets tensor(0.5000, device='cuda:0') tensor(0.5238, device='cuda:0')\n",
      "outputs tensor(-0.6635, device='cuda:0') tensor(0.0378, device='cuda:0')\n",
      "targets tensor(0.5000, device='cuda:0') tensor(0.5238, device='cuda:0')\n",
      "outputs tensor(-0.6479, device='cuda:0') tensor(0.0523, device='cuda:0')\n",
      "targets tensor(0.6225, device='cuda:0') tensor(0.5072, device='cuda:0')\n",
      "outputs tensor(-0.5936, device='cuda:0') tensor(0.1095, device='cuda:0')\n",
      "targets tensor(0.2550, device='cuda:0') tensor(0.4537, device='cuda:0')\n",
      "outputs tensor(-0.6612, device='cuda:0') tensor(0.0278, device='cuda:0')\n",
      "targets tensor(0.7450, device='cuda:0') tensor(0.4537, device='cuda:0')\n",
      "outputs tensor(-0.6481, device='cuda:0') tensor(0.0568, device='cuda:0')\n",
      "targets tensor(0.6225, device='cuda:0') tensor(0.5072, device='cuda:0')\n",
      "outputs tensor(-0.6515, device='cuda:0') tensor(0.0602, device='cuda:0')\n",
      "targets tensor(0.6225, device='cuda:0') tensor(0.5072, device='cuda:0')\n",
      "outputs tensor(-0.6244, device='cuda:0') tensor(0.0985, device='cuda:0')\n",
      "targets tensor(0.6225, device='cuda:0') tensor(0.5072, device='cuda:0')\n",
      "outputs tensor(-0.6516, device='cuda:0') tensor(0.0284, device='cuda:0')\n",
      "targets tensor(0.2550, device='cuda:0') tensor(0.4537, device='cuda:0')\n",
      "outputs tensor(-0.6436, device='cuda:0') tensor(0.0316, device='cuda:0')\n",
      "targets tensor(0.4020, device='cuda:0') tensor(0.5368, device='cuda:0')\n",
      "Valid Step 15/15, valid_loss: 0.7567\n",
      "[Epoch Train: 8] loss: 0.6858, time: 51.00 s            \n",
      "[Epoch Valid: 8] loss: 0.7567, auc: 0.5272, time: 6.00 s\n",
      "EPOCH: 9\n"
     ]
    },
    {
     "data": {
      "application/vnd.jupyter.widget-view+json": {
       "model_id": "fa44e00f536d49fdb52bf132d0497bd0",
       "version_major": 2,
       "version_minor": 0
      },
      "text/plain": [
       "HBox(children=(FloatProgress(value=0.0, max=59.0), HTML(value='')))"
      ]
     },
     "metadata": {},
     "output_type": "display_data"
    },
    {
     "name": "stdout",
     "output_type": "stream",
     "text": [
      "Train Step 59/59, train_loss: 0.6719\n"
     ]
    },
    {
     "data": {
      "application/vnd.jupyter.widget-view+json": {
       "model_id": "9abaa3829d194eeb891d79ab91907617",
       "version_major": 2,
       "version_minor": 0
      },
      "text/plain": [
       "HBox(children=(FloatProgress(value=0.0, max=15.0), HTML(value='')))"
      ]
     },
     "metadata": {},
     "output_type": "display_data"
    },
    {
     "name": "stdout",
     "output_type": "stream",
     "text": [
      "outputs tensor(-0.3740, device='cuda:0') tensor(0.6028, device='cuda:0')\n",
      "targets tensor(0.7450, device='cuda:0') tensor(0.4537, device='cuda:0')\n",
      "outputs tensor(-0.6616, device='cuda:0') tensor(0.7445, device='cuda:0')\n",
      "targets tensor(0.2550, device='cuda:0') tensor(0.4537, device='cuda:0')\n",
      "outputs tensor(-0.6422, device='cuda:0') tensor(0.6791, device='cuda:0')\n",
      "targets tensor(0.2550, device='cuda:0') tensor(0.4537, device='cuda:0')\n",
      "outputs tensor(-1.1499, device='cuda:0') tensor(1.1501, device='cuda:0')\n",
      "targets tensor(0.6225, device='cuda:0') tensor(0.5072, device='cuda:0')\n",
      "outputs tensor(-0.5770, device='cuda:0') tensor(0.6213, device='cuda:0')\n",
      "targets tensor(0.7450, device='cuda:0') tensor(0.4537, device='cuda:0')\n",
      "outputs tensor(-0.7132, device='cuda:0') tensor(0.5919, device='cuda:0')\n",
      "targets tensor(0.5000, device='cuda:0') tensor(0.5238, device='cuda:0')\n",
      "outputs tensor(-0.9604, device='cuda:0') tensor(0.6541, device='cuda:0')\n",
      "targets tensor(0.5000, device='cuda:0') tensor(0.5238, device='cuda:0')\n",
      "outputs tensor(-0.8415, device='cuda:0') tensor(0.6482, device='cuda:0')\n",
      "targets tensor(0.6225, device='cuda:0') tensor(0.5072, device='cuda:0')\n",
      "outputs tensor(-0.7986, device='cuda:0') tensor(1.1418, device='cuda:0')\n",
      "targets tensor(0.2550, device='cuda:0') tensor(0.4537, device='cuda:0')\n",
      "outputs tensor(-0.8223, device='cuda:0') tensor(0.4938, device='cuda:0')\n",
      "targets tensor(0.7450, device='cuda:0') tensor(0.4537, device='cuda:0')\n",
      "outputs tensor(-0.8817, device='cuda:0') tensor(0.6552, device='cuda:0')\n",
      "targets tensor(0.6225, device='cuda:0') tensor(0.5072, device='cuda:0')\n",
      "outputs tensor(-0.9299, device='cuda:0') tensor(0.6523, device='cuda:0')\n",
      "targets tensor(0.6225, device='cuda:0') tensor(0.5072, device='cuda:0')\n",
      "outputs tensor(-0.7351, device='cuda:0') tensor(0.7826, device='cuda:0')\n",
      "targets tensor(0.6225, device='cuda:0') tensor(0.5072, device='cuda:0')\n",
      "outputs tensor(-0.7689, device='cuda:0') tensor(0.4423, device='cuda:0')\n",
      "targets tensor(0.2550, device='cuda:0') tensor(0.4537, device='cuda:0')\n",
      "outputs tensor(-0.7451, device='cuda:0') tensor(0.3702, device='cuda:0')\n",
      "targets tensor(0.4020, device='cuda:0') tensor(0.5368, device='cuda:0')\n",
      "Valid Step 15/15, valid_loss: 0.8140\n",
      "[Epoch Train: 9] loss: 0.6719, time: 51.00 s            \n",
      "[Epoch Valid: 9] loss: 0.8140, auc: 0.5246, time: 6.00 s\n",
      "EPOCH: 10\n"
     ]
    },
    {
     "data": {
      "application/vnd.jupyter.widget-view+json": {
       "model_id": "1ac891de2ab2481a8eded6390a829d0b",
       "version_major": 2,
       "version_minor": 0
      },
      "text/plain": [
       "HBox(children=(FloatProgress(value=0.0, max=59.0), HTML(value='')))"
      ]
     },
     "metadata": {},
     "output_type": "display_data"
    },
    {
     "name": "stdout",
     "output_type": "stream",
     "text": [
      "Train Step 59/59, train_loss: 0.6875\n"
     ]
    },
    {
     "data": {
      "application/vnd.jupyter.widget-view+json": {
       "model_id": "08d12dcbfe614b2f868998c8835e5e53",
       "version_major": 2,
       "version_minor": 0
      },
      "text/plain": [
       "HBox(children=(FloatProgress(value=0.0, max=15.0), HTML(value='')))"
      ]
     },
     "metadata": {},
     "output_type": "display_data"
    },
    {
     "name": "stdout",
     "output_type": "stream",
     "text": [
      "outputs tensor(1.0477, device='cuda:0') tensor(0.3617, device='cuda:0')\n",
      "targets tensor(0.7450, device='cuda:0') tensor(0.4537, device='cuda:0')\n",
      "outputs tensor(0.9226, device='cuda:0') tensor(0.4725, device='cuda:0')\n",
      "targets tensor(0.2550, device='cuda:0') tensor(0.4537, device='cuda:0')\n",
      "outputs tensor(0.9840, device='cuda:0') tensor(0.1541, device='cuda:0')\n",
      "targets tensor(0.2550, device='cuda:0') tensor(0.4537, device='cuda:0')\n",
      "outputs tensor(0.7082, device='cuda:0') tensor(0.5462, device='cuda:0')\n",
      "targets tensor(0.6225, device='cuda:0') tensor(0.5072, device='cuda:0')\n",
      "outputs tensor(0.9496, device='cuda:0') tensor(0.1345, device='cuda:0')\n",
      "targets tensor(0.7450, device='cuda:0') tensor(0.4537, device='cuda:0')\n",
      "outputs tensor(0.9952, device='cuda:0') tensor(0.1169, device='cuda:0')\n",
      "targets tensor(0.5000, device='cuda:0') tensor(0.5238, device='cuda:0')\n",
      "outputs tensor(0.9392, device='cuda:0') tensor(0.2022, device='cuda:0')\n",
      "targets tensor(0.5000, device='cuda:0') tensor(0.5238, device='cuda:0')\n",
      "outputs tensor(1.0351, device='cuda:0') tensor(0.0440, device='cuda:0')\n",
      "targets tensor(0.6225, device='cuda:0') tensor(0.5072, device='cuda:0')\n",
      "outputs tensor(1.2476, device='cuda:0') tensor(0.9424, device='cuda:0')\n",
      "targets tensor(0.2550, device='cuda:0') tensor(0.4537, device='cuda:0')\n",
      "outputs tensor(1.0079, device='cuda:0') tensor(0.1047, device='cuda:0')\n",
      "targets tensor(0.7450, device='cuda:0') tensor(0.4537, device='cuda:0')\n",
      "outputs tensor(0.9572, device='cuda:0') tensor(0.2176, device='cuda:0')\n",
      "targets tensor(0.6225, device='cuda:0') tensor(0.5072, device='cuda:0')\n",
      "outputs tensor(1.0319, device='cuda:0') tensor(0.0422, device='cuda:0')\n",
      "targets tensor(0.6225, device='cuda:0') tensor(0.5072, device='cuda:0')\n",
      "outputs tensor(0.8087, device='cuda:0') tensor(0.3164, device='cuda:0')\n",
      "targets tensor(0.6225, device='cuda:0') tensor(0.5072, device='cuda:0')\n",
      "outputs tensor(1.0497, device='cuda:0') tensor(0.0367, device='cuda:0')\n",
      "targets tensor(0.2550, device='cuda:0') tensor(0.4537, device='cuda:0')\n",
      "outputs tensor(1.0395, device='cuda:0') tensor(0.0258, device='cuda:0')\n",
      "targets tensor(0.4020, device='cuda:0') tensor(0.5368, device='cuda:0')\n",
      "Valid Step 15/15, valid_loss: 0.8155\n",
      "[Epoch Train: 10] loss: 0.6875, time: 51.00 s            \n",
      "[Epoch Valid: 10] loss: 0.8155, auc: 0.5041, time: 6.00 s\n",
      "EPOCH: 11\n"
     ]
    },
    {
     "data": {
      "application/vnd.jupyter.widget-view+json": {
       "model_id": "70c64df68e5749f88a3e6eebfabdb6ed",
       "version_major": 2,
       "version_minor": 0
      },
      "text/plain": [
       "HBox(children=(FloatProgress(value=0.0, max=59.0), HTML(value='')))"
      ]
     },
     "metadata": {},
     "output_type": "display_data"
    },
    {
     "name": "stdout",
     "output_type": "stream",
     "text": [
      "Train Step 59/59, train_loss: 0.6433\n"
     ]
    },
    {
     "data": {
      "application/vnd.jupyter.widget-view+json": {
       "model_id": "e9d90acfc00c4ee39b4c086006a3335b",
       "version_major": 2,
       "version_minor": 0
      },
      "text/plain": [
       "HBox(children=(FloatProgress(value=0.0, max=15.0), HTML(value='')))"
      ]
     },
     "metadata": {},
     "output_type": "display_data"
    },
    {
     "name": "stdout",
     "output_type": "stream",
     "text": [
      "outputs tensor(0.7976, device='cuda:0') tensor(1.0235, device='cuda:0')\n",
      "targets tensor(0.7450, device='cuda:0') tensor(0.4537, device='cuda:0')\n",
      "outputs tensor(0.8880, device='cuda:0') tensor(1.5142, device='cuda:0')\n",
      "targets tensor(0.2550, device='cuda:0') tensor(0.4537, device='cuda:0')\n",
      "outputs tensor(1.1543, device='cuda:0') tensor(0.6557, device='cuda:0')\n",
      "targets tensor(0.2550, device='cuda:0') tensor(0.4537, device='cuda:0')\n",
      "outputs tensor(0.7109, device='cuda:0') tensor(1.5369, device='cuda:0')\n",
      "targets tensor(0.6225, device='cuda:0') tensor(0.5072, device='cuda:0')\n",
      "outputs tensor(0.7900, device='cuda:0') tensor(1.8436, device='cuda:0')\n",
      "targets tensor(0.7450, device='cuda:0') tensor(0.4537, device='cuda:0')\n",
      "outputs tensor(1.3220, device='cuda:0') tensor(0.2530, device='cuda:0')\n",
      "targets tensor(0.5000, device='cuda:0') tensor(0.5238, device='cuda:0')\n",
      "outputs tensor(0.9935, device='cuda:0') tensor(1.2883, device='cuda:0')\n",
      "targets tensor(0.5000, device='cuda:0') tensor(0.5238, device='cuda:0')\n",
      "outputs tensor(1.0251, device='cuda:0') tensor(1.2836, device='cuda:0')\n",
      "targets tensor(0.6225, device='cuda:0') tensor(0.5072, device='cuda:0')\n",
      "outputs tensor(-1.2519, device='cuda:0') tensor(3.2979, device='cuda:0')\n",
      "targets tensor(0.2550, device='cuda:0') tensor(0.4537, device='cuda:0')\n",
      "outputs tensor(1.1824, device='cuda:0') tensor(0.8189, device='cuda:0')\n",
      "targets tensor(0.7450, device='cuda:0') tensor(0.4537, device='cuda:0')\n",
      "outputs tensor(0.6497, device='cuda:0') tensor(0.9011, device='cuda:0')\n",
      "targets tensor(0.6225, device='cuda:0') tensor(0.5072, device='cuda:0')\n",
      "outputs tensor(1.5207, device='cuda:0') tensor(0.0202, device='cuda:0')\n",
      "targets tensor(0.6225, device='cuda:0') tensor(0.5072, device='cuda:0')\n",
      "outputs tensor(0.9296, device='cuda:0') tensor(1.5852, device='cuda:0')\n",
      "targets tensor(0.6225, device='cuda:0') tensor(0.5072, device='cuda:0')\n",
      "outputs tensor(1.3534, device='cuda:0') tensor(0.3223, device='cuda:0')\n",
      "targets tensor(0.2550, device='cuda:0') tensor(0.4537, device='cuda:0')\n",
      "outputs tensor(0.9465, device='cuda:0') tensor(1.0269, device='cuda:0')\n",
      "targets tensor(0.4020, device='cuda:0') tensor(0.5368, device='cuda:0')\n",
      "Valid Step 15/15, valid_loss: 0.8992\n",
      "[Epoch Train: 11] loss: 0.6433, time: 51.00 s            \n",
      "[Epoch Valid: 11] loss: 0.8992, auc: 0.5694, time: 7.00 s\n",
      "EPOCH: 12\n"
     ]
    },
    {
     "data": {
      "application/vnd.jupyter.widget-view+json": {
       "model_id": "9b780f229685452296e0c8983086f5b2",
       "version_major": 2,
       "version_minor": 0
      },
      "text/plain": [
       "HBox(children=(FloatProgress(value=0.0, max=59.0), HTML(value='')))"
      ]
     },
     "metadata": {},
     "output_type": "display_data"
    },
    {
     "name": "stdout",
     "output_type": "stream",
     "text": [
      "Train Step 59/59, train_loss: 0.6579\n"
     ]
    },
    {
     "data": {
      "application/vnd.jupyter.widget-view+json": {
       "model_id": "6ce50b94c9cc472ca4f817e5a4a0c144",
       "version_major": 2,
       "version_minor": 0
      },
      "text/plain": [
       "HBox(children=(FloatProgress(value=0.0, max=15.0), HTML(value='')))"
      ]
     },
     "metadata": {},
     "output_type": "display_data"
    },
    {
     "name": "stdout",
     "output_type": "stream",
     "text": [
      "outputs tensor(0.0420, device='cuda:0') tensor(0.4900, device='cuda:0')\n",
      "targets tensor(0.7450, device='cuda:0') tensor(0.4537, device='cuda:0')\n",
      "outputs tensor(0.1148, device='cuda:0') tensor(0.4262, device='cuda:0')\n",
      "targets tensor(0.2550, device='cuda:0') tensor(0.4537, device='cuda:0')\n",
      "outputs tensor(0.0368, device='cuda:0') tensor(0.4573, device='cuda:0')\n",
      "targets tensor(0.2550, device='cuda:0') tensor(0.4537, device='cuda:0')\n",
      "outputs tensor(0.2539, device='cuda:0') tensor(0.2839, device='cuda:0')\n",
      "targets tensor(0.6225, device='cuda:0') tensor(0.5072, device='cuda:0')\n",
      "outputs tensor(-0.0717, device='cuda:0') tensor(0.7241, device='cuda:0')\n",
      "targets tensor(0.7450, device='cuda:0') tensor(0.4537, device='cuda:0')\n",
      "outputs tensor(0.1582, device='cuda:0') tensor(0.3341, device='cuda:0')\n",
      "targets tensor(0.5000, device='cuda:0') tensor(0.5238, device='cuda:0')\n",
      "outputs tensor(0.0048, device='cuda:0') tensor(0.4663, device='cuda:0')\n",
      "targets tensor(0.5000, device='cuda:0') tensor(0.5238, device='cuda:0')\n",
      "outputs tensor(0.0096, device='cuda:0') tensor(0.6665, device='cuda:0')\n",
      "targets tensor(0.6225, device='cuda:0') tensor(0.5072, device='cuda:0')\n",
      "outputs tensor(-0.2235, device='cuda:0') tensor(0.7630, device='cuda:0')\n",
      "targets tensor(0.2550, device='cuda:0') tensor(0.4537, device='cuda:0')\n",
      "outputs tensor(0.2105, device='cuda:0') tensor(0.4518, device='cuda:0')\n",
      "targets tensor(0.7450, device='cuda:0') tensor(0.4537, device='cuda:0')\n",
      "outputs tensor(0.0896, device='cuda:0') tensor(0.3585, device='cuda:0')\n",
      "targets tensor(0.6225, device='cuda:0') tensor(0.5072, device='cuda:0')\n",
      "outputs tensor(0.3795, device='cuda:0') tensor(0.0867, device='cuda:0')\n",
      "targets tensor(0.6225, device='cuda:0') tensor(0.5072, device='cuda:0')\n",
      "outputs tensor(0.2095, device='cuda:0') tensor(0.4927, device='cuda:0')\n",
      "targets tensor(0.6225, device='cuda:0') tensor(0.5072, device='cuda:0')\n",
      "outputs tensor(0.1729, device='cuda:0') tensor(0.3204, device='cuda:0')\n",
      "targets tensor(0.2550, device='cuda:0') tensor(0.4537, device='cuda:0')\n",
      "outputs tensor(-0.2042, device='cuda:0') tensor(0.5698, device='cuda:0')\n",
      "targets tensor(0.4020, device='cuda:0') tensor(0.5368, device='cuda:0')\n",
      "Valid Step 15/15, valid_loss: 0.6926\n",
      "[Epoch Train: 12] loss: 0.6579, time: 51.00 s            \n",
      "[Epoch Valid: 12] loss: 0.6926, auc: 0.5439, time: 6.00 s\n",
      "auc improved from 0.6926 to 0.6926. Saved model to '/home/RSNA_MICCAI_Brain_Tumor/models/T1wCE-e12-loss0.693-auc0.544.pth'\n",
      "EPOCH: 13\n"
     ]
    },
    {
     "data": {
      "application/vnd.jupyter.widget-view+json": {
       "model_id": "94422fa7abd3459ea6ba7e432799f180",
       "version_major": 2,
       "version_minor": 0
      },
      "text/plain": [
       "HBox(children=(FloatProgress(value=0.0, max=59.0), HTML(value='')))"
      ]
     },
     "metadata": {},
     "output_type": "display_data"
    },
    {
     "name": "stdout",
     "output_type": "stream",
     "text": [
      "Train Step 59/59, train_loss: 0.6277\n"
     ]
    },
    {
     "data": {
      "application/vnd.jupyter.widget-view+json": {
       "model_id": "0f6bb34b921c4f8da5a89f519db813da",
       "version_major": 2,
       "version_minor": 0
      },
      "text/plain": [
       "HBox(children=(FloatProgress(value=0.0, max=15.0), HTML(value='')))"
      ]
     },
     "metadata": {},
     "output_type": "display_data"
    },
    {
     "name": "stdout",
     "output_type": "stream",
     "text": [
      "outputs tensor(-1.8578, device='cuda:0') tensor(3.6928, device='cuda:0')\n",
      "targets tensor(0.7450, device='cuda:0') tensor(0.4537, device='cuda:0')\n",
      "outputs tensor(-1.4231, device='cuda:0') tensor(4.8587, device='cuda:0')\n",
      "targets tensor(0.2550, device='cuda:0') tensor(0.4537, device='cuda:0')\n",
      "outputs tensor(-3.0805, device='cuda:0') tensor(4.8416, device='cuda:0')\n",
      "targets tensor(0.2550, device='cuda:0') tensor(0.4537, device='cuda:0')\n",
      "outputs tensor(0.4423, device='cuda:0') tensor(0.5062, device='cuda:0')\n",
      "targets tensor(0.6225, device='cuda:0') tensor(0.5072, device='cuda:0')\n",
      "outputs tensor(-0.6835, device='cuda:0') tensor(2.5229, device='cuda:0')\n",
      "targets tensor(0.7450, device='cuda:0') tensor(0.4537, device='cuda:0')\n",
      "outputs tensor(-2.6222, device='cuda:0') tensor(4.5784, device='cuda:0')\n",
      "targets tensor(0.5000, device='cuda:0') tensor(0.5238, device='cuda:0')\n",
      "outputs tensor(-3.6353, device='cuda:0') tensor(5.4255, device='cuda:0')\n",
      "targets tensor(0.5000, device='cuda:0') tensor(0.5238, device='cuda:0')\n",
      "outputs tensor(-1.1216, device='cuda:0') tensor(2.3466, device='cuda:0')\n",
      "targets tensor(0.6225, device='cuda:0') tensor(0.5072, device='cuda:0')\n",
      "outputs tensor(-1.8503, device='cuda:0') tensor(2.7995, device='cuda:0')\n",
      "targets tensor(0.2550, device='cuda:0') tensor(0.4537, device='cuda:0')\n",
      "outputs tensor(0.4737, device='cuda:0') tensor(0.5862, device='cuda:0')\n",
      "targets tensor(0.7450, device='cuda:0') tensor(0.4537, device='cuda:0')\n",
      "outputs tensor(-5.0138, device='cuda:0') tensor(6.3444, device='cuda:0')\n",
      "targets tensor(0.6225, device='cuda:0') tensor(0.5072, device='cuda:0')\n",
      "outputs tensor(-1.0461, device='cuda:0') tensor(3.6096, device='cuda:0')\n",
      "targets tensor(0.6225, device='cuda:0') tensor(0.5072, device='cuda:0')\n",
      "outputs tensor(-3.2653, device='cuda:0') tensor(3.8408, device='cuda:0')\n",
      "targets tensor(0.6225, device='cuda:0') tensor(0.5072, device='cuda:0')\n",
      "outputs tensor(-2.3023, device='cuda:0') tensor(3.7197, device='cuda:0')\n",
      "targets tensor(0.2550, device='cuda:0') tensor(0.4537, device='cuda:0')\n",
      "outputs tensor(-1.6959, device='cuda:0') tensor(3.0209, device='cuda:0')\n",
      "targets tensor(0.4020, device='cuda:0') tensor(0.5368, device='cuda:0')\n",
      "Valid Step 15/15, valid_loss: 1.6412\n",
      "[Epoch Train: 13] loss: 0.6277, time: 51.00 s            \n",
      "[Epoch Valid: 13] loss: 1.6412, auc: 0.5357, time: 6.00 s\n",
      "EPOCH: 14\n"
     ]
    },
    {
     "data": {
      "application/vnd.jupyter.widget-view+json": {
       "model_id": "a168cb4fa37e4064865d372745547539",
       "version_major": 2,
       "version_minor": 0
      },
      "text/plain": [
       "HBox(children=(FloatProgress(value=0.0, max=59.0), HTML(value='')))"
      ]
     },
     "metadata": {},
     "output_type": "display_data"
    },
    {
     "name": "stdout",
     "output_type": "stream",
     "text": [
      "Train Step 59/59, train_loss: 0.5593\n"
     ]
    },
    {
     "data": {
      "application/vnd.jupyter.widget-view+json": {
       "model_id": "d6a8dbed867445aaa276718408c98427",
       "version_major": 2,
       "version_minor": 0
      },
      "text/plain": [
       "HBox(children=(FloatProgress(value=0.0, max=15.0), HTML(value='')))"
      ]
     },
     "metadata": {},
     "output_type": "display_data"
    },
    {
     "name": "stdout",
     "output_type": "stream",
     "text": [
      "outputs tensor(-0.0585, device='cuda:0') tensor(1.9776, device='cuda:0')\n",
      "targets tensor(0.7450, device='cuda:0') tensor(0.4537, device='cuda:0')\n",
      "outputs tensor(0.0382, device='cuda:0') tensor(1.7814, device='cuda:0')\n",
      "targets tensor(0.2550, device='cuda:0') tensor(0.4537, device='cuda:0')\n",
      "outputs tensor(-1.2508, device='cuda:0') tensor(2.5287, device='cuda:0')\n",
      "targets tensor(0.2550, device='cuda:0') tensor(0.4537, device='cuda:0')\n",
      "outputs tensor(-0.8184, device='cuda:0') tensor(2.3342, device='cuda:0')\n",
      "targets tensor(0.6225, device='cuda:0') tensor(0.5072, device='cuda:0')\n",
      "outputs tensor(-0.8892, device='cuda:0') tensor(3.5424, device='cuda:0')\n",
      "targets tensor(0.7450, device='cuda:0') tensor(0.4537, device='cuda:0')\n",
      "outputs tensor(-0.7584, device='cuda:0') tensor(1.5776, device='cuda:0')\n",
      "targets tensor(0.5000, device='cuda:0') tensor(0.5238, device='cuda:0')\n",
      "outputs tensor(-1.7388, device='cuda:0') tensor(3.6657, device='cuda:0')\n",
      "targets tensor(0.5000, device='cuda:0') tensor(0.5238, device='cuda:0')\n",
      "outputs tensor(-0.9440, device='cuda:0') tensor(3.3892, device='cuda:0')\n",
      "targets tensor(0.6225, device='cuda:0') tensor(0.5072, device='cuda:0')\n",
      "outputs tensor(-1.9572, device='cuda:0') tensor(3.8459, device='cuda:0')\n",
      "targets tensor(0.2550, device='cuda:0') tensor(0.4537, device='cuda:0')\n",
      "outputs tensor(-0.2568, device='cuda:0') tensor(2.3020, device='cuda:0')\n",
      "targets tensor(0.7450, device='cuda:0') tensor(0.4537, device='cuda:0')\n",
      "outputs tensor(-1.1871, device='cuda:0') tensor(2.2842, device='cuda:0')\n",
      "targets tensor(0.6225, device='cuda:0') tensor(0.5072, device='cuda:0')\n",
      "outputs tensor(0.9040, device='cuda:0') tensor(1.6513, device='cuda:0')\n",
      "targets tensor(0.6225, device='cuda:0') tensor(0.5072, device='cuda:0')\n",
      "outputs tensor(-0.6662, device='cuda:0') tensor(2.9639, device='cuda:0')\n",
      "targets tensor(0.6225, device='cuda:0') tensor(0.5072, device='cuda:0')\n",
      "outputs tensor(-2.1927, device='cuda:0') tensor(2.5277, device='cuda:0')\n",
      "targets tensor(0.2550, device='cuda:0') tensor(0.4537, device='cuda:0')\n",
      "outputs tensor(-3.2078, device='cuda:0') tensor(2.2469, device='cuda:0')\n",
      "targets tensor(0.4020, device='cuda:0') tensor(0.5368, device='cuda:0')\n",
      "Valid Step 15/15, valid_loss: 1.2082\n",
      "[Epoch Train: 14] loss: 0.5593, time: 51.00 s            \n",
      "[Epoch Valid: 14] loss: 1.2082, auc: 0.5849, time: 6.00 s\n",
      "EPOCH: 15\n"
     ]
    },
    {
     "data": {
      "application/vnd.jupyter.widget-view+json": {
       "model_id": "85e5d094f1834133aca4af2dec5e8d59",
       "version_major": 2,
       "version_minor": 0
      },
      "text/plain": [
       "HBox(children=(FloatProgress(value=0.0, max=59.0), HTML(value='')))"
      ]
     },
     "metadata": {},
     "output_type": "display_data"
    },
    {
     "name": "stdout",
     "output_type": "stream",
     "text": [
      "Train Step 59/59, train_loss: 0.5913\n"
     ]
    },
    {
     "data": {
      "application/vnd.jupyter.widget-view+json": {
       "model_id": "14ad9d6784cb440e88f9b808d421ddee",
       "version_major": 2,
       "version_minor": 0
      },
      "text/plain": [
       "HBox(children=(FloatProgress(value=0.0, max=15.0), HTML(value='')))"
      ]
     },
     "metadata": {},
     "output_type": "display_data"
    },
    {
     "name": "stdout",
     "output_type": "stream",
     "text": [
      "outputs tensor(-0.1427, device='cuda:0') tensor(0.4587, device='cuda:0')\n",
      "targets tensor(0.7450, device='cuda:0') tensor(0.4537, device='cuda:0')\n",
      "outputs tensor(0.0983, device='cuda:0') tensor(0.6982, device='cuda:0')\n",
      "targets tensor(0.2550, device='cuda:0') tensor(0.4537, device='cuda:0')\n",
      "outputs tensor(0.3966, device='cuda:0') tensor(0.6986, device='cuda:0')\n",
      "targets tensor(0.2550, device='cuda:0') tensor(0.4537, device='cuda:0')\n",
      "outputs tensor(0.1708, device='cuda:0') tensor(0.6123, device='cuda:0')\n",
      "targets tensor(0.6225, device='cuda:0') tensor(0.5072, device='cuda:0')\n",
      "outputs tensor(0.6409, device='cuda:0') tensor(0.5572, device='cuda:0')\n",
      "targets tensor(0.7450, device='cuda:0') tensor(0.4537, device='cuda:0')\n",
      "outputs tensor(-0.2606, device='cuda:0') tensor(0.3761, device='cuda:0')\n",
      "targets tensor(0.5000, device='cuda:0') tensor(0.5238, device='cuda:0')\n",
      "outputs tensor(0.2462, device='cuda:0') tensor(0.7628, device='cuda:0')\n",
      "targets tensor(0.5000, device='cuda:0') tensor(0.5238, device='cuda:0')\n",
      "outputs tensor(0.3088, device='cuda:0') tensor(0.6181, device='cuda:0')\n",
      "targets tensor(0.6225, device='cuda:0') tensor(0.5072, device='cuda:0')\n",
      "outputs tensor(0.4896, device='cuda:0') tensor(0.7936, device='cuda:0')\n",
      "targets tensor(0.2550, device='cuda:0') tensor(0.4537, device='cuda:0')\n",
      "outputs tensor(0.4120, device='cuda:0') tensor(0.6578, device='cuda:0')\n",
      "targets tensor(0.7450, device='cuda:0') tensor(0.4537, device='cuda:0')\n",
      "outputs tensor(-0.0883, device='cuda:0') tensor(0.6524, device='cuda:0')\n",
      "targets tensor(0.6225, device='cuda:0') tensor(0.5072, device='cuda:0')\n",
      "outputs tensor(0.0212, device='cuda:0') tensor(0.5964, device='cuda:0')\n",
      "targets tensor(0.6225, device='cuda:0') tensor(0.5072, device='cuda:0')\n",
      "outputs tensor(0.1478, device='cuda:0') tensor(0.7046, device='cuda:0')\n",
      "targets tensor(0.6225, device='cuda:0') tensor(0.5072, device='cuda:0')\n",
      "outputs tensor(0.0981, device='cuda:0') tensor(0.6621, device='cuda:0')\n",
      "targets tensor(0.2550, device='cuda:0') tensor(0.4537, device='cuda:0')\n",
      "outputs tensor(0.4148, device='cuda:0') tensor(0.6689, device='cuda:0')\n",
      "targets tensor(0.4020, device='cuda:0') tensor(0.5368, device='cuda:0')\n",
      "Valid Step 15/15, valid_loss: 0.7900\n",
      "[Epoch Train: 15] loss: 0.5913, time: 51.00 s            \n",
      "[Epoch Valid: 15] loss: 0.7900, auc: 0.4248, time: 6.00 s\n",
      "\n",
      "(468, 3) (117, 3)\n"
     ]
    },
    {
     "name": "stderr",
     "output_type": "stream",
     "text": [
      "/opt/conda/lib/python3.8/site-packages/pandas/core/indexing.py:1720: SettingWithCopyWarning: \n",
      "A value is trying to be set on a copy of a slice from a DataFrame.\n",
      "Try using .loc[row_indexer,col_indexer] = value instead\n",
      "\n",
      "See the caveats in the documentation: https://pandas.pydata.org/pandas-docs/stable/user_guide/indexing.html#returning-a-view-versus-a-copy\n",
      "  self._setitem_single_column(loc, value, pi)\n"
     ]
    },
    {
     "data": {
      "text/html": [
       "<div>\n",
       "<style scoped>\n",
       "    .dataframe tbody tr th:only-of-type {\n",
       "        vertical-align: middle;\n",
       "    }\n",
       "\n",
       "    .dataframe tbody tr th {\n",
       "        vertical-align: top;\n",
       "    }\n",
       "\n",
       "    .dataframe thead th {\n",
       "        text-align: right;\n",
       "    }\n",
       "</style>\n",
       "<table border=\"1\" class=\"dataframe\">\n",
       "  <thead>\n",
       "    <tr style=\"text-align: right;\">\n",
       "      <th></th>\n",
       "      <th>BraTS21ID</th>\n",
       "      <th>MGMT_value</th>\n",
       "      <th>MRI_Type</th>\n",
       "    </tr>\n",
       "  </thead>\n",
       "  <tbody>\n",
       "    <tr>\n",
       "      <th>102</th>\n",
       "      <td>154</td>\n",
       "      <td>0</td>\n",
       "      <td>T2w</td>\n",
       "    </tr>\n",
       "    <tr>\n",
       "      <th>161</th>\n",
       "      <td>240</td>\n",
       "      <td>1</td>\n",
       "      <td>T2w</td>\n",
       "    </tr>\n",
       "    <tr>\n",
       "      <th>508</th>\n",
       "      <td>740</td>\n",
       "      <td>1</td>\n",
       "      <td>T2w</td>\n",
       "    </tr>\n",
       "    <tr>\n",
       "      <th>495</th>\n",
       "      <td>725</td>\n",
       "      <td>1</td>\n",
       "      <td>T2w</td>\n",
       "    </tr>\n",
       "    <tr>\n",
       "      <th>298</th>\n",
       "      <td>432</td>\n",
       "      <td>0</td>\n",
       "      <td>T2w</td>\n",
       "    </tr>\n",
       "  </tbody>\n",
       "</table>\n",
       "</div>"
      ],
      "text/plain": [
       "     BraTS21ID  MGMT_value MRI_Type\n",
       "102        154           0      T2w\n",
       "161        240           1      T2w\n",
       "508        740           1      T2w\n",
       "495        725           1      T2w\n",
       "298        432           0      T2w"
      ]
     },
     "metadata": {},
     "output_type": "display_data"
    },
    {
     "data": {
      "application/vnd.jupyter.widget-view+json": {
       "model_id": "1c847c01251f4d6f9fa1e2297fbe4923",
       "version_major": 2,
       "version_minor": 0
      },
      "text/plain": [
       "HBox(children=(FloatProgress(value=0.0, max=15.0), HTML(value='')))"
      ]
     },
     "metadata": {},
     "output_type": "display_data"
    },
    {
     "name": "stdout",
     "output_type": "stream",
     "text": [
      "EPOCH: 1\n"
     ]
    },
    {
     "data": {
      "application/vnd.jupyter.widget-view+json": {
       "model_id": "9a6b67e060c64c7db2c020bfe868a8fb",
       "version_major": 2,
       "version_minor": 0
      },
      "text/plain": [
       "HBox(children=(FloatProgress(value=0.0, max=59.0), HTML(value='')))"
      ]
     },
     "metadata": {},
     "output_type": "display_data"
    },
    {
     "name": "stdout",
     "output_type": "stream",
     "text": [
      "Train Step 59/59, train_loss: 0.9134\n"
     ]
    },
    {
     "data": {
      "application/vnd.jupyter.widget-view+json": {
       "model_id": "cfa72d65cfd347d99330170bfb331e78",
       "version_major": 2,
       "version_minor": 0
      },
      "text/plain": [
       "HBox(children=(FloatProgress(value=0.0, max=15.0), HTML(value='')))"
      ]
     },
     "metadata": {},
     "output_type": "display_data"
    },
    {
     "name": "stdout",
     "output_type": "stream",
     "text": [
      "outputs tensor(-0.0618, device='cuda:0') tensor(2.2263e-09, device='cuda:0')\n",
      "targets tensor(0.7450, device='cuda:0') tensor(0.4537, device='cuda:0')\n",
      "outputs tensor(-0.0618, device='cuda:0') tensor(2.6342e-09, device='cuda:0')\n",
      "targets tensor(0.2550, device='cuda:0') tensor(0.4537, device='cuda:0')\n",
      "outputs tensor(-0.0618, device='cuda:0') tensor(2.4388e-09, device='cuda:0')\n",
      "targets tensor(0.2550, device='cuda:0') tensor(0.4537, device='cuda:0')\n",
      "outputs tensor(-0.0618, device='cuda:0') tensor(2.2263e-09, device='cuda:0')\n",
      "targets tensor(0.6225, device='cuda:0') tensor(0.5072, device='cuda:0')\n",
      "outputs tensor(-0.0618, device='cuda:0') tensor(2.4388e-09, device='cuda:0')\n",
      "targets tensor(0.7450, device='cuda:0') tensor(0.4537, device='cuda:0')\n",
      "outputs tensor(-0.0618, device='cuda:0') tensor(0., device='cuda:0')\n",
      "targets tensor(0.5000, device='cuda:0') tensor(0.5238, device='cuda:0')\n",
      "outputs tensor(-0.0618, device='cuda:0') tensor(1.9913e-09, device='cuda:0')\n",
      "targets tensor(0.5000, device='cuda:0') tensor(0.5238, device='cuda:0')\n",
      "outputs tensor(-0.0618, device='cuda:0') tensor(2.6342e-09, device='cuda:0')\n",
      "targets tensor(0.6225, device='cuda:0') tensor(0.5072, device='cuda:0')\n",
      "outputs tensor(-0.0618, device='cuda:0') tensor(2.4388e-09, device='cuda:0')\n",
      "targets tensor(0.2550, device='cuda:0') tensor(0.4537, device='cuda:0')\n",
      "outputs tensor(-0.0618, device='cuda:0') tensor(1.9913e-09, device='cuda:0')\n",
      "targets tensor(0.7450, device='cuda:0') tensor(0.4537, device='cuda:0')\n",
      "outputs tensor(-0.0618, device='cuda:0') tensor(2.4388e-09, device='cuda:0')\n",
      "targets tensor(0.6225, device='cuda:0') tensor(0.5072, device='cuda:0')\n",
      "outputs tensor(-0.0618, device='cuda:0') tensor(1.9913e-09, device='cuda:0')\n",
      "targets tensor(0.6225, device='cuda:0') tensor(0.5072, device='cuda:0')\n",
      "outputs tensor(-0.0618, device='cuda:0') tensor(0., device='cuda:0')\n",
      "targets tensor(0.6225, device='cuda:0') tensor(0.5072, device='cuda:0')\n",
      "outputs tensor(-0.0618, device='cuda:0') tensor(2.4388e-09, device='cuda:0')\n",
      "targets tensor(0.2550, device='cuda:0') tensor(0.4537, device='cuda:0')\n",
      "outputs tensor(-0.0618, device='cuda:0') tensor(2.4286e-09, device='cuda:0')\n",
      "targets tensor(0.4020, device='cuda:0') tensor(0.5368, device='cuda:0')\n",
      "Valid Step 15/15, valid_loss: 0.6947\n",
      "[Epoch Train: 1] loss: 0.9134, time: 52.00 s            \n",
      "[Epoch Valid: 1] loss: 0.6947, auc: 0.5315, time: 7.00 s\n",
      "EPOCH: 2\n"
     ]
    },
    {
     "data": {
      "application/vnd.jupyter.widget-view+json": {
       "model_id": "88b2d538b7e048bb826cb8784da25aba",
       "version_major": 2,
       "version_minor": 0
      },
      "text/plain": [
       "HBox(children=(FloatProgress(value=0.0, max=59.0), HTML(value='')))"
      ]
     },
     "metadata": {},
     "output_type": "display_data"
    },
    {
     "name": "stdout",
     "output_type": "stream",
     "text": [
      "Train Step 59/59, train_loss: 0.7244\n"
     ]
    },
    {
     "data": {
      "application/vnd.jupyter.widget-view+json": {
       "model_id": "c9a0dd1b4a4e4796a2984c141dcee3f3",
       "version_major": 2,
       "version_minor": 0
      },
      "text/plain": [
       "HBox(children=(FloatProgress(value=0.0, max=15.0), HTML(value='')))"
      ]
     },
     "metadata": {},
     "output_type": "display_data"
    },
    {
     "name": "stdout",
     "output_type": "stream",
     "text": [
      "outputs tensor(0.1240, device='cuda:0') tensor(8.4482e-09, device='cuda:0')\n",
      "targets tensor(0.7450, device='cuda:0') tensor(0.4537, device='cuda:0')\n",
      "outputs tensor(0.1240, device='cuda:0') tensor(8.4482e-09, device='cuda:0')\n",
      "targets tensor(0.2550, device='cuda:0') tensor(0.4537, device='cuda:0')\n",
      "outputs tensor(0.1240, device='cuda:0') tensor(8.4482e-09, device='cuda:0')\n",
      "targets tensor(0.2550, device='cuda:0') tensor(0.4537, device='cuda:0')\n",
      "outputs tensor(0.1240, device='cuda:0') tensor(8.4482e-09, device='cuda:0')\n",
      "targets tensor(0.6225, device='cuda:0') tensor(0.5072, device='cuda:0')\n",
      "outputs tensor(0.1240, device='cuda:0') tensor(1.0537e-08, device='cuda:0')\n",
      "targets tensor(0.7450, device='cuda:0') tensor(0.4537, device='cuda:0')\n",
      "outputs tensor(0.1240, device='cuda:0') tensor(8.4482e-09, device='cuda:0')\n",
      "targets tensor(0.5000, device='cuda:0') tensor(0.5238, device='cuda:0')\n",
      "outputs tensor(0.1240, device='cuda:0') tensor(9.3398e-09, device='cuda:0')\n",
      "targets tensor(0.5000, device='cuda:0') tensor(0.5238, device='cuda:0')\n",
      "outputs tensor(0.1240, device='cuda:0') tensor(7.9650e-09, device='cuda:0')\n",
      "targets tensor(0.6225, device='cuda:0') tensor(0.5072, device='cuda:0')\n",
      "outputs tensor(0.1240, device='cuda:0') tensor(8.4482e-09, device='cuda:0')\n",
      "targets tensor(0.2550, device='cuda:0') tensor(0.4537, device='cuda:0')\n",
      "outputs tensor(0.1240, device='cuda:0') tensor(6.8979e-09, device='cuda:0')\n",
      "targets tensor(0.7450, device='cuda:0') tensor(0.4537, device='cuda:0')\n",
      "outputs tensor(0.1240, device='cuda:0') tensor(9.3398e-09, device='cuda:0')\n",
      "targets tensor(0.6225, device='cuda:0') tensor(0.5072, device='cuda:0')\n",
      "outputs tensor(0.1240, device='cuda:0') tensor(8.4482e-09, device='cuda:0')\n",
      "targets tensor(0.6225, device='cuda:0') tensor(0.5072, device='cuda:0')\n",
      "outputs tensor(0.1240, device='cuda:0') tensor(8.4482e-09, device='cuda:0')\n",
      "targets tensor(0.6225, device='cuda:0') tensor(0.5072, device='cuda:0')\n",
      "outputs tensor(0.1240, device='cuda:0') tensor(1.0537e-08, device='cuda:0')\n",
      "targets tensor(0.2550, device='cuda:0') tensor(0.4537, device='cuda:0')\n",
      "outputs tensor(0.1240, device='cuda:0') tensor(6.6640e-09, device='cuda:0')\n",
      "targets tensor(0.4020, device='cuda:0') tensor(0.5368, device='cuda:0')\n",
      "Valid Step 15/15, valid_loss: 0.6928\n",
      "[Epoch Train: 2] loss: 0.7244, time: 52.00 s            \n",
      "[Epoch Valid: 2] loss: 0.6928, auc: 0.5123, time: 7.00 s\n",
      "EPOCH: 3\n"
     ]
    },
    {
     "data": {
      "application/vnd.jupyter.widget-view+json": {
       "model_id": "d4da47ded40b4dab84b445591098f5f7",
       "version_major": 2,
       "version_minor": 0
      },
      "text/plain": [
       "HBox(children=(FloatProgress(value=0.0, max=59.0), HTML(value='')))"
      ]
     },
     "metadata": {},
     "output_type": "display_data"
    },
    {
     "name": "stdout",
     "output_type": "stream",
     "text": [
      "Train Step 59/59, train_loss: 0.7132\n"
     ]
    },
    {
     "data": {
      "application/vnd.jupyter.widget-view+json": {
       "model_id": "a4592ddcc2134c56ac02080b79a87c8d",
       "version_major": 2,
       "version_minor": 0
      },
      "text/plain": [
       "HBox(children=(FloatProgress(value=0.0, max=15.0), HTML(value='')))"
      ]
     },
     "metadata": {},
     "output_type": "display_data"
    },
    {
     "name": "stdout",
     "output_type": "stream",
     "text": [
      "outputs tensor(-0.2010, device='cuda:0') tensor(0., device='cuda:0')\n",
      "targets tensor(0.7450, device='cuda:0') tensor(0.4537, device='cuda:0')\n",
      "outputs tensor(-0.2010, device='cuda:0') tensor(0., device='cuda:0')\n",
      "targets tensor(0.2550, device='cuda:0') tensor(0.4537, device='cuda:0')\n",
      "outputs tensor(-0.2010, device='cuda:0') tensor(0., device='cuda:0')\n",
      "targets tensor(0.2550, device='cuda:0') tensor(0.4537, device='cuda:0')\n",
      "outputs tensor(-0.2010, device='cuda:0') tensor(0., device='cuda:0')\n",
      "targets tensor(0.6225, device='cuda:0') tensor(0.5072, device='cuda:0')\n",
      "outputs tensor(-0.2010, device='cuda:0') tensor(0., device='cuda:0')\n",
      "targets tensor(0.7450, device='cuda:0') tensor(0.4537, device='cuda:0')\n",
      "outputs tensor(-0.2010, device='cuda:0') tensor(0., device='cuda:0')\n",
      "targets tensor(0.5000, device='cuda:0') tensor(0.5238, device='cuda:0')\n",
      "outputs tensor(-0.2010, device='cuda:0') tensor(0., device='cuda:0')\n",
      "targets tensor(0.5000, device='cuda:0') tensor(0.5238, device='cuda:0')\n",
      "outputs tensor(-0.2010, device='cuda:0') tensor(0., device='cuda:0')\n",
      "targets tensor(0.6225, device='cuda:0') tensor(0.5072, device='cuda:0')\n",
      "outputs tensor(-0.2010, device='cuda:0') tensor(0., device='cuda:0')\n",
      "targets tensor(0.2550, device='cuda:0') tensor(0.4537, device='cuda:0')\n",
      "outputs tensor(-0.2010, device='cuda:0') tensor(0., device='cuda:0')\n",
      "targets tensor(0.7450, device='cuda:0') tensor(0.4537, device='cuda:0')\n",
      "outputs tensor(-0.2010, device='cuda:0') tensor(0., device='cuda:0')\n",
      "targets tensor(0.6225, device='cuda:0') tensor(0.5072, device='cuda:0')\n",
      "outputs tensor(-0.2010, device='cuda:0') tensor(0., device='cuda:0')\n",
      "targets tensor(0.6225, device='cuda:0') tensor(0.5072, device='cuda:0')\n",
      "outputs tensor(-0.2010, device='cuda:0') tensor(0., device='cuda:0')\n",
      "targets tensor(0.6225, device='cuda:0') tensor(0.5072, device='cuda:0')\n",
      "outputs tensor(-0.2010, device='cuda:0') tensor(0., device='cuda:0')\n",
      "targets tensor(0.2550, device='cuda:0') tensor(0.4537, device='cuda:0')\n",
      "outputs tensor(-0.2010, device='cuda:0') tensor(0., device='cuda:0')\n",
      "targets tensor(0.4020, device='cuda:0') tensor(0.5368, device='cuda:0')\n",
      "Valid Step 15/15, valid_loss: 0.7018\n",
      "[Epoch Train: 3] loss: 0.7132, time: 52.00 s            \n",
      "[Epoch Valid: 3] loss: 0.7018, auc: 0.5000, time: 7.00 s\n",
      "EPOCH: 4\n"
     ]
    },
    {
     "data": {
      "application/vnd.jupyter.widget-view+json": {
       "model_id": "22d875a7fed84c79a86f1d0952004b4a",
       "version_major": 2,
       "version_minor": 0
      },
      "text/plain": [
       "HBox(children=(FloatProgress(value=0.0, max=59.0), HTML(value='')))"
      ]
     },
     "metadata": {},
     "output_type": "display_data"
    },
    {
     "name": "stdout",
     "output_type": "stream",
     "text": [
      "Train Step 59/59, train_loss: 0.7099\n"
     ]
    },
    {
     "data": {
      "application/vnd.jupyter.widget-view+json": {
       "model_id": "a12c238f032644b0a3d69c5cfe4b2f98",
       "version_major": 2,
       "version_minor": 0
      },
      "text/plain": [
       "HBox(children=(FloatProgress(value=0.0, max=15.0), HTML(value='')))"
      ]
     },
     "metadata": {},
     "output_type": "display_data"
    },
    {
     "name": "stdout",
     "output_type": "stream",
     "text": [
      "outputs tensor(0.0194, device='cuda:0') tensor(2.1904e-08, device='cuda:0')\n",
      "targets tensor(0.7450, device='cuda:0') tensor(0.4537, device='cuda:0')\n",
      "outputs tensor(0.0194, device='cuda:0') tensor(5.5555e-08, device='cuda:0')\n",
      "targets tensor(0.2550, device='cuda:0') tensor(0.4537, device='cuda:0')\n",
      "outputs tensor(0.0194, device='cuda:0') tensor(4.1393e-08, device='cuda:0')\n",
      "targets tensor(0.2550, device='cuda:0') tensor(0.4537, device='cuda:0')\n",
      "outputs tensor(0.0194, device='cuda:0') tensor(4.1804e-08, device='cuda:0')\n",
      "targets tensor(0.6225, device='cuda:0') tensor(0.5072, device='cuda:0')\n",
      "outputs tensor(0.0194, device='cuda:0') tensor(3.8785e-08, device='cuda:0')\n",
      "targets tensor(0.7450, device='cuda:0') tensor(0.4537, device='cuda:0')\n",
      "outputs tensor(0.0194, device='cuda:0') tensor(3.1445e-08, device='cuda:0')\n",
      "targets tensor(0.5000, device='cuda:0') tensor(0.5238, device='cuda:0')\n",
      "outputs tensor(0.0194, device='cuda:0') tensor(5.5684e-08, device='cuda:0')\n",
      "targets tensor(0.5000, device='cuda:0') tensor(0.5238, device='cuda:0')\n",
      "outputs tensor(0.0194, device='cuda:0') tensor(5.1470e-08, device='cuda:0')\n",
      "targets tensor(0.6225, device='cuda:0') tensor(0.5072, device='cuda:0')\n",
      "outputs tensor(0.0194, device='cuda:0') tensor(3.3365e-08, device='cuda:0')\n",
      "targets tensor(0.2550, device='cuda:0') tensor(0.4537, device='cuda:0')\n",
      "outputs tensor(0.0194, device='cuda:0') tensor(3.2193e-08, device='cuda:0')\n",
      "targets tensor(0.7450, device='cuda:0') tensor(0.4537, device='cuda:0')\n",
      "outputs tensor(0.0194, device='cuda:0') tensor(3.2154e-08, device='cuda:0')\n",
      "targets tensor(0.6225, device='cuda:0') tensor(0.5072, device='cuda:0')\n",
      "outputs tensor(0.0194, device='cuda:0') tensor(3.8257e-08, device='cuda:0')\n",
      "targets tensor(0.6225, device='cuda:0') tensor(0.5072, device='cuda:0')\n",
      "outputs tensor(0.0194, device='cuda:0') tensor(3.3402e-08, device='cuda:0')\n",
      "targets tensor(0.6225, device='cuda:0') tensor(0.5072, device='cuda:0')\n",
      "outputs tensor(0.0194, device='cuda:0') tensor(4.2713e-08, device='cuda:0')\n",
      "targets tensor(0.2550, device='cuda:0') tensor(0.4537, device='cuda:0')\n",
      "outputs tensor(0.0194, device='cuda:0') tensor(3.4082e-08, device='cuda:0')\n",
      "targets tensor(0.4020, device='cuda:0') tensor(0.5368, device='cuda:0')\n",
      "Valid Step 15/15, valid_loss: 0.6928\n",
      "[Epoch Train: 4] loss: 0.7099, time: 52.00 s            \n",
      "[Epoch Valid: 4] loss: 0.6928, auc: 0.5938, time: 7.00 s\n",
      "EPOCH: 5\n"
     ]
    },
    {
     "data": {
      "application/vnd.jupyter.widget-view+json": {
       "model_id": "7873c2053fd2435b9c990a42af268a1f",
       "version_major": 2,
       "version_minor": 0
      },
      "text/plain": [
       "HBox(children=(FloatProgress(value=0.0, max=59.0), HTML(value='')))"
      ]
     },
     "metadata": {},
     "output_type": "display_data"
    },
    {
     "name": "stdout",
     "output_type": "stream",
     "text": [
      "Train Step 59/59, train_loss: 0.7377\n"
     ]
    },
    {
     "data": {
      "application/vnd.jupyter.widget-view+json": {
       "model_id": "79dd56c475af45759aa791ef96898db2",
       "version_major": 2,
       "version_minor": 0
      },
      "text/plain": [
       "HBox(children=(FloatProgress(value=0.0, max=15.0), HTML(value='')))"
      ]
     },
     "metadata": {},
     "output_type": "display_data"
    },
    {
     "name": "stdout",
     "output_type": "stream",
     "text": [
      "outputs tensor(0.2434, device='cuda:0') tensor(3.6130e-06, device='cuda:0')\n",
      "targets tensor(0.7450, device='cuda:0') tensor(0.4537, device='cuda:0')\n",
      "outputs tensor(0.2434, device='cuda:0') tensor(5.3847e-06, device='cuda:0')\n",
      "targets tensor(0.2550, device='cuda:0') tensor(0.4537, device='cuda:0')\n",
      "outputs tensor(0.2434, device='cuda:0') tensor(3.5064e-06, device='cuda:0')\n",
      "targets tensor(0.2550, device='cuda:0') tensor(0.4537, device='cuda:0')\n",
      "outputs tensor(0.2434, device='cuda:0') tensor(4.2594e-06, device='cuda:0')\n",
      "targets tensor(0.6225, device='cuda:0') tensor(0.5072, device='cuda:0')\n",
      "outputs tensor(0.2434, device='cuda:0') tensor(4.2610e-06, device='cuda:0')\n",
      "targets tensor(0.7450, device='cuda:0') tensor(0.4537, device='cuda:0')\n",
      "outputs tensor(0.2434, device='cuda:0') tensor(3.6802e-06, device='cuda:0')\n",
      "targets tensor(0.5000, device='cuda:0') tensor(0.5238, device='cuda:0')\n",
      "outputs tensor(0.2434, device='cuda:0') tensor(2.2444e-06, device='cuda:0')\n",
      "targets tensor(0.5000, device='cuda:0') tensor(0.5238, device='cuda:0')\n",
      "outputs tensor(0.2434, device='cuda:0') tensor(4.8673e-06, device='cuda:0')\n",
      "targets tensor(0.6225, device='cuda:0') tensor(0.5072, device='cuda:0')\n",
      "outputs tensor(0.2434, device='cuda:0') tensor(4.3244e-06, device='cuda:0')\n",
      "targets tensor(0.2550, device='cuda:0') tensor(0.4537, device='cuda:0')\n",
      "outputs tensor(0.2434, device='cuda:0') tensor(4.1379e-06, device='cuda:0')\n",
      "targets tensor(0.7450, device='cuda:0') tensor(0.4537, device='cuda:0')\n",
      "outputs tensor(0.2434, device='cuda:0') tensor(3.7165e-06, device='cuda:0')\n",
      "targets tensor(0.6225, device='cuda:0') tensor(0.5072, device='cuda:0')\n",
      "outputs tensor(0.2434, device='cuda:0') tensor(3.9987e-06, device='cuda:0')\n",
      "targets tensor(0.6225, device='cuda:0') tensor(0.5072, device='cuda:0')\n",
      "outputs tensor(0.2434, device='cuda:0') tensor(2.4115e-06, device='cuda:0')\n",
      "targets tensor(0.6225, device='cuda:0') tensor(0.5072, device='cuda:0')\n",
      "outputs tensor(0.2434, device='cuda:0') tensor(2.3459e-06, device='cuda:0')\n",
      "targets tensor(0.2550, device='cuda:0') tensor(0.4537, device='cuda:0')\n",
      "outputs tensor(0.2434, device='cuda:0') tensor(6.1073e-06, device='cuda:0')\n",
      "targets tensor(0.4020, device='cuda:0') tensor(0.5368, device='cuda:0')\n",
      "Valid Step 15/15, valid_loss: 0.6962\n",
      "[Epoch Train: 5] loss: 0.7377, time: 51.00 s            \n",
      "[Epoch Valid: 5] loss: 0.6962, auc: 0.4944, time: 7.00 s\n",
      "EPOCH: 6\n"
     ]
    },
    {
     "data": {
      "application/vnd.jupyter.widget-view+json": {
       "model_id": "daef2590e5de43fc8b75ab72f9feaf7d",
       "version_major": 2,
       "version_minor": 0
      },
      "text/plain": [
       "HBox(children=(FloatProgress(value=0.0, max=59.0), HTML(value='')))"
      ]
     },
     "metadata": {},
     "output_type": "display_data"
    },
    {
     "name": "stdout",
     "output_type": "stream",
     "text": [
      "Train Step 59/59, train_loss: 0.7159\n"
     ]
    },
    {
     "data": {
      "application/vnd.jupyter.widget-view+json": {
       "model_id": "51feae08913041a2b29195512f1e69b5",
       "version_major": 2,
       "version_minor": 0
      },
      "text/plain": [
       "HBox(children=(FloatProgress(value=0.0, max=15.0), HTML(value='')))"
      ]
     },
     "metadata": {},
     "output_type": "display_data"
    },
    {
     "name": "stdout",
     "output_type": "stream",
     "text": [
      "outputs tensor(-0.0227, device='cuda:0') tensor(1.1686e-05, device='cuda:0')\n",
      "targets tensor(0.7450, device='cuda:0') tensor(0.4537, device='cuda:0')\n",
      "outputs tensor(-0.0227, device='cuda:0') tensor(3.2522e-05, device='cuda:0')\n",
      "targets tensor(0.2550, device='cuda:0') tensor(0.4537, device='cuda:0')\n",
      "outputs tensor(-0.0227, device='cuda:0') tensor(2.6306e-05, device='cuda:0')\n",
      "targets tensor(0.2550, device='cuda:0') tensor(0.4537, device='cuda:0')\n",
      "outputs tensor(-0.0227, device='cuda:0') tensor(3.5561e-05, device='cuda:0')\n",
      "targets tensor(0.6225, device='cuda:0') tensor(0.5072, device='cuda:0')\n",
      "outputs tensor(-0.0227, device='cuda:0') tensor(1.9812e-05, device='cuda:0')\n",
      "targets tensor(0.7450, device='cuda:0') tensor(0.4537, device='cuda:0')\n",
      "outputs tensor(-0.0227, device='cuda:0') tensor(2.2955e-05, device='cuda:0')\n",
      "targets tensor(0.5000, device='cuda:0') tensor(0.5238, device='cuda:0')\n",
      "outputs tensor(-0.0227, device='cuda:0') tensor(2.9641e-05, device='cuda:0')\n",
      "targets tensor(0.5000, device='cuda:0') tensor(0.5238, device='cuda:0')\n",
      "outputs tensor(-0.0227, device='cuda:0') tensor(2.9301e-05, device='cuda:0')\n",
      "targets tensor(0.6225, device='cuda:0') tensor(0.5072, device='cuda:0')\n",
      "outputs tensor(-0.0227, device='cuda:0') tensor(3.5844e-05, device='cuda:0')\n",
      "targets tensor(0.2550, device='cuda:0') tensor(0.4537, device='cuda:0')\n",
      "outputs tensor(-0.0227, device='cuda:0') tensor(1.5516e-05, device='cuda:0')\n",
      "targets tensor(0.7450, device='cuda:0') tensor(0.4537, device='cuda:0')\n",
      "outputs tensor(-0.0227, device='cuda:0') tensor(1.7734e-05, device='cuda:0')\n",
      "targets tensor(0.6225, device='cuda:0') tensor(0.5072, device='cuda:0')\n",
      "outputs tensor(-0.0227, device='cuda:0') tensor(1.6933e-05, device='cuda:0')\n",
      "targets tensor(0.6225, device='cuda:0') tensor(0.5072, device='cuda:0')\n",
      "outputs tensor(-0.0227, device='cuda:0') tensor(1.7468e-05, device='cuda:0')\n",
      "targets tensor(0.6225, device='cuda:0') tensor(0.5072, device='cuda:0')\n",
      "outputs tensor(-0.0227, device='cuda:0') tensor(1.8728e-05, device='cuda:0')\n",
      "targets tensor(0.2550, device='cuda:0') tensor(0.4537, device='cuda:0')\n",
      "outputs tensor(-0.0227, device='cuda:0') tensor(1.1756e-05, device='cuda:0')\n",
      "targets tensor(0.4020, device='cuda:0') tensor(0.5368, device='cuda:0')\n",
      "Valid Step 15/15, valid_loss: 0.6936\n",
      "[Epoch Train: 6] loss: 0.7159, time: 51.00 s            \n",
      "[Epoch Valid: 6] loss: 0.6936, auc: 0.3776, time: 7.00 s\n",
      "EPOCH: 7\n"
     ]
    },
    {
     "data": {
      "application/vnd.jupyter.widget-view+json": {
       "model_id": "7e3a36941950482cbc46110241455566",
       "version_major": 2,
       "version_minor": 0
      },
      "text/plain": [
       "HBox(children=(FloatProgress(value=0.0, max=59.0), HTML(value='')))"
      ]
     },
     "metadata": {},
     "output_type": "display_data"
    },
    {
     "name": "stdout",
     "output_type": "stream",
     "text": [
      "Train Step 59/59, train_loss: 0.6958\n"
     ]
    },
    {
     "data": {
      "application/vnd.jupyter.widget-view+json": {
       "model_id": "ab85b56284a44473a42389ee53750997",
       "version_major": 2,
       "version_minor": 0
      },
      "text/plain": [
       "HBox(children=(FloatProgress(value=0.0, max=15.0), HTML(value='')))"
      ]
     },
     "metadata": {},
     "output_type": "display_data"
    },
    {
     "name": "stdout",
     "output_type": "stream",
     "text": [
      "outputs tensor(-0.1556, device='cuda:0') tensor(0.0014, device='cuda:0')\n",
      "targets tensor(0.7450, device='cuda:0') tensor(0.4537, device='cuda:0')\n",
      "outputs tensor(-0.1557, device='cuda:0') tensor(0.0026, device='cuda:0')\n",
      "targets tensor(0.2550, device='cuda:0') tensor(0.4537, device='cuda:0')\n",
      "outputs tensor(-0.1541, device='cuda:0') tensor(0.0025, device='cuda:0')\n",
      "targets tensor(0.2550, device='cuda:0') tensor(0.4537, device='cuda:0')\n",
      "outputs tensor(-0.1537, device='cuda:0') tensor(0.0070, device='cuda:0')\n",
      "targets tensor(0.6225, device='cuda:0') tensor(0.5072, device='cuda:0')\n",
      "outputs tensor(-0.1545, device='cuda:0') tensor(0.0026, device='cuda:0')\n",
      "targets tensor(0.7450, device='cuda:0') tensor(0.4537, device='cuda:0')\n",
      "outputs tensor(-0.1543, device='cuda:0') tensor(0.0026, device='cuda:0')\n",
      "targets tensor(0.5000, device='cuda:0') tensor(0.5238, device='cuda:0')\n",
      "outputs tensor(-0.1538, device='cuda:0') tensor(0.0030, device='cuda:0')\n",
      "targets tensor(0.5000, device='cuda:0') tensor(0.5238, device='cuda:0')\n",
      "outputs tensor(-0.1562, device='cuda:0') tensor(0.0024, device='cuda:0')\n",
      "targets tensor(0.6225, device='cuda:0') tensor(0.5072, device='cuda:0')\n",
      "outputs tensor(-0.1554, device='cuda:0') tensor(0.0026, device='cuda:0')\n",
      "targets tensor(0.2550, device='cuda:0') tensor(0.4537, device='cuda:0')\n",
      "outputs tensor(-0.1554, device='cuda:0') tensor(0.0019, device='cuda:0')\n",
      "targets tensor(0.7450, device='cuda:0') tensor(0.4537, device='cuda:0')\n",
      "outputs tensor(-0.1546, device='cuda:0') tensor(0.0027, device='cuda:0')\n",
      "targets tensor(0.6225, device='cuda:0') tensor(0.5072, device='cuda:0')\n",
      "outputs tensor(-0.1553, device='cuda:0') tensor(0.0021, device='cuda:0')\n",
      "targets tensor(0.6225, device='cuda:0') tensor(0.5072, device='cuda:0')\n",
      "outputs tensor(-0.1545, device='cuda:0') tensor(0.0022, device='cuda:0')\n",
      "targets tensor(0.6225, device='cuda:0') tensor(0.5072, device='cuda:0')\n",
      "outputs tensor(-0.1561, device='cuda:0') tensor(0.0017, device='cuda:0')\n",
      "targets tensor(0.2550, device='cuda:0') tensor(0.4537, device='cuda:0')\n",
      "outputs tensor(-0.1552, device='cuda:0') tensor(0.0012, device='cuda:0')\n",
      "targets tensor(0.4020, device='cuda:0') tensor(0.5368, device='cuda:0')\n",
      "Valid Step 15/15, valid_loss: 0.6992\n",
      "[Epoch Train: 7] loss: 0.6958, time: 51.00 s            \n",
      "[Epoch Valid: 7] loss: 0.6992, auc: 0.3782, time: 6.00 s\n",
      "EPOCH: 8\n"
     ]
    },
    {
     "data": {
      "application/vnd.jupyter.widget-view+json": {
       "model_id": "8829048fce1242d8973fa8ed0fa5968d",
       "version_major": 2,
       "version_minor": 0
      },
      "text/plain": [
       "HBox(children=(FloatProgress(value=0.0, max=59.0), HTML(value='')))"
      ]
     },
     "metadata": {},
     "output_type": "display_data"
    },
    {
     "name": "stdout",
     "output_type": "stream",
     "text": [
      "Train Step 59/59, train_loss: 0.7123\n"
     ]
    },
    {
     "data": {
      "application/vnd.jupyter.widget-view+json": {
       "model_id": "9a3b2d3a485f4ee1a4b41c6544392744",
       "version_major": 2,
       "version_minor": 0
      },
      "text/plain": [
       "HBox(children=(FloatProgress(value=0.0, max=15.0), HTML(value='')))"
      ]
     },
     "metadata": {},
     "output_type": "display_data"
    },
    {
     "name": "stdout",
     "output_type": "stream",
     "text": [
      "outputs tensor(-0.2788, device='cuda:0') tensor(0.5405, device='cuda:0')\n",
      "targets tensor(0.7450, device='cuda:0') tensor(0.4537, device='cuda:0')\n",
      "outputs tensor(-0.3414, device='cuda:0') tensor(0.4816, device='cuda:0')\n",
      "targets tensor(0.2550, device='cuda:0') tensor(0.4537, device='cuda:0')\n",
      "outputs tensor(-1.3118, device='cuda:0') tensor(1.4025, device='cuda:0')\n",
      "targets tensor(0.2550, device='cuda:0') tensor(0.4537, device='cuda:0')\n",
      "outputs tensor(-0.1382, device='cuda:0') tensor(0.1327, device='cuda:0')\n",
      "targets tensor(0.6225, device='cuda:0') tensor(0.5072, device='cuda:0')\n",
      "outputs tensor(-1.0562, device='cuda:0') tensor(1.4862, device='cuda:0')\n",
      "targets tensor(0.7450, device='cuda:0') tensor(0.4537, device='cuda:0')\n",
      "outputs tensor(-1.1565, device='cuda:0') tensor(1.5483, device='cuda:0')\n",
      "targets tensor(0.5000, device='cuda:0') tensor(0.5238, device='cuda:0')\n",
      "outputs tensor(-1.7980, device='cuda:0') tensor(1.4954, device='cuda:0')\n",
      "targets tensor(0.5000, device='cuda:0') tensor(0.5238, device='cuda:0')\n",
      "outputs tensor(-0.1742, device='cuda:0') tensor(0.2804, device='cuda:0')\n",
      "targets tensor(0.6225, device='cuda:0') tensor(0.5072, device='cuda:0')\n",
      "outputs tensor(-0.9129, device='cuda:0') tensor(1.2862, device='cuda:0')\n",
      "targets tensor(0.2550, device='cuda:0') tensor(0.4537, device='cuda:0')\n",
      "outputs tensor(-0.5939, device='cuda:0') tensor(1.3653, device='cuda:0')\n",
      "targets tensor(0.7450, device='cuda:0') tensor(0.4537, device='cuda:0')\n",
      "outputs tensor(-1.1156, device='cuda:0') tensor(1.5997, device='cuda:0')\n",
      "targets tensor(0.6225, device='cuda:0') tensor(0.5072, device='cuda:0')\n",
      "outputs tensor(-0.8525, device='cuda:0') tensor(1.4354, device='cuda:0')\n",
      "targets tensor(0.6225, device='cuda:0') tensor(0.5072, device='cuda:0')\n",
      "outputs tensor(-1.4498, device='cuda:0') tensor(1.6773, device='cuda:0')\n",
      "targets tensor(0.6225, device='cuda:0') tensor(0.5072, device='cuda:0')\n",
      "outputs tensor(-0.4910, device='cuda:0') tensor(1.1471, device='cuda:0')\n",
      "targets tensor(0.2550, device='cuda:0') tensor(0.4537, device='cuda:0')\n",
      "outputs tensor(-0.3337, device='cuda:0') tensor(0.5978, device='cuda:0')\n",
      "targets tensor(0.4020, device='cuda:0') tensor(0.5368, device='cuda:0')\n",
      "Valid Step 15/15, valid_loss: 0.7303\n",
      "[Epoch Train: 8] loss: 0.7123, time: 51.00 s            \n",
      "[Epoch Valid: 8] loss: 0.7303, auc: 0.5940, time: 7.00 s\n",
      "auc improved from inf to 0.7303. Saved model to '/home/RSNA_MICCAI_Brain_Tumor/models/T2w-e8-loss0.730-auc0.594.pth'\n",
      "EPOCH: 9\n"
     ]
    },
    {
     "data": {
      "application/vnd.jupyter.widget-view+json": {
       "model_id": "8f264a081de8424687151a4507412715",
       "version_major": 2,
       "version_minor": 0
      },
      "text/plain": [
       "HBox(children=(FloatProgress(value=0.0, max=59.0), HTML(value='')))"
      ]
     },
     "metadata": {},
     "output_type": "display_data"
    },
    {
     "name": "stdout",
     "output_type": "stream",
     "text": [
      "Train Step 59/59, train_loss: 0.6971\n"
     ]
    },
    {
     "data": {
      "application/vnd.jupyter.widget-view+json": {
       "model_id": "a6a5011a8c164d14878a549f6d7dd7b7",
       "version_major": 2,
       "version_minor": 0
      },
      "text/plain": [
       "HBox(children=(FloatProgress(value=0.0, max=15.0), HTML(value='')))"
      ]
     },
     "metadata": {},
     "output_type": "display_data"
    },
    {
     "name": "stdout",
     "output_type": "stream",
     "text": [
      "outputs tensor(0.2979, device='cuda:0') tensor(0.3063, device='cuda:0')\n",
      "targets tensor(0.7450, device='cuda:0') tensor(0.4537, device='cuda:0')\n",
      "outputs tensor(0.3928, device='cuda:0') tensor(0.4654, device='cuda:0')\n",
      "targets tensor(0.2550, device='cuda:0') tensor(0.4537, device='cuda:0')\n",
      "outputs tensor(1.1150, device='cuda:0') tensor(1.2312, device='cuda:0')\n",
      "targets tensor(0.2550, device='cuda:0') tensor(0.4537, device='cuda:0')\n",
      "outputs tensor(0.1558, device='cuda:0') tensor(0.0448, device='cuda:0')\n",
      "targets tensor(0.6225, device='cuda:0') tensor(0.5072, device='cuda:0')\n",
      "outputs tensor(0.9816, device='cuda:0') tensor(1.4966, device='cuda:0')\n",
      "targets tensor(0.7450, device='cuda:0') tensor(0.4537, device='cuda:0')\n",
      "outputs tensor(0.9017, device='cuda:0') tensor(1.4844, device='cuda:0')\n",
      "targets tensor(0.5000, device='cuda:0') tensor(0.5238, device='cuda:0')\n",
      "outputs tensor(1.7134, device='cuda:0') tensor(1.3303, device='cuda:0')\n",
      "targets tensor(0.5000, device='cuda:0') tensor(0.5238, device='cuda:0')\n",
      "outputs tensor(0.2277, device='cuda:0') tensor(0.1455, device='cuda:0')\n",
      "targets tensor(0.6225, device='cuda:0') tensor(0.5072, device='cuda:0')\n",
      "outputs tensor(0.7846, device='cuda:0') tensor(1.1987, device='cuda:0')\n",
      "targets tensor(0.2550, device='cuda:0') tensor(0.4537, device='cuda:0')\n",
      "outputs tensor(0.6226, device='cuda:0') tensor(1.2976, device='cuda:0')\n",
      "targets tensor(0.7450, device='cuda:0') tensor(0.4537, device='cuda:0')\n",
      "outputs tensor(0.9651, device='cuda:0') tensor(1.4763, device='cuda:0')\n",
      "targets tensor(0.6225, device='cuda:0') tensor(0.5072, device='cuda:0')\n",
      "outputs tensor(0.7618, device='cuda:0') tensor(1.1486, device='cuda:0')\n",
      "targets tensor(0.6225, device='cuda:0') tensor(0.5072, device='cuda:0')\n",
      "outputs tensor(1.3401, device='cuda:0') tensor(1.6404, device='cuda:0')\n",
      "targets tensor(0.6225, device='cuda:0') tensor(0.5072, device='cuda:0')\n",
      "outputs tensor(0.5478, device='cuda:0') tensor(1.1218, device='cuda:0')\n",
      "targets tensor(0.2550, device='cuda:0') tensor(0.4537, device='cuda:0')\n",
      "outputs tensor(0.4021, device='cuda:0') tensor(0.5202, device='cuda:0')\n",
      "targets tensor(0.4020, device='cuda:0') tensor(0.5368, device='cuda:0')\n",
      "Valid Step 15/15, valid_loss: 1.0026\n",
      "[Epoch Train: 9] loss: 0.6971, time: 52.00 s            \n",
      "[Epoch Valid: 9] loss: 1.0026, auc: 0.4183, time: 7.00 s\n",
      "EPOCH: 10\n"
     ]
    },
    {
     "data": {
      "application/vnd.jupyter.widget-view+json": {
       "model_id": "f9ab0f62f0f5449baa082690a2044642",
       "version_major": 2,
       "version_minor": 0
      },
      "text/plain": [
       "HBox(children=(FloatProgress(value=0.0, max=59.0), HTML(value='')))"
      ]
     },
     "metadata": {},
     "output_type": "display_data"
    },
    {
     "name": "stdout",
     "output_type": "stream",
     "text": [
      "Train Step 59/59, train_loss: 0.7091\n"
     ]
    },
    {
     "data": {
      "application/vnd.jupyter.widget-view+json": {
       "model_id": "005ee5230fe148c7b8507d5766db93b1",
       "version_major": 2,
       "version_minor": 0
      },
      "text/plain": [
       "HBox(children=(FloatProgress(value=0.0, max=15.0), HTML(value='')))"
      ]
     },
     "metadata": {},
     "output_type": "display_data"
    },
    {
     "name": "stdout",
     "output_type": "stream",
     "text": [
      "outputs tensor(0.0979, device='cuda:0') tensor(0.0437, device='cuda:0')\n",
      "targets tensor(0.7450, device='cuda:0') tensor(0.4537, device='cuda:0')\n",
      "outputs tensor(0.1141, device='cuda:0') tensor(0.0467, device='cuda:0')\n",
      "targets tensor(0.2550, device='cuda:0') tensor(0.4537, device='cuda:0')\n",
      "outputs tensor(-0.0651, device='cuda:0') tensor(0.3168, device='cuda:0')\n",
      "targets tensor(0.2550, device='cuda:0') tensor(0.4537, device='cuda:0')\n",
      "outputs tensor(0.0587, device='cuda:0') tensor(0.2141, device='cuda:0')\n",
      "targets tensor(0.6225, device='cuda:0') tensor(0.5072, device='cuda:0')\n",
      "outputs tensor(-0.0131, device='cuda:0') tensor(0.2839, device='cuda:0')\n",
      "targets tensor(0.7450, device='cuda:0') tensor(0.4537, device='cuda:0')\n",
      "outputs tensor(-0.0147, device='cuda:0') tensor(0.3680, device='cuda:0')\n",
      "targets tensor(0.5000, device='cuda:0') tensor(0.5238, device='cuda:0')\n",
      "outputs tensor(-0.2227, device='cuda:0') tensor(0.3834, device='cuda:0')\n",
      "targets tensor(0.5000, device='cuda:0') tensor(0.5238, device='cuda:0')\n",
      "outputs tensor(-0.1670, device='cuda:0') tensor(0.7303, device='cuda:0')\n",
      "targets tensor(0.6225, device='cuda:0') tensor(0.5072, device='cuda:0')\n",
      "outputs tensor(-0.0264, device='cuda:0') tensor(0.3918, device='cuda:0')\n",
      "targets tensor(0.2550, device='cuda:0') tensor(0.4537, device='cuda:0')\n",
      "outputs tensor(0.0112, device='cuda:0') tensor(0.2979, device='cuda:0')\n",
      "targets tensor(0.7450, device='cuda:0') tensor(0.4537, device='cuda:0')\n",
      "outputs tensor(-0.1211, device='cuda:0') tensor(0.3842, device='cuda:0')\n",
      "targets tensor(0.6225, device='cuda:0') tensor(0.5072, device='cuda:0')\n",
      "outputs tensor(-0.1082, device='cuda:0') tensor(0.3343, device='cuda:0')\n",
      "targets tensor(0.6225, device='cuda:0') tensor(0.5072, device='cuda:0')\n",
      "outputs tensor(-0.0868, device='cuda:0') tensor(0.3576, device='cuda:0')\n",
      "targets tensor(0.6225, device='cuda:0') tensor(0.5072, device='cuda:0')\n",
      "outputs tensor(0.0287, device='cuda:0') tensor(0.2348, device='cuda:0')\n",
      "targets tensor(0.2550, device='cuda:0') tensor(0.4537, device='cuda:0')\n",
      "outputs tensor(0.0062, device='cuda:0') tensor(0.1799, device='cuda:0')\n",
      "targets tensor(0.4020, device='cuda:0') tensor(0.5368, device='cuda:0')\n",
      "Valid Step 15/15, valid_loss: 0.6702\n",
      "[Epoch Train: 10] loss: 0.7091, time: 52.00 s            \n",
      "[Epoch Valid: 10] loss: 0.6702, auc: 0.6030, time: 7.00 s\n",
      "auc improved from 0.7303 to 0.6702. Saved model to '/home/RSNA_MICCAI_Brain_Tumor/models/T2w-e10-loss0.670-auc0.603.pth'\n",
      "EPOCH: 11\n"
     ]
    },
    {
     "data": {
      "application/vnd.jupyter.widget-view+json": {
       "model_id": "3a520dba82914ec4b35b8becedf142e5",
       "version_major": 2,
       "version_minor": 0
      },
      "text/plain": [
       "HBox(children=(FloatProgress(value=0.0, max=59.0), HTML(value='')))"
      ]
     },
     "metadata": {},
     "output_type": "display_data"
    },
    {
     "name": "stdout",
     "output_type": "stream",
     "text": [
      "Train Step 59/59, train_loss: 0.7006\n"
     ]
    },
    {
     "data": {
      "application/vnd.jupyter.widget-view+json": {
       "model_id": "caf3d739ed494ed4b52b9718b4ae8e27",
       "version_major": 2,
       "version_minor": 0
      },
      "text/plain": [
       "HBox(children=(FloatProgress(value=0.0, max=15.0), HTML(value='')))"
      ]
     },
     "metadata": {},
     "output_type": "display_data"
    },
    {
     "name": "stdout",
     "output_type": "stream",
     "text": [
      "outputs tensor(0.1225, device='cuda:0') tensor(0.2431, device='cuda:0')\n",
      "targets tensor(0.7450, device='cuda:0') tensor(0.4537, device='cuda:0')\n",
      "outputs tensor(0.0635, device='cuda:0') tensor(0.2239, device='cuda:0')\n",
      "targets tensor(0.2550, device='cuda:0') tensor(0.4537, device='cuda:0')\n",
      "outputs tensor(0.1774, device='cuda:0') tensor(0.2215, device='cuda:0')\n",
      "targets tensor(0.2550, device='cuda:0') tensor(0.4537, device='cuda:0')\n",
      "outputs tensor(-0.1066, device='cuda:0') tensor(0.6321, device='cuda:0')\n",
      "targets tensor(0.6225, device='cuda:0') tensor(0.5072, device='cuda:0')\n",
      "outputs tensor(-0.4513, device='cuda:0') tensor(1.7580, device='cuda:0')\n",
      "targets tensor(0.7450, device='cuda:0') tensor(0.4537, device='cuda:0')\n",
      "outputs tensor(-0.1526, device='cuda:0') tensor(0.9910, device='cuda:0')\n",
      "targets tensor(0.5000, device='cuda:0') tensor(0.5238, device='cuda:0')\n",
      "outputs tensor(0.0852, device='cuda:0') tensor(0.4746, device='cuda:0')\n",
      "targets tensor(0.5000, device='cuda:0') tensor(0.5238, device='cuda:0')\n",
      "outputs tensor(-0.2540, device='cuda:0') tensor(1.2802, device='cuda:0')\n",
      "targets tensor(0.6225, device='cuda:0') tensor(0.5072, device='cuda:0')\n",
      "outputs tensor(0.0935, device='cuda:0') tensor(0.2132, device='cuda:0')\n",
      "targets tensor(0.2550, device='cuda:0') tensor(0.4537, device='cuda:0')\n",
      "outputs tensor(-0.1410, device='cuda:0') tensor(0.9240, device='cuda:0')\n",
      "targets tensor(0.7450, device='cuda:0') tensor(0.4537, device='cuda:0')\n",
      "outputs tensor(0.0189, device='cuda:0') tensor(0.7378, device='cuda:0')\n",
      "targets tensor(0.6225, device='cuda:0') tensor(0.5072, device='cuda:0')\n",
      "outputs tensor(0.2403, device='cuda:0') tensor(0.1697, device='cuda:0')\n",
      "targets tensor(0.6225, device='cuda:0') tensor(0.5072, device='cuda:0')\n",
      "outputs tensor(0.2503, device='cuda:0') tensor(0.1483, device='cuda:0')\n",
      "targets tensor(0.6225, device='cuda:0') tensor(0.5072, device='cuda:0')\n",
      "outputs tensor(-0.2221, device='cuda:0') tensor(0.9246, device='cuda:0')\n",
      "targets tensor(0.2550, device='cuda:0') tensor(0.4537, device='cuda:0')\n",
      "outputs tensor(-0.8565, device='cuda:0') tensor(1.6569, device='cuda:0')\n",
      "targets tensor(0.4020, device='cuda:0') tensor(0.5368, device='cuda:0')\n",
      "Valid Step 15/15, valid_loss: 0.7321\n",
      "[Epoch Train: 11] loss: 0.7006, time: 52.00 s            \n",
      "[Epoch Valid: 11] loss: 0.7321, auc: 0.5164, time: 7.00 s\n",
      "EPOCH: 12\n"
     ]
    },
    {
     "data": {
      "application/vnd.jupyter.widget-view+json": {
       "model_id": "79744efe0f2a4214b3d64326ba1f1f80",
       "version_major": 2,
       "version_minor": 0
      },
      "text/plain": [
       "HBox(children=(FloatProgress(value=0.0, max=59.0), HTML(value='')))"
      ]
     },
     "metadata": {},
     "output_type": "display_data"
    },
    {
     "name": "stdout",
     "output_type": "stream",
     "text": [
      "Train Step 59/59, train_loss: 0.6998\n"
     ]
    },
    {
     "data": {
      "application/vnd.jupyter.widget-view+json": {
       "model_id": "5d4d54daa03348eead94bde747f6c25d",
       "version_major": 2,
       "version_minor": 0
      },
      "text/plain": [
       "HBox(children=(FloatProgress(value=0.0, max=15.0), HTML(value='')))"
      ]
     },
     "metadata": {},
     "output_type": "display_data"
    },
    {
     "name": "stdout",
     "output_type": "stream",
     "text": [
      "outputs tensor(1.5658, device='cuda:0') tensor(2.2141, device='cuda:0')\n",
      "targets tensor(0.7450, device='cuda:0') tensor(0.4537, device='cuda:0')\n",
      "outputs tensor(0.8746, device='cuda:0') tensor(1.1428, device='cuda:0')\n",
      "targets tensor(0.2550, device='cuda:0') tensor(0.4537, device='cuda:0')\n",
      "outputs tensor(3.1955, device='cuda:0') tensor(4.3157, device='cuda:0')\n",
      "targets tensor(0.2550, device='cuda:0') tensor(0.4537, device='cuda:0')\n",
      "outputs tensor(2.3237, device='cuda:0') tensor(3.4923, device='cuda:0')\n",
      "targets tensor(0.6225, device='cuda:0') tensor(0.5072, device='cuda:0')\n",
      "outputs tensor(4.4943, device='cuda:0') tensor(9.5173, device='cuda:0')\n",
      "targets tensor(0.7450, device='cuda:0') tensor(0.4537, device='cuda:0')\n",
      "outputs tensor(2.7101, device='cuda:0') tensor(3.9781, device='cuda:0')\n",
      "targets tensor(0.5000, device='cuda:0') tensor(0.5238, device='cuda:0')\n",
      "outputs tensor(3.9090, device='cuda:0') tensor(2.6783, device='cuda:0')\n",
      "targets tensor(0.5000, device='cuda:0') tensor(0.5238, device='cuda:0')\n",
      "outputs tensor(6.8661, device='cuda:0') tensor(10.2524, device='cuda:0')\n",
      "targets tensor(0.6225, device='cuda:0') tensor(0.5072, device='cuda:0')\n",
      "outputs tensor(2.4181, device='cuda:0') tensor(2.8972, device='cuda:0')\n",
      "targets tensor(0.2550, device='cuda:0') tensor(0.4537, device='cuda:0')\n",
      "outputs tensor(4.0116, device='cuda:0') tensor(4.8362, device='cuda:0')\n",
      "targets tensor(0.7450, device='cuda:0') tensor(0.4537, device='cuda:0')\n",
      "outputs tensor(4.2715, device='cuda:0') tensor(4.7253, device='cuda:0')\n",
      "targets tensor(0.6225, device='cuda:0') tensor(0.5072, device='cuda:0')\n",
      "outputs tensor(2.6024, device='cuda:0') tensor(1.9421, device='cuda:0')\n",
      "targets tensor(0.6225, device='cuda:0') tensor(0.5072, device='cuda:0')\n",
      "outputs tensor(2.2445, device='cuda:0') tensor(2.4370, device='cuda:0')\n",
      "targets tensor(0.6225, device='cuda:0') tensor(0.5072, device='cuda:0')\n",
      "outputs tensor(4.2019, device='cuda:0') tensor(5.3107, device='cuda:0')\n",
      "targets tensor(0.2550, device='cuda:0') tensor(0.4537, device='cuda:0')\n",
      "outputs tensor(8.4207, device='cuda:0') tensor(12.0019, device='cuda:0')\n",
      "targets tensor(0.4020, device='cuda:0') tensor(0.5368, device='cuda:0')\n",
      "Valid Step 15/15, valid_loss: 2.4763\n",
      "[Epoch Train: 12] loss: 0.6998, time: 52.00 s            \n",
      "[Epoch Valid: 12] loss: 2.4763, auc: 0.3999, time: 7.00 s\n",
      "EPOCH: 13\n"
     ]
    },
    {
     "data": {
      "application/vnd.jupyter.widget-view+json": {
       "model_id": "f140cf3bdbd643c99f62420e87fd4931",
       "version_major": 2,
       "version_minor": 0
      },
      "text/plain": [
       "HBox(children=(FloatProgress(value=0.0, max=59.0), HTML(value='')))"
      ]
     },
     "metadata": {},
     "output_type": "display_data"
    },
    {
     "name": "stdout",
     "output_type": "stream",
     "text": [
      "Train Step 59/59, train_loss: 0.7091\n"
     ]
    },
    {
     "data": {
      "application/vnd.jupyter.widget-view+json": {
       "model_id": "5b4ec6daddef46c5aaee0773216fc21e",
       "version_major": 2,
       "version_minor": 0
      },
      "text/plain": [
       "HBox(children=(FloatProgress(value=0.0, max=15.0), HTML(value='')))"
      ]
     },
     "metadata": {},
     "output_type": "display_data"
    },
    {
     "name": "stdout",
     "output_type": "stream",
     "text": [
      "outputs tensor(-3.3901, device='cuda:0') tensor(10.8253, device='cuda:0')\n",
      "targets tensor(0.7450, device='cuda:0') tensor(0.4537, device='cuda:0')\n",
      "outputs tensor(-1.7517, device='cuda:0') tensor(5.4688, device='cuda:0')\n",
      "targets tensor(0.2550, device='cuda:0') tensor(0.4537, device='cuda:0')\n",
      "outputs tensor(-1.5166, device='cuda:0') tensor(4.4369, device='cuda:0')\n",
      "targets tensor(0.2550, device='cuda:0') tensor(0.4537, device='cuda:0')\n",
      "outputs tensor(-2.5673, device='cuda:0') tensor(5.6652, device='cuda:0')\n",
      "targets tensor(0.6225, device='cuda:0') tensor(0.5072, device='cuda:0')\n",
      "outputs tensor(-0.8184, device='cuda:0') tensor(2.5593, device='cuda:0')\n",
      "targets tensor(0.7450, device='cuda:0') tensor(0.4537, device='cuda:0')\n",
      "outputs tensor(-1.7542, device='cuda:0') tensor(5.5742, device='cuda:0')\n",
      "targets tensor(0.5000, device='cuda:0') tensor(0.5238, device='cuda:0')\n",
      "outputs tensor(-0.7981, device='cuda:0') tensor(1.2741, device='cuda:0')\n",
      "targets tensor(0.5000, device='cuda:0') tensor(0.5238, device='cuda:0')\n",
      "outputs tensor(-1.9328, device='cuda:0') tensor(5.0324, device='cuda:0')\n",
      "targets tensor(0.6225, device='cuda:0') tensor(0.5072, device='cuda:0')\n",
      "outputs tensor(-1.8416, device='cuda:0') tensor(3.1393, device='cuda:0')\n",
      "targets tensor(0.2550, device='cuda:0') tensor(0.4537, device='cuda:0')\n",
      "outputs tensor(-7.0327, device='cuda:0') tensor(12.9374, device='cuda:0')\n",
      "targets tensor(0.7450, device='cuda:0') tensor(0.4537, device='cuda:0')\n",
      "outputs tensor(-5.4603, device='cuda:0') tensor(15.5990, device='cuda:0')\n",
      "targets tensor(0.6225, device='cuda:0') tensor(0.5072, device='cuda:0')\n",
      "outputs tensor(-11.9593, device='cuda:0') tensor(17.2357, device='cuda:0')\n",
      "targets tensor(0.6225, device='cuda:0') tensor(0.5072, device='cuda:0')\n",
      "outputs tensor(-4.2851, device='cuda:0') tensor(6.0820, device='cuda:0')\n",
      "targets tensor(0.6225, device='cuda:0') tensor(0.5072, device='cuda:0')\n",
      "outputs tensor(-4.8721, device='cuda:0') tensor(5.4029, device='cuda:0')\n",
      "targets tensor(0.2550, device='cuda:0') tensor(0.4537, device='cuda:0')\n",
      "outputs tensor(0.3210, device='cuda:0') tensor(0.4592, device='cuda:0')\n",
      "targets tensor(0.4020, device='cuda:0') tensor(0.5368, device='cuda:0')\n",
      "Valid Step 15/15, valid_loss: 3.3757\n",
      "[Epoch Train: 13] loss: 0.7091, time: 52.00 s            \n",
      "[Epoch Valid: 13] loss: 3.3757, auc: 0.4868, time: 6.00 s\n",
      "EPOCH: 14\n"
     ]
    },
    {
     "data": {
      "application/vnd.jupyter.widget-view+json": {
       "model_id": "73434ed640a14e6ca97774172fff6f30",
       "version_major": 2,
       "version_minor": 0
      },
      "text/plain": [
       "HBox(children=(FloatProgress(value=0.0, max=59.0), HTML(value='')))"
      ]
     },
     "metadata": {},
     "output_type": "display_data"
    },
    {
     "name": "stdout",
     "output_type": "stream",
     "text": [
      "Train Step 59/59, train_loss: 0.6958\n"
     ]
    },
    {
     "data": {
      "application/vnd.jupyter.widget-view+json": {
       "model_id": "e967b525635a4d59a65b8fb0b8be97da",
       "version_major": 2,
       "version_minor": 0
      },
      "text/plain": [
       "HBox(children=(FloatProgress(value=0.0, max=15.0), HTML(value='')))"
      ]
     },
     "metadata": {},
     "output_type": "display_data"
    },
    {
     "name": "stdout",
     "output_type": "stream",
     "text": [
      "outputs tensor(0.8204, device='cuda:0') tensor(2.4064, device='cuda:0')\n",
      "targets tensor(0.7450, device='cuda:0') tensor(0.4537, device='cuda:0')\n",
      "outputs tensor(0.2592, device='cuda:0') tensor(0.8289, device='cuda:0')\n",
      "targets tensor(0.2550, device='cuda:0') tensor(0.4537, device='cuda:0')\n",
      "outputs tensor(0.1209, device='cuda:0') tensor(0.2639, device='cuda:0')\n",
      "targets tensor(0.2550, device='cuda:0') tensor(0.4537, device='cuda:0')\n",
      "outputs tensor(1.7330, device='cuda:0') tensor(4.5575, device='cuda:0')\n",
      "targets tensor(0.6225, device='cuda:0') tensor(0.5072, device='cuda:0')\n",
      "outputs tensor(-0.0037, device='cuda:0') tensor(0.0667, device='cuda:0')\n",
      "targets tensor(0.7450, device='cuda:0') tensor(0.4537, device='cuda:0')\n",
      "outputs tensor(0.2829, device='cuda:0') tensor(0.7728, device='cuda:0')\n",
      "targets tensor(0.5000, device='cuda:0') tensor(0.5238, device='cuda:0')\n",
      "outputs tensor(0.0388, device='cuda:0') tensor(0.1113, device='cuda:0')\n",
      "targets tensor(0.5000, device='cuda:0') tensor(0.5238, device='cuda:0')\n",
      "outputs tensor(0.2187, device='cuda:0') tensor(0.4028, device='cuda:0')\n",
      "targets tensor(0.6225, device='cuda:0') tensor(0.5072, device='cuda:0')\n",
      "outputs tensor(0.3159, device='cuda:0') tensor(0.8626, device='cuda:0')\n",
      "targets tensor(0.2550, device='cuda:0') tensor(0.4537, device='cuda:0')\n",
      "outputs tensor(2.1144, device='cuda:0') tensor(2.9592, device='cuda:0')\n",
      "targets tensor(0.7450, device='cuda:0') tensor(0.4537, device='cuda:0')\n",
      "outputs tensor(1.3935, device='cuda:0') tensor(3.8585, device='cuda:0')\n",
      "targets tensor(0.6225, device='cuda:0') tensor(0.5072, device='cuda:0')\n",
      "outputs tensor(2.6727, device='cuda:0') tensor(3.8519, device='cuda:0')\n",
      "targets tensor(0.6225, device='cuda:0') tensor(0.5072, device='cuda:0')\n",
      "outputs tensor(0.2934, device='cuda:0') tensor(0.7255, device='cuda:0')\n",
      "targets tensor(0.6225, device='cuda:0') tensor(0.5072, device='cuda:0')\n",
      "outputs tensor(2.2852, device='cuda:0') tensor(4.1785, device='cuda:0')\n",
      "targets tensor(0.2550, device='cuda:0') tensor(0.4537, device='cuda:0')\n",
      "outputs tensor(0.1709, device='cuda:0') tensor(0.1939, device='cuda:0')\n",
      "targets tensor(0.4020, device='cuda:0') tensor(0.5368, device='cuda:0')\n",
      "Valid Step 15/15, valid_loss: 0.7224\n",
      "[Epoch Train: 14] loss: 0.6958, time: 51.00 s            \n",
      "[Epoch Valid: 14] loss: 0.7224, auc: 0.5805, time: 7.00 s\n",
      "EPOCH: 15\n"
     ]
    },
    {
     "data": {
      "application/vnd.jupyter.widget-view+json": {
       "model_id": "85a9617ad86f44c592921acd4174e1b9",
       "version_major": 2,
       "version_minor": 0
      },
      "text/plain": [
       "HBox(children=(FloatProgress(value=0.0, max=59.0), HTML(value='')))"
      ]
     },
     "metadata": {},
     "output_type": "display_data"
    },
    {
     "name": "stdout",
     "output_type": "stream",
     "text": [
      "Train Step 59/59, train_loss: 0.7006\n"
     ]
    },
    {
     "data": {
      "application/vnd.jupyter.widget-view+json": {
       "model_id": "8f2ea19b55df4e67bce42cffbf34a24d",
       "version_major": 2,
       "version_minor": 0
      },
      "text/plain": [
       "HBox(children=(FloatProgress(value=0.0, max=15.0), HTML(value='')))"
      ]
     },
     "metadata": {},
     "output_type": "display_data"
    },
    {
     "name": "stdout",
     "output_type": "stream",
     "text": [
      "outputs tensor(-0.4892, device='cuda:0') tensor(0.4532, device='cuda:0')\n",
      "targets tensor(0.7450, device='cuda:0') tensor(0.4537, device='cuda:0')\n",
      "outputs tensor(-0.5334, device='cuda:0') tensor(0.3379, device='cuda:0')\n",
      "targets tensor(0.2550, device='cuda:0') tensor(0.4537, device='cuda:0')\n",
      "outputs tensor(-0.5812, device='cuda:0') tensor(0.4717, device='cuda:0')\n",
      "targets tensor(0.2550, device='cuda:0') tensor(0.4537, device='cuda:0')\n",
      "outputs tensor(-0.8514, device='cuda:0') tensor(1.0527, device='cuda:0')\n",
      "targets tensor(0.6225, device='cuda:0') tensor(0.5072, device='cuda:0')\n",
      "outputs tensor(-0.5792, device='cuda:0') tensor(0.4876, device='cuda:0')\n",
      "targets tensor(0.7450, device='cuda:0') tensor(0.4537, device='cuda:0')\n",
      "outputs tensor(-0.6369, device='cuda:0') tensor(0.5380, device='cuda:0')\n",
      "targets tensor(0.5000, device='cuda:0') tensor(0.5238, device='cuda:0')\n",
      "outputs tensor(-0.8735, device='cuda:0') tensor(0.3697, device='cuda:0')\n",
      "targets tensor(0.5000, device='cuda:0') tensor(0.5238, device='cuda:0')\n",
      "outputs tensor(-0.4747, device='cuda:0') tensor(0.3435, device='cuda:0')\n",
      "targets tensor(0.6225, device='cuda:0') tensor(0.5072, device='cuda:0')\n",
      "outputs tensor(-0.5413, device='cuda:0') tensor(0.3656, device='cuda:0')\n",
      "targets tensor(0.2550, device='cuda:0') tensor(0.4537, device='cuda:0')\n",
      "outputs tensor(-0.7191, device='cuda:0') tensor(0.4211, device='cuda:0')\n",
      "targets tensor(0.7450, device='cuda:0') tensor(0.4537, device='cuda:0')\n",
      "outputs tensor(-0.8051, device='cuda:0') tensor(0.4750, device='cuda:0')\n",
      "targets tensor(0.6225, device='cuda:0') tensor(0.5072, device='cuda:0')\n",
      "outputs tensor(-0.6957, device='cuda:0') tensor(0.3848, device='cuda:0')\n",
      "targets tensor(0.6225, device='cuda:0') tensor(0.5072, device='cuda:0')\n",
      "outputs tensor(-0.6518, device='cuda:0') tensor(0.5357, device='cuda:0')\n",
      "targets tensor(0.6225, device='cuda:0') tensor(0.5072, device='cuda:0')\n",
      "outputs tensor(-1.1033, device='cuda:0') tensor(1.0444, device='cuda:0')\n",
      "targets tensor(0.2550, device='cuda:0') tensor(0.4537, device='cuda:0')\n",
      "outputs tensor(-0.2795, device='cuda:0') tensor(0.2373, device='cuda:0')\n",
      "targets tensor(0.4020, device='cuda:0') tensor(0.5368, device='cuda:0')\n",
      "Valid Step 15/15, valid_loss: 0.7694\n",
      "[Epoch Train: 15] loss: 0.7006, time: 52.00 s            \n",
      "[Epoch Valid: 15] loss: 0.7694, auc: 0.5755, time: 7.00 s\n",
      "\n",
      "['/home/RSNA_MICCAI_Brain_Tumor/models/FLAIR-e14-loss0.638-auc0.670.pth', '/home/RSNA_MICCAI_Brain_Tumor/models/T1w-e9-loss0.682-auc0.580.pth', '/home/RSNA_MICCAI_Brain_Tumor/models/T1wCE-e12-loss0.693-auc0.544.pth', '/home/RSNA_MICCAI_Brain_Tumor/models/T2w-e10-loss0.670-auc0.603.pth']\n"
     ]
    },
    {
     "data": {
      "image/png": "[encoded data removed]",
      "text/plain": [
       "<Figure size 432x288 with 1 Axes>"
      ]
     },
     "metadata": {
      "needs_background": "light"
     },
     "output_type": "display_data"
    }
   ],
   "source": [
    "modelfiles = None\n",
    "\n",
    "if not modelfiles:\n",
    "    modelfiles = [train_mri_type(df_train, df_valid, m) for m in mri_types]\n",
    "    print(modelfiles)"
   ]
  },
  {
   "cell_type": "markdown",
   "id": "05788d01-ab53-4443-a1f5-267130f622f2",
   "metadata": {},
   "source": [
    "## Predict Function"
   ]
  },
  {
   "cell_type": "code",
   "execution_count": 17,
   "id": "13ff8d67-0664-4d2d-b7d6-09c3416086b1",
   "metadata": {},
   "outputs": [],
   "source": [
    "def predict(modelfile, df, mri_type, split):\n",
    "    print(\"Predict:\", modelfile, mri_type, df.shape)\n",
    "    df.loc[:,\"MRI_Type\"] = mri_type\n",
    "    data_retriever = Dataset(\n",
    "        df.index.values, \n",
    "        mri_type=df[\"MRI_Type\"].values,\n",
    "        split=split\n",
    "    )\n",
    "\n",
    "    data_loader = torch_data.DataLoader(\n",
    "        data_retriever,\n",
    "        batch_size=cfg.batch_size,\n",
    "        shuffle=False,\n",
    "        num_workers=8,\n",
    "    )\n",
    "   \n",
    "    model = Model()\n",
    "    model.to(device)\n",
    "    \n",
    "    checkpoint = torch.load(modelfile)\n",
    "    model.load_state_dict(checkpoint[\"model_state_dict\"])\n",
    "    model.eval()\n",
    "    \n",
    "    y_pred = []\n",
    "    ids = []\n",
    "\n",
    "    for e, batch in enumerate(data_loader,1):\n",
    "        print(f\"{e}/{len(data_loader)}\", end=\"\\r\")\n",
    "        with torch.no_grad():\n",
    "            tmp_pred = torch.sigmoid(model(batch[\"X\"].to(device))).cpu().numpy().squeeze()\n",
    "            print('tmp_pred', tmp_pred)\n",
    "            if tmp_pred.size == 1:\n",
    "                y_pred.append(tmp_pred)\n",
    "            else:\n",
    "                y_pred.extend(tmp_pred.tolist())\n",
    "            ids.extend(batch[\"id\"].numpy().tolist())\n",
    "            \n",
    "    preddf = pd.DataFrame({\"BraTS21ID\": ids, \"MGMT_value\": y_pred}) \n",
    "    preddf = preddf.set_index(\"BraTS21ID\")\n",
    "    return preddf"
   ]
  },
  {
   "cell_type": "markdown",
   "id": "5e7d0f6a-db8a-4850-aed9-6703416c64df",
   "metadata": {},
   "source": [
    "## Ensemble for validation"
   ]
  },
  {
   "cell_type": "code",
   "execution_count": 18,
   "id": "233526bf-87ff-40b6-8c3f-a9bbcfeb3fd7",
   "metadata": {},
   "outputs": [],
   "source": [
    "df_valid = df_valid.set_index(\"BraTS21ID\")"
   ]
  },
  {
   "cell_type": "code",
   "execution_count": 19,
   "id": "b6116db7-eb98-410d-8f58-9afca0e5c6fe",
   "metadata": {},
   "outputs": [
    {
     "name": "stdout",
     "output_type": "stream",
     "text": [
      "Predict: /home/RSNA_MICCAI_Brain_Tumor/models/FLAIR-e14-loss0.638-auc0.670.pth FLAIR (117, 3)\n"
     ]
    },
    {
     "name": "stderr",
     "output_type": "stream",
     "text": [
      "/opt/conda/lib/python3.8/site-packages/torch/utils/data/dataloader.py:474: UserWarning: This DataLoader will create 8 worker processes in total. Our suggested max number of worker in current system is 7, which is smaller than what this DataLoader is going to create. Please be aware that excessive worker creation might get DataLoader running slow or even freeze, lower the worker number to avoid potential slowness/freeze if necessary.\n",
      "  warnings.warn(_create_warning_msg(\n"
     ]
    },
    {
     "name": "stdout",
     "output_type": "stream",
     "text": [
      "tmp_pred [0.554477  0.554561  0.5547362 0.5546686 0.554091  0.554692  0.5544265\n",
      " 0.5545764]\n",
      "tmp_pred [0.47592208 0.55475265 0.55475    0.54658717 0.5545879  0.40579545\n",
      " 0.5546623  0.5510703 ]\n",
      "tmp_pred [0.53972214 0.55474746 0.55475205 0.55475956 0.15789393 0.55454016\n",
      " 0.29584816 0.5451965 ]\n",
      "tmp_pred [0.5545817  0.46331918 0.5545116  0.5370919  0.47149155 0.5547599\n",
      " 0.5546732  0.55283874]\n",
      "tmp_pred [0.55447066 0.51843095 0.5545495  0.5547542  0.55410606 0.54630554\n",
      " 0.5546261  0.17127706]\n",
      "tmp_pred [0.34750184 0.55474764 0.42837578 0.54597193 0.5547402  0.55471885\n",
      " 0.22147214 0.55469626]\n",
      "tmp_pred [0.18168378 0.5547555  0.52261245 0.55476093 0.55161273 0.19454563\n",
      " 0.2621484  0.06273253]\n",
      "tmp_pred [0.53778666 0.55455005 0.5532791  0.5547235  0.55458015 0.55400133\n",
      " 0.55458874 0.17149678]\n",
      "tmp_pred [0.5546398  0.3980954  0.55467564 0.5547403  0.55474377 0.4807309\n",
      " 0.1103477  0.54890597]\n",
      "tmp_pred [0.5545605  0.5545552  0.54878235 0.55474573 0.55474883 0.5547568\n",
      " 0.5544417  0.5547494 ]\n",
      "tmp_pred [0.55475706 0.554727   0.5546378  0.29072565 0.5547622  0.5389067\n",
      " 0.5072276  0.54817086]\n",
      "tmp_pred [0.18242358 0.5547487  0.08047485 0.55474603 0.55472094 0.5547543\n",
      " 0.55473727 0.08520376]\n",
      "tmp_pred [0.5547053  0.5547362  0.55475384 0.0746032  0.5547556  0.54511845\n",
      " 0.1927133  0.36378706]\n",
      "tmp_pred [0.25629687 0.5547562  0.5378101  0.5546444  0.5547557  0.5507163\n",
      " 0.554745   0.5547511 ]\n",
      "tmp_pred [0.45025155 0.55431664 0.55470693 0.553664   0.5527976 ]\n",
      "Predict: /home/RSNA_MICCAI_Brain_Tumor/models/T1w-e9-loss0.682-auc0.580.pth T1w (117, 3)\n",
      "tmp_pred [0.49243462 0.49240392 0.49261785 0.4924316  0.49596    0.4923918\n",
      " 0.49571633 0.493364  ]\n",
      "tmp_pred [0.4924158  0.49240074 0.49262166 0.49238873 0.4924153  0.4925334\n",
      " 0.49243855 0.49239063]\n",
      "tmp_pred [0.4924708  0.492393   0.49238628 0.49240062 0.49249303 0.49585357\n",
      " 0.49239162 0.49244532]\n",
      "tmp_pred [0.4925836  0.75502306 0.49242422 0.49242023 0.71241206 0.49238548\n",
      " 0.49240792 0.49252424]\n",
      "tmp_pred [0.4924989  0.49239102 0.49244878 0.49241334 0.49241573 0.49253756\n",
      " 0.49243116 0.4923885 ]\n",
      "tmp_pred [0.49238873 0.492469   0.49241254 0.49240923 0.49253437 0.4923987\n",
      " 0.4923907  0.4924366 ]\n",
      "tmp_pred [0.4924019  0.49241593 0.49239987 0.49239126 0.49239063 0.4923982\n",
      " 0.492396   0.49239248]\n",
      "tmp_pred [0.49240762 0.49238652 0.49242723 0.49242318 0.4924856  0.4924153\n",
      " 0.49353004 0.49238977]\n",
      "tmp_pred [0.4924552  0.4925187  0.49242386 0.4924382  0.49238524 0.49239138\n",
      " 0.49238616 0.49245462]\n",
      "tmp_pred [0.4937184  0.49240145 0.4924198  0.49316567 0.49238515 0.49251443\n",
      " 0.7373533  0.49238965]\n",
      "tmp_pred [0.49238497 0.8263198  0.49241936 0.49242952 0.4923843  0.49239096\n",
      " 0.49239647 0.49240988]\n",
      "tmp_pred [0.4923947  0.49239346 0.49238503 0.9041656  0.49242964 0.4923843\n",
      " 0.49274123 0.49240005]\n",
      "tmp_pred [0.9900051  0.49245578 0.49240595 0.49241057 0.49240866 0.49239346\n",
      " 0.49239144 0.4923835 ]\n",
      "tmp_pred [0.4923968  0.49238804 0.49240583 0.49241    0.49240935 0.49241439\n",
      " 0.4923939  0.49243474]\n",
      "tmp_pred [0.49240687 0.49242485 0.492422   0.49246642 0.49240965]\n",
      "Predict: /home/RSNA_MICCAI_Brain_Tumor/models/T1wCE-e12-loss0.693-auc0.544.pth T1wCE (117, 3)\n",
      "tmp_pred [0.2793073  0.4745466  0.59339786 0.60089964 0.40744328 0.6039056\n",
      " 0.5816015  0.5552087 ]\n",
      "tmp_pred [0.6037934  0.6037247  0.3359526  0.60389006 0.528263   0.5875044\n",
      " 0.5686942  0.39954218]\n",
      "tmp_pred [0.40571567 0.60371447 0.6031488  0.6037782  0.3227621  0.5014657\n",
      " 0.60363066 0.43295076]\n",
      "tmp_pred [0.6026076  0.59305453 0.6028049  0.4357109  0.6011708  0.60386306\n",
      " 0.59747076 0.46318293]\n",
      "tmp_pred [0.58808017 0.4611217  0.60150635 0.56254697 0.33038265 0.17180799\n",
      " 0.6036422  0.60392416]\n",
      "tmp_pred [0.602481   0.6013967  0.44184726 0.3901211  0.52547187 0.59996074\n",
      " 0.6021739  0.5491817 ]\n",
      "tmp_pred [0.3761647  0.5367177  0.48023683 0.6037225  0.30180928 0.51267064\n",
      " 0.6038582  0.60382706]\n",
      "tmp_pred [0.25571576 0.6037687  0.5557426  0.6038096  0.5765541  0.25730723\n",
      " 0.6009564  0.60371995]\n",
      "tmp_pred [0.32621825 0.17402834 0.2783301  0.571293   0.60379934 0.6039036\n",
      " 0.6012434  0.4767028 ]\n",
      "tmp_pred [0.5853588  0.592684   0.28930613 0.60374004 0.6037244  0.6035506\n",
      " 0.5630806  0.5858387 ]\n",
      "tmp_pred [0.6037085  0.60371    0.5679146  0.40680227 0.44080815 0.60389626\n",
      " 0.53968287 0.40989357]\n",
      "tmp_pred [0.6029471  0.6037004  0.60372794 0.5424896  0.5905513  0.6036983\n",
      " 0.5981931  0.60372895]\n",
      "tmp_pred [0.27096272 0.6038318  0.5985376  0.60380584 0.60376143 0.6028524\n",
      " 0.6039538  0.54060715]\n",
      "tmp_pred [0.5895832  0.4245627  0.4467376  0.47348067 0.6033055  0.59555984\n",
      " 0.6037598  0.6028501 ]\n",
      "tmp_pred [0.49883673 0.60396105 0.54235256 0.29665032 0.3219029 ]\n",
      "Predict: /home/RSNA_MICCAI_Brain_Tumor/models/T2w-e10-loss0.670-auc0.603.pth T2w (117, 3)\n",
      "tmp_pred [0.5401923  0.5182113  0.53363836 0.5255851  0.5235141  0.50321776\n",
      " 0.52385265 0.52734023]\n",
      "tmp_pred [0.5320139  0.540103   0.53989446 0.5148879  0.5395952  0.530595\n",
      " 0.51825625 0.5125114 ]\n",
      "tmp_pred [0.509269   0.5216283  0.519005   0.51540816 0.5372274  0.53480256\n",
      " 0.4234709  0.3181769 ]\n",
      "tmp_pred [0.5346189  0.53060627 0.52778935 0.53257525 0.53741646 0.53157926\n",
      " 0.53987193 0.38463166]\n",
      "tmp_pred [0.5368228  0.51478386 0.53024435 0.5203159  0.49979213 0.5287491\n",
      " 0.5196037  0.3302789 ]\n",
      "tmp_pred [0.5318944  0.5202543  0.28427276 0.5300403  0.53851515 0.5240203\n",
      " 0.5223061  0.5342495 ]\n",
      "tmp_pred [0.4304231  0.5400172  0.34378707 0.5362939  0.5298224  0.39626852\n",
      " 0.3034749  0.4928089 ]\n",
      "tmp_pred [0.12206744 0.5286636  0.536159   0.51700395 0.5190761  0.52499056\n",
      " 0.5185832  0.51464474]\n",
      "tmp_pred [0.53431445 0.52751416 0.53807276 0.53223103 0.52388954 0.5145389\n",
      " 0.27024877 0.52465564]\n",
      "tmp_pred [0.52841985 0.5199211  0.52954835 0.5301121  0.5358183  0.5301485\n",
      " 0.5294612  0.3263478 ]\n",
      "tmp_pred [0.52055365 0.52029425 0.53303194 0.3258926  0.3197562  0.5129024\n",
      " 0.5081942  0.5331754 ]\n",
      "tmp_pred [0.3488262  0.3431578  0.49561247 0.5284784  0.48631293 0.5183538\n",
      " 0.5373611  0.53577197]\n",
      "tmp_pred [0.5343982  0.5200429  0.52959037 0.35713577 0.5376231  0.5173219\n",
      " 0.32447    0.5175525 ]\n",
      "tmp_pred [0.3657473  0.53522515 0.5293716  0.52493465 0.52827245 0.5303237\n",
      " 0.52807397 0.5185655 ]\n",
      "tmp_pred [0.51505727 0.52211267 0.520032   0.52892286 0.42225534]\n",
      "Validation ensemble AUC: 0.7439\n"
     ]
    },
    {
     "data": {
      "text/plain": [
       "<seaborn.axisgrid.FacetGrid at 0x7fbbf1748d60>"
      ]
     },
     "execution_count": 19,
     "metadata": {},
     "output_type": "execute_result"
    },
    {
     "data": {
      "image/png": "[encoded data removed]",
      "text/plain": [
       "<Figure size 360x360 with 1 Axes>"
      ]
     },
     "metadata": {
      "needs_background": "light"
     },
     "output_type": "display_data"
    }
   ],
   "source": [
    "df_valid[\"MGMT_pred\"] = 0\n",
    "for m, mtype in zip(modelfiles,  mri_types):\n",
    "    pred = predict(m, df_valid, mtype, \"train\")\n",
    "    df_valid[\"MGMT_pred\"] += pred[\"MGMT_value\"]\n",
    "df_valid[\"MGMT_pred\"] /= len(modelfiles)\n",
    "auc = roc_auc_score(df_valid[\"MGMT_value\"], df_valid[\"MGMT_pred\"])\n",
    "print(f\"Validation ensemble AUC: {auc:.4f}\")\n",
    "sns.displot(df_valid[\"MGMT_pred\"])"
   ]
  },
  {
   "cell_type": "markdown",
   "id": "46e297d0-7053-4020-a641-d12bed19f3c2",
   "metadata": {},
   "source": [
    "## Export to Kaggle"
   ]
  },
  {
   "cell_type": "code",
   "execution_count": 34,
   "id": "49bff872-f714-475e-8f53-5fa0fe7ec93d",
   "metadata": {},
   "outputs": [
    {
     "data": {
      "text/plain": [
       "'/home/RSNA_MICCAI_Brain_Tumor/models/efficientnet3d-0.zip'"
      ]
     },
     "execution_count": 34,
     "metadata": {},
     "output_type": "execute_result"
    }
   ],
   "source": [
    "import shutil\n",
    "\n",
    "if not Path(cfg.models_path/cfg.model_name).exists():\n",
    "    os.mkdir(cfg.models_path/cfg.model_name)\n",
    "for m in modelfiles:\n",
    "    shutil.copy(m, cfg.models_path/cfg.model_name)\n",
    "    \n",
    "shutil.make_archive(cfg.models_path/cfg.model_name, 'zip', cfg.models_path/cfg.model_name)"
   ]
  },
  {
   "cell_type": "code",
   "execution_count": 35,
   "id": "f42f2bd7-08f4-465f-91bf-fd9022607820",
   "metadata": {},
   "outputs": [
    {
     "name": "stdout",
     "output_type": "stream",
     "text": [
      "252M\t/home/RSNA_MICCAI_Brain_Tumor/models/efficientnet3d-0\n"
     ]
    }
   ],
   "source": [
    "!du -h {cfg.models_path/cfg.model_name}"
   ]
  },
  {
   "cell_type": "code",
   "execution_count": 37,
   "id": "a9a82981-4b50-4d8f-9293-d4be7e0496e4",
   "metadata": {},
   "outputs": [],
   "source": [
    "!rm -rf {cfg.models_path}/*.pth\n",
    "!rm -rf {cfg.models_path/cfg.model_name}/*.pth"
   ]
  },
  {
   "cell_type": "code",
   "execution_count": 38,
   "id": "13ec0334-cd15-4f25-b042-bc4c60330bd4",
   "metadata": {},
   "outputs": [],
   "source": [
    "!mv {cfg.models_path/cfg.model_name}.zip {cfg.models_path/cfg.model_name}"
   ]
  },
  {
   "cell_type": "code",
   "execution_count": 41,
   "id": "3b841211-646e-4e1e-bc9c-7a662821756b",
   "metadata": {},
   "outputs": [
    {
     "name": "stdout",
     "output_type": "stream",
     "text": [
      "Data package template written to: /home/RSNA_MICCAI_Brain_Tumor/models/efficientnet3d-0/dataset-metadata.json\n"
     ]
    }
   ],
   "source": [
    "!kaggle datasets init -p {cfg.models_path/cfg.model_name}"
   ]
  },
  {
   "cell_type": "code",
   "execution_count": 42,
   "id": "a7bda21d-cd62-4f78-ba42-5d1f1c7db7d2",
   "metadata": {},
   "outputs": [],
   "source": [
    "dataset_json_path = Path(cfg.models_path/cfg.model_name/'dataset-metadata.json')\n",
    "assert dataset_json_path.exists()"
   ]
  },
  {
   "cell_type": "code",
   "execution_count": 43,
   "id": "c2f55eea-99a6-4573-ae4f-dbae945d4073",
   "metadata": {},
   "outputs": [
    {
     "name": "stdout",
     "output_type": "stream",
     "text": [
      "{\n",
      "  \"title\": \"rsna-efficientnet3d-0\",\n",
      "  \"id\": \"gilfernandes/rsna-efficientnet3d-0\",\n",
      "  \"licenses\": [\n",
      "    {\n",
      "      \"name\": \"CC0-1.0\"\n",
      "    }\n",
      "  ]\n",
      "}\n"
     ]
    }
   ],
   "source": [
    "with open(dataset_json_path, 'r') as f:\n",
    "    dataset_json = f.read()\n",
    "    dataset_json = dataset_json.replace('INSERT_TITLE_HERE', f'rsna-{cfg.model_name}').replace('INSERT_SLUG_HERE', f'rsna-{cfg.model_name}')\n",
    "    print(dataset_json)\n",
    "with(open(dataset_json_path, 'w')) as f:\n",
    "    f.write(dataset_json)"
   ]
  },
  {
   "cell_type": "code",
   "execution_count": 44,
   "id": "6ff5db06-1a02-46b4-adde-e5de79ac43e8",
   "metadata": {},
   "outputs": [
    {
     "name": "stdout",
     "output_type": "stream",
     "text": [
      "Starting upload for file efficientnet3d-0.zip\n",
      "100%|████████████████████████████████████████| 217M/217M [00:26<00:00, 8.57MB/s]\n",
      "Upload successful: efficientnet3d-0.zip (217MB)\n",
      "Your private Dataset is being created. Please check progress at /api/v1/datasets/status//gilfernandes/rsna-efficientnet3d-0\n"
     ]
    }
   ],
   "source": [
    "!kaggle datasets create -p {cfg.models_path/cfg.model_name}"
   ]
  },
  {
   "cell_type": "code",
   "execution_count": null,
   "id": "6920eaa3-920e-4e22-9131-2818ea113d03",
   "metadata": {},
   "outputs": [],
   "source": []
  }
 ],
 "metadata": {
  "kernelspec": {
   "display_name": "Python 3",
   "language": "python",
   "name": "python3"
  },
  "language_info": {
   "codemirror_mode": {
    "name": "ipython",
    "version": 3
   },
   "file_extension": ".py",
   "mimetype": "text/x-python",
   "name": "python",
   "nbconvert_exporter": "python",
   "pygments_lexer": "ipython3",
   "version": "3.8.5"
  }
 },
 "nbformat": 4,
 "nbformat_minor": 5
}
