{
 "cells": [
  {
   "cell_type": "code",
   "execution_count": 2,
   "id": "68031610-6a2d-40a7-9a4d-2e2ac382d637",
   "metadata": {},
   "outputs": [],
   "source": [
    "import math, glob, random, os, time\n",
    "import pydicom\n",
    "import cv2\n",
    "from functools import partial\n",
    "from pathlib import Path\n",
    "\n",
    "import numpy as np\n",
    "import pandas as pd\n",
    "\n",
    "import torch\n",
    "import torch.nn as nn\n",
    "import torch.nn.functional as F\n",
    "from torch.utils import data as torch_data\n",
    "from sklearn import model_selection as sk_model_selection\n",
    "from tqdm.notebook import tqdm\n",
    "from sklearn.metrics import roc_auc_score\n",
    "import matplotlib.pyplot as plt"
   ]
  },
  {
   "cell_type": "markdown",
   "id": "0755d7a8-e06f-45e2-9e11-6519119446bc",
   "metadata": {},
   "source": [
    "### Config"
   ]
  },
  {
   "cell_type": "code",
   "execution_count": 3,
   "id": "20cee47e-558e-4899-bb60-5f60a8ea8c6b",
   "metadata": {},
   "outputs": [],
   "source": [
    "class Config():\n",
    "    device = torch.device(\"cuda\" if torch.cuda.is_available() else \"cpu\")\n",
    "    size = 256\n",
    "    num_images = 64\n",
    "    base_path = Path('/home/RSNA_MICCAI_Brain_Tumor/data')\n",
    "    assert base_path.exists(), f'{base_path} does not exist'\n",
    "    models_path = Path('/home/RSNA_MICCAI_Brain_Tumor/models')\n",
    "    assert models_path.exists()\n",
    "    seed = 42\n",
    "    test_size = 0.1\n",
    "    clahe=False\n",
    "    mri_types = ['FLAIR','T1w','T1wCE','T2w']\n",
    "    batch_size = 4\n",
    "    num_workers = 7\n",
    "    epochs = 18\n",
    "    extra_check_epochs = [14,15]\n",
    "    check_frequency = 4\n",
    "    \n",
    "cfg = Config()"
   ]
  },
  {
   "cell_type": "code",
   "execution_count": 4,
   "id": "bb8380aa-8190-48c9-9ea4-069c01095d73",
   "metadata": {},
   "outputs": [
    {
     "data": {
      "text/plain": [
       "device(type='cuda')"
      ]
     },
     "execution_count": 4,
     "metadata": {},
     "output_type": "execute_result"
    }
   ],
   "source": [
    "cfg.device"
   ]
  },
  {
   "cell_type": "markdown",
   "id": "9faf3adc-106a-4493-8c18-f63e74456f99",
   "metadata": {},
   "source": [
    "### Functions for loading images"
   ]
  },
  {
   "cell_type": "code",
   "execution_count": 5,
   "id": "14f2d79d-552d-4b7e-941b-bbb55a6898b6",
   "metadata": {},
   "outputs": [],
   "source": [
    "def load_dicom_image(path, img_size=cfg.size, clahe=False):\n",
    "    dicom = pydicom.read_file(path)\n",
    "    data = dicom.pixel_array\n",
    "    max_data = np.max(data)\n",
    "    min_data = np.min(data)\n",
    "    if min_data == max_data:\n",
    "        data = np.zeros((img_size,img_size))\n",
    "        return data\n",
    "    data = data - min_data\n",
    "    if max_data != 0:\n",
    "        data = data / (max_data - min_data) \n",
    "    \n",
    "    #data = (data * 255).astype(np.uint8)\n",
    "    data = cv2.resize(data, (img_size, img_size))\n",
    "    return data"
   ]
  },
  {
   "cell_type": "code",
   "execution_count": 6,
   "id": "e51e7b17-e406-41f7-8cb3-f7ab6462c2c8",
   "metadata": {},
   "outputs": [],
   "source": [
    "def load_dicom_images_3d(scan_id, num_imgs=cfg.num_images, img_size=cfg.size, mri_type=\"FLAIR\", split=\"train\", clahe=False):\n",
    "\n",
    "    files = sorted(glob.glob(f\"{cfg.base_path}/{split}/{scan_id}/{mri_type}/*.dcm\"))\n",
    "    assert len(files) > 0\n",
    "    \n",
    "    middle = len(files)//2\n",
    "    num_imgs2 = num_imgs//2\n",
    "    p1 = max(0, middle - num_imgs2)\n",
    "    p2 = min(len(files), middle + num_imgs2)\n",
    "    img3d = np.stack([load_dicom_image(f, clahe=False) for f in files[p1:p2]]).T \n",
    "    if img3d.shape[-1] < num_imgs:\n",
    "        n_zero = np.zeros((img_size, img_size, num_imgs - img3d.shape[-1]))\n",
    "        img3d = np.concatenate((img3d,  n_zero), axis = -1)\n",
    "    img3d = img3d[:,:,:]\n",
    "    # Transforms\n",
    "#     img3d = flip3D(brightness(img3d))\n",
    "#     if convert_vertical_flag:\n",
    "#         img3d_vert = convert_vertical(img3d, size=img3d.shape[0])\n",
    "#         img3d = np.concatenate([img3d, img3d_vert], axis=-1)\n",
    "    return np.expand_dims(img3d[:,:,:], 0)"
   ]
  },
  {
   "cell_type": "code",
   "execution_count": 7,
   "id": "a262bf03-fec2-42d4-8481-12895a17e5c4",
   "metadata": {},
   "outputs": [
    {
     "data": {
      "text/plain": [
       "(1, 256, 256, 64)"
      ]
     },
     "execution_count": 7,
     "metadata": {},
     "output_type": "execute_result"
    }
   ],
   "source": [
    "sample_image_0 = load_dicom_images_3d(\"00000\")\n",
    "sample_image_0.shape"
   ]
  },
  {
   "cell_type": "markdown",
   "id": "e8408819-4d52-43a4-841a-c79d5c370587",
   "metadata": {},
   "source": [
    "### Seeding"
   ]
  },
  {
   "cell_type": "code",
   "execution_count": 8,
   "id": "d9c9f9f7-35ad-4e11-b597-5f4eed0aa5dc",
   "metadata": {},
   "outputs": [],
   "source": [
    "def set_seed(seed):\n",
    "    random.seed(seed)\n",
    "    os.environ[\"PYTHONHASHSEED\"] = str(seed)\n",
    "    np.random.seed(seed)\n",
    "    torch.manual_seed(seed)\n",
    "    if torch.cuda.is_available():\n",
    "        torch.cuda.manual_seed_all(seed)\n",
    "        torch.backends.cudnn.deterministic = True\n",
    "\n",
    "set_seed(cfg.seed)"
   ]
  },
  {
   "cell_type": "markdown",
   "id": "38245804-c74d-4efe-be8f-bf06b8bfe550",
   "metadata": {},
   "source": [
    "### Tabular Data"
   ]
  },
  {
   "cell_type": "code",
   "execution_count": 9,
   "id": "7701e739-7246-4a42-a288-e38a89efd310",
   "metadata": {},
   "outputs": [
    {
     "data": {
      "text/html": [
       "<div>\n",
       "<style scoped>\n",
       "    .dataframe tbody tr th:only-of-type {\n",
       "        vertical-align: middle;\n",
       "    }\n",
       "\n",
       "    .dataframe tbody tr th {\n",
       "        vertical-align: top;\n",
       "    }\n",
       "\n",
       "    .dataframe thead th {\n",
       "        text-align: right;\n",
       "    }\n",
       "</style>\n",
       "<table border=\"1\" class=\"dataframe\">\n",
       "  <thead>\n",
       "    <tr style=\"text-align: right;\">\n",
       "      <th></th>\n",
       "      <th>BraTS21ID</th>\n",
       "      <th>MGMT_value</th>\n",
       "    </tr>\n",
       "  </thead>\n",
       "  <tbody>\n",
       "    <tr>\n",
       "      <th>0</th>\n",
       "      <td>0</td>\n",
       "      <td>1</td>\n",
       "    </tr>\n",
       "    <tr>\n",
       "      <th>1</th>\n",
       "      <td>2</td>\n",
       "      <td>1</td>\n",
       "    </tr>\n",
       "    <tr>\n",
       "      <th>2</th>\n",
       "      <td>3</td>\n",
       "      <td>0</td>\n",
       "    </tr>\n",
       "    <tr>\n",
       "      <th>3</th>\n",
       "      <td>5</td>\n",
       "      <td>1</td>\n",
       "    </tr>\n",
       "    <tr>\n",
       "      <th>4</th>\n",
       "      <td>6</td>\n",
       "      <td>1</td>\n",
       "    </tr>\n",
       "    <tr>\n",
       "      <th>...</th>\n",
       "      <td>...</td>\n",
       "      <td>...</td>\n",
       "    </tr>\n",
       "    <tr>\n",
       "      <th>580</th>\n",
       "      <td>1005</td>\n",
       "      <td>1</td>\n",
       "    </tr>\n",
       "    <tr>\n",
       "      <th>581</th>\n",
       "      <td>1007</td>\n",
       "      <td>1</td>\n",
       "    </tr>\n",
       "    <tr>\n",
       "      <th>582</th>\n",
       "      <td>1008</td>\n",
       "      <td>1</td>\n",
       "    </tr>\n",
       "    <tr>\n",
       "      <th>583</th>\n",
       "      <td>1009</td>\n",
       "      <td>0</td>\n",
       "    </tr>\n",
       "    <tr>\n",
       "      <th>584</th>\n",
       "      <td>1010</td>\n",
       "      <td>0</td>\n",
       "    </tr>\n",
       "  </tbody>\n",
       "</table>\n",
       "<p>585 rows × 2 columns</p>\n",
       "</div>"
      ],
      "text/plain": [
       "     BraTS21ID  MGMT_value\n",
       "0            0           1\n",
       "1            2           1\n",
       "2            3           0\n",
       "3            5           1\n",
       "4            6           1\n",
       "..         ...         ...\n",
       "580       1005           1\n",
       "581       1007           1\n",
       "582       1008           1\n",
       "583       1009           0\n",
       "584       1010           0\n",
       "\n",
       "[585 rows x 2 columns]"
      ]
     },
     "execution_count": 9,
     "metadata": {},
     "output_type": "execute_result"
    }
   ],
   "source": [
    "train_df = pd.read_csv(f\"{cfg.base_path}/train_labels.csv\")\n",
    "train_df"
   ]
  },
  {
   "cell_type": "code",
   "execution_count": 10,
   "id": "d557a01e-52f1-4764-9110-b08bab3df523",
   "metadata": {},
   "outputs": [
    {
     "data": {
      "text/html": [
       "<div>\n",
       "<style scoped>\n",
       "    .dataframe tbody tr th:only-of-type {\n",
       "        vertical-align: middle;\n",
       "    }\n",
       "\n",
       "    .dataframe tbody tr th {\n",
       "        vertical-align: top;\n",
       "    }\n",
       "\n",
       "    .dataframe thead th {\n",
       "        text-align: right;\n",
       "    }\n",
       "</style>\n",
       "<table border=\"1\" class=\"dataframe\">\n",
       "  <thead>\n",
       "    <tr style=\"text-align: right;\">\n",
       "      <th></th>\n",
       "      <th>BraTS21ID</th>\n",
       "      <th>MGMT_value</th>\n",
       "    </tr>\n",
       "  </thead>\n",
       "  <tbody>\n",
       "    <tr>\n",
       "      <th>0</th>\n",
       "      <td>0</td>\n",
       "      <td>1</td>\n",
       "    </tr>\n",
       "    <tr>\n",
       "      <th>1</th>\n",
       "      <td>2</td>\n",
       "      <td>1</td>\n",
       "    </tr>\n",
       "    <tr>\n",
       "      <th>2</th>\n",
       "      <td>3</td>\n",
       "      <td>0</td>\n",
       "    </tr>\n",
       "    <tr>\n",
       "      <th>3</th>\n",
       "      <td>5</td>\n",
       "      <td>1</td>\n",
       "    </tr>\n",
       "    <tr>\n",
       "      <th>4</th>\n",
       "      <td>6</td>\n",
       "      <td>1</td>\n",
       "    </tr>\n",
       "    <tr>\n",
       "      <th>...</th>\n",
       "      <td>...</td>\n",
       "      <td>...</td>\n",
       "    </tr>\n",
       "    <tr>\n",
       "      <th>580</th>\n",
       "      <td>1005</td>\n",
       "      <td>1</td>\n",
       "    </tr>\n",
       "    <tr>\n",
       "      <th>581</th>\n",
       "      <td>1007</td>\n",
       "      <td>1</td>\n",
       "    </tr>\n",
       "    <tr>\n",
       "      <th>582</th>\n",
       "      <td>1008</td>\n",
       "      <td>1</td>\n",
       "    </tr>\n",
       "    <tr>\n",
       "      <th>583</th>\n",
       "      <td>1009</td>\n",
       "      <td>0</td>\n",
       "    </tr>\n",
       "    <tr>\n",
       "      <th>584</th>\n",
       "      <td>1010</td>\n",
       "      <td>0</td>\n",
       "    </tr>\n",
       "  </tbody>\n",
       "</table>\n",
       "<p>582 rows × 2 columns</p>\n",
       "</div>"
      ],
      "text/plain": [
       "     BraTS21ID  MGMT_value\n",
       "0            0           1\n",
       "1            2           1\n",
       "2            3           0\n",
       "3            5           1\n",
       "4            6           1\n",
       "..         ...         ...\n",
       "580       1005           1\n",
       "581       1007           1\n",
       "582       1008           1\n",
       "583       1009           0\n",
       "584       1010           0\n",
       "\n",
       "[582 rows x 2 columns]"
      ]
     },
     "execution_count": 10,
     "metadata": {},
     "output_type": "execute_result"
    }
   ],
   "source": [
    "train_df = train_df.drop(train_df[train_df['BraTS21ID'].isin([109, 123, 709])].index)\n",
    "train_df"
   ]
  },
  {
   "cell_type": "markdown",
   "id": "7a956074-ba2c-4760-94da-27731099459b",
   "metadata": {},
   "source": [
    "### Train / Test Split"
   ]
  },
  {
   "cell_type": "code",
   "execution_count": 11,
   "id": "fd31f549-a539-48cb-a847-ace203f5c0ec",
   "metadata": {},
   "outputs": [],
   "source": [
    "df_train, df_valid = sk_model_selection.train_test_split(\n",
    "    train_df, \n",
    "    test_size=cfg.test_size, \n",
    "    random_state=42, \n",
    "    stratify=train_df[\"MGMT_value\"],\n",
    ")"
   ]
  },
  {
   "cell_type": "code",
   "execution_count": 12,
   "id": "8ade0aa2-c3a1-47d7-b356-07ffce681da6",
   "metadata": {},
   "outputs": [
    {
     "data": {
      "text/plain": [
       "0.11281070745697896"
      ]
     },
     "execution_count": 12,
     "metadata": {},
     "output_type": "execute_result"
    }
   ],
   "source": [
    "len(df_valid) / len(df_train)"
   ]
  },
  {
   "cell_type": "code",
   "execution_count": 13,
   "id": "1d7b8a87-1fe7-4c07-9dd4-91e7e2e92c34",
   "metadata": {},
   "outputs": [],
   "source": [
    "df_valid = df_valid.append(pd.DataFrame([{'BraTS21ID': 1, 'MGMT_value': 1}, {'BraTS21ID': 13, 'MGMT_value': 1}]))"
   ]
  },
  {
   "cell_type": "code",
   "execution_count": 14,
   "id": "b4310dea-01ba-41d7-bc47-9e34c99c7ffb",
   "metadata": {},
   "outputs": [
    {
     "data": {
      "text/plain": [
       "0.11663479923518165"
      ]
     },
     "execution_count": 14,
     "metadata": {},
     "output_type": "execute_result"
    }
   ],
   "source": [
    "len(df_valid) / len(df_train)"
   ]
  },
  {
   "cell_type": "markdown",
   "id": "6f8f60e3-d196-4ff8-ad8f-f5caf5a755fe",
   "metadata": {},
   "source": [
    "### Dataset"
   ]
  },
  {
   "cell_type": "code",
   "execution_count": 15,
   "id": "366241e8-0531-42eb-bfc6-d6f5d0faa832",
   "metadata": {},
   "outputs": [],
   "source": [
    "class Dataset(torch_data.Dataset):\n",
    "    def __init__(self, paths, targets=None, mri_type=None, label_smoothing=0.01, split=\"train\"):\n",
    "        self.paths = paths\n",
    "        self.targets = targets\n",
    "        self.mri_type = mri_type\n",
    "        self.label_smoothing = label_smoothing\n",
    "        self.split = split\n",
    "          \n",
    "    def __len__(self):\n",
    "        return len(self.paths)\n",
    "    \n",
    "    def __getitem__(self, index):\n",
    "        scan_id = self.paths[index]\n",
    "        if self.targets is None:\n",
    "            data = load_dicom_images_3d(str(scan_id).zfill(5), mri_type=self.mri_type[index], split=self.split, clahe=cfg.clahe)\n",
    "        else:\n",
    "            data = load_dicom_images_3d(str(scan_id).zfill(5), mri_type=self.mri_type[index], split=\"train\", clahe=cfg.clahe)\n",
    "\n",
    "        if self.targets is None:\n",
    "            return {\"X\": torch.tensor(data).float(), \"id\": scan_id}\n",
    "        else:\n",
    "            y = torch.tensor(abs(self.targets[index]-self.label_smoothing), dtype=torch.float)\n",
    "            return {\"X\": torch.tensor(data).float(), \"y\": y}\n"
   ]
  },
  {
   "cell_type": "code",
   "execution_count": 16,
   "id": "5c807a37-95f9-40a7-ad91-b2eec71f326a",
   "metadata": {},
   "outputs": [
    {
     "name": "stderr",
     "output_type": "stream",
     "text": [
      "/opt/conda/lib/python3.8/site-packages/pandas/core/indexing.py:1597: SettingWithCopyWarning: \n",
      "A value is trying to be set on a copy of a slice from a DataFrame.\n",
      "Try using .loc[row_indexer,col_indexer] = value instead\n",
      "\n",
      "See the caveats in the documentation: https://pandas.pydata.org/pandas-docs/stable/user_guide/indexing.html#returning-a-view-versus-a-copy\n",
      "  self.obj[key] = value\n",
      "/opt/conda/lib/python3.8/site-packages/pandas/core/indexing.py:1720: SettingWithCopyWarning: \n",
      "A value is trying to be set on a copy of a slice from a DataFrame.\n",
      "Try using .loc[row_indexer,col_indexer] = value instead\n",
      "\n",
      "See the caveats in the documentation: https://pandas.pydata.org/pandas-docs/stable/user_guide/indexing.html#returning-a-view-versus-a-copy\n",
      "  self._setitem_single_column(loc, value, pi)\n"
     ]
    }
   ],
   "source": [
    "df_train.loc[:,\"MRI_Type\"] = 'FLAIR'\n",
    "sample_ds = Dataset(df_train['BraTS21ID'], df_train['MGMT_value'], df_train['MRI_Type'])"
   ]
  },
  {
   "cell_type": "code",
   "execution_count": 17,
   "id": "b970f28c-d712-43e8-a2df-c88414f7e32d",
   "metadata": {},
   "outputs": [
    {
     "data": {
      "text/plain": [
       "torch.Size([1, 256, 256, 64])"
      ]
     },
     "execution_count": 17,
     "metadata": {},
     "output_type": "execute_result"
    }
   ],
   "source": [
    "sample_ds[0]['X'].shape"
   ]
  },
  {
   "cell_type": "markdown",
   "id": "e4fd55ab-41ed-496c-bcbf-e551e6ab1910",
   "metadata": {},
   "source": [
    "### Model"
   ]
  },
  {
   "cell_type": "code",
   "execution_count": 18,
   "id": "0d2eb2f2-f02b-4c3d-a3dd-3fe53a695abb",
   "metadata": {},
   "outputs": [],
   "source": [
    "def get_inplanes():\n",
    "    return [64, 128, 256, 512]\n",
    "\n",
    "def conv3x3x3(in_planes, out_planes, stride=1):\n",
    "    return nn.Conv3d(in_planes,\n",
    "                     out_planes,\n",
    "                     kernel_size=3,\n",
    "                     stride=stride,\n",
    "                     padding=1,\n",
    "                     bias=False)"
   ]
  },
  {
   "cell_type": "code",
   "execution_count": 19,
   "id": "9c57198f-0d07-4cd6-b81e-47ab485e0803",
   "metadata": {},
   "outputs": [],
   "source": [
    "def conv1x1x1(in_planes, out_planes, stride=1):\n",
    "    return nn.Conv3d(in_planes,\n",
    "                     out_planes,\n",
    "                     kernel_size=1,\n",
    "                     stride=stride,\n",
    "                     bias=False)\n",
    "\n",
    "\n",
    "class BasicBlock(nn.Module):\n",
    "    expansion = 1\n",
    "\n",
    "    def __init__(self, in_planes, planes, stride=1, downsample=None):\n",
    "        super().__init__()\n",
    "\n",
    "        self.conv1 = conv3x3x3(in_planes, planes, stride)\n",
    "        self.bn1 = nn.BatchNorm3d(planes)\n",
    "        self.relu = nn.ReLU(inplace=True)\n",
    "        self.conv2 = conv3x3x3(planes, planes)\n",
    "        self.bn2 = nn.BatchNorm3d(planes)\n",
    "        self.downsample = downsample\n",
    "        self.stride = stride\n",
    "\n",
    "    def forward(self, x):\n",
    "        residual = x\n",
    "\n",
    "        out = self.conv1(x)\n",
    "        out = self.bn1(out)\n",
    "        out = self.relu(out)\n",
    "\n",
    "        out = self.conv2(out)\n",
    "        out = self.bn2(out)\n",
    "\n",
    "        if self.downsample is not None:\n",
    "            residual = self.downsample(x)\n",
    "\n",
    "        out += residual\n",
    "        out = self.relu(out)\n",
    "\n",
    "        return out\n",
    "\n",
    "\n",
    "class Bottleneck(nn.Module):\n",
    "    expansion = 4\n",
    "\n",
    "    def __init__(self, in_planes, planes, stride=1, downsample=None):\n",
    "        super().__init__()\n",
    "\n",
    "        self.conv1 = conv1x1x1(in_planes, planes)\n",
    "        self.bn1 = nn.BatchNorm3d(planes)\n",
    "        self.conv2 = conv3x3x3(planes, planes, stride)\n",
    "        self.bn2 = nn.BatchNorm3d(planes)\n",
    "        self.conv3 = conv1x1x1(planes, planes * self.expansion)\n",
    "        self.bn3 = nn.BatchNorm3d(planes * self.expansion)\n",
    "        self.relu = nn.ReLU(inplace=True)\n",
    "        self.downsample = downsample\n",
    "        self.stride = stride\n",
    "\n",
    "    def forward(self, x):\n",
    "        residual = x\n",
    "\n",
    "        out = self.conv1(x)\n",
    "        out = self.bn1(out)\n",
    "        out = self.relu(out)\n",
    "\n",
    "        out = self.conv2(out)\n",
    "        out = self.bn2(out)\n",
    "        out = self.relu(out)\n",
    "\n",
    "        out = self.conv3(out)\n",
    "        out = self.bn3(out)\n",
    "\n",
    "        if self.downsample is not None:\n",
    "            residual = self.downsample(x)\n",
    "\n",
    "        out += residual\n",
    "        out = self.relu(out)\n",
    "\n",
    "        return out\n",
    "\n",
    "\n",
    "class ResNet(nn.Module):\n",
    "\n",
    "    def __init__(self,\n",
    "                 block,\n",
    "                 layers,\n",
    "                 block_inplanes,\n",
    "                 n_input_channels=3,\n",
    "                 conv1_t_size=7,\n",
    "                 conv1_t_stride=1,\n",
    "                 no_max_pool=False,\n",
    "                 shortcut_type='B',\n",
    "                 widen_factor=1.0,\n",
    "                 n_classes=400):\n",
    "        super().__init__()\n",
    "\n",
    "        block_inplanes = [int(x * widen_factor) for x in block_inplanes]\n",
    "\n",
    "        self.in_planes = block_inplanes[0]\n",
    "        self.no_max_pool = no_max_pool\n",
    "\n",
    "        self.conv1 = nn.Conv3d(n_input_channels,\n",
    "                               self.in_planes,\n",
    "                               kernel_size=(conv1_t_size, 7, 7),\n",
    "                               stride=(conv1_t_stride, 2, 2),\n",
    "                               padding=(conv1_t_size // 2, 3, 3),\n",
    "                               bias=False)\n",
    "        self.bn1 = nn.BatchNorm3d(self.in_planes)\n",
    "        self.relu = nn.ReLU(inplace=True)\n",
    "        self.maxpool = nn.MaxPool3d(kernel_size=3, stride=2, padding=1)\n",
    "        self.layer1 = self._make_layer(block, block_inplanes[0], layers[0],\n",
    "                                       shortcut_type)\n",
    "        self.layer2 = self._make_layer(block,\n",
    "                                       block_inplanes[1],\n",
    "                                       layers[1],\n",
    "                                       shortcut_type,\n",
    "                                       stride=2)\n",
    "        self.layer3 = self._make_layer(block,\n",
    "                                       block_inplanes[2],\n",
    "                                       layers[2],\n",
    "                                       shortcut_type,\n",
    "                                       stride=2)\n",
    "        self.layer4 = self._make_layer(block,\n",
    "                                       block_inplanes[3],\n",
    "                                       layers[3],\n",
    "                                       shortcut_type,\n",
    "                                       stride=2)\n",
    "\n",
    "        self.avgpool = nn.AdaptiveAvgPool3d((1, 1, 1))\n",
    "        self.fc = nn.Linear(block_inplanes[3] * block.expansion, n_classes)\n",
    "\n",
    "        for m in self.modules():\n",
    "            if isinstance(m, nn.Conv3d):\n",
    "                nn.init.kaiming_normal_(m.weight,\n",
    "                                        mode='fan_out',\n",
    "                                        nonlinearity='relu')\n",
    "            elif isinstance(m, nn.BatchNorm3d):\n",
    "                nn.init.constant_(m.weight, 1)\n",
    "                nn.init.constant_(m.bias, 0)\n",
    "\n",
    "    def _downsample_basic_block(self, x, planes, stride):\n",
    "        out = F.avg_pool3d(x, kernel_size=1, stride=stride)\n",
    "        zero_pads = torch.zeros(out.size(0), planes - out.size(1), out.size(2),\n",
    "                                out.size(3), out.size(4))\n",
    "        if isinstance(out.data, torch.cuda.FloatTensor):\n",
    "            zero_pads = zero_pads.cuda()\n",
    "\n",
    "        out = torch.cat([out.data, zero_pads], dim=1)\n",
    "\n",
    "        return out\n",
    "\n",
    "    def _make_layer(self, block, planes, blocks, shortcut_type, stride=1):\n",
    "        downsample = None\n",
    "        if stride != 1 or self.in_planes != planes * block.expansion:\n",
    "            if shortcut_type == 'A':\n",
    "                downsample = partial(self._downsample_basic_block,\n",
    "                                     planes=planes * block.expansion,\n",
    "                                     stride=stride)\n",
    "            else:\n",
    "                downsample = nn.Sequential(\n",
    "                    conv1x1x1(self.in_planes, planes * block.expansion, stride),\n",
    "                    nn.BatchNorm3d(planes * block.expansion))\n",
    "\n",
    "        layers = []\n",
    "        layers.append(\n",
    "            block(in_planes=self.in_planes,\n",
    "                  planes=planes,\n",
    "                  stride=stride,\n",
    "                  downsample=downsample))\n",
    "        self.in_planes = planes * block.expansion\n",
    "        for i in range(1, blocks):\n",
    "            layers.append(block(self.in_planes, planes))\n",
    "\n",
    "        return nn.Sequential(*layers)\n",
    "\n",
    "    def forward(self, x):\n",
    "        x = self.conv1(x)\n",
    "        x = self.bn1(x)\n",
    "        x = self.relu(x)\n",
    "        if not self.no_max_pool:\n",
    "            x = self.maxpool(x)\n",
    "\n",
    "        x = self.layer1(x)\n",
    "        x = self.layer2(x)\n",
    "        x = self.layer3(x)\n",
    "        x = self.layer4(x)\n",
    "\n",
    "        x = self.avgpool(x)\n",
    "\n",
    "        x = x.view(x.size(0), -1)\n",
    "        x = self.fc(x)\n",
    "\n",
    "        return x\n",
    "\n",
    "\n",
    "def generate_model(model_depth, **kwargs):\n",
    "    assert model_depth in [10, 18, 34, 50, 101, 152, 200]\n",
    "\n",
    "    if model_depth == 10:\n",
    "        model = ResNet(BasicBlock, [1, 1, 1, 1], get_inplanes(), **kwargs)\n",
    "    elif model_depth == 18:\n",
    "        model = ResNet(BasicBlock, [2, 2, 2, 2], get_inplanes(), **kwargs)\n",
    "    elif model_depth == 34:\n",
    "        model = ResNet(BasicBlock, [3, 4, 6, 3], get_inplanes(), **kwargs)\n",
    "    elif model_depth == 50:\n",
    "        model = ResNet(Bottleneck, [3, 4, 6, 3], get_inplanes(), **kwargs)\n",
    "    elif model_depth == 101:\n",
    "        model = ResNet(Bottleneck, [3, 4, 23, 3], get_inplanes(), **kwargs)\n",
    "    elif model_depth == 152:\n",
    "        model = ResNet(Bottleneck, [3, 8, 36, 3], get_inplanes(), **kwargs)\n",
    "    elif model_depth == 200:\n",
    "        model = ResNet(Bottleneck, [3, 24, 36, 3], get_inplanes(), **kwargs)\n",
    "\n",
    "    return model"
   ]
  },
  {
   "cell_type": "code",
   "execution_count": 20,
   "id": "0fc8ef9e-fb5c-4dde-bc4f-8a93412ba132",
   "metadata": {},
   "outputs": [],
   "source": [
    "class AttentionHead(nn.Module):\n",
    "    \n",
    "    def __init__(self, in_features, hidden_dim, num_targets):\n",
    "        super().__init__()\n",
    "        self.in_features = in_features\n",
    "        \n",
    "        self.hidden_layer = nn.Linear(in_features, hidden_dim)\n",
    "        self.final_layer = nn.Linear(hidden_dim, num_targets)\n",
    "        self.out_features = hidden_dim\n",
    "        \n",
    "    def forward(self, features):\n",
    "        att = torch.tanh(self.hidden_layer(features))\n",
    "        score = self.final_layer(att)\n",
    "        attention_weights = torch.softmax(score, dim=1)\n",
    "        context_vector = torch.mean(attention_weights * features, dim=1) \n",
    "        return context_vector.unsqueeze(1)"
   ]
  },
  {
   "cell_type": "code",
   "execution_count": 21,
   "id": "4910f1f7-f628-4cd7-a14b-51e11c822e16",
   "metadata": {},
   "outputs": [],
   "source": [
    "def create_model():\n",
    "    model = generate_model(34, n_input_channels=1, n_classes=1)\n",
    "    return model.to(cfg.device)"
   ]
  },
  {
   "cell_type": "code",
   "execution_count": 22,
   "id": "8733df41-11a6-4027-bb9d-2254044685ff",
   "metadata": {},
   "outputs": [],
   "source": [
    "resnet = create_model()"
   ]
  },
  {
   "cell_type": "code",
   "execution_count": 23,
   "id": "a447bfc4-3556-43d2-84a3-aeb1488017aa",
   "metadata": {},
   "outputs": [],
   "source": [
    "# sample_data = torch.randn([8, 1, 64, 256, 256]).to(cfg.device)\n",
    "resnet(sample_data)"
   ]
  },
  {
   "cell_type": "code",
   "execution_count": 25,
   "id": "07a97c08-5987-44d1-8476-c5fb56a6514d",
   "metadata": {},
   "outputs": [],
   "source": [
    "del sample_data\n",
    "import gc\n",
    "gc.collect()\n",
    "torch.cuda.empty_cache()"
   ]
  },
  {
   "cell_type": "markdown",
   "id": "0008065b-02a6-4e85-859c-585e153fe0ef",
   "metadata": {},
   "source": [
    "### Trainer"
   ]
  },
  {
   "cell_type": "code",
   "execution_count": 28,
   "id": "0e927c98-58e9-4c24-b16b-b029730808aa",
   "metadata": {},
   "outputs": [],
   "source": [
    "class Trainer:\n",
    "    def __init__(\n",
    "        self, \n",
    "        model, \n",
    "        device, \n",
    "        optimizer, \n",
    "        criterion\n",
    "    ):\n",
    "        self.model = model\n",
    "        self.device = device\n",
    "        self.optimizer = optimizer\n",
    "        self.criterion = criterion\n",
    "\n",
    "        self.best_valid_score = np.inf\n",
    "        self.n_patience = 0\n",
    "        self.lastmodel = None\n",
    "        \n",
    "    def fit(self, epochs, train_loader, valid_loader, save_path, patience):  \n",
    "        tbar = tqdm(range(1, epochs + 1), total=epochs)\n",
    "#         self.lr_sched = torch.optim.lr_scheduler.CosineAnnealingWarmRestarts(self.optimizer, T_0=int(len(train_loader) / 2), T_mult=1, eta_min=0.0001, last_epoch=-1)\n",
    "        self.lr_sched = torch.optim.lr_scheduler.OneCycleLR(self.optimizer, max_lr=1e-3, steps_per_epoch=len(train_loader), epochs=epochs)\n",
    "        self.lrs = []\n",
    "        \n",
    "        for n_epoch in tbar:\n",
    "            \n",
    "            self.info_message(\"EPOCH: {}\", n_epoch)\n",
    "            tbar.set_description(f'EPOCH: {n_epoch}')\n",
    "            \n",
    "            train_loss, train_time = self.train_epoch(train_loader, valid_loader, n_epoch, save_path)\n",
    "            valid_loss, valid_auc, valid_time = self.valid_epoch(valid_loader)\n",
    "            \n",
    "            self.info_message(\n",
    "                \"[Epoch Train: {}] loss: {:.4f}, time: {:.2f} s            \",\n",
    "                n_epoch, train_loss, train_time\n",
    "            )\n",
    "            \n",
    "            self.print_valid_message(valid_loss, valid_auc, valid_time, n_epoch)\n",
    "            \n",
    "            self.check_and_save(valid_loss, valid_auc, valid_time, n_epoch, save_path)\n",
    "            \n",
    "            if self.n_patience >= patience:\n",
    "                self.info_message(\"\\nValid auc didn't improve last {} epochs.\", patience)\n",
    "                break\n",
    "        plt.plot(self.lrs)\n",
    "        \n",
    "    def check_and_save(self, valid_loss, valid_auc, valid_time, n_epoch, save_path):\n",
    "        # if True:\n",
    "        # if self.best_valid_score < valid_auc: \n",
    "        if self.best_valid_score > valid_loss and valid_auc > 0.5: \n",
    "            self.save_model(n_epoch, save_path, valid_loss, valid_auc)\n",
    "            self.info_message(\n",
    "                 \"auc improved from {:.4f} to {:.4f}. Saved model to '{}'\", \n",
    "                self.best_valid_score, valid_loss, self.lastmodel\n",
    "            )\n",
    "            self.best_valid_score = valid_loss\n",
    "            self.n_patience = 0\n",
    "        else:\n",
    "            self.n_patience += 1\n",
    "            \n",
    "    def print_valid_message(self, valid_loss, valid_auc, valid_time, n_epoch):\n",
    "        self.info_message(\n",
    "            \"[Epoch Valid: {}] loss: {:.4f}, auc: {:.4f}, time: {:.2f} s\",\n",
    "            n_epoch, valid_loss, valid_auc, valid_time\n",
    "        )\n",
    "            \n",
    "    def train_epoch(self, train_loader, valid_loader, n_epoch, save_path):\n",
    "        self.model.train()\n",
    "        t = time.time()\n",
    "        sum_loss = 0\n",
    "\n",
    "        tbar = tqdm(enumerate(train_loader, 1), total=len(train_loader))\n",
    "        \n",
    "        scaler = torch.cuda.amp.GradScaler() # fp16\n",
    "        for step, batch in tbar:\n",
    "            X = batch[\"X\"].to(self.device)\n",
    "            targets = batch[\"y\"].to(self.device)\n",
    "            self.optimizer.zero_grad()\n",
    "            with torch.cuda.amp.autocast():\n",
    "                outputs = self.model(X).squeeze(1)\n",
    "                loss = self.criterion(outputs, targets)\n",
    "                \n",
    "#             loss.backward()\n",
    "            scaler.scale(loss).backward()\n",
    "            scaler.step(self.optimizer)\n",
    "            scaler.update()\n",
    "\n",
    "            sum_loss += loss.detach().item()\n",
    "#             torch.nn.utils.clip_grad_norm_(self.model.parameters(), 1.0)\n",
    "#             self.optimizer.step()\n",
    "            self.lr_sched.step()\n",
    "            current_lr = self.optimizer.param_groups[0][\"lr\"]\n",
    "            self.lrs.append(\n",
    "                current_lr\n",
    "            )\n",
    "            \n",
    "            message = 'Train Step {}/{}, train_loss: {:.4f}'\n",
    "            self.info_message(message, step, len(train_loader), sum_loss/step, end=\"\\r\")\n",
    "            \n",
    "            if n_epoch in cfg.extra_check_epochs:\n",
    "                if step % cfg.check_frequency == 0:\n",
    "                    valid_loss, valid_auc, valid_time = self.valid_epoch(valid_loader)\n",
    "                    self.check_and_save(valid_loss, valid_auc, valid_time, n_epoch, save_path)\n",
    "                    self.print_valid_message(valid_loss, valid_auc, valid_time, n_epoch)\n",
    "            \n",
    "        \n",
    "        return sum_loss/len(train_loader), int(time.time() - t)\n",
    "    \n",
    "    def valid_epoch(self, valid_loader):\n",
    "        self.model.eval()\n",
    "        t = time.time()\n",
    "        sum_loss = 0\n",
    "        y_all = []\n",
    "        outputs_all = []\n",
    "\n",
    "        tbar = tqdm(enumerate(valid_loader, 1), total=len(valid_loader))\n",
    "        for step, batch in tbar:\n",
    "            with torch.no_grad():\n",
    "                X = batch[\"X\"].to(self.device)\n",
    "                targets = batch[\"y\"].to(self.device)\n",
    "\n",
    "                outputs = torch.sigmoid(self.model(X).squeeze(1))\n",
    "                loss = self.criterion(outputs, targets)\n",
    "                print('outputs', outputs.mean().item(), outputs.std().item())\n",
    "                print('targets', targets.mean().item(), targets.std().item())\n",
    "                \n",
    "                sum_loss += loss.detach().item()\n",
    "                y_all.extend(batch[\"y\"].tolist())\n",
    "                outputs_all.extend(outputs.tolist())\n",
    "\n",
    "            message = 'Valid Step {}/{}, valid_loss: {:.4f}'\n",
    "            self.info_message(message, step, len(valid_loader), sum_loss/step, end=\"\\r\")\n",
    "            \n",
    "        y_all = [1 if x > 0.5 else 0 for x in y_all]\n",
    "        auc = roc_auc_score(y_all, outputs_all)\n",
    "        \n",
    "        return sum_loss/len(valid_loader), auc, int(time.time() - t)\n",
    "    \n",
    "    def save_model(self, n_epoch, save_path, loss, auc):\n",
    "        self.lastmodel = str(cfg.models_path/f\"{save_path}-e{n_epoch}-loss{loss:.3f}-auc{auc:.3f}.pth\")\n",
    "        torch.save(\n",
    "            {\n",
    "                \"model_state_dict\": self.model.state_dict(),\n",
    "                \"optimizer_state_dict\": self.optimizer.state_dict(),\n",
    "                \"best_valid_score\": self.best_valid_score,\n",
    "                \"n_epoch\": n_epoch,\n",
    "            },\n",
    "            self.lastmodel,\n",
    "        )\n",
    "    \n",
    "    @staticmethod\n",
    "    def info_message(message, *args, end=\"\\n\"):\n",
    "        print(message.format(*args), end=end)"
   ]
  },
  {
   "cell_type": "code",
   "execution_count": 29,
   "id": "d09f1015-467e-422e-b2f3-0a3930286a52",
   "metadata": {},
   "outputs": [],
   "source": [
    "def loss_func(input, target):\n",
    "#     return F.binary_cross_entropy_with_logits(input, target) * 0.5 + F.mse_loss(input, target) * 0.5\n",
    "#     return F.binary_cross_entropy_with_logits(input, target) * 0.2 + dice_loss(input, target) * 0.8\n",
    "    return F.binary_cross_entropy_with_logits(input, target)"
   ]
  },
  {
   "cell_type": "code",
   "execution_count": 30,
   "id": "3eaf90a3-36ed-41bc-9bfa-9e59914bb51a",
   "metadata": {},
   "outputs": [],
   "source": [
    "def train_mri_type(df_train, df_valid, mri_type):\n",
    "    if mri_type==\"all\":\n",
    "        train_list = []\n",
    "        valid_list = []\n",
    "        for mri_type in mri_types:\n",
    "            df_train.loc[:,\"MRI_Type\"] = mri_type\n",
    "            train_list.append(df_train.copy())\n",
    "            df_valid.loc[:,\"MRI_Type\"] = mri_type\n",
    "            valid_list.append(df_valid.copy())\n",
    "\n",
    "        df_train = pd.concat(train_list)\n",
    "        df_valid = pd.concat(valid_list)\n",
    "    else:\n",
    "        df_train.loc[:,\"MRI_Type\"] = mri_type\n",
    "        df_valid.loc[:,\"MRI_Type\"] = mri_type\n",
    "\n",
    "    print(df_train.shape, df_valid.shape)\n",
    "    display(df_train.head())\n",
    "    \n",
    "    train_data_retriever = Dataset(\n",
    "        df_train[\"BraTS21ID\"].values, \n",
    "        df_train[\"MGMT_value\"].values, \n",
    "        df_train[\"MRI_Type\"].values\n",
    "    )\n",
    "\n",
    "    valid_data_retriever = Dataset(\n",
    "        df_valid[\"BraTS21ID\"].values, \n",
    "        df_valid[\"MGMT_value\"].values,\n",
    "        df_valid[\"MRI_Type\"].values\n",
    "    )\n",
    "\n",
    "    train_loader = torch_data.DataLoader(\n",
    "        train_data_retriever,\n",
    "        batch_size=cfg.batch_size,\n",
    "        shuffle=True,\n",
    "        num_workers=cfg.num_workers,\n",
    "    )\n",
    "\n",
    "    valid_loader = torch_data.DataLoader(\n",
    "        valid_data_retriever, \n",
    "        batch_size=cfg.batch_size,\n",
    "        shuffle=False,\n",
    "        num_workers=cfg.num_workers,\n",
    "    )\n",
    "\n",
    "    model = create_model()\n",
    "\n",
    "    #checkpoint = torch.load(\"best-model-all-auc0.555.pth\")\n",
    "    #model.load_state_dict(checkpoint[\"model_state_dict\"])\n",
    "\n",
    "    #print(model)\n",
    "\n",
    "    optimizer = torch.optim.Adam(model.parameters(), lr=0.001)\n",
    "    #optimizer = torch.optim.SGD(model.parameters(), lr=0.001, momentum=0.9)\n",
    "\n",
    "    criterion = loss_func\n",
    "\n",
    "    trainer = Trainer(\n",
    "        model, \n",
    "        cfg.device, \n",
    "        optimizer, \n",
    "        criterion\n",
    "    )\n",
    "\n",
    "    history = trainer.fit(\n",
    "        cfg.epochs, \n",
    "        train_loader, \n",
    "        valid_loader, \n",
    "        f\"{mri_type}\", \n",
    "        cfg.epochs + 100,\n",
    "    )\n",
    "    \n",
    "    return trainer.lastmodel"
   ]
  },
  {
   "cell_type": "code",
   "execution_count": 31,
   "id": "089771ea-d968-4959-a870-3d3025fe6ac8",
   "metadata": {},
   "outputs": [],
   "source": [
    "!rm -rf {str(cfg.models_path)}/*.pth"
   ]
  },
  {
   "cell_type": "code",
   "execution_count": 32,
   "id": "ca72818e-1672-49c0-8e3f-9f0e68332685",
   "metadata": {},
   "outputs": [
    {
     "name": "stdout",
     "output_type": "stream",
     "text": [
      "(523, 3) (61, 3)\n"
     ]
    },
    {
     "data": {
      "text/html": [
       "<div>\n",
       "<style scoped>\n",
       "    .dataframe tbody tr th:only-of-type {\n",
       "        vertical-align: middle;\n",
       "    }\n",
       "\n",
       "    .dataframe tbody tr th {\n",
       "        vertical-align: top;\n",
       "    }\n",
       "\n",
       "    .dataframe thead th {\n",
       "        text-align: right;\n",
       "    }\n",
       "</style>\n",
       "<table border=\"1\" class=\"dataframe\">\n",
       "  <thead>\n",
       "    <tr style=\"text-align: right;\">\n",
       "      <th></th>\n",
       "      <th>BraTS21ID</th>\n",
       "      <th>MGMT_value</th>\n",
       "      <th>MRI_Type</th>\n",
       "    </tr>\n",
       "  </thead>\n",
       "  <tbody>\n",
       "    <tr>\n",
       "      <th>549</th>\n",
       "      <td>803</td>\n",
       "      <td>0</td>\n",
       "      <td>FLAIR</td>\n",
       "    </tr>\n",
       "    <tr>\n",
       "      <th>353</th>\n",
       "      <td>520</td>\n",
       "      <td>1</td>\n",
       "      <td>FLAIR</td>\n",
       "    </tr>\n",
       "    <tr>\n",
       "      <th>272</th>\n",
       "      <td>399</td>\n",
       "      <td>0</td>\n",
       "      <td>FLAIR</td>\n",
       "    </tr>\n",
       "    <tr>\n",
       "      <th>137</th>\n",
       "      <td>206</td>\n",
       "      <td>0</td>\n",
       "      <td>FLAIR</td>\n",
       "    </tr>\n",
       "    <tr>\n",
       "      <th>292</th>\n",
       "      <td>423</td>\n",
       "      <td>0</td>\n",
       "      <td>FLAIR</td>\n",
       "    </tr>\n",
       "  </tbody>\n",
       "</table>\n",
       "</div>"
      ],
      "text/plain": [
       "     BraTS21ID  MGMT_value MRI_Type\n",
       "549        803           0    FLAIR\n",
       "353        520           1    FLAIR\n",
       "272        399           0    FLAIR\n",
       "137        206           0    FLAIR\n",
       "292        423           0    FLAIR"
      ]
     },
     "metadata": {},
     "output_type": "display_data"
    },
    {
     "data": {
      "application/vnd.jupyter.widget-view+json": {
       "model_id": "cdce974ddd18417388f4b71a02344022",
       "version_major": 2,
       "version_minor": 0
      },
      "text/plain": [
       "HBox(children=(FloatProgress(value=0.0, max=18.0), HTML(value='')))"
      ]
     },
     "metadata": {},
     "output_type": "display_data"
    },
    {
     "name": "stdout",
     "output_type": "stream",
     "text": [
      "EPOCH: 1\n"
     ]
    },
    {
     "data": {
      "application/vnd.jupyter.widget-view+json": {
       "model_id": "6aae0e014be443f8bdee48e760a611b1",
       "version_major": 2,
       "version_minor": 0
      },
      "text/plain": [
       "HBox(children=(FloatProgress(value=0.0, max=131.0), HTML(value='')))"
      ]
     },
     "metadata": {},
     "output_type": "display_data"
    },
    {
     "name": "stdout",
     "output_type": "stream",
     "text": [
      "Train Step 131/131, train_loss: 0.7111\n"
     ]
    },
    {
     "data": {
      "application/vnd.jupyter.widget-view+json": {
       "model_id": "ffcde8e92e414c71ac78a0b602c90d2b",
       "version_major": 2,
       "version_minor": 0
      },
      "text/plain": [
       "HBox(children=(FloatProgress(value=0.0, max=16.0), HTML(value='')))"
      ]
     },
     "metadata": {},
     "output_type": "display_data"
    },
    {
     "name": "stdout",
     "output_type": "stream",
     "text": [
      "outputs 0.5619516968727112 0.00421748124063015\n",
      "targets 0.5 0.5658032894134521\n",
      "outputs 0.5593413710594177 0.0005276636802591383\n",
      "targets 0.5 0.5658032894134521\n",
      "outputs 0.6018283367156982 0.05345012992620468\n",
      "targets 0.7450000047683716 0.49000000953674316\n",
      "outputs 0.5599985718727112 0.0003556534938979894\n",
      "targets 0.5 0.5658032894134521\n",
      "outputs 0.559741199016571 0.0009763562120497227\n",
      "targets 0.7450000047683716 0.49000000953674316\n",
      "outputs 0.5599250793457031 0.0001746349298628047\n",
      "targets 0.2549999952316284 0.49000000953674316\n",
      "outputs 0.560142993927002 0.0007714470848441124\n",
      "targets 0.5 0.5658032894134521\n",
      "outputs 0.559507429599762 0.0007505397079512477\n",
      "targets 0.7450000047683716 0.49000000953674316\n",
      "outputs 0.5598040819168091 0.0010167293949052691\n",
      "targets 0.5 0.5658032894134521\n",
      "outputs 0.5596222877502441 0.0001441489439457655\n",
      "targets 0.2549999952316284 0.49000000953674316\n",
      "outputs 0.5982738733291626 0.0776875913143158\n",
      "targets 0.2549999952316284 0.49000000953674316\n",
      "outputs 0.5596616268157959 0.0007032636203803122\n",
      "targets 0.5 0.5658032894134521\n",
      "outputs 0.559661865234375 0.0003803716681431979\n",
      "targets 0.5 0.5658032894134521\n",
      "outputs 0.5597736835479736 0.0007266291650012136\n",
      "targets 0.7450000047683716 0.49000000953674316\n",
      "outputs 0.5603235960006714 0.0009259202633984387\n",
      "targets 0.7450000047683716 0.49000000953674316\n",
      "outputs 0.6560671329498291 nan0.7143\n",
      "targets 0.9900000095367432 nan\n",
      "Valid Step 16/16, valid_loss: 0.6962\n",
      "[Epoch Train: 1] loss: 0.7111, time: 37.00 s            \n",
      "[Epoch Valid: 1] loss: 0.6962, auc: 0.4491, time: 5.00 s\n",
      "EPOCH: 2\n"
     ]
    },
    {
     "data": {
      "application/vnd.jupyter.widget-view+json": {
       "model_id": "4a224f266781453f8e3424ee646c1881",
       "version_major": 2,
       "version_minor": 0
      },
      "text/plain": [
       "HBox(children=(FloatProgress(value=0.0, max=131.0), HTML(value='')))"
      ]
     },
     "metadata": {},
     "output_type": "display_data"
    },
    {
     "name": "stdout",
     "output_type": "stream",
     "text": [
      "Train Step 131/131, train_loss: 0.7003\n"
     ]
    },
    {
     "data": {
      "application/vnd.jupyter.widget-view+json": {
       "model_id": "50b52e408f1c4d3a9f75663c13fbd234",
       "version_major": 2,
       "version_minor": 0
      },
      "text/plain": [
       "HBox(children=(FloatProgress(value=0.0, max=16.0), HTML(value='')))"
      ]
     },
     "metadata": {},
     "output_type": "display_data"
    },
    {
     "name": "stdout",
     "output_type": "stream",
     "text": [
      "outputs 0.9810956716537476 0.03382173553109169\n",
      "targets 0.5 0.5658032894134521\n",
      "outputs 0.9611643552780151 0.033620547503232956\n",
      "targets 0.5 0.5658032894134521\n",
      "outputs 0.9726222157478333 0.0518275648355484\n",
      "targets 0.7450000047683716 0.49000000953674316\n",
      "outputs 0.9617067575454712 0.04799306020140648\n",
      "targets 0.5 0.5658032894134521\n",
      "outputs 0.9314550161361694 0.08098644018173218\n",
      "targets 0.7450000047683716 0.49000000953674316\n",
      "outputs 0.9579074382781982 0.03122856467962265\n",
      "targets 0.2549999952316284 0.49000000953674316\n",
      "outputs 0.8811644315719604 0.19997639954090118\n",
      "targets 0.5 0.5658032894134521\n",
      "outputs 0.7942914366722107 0.23394252359867096\n",
      "targets 0.7450000047683716 0.49000000953674316\n",
      "outputs 0.8916712999343872 0.2085057497024536\n",
      "targets 0.5 0.5658032894134521\n",
      "outputs 0.8505990505218506 0.16245783865451813\n",
      "targets 0.2549999952316284 0.49000000953674316\n",
      "outputs 0.8866868615150452 0.18741418421268463\n",
      "targets 0.2549999952316284 0.49000000953674316\n",
      "outputs 0.9709435701370239 0.021835803985595703\n",
      "targets 0.5 0.5658032894134521\n",
      "outputs 0.9843282103538513 0.015238149091601372\n",
      "targets 0.5 0.5658032894134521\n",
      "outputs 0.8955140113830566 0.1921192854642868\n",
      "targets 0.7450000047683716 0.49000000953674316\n",
      "outputs 0.9828490614891052 0.020521877333521843\n",
      "targets 0.7450000047683716 0.49000000953674316\n",
      "outputs 0.9999942779541016 nan0.7752\n",
      "targets 0.9900000095367432 nan\n",
      "Valid Step 16/16, valid_loss: 0.7469\n",
      "[Epoch Train: 2] loss: 0.7003, time: 37.00 s            \n",
      "[Epoch Valid: 2] loss: 0.7469, auc: 0.4513, time: 5.00 s\n",
      "EPOCH: 3\n"
     ]
    },
    {
     "data": {
      "application/vnd.jupyter.widget-view+json": {
       "model_id": "d15edf8797814e108e7721de9c0e24c1",
       "version_major": 2,
       "version_minor": 0
      },
      "text/plain": [
       "HBox(children=(FloatProgress(value=0.0, max=131.0), HTML(value='')))"
      ]
     },
     "metadata": {},
     "output_type": "display_data"
    },
    {
     "name": "stdout",
     "output_type": "stream",
     "text": [
      "Train Step 131/131, train_loss: 0.6989\n"
     ]
    },
    {
     "data": {
      "application/vnd.jupyter.widget-view+json": {
       "model_id": "5c44d7d2cf074c579a4478438d22d6cc",
       "version_major": 2,
       "version_minor": 0
      },
      "text/plain": [
       "HBox(children=(FloatProgress(value=0.0, max=16.0), HTML(value='')))"
      ]
     },
     "metadata": {},
     "output_type": "display_data"
    },
    {
     "name": "stdout",
     "output_type": "stream",
     "text": [
      "outputs 0.6984723806381226 0.09447672963142395\n",
      "targets 0.5 0.5658032894134521\n",
      "outputs 0.6009507179260254 0.14203420281410217\n",
      "targets 0.5 0.5658032894134521\n",
      "outputs 0.6978024244308472 0.17459382116794586\n",
      "targets 0.7450000047683716 0.49000000953674316\n",
      "outputs 0.6642757058143616 0.03914386034011841\n",
      "targets 0.5 0.5658032894134521\n",
      "outputs 0.6214154958724976 0.13848333060741425\n",
      "targets 0.7450000047683716 0.49000000953674316\n",
      "outputs 0.6423453688621521 0.06057171896100044\n",
      "targets 0.2549999952316284 0.49000000953674316\n",
      "outputs 0.6996880769729614 0.13289178907871246\n",
      "targets 0.5 0.5658032894134521\n",
      "outputs 0.5820797681808472 0.0943070501089096\n",
      "targets 0.7450000047683716 0.49000000953674316\n",
      "outputs 0.6369189620018005 0.1406155228614807\n",
      "targets 0.5 0.5658032894134521\n",
      "outputs 0.6340330839157104 0.12808674573898315\n",
      "targets 0.2549999952316284 0.49000000953674316\n",
      "outputs 0.6811197996139526 0.19504819810390472\n",
      "targets 0.2549999952316284 0.49000000953674316\n",
      "outputs 0.6279851794242859 0.11497769504785538\n",
      "targets 0.5 0.5658032894134521\n",
      "outputs 0.6005710363388062 0.05240364372730255\n",
      "targets 0.5 0.5658032894134521\n",
      "outputs 0.6173871159553528 0.08989962190389633\n",
      "targets 0.7450000047683716 0.49000000953674316\n",
      "outputs 0.7088542580604553 0.13761956989765167\n",
      "targets 0.7450000047683716 0.49000000953674316\n",
      "outputs 0.92400062084198 nan: 0.7270\n",
      "targets 0.9900000095367432 nan\n",
      "Valid Step 16/16, valid_loss: 0.7030\n",
      "[Epoch Train: 3] loss: 0.6989, time: 37.00 s            \n",
      "[Epoch Valid: 3] loss: 0.7030, auc: 0.4773, time: 5.00 s\n",
      "EPOCH: 4\n"
     ]
    },
    {
     "data": {
      "application/vnd.jupyter.widget-view+json": {
       "model_id": "61984cfb4fca4af6a1f7520be35d7812",
       "version_major": 2,
       "version_minor": 0
      },
      "text/plain": [
       "HBox(children=(FloatProgress(value=0.0, max=131.0), HTML(value='')))"
      ]
     },
     "metadata": {},
     "output_type": "display_data"
    },
    {
     "name": "stdout",
     "output_type": "stream",
     "text": [
      "Train Step 131/131, train_loss: 0.6960\n"
     ]
    },
    {
     "data": {
      "application/vnd.jupyter.widget-view+json": {
       "model_id": "1b187c358e914226969accb33def1d4b",
       "version_major": 2,
       "version_minor": 0
      },
      "text/plain": [
       "HBox(children=(FloatProgress(value=0.0, max=16.0), HTML(value='')))"
      ]
     },
     "metadata": {},
     "output_type": "display_data"
    },
    {
     "name": "stdout",
     "output_type": "stream",
     "text": [
      "outputs 0.5673908591270447 0.06521127372980118\n",
      "targets 0.5 0.5658032894134521\n",
      "outputs 0.563346803188324 0.08309292793273926\n",
      "targets 0.5 0.5658032894134521\n",
      "outputs 0.610433042049408 0.1522703468799591\n",
      "targets 0.7450000047683716 0.49000000953674316\n",
      "outputs 0.5332552790641785 0.012994904071092606\n",
      "targets 0.5 0.5658032894134521\n",
      "outputs 0.5642657279968262 0.082792267203331\n",
      "targets 0.7450000047683716 0.49000000953674316\n",
      "outputs 0.5284124612808228 0.005423514172434807\n",
      "targets 0.2549999952316284 0.49000000953674316\n",
      "outputs 0.5886675715446472 0.0743265226483345\n",
      "targets 0.5 0.5658032894134521\n",
      "outputs 0.534615159034729 0.02536025457084179\n",
      "targets 0.7450000047683716 0.49000000953674316\n",
      "outputs 0.5697848796844482 0.08784198760986328\n",
      "targets 0.5 0.5658032894134521\n",
      "outputs 0.572883129119873 0.09925337135791779\n",
      "targets 0.2549999952316284 0.49000000953674316\n",
      "outputs 0.6119500994682312 0.1582871377468109\n",
      "targets 0.2549999952316284 0.49000000953674316\n",
      "outputs 0.5412476062774658 0.03244483098387718\n",
      "targets 0.5 0.5658032894134521\n",
      "outputs 0.5251891613006592 0.003678339533507824\n",
      "targets 0.5 0.5658032894134521\n",
      "outputs 0.5368297696113586 0.021705957129597664\n",
      "targets 0.7450000047683716 0.49000000953674316\n",
      "outputs 0.5780157446861267 0.0776621550321579\n",
      "targets 0.7450000047683716 0.49000000953674316\n",
      "outputs 0.7911375164985657 nan0.7125\n",
      "targets 0.9900000095367432 nan\n",
      "Valid Step 16/16, valid_loss: 0.6919\n",
      "[Epoch Train: 4] loss: 0.6960, time: 37.00 s            \n",
      "[Epoch Valid: 4] loss: 0.6919, auc: 0.4794, time: 5.00 s\n",
      "EPOCH: 5\n"
     ]
    },
    {
     "data": {
      "application/vnd.jupyter.widget-view+json": {
       "model_id": "918f4fec21374618948fdba36cf2c24f",
       "version_major": 2,
       "version_minor": 0
      },
      "text/plain": [
       "HBox(children=(FloatProgress(value=0.0, max=131.0), HTML(value='')))"
      ]
     },
     "metadata": {},
     "output_type": "display_data"
    },
    {
     "name": "stdout",
     "output_type": "stream",
     "text": [
      "Train Step 131/131, train_loss: 0.6945\n"
     ]
    },
    {
     "data": {
      "application/vnd.jupyter.widget-view+json": {
       "model_id": "cb49703116d64a64bccb359c20176601",
       "version_major": 2,
       "version_minor": 0
      },
      "text/plain": [
       "HBox(children=(FloatProgress(value=0.0, max=16.0), HTML(value='')))"
      ]
     },
     "metadata": {},
     "output_type": "display_data"
    },
    {
     "name": "stdout",
     "output_type": "stream",
     "text": [
      "outputs 0.5468940734863281 0.009833499789237976\n",
      "targets 0.5 0.5658032894134521\n",
      "outputs 0.5500358939170837 0.012979181483387947\n",
      "targets 0.5 0.5658032894134521\n",
      "outputs 0.5641876459121704 0.0401482991874218\n",
      "targets 0.7450000047683716 0.49000000953674316\n",
      "outputs 0.5422877073287964 0.0008438414661213756\n",
      "targets 0.5 0.5658032894134521\n",
      "outputs 0.5503264665603638 0.012121804058551788\n",
      "targets 0.7450000047683716 0.49000000953674316\n",
      "outputs 0.5444986820220947 0.002406473970040679\n",
      "targets 0.2549999952316284 0.49000000953674316\n",
      "outputs 0.5526191592216492 0.01009565033018589\n",
      "targets 0.5 0.5658032894134521\n",
      "outputs 0.5440539717674255 0.0006733246264047921\n",
      "targets 0.7450000047683716 0.49000000953674316\n",
      "outputs 0.5501317977905273 0.014068924821913242\n",
      "targets 0.5 0.5658032894134521\n",
      "outputs 0.5511176586151123 0.01431281864643097\n",
      "targets 0.2549999952316284 0.49000000953674316\n",
      "outputs 0.5628861784934998 0.03901660442352295\n",
      "targets 0.2549999952316284 0.49000000953674316\n",
      "outputs 0.5462760925292969 0.005878181662410498\n",
      "targets 0.5 0.5658032894134521\n",
      "outputs 0.5436156988143921 0.0008965203887782991\n",
      "targets 0.5 0.5658032894134521\n",
      "outputs 0.5442463159561157 0.0016187677392736077\n",
      "targets 0.7450000047683716 0.49000000953674316\n",
      "outputs 0.5504468083381653 0.01449504029005766\n",
      "targets 0.7450000047683716 0.49000000953674316\n",
      "outputs 0.6022307276725769 nan0.7119\n",
      "targets 0.9900000095367432 nan\n",
      "Valid Step 16/16, valid_loss: 0.6951\n",
      "[Epoch Train: 5] loss: 0.6945, time: 37.00 s            \n",
      "[Epoch Valid: 5] loss: 0.6951, auc: 0.6185, time: 5.00 s\n",
      "auc improved from inf to 0.6951. Saved model to '/home/RSNA_MICCAI_Brain_Tumor/models/FLAIR-e5-loss0.695-auc0.619.pth'\n",
      "EPOCH: 6\n"
     ]
    },
    {
     "data": {
      "application/vnd.jupyter.widget-view+json": {
       "model_id": "4aa3a91190ca48eeb2b0228916fda4c5",
       "version_major": 2,
       "version_minor": 0
      },
      "text/plain": [
       "HBox(children=(FloatProgress(value=0.0, max=131.0), HTML(value='')))"
      ]
     },
     "metadata": {},
     "output_type": "display_data"
    },
    {
     "name": "stdout",
     "output_type": "stream",
     "text": [
      "Train Step 131/131, train_loss: 0.6955\n"
     ]
    },
    {
     "data": {
      "application/vnd.jupyter.widget-view+json": {
       "model_id": "268febc1b90a4d7f97e39cc2edfb05d5",
       "version_major": 2,
       "version_minor": 0
      },
      "text/plain": [
       "HBox(children=(FloatProgress(value=0.0, max=16.0), HTML(value='')))"
      ]
     },
     "metadata": {},
     "output_type": "display_data"
    },
    {
     "name": "stdout",
     "output_type": "stream",
     "text": [
      "outputs 0.5453540086746216 0.022168705239892006\n",
      "targets 0.5 0.5658032894134521\n",
      "outputs 0.553899884223938 0.026222404092550278\n",
      "targets 0.5 0.5658032894134521\n",
      "outputs 0.5673173666000366 0.060350220650434494\n",
      "targets 0.7450000047683716 0.49000000953674316\n",
      "outputs 0.5363419055938721 0.0030073223169893026\n",
      "targets 0.5 0.5658032894134521\n",
      "outputs 0.5532737374305725 0.026950068771839142\n",
      "targets 0.7450000047683716 0.49000000953674316\n",
      "outputs 0.5377075672149658 0.0032907300628721714\n",
      "targets 0.2549999952316284 0.49000000953674316\n",
      "outputs 0.5525811910629272 0.016880212351679802\n",
      "targets 0.5 0.5658032894134521\n",
      "outputs 0.5402600765228271 0.0010188436135649681\n",
      "targets 0.7450000047683716 0.49000000953674316\n",
      "outputs 0.5536841154098511 0.031131666153669357\n",
      "targets 0.5 0.5658032894134521\n",
      "outputs 0.5594863891601562 0.03914623335003853\n",
      "targets 0.2549999952316284 0.49000000953674316\n",
      "outputs 0.572860836982727 0.06745150685310364\n",
      "targets 0.2549999952316284 0.49000000953674316\n",
      "outputs 0.5390573740005493 0.001978652784600854\n",
      "targets 0.5 0.5658032894134521\n",
      "outputs 0.536885142326355 0.0037372903898358345\n",
      "targets 0.5 0.5658032894134521\n",
      "outputs 0.5389695167541504 0.00436764769256115\n",
      "targets 0.7450000047683716 0.49000000953674316\n",
      "outputs 0.5446079969406128 0.010649211704730988\n",
      "targets 0.7450000047683716 0.49000000953674316\n",
      "outputs 0.6296022534370422 nan0.7112\n",
      "targets 0.9900000095367432 nan\n",
      "Valid Step 16/16, valid_loss: 0.6939\n",
      "[Epoch Train: 6] loss: 0.6955, time: 37.00 s            \n",
      "[Epoch Valid: 6] loss: 0.6939, auc: 0.6374, time: 5.00 s\n",
      "auc improved from 0.6951 to 0.6939. Saved model to '/home/RSNA_MICCAI_Brain_Tumor/models/FLAIR-e6-loss0.694-auc0.637.pth'\n",
      "EPOCH: 7\n"
     ]
    },
    {
     "data": {
      "application/vnd.jupyter.widget-view+json": {
       "model_id": "7100753158c5471eb29e374d34c98756",
       "version_major": 2,
       "version_minor": 0
      },
      "text/plain": [
       "HBox(children=(FloatProgress(value=0.0, max=131.0), HTML(value='')))"
      ]
     },
     "metadata": {},
     "output_type": "display_data"
    },
    {
     "name": "stdout",
     "output_type": "stream",
     "text": [
      "Train Step 131/131, train_loss: 0.6927\n"
     ]
    },
    {
     "data": {
      "application/vnd.jupyter.widget-view+json": {
       "model_id": "ac4ca9cc49f94737ad55c147c79e80dc",
       "version_major": 2,
       "version_minor": 0
      },
      "text/plain": [
       "HBox(children=(FloatProgress(value=0.0, max=16.0), HTML(value='')))"
      ]
     },
     "metadata": {},
     "output_type": "display_data"
    },
    {
     "name": "stdout",
     "output_type": "stream",
     "text": [
      "outputs 0.5782653093338013 0.0833451896905899\n",
      "targets 0.5 0.5658032894134521\n",
      "outputs 0.5702702403068542 0.0840858668088913\n",
      "targets 0.5 0.5658032894134521\n",
      "outputs 0.6087316870689392 0.1330646127462387\n",
      "targets 0.7450000047683716 0.49000000953674316\n",
      "outputs 0.5357388257980347 0.0104991989210248\n",
      "targets 0.5 0.5658032894134521\n",
      "outputs 0.5715285539627075 0.0872674360871315\n",
      "targets 0.7450000047683716 0.49000000953674316\n",
      "outputs 0.5289150476455688 0.0008937720558606088\n",
      "targets 0.2549999952316284 0.49000000953674316\n",
      "outputs 0.585040807723999 0.06752722710371017\n",
      "targets 0.5 0.5658032894134521\n",
      "outputs 0.5377939939498901 0.019214056432247162\n",
      "targets 0.7450000047683716 0.49000000953674316\n",
      "outputs 0.5809186697006226 0.10075946897268295\n",
      "targets 0.5 0.5658032894134521\n",
      "outputs 0.5831549167633057 0.11086244136095047\n",
      "targets 0.2549999952316284 0.49000000953674316\n",
      "outputs 0.6129534840583801 0.15498292446136475\n",
      "targets 0.2549999952316284 0.49000000953674316\n",
      "outputs 0.5311896204948425 0.006401554681360722\n",
      "targets 0.5 0.5658032894134521\n",
      "outputs 0.5298614501953125 0.0017932079499587417\n",
      "targets 0.5 0.5658032894134521\n",
      "outputs 0.5458240509033203 0.030684133991599083\n",
      "targets 0.7450000047683716 0.49000000953674316\n",
      "outputs 0.5688059329986572 0.05350823700428009\n",
      "targets 0.7450000047683716 0.49000000953674316\n",
      "outputs 0.7967374324798584 nan0.7129\n",
      "targets 0.9900000095367432 nan\n",
      "Valid Step 16/16, valid_loss: 0.6921\n",
      "[Epoch Train: 7] loss: 0.6927, time: 37.00 s            \n",
      "[Epoch Valid: 7] loss: 0.6921, auc: 0.4405, time: 5.00 s\n",
      "EPOCH: 8\n"
     ]
    },
    {
     "data": {
      "application/vnd.jupyter.widget-view+json": {
       "model_id": "419051af8e9e440c96fb19eb6a8a7f3e",
       "version_major": 2,
       "version_minor": 0
      },
      "text/plain": [
       "HBox(children=(FloatProgress(value=0.0, max=131.0), HTML(value='')))"
      ]
     },
     "metadata": {},
     "output_type": "display_data"
    },
    {
     "name": "stdout",
     "output_type": "stream",
     "text": [
      "Train Step 131/131, train_loss: 0.6920\n"
     ]
    },
    {
     "data": {
      "application/vnd.jupyter.widget-view+json": {
       "model_id": "cbf4e33e9cc8439a997d97b7153a64d1",
       "version_major": 2,
       "version_minor": 0
      },
      "text/plain": [
       "HBox(children=(FloatProgress(value=0.0, max=16.0), HTML(value='')))"
      ]
     },
     "metadata": {},
     "output_type": "display_data"
    },
    {
     "name": "stdout",
     "output_type": "stream",
     "text": [
      "outputs 0.5448494553565979 0.03520948812365532\n",
      "targets 0.5 0.5658032894134521\n",
      "outputs 0.549673855304718 0.04566211253404617\n",
      "targets 0.5 0.5658032894134521\n",
      "outputs 0.5710789561271667 0.0783141478896141\n",
      "targets 0.7450000047683716 0.49000000953674316\n",
      "outputs 0.5275033712387085 0.0018464099848642945\n",
      "targets 0.5 0.5658032894134521\n",
      "outputs 0.549824059009552 0.04642918333411217\n",
      "targets 0.7450000047683716 0.49000000953674316\n",
      "outputs 0.5273122191429138 0.0007129275472834706\n",
      "targets 0.2549999952316284 0.49000000953674316\n",
      "outputs 0.5470120906829834 0.02596450224518776\n",
      "targets 0.5 0.5658032894134521\n",
      "outputs 0.5282972455024719 0.0033393169287592173\n",
      "targets 0.7450000047683716 0.49000000953674316\n",
      "outputs 0.5508614778518677 0.048297103494405746\n",
      "targets 0.5 0.5658032894134521\n",
      "outputs 0.5607430934906006 0.06815623492002487\n",
      "targets 0.2549999952316284 0.49000000953674316\n",
      "outputs 0.5760659575462341 0.09721086174249649\n",
      "targets 0.2549999952316284 0.49000000953674316\n",
      "outputs 0.5270541906356812 0.0005034782807342708\n",
      "targets 0.5 0.5658032894134521\n",
      "outputs 0.5266255140304565 0.0004262280708644539\n",
      "targets 0.5 0.5658032894134521\n",
      "outputs 0.530142068862915 0.0053466567769646645\n",
      "targets 0.7450000047683716 0.49000000953674316\n",
      "outputs 0.5348036885261536 0.010186159051954746\n",
      "targets 0.7450000047683716 0.49000000953674316\n",
      "outputs 0.6567046046257019 nan0.7106\n",
      "targets 0.9900000095367432 nan\n",
      "Valid Step 16/16, valid_loss: 0.6927\n",
      "[Epoch Train: 8] loss: 0.6920, time: 37.00 s            \n",
      "[Epoch Valid: 8] loss: 0.6927, auc: 0.4789, time: 5.00 s\n",
      "EPOCH: 9\n"
     ]
    },
    {
     "data": {
      "application/vnd.jupyter.widget-view+json": {
       "model_id": "29667fd8753c4ad4bd0d1fcbdba10a1c",
       "version_major": 2,
       "version_minor": 0
      },
      "text/plain": [
       "HBox(children=(FloatProgress(value=0.0, max=131.0), HTML(value='')))"
      ]
     },
     "metadata": {},
     "output_type": "display_data"
    },
    {
     "name": "stdout",
     "output_type": "stream",
     "text": [
      "Train Step 131/131, train_loss: 0.6909\n"
     ]
    },
    {
     "data": {
      "application/vnd.jupyter.widget-view+json": {
       "model_id": "de2359003f0641ceb09d904643bacadc",
       "version_major": 2,
       "version_minor": 0
      },
      "text/plain": [
       "HBox(children=(FloatProgress(value=0.0, max=16.0), HTML(value='')))"
      ]
     },
     "metadata": {},
     "output_type": "display_data"
    },
    {
     "name": "stdout",
     "output_type": "stream",
     "text": [
      "outputs 0.6999915838241577 0.16750402748584747\n",
      "targets 0.5 0.5658032894134521\n",
      "outputstep 1/16, valid_loss: 0.8045 0.6916244029998779 0.19092561304569244\n",
      "targets 0.5 0.5658032894134521\n",
      "outputs 0.7348294258117676 0.20367401838302612\n",
      "targets 0.7450000047683716 0.49000000953674316\n",
      "outputs 0.5963379144668579 0.08279437571763992\n",
      "targets 0.5 0.5658032894134521\n",
      "outputs 0.6958823800086975 0.2122759073972702\n",
      "targets 0.7450000047683716 0.49000000953674316\n",
      "outputs 0.5513530373573303 0.04362880066037178\n",
      "targets 0.2549999952316284 0.49000000953674316\n",
      "outputs 0.6970205307006836 0.20434296131134033\n",
      "targets 0.5 0.5658032894134521\n",
      "outputs 0.6021296381950378 0.09830129891633987\n",
      "targets 0.7450000047683716 0.49000000953674316\n",
      "outputs 0.7159563302993774 0.19859352707862854\n",
      "targets 0.5 0.5658032894134521\n",
      "outputs 0.654334545135498 0.22737571597099304\n",
      "targets 0.2549999952316284 0.49000000953674316\n",
      "outputs 0.6884310841560364 0.21543128788471222\n",
      "targets 0.2549999952316284 0.49000000953674316\n",
      "outputs 0.6165517568588257 0.09448054432868958\n",
      "targets 0.5 0.5658032894134521\n",
      "outputs 0.6380786895751953 0.08414652198553085\n",
      "targets 0.5 0.5658032894134521\n",
      "outputs 0.6354231238365173 0.11580446362495422\n",
      "targets 0.7450000047683716 0.49000000953674316\n",
      "outputs 0.6551469564437866 0.10930819064378738\n",
      "targets 0.7450000047683716 0.49000000953674316\n",
      "outputs 0.9899040460586548 nan0.7235\n",
      "targets 0.9900000095367432 nan\n",
      "Valid Step 16/16, valid_loss: 0.6986\n",
      "[Epoch Train: 9] loss: 0.6909, time: 37.00 s            \n",
      "[Epoch Valid: 9] loss: 0.6986, auc: 0.5043, time: 5.00 s\n",
      "EPOCH: 10\n"
     ]
    },
    {
     "data": {
      "application/vnd.jupyter.widget-view+json": {
       "model_id": "07ed82738fde488f84cb65189d207fec",
       "version_major": 2,
       "version_minor": 0
      },
      "text/plain": [
       "HBox(children=(FloatProgress(value=0.0, max=131.0), HTML(value='')))"
      ]
     },
     "metadata": {},
     "output_type": "display_data"
    },
    {
     "name": "stdout",
     "output_type": "stream",
     "text": [
      "Train Step 131/131, train_loss: 0.6931\n"
     ]
    },
    {
     "data": {
      "application/vnd.jupyter.widget-view+json": {
       "model_id": "69360a4e651b488b969e8df45c1c6c04",
       "version_major": 2,
       "version_minor": 0
      },
      "text/plain": [
       "HBox(children=(FloatProgress(value=0.0, max=16.0), HTML(value='')))"
      ]
     },
     "metadata": {},
     "output_type": "display_data"
    },
    {
     "name": "stdout",
     "output_type": "stream",
     "text": [
      "outputs 0.5370900630950928 0.03518941253423691\n",
      "targets 0.5 0.5658032894134521\n",
      "outputs 0.5474875569343567 0.05953552573919296\n",
      "targets 0.5 0.5658032894134521\n",
      "outputs 0.5653918981552124 0.08796420693397522\n",
      "targets 0.7450000047683716 0.49000000953674316\n",
      "outputs 0.5178359746932983 0.001887400052510202\n",
      "targets 0.5 0.5658032894134521\n",
      "outputs 0.5463934540748596 0.05778935179114342\n",
      "targets 0.7450000047683716 0.49000000953674316\n",
      "outputs 0.5173048973083496 0.0008361215004697442\n",
      "targets 0.2549999952316284 0.49000000953674316\n",
      "outputs 0.5517804026603699 0.04109799489378929\n",
      "targets 0.5 0.5658032894134521\n",
      "outputs 0.520357608795166 0.005324396770447493\n",
      "targets 0.7450000047683716 0.49000000953674316\n",
      "outputs 0.5508995056152344 0.06683829426765442\n",
      "targets 0.5 0.5658032894134521\n",
      "outputs 0.5577860474586487 0.08037297427654266\n",
      "targets 0.2549999952316284 0.49000000953674316\n",
      "outputs 0.5739660263061523 0.10904719680547714\n",
      "targets 0.2549999952316284 0.49000000953674316\n",
      "outputs 0.5199651718139648 0.005301877856254578\n",
      "targets 0.5 0.5658032894134521\n",
      "outputs 0.5175656080245972 0.00022396502026822418\n",
      "targets 0.5 0.5658032894134521\n",
      "outputs 0.5213090181350708 0.007121638394892216\n",
      "targets 0.7450000047683716 0.49000000953674316\n",
      "outputs 0.5343226790428162 0.026614205911755562\n",
      "targets 0.7450000047683716 0.49000000953674316\n",
      "outputs 0.6915366649627686 nan0.7097\n",
      "targets 0.9900000095367432 nan\n",
      "Valid Step 16/16, valid_loss: 0.6911\n",
      "[Epoch Train: 10] loss: 0.6931, time: 37.00 s            \n",
      "[Epoch Valid: 10] loss: 0.6911, auc: 0.4545, time: 5.00 s\n",
      "EPOCH: 11\n"
     ]
    },
    {
     "data": {
      "application/vnd.jupyter.widget-view+json": {
       "model_id": "6a1320f5b58d48df9e033a7ce3027a0e",
       "version_major": 2,
       "version_minor": 0
      },
      "text/plain": [
       "HBox(children=(FloatProgress(value=0.0, max=131.0), HTML(value='')))"
      ]
     },
     "metadata": {},
     "output_type": "display_data"
    },
    {
     "name": "stdout",
     "output_type": "stream",
     "text": [
      "Train Step 131/131, train_loss: 0.6908\n"
     ]
    },
    {
     "data": {
      "application/vnd.jupyter.widget-view+json": {
       "model_id": "05c79d36bbaf49c4831aff6456060aa3",
       "version_major": 2,
       "version_minor": 0
      },
      "text/plain": [
       "HBox(children=(FloatProgress(value=0.0, max=16.0), HTML(value='')))"
      ]
     },
     "metadata": {},
     "output_type": "display_data"
    },
    {
     "name": "stdout",
     "output_type": "stream",
     "text": [
      "outputs 0.573052167892456 0.09805992990732193\n",
      "targets 0.5 0.5658032894134521\n",
      "outputs 0.5791487693786621 0.11783052980899811\n",
      "targets 0.5 0.5658032894134521\n",
      "outputs 0.6169054508209229 0.17702311277389526\n",
      "targets 0.7450000047683716 0.49000000953674316\n",
      "outputs 0.5210277438163757 0.00272765732370317\n",
      "targets 0.5 0.5658032894134521\n",
      "outputs 0.5806353092193604 0.12194384634494781\n",
      "targets 0.7450000047683716 0.49000000953674316\n",
      "outputs 0.5199776291847229 0.0008268571691587567\n",
      "targets 0.2549999952316284 0.49000000953674316\n",
      "outputs 0.5886539220809937 0.0858873650431633\n",
      "targets 0.5 0.5658032894134521\n",
      "outputs 0.5236791372299194 0.007929030805826187\n",
      "targets 0.7450000047683716 0.49000000953674316\n",
      "outputs 0.5843257904052734 0.12201215326786041\n",
      "targets 0.5 0.5658032894134521\n",
      "outputs 0.6087843179702759 0.1785248965024948\n",
      "targets 0.2549999952316284 0.49000000953674316\n",
      "outputs 0.6216048002243042 0.1992555558681488\n",
      "targets 0.2549999952316284 0.49000000953674316\n",
      "outputs 0.5219696164131165 0.0031032231636345387\n",
      "targets 0.5 0.5658032894134521\n",
      "outputs 0.5227423906326294 0.007579537108540535\n",
      "targets 0.5 0.5658032894134521\n",
      "outputs 0.5278468728065491 0.014701658859848976\n",
      "targets 0.7450000047683716 0.49000000953674316\n",
      "outputs 0.5421454906463623 0.03115067631006241\n",
      "targets 0.7450000047683716 0.49000000953674316\n",
      "outputs 0.8194253444671631 nan0.7111\n",
      "targets 0.9900000095367432 nan\n",
      "Valid Step 16/16, valid_loss: 0.6900\n",
      "[Epoch Train: 11] loss: 0.6908, time: 37.00 s            \n",
      "[Epoch Valid: 11] loss: 0.6900, auc: 0.4648, time: 5.00 s\n",
      "EPOCH: 12\n"
     ]
    },
    {
     "data": {
      "application/vnd.jupyter.widget-view+json": {
       "model_id": "a9c7d667e2ba43adbd2a1ef32aa60c1a",
       "version_major": 2,
       "version_minor": 0
      },
      "text/plain": [
       "HBox(children=(FloatProgress(value=0.0, max=131.0), HTML(value='')))"
      ]
     },
     "metadata": {},
     "output_type": "display_data"
    },
    {
     "name": "stdout",
     "output_type": "stream",
     "text": [
      "Train Step 131/131, train_loss: 0.6904\n"
     ]
    },
    {
     "data": {
      "application/vnd.jupyter.widget-view+json": {
       "model_id": "b86ed2ca37154da08da35f783ad7adf2",
       "version_major": 2,
       "version_minor": 0
      },
      "text/plain": [
       "HBox(children=(FloatProgress(value=0.0, max=16.0), HTML(value='')))"
      ]
     },
     "metadata": {},
     "output_type": "display_data"
    },
    {
     "name": "stdout",
     "output_type": "stream",
     "text": [
      "outputs 0.5455284118652344 0.06384609639644623\n",
      "targets 0.5 0.5658032894134521\n",
      "outputs 0.5543395280838013 0.053852301090955734\n",
      "targets 0.5 0.5658032894134521\n",
      "outputs 0.5563238859176636 0.08312436938285828\n",
      "targets 0.7450000047683716 0.49000000953674316\n",
      "outputs 0.5131838321685791 0.00019712618086487055\n",
      "targets 0.5 0.5658032894134521\n",
      "outputs 0.547220766544342 0.04682491347193718\n",
      "targets 0.7450000047683716 0.49000000953674316\n",
      "outputs 0.5133170485496521 0.0002440283860778436\n",
      "targets 0.2549999952316284 0.49000000953674316\n",
      "outputs 0.5696406960487366 0.11274918913841248\n",
      "targets 0.5 0.5658032894134521\n",
      "outputs 0.5230398774147034 0.018984802067279816\n",
      "targets 0.7450000047683716 0.49000000953674316\n",
      "outputs 0.557722806930542 0.050998374819755554\n",
      "targets 0.5 0.5658032894134521\n",
      "outputs 0.5924950242042542 0.1577538251876831\n",
      "targets 0.2549999952316284 0.49000000953674316\n",
      "outputs 0.5753945112228394 0.11844511330127716\n",
      "targets 0.2549999952316284 0.49000000953674316\n",
      "outputs 0.5318000316619873 0.029330112040042877\n",
      "targets 0.5 0.5658032894134521\n",
      "outputs 0.5370738506317139 0.04718084633350372\n",
      "targets 0.5 0.5658032894134521\n",
      "outputs 0.5206191539764404 0.013414586894214153\n",
      "targets 0.7450000047683716 0.49000000953674316\n",
      "outputs 0.5233014822006226 0.020181722939014435\n",
      "targets 0.7450000047683716 0.49000000953674316\n",
      "outputs 0.567513644695282 nan 0.7102\n",
      "targets 0.9900000095367432 nan\n",
      "Valid Step 16/16, valid_loss: 0.6942\n",
      "[Epoch Train: 12] loss: 0.6904, time: 37.00 s            \n",
      "[Epoch Valid: 12] loss: 0.6942, auc: 0.6818, time: 5.00 s\n",
      "EPOCH: 13\n"
     ]
    },
    {
     "data": {
      "application/vnd.jupyter.widget-view+json": {
       "model_id": "3237dce583384fbfbcb64c3233a39eb2",
       "version_major": 2,
       "version_minor": 0
      },
      "text/plain": [
       "HBox(children=(FloatProgress(value=0.0, max=131.0), HTML(value='')))"
      ]
     },
     "metadata": {},
     "output_type": "display_data"
    },
    {
     "name": "stdout",
     "output_type": "stream",
     "text": [
      "Train Step 131/131, train_loss: 0.6909\n"
     ]
    },
    {
     "data": {
      "application/vnd.jupyter.widget-view+json": {
       "model_id": "6df47466653c4ba78033c5a73c5906bf",
       "version_major": 2,
       "version_minor": 0
      },
      "text/plain": [
       "HBox(children=(FloatProgress(value=0.0, max=16.0), HTML(value='')))"
      ]
     },
     "metadata": {},
     "output_type": "display_data"
    },
    {
     "name": "stdout",
     "output_type": "stream",
     "text": [
      "outputs 0.5346370935440063 0.044946227222681046\n",
      "targets 0.5 0.5658032894134521\n",
      "outputs 0.5454232096672058 0.057488128542900085\n",
      "targets 0.5 0.5658032894134521\n",
      "outputs 0.5691969394683838 0.10264257341623306\n",
      "targets 0.7450000047683716 0.49000000953674316\n",
      "outputs 0.5115153193473816 0.0005167420022189617\n",
      "targets 0.5 0.5658032894134521\n",
      "outputs 0.5446833968162537 0.054588593542575836\n",
      "targets 0.7450000047683716 0.49000000953674316\n",
      "outputs 0.5117863416671753 0.00023105350555852056\n",
      "targets 0.2549999952316284 0.49000000953674316\n",
      "outputs 0.5455410480499268 0.06510120630264282\n",
      "targets 0.5 0.5658032894134521\n",
      "outputs 0.515966534614563 0.006406803149729967\n",
      "targets 0.7450000047683716 0.49000000953674316\n",
      "outputs 0.5460360050201416 0.046217530965805054\n",
      "targets 0.5 0.5658032894134521\n",
      "outputs 0.5783478021621704 0.1326047033071518\n",
      "targets 0.2549999952316284 0.49000000953674316\n",
      "outputs 0.5740985870361328 0.12375087291002274\n",
      "targets 0.2549999952316284 0.49000000953674316\n",
      "outputs 0.5204766392707825 0.01450806949287653\n",
      "targets 0.5 0.5658032894134521\n",
      "outputs 0.5223920345306396 0.021579766646027565\n",
      "targets 0.5 0.5658032894134521\n",
      "outputs 0.513339102268219 0.001033557578921318\n",
      "targets 0.7450000047683716 0.49000000953674316\n",
      "outputs 0.5150387287139893 0.003734269179403782\n",
      "targets 0.7450000047683716 0.49000000953674316\n",
      "outputs 0.6163326501846313 nan0.7090\n",
      "targets 0.9900000095367432 nan\n",
      "Valid Step 16/16, valid_loss: 0.6921\n",
      "[Epoch Train: 13] loss: 0.6909, time: 37.00 s            \n",
      "[Epoch Valid: 13] loss: 0.6921, auc: 0.5877, time: 5.00 s\n",
      "auc improved from 0.6939 to 0.6921. Saved model to '/home/RSNA_MICCAI_Brain_Tumor/models/FLAIR-e13-loss0.692-auc0.588.pth'\n",
      "EPOCH: 14\n"
     ]
    },
    {
     "data": {
      "application/vnd.jupyter.widget-view+json": {
       "model_id": "6a9a26ec07114fab84c580e59b1b83da",
       "version_major": 2,
       "version_minor": 0
      },
      "text/plain": [
       "HBox(children=(FloatProgress(value=0.0, max=131.0), HTML(value='')))"
      ]
     },
     "metadata": {},
     "output_type": "display_data"
    },
    {
     "name": "stdout",
     "output_type": "stream",
     "text": [
      "Train Step 4/131, train_loss: 0.6730\r"
     ]
    },
    {
     "data": {
      "application/vnd.jupyter.widget-view+json": {
       "model_id": "a08dbd87f9814d51b4a0a8d13f16f9f8",
       "version_major": 2,
       "version_minor": 0
      },
      "text/plain": [
       "HBox(children=(FloatProgress(value=0.0, max=16.0), HTML(value='')))"
      ]
     },
     "metadata": {},
     "output_type": "display_data"
    },
    {
     "name": "stdout",
     "output_type": "stream",
     "text": [
      "outputs 0.5365814566612244 0.04946257174015045\n",
      "targets 0.5 0.5658032894134521\n",
      "outputs 0.5470962524414062 0.05903320759534836\n",
      "targets 0.5 0.5658032894134521\n",
      "outputs 0.5710278153419495 0.10642357915639877\n",
      "targets 0.7450000047683716 0.49000000953674316\n",
      "outputs 0.5107925534248352 0.0006290273158811033\n",
      "targets 0.5 0.5658032894134521\n",
      "outputs 0.5464175939559937 0.05672493204474449\n",
      "targets 0.7450000047683716 0.49000000953674316\n",
      "outputs 0.5109689235687256 0.00035920782829634845\n",
      "targets 0.2549999952316284 0.49000000953674316\n",
      "outputs 0.5469521880149841 0.06887102872133255\n",
      "targets 0.5 0.5658032894134521\n",
      "outputs 0.5163810849189758 0.00887678749859333\n",
      "targets 0.7450000047683716 0.49000000953674316\n",
      "outputs 0.5478881597518921 0.04806486889719963\n",
      "targets 0.5 0.5658032894134521\n",
      "outputs 0.5797995924949646 0.13752619922161102\n",
      "targets 0.2549999952316284 0.49000000953674316\n",
      "outputs 0.5753265619277954 0.1276775598526001\n",
      "targets 0.2549999952316284 0.49000000953674316\n",
      "outputs 0.5219423770904541 0.01770460046827793\n",
      "targets 0.5 0.5658032894134521\n",
      "outputs 0.5236209630966187 0.025608135387301445\n",
      "targets 0.5 0.5658032894134521\n",
      "outputs 0.51340651512146 0.0018205117667093873\n",
      "targets 0.7450000047683716 0.49000000953674316\n",
      "outputs 0.5155259370803833 0.005411252845078707\n",
      "targets 0.7450000047683716 0.49000000953674316\n",
      "outputs 0.6201534867286682 nan0.7090\n",
      "targets 0.9900000095367432 nan\n",
      "Valid Step 16/16, valid_loss: 0.6920\n",
      "auc improved from 0.6921 to 0.6920. Saved model to '/home/RSNA_MICCAI_Brain_Tumor/models/FLAIR-e14-loss0.692-auc0.570.pth'\n",
      "[Epoch Valid: 14] loss: 0.6920, auc: 0.5703, time: 5.00 s\n",
      "Train Step 8/131, train_loss: 0.6807\r"
     ]
    },
    {
     "data": {
      "application/vnd.jupyter.widget-view+json": {
       "model_id": "8a620ff4442a466e8254e98b973875ae",
       "version_major": 2,
       "version_minor": 0
      },
      "text/plain": [
       "HBox(children=(FloatProgress(value=0.0, max=16.0), HTML(value='')))"
      ]
     },
     "metadata": {},
     "output_type": "display_data"
    },
    {
     "name": "stdout",
     "output_type": "stream",
     "text": [
      "outputs 0.5352742075920105 0.04626751318573952\n",
      "targets 0.5 0.5658032894134521\n",
      "outputs 0.5484423041343689 0.05457363650202751\n",
      "targets 0.5 0.5658032894134521\n",
      "outputs 0.5684041976928711 0.09939759224653244\n",
      "targets 0.7450000047683716 0.49000000953674316\n",
      "outputs 0.5111114382743835 0.0006313332123681903\n",
      "targets 0.5 0.5658032894134521\n",
      "outputs 0.5469105839729309 0.05248023197054863\n",
      "targets 0.7450000047683716 0.49000000953674316\n",
      "outputs 0.5111649036407471 0.0004915338358841836\n",
      "targets 0.2549999952316284 0.49000000953674316\n",
      "outputs 0.5477614402770996 0.07131069153547287\n",
      "targets 0.5 0.5658032894134521\n",
      "outputs 0.5188533067703247 0.013147802092134953\n",
      "targets 0.7450000047683716 0.49000000953674316\n",
      "outputs 0.5481848120689392 0.044978998601436615\n",
      "targets 0.5 0.5658032894134521\n",
      "outputs 0.5786195993423462 0.13488684594631195\n",
      "targets 0.2549999952316284 0.49000000953674316\n",
      "outputs 0.572895884513855 0.12012758105993271\n",
      "targets 0.2549999952316284 0.49000000953674316\n",
      "outputs 0.5255680084228516 0.022231630980968475\n",
      "targets 0.5 0.5658032894134521\n",
      "outputs 0.5266499519348145 0.03124089539051056\n",
      "targets 0.5 0.5658032894134521\n",
      "outputs 0.5158036947250366 0.004929220303893089\n",
      "targets 0.7450000047683716 0.49000000953674316\n",
      "outputs 0.5178790092468262 0.009070020169019699\n",
      "targets 0.7450000047683716 0.49000000953674316\n",
      "outputs 0.60203617811203 nan: 0.7090\n",
      "targets 0.9900000095367432 nan\n",
      "Valid Step 16/16, valid_loss: 0.6923\n",
      "[Epoch Valid: 14] loss: 0.6923, auc: 0.5444, time: 5.00 s\n",
      "Train Step 12/131, train_loss: 0.6805\r"
     ]
    },
    {
     "data": {
      "application/vnd.jupyter.widget-view+json": {
       "model_id": "43ecf20c7e264cd38af9ca5271c27499",
       "version_major": 2,
       "version_minor": 0
      },
      "text/plain": [
       "HBox(children=(FloatProgress(value=0.0, max=16.0), HTML(value='')))"
      ]
     },
     "metadata": {},
     "output_type": "display_data"
    },
    {
     "name": "stdout",
     "output_type": "stream",
     "text": [
      "outputs 0.5773868560791016 0.11384860426187515\n",
      "targets 0.5 0.5658032894134521\n",
      "outputs 0.6201825737953186 0.12059280276298523\n",
      "targets 0.5 0.5658032894134521\n",
      "outputs 0.6348371505737305 0.2010057270526886\n",
      "targets 0.7450000047683716 0.49000000953674316\n",
      "outputs 0.5152238607406616 0.004959757439792156\n",
      "targets 0.5 0.5658032894134521\n",
      "outputs 0.615198016166687 0.1306431144475937\n",
      "targets 0.7450000047683716 0.49000000953674316\n",
      "outputs 0.5139803290367126 0.004308292176574469\n",
      "targets 0.2549999952316284 0.49000000953674316\n",
      "outputs 0.601093590259552 0.16460341215133667\n",
      "targets 0.5 0.5658032894134521\n",
      "outputs 0.5446099042892456 0.05855034664273262\n",
      "targets 0.7450000047683716 0.49000000953674316\n",
      "outputs 0.6125423908233643 0.11616629362106323\n",
      "targets 0.5 0.5658032894134521\n",
      "outputs 0.6235411167144775 0.22485627233982086\n",
      "targets 0.2549999952316284 0.49000000953674316\n",
      "outputs 0.6318617463111877 0.20987990498542786\n",
      "targets 0.2549999952316284 0.49000000953674316\n",
      "outputs 0.5652605891227722 0.0741700828075409\n",
      "targets 0.5 0.5658032894134521\n",
      "outputs 0.5621411800384521 0.09586255252361298\n",
      "targets 0.5 0.5658032894134521\n",
      "outputs 0.5416883230209351 0.03998235613107681\n",
      "targets 0.7450000047683716 0.49000000953674316\n",
      "outputs 0.5441548824310303 0.04321058467030525\n",
      "targets 0.7450000047683716 0.49000000953674316\n",
      "outputs 0.7467506527900696 nan0.7101\n",
      "targets 0.9900000095367432 nan\n",
      "Valid Step 16/16, valid_loss: 0.6904\n",
      "auc improved from 0.6920 to 0.6904. Saved model to '/home/RSNA_MICCAI_Brain_Tumor/models/FLAIR-e14-loss0.690-auc0.518.pth'\n",
      "[Epoch Valid: 14] loss: 0.6904, auc: 0.5184, time: 5.00 s\n",
      "Train Step 16/131, train_loss: 0.6553\r"
     ]
    },
    {
     "data": {
      "application/vnd.jupyter.widget-view+json": {
       "model_id": "5cd2dbeb110e44918bc126b9904dabff",
       "version_major": 2,
       "version_minor": 0
      },
      "text/plain": [
       "HBox(children=(FloatProgress(value=0.0, max=16.0), HTML(value='')))"
      ]
     },
     "metadata": {},
     "output_type": "display_data"
    },
    {
     "name": "stdout",
     "output_type": "stream",
     "text": [
      "outputs 0.9743784666061401 0.0500052385032177\n",
      "targets 0.5 0.5658032894134521\n",
      "outputs 0.9982879161834717 0.0032708137296140194\n",
      "targets 0.5 0.5658032894134521\n",
      "outputs 0.9904892444610596 0.016649959608912468\n",
      "targets 0.7450000047683716 0.49000000953674316\n",
      "outputs 0.8159905076026917 0.21714235842227936\n",
      "targets 0.5 0.5658032894134521\n",
      "outputs 0.9777633547782898 0.039760638028383255\n",
      "targets 0.7450000047683716 0.49000000953674316\n",
      "outputs 0.7718452215194702 0.18658216297626495\n",
      "targets 0.2549999952316284 0.49000000953674316\n",
      "outputs 0.7939730882644653 0.24064551293849945\n",
      "targets 0.5 0.5658032894134521\n",
      "outputs 0.7990971207618713 0.2399810403585434\n",
      "targets 0.7450000047683716 0.49000000953674316\n",
      "outputs 0.8760709762573242 0.24290238320827484\n",
      "targets 0.5 0.5658032894134521\n",
      "outputs 0.7595059871673584 0.2747548818588257\n",
      "targets 0.2549999952316284 0.49000000953674316\n",
      "outputs 0.8885599374771118 0.22221386432647705\n",
      "targets 0.2549999952316284 0.49000000953674316\n",
      "outputs 0.9023914337158203 0.19127580523490906\n",
      "targets 0.5 0.5658032894134521\n",
      "outputs 0.9696887731552124 0.05197950825095177\n",
      "targets 0.5 0.5658032894134521\n",
      "outputs 0.8994525074958801 0.192682147026062\n",
      "targets 0.7450000047683716 0.49000000953674316\n",
      "outputs 0.9211612939834595 0.15756043791770935\n",
      "targets 0.7450000047683716 0.49000000953674316\n",
      "outputs 1.0 nan6, valid_loss: 0.7727\n",
      "targets 0.9900000095367432 nan\n",
      "Valid Step 16/16, valid_loss: 0.7446\n",
      "[Epoch Valid: 14] loss: 0.7446, auc: 0.5514, time: 5.00 s\n",
      "Train Step 20/131, train_loss: nan\r"
     ]
    },
    {
     "data": {
      "application/vnd.jupyter.widget-view+json": {
       "model_id": "1442a215fa294704bd0073eed401247c",
       "version_major": 2,
       "version_minor": 0
      },
      "text/plain": [
       "HBox(children=(FloatProgress(value=0.0, max=16.0), HTML(value='')))"
      ]
     },
     "metadata": {},
     "output_type": "display_data"
    },
    {
     "name": "stdout",
     "output_type": "stream",
     "text": [
      "outputs 0.9998783469200134 0.00024330615997314453\n",
      "targets 0.5 0.5658032894134521\n",
      "outputs 0.9999997615814209 4.172325134277344e-07\n",
      "targets 0.5 0.5658032894134521\n",
      "outputs 0.9999642372131348 7.146596908569336e-05\n",
      "targets 0.7450000047683716 0.49000000953674316\n",
      "outputs 0.9161070585250854 0.13583067059516907\n",
      "targets 0.5 0.5658032894134521\n",
      "outputs 0.999893069267273 0.00021006491442676634\n",
      "targets 0.7450000047683716 0.49000000953674316\n",
      "outputs 0.9100407958030701 0.15735051035881042\n",
      "targets 0.2549999952316284 0.49000000953674316\n",
      "outputs 0.8832482099533081 0.17295342683792114\n",
      "targets 0.5 0.5658032894134521\n",
      "outputs 0.8689742684364319 0.19629482924938202\n",
      "targets 0.7450000047683716 0.49000000953674316\n",
      "outputs 0.8779575228691101 0.24408498406410217\n",
      "targets 0.5 0.5658032894134521\n",
      "outputs 0.8025091886520386 0.22822020947933197\n",
      "targets 0.2549999952316284 0.49000000953674316\n",
      "outputs 0.9153324365615845 0.16933518648147583\n",
      "targets 0.2549999952316284 0.49000000953674316\n",
      "outputs 0.9598536491394043 0.0802927017211914\n",
      "targets 0.5 0.5658032894134521\n",
      "outputs 0.9999451637268066 0.00010969241702696308\n",
      "targets 0.5 0.5658032894134521\n",
      "outputs 0.9476737976074219 0.10465242713689804\n",
      "targets 0.7450000047683716 0.49000000953674316\n",
      "outputs 0.9908463954925537 0.018307190388441086\n",
      "targets 0.7450000047683716 0.49000000953674316\n",
      "outputs 1.0 nan6, valid_loss: 0.7700\n",
      "targets 0.9900000095367432 nan\n",
      "Valid Step 16/16, valid_loss: 0.7420\n",
      "[Epoch Valid: 14] loss: 0.7420, auc: 0.4389, time: 5.00 s\n",
      "Train Step 24/131, train_loss: nan\r"
     ]
    },
    {
     "data": {
      "application/vnd.jupyter.widget-view+json": {
       "model_id": "4efb336ec3394fefb073a61fb75a5ddc",
       "version_major": 2,
       "version_minor": 0
      },
      "text/plain": [
       "HBox(children=(FloatProgress(value=0.0, max=16.0), HTML(value='')))"
      ]
     },
     "metadata": {},
     "output_type": "display_data"
    },
    {
     "name": "stdout",
     "output_type": "stream",
     "text": [
      "outputs 0.9998783469200134 0.00024330615997314453\n",
      "targets 0.5 0.5658032894134521\n",
      "outputs 0.9999997615814209 4.172325134277344e-07\n",
      "targets 0.5 0.5658032894134521\n",
      "outputs 0.9999642372131348 7.146596908569336e-05\n",
      "targets 0.7450000047683716 0.49000000953674316\n",
      "outputs 0.9161070585250854 0.13583067059516907\n",
      "targets 0.5 0.5658032894134521\n",
      "outputs 0.999893069267273 0.00021006491442676634\n",
      "targets 0.7450000047683716 0.49000000953674316\n",
      "outputs 0.9100407958030701 0.15735051035881042\n",
      "targets 0.2549999952316284 0.49000000953674316\n",
      "outputs 0.8832482099533081 0.17295342683792114\n",
      "targets 0.5 0.5658032894134521\n",
      "outputs 0.8689742684364319 0.19629482924938202\n",
      "targets 0.7450000047683716 0.49000000953674316\n",
      "outputs 0.8779575228691101 0.24408498406410217\n",
      "targets 0.5 0.5658032894134521\n",
      "outputs 0.8025091886520386 0.22822020947933197\n",
      "targets 0.2549999952316284 0.49000000953674316\n",
      "outputs 0.9153324365615845 0.16933518648147583\n",
      "targets 0.2549999952316284 0.49000000953674316\n",
      "outputs 0.9598536491394043 0.0802927017211914\n",
      "targets 0.5 0.5658032894134521\n",
      "outputs 0.9999451637268066 0.00010969241702696308\n",
      "targets 0.5 0.5658032894134521\n",
      "Valid Step 13/16, valid_loss: 0.7997\n",
      "\n",
      "\n"
     ]
    },
    {
     "ename": "KeyboardInterrupt",
     "evalue": "",
     "output_type": "error",
     "traceback": [
      "\u001b[0;31m---------------------------------------------------------------------------\u001b[0m",
      "\u001b[0;31mKeyboardInterrupt\u001b[0m                         Traceback (most recent call last)",
      "\u001b[0;32m<ipython-input-32-cb118edb5f29>\u001b[0m in \u001b[0;36m<module>\u001b[0;34m\u001b[0m\n\u001b[1;32m      2\u001b[0m \u001b[0;34m\u001b[0m\u001b[0m\n\u001b[1;32m      3\u001b[0m \u001b[0;32mif\u001b[0m \u001b[0;32mnot\u001b[0m \u001b[0mmodelfiles\u001b[0m\u001b[0;34m:\u001b[0m\u001b[0;34m\u001b[0m\u001b[0;34m\u001b[0m\u001b[0m\n\u001b[0;32m----> 4\u001b[0;31m     \u001b[0mmodelfiles\u001b[0m \u001b[0;34m=\u001b[0m \u001b[0;34m[\u001b[0m\u001b[0mtrain_mri_type\u001b[0m\u001b[0;34m(\u001b[0m\u001b[0mdf_train\u001b[0m\u001b[0;34m,\u001b[0m \u001b[0mdf_valid\u001b[0m\u001b[0;34m,\u001b[0m \u001b[0mm\u001b[0m\u001b[0;34m)\u001b[0m \u001b[0;32mfor\u001b[0m \u001b[0mm\u001b[0m \u001b[0;32min\u001b[0m \u001b[0mcfg\u001b[0m\u001b[0;34m.\u001b[0m\u001b[0mmri_types\u001b[0m\u001b[0;34m]\u001b[0m\u001b[0;34m\u001b[0m\u001b[0;34m\u001b[0m\u001b[0m\n\u001b[0m\u001b[1;32m      5\u001b[0m     \u001b[0mprint\u001b[0m\u001b[0;34m(\u001b[0m\u001b[0mmodelfiles\u001b[0m\u001b[0;34m)\u001b[0m\u001b[0;34m\u001b[0m\u001b[0;34m\u001b[0m\u001b[0m\n",
      "\u001b[0;32m<ipython-input-32-cb118edb5f29>\u001b[0m in \u001b[0;36m<listcomp>\u001b[0;34m(.0)\u001b[0m\n\u001b[1;32m      2\u001b[0m \u001b[0;34m\u001b[0m\u001b[0m\n\u001b[1;32m      3\u001b[0m \u001b[0;32mif\u001b[0m \u001b[0;32mnot\u001b[0m \u001b[0mmodelfiles\u001b[0m\u001b[0;34m:\u001b[0m\u001b[0;34m\u001b[0m\u001b[0;34m\u001b[0m\u001b[0m\n\u001b[0;32m----> 4\u001b[0;31m     \u001b[0mmodelfiles\u001b[0m \u001b[0;34m=\u001b[0m \u001b[0;34m[\u001b[0m\u001b[0mtrain_mri_type\u001b[0m\u001b[0;34m(\u001b[0m\u001b[0mdf_train\u001b[0m\u001b[0;34m,\u001b[0m \u001b[0mdf_valid\u001b[0m\u001b[0;34m,\u001b[0m \u001b[0mm\u001b[0m\u001b[0;34m)\u001b[0m \u001b[0;32mfor\u001b[0m \u001b[0mm\u001b[0m \u001b[0;32min\u001b[0m \u001b[0mcfg\u001b[0m\u001b[0;34m.\u001b[0m\u001b[0mmri_types\u001b[0m\u001b[0;34m]\u001b[0m\u001b[0;34m\u001b[0m\u001b[0;34m\u001b[0m\u001b[0m\n\u001b[0m\u001b[1;32m      5\u001b[0m     \u001b[0mprint\u001b[0m\u001b[0;34m(\u001b[0m\u001b[0mmodelfiles\u001b[0m\u001b[0;34m)\u001b[0m\u001b[0;34m\u001b[0m\u001b[0;34m\u001b[0m\u001b[0m\n",
      "\u001b[0;32m<ipython-input-30-76be1168f4ff>\u001b[0m in \u001b[0;36mtrain_mri_type\u001b[0;34m(df_train, df_valid, mri_type)\u001b[0m\n\u001b[1;32m     63\u001b[0m     )\n\u001b[1;32m     64\u001b[0m \u001b[0;34m\u001b[0m\u001b[0m\n\u001b[0;32m---> 65\u001b[0;31m     history = trainer.fit(\n\u001b[0m\u001b[1;32m     66\u001b[0m         \u001b[0mcfg\u001b[0m\u001b[0;34m.\u001b[0m\u001b[0mepochs\u001b[0m\u001b[0;34m,\u001b[0m\u001b[0;34m\u001b[0m\u001b[0;34m\u001b[0m\u001b[0m\n\u001b[1;32m     67\u001b[0m         \u001b[0mtrain_loader\u001b[0m\u001b[0;34m,\u001b[0m\u001b[0;34m\u001b[0m\u001b[0;34m\u001b[0m\u001b[0m\n",
      "\u001b[0;32m<ipython-input-28-22b45d0a0e8c>\u001b[0m in \u001b[0;36mfit\u001b[0;34m(self, epochs, train_loader, valid_loader, save_path, patience)\u001b[0m\n\u001b[1;32m     27\u001b[0m             \u001b[0mtbar\u001b[0m\u001b[0;34m.\u001b[0m\u001b[0mset_description\u001b[0m\u001b[0;34m(\u001b[0m\u001b[0;34mf'EPOCH: {n_epoch}'\u001b[0m\u001b[0;34m)\u001b[0m\u001b[0;34m\u001b[0m\u001b[0;34m\u001b[0m\u001b[0m\n\u001b[1;32m     28\u001b[0m \u001b[0;34m\u001b[0m\u001b[0m\n\u001b[0;32m---> 29\u001b[0;31m             \u001b[0mtrain_loss\u001b[0m\u001b[0;34m,\u001b[0m \u001b[0mtrain_time\u001b[0m \u001b[0;34m=\u001b[0m \u001b[0mself\u001b[0m\u001b[0;34m.\u001b[0m\u001b[0mtrain_epoch\u001b[0m\u001b[0;34m(\u001b[0m\u001b[0mtrain_loader\u001b[0m\u001b[0;34m,\u001b[0m \u001b[0mvalid_loader\u001b[0m\u001b[0;34m,\u001b[0m \u001b[0mn_epoch\u001b[0m\u001b[0;34m,\u001b[0m \u001b[0msave_path\u001b[0m\u001b[0;34m)\u001b[0m\u001b[0;34m\u001b[0m\u001b[0;34m\u001b[0m\u001b[0m\n\u001b[0m\u001b[1;32m     30\u001b[0m             \u001b[0mvalid_loss\u001b[0m\u001b[0;34m,\u001b[0m \u001b[0mvalid_auc\u001b[0m\u001b[0;34m,\u001b[0m \u001b[0mvalid_time\u001b[0m \u001b[0;34m=\u001b[0m \u001b[0mself\u001b[0m\u001b[0;34m.\u001b[0m\u001b[0mvalid_epoch\u001b[0m\u001b[0;34m(\u001b[0m\u001b[0mvalid_loader\u001b[0m\u001b[0;34m)\u001b[0m\u001b[0;34m\u001b[0m\u001b[0;34m\u001b[0m\u001b[0m\n\u001b[1;32m     31\u001b[0m \u001b[0;34m\u001b[0m\u001b[0m\n",
      "\u001b[0;32m<ipython-input-28-22b45d0a0e8c>\u001b[0m in \u001b[0;36mtrain_epoch\u001b[0;34m(self, train_loader, valid_loader, n_epoch, save_path)\u001b[0m\n\u001b[1;32m     99\u001b[0m             \u001b[0;32mif\u001b[0m \u001b[0mn_epoch\u001b[0m \u001b[0;32min\u001b[0m \u001b[0mcfg\u001b[0m\u001b[0;34m.\u001b[0m\u001b[0mextra_check_epochs\u001b[0m\u001b[0;34m:\u001b[0m\u001b[0;34m\u001b[0m\u001b[0;34m\u001b[0m\u001b[0m\n\u001b[1;32m    100\u001b[0m                 \u001b[0;32mif\u001b[0m \u001b[0mstep\u001b[0m \u001b[0;34m%\u001b[0m \u001b[0mcfg\u001b[0m\u001b[0;34m.\u001b[0m\u001b[0mcheck_frequency\u001b[0m \u001b[0;34m==\u001b[0m \u001b[0;36m0\u001b[0m\u001b[0;34m:\u001b[0m\u001b[0;34m\u001b[0m\u001b[0;34m\u001b[0m\u001b[0m\n\u001b[0;32m--> 101\u001b[0;31m                     \u001b[0mvalid_loss\u001b[0m\u001b[0;34m,\u001b[0m \u001b[0mvalid_auc\u001b[0m\u001b[0;34m,\u001b[0m \u001b[0mvalid_time\u001b[0m \u001b[0;34m=\u001b[0m \u001b[0mself\u001b[0m\u001b[0;34m.\u001b[0m\u001b[0mvalid_epoch\u001b[0m\u001b[0;34m(\u001b[0m\u001b[0mvalid_loader\u001b[0m\u001b[0;34m)\u001b[0m\u001b[0;34m\u001b[0m\u001b[0;34m\u001b[0m\u001b[0m\n\u001b[0m\u001b[1;32m    102\u001b[0m                     \u001b[0mself\u001b[0m\u001b[0;34m.\u001b[0m\u001b[0mcheck_and_save\u001b[0m\u001b[0;34m(\u001b[0m\u001b[0mvalid_loss\u001b[0m\u001b[0;34m,\u001b[0m \u001b[0mvalid_auc\u001b[0m\u001b[0;34m,\u001b[0m \u001b[0mvalid_time\u001b[0m\u001b[0;34m,\u001b[0m \u001b[0mn_epoch\u001b[0m\u001b[0;34m,\u001b[0m \u001b[0msave_path\u001b[0m\u001b[0;34m)\u001b[0m\u001b[0;34m\u001b[0m\u001b[0;34m\u001b[0m\u001b[0m\n\u001b[1;32m    103\u001b[0m                     \u001b[0mself\u001b[0m\u001b[0;34m.\u001b[0m\u001b[0mprint_valid_message\u001b[0m\u001b[0;34m(\u001b[0m\u001b[0mvalid_loss\u001b[0m\u001b[0;34m,\u001b[0m \u001b[0mvalid_auc\u001b[0m\u001b[0;34m,\u001b[0m \u001b[0mvalid_time\u001b[0m\u001b[0;34m,\u001b[0m \u001b[0mn_epoch\u001b[0m\u001b[0;34m)\u001b[0m\u001b[0;34m\u001b[0m\u001b[0;34m\u001b[0m\u001b[0m\n",
      "\u001b[0;32m<ipython-input-28-22b45d0a0e8c>\u001b[0m in \u001b[0;36mvalid_epoch\u001b[0;34m(self, valid_loader)\u001b[0m\n\u001b[1;32m    121\u001b[0m                 \u001b[0moutputs\u001b[0m \u001b[0;34m=\u001b[0m \u001b[0mtorch\u001b[0m\u001b[0;34m.\u001b[0m\u001b[0msigmoid\u001b[0m\u001b[0;34m(\u001b[0m\u001b[0mself\u001b[0m\u001b[0;34m.\u001b[0m\u001b[0mmodel\u001b[0m\u001b[0;34m(\u001b[0m\u001b[0mX\u001b[0m\u001b[0;34m)\u001b[0m\u001b[0;34m.\u001b[0m\u001b[0msqueeze\u001b[0m\u001b[0;34m(\u001b[0m\u001b[0;36m1\u001b[0m\u001b[0;34m)\u001b[0m\u001b[0;34m)\u001b[0m\u001b[0;34m\u001b[0m\u001b[0;34m\u001b[0m\u001b[0m\n\u001b[1;32m    122\u001b[0m                 \u001b[0mloss\u001b[0m \u001b[0;34m=\u001b[0m \u001b[0mself\u001b[0m\u001b[0;34m.\u001b[0m\u001b[0mcriterion\u001b[0m\u001b[0;34m(\u001b[0m\u001b[0moutputs\u001b[0m\u001b[0;34m,\u001b[0m \u001b[0mtargets\u001b[0m\u001b[0;34m)\u001b[0m\u001b[0;34m\u001b[0m\u001b[0;34m\u001b[0m\u001b[0m\n\u001b[0;32m--> 123\u001b[0;31m                 \u001b[0mprint\u001b[0m\u001b[0;34m(\u001b[0m\u001b[0;34m'outputs'\u001b[0m\u001b[0;34m,\u001b[0m \u001b[0moutputs\u001b[0m\u001b[0;34m.\u001b[0m\u001b[0mmean\u001b[0m\u001b[0;34m(\u001b[0m\u001b[0;34m)\u001b[0m\u001b[0;34m.\u001b[0m\u001b[0mitem\u001b[0m\u001b[0;34m(\u001b[0m\u001b[0;34m)\u001b[0m\u001b[0;34m,\u001b[0m \u001b[0moutputs\u001b[0m\u001b[0;34m.\u001b[0m\u001b[0mstd\u001b[0m\u001b[0;34m(\u001b[0m\u001b[0;34m)\u001b[0m\u001b[0;34m.\u001b[0m\u001b[0mitem\u001b[0m\u001b[0;34m(\u001b[0m\u001b[0;34m)\u001b[0m\u001b[0;34m)\u001b[0m\u001b[0;34m\u001b[0m\u001b[0;34m\u001b[0m\u001b[0m\n\u001b[0m\u001b[1;32m    124\u001b[0m                 \u001b[0mprint\u001b[0m\u001b[0;34m(\u001b[0m\u001b[0;34m'targets'\u001b[0m\u001b[0;34m,\u001b[0m \u001b[0mtargets\u001b[0m\u001b[0;34m.\u001b[0m\u001b[0mmean\u001b[0m\u001b[0;34m(\u001b[0m\u001b[0;34m)\u001b[0m\u001b[0;34m.\u001b[0m\u001b[0mitem\u001b[0m\u001b[0;34m(\u001b[0m\u001b[0;34m)\u001b[0m\u001b[0;34m,\u001b[0m \u001b[0mtargets\u001b[0m\u001b[0;34m.\u001b[0m\u001b[0mstd\u001b[0m\u001b[0;34m(\u001b[0m\u001b[0;34m)\u001b[0m\u001b[0;34m.\u001b[0m\u001b[0mitem\u001b[0m\u001b[0;34m(\u001b[0m\u001b[0;34m)\u001b[0m\u001b[0;34m)\u001b[0m\u001b[0;34m\u001b[0m\u001b[0;34m\u001b[0m\u001b[0m\n\u001b[1;32m    125\u001b[0m \u001b[0;34m\u001b[0m\u001b[0m\n",
      "\u001b[0;31mKeyboardInterrupt\u001b[0m: "
     ]
    }
   ],
   "source": [
    "modelfiles = None\n",
    "\n",
    "if not modelfiles:\n",
    "    modelfiles = [train_mri_type(df_train, df_valid, m) for m in cfg.mri_types]\n",
    "    print(modelfiles)"
   ]
  },
  {
   "cell_type": "markdown",
   "id": "375c1a78-031a-47d4-ad5c-d0d4c55aa6ff",
   "metadata": {},
   "source": [
    "## Predict Function"
   ]
  },
  {
   "cell_type": "code",
   "execution_count": null,
   "id": "fce99aae-a8d8-457c-82b6-c370be8479a2",
   "metadata": {},
   "outputs": [],
   "source": [
    "def predict(modelfile, df, mri_type, split):\n",
    "    print(\"Predict:\", modelfile, mri_type, df.shape)\n",
    "    df.loc[:,\"MRI_Type\"] = mri_type\n",
    "    data_retriever = Dataset(\n",
    "        df.index.values, \n",
    "        mri_type=df[\"MRI_Type\"].values,\n",
    "        split=split\n",
    "    )\n",
    "\n",
    "    data_loader = torch_data.DataLoader(\n",
    "        data_retriever,\n",
    "        batch_size=cfg.batch_size,\n",
    "        shuffle=False,\n",
    "        num_workers=8,\n",
    "    )\n",
    "   \n",
    "    model = create_model()\n",
    "    \n",
    "    checkpoint = torch.load(modelfile)\n",
    "    model.load_state_dict(checkpoint[\"model_state_dict\"])\n",
    "    model.eval()\n",
    "    \n",
    "    y_pred = []\n",
    "    ids = []\n",
    "\n",
    "    for e, batch in enumerate(data_loader,1):\n",
    "        print(f\"{e}/{len(data_loader)}\", end=\"\\r\")\n",
    "        with torch.no_grad():\n",
    "            tmp_pred = torch.sigmoid(model(batch[\"X\"].to(device)).cpu().numpy().squeeze())\n",
    "            print('tmp_pred', tmp_pred)\n",
    "            if tmp_pred.size == 1:\n",
    "                y_pred.append(tmp_pred)\n",
    "            else:\n",
    "                y_pred.extend(tmp_pred.tolist())\n",
    "            ids.extend(batch[\"id\"].numpy().tolist())\n",
    "            \n",
    "    preddf = pd.DataFrame({\"BraTS21ID\": ids, \"MGMT_value\": y_pred}) \n",
    "    preddf = preddf.set_index(\"BraTS21ID\")\n",
    "    return preddf"
   ]
  },
  {
   "cell_type": "markdown",
   "id": "16cb658c-ec2a-4854-9ddd-d1b21f1af23b",
   "metadata": {},
   "source": [
    "### Ensemble for Validation"
   ]
  },
  {
   "cell_type": "code",
   "execution_count": null,
   "id": "8771772d-7171-40bb-ae18-4b820519a5e8",
   "metadata": {},
   "outputs": [],
   "source": [
    "df_valid = df_valid.set_index(\"BraTS21ID\")"
   ]
  },
  {
   "cell_type": "code",
   "execution_count": null,
   "id": "e7fa9705-3b2b-49bf-bc72-f9ebc849c264",
   "metadata": {},
   "outputs": [],
   "source": [
    "def normalize_results(preds, train):\n",
    "    return (preds - (preds.mean() - train.mean()))"
   ]
  },
  {
   "cell_type": "code",
   "execution_count": null,
   "id": "a39e8f7c-e055-4a78-9a54-aa2e169cf459",
   "metadata": {},
   "outputs": [],
   "source": [
    "df_valid[\"MGMT_pred\"] = 0\n",
    "for m, mtype in zip(modelfiles,  mri_types):\n",
    "    pred = predict(m, df_valid, mtype, \"train\")\n",
    "    df_valid[\"MGMT_pred\"] += pred[\"MGMT_value\"]\n",
    "df_valid[\"MGMT_pred\"] /= len(modelfiles)\n",
    "auc = roc_auc_score(df_valid[\"MGMT_value\"], df_valid[\"MGMT_pred\"])\n",
    "print(f\"Validation ensemble AUC: {auc:.4f}\")\n",
    "sns.displot(df_valid[\"MGMT_pred\"])"
   ]
  }
 ],
 "metadata": {
  "kernelspec": {
   "display_name": "Python 3",
   "language": "python",
   "name": "python3"
  },
  "language_info": {
   "codemirror_mode": {
    "name": "ipython",
    "version": 3
   },
   "file_extension": ".py",
   "mimetype": "text/x-python",
   "name": "python",
   "nbconvert_exporter": "python",
   "pygments_lexer": "ipython3",
   "version": "3.8.5"
  }
 },
 "nbformat": 4,
 "nbformat_minor": 5
}
