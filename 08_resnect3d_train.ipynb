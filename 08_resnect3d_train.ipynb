{
 "cells": [
  {
   "cell_type": "code",
   "execution_count": 1,
   "id": "68031610-6a2d-40a7-9a4d-2e2ac382d637",
   "metadata": {},
   "outputs": [],
   "source": [
    "import math, glob, random, os, time\n",
    "import pydicom\n",
    "import cv2\n",
    "from functools import partial\n",
    "from pathlib import Path\n",
    "\n",
    "import numpy as np\n",
    "import pandas as pd\n",
    "\n",
    "import torch\n",
    "import torch.nn as nn\n",
    "import torch.nn.functional as F\n",
    "from torch.utils import data as torch_data\n",
    "from sklearn import model_selection as sk_model_selection\n",
    "from tqdm.notebook import tqdm\n",
    "from sklearn.metrics import roc_auc_score\n",
    "import matplotlib.pyplot as plt\n",
    "\n",
    "from functools import partialmethod"
   ]
  },
  {
   "cell_type": "markdown",
   "id": "0755d7a8-e06f-45e2-9e11-6519119446bc",
   "metadata": {},
   "source": [
    "### Config"
   ]
  },
  {
   "cell_type": "code",
   "execution_count": 2,
   "id": "20cee47e-558e-4899-bb60-5f60a8ea8c6b",
   "metadata": {},
   "outputs": [],
   "source": [
    "class Config():\n",
    "    device = torch.device(\"cuda\" if torch.cuda.is_available() else \"cpu\")\n",
    "    size = 256\n",
    "    num_images = 64\n",
    "    base_path = Path('/home/RSNA_MICCAI_Brain_Tumor/data')\n",
    "    assert base_path.exists(), f'{base_path} does not exist'\n",
    "    models_path = Path('/home/RSNA_MICCAI_Brain_Tumor/models')\n",
    "    assert models_path.exists()\n",
    "    seed = 42\n",
    "    test_size = 0.1\n",
    "    clahe=False\n",
    "    mri_types = ['FLAIR','T1w','T1wCE','T2w']\n",
    "    batch_size = 4\n",
    "    num_workers = 7\n",
    "    epochs = 18\n",
    "    extra_check_epochs = [14,15]\n",
    "    check_frequency = 4\n",
    "    \n",
    "cfg = Config()"
   ]
  },
  {
   "cell_type": "code",
   "execution_count": 3,
   "id": "bb8380aa-8190-48c9-9ea4-069c01095d73",
   "metadata": {},
   "outputs": [
    {
     "data": {
      "text/plain": [
       "device(type='cuda')"
      ]
     },
     "execution_count": 3,
     "metadata": {},
     "output_type": "execute_result"
    }
   ],
   "source": [
    "cfg.device"
   ]
  },
  {
   "cell_type": "markdown",
   "id": "9faf3adc-106a-4493-8c18-f63e74456f99",
   "metadata": {},
   "source": [
    "### Functions for loading images"
   ]
  },
  {
   "cell_type": "code",
   "execution_count": 4,
   "id": "14f2d79d-552d-4b7e-941b-bbb55a6898b6",
   "metadata": {},
   "outputs": [],
   "source": [
    "def load_dicom_image(path, img_size=cfg.size, clahe=False):\n",
    "    dicom = pydicom.read_file(path)\n",
    "    data = dicom.pixel_array\n",
    "    max_data = np.max(data)\n",
    "    min_data = np.min(data)\n",
    "    if min_data == max_data:\n",
    "        data = np.zeros((img_size,img_size))\n",
    "        return data\n",
    "    data = data - min_data\n",
    "    if max_data != 0:\n",
    "        data = data / (max_data - min_data) \n",
    "    \n",
    "    #data = (data * 255).astype(np.uint8)\n",
    "    data = cv2.resize(data, (img_size, img_size))\n",
    "    return data"
   ]
  },
  {
   "cell_type": "code",
   "execution_count": 5,
   "id": "e51e7b17-e406-41f7-8cb3-f7ab6462c2c8",
   "metadata": {},
   "outputs": [],
   "source": [
    "def load_dicom_images_3d(scan_id, num_imgs=cfg.num_images, img_size=cfg.size, mri_type=\"FLAIR\", split=\"train\", clahe=False):\n",
    "\n",
    "    files = sorted(glob.glob(f\"{cfg.base_path}/{split}/{scan_id}/{mri_type}/*.dcm\"))\n",
    "    assert len(files) > 0\n",
    "    \n",
    "    middle = len(files)//2\n",
    "    num_imgs2 = num_imgs//2\n",
    "    p1 = max(0, middle - num_imgs2)\n",
    "    p2 = min(len(files), middle + num_imgs2)\n",
    "    img3d = np.stack([load_dicom_image(f, clahe=False) for f in files[p1:p2]]).T \n",
    "    if img3d.shape[-1] < num_imgs:\n",
    "        n_zero = np.zeros((img_size, img_size, num_imgs - img3d.shape[-1]))\n",
    "        img3d = np.concatenate((img3d,  n_zero), axis = -1)\n",
    "    img3d = img3d[:,:,:]\n",
    "    # Transforms\n",
    "#     img3d = flip3D(brightness(img3d))\n",
    "#     if convert_vertical_flag:\n",
    "#         img3d_vert = convert_vertical(img3d, size=img3d.shape[0])\n",
    "#         img3d = np.concatenate([img3d, img3d_vert], axis=-1)\n",
    "    return np.expand_dims(img3d[:,:,:], 0)"
   ]
  },
  {
   "cell_type": "code",
   "execution_count": 6,
   "id": "a262bf03-fec2-42d4-8481-12895a17e5c4",
   "metadata": {},
   "outputs": [
    {
     "data": {
      "text/plain": [
       "(1, 256, 256, 64)"
      ]
     },
     "execution_count": 6,
     "metadata": {},
     "output_type": "execute_result"
    }
   ],
   "source": [
    "sample_image_0 = load_dicom_images_3d(\"00000\")\n",
    "sample_image_0.shape"
   ]
  },
  {
   "cell_type": "markdown",
   "id": "e8408819-4d52-43a4-841a-c79d5c370587",
   "metadata": {},
   "source": [
    "### Seeding"
   ]
  },
  {
   "cell_type": "code",
   "execution_count": 7,
   "id": "d9c9f9f7-35ad-4e11-b597-5f4eed0aa5dc",
   "metadata": {},
   "outputs": [],
   "source": [
    "def set_seed(seed):\n",
    "    random.seed(seed)\n",
    "    os.environ[\"PYTHONHASHSEED\"] = str(seed)\n",
    "    np.random.seed(seed)\n",
    "    torch.manual_seed(seed)\n",
    "    if torch.cuda.is_available():\n",
    "        torch.cuda.manual_seed_all(seed)\n",
    "        torch.backends.cudnn.deterministic = True\n",
    "\n",
    "set_seed(cfg.seed)"
   ]
  },
  {
   "cell_type": "markdown",
   "id": "38245804-c74d-4efe-be8f-bf06b8bfe550",
   "metadata": {},
   "source": [
    "### Tabular Data"
   ]
  },
  {
   "cell_type": "code",
   "execution_count": 8,
   "id": "7701e739-7246-4a42-a288-e38a89efd310",
   "metadata": {},
   "outputs": [
    {
     "data": {
      "text/html": [
       "<div>\n",
       "<style scoped>\n",
       "    .dataframe tbody tr th:only-of-type {\n",
       "        vertical-align: middle;\n",
       "    }\n",
       "\n",
       "    .dataframe tbody tr th {\n",
       "        vertical-align: top;\n",
       "    }\n",
       "\n",
       "    .dataframe thead th {\n",
       "        text-align: right;\n",
       "    }\n",
       "</style>\n",
       "<table border=\"1\" class=\"dataframe\">\n",
       "  <thead>\n",
       "    <tr style=\"text-align: right;\">\n",
       "      <th></th>\n",
       "      <th>BraTS21ID</th>\n",
       "      <th>MGMT_value</th>\n",
       "    </tr>\n",
       "  </thead>\n",
       "  <tbody>\n",
       "    <tr>\n",
       "      <th>0</th>\n",
       "      <td>0</td>\n",
       "      <td>1</td>\n",
       "    </tr>\n",
       "    <tr>\n",
       "      <th>1</th>\n",
       "      <td>2</td>\n",
       "      <td>1</td>\n",
       "    </tr>\n",
       "    <tr>\n",
       "      <th>2</th>\n",
       "      <td>3</td>\n",
       "      <td>0</td>\n",
       "    </tr>\n",
       "    <tr>\n",
       "      <th>3</th>\n",
       "      <td>5</td>\n",
       "      <td>1</td>\n",
       "    </tr>\n",
       "    <tr>\n",
       "      <th>4</th>\n",
       "      <td>6</td>\n",
       "      <td>1</td>\n",
       "    </tr>\n",
       "    <tr>\n",
       "      <th>...</th>\n",
       "      <td>...</td>\n",
       "      <td>...</td>\n",
       "    </tr>\n",
       "    <tr>\n",
       "      <th>580</th>\n",
       "      <td>1005</td>\n",
       "      <td>1</td>\n",
       "    </tr>\n",
       "    <tr>\n",
       "      <th>581</th>\n",
       "      <td>1007</td>\n",
       "      <td>1</td>\n",
       "    </tr>\n",
       "    <tr>\n",
       "      <th>582</th>\n",
       "      <td>1008</td>\n",
       "      <td>1</td>\n",
       "    </tr>\n",
       "    <tr>\n",
       "      <th>583</th>\n",
       "      <td>1009</td>\n",
       "      <td>0</td>\n",
       "    </tr>\n",
       "    <tr>\n",
       "      <th>584</th>\n",
       "      <td>1010</td>\n",
       "      <td>0</td>\n",
       "    </tr>\n",
       "  </tbody>\n",
       "</table>\n",
       "<p>585 rows × 2 columns</p>\n",
       "</div>"
      ],
      "text/plain": [
       "     BraTS21ID  MGMT_value\n",
       "0            0           1\n",
       "1            2           1\n",
       "2            3           0\n",
       "3            5           1\n",
       "4            6           1\n",
       "..         ...         ...\n",
       "580       1005           1\n",
       "581       1007           1\n",
       "582       1008           1\n",
       "583       1009           0\n",
       "584       1010           0\n",
       "\n",
       "[585 rows x 2 columns]"
      ]
     },
     "execution_count": 8,
     "metadata": {},
     "output_type": "execute_result"
    }
   ],
   "source": [
    "train_df = pd.read_csv(f\"{cfg.base_path}/train_labels.csv\")\n",
    "train_df"
   ]
  },
  {
   "cell_type": "code",
   "execution_count": 9,
   "id": "d557a01e-52f1-4764-9110-b08bab3df523",
   "metadata": {},
   "outputs": [
    {
     "data": {
      "text/html": [
       "<div>\n",
       "<style scoped>\n",
       "    .dataframe tbody tr th:only-of-type {\n",
       "        vertical-align: middle;\n",
       "    }\n",
       "\n",
       "    .dataframe tbody tr th {\n",
       "        vertical-align: top;\n",
       "    }\n",
       "\n",
       "    .dataframe thead th {\n",
       "        text-align: right;\n",
       "    }\n",
       "</style>\n",
       "<table border=\"1\" class=\"dataframe\">\n",
       "  <thead>\n",
       "    <tr style=\"text-align: right;\">\n",
       "      <th></th>\n",
       "      <th>BraTS21ID</th>\n",
       "      <th>MGMT_value</th>\n",
       "    </tr>\n",
       "  </thead>\n",
       "  <tbody>\n",
       "    <tr>\n",
       "      <th>0</th>\n",
       "      <td>0</td>\n",
       "      <td>1</td>\n",
       "    </tr>\n",
       "    <tr>\n",
       "      <th>1</th>\n",
       "      <td>2</td>\n",
       "      <td>1</td>\n",
       "    </tr>\n",
       "    <tr>\n",
       "      <th>2</th>\n",
       "      <td>3</td>\n",
       "      <td>0</td>\n",
       "    </tr>\n",
       "    <tr>\n",
       "      <th>3</th>\n",
       "      <td>5</td>\n",
       "      <td>1</td>\n",
       "    </tr>\n",
       "    <tr>\n",
       "      <th>4</th>\n",
       "      <td>6</td>\n",
       "      <td>1</td>\n",
       "    </tr>\n",
       "    <tr>\n",
       "      <th>...</th>\n",
       "      <td>...</td>\n",
       "      <td>...</td>\n",
       "    </tr>\n",
       "    <tr>\n",
       "      <th>580</th>\n",
       "      <td>1005</td>\n",
       "      <td>1</td>\n",
       "    </tr>\n",
       "    <tr>\n",
       "      <th>581</th>\n",
       "      <td>1007</td>\n",
       "      <td>1</td>\n",
       "    </tr>\n",
       "    <tr>\n",
       "      <th>582</th>\n",
       "      <td>1008</td>\n",
       "      <td>1</td>\n",
       "    </tr>\n",
       "    <tr>\n",
       "      <th>583</th>\n",
       "      <td>1009</td>\n",
       "      <td>0</td>\n",
       "    </tr>\n",
       "    <tr>\n",
       "      <th>584</th>\n",
       "      <td>1010</td>\n",
       "      <td>0</td>\n",
       "    </tr>\n",
       "  </tbody>\n",
       "</table>\n",
       "<p>582 rows × 2 columns</p>\n",
       "</div>"
      ],
      "text/plain": [
       "     BraTS21ID  MGMT_value\n",
       "0            0           1\n",
       "1            2           1\n",
       "2            3           0\n",
       "3            5           1\n",
       "4            6           1\n",
       "..         ...         ...\n",
       "580       1005           1\n",
       "581       1007           1\n",
       "582       1008           1\n",
       "583       1009           0\n",
       "584       1010           0\n",
       "\n",
       "[582 rows x 2 columns]"
      ]
     },
     "execution_count": 9,
     "metadata": {},
     "output_type": "execute_result"
    }
   ],
   "source": [
    "train_df = train_df.drop(train_df[train_df['BraTS21ID'].isin([109, 123, 709])].index)\n",
    "train_df"
   ]
  },
  {
   "cell_type": "markdown",
   "id": "7a956074-ba2c-4760-94da-27731099459b",
   "metadata": {},
   "source": [
    "### Train / Test Split"
   ]
  },
  {
   "cell_type": "code",
   "execution_count": 10,
   "id": "fd31f549-a539-48cb-a847-ace203f5c0ec",
   "metadata": {},
   "outputs": [],
   "source": [
    "df_train, df_valid = sk_model_selection.train_test_split(\n",
    "    train_df, \n",
    "    test_size=cfg.test_size, \n",
    "    random_state=42, \n",
    "    stratify=train_df[\"MGMT_value\"],\n",
    ")"
   ]
  },
  {
   "cell_type": "code",
   "execution_count": 11,
   "id": "8ade0aa2-c3a1-47d7-b356-07ffce681da6",
   "metadata": {},
   "outputs": [
    {
     "data": {
      "text/plain": [
       "0.11281070745697896"
      ]
     },
     "execution_count": 11,
     "metadata": {},
     "output_type": "execute_result"
    }
   ],
   "source": [
    "len(df_valid) / len(df_train)"
   ]
  },
  {
   "cell_type": "code",
   "execution_count": 12,
   "id": "1d7b8a87-1fe7-4c07-9dd4-91e7e2e92c34",
   "metadata": {},
   "outputs": [],
   "source": [
    "df_valid = df_valid.append(pd.DataFrame([{'BraTS21ID': 1, 'MGMT_value': 1}, {'BraTS21ID': 13, 'MGMT_value': 1}]))"
   ]
  },
  {
   "cell_type": "code",
   "execution_count": 13,
   "id": "b4310dea-01ba-41d7-bc47-9e34c99c7ffb",
   "metadata": {},
   "outputs": [
    {
     "data": {
      "text/plain": [
       "0.11663479923518165"
      ]
     },
     "execution_count": 13,
     "metadata": {},
     "output_type": "execute_result"
    }
   ],
   "source": [
    "len(df_valid) / len(df_train)"
   ]
  },
  {
   "cell_type": "markdown",
   "id": "6f8f60e3-d196-4ff8-ad8f-f5caf5a755fe",
   "metadata": {},
   "source": [
    "### Dataset"
   ]
  },
  {
   "cell_type": "code",
   "execution_count": 14,
   "id": "366241e8-0531-42eb-bfc6-d6f5d0faa832",
   "metadata": {},
   "outputs": [],
   "source": [
    "class Dataset(torch_data.Dataset):\n",
    "    def __init__(self, paths, targets=None, mri_type=None, label_smoothing=0.01, split=\"train\"):\n",
    "        self.paths = paths\n",
    "        self.targets = targets\n",
    "        self.mri_type = mri_type\n",
    "        self.label_smoothing = label_smoothing\n",
    "        self.split = split\n",
    "          \n",
    "    def __len__(self):\n",
    "        return len(self.paths)\n",
    "    \n",
    "    def __getitem__(self, index):\n",
    "        scan_id = self.paths[index]\n",
    "        if self.targets is None:\n",
    "            data = load_dicom_images_3d(str(scan_id).zfill(5), mri_type=self.mri_type[index], split=self.split, clahe=cfg.clahe)\n",
    "        else:\n",
    "            data = load_dicom_images_3d(str(scan_id).zfill(5), mri_type=self.mri_type[index], split=\"train\", clahe=cfg.clahe)\n",
    "\n",
    "        if self.targets is None:\n",
    "            return {\"X\": torch.tensor(data).float(), \"id\": scan_id}\n",
    "        else:\n",
    "            y = torch.tensor(abs(self.targets[index]-self.label_smoothing), dtype=torch.float)\n",
    "            return {\"X\": torch.tensor(data).float(), \"y\": y}\n"
   ]
  },
  {
   "cell_type": "code",
   "execution_count": 15,
   "id": "5c807a37-95f9-40a7-ad91-b2eec71f326a",
   "metadata": {},
   "outputs": [
    {
     "name": "stderr",
     "output_type": "stream",
     "text": [
      "/opt/conda/lib/python3.8/site-packages/pandas/core/indexing.py:1597: SettingWithCopyWarning: \n",
      "A value is trying to be set on a copy of a slice from a DataFrame.\n",
      "Try using .loc[row_indexer,col_indexer] = value instead\n",
      "\n",
      "See the caveats in the documentation: https://pandas.pydata.org/pandas-docs/stable/user_guide/indexing.html#returning-a-view-versus-a-copy\n",
      "  self.obj[key] = value\n",
      "/opt/conda/lib/python3.8/site-packages/pandas/core/indexing.py:1720: SettingWithCopyWarning: \n",
      "A value is trying to be set on a copy of a slice from a DataFrame.\n",
      "Try using .loc[row_indexer,col_indexer] = value instead\n",
      "\n",
      "See the caveats in the documentation: https://pandas.pydata.org/pandas-docs/stable/user_guide/indexing.html#returning-a-view-versus-a-copy\n",
      "  self._setitem_single_column(loc, value, pi)\n"
     ]
    }
   ],
   "source": [
    "df_train.loc[:,\"MRI_Type\"] = 'FLAIR'\n",
    "sample_ds = Dataset(df_train['BraTS21ID'], df_train['MGMT_value'], df_train['MRI_Type'])"
   ]
  },
  {
   "cell_type": "code",
   "execution_count": 16,
   "id": "b970f28c-d712-43e8-a2df-c88414f7e32d",
   "metadata": {},
   "outputs": [
    {
     "data": {
      "text/plain": [
       "torch.Size([1, 256, 256, 64])"
      ]
     },
     "execution_count": 16,
     "metadata": {},
     "output_type": "execute_result"
    }
   ],
   "source": [
    "sample_ds[0]['X'].shape"
   ]
  },
  {
   "cell_type": "markdown",
   "id": "e4fd55ab-41ed-496c-bcbf-e551e6ab1910",
   "metadata": {},
   "source": [
    "### Model"
   ]
  },
  {
   "cell_type": "code",
   "execution_count": 17,
   "id": "0d2eb2f2-f02b-4c3d-a3dd-3fe53a695abb",
   "metadata": {},
   "outputs": [],
   "source": [
    "def conv3x3x3(in_planes, out_planes, stride=1):\n",
    "    return nn.Conv3d(in_planes,\n",
    "                     out_planes,\n",
    "                     kernel_size=3,\n",
    "                     stride=stride,\n",
    "                     padding=1,\n",
    "                     bias=False)"
   ]
  },
  {
   "cell_type": "code",
   "execution_count": 18,
   "id": "9c57198f-0d07-4cd6-b81e-47ab485e0803",
   "metadata": {},
   "outputs": [],
   "source": [
    "def conv1x1x1(in_planes, out_planes, stride=1):\n",
    "    return nn.Conv3d(in_planes,\n",
    "                     out_planes,\n",
    "                     kernel_size=1,\n",
    "                     stride=stride,\n",
    "                     bias=False)\n",
    "\n",
    "\n",
    "class BasicBlock(nn.Module):\n",
    "    expansion = 1\n",
    "\n",
    "    def __init__(self, in_planes, planes, stride=1, downsample=None):\n",
    "        super().__init__()\n",
    "\n",
    "        self.conv1 = conv3x3x3(in_planes, planes, stride)\n",
    "        self.bn1 = nn.BatchNorm3d(planes)\n",
    "        self.relu = nn.ReLU(inplace=True)\n",
    "        self.conv2 = conv3x3x3(planes, planes)\n",
    "        self.bn2 = nn.BatchNorm3d(planes)\n",
    "        self.downsample = downsample\n",
    "        self.stride = stride\n",
    "\n",
    "    def forward(self, x):\n",
    "        residual = x\n",
    "\n",
    "        out = self.conv1(x)\n",
    "        out = self.bn1(out)\n",
    "        out = self.relu(out)\n",
    "\n",
    "        out = self.conv2(out)\n",
    "        out = self.bn2(out)\n",
    "\n",
    "        if self.downsample is not None:\n",
    "            residual = self.downsample(x)\n",
    "\n",
    "        out += residual\n",
    "        out = self.relu(out)\n",
    "\n",
    "        return out\n",
    "\n",
    "\n",
    "class Bottleneck(nn.Module):\n",
    "    expansion = 4\n",
    "\n",
    "    def __init__(self, in_planes, planes, stride=1, downsample=None):\n",
    "        super().__init__()\n",
    "\n",
    "        self.conv1 = conv1x1x1(in_planes, planes)\n",
    "        self.bn1 = nn.BatchNorm3d(planes)\n",
    "        self.conv2 = conv3x3x3(planes, planes, stride)\n",
    "        self.bn2 = nn.BatchNorm3d(planes)\n",
    "        self.conv3 = conv1x1x1(planes, planes * self.expansion)\n",
    "        self.bn3 = nn.BatchNorm3d(planes * self.expansion)\n",
    "        self.relu = nn.ReLU(inplace=True)\n",
    "        self.downsample = downsample\n",
    "        self.stride = stride\n",
    "\n",
    "    def forward(self, x):\n",
    "        residual = x\n",
    "\n",
    "        out = self.conv1(x)\n",
    "        out = self.bn1(out)\n",
    "        out = self.relu(out)\n",
    "\n",
    "        out = self.conv2(out)\n",
    "        out = self.bn2(out)\n",
    "        out = self.relu(out)\n",
    "\n",
    "        out = self.conv3(out)\n",
    "        out = self.bn3(out)\n",
    "\n",
    "        if self.downsample is not None:\n",
    "            residual = self.downsample(x)\n",
    "\n",
    "        out += residual\n",
    "        out = self.relu(out)\n",
    "\n",
    "        return out\n",
    "\n",
    "\n",
    "class ResNet(nn.Module):\n",
    "\n",
    "    def __init__(self,\n",
    "                 block,\n",
    "                 layers,\n",
    "                 block_inplanes,\n",
    "                 n_input_channels=3,\n",
    "                 conv1_t_size=7,\n",
    "                 conv1_t_stride=1,\n",
    "                 no_max_pool=False,\n",
    "                 shortcut_type='B',\n",
    "                 widen_factor=1.0,\n",
    "                 n_classes=400):\n",
    "        super().__init__()\n",
    "\n",
    "        block_inplanes = [int(x * widen_factor) for x in block_inplanes]\n",
    "\n",
    "        self.in_planes = block_inplanes[0]\n",
    "        self.no_max_pool = no_max_pool\n",
    "\n",
    "        self.conv1 = nn.Conv3d(n_input_channels,\n",
    "                               self.in_planes,\n",
    "                               kernel_size=(conv1_t_size, 7, 7),\n",
    "                               stride=(conv1_t_stride, 2, 2),\n",
    "                               padding=(conv1_t_size // 2, 3, 3),\n",
    "                               bias=False)\n",
    "        self.bn1 = nn.BatchNorm3d(self.in_planes)\n",
    "        self.relu = nn.ReLU(inplace=True)\n",
    "        self.maxpool = nn.MaxPool3d(kernel_size=3, stride=2, padding=1)\n",
    "        self.layer1 = self._make_layer(block, block_inplanes[0], layers[0],\n",
    "                                       shortcut_type)\n",
    "        self.layer2 = self._make_layer(block,\n",
    "                                       block_inplanes[1],\n",
    "                                       layers[1],\n",
    "                                       shortcut_type,\n",
    "                                       stride=2)\n",
    "        self.layer3 = self._make_layer(block,\n",
    "                                       block_inplanes[2],\n",
    "                                       layers[2],\n",
    "                                       shortcut_type,\n",
    "                                       stride=2)\n",
    "        self.layer4 = self._make_layer(block,\n",
    "                                       block_inplanes[3],\n",
    "                                       layers[3],\n",
    "                                       shortcut_type,\n",
    "                                       stride=2)\n",
    "\n",
    "        self.avgpool = nn.AdaptiveAvgPool3d((1, 1, 1))\n",
    "        self.fc = nn.Linear(block_inplanes[3] * block.expansion, n_classes)\n",
    "\n",
    "        for m in self.modules():\n",
    "            if isinstance(m, nn.Conv3d):\n",
    "                nn.init.kaiming_normal_(m.weight,\n",
    "                                        mode='fan_out',\n",
    "                                        nonlinearity='relu')\n",
    "            elif isinstance(m, nn.BatchNorm3d):\n",
    "                nn.init.constant_(m.weight, 1)\n",
    "                nn.init.constant_(m.bias, 0)\n",
    "\n",
    "    def _downsample_basic_block(self, x, planes, stride):\n",
    "        out = F.avg_pool3d(x, kernel_size=1, stride=stride)\n",
    "        zero_pads = torch.zeros(out.size(0), planes - out.size(1), out.size(2),\n",
    "                                out.size(3), out.size(4))\n",
    "        if isinstance(out.data, torch.cuda.FloatTensor):\n",
    "            zero_pads = zero_pads.cuda()\n",
    "\n",
    "        out = torch.cat([out.data, zero_pads], dim=1)\n",
    "\n",
    "        return out\n",
    "\n",
    "    def _make_layer(self, block, planes, blocks, shortcut_type, stride=1):\n",
    "        downsample = None\n",
    "        if stride != 1 or self.in_planes != planes * block.expansion:\n",
    "            if shortcut_type == 'A':\n",
    "                downsample = partial(self._downsample_basic_block,\n",
    "                                     planes=planes * block.expansion,\n",
    "                                     stride=stride)\n",
    "            else:\n",
    "                downsample = nn.Sequential(\n",
    "                    conv1x1x1(self.in_planes, planes * block.expansion, stride),\n",
    "                    nn.BatchNorm3d(planes * block.expansion))\n",
    "\n",
    "        layers = []\n",
    "        layers.append(\n",
    "            block(in_planes=self.in_planes,\n",
    "                  planes=planes,\n",
    "                  stride=stride,\n",
    "                  downsample=downsample))\n",
    "        self.in_planes = planes * block.expansion\n",
    "        for i in range(1, blocks):\n",
    "            layers.append(block(self.in_planes, planes))\n",
    "\n",
    "        return nn.Sequential(*layers)\n",
    "\n",
    "    def forward(self, x):\n",
    "        x = self.conv1(x)\n",
    "        x = self.bn1(x)\n",
    "        x = self.relu(x)\n",
    "        if not self.no_max_pool:\n",
    "            x = self.maxpool(x)\n",
    "\n",
    "        x = self.layer1(x)\n",
    "        x = self.layer2(x)\n",
    "        x = self.layer3(x)\n",
    "        x = self.layer4(x)\n",
    "\n",
    "        x = self.avgpool(x)\n",
    "\n",
    "        x = x.view(x.size(0), -1)\n",
    "        x = self.fc(x)\n",
    "\n",
    "        return x\n",
    "\n",
    "\n",
    "def generate_model(model_depth, **kwargs):\n",
    "    assert model_depth in [10, 18, 34, 50, 101, 152, 200]\n",
    "    \n",
    "    def get_inplanes():\n",
    "        return [64, 128, 256, 512]\n",
    "\n",
    "    if model_depth == 10:\n",
    "        model = ResNet(BasicBlock, [1, 1, 1, 1], get_inplanes(), **kwargs)\n",
    "    elif model_depth == 18:\n",
    "        model = ResNet(BasicBlock, [2, 2, 2, 2], get_inplanes(), **kwargs)\n",
    "    elif model_depth == 34:\n",
    "        model = ResNet(BasicBlock, [3, 4, 6, 3], get_inplanes(), **kwargs)\n",
    "    elif model_depth == 50:\n",
    "        model = ResNet(Bottleneck, [3, 4, 6, 3], get_inplanes(), **kwargs)\n",
    "    elif model_depth == 101:\n",
    "        model = ResNet(Bottleneck, [3, 4, 23, 3], get_inplanes(), **kwargs)\n",
    "    elif model_depth == 152:\n",
    "        model = ResNet(Bottleneck, [3, 8, 36, 3], get_inplanes(), **kwargs)\n",
    "    elif model_depth == 200:\n",
    "        model = ResNet(Bottleneck, [3, 24, 36, 3], get_inplanes(), **kwargs)\n",
    "\n",
    "    return model"
   ]
  },
  {
   "cell_type": "code",
   "execution_count": 19,
   "id": "c0f2ba4e-f89a-4687-871f-e5ca63495ce9",
   "metadata": {},
   "outputs": [],
   "source": [
    "def partialclass(cls, *args, **kwargs):\n",
    "\n",
    "    class PartialClass(cls):\n",
    "        __init__ = partialmethod(cls.__init__, *args, **kwargs)\n",
    "\n",
    "    return PartialClass"
   ]
  },
  {
   "cell_type": "code",
   "execution_count": 20,
   "id": "0fc8ef9e-fb5c-4dde-bc4f-8a93412ba132",
   "metadata": {},
   "outputs": [],
   "source": [
    "\n",
    "\n",
    "\n",
    "class ResNeXtBottleneck(Bottleneck):\n",
    "    expansion = 2\n",
    "\n",
    "    def __init__(self, in_planes, planes, cardinality, stride=1,\n",
    "                 downsample=None):\n",
    "        super().__init__(in_planes, planes, stride, downsample)\n",
    "\n",
    "        mid_planes = cardinality * planes // 32\n",
    "        self.conv1 = conv1x1x1(in_planes, mid_planes)\n",
    "        self.bn1 = nn.BatchNorm3d(mid_planes)\n",
    "        self.conv2 = nn.Conv3d(mid_planes,\n",
    "                               mid_planes,\n",
    "                               kernel_size=3,\n",
    "                               stride=stride,\n",
    "                               padding=1,\n",
    "                               groups=cardinality,\n",
    "                               bias=False)\n",
    "        self.bn2 = nn.BatchNorm3d(mid_planes)\n",
    "        self.conv3 = conv1x1x1(mid_planes, planes * self.expansion)\n",
    "\n",
    "\n",
    "class ResNeXt(ResNet):\n",
    "\n",
    "    def __init__(self,\n",
    "                 block,\n",
    "                 layers,\n",
    "                 block_inplanes,\n",
    "                 n_input_channels=3,\n",
    "                 conv1_t_size=7,\n",
    "                 conv1_t_stride=1,\n",
    "                 no_max_pool=False,\n",
    "                 shortcut_type='B',\n",
    "                 cardinality=32,\n",
    "                 n_classes=400):\n",
    "        block = partialclass(block, cardinality=cardinality)\n",
    "        super().__init__(block, layers, block_inplanes, n_input_channels,\n",
    "                         conv1_t_size, conv1_t_stride, no_max_pool,\n",
    "                         shortcut_type, n_classes)\n",
    "\n",
    "        self.fc = nn.Linear(cardinality * 32 * block.expansion, n_classes)\n",
    "\n",
    "\n",
    "def generate_model(model_depth, **kwargs):\n",
    "    assert model_depth in [50, 101, 152, 200]\n",
    "    \n",
    "    def get_inplanes():\n",
    "        return [128, 256, 512, 1024]\n",
    "\n",
    "    if model_depth == 50:\n",
    "        model = ResNeXt(ResNeXtBottleneck, [3, 4, 6, 3], get_inplanes(),\n",
    "                        **kwargs)\n",
    "    elif model_depth == 101:\n",
    "        model = ResNeXt(ResNeXtBottleneck, [3, 4, 23, 3], get_inplanes(),\n",
    "                        **kwargs)\n",
    "    elif model_depth == 152:\n",
    "        model = ResNeXt(ResNeXtBottleneck, [3, 8, 36, 3], get_inplanes(),\n",
    "                        **kwargs)\n",
    "    elif model_depth == 200:\n",
    "        model = ResNeXt(ResNeXtBottleneck, [3, 24, 36, 3], get_inplanes(),\n",
    "                        **kwargs)\n",
    "\n",
    "    return model"
   ]
  },
  {
   "cell_type": "code",
   "execution_count": 21,
   "id": "4910f1f7-f628-4cd7-a14b-51e11c822e16",
   "metadata": {},
   "outputs": [],
   "source": [
    "def create_model():\n",
    "    model = generate_model(50, n_input_channels=1, n_classes=1)\n",
    "    return model.to(cfg.device)"
   ]
  },
  {
   "cell_type": "code",
   "execution_count": 22,
   "id": "8733df41-11a6-4027-bb9d-2254044685ff",
   "metadata": {},
   "outputs": [],
   "source": [
    "# resnext = create_model()"
   ]
  },
  {
   "cell_type": "code",
   "execution_count": 23,
   "id": "a447bfc4-3556-43d2-84a3-aeb1488017aa",
   "metadata": {},
   "outputs": [],
   "source": [
    "# torch.backends.cudnn.enabled = False\n",
    "# sample_data = torch.randn([4, 1, 64, 256, 256]).to(cfg.device)\n",
    "# resnext(sample_data)"
   ]
  },
  {
   "cell_type": "code",
   "execution_count": 24,
   "id": "07a97c08-5987-44d1-8476-c5fb56a6514d",
   "metadata": {},
   "outputs": [],
   "source": [
    "# del sample_data\n",
    "# import gc\n",
    "# gc.collect()\n",
    "# torch.cuda.empty_cache()"
   ]
  },
  {
   "cell_type": "markdown",
   "id": "0008065b-02a6-4e85-859c-585e153fe0ef",
   "metadata": {},
   "source": [
    "### Trainer"
   ]
  },
  {
   "cell_type": "code",
   "execution_count": 25,
   "id": "0e927c98-58e9-4c24-b16b-b029730808aa",
   "metadata": {},
   "outputs": [],
   "source": [
    "class Trainer:\n",
    "    def __init__(\n",
    "        self, \n",
    "        model, \n",
    "        device, \n",
    "        optimizer, \n",
    "        criterion\n",
    "    ):\n",
    "        self.model = model\n",
    "        self.device = device\n",
    "        self.optimizer = optimizer\n",
    "        self.criterion = criterion\n",
    "\n",
    "        self.best_valid_score = np.inf\n",
    "        self.n_patience = 0\n",
    "        self.lastmodel = None\n",
    "        \n",
    "    def fit(self, epochs, train_loader, valid_loader, save_path, patience):  \n",
    "        tbar = tqdm(range(1, epochs + 1), total=epochs)\n",
    "#         self.lr_sched = torch.optim.lr_scheduler.CosineAnnealingWarmRestarts(self.optimizer, T_0=int(len(train_loader) / 2), T_mult=1, eta_min=0.0001, last_epoch=-1)\n",
    "        self.lr_sched = torch.optim.lr_scheduler.OneCycleLR(self.optimizer, max_lr=1e-3, steps_per_epoch=len(train_loader), epochs=epochs)\n",
    "        self.lrs = []\n",
    "        \n",
    "        for n_epoch in tbar:\n",
    "            \n",
    "            self.info_message(\"EPOCH: {}\", n_epoch)\n",
    "            tbar.set_description(f'EPOCH: {n_epoch}')\n",
    "            \n",
    "            train_loss, train_time = self.train_epoch(train_loader, valid_loader, n_epoch, save_path)\n",
    "            valid_loss, valid_auc, valid_time = self.valid_epoch(valid_loader)\n",
    "            \n",
    "            self.info_message(\n",
    "                \"[Epoch Train: {}] loss: {:.4f}, time: {:.2f} s            \",\n",
    "                n_epoch, train_loss, train_time\n",
    "            )\n",
    "            \n",
    "            self.print_valid_message(valid_loss, valid_auc, valid_time, n_epoch)\n",
    "            \n",
    "            self.check_and_save(valid_loss, valid_auc, valid_time, n_epoch, save_path)\n",
    "            \n",
    "            if self.n_patience >= patience:\n",
    "                self.info_message(\"\\nValid auc didn't improve last {} epochs.\", patience)\n",
    "                break\n",
    "        plt.plot(self.lrs)\n",
    "        \n",
    "    def check_and_save(self, valid_loss, valid_auc, valid_time, n_epoch, save_path):\n",
    "        # if True:\n",
    "        # if self.best_valid_score < valid_auc: \n",
    "        if self.best_valid_score > valid_loss and valid_auc > 0.5: \n",
    "            self.save_model(n_epoch, save_path, valid_loss, valid_auc)\n",
    "            self.info_message(\n",
    "                 \"auc improved from {:.4f} to {:.4f}. Saved model to '{}'\", \n",
    "                self.best_valid_score, valid_loss, self.lastmodel\n",
    "            )\n",
    "            self.best_valid_score = valid_loss\n",
    "            self.n_patience = 0\n",
    "        else:\n",
    "            self.n_patience += 1\n",
    "            \n",
    "    def print_valid_message(self, valid_loss, valid_auc, valid_time, n_epoch):\n",
    "        self.info_message(\n",
    "            \"[Epoch Valid: {}] loss: {:.4f}, auc: {:.4f}, time: {:.2f} s\",\n",
    "            n_epoch, valid_loss, valid_auc, valid_time\n",
    "        )\n",
    "            \n",
    "    def train_epoch(self, train_loader, valid_loader, n_epoch, save_path):\n",
    "        self.model.train()\n",
    "        t = time.time()\n",
    "        sum_loss = 0\n",
    "\n",
    "        tbar = tqdm(enumerate(train_loader, 1), total=len(train_loader))\n",
    "        \n",
    "        scaler = torch.cuda.amp.GradScaler() # fp16\n",
    "        for step, batch in tbar:\n",
    "            X = batch[\"X\"].to(self.device)\n",
    "            targets = batch[\"y\"].to(self.device)\n",
    "            self.optimizer.zero_grad()\n",
    "            with torch.cuda.amp.autocast():\n",
    "                outputs = self.model(X).squeeze(1)\n",
    "                loss = self.criterion(outputs, targets)\n",
    "                \n",
    "#             loss.backward()\n",
    "            scaler.scale(loss).backward()\n",
    "            scaler.step(self.optimizer)\n",
    "            scaler.update()\n",
    "\n",
    "            sum_loss += loss.detach().item()\n",
    "#             torch.nn.utils.clip_grad_norm_(self.model.parameters(), 1.0)\n",
    "#             self.optimizer.step()\n",
    "            self.lr_sched.step()\n",
    "            current_lr = self.optimizer.param_groups[0][\"lr\"]\n",
    "            self.lrs.append(\n",
    "                current_lr\n",
    "            )\n",
    "            \n",
    "            message = 'Train Step {}/{}, train_loss: {:.4f}'\n",
    "            self.info_message(message, step, len(train_loader), sum_loss/step, end=\"\\r\")\n",
    "            \n",
    "            if n_epoch in cfg.extra_check_epochs:\n",
    "                if step % cfg.check_frequency == 0:\n",
    "                    valid_loss, valid_auc, valid_time = self.valid_epoch(valid_loader)\n",
    "                    self.check_and_save(valid_loss, valid_auc, valid_time, n_epoch, save_path)\n",
    "                    self.print_valid_message(valid_loss, valid_auc, valid_time, n_epoch)\n",
    "            \n",
    "        \n",
    "        return sum_loss/len(train_loader), int(time.time() - t)\n",
    "    \n",
    "    def valid_epoch(self, valid_loader):\n",
    "        self.model.eval()\n",
    "        t = time.time()\n",
    "        sum_loss = 0\n",
    "        y_all = []\n",
    "        outputs_all = []\n",
    "\n",
    "        tbar = tqdm(enumerate(valid_loader, 1), total=len(valid_loader))\n",
    "        for step, batch in tbar:\n",
    "            with torch.no_grad():\n",
    "                X = batch[\"X\"].to(self.device)\n",
    "                targets = batch[\"y\"].to(self.device)\n",
    "\n",
    "                outputs = torch.sigmoid(self.model(X).squeeze(1))\n",
    "                loss = self.criterion(outputs, targets)\n",
    "                print('outputs', outputs.mean().item(), outputs.std().item())\n",
    "                print('targets', targets.mean().item(), targets.std().item())\n",
    "                \n",
    "                sum_loss += loss.detach().item()\n",
    "                y_all.extend(batch[\"y\"].tolist())\n",
    "                outputs_all.extend(outputs.tolist())\n",
    "\n",
    "            message = 'Valid Step {}/{}, valid_loss: {:.4f}'\n",
    "            self.info_message(message, step, len(valid_loader), sum_loss/step, end=\"\\r\")\n",
    "            \n",
    "        y_all = [1 if x > 0.5 else 0 for x in y_all]\n",
    "        auc = roc_auc_score(y_all, outputs_all)\n",
    "        \n",
    "        return sum_loss/len(valid_loader), auc, int(time.time() - t)\n",
    "    \n",
    "    def save_model(self, n_epoch, save_path, loss, auc):\n",
    "        self.lastmodel = str(cfg.models_path/f\"{save_path}-e{n_epoch}-loss{loss:.3f}-auc{auc:.3f}.pth\")\n",
    "        torch.save(\n",
    "            {\n",
    "                \"model_state_dict\": self.model.state_dict(),\n",
    "                \"optimizer_state_dict\": self.optimizer.state_dict(),\n",
    "                \"best_valid_score\": self.best_valid_score,\n",
    "                \"n_epoch\": n_epoch,\n",
    "            },\n",
    "            self.lastmodel,\n",
    "        )\n",
    "    \n",
    "    @staticmethod\n",
    "    def info_message(message, *args, end=\"\\n\"):\n",
    "        print(message.format(*args), end=end)"
   ]
  },
  {
   "cell_type": "code",
   "execution_count": 26,
   "id": "d09f1015-467e-422e-b2f3-0a3930286a52",
   "metadata": {},
   "outputs": [],
   "source": [
    "def loss_func(input, target):\n",
    "#     return F.binary_cross_entropy_with_logits(input, target) * 0.5 + F.mse_loss(input, target) * 0.5\n",
    "#     return F.binary_cross_entropy_with_logits(input, target) * 0.2 + dice_loss(input, target) * 0.8\n",
    "    return F.binary_cross_entropy_with_logits(input, target)"
   ]
  },
  {
   "cell_type": "code",
   "execution_count": 27,
   "id": "3eaf90a3-36ed-41bc-9bfa-9e59914bb51a",
   "metadata": {},
   "outputs": [],
   "source": [
    "def train_mri_type(df_train, df_valid, mri_type):\n",
    "    if mri_type==\"all\":\n",
    "        train_list = []\n",
    "        valid_list = []\n",
    "        for mri_type in mri_types:\n",
    "            df_train.loc[:,\"MRI_Type\"] = mri_type\n",
    "            train_list.append(df_train.copy())\n",
    "            df_valid.loc[:,\"MRI_Type\"] = mri_type\n",
    "            valid_list.append(df_valid.copy())\n",
    "\n",
    "        df_train = pd.concat(train_list)\n",
    "        df_valid = pd.concat(valid_list)\n",
    "    else:\n",
    "        df_train.loc[:,\"MRI_Type\"] = mri_type\n",
    "        df_valid.loc[:,\"MRI_Type\"] = mri_type\n",
    "\n",
    "    print(df_train.shape, df_valid.shape)\n",
    "    display(df_train.head())\n",
    "    \n",
    "    train_data_retriever = Dataset(\n",
    "        df_train[\"BraTS21ID\"].values, \n",
    "        df_train[\"MGMT_value\"].values, \n",
    "        df_train[\"MRI_Type\"].values\n",
    "    )\n",
    "\n",
    "    valid_data_retriever = Dataset(\n",
    "        df_valid[\"BraTS21ID\"].values, \n",
    "        df_valid[\"MGMT_value\"].values,\n",
    "        df_valid[\"MRI_Type\"].values\n",
    "    )\n",
    "\n",
    "    train_loader = torch_data.DataLoader(\n",
    "        train_data_retriever,\n",
    "        batch_size=cfg.batch_size,\n",
    "        shuffle=True,\n",
    "        num_workers=cfg.num_workers,\n",
    "    )\n",
    "\n",
    "    valid_loader = torch_data.DataLoader(\n",
    "        valid_data_retriever, \n",
    "        batch_size=cfg.batch_size,\n",
    "        shuffle=False,\n",
    "        num_workers=cfg.num_workers,\n",
    "    )\n",
    "\n",
    "    model = create_model()\n",
    "\n",
    "    #checkpoint = torch.load(\"best-model-all-auc0.555.pth\")\n",
    "    #model.load_state_dict(checkpoint[\"model_state_dict\"])\n",
    "\n",
    "    #print(model)\n",
    "\n",
    "    optimizer = torch.optim.Adam(model.parameters(), lr=0.001)\n",
    "    #optimizer = torch.optim.SGD(model.parameters(), lr=0.001, momentum=0.9)\n",
    "\n",
    "    criterion = loss_func\n",
    "\n",
    "    trainer = Trainer(\n",
    "        model, \n",
    "        cfg.device, \n",
    "        optimizer, \n",
    "        criterion\n",
    "    )\n",
    "\n",
    "    history = trainer.fit(\n",
    "        cfg.epochs, \n",
    "        train_loader, \n",
    "        valid_loader, \n",
    "        f\"{mri_type}\", \n",
    "        cfg.epochs + 100,\n",
    "    )\n",
    "    \n",
    "    return trainer.lastmodel"
   ]
  },
  {
   "cell_type": "code",
   "execution_count": 28,
   "id": "089771ea-d968-4959-a870-3d3025fe6ac8",
   "metadata": {},
   "outputs": [],
   "source": [
    "!rm -rf {str(cfg.models_path)}/*.pth"
   ]
  },
  {
   "cell_type": "code",
   "execution_count": null,
   "id": "ca72818e-1672-49c0-8e3f-9f0e68332685",
   "metadata": {},
   "outputs": [
    {
     "name": "stdout",
     "output_type": "stream",
     "text": [
      "(523, 3) (61, 3)\n"
     ]
    },
    {
     "data": {
      "text/html": [
       "<div>\n",
       "<style scoped>\n",
       "    .dataframe tbody tr th:only-of-type {\n",
       "        vertical-align: middle;\n",
       "    }\n",
       "\n",
       "    .dataframe tbody tr th {\n",
       "        vertical-align: top;\n",
       "    }\n",
       "\n",
       "    .dataframe thead th {\n",
       "        text-align: right;\n",
       "    }\n",
       "</style>\n",
       "<table border=\"1\" class=\"dataframe\">\n",
       "  <thead>\n",
       "    <tr style=\"text-align: right;\">\n",
       "      <th></th>\n",
       "      <th>BraTS21ID</th>\n",
       "      <th>MGMT_value</th>\n",
       "      <th>MRI_Type</th>\n",
       "    </tr>\n",
       "  </thead>\n",
       "  <tbody>\n",
       "    <tr>\n",
       "      <th>549</th>\n",
       "      <td>803</td>\n",
       "      <td>0</td>\n",
       "      <td>FLAIR</td>\n",
       "    </tr>\n",
       "    <tr>\n",
       "      <th>353</th>\n",
       "      <td>520</td>\n",
       "      <td>1</td>\n",
       "      <td>FLAIR</td>\n",
       "    </tr>\n",
       "    <tr>\n",
       "      <th>272</th>\n",
       "      <td>399</td>\n",
       "      <td>0</td>\n",
       "      <td>FLAIR</td>\n",
       "    </tr>\n",
       "    <tr>\n",
       "      <th>137</th>\n",
       "      <td>206</td>\n",
       "      <td>0</td>\n",
       "      <td>FLAIR</td>\n",
       "    </tr>\n",
       "    <tr>\n",
       "      <th>292</th>\n",
       "      <td>423</td>\n",
       "      <td>0</td>\n",
       "      <td>FLAIR</td>\n",
       "    </tr>\n",
       "  </tbody>\n",
       "</table>\n",
       "</div>"
      ],
      "text/plain": [
       "     BraTS21ID  MGMT_value MRI_Type\n",
       "549        803           0    FLAIR\n",
       "353        520           1    FLAIR\n",
       "272        399           0    FLAIR\n",
       "137        206           0    FLAIR\n",
       "292        423           0    FLAIR"
      ]
     },
     "metadata": {},
     "output_type": "display_data"
    },
    {
     "data": {
      "application/vnd.jupyter.widget-view+json": {
       "model_id": "24a3de5e7e574d8a896ca6af49e165c3",
       "version_major": 2,
       "version_minor": 0
      },
      "text/plain": [
       "HBox(children=(FloatProgress(value=0.0, max=18.0), HTML(value='')))"
      ]
     },
     "metadata": {},
     "output_type": "display_data"
    },
    {
     "name": "stdout",
     "output_type": "stream",
     "text": [
      "EPOCH: 1\n"
     ]
    },
    {
     "data": {
      "application/vnd.jupyter.widget-view+json": {
       "model_id": "0ad581d709274ac2b116f397d34e4b35",
       "version_major": 2,
       "version_minor": 0
      },
      "text/plain": [
       "HBox(children=(FloatProgress(value=0.0, max=131.0), HTML(value='')))"
      ]
     },
     "metadata": {},
     "output_type": "display_data"
    },
    {
     "name": "stderr",
     "output_type": "stream",
     "text": [
      "/opt/conda/lib/python3.8/site-packages/torch/optim/lr_scheduler.py:129: UserWarning: Detected call of `lr_scheduler.step()` before `optimizer.step()`. In PyTorch 1.1.0 and later, you should call them in the opposite order: `optimizer.step()` before `lr_scheduler.step()`.  Failure to do this will result in PyTorch skipping the first value of the learning rate schedule. See more details at https://pytorch.org/docs/stable/optim.html#how-to-adjust-learning-rate\n",
      "  warnings.warn(\"Detected call of `lr_scheduler.step()` before `optimizer.step()`. \"\n"
     ]
    },
    {
     "name": "stdout",
     "output_type": "stream",
     "text": [
      "Train Step 131/131, train_loss: 0.7219\n"
     ]
    },
    {
     "data": {
      "application/vnd.jupyter.widget-view+json": {
       "model_id": "aa96a3c46ee9419b94eb1041dffa3002",
       "version_major": 2,
       "version_minor": 0
      },
      "text/plain": [
       "HBox(children=(FloatProgress(value=0.0, max=16.0), HTML(value='')))"
      ]
     },
     "metadata": {},
     "output_type": "display_data"
    },
    {
     "name": "stdout",
     "output_type": "stream",
     "text": [
      "outputs 0.6089439988136292 0.09490681439638138\n",
      "targets 0.5 0.5658032894134521\n",
      "outputs 0.8444488048553467 0.06298170238733292\n",
      "targets 0.5 0.5658032894134521\n",
      "outputs 0.7429878115653992 0.12496767193078995\n",
      "targets 0.7450000047683716 0.49000000953674316\n",
      "outputs 0.6034046411514282 0.060573432594537735\n",
      "targets 0.5 0.5658032894134521\n",
      "outputs 0.7188705205917358 0.2253553569316864\n",
      "targets 0.7450000047683716 0.49000000953674316\n",
      "outputs 0.4990635812282562 0.14866513013839722\n",
      "targets 0.2549999952316284 0.49000000953674316\n",
      "outputs 0.7341387271881104 0.13081644475460052\n",
      "targets 0.5 0.5658032894134521\n",
      "outputs 0.8225601315498352 0.036412402987480164\n",
      "targets 0.7450000047683716 0.49000000953674316\n",
      "outputs 0.8067298531532288 0.13036325573921204\n",
      "targets 0.5 0.5658032894134521\n",
      "outputs 0.5464800596237183 0.21028032898902893\n",
      "targets 0.2549999952316284 0.49000000953674316\n",
      "outputs 0.7785764932632446 0.13277065753936768\n",
      "targets 0.2549999952316284 0.49000000953674316\n",
      "outputs 0.7388430833816528 0.17785635590553284\n",
      "targets 0.5 0.5658032894134521\n",
      "outputs 0.6030336618423462 0.16639694571495056\n",
      "targets 0.5 0.5658032894134521\n",
      "outputs 0.7598495483398438 0.08832840621471405\n",
      "targets 0.7450000047683716 0.49000000953674316\n",
      "outputs 0.7507736682891846 0.20841339230537415\n",
      "targets 0.7450000047683716 0.49000000953674316\n",
      "outputs 0.7213729619979858 nan0.7255\n",
      "targets 0.9900000095367432 nan\n",
      "Valid Step 16/16, valid_loss: 0.7054\n",
      "[Epoch Train: 1] loss: 0.7219, time: 183.00 s            \n",
      "[Epoch Valid: 1] loss: 0.7054, auc: 0.5541, time: 10.00 s\n",
      "auc improved from inf to 0.7054. Saved model to '/home/RSNA_MICCAI_Brain_Tumor/models/FLAIR-e1-loss0.705-auc0.554.pth'\n",
      "EPOCH: 2\n"
     ]
    },
    {
     "data": {
      "application/vnd.jupyter.widget-view+json": {
       "model_id": "15989319e4544661bb58a5859b4cf064",
       "version_major": 2,
       "version_minor": 0
      },
      "text/plain": [
       "HBox(children=(FloatProgress(value=0.0, max=131.0), HTML(value='')))"
      ]
     },
     "metadata": {},
     "output_type": "display_data"
    },
    {
     "name": "stdout",
     "output_type": "stream",
     "text": [
      "Train Step 131/131, train_loss: 0.7835\n"
     ]
    },
    {
     "data": {
      "application/vnd.jupyter.widget-view+json": {
       "model_id": "bd3057b5146d416faa152f3b4faa29e6",
       "version_major": 2,
       "version_minor": 0
      },
      "text/plain": [
       "HBox(children=(FloatProgress(value=0.0, max=16.0), HTML(value='')))"
      ]
     },
     "metadata": {},
     "output_type": "display_data"
    },
    {
     "name": "stdout",
     "output_type": "stream",
     "text": [
      "outputs 0.09597167372703552 0.08451962471008301\n",
      "targets 0.5 0.5658032894134521\n",
      "outputs 0.1788979470729828 0.07492925226688385\n",
      "targets 0.5 0.5658032894134521\n",
      "outputs 0.1270214021205902 0.08521942049264908\n",
      "targets 0.7450000047683716 0.49000000953674316\n",
      "outputs 0.09024988114833832 0.0665612444281578\n",
      "targets 0.5 0.5658032894134521\n",
      "outputs 0.17821268737316132 0.08007068932056427\n",
      "targets 0.7450000047683716 0.49000000953674316\n",
      "outputs 0.13244806230068207 0.05674878880381584\n",
      "targets 0.2549999952316284 0.49000000953674316\n",
      "outputs 0.13751089572906494 0.10808753967285156\n",
      "targets 0.5 0.5658032894134521\n",
      "outputs 0.18828558921813965 0.11781777441501617\n",
      "targets 0.7450000047683716 0.49000000953674316\n",
      "outputs 0.14242206513881683 0.10085544735193253\n",
      "targets 0.5 0.5658032894134521\n",
      "outputs 0.18416844308376312 0.10067915171384811\n",
      "targets 0.2549999952316284 0.49000000953674316\n",
      "outputs 0.15792536735534668 0.10933531820774078\n",
      "targets 0.2549999952316284 0.49000000953674316\n",
      "outputs 0.16682499647140503 0.06169874593615532\n",
      "targets 0.5 0.5658032894134521\n",
      "outputs 0.14729708433151245 0.05999450758099556\n",
      "targets 0.5 0.5658032894134521\n",
      "outputs 0.1394028514623642 0.13006281852722168\n",
      "targets 0.7450000047683716 0.49000000953674316\n",
      "outputs 0.09741303324699402 0.11596667766571045\n",
      "targets 0.7450000047683716 0.49000000953674316\n",
      "outputs 0.0667102113366127 nan0.6820\n",
      "targets 0.9900000095367432 nan\n",
      "Valid Step 16/16, valid_loss: 0.6807\n",
      "[Epoch Train: 2] loss: 0.7835, time: 182.00 s            \n",
      "[Epoch Valid: 2] loss: 0.6807, auc: 0.6299, time: 10.00 s\n",
      "auc improved from 0.7054 to 0.6807. Saved model to '/home/RSNA_MICCAI_Brain_Tumor/models/FLAIR-e2-loss0.681-auc0.630.pth'\n",
      "EPOCH: 3\n"
     ]
    },
    {
     "data": {
      "application/vnd.jupyter.widget-view+json": {
       "model_id": "ef618249869540cfa4b2463aa7276670",
       "version_major": 2,
       "version_minor": 0
      },
      "text/plain": [
       "HBox(children=(FloatProgress(value=0.0, max=131.0), HTML(value='')))"
      ]
     },
     "metadata": {},
     "output_type": "display_data"
    },
    {
     "name": "stdout",
     "output_type": "stream",
     "text": [
      "Train Step 131/131, train_loss: 0.7918\n"
     ]
    },
    {
     "data": {
      "application/vnd.jupyter.widget-view+json": {
       "model_id": "13d7c6930e5041049014306b4ef6fa67",
       "version_major": 2,
       "version_minor": 0
      },
      "text/plain": [
       "HBox(children=(FloatProgress(value=0.0, max=16.0), HTML(value='')))"
      ]
     },
     "metadata": {},
     "output_type": "display_data"
    },
    {
     "name": "stdout",
     "output_type": "stream",
     "text": [
      "outputs 0.5316191911697388 0.06350241601467133\n",
      "targets 0.5 0.5658032894134521\n",
      "outputs 0.5903993844985962 0.012265946716070175\n",
      "targets 0.5 0.5658032894134521\n",
      "outputs 0.5478710532188416 0.04012560844421387\n",
      "targets 0.7450000047683716 0.49000000953674316\n",
      "outputs 0.4847958981990814 0.03541332855820656\n",
      "targets 0.5 0.5658032894134521\n",
      "outputs 0.5658862590789795 0.03412200137972832\n",
      "targets 0.7450000047683716 0.49000000953674316\n",
      "outputs 0.5045595169067383 0.010043361224234104\n",
      "targets 0.2549999952316284 0.49000000953674316\n",
      "outputs 0.5661474466323853 0.06966235488653183\n",
      "targets 0.5 0.5658032894134521\n",
      "outputs 0.6007781624794006 0.03300238028168678\n",
      "targets 0.7450000047683716 0.49000000953674316\n",
      "outputs 0.5797646045684814 0.07455217093229294\n",
      "targets 0.5 0.5658032894134521\n",
      "outputs 0.5430856347084045 0.030905980616807938\n",
      "targets 0.2549999952316284 0.49000000953674316\n",
      "outputs 0.585197925567627 0.052269816398620605\n",
      "targets 0.2549999952316284 0.49000000953674316\n",
      "outputs 0.5479227304458618 0.05593688786029816\n",
      "targets 0.5 0.5658032894134521\n",
      "outputs 0.5292856097221375 0.043242570012807846\n",
      "targets 0.5 0.5658032894134521\n",
      "outputs 0.5342184901237488 0.06476455926895142\n",
      "targets 0.7450000047683716 0.49000000953674316\n",
      "outputs 0.607710599899292 0.15255926549434662\n",
      "targets 0.7450000047683716 0.49000000953674316\n",
      "outputs 0.6232345104217529 nan0.7087\n",
      "targets 0.9900000095367432 nan\n",
      "Valid Step 16/16, valid_loss: 0.6916\n",
      "[Epoch Train: 3] loss: 0.7918, time: 182.00 s            \n",
      "[Epoch Valid: 3] loss: 0.6916, auc: 0.5736, time: 10.00 s\n",
      "EPOCH: 4\n"
     ]
    },
    {
     "data": {
      "application/vnd.jupyter.widget-view+json": {
       "model_id": "33c222630af146cdafb4f7ac7b67a252",
       "version_major": 2,
       "version_minor": 0
      },
      "text/plain": [
       "HBox(children=(FloatProgress(value=0.0, max=131.0), HTML(value='')))"
      ]
     },
     "metadata": {},
     "output_type": "display_data"
    },
    {
     "name": "stdout",
     "output_type": "stream",
     "text": [
      "Train Step 131/131, train_loss: 0.7280\n"
     ]
    },
    {
     "data": {
      "application/vnd.jupyter.widget-view+json": {
       "model_id": "f3f1760a03a8411db19750c1ef63255c",
       "version_major": 2,
       "version_minor": 0
      },
      "text/plain": [
       "HBox(children=(FloatProgress(value=0.0, max=16.0), HTML(value='')))"
      ]
     },
     "metadata": {},
     "output_type": "display_data"
    },
    {
     "name": "stdout",
     "output_type": "stream",
     "text": [
      "outputs 0.6981542706489563 0.0032258566934615374\n",
      "targets 0.5 0.5658032894134521\n",
      "outputs 0.7234299778938293 0.010435170494019985\n",
      "targets 0.5 0.5658032894134521\n",
      "outputs 0.7105765342712402 0.016673581674695015\n",
      "targets 0.7450000047683716 0.49000000953674316\n",
      "outputs 0.6817494034767151 0.027331918478012085\n",
      "targets 0.5 0.5658032894134521\n",
      "outputs 0.7110624313354492 0.02117636427283287\n",
      "targets 0.7450000047683716 0.49000000953674316\n",
      "outputs 0.6737281680107117 0.02922721393406391\n",
      "targets 0.2549999952316284 0.49000000953674316\n",
      "outputs 0.6991991996765137 0.022466378286480904\n",
      "targets 0.5 0.5658032894134521\n",
      "outputs 0.7188443541526794 0.0066967979073524475\n",
      "targets 0.7450000047683716 0.49000000953674316\n",
      "outputs 0.718457043170929 0.01690378040075302\n",
      "targets 0.5 0.5658032894134521\n",
      "outputs 0.6896862983703613 0.022567197680473328\n",
      "targets 0.2549999952316284 0.49000000953674316\n",
      "outputs 0.7151148915290833 0.020492486655712128\n",
      "targets 0.2549999952316284 0.49000000953674316\n",
      "outputs 0.7037312984466553 0.03396650403738022\n",
      "targets 0.5 0.5658032894134521\n",
      "outputs 0.7036145925521851 0.015053871087729931\n",
      "targets 0.5 0.5658032894134521\n",
      "outputs 0.7116059064865112 0.012806396931409836\n",
      "targets 0.7450000047683716 0.49000000953674316\n",
      "outputs 0.6974682211875916 0.026143616065382957\n",
      "targets 0.7450000047683716 0.49000000953674316\n",
      "outputs 0.6985819935798645 nan0.7301\n",
      "targets 0.9900000095367432 nan\n",
      "Valid Step 16/16, valid_loss: 0.7102\n",
      "[Epoch Train: 4] loss: 0.7280, time: 182.00 s            \n",
      "[Epoch Valid: 4] loss: 0.7102, auc: 0.5530, time: 10.00 s\n",
      "EPOCH: 5\n"
     ]
    },
    {
     "data": {
      "application/vnd.jupyter.widget-view+json": {
       "model_id": "69480f165c3f463fb480bcb06a4ef2a9",
       "version_major": 2,
       "version_minor": 0
      },
      "text/plain": [
       "HBox(children=(FloatProgress(value=0.0, max=131.0), HTML(value='')))"
      ]
     },
     "metadata": {},
     "output_type": "display_data"
    },
    {
     "name": "stdout",
     "output_type": "stream",
     "text": [
      "Train Step 131/131, train_loss: 0.8126\n"
     ]
    },
    {
     "data": {
      "application/vnd.jupyter.widget-view+json": {
       "model_id": "4215e6b366434d47b012063f349b8201",
       "version_major": 2,
       "version_minor": 0
      },
      "text/plain": [
       "HBox(children=(FloatProgress(value=0.0, max=16.0), HTML(value='')))"
      ]
     },
     "metadata": {},
     "output_type": "display_data"
    },
    {
     "name": "stdout",
     "output_type": "stream",
     "text": [
      "outputs 0.7446131706237793 0.17578135430812836\n",
      "targets 0.5 0.5658032894134521\n",
      "outputs 0.6853384971618652 0.2098207175731659\n",
      "targets 0.5 0.5658032894134521\n",
      "outputs 0.7939389944076538 0.2379409372806549\n",
      "targets 0.7450000047683716 0.49000000953674316\n",
      "outputs 0.4965614676475525 0.051527149975299835\n",
      "targets 0.5 0.5658032894134521\n",
      "outputs 0.7168663740158081 0.1981227844953537\n",
      "targets 0.7450000047683716 0.49000000953674316\n",
      "outputs 0.5148988962173462 0.06959521770477295\n",
      "targets 0.2549999952316284 0.49000000953674316\n",
      "outputs 0.7536594867706299 0.28984928131103516\n",
      "targets 0.5 0.5658032894134521\n",
      "outputs 0.6851837635040283 0.20971007645130157\n",
      "targets 0.7450000047683716 0.49000000953674316\n",
      "outputs 0.7132036685943604 0.19719627499580383\n",
      "targets 0.5 0.5658032894134521\n",
      "outputs 0.6297760009765625 0.2487003207206726\n",
      "targets 0.2549999952316284 0.49000000953674316\n",
      "outputs 0.6982536911964417 0.20213794708251953\n",
      "targets 0.2549999952316284 0.49000000953674316\n",
      "outputs 0.6604616045951843 0.2309906929731369\n",
      "targets 0.5 0.5658032894134521\n",
      "outputs 0.5444135665893555 0.02513939142227173\n",
      "targets 0.5 0.5658032894134521\n",
      "outputs 0.7611285448074341 0.20997825264930725\n",
      "targets 0.7450000047683716 0.49000000953674316\n",
      "outputs 0.770115852355957 0.2659139931201935\n",
      "targets 0.7450000047683716 0.49000000953674316\n",
      "outputs 1.0 nan6, valid_loss: 0.7277\n",
      "targets 0.9900000095367432 nan\n",
      "Valid Step 16/16, valid_loss: 0.7024\n",
      "[Epoch Train: 5] loss: 0.8126, time: 182.00 s            \n",
      "[Epoch Valid: 5] loss: 0.7024, auc: 0.5292, time: 10.00 s\n",
      "EPOCH: 6\n"
     ]
    },
    {
     "data": {
      "application/vnd.jupyter.widget-view+json": {
       "model_id": "2d83d4f4492842078ee2850aa9f5db2b",
       "version_major": 2,
       "version_minor": 0
      },
      "text/plain": [
       "HBox(children=(FloatProgress(value=0.0, max=131.0), HTML(value='')))"
      ]
     },
     "metadata": {},
     "output_type": "display_data"
    },
    {
     "name": "stdout",
     "output_type": "stream",
     "text": [
      "Train Step 131/131, train_loss: 0.7515\n"
     ]
    },
    {
     "data": {
      "application/vnd.jupyter.widget-view+json": {
       "model_id": "c7410bc204f744f3963b63b7ab9920bf",
       "version_major": 2,
       "version_minor": 0
      },
      "text/plain": [
       "HBox(children=(FloatProgress(value=0.0, max=16.0), HTML(value='')))"
      ]
     },
     "metadata": {},
     "output_type": "display_data"
    },
    {
     "name": "stdout",
     "output_type": "stream",
     "text": [
      "outputs 0.682819664478302 0.002796618267893791\n",
      "targets 0.5 0.5658032894134521\n",
      "outputs 0.703254759311676 0.005612561013549566\n",
      "targets 0.5 0.5658032894134521\n",
      "outputs 0.6923717260360718 0.0127108758315444\n",
      "targets 0.7450000047683716 0.49000000953674316\n",
      "outputs 0.4311133623123169 0.3238835334777832\n",
      "targets 0.5 0.5658032894134521\n",
      "outputs 0.696678102016449 0.012955749407410622\n",
      "targets 0.7450000047683716 0.49000000953674316\n",
      "outputs 0.3495558500289917 0.38563185930252075\n",
      "targets 0.2549999952316284 0.49000000953674316\n",
      "outputs 0.5790930986404419 0.22768111526966095\n",
      "targets 0.5 0.5658032894134521\n",
      "outputs 0.7005818486213684 0.011441369540989399\n",
      "targets 0.7450000047683716 0.49000000953674316\n",
      "outputs 0.6984933018684387 0.01406780257821083\n",
      "targets 0.5 0.5658032894134521\n",
      "outputs 0.5110611319541931 0.2606487572193146\n",
      "targets 0.2549999952316284 0.49000000953674316\n",
      "outputs 0.6956074833869934 0.017303086817264557\n",
      "targets 0.2549999952316284 0.49000000953674316\n",
      "outputs 0.460687518119812 0.31104424595832825\n",
      "targets 0.5 0.5658032894134521\n",
      "outputs 0.6854997277259827 0.011012069880962372\n",
      "targets 0.5 0.5658032894134521\n",
      "outputs 0.6885891556739807 0.0077124712988734245\n",
      "targets 0.7450000047683716 0.49000000953674316\n",
      "outputs 0.5744638442993164 0.21432960033416748\n",
      "targets 0.7450000047683716 0.49000000953674316\n",
      "outputs 0.686077356338501 nan 0.7262\n",
      "targets 0.9900000095367432 nan\n",
      "Valid Step 16/16, valid_loss: 0.7067\n",
      "[Epoch Train: 6] loss: 0.7515, time: 182.00 s            \n",
      "[Epoch Valid: 6] loss: 0.7067, auc: 0.5671, time: 9.00 s\n",
      "EPOCH: 7\n"
     ]
    },
    {
     "data": {
      "application/vnd.jupyter.widget-view+json": {
       "model_id": "587019172df64bef9cb402bdc14e105b",
       "version_major": 2,
       "version_minor": 0
      },
      "text/plain": [
       "HBox(children=(FloatProgress(value=0.0, max=131.0), HTML(value='')))"
      ]
     },
     "metadata": {},
     "output_type": "display_data"
    },
    {
     "name": "stdout",
     "output_type": "stream",
     "text": [
      "Train Step 131/131, train_loss: 0.7115\n"
     ]
    },
    {
     "data": {
      "application/vnd.jupyter.widget-view+json": {
       "model_id": "bd984e1c7fb64d4b8b2440d7fdb39562",
       "version_major": 2,
       "version_minor": 0
      },
      "text/plain": [
       "HBox(children=(FloatProgress(value=0.0, max=16.0), HTML(value='')))"
      ]
     },
     "metadata": {},
     "output_type": "display_data"
    },
    {
     "name": "stdout",
     "output_type": "stream",
     "text": [
      "outputs 0.5140547752380371 0.00476813456043601\n",
      "targets 0.5 0.5658032894134521\n",
      "outputs 0.5489371418952942 0.011621023528277874\n",
      "targets 0.5 0.5658032894134521\n",
      "outputs 0.5257582068443298 0.02802828513085842\n",
      "targets 0.7450000047683716 0.49000000953674316\n",
      "outputs 0.25389528274536133 0.2861173152923584\n",
      "targets 0.5 0.5658032894134521\n",
      "outputs 0.5398104786872864 0.021077744662761688\n",
      "targets 0.7450000047683716 0.49000000953674316\n",
      "outputs 0.2560754716396332 0.2955824136734009\n",
      "targets 0.2549999952316284 0.49000000953674316\n",
      "outputs 0.4106352925300598 0.22323714196681976\n",
      "targets 0.5 0.5658032894134521\n",
      "outputs 0.5315564870834351 0.041086215525865555\n",
      "targets 0.7450000047683716 0.49000000953674316\n",
      "outputs 0.5389254689216614 0.02717604488134384\n",
      "targets 0.5 0.5658032894134521\n",
      "outputs 0.351161390542984 0.2460804432630539\n",
      "targets 0.2549999952316284 0.49000000953674316\n",
      "outputs 0.5140423774719238 0.07009057700634003\n",
      "targets 0.2549999952316284 0.49000000953674316\n",
      "outputs 0.3724783658981323 0.2626713216304779\n",
      "targets 0.5 0.5658032894134521\n",
      "outputs 0.5179640054702759 0.024397559463977814\n",
      "targets 0.5 0.5658032894134521\n",
      "outputs 0.5307534337043762 0.022566774860024452\n",
      "targets 0.7450000047683716 0.49000000953674316\n",
      "outputs 0.35777267813682556 0.2461898922920227\n",
      "targets 0.7450000047683716 0.49000000953674316\n",
      "outputs 0.5253052115440369 nan0.7087\n",
      "targets 0.9900000095367432 nan\n",
      "Valid Step 16/16, valid_loss: 0.6938\n",
      "[Epoch Train: 7] loss: 0.7115, time: 182.00 s            \n",
      "[Epoch Valid: 7] loss: 0.6938, auc: 0.6126, time: 10.00 s\n",
      "EPOCH: 8\n"
     ]
    },
    {
     "data": {
      "application/vnd.jupyter.widget-view+json": {
       "model_id": "094013eae63443fabb1dc7dbc002baeb",
       "version_major": 2,
       "version_minor": 0
      },
      "text/plain": [
       "HBox(children=(FloatProgress(value=0.0, max=131.0), HTML(value='')))"
      ]
     },
     "metadata": {},
     "output_type": "display_data"
    },
    {
     "name": "stdout",
     "output_type": "stream",
     "text": [
      "Train Step 131/131, train_loss: 0.7102\n"
     ]
    },
    {
     "data": {
      "application/vnd.jupyter.widget-view+json": {
       "model_id": "fc07a88ea07b4945ad91c8c062373a43",
       "version_major": 2,
       "version_minor": 0
      },
      "text/plain": [
       "HBox(children=(FloatProgress(value=0.0, max=16.0), HTML(value='')))"
      ]
     },
     "metadata": {},
     "output_type": "display_data"
    },
    {
     "name": "stdout",
     "output_type": "stream",
     "text": [
      "outputs 0.4443340301513672 0.1310945600271225\n",
      "targets 0.5 0.5658032894134521\n",
      "outputs 0.5151844024658203 0.10464365035295486\n",
      "targets 0.5 0.5658032894134521\n",
      "outputs 0.5010533928871155 0.06600978225469589\n",
      "targets 0.7450000047683716 0.49000000953674316\n",
      "outputs 0.4940906763076782 0.03492918238043785\n",
      "targets 0.5 0.5658032894134521\n",
      "outputs 0.5345579385757446 0.04078078642487526\n",
      "targets 0.7450000047683716 0.49000000953674316\n",
      "outputs 0.5062301754951477 0.005867188796401024\n",
      "targets 0.2549999952316284 0.49000000953674316\n",
      "outputs 0.45604372024536133 0.0921187624335289\n",
      "targets 0.5 0.5658032894134521\n",
      "outputs 0.5301883220672607 0.07039790600538254\n",
      "targets 0.7450000047683716 0.49000000953674316\n",
      "outputs 0.4963115453720093 0.11419743299484253\n",
      "targets 0.5 0.5658032894134521\n",
      "outputs 0.4912633001804352 0.04157816246151924\n",
      "targets 0.2549999952316284 0.49000000953674316\n",
      "outputs 0.5048550367355347 0.09029468894004822\n",
      "targets 0.2549999952316284 0.49000000953674316\n",
      "outputs 0.45789632201194763 0.15371690690517426\n",
      "targets 0.5 0.5658032894134521\n",
      "outputs 0.5140302181243896 0.03501736372709274\n",
      "targets 0.5 0.5658032894134521\n",
      "outputs 0.5183268189430237 0.04979466646909714\n",
      "targets 0.7450000047683716 0.49000000953674316\n",
      "outputs 0.45730459690093994 0.08723998814821243\n",
      "targets 0.7450000047683716 0.49000000953674316\n",
      "outputs 0.24464571475982666 nan.7048\n",
      "targets 0.9900000095367432 nan\n",
      "Valid Step 16/16, valid_loss: 0.6970\n",
      "[Epoch Train: 8] loss: 0.7102, time: 182.00 s            \n",
      "[Epoch Valid: 8] loss: 0.6970, auc: 0.5379, time: 10.00 s\n",
      "EPOCH: 9\n"
     ]
    },
    {
     "data": {
      "application/vnd.jupyter.widget-view+json": {
       "model_id": "2908119d09a04cc8a81a4cbc6668642a",
       "version_major": 2,
       "version_minor": 0
      },
      "text/plain": [
       "HBox(children=(FloatProgress(value=0.0, max=131.0), HTML(value='')))"
      ]
     },
     "metadata": {},
     "output_type": "display_data"
    },
    {
     "name": "stdout",
     "output_type": "stream",
     "text": [
      "Train Step 131/131, train_loss: 0.7102\n"
     ]
    },
    {
     "data": {
      "application/vnd.jupyter.widget-view+json": {
       "model_id": "d0d5cecc6fd74263910942bf066a746c",
       "version_major": 2,
       "version_minor": 0
      },
      "text/plain": [
       "HBox(children=(FloatProgress(value=0.0, max=16.0), HTML(value='')))"
      ]
     },
     "metadata": {},
     "output_type": "display_data"
    },
    {
     "name": "stdout",
     "output_type": "stream",
     "text": [
      "outputs 0.5195847749710083 0.0073766703717410564\n",
      "targets 0.5 0.5658032894134521\n",
      "outputs 0.5725537538528442 0.02257562056183815\n",
      "targets 0.5 0.5658032894134521\n",
      "outputs 0.5460947751998901 0.033895861357450485\n",
      "targets 0.7450000047683716 0.49000000953674316\n",
      "outputs 0.46797800064086914 0.06319456547498703\n",
      "targets 0.5 0.5658032894134521\n",
      "outputs 0.5468378663063049 0.028848648071289062\n",
      "targets 0.7450000047683716 0.49000000953674316\n",
      "outputs 0.46559205651283264 0.0678086057305336\n",
      "targets 0.2549999952316284 0.49000000953674316\n",
      "outputs 0.5114675164222717 0.035406507551670074\n",
      "targets 0.5 0.5658032894134521\n",
      "outputs 0.5379577875137329 0.05149265378713608\n",
      "targets 0.7450000047683716 0.49000000953674316\n",
      "outputs 0.5627241730690002 0.03574181720614433\n",
      "targets 0.5 0.5658032894134521\n",
      "outputs 0.5029784440994263 0.055590398609638214\n",
      "targets 0.2549999952316284 0.49000000953674316\n",
      "outputs 0.5539172887802124 0.04471902176737785\n",
      "targets 0.2549999952316284 0.49000000953674316\n",
      "outputs 0.48405301570892334 0.135293647646904\n",
      "targets 0.5 0.5658032894134521\n",
      "outputs 0.5263146162033081 0.03177781030535698\n",
      "targets 0.5 0.5658032894134521\n",
      "outputs 0.5107218623161316 0.05094286799430847\n",
      "targets 0.7450000047683716 0.49000000953674316\n",
      "outputs 0.5175812840461731 0.024412762373685837\n",
      "targets 0.7450000047683716 0.49000000953674316\n",
      "outputs 0.5337814092636108 nan0.7087\n",
      "targets 0.9900000095367432 nan\n",
      "Valid Step 16/16, valid_loss: 0.6936\n",
      "[Epoch Train: 9] loss: 0.7102, time: 182.00 s            \n",
      "[Epoch Valid: 9] loss: 0.6936, auc: 0.5314, time: 10.00 s\n",
      "EPOCH: 10\n"
     ]
    },
    {
     "data": {
      "application/vnd.jupyter.widget-view+json": {
       "model_id": "5cda33f9a3fc494f8e3d74df0fae4281",
       "version_major": 2,
       "version_minor": 0
      },
      "text/plain": [
       "HBox(children=(FloatProgress(value=0.0, max=131.0), HTML(value='')))"
      ]
     },
     "metadata": {},
     "output_type": "display_data"
    },
    {
     "name": "stdout",
     "output_type": "stream",
     "text": [
      "Train Step 131/131, train_loss: 0.6960\n"
     ]
    },
    {
     "data": {
      "application/vnd.jupyter.widget-view+json": {
       "model_id": "b08cb2ba08d2460495120cf5ccbf65d6",
       "version_major": 2,
       "version_minor": 0
      },
      "text/plain": [
       "HBox(children=(FloatProgress(value=0.0, max=16.0), HTML(value='')))"
      ]
     },
     "metadata": {},
     "output_type": "display_data"
    },
    {
     "name": "stdout",
     "output_type": "stream",
     "text": [
      "outputs 0.5220012068748474 0.016753587871789932\n",
      "targets 0.5 0.5658032894134521\n",
      "outputs 0.6145510673522949 0.026040730997920036\n",
      "targets 0.5 0.5658032894134521\n",
      "outputs 0.567439079284668 0.05270542949438095\n",
      "targets 0.7450000047683716 0.49000000953674316\n",
      "outputs 0.4989757537841797 0.007380492053925991\n",
      "targets 0.5 0.5658032894134521\n",
      "outputs 0.5846660733222961 0.05312277376651764\n",
      "targets 0.7450000047683716 0.49000000953674316\n",
      "outputs 0.5044043660163879 0.016239918768405914\n",
      "targets 0.2549999952316284 0.49000000953674316\n",
      "outputs 0.5553459525108337 0.05491195619106293\n",
      "targets 0.5 0.5658032894134521\n",
      "outputs 0.5938730239868164 0.043890949338674545\n",
      "targets 0.7450000047683716 0.49000000953674316\n",
      "outputs 0.5899189710617065 0.05852055549621582\n",
      "targets 0.5 0.5658032894134521\n",
      "outputs 0.5345350503921509 0.025162464007735252\n",
      "targets 0.2549999952316284 0.49000000953674316\n",
      "outputs 0.5811050534248352 0.0667024776339531\n",
      "targets 0.2549999952316284 0.49000000953674316\n",
      "outputs 0.5437868237495422 0.10929688811302185\n",
      "targets 0.5 0.5658032894134521\n",
      "outputs 0.532964825630188 0.05848262086510658\n",
      "targets 0.5 0.5658032894134521\n",
      "outputs 0.568001925945282 0.05398707836866379\n",
      "targets 0.7450000047683716 0.49000000953674316\n",
      "outputs 0.529599666595459 0.059553131461143494\n",
      "targets 0.7450000047683716 0.49000000953674316\n",
      "outputs 0.5527822971343994 nan0.7072\n",
      "targets 0.9900000095367432 nan\n",
      "Valid Step 16/16, valid_loss: 0.6918\n",
      "[Epoch Train: 10] loss: 0.6960, time: 182.00 s            \n",
      "[Epoch Valid: 10] loss: 0.6918, auc: 0.6169, time: 10.00 s\n",
      "EPOCH: 11\n"
     ]
    },
    {
     "data": {
      "application/vnd.jupyter.widget-view+json": {
       "model_id": "066db05a6b71402aad10d8b0b82719b1",
       "version_major": 2,
       "version_minor": 0
      },
      "text/plain": [
       "HBox(children=(FloatProgress(value=0.0, max=131.0), HTML(value='')))"
      ]
     },
     "metadata": {},
     "output_type": "display_data"
    },
    {
     "name": "stdout",
     "output_type": "stream",
     "text": [
      "Train Step 131/131, train_loss: 0.6965\n"
     ]
    },
    {
     "data": {
      "application/vnd.jupyter.widget-view+json": {
       "model_id": "882a8180b90b4edcb9aad46e5429cc01",
       "version_major": 2,
       "version_minor": 0
      },
      "text/plain": [
       "HBox(children=(FloatProgress(value=0.0, max=16.0), HTML(value='')))"
      ]
     },
     "metadata": {},
     "output_type": "display_data"
    },
    {
     "name": "stdout",
     "output_type": "stream",
     "text": [
      "outputs 0.5455629825592041 0.020929012447595596\n",
      "targets 0.5 0.5658032894134521\n",
      "outputs 0.6100385785102844 0.017126640304923058\n",
      "targets 0.5 0.5658032894134521\n",
      "outputs 0.5818885564804077 0.03535391762852669\n",
      "targets 0.7450000047683716 0.49000000953674316\n",
      "outputs 0.5509110689163208 0.03635730966925621\n",
      "targets 0.5 0.5658032894134521\n",
      "outputs 0.5895370244979858 0.038995999842882156\n",
      "targets 0.7450000047683716 0.49000000953674316\n",
      "outputs 0.5378727316856384 0.007052576635032892\n",
      "targets 0.2549999952316284 0.49000000953674316\n",
      "outputs 0.5749984383583069 0.033102698624134064\n",
      "targets 0.5 0.5658032894134521\n",
      "outputs 0.5876920223236084 0.049197807908058167\n",
      "targets 0.7450000047683716 0.49000000953674316\n",
      "outputs 0.5900440216064453 0.0445481576025486\n",
      "targets 0.5 0.5658032894134521\n",
      "outputs 0.5529478788375854 0.020197629928588867\n",
      "targets 0.2549999952316284 0.49000000953674316\n",
      "outputs 0.5861548185348511 0.04814888909459114\n",
      "targets 0.2549999952316284 0.49000000953674316\n",
      "outputs 0.6000707149505615 0.030675368383526802\n",
      "targets 0.5 0.5658032894134521\n",
      "outputs 0.5489870309829712 0.044988375157117844\n",
      "targets 0.5 0.5658032894134521\n",
      "outputs 0.575749933719635 0.03957917168736458\n",
      "targets 0.7450000047683716 0.49000000953674316\n",
      "outputs 0.5500316619873047 0.05197189748287201\n",
      "targets 0.7450000047683716 0.49000000953674316\n",
      "outputs 0.579433798789978 nan 0.7087\n",
      "targets 0.9900000095367432 nan\n",
      "Valid Step 16/16, valid_loss: 0.6926\n",
      "[Epoch Train: 11] loss: 0.6965, time: 182.00 s            \n",
      "[Epoch Valid: 11] loss: 0.6926, auc: 0.6797, time: 10.00 s\n",
      "EPOCH: 12\n"
     ]
    },
    {
     "data": {
      "application/vnd.jupyter.widget-view+json": {
       "model_id": "62d4c2a12b044de6a9a9797d7529529c",
       "version_major": 2,
       "version_minor": 0
      },
      "text/plain": [
       "HBox(children=(FloatProgress(value=0.0, max=131.0), HTML(value='')))"
      ]
     },
     "metadata": {},
     "output_type": "display_data"
    },
    {
     "name": "stdout",
     "output_type": "stream",
     "text": [
      "Train Step 131/131, train_loss: 0.6931\n"
     ]
    },
    {
     "data": {
      "application/vnd.jupyter.widget-view+json": {
       "model_id": "2c5314d4beb24d498152e62f786f7e40",
       "version_major": 2,
       "version_minor": 0
      },
      "text/plain": [
       "HBox(children=(FloatProgress(value=0.0, max=16.0), HTML(value='')))"
      ]
     },
     "metadata": {},
     "output_type": "display_data"
    },
    {
     "name": "stdout",
     "output_type": "stream",
     "text": [
      "outputs 0.5102304220199585 0.026953432708978653\n",
      "targets 0.5 0.5658032894134521\n",
      "outputs 0.5918450951576233 0.015242360532283783\n",
      "targets 0.5 0.5658032894134521\n",
      "outputs 0.5498243570327759 0.04465620592236519\n",
      "targets 0.7450000047683716 0.49000000953674316\n",
      "outputs 0.29650914669036865 0.23577848076820374\n",
      "targets 0.5 0.5658032894134521\n",
      "outputs 0.5640101432800293 0.046525295823812485\n",
      "targets 0.7450000047683716 0.49000000953674316\n",
      "outputs 0.331891804933548 0.21072620153427124\n",
      "targets 0.2549999952316284 0.49000000953674316\n",
      "outputs 0.4989129900932312 0.0791911706328392\n",
      "targets 0.5 0.5658032894134521\n",
      "outputs 0.5437536239624023 0.05895237997174263\n",
      "targets 0.7450000047683716 0.49000000953674316\n",
      "outputs 0.5643408298492432 0.05394560098648071\n",
      "targets 0.5 0.5658032894134521\n",
      "outputs 0.48758798837661743 0.08865441381931305\n",
      "targets 0.2549999952316284 0.49000000953674316\n",
      "outputs 0.5540812611579895 0.06677699089050293\n",
      "targets 0.2549999952316284 0.49000000953674316\n",
      "outputs 0.39342838525772095 0.27916663885116577\n",
      "targets 0.5 0.5658032894134521\n",
      "outputs 0.5137708783149719 0.054455652832984924\n",
      "targets 0.5 0.5658032894134521\n",
      "outputs 0.5382307171821594 0.044962115585803986\n",
      "targets 0.7450000047683716 0.49000000953674316\n",
      "outputs 0.4014127850532532 0.22032572329044342\n",
      "targets 0.7450000047683716 0.49000000953674316\n",
      "outputs 0.551741898059845 nan 0.7076\n",
      "targets 0.9900000095367432 nan\n",
      "Valid Step 16/16, valid_loss: 0.6922\n",
      "[Epoch Train: 12] loss: 0.6931, time: 182.00 s            \n",
      "[Epoch Valid: 12] loss: 0.6922, auc: 0.5855, time: 10.00 s\n",
      "EPOCH: 13\n"
     ]
    },
    {
     "data": {
      "application/vnd.jupyter.widget-view+json": {
       "model_id": "67d3288ea58142a8b02010842a202525",
       "version_major": 2,
       "version_minor": 0
      },
      "text/plain": [
       "HBox(children=(FloatProgress(value=0.0, max=131.0), HTML(value='')))"
      ]
     },
     "metadata": {},
     "output_type": "display_data"
    },
    {
     "name": "stdout",
     "output_type": "stream",
     "text": [
      "Train Step 131/131, train_loss: 0.6918\n"
     ]
    },
    {
     "data": {
      "application/vnd.jupyter.widget-view+json": {
       "model_id": "c0dad4689a32404fa632fc69acc130ae",
       "version_major": 2,
       "version_minor": 0
      },
      "text/plain": [
       "HBox(children=(FloatProgress(value=0.0, max=16.0), HTML(value='')))"
      ]
     },
     "metadata": {},
     "output_type": "display_data"
    },
    {
     "name": "stdout",
     "output_type": "stream",
     "text": [
      "outputs 0.5296322703361511 0.02453526481986046\n",
      "targets 0.5 0.5658032894134521\n",
      "outputs 0.5965717434883118 0.011535405181348324\n",
      "targets 0.5 0.5658032894134521\n",
      "outputs 0.5621531009674072 0.034382570534944534\n",
      "targets 0.7450000047683716 0.49000000953674316\n",
      "outputs 0.4876532256603241 0.041445884853601456\n",
      "targets 0.5 0.5658032894134521\n",
      "outputs 0.5716875791549683 0.03752778470516205\n",
      "targets 0.7450000047683716 0.49000000953674316\n",
      "outputs 0.507213830947876 0.009251725859940052\n",
      "targets 0.2549999952316284 0.49000000953674316\n",
      "outputs 0.5557650327682495 0.03228355944156647\n",
      "targets 0.5 0.5658032894134521\n",
      "outputs 0.5793864130973816 0.026481812819838524\n",
      "targets 0.7450000047683716 0.49000000953674316\n",
      "outputs 0.5715874433517456 0.04534574970602989\n",
      "targets 0.5 0.5658032894134521\n",
      "outputs 0.5280032157897949 0.03906918689608574\n",
      "targets 0.2549999952316284 0.49000000953674316\n",
      "outputs 0.566939115524292 0.05047212913632393\n",
      "targets 0.2549999952316284 0.49000000953674316\n",
      "outputs 0.4893491566181183 0.1823548823595047\n",
      "targets 0.5 0.5658032894134521\n",
      "outputs 0.5283194780349731 0.04718342050909996\n",
      "targets 0.5 0.5658032894134521\n",
      "outputs 0.5608744621276855 0.03781791031360626\n",
      "targets 0.7450000047683716 0.49000000953674316\n",
      "outputs 0.4913190007209778 0.12913626432418823\n",
      "targets 0.7450000047683716 0.49000000953674316\n",
      "outputs 0.5649793744087219 nan0.7069\n",
      "targets 0.9900000095367432 nan\n",
      "Valid Step 16/16, valid_loss: 0.6912\n",
      "[Epoch Train: 13] loss: 0.6918, time: 183.00 s            \n",
      "[Epoch Valid: 13] loss: 0.6912, auc: 0.6288, time: 10.00 s\n",
      "EPOCH: 14\n"
     ]
    },
    {
     "data": {
      "application/vnd.jupyter.widget-view+json": {
       "model_id": "a1357d3a1d304a44b32db3a2acb04b1c",
       "version_major": 2,
       "version_minor": 0
      },
      "text/plain": [
       "HBox(children=(FloatProgress(value=0.0, max=131.0), HTML(value='')))"
      ]
     },
     "metadata": {},
     "output_type": "display_data"
    },
    {
     "name": "stdout",
     "output_type": "stream",
     "text": [
      "Train Step 4/131, train_loss: 0.6762\r"
     ]
    },
    {
     "data": {
      "application/vnd.jupyter.widget-view+json": {
       "model_id": "6b005bd7fa2d4f2fa62b4115cba84dbc",
       "version_major": 2,
       "version_minor": 0
      },
      "text/plain": [
       "HBox(children=(FloatProgress(value=0.0, max=16.0), HTML(value='')))"
      ]
     },
     "metadata": {},
     "output_type": "display_data"
    },
    {
     "name": "stdout",
     "output_type": "stream",
     "text": [
      "outputs 0.5213137865066528 0.026371421292424202\n",
      "targets 0.5 0.5658032894134521\n",
      "outputs 0.5914146304130554 0.012194016948342323\n",
      "targets 0.5 0.5658032894134521\n",
      "outputs 0.5555713176727295 0.03595593199133873\n",
      "targets 0.7450000047683716 0.49000000953674316\n",
      "outputs 0.455678790807724 0.07834697514772415\n",
      "targets 0.5 0.5658032894134521\n",
      "outputs 0.5647403597831726 0.03904061019420624\n",
      "targets 0.7450000047683716 0.49000000953674316\n",
      "outputs 0.5009528398513794 0.0068608298897743225\n",
      "targets 0.2549999952316284 0.49000000953674316\n",
      "outputs 0.5467504262924194 0.03615688905119896\n",
      "targets 0.5 0.5658032894134521\n",
      "outputs 0.5715991258621216 0.027443112805485725\n",
      "targets 0.7450000047683716 0.49000000953674316\n",
      "outputs 0.5654131770133972 0.047287601977586746\n",
      "targets 0.5 0.5658032894134521\n",
      "outputs 0.49737802147865295 0.06568410247564316\n",
      "targets 0.2549999952316284 0.49000000953674316\n",
      "outputs 0.5606435537338257 0.05218246951699257\n",
      "targets 0.2549999952316284 0.49000000953674316\n",
      "outputs 0.4550374448299408 0.22570258378982544\n",
      "targets 0.5 0.5658032894134521\n",
      "outputs 0.5199639797210693 0.04939455911517143\n",
      "targets 0.5 0.5658032894134521\n",
      "outputs 0.5518797039985657 0.03700047731399536\n",
      "targets 0.7450000047683716 0.49000000953674316\n",
      "outputs 0.45496904850006104 0.18857441842556\n",
      "targets 0.7450000047683716 0.49000000953674316\n",
      "outputs 0.5597878694534302 nan0.7060\n",
      "targets 0.9900000095367432 nan\n",
      "Valid Step 16/16, valid_loss: 0.6905\n",
      "[Epoch Valid: 14] loss: 0.6905, auc: 0.6223, time: 10.00 s\n",
      "Train Step 8/131, train_loss: 0.6692\r"
     ]
    },
    {
     "data": {
      "application/vnd.jupyter.widget-view+json": {
       "model_id": "07878cd7d1c44af1b530ce504ca831aa",
       "version_major": 2,
       "version_minor": 0
      },
      "text/plain": [
       "HBox(children=(FloatProgress(value=0.0, max=16.0), HTML(value='')))"
      ]
     },
     "metadata": {},
     "output_type": "display_data"
    },
    {
     "name": "stdout",
     "output_type": "stream",
     "text": [
      "outputs 0.5314748287200928 0.024780986830592155\n",
      "targets 0.5 0.5658032894134521\n",
      "outputs 0.5959330797195435 0.010040819644927979\n",
      "targets 0.5 0.5658032894134521\n",
      "outputs 0.5631697177886963 0.03265649825334549\n",
      "targets 0.7450000047683716 0.49000000953674316\n",
      "outputs 0.5003116130828857 0.024787910282611847\n",
      "targets 0.5 0.5658032894134521\n",
      "outputs 0.5717422962188721 0.036384306848049164\n",
      "targets 0.7450000047683716 0.49000000953674316\n",
      "outputs 0.5122942924499512 0.004479073453694582\n",
      "targets 0.2549999952316284 0.49000000953674316\n",
      "outputs 0.5587209463119507 0.028183454647660255\n",
      "targets 0.5 0.5658032894134521\n",
      "outputs 0.5797030925750732 0.0265581626445055\n",
      "targets 0.7450000047683716 0.49000000953674316\n",
      "outputs 0.5709239840507507 0.04419434443116188\n",
      "targets 0.5 0.5658032894134521\n",
      "outputs 0.5308905243873596 0.03891903534531593\n",
      "targets 0.2549999952316284 0.49000000953674316\n",
      "outputs 0.5672484040260315 0.048633355647325516\n",
      "targets 0.2549999952316284 0.49000000953674316\n",
      "outputs 0.4971699118614197 0.1678272783756256\n",
      "targets 0.5 0.5658032894134521\n",
      "outputs 0.5289411544799805 0.04608667269349098\n",
      "targets 0.5 0.5658032894134521\n",
      "outputs 0.5614485740661621 0.03640196844935417\n",
      "targets 0.7450000047683716 0.49000000953674316\n",
      "outputs 0.49821776151657104 0.1180090680718422\n",
      "targets 0.7450000047683716 0.49000000953674316\n",
      "outputs 0.5690220594406128 nan0.7069\n",
      "targets 0.9900000095367432 nan\n",
      "Valid Step 16/16, valid_loss: 0.6911\n",
      "[Epoch Valid: 14] loss: 0.6911, auc: 0.6364, time: 10.00 s\n",
      "Train Step 12/131, train_loss: 0.6671\r"
     ]
    },
    {
     "data": {
      "application/vnd.jupyter.widget-view+json": {
       "model_id": "8314fcfe603c4126937a45f62b0d2daa",
       "version_major": 2,
       "version_minor": 0
      },
      "text/plain": [
       "HBox(children=(FloatProgress(value=0.0, max=16.0), HTML(value='')))"
      ]
     },
     "metadata": {},
     "output_type": "display_data"
    },
    {
     "name": "stdout",
     "output_type": "stream",
     "text": [
      "outputs 0.5154445171356201 0.03364429622888565\n",
      "targets 0.5 0.5658032894134521\n",
      "outputs 0.5751498937606812 0.04374108463525772\n",
      "targets 0.5 0.5658032894134521\n",
      "outputs 0.5404510498046875 0.0689302459359169\n",
      "targets 0.7450000047683716 0.49000000953674316\n",
      "outputs 0.24747993052005768 0.28576257824897766\n",
      "targets 0.5 0.5658032894134521\n",
      "outputs 0.5081409811973572 0.09955805540084839\n",
      "targets 0.7450000047683716 0.49000000953674316\n",
      "outputs 0.2345847338438034 0.2712025046348572\n",
      "targets 0.2549999952316284 0.49000000953674316\n",
      "outputs 0.27273324131965637 0.22656118869781494\n",
      "targets 0.5 0.5658032894134521\n",
      "outputs 0.4271472990512848 0.16154591739177704\n",
      "targets 0.7450000047683716 0.49000000953674316\n",
      "outputs 0.5613846778869629 0.045382313430309296\n",
      "targets 0.5 0.5658032894134521\n",
      "outputs 0.26310402154922485 0.29654502868652344\n",
      "targets 0.2549999952316284 0.49000000953674316\n",
      "outputs 0.5223655700683594 0.12138593196868896\n",
      "targets 0.2549999952316284 0.49000000953674316\n",
      "outputs 0.24393224716186523 0.28995242714881897\n",
      "targets 0.5 0.5658032894134521\n",
      "outputs 0.4921790361404419 0.028969524428248405\n",
      "targets 0.5 0.5658032894134521\n",
      "outputs 0.3748170733451843 0.1380084604024887\n",
      "targets 0.7450000047683716 0.49000000953674316\n",
      "outputs 0.2366950809955597 0.18193398416042328\n",
      "targets 0.7450000047683716 0.49000000953674316\n",
      "outputs 0.5601483583450317 nan0.7095\n",
      "targets 0.9900000095367432 nan\n",
      "Valid Step 16/16, valid_loss: 0.6938\n",
      "[Epoch Valid: 14] loss: 0.6938, auc: 0.5346, time: 10.00 s\n",
      "Train Step 16/131, train_loss: 0.9306\r"
     ]
    },
    {
     "data": {
      "application/vnd.jupyter.widget-view+json": {
       "model_id": "5a2d0a428bc24644af2d68c5bb24f6e8",
       "version_major": 2,
       "version_minor": 0
      },
      "text/plain": [
       "HBox(children=(FloatProgress(value=0.0, max=16.0), HTML(value='')))"
      ]
     },
     "metadata": {},
     "output_type": "display_data"
    },
    {
     "name": "stdout",
     "output_type": "stream",
     "text": [
      "outputs 0.5224151015281677 0.026865016669034958\n",
      "targets 0.5 0.5658032894134521\n",
      "outputs 0.6001850366592407 0.015551982447504997\n",
      "targets 0.5 0.5658032894134521\n",
      "outputs 0.5577027797698975 0.04401315003633499\n",
      "targets 0.7450000047683716 0.49000000953674316\n",
      "outputs 0.527197003364563 0.041565362364053726\n",
      "targets 0.5 0.5658032894134521\n",
      "outputs 0.5710127949714661 0.0452456921339035\n",
      "targets 0.7450000047683716 0.49000000953674316\n",
      "outputs 0.5087263584136963 0.009333556517958641\n",
      "targets 0.2549999952316284 0.49000000953674316\n",
      "outputs 0.5392540693283081 0.05701589956879616\n",
      "targets 0.5 0.5658032894134521\n",
      "outputs 0.5745323896408081 0.042976751923561096\n",
      "targets 0.7450000047683716 0.49000000953674316\n",
      "outputs 0.5720812082290649 0.05334858223795891\n",
      "targets 0.5 0.5658032894134521\n",
      "outputs 0.5419199466705322 0.030579878017306328\n",
      "targets 0.2549999952316284 0.49000000953674316\n",
      "outputs 0.5628682374954224 0.06514010578393936\n",
      "targets 0.2549999952316284 0.49000000953674316\n",
      "outputs 0.5606724619865417 0.06279678642749786\n",
      "targets 0.5 0.5658032894134521\n",
      "outputs 0.52325040102005 0.05222129821777344\n",
      "targets 0.5 0.5658032894134521\n",
      "outputs 0.5514894723892212 0.04827015474438667\n",
      "targets 0.7450000047683716 0.49000000953674316\n",
      "outputs 0.5088445544242859 0.06207701936364174\n",
      "targets 0.7450000047683716 0.49000000953674316\n",
      "outputs 0.5561151504516602 nan0.7057\n",
      "targets 0.9900000095367432 nan\n",
      "Valid Step 16/16, valid_loss: 0.6903\n",
      "[Epoch Valid: 14] loss: 0.6903, auc: 0.6677, time: 10.00 s\n",
      "Train Step 20/131, train_loss: 0.8843\r"
     ]
    },
    {
     "data": {
      "application/vnd.jupyter.widget-view+json": {
       "model_id": "a23889efd5df4755827045bff2c6f86c",
       "version_major": 2,
       "version_minor": 0
      },
      "text/plain": [
       "HBox(children=(FloatProgress(value=0.0, max=16.0), HTML(value='')))"
      ]
     },
     "metadata": {},
     "output_type": "display_data"
    },
    {
     "name": "stdout",
     "output_type": "stream",
     "text": [
      "outputs 0.5088262557983398 0.017917601391673088\n",
      "targets 0.5 0.5658032894134521\n",
      "outputs 0.5959470272064209 0.019318226724863052\n",
      "targets 0.5 0.5658032894134521\n",
      "outputs 0.5513520240783691 0.04666422680020332\n",
      "targets 0.7450000047683716 0.49000000953674316\n",
      "outputs 0.49611371755599976 0.011838452890515327\n",
      "targets 0.5 0.5658032894134521\n",
      "outputs 0.5657892823219299 0.05056839436292648\n",
      "targets 0.7450000047683716 0.49000000953674316\n",
      "outputs 0.49157652258872986 0.012974630109965801\n",
      "targets 0.2549999952316284 0.49000000953674316\n",
      "outputs 0.5435543060302734 0.044358983635902405\n",
      "targets 0.5 0.5658032894134521\n",
      "outputs 0.5795945525169373 0.03395487740635872\n",
      "targets 0.7450000047683716 0.49000000953674316\n",
      "outputs 0.5701358318328857 0.05514255166053772\n",
      "targets 0.5 0.5658032894134521\n",
      "outputs 0.5222859382629395 0.03397800400853157\n",
      "targets 0.2549999952316284 0.49000000953674316\n",
      "outputs 0.5613808631896973 0.06282614171504974\n",
      "targets 0.2549999952316284 0.49000000953674316\n",
      "outputs 0.5628266334533691 0.05768375098705292\n",
      "targets 0.5 0.5658032894134521\n",
      "outputs 0.516440749168396 0.05709303170442581\n",
      "targets 0.5 0.5658032894134521\n",
      "outputs 0.5544065237045288 0.048856742680072784\n",
      "targets 0.7450000047683716 0.49000000953674316\n",
      "outputs 0.5278552174568176 0.04956744983792305\n",
      "targets 0.7450000047683716 0.49000000953674316\n",
      "outputs 0.5459479093551636 nan0.7064\n",
      "targets 0.9900000095367432 nan\n",
      "Valid Step 16/16, valid_loss: 0.6911\n",
      "[Epoch Valid: 14] loss: 0.6911, auc: 0.6277, time: 9.00 s\n",
      "Train Step 24/131, train_loss: 0.8562\r"
     ]
    },
    {
     "data": {
      "application/vnd.jupyter.widget-view+json": {
       "model_id": "3196d05443714e46b519ae3ac858c96b",
       "version_major": 2,
       "version_minor": 0
      },
      "text/plain": [
       "HBox(children=(FloatProgress(value=0.0, max=16.0), HTML(value='')))"
      ]
     },
     "metadata": {},
     "output_type": "display_data"
    },
    {
     "name": "stdout",
     "output_type": "stream",
     "text": [
      "outputs 0.5092912912368774 0.013721081428229809\n",
      "targets 0.5 0.5658032894134521\n",
      "outputs 0.5937574505805969 0.019474104046821594\n",
      "targets 0.5 0.5658032894134521\n",
      "outputs 0.5498946905136108 0.04473048448562622\n",
      "targets 0.7450000047683716 0.49000000953674316\n",
      "outputs 0.5009790658950806 0.013548195362091064\n",
      "targets 0.5 0.5658032894134521\n",
      "outputs 0.5655592679977417 0.04975677654147148\n",
      "targets 0.7450000047683716 0.49000000953674316\n",
      "outputs 0.49638140201568604 0.01036821398884058\n",
      "targets 0.2549999952316284 0.49000000953674316\n",
      "outputs 0.5436491966247559 0.045598652213811874\n",
      "targets 0.5 0.5658032894134521\n",
      "outputs 0.5804005861282349 0.033768102526664734\n",
      "targets 0.7450000047683716 0.49000000953674316\n",
      "outputs 0.570132315158844 0.052942510694265366\n",
      "targets 0.5 0.5658032894134521\n",
      "outputs 0.526401937007904 0.029568562284111977\n",
      "targets 0.2549999952316284 0.49000000953674316\n",
      "outputs 0.5616645812988281 0.060516610741615295\n",
      "targets 0.2549999952316284 0.49000000953674316\n",
      "outputs 0.5642050504684448 0.05467456951737404\n",
      "targets 0.5 0.5658032894134521\n",
      "outputs 0.5182534456253052 0.05519639700651169\n",
      "targets 0.5 0.5658032894134521\n",
      "outputs 0.5556342601776123 0.04823458567261696\n",
      "targets 0.7450000047683716 0.49000000953674316\n",
      "outputs 0.5273038148880005 0.04913563281297684\n",
      "targets 0.7450000047683716 0.49000000953674316\n",
      "outputs 0.5436751246452332 nan0.7067\n",
      "targets 0.9900000095367432 nan\n",
      "Valid Step 16/16, valid_loss: 0.6915\n",
      "[Epoch Valid: 14] loss: 0.6915, auc: 0.6201, time: 10.00 s\n",
      "Train Step 28/131, train_loss: 0.8323\r"
     ]
    },
    {
     "data": {
      "application/vnd.jupyter.widget-view+json": {
       "model_id": "ffce96f8813648b796d90c350de5defd",
       "version_major": 2,
       "version_minor": 0
      },
      "text/plain": [
       "HBox(children=(FloatProgress(value=0.0, max=16.0), HTML(value='')))"
      ]
     },
     "metadata": {},
     "output_type": "display_data"
    },
    {
     "name": "stdout",
     "output_type": "stream",
     "text": [
      "outputs 0.5460180640220642 0.012389753945171833\n",
      "targets 0.5 0.5658032894134521\n",
      "outputs 0.614282488822937 0.011760021559894085\n",
      "targets 0.5 0.5658032894134521\n",
      "outputs 0.5808258652687073 0.03263247385621071\n",
      "targets 0.7450000047683716 0.49000000953674316\n",
      "outputs 0.540401816368103 0.012577993795275688\n",
      "targets 0.5 0.5658032894134521\n",
      "outputs 0.5909315943717957 0.03964563086628914\n",
      "targets 0.7450000047683716 0.49000000953674316\n",
      "outputs 0.5363709926605225 0.0035272627137601376\n",
      "targets 0.2549999952316284 0.49000000953674316\n",
      "outputs 0.5771612524986267 0.03385502099990845\n",
      "targets 0.5 0.5658032894134521\n",
      "outputs 0.6030485033988953 0.027712229639291763\n",
      "targets 0.7450000047683716 0.49000000953674316\n",
      "outputs 0.5921784043312073 0.04391743987798691\n",
      "targets 0.5 0.5658032894134521\n",
      "outputs 0.5634669661521912 0.02355572022497654\n",
      "targets 0.2549999952316284 0.49000000953674316\n",
      "outputs 0.5874963998794556 0.04807785525918007\n",
      "targets 0.2549999952316284 0.49000000953674316\n",
      "outputs 0.5910069346427917 0.04020794853568077\n",
      "targets 0.5 0.5658032894134521\n",
      "outputs 0.5509459972381592 0.045721955597400665\n",
      "targets 0.5 0.5658032894134521\n",
      "outputs 0.5835763216018677 0.03953475505113602\n",
      "targets 0.7450000047683716 0.49000000953674316\n",
      "outputs 0.5624064207077026 0.03764691576361656\n",
      "targets 0.7450000047683716 0.49000000953674316\n",
      "outputs 0.578855574131012 nan 0.7105\n",
      "targets 0.9900000095367432 nan\n",
      "Valid Step 16/16, valid_loss: 0.6943\n",
      "[Epoch Valid: 14] loss: 0.6943, auc: 0.6407, time: 10.00 s\n",
      "Train Step 32/131, train_loss: 0.8116\r"
     ]
    },
    {
     "data": {
      "application/vnd.jupyter.widget-view+json": {
       "model_id": "146e22947a3046ffae480769ecdf1622",
       "version_major": 2,
       "version_minor": 0
      },
      "text/plain": [
       "HBox(children=(FloatProgress(value=0.0, max=16.0), HTML(value='')))"
      ]
     },
     "metadata": {},
     "output_type": "display_data"
    },
    {
     "name": "stdout",
     "output_type": "stream",
     "text": [
      "outputs 0.6332706809043884 0.008556696586310863\n",
      "targets 0.5 0.5658032894134521\n",
      "outputs 0.6549698114395142 0.0033085483592003584\n",
      "targets 0.5 0.5658032894134521\n",
      "outputs 0.6439705491065979 0.011107833124697208\n",
      "targets 0.7450000047683716 0.49000000953674316\n",
      "outputs 0.6303228139877319 0.005310915410518646\n",
      "targets 0.5 0.5658032894134521\n",
      "outputs 0.6491677761077881 0.009403328411281109\n",
      "targets 0.7450000047683716 0.49000000953674316\n",
      "outputs 0.6266816854476929 0.0049180276691913605\n",
      "targets 0.2549999952316284 0.49000000953674316\n",
      "outputs 0.6409705281257629 0.013682222925126553\n",
      "targets 0.5 0.5658032894134521\n",
      "outputs 0.6498675346374512 0.011772085912525654\n",
      "targets 0.7450000047683716 0.49000000953674316\n",
      "outputs 0.6457630395889282 0.016391443088650703\n",
      "targets 0.5 0.5658032894134521\n",
      "outputs 0.641635537147522 0.008998177014291286\n",
      "targets 0.2549999952316284 0.49000000953674316\n",
      "outputs 0.6427056193351746 0.020975321531295776\n",
      "targets 0.2549999952316284 0.49000000953674316\n",
      "outputs 0.6453826427459717 0.01522620115429163\n",
      "targets 0.5 0.5658032894134521\n",
      "outputs 0.6327556371688843 0.01611744798719883\n",
      "targets 0.5 0.5658032894134521\n",
      "outputs 0.6448620557785034 0.013002381660044193\n",
      "targets 0.7450000047683716 0.49000000953674316\n",
      "outputs 0.63432377576828 0.014734525233507156\n",
      "targets 0.7450000047683716 0.49000000953674316\n",
      "outputs 0.6398773789405823 nan0.7208\n",
      "targets 0.9900000095367432 nan\n",
      "Valid Step 16/16, valid_loss: 0.7026\n",
      "[Epoch Valid: 14] loss: 0.7026, auc: 0.6645, time: 10.00 s\n",
      "Train Step 36/131, train_loss: 0.8098\r"
     ]
    },
    {
     "data": {
      "application/vnd.jupyter.widget-view+json": {
       "model_id": "c60f2658819849b9afed77cc25922ffc",
       "version_major": 2,
       "version_minor": 0
      },
      "text/plain": [
       "HBox(children=(FloatProgress(value=0.0, max=16.0), HTML(value='')))"
      ]
     },
     "metadata": {},
     "output_type": "display_data"
    },
    {
     "name": "stdout",
     "output_type": "stream",
     "text": [
      "outputs 0.5988858938217163 0.006390795577317476\n",
      "targets 0.5 0.5658032894134521\n",
      "outputs 0.6108913421630859 0.0023224966134876013\n",
      "targets 0.5 0.5658032894134521\n",
      "outputs 0.6038082242012024 0.0062957643531262875\n",
      "targets 0.7450000047683716 0.49000000953674316\n",
      "outputs 0.5959107875823975 0.0037207978311926126\n",
      "targets 0.5 0.5658032894134521\n",
      "outputs 0.6082979440689087 0.003828850109130144\n",
      "targets 0.7450000047683716 0.49000000953674316\n",
      "outputs 0.5949034690856934 0.004027109127491713\n",
      "targets 0.2549999952316284 0.49000000953674316\n",
      "outputs 0.6013347506523132 0.010085209272801876\n",
      "targets 0.5 0.5658032894134521\n",
      "outputs 0.6067405939102173 0.009083198383450508\n",
      "targets 0.7450000047683716 0.49000000953674316\n",
      "outputs 0.6049736738204956 0.009302372112870216\n",
      "targets 0.5 0.5658032894134521\n",
      "outputs 0.6044430732727051 0.004241899587213993\n",
      "targets 0.2549999952316284 0.49000000953674316\n",
      "outputs 0.6027474999427795 0.012266155332326889\n",
      "targets 0.2549999952316284 0.49000000953674316\n",
      "outputs 0.6033154726028442 0.011103837750852108\n",
      "targets 0.5 0.5658032894134521\n",
      "outputs 0.6008498668670654 0.007597794756293297\n",
      "targets 0.5 0.5658032894134521\n",
      "outputs 0.6033382415771484 0.008821972645819187\n",
      "targets 0.7450000047683716 0.49000000953674316\n",
      "outputs 0.5959616899490356 0.011895711533725262\n",
      "targets 0.7450000047683716 0.49000000953674316\n",
      "outputs 0.5972893834114075 nan0.7169\n",
      "targets 0.9900000095367432 nan\n",
      "Valid Step 16/16, valid_loss: 0.6999\n",
      "[Epoch Valid: 14] loss: 0.6999, auc: 0.6472, time: 10.00 s\n",
      "Train Step 40/131, train_loss: 0.8010\r"
     ]
    },
    {
     "data": {
      "application/vnd.jupyter.widget-view+json": {
       "model_id": "018a30391f1543658608b0735b6ffbf5",
       "version_major": 2,
       "version_minor": 0
      },
      "text/plain": [
       "HBox(children=(FloatProgress(value=0.0, max=16.0), HTML(value='')))"
      ]
     },
     "metadata": {},
     "output_type": "display_data"
    },
    {
     "name": "stdout",
     "output_type": "stream",
     "text": [
      "outputs 0.5379783511161804 0.0064844791777431965\n",
      "targets 0.5 0.5658032894134521\n",
      "outputs 0.5449630618095398 0.0026904919650405645\n",
      "targets 0.5 0.5658032894134521\n",
      "outputs 0.5397897958755493 0.004371529910713434\n",
      "targets 0.7450000047683716 0.49000000953674316\n",
      "outputs 0.5338223576545715 0.0038035516627132893\n",
      "targets 0.5 0.5658032894134521\n",
      "outputs 0.5441290736198425 0.002776567591354251\n",
      "targets 0.7450000047683716 0.49000000953674316\n",
      "outputs 0.5338852405548096 0.004222162999212742\n",
      "targets 0.2549999952316284 0.49000000953674316\n",
      "outputs 0.5379729270935059 0.008095026016235352\n",
      "targets 0.5 0.5658032894134521\n",
      "outputs 0.5412344932556152 0.007636645808815956\n",
      "targets 0.7450000047683716 0.49000000953674316\n",
      "outputs 0.540327250957489 0.006212048698216677\n",
      "targets 0.5 0.5658032894134521\n",
      "outputs 0.5417556762695312 0.0032392905559390783\n",
      "targets 0.2549999952316284 0.49000000953674316\n",
      "outputs 0.5384106636047363 0.00855066068470478\n",
      "targets 0.2549999952316284 0.49000000953674316\n",
      "outputs 0.5372563600540161 0.010568436235189438\n",
      "targets 0.5 0.5658032894134521\n",
      "outputs 0.5404221415519714 0.004226742312312126\n",
      "targets 0.5 0.5658032894134521\n",
      "outputs 0.5380815863609314 0.007460582070052624\n",
      "targets 0.7450000047683716 0.49000000953674316\n",
      "outputs 0.533241868019104 0.011123047210276127\n",
      "targets 0.7450000047683716 0.49000000953674316\n",
      "outputs 0.5309494733810425 nan0.7104\n",
      "targets 0.9900000095367432 nan\n",
      "Valid Step 16/16, valid_loss: 0.6952\n",
      "[Epoch Valid: 14] loss: 0.6952, auc: 0.6504, time: 10.00 s\n",
      "Train Step 44/131, train_loss: 0.7901\r"
     ]
    },
    {
     "data": {
      "application/vnd.jupyter.widget-view+json": {
       "model_id": "fd089f2eacaf44229b486be187af38dc",
       "version_major": 2,
       "version_minor": 0
      },
      "text/plain": [
       "HBox(children=(FloatProgress(value=0.0, max=16.0), HTML(value='')))"
      ]
     },
     "metadata": {},
     "output_type": "display_data"
    },
    {
     "name": "stdout",
     "output_type": "stream",
     "text": [
      "outputs 0.5043189525604248 0.004670972004532814\n",
      "targets 0.5 0.5658032894134521\n",
      "outputs 0.5094455480575562 0.002203487791121006\n",
      "targets 0.5 0.5658032894134521\n",
      "outputs 0.5056897401809692 0.003252709284424782\n",
      "targets 0.7450000047683716 0.49000000953674316\n",
      "outputs 0.5014141201972961 0.0032436682377010584\n",
      "targets 0.5 0.5658032894134521\n",
      "outputs 0.5090408325195312 0.0025100610218942165\n",
      "targets 0.7450000047683716 0.49000000953674316\n",
      "outputs 0.5019426345825195 0.00308237480930984\n",
      "targets 0.2549999952316284 0.49000000953674316\n",
      "outputs 0.504734992980957 0.007002001162618399\n",
      "targets 0.5 0.5658032894134521\n",
      "outputs 0.5065235495567322 0.006416007876396179\n",
      "targets 0.7450000047683716 0.49000000953674316\n",
      "outputs 0.5059272050857544 0.004879175219684839\n",
      "targets 0.5 0.5658032894134521\n",
      "outputs 0.5074734687805176 0.002560930559411645\n",
      "targets 0.2549999952316284 0.49000000953674316\n",
      "outputs 0.5045157670974731 0.006692534778267145\n",
      "targets 0.2549999952316284 0.49000000953674316\n",
      "outputs 0.5037651062011719 0.008155635558068752\n",
      "targets 0.5 0.5658032894134521\n",
      "outputs 0.5066625475883484 0.0027731922455132008\n",
      "targets 0.5 0.5658032894134521\n",
      "outputs 0.5041850805282593 0.006080804392695427\n",
      "targets 0.7450000047683716 0.49000000953674316\n",
      "outputs 0.5005326867103577 0.00945333018898964\n",
      "targets 0.7450000047683716 0.49000000953674316\n",
      "outputs 0.49849167466163635 nan.7074\n",
      "targets 0.9900000095367432 nan\n",
      "Valid Step 16/16, valid_loss: 0.6932\n",
      "[Epoch Valid: 14] loss: 0.6932, auc: 0.6418, time: 10.00 s\n",
      "Train Step 48/131, train_loss: 0.7826\r"
     ]
    },
    {
     "data": {
      "application/vnd.jupyter.widget-view+json": {
       "model_id": "f82e5f0d1a184cffb4ca8ac64ccf3a86",
       "version_major": 2,
       "version_minor": 0
      },
      "text/plain": [
       "HBox(children=(FloatProgress(value=0.0, max=16.0), HTML(value='')))"
      ]
     },
     "metadata": {},
     "output_type": "display_data"
    },
    {
     "name": "stdout",
     "output_type": "stream",
     "text": [
      "outputs 0.5420416593551636 0.0037574023008346558\n",
      "targets 0.5 0.5658032894134521\n",
      "outputs 0.5587668418884277 0.004562848247587681\n",
      "targets 0.5 0.5658032894134521\n",
      "outputs 0.5494371652603149 0.00890412088483572\n",
      "targets 0.7450000047683716 0.49000000953674316\n",
      "outputs 0.5391253232955933 0.00392119400203228\n",
      "targets 0.5 0.5658032894134521\n",
      "outputs 0.5543075799942017 0.008088651113212109\n",
      "targets 0.7450000047683716 0.49000000953674316\n",
      "outputs 0.5395052433013916 0.0026611527428030968\n",
      "targets 0.2549999952316284 0.49000000953674316\n",
      "outputs 0.5477585792541504 0.011003546416759491\n",
      "targets 0.5 0.5658032894134521\n",
      "outputs 0.5548169016838074 0.009612197987735271\n",
      "targets 0.7450000047683716 0.49000000953674316\n",
      "outputs 0.5527279376983643 0.011836099438369274\n",
      "targets 0.5 0.5658032894134521\n",
      "outputs 0.5484093427658081 0.003079246263951063\n",
      "targets 0.2549999952316284 0.49000000953674316\n",
      "outputs 0.5506104230880737 0.013918813318014145\n",
      "targets 0.2549999952316284 0.49000000953674316\n",
      "outputs 0.5501226782798767 0.01494321133941412\n",
      "targets 0.5 0.5658032894134521\n",
      "outputs 0.5457217693328857 0.009749957360327244\n",
      "targets 0.5 0.5658032894134521\n",
      "outputs 0.5495363473892212 0.011969245970249176\n",
      "targets 0.7450000047683716 0.49000000953674316\n",
      "outputs 0.5420746803283691 0.012359890155494213\n",
      "targets 0.7450000047683716 0.49000000953674316\n",
      "outputs 0.542658805847168 nan 0.7110\n",
      "targets 0.9900000095367432 nan\n",
      "Valid Step 16/16, valid_loss: 0.6956\n",
      "[Epoch Valid: 14] loss: 0.6956, auc: 0.6548, time: 10.00 s\n",
      "Train Step 52/131, train_loss: 0.7745\r"
     ]
    },
    {
     "data": {
      "application/vnd.jupyter.widget-view+json": {
       "model_id": "1b1d4d41dd1b4f4d9cb9fec3da9eae56",
       "version_major": 2,
       "version_minor": 0
      },
      "text/plain": [
       "HBox(children=(FloatProgress(value=0.0, max=16.0), HTML(value='')))"
      ]
     },
     "metadata": {},
     "output_type": "display_data"
    },
    {
     "name": "stdout",
     "output_type": "stream",
     "text": [
      "outputs 0.5758583545684814 0.004127610940486193\n",
      "targets 0.5 0.5658032894134521\n",
      "outputs 0.5898187756538391 0.00257569900713861\n",
      "targets 0.5 0.5658032894134521\n",
      "outputs 0.5824682116508484 0.00683049950748682\n",
      "targets 0.7450000047683716 0.49000000953674316\n",
      "outputs 0.5714654922485352 0.002671930706128478\n",
      "targets 0.5 0.5658032894134521\n",
      "outputs 0.585786759853363 0.005911551415920258\n",
      "targets 0.7450000047683716 0.49000000953674316\n",
      "outputs 0.5714545845985413 0.0032261318992823362\n",
      "targets 0.2549999952316284 0.49000000953674316\n",
      "outputs 0.5804300308227539 0.007880611345171928\n",
      "targets 0.5 0.5658032894134521\n",
      "outputs 0.5859730243682861 0.006852437742054462\n",
      "targets 0.7450000047683716 0.49000000953674316\n",
      "outputs 0.5841498374938965 0.009699484333395958\n",
      "targets 0.5 0.5658032894134521\n",
      "outputs 0.5800238251686096 0.0033682757057249546\n",
      "targets 0.2549999952316284 0.49000000953674316\n",
      "outputs 0.5827953815460205 0.010911683551967144\n",
      "targets 0.2549999952316284 0.49000000953674316\n",
      "outputs 0.5808812379837036 0.013903043232858181\n",
      "targets 0.5 0.5658032894134521\n",
      "outputs 0.5780321359634399 0.008689427748322487\n",
      "targets 0.5 0.5658032894134521\n",
      "outputs 0.5813177824020386 0.009259052574634552\n",
      "targets 0.7450000047683716 0.49000000953674316\n",
      "outputs 0.5760467648506165 0.009649566374719143\n",
      "targets 0.7450000047683716 0.49000000953674316\n",
      "outputs 0.5782161951065063 nan0.7146\n",
      "targets 0.9900000095367432 nan\n",
      "Valid Step 16/16, valid_loss: 0.6981\n",
      "[Epoch Valid: 14] loss: 0.6981, auc: 0.6569, time: 10.00 s\n",
      "Train Step 56/131, train_loss: 0.7733\r"
     ]
    },
    {
     "data": {
      "application/vnd.jupyter.widget-view+json": {
       "model_id": "ca8de7f1baab47769adca6c8cca0baf5",
       "version_major": 2,
       "version_minor": 0
      },
      "text/plain": [
       "HBox(children=(FloatProgress(value=0.0, max=16.0), HTML(value='')))"
      ]
     },
     "metadata": {},
     "output_type": "display_data"
    },
    {
     "name": "stdout",
     "output_type": "stream",
     "text": [
      "outputs 0.5248311758041382 0.004490214865654707\n",
      "targets 0.5 0.5658032894134521\n",
      "outputs 0.527445912361145 0.0010385442292317748\n",
      "targets 0.5 0.5658032894134521\n",
      "outputs 0.5261502265930176 0.0022819761652499437\n",
      "targets 0.7450000047683716 0.49000000953674316\n",
      "outputs 0.5179977416992188 0.004195305984467268\n",
      "targets 0.5 0.5658032894134521\n",
      "outputs 0.5269477963447571 0.00210700836032629\n",
      "targets 0.7450000047683716 0.49000000953674316\n",
      "outputs 0.5170953869819641 0.00457384716719389\n",
      "targets 0.2549999952316284 0.49000000953674316\n",
      "outputs 0.5247177481651306 0.002956361509859562\n",
      "targets 0.5 0.5658032894134521\n",
      "outputs 0.5248867273330688 0.0022481177002191544\n",
      "targets 0.7450000047683716 0.49000000953674316\n",
      "outputs 0.5246970653533936 0.0024642269127070904\n",
      "targets 0.5 0.5658032894134521\n",
      "outputs 0.5222896933555603 0.003707558149471879\n",
      "targets 0.2549999952316284 0.49000000953674316\n",
      "outputs 0.5243503451347351 0.003790545277297497\n",
      "targets 0.2549999952316284 0.49000000953674316\n",
      "outputs 0.5201484560966492 0.008830206468701363\n",
      "targets 0.5 0.5658032894134521\n",
      "outputs 0.5241380929946899 0.002559839515015483\n",
      "targets 0.5 0.5658032894134521\n",
      "outputs 0.5225750803947449 0.0029382952488958836\n",
      "targets 0.7450000047683716 0.49000000953674316\n",
      "outputs 0.5226053595542908 0.00507536344230175\n",
      "targets 0.7450000047683716 0.49000000953674316\n",
      "outputs 0.5237135291099548 nan0.7093\n",
      "targets 0.9900000095367432 nan\n",
      "Valid Step 16/16, valid_loss: 0.6944\n",
      "[Epoch Valid: 14] loss: 0.6944, auc: 0.6775, time: 10.00 s\n",
      "Train Step 60/131, train_loss: 0.7680\r"
     ]
    },
    {
     "data": {
      "application/vnd.jupyter.widget-view+json": {
       "model_id": "0cf90735aead4850a7a6af21c94ef9b3",
       "version_major": 2,
       "version_minor": 0
      },
      "text/plain": [
       "HBox(children=(FloatProgress(value=0.0, max=16.0), HTML(value='')))"
      ]
     },
     "metadata": {},
     "output_type": "display_data"
    },
    {
     "name": "stdout",
     "output_type": "stream",
     "text": [
      "outputs 0.4684695899486542 0.005025314167141914\n",
      "targets 0.5 0.5658032894134521\n",
      "outputs 0.4688263237476349 0.00035537389339879155\n",
      "targets 0.5 0.5658032894134521\n",
      "outputs 0.4684177041053772 0.0024099485017359257\n",
      "targets 0.7450000047683716 0.49000000953674316\n",
      "outputs 0.46064847707748413 0.0051701790653169155\n",
      "targets 0.5 0.5658032894134521\n",
      "outputs 0.46928802132606506 0.0039987023919820786\n",
      "targets 0.7450000047683716 0.49000000953674316\n",
      "outputs 0.4586063325405121 0.00644159410148859\n",
      "targets 0.2549999952316284 0.49000000953674316\n",
      "outputs 0.4668440520763397 0.0027817348018288612\n",
      "targets 0.5 0.5658032894134521\n",
      "outputs 0.46678271889686584 0.0016740236897021532\n",
      "targets 0.7450000047683716 0.49000000953674316\n",
      "outputs 0.4672048091888428 0.0015678734052926302\n",
      "targets 0.5 0.5658032894134521\n",
      "outputs 0.4632906913757324 0.004209879320114851\n",
      "targets 0.2549999952316284 0.49000000953674316\n",
      "outputs 0.46653276681900024 0.003568790853023529\n",
      "targets 0.2549999952316284 0.49000000953674316\n",
      "outputs 0.46193158626556396 0.008512224070727825\n",
      "targets 0.5 0.5658032894134521\n",
      "outputs 0.46726515889167786 0.002180818235501647\n",
      "targets 0.5 0.5658032894134521\n",
      "outputs 0.46452051401138306 0.00244127307087183\n",
      "targets 0.7450000047683716 0.49000000953674316\n",
      "outputs 0.4652951955795288 0.006135229486972094\n",
      "targets 0.7450000047683716 0.49000000953674316\n",
      "outputs 0.4652325510978699 nan0.7042\n",
      "targets 0.9900000095367432 nan\n",
      "Valid Step 16/16, valid_loss: 0.6909\n",
      "[Epoch Valid: 14] loss: 0.6909, auc: 0.6429, time: 10.00 s\n",
      "Train Step 64/131, train_loss: 0.7627\r"
     ]
    },
    {
     "data": {
      "application/vnd.jupyter.widget-view+json": {
       "model_id": "e1602552f6ca4d20971e286fba74b70a",
       "version_major": 2,
       "version_minor": 0
      },
      "text/plain": [
       "HBox(children=(FloatProgress(value=0.0, max=16.0), HTML(value='')))"
      ]
     },
     "metadata": {},
     "output_type": "display_data"
    },
    {
     "name": "stdout",
     "output_type": "stream",
     "text": [
      "outputs 0.40006670355796814 0.005244372878223658\n",
      "targets 0.5 0.5658032894134521\n",
      "outputs 0.39132243394851685 0.0027172151021659374\n",
      "targets 0.5 0.5658032894134521\n",
      "outputs 0.3954865634441376 0.005116309970617294\n",
      "targets 0.7450000047683716 0.49000000953674316\n",
      "outputs 0.39190810918807983 0.006688266061246395\n",
      "targets 0.5 0.5658032894134521\n",
      "outputs 0.39486879110336304 0.009449435397982597\n",
      "targets 0.7450000047683716 0.49000000953674316\n",
      "outputs 0.3895931839942932 0.006472990848124027\n",
      "targets 0.2549999952316284 0.49000000953674316\n",
      "outputs 0.39398419857025146 0.006433018483221531\n",
      "targets 0.5 0.5658032894134521\n",
      "outputs 0.390461802482605 0.003251782851293683\n",
      "targets 0.7450000047683716 0.49000000953674316\n",
      "outputs 0.3920189142227173 0.004461080767214298\n",
      "targets 0.5 0.5658032894134521\n",
      "outputs 0.3915020227432251 0.004416387993842363\n",
      "targets 0.2549999952316284 0.49000000953674316\n",
      "outputs 0.391925185918808 0.0038885970134288073\n",
      "targets 0.2549999952316284 0.49000000953674316\n",
      "outputs 0.3870355486869812 0.003558327676728368\n",
      "targets 0.5 0.5658032894134521\n",
      "outputs 0.39742881059646606 0.005232568364590406\n",
      "targets 0.5 0.5658032894134521\n",
      "outputs 0.39070412516593933 0.0027351118624210358\n",
      "targets 0.7450000047683716 0.49000000953674316\n",
      "outputs 0.394240140914917 0.00766213983297348\n",
      "targets 0.7450000047683716 0.49000000953674316\n",
      "outputs 0.3938048183917999 nan0.6994\n",
      "targets 0.9900000095367432 nan\n",
      "Valid Step 16/16, valid_loss: 0.6881\n",
      "[Epoch Valid: 14] loss: 0.6881, auc: 0.4870, time: 10.00 s\n",
      "Train Step 68/131, train_loss: 0.7601\r"
     ]
    },
    {
     "data": {
      "application/vnd.jupyter.widget-view+json": {
       "model_id": "c7a05acb66e34cd6bea69b8f1f32e423",
       "version_major": 2,
       "version_minor": 0
      },
      "text/plain": [
       "HBox(children=(FloatProgress(value=0.0, max=16.0), HTML(value='')))"
      ]
     },
     "metadata": {},
     "output_type": "display_data"
    },
    {
     "name": "stdout",
     "output_type": "stream",
     "text": [
      "outputs 0.3841295838356018 0.006433940026909113\n",
      "targets 0.5 0.5658032894134521\n",
      "outputs 0.3780876398086548 0.0026069628074765205\n",
      "targets 0.5 0.5658032894134521\n",
      "outputs 0.38095539808273315 0.004743508528918028\n",
      "targets 0.7450000047683716 0.49000000953674316\n",
      "outputs 0.37494969367980957 0.006739927921444178\n",
      "targets 0.5 0.5658032894134521\n",
      "outputs 0.38064610958099365 0.008229373022913933\n",
      "targets 0.7450000047683716 0.49000000953674316\n",
      "outputs 0.3719286322593689 0.0070528797805309296\n",
      "targets 0.2549999952316284 0.49000000953674316\n",
      "outputs 0.37860196828842163 0.004989433567970991\n",
      "targets 0.5 0.5658032894134521\n",
      "outputs 0.37680909037590027 0.0029434196185320616\n",
      "targets 0.7450000047683716 0.49000000953674316\n",
      "outputs 0.37791967391967773 0.0029380745254456997\n",
      "targets 0.5 0.5658032894134521\n",
      "outputs 0.3751797378063202 0.004428807646036148\n",
      "targets 0.2549999952316284 0.49000000953674316\n",
      "outputs 0.37761783599853516 0.0034878402948379517\n",
      "targets 0.2549999952316284 0.49000000953674316\n",
      "outputs 0.3725283145904541 0.006098439916968346\n",
      "targets 0.5 0.5658032894134521\n",
      "outputs 0.3813273310661316 0.0037854721304029226\n",
      "targets 0.5 0.5658032894134521\n",
      "outputs 0.3759534955024719 0.0014753430150449276\n",
      "targets 0.7450000047683716 0.49000000953674316\n",
      "outputs 0.37869638204574585 0.00872816052287817\n",
      "targets 0.7450000047683716 0.49000000953674316\n",
      "outputs 0.3795645833015442 nan0.6982\n",
      "targets 0.9900000095367432 nan\n",
      "Valid Step 16/16, valid_loss: 0.6874\n",
      "[Epoch Valid: 14] loss: 0.6874, auc: 0.5065, time: 9.00 s\n",
      "Train Step 72/131, train_loss: 0.7609\r"
     ]
    },
    {
     "data": {
      "application/vnd.jupyter.widget-view+json": {
       "model_id": "c5de0be893674a7cae5b3731877825d8",
       "version_major": 2,
       "version_minor": 0
      },
      "text/plain": [
       "HBox(children=(FloatProgress(value=0.0, max=16.0), HTML(value='')))"
      ]
     },
     "metadata": {},
     "output_type": "display_data"
    },
    {
     "name": "stdout",
     "output_type": "stream",
     "text": [
      "outputs 0.42398181557655334 0.006810642313212156\n",
      "targets 0.5 0.5658032894134521\n",
      "outputs 0.42713695764541626 0.0021733995527029037\n",
      "targets 0.5 0.5658032894134521\n",
      "outputs 0.42541125416755676 0.00433180620893836\n",
      "targets 0.7450000047683716 0.49000000953674316\n",
      "outputs 0.4146597683429718 0.004455619491636753\n",
      "targets 0.5 0.5658032894134521\n",
      "outputs 0.4265838861465454 0.003883051685988903\n",
      "targets 0.7450000047683716 0.49000000953674316\n",
      "outputs 0.41147640347480774 0.006552707403898239\n",
      "targets 0.2549999952316284 0.49000000953674316\n",
      "outputs 0.42272692918777466 0.001366961863823235\n",
      "targets 0.5 0.5658032894134521\n",
      "outputs 0.42408356070518494 0.0026660519652068615\n",
      "targets 0.7450000047683716 0.49000000953674316\n",
      "outputs 0.4242068827152252 0.0034747114405035973\n",
      "targets 0.5 0.5658032894134521\n",
      "outputs 0.41768303513526917 0.005145449191331863\n",
      "targets 0.2549999952316284 0.49000000953674316\n",
      "outputs 0.4232946038246155 0.006267557851970196\n",
      "targets 0.2549999952316284 0.49000000953674316\n",
      "outputs 0.41911521553993225 0.010718011297285557\n",
      "targets 0.5 0.5658032894134521\n",
      "outputs 0.4216616153717041 0.004852758254855871\n",
      "targets 0.5 0.5658032894134521\n",
      "outputs 0.42066869139671326 0.003987512085586786\n",
      "targets 0.7450000047683716 0.49000000953674316\n",
      "outputs 0.4211060702800751 0.008872662670910358\n",
      "targets 0.7450000047683716 0.49000000953674316\n",
      "outputs 0.4242434501647949 nan0.7005\n",
      "targets 0.9900000095367432 nan\n",
      "Valid Step 16/16, valid_loss: 0.6885\n",
      "[Epoch Valid: 14] loss: 0.6885, auc: 0.6807, time: 10.00 s\n",
      "Train Step 76/131, train_loss: 0.7580\r"
     ]
    },
    {
     "data": {
      "application/vnd.jupyter.widget-view+json": {
       "model_id": "22b43a32a2f44dc58b74de6cf24e10f1",
       "version_major": 2,
       "version_minor": 0
      },
      "text/plain": [
       "HBox(children=(FloatProgress(value=0.0, max=16.0), HTML(value='')))"
      ]
     },
     "metadata": {},
     "output_type": "display_data"
    },
    {
     "name": "stdout",
     "output_type": "stream",
     "text": [
      "outputs 0.47288382053375244 0.006606402341276407\n",
      "targets 0.5 0.5658032894134521\n",
      "outputs 0.49002373218536377 0.0038638862315565348\n",
      "targets 0.5 0.5658032894134521\n",
      "outputs 0.4816039204597473 0.009661821648478508\n",
      "targets 0.7450000047683716 0.49000000953674316\n",
      "outputs 0.4656001329421997 0.002746864454820752\n",
      "targets 0.5 0.5658032894134521\n",
      "outputs 0.4850182831287384 0.007320979610085487\n",
      "targets 0.7450000047683716 0.49000000953674316\n",
      "outputs 0.46294620633125305 0.005124839022755623\n",
      "targets 0.2549999952316284 0.49000000953674316\n",
      "outputs 0.4792121350765228 0.007192519959062338\n",
      "targets 0.5 0.5658032894134521\n",
      "outputs 0.48564794659614563 0.0072198123671114445\n",
      "targets 0.7450000047683716 0.49000000953674316\n",
      "outputs 0.4835454523563385 0.012442764826118946\n",
      "targets 0.5 0.5658032894134521\n",
      "outputs 0.4732004702091217 0.007084106095135212\n",
      "targets 0.2549999952316284 0.49000000953674316\n",
      "outputs 0.48175516724586487 0.015330539084970951\n",
      "targets 0.2549999952316284 0.49000000953674316\n",
      "outputs 0.47985541820526123 0.016407735645771027\n",
      "targets 0.5 0.5658032894134521\n",
      "outputs 0.4723052680492401 0.01251764502376318\n",
      "targets 0.5 0.5658032894134521\n",
      "outputs 0.47876226902008057 0.011914025992155075\n",
      "targets 0.7450000047683716 0.49000000953674316\n",
      "outputs 0.47435587644577026 0.011790419928729534\n",
      "targets 0.7450000047683716 0.49000000953674316\n",
      "outputs 0.47814279794692993 nan.7041\n",
      "targets 0.9900000095367432 nan\n",
      "Valid Step 16/16, valid_loss: 0.6906\n",
      "[Epoch Valid: 14] loss: 0.6906, auc: 0.6732, time: 10.00 s\n",
      "Train Step 80/131, train_loss: 0.7552\r"
     ]
    },
    {
     "data": {
      "application/vnd.jupyter.widget-view+json": {
       "model_id": "5f8614dba06c451ab43ce5e9f957b36c",
       "version_major": 2,
       "version_minor": 0
      },
      "text/plain": [
       "HBox(children=(FloatProgress(value=0.0, max=16.0), HTML(value='')))"
      ]
     },
     "metadata": {},
     "output_type": "display_data"
    },
    {
     "name": "stdout",
     "output_type": "stream",
     "text": [
      "outputs 0.49271857738494873 0.005762194283306599\n",
      "targets 0.5 0.5658032894134521\n",
      "outputs 0.5075989961624146 0.0027659470215439796\n",
      "targets 0.5 0.5658032894134521\n",
      "outputs 0.500902533531189 0.008149659261107445\n",
      "targets 0.7450000047683716 0.49000000953674316\n",
      "outputs 0.48887860774993896 0.0036094284150749445\n",
      "targets 0.5 0.5658032894134521\n",
      "outputs 0.503485381603241 0.006285751238465309\n",
      "targets 0.7450000047683716 0.49000000953674316\n",
      "outputs 0.48753663897514343 0.0035224349703639746\n",
      "targets 0.2549999952316284 0.49000000953674316\n",
      "outputs 0.4999845325946808 0.006873260717839003\n",
      "targets 0.5 0.5658032894134521\n",
      "outputs 0.504034698009491 0.006727594416588545\n",
      "targets 0.7450000047683716 0.49000000953674316\n",
      "outputs 0.5017539262771606 0.011362763121724129\n",
      "targets 0.5 0.5658032894134521\n",
      "outputs 0.4954604506492615 0.006277983542531729\n",
      "targets 0.2549999952316284 0.49000000953674316\n",
      "outputs 0.5005066394805908 0.01328852865844965\n",
      "targets 0.2549999952316284 0.49000000953674316\n",
      "outputs 0.5010687708854675 0.010924020782113075\n",
      "targets 0.5 0.5658032894134521\n",
      "outputs 0.49198341369628906 0.0109674371778965\n",
      "targets 0.5 0.5658032894134521\n",
      "outputs 0.49850994348526 0.010274039581418037\n",
      "targets 0.7450000047683716 0.49000000953674316\n",
      "outputs 0.49546170234680176 0.00878225825726986\n",
      "targets 0.7450000047683716 0.49000000953674316\n",
      "outputs 0.4991607367992401 nan0.7060\n",
      "targets 0.9900000095367432 nan\n",
      "Valid Step 16/16, valid_loss: 0.6919\n",
      "[Epoch Valid: 14] loss: 0.6919, auc: 0.6894, time: 10.00 s\n",
      "Train Step 84/131, train_loss: 0.7517\r"
     ]
    },
    {
     "data": {
      "application/vnd.jupyter.widget-view+json": {
       "model_id": "503082f776ad41329ed6ae8c6bac1a55",
       "version_major": 2,
       "version_minor": 0
      },
      "text/plain": [
       "HBox(children=(FloatProgress(value=0.0, max=16.0), HTML(value='')))"
      ]
     },
     "metadata": {},
     "output_type": "display_data"
    },
    {
     "name": "stdout",
     "output_type": "stream",
     "text": [
      "outputs 0.4704979658126831 0.00615345174446702\n",
      "targets 0.5 0.5658032894134521\n",
      "outputs 0.48177146911621094 0.00141279143281281\n",
      "targets 0.5 0.5658032894134521\n",
      "outputs 0.4769621193408966 0.00638883002102375\n",
      "targets 0.7450000047683716 0.49000000953674316\n",
      "outputs 0.4683060944080353 0.004513525404036045\n",
      "targets 0.5 0.5658032894134521\n",
      "outputs 0.4787144660949707 0.003914324566721916\n",
      "targets 0.7450000047683716 0.49000000953674316\n",
      "outputs 0.4676302969455719 0.004897605627775192\n",
      "targets 0.2549999952316284 0.49000000953674316\n",
      "outputs 0.47636252641677856 0.0061448710039258\n",
      "targets 0.5 0.5658032894134521\n",
      "outputs 0.47808247804641724 0.005353046115487814\n",
      "targets 0.7450000047683716 0.49000000953674316\n",
      "outputs 0.4766231179237366 0.008932466618716717\n",
      "targets 0.5 0.5658032894134521\n",
      "outputs 0.4727007746696472 0.005988576915115118\n",
      "targets 0.2549999952316284 0.49000000953674316\n",
      "outputs 0.4756089746952057 0.010578292421996593\n",
      "targets 0.2549999952316284 0.49000000953674316\n",
      "outputs 0.4779406189918518 0.005956663750112057\n",
      "targets 0.5 0.5658032894134521\n",
      "outputs 0.46946296095848083 0.008511431515216827\n",
      "targets 0.5 0.5658032894134521\n",
      "outputs 0.47397175431251526 0.007669675163924694\n",
      "targets 0.7450000047683716 0.49000000953674316\n",
      "outputs 0.47263097763061523 0.006898414343595505\n",
      "targets 0.7450000047683716 0.49000000953674316\n",
      "outputs 0.47621023654937744 nan.7042\n",
      "targets 0.9900000095367432 nan\n",
      "Valid Step 16/16, valid_loss: 0.6907\n",
      "[Epoch Valid: 14] loss: 0.6907, auc: 0.6937, time: 10.00 s\n",
      "Train Step 88/131, train_loss: 0.7501\r"
     ]
    },
    {
     "data": {
      "application/vnd.jupyter.widget-view+json": {
       "model_id": "3a6efa5fb49a48459402678761395f42",
       "version_major": 2,
       "version_minor": 0
      },
      "text/plain": [
       "HBox(children=(FloatProgress(value=0.0, max=16.0), HTML(value='')))"
      ]
     },
     "metadata": {},
     "output_type": "display_data"
    },
    {
     "name": "stdout",
     "output_type": "stream",
     "text": [
      "outputs 0.477103054523468 0.007618221919983625\n",
      "targets 0.5 0.5658032894134521\n",
      "outputs 0.49254125356674194 0.002564807888120413\n",
      "targets 0.5 0.5658032894134521\n",
      "outputs 0.4846961498260498 0.008341187611222267\n",
      "targets 0.7450000047683716 0.49000000953674316\n",
      "outputs 0.47329649329185486 0.0043666125275194645\n",
      "targets 0.5 0.5658032894134521\n",
      "outputs 0.48812928795814514 0.005753353703767061\n",
      "targets 0.7450000047683716 0.49000000953674316\n",
      "outputs 0.47229960560798645 0.005186660680919886\n",
      "targets 0.2549999952316284 0.49000000953674316\n",
      "outputs 0.4827057421207428 0.007705767173320055\n",
      "targets 0.5 0.5658032894134521\n",
      "outputs 0.487449049949646 0.007275456562638283\n",
      "targets 0.7450000047683716 0.49000000953674316\n",
      "outputs 0.4860275983810425 0.011172679252922535\n",
      "targets 0.5 0.5658032894134521\n",
      "outputs 0.4794827699661255 0.006577022839337587\n",
      "targets 0.2549999952316284 0.49000000953674316\n",
      "outputs 0.48387789726257324 0.013825071044266224\n",
      "targets 0.2549999952316284 0.49000000953674316\n",
      "outputs 0.48598742485046387 0.009766850620508194\n",
      "targets 0.5 0.5658032894134521\n",
      "outputs 0.4770268499851227 0.01085012685507536\n",
      "targets 0.5 0.5658032894134521\n",
      "outputs 0.4816601872444153 0.010150270536541939\n",
      "targets 0.7450000047683716 0.49000000953674316\n",
      "outputs 0.4782351851463318 0.009768405929207802\n",
      "targets 0.7450000047683716 0.49000000953674316\n",
      "outputs 0.48130515217781067 nan.7046\n",
      "targets 0.9900000095367432 nan\n",
      "Valid Step 16/16, valid_loss: 0.6910\n",
      "[Epoch Valid: 14] loss: 0.6910, auc: 0.6905, time: 10.00 s\n",
      "Train Step 92/131, train_loss: 0.7466\r"
     ]
    },
    {
     "data": {
      "application/vnd.jupyter.widget-view+json": {
       "model_id": "6f8e251f0d434fa68af48edac7ab21d2",
       "version_major": 2,
       "version_minor": 0
      },
      "text/plain": [
       "HBox(children=(FloatProgress(value=0.0, max=16.0), HTML(value='')))"
      ]
     },
     "metadata": {},
     "output_type": "display_data"
    },
    {
     "name": "stdout",
     "output_type": "stream",
     "text": [
      "outputs 0.5264294147491455 0.010436362586915493\n",
      "targets 0.5 0.5658032894134521\n",
      "outputs 0.553020715713501 0.0052743153646588326\n",
      "targets 0.5 0.5658032894134521\n",
      "outputs 0.5378900766372681 0.014364732429385185\n",
      "targets 0.7450000047683716 0.49000000953674316\n",
      "outputs 0.519015908241272 0.005569877568632364\n",
      "targets 0.5 0.5658032894134521\n",
      "outputs 0.545301616191864 0.011194711551070213\n",
      "targets 0.7450000047683716 0.49000000953674316\n",
      "outputs 0.5173826217651367 0.007617476396262646\n",
      "targets 0.2549999952316284 0.49000000953674316\n",
      "outputs 0.5333396792411804 0.015273498371243477\n",
      "targets 0.5 0.5658032894134521\n",
      "outputs 0.5453939437866211 0.013117818161845207\n",
      "targets 0.7450000047683716 0.49000000953674316\n",
      "outputs 0.5428082942962646 0.018208147957921028\n",
      "targets 0.5 0.5658032894134521\n",
      "outputs 0.5316059589385986 0.00831906683743\n",
      "targets 0.2549999952316284 0.49000000953674316\n",
      "outputs 0.5385120511054993 0.023166285827755928\n",
      "targets 0.2549999952316284 0.49000000953674316\n",
      "outputs 0.5393600463867188 0.020751619711518288\n",
      "targets 0.5 0.5658032894134521\n",
      "outputs 0.5283691883087158 0.01761987805366516\n",
      "targets 0.5 0.5658032894134521\n",
      "outputs 0.5354459285736084 0.017776912078261375\n",
      "targets 0.7450000047683716 0.49000000953674316\n",
      "outputs 0.5262374877929688 0.018326446413993835\n",
      "targets 0.7450000047683716 0.49000000953674316\n",
      "outputs 0.5293272137641907 nan0.7087\n",
      "targets 0.9900000095367432 nan\n",
      "Valid Step 16/16, valid_loss: 0.6937\n",
      "[Epoch Valid: 14] loss: 0.6937, auc: 0.6634, time: 10.00 s\n",
      "Train Step 96/131, train_loss: 0.7423\r"
     ]
    },
    {
     "data": {
      "application/vnd.jupyter.widget-view+json": {
       "model_id": "248e5e15819048f5b51dc258e473b72f",
       "version_major": 2,
       "version_minor": 0
      },
      "text/plain": [
       "HBox(children=(FloatProgress(value=0.0, max=16.0), HTML(value='')))"
      ]
     },
     "metadata": {},
     "output_type": "display_data"
    },
    {
     "name": "stdout",
     "output_type": "stream",
     "text": [
      "outputs 0.6938138604164124 0.011136531829833984\n",
      "targets 0.5 0.5658032894134521\n",
      "outputs 0.7274623513221741 0.007830406539142132\n",
      "targets 0.5 0.5658032894134521\n",
      "outputs 0.7070220112800598 0.019051119685173035\n",
      "targets 0.7450000047683716 0.49000000953674316\n",
      "outputs 0.6809486746788025 0.008545861579477787\n",
      "targets 0.5 0.5658032894134521\n",
      "outputs 0.7176049947738647 0.01534710731357336\n",
      "targets 0.7450000047683716 0.49000000953674316\n",
      "outputs 0.6783018708229065 0.013892242684960365\n",
      "targets 0.2549999952316284 0.49000000953674316\n",
      "outputs 0.6978350281715393 0.024757809937000275\n",
      "targets 0.5 0.5658032894134521\n",
      "outputs 0.7183281779289246 0.0176570825278759\n",
      "targets 0.7450000047683716 0.49000000953674316\n",
      "outputs 0.7154752016067505 0.022760486230254173\n",
      "targets 0.5 0.5658032894134521\n",
      "outputs 0.7004097700119019 0.008389678783714771\n",
      "targets 0.2549999952316284 0.49000000953674316\n",
      "outputs 0.7093220949172974 0.029654424637556076\n",
      "targets 0.2549999952316284 0.49000000953674316\n",
      "outputs 0.7038946151733398 0.036925122141838074\n",
      "targets 0.5 0.5658032894134521\n",
      "outputs 0.6987477540969849 0.020867999643087387\n",
      "targets 0.5 0.5658032894134521\n",
      "outputs 0.7061131000518799 0.022756028920412064\n",
      "targets 0.7450000047683716 0.49000000953674316\n",
      "outputs 0.6889232397079468 0.026768622919917107\n",
      "targets 0.7450000047683716 0.49000000953674316\n",
      "outputs 0.6925886869430542 nan0.7282\n",
      "targets 0.9900000095367432 nan\n",
      "Valid Step 16/16, valid_loss: 0.7085\n",
      "[Epoch Valid: 14] loss: 0.7085, auc: 0.6212, time: 10.00 s\n",
      "Train Step 100/131, train_loss: 0.7490\r"
     ]
    },
    {
     "data": {
      "application/vnd.jupyter.widget-view+json": {
       "model_id": "6ed4662d39d24243bb2196a7c8b7c3a3",
       "version_major": 2,
       "version_minor": 0
      },
      "text/plain": [
       "HBox(children=(FloatProgress(value=0.0, max=16.0), HTML(value='')))"
      ]
     },
     "metadata": {},
     "output_type": "display_data"
    },
    {
     "name": "stdout",
     "output_type": "stream",
     "text": [
      "outputs 0.6013039350509644 0.009519043378531933\n",
      "targets 0.5 0.5658032894134521\n",
      "outputs 0.6375997066497803 0.010144018568098545\n",
      "targets 0.5 0.5658032894134521\n",
      "outputs 0.6156893372535706 0.021079430356621742\n",
      "targets 0.7450000047683716 0.49000000953674316\n",
      "outputs 0.5901333093643188 0.009695888496935368\n",
      "targets 0.5 0.5658032894134521\n",
      "outputs 0.6258396506309509 0.019279634580016136\n",
      "targets 0.7450000047683716 0.49000000953674316\n",
      "outputs 0.5858182907104492 0.012632631696760654\n",
      "targets 0.2549999952316284 0.49000000953674316\n",
      "outputs 0.6072510480880737 0.02355736680328846\n",
      "targets 0.5 0.5658032894134521\n",
      "outputs 0.6280125379562378 0.019633769989013672\n",
      "targets 0.7450000047683716 0.49000000953674316\n",
      "outputs 0.6251031160354614 0.02487041987478733\n",
      "targets 0.5 0.5658032894134521\n",
      "outputs 0.6053445339202881 0.010777021758258343\n",
      "targets 0.2549999952316284 0.49000000953674316\n",
      "outputs 0.6183203458786011 0.03316350281238556\n",
      "targets 0.2549999952316284 0.49000000953674316\n",
      "outputs 0.6170426607131958 0.033208370208740234\n",
      "targets 0.5 0.5658032894134521\n",
      "outputs 0.6053991913795471 0.02393733710050583\n",
      "targets 0.5 0.5658032894134521\n",
      "outputs 0.6144532561302185 0.02596914954483509\n",
      "targets 0.7450000047683716 0.49000000953674316\n",
      "outputs 0.5978647470474243 0.028145091608166695\n",
      "targets 0.7450000047683716 0.49000000953674316\n",
      "outputs 0.6005520224571228 nan0.7163\n",
      "targets 0.9900000095367432 nan\n",
      "Valid Step 16/16, valid_loss: 0.6993\n",
      "[Epoch Valid: 14] loss: 0.6993, auc: 0.6472, time: 10.00 s\n",
      "Train Step 104/131, train_loss: 0.7474\r"
     ]
    },
    {
     "data": {
      "application/vnd.jupyter.widget-view+json": {
       "model_id": "27c2f6f3b2da45c1a9483a5ea2b8200e",
       "version_major": 2,
       "version_minor": 0
      },
      "text/plain": [
       "HBox(children=(FloatProgress(value=0.0, max=16.0), HTML(value='')))"
      ]
     },
     "metadata": {},
     "output_type": "display_data"
    },
    {
     "name": "stdout",
     "output_type": "stream",
     "text": [
      "outputs 0.4754018485546112 0.014289922080934048\n",
      "targets 0.5 0.5658032894134521\n",
      "outputs 0.5002568960189819 0.004945717286318541\n",
      "targets 0.5 0.5658032894134521\n",
      "outputs 0.4888448715209961 0.014456311240792274\n",
      "targets 0.7450000047683716 0.49000000953674316\n",
      "outputs 0.4756046533584595 0.01552529912441969\n",
      "targets 0.5 0.5658032894134521\n",
      "outputs 0.49647006392478943 0.005887784529477358\n",
      "targets 0.7450000047683716 0.49000000953674316\n",
      "outputs 0.47481828927993774 0.015411495231091976\n",
      "targets 0.2549999952316284 0.49000000953674316\n",
      "outputs 0.4895283579826355 0.019012372940778732\n",
      "targets 0.5 0.5658032894134521\n",
      "outputs 0.49277740716934204 0.014021381735801697\n",
      "targets 0.7450000047683716 0.49000000953674316\n",
      "outputs 0.4907180964946747 0.017966104671359062\n",
      "targets 0.5 0.5658032894134521\n",
      "outputs 0.4839671850204468 0.013340874575078487\n",
      "targets 0.2549999952316284 0.49000000953674316\n",
      "outputs 0.48766207695007324 0.022612711414694786\n",
      "targets 0.2549999952316284 0.49000000953674316\n",
      "outputs 0.49602651596069336 0.009160803630948067\n",
      "targets 0.5 0.5658032894134521\n",
      "outputs 0.47511187195777893 0.017287202179431915\n",
      "targets 0.5 0.5658032894134521\n",
      "outputs 0.4846179485321045 0.017208611592650414\n",
      "targets 0.7450000047683716 0.49000000953674316\n",
      "outputs 0.4790201783180237 0.020620962604880333\n",
      "targets 0.7450000047683716 0.49000000953674316\n",
      "outputs 0.4853186011314392 nan0.7034\n",
      "targets 0.9900000095367432 nan\n",
      "Valid Step 16/16, valid_loss: 0.6897\n",
      "[Epoch Valid: 14] loss: 0.6897, auc: 0.7013, time: 10.00 s\n",
      "Train Step 108/131, train_loss: 0.7460\r"
     ]
    },
    {
     "data": {
      "application/vnd.jupyter.widget-view+json": {
       "model_id": "73e5f1125c14483089c60659016c8c31",
       "version_major": 2,
       "version_minor": 0
      },
      "text/plain": [
       "HBox(children=(FloatProgress(value=0.0, max=16.0), HTML(value='')))"
      ]
     },
     "metadata": {},
     "output_type": "display_data"
    },
    {
     "name": "stdout",
     "output_type": "stream",
     "text": [
      "outputs 0.5016613006591797 0.013089499436318874\n",
      "targets 0.5 0.5658032894134521\n",
      "outputs 0.5242500305175781 0.005230613052845001\n",
      "targets 0.5 0.5658032894134521\n",
      "outputs 0.5140740275382996 0.013582486659288406\n",
      "targets 0.7450000047683716 0.49000000953674316\n",
      "outputs 0.49759894609451294 0.01015260349959135\n",
      "targets 0.5 0.5658032894134521\n",
      "outputs 0.5207947492599487 0.0056221382692456245\n",
      "targets 0.7450000047683716 0.49000000953674316\n",
      "outputs 0.4946550130844116 0.009938724339008331\n",
      "targets 0.2549999952316284 0.49000000953674316\n",
      "outputs 0.5127314925193787 0.01553058996796608\n",
      "targets 0.5 0.5658032894134521\n",
      "outputs 0.5176249742507935 0.011432800441980362\n",
      "targets 0.7450000047683716 0.49000000953674316\n",
      "outputs 0.5165910720825195 0.01632196456193924\n",
      "targets 0.5 0.5658032894134521\n",
      "outputs 0.5042233467102051 0.011520539410412312\n",
      "targets 0.2549999952316284 0.49000000953674316\n",
      "outputs 0.5137882232666016 0.020534347742795944\n",
      "targets 0.2549999952316284 0.49000000953674316\n",
      "outputs 0.5171841382980347 0.014362640678882599\n",
      "targets 0.5 0.5658032894134521\n",
      "outputs 0.5016257762908936 0.015651367604732513\n",
      "targets 0.5 0.5658032894134521\n",
      "outputs 0.5086845755577087 0.016275983303785324\n",
      "targets 0.7450000047683716 0.49000000953674316\n",
      "outputs 0.5030347108840942 0.01831686496734619\n",
      "targets 0.7450000047683716 0.49000000953674316\n",
      "outputs 0.5128943920135498 nan0.7056\n",
      "targets 0.9900000095367432 nan\n",
      "Valid Step 16/16, valid_loss: 0.6911\n",
      "[Epoch Valid: 14] loss: 0.6911, auc: 0.7229, time: 10.00 s\n",
      "Train Step 112/131, train_loss: 0.7446\r"
     ]
    },
    {
     "data": {
      "application/vnd.jupyter.widget-view+json": {
       "model_id": "ec53e14327884aec810669c6bb006370",
       "version_major": 2,
       "version_minor": 0
      },
      "text/plain": [
       "HBox(children=(FloatProgress(value=0.0, max=16.0), HTML(value='')))"
      ]
     },
     "metadata": {},
     "output_type": "display_data"
    },
    {
     "name": "stdout",
     "output_type": "stream",
     "text": [
      "outputs 0.5441855788230896 0.004402248188853264\n",
      "targets 0.5 0.5658032894134521\n",
      "outputs 0.5374555587768555 0.005781102459877729\n",
      "targets 0.5 0.5658032894134521\n",
      "outputs 0.5443853139877319 0.006137846503406763\n",
      "targets 0.7450000047683716 0.49000000953674316\n",
      "outputs 0.5351295471191406 0.0063087427988648415\n",
      "targets 0.5 0.5658032894134521\n",
      "outputs 0.5398942232131958 0.006734729744493961\n",
      "targets 0.7450000047683716 0.49000000953674316\n",
      "outputs 0.5301144123077393 0.0048001413233578205\n",
      "targets 0.2549999952316284 0.49000000953674316\n",
      "outputs 0.5416469573974609 0.009394869208335876\n",
      "targets 0.5 0.5658032894134521\n",
      "outputs 0.5373688340187073 0.009072134271264076\n",
      "targets 0.7450000047683716 0.49000000953674316\n",
      "outputs 0.5409214496612549 0.004115243908017874\n",
      "targets 0.5 0.5658032894134521\n",
      "outputs 0.5286800861358643 0.01130001712590456\n",
      "targets 0.2549999952316284 0.49000000953674316\n",
      "outputs 0.5422258973121643 0.007110510487109423\n",
      "targets 0.2549999952316284 0.49000000953674316\n",
      "outputs 0.535551130771637 0.0053919535130262375\n",
      "targets 0.5 0.5658032894134521\n",
      "outputs 0.5369462966918945 0.003420547815039754\n",
      "targets 0.5 0.5658032894134521\n",
      "outputs 0.5371283888816833 0.006212397012859583\n",
      "targets 0.7450000047683716 0.49000000953674316\n",
      "outputs 0.5435569882392883 0.01328809279948473\n",
      "targets 0.7450000047683716 0.49000000953674316\n",
      "outputs 0.5533322095870972 nan0.7111\n",
      "targets 0.9900000095367432 nan\n",
      "Valid Step 16/16, valid_loss: 0.6954\n",
      "[Epoch Valid: 14] loss: 0.6954, auc: 0.5303, time: 10.00 s\n",
      "Train Step 116/131, train_loss: 0.7408\r"
     ]
    },
    {
     "data": {
      "application/vnd.jupyter.widget-view+json": {
       "model_id": "89679d37ee5e42ada03aaf00132c65e7",
       "version_major": 2,
       "version_minor": 0
      },
      "text/plain": [
       "HBox(children=(FloatProgress(value=0.0, max=16.0), HTML(value='')))"
      ]
     },
     "metadata": {},
     "output_type": "display_data"
    },
    {
     "name": "stdout",
     "output_type": "stream",
     "text": [
      "outputs 0.6575900316238403 0.027884772047400475\n",
      "targets 0.5 0.5658032894134521\n",
      "outputs 0.576475977897644 0.030321132391691208\n",
      "targets 0.5 0.5658032894134521\n",
      "outputs 0.6320532560348511 0.04888356104493141\n",
      "targets 0.7450000047683716 0.49000000953674316\n",
      "outputs 0.6544097065925598 0.024181291460990906\n",
      "targets 0.5 0.5658032894134521\n",
      "outputs 0.5993297100067139 0.04501568153500557\n",
      "targets 0.7450000047683716 0.49000000953674316\n",
      "outputs 0.6491525173187256 0.010782716795802116\n",
      "targets 0.2549999952316284 0.49000000953674316\n",
      "outputs 0.6366570591926575 0.06274780631065369\n",
      "targets 0.5 0.5658032894134521\n",
      "outputs 0.5918385982513428 0.05622030422091484\n",
      "targets 0.7450000047683716 0.49000000953674316\n",
      "outputs 0.6050445437431335 0.054773736745119095\n",
      "targets 0.5 0.5658032894134521\n",
      "outputs 0.6135666966438293 0.01562768593430519\n",
      "targets 0.2549999952316284 0.49000000953674316\n",
      "outputs 0.6174744963645935 0.06793582439422607\n",
      "targets 0.2549999952316284 0.49000000953674316\n",
      "outputs 0.6087238788604736 0.058647021651268005\n",
      "targets 0.5 0.5658032894134521\n",
      "outputs 0.6261460781097412 0.04268523305654526\n",
      "targets 0.5 0.5658032894134521\n",
      "outputs 0.6162543296813965 0.060414884239435196\n",
      "targets 0.7450000047683716 0.49000000953674316\n",
      "outputs 0.6595913171768188 0.06675489246845245\n",
      "targets 0.7450000047683716 0.49000000953674316\n",
      "outputs 0.6825472712516785 nan0.7259\n",
      "targets 0.9900000095367432 nan\n",
      "Valid Step 16/16, valid_loss: 0.7065\n",
      "[Epoch Valid: 14] loss: 0.7065, auc: 0.3820, time: 10.00 s\n",
      "Train Step 120/131, train_loss: 0.7434\r"
     ]
    },
    {
     "data": {
      "application/vnd.jupyter.widget-view+json": {
       "model_id": "3bbb305627604881bacf95d33a362ce4",
       "version_major": 2,
       "version_minor": 0
      },
      "text/plain": [
       "HBox(children=(FloatProgress(value=0.0, max=16.0), HTML(value='')))"
      ]
     },
     "metadata": {},
     "output_type": "display_data"
    },
    {
     "name": "stdout",
     "output_type": "stream",
     "text": [
      "outputs 0.5972892045974731 0.01092751044780016\n",
      "targets 0.5 0.5658032894134521\n",
      "outputs 0.5707187652587891 0.009777517057955265\n",
      "targets 0.5 0.5658032894134521\n",
      "outputs 0.5897899866104126 0.015114442445337772\n",
      "targets 0.7450000047683716 0.49000000953674316\n",
      "outputs 0.5932838916778564 0.012645398266613483\n",
      "targets 0.5 0.5658032894134521\n",
      "outputs 0.5765563249588013 0.012147755362093449\n",
      "targets 0.7450000047683716 0.49000000953674316\n",
      "outputs 0.5892850160598755 0.00682949461042881\n",
      "targets 0.2549999952316284 0.49000000953674316\n",
      "outputs 0.5881812572479248 0.024187222123146057\n",
      "targets 0.5 0.5658032894134521\n",
      "outputs 0.5768566131591797 0.021447589620947838\n",
      "targets 0.7450000047683716 0.49000000953674316\n",
      "outputs 0.5812250375747681 0.017949972301721573\n",
      "targets 0.5 0.5658032894134521\n",
      "outputs 0.5780444145202637 0.009646810591220856\n",
      "targets 0.2549999952316284 0.49000000953674316\n",
      "outputs 0.5858800411224365 0.022590095177292824\n",
      "targets 0.2549999952316284 0.49000000953674316\n",
      "outputs 0.5783176422119141 0.013914907351136208\n",
      "targets 0.5 0.5658032894134521\n",
      "outputs 0.5852159857749939 0.012925305403769016\n",
      "targets 0.5 0.5658032894134521\n",
      "outputs 0.5850780010223389 0.022112488746643066\n",
      "targets 0.7450000047683716 0.49000000953674316\n",
      "outputs 0.5987527966499329 0.02735818363726139\n",
      "targets 0.7450000047683716 0.49000000953674316\n",
      "outputs 0.6074661612510681 nan0.7184\n",
      "targets 0.9900000095367432 nan\n",
      "Valid Step 16/16, valid_loss: 0.7010\n",
      "[Epoch Valid: 14] loss: 0.7010, auc: 0.3669, time: 10.00 s\n",
      "Train Step 124/131, train_loss: 0.7426\r"
     ]
    },
    {
     "data": {
      "application/vnd.jupyter.widget-view+json": {
       "model_id": "1dd3ee3ed7bc4b51961dbd629365d91b",
       "version_major": 2,
       "version_minor": 0
      },
      "text/plain": [
       "HBox(children=(FloatProgress(value=0.0, max=16.0), HTML(value='')))"
      ]
     },
     "metadata": {},
     "output_type": "display_data"
    },
    {
     "name": "stdout",
     "output_type": "stream",
     "text": [
      "outputs 0.5387954711914062 0.005274527706205845\n",
      "targets 0.5 0.5658032894134521\n",
      "outputs 0.5500489473342896 0.004739060997962952\n",
      "targets 0.5 0.5658032894134521\n",
      "outputs 0.5432456731796265 0.007855746895074844\n",
      "targets 0.7450000047683716 0.49000000953674316\n",
      "outputs 0.5320178270339966 0.007399293594062328\n",
      "targets 0.5 0.5658032894134521\n",
      "outputs 0.5456959009170532 0.007686649449169636\n",
      "targets 0.7450000047683716 0.49000000953674316\n",
      "outputs 0.52767014503479 0.007762896828353405\n",
      "targets 0.2549999952316284 0.49000000953674316\n",
      "outputs 0.5387532711029053 0.01026624534279108\n",
      "targets 0.5 0.5658032894134521\n",
      "outputs 0.5479483604431152 0.00350511004216969\n",
      "targets 0.7450000047683716 0.49000000953674316\n",
      "outputs 0.5475202202796936 0.007155281025916338\n",
      "targets 0.5 0.5658032894134521\n",
      "outputs 0.5348655581474304 0.0056917304173111916\n",
      "targets 0.2549999952316284 0.49000000953674316\n",
      "outputs 0.545405924320221 0.009940010495483875\n",
      "targets 0.2549999952316284 0.49000000953674316\n",
      "outputs 0.5400125980377197 0.01740487851202488\n",
      "targets 0.5 0.5658032894134521\n",
      "outputs 0.5382745862007141 0.009184303693473339\n",
      "targets 0.5 0.5658032894134521\n",
      "outputs 0.543793797492981 0.006518050562590361\n",
      "targets 0.7450000047683716 0.49000000953674316\n",
      "outputs 0.5375088453292847 0.012864695861935616\n",
      "targets 0.7450000047683716 0.49000000953674316\n",
      "outputs 0.5393419861793518 nan0.7109\n",
      "targets 0.9900000095367432 nan\n",
      "Valid Step 16/16, valid_loss: 0.6955\n",
      "[Epoch Valid: 14] loss: 0.6955, auc: 0.6180, time: 10.00 s\n",
      "Train Step 128/131, train_loss: 0.7413\r"
     ]
    },
    {
     "data": {
      "application/vnd.jupyter.widget-view+json": {
       "model_id": "ef74fed01e3243838a1c3a17b38c114f",
       "version_major": 2,
       "version_minor": 0
      },
      "text/plain": [
       "HBox(children=(FloatProgress(value=0.0, max=16.0), HTML(value='')))"
      ]
     },
     "metadata": {},
     "output_type": "display_data"
    },
    {
     "name": "stdout",
     "output_type": "stream",
     "text": [
      "outputs 0.518821120262146 0.005439013242721558\n",
      "targets 0.5 0.5658032894134521\n",
      "outputs 0.5318225622177124 0.004096326418220997\n",
      "targets 0.5 0.5658032894134521\n",
      "outputs 0.524478554725647 0.00761670945212245\n",
      "targets 0.7450000047683716 0.49000000953674316\n",
      "outputs 0.513347864151001 0.003811157075688243\n",
      "targets 0.5 0.5658032894134521\n",
      "outputs 0.5273906588554382 0.007064659148454666\n",
      "targets 0.7450000047683716 0.49000000953674316\n",
      "outputs 0.5100281238555908 0.00409832363948226\n",
      "targets 0.2549999952316284 0.49000000953674316\n",
      "outputs 0.5211353302001953 0.007767419796437025\n",
      "targets 0.5 0.5658032894134521\n",
      "outputs 0.5289697647094727 0.004824263509362936\n",
      "targets 0.7450000047683716 0.49000000953674316\n",
      "outputs 0.5276437997817993 0.008655986748635769\n",
      "targets 0.5 0.5658032894134521\n",
      "outputs 0.5175673961639404 0.0043737818486988544\n",
      "targets 0.2549999952316284 0.49000000953674316\n",
      "outputs 0.5258141756057739 0.011273899115622044\n",
      "targets 0.2549999952316284 0.49000000953674316\n",
      "outputs 0.5230966806411743 0.014708363451063633\n",
      "targets 0.5 0.5658032894134521\n",
      "outputs 0.51870197057724 0.00987858884036541\n",
      "targets 0.5 0.5658032894134521\n",
      "outputs 0.5240142345428467 0.00806631799787283\n",
      "targets 0.7450000047683716 0.49000000953674316\n",
      "outputs 0.5192441940307617 0.011133449152112007\n",
      "targets 0.7450000047683716 0.49000000953674316\n",
      "outputs 0.5213297605514526 nan0.7087\n",
      "targets 0.9900000095367432 nan\n",
      "Valid Step 16/16, valid_loss: 0.6939\n",
      "[Epoch Valid: 14] loss: 0.6939, auc: 0.6353, time: 10.00 s\n",
      "Train Step 131/131, train_loss: 0.7397\n"
     ]
    },
    {
     "data": {
      "application/vnd.jupyter.widget-view+json": {
       "model_id": "456cc99e5a494eb0990cd99037bd70f7",
       "version_major": 2,
       "version_minor": 0
      },
      "text/plain": [
       "HBox(children=(FloatProgress(value=0.0, max=16.0), HTML(value='')))"
      ]
     },
     "metadata": {},
     "output_type": "display_data"
    },
    {
     "name": "stdout",
     "output_type": "stream",
     "text": [
      "outputs 0.5185453295707703 0.004809606820344925\n",
      "targets 0.5 0.5658032894134521\n",
      "outputs 0.5311387777328491 0.003579680807888508\n",
      "targets 0.5 0.5658032894134521\n",
      "outputs 0.5242894887924194 0.006992158945649862\n",
      "targets 0.7450000047683716 0.49000000953674316\n",
      "outputs 0.513664186000824 0.0030032123904675245\n",
      "targets 0.5 0.5658032894134521\n",
      "outputs 0.5269442796707153 0.006462953053414822\n",
      "targets 0.7450000047683716 0.49000000953674316\n",
      "outputs 0.5111587047576904 0.003540768288075924\n",
      "targets 0.2549999952316284 0.49000000953674316\n",
      "outputs 0.5213332176208496 0.00681977579370141\n",
      "targets 0.5 0.5658032894134521\n",
      "outputs 0.5282641649246216 0.004990956746041775\n",
      "targets 0.7450000047683716 0.49000000953674316\n",
      "outputs 0.5268203020095825 0.008509114384651184\n",
      "targets 0.5 0.5658032894134521\n",
      "outputs 0.5184145569801331 0.003718060441315174\n",
      "targets 0.2549999952316284 0.49000000953674316\n",
      "outputs 0.5252308249473572 0.010690432973206043\n",
      "targets 0.2549999952316284 0.49000000953674316\n",
      "outputs 0.5231853127479553 0.013095957227051258\n",
      "targets 0.5 0.5658032894134521\n",
      "outputs 0.518964409828186 0.009030019864439964\n",
      "targets 0.5 0.5658032894134521\n",
      "outputs 0.5233986377716064 0.00811170507222414\n",
      "targets 0.7450000047683716 0.49000000953674316\n",
      "outputs 0.5192490220069885 0.010234104469418526\n",
      "targets 0.7450000047683716 0.49000000953674316\n",
      "outputs 0.5213528275489807 nan0.7087\n",
      "targets 0.9900000095367432 nan\n",
      "Valid Step 16/16, valid_loss: 0.6939\n",
      "[Epoch Train: 14] loss: 0.7397, time: 502.00 s            \n",
      "[Epoch Valid: 14] loss: 0.6939, auc: 0.6439, time: 9.00 s\n",
      "EPOCH: 15\n"
     ]
    },
    {
     "data": {
      "application/vnd.jupyter.widget-view+json": {
       "model_id": "47f24e24b3d141f3bbd6e3a2d7c656a7",
       "version_major": 2,
       "version_minor": 0
      },
      "text/plain": [
       "HBox(children=(FloatProgress(value=0.0, max=131.0), HTML(value='')))"
      ]
     },
     "metadata": {},
     "output_type": "display_data"
    },
    {
     "name": "stdout",
     "output_type": "stream",
     "text": [
      "Train Step 4/131, train_loss: 0.7224\r"
     ]
    },
    {
     "data": {
      "application/vnd.jupyter.widget-view+json": {
       "model_id": "972b3944f66845c08e510a54f973e014",
       "version_major": 2,
       "version_minor": 0
      },
      "text/plain": [
       "HBox(children=(FloatProgress(value=0.0, max=16.0), HTML(value='')))"
      ]
     },
     "metadata": {},
     "output_type": "display_data"
    },
    {
     "name": "stdout",
     "output_type": "stream",
     "text": [
      "outputs 0.5263018012046814 0.007296158000826836\n",
      "targets 0.5 0.5658032894134521\n",
      "outputs 0.551301121711731 0.00537008186802268\n",
      "targets 0.5 0.5658032894134521\n",
      "outputs 0.5392162799835205 0.012650014832615852\n",
      "targets 0.7450000047683716 0.49000000953674316\n",
      "outputs 0.5186280608177185 0.004388830624520779\n",
      "targets 0.5 0.5658032894134521\n",
      "outputs 0.5435934066772461 0.011631540954113007\n",
      "targets 0.7450000047683716 0.49000000953674316\n",
      "outputs 0.5171505212783813 0.0050451126880943775\n",
      "targets 0.2549999952316284 0.49000000953674316\n",
      "outputs 0.534772515296936 0.012014243751764297\n",
      "targets 0.5 0.5658032894134521\n",
      "outputs 0.5450947880744934 0.011380583979189396\n",
      "targets 0.7450000047683716 0.49000000953674316\n",
      "outputs 0.5414345264434814 0.017882835119962692\n",
      "targets 0.5 0.5658032894134521\n",
      "outputs 0.5310055017471313 0.006530432961881161\n",
      "targets 0.2549999952316284 0.49000000953674316\n",
      "outputs 0.5395091772079468 0.02007317915558815\n",
      "targets 0.2549999952316284 0.49000000953674316\n",
      "outputs 0.5380750298500061 0.021201152354478836\n",
      "targets 0.5 0.5658032894134521\n",
      "outputs 0.528732419013977 0.01641477458178997\n",
      "targets 0.5 0.5658032894134521\n",
      "outputs 0.5364609956741333 0.016210248693823814\n",
      "targets 0.7450000047683716 0.49000000953674316\n",
      "outputs 0.528434157371521 0.01675085350871086\n",
      "targets 0.7450000047683716 0.49000000953674316\n",
      "outputs 0.5336638689041138 nan0.7090\n",
      "targets 0.9900000095367432 nan\n",
      "Valid Step 16/16, valid_loss: 0.6939\n",
      "[Epoch Valid: 15] loss: 0.6939, auc: 0.6602, time: 10.00 s\n",
      "Train Step 8/131, train_loss: 0.7012\r"
     ]
    },
    {
     "data": {
      "application/vnd.jupyter.widget-view+json": {
       "model_id": "725849ab0f1547019abf3ab8775c12bc",
       "version_major": 2,
       "version_minor": 0
      },
      "text/plain": [
       "HBox(children=(FloatProgress(value=0.0, max=16.0), HTML(value='')))"
      ]
     },
     "metadata": {},
     "output_type": "display_data"
    },
    {
     "name": "stdout",
     "output_type": "stream",
     "text": [
      "outputs 0.5352492928504944 0.006651362869888544\n",
      "targets 0.5 0.5658032894134521\n",
      "outputs 0.5604038238525391 0.005658451002091169\n",
      "targets 0.5 0.5658032894134521\n",
      "outputs 0.5480374097824097 0.01278819888830185\n",
      "targets 0.7450000047683716 0.49000000953674316\n",
      "outputs 0.5278450846672058 0.0047902255319058895\n",
      "targets 0.5 0.5658032894134521\n",
      "outputs 0.5525140762329102 0.01214644405990839\n",
      "targets 0.7450000047683716 0.49000000953674316\n",
      "outputs 0.5264962911605835 0.005798520054668188\n",
      "targets 0.2549999952316284 0.49000000953674316\n",
      "outputs 0.5434119701385498 0.012704778462648392\n",
      "targets 0.5 0.5658032894134521\n",
      "outputs 0.5541995763778687 0.011809772811830044\n",
      "targets 0.7450000047683716 0.49000000953674316\n",
      "outputs 0.5506232976913452 0.01806718483567238\n",
      "targets 0.5 0.5658032894134521\n",
      "outputs 0.540246844291687 0.006261093076318502\n",
      "targets 0.2549999952316284 0.49000000953674316\n",
      "outputs 0.5485919713973999 0.020195450633764267\n",
      "targets 0.2549999952316284 0.49000000953674316\n",
      "outputs 0.5471103191375732 0.0215283315628767\n",
      "targets 0.5 0.5658032894134521\n",
      "outputs 0.5384215116500854 0.016082704067230225\n",
      "targets 0.5 0.5658032894134521\n",
      "outputs 0.5458298921585083 0.016268298029899597\n",
      "targets 0.7450000047683716 0.49000000953674316\n",
      "outputs 0.5368745923042297 0.01690482348203659\n",
      "targets 0.7450000047683716 0.49000000953674316\n",
      "outputs 0.5419896245002747 nan0.7100\n",
      "targets 0.9900000095367432 nan\n",
      "Valid Step 16/16, valid_loss: 0.6946\n",
      "[Epoch Valid: 15] loss: 0.6946, auc: 0.6558, time: 10.00 s\n",
      "Train Step 12/131, train_loss: 0.7061\r"
     ]
    },
    {
     "data": {
      "application/vnd.jupyter.widget-view+json": {
       "model_id": "4d865030dbbf412eab5eada2666a1174",
       "version_major": 2,
       "version_minor": 0
      },
      "text/plain": [
       "HBox(children=(FloatProgress(value=0.0, max=16.0), HTML(value='')))"
      ]
     },
     "metadata": {},
     "output_type": "display_data"
    },
    {
     "name": "stdout",
     "output_type": "stream",
     "text": [
      "outputs 0.5367604494094849 0.006031747907400131\n",
      "targets 0.5 0.5658032894134521\n",
      "outputs 0.5603880882263184 0.005492187105119228\n",
      "targets 0.5 0.5658032894134521\n",
      "outputs 0.5485782623291016 0.0121260154992342\n",
      "targets 0.7450000047683716 0.49000000953674316\n",
      "outputs 0.5296211838722229 0.004961267579346895\n",
      "targets 0.5 0.5658032894134521\n",
      "outputs 0.5529208183288574 0.01160365715622902\n",
      "targets 0.7450000047683716 0.49000000953674316\n",
      "outputs 0.5285217761993408 0.006282016634941101\n",
      "targets 0.2549999952316284 0.49000000953674316\n",
      "outputs 0.5439825057983398 0.012400397099554539\n",
      "targets 0.5 0.5658032894134521\n",
      "outputs 0.5544325709342957 0.011526820249855518\n",
      "targets 0.7450000047683716 0.49000000953674316\n",
      "outputs 0.5511841177940369 0.017151324078440666\n",
      "targets 0.5 0.5658032894134521\n",
      "outputs 0.5414830446243286 0.005745739210397005\n",
      "targets 0.2549999952316284 0.49000000953674316\n",
      "outputs 0.5491735339164734 0.019160758703947067\n",
      "targets 0.2549999952316284 0.49000000953674316\n",
      "outputs 0.547607958316803 0.020710576325654984\n",
      "targets 0.5 0.5658032894134521\n",
      "outputs 0.5402623414993286 0.014792097732424736\n",
      "targets 0.5 0.5658032894134521\n",
      "outputs 0.5467038154602051 0.015424703247845173\n",
      "targets 0.7450000047683716 0.49000000953674316\n",
      "outputs 0.5376514196395874 0.016160599887371063\n",
      "targets 0.7450000047683716 0.49000000953674316\n",
      "outputs 0.5424339175224304 nan0.7102\n",
      "targets 0.9900000095367432 nan\n",
      "Valid Step 16/16, valid_loss: 0.6948\n",
      "[Epoch Valid: 15] loss: 0.6948, auc: 0.6515, time: 10.00 s\n",
      "Train Step 16/131, train_loss: 0.6997\r"
     ]
    },
    {
     "data": {
      "application/vnd.jupyter.widget-view+json": {
       "model_id": "31c67f8fd43d45ff89fea871fd76378f",
       "version_major": 2,
       "version_minor": 0
      },
      "text/plain": [
       "HBox(children=(FloatProgress(value=0.0, max=16.0), HTML(value='')))"
      ]
     },
     "metadata": {},
     "output_type": "display_data"
    },
    {
     "name": "stdout",
     "output_type": "stream",
     "text": [
      "outputs 0.5484533905982971 0.005358954891562462\n",
      "targets 0.5 0.5658032894134521\n",
      "outputs 0.5682178139686584 0.00466073676943779\n",
      "targets 0.5 0.5658032894134521\n",
      "outputs 0.5581847429275513 0.010419209487736225\n",
      "targets 0.7450000047683716 0.49000000953674316\n",
      "outputs 0.5413698554039001 0.005008116364479065\n",
      "targets 0.5 0.5658032894134521\n",
      "outputs 0.5620043873786926 0.00958863366395235\n",
      "targets 0.7450000047683716 0.49000000953674316\n",
      "outputs 0.5404972434043884 0.006653228774666786\n",
      "targets 0.2549999952316284 0.49000000953674316\n",
      "outputs 0.5537265539169312 0.010940883308649063\n",
      "targets 0.5 0.5658032894134521\n",
      "outputs 0.5628154277801514 0.01033717580139637\n",
      "targets 0.7450000047683716 0.49000000953674316\n",
      "outputs 0.5602120161056519 0.014777232892811298\n",
      "targets 0.5 0.5658032894134521\n",
      "outputs 0.5521244406700134 0.005036153830587864\n",
      "targets 0.2549999952316284 0.49000000953674316\n",
      "outputs 0.558369517326355 0.0167133416980505\n",
      "targets 0.2549999952316284 0.49000000953674316\n",
      "outputs 0.5565360188484192 0.018657034263014793\n",
      "targets 0.5 0.5658032894134521\n",
      "outputs 0.551708459854126 0.012176957912743092\n",
      "targets 0.5 0.5658032894134521\n",
      "outputs 0.5563958883285522 0.013268972747027874\n",
      "targets 0.7450000047683716 0.49000000953674316\n",
      "outputs 0.5479407906532288 0.014262514188885689\n",
      "targets 0.7450000047683716 0.49000000953674316\n",
      "outputs 0.5523728728294373 nan0.7115\n",
      "targets 0.9900000095367432 nan\n",
      "Valid Step 16/16, valid_loss: 0.6958\n",
      "[Epoch Valid: 15] loss: 0.6958, auc: 0.6450, time: 10.00 s\n",
      "Train Step 20/131, train_loss: 0.6959\r"
     ]
    },
    {
     "data": {
      "application/vnd.jupyter.widget-view+json": {
       "model_id": "f9c4de387ab9482c813af06cec76be91",
       "version_major": 2,
       "version_minor": 0
      },
      "text/plain": [
       "HBox(children=(FloatProgress(value=0.0, max=16.0), HTML(value='')))"
      ]
     },
     "metadata": {},
     "output_type": "display_data"
    },
    {
     "name": "stdout",
     "output_type": "stream",
     "text": [
      "outputs 0.5623624324798584 0.00527328671887517\n",
      "targets 0.5 0.5658032894134521\n",
      "outputs 0.5820504426956177 0.004617416299879551\n",
      "targets 0.5 0.5658032894134521\n",
      "outputs 0.5719166994094849 0.01052522286772728\n",
      "targets 0.7450000047683716 0.49000000953674316\n",
      "outputs 0.5549761652946472 0.005178797524422407\n",
      "targets 0.5 0.5658032894134521\n",
      "outputs 0.5758581161499023 0.009574255906045437\n",
      "targets 0.7450000047683716 0.49000000953674316\n",
      "outputs 0.554132342338562 0.007076571695506573\n",
      "targets 0.2549999952316284 0.49000000953674316\n",
      "outputs 0.5672945380210876 0.011337930336594582\n",
      "targets 0.5 0.5658032894134521\n",
      "outputs 0.5766255855560303 0.010532129555940628\n",
      "targets 0.7450000047683716 0.49000000953674316\n",
      "outputs 0.5740214586257935 0.01484211441129446\n",
      "targets 0.5 0.5658032894134521\n",
      "outputs 0.5659990310668945 0.0052371579222381115\n",
      "targets 0.2549999952316284 0.49000000953674316\n",
      "outputs 0.5721255540847778 0.01689017005264759\n",
      "targets 0.2549999952316284 0.49000000953674316\n",
      "outputs 0.5701942443847656 0.018911421298980713\n",
      "targets 0.5 0.5658032894134521\n",
      "outputs 0.5656360387802124 0.012087265960872173\n",
      "targets 0.5 0.5658032894134521\n",
      "outputs 0.5702269673347473 0.013373727910220623\n",
      "targets 0.7450000047683716 0.49000000953674316\n",
      "outputs 0.5614117383956909 0.014451216906309128\n",
      "targets 0.7450000047683716 0.49000000953674316\n",
      "outputs 0.5659665465354919 nan0.7129\n",
      "targets 0.9900000095367432 nan\n",
      "Valid Step 16/16, valid_loss: 0.6968\n",
      "[Epoch Valid: 15] loss: 0.6968, auc: 0.6429, time: 10.00 s\n",
      "Train Step 24/131, train_loss: 0.6958\r"
     ]
    },
    {
     "data": {
      "application/vnd.jupyter.widget-view+json": {
       "model_id": "9456f86f98ad4441adf7cebfb41677c0",
       "version_major": 2,
       "version_minor": 0
      },
      "text/plain": [
       "HBox(children=(FloatProgress(value=0.0, max=16.0), HTML(value='')))"
      ]
     },
     "metadata": {},
     "output_type": "display_data"
    },
    {
     "name": "stdout",
     "output_type": "stream",
     "text": [
      "outputs 0.5635011196136475 0.005875914823263884\n",
      "targets 0.5 0.5658032894134521\n",
      "outputs 0.5875717997550964 0.005594657268375158\n",
      "targets 0.5 0.5658032894134521\n",
      "outputs 0.5752205848693848 0.012658648192882538\n",
      "targets 0.7450000047683716 0.49000000953674316\n",
      "outputs 0.5556860566139221 0.0053838323801755905\n",
      "targets 0.5 0.5658032894134521\n",
      "outputs 0.5799151062965393 0.012071141041815281\n",
      "targets 0.7450000047683716 0.49000000953674316\n",
      "outputs 0.5544707775115967 0.007501864340156317\n",
      "targets 0.2549999952316284 0.49000000953674316\n",
      "outputs 0.5701815485954285 0.013737335801124573\n",
      "targets 0.5 0.5658032894134521\n",
      "outputs 0.5815680027008057 0.012169736437499523\n",
      "targets 0.7450000047683716 0.49000000953674316\n",
      "outputs 0.5782676339149475 0.017625588923692703\n",
      "targets 0.5 0.5658032894134521\n",
      "outputs 0.5682128667831421 0.006263072602450848\n",
      "targets 0.2549999952316284 0.49000000953674316\n",
      "outputs 0.5760614275932312 0.0199150238186121\n",
      "targets 0.2549999952316284 0.49000000953674316\n",
      "outputs 0.5741480588912964 0.021807203069329262\n",
      "targets 0.5 0.5658032894134521\n",
      "outputs 0.5671006441116333 0.014997451566159725\n",
      "targets 0.5 0.5658032894134521\n",
      "outputs 0.5736960172653198 0.01600842922925949\n",
      "targets 0.7450000047683716 0.49000000953674316\n",
      "outputs 0.5635519027709961 0.016990842297673225\n",
      "targets 0.7450000047683716 0.49000000953674316\n",
      "outputs 0.5687474012374878 nan0.7129\n",
      "targets 0.9900000095367432 nan\n",
      "Valid Step 16/16, valid_loss: 0.6968\n",
      "[Epoch Valid: 15] loss: 0.6968, auc: 0.6472, time: 9.00 s\n",
      "Train Step 28/131, train_loss: 0.6900\r"
     ]
    },
    {
     "data": {
      "application/vnd.jupyter.widget-view+json": {
       "model_id": "b720d0a17c54465dbfa0ae37e698d8ea",
       "version_major": 2,
       "version_minor": 0
      },
      "text/plain": [
       "HBox(children=(FloatProgress(value=0.0, max=16.0), HTML(value='')))"
      ]
     },
     "metadata": {},
     "output_type": "display_data"
    },
    {
     "name": "stdout",
     "output_type": "stream",
     "text": [
      "outputs 0.5601810812950134 0.006699701305478811\n",
      "targets 0.5 0.5658032894134521\n",
      "outputs 0.590514063835144 0.007214556448161602\n",
      "targets 0.5 0.5658032894134521\n",
      "outputs 0.5750047564506531 0.01581559330224991\n",
      "targets 0.7450000047683716 0.49000000953674316\n",
      "outputs 0.5516514778137207 0.00603226013481617\n",
      "targets 0.5 0.5658032894134521\n",
      "outputs 0.5806924104690552 0.01579548418521881\n",
      "targets 0.7450000047683716 0.49000000953674316\n",
      "outputs 0.549972414970398 0.008432247675955296\n",
      "targets 0.2549999952316284 0.49000000953674316\n",
      "outputs 0.5691889524459839 0.017170188948512077\n",
      "targets 0.5 0.5658032894134521\n",
      "outputs 0.5835995674133301 0.0145970294252038\n",
      "targets 0.7450000047683716 0.49000000953674316\n",
      "outputs 0.579434335231781 0.021607771515846252\n",
      "targets 0.5 0.5658032894134521\n",
      "outputs 0.5662130117416382 0.00790967233479023\n",
      "targets 0.2549999952316284 0.49000000953674316\n",
      "outputs 0.5766997337341309 0.02434966154396534\n",
      "targets 0.2549999952316284 0.49000000953674316\n",
      "outputs 0.574741542339325 0.026176271960139275\n",
      "targets 0.5 0.5658032894134521\n",
      "outputs 0.5645086765289307 0.019037218764424324\n",
      "targets 0.5 0.5658032894134521\n",
      "outputs 0.5736541748046875 0.019748816266655922\n",
      "targets 0.7450000047683716 0.49000000953674316\n",
      "outputs 0.561504602432251 0.020703578367829323\n",
      "targets 0.7450000047683716 0.49000000953674316\n",
      "outputs 0.567399799823761 nan 0.7124\n",
      "targets 0.9900000095367432 nan\n",
      "Valid Step 16/16, valid_loss: 0.6963\n",
      "[Epoch Valid: 15] loss: 0.6963, auc: 0.6483, time: 10.00 s\n",
      "Train Step 32/131, train_loss: 0.6856\r"
     ]
    },
    {
     "data": {
      "application/vnd.jupyter.widget-view+json": {
       "model_id": "295a6f2af06f45a1b70c6c394f7fc285",
       "version_major": 2,
       "version_minor": 0
      },
      "text/plain": [
       "HBox(children=(FloatProgress(value=0.0, max=16.0), HTML(value='')))"
      ]
     },
     "metadata": {},
     "output_type": "display_data"
    },
    {
     "name": "stdout",
     "output_type": "stream",
     "text": [
      "outputs 0.5635852813720703 0.007554543670266867\n",
      "targets 0.5 0.5658032894134521\n",
      "outputs 0.6004549264907837 0.008892431855201721\n",
      "targets 0.5 0.5658032894134521\n",
      "outputs 0.5816968083381653 0.019235169515013695\n",
      "targets 0.7450000047683716 0.49000000953674316\n",
      "outputs 0.5536843538284302 0.006959263700991869\n",
      "targets 0.5 0.5658032894134521\n",
      "outputs 0.5882825255393982 0.01981271617114544\n",
      "targets 0.7450000047683716 0.49000000953674316\n",
      "outputs 0.5512275099754333 0.010146490298211575\n",
      "targets 0.2549999952316284 0.49000000953674316\n",
      "outputs 0.5746780037879944 0.020961830392479897\n",
      "targets 0.5 0.5658032894134521\n",
      "outputs 0.5925197601318359 0.017098447307944298\n",
      "targets 0.7450000047683716 0.49000000953674316\n",
      "outputs 0.587482213973999 0.025843558833003044\n",
      "targets 0.5 0.5658032894134521\n",
      "outputs 0.5703142881393433 0.010268251411616802\n",
      "targets 0.2549999952316284 0.49000000953674316\n",
      "outputs 0.5841752290725708 0.029193097725510597\n",
      "targets 0.2549999952316284 0.49000000953674316\n",
      "outputs 0.5817813277244568 0.03138003125786781\n",
      "targets 0.5 0.5658032894134521\n",
      "outputs 0.5684645175933838 0.023383518680930138\n",
      "targets 0.5 0.5658032894134521\n",
      "outputs 0.5804073810577393 0.023637153208255768\n",
      "targets 0.7450000047683716 0.49000000953674316\n",
      "outputs 0.5658878087997437 0.02492639794945717\n",
      "targets 0.7450000047683716 0.49000000953674316\n",
      "outputs 0.5729414820671082 nan0.7127\n",
      "targets 0.9900000095367432 nan\n",
      "Valid Step 16/16, valid_loss: 0.6964\n",
      "[Epoch Valid: 15] loss: 0.6964, auc: 0.6450, time: 10.00 s\n",
      "Train Step 36/131, train_loss: 0.6871\r"
     ]
    },
    {
     "data": {
      "application/vnd.jupyter.widget-view+json": {
       "model_id": "506e8cfcdd0146e9aac273defb002f8b",
       "version_major": 2,
       "version_minor": 0
      },
      "text/plain": [
       "HBox(children=(FloatProgress(value=0.0, max=16.0), HTML(value='')))"
      ]
     },
     "metadata": {},
     "output_type": "display_data"
    },
    {
     "name": "stdout",
     "output_type": "stream",
     "text": [
      "outputs 0.5695531368255615 0.008232157677412033\n",
      "targets 0.5 0.5658032894134521\n",
      "outputs 0.6118218898773193 0.010061523877084255\n",
      "targets 0.5 0.5658032894134521\n",
      "outputs 0.5904549360275269 0.021934958174824715\n",
      "targets 0.7450000047683716 0.49000000953674316\n",
      "outputs 0.5586214065551758 0.007589164189994335\n",
      "targets 0.5 0.5658032894134521\n",
      "outputs 0.597658634185791 0.023221656680107117\n",
      "targets 0.7450000047683716 0.49000000953674316\n",
      "outputs 0.5554409027099609 0.011112677864730358\n",
      "targets 0.2549999952316284 0.49000000953674316\n",
      "outputs 0.5826641321182251 0.023970376700162888\n",
      "targets 0.5 0.5658032894134521\n",
      "outputs 0.6031482219696045 0.018986530601978302\n",
      "targets 0.7450000047683716 0.49000000953674316\n",
      "outputs 0.5972806811332703 0.02927859127521515\n",
      "targets 0.5 0.5658032894134521\n",
      "outputs 0.5768203139305115 0.012453836388885975\n",
      "targets 0.2549999952316284 0.49000000953674316\n",
      "outputs 0.5935906767845154 0.03304966539144516\n",
      "targets 0.2549999952316284 0.49000000953674316\n",
      "outputs 0.590920090675354 0.035382408648729324\n",
      "targets 0.5 0.5658032894134521\n",
      "outputs 0.5745060443878174 0.027195900678634644\n",
      "targets 0.5 0.5658032894134521\n",
      "outputs 0.589250922203064 0.02677253820002079\n",
      "targets 0.7450000047683716 0.49000000953674316\n",
      "outputs 0.5729967355728149 0.028294678777456284\n",
      "targets 0.7450000047683716 0.49000000953674316\n",
      "outputs 0.5813180804252625 nan0.7132\n",
      "targets 0.9900000095367432 nan\n",
      "Valid Step 16/16, valid_loss: 0.6967\n",
      "[Epoch Valid: 15] loss: 0.6967, auc: 0.6429, time: 10.00 s\n",
      "Train Step 40/131, train_loss: 0.6857\r"
     ]
    },
    {
     "data": {
      "application/vnd.jupyter.widget-view+json": {
       "model_id": "7a2d35ce43254c5290883d6d56a25779",
       "version_major": 2,
       "version_minor": 0
      },
      "text/plain": [
       "HBox(children=(FloatProgress(value=0.0, max=16.0), HTML(value='')))"
      ]
     },
     "metadata": {},
     "output_type": "display_data"
    },
    {
     "name": "stdout",
     "output_type": "stream",
     "text": [
      "outputs 0.5797366499900818 0.008900701068341732\n",
      "targets 0.5 0.5658032894134521\n",
      "outputs 0.6256288290023804 0.010616091080009937\n",
      "targets 0.5 0.5658032894134521\n",
      "outputs 0.602583646774292 0.02363448217511177\n",
      "targets 0.7450000047683716 0.49000000953674316\n",
      "outputs 0.5681379437446594 0.00787413865327835\n",
      "targets 0.5 0.5658032894134521\n",
      "outputs 0.6101744174957275 0.02541431412100792\n",
      "targets 0.7450000047683716 0.49000000953674316\n",
      "outputs 0.5644715428352356 0.011210649274289608\n",
      "targets 0.2549999952316284 0.49000000953674316\n",
      "outputs 0.5945894718170166 0.02574734389781952\n",
      "targets 0.5 0.5658032894134521\n",
      "outputs 0.616537868976593 0.020155441015958786\n",
      "targets 0.7450000047683716 0.49000000953674316\n",
      "outputs 0.6099426746368408 0.03159520402550697\n",
      "targets 0.5 0.5658032894134521\n",
      "outputs 0.5874987244606018 0.014059554785490036\n",
      "targets 0.2549999952316284 0.49000000953674316\n",
      "outputs 0.6060706377029419 0.03559782728552818\n",
      "targets 0.2549999952316284 0.49000000953674316\n",
      "outputs 0.6033743619918823 0.037731871008872986\n",
      "targets 0.5 0.5658032894134521\n",
      "outputs 0.5843755006790161 0.029955323785543442\n",
      "targets 0.5 0.5658032894134521\n",
      "outputs 0.601384699344635 0.028909984976053238\n",
      "targets 0.7450000047683716 0.49000000953674316\n",
      "outputs 0.5842076539993286 0.03043340891599655\n",
      "targets 0.7450000047683716 0.49000000953674316\n",
      "outputs 0.5935844779014587 nan0.7142\n",
      "targets 0.9900000095367432 nan\n",
      "Valid Step 16/16, valid_loss: 0.6974\n",
      "[Epoch Valid: 15] loss: 0.6974, auc: 0.6396, time: 10.00 s\n",
      "Train Step 44/131, train_loss: 0.6893\r"
     ]
    },
    {
     "data": {
      "application/vnd.jupyter.widget-view+json": {
       "model_id": "d579de05bec742588a6065126684de10",
       "version_major": 2,
       "version_minor": 0
      },
      "text/plain": [
       "HBox(children=(FloatProgress(value=0.0, max=16.0), HTML(value='')))"
      ]
     },
     "metadata": {},
     "output_type": "display_data"
    },
    {
     "name": "stdout",
     "output_type": "stream",
     "text": [
      "outputs 0.5679657459259033 0.009150398895144463\n",
      "targets 0.5 0.5658032894134521\n",
      "outputs 0.616919994354248 0.011200319975614548\n",
      "targets 0.5 0.5658032894134521\n",
      "outputs 0.5925072431564331 0.025108585134148598\n",
      "targets 0.7450000047683716 0.49000000953674316\n",
      "outputs 0.5564706325531006 0.007912697270512581\n",
      "targets 0.5 0.5658032894134521\n",
      "outputs 0.6002185344696045 0.027450235560536385\n",
      "targets 0.7450000047683716 0.49000000953674316\n",
      "outputs 0.552711546421051 0.010509667918086052\n",
      "targets 0.2549999952316284 0.49000000953674316\n",
      "outputs 0.5846055746078491 0.026592321693897247\n",
      "targets 0.5 0.5658032894134521\n",
      "outputs 0.607413649559021 0.020862124860286713\n",
      "targets 0.7450000047683716 0.49000000953674316\n",
      "outputs 0.6005262136459351 0.03325813636183739\n",
      "targets 0.5 0.5658032894134521\n",
      "outputs 0.5760023593902588 0.015503156930208206\n",
      "targets 0.2549999952316284 0.49000000953674316\n",
      "outputs 0.5965429544448853 0.037361398339271545\n",
      "targets 0.2549999952316284 0.49000000953674316\n",
      "outputs 0.5941087603569031 0.038911644369363785\n",
      "targets 0.5 0.5658032894134521\n",
      "outputs 0.572418212890625 0.03223994001746178\n",
      "targets 0.5 0.5658032894134521\n",
      "outputs 0.5913602113723755 0.030247511342167854\n",
      "targets 0.7450000047683716 0.49000000953674316\n",
      "outputs 0.5739596486091614 0.0315861813724041\n",
      "targets 0.7450000047683716 0.49000000953674316\n",
      "outputs 0.5840418338775635 nan0.7129\n",
      "targets 0.9900000095367432 nan\n",
      "Valid Step 16/16, valid_loss: 0.6964\n",
      "[Epoch Valid: 15] loss: 0.6964, auc: 0.6396, time: 10.00 s\n",
      "Train Step 48/131, train_loss: 0.6941\r"
     ]
    },
    {
     "data": {
      "application/vnd.jupyter.widget-view+json": {
       "model_id": "8cf33348262e42538ddaed8e2e87223f",
       "version_major": 2,
       "version_minor": 0
      },
      "text/plain": [
       "HBox(children=(FloatProgress(value=0.0, max=16.0), HTML(value='')))"
      ]
     },
     "metadata": {},
     "output_type": "display_data"
    },
    {
     "name": "stdout",
     "output_type": "stream",
     "text": [
      "outputs 0.5257582664489746 0.008666157722473145\n",
      "targets 0.5 0.5658032894134521\n",
      "outputs 0.5766189098358154 0.012114828452467918\n",
      "targets 0.5 0.5658032894134521\n",
      "outputs 0.5513297319412231 0.026352860033512115\n",
      "targets 0.7450000047683716 0.49000000953674316\n",
      "outputs 0.5155187845230103 0.007787571754306555\n",
      "targets 0.5 0.5658032894134521\n",
      "outputs 0.5589545965194702 0.028976675122976303\n",
      "targets 0.7450000047683716 0.49000000953674316\n",
      "outputs 0.5120847225189209 0.009390118531882763\n",
      "targets 0.2549999952316284 0.49000000953674316\n",
      "outputs 0.543700098991394 0.026314400136470795\n",
      "targets 0.5 0.5658032894134521\n",
      "outputs 0.5666991472244263 0.02091212198138237\n",
      "targets 0.7450000047683716 0.49000000953674316\n",
      "outputs 0.560282826423645 0.03393974155187607\n",
      "targets 0.5 0.5658032894134521\n",
      "outputs 0.533865213394165 0.016237769275903702\n",
      "targets 0.2549999952316284 0.49000000953674316\n",
      "outputs 0.5562350153923035 0.03789651766419411\n",
      "targets 0.2549999952316284 0.49000000953674316\n",
      "outputs 0.5544048547744751 0.03861349821090698\n",
      "targets 0.5 0.5658032894134521\n",
      "outputs 0.5306679010391235 0.03331555798649788\n",
      "targets 0.5 0.5658032894134521\n",
      "outputs 0.5503523349761963 0.03035830333828926\n",
      "targets 0.7450000047683716 0.49000000953674316\n",
      "outputs 0.5336100459098816 0.03128369152545929\n",
      "targets 0.7450000047683716 0.49000000953674316\n",
      "outputs 0.5434224605560303 nan0.7086\n",
      "targets 0.9900000095367432 nan\n",
      "Valid Step 16/16, valid_loss: 0.6933\n",
      "[Epoch Valid: 15] loss: 0.6933, auc: 0.6364, time: 10.00 s\n",
      "Train Step 52/131, train_loss: 0.6928\r"
     ]
    },
    {
     "data": {
      "application/vnd.jupyter.widget-view+json": {
       "model_id": "276f54e4bc7c494986baf7dbfad4187c",
       "version_major": 2,
       "version_minor": 0
      },
      "text/plain": [
       "HBox(children=(FloatProgress(value=0.0, max=16.0), HTML(value='')))"
      ]
     },
     "metadata": {},
     "output_type": "display_data"
    },
    {
     "name": "stdout",
     "output_type": "stream",
     "text": [
      "outputs 0.481502890586853 0.007639232091605663\n",
      "targets 0.5 0.5658032894134521\n",
      "outputs 0.5305768847465515 0.012429732829332352\n",
      "targets 0.5 0.5658032894134521\n",
      "outputs 0.506054162979126 0.025953687727451324\n",
      "targets 0.7450000047683716 0.49000000953674316\n",
      "outputs 0.47306036949157715 0.007321193814277649\n",
      "targets 0.5 0.5658032894134521\n",
      "outputs 0.5134693384170532 0.028212469071149826\n",
      "targets 0.7450000047683716 0.49000000953674316\n",
      "outputs 0.4700174033641815 0.008284777402877808\n",
      "targets 0.2549999952316284 0.49000000953674316\n",
      "outputs 0.4991473853588104 0.024730108678340912\n",
      "targets 0.5 0.5658032894134521\n",
      "outputs 0.5209449529647827 0.01984173059463501\n",
      "targets 0.7450000047683716 0.49000000953674316\n",
      "outputs 0.5154300928115845 0.03243204206228256\n",
      "targets 0.5 0.5658032894134521\n",
      "outputs 0.48952916264533997 0.015310017392039299\n",
      "targets 0.2549999952316284 0.49000000953674316\n",
      "outputs 0.5113788843154907 0.03610498458147049\n",
      "targets 0.2549999952316284 0.49000000953674316\n",
      "outputs 0.5102550983428955 0.03615428879857063\n",
      "targets 0.5 0.5658032894134521\n",
      "outputs 0.4868759512901306 0.03176132217049599\n",
      "targets 0.5 0.5658032894134521\n",
      "outputs 0.5054651498794556 0.028666386380791664\n",
      "targets 0.7450000047683716 0.49000000953674316\n",
      "outputs 0.49011531472206116 0.029147494584321976\n",
      "targets 0.7450000047683716 0.49000000953674316\n",
      "outputs 0.4985124170780182 nan0.7046\n",
      "targets 0.9900000095367432 nan\n",
      "Valid Step 16/16, valid_loss: 0.6905\n",
      "[Epoch Valid: 15] loss: 0.6905, auc: 0.6374, time: 10.00 s\n",
      "Train Step 56/131, train_loss: 0.6943\r"
     ]
    },
    {
     "data": {
      "application/vnd.jupyter.widget-view+json": {
       "model_id": "d793cbe104724ac3b44f9a314d13ffac",
       "version_major": 2,
       "version_minor": 0
      },
      "text/plain": [
       "HBox(children=(FloatProgress(value=0.0, max=16.0), HTML(value='')))"
      ]
     },
     "metadata": {},
     "output_type": "display_data"
    },
    {
     "name": "stdout",
     "output_type": "stream",
     "text": [
      "outputs 0.4741724729537964 0.007181909866631031\n",
      "targets 0.5 0.5658032894134521\n",
      "outputs 0.5213868021965027 0.011980615556240082\n",
      "targets 0.5 0.5658032894134521\n",
      "outputs 0.4975038468837738 0.024988073855638504\n",
      "targets 0.7450000047683716 0.49000000953674316\n",
      "outputs 0.4666229486465454 0.007096346002072096\n",
      "targets 0.5 0.5658032894134521\n",
      "outputs 0.5050469040870667 0.027151620015501976\n",
      "targets 0.7450000047683716 0.49000000953674316\n",
      "outputs 0.46387767791748047 0.007444459479302168\n",
      "targets 0.2549999952316284 0.49000000953674316\n",
      "outputs 0.49138256907463074 0.023939356207847595\n",
      "targets 0.5 0.5658032894134521\n",
      "outputs 0.512241780757904 0.019410954788327217\n",
      "targets 0.7450000047683716 0.49000000953674316\n",
      "outputs 0.5068848729133606 0.03112049400806427\n",
      "targets 0.5 0.5658032894134521\n",
      "outputs 0.48254138231277466 0.014448406174778938\n",
      "targets 0.2549999952316284 0.49000000953674316\n",
      "outputs 0.5028526782989502 0.03480776771903038\n",
      "targets 0.2549999952316284 0.49000000953674316\n",
      "outputs 0.5022778511047363 0.034175336360931396\n",
      "targets 0.5 0.5658032894134521\n",
      "outputs 0.47953522205352783 0.030498165637254715\n",
      "targets 0.5 0.5658032894134521\n",
      "outputs 0.4974607825279236 0.027681298553943634\n",
      "targets 0.7450000047683716 0.49000000953674316\n",
      "outputs 0.4825577437877655 0.027829332277178764\n",
      "targets 0.7450000047683716 0.49000000953674316\n",
      "outputs 0.4902067482471466 nan0.7040\n",
      "targets 0.9900000095367432 nan\n",
      "Valid Step 16/16, valid_loss: 0.6902\n",
      "[Epoch Valid: 15] loss: 0.6902, auc: 0.6385, time: 10.00 s\n",
      "Train Step 60/131, train_loss: 0.6934\r"
     ]
    },
    {
     "data": {
      "application/vnd.jupyter.widget-view+json": {
       "model_id": "0c8b149cd3c04793b6de22ede8163d82",
       "version_major": 2,
       "version_minor": 0
      },
      "text/plain": [
       "HBox(children=(FloatProgress(value=0.0, max=16.0), HTML(value='')))"
      ]
     },
     "metadata": {},
     "output_type": "display_data"
    },
    {
     "name": "stdout",
     "output_type": "stream",
     "text": [
      "outputs 0.4676986038684845 0.006555425003170967\n",
      "targets 0.5 0.5658032894134521\n",
      "outputs 0.5109858512878418 0.011015965603291988\n",
      "targets 0.5 0.5658032894134521\n",
      "outputs 0.48896509408950806 0.022895213216543198\n",
      "targets 0.7450000047683716 0.49000000953674316\n",
      "outputs 0.4608151316642761 0.00653951708227396\n",
      "targets 0.5 0.5658032894134521\n",
      "outputs 0.4960384964942932 0.024897336959838867\n",
      "targets 0.7450000047683716 0.49000000953674316\n",
      "outputs 0.45835012197494507 0.006726078223437071\n",
      "targets 0.2549999952316284 0.49000000953674316\n",
      "outputs 0.4834769666194916 0.021993432193994522\n",
      "targets 0.5 0.5658032894134521\n",
      "outputs 0.5025333166122437 0.018105896189808846\n",
      "targets 0.7450000047683716 0.49000000953674316\n",
      "outputs 0.4976117014884949 0.028621619567275047\n",
      "targets 0.5 0.5658032894134521\n",
      "outputs 0.47564423084259033 0.013034545816481113\n",
      "targets 0.2549999952316284 0.49000000953674316\n",
      "outputs 0.4938466548919678 0.03210320696234703\n",
      "targets 0.2549999952316284 0.49000000953674316\n",
      "outputs 0.4934576451778412 0.03131429851055145\n",
      "targets 0.5 0.5658032894134521\n",
      "outputs 0.4727060794830322 0.027948804199695587\n",
      "targets 0.5 0.5658032894134521\n",
      "outputs 0.4890553057193756 0.025514017790555954\n",
      "targets 0.7450000047683716 0.49000000953674316\n",
      "outputs 0.4752224087715149 0.0255289226770401\n",
      "targets 0.7450000047683716 0.49000000953674316\n",
      "outputs 0.48207882046699524 nan.7035\n",
      "targets 0.9900000095367432 nan\n",
      "Valid Step 16/16, valid_loss: 0.6899\n",
      "[Epoch Valid: 15] loss: 0.6899, auc: 0.6374, time: 10.00 s\n",
      "Train Step 64/131, train_loss: 0.6937\r"
     ]
    },
    {
     "data": {
      "application/vnd.jupyter.widget-view+json": {
       "model_id": "b042459e318043f7a4224034909213d0",
       "version_major": 2,
       "version_minor": 0
      },
      "text/plain": [
       "HBox(children=(FloatProgress(value=0.0, max=16.0), HTML(value='')))"
      ]
     },
     "metadata": {},
     "output_type": "display_data"
    },
    {
     "name": "stdout",
     "output_type": "stream",
     "text": [
      "outputs 0.4697858691215515 0.006287179887294769\n",
      "targets 0.5 0.5658032894134521\n",
      "outputs 0.5115315914154053 0.010620852932333946\n",
      "targets 0.5 0.5658032894134521\n",
      "outputs 0.4901634752750397 0.022040128707885742\n",
      "targets 0.7450000047683716 0.49000000953674316\n",
      "outputs 0.4631286859512329 0.0063511887565255165\n",
      "targets 0.5 0.5658032894134521\n",
      "outputs 0.49715837836265564 0.024063922464847565\n",
      "targets 0.7450000047683716 0.49000000953674316\n",
      "outputs 0.46071872115135193 0.0065820966847240925\n",
      "targets 0.2549999952316284 0.49000000953674316\n",
      "outputs 0.4849435091018677 0.021444858983159065\n",
      "targets 0.5 0.5658032894134521\n",
      "outputs 0.5034560561180115 0.017682164907455444\n",
      "targets 0.7450000047683716 0.49000000953674316\n",
      "outputs 0.4986055791378021 0.02761949598789215\n",
      "targets 0.5 0.5658032894134521\n",
      "outputs 0.4776489734649658 0.012439274229109287\n",
      "targets 0.2549999952316284 0.49000000953674316\n",
      "outputs 0.49492791295051575 0.031100045889616013\n",
      "targets 0.2549999952316284 0.49000000953674316\n",
      "outputs 0.4945377707481384 0.030334971845149994\n",
      "targets 0.5 0.5658032894134521\n",
      "outputs 0.4746820330619812 0.02697356417775154\n",
      "targets 0.5 0.5658032894134521\n",
      "outputs 0.490477055311203 0.02474024146795273\n",
      "targets 0.7450000047683716 0.49000000953674316\n",
      "outputs 0.47689205408096313 0.02481679990887642\n",
      "targets 0.7450000047683716 0.49000000953674316\n",
      "outputs 0.4834132492542267 nan0.7038\n",
      "targets 0.9900000095367432 nan\n",
      "Valid Step 16/16, valid_loss: 0.6901\n",
      "[Epoch Valid: 15] loss: 0.6901, auc: 0.6385, time: 10.00 s\n",
      "Train Step 68/131, train_loss: 0.6929\r"
     ]
    },
    {
     "data": {
      "application/vnd.jupyter.widget-view+json": {
       "model_id": "570975a2f89c4ece889f35d2fba78095",
       "version_major": 2,
       "version_minor": 0
      },
      "text/plain": [
       "HBox(children=(FloatProgress(value=0.0, max=16.0), HTML(value='')))"
      ]
     },
     "metadata": {},
     "output_type": "display_data"
    },
    {
     "name": "stdout",
     "output_type": "stream",
     "text": [
      "outputs 0.49739742279052734 0.0066250343807041645\n",
      "targets 0.5 0.5658032894134521\n",
      "outputs 0.5397045016288757 0.010268501937389374\n",
      "targets 0.5 0.5658032894134521\n",
      "outputs 0.5178608298301697 0.021954992786049843\n",
      "targets 0.7450000047683716 0.49000000953674316\n",
      "outputs 0.49031364917755127 0.006522627081722021\n",
      "targets 0.5 0.5658032894134521\n",
      "outputs 0.5251858234405518 0.024332033470273018\n",
      "targets 0.7450000047683716 0.49000000953674316\n",
      "outputs 0.48776593804359436 0.006725679151713848\n",
      "targets 0.2549999952316284 0.49000000953674316\n",
      "outputs 0.5127300024032593 0.022193999961018562\n",
      "targets 0.5 0.5658032894134521\n",
      "outputs 0.5316978693008423 0.01827644184231758\n",
      "targets 0.7450000047683716 0.49000000953674316\n",
      "outputs 0.5262734889984131 0.027980521321296692\n",
      "targets 0.5 0.5658032894134521\n",
      "outputs 0.5058058500289917 0.01251581683754921\n",
      "targets 0.2549999952316284 0.49000000953674316\n",
      "outputs 0.5226118564605713 0.031624935567379\n",
      "targets 0.2549999952316284 0.49000000953674316\n",
      "outputs 0.5220982432365417 0.030954251065850258\n",
      "targets 0.5 0.5658032894134521\n",
      "outputs 0.5021684169769287 0.027480587363243103\n",
      "targets 0.5 0.5658032894134521\n",
      "outputs 0.5184678435325623 0.0254852082580328\n",
      "targets 0.7450000047683716 0.49000000953674316\n",
      "outputs 0.5042557120323181 0.02566569112241268\n",
      "targets 0.7450000047683716 0.49000000953674316\n",
      "outputs 0.5111754536628723 nan0.7062\n",
      "targets 0.9900000095367432 nan\n",
      "Valid Step 16/16, valid_loss: 0.6917\n",
      "[Epoch Valid: 15] loss: 0.6917, auc: 0.6374, time: 10.00 s\n",
      "Train Step 72/131, train_loss: 0.6919\r"
     ]
    },
    {
     "data": {
      "application/vnd.jupyter.widget-view+json": {
       "model_id": "ffb18a4625d34fde89ad373d2ad97d94",
       "version_major": 2,
       "version_minor": 0
      },
      "text/plain": [
       "HBox(children=(FloatProgress(value=0.0, max=16.0), HTML(value='')))"
      ]
     },
     "metadata": {},
     "output_type": "display_data"
    },
    {
     "name": "stdout",
     "output_type": "stream",
     "text": [
      "outputs 0.5467007160186768 0.006951145827770233\n",
      "targets 0.5 0.5658032894134521\n",
      "outputs 0.5860830545425415 0.00863391999155283\n",
      "targets 0.5 0.5658032894134521\n",
      "outputs 0.565730094909668 0.01981968618929386\n",
      "targets 0.7450000047683716 0.49000000953674316\n",
      "outputs 0.5393524169921875 0.006202448159456253\n",
      "targets 0.5 0.5658032894134521\n",
      "outputs 0.5727201104164124 0.022098110988736153\n",
      "targets 0.7450000047683716 0.49000000953674316\n",
      "outputs 0.5366829633712769 0.006086393259465694\n",
      "targets 0.2549999952316284 0.49000000953674316\n",
      "outputs 0.5611240863800049 0.020905276760458946\n",
      "targets 0.5 0.5658032894134521\n",
      "outputs 0.5785523653030396 0.017572714015841484\n",
      "targets 0.7450000047683716 0.49000000953674316\n",
      "outputs 0.5726664662361145 0.0263801421970129\n",
      "targets 0.5 0.5658032894134521\n",
      "outputs 0.5555598735809326 0.011286416091024876\n",
      "targets 0.2549999952316284 0.49000000953674316\n",
      "outputs 0.5694761276245117 0.02968529425561428\n",
      "targets 0.2549999952316284 0.49000000953674316\n",
      "outputs 0.5689712166786194 0.029097869992256165\n",
      "targets 0.5 0.5658032894134521\n",
      "outputs 0.5506126880645752 0.02575443685054779\n",
      "targets 0.5 0.5658032894134521\n",
      "outputs 0.5660770535469055 0.024568039923906326\n",
      "targets 0.7450000047683716 0.49000000953674316\n",
      "outputs 0.5526529550552368 0.024397851899266243\n",
      "targets 0.7450000047683716 0.49000000953674316\n",
      "outputs 0.5594712495803833 nan0.7109\n",
      "targets 0.9900000095367432 nan\n",
      "Valid Step 16/16, valid_loss: 0.6951\n",
      "[Epoch Valid: 15] loss: 0.6951, auc: 0.6526, time: 10.00 s\n",
      "Train Step 76/131, train_loss: 0.6928\r"
     ]
    },
    {
     "data": {
      "application/vnd.jupyter.widget-view+json": {
       "model_id": "29dce80ef6a147f5989c598ef87d7ee7",
       "version_major": 2,
       "version_minor": 0
      },
      "text/plain": [
       "HBox(children=(FloatProgress(value=0.0, max=16.0), HTML(value='')))"
      ]
     },
     "metadata": {},
     "output_type": "display_data"
    },
    {
     "name": "stdout",
     "output_type": "stream",
     "text": [
      "outputs 0.5659342408180237 0.006807894445955753\n",
      "targets 0.5 0.5658032894134521\n",
      "outputs 0.6023275852203369 0.007609162013977766\n",
      "targets 0.5 0.5658032894134521\n",
      "outputs 0.5834002494812012 0.018110189586877823\n",
      "targets 0.7450000047683716 0.49000000953674316\n",
      "outputs 0.5587486028671265 0.005848057102411985\n",
      "targets 0.5 0.5658032894134521\n",
      "outputs 0.590099573135376 0.020104466006159782\n",
      "targets 0.7450000047683716 0.49000000953674316\n",
      "outputs 0.5561204552650452 0.00560781778767705\n",
      "targets 0.2549999952316284 0.49000000953674316\n",
      "outputs 0.5792256593704224 0.01956726424396038\n",
      "targets 0.5 0.5658032894134521\n",
      "outputs 0.5952417254447937 0.01658966764807701\n",
      "targets 0.7450000047683716 0.49000000953674316\n",
      "outputs 0.5894404649734497 0.024653980508446693\n",
      "targets 0.5 0.5658032894134521\n",
      "outputs 0.5748571157455444 0.010199167765676975\n",
      "targets 0.2549999952316284 0.49000000953674316\n",
      "outputs 0.5865547060966492 0.027641363441944122\n",
      "targets 0.2549999952316284 0.49000000953674316\n",
      "outputs 0.586100697517395 0.027182338759303093\n",
      "targets 0.5 0.5658032894134521\n",
      "outputs 0.5693289041519165 0.023870032280683517\n",
      "targets 0.5 0.5658032894134521\n",
      "outputs 0.5836218595504761 0.023219499737024307\n",
      "targets 0.7450000047683716 0.49000000953674316\n",
      "outputs 0.5711109638214111 0.02285020239651203\n",
      "targets 0.7450000047683716 0.49000000953674316\n",
      "outputs 0.5774503946304321 nan0.7130\n",
      "targets 0.9900000095367432 nan\n",
      "Valid Step 16/16, valid_loss: 0.6966\n",
      "[Epoch Valid: 15] loss: 0.6966, auc: 0.6515, time: 10.00 s\n",
      "Train Step 80/131, train_loss: 0.6930\r"
     ]
    },
    {
     "data": {
      "application/vnd.jupyter.widget-view+json": {
       "model_id": "d32d3cb19ee449f2815f727b5b1e3dd1",
       "version_major": 2,
       "version_minor": 0
      },
      "text/plain": [
       "HBox(children=(FloatProgress(value=0.0, max=16.0), HTML(value='')))"
      ]
     },
     "metadata": {},
     "output_type": "display_data"
    },
    {
     "name": "stdout",
     "output_type": "stream",
     "text": [
      "outputs 0.5759265422821045 0.006872344762086868\n",
      "targets 0.5 0.5658032894134521\n",
      "outputs 0.6127082109451294 0.007645918056368828\n",
      "targets 0.5 0.5658032894134521\n",
      "outputs 0.5934512615203857 0.01828828640282154\n",
      "targets 0.7450000047683716 0.49000000953674316\n",
      "outputs 0.5686237812042236 0.005995075684040785\n",
      "targets 0.5 0.5658032894134521\n",
      "outputs 0.6003932356834412 0.02032184600830078\n",
      "targets 0.7450000047683716 0.49000000953674316\n",
      "outputs 0.5658843517303467 0.005739810410887003\n",
      "targets 0.2549999952316284 0.49000000953674316\n",
      "outputs 0.5892626643180847 0.020102879032492638\n",
      "targets 0.5 0.5658032894134521\n",
      "outputs 0.6055968999862671 0.016841769218444824\n",
      "targets 0.7450000047683716 0.49000000953674316\n",
      "outputs 0.5996344089508057 0.024944763630628586\n",
      "targets 0.5 0.5658032894134521\n",
      "outputs 0.5852668285369873 0.010225318372249603\n",
      "targets 0.2549999952316284 0.49000000953674316\n",
      "outputs 0.5966796875 0.02796865627169609\n",
      "targets 0.2549999952316284 0.49000000953674316\n",
      "outputs 0.5962176322937012 0.027644583955407143\n",
      "targets 0.5 0.5658032894134521\n",
      "outputs 0.5793159604072571 0.024135379120707512\n",
      "targets 0.5 0.5658032894134521\n",
      "outputs 0.5937877893447876 0.023658357560634613\n",
      "targets 0.7450000047683716 0.49000000953674316\n",
      "outputs 0.5810236930847168 0.02327577956020832\n",
      "targets 0.7450000047683716 0.49000000953674316\n",
      "outputs 0.5873777270317078 nan0.7141\n",
      "targets 0.9900000095367432 nan\n",
      "Valid Step 16/16, valid_loss: 0.6974\n",
      "[Epoch Valid: 15] loss: 0.6974, auc: 0.6504, time: 10.00 s\n",
      "Train Step 84/131, train_loss: 0.6915\r"
     ]
    },
    {
     "data": {
      "application/vnd.jupyter.widget-view+json": {
       "model_id": "c74949e6180d4c51ae10ecd9d8d2529d",
       "version_major": 2,
       "version_minor": 0
      },
      "text/plain": [
       "HBox(children=(FloatProgress(value=0.0, max=16.0), HTML(value='')))"
      ]
     },
     "metadata": {},
     "output_type": "display_data"
    },
    {
     "name": "stdout",
     "output_type": "stream",
     "text": [
      "outputs 0.5735098123550415 0.006872617173939943\n",
      "targets 0.5 0.5658032894134521\n",
      "outputs 0.6109447479248047 0.0077952430583536625\n",
      "targets 0.5 0.5658032894134521\n",
      "outputs 0.5912041664123535 0.018576908856630325\n",
      "targets 0.7450000047683716 0.49000000953674316\n",
      "outputs 0.5663387775421143 0.006193275097757578\n",
      "targets 0.5 0.5658032894134521\n",
      "outputs 0.5983985066413879 0.0207830723375082\n",
      "targets 0.7450000047683716 0.49000000953674316\n",
      "outputs 0.5636090040206909 0.005623655393719673\n",
      "targets 0.2549999952316284 0.49000000953674316\n",
      "outputs 0.587113618850708 0.020610064268112183\n",
      "targets 0.5 0.5658032894134521\n",
      "outputs 0.6037944555282593 0.017156723886728287\n",
      "targets 0.7450000047683716 0.49000000953674316\n",
      "outputs 0.5976911783218384 0.025298528373241425\n",
      "targets 0.5 0.5658032894134521\n",
      "outputs 0.5833150148391724 0.010318693704903126\n",
      "targets 0.2549999952316284 0.49000000953674316\n",
      "outputs 0.5946370363235474 0.028373146429657936\n",
      "targets 0.2549999952316284 0.49000000953674316\n",
      "outputs 0.5943289399147034 0.02795124053955078\n",
      "targets 0.5 0.5658032894134521\n",
      "outputs 0.5770193338394165 0.024537667632102966\n",
      "targets 0.5 0.5658032894134521\n",
      "outputs 0.5917685627937317 0.024132737889885902\n",
      "targets 0.7450000047683716 0.49000000953674316\n",
      "outputs 0.5787731409072876 0.023676645010709763\n",
      "targets 0.7450000047683716 0.49000000953674316\n",
      "outputs 0.5850449204444885 nan0.7138\n",
      "targets 0.9900000095367432 nan\n",
      "Valid Step 16/16, valid_loss: 0.6972\n",
      "[Epoch Valid: 15] loss: 0.6972, auc: 0.6494, time: 10.00 s\n",
      "Train Step 88/131, train_loss: 0.6964\r"
     ]
    },
    {
     "data": {
      "application/vnd.jupyter.widget-view+json": {
       "model_id": "02b5355b0c0c4761938e863ccc8c56cb",
       "version_major": 2,
       "version_minor": 0
      },
      "text/plain": [
       "HBox(children=(FloatProgress(value=0.0, max=16.0), HTML(value='')))"
      ]
     },
     "metadata": {},
     "output_type": "display_data"
    },
    {
     "name": "stdout",
     "output_type": "stream",
     "text": [
      "outputs 0.5497841238975525 0.0068010990507900715\n",
      "targets 0.5 0.5658032894134521\n",
      "outputs 0.5876662731170654 0.007848374545574188\n",
      "targets 0.5 0.5658032894134521\n",
      "outputs 0.5675686597824097 0.018685603514313698\n",
      "targets 0.7450000047683716 0.49000000953674316\n",
      "outputs 0.542828381061554 0.006310692988336086\n",
      "targets 0.5 0.5658032894134521\n",
      "outputs 0.5748381614685059 0.021290944889187813\n",
      "targets 0.7450000047683716 0.49000000953674316\n",
      "outputs 0.5402052402496338 0.005102922674268484\n",
      "targets 0.2549999952316284 0.49000000953674316\n",
      "outputs 0.5637605786323547 0.02073870785534382\n",
      "targets 0.5 0.5658032894134521\n",
      "outputs 0.5805258750915527 0.017276592552661896\n",
      "targets 0.7450000047683716 0.49000000953674316\n",
      "outputs 0.5743498206138611 0.025416502729058266\n",
      "targets 0.5 0.5658032894134521\n",
      "outputs 0.559787392616272 0.010582802817225456\n",
      "targets 0.2549999952316284 0.49000000953674316\n",
      "outputs 0.5712536573410034 0.028510654345154762\n",
      "targets 0.2549999952316284 0.49000000953674316\n",
      "outputs 0.571150004863739 0.027863120660185814\n",
      "targets 0.5 0.5658032894134521\n",
      "outputs 0.5532078742980957 0.024941563606262207\n",
      "targets 0.5 0.5658032894134521\n",
      "outputs 0.5683411359786987 0.02438509091734886\n",
      "targets 0.7450000047683716 0.49000000953674316\n",
      "outputs 0.5554759502410889 0.023764077574014664\n",
      "targets 0.7450000047683716 0.49000000953674316\n",
      "outputs 0.561783492565155 nan 0.7113\n",
      "targets 0.9900000095367432 nan\n",
      "Valid Step 16/16, valid_loss: 0.6954\n",
      "[Epoch Valid: 15] loss: 0.6954, auc: 0.6461, time: 10.00 s\n",
      "Train Step 92/131, train_loss: 0.6970\r"
     ]
    },
    {
     "data": {
      "application/vnd.jupyter.widget-view+json": {
       "model_id": "f479c9a14c0a4d769e5cae7e42611564",
       "version_major": 2,
       "version_minor": 0
      },
      "text/plain": [
       "HBox(children=(FloatProgress(value=0.0, max=16.0), HTML(value='')))"
      ]
     },
     "metadata": {},
     "output_type": "display_data"
    },
    {
     "name": "stdout",
     "output_type": "stream",
     "text": [
      "outputs 0.5133599042892456 0.0065474179573357105\n",
      "targets 0.5 0.5658032894134521\n",
      "outputs 0.5501857995986938 0.007629488594830036\n",
      "targets 0.5 0.5658032894134521\n",
      "outputs 0.5305322408676147 0.018073005601763725\n",
      "targets 0.7450000047683716 0.49000000953674316\n",
      "outputs 0.5068274736404419 0.006188954692333937\n",
      "targets 0.5 0.5658032894134521\n",
      "outputs 0.537596583366394 0.020921727642416954\n",
      "targets 0.7450000047683716 0.49000000953674316\n",
      "outputs 0.5044689178466797 0.004382751416414976\n",
      "targets 0.2549999952316284 0.49000000953674316\n",
      "outputs 0.5271825194358826 0.01995096169412136\n",
      "targets 0.5 0.5658032894134521\n",
      "outputs 0.54327791929245 0.01676841638982296\n",
      "targets 0.7450000047683716 0.49000000953674316\n",
      "outputs 0.5373114347457886 0.024592924863100052\n",
      "targets 0.5 0.5658032894134521\n",
      "outputs 0.5231603384017944 0.010481424629688263\n",
      "targets 0.2549999952316284 0.49000000953674316\n",
      "outputs 0.5342947244644165 0.027590356767177582\n",
      "targets 0.2549999952316284 0.49000000953674316\n",
      "outputs 0.5343881845474243 0.02670953795313835\n",
      "targets 0.5 0.5658032894134521\n",
      "outputs 0.5165749192237854 0.02439684234559536\n",
      "targets 0.5 0.5658032894134521\n",
      "outputs 0.5314085483551025 0.023688212037086487\n",
      "targets 0.7450000047683716 0.49000000953674316\n",
      "outputs 0.5192439556121826 0.02291334606707096\n",
      "targets 0.7450000047683716 0.49000000953674316\n",
      "outputs 0.5254197120666504 nan0.7076\n",
      "targets 0.9900000095367432 nan\n",
      "Valid Step 16/16, valid_loss: 0.6928\n",
      "[Epoch Valid: 15] loss: 0.6928, auc: 0.6526, time: 10.00 s\n",
      "Train Step 96/131, train_loss: 0.6963\r"
     ]
    },
    {
     "data": {
      "application/vnd.jupyter.widget-view+json": {
       "model_id": "73c491d76d3441868929c76f1a5c91f9",
       "version_major": 2,
       "version_minor": 0
      },
      "text/plain": [
       "HBox(children=(FloatProgress(value=0.0, max=16.0), HTML(value='')))"
      ]
     },
     "metadata": {},
     "output_type": "display_data"
    },
    {
     "name": "stdout",
     "output_type": "stream",
     "text": [
      "outputs 0.4854939579963684 0.006505825091153383\n",
      "targets 0.5 0.5658032894134521\n",
      "outputs 0.5228674411773682 0.007866409607231617\n",
      "targets 0.5 0.5658032894134521\n",
      "outputs 0.5029089450836182 0.018445288762450218\n",
      "targets 0.7450000047683716 0.49000000953674316\n",
      "outputs 0.47911685705184937 0.006308297161012888\n",
      "targets 0.5 0.5658032894134521\n",
      "outputs 0.5100384950637817 0.021429188549518585\n",
      "targets 0.7450000047683716 0.49000000953674316\n",
      "outputs 0.47691500186920166 0.004045660141855478\n",
      "targets 0.2549999952316284 0.49000000953674316\n",
      "outputs 0.4997589886188507 0.020048251375555992\n",
      "targets 0.5 0.5658032894134521\n",
      "outputs 0.5159386396408081 0.016872651875019073\n",
      "targets 0.7450000047683716 0.49000000953674316\n",
      "outputs 0.5100280046463013 0.02488255314528942\n",
      "targets 0.5 0.5658032894134521\n",
      "outputs 0.49525487422943115 0.010961547493934631\n",
      "targets 0.2549999952316284 0.49000000953674316\n",
      "outputs 0.506924569606781 0.027954785153269768\n",
      "targets 0.2549999952316284 0.49000000953674316\n",
      "outputs 0.5071988105773926 0.026735709980130196\n",
      "targets 0.5 0.5658032894134521\n",
      "outputs 0.4886954724788666 0.024869566783308983\n",
      "targets 0.5 0.5658032894134521\n",
      "outputs 0.503856360912323 0.023918945342302322\n",
      "targets 0.7450000047683716 0.49000000953674316\n",
      "outputs 0.49182817339897156 0.02304593101143837\n",
      "targets 0.7450000047683716 0.49000000953674316\n",
      "outputs 0.4981720745563507 nan0.7050\n",
      "targets 0.9900000095367432 nan\n",
      "Valid Step 16/16, valid_loss: 0.6910\n",
      "[Epoch Valid: 15] loss: 0.6910, auc: 0.6472, time: 10.00 s\n",
      "Train Step 100/131, train_loss: 0.6959\r"
     ]
    },
    {
     "data": {
      "application/vnd.jupyter.widget-view+json": {
       "model_id": "2011974e03a34793894cb4b6d47a3b77",
       "version_major": 2,
       "version_minor": 0
      },
      "text/plain": [
       "HBox(children=(FloatProgress(value=0.0, max=16.0), HTML(value='')))"
      ]
     },
     "metadata": {},
     "output_type": "display_data"
    },
    {
     "name": "stdout",
     "output_type": "stream",
     "text": [
      "outputs 0.45728373527526855 0.006573403254151344\n",
      "targets 0.5 0.5658032894134521\n",
      "outputs 0.4962681531906128 0.008374926634132862\n",
      "targets 0.5 0.5658032894134521\n",
      "outputs 0.4754699766635895 0.01945335790514946\n",
      "targets 0.7450000047683716 0.49000000953674316\n",
      "outputs 0.4511159658432007 0.0066221486777067184\n",
      "targets 0.5 0.5658032894134521\n",
      "outputs 0.48291826248168945 0.022509096190333366\n",
      "targets 0.7450000047683716 0.49000000953674316\n",
      "outputs 0.44898682832717896 0.003792133182287216\n",
      "targets 0.2549999952316284 0.49000000953674316\n",
      "outputs 0.47243747115135193 0.02077794075012207\n",
      "targets 0.5 0.5658032894134521\n",
      "outputs 0.4891732931137085 0.01739642396569252\n",
      "targets 0.7450000047683716 0.49000000953674316\n",
      "outputs 0.48324093222618103 0.025851605460047722\n",
      "targets 0.5 0.5658032894134521\n",
      "outputs 0.4673461318016052 0.011774812825024128\n",
      "targets 0.2549999952316284 0.49000000953674316\n",
      "outputs 0.4799245297908783 0.029082907363772392\n",
      "targets 0.2549999952316284 0.49000000953674316\n",
      "outputs 0.48046237230300903 0.027364106848835945\n",
      "targets 0.5 0.5658032894134521\n",
      "outputs 0.46064865589141846 0.026000523939728737\n",
      "targets 0.5 0.5658032894134521\n",
      "outputs 0.47659724950790405 0.024723947048187256\n",
      "targets 0.7450000047683716 0.49000000953674316\n",
      "outputs 0.4643184542655945 0.023758232593536377\n",
      "targets 0.7450000047683716 0.49000000953674316\n",
      "outputs 0.4709676206111908 nan0.7026\n",
      "targets 0.9900000095367432 nan\n",
      "Valid Step 16/16, valid_loss: 0.6893\n",
      "[Epoch Valid: 15] loss: 0.6893, auc: 0.6483, time: 10.00 s\n",
      "Train Step 104/131, train_loss: 0.6973\r"
     ]
    },
    {
     "data": {
      "application/vnd.jupyter.widget-view+json": {
       "model_id": "c8fa9db7944649ff85c7c3fa3ad5cb11",
       "version_major": 2,
       "version_minor": 0
      },
      "text/plain": [
       "HBox(children=(FloatProgress(value=0.0, max=16.0), HTML(value='')))"
      ]
     },
     "metadata": {},
     "output_type": "display_data"
    },
    {
     "name": "stdout",
     "output_type": "stream",
     "text": [
      "outputs 0.45878279209136963 0.006873382721096277\n",
      "targets 0.5 0.5658032894134521\n",
      "outputs 0.5014389753341675 0.00947458203881979\n",
      "targets 0.5 0.5658032894134521\n",
      "outputs 0.47864794731140137 0.021602019667625427\n",
      "targets 0.7450000047683716 0.49000000953674316\n",
      "outputs 0.45268192887306213 0.007333273999392986\n",
      "targets 0.5 0.5658032894134521\n",
      "outputs 0.48692405223846436 0.024671748280525208\n",
      "targets 0.7450000047683716 0.49000000953674316\n",
      "outputs 0.4505199193954468 0.0038940683007240295\n",
      "targets 0.2549999952316284 0.49000000953674316\n",
      "outputs 0.4754675328731537 0.022794554010033607\n",
      "targets 0.5 0.5658032894134521\n",
      "outputs 0.493896484375 0.018781915307044983\n",
      "targets 0.7450000047683716 0.49000000953674316\n",
      "outputs 0.48758792877197266 0.028074661269783974\n",
      "targets 0.5 0.5658032894134521\n",
      "outputs 0.46983209252357483 0.012836480513215065\n",
      "targets 0.2549999952316284 0.49000000953674316\n",
      "outputs 0.48384609818458557 0.03169873729348183\n",
      "targets 0.2549999952316284 0.49000000953674316\n",
      "outputs 0.48468074202537537 0.02946045808494091\n",
      "targets 0.5 0.5658032894134521\n",
      "outputs 0.4627225399017334 0.028268631547689438\n",
      "targets 0.5 0.5658032894134521\n",
      "outputs 0.48018383979797363 0.026752037927508354\n",
      "targets 0.7450000047683716 0.49000000953674316\n",
      "outputs 0.4667172133922577 0.02574153058230877\n",
      "targets 0.7450000047683716 0.49000000953674316\n",
      "outputs 0.47357606887817383 nan.7026\n",
      "targets 0.9900000095367432 nan\n",
      "Valid Step 16/16, valid_loss: 0.6893\n",
      "[Epoch Valid: 15] loss: 0.6893, auc: 0.6450, time: 10.00 s\n",
      "Train Step 108/131, train_loss: 0.6965\r"
     ]
    },
    {
     "data": {
      "application/vnd.jupyter.widget-view+json": {
       "model_id": "f5cf9480913543648fd4898df58908b3",
       "version_major": 2,
       "version_minor": 0
      },
      "text/plain": [
       "HBox(children=(FloatProgress(value=0.0, max=16.0), HTML(value='')))"
      ]
     },
     "metadata": {},
     "output_type": "display_data"
    },
    {
     "name": "stdout",
     "output_type": "stream",
     "text": [
      "outputs 0.4725092947483063 0.007249694317579269\n",
      "targets 0.5 0.5658032894134521\n",
      "outputs 0.5189610719680786 0.010539216920733452\n",
      "targets 0.5 0.5658032894134521\n",
      "outputs 0.4941503405570984 0.023734930902719498\n",
      "targets 0.7450000047683716 0.49000000953674316\n",
      "outputs 0.4660860598087311 0.007940288633108139\n",
      "targets 0.5 0.5658032894134521\n",
      "outputs 0.5031558871269226 0.026921452954411507\n",
      "targets 0.7450000047683716 0.49000000953674316\n",
      "outputs 0.4637555778026581 0.004422298166900873\n",
      "targets 0.2549999952316284 0.49000000953674316\n",
      "outputs 0.4905841052532196 0.02487131766974926\n",
      "targets 0.5 0.5658032894134521\n",
      "outputs 0.5108821392059326 0.020205514505505562\n",
      "targets 0.7450000047683716 0.49000000953674316\n",
      "outputs 0.5041364431381226 0.030411696061491966\n",
      "targets 0.5 0.5658032894134521\n",
      "outputs 0.48426249623298645 0.013919159770011902\n",
      "targets 0.2549999952316284 0.49000000953674316\n",
      "outputs 0.500001072883606 0.03443076089024544\n",
      "targets 0.2549999952316284 0.49000000953674316\n",
      "outputs 0.500825047492981 0.032104816287755966\n",
      "targets 0.5 0.5658032894134521\n",
      "outputs 0.4769899249076843 0.030634891241788864\n",
      "targets 0.5 0.5658032894134521\n",
      "outputs 0.49594998359680176 0.028871959075331688\n",
      "targets 0.7450000047683716 0.49000000953674316\n",
      "outputs 0.4812050461769104 0.028003349900245667\n",
      "targets 0.7450000047683716 0.49000000953674316\n",
      "outputs 0.4884043335914612 nan0.7037\n",
      "targets 0.9900000095367432 nan\n",
      "Valid Step 16/16, valid_loss: 0.6900\n",
      "[Epoch Valid: 15] loss: 0.6900, auc: 0.6396, time: 10.00 s\n",
      "Train Step 112/131, train_loss: 0.6959\r"
     ]
    },
    {
     "data": {
      "application/vnd.jupyter.widget-view+json": {
       "model_id": "7458dbbace1247bdb0b0f3d2e404cab9",
       "version_major": 2,
       "version_minor": 0
      },
      "text/plain": [
       "HBox(children=(FloatProgress(value=0.0, max=16.0), HTML(value='')))"
      ]
     },
     "metadata": {},
     "output_type": "display_data"
    },
    {
     "name": "stdout",
     "output_type": "stream",
     "text": [
      "outputs 0.4753473401069641 0.007691860664635897\n",
      "targets 0.5 0.5658032894134521\n",
      "outputs 0.5266881585121155 0.011999091133475304\n",
      "targets 0.5 0.5658032894134521\n",
      "outputs 0.49923205375671387 0.026595277711749077\n",
      "targets 0.7450000047683716 0.49000000953674316\n",
      "outputs 0.46868282556533813 0.008711055852472782\n",
      "targets 0.5 0.5658032894134521\n",
      "outputs 0.5093185901641846 0.029832161962985992\n",
      "targets 0.7450000047683716 0.49000000953674316\n",
      "outputs 0.4660864472389221 0.005073100328445435\n",
      "targets 0.2549999952316284 0.49000000953674316\n",
      "outputs 0.4952118992805481 0.027721621096134186\n",
      "targets 0.5 0.5658032894134521\n",
      "outputs 0.5179626941680908 0.02207345701754093\n",
      "targets 0.7450000047683716 0.49000000953674316\n",
      "outputs 0.5107545852661133 0.033408112823963165\n",
      "targets 0.5 0.5658032894134521\n",
      "outputs 0.4880632162094116 0.015425917692482471\n",
      "targets 0.2549999952316284 0.49000000953674316\n",
      "outputs 0.506040096282959 0.03796037286520004\n",
      "targets 0.2549999952316284 0.49000000953674316\n",
      "outputs 0.5069737434387207 0.03537265211343765\n",
      "targets 0.5 0.5658032894134521\n",
      "outputs 0.4805571436882019 0.03371383249759674\n",
      "targets 0.5 0.5658032894134521\n",
      "outputs 0.5015034675598145 0.03157786279916763\n",
      "targets 0.7450000047683716 0.49000000953674316\n",
      "outputs 0.4850766360759735 0.03087785840034485\n",
      "targets 0.7450000047683716 0.49000000953674316\n",
      "outputs 0.49273091554641724 nan.7039\n",
      "targets 0.9900000095367432 nan\n",
      "Valid Step 16/16, valid_loss: 0.6900\n",
      "[Epoch Valid: 15] loss: 0.6900, auc: 0.6385, time: 10.00 s\n",
      "Train Step 116/131, train_loss: 0.6957\r"
     ]
    },
    {
     "data": {
      "application/vnd.jupyter.widget-view+json": {
       "model_id": "15b7cb97ea7b4130a7e28c05f0533230",
       "version_major": 2,
       "version_minor": 0
      },
      "text/plain": [
       "HBox(children=(FloatProgress(value=0.0, max=16.0), HTML(value='')))"
      ]
     },
     "metadata": {},
     "output_type": "display_data"
    },
    {
     "name": "stdout",
     "output_type": "stream",
     "text": [
      "outputs 0.4785204827785492 0.008053592406213284\n",
      "targets 0.5 0.5658032894134521\n",
      "outputs 0.5333787202835083 0.012980331666767597\n",
      "targets 0.5 0.5658032894134521\n",
      "outputs 0.5042094588279724 0.02860661968588829\n",
      "targets 0.7450000047683716 0.49000000953674316\n",
      "outputs 0.47140204906463623 0.009111985564231873\n",
      "targets 0.5 0.5658032894134521\n",
      "outputs 0.5147702693939209 0.03201338276267052\n",
      "targets 0.7450000047683716 0.49000000953674316\n",
      "outputs 0.46848541498184204 0.005749035626649857\n",
      "targets 0.2549999952316284 0.49000000953674316\n",
      "outputs 0.4996872544288635 0.02952210232615471\n",
      "targets 0.5 0.5658032894134521\n",
      "outputs 0.5241245031356812 0.023227976635098457\n",
      "targets 0.7450000047683716 0.49000000953674316\n",
      "outputs 0.516596794128418 0.03561990335583687\n",
      "targets 0.5 0.5658032894134521\n",
      "outputs 0.49145233631134033 0.016740433871746063\n",
      "targets 0.2549999952316284 0.49000000953674316\n",
      "outputs 0.5115401744842529 0.04049380496144295\n",
      "targets 0.2549999952316284 0.49000000953674316\n",
      "outputs 0.5123723745346069 0.03789081051945686\n",
      "targets 0.5 0.5658032894134521\n",
      "outputs 0.48406773805618286 0.03603840619325638\n",
      "targets 0.5 0.5658032894134521\n",
      "outputs 0.506560742855072 0.03341291472315788\n",
      "targets 0.7450000047683716 0.49000000953674316\n",
      "outputs 0.4890877306461334 0.0329340361058712\n",
      "targets 0.7450000047683716 0.49000000953674316\n",
      "outputs 0.4973529279232025 nan0.7041\n",
      "targets 0.9900000095367432 nan\n",
      "Valid Step 16/16, valid_loss: 0.6901\n",
      "[Epoch Valid: 15] loss: 0.6901, auc: 0.6364, time: 10.00 s\n",
      "Train Step 120/131, train_loss: 0.6951\r"
     ]
    },
    {
     "data": {
      "application/vnd.jupyter.widget-view+json": {
       "model_id": "727dcacf81e74aee82ba65444fc6510f",
       "version_major": 2,
       "version_minor": 0
      },
      "text/plain": [
       "HBox(children=(FloatProgress(value=0.0, max=16.0), HTML(value='')))"
      ]
     },
     "metadata": {},
     "output_type": "display_data"
    },
    {
     "name": "stdout",
     "output_type": "stream",
     "text": [
      "outputs 0.4808693528175354 0.008431674912571907\n",
      "targets 0.5 0.5658032894134521\n",
      "outputs 0.5387047529220581 0.01380869373679161\n",
      "targets 0.5 0.5658032894134521\n",
      "outputs 0.5081352591514587 0.030298136174678802\n",
      "targets 0.7450000047683716 0.49000000953674316\n",
      "outputs 0.47320786118507385 0.009425901807844639\n",
      "targets 0.5 0.5658032894134521\n",
      "outputs 0.5189990997314453 0.033854905515909195\n",
      "targets 0.7450000047683716 0.49000000953674316\n",
      "outputs 0.47000551223754883 0.0064422073774039745\n",
      "targets 0.2549999952316284 0.49000000953674316\n",
      "outputs 0.5031003355979919 0.030925804749131203\n",
      "targets 0.5 0.5658032894134521\n",
      "outputs 0.5289396643638611 0.024149365723133087\n",
      "targets 0.7450000047683716 0.49000000953674316\n",
      "outputs 0.5211541056632996 0.037512149661779404\n",
      "targets 0.5 0.5658032894134521\n",
      "outputs 0.49381187558174133 0.01788478158414364\n",
      "targets 0.2549999952316284 0.49000000953674316\n",
      "outputs 0.515830397605896 0.04264470562338829\n",
      "targets 0.2549999952316284 0.49000000953674316\n",
      "outputs 0.5164666771888733 0.040193185210227966\n",
      "targets 0.5 0.5658032894134521\n",
      "outputs 0.48667585849761963 0.03801412880420685\n",
      "targets 0.5 0.5658032894134521\n",
      "outputs 0.5104173421859741 0.03495830297470093\n",
      "targets 0.7450000047683716 0.49000000953674316\n",
      "outputs 0.4921409487724304 0.03471003472805023\n",
      "targets 0.7450000047683716 0.49000000953674316\n",
      "outputs 0.5009661316871643 nan0.7043\n",
      "targets 0.9900000095367432 nan\n",
      "Valid Step 16/16, valid_loss: 0.6902\n",
      "[Epoch Valid: 15] loss: 0.6902, auc: 0.6353, time: 9.00 s\n",
      "Train Step 124/131, train_loss: 0.6956\r"
     ]
    },
    {
     "data": {
      "application/vnd.jupyter.widget-view+json": {
       "model_id": "5e89689c22364f46b2a52f7e688c465a",
       "version_major": 2,
       "version_minor": 0
      },
      "text/plain": [
       "HBox(children=(FloatProgress(value=0.0, max=16.0), HTML(value='')))"
      ]
     },
     "metadata": {},
     "output_type": "display_data"
    },
    {
     "name": "stdout",
     "output_type": "stream",
     "text": [
      "outputs 0.4850393533706665 0.008657391183078289\n",
      "targets 0.5 0.5658032894134521\n",
      "outputs 0.5431865453720093 0.013653903268277645\n",
      "targets 0.5 0.5658032894134521\n",
      "outputs 0.5127803683280945 0.03029734268784523\n",
      "targets 0.7450000047683716 0.49000000953674316\n",
      "outputs 0.4769216775894165 0.009308350272476673\n",
      "targets 0.5 0.5658032894134521\n",
      "outputs 0.5231446623802185 0.0341327041387558\n",
      "targets 0.7450000047683716 0.49000000953674316\n",
      "outputs 0.4735635221004486 0.00658048689365387\n",
      "targets 0.2549999952316284 0.49000000953674316\n",
      "outputs 0.5074853897094727 0.030484231188893318\n",
      "targets 0.5 0.5658032894134521\n",
      "outputs 0.533215343952179 0.023910311982035637\n",
      "targets 0.7450000047683716 0.49000000953674316\n",
      "outputs 0.52537602186203 0.037792935967445374\n",
      "targets 0.5 0.5658032894134521\n",
      "outputs 0.49736958742141724 0.018384207040071487\n",
      "targets 0.2549999952316284 0.49000000953674316\n",
      "outputs 0.5202158689498901 0.042772624641656876\n",
      "targets 0.2549999952316284 0.49000000953674316\n",
      "outputs 0.5206030607223511 0.040530841797590256\n",
      "targets 0.5 0.5658032894134521\n",
      "outputs 0.49051332473754883 0.03840034827589989\n",
      "targets 0.5 0.5658032894134521\n",
      "outputs 0.5145705938339233 0.03495628014206886\n",
      "targets 0.7450000047683716 0.49000000953674316\n",
      "outputs 0.4966810941696167 0.03474497050046921\n",
      "targets 0.7450000047683716 0.49000000953674316\n",
      "outputs 0.5060179829597473 nan0.7046\n",
      "targets 0.9900000095367432 nan\n",
      "Valid Step 16/16, valid_loss: 0.6904\n",
      "[Epoch Valid: 15] loss: 0.6904, auc: 0.6364, time: 10.00 s\n",
      "Train Step 128/131, train_loss: 0.6957\r"
     ]
    },
    {
     "data": {
      "application/vnd.jupyter.widget-view+json": {
       "model_id": "43169d7a589548e7b120768702970f13",
       "version_major": 2,
       "version_minor": 0
      },
      "text/plain": [
       "HBox(children=(FloatProgress(value=0.0, max=16.0), HTML(value='')))"
      ]
     },
     "metadata": {},
     "output_type": "display_data"
    },
    {
     "name": "stdout",
     "output_type": "stream",
     "text": [
      "outputs 0.4805053472518921 0.008987655863165855\n",
      "targets 0.5 0.5658032894134521\n",
      "outputs 0.5390883684158325 0.013646009378135204\n",
      "targets 0.5 0.5658032894134521\n",
      "outputs 0.5088558793067932 0.03052474744617939\n",
      "targets 0.7450000047683716 0.49000000953674316\n",
      "outputs 0.4721969962120056 0.00928323995321989\n",
      "targets 0.5 0.5658032894134521\n",
      "outputs 0.5187345743179321 0.03439381718635559\n",
      "targets 0.7450000047683716 0.49000000953674316\n",
      "outputs 0.46876317262649536 0.006461399141699076\n",
      "targets 0.2549999952316284 0.49000000953674316\n",
      "outputs 0.5033947229385376 0.029902903363108635\n",
      "targets 0.5 0.5658032894134521\n",
      "outputs 0.5289068818092346 0.023551523685455322\n",
      "targets 0.7450000047683716 0.49000000953674316\n",
      "outputs 0.5211182832717896 0.0381147563457489\n",
      "targets 0.5 0.5658032894134521\n",
      "outputs 0.4922117590904236 0.01896764151751995\n",
      "targets 0.2549999952316284 0.49000000953674316\n",
      "outputs 0.5160733461380005 0.042919740080833435\n",
      "targets 0.2549999952316284 0.49000000953674316\n",
      "outputs 0.5164138078689575 0.04063635692000389\n",
      "targets 0.5 0.5658032894134521\n",
      "outputs 0.4857252836227417 0.03882499411702156\n",
      "targets 0.5 0.5658032894134521\n",
      "outputs 0.5100857615470886 0.0348849855363369\n",
      "targets 0.7450000047683716 0.49000000953674316\n",
      "outputs 0.492836058139801 0.034597836434841156\n",
      "targets 0.7450000047683716 0.49000000953674316\n",
      "outputs 0.5025476217269897 nan0.7042\n",
      "targets 0.9900000095367432 nan\n",
      "Valid Step 16/16, valid_loss: 0.6901\n",
      "[Epoch Valid: 15] loss: 0.6901, auc: 0.6364, time: 10.00 s\n",
      "Train Step 131/131, train_loss: 0.6956\n"
     ]
    },
    {
     "data": {
      "application/vnd.jupyter.widget-view+json": {
       "model_id": "010859e23e974a0ab477c196f07798ca",
       "version_major": 2,
       "version_minor": 0
      },
      "text/plain": [
       "HBox(children=(FloatProgress(value=0.0, max=16.0), HTML(value='')))"
      ]
     },
     "metadata": {},
     "output_type": "display_data"
    },
    {
     "name": "stdout",
     "output_type": "stream",
     "text": [
      "outputs 0.4564227759838104 0.009334946051239967\n",
      "targets 0.5 0.5658032894134521\n",
      "outputs 0.5174118280410767 0.014928317628800869\n",
      "targets 0.5 0.5658032894134521\n",
      "outputs 0.48609763383865356 0.0326903834939003\n",
      "targets 0.7450000047683716 0.49000000953674316\n",
      "outputs 0.44823962450027466 0.00954440888017416\n",
      "targets 0.5 0.5658032894134521\n",
      "outputs 0.4963320195674896 0.035537391901016235\n",
      "targets 0.7450000047683716 0.49000000953674316\n",
      "outputs 0.4444710612297058 0.007415600121021271\n",
      "targets 0.2549999952316284 0.49000000953674316\n",
      "outputs 0.4801022410392761 0.030927710235118866\n",
      "targets 0.5 0.5658032894134521\n",
      "outputs 0.5067477226257324 0.02385256625711918\n",
      "targets 0.7450000047683716 0.49000000953674316\n",
      "outputs 0.4992397427558899 0.03960690274834633\n",
      "targets 0.5 0.5658032894134521\n",
      "outputs 0.46769464015960693 0.019831806421279907\n",
      "targets 0.2549999952316284 0.49000000953674316\n",
      "outputs 0.4938209652900696 0.044513899832963943\n",
      "targets 0.2549999952316284 0.49000000953674316\n",
      "outputs 0.49420368671417236 0.04210497811436653\n",
      "targets 0.5 0.5658032894134521\n",
      "outputs 0.4624645709991455 0.03981482610106468\n",
      "targets 0.5 0.5658032894134521\n",
      "outputs 0.4871494174003601 0.03571971878409386\n",
      "targets 0.7450000047683716 0.49000000953674316\n",
      "outputs 0.4696514308452606 0.03561230003833771\n",
      "targets 0.7450000047683716 0.49000000953674316\n",
      "outputs 0.4791257977485657 nan0.7021\n",
      "targets 0.9900000095367432 nan\n",
      "Valid Step 16/16, valid_loss: 0.6887\n",
      "[Epoch Train: 15] loss: 0.6956, time: 504.00 s            \n",
      "[Epoch Valid: 15] loss: 0.6887, auc: 0.6288, time: 10.00 s\n",
      "EPOCH: 16\n"
     ]
    },
    {
     "data": {
      "application/vnd.jupyter.widget-view+json": {
       "model_id": "37730ad9e82d42f4b7d8298a4bda841b",
       "version_major": 2,
       "version_minor": 0
      },
      "text/plain": [
       "HBox(children=(FloatProgress(value=0.0, max=131.0), HTML(value='')))"
      ]
     },
     "metadata": {},
     "output_type": "display_data"
    },
    {
     "name": "stdout",
     "output_type": "stream",
     "text": [
      "Train Step 131/131, train_loss: 0.6832\n"
     ]
    },
    {
     "data": {
      "application/vnd.jupyter.widget-view+json": {
       "model_id": "f6f6e881ec8e4e87aa5da10ded056eff",
       "version_major": 2,
       "version_minor": 0
      },
      "text/plain": [
       "HBox(children=(FloatProgress(value=0.0, max=16.0), HTML(value='')))"
      ]
     },
     "metadata": {},
     "output_type": "display_data"
    },
    {
     "name": "stdout",
     "output_type": "stream",
     "text": [
      "outputs 0.4805949330329895 0.046847209334373474\n",
      "targets 0.5 0.5658032894134521\n",
      "outputs 0.5823134183883667 0.019342316314578056\n",
      "targets 0.5 0.5658032894134521\n",
      "outputs 0.5309754014015198 0.05496924743056297\n",
      "targets 0.7450000047683716 0.49000000953674316\n",
      "outputs 0.3898259103298187 0.07429951429367065\n",
      "targets 0.5 0.5658032894134521\n",
      "outputs 0.5346753597259521 0.05830435827374458\n",
      "targets 0.7450000047683716 0.49000000953674316\n",
      "outputs 0.44073253870010376 0.013231640681624413\n",
      "targets 0.2549999952316284 0.49000000953674316\n",
      "outputs 0.49465450644493103 0.060958586633205414\n",
      "targets 0.5 0.5658032894134521\n",
      "outputs 0.5447927713394165 0.05103854089975357\n",
      "targets 0.7450000047683716 0.49000000953674316\n",
      "outputs 0.5427831411361694 0.07239118218421936\n",
      "targets 0.5 0.5658032894134521\n",
      "outputs 0.44564247131347656 0.09605354815721512\n",
      "targets 0.2549999952316284 0.49000000953674316\n",
      "outputs 0.5361521244049072 0.08104860782623291\n",
      "targets 0.2549999952316284 0.49000000953674316\n",
      "outputs 0.4384339451789856 0.2046281397342682\n",
      "targets 0.5 0.5658032894134521\n",
      "outputs 0.47525718808174133 0.07453267276287079\n",
      "targets 0.5 0.5658032894134521\n",
      "outputs 0.5130140781402588 0.05585930496454239\n",
      "targets 0.7450000047683716 0.49000000953674316\n",
      "outputs 0.41272783279418945 0.17270976305007935\n",
      "targets 0.7450000047683716 0.49000000953674316\n",
      "outputs 0.5352612733840942 nan0.7017\n",
      "targets 0.9900000095367432 nan\n",
      "Valid Step 16/16, valid_loss: 0.6869\n",
      "[Epoch Train: 16] loss: 0.6832, time: 183.00 s            \n",
      "[Epoch Valid: 16] loss: 0.6869, auc: 0.5898, time: 10.00 s\n",
      "EPOCH: 17\n"
     ]
    },
    {
     "data": {
      "application/vnd.jupyter.widget-view+json": {
       "model_id": "a42416aa9ffd47878e90aad0381543ba",
       "version_major": 2,
       "version_minor": 0
      },
      "text/plain": [
       "HBox(children=(FloatProgress(value=0.0, max=131.0), HTML(value='')))"
      ]
     },
     "metadata": {},
     "output_type": "display_data"
    },
    {
     "name": "stdout",
     "output_type": "stream",
     "text": [
      "Train Step 131/131, train_loss: 0.6828\n"
     ]
    },
    {
     "data": {
      "application/vnd.jupyter.widget-view+json": {
       "model_id": "67747f3c74b74bb6a5749ea6fb4862bb",
       "version_major": 2,
       "version_minor": 0
      },
      "text/plain": [
       "HBox(children=(FloatProgress(value=0.0, max=16.0), HTML(value='')))"
      ]
     },
     "metadata": {},
     "output_type": "display_data"
    },
    {
     "name": "stdout",
     "output_type": "stream",
     "text": [
      "outputs 0.5012902021408081 0.04955814406275749\n",
      "targets 0.5 0.5658032894134521\n",
      "outputs 0.605593204498291 0.027972010895609856\n",
      "targets 0.5 0.5658032894134521\n",
      "outputs 0.5556212663650513 0.05783810093998909\n",
      "targets 0.7450000047683716 0.49000000953674316\n",
      "outputs 0.32710760831832886 0.1706041395664215\n",
      "targets 0.5 0.5658032894134521\n",
      "outputs 0.5496805310249329 0.06345591694116592\n",
      "targets 0.7450000047683716 0.49000000953674316\n",
      "outputs 0.3845723271369934 0.09923962503671646\n",
      "targets 0.2549999952316284 0.49000000953674316\n",
      "outputs 0.4766915440559387 0.09757628291845322\n",
      "targets 0.5 0.5658032894134521\n",
      "outputs 0.5489917397499084 0.06943509727716446\n",
      "targets 0.7450000047683716 0.49000000953674316\n",
      "outputs 0.5669354200363159 0.0762314572930336\n",
      "targets 0.5 0.5658032894134521\n",
      "outputs 0.40204551815986633 0.16763527691364288\n",
      "targets 0.2549999952316284 0.49000000953674316\n",
      "outputs 0.5572654604911804 0.08954035490751266\n",
      "targets 0.2549999952316284 0.49000000953674316\n",
      "outputs 0.39803391695022583 0.25866279006004333\n",
      "targets 0.5 0.5658032894134521\n",
      "outputs 0.49466627836227417 0.07821395248174667\n",
      "targets 0.5 0.5658032894134521\n",
      "outputs 0.5159633755683899 0.0602787621319294\n",
      "targets 0.7450000047683716 0.49000000953674316\n",
      "outputs 0.3866284489631653 0.21431614458560944\n",
      "targets 0.7450000047683716 0.49000000953674316\n",
      "outputs 0.5605412721633911 nan0.7052\n",
      "targets 0.9900000095367432 nan\n",
      "Valid Step 16/16, valid_loss: 0.6897\n",
      "[Epoch Train: 17] loss: 0.6828, time: 182.00 s            \n",
      "[Epoch Valid: 17] loss: 0.6897, auc: 0.5768, time: 10.00 s\n",
      "EPOCH: 18\n"
     ]
    },
    {
     "data": {
      "application/vnd.jupyter.widget-view+json": {
       "model_id": "bc530b59cb364adc85d8f3d0c159cc24",
       "version_major": 2,
       "version_minor": 0
      },
      "text/plain": [
       "HBox(children=(FloatProgress(value=0.0, max=131.0), HTML(value='')))"
      ]
     },
     "metadata": {},
     "output_type": "display_data"
    }
   ],
   "source": [
    "modelfiles = None\n",
    "\n",
    "if not modelfiles:\n",
    "    modelfiles = [train_mri_type(df_train, df_valid, m) for m in cfg.mri_types]\n",
    "    print(modelfiles)"
   ]
  },
  {
   "cell_type": "markdown",
   "id": "375c1a78-031a-47d4-ad5c-d0d4c55aa6ff",
   "metadata": {},
   "source": [
    "## Predict Function"
   ]
  },
  {
   "cell_type": "code",
   "execution_count": null,
   "id": "fce99aae-a8d8-457c-82b6-c370be8479a2",
   "metadata": {},
   "outputs": [],
   "source": [
    "def predict(modelfile, df, mri_type, split):\n",
    "    print(\"Predict:\", modelfile, mri_type, df.shape)\n",
    "    df.loc[:,\"MRI_Type\"] = mri_type\n",
    "    data_retriever = Dataset(\n",
    "        df.index.values, \n",
    "        mri_type=df[\"MRI_Type\"].values,\n",
    "        split=split\n",
    "    )\n",
    "\n",
    "    data_loader = torch_data.DataLoader(\n",
    "        data_retriever,\n",
    "        batch_size=cfg.batch_size,\n",
    "        shuffle=False,\n",
    "        num_workers=8,\n",
    "    )\n",
    "   \n",
    "    model = create_model()\n",
    "    \n",
    "    checkpoint = torch.load(modelfile)\n",
    "    model.load_state_dict(checkpoint[\"model_state_dict\"])\n",
    "    model.eval()\n",
    "    \n",
    "    y_pred = []\n",
    "    ids = []\n",
    "\n",
    "    for e, batch in enumerate(data_loader,1):\n",
    "        print(f\"{e}/{len(data_loader)}\", end=\"\\r\")\n",
    "        with torch.no_grad():\n",
    "            tmp_pred = torch.sigmoid(model(batch[\"X\"].to(device)).cpu().numpy().squeeze())\n",
    "            print('tmp_pred', tmp_pred)\n",
    "            if tmp_pred.size == 1:\n",
    "                y_pred.append(tmp_pred)\n",
    "            else:\n",
    "                y_pred.extend(tmp_pred.tolist())\n",
    "            ids.extend(batch[\"id\"].numpy().tolist())\n",
    "            \n",
    "    preddf = pd.DataFrame({\"BraTS21ID\": ids, \"MGMT_value\": y_pred}) \n",
    "    preddf = preddf.set_index(\"BraTS21ID\")\n",
    "    return preddf"
   ]
  },
  {
   "cell_type": "markdown",
   "id": "16cb658c-ec2a-4854-9ddd-d1b21f1af23b",
   "metadata": {},
   "source": [
    "### Ensemble for Validation"
   ]
  },
  {
   "cell_type": "code",
   "execution_count": null,
   "id": "8771772d-7171-40bb-ae18-4b820519a5e8",
   "metadata": {},
   "outputs": [],
   "source": [
    "df_valid = df_valid.set_index(\"BraTS21ID\")"
   ]
  },
  {
   "cell_type": "code",
   "execution_count": null,
   "id": "e7fa9705-3b2b-49bf-bc72-f9ebc849c264",
   "metadata": {},
   "outputs": [],
   "source": [
    "def normalize_results(preds, train):\n",
    "    return (preds - (preds.mean() - train.mean()))"
   ]
  },
  {
   "cell_type": "code",
   "execution_count": null,
   "id": "a39e8f7c-e055-4a78-9a54-aa2e169cf459",
   "metadata": {},
   "outputs": [],
   "source": [
    "df_valid[\"MGMT_pred\"] = 0\n",
    "for m, mtype in zip(modelfiles,  mri_types):\n",
    "    pred = predict(m, df_valid, mtype, \"train\")\n",
    "    df_valid[\"MGMT_pred\"] += pred[\"MGMT_value\"]\n",
    "df_valid[\"MGMT_pred\"] /= len(modelfiles)\n",
    "auc = roc_auc_score(df_valid[\"MGMT_value\"], df_valid[\"MGMT_pred\"])\n",
    "print(f\"Validation ensemble AUC: {auc:.4f}\")\n",
    "sns.displot(df_valid[\"MGMT_pred\"])"
   ]
  }
 ],
 "metadata": {
  "kernelspec": {
   "display_name": "Python 3",
   "language": "python",
   "name": "python3"
  },
  "language_info": {
   "codemirror_mode": {
    "name": "ipython",
    "version": 3
   },
   "file_extension": ".py",
   "mimetype": "text/x-python",
   "name": "python",
   "nbconvert_exporter": "python",
   "pygments_lexer": "ipython3",
   "version": "3.8.5"
  }
 },
 "nbformat": 4,
 "nbformat_minor": 5
}
