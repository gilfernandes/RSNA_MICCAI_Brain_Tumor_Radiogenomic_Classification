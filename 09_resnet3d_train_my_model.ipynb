{
 "cells": [
  {
   "cell_type": "code",
   "execution_count": 1,
   "id": "68031610-6a2d-40a7-9a4d-2e2ac382d637",
   "metadata": {},
   "outputs": [],
   "source": [
    "import math, glob, random, os, time\n",
    "import pydicom\n",
    "import cv2\n",
    "from functools import partial\n",
    "from pathlib import Path\n",
    "\n",
    "import numpy as np\n",
    "import pandas as pd\n",
    "\n",
    "import torch\n",
    "import torch.nn as nn\n",
    "import torch.nn.functional as F\n",
    "from torch.utils import data as torch_data\n",
    "from sklearn import model_selection as sk_model_selection\n",
    "from tqdm.notebook import tqdm\n",
    "from sklearn.metrics import roc_auc_score\n",
    "import matplotlib.pyplot as plt\n",
    "\n",
    "from functools import partialmethod\n",
    "import seaborn as sns"
   ]
  },
  {
   "cell_type": "markdown",
   "id": "0755d7a8-e06f-45e2-9e11-6519119446bc",
   "metadata": {},
   "source": [
    "### Config"
   ]
  },
  {
   "cell_type": "code",
   "execution_count": 2,
   "id": "20cee47e-558e-4899-bb60-5f60a8ea8c6b",
   "metadata": {},
   "outputs": [],
   "source": [
    "class Config():\n",
    "    device = torch.device(\"cuda\" if torch.cuda.is_available() else \"cpu\")\n",
    "    size = 256\n",
    "    num_images = 64\n",
    "    base_path = Path('/home/RSNA_MICCAI_Brain_Tumor/data')\n",
    "    assert base_path.exists(), f'{base_path} does not exist'\n",
    "    models_path = Path('/home/RSNA_MICCAI_Brain_Tumor/models')\n",
    "    assert models_path.exists()\n",
    "    seed = 42\n",
    "    test_size = 0.1\n",
    "    clahe=False\n",
    "    mri_types = ['FLAIR','T1w','T1wCE','T2w']\n",
    "    batch_size = 8\n",
    "    num_workers = 7\n",
    "    epochs = 18\n",
    "    extra_check_epochs = [14,15]\n",
    "    check_frequency = 4\n",
    "    lr=1e-4\n",
    "    \n",
    "cfg = Config()"
   ]
  },
  {
   "cell_type": "code",
   "execution_count": 3,
   "id": "bb8380aa-8190-48c9-9ea4-069c01095d73",
   "metadata": {},
   "outputs": [
    {
     "data": {
      "text/plain": [
       "device(type='cuda')"
      ]
     },
     "execution_count": 3,
     "metadata": {},
     "output_type": "execute_result"
    }
   ],
   "source": [
    "cfg.device"
   ]
  },
  {
   "cell_type": "markdown",
   "id": "9faf3adc-106a-4493-8c18-f63e74456f99",
   "metadata": {},
   "source": [
    "### Functions for loading images"
   ]
  },
  {
   "cell_type": "code",
   "execution_count": 4,
   "id": "287512dd-a730-4438-83d1-77525293ce3f",
   "metadata": {},
   "outputs": [],
   "source": [
    "# manual transformations\n",
    "def brightness(X, gamma_factor = 0.35):\n",
    "    \"\"\"\n",
    "    Changing the brighness of a image using power-law gamma transformation.\n",
    "    Gain and gamma are chosen randomly for each image channel.\n",
    "    \n",
    "    Gain chosen between [0.8 - 1.2]\n",
    "    Gamma chosen between [0.8 - 1.2]\n",
    "    \n",
    "    new_im = gain * im^gamma\n",
    "    \"\"\"\n",
    "    \n",
    "    X_new = np.zeros(X.shape)\n",
    "    gain, gamma = (1.2 - gamma_factor) * np.random.random_sample(2,) + gamma_factor\n",
    "    for c in range(X.shape[-1]):\n",
    "        im = X[:,:,:,c]        \n",
    "        im_new = np.sign(im)*gain*(np.abs(im)**gamma)\n",
    "        X_new[:,:,:,c] = im_new \n",
    "    \n",
    "    return X_new\n",
    "\n",
    "def flip3D(X):\n",
    "    \"\"\"\n",
    "    Flip the 3D image respect one of the 3 axis chosen randomly\n",
    "    \"\"\"\n",
    "    choice = np.random.randint(4)\n",
    "    if choice == 0: # flip on x\n",
    "        X_flip = X[::-1, :, :, :]\n",
    "    elif choice == 1: # flip on y\n",
    "        X_flip = X[:, ::-1, :, :]\n",
    "    elif choice == 2: # flip on z\n",
    "        X_flip = X[:, :, ::-1, :]\n",
    "    else:\n",
    "        X_flip = X\n",
    "        \n",
    "    return np.flip(X_flip,axis=0).copy()"
   ]
  },
  {
   "cell_type": "code",
   "execution_count": 5,
   "id": "14f2d79d-552d-4b7e-941b-bbb55a6898b6",
   "metadata": {},
   "outputs": [],
   "source": [
    "def load_dicom_image(path, img_size=cfg.size, clahe=False):\n",
    "    dicom = pydicom.read_file(path)\n",
    "    data = dicom.pixel_array\n",
    "    max_data = np.max(data)\n",
    "    min_data = np.min(data)\n",
    "    if min_data == max_data:\n",
    "        data = np.zeros((img_size,img_size))\n",
    "        return data\n",
    "    data = data - min_data\n",
    "    if max_data != 0:\n",
    "        data = data / (max_data - min_data) \n",
    "    \n",
    "    #data = (data * 255).astype(np.uint8)\n",
    "    data = cv2.resize(data, (img_size, img_size))\n",
    "    return data"
   ]
  },
  {
   "cell_type": "code",
   "execution_count": 6,
   "id": "e51e7b17-e406-41f7-8cb3-f7ab6462c2c8",
   "metadata": {},
   "outputs": [],
   "source": [
    "def load_dicom_images_3d(scan_id, num_imgs=cfg.num_images, img_size=cfg.size, mri_type=\"FLAIR\", split=\"train\", clahe=False):\n",
    "\n",
    "    files = sorted(glob.glob(f\"{cfg.base_path}/{split}/{scan_id}/{mri_type}/*.dcm\"))\n",
    "    assert len(files) > 0\n",
    "    \n",
    "    middle = len(files)//2\n",
    "    num_imgs2 = num_imgs//2\n",
    "    p1 = max(0, middle - num_imgs2)\n",
    "    p2 = min(len(files), middle + num_imgs2)\n",
    "    img3d = np.stack([load_dicom_image(f, clahe=False) for f in files[p1:p2]]).T \n",
    "    if img3d.shape[-1] < num_imgs:\n",
    "        n_zero = np.zeros((img_size, img_size, num_imgs - img3d.shape[-1]))\n",
    "        img3d = np.concatenate((img3d,  n_zero), axis = -1)\n",
    "    img3d = np.expand_dims(img3d[:,:,:], 0)\n",
    "    # Transforms\n",
    "    img3d = flip3D(brightness(img3d))\n",
    "#     if convert_vertical_flag:\n",
    "#         img3d_vert = convert_vertical(img3d, size=img3d.shape[0])\n",
    "#         img3d = np.concatenate([img3d, img3d_vert], axis=-1)\n",
    "    return img3d"
   ]
  },
  {
   "cell_type": "code",
   "execution_count": 7,
   "id": "a262bf03-fec2-42d4-8481-12895a17e5c4",
   "metadata": {},
   "outputs": [
    {
     "data": {
      "text/plain": [
       "(1, 256, 256, 64)"
      ]
     },
     "execution_count": 7,
     "metadata": {},
     "output_type": "execute_result"
    }
   ],
   "source": [
    "sample_image_0 = load_dicom_images_3d(\"00000\")\n",
    "sample_image_0.shape"
   ]
  },
  {
   "cell_type": "code",
   "execution_count": 8,
   "id": "bb16f0ef-1b1f-4cad-aa0a-766c7febaaa0",
   "metadata": {},
   "outputs": [
    {
     "data": {
      "text/plain": [
       "(-0.5, 255.5, 255.5, -0.5)"
      ]
     },
     "execution_count": 8,
     "metadata": {},
     "output_type": "execute_result"
    },
    {
     "data": {
      "image/png": "[encoded data removed]",
      "text/plain": [
       "<Figure size 432x288 with 1 Axes>"
      ]
     },
     "metadata": {
      "needs_background": "light"
     },
     "output_type": "display_data"
    }
   ],
   "source": [
    "plt.imshow(sample_image_0.squeeze()[:,:,0])\n",
    "plt.axis('off')"
   ]
  },
  {
   "cell_type": "markdown",
   "id": "e8408819-4d52-43a4-841a-c79d5c370587",
   "metadata": {},
   "source": [
    "### Seeding"
   ]
  },
  {
   "cell_type": "code",
   "execution_count": 9,
   "id": "d9c9f9f7-35ad-4e11-b597-5f4eed0aa5dc",
   "metadata": {},
   "outputs": [],
   "source": [
    "def set_seed(seed):\n",
    "    random.seed(seed)\n",
    "    os.environ[\"PYTHONHASHSEED\"] = str(seed)\n",
    "    np.random.seed(seed)\n",
    "    torch.manual_seed(seed)\n",
    "    if torch.cuda.is_available():\n",
    "        torch.cuda.manual_seed_all(seed)\n",
    "        torch.backends.cudnn.deterministic = True\n",
    "\n",
    "set_seed(cfg.seed)"
   ]
  },
  {
   "cell_type": "markdown",
   "id": "38245804-c74d-4efe-be8f-bf06b8bfe550",
   "metadata": {},
   "source": [
    "### Tabular Data"
   ]
  },
  {
   "cell_type": "code",
   "execution_count": 10,
   "id": "7701e739-7246-4a42-a288-e38a89efd310",
   "metadata": {},
   "outputs": [
    {
     "data": {
      "text/html": [
       "<div>\n",
       "<style scoped>\n",
       "    .dataframe tbody tr th:only-of-type {\n",
       "        vertical-align: middle;\n",
       "    }\n",
       "\n",
       "    .dataframe tbody tr th {\n",
       "        vertical-align: top;\n",
       "    }\n",
       "\n",
       "    .dataframe thead th {\n",
       "        text-align: right;\n",
       "    }\n",
       "</style>\n",
       "<table border=\"1\" class=\"dataframe\">\n",
       "  <thead>\n",
       "    <tr style=\"text-align: right;\">\n",
       "      <th></th>\n",
       "      <th>BraTS21ID</th>\n",
       "      <th>MGMT_value</th>\n",
       "    </tr>\n",
       "  </thead>\n",
       "  <tbody>\n",
       "    <tr>\n",
       "      <th>0</th>\n",
       "      <td>0</td>\n",
       "      <td>1</td>\n",
       "    </tr>\n",
       "    <tr>\n",
       "      <th>1</th>\n",
       "      <td>2</td>\n",
       "      <td>1</td>\n",
       "    </tr>\n",
       "    <tr>\n",
       "      <th>2</th>\n",
       "      <td>3</td>\n",
       "      <td>0</td>\n",
       "    </tr>\n",
       "    <tr>\n",
       "      <th>3</th>\n",
       "      <td>5</td>\n",
       "      <td>1</td>\n",
       "    </tr>\n",
       "    <tr>\n",
       "      <th>4</th>\n",
       "      <td>6</td>\n",
       "      <td>1</td>\n",
       "    </tr>\n",
       "    <tr>\n",
       "      <th>...</th>\n",
       "      <td>...</td>\n",
       "      <td>...</td>\n",
       "    </tr>\n",
       "    <tr>\n",
       "      <th>580</th>\n",
       "      <td>1005</td>\n",
       "      <td>1</td>\n",
       "    </tr>\n",
       "    <tr>\n",
       "      <th>581</th>\n",
       "      <td>1007</td>\n",
       "      <td>1</td>\n",
       "    </tr>\n",
       "    <tr>\n",
       "      <th>582</th>\n",
       "      <td>1008</td>\n",
       "      <td>1</td>\n",
       "    </tr>\n",
       "    <tr>\n",
       "      <th>583</th>\n",
       "      <td>1009</td>\n",
       "      <td>0</td>\n",
       "    </tr>\n",
       "    <tr>\n",
       "      <th>584</th>\n",
       "      <td>1010</td>\n",
       "      <td>0</td>\n",
       "    </tr>\n",
       "  </tbody>\n",
       "</table>\n",
       "<p>585 rows × 2 columns</p>\n",
       "</div>"
      ],
      "text/plain": [
       "     BraTS21ID  MGMT_value\n",
       "0            0           1\n",
       "1            2           1\n",
       "2            3           0\n",
       "3            5           1\n",
       "4            6           1\n",
       "..         ...         ...\n",
       "580       1005           1\n",
       "581       1007           1\n",
       "582       1008           1\n",
       "583       1009           0\n",
       "584       1010           0\n",
       "\n",
       "[585 rows x 2 columns]"
      ]
     },
     "execution_count": 10,
     "metadata": {},
     "output_type": "execute_result"
    }
   ],
   "source": [
    "train_df = pd.read_csv(f\"{cfg.base_path}/train_labels.csv\")\n",
    "train_df"
   ]
  },
  {
   "cell_type": "code",
   "execution_count": 11,
   "id": "d557a01e-52f1-4764-9110-b08bab3df523",
   "metadata": {},
   "outputs": [
    {
     "data": {
      "text/html": [
       "<div>\n",
       "<style scoped>\n",
       "    .dataframe tbody tr th:only-of-type {\n",
       "        vertical-align: middle;\n",
       "    }\n",
       "\n",
       "    .dataframe tbody tr th {\n",
       "        vertical-align: top;\n",
       "    }\n",
       "\n",
       "    .dataframe thead th {\n",
       "        text-align: right;\n",
       "    }\n",
       "</style>\n",
       "<table border=\"1\" class=\"dataframe\">\n",
       "  <thead>\n",
       "    <tr style=\"text-align: right;\">\n",
       "      <th></th>\n",
       "      <th>BraTS21ID</th>\n",
       "      <th>MGMT_value</th>\n",
       "    </tr>\n",
       "  </thead>\n",
       "  <tbody>\n",
       "    <tr>\n",
       "      <th>0</th>\n",
       "      <td>0</td>\n",
       "      <td>1</td>\n",
       "    </tr>\n",
       "    <tr>\n",
       "      <th>1</th>\n",
       "      <td>2</td>\n",
       "      <td>1</td>\n",
       "    </tr>\n",
       "    <tr>\n",
       "      <th>2</th>\n",
       "      <td>3</td>\n",
       "      <td>0</td>\n",
       "    </tr>\n",
       "    <tr>\n",
       "      <th>3</th>\n",
       "      <td>5</td>\n",
       "      <td>1</td>\n",
       "    </tr>\n",
       "    <tr>\n",
       "      <th>4</th>\n",
       "      <td>6</td>\n",
       "      <td>1</td>\n",
       "    </tr>\n",
       "    <tr>\n",
       "      <th>...</th>\n",
       "      <td>...</td>\n",
       "      <td>...</td>\n",
       "    </tr>\n",
       "    <tr>\n",
       "      <th>580</th>\n",
       "      <td>1005</td>\n",
       "      <td>1</td>\n",
       "    </tr>\n",
       "    <tr>\n",
       "      <th>581</th>\n",
       "      <td>1007</td>\n",
       "      <td>1</td>\n",
       "    </tr>\n",
       "    <tr>\n",
       "      <th>582</th>\n",
       "      <td>1008</td>\n",
       "      <td>1</td>\n",
       "    </tr>\n",
       "    <tr>\n",
       "      <th>583</th>\n",
       "      <td>1009</td>\n",
       "      <td>0</td>\n",
       "    </tr>\n",
       "    <tr>\n",
       "      <th>584</th>\n",
       "      <td>1010</td>\n",
       "      <td>0</td>\n",
       "    </tr>\n",
       "  </tbody>\n",
       "</table>\n",
       "<p>582 rows × 2 columns</p>\n",
       "</div>"
      ],
      "text/plain": [
       "     BraTS21ID  MGMT_value\n",
       "0            0           1\n",
       "1            2           1\n",
       "2            3           0\n",
       "3            5           1\n",
       "4            6           1\n",
       "..         ...         ...\n",
       "580       1005           1\n",
       "581       1007           1\n",
       "582       1008           1\n",
       "583       1009           0\n",
       "584       1010           0\n",
       "\n",
       "[582 rows x 2 columns]"
      ]
     },
     "execution_count": 11,
     "metadata": {},
     "output_type": "execute_result"
    }
   ],
   "source": [
    "train_df = train_df.drop(train_df[train_df['BraTS21ID'].isin([109, 123, 709])].index)\n",
    "train_df"
   ]
  },
  {
   "cell_type": "markdown",
   "id": "7a956074-ba2c-4760-94da-27731099459b",
   "metadata": {},
   "source": [
    "### Train / Test Split"
   ]
  },
  {
   "cell_type": "code",
   "execution_count": 12,
   "id": "fd31f549-a539-48cb-a847-ace203f5c0ec",
   "metadata": {},
   "outputs": [],
   "source": [
    "df_train, df_valid = sk_model_selection.train_test_split(\n",
    "    train_df, \n",
    "    test_size=cfg.test_size, \n",
    "    random_state=42, \n",
    "    stratify=train_df[\"MGMT_value\"],\n",
    ")"
   ]
  },
  {
   "cell_type": "code",
   "execution_count": 13,
   "id": "8ade0aa2-c3a1-47d7-b356-07ffce681da6",
   "metadata": {},
   "outputs": [
    {
     "data": {
      "text/plain": [
       "0.11281070745697896"
      ]
     },
     "execution_count": 13,
     "metadata": {},
     "output_type": "execute_result"
    }
   ],
   "source": [
    "len(df_valid) / len(df_train)"
   ]
  },
  {
   "cell_type": "code",
   "execution_count": 14,
   "id": "1d7b8a87-1fe7-4c07-9dd4-91e7e2e92c34",
   "metadata": {},
   "outputs": [],
   "source": [
    "df_valid = df_valid.append(pd.DataFrame([{'BraTS21ID': 1, 'MGMT_value': 1}, {'BraTS21ID': 13, 'MGMT_value': 1}]))"
   ]
  },
  {
   "cell_type": "code",
   "execution_count": 15,
   "id": "b4310dea-01ba-41d7-bc47-9e34c99c7ffb",
   "metadata": {},
   "outputs": [
    {
     "data": {
      "text/plain": [
       "0.11663479923518165"
      ]
     },
     "execution_count": 15,
     "metadata": {},
     "output_type": "execute_result"
    }
   ],
   "source": [
    "len(df_valid) / len(df_train)"
   ]
  },
  {
   "cell_type": "markdown",
   "id": "6f8f60e3-d196-4ff8-ad8f-f5caf5a755fe",
   "metadata": {},
   "source": [
    "### Dataset"
   ]
  },
  {
   "cell_type": "code",
   "execution_count": 16,
   "id": "366241e8-0531-42eb-bfc6-d6f5d0faa832",
   "metadata": {},
   "outputs": [],
   "source": [
    "class Dataset(torch_data.Dataset):\n",
    "    def __init__(self, paths, targets=None, mri_type=None, label_smoothing=0.01, split=\"train\"):\n",
    "        self.paths = paths\n",
    "        self.targets = targets\n",
    "        self.mri_type = mri_type\n",
    "        self.label_smoothing = label_smoothing\n",
    "        self.split = split\n",
    "          \n",
    "    def __len__(self):\n",
    "        return len(self.paths)\n",
    "    \n",
    "    def __getitem__(self, index):\n",
    "        scan_id = self.paths[index]\n",
    "        if self.targets is None:\n",
    "            data = load_dicom_images_3d(str(scan_id).zfill(5), mri_type=self.mri_type[index], split=self.split, clahe=cfg.clahe)\n",
    "        else:\n",
    "            data = load_dicom_images_3d(str(scan_id).zfill(5), mri_type=self.mri_type[index], split=\"train\", clahe=cfg.clahe)\n",
    "\n",
    "        if self.targets is None:\n",
    "            return {\"X\": torch.tensor(data).float(), \"id\": scan_id}\n",
    "        else:\n",
    "            y = torch.tensor(abs(self.targets[index]-self.label_smoothing), dtype=torch.float)\n",
    "            return {\"X\": torch.tensor(data).float(), \"y\": y}\n"
   ]
  },
  {
   "cell_type": "code",
   "execution_count": 17,
   "id": "5c807a37-95f9-40a7-ad91-b2eec71f326a",
   "metadata": {},
   "outputs": [
    {
     "name": "stderr",
     "output_type": "stream",
     "text": [
      "/opt/conda/lib/python3.8/site-packages/pandas/core/indexing.py:1597: SettingWithCopyWarning: \n",
      "A value is trying to be set on a copy of a slice from a DataFrame.\n",
      "Try using .loc[row_indexer,col_indexer] = value instead\n",
      "\n",
      "See the caveats in the documentation: https://pandas.pydata.org/pandas-docs/stable/user_guide/indexing.html#returning-a-view-versus-a-copy\n",
      "  self.obj[key] = value\n",
      "/opt/conda/lib/python3.8/site-packages/pandas/core/indexing.py:1720: SettingWithCopyWarning: \n",
      "A value is trying to be set on a copy of a slice from a DataFrame.\n",
      "Try using .loc[row_indexer,col_indexer] = value instead\n",
      "\n",
      "See the caveats in the documentation: https://pandas.pydata.org/pandas-docs/stable/user_guide/indexing.html#returning-a-view-versus-a-copy\n",
      "  self._setitem_single_column(loc, value, pi)\n"
     ]
    }
   ],
   "source": [
    "df_train.loc[:,\"MRI_Type\"] = 'FLAIR'\n",
    "sample_ds = Dataset(df_train['BraTS21ID'], df_train['MGMT_value'], df_train['MRI_Type'])"
   ]
  },
  {
   "cell_type": "code",
   "execution_count": 18,
   "id": "b970f28c-d712-43e8-a2df-c88414f7e32d",
   "metadata": {},
   "outputs": [
    {
     "data": {
      "text/plain": [
       "torch.Size([1, 256, 256, 64])"
      ]
     },
     "execution_count": 18,
     "metadata": {},
     "output_type": "execute_result"
    }
   ],
   "source": [
    "sample_ds[0]['X'].shape"
   ]
  },
  {
   "cell_type": "markdown",
   "id": "e4fd55ab-41ed-496c-bcbf-e551e6ab1910",
   "metadata": {},
   "source": [
    "### Model"
   ]
  },
  {
   "cell_type": "code",
   "execution_count": 19,
   "id": "0d2eb2f2-f02b-4c3d-a3dd-3fe53a695abb",
   "metadata": {},
   "outputs": [],
   "source": [
    "def conv3x3x3(in_planes, out_planes, stride=1):\n",
    "    return nn.Conv3d(in_planes,\n",
    "                     out_planes,\n",
    "                     kernel_size=3,\n",
    "                     stride=stride,\n",
    "                     padding=1,\n",
    "                     bias=False)"
   ]
  },
  {
   "cell_type": "code",
   "execution_count": 20,
   "id": "9c57198f-0d07-4cd6-b81e-47ab485e0803",
   "metadata": {},
   "outputs": [],
   "source": [
    "def conv1x1x1(in_planes, out_planes, stride=1):\n",
    "    return nn.Conv3d(in_planes,\n",
    "                     out_planes,\n",
    "                     kernel_size=1,\n",
    "                     stride=stride,\n",
    "                     bias=False)\n",
    "\n",
    "class SimpleBlock(nn.Module):\n",
    "    \n",
    "    def __init__(self, in_planes, out_planes, drop=None):\n",
    "        super().__init__()\n",
    "        self.conv = conv3x3x3(in_planes, out_planes, stride=1)\n",
    "        self.relu = nn.ReLU(inplace=False)\n",
    "        self.maxpool = nn.MaxPool3d(kernel_size=2)\n",
    "        self.bn = nn.BatchNorm3d(out_planes)\n",
    "        if drop != None:\n",
    "            self.drop = nn.Dropout(drop)\n",
    "        else:\n",
    "            self.drop = None\n",
    "        \n",
    "    def forward(self, x):\n",
    "        x = self.bn(self.maxpool(self.relu(self.conv(x))))\n",
    "        if self.drop != None:\n",
    "            x = self.drop(x)\n",
    "        return x\n",
    "\n",
    "class CustomModel(nn.Module):\n",
    "\n",
    "    def __init__(self):\n",
    "        super().__init__()\n",
    "        in_planes = 1\n",
    "        out_planes = 32\n",
    "        self.block1 = SimpleBlock(1, 64)\n",
    "        self.block2 = SimpleBlock(64, 128, drop=0.02)\n",
    "        self.block3 = SimpleBlock(128, 256, drop=0.03)\n",
    "#         self.block4 = SimpleBlock(256, 512, drop=0.04)\n",
    "        self.avg = nn.AdaptiveAvgPool3d((4, 1, 1))\n",
    "        self.fc = nn.Linear(1024, 1024)\n",
    "        self.relu = nn.ReLU()\n",
    "        self.regressor = nn.Linear(1024, 1)\n",
    "\n",
    "    def forward(self, x):\n",
    "        x = self.block1(x)\n",
    "        x = self.block2(x)\n",
    "        x = self.block3(x)\n",
    "#         x = self.block4(x)\n",
    "        x = self.avg(x).view(x.shape[0], -1)\n",
    "        x = self.relu(self.fc(x))\n",
    "        x = self.regressor(x)\n",
    "        x = torch.sigmoid(x)\n",
    "        return x"
   ]
  },
  {
   "cell_type": "code",
   "execution_count": 21,
   "id": "82acf2a2-4137-4978-8db1-5ac60e341d60",
   "metadata": {},
   "outputs": [
    {
     "data": {
      "text/plain": [
       "torch.Size([4, 512, 2, 1, 1])"
      ]
     },
     "execution_count": 21,
     "metadata": {},
     "output_type": "execute_result"
    }
   ],
   "source": [
    "m = nn.AdaptiveAvgPool3d((2,1,1))\n",
    "a = torch.randn([4, 512, 4, 16, 16])\n",
    "m(a).shape"
   ]
  },
  {
   "cell_type": "code",
   "execution_count": 22,
   "id": "934c2be1-9497-48cf-85ce-5a39886d9993",
   "metadata": {},
   "outputs": [],
   "source": [
    "def create_model():\n",
    "    model = CustomModel()\n",
    "    model.to(cfg.device)\n",
    "    return model"
   ]
  },
  {
   "cell_type": "code",
   "execution_count": 23,
   "id": "4910f1f7-f628-4cd7-a14b-51e11c822e16",
   "metadata": {},
   "outputs": [
    {
     "data": {
      "text/plain": [
       "torch.Size([4, 1])"
      ]
     },
     "execution_count": 23,
     "metadata": {},
     "output_type": "execute_result"
    }
   ],
   "source": [
    "sample_model = CustomModel()\n",
    "sample_model.to(cfg.device)\n",
    "torch.backends.cudnn.enabled = False\n",
    "sample_data = torch.randn([4, 1, 64, 256, 256]).to(cfg.device)\n",
    "sample_model(sample_data).shape"
   ]
  },
  {
   "cell_type": "markdown",
   "id": "0008065b-02a6-4e85-859c-585e153fe0ef",
   "metadata": {},
   "source": [
    "### Trainer"
   ]
  },
  {
   "cell_type": "code",
   "execution_count": 24,
   "id": "0e927c98-58e9-4c24-b16b-b029730808aa",
   "metadata": {},
   "outputs": [],
   "source": [
    "class Trainer:\n",
    "    def __init__(\n",
    "        self, \n",
    "        model, \n",
    "        device, \n",
    "        optimizer, \n",
    "        criterion\n",
    "    ):\n",
    "        self.model = model\n",
    "        self.device = device\n",
    "        self.optimizer = optimizer\n",
    "        self.criterion = criterion\n",
    "\n",
    "        self.best_valid_score = -np.inf\n",
    "        self.n_patience = 0\n",
    "        self.lastmodel = None\n",
    "        \n",
    "    def fit(self, epochs, train_loader, valid_loader, save_path, patience):  \n",
    "        tbar = tqdm(range(1, epochs + 1), total=epochs)\n",
    "#         self.lr_sched = torch.optim.lr_scheduler.CosineAnnealingWarmRestarts(self.optimizer, T_0=int(len(train_loader) / 2), T_mult=1, eta_min=0.0001, last_epoch=-1)\n",
    "        self.lr_sched = torch.optim.lr_scheduler.OneCycleLR(self.optimizer, max_lr=1e-3, steps_per_epoch=len(train_loader), epochs=epochs)\n",
    "        self.lrs = []\n",
    "        \n",
    "        for n_epoch in tbar:\n",
    "            \n",
    "            self.info_message(\"EPOCH: {}\", n_epoch)\n",
    "            tbar.set_description(f'EPOCH: {n_epoch}')\n",
    "            \n",
    "            train_loss, train_time = self.train_epoch(train_loader, valid_loader, n_epoch, save_path)\n",
    "            valid_loss, valid_auc, valid_time = self.valid_epoch(valid_loader)\n",
    "            \n",
    "            self.info_message(\n",
    "                \"[Epoch Train: {}] loss: {:.4f}, time: {:.2f} s            \",\n",
    "                n_epoch, train_loss, train_time\n",
    "            )\n",
    "            \n",
    "            self.print_valid_message(valid_loss, valid_auc, valid_time, n_epoch)\n",
    "            \n",
    "            self.check_and_save(valid_loss, valid_auc, valid_time, n_epoch, save_path)\n",
    "            \n",
    "            if self.n_patience >= patience:\n",
    "                self.info_message(\"\\nValid auc didn't improve last {} epochs.\", patience)\n",
    "                break\n",
    "        plt.plot(self.lrs)\n",
    "        \n",
    "    def check_and_save(self, valid_loss, valid_auc, valid_time, n_epoch, save_path):\n",
    "        # if True:\n",
    "        # if self.best_valid_score < valid_auc: \n",
    "        if self.best_valid_score < valid_auc and valid_auc > 0.5: \n",
    "            self.save_model(n_epoch, save_path, valid_loss, valid_auc)\n",
    "            self.info_message(\n",
    "                 \"auc improved from {:.4f} to {:.4f}. Saved model to '{}'\", \n",
    "                self.best_valid_score, valid_loss, self.lastmodel\n",
    "            )\n",
    "            self.best_valid_score = valid_auc\n",
    "            self.n_patience = 0\n",
    "        else:\n",
    "            self.n_patience += 1\n",
    "            \n",
    "    def print_valid_message(self, valid_loss, valid_auc, valid_time, n_epoch):\n",
    "        self.info_message(\n",
    "            \"[Epoch Valid: {}] loss: {:.4f}, auc: {:.4f}, time: {:.2f} s\",\n",
    "            n_epoch, valid_loss, valid_auc, valid_time\n",
    "        )\n",
    "            \n",
    "    def train_epoch(self, train_loader, valid_loader, n_epoch, save_path):\n",
    "        self.model.train()\n",
    "        t = time.time()\n",
    "        sum_loss = 0\n",
    "\n",
    "        tbar = tqdm(enumerate(train_loader, 1), total=len(train_loader))\n",
    "        \n",
    "        scaler = torch.cuda.amp.GradScaler() # fp16\n",
    "        for step, batch in tbar:\n",
    "            X = batch[\"X\"].to(self.device)\n",
    "            targets = batch[\"y\"].to(self.device)\n",
    "            self.optimizer.zero_grad()\n",
    "            with torch.cuda.amp.autocast():\n",
    "                outputs = self.model(X).squeeze(1)\n",
    "                loss = self.criterion(outputs, targets)\n",
    "                \n",
    "#             loss.backward()\n",
    "            scaler.scale(loss).backward()\n",
    "            scaler.step(self.optimizer)\n",
    "            scaler.update()\n",
    "\n",
    "            sum_loss += loss.detach().item()\n",
    "#             torch.nn.utils.clip_grad_norm_(self.model.parameters(), 1.0)\n",
    "#             self.optimizer.step()\n",
    "            self.lr_sched.step()\n",
    "            current_lr = self.optimizer.param_groups[0][\"lr\"]\n",
    "            self.lrs.append(\n",
    "                current_lr\n",
    "            )\n",
    "            \n",
    "            message = 'Train Step {}/{}, train_loss: {:.4f}'\n",
    "            self.info_message(message, step, len(train_loader), sum_loss/step, end=\"\\r\")\n",
    "            \n",
    "            if n_epoch in cfg.extra_check_epochs:\n",
    "                if step % cfg.check_frequency == 0:\n",
    "                    valid_loss, valid_auc, valid_time = self.valid_epoch(valid_loader)\n",
    "                    self.check_and_save(valid_loss, valid_auc, valid_time, n_epoch, save_path)\n",
    "                    self.print_valid_message(valid_loss, valid_auc, valid_time, n_epoch)\n",
    "            \n",
    "        \n",
    "        return sum_loss/len(train_loader), int(time.time() - t)\n",
    "    \n",
    "    def valid_epoch(self, valid_loader):\n",
    "        self.model.eval()\n",
    "        t = time.time()\n",
    "        sum_loss = 0\n",
    "        y_all = []\n",
    "        outputs_all = []\n",
    "\n",
    "        tbar = tqdm(enumerate(valid_loader, 1), total=len(valid_loader))\n",
    "        for step, batch in tbar:\n",
    "            with torch.no_grad():\n",
    "                X = batch[\"X\"].to(self.device)\n",
    "                targets = batch[\"y\"].to(self.device)\n",
    "\n",
    "                outputs = torch.sigmoid(self.model(X).squeeze(1))\n",
    "                loss = self.criterion(outputs, targets)\n",
    "                print('outputs', outputs.mean().item(), outputs.std().item())\n",
    "                print('targets', targets.mean().item(), targets.std().item())\n",
    "                \n",
    "                sum_loss += loss.detach().item()\n",
    "                y_all.extend(batch[\"y\"].tolist())\n",
    "                outputs_all.extend(outputs.tolist())\n",
    "\n",
    "            message = 'Valid Step {}/{}, valid_loss: {:.4f}'\n",
    "            self.info_message(message, step, len(valid_loader), sum_loss/step, end=\"\\r\")\n",
    "            \n",
    "        y_all = [1 if x > 0.5 else 0 for x in y_all]\n",
    "        auc = roc_auc_score(y_all, outputs_all)\n",
    "        \n",
    "        return sum_loss/len(valid_loader), auc, int(time.time() - t)\n",
    "    \n",
    "    def save_model(self, n_epoch, save_path, loss, auc):\n",
    "        self.lastmodel = str(cfg.models_path/f\"{save_path}-e{n_epoch}-loss{loss:.3f}-auc{auc:.3f}.pth\")\n",
    "        torch.save(\n",
    "            {\n",
    "                \"model_state_dict\": self.model.state_dict(),\n",
    "                \"optimizer_state_dict\": self.optimizer.state_dict(),\n",
    "                \"best_valid_score\": self.best_valid_score,\n",
    "                \"n_epoch\": n_epoch,\n",
    "            },\n",
    "            self.lastmodel,\n",
    "        )\n",
    "    \n",
    "    @staticmethod\n",
    "    def info_message(message, *args, end=\"\\n\"):\n",
    "        print(message.format(*args), end=end)"
   ]
  },
  {
   "cell_type": "code",
   "execution_count": 25,
   "id": "d09f1015-467e-422e-b2f3-0a3930286a52",
   "metadata": {},
   "outputs": [],
   "source": [
    "def loss_func(input, target):\n",
    "#     return F.binary_cross_entropy_with_logits(input, target) * 0.5 + F.mse_loss(input, target) * 0.5\n",
    "#     return F.binary_cross_entropy_with_logits(input, target) * 0.2 + dice_loss(input, target) * 0.8\n",
    "    return F.binary_cross_entropy_with_logits(input, target)"
   ]
  },
  {
   "cell_type": "code",
   "execution_count": 26,
   "id": "3eaf90a3-36ed-41bc-9bfa-9e59914bb51a",
   "metadata": {},
   "outputs": [],
   "source": [
    "def train_mri_type(df_train, df_valid, mri_type):\n",
    "    if mri_type==\"all\":\n",
    "        train_list = []\n",
    "        valid_list = []\n",
    "        for mri_type in mri_types:\n",
    "            df_train.loc[:,\"MRI_Type\"] = mri_type\n",
    "            train_list.append(df_train.copy())\n",
    "            df_valid.loc[:,\"MRI_Type\"] = mri_type\n",
    "            valid_list.append(df_valid.copy())\n",
    "\n",
    "        df_train = pd.concat(train_list)\n",
    "        df_valid = pd.concat(valid_list)\n",
    "    else:\n",
    "        df_train.loc[:,\"MRI_Type\"] = mri_type\n",
    "        df_valid.loc[:,\"MRI_Type\"] = mri_type\n",
    "\n",
    "    print(df_train.shape, df_valid.shape)\n",
    "    display(df_train.head())\n",
    "    \n",
    "    train_data_retriever = Dataset(\n",
    "        df_train[\"BraTS21ID\"].values, \n",
    "        df_train[\"MGMT_value\"].values, \n",
    "        df_train[\"MRI_Type\"].values\n",
    "    )\n",
    "\n",
    "    valid_data_retriever = Dataset(\n",
    "        df_valid[\"BraTS21ID\"].values, \n",
    "        df_valid[\"MGMT_value\"].values,\n",
    "        df_valid[\"MRI_Type\"].values\n",
    "    )\n",
    "\n",
    "    train_loader = torch_data.DataLoader(\n",
    "        train_data_retriever,\n",
    "        batch_size=cfg.batch_size,\n",
    "        shuffle=True,\n",
    "        num_workers=cfg.num_workers,\n",
    "    )\n",
    "\n",
    "    valid_loader = torch_data.DataLoader(\n",
    "        valid_data_retriever, \n",
    "        batch_size=cfg.batch_size,\n",
    "        shuffle=False,\n",
    "        num_workers=cfg.num_workers,\n",
    "    )\n",
    "\n",
    "    model = create_model()\n",
    "\n",
    "    #checkpoint = torch.load(\"best-model-all-auc0.555.pth\")\n",
    "    #model.load_state_dict(checkpoint[\"model_state_dict\"])\n",
    "\n",
    "    #print(model)\n",
    "\n",
    "    optimizer = torch.optim.Adam(model.parameters(), lr=cfg.lr)\n",
    "    #optimizer = torch.optim.SGD(model.parameters(), lr=0.001, momentum=0.9)\n",
    "\n",
    "    criterion = loss_func\n",
    "\n",
    "    trainer = Trainer(\n",
    "        model, \n",
    "        cfg.device, \n",
    "        optimizer, \n",
    "        criterion\n",
    "    )\n",
    "\n",
    "    history = trainer.fit(\n",
    "        cfg.epochs, \n",
    "        train_loader, \n",
    "        valid_loader, \n",
    "        f\"{mri_type}\", \n",
    "        cfg.epochs + 100,\n",
    "    )\n",
    "    \n",
    "    return trainer.lastmodel"
   ]
  },
  {
   "cell_type": "code",
   "execution_count": 27,
   "id": "089771ea-d968-4959-a870-3d3025fe6ac8",
   "metadata": {},
   "outputs": [],
   "source": [
    "!rm -rf {str(cfg.models_path)}/*.pth"
   ]
  },
  {
   "cell_type": "code",
   "execution_count": null,
   "id": "ca72818e-1672-49c0-8e3f-9f0e68332685",
   "metadata": {},
   "outputs": [
    {
     "name": "stdout",
     "output_type": "stream",
     "text": [
      "(523, 3) (61, 3)\n"
     ]
    },
    {
     "data": {
      "text/html": [
       "<div>\n",
       "<style scoped>\n",
       "    .dataframe tbody tr th:only-of-type {\n",
       "        vertical-align: middle;\n",
       "    }\n",
       "\n",
       "    .dataframe tbody tr th {\n",
       "        vertical-align: top;\n",
       "    }\n",
       "\n",
       "    .dataframe thead th {\n",
       "        text-align: right;\n",
       "    }\n",
       "</style>\n",
       "<table border=\"1\" class=\"dataframe\">\n",
       "  <thead>\n",
       "    <tr style=\"text-align: right;\">\n",
       "      <th></th>\n",
       "      <th>BraTS21ID</th>\n",
       "      <th>MGMT_value</th>\n",
       "      <th>MRI_Type</th>\n",
       "    </tr>\n",
       "  </thead>\n",
       "  <tbody>\n",
       "    <tr>\n",
       "      <th>549</th>\n",
       "      <td>803</td>\n",
       "      <td>0</td>\n",
       "      <td>FLAIR</td>\n",
       "    </tr>\n",
       "    <tr>\n",
       "      <th>353</th>\n",
       "      <td>520</td>\n",
       "      <td>1</td>\n",
       "      <td>FLAIR</td>\n",
       "    </tr>\n",
       "    <tr>\n",
       "      <th>272</th>\n",
       "      <td>399</td>\n",
       "      <td>0</td>\n",
       "      <td>FLAIR</td>\n",
       "    </tr>\n",
       "    <tr>\n",
       "      <th>137</th>\n",
       "      <td>206</td>\n",
       "      <td>0</td>\n",
       "      <td>FLAIR</td>\n",
       "    </tr>\n",
       "    <tr>\n",
       "      <th>292</th>\n",
       "      <td>423</td>\n",
       "      <td>0</td>\n",
       "      <td>FLAIR</td>\n",
       "    </tr>\n",
       "  </tbody>\n",
       "</table>\n",
       "</div>"
      ],
      "text/plain": [
       "     BraTS21ID  MGMT_value MRI_Type\n",
       "549        803           0    FLAIR\n",
       "353        520           1    FLAIR\n",
       "272        399           0    FLAIR\n",
       "137        206           0    FLAIR\n",
       "292        423           0    FLAIR"
      ]
     },
     "metadata": {},
     "output_type": "display_data"
    },
    {
     "data": {
      "application/vnd.jupyter.widget-view+json": {
       "model_id": "d4676d4d9ba04f5abbc011b82ba556c1",
       "version_major": 2,
       "version_minor": 0
      },
      "text/plain": [
       "HBox(children=(FloatProgress(value=0.0, max=18.0), HTML(value='')))"
      ]
     },
     "metadata": {},
     "output_type": "display_data"
    },
    {
     "name": "stdout",
     "output_type": "stream",
     "text": [
      "EPOCH: 1\n"
     ]
    },
    {
     "data": {
      "application/vnd.jupyter.widget-view+json": {
       "model_id": "25e2dd1dfa4143c6876933f9fec699d3",
       "version_major": 2,
       "version_minor": 0
      },
      "text/plain": [
       "HBox(children=(FloatProgress(value=0.0, max=66.0), HTML(value='')))"
      ]
     },
     "metadata": {},
     "output_type": "display_data"
    },
    {
     "name": "stdout",
     "output_type": "stream",
     "text": [
      "Train Step 66/66, train_loss: 0.6972\n"
     ]
    },
    {
     "data": {
      "application/vnd.jupyter.widget-view+json": {
       "model_id": "b3e556ea1ec8487b8fea1cc0051e23b5",
       "version_major": 2,
       "version_minor": 0
      },
      "text/plain": [
       "HBox(children=(FloatProgress(value=0.0, max=8.0), HTML(value='')))"
      ]
     },
     "metadata": {},
     "output_type": "display_data"
    },
    {
     "name": "stdout",
     "output_type": "stream",
     "text": [
      "outputs 0.5790032148361206 0.04203316941857338\n",
      "targets 0.5 0.5238320827484131\n",
      "outputs 0.5638368725776672 0.041866887360811234\n",
      "targets 0.6225000023841858 0.5071982145309448\n",
      "outputs 0.5666916370391846 0.04256221279501915\n",
      "targets 0.5 0.5238320827484131\n",
      "outputs 0.5970242619514465 0.03187303990125656\n",
      "targets 0.6225000023841858 0.5071982145309448\n",
      "outputs 0.5855703353881836 0.04291509836912155\n",
      "targets 0.3774999976158142 0.5071982145309448\n",
      "outputs 0.5994663238525391 0.029365522786974907\n",
      "targets 0.3774999976158142 0.5071982145309448\n",
      "outputs 0.5802760124206543 0.04414314404129982\n",
      "targets 0.6225000023841858 0.5071982145309448\n",
      "outputs 0.5505014657974243 0.059198979288339615\n",
      "targets 0.7940000295639038 0.43826931715011597\n",
      "Valid Step 8/8, valid_loss: 0.7016\n",
      "[Epoch Train: 1] loss: 0.6972, time: 37.00 s            \n",
      "[Epoch Valid: 1] loss: 0.7016, auc: 0.5812, time: 6.00 s\n",
      "auc improved from -inf to 0.7016. Saved model to '/home/RSNA_MICCAI_Brain_Tumor/models/FLAIR-e1-loss0.702-auc0.581.pth'\n",
      "EPOCH: 2\n"
     ]
    },
    {
     "data": {
      "application/vnd.jupyter.widget-view+json": {
       "model_id": "4ddcf572e07940e8a669811b9f3e4947",
       "version_major": 2,
       "version_minor": 0
      },
      "text/plain": [
       "HBox(children=(FloatProgress(value=0.0, max=66.0), HTML(value='')))"
      ]
     },
     "metadata": {},
     "output_type": "display_data"
    },
    {
     "name": "stdout",
     "output_type": "stream",
     "text": [
      "Train Step 66/66, train_loss: 0.6911\n"
     ]
    },
    {
     "data": {
      "application/vnd.jupyter.widget-view+json": {
       "model_id": "164137b792ad4c4499fbb1e28d689800",
       "version_major": 2,
       "version_minor": 0
      },
      "text/plain": [
       "HBox(children=(FloatProgress(value=0.0, max=8.0), HTML(value='')))"
      ]
     },
     "metadata": {},
     "output_type": "display_data"
    },
    {
     "name": "stdout",
     "output_type": "stream",
     "text": [
      "outputs 0.5366227626800537 0.038657046854496\n",
      "targets 0.5 0.5238320827484131\n",
      "outputs 0.5209648609161377 0.03368842974305153\n",
      "targets 0.6225000023841858 0.5071982145309448\n",
      "outputs 0.5294674634933472 0.040799371898174286\n",
      "targets 0.5 0.5238320827484131\n",
      "outputs 0.556794285774231 0.03700604662299156\n",
      "targets 0.6225000023841858 0.5071982145309448\n",
      "outputs 0.5430525541305542 0.04037254676222801\n",
      "targets 0.3774999976158142 0.5071982145309448\n",
      "outputs 0.55387282371521 0.041434116661548615\n",
      "targets 0.3774999976158142 0.5071982145309448\n",
      "outputs 0.5372604131698608 0.04279130697250366\n",
      "targets 0.6225000023841858 0.5071982145309448\n",
      "outputs 0.5270801782608032 0.039258502423763275\n",
      "targets 0.7940000295639038 0.43826931715011597\n",
      "Valid Step 8/8, valid_loss: 0.6961\n",
      "[Epoch Train: 2] loss: 0.6911, time: 38.00 s            \n",
      "[Epoch Valid: 2] loss: 0.6961, auc: 0.6331, time: 6.00 s\n",
      "auc improved from 0.5812 to 0.6961. Saved model to '/home/RSNA_MICCAI_Brain_Tumor/models/FLAIR-e2-loss0.696-auc0.633.pth'\n",
      "EPOCH: 3\n"
     ]
    },
    {
     "data": {
      "application/vnd.jupyter.widget-view+json": {
       "model_id": "f29e291e79b54145a54cec56c1ba09e6",
       "version_major": 2,
       "version_minor": 0
      },
      "text/plain": [
       "HBox(children=(FloatProgress(value=0.0, max=66.0), HTML(value='')))"
      ]
     },
     "metadata": {},
     "output_type": "display_data"
    },
    {
     "name": "stdout",
     "output_type": "stream",
     "text": [
      "Train Step 66/66, train_loss: 0.6895\n"
     ]
    },
    {
     "data": {
      "application/vnd.jupyter.widget-view+json": {
       "model_id": "bbb791e4c9294529bcff9ecc6fa08bb4",
       "version_major": 2,
       "version_minor": 0
      },
      "text/plain": [
       "HBox(children=(FloatProgress(value=0.0, max=8.0), HTML(value='')))"
      ]
     },
     "metadata": {},
     "output_type": "display_data"
    },
    {
     "name": "stdout",
     "output_type": "stream",
     "text": [
      "outputs 0.5557456016540527 0.05306856706738472\n",
      "targets 0.5 0.5238320827484131\n",
      "outputs 0.5376508235931396 0.05174835026264191\n",
      "targets 0.6225000023841858 0.5071982145309448\n",
      "outputs 0.5430694818496704 0.05814989656209946\n",
      "targets 0.5 0.5238320827484131\n",
      "outputs 0.5734963417053223 0.048393264412879944\n",
      "targets 0.6225000023841858 0.5071982145309448\n",
      "outputs 0.5608997344970703 0.05932951718568802\n",
      "targets 0.3774999976158142 0.5071982145309448\n",
      "outputs 0.5719578266143799 0.050601162016391754\n",
      "targets 0.3774999976158142 0.5071982145309448\n",
      "outputs 0.5443964600563049 0.05458928272128105\n",
      "targets 0.6225000023841858 0.5071982145309448\n",
      "outputs 0.5424821972846985 0.05817089602351189\n",
      "targets 0.7940000295639038 0.43826931715011597\n",
      "Valid Step 8/8, valid_loss: 0.6944\n",
      "[Epoch Train: 3] loss: 0.6895, time: 38.00 s            \n",
      "[Epoch Valid: 3] loss: 0.6944, auc: 0.6439, time: 6.00 s\n",
      "auc improved from 0.6331 to 0.6944. Saved model to '/home/RSNA_MICCAI_Brain_Tumor/models/FLAIR-e3-loss0.694-auc0.644.pth'\n",
      "EPOCH: 4\n"
     ]
    },
    {
     "data": {
      "application/vnd.jupyter.widget-view+json": {
       "model_id": "5dbb3cfa50d54db2be7426c0261ed84e",
       "version_major": 2,
       "version_minor": 0
      },
      "text/plain": [
       "HBox(children=(FloatProgress(value=0.0, max=66.0), HTML(value='')))"
      ]
     },
     "metadata": {},
     "output_type": "display_data"
    },
    {
     "name": "stdout",
     "output_type": "stream",
     "text": [
      "Train Step 66/66, train_loss: 0.6900\n"
     ]
    },
    {
     "data": {
      "application/vnd.jupyter.widget-view+json": {
       "model_id": "f342c3c0d1864f77aaade535811570df",
       "version_major": 2,
       "version_minor": 0
      },
      "text/plain": [
       "HBox(children=(FloatProgress(value=0.0, max=8.0), HTML(value='')))"
      ]
     },
     "metadata": {},
     "output_type": "display_data"
    },
    {
     "name": "stdout",
     "output_type": "stream",
     "text": [
      "outputs 0.5129159688949585 0.017842313274741173\n",
      "targets 0.5 0.5238320827484131\n",
      "outputs 0.507156252861023 0.01583208702504635\n",
      "targets 0.6225000023841858 0.5071982145309448\n",
      "outputs 0.5104080438613892 0.015440337359905243\n",
      "targets 0.5 0.5238320827484131\n",
      "outputs 0.5135850310325623 0.011570720933377743\n",
      "targets 0.6225000023841858 0.5071982145309448\n",
      "outputs 0.5129108428955078 0.015808328986167908\n",
      "targets 0.3774999976158142 0.5071982145309448\n",
      "outputs 0.5192797780036926 0.018992409110069275\n",
      "targets 0.3774999976158142 0.5071982145309448\n",
      "outputs 0.5098069906234741 0.013117955066263676\n",
      "targets 0.6225000023841858 0.5071982145309448\n",
      "outputs 0.5053513646125793 0.008757532574236393\n",
      "targets 0.7940000295639038 0.43826931715011597\n",
      "Valid Step 8/8, valid_loss: 0.6977\n",
      "[Epoch Train: 4] loss: 0.6900, time: 37.00 s            \n",
      "[Epoch Valid: 4] loss: 0.6977, auc: 0.6374, time: 6.00 s\n",
      "EPOCH: 5\n"
     ]
    },
    {
     "data": {
      "application/vnd.jupyter.widget-view+json": {
       "model_id": "e9b1a77688c846e4a08f2347e5c84f3d",
       "version_major": 2,
       "version_minor": 0
      },
      "text/plain": [
       "HBox(children=(FloatProgress(value=0.0, max=66.0), HTML(value='')))"
      ]
     },
     "metadata": {},
     "output_type": "display_data"
    },
    {
     "name": "stdout",
     "output_type": "stream",
     "text": [
      "Train Step 66/66, train_loss: 0.6867\n"
     ]
    },
    {
     "data": {
      "application/vnd.jupyter.widget-view+json": {
       "model_id": "674bb4716e3e4d6489cd78154c9226c7",
       "version_major": 2,
       "version_minor": 0
      },
      "text/plain": [
       "HBox(children=(FloatProgress(value=0.0, max=8.0), HTML(value='')))"
      ]
     },
     "metadata": {},
     "output_type": "display_data"
    },
    {
     "name": "stdout",
     "output_type": "stream",
     "text": [
      "outputs 0.504228949546814 0.009774320758879185\n",
      "targets 0.5 0.5238320827484131\n",
      "outputs 0.5005347728729248 0.0014963943976908922\n",
      "targets 0.6225000023841858 0.5071982145309448\n",
      "outputs 0.5010330080986023 0.0019196270732209086\n",
      "targets 0.5 0.5238320827484131\n",
      "outputs 0.5035892724990845 0.0053212568163871765\n",
      "targets 0.6225000023841858 0.5071982145309448\n",
      "outputs 0.501200795173645 0.002372301183640957\n",
      "targets 0.3774999976158142 0.5071982145309448\n",
      "outputs 0.5073496103286743 0.01706726662814617\n",
      "targets 0.3774999976158142 0.5071982145309448\n",
      "outputs 0.5035192370414734 0.006450282409787178\n",
      "targets 0.6225000023841858 0.5071982145309448\n",
      "outputs 0.501187801361084 0.002644789405167103\n",
      "targets 0.7940000295639038 0.43826931715011597\n",
      "Valid Step 8/8, valid_loss: 0.6980\n",
      "[Epoch Train: 5] loss: 0.6867, time: 38.00 s            \n",
      "[Epoch Valid: 5] loss: 0.6980, auc: 0.6591, time: 6.00 s\n",
      "auc improved from 0.6439 to 0.6980. Saved model to '/home/RSNA_MICCAI_Brain_Tumor/models/FLAIR-e5-loss0.698-auc0.659.pth'\n",
      "EPOCH: 6\n"
     ]
    },
    {
     "data": {
      "application/vnd.jupyter.widget-view+json": {
       "model_id": "35449828ddaa49a6a63da12bcab2b175",
       "version_major": 2,
       "version_minor": 0
      },
      "text/plain": [
       "HBox(children=(FloatProgress(value=0.0, max=66.0), HTML(value='')))"
      ]
     },
     "metadata": {},
     "output_type": "display_data"
    },
    {
     "name": "stdout",
     "output_type": "stream",
     "text": [
      "Train Step 66/66, train_loss: 0.6960\n"
     ]
    },
    {
     "data": {
      "application/vnd.jupyter.widget-view+json": {
       "model_id": "db69e218c0a1450588522aea72c9f491",
       "version_major": 2,
       "version_minor": 0
      },
      "text/plain": [
       "HBox(children=(FloatProgress(value=0.0, max=8.0), HTML(value='')))"
      ]
     },
     "metadata": {},
     "output_type": "display_data"
    },
    {
     "name": "stdout",
     "output_type": "stream",
     "text": [
      "outputs 0.5000059008598328 9.537501682643779e-06\n",
      "targets 0.5 0.5238320827484131\n",
      "outputs 0.500002384185791 3.565192173482501e-06\n",
      "targets 0.6225000023841858 0.5071982145309448\n",
      "outputs 0.5000060796737671 1.2065088412782643e-05\n",
      "targets 0.5 0.5238320827484131\n",
      "outputs 0.5000032186508179 7.410880243696738e-06\n",
      "targets 0.6225000023841858 0.5071982145309448\n",
      "outputs 0.5000052452087402 8.385286491829902e-06\n",
      "targets 0.3774999976158142 0.5071982145309448\n",
      "outputs 0.5000011920928955 1.499791778769577e-06\n",
      "targets 0.3774999976158142 0.5071982145309448\n",
      "outputs 0.5000007152557373 1.4441062603509636e-06\n",
      "targets 0.6225000023841858 0.5071982145309448\n",
      "outputs 0.500001847743988 2.4663650037837215e-06\n",
      "targets 0.7940000295639038 0.43826931715011597\n",
      "Valid Step 8/8, valid_loss: 0.6980\n",
      "[Epoch Train: 6] loss: 0.6960, time: 38.00 s            \n",
      "[Epoch Valid: 6] loss: 0.6980, auc: 0.5260, time: 6.00 s\n",
      "EPOCH: 7\n"
     ]
    },
    {
     "data": {
      "application/vnd.jupyter.widget-view+json": {
       "model_id": "fd2503219bca49908760bdd209961869",
       "version_major": 2,
       "version_minor": 0
      },
      "text/plain": [
       "HBox(children=(FloatProgress(value=0.0, max=66.0), HTML(value='')))"
      ]
     },
     "metadata": {},
     "output_type": "display_data"
    },
    {
     "name": "stdout",
     "output_type": "stream",
     "text": [
      "Train Step 66/66, train_loss: 0.6931\n"
     ]
    },
    {
     "data": {
      "application/vnd.jupyter.widget-view+json": {
       "model_id": "c5d38e5fc1e94b359ba05d60d0b10cac",
       "version_major": 2,
       "version_minor": 0
      },
      "text/plain": [
       "HBox(children=(FloatProgress(value=0.0, max=8.0), HTML(value='')))"
      ]
     },
     "metadata": {},
     "output_type": "display_data"
    },
    {
     "name": "stdout",
     "output_type": "stream",
     "text": [
      "outputs 0.5000086426734924 1.6997008060570806e-05\n",
      "targets 0.5 0.5238320827484131\n",
      "outputs 0.5000020861625671 3.08355811284855e-06\n",
      "targets 0.6225000023841858 0.5071982145309448\n",
      "outputs 0.5000048279762268 8.302959940920118e-06\n",
      "targets 0.5 0.5238320827484131\n",
      "outputs 0.5000035762786865 7.555444881290896e-06\n",
      "targets 0.6225000023841858 0.5071982145309448\n",
      "outputs 0.500007152557373 1.2102794244128745e-05\n",
      "targets 0.3774999976158142 0.5071982145309448\n",
      "outputs 0.5000014901161194 1.723167770251166e-06\n",
      "targets 0.3774999976158142 0.5071982145309448\n",
      "outputs 0.5000004768371582 8.033212566260772e-07\n",
      "targets 0.6225000023841858 0.5071982145309448\n",
      "outputs 0.500001847743988 2.3173038243839983e-06\n",
      "targets 0.7940000295639038 0.43826931715011597\n",
      "Valid Step 8/8, valid_loss: 0.6980\n",
      "[Epoch Train: 7] loss: 0.6931, time: 37.00 s            \n",
      "[Epoch Valid: 7] loss: 0.6980, auc: 0.5525, time: 6.00 s\n",
      "EPOCH: 8\n"
     ]
    },
    {
     "data": {
      "application/vnd.jupyter.widget-view+json": {
       "model_id": "260dae4f47e14a0aa1fca3cad4d0ada7",
       "version_major": 2,
       "version_minor": 0
      },
      "text/plain": [
       "HBox(children=(FloatProgress(value=0.0, max=66.0), HTML(value='')))"
      ]
     },
     "metadata": {},
     "output_type": "display_data"
    },
    {
     "name": "stdout",
     "output_type": "stream",
     "text": [
      "Train Step 66/66, train_loss: 0.6927\n"
     ]
    },
    {
     "data": {
      "application/vnd.jupyter.widget-view+json": {
       "model_id": "535fb6b6dd7f4dceba42085011d3e1b3",
       "version_major": 2,
       "version_minor": 0
      },
      "text/plain": [
       "HBox(children=(FloatProgress(value=0.0, max=8.0), HTML(value='')))"
      ]
     },
     "metadata": {},
     "output_type": "display_data"
    },
    {
     "name": "stdout",
     "output_type": "stream",
     "text": [
      "outputs 0.5000300407409668 6.794629007345065e-05\n",
      "targets 0.5 0.5238320827484131\n",
      "outputs 0.5000064373016357 8.8677525127423e-06\n",
      "targets 0.6225000023841858 0.5071982145309448\n",
      "outputs 0.500016450881958 3.500718958093785e-05\n",
      "targets 0.5 0.5238320827484131\n",
      "outputs 0.5000067353248596 1.3483133443514816e-05\n",
      "targets 0.6225000023841858 0.5071982145309448\n",
      "outputs 0.5000173449516296 3.2960655516944826e-05\n",
      "targets 0.3774999976158142 0.5071982145309448\n",
      "outputs 0.5000033378601074 3.6670871850219555e-06\n",
      "targets 0.3774999976158142 0.5071982145309448\n",
      "outputs 0.5000019073486328 3.0734190659131855e-06\n",
      "targets 0.6225000023841858 0.5071982145309448\n",
      "outputs 0.5000115633010864 1.9203171177650802e-05\n",
      "targets 0.7940000295639038 0.43826931715011597\n",
      "Valid Step 8/8, valid_loss: 0.6980\n",
      "[Epoch Train: 8] loss: 0.6927, time: 37.00 s            \n",
      "[Epoch Valid: 8] loss: 0.6980, auc: 0.5373, time: 6.00 s\n",
      "EPOCH: 9\n"
     ]
    },
    {
     "data": {
      "application/vnd.jupyter.widget-view+json": {
       "model_id": "7927e8f7d1ba43e3ad71236863cb6595",
       "version_major": 2,
       "version_minor": 0
      },
      "text/plain": [
       "HBox(children=(FloatProgress(value=0.0, max=66.0), HTML(value='')))"
      ]
     },
     "metadata": {},
     "output_type": "display_data"
    },
    {
     "name": "stdout",
     "output_type": "stream",
     "text": [
      "Train Step 66/66, train_loss: 0.6932\n"
     ]
    },
    {
     "data": {
      "application/vnd.jupyter.widget-view+json": {
       "model_id": "4963322be2fe4f259ac01d7ba479474b",
       "version_major": 2,
       "version_minor": 0
      },
      "text/plain": [
       "HBox(children=(FloatProgress(value=0.0, max=8.0), HTML(value='')))"
      ]
     },
     "metadata": {},
     "output_type": "display_data"
    },
    {
     "name": "stdout",
     "output_type": "stream",
     "text": [
      "outputs 0.5001657605171204 0.0004518074565567076\n",
      "targets 0.5 0.5238320827484131\n",
      "outputs 0.5000074505805969 1.2159086509200279e-05\n",
      "targets 0.6225000023841858 0.5071982145309448\n",
      "outputs 0.5000120401382446 2.285115078848321e-05\n",
      "targets 0.5 0.5238320827484131\n",
      "outputs 0.5000093579292297 1.318728845944861e-05\n",
      "targets 0.6225000023841858 0.5071982145309448\n",
      "outputs 0.5000488758087158 0.00011141115101054311\n",
      "targets 0.3774999976158142 0.5071982145309448\n",
      "outputs 0.5000178217887878 3.92308174923528e-05\n",
      "targets 0.3774999976158142 0.5071982145309448\n",
      "outputs 0.500002920627594 4.4516332309285644e-06\n",
      "targets 0.6225000023841858 0.5071982145309448\n",
      "outputs 0.5000149607658386 2.760508687060792e-05\n",
      "targets 0.7940000295639038 0.43826931715011597\n",
      "Valid Step 8/8, valid_loss: 0.6981\n",
      "[Epoch Train: 9] loss: 0.6932, time: 37.00 s            \n",
      "[Epoch Valid: 9] loss: 0.6981, auc: 0.5855, time: 6.00 s\n",
      "EPOCH: 10\n"
     ]
    },
    {
     "data": {
      "application/vnd.jupyter.widget-view+json": {
       "model_id": "5e9b54719c1644f99d7223b4d7a6cd65",
       "version_major": 2,
       "version_minor": 0
      },
      "text/plain": [
       "HBox(children=(FloatProgress(value=0.0, max=66.0), HTML(value='')))"
      ]
     },
     "metadata": {},
     "output_type": "display_data"
    },
    {
     "name": "stdout",
     "output_type": "stream",
     "text": [
      "Train Step 66/66, train_loss: 0.6917\n"
     ]
    },
    {
     "data": {
      "application/vnd.jupyter.widget-view+json": {
       "model_id": "ca1bcdd5ba674021bf18438a1aaa3156",
       "version_major": 2,
       "version_minor": 0
      },
      "text/plain": [
       "HBox(children=(FloatProgress(value=0.0, max=8.0), HTML(value='')))"
      ]
     },
     "metadata": {},
     "output_type": "display_data"
    },
    {
     "name": "stdout",
     "output_type": "stream",
     "text": [
      "outputs 0.500035285949707 6.654355820501223e-05\n",
      "targets 0.5 0.5238320827484131\n",
      "outputs 0.5000067949295044 7.582183570775669e-06\n",
      "targets 0.6225000023841858 0.5071982145309448\n",
      "outputs 0.5000054836273193 8.236725079768803e-06\n",
      "targets 0.5 0.5238320827484131\n",
      "outputs 0.500008225440979 1.8831880879588425e-05\n",
      "targets 0.6225000023841858 0.5071982145309448\n",
      "outputs 0.500028133392334 6.369088805513456e-05\n",
      "targets 0.3774999976158142 0.5071982145309448\n",
      "outputs 0.5000094175338745 2.0610577848856337e-05\n",
      "targets 0.3774999976158142 0.5071982145309448\n",
      "outputs 0.5000168085098267 3.750929681700654e-05\n",
      "targets 0.6225000023841858 0.5071982145309448\n",
      "outputs 0.500013530254364 2.214596315752715e-05\n",
      "targets 0.7940000295639038 0.43826931715011597\n",
      "Valid Step 8/8, valid_loss: 0.6980\n",
      "[Epoch Train: 10] loss: 0.6917, time: 37.00 s            \n",
      "[Epoch Valid: 10] loss: 0.6980, auc: 0.3961, time: 6.00 s\n",
      "EPOCH: 11\n"
     ]
    },
    {
     "data": {
      "application/vnd.jupyter.widget-view+json": {
       "model_id": "f721815949e84ddfad6843621ec9b97a",
       "version_major": 2,
       "version_minor": 0
      },
      "text/plain": [
       "HBox(children=(FloatProgress(value=0.0, max=66.0), HTML(value='')))"
      ]
     },
     "metadata": {},
     "output_type": "display_data"
    },
    {
     "name": "stdout",
     "output_type": "stream",
     "text": [
      "Train Step 66/66, train_loss: 0.6906\n"
     ]
    },
    {
     "data": {
      "application/vnd.jupyter.widget-view+json": {
       "model_id": "de9a68bae2d44854a01690440fbc6a8f",
       "version_major": 2,
       "version_minor": 0
      },
      "text/plain": [
       "HBox(children=(FloatProgress(value=0.0, max=8.0), HTML(value='')))"
      ]
     },
     "metadata": {},
     "output_type": "display_data"
    },
    {
     "name": "stdout",
     "output_type": "stream",
     "text": [
      "outputs 0.5048735737800598 0.012484288774430752\n",
      "targets 0.5 0.5238320827484131\n",
      "outputs 0.5002224445343018 0.0005418176879175007\n",
      "targets 0.6225000023841858 0.5071982145309448\n",
      "outputs 0.5002612471580505 0.00041718283318914473\n",
      "targets 0.5 0.5238320827484131\n",
      "outputs 0.5016652345657349 0.0026960927061736584\n",
      "targets 0.6225000023841858 0.5071982145309448\n",
      "outputs 0.5024268627166748 0.004008363466709852\n",
      "targets 0.3774999976158142 0.5071982145309448\n",
      "outputs 0.50299072265625 0.007171379402279854\n",
      "targets 0.3774999976158142 0.5071982145309448\n",
      "outputs 0.5011624097824097 0.00249351654201746\n",
      "targets 0.6225000023841858 0.5071982145309448\n",
      "outputs 0.5002509951591492 0.0003178433980792761\n",
      "targets 0.7940000295639038 0.43826931715011597\n",
      "Valid Step 8/8, valid_loss: 0.6984\n",
      "[Epoch Train: 11] loss: 0.6906, time: 37.00 s            \n",
      "[Epoch Valid: 11] loss: 0.6984, auc: 0.6207, time: 6.00 s\n",
      "EPOCH: 12\n"
     ]
    },
    {
     "data": {
      "application/vnd.jupyter.widget-view+json": {
       "model_id": "3764f05c7a1943d5a2d0ca3a833d960f",
       "version_major": 2,
       "version_minor": 0
      },
      "text/plain": [
       "HBox(children=(FloatProgress(value=0.0, max=66.0), HTML(value='')))"
      ]
     },
     "metadata": {},
     "output_type": "display_data"
    },
    {
     "name": "stdout",
     "output_type": "stream",
     "text": [
      "Train Step 66/66, train_loss: 0.6906\n"
     ]
    },
    {
     "data": {
      "application/vnd.jupyter.widget-view+json": {
       "model_id": "301a9e21831e4b8ab7d277ac382689f6",
       "version_major": 2,
       "version_minor": 0
      },
      "text/plain": [
       "HBox(children=(FloatProgress(value=0.0, max=8.0), HTML(value='')))"
      ]
     },
     "metadata": {},
     "output_type": "display_data"
    },
    {
     "name": "stdout",
     "output_type": "stream",
     "text": [
      "outputs 0.5295442342758179 0.04961930960416794\n",
      "targets 0.5 0.5238320827484131\n",
      "outputs 0.5013387203216553 0.001547585939988494\n",
      "targets 0.6225000023841858 0.5071982145309448\n",
      "outputs 0.5132846832275391 0.03649035841226578\n",
      "targets 0.5 0.5238320827484131\n",
      "outputs 0.5172414183616638 0.0389094240963459\n",
      "targets 0.6225000023841858 0.5071982145309448\n",
      "outputs 0.5150747895240784 0.025546370074152946\n",
      "targets 0.3774999976158142 0.5071982145309448\n",
      "outputs 0.5083448886871338 0.018029669299721718\n",
      "targets 0.3774999976158142 0.5071982145309448\n",
      "outputs 0.5036967992782593 0.005597791634500027\n",
      "targets 0.6225000023841858 0.5071982145309448\n",
      "outputs 0.5163646936416626 0.030723005533218384\n",
      "targets 0.7940000295639038 0.43826931715011597\n",
      "Valid Step 8/8, valid_loss: 0.6980\n",
      "[Epoch Train: 12] loss: 0.6906, time: 37.00 s            \n",
      "[Epoch Valid: 12] loss: 0.6980, auc: 0.5054, time: 6.00 s\n",
      "EPOCH: 13\n"
     ]
    },
    {
     "data": {
      "application/vnd.jupyter.widget-view+json": {
       "model_id": "5a71a6f577a0466dbb35db0b37859bac",
       "version_major": 2,
       "version_minor": 0
      },
      "text/plain": [
       "HBox(children=(FloatProgress(value=0.0, max=66.0), HTML(value='')))"
      ]
     },
     "metadata": {},
     "output_type": "display_data"
    },
    {
     "name": "stdout",
     "output_type": "stream",
     "text": [
      "Train Step 66/66, train_loss: 0.6915\n"
     ]
    },
    {
     "data": {
      "application/vnd.jupyter.widget-view+json": {
       "model_id": "7a6a6e3694304c318cdcdec9c0a884ec",
       "version_major": 2,
       "version_minor": 0
      },
      "text/plain": [
       "HBox(children=(FloatProgress(value=0.0, max=8.0), HTML(value='')))"
      ]
     },
     "metadata": {},
     "output_type": "display_data"
    },
    {
     "name": "stdout",
     "output_type": "stream",
     "text": [
      "outputs 0.5048075914382935 0.005751727614551783\n",
      "targets 0.5 0.5238320827484131\n",
      "outputs 0.5012933015823364 0.003569455584511161\n",
      "targets 0.6225000023841858 0.5071982145309448\n",
      "outputs 0.503078281879425 0.004978571552783251\n",
      "targets 0.5 0.5238320827484131\n",
      "outputs 0.518109917640686 0.028827136382460594\n",
      "targets 0.6225000023841858 0.5071982145309448\n",
      "outputs 0.505834698677063 0.008878542110323906\n",
      "targets 0.3774999976158142 0.5071982145309448\n",
      "outputs 0.5166992545127869 0.03855068236589432\n",
      "targets 0.3774999976158142 0.5071982145309448\n",
      "outputs 0.5126983523368835 0.02710782364010811\n",
      "targets 0.6225000023841858 0.5071982145309448\n",
      "outputs 0.5038346648216248 0.008437217213213444\n",
      "targets 0.7940000295639038 0.43826931715011597\n",
      "Valid Step 8/8, valid_loss: 0.6980\n",
      "[Epoch Train: 13] loss: 0.6915, time: 38.00 s            \n",
      "[Epoch Valid: 13] loss: 0.6980, auc: 0.6602, time: 6.00 s\n",
      "auc improved from 0.6591 to 0.6980. Saved model to '/home/RSNA_MICCAI_Brain_Tumor/models/FLAIR-e13-loss0.698-auc0.660.pth'\n",
      "EPOCH: 14\n"
     ]
    },
    {
     "data": {
      "application/vnd.jupyter.widget-view+json": {
       "model_id": "0639617dfe3f4795afa8cd96bb84f342",
       "version_major": 2,
       "version_minor": 0
      },
      "text/plain": [
       "HBox(children=(FloatProgress(value=0.0, max=66.0), HTML(value='')))"
      ]
     },
     "metadata": {},
     "output_type": "display_data"
    },
    {
     "name": "stdout",
     "output_type": "stream",
     "text": [
      "Train Step 4/66, train_loss: 0.7004\r"
     ]
    },
    {
     "data": {
      "application/vnd.jupyter.widget-view+json": {
       "model_id": "6336a0ecfb4a43888588b3f4908ca235",
       "version_major": 2,
       "version_minor": 0
      },
      "text/plain": [
       "HBox(children=(FloatProgress(value=0.0, max=8.0), HTML(value='')))"
      ]
     },
     "metadata": {},
     "output_type": "display_data"
    },
    {
     "name": "stdout",
     "output_type": "stream",
     "text": [
      "outputs 0.5096980333328247 0.013550641015172005\n",
      "targets 0.5 0.5238320827484131\n",
      "outputs 0.5057275891304016 0.016140181571245193\n",
      "targets 0.6225000023841858 0.5071982145309448\n",
      "outputs 0.51153564453125 0.021487843245267868\n",
      "targets 0.5 0.5238320827484131\n",
      "outputs 0.5288134217262268 0.039297934621572495\n",
      "targets 0.6225000023841858 0.5071982145309448\n",
      "outputs 0.5120646953582764 0.027333766222000122\n",
      "targets 0.3774999976158142 0.5071982145309448\n",
      "outputs 0.5267882347106934 0.043330226093530655\n",
      "targets 0.3774999976158142 0.5071982145309448\n",
      "outputs 0.5270794630050659 0.045195721089839935\n",
      "targets 0.6225000023841858 0.5071982145309448\n",
      "outputs 0.5136599540710449 0.030457621440291405\n",
      "targets 0.7940000295639038 0.43826931715011597\n",
      "Valid Step 8/8, valid_loss: 0.6970\n",
      "[Epoch Valid: 14] loss: 0.6970, auc: 0.6494, time: 8.00 s\n",
      "Train Step 8/66, train_loss: 0.6947\r"
     ]
    },
    {
     "data": {
      "application/vnd.jupyter.widget-view+json": {
       "model_id": "0105b3510700426a8ba79a1917c8b844",
       "version_major": 2,
       "version_minor": 0
      },
      "text/plain": [
       "HBox(children=(FloatProgress(value=0.0, max=8.0), HTML(value='')))"
      ]
     },
     "metadata": {},
     "output_type": "display_data"
    },
    {
     "name": "stdout",
     "output_type": "stream",
     "text": [
      "outputs 0.5 0.0\n",
      "targets 0.5 0.5238320827484131\n",
      "outputs 0.5 0.0 valid_loss: 0.7241\n",
      "targets 0.6225000023841858 0.5071982145309448\n",
      "outputs 0.5 0.0 valid_loss: 0.6935\n",
      "targets 0.5 0.5238320827484131\n",
      "outputs 0.5 0.0 valid_loss: 0.7037\n",
      "targets 0.6225000023841858 0.5071982145309448\n",
      "outputs 0.5 0.0 valid_loss: 0.6935\n",
      "targets 0.3774999976158142 0.5071982145309448\n",
      "outputs 0.5 0.0 valid_loss: 0.7118\n",
      "targets 0.3774999976158142 0.5071982145309448\n",
      "outputs 0.5 0.0 valid_loss: 0.7241\n",
      "targets 0.6225000023841858 0.5071982145309448\n",
      "outputs 0.5 0.0 valid_loss: 0.7153\n",
      "targets 0.7940000295639038 0.43826931715011597\n",
      "Valid Step 8/8, valid_loss: 0.6980\n",
      "[Epoch Valid: 14] loss: 0.6980, auc: 0.5000, time: 7.00 s\n",
      "Train Step 12/66, train_loss: 0.6942\r"
     ]
    },
    {
     "data": {
      "application/vnd.jupyter.widget-view+json": {
       "model_id": "344665a9e97d468c88b11eddf05d0035",
       "version_major": 2,
       "version_minor": 0
      },
      "text/plain": [
       "HBox(children=(FloatProgress(value=0.0, max=8.0), HTML(value='')))"
      ]
     },
     "metadata": {},
     "output_type": "display_data"
    },
    {
     "name": "stdout",
     "output_type": "stream",
     "text": [
      "outputs 0.5 0.0\n",
      "targets 0.5 0.5238320827484131\n",
      "outputs 0.5 0.0 valid_loss: 0.7241\n",
      "targets 0.6225000023841858 0.5071982145309448\n",
      "outputs 0.5 0.0 valid_loss: 0.6935\n",
      "targets 0.5 0.5238320827484131\n",
      "outputs 0.5 0.0 valid_loss: 0.7037\n",
      "targets 0.6225000023841858 0.5071982145309448\n",
      "outputs 0.5 0.0 valid_loss: 0.6935\n",
      "targets 0.3774999976158142 0.5071982145309448\n",
      "outputs 0.5 0.0 valid_loss: 0.7118\n",
      "targets 0.3774999976158142 0.5071982145309448\n",
      "outputs 0.5 0.0 valid_loss: 0.7241\n",
      "targets 0.6225000023841858 0.5071982145309448\n",
      "outputs 0.5 0.0 valid_loss: 0.7153\n",
      "targets 0.7940000295639038 0.43826931715011597\n",
      "Valid Step 8/8, valid_loss: 0.6980\n",
      "[Epoch Valid: 14] loss: 0.6980, auc: 0.5000, time: 7.00 s\n",
      "Train Step 16/66, train_loss: 0.6939\r"
     ]
    },
    {
     "data": {
      "application/vnd.jupyter.widget-view+json": {
       "model_id": "b201d87a7af649cf92b540cfc337c1ab",
       "version_major": 2,
       "version_minor": 0
      },
      "text/plain": [
       "HBox(children=(FloatProgress(value=0.0, max=8.0), HTML(value='')))"
      ]
     },
     "metadata": {},
     "output_type": "display_data"
    },
    {
     "name": "stdout",
     "output_type": "stream",
     "text": [
      "outputs 0.5000000596046448 1.6858739115832577e-07\n",
      "targets 0.5 0.5238320827484131\n",
      "outputs 0.5 7.300048565639372e-081\n",
      "targets 0.6225000023841858 0.5071982145309448\n",
      "outputs 0.5 1.5930011088016727e-08\n",
      "targets 0.5 0.5238320827484131\n",
      "outputs 0.5 0.0 valid_loss: 0.7037\n",
      "targets 0.6225000023841858 0.5071982145309448\n",
      "outputs 0.5 7.300048565639372e-085\n",
      "targets 0.3774999976158142 0.5071982145309448\n",
      "outputs 0.5 0.0 valid_loss: 0.7118\n",
      "targets 0.3774999976158142 0.5071982145309448\n",
      "outputs 0.5000003576278687 1.023619461193448e-06\n",
      "targets 0.6225000023841858 0.5071982145309448\n",
      "outputs 0.5 2.107342389479072e-083\n",
      "targets 0.7940000295639038 0.43826931715011597\n",
      "Valid Step 8/8, valid_loss: 0.6980\n",
      "[Epoch Valid: 14] loss: 0.6980, auc: 0.4924, time: 7.00 s\n",
      "Train Step 20/66, train_loss: 0.6938\r"
     ]
    },
    {
     "data": {
      "application/vnd.jupyter.widget-view+json": {
       "model_id": "35d14259dafd479889a3fae5cab3594b",
       "version_major": 2,
       "version_minor": 0
      },
      "text/plain": [
       "HBox(children=(FloatProgress(value=0.0, max=8.0), HTML(value='')))"
      ]
     },
     "metadata": {},
     "output_type": "display_data"
    },
    {
     "name": "stdout",
     "output_type": "stream",
     "text": [
      "outputs 0.5000080466270447 1.5214344784908462e-05\n",
      "targets 0.5 0.5238320827484131\n",
      "outputs 0.5000011920928955 1.983846232178621e-06\n",
      "targets 0.6225000023841858 0.5071982145309448\n",
      "outputs 0.5000021457672119 5.876900559087517e-06\n",
      "targets 0.5 0.5238320827484131\n",
      "outputs 0.5 1.5930011088016727e-08\n",
      "targets 0.6225000023841858 0.5071982145309448\n",
      "outputs 0.5000014305114746 3.973859293182613e-06\n",
      "targets 0.3774999976158142 0.5071982145309448\n",
      "outputs 0.5 1.5930011088016727e-08\n",
      "targets 0.3774999976158142 0.5071982145309448\n",
      "outputs 0.5000118017196655 3.278255098848604e-05\n",
      "targets 0.6225000023841858 0.5071982145309448\n",
      "outputs 0.5000003576278687 7.419920393658685e-07\n",
      "targets 0.7940000295639038 0.43826931715011597\n",
      "Valid Step 8/8, valid_loss: 0.6980\n",
      "[Epoch Valid: 14] loss: 0.6980, auc: 0.4648, time: 7.00 s\n",
      "Train Step 24/66, train_loss: 0.6937\r"
     ]
    },
    {
     "data": {
      "application/vnd.jupyter.widget-view+json": {
       "model_id": "57c65455ef18413493d01cccdf62f957",
       "version_major": 2,
       "version_minor": 0
      },
      "text/plain": [
       "HBox(children=(FloatProgress(value=0.0, max=8.0), HTML(value='')))"
      ]
     },
     "metadata": {},
     "output_type": "display_data"
    },
    {
     "name": "stdout",
     "output_type": "stream",
     "text": [
      "outputs 0.5004087686538696 0.0010780284646898508\n",
      "targets 0.5 0.5238320827484131\n",
      "outputs 0.5000414848327637 6.108498200774193e-05\n",
      "targets 0.6225000023841858 0.5071982145309448\n",
      "outputs 0.5000316500663757 7.773684774292633e-05\n",
      "targets 0.5 0.5238320827484131\n",
      "outputs 0.5000002384185791 3.846363938464492e-07\n",
      "targets 0.6225000023841858 0.5071982145309448\n",
      "outputs 0.5000137090682983 3.855840259348042e-05\n",
      "targets 0.3774999976158142 0.5071982145309448\n",
      "outputs 0.5000014305114746 3.328190814499976e-06\n",
      "targets 0.3774999976158142 0.5071982145309448\n",
      "outputs 0.5000573396682739 0.00011411662853788584\n",
      "targets 0.6225000023841858 0.5071982145309448\n",
      "outputs 0.5000036358833313 7.953914973768406e-06\n",
      "targets 0.7940000295639038 0.43826931715011597\n",
      "Valid Step 8/8, valid_loss: 0.6981\n",
      "[Epoch Valid: 14] loss: 0.6981, auc: 0.3750, time: 7.00 s\n",
      "Train Step 28/66, train_loss: 0.6936\r"
     ]
    },
    {
     "data": {
      "application/vnd.jupyter.widget-view+json": {
       "model_id": "dff10f60abdd4ff0bb49ab9665c27301",
       "version_major": 2,
       "version_minor": 0
      },
      "text/plain": [
       "HBox(children=(FloatProgress(value=0.0, max=8.0), HTML(value='')))"
      ]
     },
     "metadata": {},
     "output_type": "display_data"
    },
    {
     "name": "stdout",
     "output_type": "stream",
     "text": [
      "outputs 0.5000756978988647 0.00015842406719457358\n",
      "targets 0.5 0.5238320827484131\n",
      "outputs 0.5003214478492737 0.0005638462025672197\n",
      "targets 0.6225000023841858 0.5071982145309448\n",
      "outputs 0.5000999569892883 0.00018610931874718517\n",
      "targets 0.5 0.5238320827484131\n",
      "outputs 0.5000094175338745 2.082491118926555e-05\n",
      "targets 0.6225000023841858 0.5071982145309448\n",
      "outputs 0.5000563859939575 0.0001334854168817401\n",
      "targets 0.3774999976158142 0.5071982145309448\n",
      "outputs 0.5000290870666504 7.047394319670275e-05\n",
      "targets 0.3774999976158142 0.5071982145309448\n",
      "outputs 0.5001351833343506 0.00016685387527104467\n",
      "targets 0.6225000023841858 0.5071982145309448\n",
      "outputs 0.5000391602516174 4.435087976162322e-05\n",
      "targets 0.7940000295639038 0.43826931715011597\n",
      "Valid Step 8/8, valid_loss: 0.6981\n",
      "[Epoch Valid: 14] loss: 0.6981, auc: 0.3804, time: 7.00 s\n",
      "Train Step 32/66, train_loss: 0.6936\r"
     ]
    },
    {
     "data": {
      "application/vnd.jupyter.widget-view+json": {
       "model_id": "f7049fd3b1bf4af5ae4141e6d2c2a58a",
       "version_major": 2,
       "version_minor": 0
      },
      "text/plain": [
       "HBox(children=(FloatProgress(value=0.0, max=8.0), HTML(value='')))"
      ]
     },
     "metadata": {},
     "output_type": "display_data"
    },
    {
     "name": "stdout",
     "output_type": "stream",
     "text": [
      "outputs 0.5000755786895752 0.00013464798394124955\n",
      "targets 0.5 0.5238320827484131\n",
      "outputs 0.500314474105835 0.0004432624264154583\n",
      "targets 0.6225000023841858 0.5071982145309448\n",
      "outputs 0.5001310110092163 0.0002348187699681148\n",
      "targets 0.5 0.5238320827484131\n",
      "outputs 0.5000627040863037 0.00015484738105442375\n",
      "targets 0.6225000023841858 0.5071982145309448\n",
      "outputs 0.5000690221786499 0.00014651069068349898\n",
      "targets 0.3774999976158142 0.5071982145309448\n",
      "outputs 0.5000372529029846 7.000084588071331e-05\n",
      "targets 0.3774999976158142 0.5071982145309448\n",
      "outputs 0.5001126527786255 0.00015243282541632652\n",
      "targets 0.6225000023841858 0.5071982145309448\n",
      "outputs 0.5002819895744324 0.0002993045200128108\n",
      "targets 0.7940000295639038 0.43826931715011597\n",
      "Valid Step 8/8, valid_loss: 0.6981\n",
      "[Epoch Valid: 14] loss: 0.6981, auc: 0.4134, time: 7.00 s\n",
      "Train Step 36/66, train_loss: 0.6935\r"
     ]
    },
    {
     "data": {
      "application/vnd.jupyter.widget-view+json": {
       "model_id": "792feceb1a114931a643f5dec848a1fe",
       "version_major": 2,
       "version_minor": 0
      },
      "text/plain": [
       "HBox(children=(FloatProgress(value=0.0, max=8.0), HTML(value='')))"
      ]
     },
     "metadata": {},
     "output_type": "display_data"
    },
    {
     "name": "stdout",
     "output_type": "stream",
     "text": [
      "outputs 0.5000802874565125 0.00013119597861077636\n",
      "targets 0.5 0.5238320827484131\n",
      "outputs 0.5001644492149353 0.0001732856035232544\n",
      "targets 0.6225000023841858 0.5071982145309448\n",
      "outputs 0.5000611543655396 9.99109324766323e-05\n",
      "targets 0.5 0.5238320827484131\n",
      "outputs 0.5000826120376587 0.0001959138608071953\n",
      "targets 0.6225000023841858 0.5071982145309448\n",
      "outputs 0.5000371932983398 9.613552538212389e-05\n",
      "targets 0.3774999976158142 0.5071982145309448\n",
      "outputs 0.5000295639038086 6.803798896726221e-05\n",
      "targets 0.3774999976158142 0.5071982145309448\n",
      "outputs 0.5000475645065308 6.542253686347976e-05\n",
      "targets 0.6225000023841858 0.5071982145309448\n",
      "outputs 0.5004302859306335 0.0006405581953004003\n",
      "targets 0.7940000295639038 0.43826931715011597\n",
      "Valid Step 8/8, valid_loss: 0.6980\n",
      "[Epoch Valid: 14] loss: 0.6980, auc: 0.4459, time: 7.00 s\n",
      "Train Step 40/66, train_loss: 0.6934\r"
     ]
    },
    {
     "data": {
      "application/vnd.jupyter.widget-view+json": {
       "model_id": "e00cf9ea817e422083186aea88d4d494",
       "version_major": 2,
       "version_minor": 0
      },
      "text/plain": [
       "HBox(children=(FloatProgress(value=0.0, max=8.0), HTML(value='')))"
      ]
     },
     "metadata": {},
     "output_type": "display_data"
    },
    {
     "name": "stdout",
     "output_type": "stream",
     "text": [
      "outputs 0.5002061128616333 0.00035328668309375644\n",
      "targets 0.5 0.5238320827484131\n",
      "outputs 0.500312328338623 0.00032053919858299196\n",
      "targets 0.6225000023841858 0.5071982145309448\n",
      "outputs 0.5001006126403809 0.00014881891547702253\n",
      "targets 0.5 0.5238320827484131\n",
      "outputs 0.5002288818359375 0.0005324030062183738\n",
      "targets 0.6225000023841858 0.5071982145309448\n",
      "outputs 0.5000650882720947 0.00017065614520106465\n",
      "targets 0.3774999976158142 0.5071982145309448\n",
      "outputs 0.5000741481781006 0.00018886140605900437\n",
      "targets 0.3774999976158142 0.5071982145309448\n",
      "outputs 0.5001018047332764 0.00018748354341369122\n",
      "targets 0.6225000023841858 0.5071982145309448\n",
      "outputs 0.5014782547950745 0.0026326740626245737\n",
      "targets 0.7940000295639038 0.43826931715011597\n",
      "Valid Step 8/8, valid_loss: 0.6980\n",
      "[Epoch Valid: 14] loss: 0.6980, auc: 0.4692, time: 7.00 s\n",
      "Train Step 44/66, train_loss: 0.6931\r"
     ]
    },
    {
     "data": {
      "application/vnd.jupyter.widget-view+json": {
       "model_id": "3ccf090ce75843c595f2a6246fbd87c4",
       "version_major": 2,
       "version_minor": 0
      },
      "text/plain": [
       "HBox(children=(FloatProgress(value=0.0, max=8.0), HTML(value='')))"
      ]
     },
     "metadata": {},
     "output_type": "display_data"
    },
    {
     "name": "stdout",
     "output_type": "stream",
     "text": [
      "outputs 0.526672899723053 0.060973718762397766\n",
      "targets 0.5 0.5238320827484131\n",
      "outputs 0.5037518739700317 0.006600319407880306\n",
      "targets 0.6225000023841858 0.5071982145309448\n",
      "outputs 0.5074334740638733 0.02049950323998928\n",
      "targets 0.5 0.5238320827484131\n",
      "outputs 0.5000147819519043 2.4022772777243517e-05\n",
      "targets 0.6225000023841858 0.5071982145309448\n",
      "outputs 0.502579927444458 0.007296558935195208\n",
      "targets 0.3774999976158142 0.5071982145309448\n",
      "outputs 0.5000476837158203 0.00011450397141743451\n",
      "targets 0.3774999976158142 0.5071982145309448\n",
      "outputs 0.5120195150375366 0.027316492050886154\n",
      "targets 0.6225000023841858 0.5071982145309448\n",
      "outputs 0.500424861907959 0.0009496991406194866\n",
      "targets 0.7940000295639038 0.43826931715011597\n",
      "Valid Step 8/8, valid_loss: 0.7008\n",
      "[Epoch Valid: 14] loss: 0.7008, auc: 0.3815, time: 7.00 s\n",
      "Train Step 48/66, train_loss: 0.6931\r"
     ]
    },
    {
     "data": {
      "application/vnd.jupyter.widget-view+json": {
       "model_id": "43054d0c5cce40c49aeae31aa37d7596",
       "version_major": 2,
       "version_minor": 0
      },
      "text/plain": [
       "HBox(children=(FloatProgress(value=0.0, max=8.0), HTML(value='')))"
      ]
     },
     "metadata": {},
     "output_type": "display_data"
    },
    {
     "name": "stdout",
     "output_type": "stream",
     "text": [
      "outputs 0.5000000596046448 2.0524383614883845e-07\n",
      "targets 0.5 0.5238320827484131\n",
      "outputs 0.5 1.5930011088016727e-08\n",
      "targets 0.6225000023841858 0.5071982145309448\n",
      "outputs 0.5 0.0 valid_loss: 0.6935\n",
      "targets 0.5 0.5238320827484131\n",
      "outputs 0.5 0.0 valid_loss: 0.7037\n",
      "targets 0.6225000023841858 0.5071982145309448\n",
      "outputs 0.5 3.902039935610446e-085\n",
      "targets 0.3774999976158142 0.5071982145309448\n",
      "outputs 0.5 0.0 valid_loss: 0.7118\n",
      "targets 0.3774999976158142 0.5071982145309448\n",
      "outputs 0.5000022649765015 6.394287538569188e-06\n",
      "targets 0.6225000023841858 0.5071982145309448\n",
      "outputs 0.5 0.0 valid_loss: 0.7153\n",
      "targets 0.7940000295639038 0.43826931715011597\n",
      "Valid Step 8/8, valid_loss: 0.6980\n",
      "[Epoch Valid: 14] loss: 0.6980, auc: 0.4946, time: 7.00 s\n",
      "Train Step 52/66, train_loss: 0.6931\r"
     ]
    },
    {
     "data": {
      "application/vnd.jupyter.widget-view+json": {
       "model_id": "1e6755cb2da24570b149c3cb82cc7109",
       "version_major": 2,
       "version_minor": 0
      },
      "text/plain": [
       "HBox(children=(FloatProgress(value=0.0, max=8.0), HTML(value='')))"
      ]
     },
     "metadata": {},
     "output_type": "display_data"
    },
    {
     "name": "stdout",
     "output_type": "stream",
     "text": [
      "outputs 0.5 0.0\n",
      "targets 0.5 0.5238320827484131\n",
      "outputs 0.5 0.0 valid_loss: 0.7241\n",
      "targets 0.6225000023841858 0.5071982145309448\n",
      "outputs 0.5 0.0 valid_loss: 0.6935\n",
      "targets 0.5 0.5238320827484131\n",
      "outputs 0.5 0.0 valid_loss: 0.7037\n",
      "targets 0.6225000023841858 0.5071982145309448\n",
      "outputs 0.5 0.0 valid_loss: 0.6935\n",
      "targets 0.3774999976158142 0.5071982145309448\n",
      "outputs 0.5 0.0 valid_loss: 0.7118\n",
      "targets 0.3774999976158142 0.5071982145309448\n",
      "outputs 0.5 0.0 valid_loss: 0.7241\n",
      "targets 0.6225000023841858 0.5071982145309448\n",
      "outputs 0.5 0.0 valid_loss: 0.7153\n",
      "targets 0.7940000295639038 0.43826931715011597\n",
      "Valid Step 8/8, valid_loss: 0.6980\n",
      "[Epoch Valid: 14] loss: 0.6980, auc: 0.5000, time: 7.00 s\n",
      "Train Step 56/66, train_loss: 0.6931\r"
     ]
    }
   ],
   "source": [
    "modelfiles = None\n",
    "\n",
    "if not modelfiles:\n",
    "    modelfiles = [train_mri_type(df_train, df_valid, m) for m in cfg.mri_types]\n",
    "    print(modelfiles)"
   ]
  },
  {
   "cell_type": "markdown",
   "id": "375c1a78-031a-47d4-ad5c-d0d4c55aa6ff",
   "metadata": {},
   "source": [
    "## Predict Function"
   ]
  },
  {
   "cell_type": "code",
   "execution_count": null,
   "id": "fce99aae-a8d8-457c-82b6-c370be8479a2",
   "metadata": {},
   "outputs": [],
   "source": [
    "def predict(modelfile, df, mri_type, split):\n",
    "    print(\"Predict:\", modelfile, mri_type, df.shape)\n",
    "    df.loc[:,\"MRI_Type\"] = mri_type\n",
    "    data_retriever = Dataset(\n",
    "        df.index.values, \n",
    "        mri_type=df[\"MRI_Type\"].values,\n",
    "        split=split\n",
    "    )\n",
    "\n",
    "    data_loader = torch_data.DataLoader(\n",
    "        data_retriever,\n",
    "        batch_size=cfg.batch_size,\n",
    "        shuffle=False,\n",
    "        num_workers=8,\n",
    "    )\n",
    "   \n",
    "    model = create_model()\n",
    "    \n",
    "    checkpoint = torch.load(modelfile)\n",
    "    model.load_state_dict(checkpoint[\"model_state_dict\"])\n",
    "    model.eval()\n",
    "    \n",
    "    y_pred = []\n",
    "    ids = []\n",
    "\n",
    "    for e, batch in enumerate(data_loader,1):\n",
    "        print(f\"{e}/{len(data_loader)}\", end=\"\\r\")\n",
    "        with torch.no_grad():\n",
    "            tmp_pred = model(batch[\"X\"].to(cfg.device)).cpu().numpy().squeeze()\n",
    "            print('tmp_pred', tmp_pred)\n",
    "            if tmp_pred.size == 1:\n",
    "                y_pred.append(tmp_pred)\n",
    "            else:\n",
    "                y_pred.extend(tmp_pred.tolist())\n",
    "            ids.extend(batch[\"id\"].numpy().tolist())\n",
    "            \n",
    "    preddf = pd.DataFrame({\"BraTS21ID\": ids, \"MGMT_value\": y_pred}) \n",
    "    preddf = preddf.set_index(\"BraTS21ID\")\n",
    "    return preddf"
   ]
  },
  {
   "cell_type": "markdown",
   "id": "16cb658c-ec2a-4854-9ddd-d1b21f1af23b",
   "metadata": {},
   "source": [
    "### Ensemble for Validation"
   ]
  },
  {
   "cell_type": "code",
   "execution_count": null,
   "id": "8771772d-7171-40bb-ae18-4b820519a5e8",
   "metadata": {},
   "outputs": [],
   "source": [
    "df_valid = df_valid.set_index(\"BraTS21ID\")"
   ]
  },
  {
   "cell_type": "code",
   "execution_count": null,
   "id": "e7fa9705-3b2b-49bf-bc72-f9ebc849c264",
   "metadata": {},
   "outputs": [],
   "source": [
    "def normalize_results(preds, train):\n",
    "    return (preds - (preds.mean() - train.mean()))"
   ]
  },
  {
   "cell_type": "code",
   "execution_count": null,
   "id": "a39e8f7c-e055-4a78-9a54-aa2e169cf459",
   "metadata": {},
   "outputs": [],
   "source": [
    "df_valid[\"MGMT_pred\"] = 0\n",
    "for m, mtype in zip(modelfiles,  cfg.mri_types):\n",
    "    pred = predict(m, df_valid, mtype, \"train\")\n",
    "    df_valid[\"MGMT_pred\"] += pred[\"MGMT_value\"]\n",
    "df_valid[\"MGMT_pred\"] /= len(modelfiles)\n",
    "auc = roc_auc_score(df_valid[\"MGMT_value\"], df_valid[\"MGMT_pred\"])\n",
    "print(f\"Validation ensemble AUC: {auc:.4f}\")\n",
    "sns.displot(df_valid[\"MGMT_pred\"])"
   ]
  },
  {
   "cell_type": "code",
   "execution_count": null,
   "id": "a1a4351f-8500-436f-9396-6175c56e8af2",
   "metadata": {},
   "outputs": [],
   "source": []
  }
 ],
 "metadata": {
  "kernelspec": {
   "display_name": "Python 3",
   "language": "python",
   "name": "python3"
  },
  "language_info": {
   "codemirror_mode": {
    "name": "ipython",
    "version": 3
   },
   "file_extension": ".py",
   "mimetype": "text/x-python",
   "name": "python",
   "nbconvert_exporter": "python",
   "pygments_lexer": "ipython3",
   "version": "3.8.5"
  }
 },
 "nbformat": 4,
 "nbformat_minor": 5
}
