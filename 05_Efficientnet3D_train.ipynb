{
 "cells": [
  {
   "cell_type": "code",
   "execution_count": null,
   "id": "72117177-df3f-4363-a641-da66a457edf3",
   "metadata": {},
   "outputs": [],
   "source": [
    "# !pip install pydicom"
   ]
  },
  {
   "cell_type": "code",
   "execution_count": null,
   "id": "c33b20de-fe4a-4b0d-bc34-4279cfb9ef3c",
   "metadata": {},
   "outputs": [],
   "source": [
    "# !pip install git+https://github.com/shijianjian/EfficientNet-PyTorch-3D"
   ]
  },
  {
   "cell_type": "code",
   "execution_count": null,
   "id": "843d4d05-0d96-415e-87fa-c6f3e8d8c9f9",
   "metadata": {},
   "outputs": [],
   "source": [
    "# !pip install --upgrade https://github.com/VincentStimper/mclahe/archive/numpy.zip"
   ]
  },
  {
   "cell_type": "code",
   "execution_count": 1,
   "id": "44c5d7f0-ba25-4c0d-bd2f-0b1e48ef8f55",
   "metadata": {},
   "outputs": [],
   "source": [
    "import os\n",
    "import sys \n",
    "import json\n",
    "import glob\n",
    "import random\n",
    "import collections\n",
    "import time\n",
    "\n",
    "import numpy as np\n",
    "import pandas as pd\n",
    "import pydicom\n",
    "import cv2\n",
    "import matplotlib.pyplot as plt\n",
    "import seaborn as sns\n",
    "\n",
    "import torch\n",
    "from torch import nn\n",
    "from torch.utils import data as torch_data\n",
    "from sklearn import model_selection as sk_model_selection\n",
    "from torch.nn import functional as torch_functional\n",
    "import torch.nn.functional as F\n",
    "\n",
    "from sklearn.model_selection import StratifiedKFold\n",
    "from sklearn.metrics import roc_auc_score\n",
    "\n",
    "from pathlib import Path\n",
    "from efficientnet_pytorch_3d import EfficientNet3D\n",
    "\n",
    "from tqdm.notebook import tqdm\n",
    "\n",
    "import mclahe as mc"
   ]
  },
  {
   "cell_type": "code",
   "execution_count": null,
   "id": "74596712-6d6f-4683-85fe-4a5997117a7d",
   "metadata": {},
   "outputs": [],
   "source": [
    "class Config():\n",
    "    epochs = 15\n",
    "    batch_size = 8\n",
    "    base_path = Path('/home/RSNA_MICCAI_Brain_Tumor/data')\n",
    "    assert base_path.exists()\n",
    "    models_path = Path('/home/RSNA_MICCAI_Brain_Tumor/models')\n",
    "    assert models_path.exists()\n",
    "    seed = 42\n",
    "    num_workers = 7\n",
    "    test_size = 0.1\n",
    "    model_name = 'efficientnet3d-0'\n",
    "    clahe = False\n",
    "    \n",
    "cfg = Config()"
   ]
  },
  {
   "cell_type": "code",
   "execution_count": null,
   "id": "6f7b5414-6108-42cc-8c59-f77b4b22386a",
   "metadata": {},
   "outputs": [],
   "source": [
    "if os.path.exists(cfg.base_path):\n",
    "    data_directory = cfg.base_path\n",
    "else:\n",
    "    assert False, \"data_directory does not exist\"\n",
    "    \n",
    "# mri_types = ['FLAIR']\n",
    "mri_types = ['FLAIR','T1w','T1wCE','T2w']\n",
    "SIZE = 256\n",
    "NUM_IMAGES = 64"
   ]
  },
  {
   "cell_type": "markdown",
   "id": "4dd6e771-9bbb-4c33-9025-28f3a3852827",
   "metadata": {},
   "source": [
    "### Functions to load images"
   ]
  },
  {
   "cell_type": "code",
   "execution_count": 4,
   "id": "467615c8-3644-41c9-87c6-725fcd8675f8",
   "metadata": {},
   "outputs": [],
   "source": [
    "# manual transformations\n",
    "def brightness(X, gamma_factor = 0.35):\n",
    "    \"\"\"\n",
    "    Changing the brighness of a image using power-law gamma transformation.\n",
    "    Gain and gamma are chosen randomly for each image channel.\n",
    "    \n",
    "    Gain chosen between [0.8 - 1.2]\n",
    "    Gamma chosen between [0.8 - 1.2]\n",
    "    \n",
    "    new_im = gain * im^gamma\n",
    "    \"\"\"\n",
    "    \n",
    "    X_new = np.zeros(X.shape)\n",
    "    gain, gamma = (1.2 - gamma_factor) * np.random.random_sample(2,) + gamma_factor\n",
    "    for c in range(X.shape[-1]):\n",
    "        im = X[:,:,:,c]        \n",
    "        im_new = np.sign(im)*gain*(np.abs(im)**gamma)\n",
    "        X_new[:,:,:,c] = im_new \n",
    "    \n",
    "    return X_new\n",
    "\n",
    "def flip3D(X):\n",
    "    \"\"\"\n",
    "    Flip the 3D image respect one of the 3 axis chosen randomly\n",
    "    \"\"\"\n",
    "    choice = np.random.randint(4)\n",
    "    if choice == 0: # flip on x\n",
    "        X_flip = X[::-1, :, :, :]\n",
    "    elif choice == 1: # flip on y\n",
    "        X_flip = X[:, ::-1, :, :]\n",
    "    elif choice == 2: # flip on z\n",
    "        X_flip = X[:, :, ::-1, :]\n",
    "    else:\n",
    "        X_flip = X\n",
    "        \n",
    "    return np.flip(X_flip,axis=0).copy()"
   ]
  },
  {
   "cell_type": "code",
   "execution_count": 57,
   "id": "07ebc209-c89b-4e98-8266-e8daedfd0e02",
   "metadata": {},
   "outputs": [],
   "source": [
    "def load_dicom_image(path, img_size=SIZE, clahe=False):\n",
    "    dicom = pydicom.read_file(path)\n",
    "    data = dicom.pixel_array\n",
    "    max_data = np.max(data)\n",
    "    min_data = np.min(data)\n",
    "    if min_data == max_data:\n",
    "        data = np.zeros((img_size,img_size))\n",
    "        return data\n",
    "    data = data - min_data\n",
    "    if max_data != 0:\n",
    "        data = data / (max_data - min_data) \n",
    "    \n",
    "    #data = (data * 255).astype(np.uint8)\n",
    "    data = cv2.resize(data, (img_size, img_size))\n",
    "    return data\n",
    "\n",
    "def convert_vertical(x, size=224):\n",
    "    x = np.moveaxis(x, -1, 0)\n",
    "    X_new = np.zeros([size, size, size])\n",
    "    for c in range(x.shape[-1]):\n",
    "        im = x[:,:,c]\n",
    "        X_new[:,:,c] = cv2.resize(im, [size, size])\n",
    "    return X_new\n",
    "\n",
    "def load_dicom_images_3d(scan_id, num_imgs=NUM_IMAGES, img_size=SIZE, mri_type=\"FLAIR\", split=\"train\", clahe=False, convert_vertical_flag=True):\n",
    "\n",
    "    files = sorted(glob.glob(f\"{data_directory}/{split}/{scan_id}/{mri_type}/*.dcm\"))\n",
    "    \n",
    "    middle = len(files)//2\n",
    "    num_imgs2 = num_imgs//2\n",
    "    p1 = max(0, middle - num_imgs2)\n",
    "    p2 = min(len(files), middle + num_imgs2)\n",
    "    img3d = np.stack([load_dicom_image(f, clahe=clahe) for f in files[p1:p2]]).T \n",
    "    if img3d.shape[-1] < num_imgs:\n",
    "        n_zero = np.zeros((img_size, img_size, num_imgs - img3d.shape[-1]))\n",
    "        img3d = np.concatenate((img3d,  n_zero), axis = -1)\n",
    "    img3d = img3d[:,:,:]\n",
    "    # Transforms\n",
    "#     img3d = flip3D(brightness(img3d))\n",
    "#     if convert_vertical_flag:\n",
    "#         img3d_vert = convert_vertical(img3d, size=img3d.shape[0])\n",
    "#         img3d = np.concatenate([img3d, img3d_vert], axis=-1)\n",
    "    return np.expand_dims(img3d[:,:,:], 0)\n",
    "\n"
   ]
  },
  {
   "cell_type": "code",
   "execution_count": 58,
   "id": "427422d7-114d-410b-bf05-d5642dbe92bd",
   "metadata": {},
   "outputs": [
    {
     "data": {
      "text/plain": [
       "(1, 256, 256, 64)"
      ]
     },
     "execution_count": 58,
     "metadata": {},
     "output_type": "execute_result"
    }
   ],
   "source": [
    "sample_image_0 = load_dicom_images_3d(\"00000\", convert_vertical_flag=True)\n",
    "sample_image_0.shape"
   ]
  },
  {
   "cell_type": "code",
   "execution_count": 59,
   "id": "c429f314-9160-4444-8f40-335e39759baa",
   "metadata": {},
   "outputs": [],
   "source": [
    "# sample_image_1 = load_dicom_images_3d(\"00000\", convert_vertical_flag=True)\n",
    "# sample_image_1.shape"
   ]
  },
  {
   "cell_type": "code",
   "execution_count": 60,
   "id": "a1bf3da1-0e78-46d8-9e87-f904b020c7a0",
   "metadata": {},
   "outputs": [
    {
     "data": {
      "text/plain": [
       "<matplotlib.image.AxesImage at 0x7fd2a8cfab50>"
      ]
     },
     "execution_count": 60,
     "metadata": {},
     "output_type": "execute_result"
    },
    {
     "data": {
      "image/png": "[encoded data removed]",
      "text/plain": [
       "<Figure size 432x288 with 1 Axes>"
      ]
     },
     "metadata": {
      "needs_background": "light"
     },
     "output_type": "display_data"
    }
   ],
   "source": [
    "plt.imshow(sample_image_0[:,:,:,12].squeeze())"
   ]
  },
  {
   "cell_type": "code",
   "execution_count": 84,
   "id": "cf5bfe1d-1f17-4a20-ba3c-6ec6b04f7c9c",
   "metadata": {},
   "outputs": [
    {
     "data": {
      "text/plain": [
       "(-0.5, 255.5, 255.5, -0.5)"
      ]
     },
     "execution_count": 84,
     "metadata": {},
     "output_type": "execute_result"
    },
    {
     "data": {
      "image/png": "[encoded data removed]",
      "text/plain": [
       "<Figure size 720x504 with 1 Axes>"
      ]
     },
     "metadata": {
      "needs_background": "light"
     },
     "output_type": "display_data"
    }
   ],
   "source": [
    "sample_image = load_dicom_images_3d(\"00000\")\n",
    "sample_slice = sample_image.squeeze()[:,:,33]\n",
    "plt.figure(figsize=(10, 7))\n",
    "plt.imshow(sample_slice)\n",
    "plt.axis('off')"
   ]
  },
  {
   "cell_type": "code",
   "execution_count": 87,
   "id": "7b51b3d9-0a1b-47a6-af0e-e32a51df584f",
   "metadata": {},
   "outputs": [
    {
     "data": {
      "text/plain": [
       "(-0.5, 255.5, 255.5, -0.5)"
      ]
     },
     "execution_count": 87,
     "metadata": {},
     "output_type": "execute_result"
    },
    {
     "data": {
      "image/png": "[encoded data removed]",
      "text/plain": [
       "<Figure size 720x504 with 1 Axes>"
      ]
     },
     "metadata": {
      "needs_background": "light"
     },
     "output_type": "display_data"
    }
   ],
   "source": [
    "sample_image = load_dicom_images_3d(\"00003\")\n",
    "sample_slice = sample_image.squeeze()[:,:,31]\n",
    "plt.figure(figsize=(10, 7))\n",
    "plt.imshow(sample_slice)\n",
    "plt.axis('off')"
   ]
  },
  {
   "cell_type": "code",
   "execution_count": 88,
   "id": "04e048fb-00af-4fba-9739-a0d0bf94610e",
   "metadata": {},
   "outputs": [
    {
     "data": {
      "text/plain": [
       "(-0.5, 255.5, 255.5, -0.5)"
      ]
     },
     "execution_count": 88,
     "metadata": {},
     "output_type": "execute_result"
    },
    {
     "data": {
      "image/png": "[encoded data removed]",
      "text/plain": [
       "<Figure size 720x504 with 1 Axes>"
      ]
     },
     "metadata": {
      "needs_background": "light"
     },
     "output_type": "display_data"
    }
   ],
   "source": [
    "sample_image = load_dicom_images_3d(\"00006\")\n",
    "sample_slice = sample_image.squeeze()[:,:,40]\n",
    "plt.figure(figsize=(10, 7))\n",
    "plt.imshow(sample_slice)\n",
    "plt.axis('off')"
   ]
  },
  {
   "cell_type": "code",
   "execution_count": 89,
   "id": "b5ac59ed-8eba-4bb4-a1b5-da9a88ab513c",
   "metadata": {},
   "outputs": [],
   "source": [
    "def set_seed(seed):\n",
    "    random.seed(seed)\n",
    "    os.environ[\"PYTHONHASHSEED\"] = str(seed)\n",
    "    np.random.seed(seed)\n",
    "    torch.manual_seed(seed)\n",
    "    if torch.cuda.is_available():\n",
    "        torch.cuda.manual_seed_all(seed)\n",
    "        torch.backends.cudnn.deterministic = True\n",
    "\n",
    "set_seed(cfg.seed)"
   ]
  },
  {
   "cell_type": "markdown",
   "id": "3d6e1a77-ceea-4ab9-b78a-ea23ee7ee1c4",
   "metadata": {},
   "source": [
    "### train / test splits"
   ]
  },
  {
   "cell_type": "code",
   "execution_count": 90,
   "id": "9b5e5c3a-6723-4b92-9d58-0b3563e077ce",
   "metadata": {},
   "outputs": [],
   "source": [
    "test_df = pd.read_csv(f\"{data_directory}/sample_submission.csv\", index_col=\"BraTS21ID\")"
   ]
  },
  {
   "cell_type": "code",
   "execution_count": 91,
   "id": "2ff0827d-a136-4e01-a820-1986230cc2d7",
   "metadata": {},
   "outputs": [
    {
     "data": {
      "text/html": [
       "<div>\n",
       "<style scoped>\n",
       "    .dataframe tbody tr th:only-of-type {\n",
       "        vertical-align: middle;\n",
       "    }\n",
       "\n",
       "    .dataframe tbody tr th {\n",
       "        vertical-align: top;\n",
       "    }\n",
       "\n",
       "    .dataframe thead th {\n",
       "        text-align: right;\n",
       "    }\n",
       "</style>\n",
       "<table border=\"1\" class=\"dataframe\">\n",
       "  <thead>\n",
       "    <tr style=\"text-align: right;\">\n",
       "      <th></th>\n",
       "      <th>MGMT_value</th>\n",
       "    </tr>\n",
       "    <tr>\n",
       "      <th>BraTS21ID</th>\n",
       "      <th></th>\n",
       "    </tr>\n",
       "  </thead>\n",
       "  <tbody>\n",
       "    <tr>\n",
       "      <th>1</th>\n",
       "      <td>0.5</td>\n",
       "    </tr>\n",
       "    <tr>\n",
       "      <th>13</th>\n",
       "      <td>0.5</td>\n",
       "    </tr>\n",
       "    <tr>\n",
       "      <th>15</th>\n",
       "      <td>0.5</td>\n",
       "    </tr>\n",
       "    <tr>\n",
       "      <th>27</th>\n",
       "      <td>0.5</td>\n",
       "    </tr>\n",
       "    <tr>\n",
       "      <th>37</th>\n",
       "      <td>0.5</td>\n",
       "    </tr>\n",
       "    <tr>\n",
       "      <th>...</th>\n",
       "      <td>...</td>\n",
       "    </tr>\n",
       "    <tr>\n",
       "      <th>826</th>\n",
       "      <td>0.5</td>\n",
       "    </tr>\n",
       "    <tr>\n",
       "      <th>829</th>\n",
       "      <td>0.5</td>\n",
       "    </tr>\n",
       "    <tr>\n",
       "      <th>833</th>\n",
       "      <td>0.5</td>\n",
       "    </tr>\n",
       "    <tr>\n",
       "      <th>997</th>\n",
       "      <td>0.5</td>\n",
       "    </tr>\n",
       "    <tr>\n",
       "      <th>1006</th>\n",
       "      <td>0.5</td>\n",
       "    </tr>\n",
       "  </tbody>\n",
       "</table>\n",
       "<p>87 rows × 1 columns</p>\n",
       "</div>"
      ],
      "text/plain": [
       "           MGMT_value\n",
       "BraTS21ID            \n",
       "1                 0.5\n",
       "13                0.5\n",
       "15                0.5\n",
       "27                0.5\n",
       "37                0.5\n",
       "...               ...\n",
       "826               0.5\n",
       "829               0.5\n",
       "833               0.5\n",
       "997               0.5\n",
       "1006              0.5\n",
       "\n",
       "[87 rows x 1 columns]"
      ]
     },
     "execution_count": 91,
     "metadata": {},
     "output_type": "execute_result"
    }
   ],
   "source": [
    "test_df"
   ]
  },
  {
   "cell_type": "code",
   "execution_count": 92,
   "id": "953f56b5-ef25-47f8-be78-e1d8551b8139",
   "metadata": {},
   "outputs": [
    {
     "data": {
      "text/html": [
       "<div>\n",
       "<style scoped>\n",
       "    .dataframe tbody tr th:only-of-type {\n",
       "        vertical-align: middle;\n",
       "    }\n",
       "\n",
       "    .dataframe tbody tr th {\n",
       "        vertical-align: top;\n",
       "    }\n",
       "\n",
       "    .dataframe thead th {\n",
       "        text-align: right;\n",
       "    }\n",
       "</style>\n",
       "<table border=\"1\" class=\"dataframe\">\n",
       "  <thead>\n",
       "    <tr style=\"text-align: right;\">\n",
       "      <th></th>\n",
       "      <th>BraTS21ID</th>\n",
       "      <th>MGMT_value</th>\n",
       "    </tr>\n",
       "  </thead>\n",
       "  <tbody>\n",
       "    <tr>\n",
       "      <th>0</th>\n",
       "      <td>0</td>\n",
       "      <td>1</td>\n",
       "    </tr>\n",
       "    <tr>\n",
       "      <th>1</th>\n",
       "      <td>2</td>\n",
       "      <td>1</td>\n",
       "    </tr>\n",
       "    <tr>\n",
       "      <th>2</th>\n",
       "      <td>3</td>\n",
       "      <td>0</td>\n",
       "    </tr>\n",
       "    <tr>\n",
       "      <th>3</th>\n",
       "      <td>5</td>\n",
       "      <td>1</td>\n",
       "    </tr>\n",
       "    <tr>\n",
       "      <th>4</th>\n",
       "      <td>6</td>\n",
       "      <td>1</td>\n",
       "    </tr>\n",
       "    <tr>\n",
       "      <th>...</th>\n",
       "      <td>...</td>\n",
       "      <td>...</td>\n",
       "    </tr>\n",
       "    <tr>\n",
       "      <th>580</th>\n",
       "      <td>1005</td>\n",
       "      <td>1</td>\n",
       "    </tr>\n",
       "    <tr>\n",
       "      <th>581</th>\n",
       "      <td>1007</td>\n",
       "      <td>1</td>\n",
       "    </tr>\n",
       "    <tr>\n",
       "      <th>582</th>\n",
       "      <td>1008</td>\n",
       "      <td>1</td>\n",
       "    </tr>\n",
       "    <tr>\n",
       "      <th>583</th>\n",
       "      <td>1009</td>\n",
       "      <td>0</td>\n",
       "    </tr>\n",
       "    <tr>\n",
       "      <th>584</th>\n",
       "      <td>1010</td>\n",
       "      <td>0</td>\n",
       "    </tr>\n",
       "  </tbody>\n",
       "</table>\n",
       "<p>585 rows × 2 columns</p>\n",
       "</div>"
      ],
      "text/plain": [
       "     BraTS21ID  MGMT_value\n",
       "0            0           1\n",
       "1            2           1\n",
       "2            3           0\n",
       "3            5           1\n",
       "4            6           1\n",
       "..         ...         ...\n",
       "580       1005           1\n",
       "581       1007           1\n",
       "582       1008           1\n",
       "583       1009           0\n",
       "584       1010           0\n",
       "\n",
       "[585 rows x 2 columns]"
      ]
     },
     "execution_count": 92,
     "metadata": {},
     "output_type": "execute_result"
    }
   ],
   "source": [
    "train_df = pd.read_csv(f\"{data_directory}/train_labels.csv\")\n",
    "train_df"
   ]
  },
  {
   "cell_type": "code",
   "execution_count": 93,
   "id": "d05ff954-b432-4d2b-99b7-0dab41350a6a",
   "metadata": {},
   "outputs": [],
   "source": [
    "train_df = train_df.drop(train_df[train_df['BraTS21ID'].isin([109, 123, 709])].index)"
   ]
  },
  {
   "cell_type": "code",
   "execution_count": 94,
   "id": "5aaaeb81-51ab-4642-a231-de6a2d696e86",
   "metadata": {},
   "outputs": [
    {
     "data": {
      "text/html": [
       "<div>\n",
       "<style scoped>\n",
       "    .dataframe tbody tr th:only-of-type {\n",
       "        vertical-align: middle;\n",
       "    }\n",
       "\n",
       "    .dataframe tbody tr th {\n",
       "        vertical-align: top;\n",
       "    }\n",
       "\n",
       "    .dataframe thead th {\n",
       "        text-align: right;\n",
       "    }\n",
       "</style>\n",
       "<table border=\"1\" class=\"dataframe\">\n",
       "  <thead>\n",
       "    <tr style=\"text-align: right;\">\n",
       "      <th></th>\n",
       "      <th>BraTS21ID</th>\n",
       "      <th>MGMT_value</th>\n",
       "    </tr>\n",
       "  </thead>\n",
       "  <tbody>\n",
       "    <tr>\n",
       "      <th>0</th>\n",
       "      <td>0</td>\n",
       "      <td>1</td>\n",
       "    </tr>\n",
       "    <tr>\n",
       "      <th>1</th>\n",
       "      <td>2</td>\n",
       "      <td>1</td>\n",
       "    </tr>\n",
       "    <tr>\n",
       "      <th>2</th>\n",
       "      <td>3</td>\n",
       "      <td>0</td>\n",
       "    </tr>\n",
       "    <tr>\n",
       "      <th>3</th>\n",
       "      <td>5</td>\n",
       "      <td>1</td>\n",
       "    </tr>\n",
       "    <tr>\n",
       "      <th>4</th>\n",
       "      <td>6</td>\n",
       "      <td>1</td>\n",
       "    </tr>\n",
       "    <tr>\n",
       "      <th>...</th>\n",
       "      <td>...</td>\n",
       "      <td>...</td>\n",
       "    </tr>\n",
       "    <tr>\n",
       "      <th>580</th>\n",
       "      <td>1005</td>\n",
       "      <td>1</td>\n",
       "    </tr>\n",
       "    <tr>\n",
       "      <th>581</th>\n",
       "      <td>1007</td>\n",
       "      <td>1</td>\n",
       "    </tr>\n",
       "    <tr>\n",
       "      <th>582</th>\n",
       "      <td>1008</td>\n",
       "      <td>1</td>\n",
       "    </tr>\n",
       "    <tr>\n",
       "      <th>583</th>\n",
       "      <td>1009</td>\n",
       "      <td>0</td>\n",
       "    </tr>\n",
       "    <tr>\n",
       "      <th>584</th>\n",
       "      <td>1010</td>\n",
       "      <td>0</td>\n",
       "    </tr>\n",
       "  </tbody>\n",
       "</table>\n",
       "<p>582 rows × 2 columns</p>\n",
       "</div>"
      ],
      "text/plain": [
       "     BraTS21ID  MGMT_value\n",
       "0            0           1\n",
       "1            2           1\n",
       "2            3           0\n",
       "3            5           1\n",
       "4            6           1\n",
       "..         ...         ...\n",
       "580       1005           1\n",
       "581       1007           1\n",
       "582       1008           1\n",
       "583       1009           0\n",
       "584       1010           0\n",
       "\n",
       "[582 rows x 2 columns]"
      ]
     },
     "metadata": {},
     "output_type": "display_data"
    }
   ],
   "source": [
    "\n",
    "display(train_df)\n",
    "\n",
    "df_train, df_valid = sk_model_selection.train_test_split(\n",
    "    train_df, \n",
    "    test_size=cfg.test_size, \n",
    "    random_state=42, \n",
    "    stratify=train_df[\"MGMT_value\"],\n",
    ")\n"
   ]
  },
  {
   "cell_type": "code",
   "execution_count": 95,
   "id": "d7a683b4-b5ad-4c53-87b3-b5855571e3e0",
   "metadata": {},
   "outputs": [
    {
     "name": "stdout",
     "output_type": "stream",
     "text": [
      "<class 'pandas.core.frame.DataFrame'>\n",
      "Int64Index: 59 entries, 386 to 568\n",
      "Data columns (total 2 columns):\n",
      " #   Column      Non-Null Count  Dtype\n",
      "---  ------      --------------  -----\n",
      " 0   BraTS21ID   59 non-null     int64\n",
      " 1   MGMT_value  59 non-null     int64\n",
      "dtypes: int64(2)\n",
      "memory usage: 1.4 KB\n"
     ]
    }
   ],
   "source": [
    "df_valid.info()"
   ]
  },
  {
   "cell_type": "code",
   "execution_count": 96,
   "id": "38bfd847-22be-42b2-9300-21cf50badbf8",
   "metadata": {},
   "outputs": [],
   "source": [
    "df_valid = df_valid.append(pd.DataFrame([{'BraTS21ID': 1, 'MGMT_value': 1}, {'BraTS21ID': 13, 'MGMT_value': 1}]))"
   ]
  },
  {
   "cell_type": "code",
   "execution_count": 97,
   "id": "aec56de0-fd8a-4a03-856d-5a42d1e44dd2",
   "metadata": {},
   "outputs": [
    {
     "data": {
      "text/html": [
       "<div>\n",
       "<style scoped>\n",
       "    .dataframe tbody tr th:only-of-type {\n",
       "        vertical-align: middle;\n",
       "    }\n",
       "\n",
       "    .dataframe tbody tr th {\n",
       "        vertical-align: top;\n",
       "    }\n",
       "\n",
       "    .dataframe thead th {\n",
       "        text-align: right;\n",
       "    }\n",
       "</style>\n",
       "<table border=\"1\" class=\"dataframe\">\n",
       "  <thead>\n",
       "    <tr style=\"text-align: right;\">\n",
       "      <th></th>\n",
       "      <th>BraTS21ID</th>\n",
       "      <th>MGMT_value</th>\n",
       "    </tr>\n",
       "  </thead>\n",
       "  <tbody>\n",
       "    <tr>\n",
       "      <th>386</th>\n",
       "      <td>565</td>\n",
       "      <td>0</td>\n",
       "    </tr>\n",
       "    <tr>\n",
       "      <th>285</th>\n",
       "      <td>413</td>\n",
       "      <td>1</td>\n",
       "    </tr>\n",
       "    <tr>\n",
       "      <th>229</th>\n",
       "      <td>332</td>\n",
       "      <td>1</td>\n",
       "    </tr>\n",
       "    <tr>\n",
       "      <th>239</th>\n",
       "      <td>347</td>\n",
       "      <td>0</td>\n",
       "    </tr>\n",
       "    <tr>\n",
       "      <th>286</th>\n",
       "      <td>414</td>\n",
       "      <td>0</td>\n",
       "    </tr>\n",
       "    <tr>\n",
       "      <th>...</th>\n",
       "      <td>...</td>\n",
       "      <td>...</td>\n",
       "    </tr>\n",
       "    <tr>\n",
       "      <th>410</th>\n",
       "      <td>594</td>\n",
       "      <td>1</td>\n",
       "    </tr>\n",
       "    <tr>\n",
       "      <th>561</th>\n",
       "      <td>819</td>\n",
       "      <td>1</td>\n",
       "    </tr>\n",
       "    <tr>\n",
       "      <th>568</th>\n",
       "      <td>836</td>\n",
       "      <td>0</td>\n",
       "    </tr>\n",
       "    <tr>\n",
       "      <th>0</th>\n",
       "      <td>1</td>\n",
       "      <td>1</td>\n",
       "    </tr>\n",
       "    <tr>\n",
       "      <th>1</th>\n",
       "      <td>13</td>\n",
       "      <td>1</td>\n",
       "    </tr>\n",
       "  </tbody>\n",
       "</table>\n",
       "<p>61 rows × 2 columns</p>\n",
       "</div>"
      ],
      "text/plain": [
       "     BraTS21ID  MGMT_value\n",
       "386        565           0\n",
       "285        413           1\n",
       "229        332           1\n",
       "239        347           0\n",
       "286        414           0\n",
       "..         ...         ...\n",
       "410        594           1\n",
       "561        819           1\n",
       "568        836           0\n",
       "0            1           1\n",
       "1           13           1\n",
       "\n",
       "[61 rows x 2 columns]"
      ]
     },
     "execution_count": 97,
     "metadata": {},
     "output_type": "execute_result"
    }
   ],
   "source": [
    "df_valid"
   ]
  },
  {
   "cell_type": "code",
   "execution_count": 98,
   "id": "c4abc40f-9634-4ca7-b027-d0d5686b9126",
   "metadata": {},
   "outputs": [
    {
     "name": "stdout",
     "output_type": "stream",
     "text": [
      "<class 'pandas.core.frame.DataFrame'>\n",
      "Int64Index: 523 entries, 549 to 347\n",
      "Data columns (total 2 columns):\n",
      " #   Column      Non-Null Count  Dtype\n",
      "---  ------      --------------  -----\n",
      " 0   BraTS21ID   523 non-null    int64\n",
      " 1   MGMT_value  523 non-null    int64\n",
      "dtypes: int64(2)\n",
      "memory usage: 12.3 KB\n"
     ]
    }
   ],
   "source": [
    "df_train.info()"
   ]
  },
  {
   "cell_type": "markdown",
   "id": "c2be3fc3-c1a7-4feb-8928-027733a61d3b",
   "metadata": {},
   "source": [
    "### Model and training classes"
   ]
  },
  {
   "cell_type": "code",
   "execution_count": 99,
   "id": "49d9c846-1f59-4092-ab69-34fa0814087c",
   "metadata": {},
   "outputs": [],
   "source": [
    "class Dataset(torch_data.Dataset):\n",
    "    def __init__(self, paths, targets=None, mri_type=None, label_smoothing=0.01, split=\"train\"):\n",
    "        self.paths = paths\n",
    "        self.targets = targets\n",
    "        self.mri_type = mri_type\n",
    "        self.label_smoothing = label_smoothing\n",
    "        self.split = split\n",
    "          \n",
    "    def __len__(self):\n",
    "        return len(self.paths)\n",
    "    \n",
    "    def __getitem__(self, index):\n",
    "        scan_id = self.paths[index]\n",
    "        if self.targets is None:\n",
    "            data = load_dicom_images_3d(str(scan_id).zfill(5), mri_type=self.mri_type[index], split=self.split, clahe=cfg.clahe)\n",
    "        else:\n",
    "            data = load_dicom_images_3d(str(scan_id).zfill(5), mri_type=self.mri_type[index], split=\"train\", clahe=cfg.clahe)\n",
    "\n",
    "        if self.targets is None:\n",
    "            return {\"X\": torch.tensor(data).float(), \"id\": scan_id}\n",
    "        else:\n",
    "            y = torch.tensor(abs(self.targets[index]-self.label_smoothing), dtype=torch.float)\n",
    "            return {\"X\": torch.tensor(data).float(), \"y\": y}\n"
   ]
  },
  {
   "cell_type": "code",
   "execution_count": 23,
   "id": "c18c0d48-a6ec-4756-86ed-fde82ff59fe6",
   "metadata": {},
   "outputs": [],
   "source": [
    "class ModelHead(nn.Module):\n",
    "    \n",
    "    def __init__(self, in_features, hidden_dim):\n",
    "        super().__init__()\n",
    "        self._fc = nn.Linear(in_features=in_features, out_features=hidden_dim, bias=True)\n",
    "        self._fc_2 = nn.Linear(in_features=hidden_dim, out_features=1, bias=True)\n",
    "        \n",
    "    def forward(self, x):\n",
    "        x = self._fc(x)\n",
    "        x = self._fc_2(x)\n",
    "        return x\n",
    "\n",
    "class Model(nn.Module):\n",
    "    def __init__(self):\n",
    "        super().__init__()\n",
    "        self.net = EfficientNet3D.from_name(\"efficientnet-b0\", override_params={'num_classes': 2}, in_channels=1)\n",
    "        n_features = self.net._fc.in_features\n",
    "        self.net._fc = ModelHead(n_features, 600)\n",
    "        \n",
    "    \n",
    "    def forward(self, x):\n",
    "        out = self.net(x)\n",
    "        return out\n",
    "    "
   ]
  },
  {
   "cell_type": "code",
   "execution_count": 142,
   "id": "181485a8-b3ac-4a4f-bcf6-5046918acbcb",
   "metadata": {},
   "outputs": [],
   "source": [
    "class AttentionHead(nn.Module):\n",
    "    \n",
    "    def __init__(self, in_features, hidden_dim, num_targets):\n",
    "        super().__init__()\n",
    "        self.in_features = in_features\n",
    "        \n",
    "        self.hidden_layer = nn.Linear(in_features, hidden_dim)\n",
    "        self.final_layer = nn.Linear(hidden_dim, num_targets)\n",
    "        self.out_features = hidden_dim\n",
    "        \n",
    "    def forward(self, features):\n",
    "        att = torch.tanh(self.hidden_layer(features))\n",
    "        score = self.final_layer(att)\n",
    "        attention_weights = torch.softmax(score, dim=1)\n",
    "        context_vector = torch.sum(attention_weights * features, dim=1) \n",
    "        return context_vector.unsqueeze(1)\n",
    "\n",
    "class Model(nn.Module):\n",
    "    def __init__(self):\n",
    "        super().__init__()\n",
    "        self.net = EfficientNet3D.from_name(\"efficientnet-b0\", override_params={'num_classes': 2}, in_channels=1)\n",
    "        n_features = self.net._fc.in_features\n",
    "        self.net._fc = AttentionHead(n_features, 600, 1)\n",
    "        \n",
    "    \n",
    "    def forward(self, x):\n",
    "        out = self.net(x)\n",
    "        return torch.sigmoid(out)\n",
    "    "
   ]
  },
  {
   "cell_type": "code",
   "execution_count": 143,
   "id": "b32586c4-8538-4225-a711-43b5d51e6bb8",
   "metadata": {},
   "outputs": [],
   "source": [
    "attention_head = AttentionHead(1028, 600, 1)"
   ]
  },
  {
   "cell_type": "code",
   "execution_count": 144,
   "id": "a90230a1-8a65-4c0c-8510-d07e364215c1",
   "metadata": {},
   "outputs": [
    {
     "data": {
      "text/plain": [
       "torch.Size([8, 1])"
      ]
     },
     "execution_count": 144,
     "metadata": {},
     "output_type": "execute_result"
    }
   ],
   "source": [
    "attention_head(torch.randn([8, 1028])).shape"
   ]
  },
  {
   "cell_type": "code",
   "execution_count": 145,
   "id": "77333bed-4eda-4d81-b26e-62b98d531a5f",
   "metadata": {},
   "outputs": [],
   "source": [
    "extra_check_epochs = [9, 10, 11]"
   ]
  },
  {
   "cell_type": "code",
   "execution_count": 146,
   "id": "f97b8bc6-5b7a-455f-84a4-7481b73c3801",
   "metadata": {},
   "outputs": [],
   "source": [
    "sample_input = torch.randn([8, 1, 256, 256, 320]).cuda()"
   ]
  },
  {
   "cell_type": "code",
   "execution_count": 147,
   "id": "99cb0027-1048-4439-925c-3277a915c6d0",
   "metadata": {},
   "outputs": [],
   "source": [
    "sample_model = Model().cuda()"
   ]
  },
  {
   "cell_type": "code",
   "execution_count": 148,
   "id": "5b6f3bb1-dd15-42d1-92ba-dfc9126305f4",
   "metadata": {},
   "outputs": [
    {
     "data": {
      "text/plain": [
       "224"
      ]
     },
     "execution_count": 148,
     "metadata": {},
     "output_type": "execute_result"
    }
   ],
   "source": [
    "sample_model.net.get_image_size(\"efficientnet-b0\")"
   ]
  },
  {
   "cell_type": "code",
   "execution_count": 149,
   "id": "b96f5279-657b-4534-abdf-67822e90945d",
   "metadata": {},
   "outputs": [
    {
     "data": {
      "text/plain": [
       "torch.Size([8, 1])"
      ]
     },
     "execution_count": 149,
     "metadata": {},
     "output_type": "execute_result"
    }
   ],
   "source": [
    "sample_model(sample_input).shape"
   ]
  },
  {
   "cell_type": "code",
   "execution_count": 150,
   "id": "a5ab60d7-c2f4-4b69-acd3-5ba291a065fe",
   "metadata": {},
   "outputs": [
    {
     "data": {
      "text/plain": [
       "9"
      ]
     },
     "execution_count": 150,
     "metadata": {},
     "output_type": "execute_result"
    }
   ],
   "source": [
    "min(extra_check_epochs)"
   ]
  },
  {
   "cell_type": "code",
   "execution_count": 151,
   "id": "fd7f3eee-d04b-4401-8ee8-bc167c76b2bd",
   "metadata": {},
   "outputs": [],
   "source": [
    "class Trainer:\n",
    "    def __init__(\n",
    "        self, \n",
    "        model, \n",
    "        device, \n",
    "        optimizer, \n",
    "        criterion\n",
    "    ):\n",
    "        self.model = model\n",
    "        self.device = device\n",
    "        self.optimizer = optimizer\n",
    "        self.criterion = criterion\n",
    "\n",
    "        self.best_valid_score = np.inf\n",
    "        self.n_patience = 0\n",
    "        self.lastmodel = None\n",
    "        \n",
    "    def fit(self, epochs, train_loader, valid_loader, save_path, patience):  \n",
    "        tbar = tqdm(range(1, epochs + 1), total=epochs)\n",
    "#         self.lr_sched = torch.optim.lr_scheduler.CosineAnnealingWarmRestarts(self.optimizer, T_0=int(len(train_loader) / 2), T_mult=1, eta_min=0.0001, last_epoch=-1)\n",
    "        self.lr_sched = torch.optim.lr_scheduler.OneCycleLR(self.optimizer, max_lr=1e-3, steps_per_epoch=len(train_loader), epochs=epochs)\n",
    "        self.lrs = []\n",
    "        \n",
    "        for n_epoch in tbar:\n",
    "            \n",
    "            self.info_message(\"EPOCH: {}\", n_epoch)\n",
    "            tbar.set_description(f'EPOCH: {n_epoch}')\n",
    "            \n",
    "            \n",
    "            train_loss, train_time = self.train_epoch(train_loader, valid_loader, n_epoch, save_path)\n",
    "            valid_loss, valid_auc, valid_time = self.valid_epoch(valid_loader)\n",
    "            \n",
    "            self.info_message(\n",
    "                \"[Epoch Train: {}] loss: {:.4f}, time: {:.2f} s            \",\n",
    "                n_epoch, train_loss, train_time\n",
    "            )\n",
    "            \n",
    "            self.print_valid_message(valid_loss, valid_auc, valid_time, n_epoch)\n",
    "            \n",
    "            self.check_and_save(valid_loss, valid_auc, valid_time, n_epoch, save_path)\n",
    "            \n",
    "            if self.n_patience >= patience:\n",
    "                self.info_message(\"\\nValid auc didn't improve last {} epochs.\", patience)\n",
    "                break\n",
    "        plt.plot(self.lrs)\n",
    "        \n",
    "    def check_and_save(self, valid_loss, valid_auc, valid_time, n_epoch, save_path):\n",
    "        # if True:\n",
    "        # if self.best_valid_score < valid_auc: \n",
    "        if self.best_valid_score > valid_loss and n_epoch >= min(extra_check_epochs) and valid_auc > 0.5: \n",
    "            self.save_model(n_epoch, save_path, valid_loss, valid_auc)\n",
    "            self.info_message(\n",
    "                 \"auc improved from {:.4f} to {:.4f}. Saved model to '{}'\", \n",
    "                self.best_valid_score, valid_loss, self.lastmodel\n",
    "            )\n",
    "            self.best_valid_score = valid_loss\n",
    "            self.n_patience = 0\n",
    "        else:\n",
    "            self.n_patience += 1\n",
    "            \n",
    "    def print_valid_message(self, valid_loss, valid_auc, valid_time, n_epoch):\n",
    "        self.info_message(\n",
    "            \"[Epoch Valid: {}] loss: {:.4f}, auc: {:.4f}, time: {:.2f} s\",\n",
    "            n_epoch, valid_loss, valid_auc, valid_time\n",
    "        )\n",
    "            \n",
    "    def train_epoch(self, train_loader, valid_loader, n_epoch, save_path):\n",
    "        self.model.train()\n",
    "        t = time.time()\n",
    "        sum_loss = 0\n",
    "\n",
    "        tbar = tqdm(enumerate(train_loader, 1), total=len(train_loader))\n",
    "        \n",
    "        for step, batch in tbar:\n",
    "            X = batch[\"X\"].to(self.device)\n",
    "            targets = batch[\"y\"].to(self.device)\n",
    "            self.optimizer.zero_grad()\n",
    "            outputs = self.model(X).squeeze(1)\n",
    "            \n",
    "            loss = self.criterion(outputs, targets)\n",
    "            loss.backward()\n",
    "\n",
    "            sum_loss += loss.detach().item()\n",
    "            torch.nn.utils.clip_grad_norm_(self.model.parameters(), 1.0)\n",
    "            self.optimizer.step()\n",
    "            self.lr_sched.step()\n",
    "            current_lr = self.optimizer.param_groups[0][\"lr\"]\n",
    "            self.lrs.append(\n",
    "                current_lr\n",
    "            )\n",
    "            \n",
    "            message = 'Train Step {}/{}, train_loss: {:.4f}'\n",
    "            self.info_message(message, step, len(train_loader), sum_loss/step, end=\"\\r\")\n",
    "            \n",
    "            if n_epoch in extra_check_epochs:\n",
    "                if step % 3 == 0:\n",
    "                    valid_loss, valid_auc, valid_time = self.valid_epoch(valid_loader)\n",
    "                    self.check_and_save(valid_loss, valid_auc, valid_time, n_epoch, save_path)\n",
    "                    self.print_valid_message(valid_loss, valid_auc, valid_time, n_epoch)\n",
    "            \n",
    "        \n",
    "        return sum_loss/len(train_loader), int(time.time() - t)\n",
    "    \n",
    "    def valid_epoch(self, valid_loader):\n",
    "        self.model.eval()\n",
    "        t = time.time()\n",
    "        sum_loss = 0\n",
    "        y_all = []\n",
    "        outputs_all = []\n",
    "\n",
    "        tbar = tqdm(enumerate(valid_loader, 1), total=len(valid_loader))\n",
    "        for step, batch in tbar:\n",
    "            with torch.no_grad():\n",
    "                X = batch[\"X\"].to(self.device)\n",
    "                targets = batch[\"y\"].to(self.device)\n",
    "\n",
    "                outputs = self.model(X).squeeze(1)\n",
    "                loss = self.criterion(outputs, targets)\n",
    "                print('outputs', outputs.mean().item(), outputs.std().item())\n",
    "                print('targets', targets.mean().item(), targets.std().item())\n",
    "                \n",
    "                sum_loss += loss.detach().item()\n",
    "                y_all.extend(batch[\"y\"].tolist())\n",
    "                outputs_all.extend(outputs.tolist())\n",
    "\n",
    "            message = 'Valid Step {}/{}, valid_loss: {:.4f}'\n",
    "            self.info_message(message, step, len(valid_loader), sum_loss/step, end=\"\\r\")\n",
    "            \n",
    "        y_all = [1 if x > 0.5 else 0 for x in y_all]\n",
    "        auc = roc_auc_score(y_all, outputs_all)\n",
    "        \n",
    "        return sum_loss/len(valid_loader), auc, int(time.time() - t)\n",
    "    \n",
    "    def save_model(self, n_epoch, save_path, loss, auc):\n",
    "        self.lastmodel = str(cfg.models_path/f\"{save_path}-e{n_epoch}-loss{loss:.3f}-auc{auc:.3f}.pth\")\n",
    "        torch.save(\n",
    "            {\n",
    "                \"model_state_dict\": self.model.state_dict(),\n",
    "                \"optimizer_state_dict\": self.optimizer.state_dict(),\n",
    "                \"best_valid_score\": self.best_valid_score,\n",
    "                \"n_epoch\": n_epoch,\n",
    "            },\n",
    "            self.lastmodel,\n",
    "        )\n",
    "    \n",
    "    @staticmethod\n",
    "    def info_message(message, *args, end=\"\\n\"):\n",
    "        print(message.format(*args), end=end)"
   ]
  },
  {
   "cell_type": "code",
   "execution_count": 152,
   "id": "eee4c14c-61c3-4ba3-9135-45593cae1a2d",
   "metadata": {},
   "outputs": [],
   "source": [
    "def dice_loss(input, target, eps=1e-6):\n",
    "    input = input.clamp_min(0)\n",
    "    intersection = torch.sum(input * target)\n",
    "    cardinality = torch.sum(input + target)\n",
    "    return 1.0 - (2.0 * intersection) / (cardinality).clamp_min(eps)"
   ]
  },
  {
   "cell_type": "code",
   "execution_count": 153,
   "id": "e45215e0-3f24-43f2-b826-998741d58945",
   "metadata": {},
   "outputs": [],
   "source": [
    "def loss_func(input, target):\n",
    "#     return F.binary_cross_entropy_with_logits(input, target) * 0.5 + F.mse_loss(input, target) * 0.5\n",
    "#     return F.binary_cross_entropy_with_logits(input, target) * 0.2 + dice_loss(input, target) * 0.8\n",
    "    return F.binary_cross_entropy_with_logits(input, target)"
   ]
  },
  {
   "cell_type": "code",
   "execution_count": 154,
   "id": "02bd6b73-6c36-4da3-850a-24a96a670b17",
   "metadata": {},
   "outputs": [],
   "source": [
    "device = torch.device(\"cuda\" if torch.cuda.is_available() else \"cpu\")\n",
    "\n",
    "def train_mri_type(df_train, df_valid, mri_type):\n",
    "    if mri_type==\"all\":\n",
    "        train_list = []\n",
    "        valid_list = []\n",
    "        for mri_type in mri_types:\n",
    "            df_train.loc[:,\"MRI_Type\"] = mri_type\n",
    "            train_list.append(df_train.copy())\n",
    "            df_valid.loc[:,\"MRI_Type\"] = mri_type\n",
    "            valid_list.append(df_valid.copy())\n",
    "\n",
    "        df_train = pd.concat(train_list)\n",
    "        df_valid = pd.concat(valid_list)\n",
    "    else:\n",
    "        df_train.loc[:,\"MRI_Type\"] = mri_type\n",
    "        df_valid.loc[:,\"MRI_Type\"] = mri_type\n",
    "\n",
    "    print(df_train.shape, df_valid.shape)\n",
    "    display(df_train.head())\n",
    "    \n",
    "    train_data_retriever = Dataset(\n",
    "        df_train[\"BraTS21ID\"].values, \n",
    "        df_train[\"MGMT_value\"].values, \n",
    "        df_train[\"MRI_Type\"].values\n",
    "    )\n",
    "\n",
    "    valid_data_retriever = Dataset(\n",
    "        df_valid[\"BraTS21ID\"].values, \n",
    "        df_valid[\"MGMT_value\"].values,\n",
    "        df_valid[\"MRI_Type\"].values\n",
    "    )\n",
    "\n",
    "    train_loader = torch_data.DataLoader(\n",
    "        train_data_retriever,\n",
    "        batch_size=cfg.batch_size,\n",
    "        shuffle=True,\n",
    "        num_workers=cfg.num_workers,\n",
    "    )\n",
    "\n",
    "    valid_loader = torch_data.DataLoader(\n",
    "        valid_data_retriever, \n",
    "        batch_size=cfg.batch_size,\n",
    "        shuffle=False,\n",
    "        num_workers=cfg.num_workers,\n",
    "    )\n",
    "\n",
    "    model = Model()\n",
    "    model.to(device)\n",
    "\n",
    "    #checkpoint = torch.load(\"best-model-all-auc0.555.pth\")\n",
    "    #model.load_state_dict(checkpoint[\"model_state_dict\"])\n",
    "\n",
    "    #print(model)\n",
    "\n",
    "    optimizer = torch.optim.Adam(model.parameters(), lr=0.001)\n",
    "    #optimizer = torch.optim.SGD(model.parameters(), lr=0.001, momentum=0.9)\n",
    "\n",
    "    criterion = loss_func\n",
    "\n",
    "    trainer = Trainer(\n",
    "        model, \n",
    "        device, \n",
    "        optimizer, \n",
    "        criterion\n",
    "    )\n",
    "\n",
    "    history = trainer.fit(\n",
    "        cfg.epochs, \n",
    "        train_loader, \n",
    "        valid_loader, \n",
    "        f\"{mri_type}\", \n",
    "        cfg.epochs + 100,\n",
    "    )\n",
    "    \n",
    "    return trainer.lastmodel"
   ]
  },
  {
   "cell_type": "code",
   "execution_count": 155,
   "id": "9461defa-ea31-47fd-b163-c2b00ddc9ffe",
   "metadata": {},
   "outputs": [],
   "source": [
    "!rm -rf {str(cfg.models_path)}/*.pth"
   ]
  },
  {
   "cell_type": "code",
   "execution_count": 156,
   "id": "da597e83-3a85-4eb4-83bb-999c9ef78bf6",
   "metadata": {},
   "outputs": [
    {
     "name": "stdout",
     "output_type": "stream",
     "text": [
      "(523, 3) (61, 3)\n"
     ]
    },
    {
     "name": "stderr",
     "output_type": "stream",
     "text": [
      "/opt/conda/lib/python3.8/site-packages/pandas/core/indexing.py:1720: SettingWithCopyWarning: \n",
      "A value is trying to be set on a copy of a slice from a DataFrame.\n",
      "Try using .loc[row_indexer,col_indexer] = value instead\n",
      "\n",
      "See the caveats in the documentation: https://pandas.pydata.org/pandas-docs/stable/user_guide/indexing.html#returning-a-view-versus-a-copy\n",
      "  self._setitem_single_column(loc, value, pi)\n"
     ]
    },
    {
     "data": {
      "text/html": [
       "<div>\n",
       "<style scoped>\n",
       "    .dataframe tbody tr th:only-of-type {\n",
       "        vertical-align: middle;\n",
       "    }\n",
       "\n",
       "    .dataframe tbody tr th {\n",
       "        vertical-align: top;\n",
       "    }\n",
       "\n",
       "    .dataframe thead th {\n",
       "        text-align: right;\n",
       "    }\n",
       "</style>\n",
       "<table border=\"1\" class=\"dataframe\">\n",
       "  <thead>\n",
       "    <tr style=\"text-align: right;\">\n",
       "      <th></th>\n",
       "      <th>BraTS21ID</th>\n",
       "      <th>MGMT_value</th>\n",
       "      <th>MRI_Type</th>\n",
       "    </tr>\n",
       "  </thead>\n",
       "  <tbody>\n",
       "    <tr>\n",
       "      <th>549</th>\n",
       "      <td>803</td>\n",
       "      <td>0</td>\n",
       "      <td>FLAIR</td>\n",
       "    </tr>\n",
       "    <tr>\n",
       "      <th>353</th>\n",
       "      <td>520</td>\n",
       "      <td>1</td>\n",
       "      <td>FLAIR</td>\n",
       "    </tr>\n",
       "    <tr>\n",
       "      <th>272</th>\n",
       "      <td>399</td>\n",
       "      <td>0</td>\n",
       "      <td>FLAIR</td>\n",
       "    </tr>\n",
       "    <tr>\n",
       "      <th>137</th>\n",
       "      <td>206</td>\n",
       "      <td>0</td>\n",
       "      <td>FLAIR</td>\n",
       "    </tr>\n",
       "    <tr>\n",
       "      <th>292</th>\n",
       "      <td>423</td>\n",
       "      <td>0</td>\n",
       "      <td>FLAIR</td>\n",
       "    </tr>\n",
       "  </tbody>\n",
       "</table>\n",
       "</div>"
      ],
      "text/plain": [
       "     BraTS21ID  MGMT_value MRI_Type\n",
       "549        803           0    FLAIR\n",
       "353        520           1    FLAIR\n",
       "272        399           0    FLAIR\n",
       "137        206           0    FLAIR\n",
       "292        423           0    FLAIR"
      ]
     },
     "metadata": {},
     "output_type": "display_data"
    },
    {
     "data": {
      "application/vnd.jupyter.widget-view+json": {
       "model_id": "399b3946f5424d26bc85dc81e047370d",
       "version_major": 2,
       "version_minor": 0
      },
      "text/plain": [
       "HBox(children=(FloatProgress(value=0.0, max=15.0), HTML(value='')))"
      ]
     },
     "metadata": {},
     "output_type": "display_data"
    },
    {
     "name": "stdout",
     "output_type": "stream",
     "text": [
      "EPOCH: 1\n"
     ]
    },
    {
     "data": {
      "application/vnd.jupyter.widget-view+json": {
       "model_id": "8a354e66ad7041fe97a86be6d7f3d6a7",
       "version_major": 2,
       "version_minor": 0
      },
      "text/plain": [
       "HBox(children=(FloatProgress(value=0.0, max=66.0), HTML(value='')))"
      ]
     },
     "metadata": {},
     "output_type": "display_data"
    },
    {
     "name": "stdout",
     "output_type": "stream",
     "text": [
      "Train Step 66/66, train_loss: 0.7898\n"
     ]
    },
    {
     "data": {
      "application/vnd.jupyter.widget-view+json": {
       "model_id": "3199bd945e3b4336b18acfcf5191e00c",
       "version_major": 2,
       "version_minor": 0
      },
      "text/plain": [
       "HBox(children=(FloatProgress(value=0.0, max=8.0), HTML(value='')))"
      ]
     },
     "metadata": {},
     "output_type": "display_data"
    },
    {
     "name": "stdout",
     "output_type": "stream",
     "text": [
      "outputs 0.46531790494918823 1.951019967805223e-08\n",
      "targets 0.5 0.5238320827484131\n",
      "outputs 0.46531790494918823 1.951019967805223e-08\n",
      "targets 0.6225000023841858 0.5071982145309448\n",
      "outputs 0.46531790494918823 1.951019967805223e-08\n",
      "targets 0.5 0.5238320827484131\n",
      "outputs 0.46531790494918823 1.951019967805223e-08\n",
      "targets 0.6225000023841858 0.5071982145309448\n",
      "outputs 0.46531790494918823 2.759158945764284e-08\n",
      "targets 0.3774999976158142 0.5071982145309448\n",
      "outputs 0.46531790494918823 2.759158945764284e-08\n",
      "targets 0.3774999976158142 0.5071982145309448\n",
      "outputs 0.46531790494918823 1.951019967805223e-08\n",
      "targets 0.6225000023841858 0.5071982145309448\n",
      "outputs 0.4653179347515106 0.07118\n",
      "targets 0.7940000295639038 0.43826931715011597\n",
      "Valid Step 8/8, valid_loss: 0.6957\n",
      "[Epoch Train: 1] loss: 0.7898, time: 57.00 s            \n",
      "[Epoch Valid: 1] loss: 0.6957, auc: 0.4383, time: 4.00 s\n",
      "EPOCH: 2\n"
     ]
    },
    {
     "data": {
      "application/vnd.jupyter.widget-view+json": {
       "model_id": "c59622fd733d4ceb8b432aae12ce54fe",
       "version_major": 2,
       "version_minor": 0
      },
      "text/plain": [
       "HBox(children=(FloatProgress(value=0.0, max=66.0), HTML(value='')))"
      ]
     },
     "metadata": {},
     "output_type": "display_data"
    },
    {
     "name": "stdout",
     "output_type": "stream",
     "text": [
      "Train Step 66/66, train_loss: 0.7867\n"
     ]
    },
    {
     "data": {
      "application/vnd.jupyter.widget-view+json": {
       "model_id": "213ae660cb56431db559b2deb6c3a317",
       "version_major": 2,
       "version_minor": 0
      },
      "text/plain": [
       "HBox(children=(FloatProgress(value=0.0, max=8.0), HTML(value='')))"
      ]
     },
     "metadata": {},
     "output_type": "display_data"
    },
    {
     "name": "stdout",
     "output_type": "stream",
     "text": [
      "outputs 0.5751162767410278 2.759158945764284e-08\n",
      "targets 0.5 0.5238320827484131\n",
      "outputs 0.5751162767410278 3.1860022176033453e-08\n",
      "targets 0.6225000023841858 0.5071982145309448\n",
      "outputs 0.5751162767410278 3.1860022176033453e-08\n",
      "targets 0.5 0.5238320827484131\n",
      "outputs 0.5751162767410278 2.759158945764284e-08\n",
      "targets 0.6225000023841858 0.5071982145309448\n",
      "outputs 0.5751162767410278 2.759158945764284e-08\n",
      "targets 0.3774999976158142 0.5071982145309448\n",
      "outputs 0.5751162767410278 3.1860022176033453e-08\n",
      "targets 0.3774999976158142 0.5071982145309448\n",
      "outputs 0.5751162767410278 3.562058736861218e-08\n",
      "targets 0.6225000023841858 0.5071982145309448\n",
      "outputs 0.5751162767410278 4.8666990437595814e-08\n",
      "targets 0.7940000295639038 0.43826931715011597\n",
      "Valid Step 8/8, valid_loss: 0.7040\n",
      "[Epoch Train: 2] loss: 0.7867, time: 57.00 s            \n",
      "[Epoch Valid: 2] loss: 0.7040, auc: 0.5043, time: 4.00 s\n",
      "EPOCH: 3\n"
     ]
    },
    {
     "data": {
      "application/vnd.jupyter.widget-view+json": {
       "model_id": "94439ef6d6e744199493ec3374d8d9c5",
       "version_major": 2,
       "version_minor": 0
      },
      "text/plain": [
       "HBox(children=(FloatProgress(value=0.0, max=66.0), HTML(value='')))"
      ]
     },
     "metadata": {},
     "output_type": "display_data"
    },
    {
     "name": "stdout",
     "output_type": "stream",
     "text": [
      "Train Step 66/66, train_loss: 0.7867\n"
     ]
    },
    {
     "data": {
      "application/vnd.jupyter.widget-view+json": {
       "model_id": "d1c4312a1157432f92e15dcf2ae5cc6f",
       "version_major": 2,
       "version_minor": 0
      },
      "text/plain": [
       "HBox(children=(FloatProgress(value=0.0, max=8.0), HTML(value='')))"
      ]
     },
     "metadata": {},
     "output_type": "display_data"
    },
    {
     "name": "stdout",
     "output_type": "stream",
     "text": [
      "outputs 0.865662157535553 5.743647335521018e-08\n",
      "targets 0.5 0.5238320827484131\n",
      "outputs 0.8656620979309082 6.568112098648271e-08\n",
      "targets 0.6225000023841858 0.5071982145309448\n",
      "outputs 0.865662157535553 9.689847502158955e-08\n",
      "targets 0.5 0.5238320827484131\n",
      "outputs 0.8656622171401978 7.124117473722436e-08\n",
      "targets 0.6225000023841858 0.5071982145309448\n",
      "outputs 0.8656620979309082 7.639765442490898e-08\n",
      "targets 0.3774999976158142 0.5071982145309448\n",
      "outputs 0.865662157535553 7.965005721644047e-08\n",
      "targets 0.3774999976158142 0.5071982145309448\n",
      "outputs 0.865662157535553 0.0.7840\n",
      "targets 0.6225000023841858 0.5071982145309448\n",
      "outputs 0.8656622171401978 7.598131190889035e-08\n",
      "targets 0.7940000295639038 0.43826931715011597\n",
      "Valid Step 8/8, valid_loss: 0.7390\n",
      "[Epoch Train: 3] loss: 0.7867, time: 57.00 s            \n",
      "[Epoch Valid: 3] loss: 0.7390, auc: 0.4724, time: 4.00 s\n",
      "EPOCH: 4\n"
     ]
    },
    {
     "data": {
      "application/vnd.jupyter.widget-view+json": {
       "model_id": "4cb0ca9cea8a4b37a1845fa6e8216be3",
       "version_major": 2,
       "version_minor": 0
      },
      "text/plain": [
       "HBox(children=(FloatProgress(value=0.0, max=66.0), HTML(value='')))"
      ]
     },
     "metadata": {},
     "output_type": "display_data"
    },
    {
     "name": "stdout",
     "output_type": "stream",
     "text": [
      "Train Step 66/66, train_loss: 0.7867\n"
     ]
    },
    {
     "data": {
      "application/vnd.jupyter.widget-view+json": {
       "model_id": "b482d10b79784948885ddf250712fb23",
       "version_major": 2,
       "version_minor": 0
      },
      "text/plain": [
       "HBox(children=(FloatProgress(value=0.0, max=8.0), HTML(value='')))"
      ]
     },
     "metadata": {},
     "output_type": "display_data"
    },
    {
     "name": "stdout",
     "output_type": "stream",
     "text": [
      "outputs 0.9926234483718872 1.1706119806831339e-07\n",
      "targets 0.5 0.5238320827484131\n",
      "outputs 0.9926234483718872 9.288712732313797e-08\n",
      "targets 0.6225000023841858 0.5071982145309448\n",
      "outputs 0.9926234483718872 1.1264219068607417e-07\n",
      "targets 0.5 0.5238320827484131\n",
      "outputs 0.9926234483718872 1.0566773767095583e-07\n",
      "targets 0.6225000023841858 0.5071982145309448\n",
      "outputs 0.9926234483718872 9.288712732313797e-08\n",
      "targets 0.3774999976158142 0.5071982145309448\n",
      "outputs 0.9926233887672424 1.0566773767095583e-07\n",
      "targets 0.3774999976158142 0.5071982145309448\n",
      "outputs 0.9926234483718872 7.471837903949563e-08\n",
      "targets 0.6225000023841858 0.5071982145309448\n",
      "outputs 0.9926234483718872 2.1791727533582161e-07\n",
      "targets 0.7940000295639038 0.43826931715011597\n",
      "Valid Step 8/8, valid_loss: 0.7599\n",
      "[Epoch Train: 4] loss: 0.7867, time: 57.00 s            \n",
      "[Epoch Valid: 4] loss: 0.7599, auc: 0.4421, time: 4.00 s\n",
      "EPOCH: 5\n"
     ]
    },
    {
     "data": {
      "application/vnd.jupyter.widget-view+json": {
       "model_id": "8fdb1aceaf0d4bdab279089c52fa5810",
       "version_major": 2,
       "version_minor": 0
      },
      "text/plain": [
       "HBox(children=(FloatProgress(value=0.0, max=66.0), HTML(value='')))"
      ]
     },
     "metadata": {},
     "output_type": "display_data"
    },
    {
     "name": "stdout",
     "output_type": "stream",
     "text": [
      "Train Step 66/66, train_loss: 0.7898\n"
     ]
    },
    {
     "data": {
      "application/vnd.jupyter.widget-view+json": {
       "model_id": "9c30566b68b24017baac0c0b649dbac0",
       "version_major": 2,
       "version_minor": 0
      },
      "text/plain": [
       "HBox(children=(FloatProgress(value=0.0, max=8.0), HTML(value='')))"
      ]
     },
     "metadata": {},
     "output_type": "display_data"
    },
    {
     "name": "stdout",
     "output_type": "stream",
     "text": [
      "outputs 0.9999198913574219 0.0\n",
      "targets 0.5 0.5238320827484131\n",
      "outputs 0.9999198913574219 3.902039935610446e-08\n",
      "targets 0.6225000023841858 0.5071982145309448\n",
      "outputs 0.9999198913574219 6.758531156947356e-08\n",
      "targets 0.5 0.5238320827484131\n",
      "outputs 0.9999198913574219 3.902039935610446e-08\n",
      "targets 0.6225000023841858 0.5071982145309448\n",
      "outputs 0.9999198913574219 5.518317891528568e-08\n",
      "targets 0.3774999976158142 0.5071982145309448\n",
      "outputs 0.9999198913574219 3.902039935610446e-08\n",
      "targets 0.3774999976158142 0.5071982145309448\n",
      "outputs 0.9999198913574219 5.518317891528568e-08\n",
      "targets 0.6225000023841858 0.5071982145309448\n",
      "outputs 0.9999198913574219 5.860281504510567e-08\n",
      "targets 0.7940000295639038 0.43826931715011597\n",
      "Valid Step 8/8, valid_loss: 0.7612\n",
      "[Epoch Train: 5] loss: 0.7898, time: 57.00 s            \n",
      "[Epoch Valid: 5] loss: 0.7612, auc: 0.4984, time: 4.00 s\n",
      "EPOCH: 6\n"
     ]
    },
    {
     "data": {
      "application/vnd.jupyter.widget-view+json": {
       "model_id": "81df309f01da4edda1dca011eeb1f642",
       "version_major": 2,
       "version_minor": 0
      },
      "text/plain": [
       "HBox(children=(FloatProgress(value=0.0, max=66.0), HTML(value='')))"
      ]
     },
     "metadata": {},
     "output_type": "display_data"
    },
    {
     "name": "stdout",
     "output_type": "stream",
     "text": [
      "Train Step 66/66, train_loss: 0.7867\n"
     ]
    },
    {
     "data": {
      "application/vnd.jupyter.widget-view+json": {
       "model_id": "8ebc5649e0134b8a8f61d94538c9bb47",
       "version_major": 2,
       "version_minor": 0
      },
      "text/plain": [
       "HBox(children=(FloatProgress(value=0.0, max=8.0), HTML(value='')))"
      ]
     },
     "metadata": {},
     "output_type": "display_data"
    },
    {
     "name": "stdout",
     "output_type": "stream",
     "text": [
      "outputs 0.9999996423721313 0.0\n",
      "targets 0.5 0.5238320827484131\n",
      "outputs 0.9999996423721313 0.08133\n",
      "targets 0.6225000023841858 0.5071982145309448\n",
      "outputs 0.9999996423721313 0.07520\n",
      "targets 0.5 0.5238320827484131\n",
      "outputs 0.9999996423721313 0.07724\n",
      "targets 0.6225000023841858 0.5071982145309448\n",
      "outputs 0.9999996423721313 0.07520\n",
      "targets 0.3774999976158142 0.5071982145309448\n",
      "outputs 0.9999996423721313 0.07888\n",
      "targets 0.3774999976158142 0.5071982145309448\n",
      "outputs 0.9999996423721313 0.08133\n",
      "targets 0.6225000023841858 0.5071982145309448\n",
      "outputs 0.9999996423721313 0.07958\n",
      "targets 0.7940000295639038 0.43826931715011597\n",
      "Valid Step 8/8, valid_loss: 0.7612\n",
      "[Epoch Train: 6] loss: 0.7867, time: 57.00 s            \n",
      "[Epoch Valid: 6] loss: 0.7612, auc: 0.5000, time: 4.00 s\n",
      "EPOCH: 7\n"
     ]
    },
    {
     "data": {
      "application/vnd.jupyter.widget-view+json": {
       "model_id": "856e5538dae848b0a11c4fec2d9a8b35",
       "version_major": 2,
       "version_minor": 0
      },
      "text/plain": [
       "HBox(children=(FloatProgress(value=0.0, max=66.0), HTML(value='')))"
      ]
     },
     "metadata": {},
     "output_type": "display_data"
    },
    {
     "name": "stdout",
     "output_type": "stream",
     "text": [
      "Train Step 66/66, train_loss: 0.7867\n"
     ]
    },
    {
     "data": {
      "application/vnd.jupyter.widget-view+json": {
       "model_id": "3157058fcaa04b05bead88c4ba8d1a66",
       "version_major": 2,
       "version_minor": 0
      },
      "text/plain": [
       "HBox(children=(FloatProgress(value=0.0, max=8.0), HTML(value='')))"
      ]
     },
     "metadata": {},
     "output_type": "display_data"
    },
    {
     "name": "stdout",
     "output_type": "stream",
     "text": [
      "outputs 1.0 0.0\n",
      "targets 0.5 0.5238320827484131\n",
      "outputs 1.0 0.0 valid_loss: 0.8133\n",
      "targets 0.6225000023841858 0.5071982145309448\n",
      "outputs 1.0 0.0 valid_loss: 0.7520\n",
      "targets 0.5 0.5238320827484131\n",
      "outputs 1.0 0.0 valid_loss: 0.7724\n",
      "targets 0.6225000023841858 0.5071982145309448\n",
      "outputs 1.0 0.0 valid_loss: 0.7520\n",
      "targets 0.3774999976158142 0.5071982145309448\n",
      "outputs 1.0 0.0 valid_loss: 0.7888\n",
      "targets 0.3774999976158142 0.5071982145309448\n",
      "outputs 1.0 0.0 valid_loss: 0.8133\n",
      "targets 0.6225000023841858 0.5071982145309448\n",
      "outputs 1.0 0.0 valid_loss: 0.7958\n",
      "targets 0.7940000295639038 0.43826931715011597\n",
      "Valid Step 8/8, valid_loss: 0.7612\n",
      "[Epoch Train: 7] loss: 0.7867, time: 57.00 s            \n",
      "[Epoch Valid: 7] loss: 0.7612, auc: 0.5000, time: 4.00 s\n",
      "EPOCH: 8\n"
     ]
    },
    {
     "data": {
      "application/vnd.jupyter.widget-view+json": {
       "model_id": "1c8af0443d9a4b62922b5091e1d54702",
       "version_major": 2,
       "version_minor": 0
      },
      "text/plain": [
       "HBox(children=(FloatProgress(value=0.0, max=66.0), HTML(value='')))"
      ]
     },
     "metadata": {},
     "output_type": "display_data"
    },
    {
     "name": "stdout",
     "output_type": "stream",
     "text": [
      "Train Step 66/66, train_loss: 0.7898\n"
     ]
    },
    {
     "data": {
      "application/vnd.jupyter.widget-view+json": {
       "model_id": "5eda3a841b584be38ad08696d405d87c",
       "version_major": 2,
       "version_minor": 0
      },
      "text/plain": [
       "HBox(children=(FloatProgress(value=0.0, max=8.0), HTML(value='')))"
      ]
     },
     "metadata": {},
     "output_type": "display_data"
    },
    {
     "name": "stdout",
     "output_type": "stream",
     "text": [
      "outputs 1.0 0.0\n",
      "targets 0.5 0.5238320827484131\n",
      "outputs 1.0 0.0 valid_loss: 0.8133\n",
      "targets 0.6225000023841858 0.5071982145309448\n",
      "outputs 1.0 0.0 valid_loss: 0.7520\n",
      "targets 0.5 0.5238320827484131\n",
      "outputs 1.0 0.0 valid_loss: 0.7724\n",
      "targets 0.6225000023841858 0.5071982145309448\n",
      "outputs 1.0 0.0 valid_loss: 0.7520\n",
      "targets 0.3774999976158142 0.5071982145309448\n",
      "outputs 1.0 0.0 valid_loss: 0.7888\n",
      "targets 0.3774999976158142 0.5071982145309448\n",
      "outputs 1.0 0.0 valid_loss: 0.8133\n",
      "targets 0.6225000023841858 0.5071982145309448\n",
      "outputs 1.0 0.0 valid_loss: 0.7958\n",
      "targets 0.7940000295639038 0.43826931715011597\n",
      "Valid Step 8/8, valid_loss: 0.7612\n",
      "[Epoch Train: 8] loss: 0.7898, time: 57.00 s            \n",
      "[Epoch Valid: 8] loss: 0.7612, auc: 0.5000, time: 4.00 s\n",
      "EPOCH: 9\n"
     ]
    },
    {
     "data": {
      "application/vnd.jupyter.widget-view+json": {
       "model_id": "2a1fcea2ab8d4f239e5403e6f98f423c",
       "version_major": 2,
       "version_minor": 0
      },
      "text/plain": [
       "HBox(children=(FloatProgress(value=0.0, max=66.0), HTML(value='')))"
      ]
     },
     "metadata": {},
     "output_type": "display_data"
    },
    {
     "name": "stdout",
     "output_type": "stream",
     "text": [
      "Train Step 3/66, train_loss: 0.8133\r"
     ]
    },
    {
     "data": {
      "application/vnd.jupyter.widget-view+json": {
       "model_id": "5233517ffc1942a8b583025f7d65ea6c",
       "version_major": 2,
       "version_minor": 0
      },
      "text/plain": [
       "HBox(children=(FloatProgress(value=0.0, max=8.0), HTML(value='')))"
      ]
     },
     "metadata": {},
     "output_type": "display_data"
    },
    {
     "name": "stdout",
     "output_type": "stream",
     "text": [
      "outputs 1.0 0.0\n",
      "targets 0.5 0.5238320827484131\n",
      "outputs 1.0 0.0 valid_loss: 0.8133\n",
      "targets 0.6225000023841858 0.5071982145309448\n",
      "outputs 1.0 0.0 valid_loss: 0.7520\n",
      "targets 0.5 0.5238320827484131\n",
      "outputs 1.0 0.0 valid_loss: 0.7724\n",
      "targets 0.6225000023841858 0.5071982145309448\n",
      "outputs 1.0 0.0 valid_loss: 0.7520\n",
      "targets 0.3774999976158142 0.5071982145309448\n",
      "outputs 1.0 0.0 valid_loss: 0.7888\n",
      "targets 0.3774999976158142 0.5071982145309448\n",
      "outputs 1.0 0.0 valid_loss: 0.8133\n",
      "targets 0.6225000023841858 0.5071982145309448\n",
      "outputs 1.0 0.0 valid_loss: 0.7958\n",
      "targets 0.7940000295639038 0.43826931715011597\n",
      "Valid Step 8/8, valid_loss: 0.7612\n",
      "[Epoch Valid: 9] loss: 0.7612, auc: 0.5000, time: 4.00 s\n",
      "Train Step 6/66, train_loss: 0.8541\r"
     ]
    },
    {
     "data": {
      "application/vnd.jupyter.widget-view+json": {
       "model_id": "8a6ca94702f742cc8bbcc32b3eaccb92",
       "version_major": 2,
       "version_minor": 0
      },
      "text/plain": [
       "HBox(children=(FloatProgress(value=0.0, max=8.0), HTML(value='')))"
      ]
     },
     "metadata": {},
     "output_type": "display_data"
    },
    {
     "name": "stdout",
     "output_type": "stream",
     "text": [
      "outputs 1.0 0.0\n",
      "targets 0.5 0.5238320827484131\n",
      "outputs 1.0 0.0 valid_loss: 0.8133\n",
      "targets 0.6225000023841858 0.5071982145309448\n",
      "outputs 1.0 0.0 valid_loss: 0.7520\n",
      "targets 0.5 0.5238320827484131\n",
      "outputs 1.0 0.0 valid_loss: 0.7724\n",
      "targets 0.6225000023841858 0.5071982145309448\n",
      "outputs 1.0 0.0 valid_loss: 0.7520\n",
      "targets 0.3774999976158142 0.5071982145309448\n",
      "outputs 1.0 0.0 valid_loss: 0.7888\n",
      "targets 0.3774999976158142 0.5071982145309448\n",
      "outputs 1.0 0.0 valid_loss: 0.8133\n",
      "targets 0.6225000023841858 0.5071982145309448\n",
      "outputs 1.0 0.0 valid_loss: 0.7958\n",
      "targets 0.7940000295639038 0.43826931715011597\n",
      "Valid Step 8/8, valid_loss: 0.7612\n",
      "[Epoch Valid: 9] loss: 0.7612, auc: 0.5000, time: 4.00 s\n",
      "Train Step 9/66, train_loss: 0.8541\r"
     ]
    },
    {
     "data": {
      "application/vnd.jupyter.widget-view+json": {
       "model_id": "b423d1159b80406b8a461bc4191186bf",
       "version_major": 2,
       "version_minor": 0
      },
      "text/plain": [
       "HBox(children=(FloatProgress(value=0.0, max=8.0), HTML(value='')))"
      ]
     },
     "metadata": {},
     "output_type": "display_data"
    },
    {
     "name": "stdout",
     "output_type": "stream",
     "text": [
      "outputs 1.0 0.0\n",
      "targets 0.5 0.5238320827484131\n",
      "outputs 1.0 0.0 valid_loss: 0.8133\n",
      "targets 0.6225000023841858 0.5071982145309448\n",
      "outputs 1.0 0.0 valid_loss: 0.7520\n",
      "targets 0.5 0.5238320827484131\n",
      "outputs 1.0 0.0 valid_loss: 0.7724\n",
      "targets 0.6225000023841858 0.5071982145309448\n",
      "outputs 1.0 0.0 valid_loss: 0.7520\n",
      "targets 0.3774999976158142 0.5071982145309448\n",
      "outputs 1.0 0.0 valid_loss: 0.7888\n",
      "targets 0.3774999976158142 0.5071982145309448\n",
      "outputs 1.0 0.0 valid_loss: 0.8133\n",
      "targets 0.6225000023841858 0.5071982145309448\n",
      "outputs 1.0 0.0 valid_loss: 0.7958\n",
      "targets 0.7940000295639038 0.43826931715011597\n",
      "Valid Step 8/8, valid_loss: 0.7612\n",
      "[Epoch Valid: 9] loss: 0.7612, auc: 0.5000, time: 4.00 s\n",
      "Train Step 12/66, train_loss: 0.8133\r"
     ]
    },
    {
     "data": {
      "application/vnd.jupyter.widget-view+json": {
       "model_id": "d366d0df0a0b4f6aafb5383dd281d742",
       "version_major": 2,
       "version_minor": 0
      },
      "text/plain": [
       "HBox(children=(FloatProgress(value=0.0, max=8.0), HTML(value='')))"
      ]
     },
     "metadata": {},
     "output_type": "display_data"
    },
    {
     "name": "stdout",
     "output_type": "stream",
     "text": [
      "outputs 1.0 0.0\n",
      "targets 0.5 0.5238320827484131\n",
      "outputs 1.0 0.0 valid_loss: 0.8133\n",
      "targets 0.6225000023841858 0.5071982145309448\n",
      "outputs 1.0 0.0 valid_loss: 0.7520\n",
      "targets 0.5 0.5238320827484131\n",
      "outputs 1.0 0.0 valid_loss: 0.7724\n",
      "targets 0.6225000023841858 0.5071982145309448\n",
      "outputs 1.0 0.0 valid_loss: 0.7520\n",
      "targets 0.3774999976158142 0.5071982145309448\n",
      "outputs 1.0 0.0 valid_loss: 0.7888\n",
      "targets 0.3774999976158142 0.5071982145309448\n",
      "outputs 1.0 0.0 valid_loss: 0.8133\n",
      "targets 0.6225000023841858 0.5071982145309448\n",
      "outputs 1.0 0.0 valid_loss: 0.7958\n",
      "targets 0.7940000295639038 0.43826931715011597\n",
      "Valid Step 8/8, valid_loss: 0.7612\n",
      "[Epoch Valid: 9] loss: 0.7612, auc: 0.5000, time: 4.00 s\n",
      "Train Step 15/66, train_loss: 0.8133\r"
     ]
    },
    {
     "data": {
      "application/vnd.jupyter.widget-view+json": {
       "model_id": "3939b1756aba4989bbb2536d1c76ba39",
       "version_major": 2,
       "version_minor": 0
      },
      "text/plain": [
       "HBox(children=(FloatProgress(value=0.0, max=8.0), HTML(value='')))"
      ]
     },
     "metadata": {},
     "output_type": "display_data"
    },
    {
     "name": "stdout",
     "output_type": "stream",
     "text": [
      "outputs 1.0 0.0\n",
      "targets 0.5 0.5238320827484131\n",
      "outputs 1.0 0.0 valid_loss: 0.8133\n",
      "targets 0.6225000023841858 0.5071982145309448\n",
      "outputs 1.0 0.0 valid_loss: 0.7520\n",
      "targets 0.5 0.5238320827484131\n",
      "outputs 1.0 0.0 valid_loss: 0.7724\n",
      "targets 0.6225000023841858 0.5071982145309448\n",
      "outputs 1.0 0.0 valid_loss: 0.7520\n",
      "targets 0.3774999976158142 0.5071982145309448\n",
      "outputs 1.0 0.0 valid_loss: 0.7888\n",
      "targets 0.3774999976158142 0.5071982145309448\n",
      "outputs 1.0 0.0 valid_loss: 0.8133\n",
      "targets 0.6225000023841858 0.5071982145309448\n",
      "outputs 1.0 0.0 valid_loss: 0.7958\n",
      "targets 0.7940000295639038 0.43826931715011597\n",
      "Valid Step 8/8, valid_loss: 0.7612\n",
      "[Epoch Valid: 9] loss: 0.7612, auc: 0.5000, time: 4.00 s\n",
      "Train Step 18/66, train_loss: 0.8269\r"
     ]
    },
    {
     "data": {
      "application/vnd.jupyter.widget-view+json": {
       "model_id": "a0c0e076e55c4134b723cc310207f997",
       "version_major": 2,
       "version_minor": 0
      },
      "text/plain": [
       "HBox(children=(FloatProgress(value=0.0, max=8.0), HTML(value='')))"
      ]
     },
     "metadata": {},
     "output_type": "display_data"
    },
    {
     "name": "stdout",
     "output_type": "stream",
     "text": [
      "outputs 1.0 0.0\n",
      "targets 0.5 0.5238320827484131\n",
      "outputs 1.0 0.0 valid_loss: 0.8133\n",
      "targets 0.6225000023841858 0.5071982145309448\n",
      "outputs 1.0 0.0 valid_loss: 0.7520\n",
      "targets 0.5 0.5238320827484131\n",
      "outputs 1.0 0.0 valid_loss: 0.7724\n",
      "targets 0.6225000023841858 0.5071982145309448\n",
      "outputs 1.0 0.0 valid_loss: 0.7520\n",
      "targets 0.3774999976158142 0.5071982145309448\n",
      "outputs 1.0 0.0 valid_loss: 0.7888\n",
      "targets 0.3774999976158142 0.5071982145309448\n",
      "outputs 1.0 0.0 valid_loss: 0.8133\n",
      "targets 0.6225000023841858 0.5071982145309448\n",
      "outputs 1.0 0.0 valid_loss: 0.7958\n",
      "targets 0.7940000295639038 0.43826931715011597\n",
      "Valid Step 8/8, valid_loss: 0.7612\n",
      "[Epoch Valid: 9] loss: 0.7612, auc: 0.5000, time: 4.00 s\n",
      "Train Step 21/66, train_loss: 0.8016\r"
     ]
    },
    {
     "data": {
      "application/vnd.jupyter.widget-view+json": {
       "model_id": "f0c35e8572c34a4abcb263161e40069c",
       "version_major": 2,
       "version_minor": 0
      },
      "text/plain": [
       "HBox(children=(FloatProgress(value=0.0, max=8.0), HTML(value='')))"
      ]
     },
     "metadata": {},
     "output_type": "display_data"
    },
    {
     "name": "stdout",
     "output_type": "stream",
     "text": [
      "outputs 1.0 0.0\n",
      "targets 0.5 0.5238320827484131\n",
      "outputs 1.0 0.0 valid_loss: 0.8133\n",
      "targets 0.6225000023841858 0.5071982145309448\n",
      "outputs 1.0 0.0 valid_loss: 0.7520\n",
      "targets 0.5 0.5238320827484131\n",
      "outputs 1.0 0.0 valid_loss: 0.7724\n",
      "targets 0.6225000023841858 0.5071982145309448\n",
      "outputs 1.0 0.0 valid_loss: 0.7520\n",
      "targets 0.3774999976158142 0.5071982145309448\n",
      "outputs 1.0 0.0 valid_loss: 0.7888\n",
      "targets 0.3774999976158142 0.5071982145309448\n",
      "outputs 1.0 0.0 valid_loss: 0.8133\n",
      "targets 0.6225000023841858 0.5071982145309448\n",
      "outputs 1.0 0.0 valid_loss: 0.7958\n",
      "targets 0.7940000295639038 0.43826931715011597\n",
      "Valid Step 8/8, valid_loss: 0.7612\n",
      "[Epoch Valid: 9] loss: 0.7612, auc: 0.5000, time: 4.00 s\n",
      "Train Step 24/66, train_loss: 0.8082\r"
     ]
    },
    {
     "data": {
      "application/vnd.jupyter.widget-view+json": {
       "model_id": "c43555a131dd4305836b14520bac5509",
       "version_major": 2,
       "version_minor": 0
      },
      "text/plain": [
       "HBox(children=(FloatProgress(value=0.0, max=8.0), HTML(value='')))"
      ]
     },
     "metadata": {},
     "output_type": "display_data"
    },
    {
     "name": "stdout",
     "output_type": "stream",
     "text": [
      "outputs 1.0 0.0\n",
      "targets 0.5 0.5238320827484131\n",
      "outputs 1.0 0.0 valid_loss: 0.8133\n",
      "targets 0.6225000023841858 0.5071982145309448\n",
      "outputs 1.0 0.0 valid_loss: 0.7520\n",
      "targets 0.5 0.5238320827484131\n",
      "outputs 1.0 0.0 valid_loss: 0.7724\n",
      "targets 0.6225000023841858 0.5071982145309448\n",
      "outputs 1.0 0.0 valid_loss: 0.7520\n",
      "targets 0.3774999976158142 0.5071982145309448\n",
      "outputs 1.0 0.0 valid_loss: 0.7888\n",
      "targets 0.3774999976158142 0.5071982145309448\n",
      "outputs 1.0 0.0 valid_loss: 0.8133\n",
      "targets 0.6225000023841858 0.5071982145309448\n",
      "outputs 1.0 0.0 valid_loss: 0.7958\n",
      "targets 0.7940000295639038 0.43826931715011597\n",
      "Valid Step 8/8, valid_loss: 0.7612\n",
      "[Epoch Valid: 9] loss: 0.7612, auc: 0.5000, time: 4.00 s\n",
      "Train Step 27/66, train_loss: 0.8087\r"
     ]
    },
    {
     "data": {
      "application/vnd.jupyter.widget-view+json": {
       "model_id": "f0521bc9615c479eb5920819ff319281",
       "version_major": 2,
       "version_minor": 0
      },
      "text/plain": [
       "HBox(children=(FloatProgress(value=0.0, max=8.0), HTML(value='')))"
      ]
     },
     "metadata": {},
     "output_type": "display_data"
    },
    {
     "name": "stdout",
     "output_type": "stream",
     "text": [
      "outputs 1.0 0.0\n",
      "targets 0.5 0.5238320827484131\n",
      "outputs 1.0 0.0 valid_loss: 0.8133\n",
      "targets 0.6225000023841858 0.5071982145309448\n",
      "outputs 1.0 0.0 valid_loss: 0.7520\n",
      "targets 0.5 0.5238320827484131\n",
      "outputs 1.0 0.0 valid_loss: 0.7724\n",
      "targets 0.6225000023841858 0.5071982145309448\n",
      "outputs 1.0 0.0 valid_loss: 0.7520\n",
      "targets 0.3774999976158142 0.5071982145309448\n",
      "outputs 1.0 0.0 valid_loss: 0.7888\n",
      "targets 0.3774999976158142 0.5071982145309448\n",
      "outputs 1.0 0.0 valid_loss: 0.8133\n",
      "targets 0.6225000023841858 0.5071982145309448\n",
      "outputs 1.0 0.0 valid_loss: 0.7958\n",
      "targets 0.7940000295639038 0.43826931715011597\n",
      "Valid Step 8/8, valid_loss: 0.7612\n",
      "[Epoch Valid: 9] loss: 0.7612, auc: 0.5000, time: 4.00 s\n",
      "Train Step 30/66, train_loss: 0.8051\r"
     ]
    },
    {
     "data": {
      "application/vnd.jupyter.widget-view+json": {
       "model_id": "a36f19a154b74d6fbe10b14c7a522fcf",
       "version_major": 2,
       "version_minor": 0
      },
      "text/plain": [
       "HBox(children=(FloatProgress(value=0.0, max=8.0), HTML(value='')))"
      ]
     },
     "metadata": {},
     "output_type": "display_data"
    },
    {
     "name": "stdout",
     "output_type": "stream",
     "text": [
      "outputs 1.0 0.0\n",
      "targets 0.5 0.5238320827484131\n",
      "outputs 1.0 0.0 valid_loss: 0.8133\n",
      "targets 0.6225000023841858 0.5071982145309448\n",
      "outputs 1.0 0.0 valid_loss: 0.7520\n",
      "targets 0.5 0.5238320827484131\n",
      "outputs 1.0 0.0 valid_loss: 0.7724\n",
      "targets 0.6225000023841858 0.5071982145309448\n",
      "outputs 1.0 0.0 valid_loss: 0.7520\n",
      "targets 0.3774999976158142 0.5071982145309448\n",
      "outputs 1.0 0.0 valid_loss: 0.7888\n",
      "targets 0.3774999976158142 0.5071982145309448\n",
      "outputs 1.0 0.0 valid_loss: 0.8133\n",
      "targets 0.6225000023841858 0.5071982145309448\n",
      "outputs 1.0 0.0 valid_loss: 0.7958\n",
      "targets 0.7940000295639038 0.43826931715011597\n",
      "Valid Step 8/8, valid_loss: 0.7612\n",
      "[Epoch Valid: 9] loss: 0.7612, auc: 0.5000, time: 4.00 s\n",
      "Train Step 33/66, train_loss: 0.8133\r"
     ]
    },
    {
     "data": {
      "application/vnd.jupyter.widget-view+json": {
       "model_id": "263dfc55b0fa4df0a26fa83a64f32f78",
       "version_major": 2,
       "version_minor": 0
      },
      "text/plain": [
       "HBox(children=(FloatProgress(value=0.0, max=8.0), HTML(value='')))"
      ]
     },
     "metadata": {},
     "output_type": "display_data"
    },
    {
     "name": "stdout",
     "output_type": "stream",
     "text": [
      "outputs 1.0 0.0\n",
      "targets 0.5 0.5238320827484131\n",
      "outputs 1.0 0.0 valid_loss: 0.8133\n",
      "targets 0.6225000023841858 0.5071982145309448\n",
      "outputs 1.0 0.0 valid_loss: 0.7520\n",
      "targets 0.5 0.5238320827484131\n",
      "outputs 1.0 0.0 valid_loss: 0.7724\n",
      "targets 0.6225000023841858 0.5071982145309448\n",
      "outputs 1.0 0.0 valid_loss: 0.7520\n",
      "targets 0.3774999976158142 0.5071982145309448\n",
      "outputs 1.0 0.0 valid_loss: 0.7888\n",
      "targets 0.3774999976158142 0.5071982145309448\n",
      "outputs 1.0 0.0 valid_loss: 0.8133\n",
      "targets 0.6225000023841858 0.5071982145309448\n",
      "outputs 1.0 0.0 valid_loss: 0.7958\n",
      "targets 0.7940000295639038 0.43826931715011597\n",
      "Valid Step 8/8, valid_loss: 0.7612\n",
      "[Epoch Valid: 9] loss: 0.7612, auc: 0.5000, time: 4.00 s\n",
      "Train Step 36/66, train_loss: 0.8133\r"
     ]
    },
    {
     "data": {
      "application/vnd.jupyter.widget-view+json": {
       "model_id": "bdb1774aa1224d1f9eb46049df889ce9",
       "version_major": 2,
       "version_minor": 0
      },
      "text/plain": [
       "HBox(children=(FloatProgress(value=0.0, max=8.0), HTML(value='')))"
      ]
     },
     "metadata": {},
     "output_type": "display_data"
    },
    {
     "name": "stdout",
     "output_type": "stream",
     "text": [
      "outputs 1.0 0.0\n",
      "targets 0.5 0.5238320827484131\n",
      "outputs 1.0 0.0 valid_loss: 0.8133\n",
      "targets 0.6225000023841858 0.5071982145309448\n",
      "outputs 1.0 0.0 valid_loss: 0.7520\n",
      "targets 0.5 0.5238320827484131\n",
      "outputs 1.0 0.0 valid_loss: 0.7724\n",
      "targets 0.6225000023841858 0.5071982145309448\n",
      "outputs 1.0 0.0 valid_loss: 0.7520\n",
      "targets 0.3774999976158142 0.5071982145309448\n",
      "outputs 1.0 0.0 valid_loss: 0.7888\n",
      "targets 0.3774999976158142 0.5071982145309448\n",
      "outputs 1.0 0.0 valid_loss: 0.8133\n",
      "targets 0.6225000023841858 0.5071982145309448\n",
      "outputs 1.0 0.0 valid_loss: 0.7958\n",
      "targets 0.7940000295639038 0.43826931715011597\n",
      "Valid Step 8/8, valid_loss: 0.7612\n",
      "[Epoch Valid: 9] loss: 0.7612, auc: 0.5000, time: 4.00 s\n",
      "Train Step 39/66, train_loss: 0.8070\r"
     ]
    },
    {
     "data": {
      "application/vnd.jupyter.widget-view+json": {
       "model_id": "c5942df147874a53a70c6c13363a182e",
       "version_major": 2,
       "version_minor": 0
      },
      "text/plain": [
       "HBox(children=(FloatProgress(value=0.0, max=8.0), HTML(value='')))"
      ]
     },
     "metadata": {},
     "output_type": "display_data"
    },
    {
     "name": "stdout",
     "output_type": "stream",
     "text": [
      "outputs 1.0 0.0\n",
      "targets 0.5 0.5238320827484131\n",
      "outputs 1.0 0.0 valid_loss: 0.8133\n",
      "targets 0.6225000023841858 0.5071982145309448\n",
      "outputs 1.0 0.0 valid_loss: 0.7520\n",
      "targets 0.5 0.5238320827484131\n",
      "outputs 1.0 0.0 valid_loss: 0.7724\n",
      "targets 0.6225000023841858 0.5071982145309448\n",
      "outputs 1.0 0.0 valid_loss: 0.7520\n",
      "targets 0.3774999976158142 0.5071982145309448\n",
      "outputs 1.0 0.0 valid_loss: 0.7888\n",
      "targets 0.3774999976158142 0.5071982145309448\n",
      "outputs 1.0 0.0 valid_loss: 0.8133\n",
      "targets 0.6225000023841858 0.5071982145309448\n",
      "outputs 1.0 0.0 valid_loss: 0.7958\n",
      "targets 0.7940000295639038 0.43826931715011597\n",
      "Valid Step 8/8, valid_loss: 0.7612\n",
      "[Epoch Valid: 9] loss: 0.7612, auc: 0.5000, time: 4.00 s\n",
      "Train Step 42/66, train_loss: 0.8133\r"
     ]
    },
    {
     "data": {
      "application/vnd.jupyter.widget-view+json": {
       "model_id": "ed5f83b39b3e4e1fb69d123bcdd983b7",
       "version_major": 2,
       "version_minor": 0
      },
      "text/plain": [
       "HBox(children=(FloatProgress(value=0.0, max=8.0), HTML(value='')))"
      ]
     },
     "metadata": {},
     "output_type": "display_data"
    },
    {
     "name": "stdout",
     "output_type": "stream",
     "text": [
      "outputs 1.0 0.0\n",
      "targets 0.5 0.5238320827484131\n",
      "outputs 1.0 0.0 valid_loss: 0.8133\n",
      "targets 0.6225000023841858 0.5071982145309448\n",
      "outputs 1.0 0.0 valid_loss: 0.7520\n",
      "targets 0.5 0.5238320827484131\n",
      "outputs 1.0 0.0 valid_loss: 0.7724\n",
      "targets 0.6225000023841858 0.5071982145309448\n",
      "outputs 1.0 0.0 valid_loss: 0.7520\n",
      "targets 0.3774999976158142 0.5071982145309448\n",
      "outputs 1.0 0.0 valid_loss: 0.7888\n",
      "targets 0.3774999976158142 0.5071982145309448\n",
      "outputs 1.0 0.0 valid_loss: 0.8133\n",
      "targets 0.6225000023841858 0.5071982145309448\n",
      "outputs 1.0 0.0 valid_loss: 0.7958\n",
      "targets 0.7940000295639038 0.43826931715011597\n",
      "Valid Step 8/8, valid_loss: 0.7612\n",
      "[Epoch Valid: 9] loss: 0.7612, auc: 0.5000, time: 4.00 s\n",
      "Train Step 45/66, train_loss: 0.8160\r"
     ]
    },
    {
     "data": {
      "application/vnd.jupyter.widget-view+json": {
       "model_id": "cdf57ff0cea04e14afadf75f9b26b962",
       "version_major": 2,
       "version_minor": 0
      },
      "text/plain": [
       "HBox(children=(FloatProgress(value=0.0, max=8.0), HTML(value='')))"
      ]
     },
     "metadata": {},
     "output_type": "display_data"
    },
    {
     "name": "stdout",
     "output_type": "stream",
     "text": [
      "outputs 1.0 0.0\n",
      "targets 0.5 0.5238320827484131\n",
      "outputs 1.0 0.0 valid_loss: 0.8133\n",
      "targets 0.6225000023841858 0.5071982145309448\n",
      "outputs 1.0 0.0 valid_loss: 0.7520\n",
      "targets 0.5 0.5238320827484131\n",
      "outputs 1.0 0.0 valid_loss: 0.7724\n",
      "targets 0.6225000023841858 0.5071982145309448\n",
      "outputs 1.0 0.0 valid_loss: 0.7520\n",
      "targets 0.3774999976158142 0.5071982145309448\n",
      "outputs 1.0 0.0 valid_loss: 0.7888\n",
      "targets 0.3774999976158142 0.5071982145309448\n",
      "outputs 1.0 0.0 valid_loss: 0.8133\n",
      "targets 0.6225000023841858 0.5071982145309448\n",
      "outputs 1.0 0.0 valid_loss: 0.7958\n",
      "targets 0.7940000295639038 0.43826931715011597\n",
      "Valid Step 8/8, valid_loss: 0.7612\n",
      "[Epoch Valid: 9] loss: 0.7612, auc: 0.5000, time: 4.00 s\n",
      "Train Step 48/66, train_loss: 0.8107\r"
     ]
    },
    {
     "data": {
      "application/vnd.jupyter.widget-view+json": {
       "model_id": "439637e59ecf43238f2162cccbb14178",
       "version_major": 2,
       "version_minor": 0
      },
      "text/plain": [
       "HBox(children=(FloatProgress(value=0.0, max=8.0), HTML(value='')))"
      ]
     },
     "metadata": {},
     "output_type": "display_data"
    },
    {
     "name": "stdout",
     "output_type": "stream",
     "text": [
      "outputs 1.0 0.0\n",
      "targets 0.5 0.5238320827484131\n",
      "outputs 1.0 0.0 valid_loss: 0.8133\n",
      "targets 0.6225000023841858 0.5071982145309448\n",
      "outputs 1.0 0.0 valid_loss: 0.7520\n",
      "targets 0.5 0.5238320827484131\n",
      "outputs 1.0 0.0 valid_loss: 0.7724\n",
      "targets 0.6225000023841858 0.5071982145309448\n",
      "outputs 1.0 0.0 valid_loss: 0.7520\n",
      "targets 0.3774999976158142 0.5071982145309448\n",
      "outputs 1.0 0.0 valid_loss: 0.7888\n",
      "targets 0.3774999976158142 0.5071982145309448\n",
      "outputs 1.0 0.0 valid_loss: 0.8133\n",
      "targets 0.6225000023841858 0.5071982145309448\n",
      "outputs 1.0 0.0 valid_loss: 0.7958\n",
      "targets 0.7940000295639038 0.43826931715011597\n",
      "Valid Step 8/8, valid_loss: 0.7612\n",
      "[Epoch Valid: 9] loss: 0.7612, auc: 0.5000, time: 4.00 s\n",
      "Train Step 51/66, train_loss: 0.8037\r"
     ]
    },
    {
     "data": {
      "application/vnd.jupyter.widget-view+json": {
       "model_id": "ed2f1dee64d24ff8af5cad93258b268c",
       "version_major": 2,
       "version_minor": 0
      },
      "text/plain": [
       "HBox(children=(FloatProgress(value=0.0, max=8.0), HTML(value='')))"
      ]
     },
     "metadata": {},
     "output_type": "display_data"
    },
    {
     "name": "stdout",
     "output_type": "stream",
     "text": [
      "outputs 1.0 0.0\n",
      "targets 0.5 0.5238320827484131\n",
      "outputs 1.0 0.0 valid_loss: 0.8133\n",
      "targets 0.6225000023841858 0.5071982145309448\n",
      "outputs 1.0 0.0 valid_loss: 0.7520\n",
      "targets 0.5 0.5238320827484131\n",
      "outputs 1.0 0.0 valid_loss: 0.7724\n",
      "targets 0.6225000023841858 0.5071982145309448\n",
      "outputs 1.0 0.0 valid_loss: 0.7520\n",
      "targets 0.3774999976158142 0.5071982145309448\n",
      "outputs 1.0 0.0 valid_loss: 0.7888\n",
      "targets 0.3774999976158142 0.5071982145309448\n",
      "outputs 1.0 0.0 valid_loss: 0.8133\n",
      "targets 0.6225000023841858 0.5071982145309448\n",
      "outputs 1.0 0.0 valid_loss: 0.7958\n",
      "targets 0.7940000295639038 0.43826931715011597\n",
      "Valid Step 8/8, valid_loss: 0.7612\n",
      "[Epoch Valid: 9] loss: 0.7612, auc: 0.5000, time: 4.00 s\n",
      "Train Step 54/66, train_loss: 0.7974\r"
     ]
    },
    {
     "data": {
      "application/vnd.jupyter.widget-view+json": {
       "model_id": "58cd1ab347824bfa86e3a8a1329c536e",
       "version_major": 2,
       "version_minor": 0
      },
      "text/plain": [
       "HBox(children=(FloatProgress(value=0.0, max=8.0), HTML(value='')))"
      ]
     },
     "metadata": {},
     "output_type": "display_data"
    },
    {
     "name": "stdout",
     "output_type": "stream",
     "text": [
      "outputs 1.0 0.0\n",
      "targets 0.5 0.5238320827484131\n",
      "outputs 1.0 0.0 valid_loss: 0.8133\n",
      "targets 0.6225000023841858 0.5071982145309448\n",
      "outputs 1.0 0.0 valid_loss: 0.7520\n",
      "targets 0.5 0.5238320827484131\n",
      "outputs 1.0 0.0 valid_loss: 0.7724\n",
      "targets 0.6225000023841858 0.5071982145309448\n",
      "outputs 1.0 0.0 valid_loss: 0.7520\n",
      "targets 0.3774999976158142 0.5071982145309448\n",
      "outputs 1.0 0.0 valid_loss: 0.7888\n",
      "targets 0.3774999976158142 0.5071982145309448\n",
      "outputs 1.0 0.0 valid_loss: 0.8133\n",
      "targets 0.6225000023841858 0.5071982145309448\n",
      "outputs 1.0 0.0 valid_loss: 0.7958\n",
      "targets 0.7940000295639038 0.43826931715011597\n",
      "Valid Step 8/8, valid_loss: 0.7612\n",
      "[Epoch Valid: 9] loss: 0.7612, auc: 0.5000, time: 4.00 s\n",
      "Train Step 57/66, train_loss: 0.7961\r"
     ]
    },
    {
     "data": {
      "application/vnd.jupyter.widget-view+json": {
       "model_id": "6dbd6b1f0d714604b7ebe4b674a5f7a2",
       "version_major": 2,
       "version_minor": 0
      },
      "text/plain": [
       "HBox(children=(FloatProgress(value=0.0, max=8.0), HTML(value='')))"
      ]
     },
     "metadata": {},
     "output_type": "display_data"
    },
    {
     "name": "stdout",
     "output_type": "stream",
     "text": [
      "outputs 1.0 0.0\n",
      "targets 0.5 0.5238320827484131\n",
      "outputs 1.0 0.0 valid_loss: 0.8133\n",
      "targets 0.6225000023841858 0.5071982145309448\n",
      "outputs 1.0 0.0 valid_loss: 0.7520\n",
      "targets 0.5 0.5238320827484131\n",
      "outputs 1.0 0.0 valid_loss: 0.7724\n",
      "targets 0.6225000023841858 0.5071982145309448\n",
      "outputs 1.0 0.0 valid_loss: 0.7520\n",
      "targets 0.3774999976158142 0.5071982145309448\n",
      "outputs 1.0 0.0 valid_loss: 0.7888\n",
      "targets 0.3774999976158142 0.5071982145309448\n",
      "outputs 1.0 0.0 valid_loss: 0.8133\n",
      "targets 0.6225000023841858 0.5071982145309448\n",
      "outputs 1.0 0.0 valid_loss: 0.7958\n",
      "targets 0.7940000295639038 0.43826931715011597\n",
      "Valid Step 8/8, valid_loss: 0.7612\n",
      "[Epoch Valid: 9] loss: 0.7612, auc: 0.5000, time: 4.00 s\n",
      "Train Step 60/66, train_loss: 0.7867\r"
     ]
    },
    {
     "data": {
      "application/vnd.jupyter.widget-view+json": {
       "model_id": "3419396fe37c4b1d82a3764b02b85a07",
       "version_major": 2,
       "version_minor": 0
      },
      "text/plain": [
       "HBox(children=(FloatProgress(value=0.0, max=8.0), HTML(value='')))"
      ]
     },
     "metadata": {},
     "output_type": "display_data"
    },
    {
     "name": "stdout",
     "output_type": "stream",
     "text": [
      "outputs 1.0 0.0\n",
      "targets 0.5 0.5238320827484131\n",
      "outputs 1.0 0.0 valid_loss: 0.8133\n",
      "targets 0.6225000023841858 0.5071982145309448\n",
      "outputs 1.0 0.0 valid_loss: 0.7520\n",
      "targets 0.5 0.5238320827484131\n",
      "outputs 1.0 0.0 valid_loss: 0.7724\n",
      "targets 0.6225000023841858 0.5071982145309448\n",
      "outputs 1.0 0.0 valid_loss: 0.7520\n",
      "targets 0.3774999976158142 0.5071982145309448\n",
      "outputs 1.0 0.0 valid_loss: 0.7888\n",
      "targets 0.3774999976158142 0.5071982145309448\n",
      "outputs 1.0 0.0 valid_loss: 0.8133\n",
      "targets 0.6225000023841858 0.5071982145309448\n",
      "outputs 1.0 0.0 valid_loss: 0.7958\n",
      "targets 0.7940000295639038 0.43826931715011597\n",
      "Valid Step 8/8, valid_loss: 0.7612\n",
      "[Epoch Valid: 9] loss: 0.7612, auc: 0.5000, time: 4.00 s\n",
      "Train Step 63/66, train_loss: 0.7880\r"
     ]
    },
    {
     "data": {
      "application/vnd.jupyter.widget-view+json": {
       "model_id": "8c99e4ec33d74996985b5ece0e715fd1",
       "version_major": 2,
       "version_minor": 0
      },
      "text/plain": [
       "HBox(children=(FloatProgress(value=0.0, max=8.0), HTML(value='')))"
      ]
     },
     "metadata": {},
     "output_type": "display_data"
    },
    {
     "name": "stdout",
     "output_type": "stream",
     "text": [
      "outputs 1.0 0.0\n",
      "targets 0.5 0.5238320827484131\n",
      "outputs 1.0 0.0 valid_loss: 0.8133\n",
      "targets 0.6225000023841858 0.5071982145309448\n",
      "outputs 1.0 0.0 valid_loss: 0.7520\n",
      "targets 0.5 0.5238320827484131\n",
      "outputs 1.0 0.0 valid_loss: 0.7724\n",
      "targets 0.6225000023841858 0.5071982145309448\n",
      "outputs 1.0 0.0 valid_loss: 0.7520\n",
      "targets 0.3774999976158142 0.5071982145309448\n",
      "outputs 1.0 0.0 valid_loss: 0.7888\n",
      "targets 0.3774999976158142 0.5071982145309448\n",
      "outputs 1.0 0.0 valid_loss: 0.8133\n",
      "targets 0.6225000023841858 0.5071982145309448\n",
      "outputs 1.0 0.0 valid_loss: 0.7958\n",
      "targets 0.7940000295639038 0.43826931715011597\n",
      "Valid Step 8/8, valid_loss: 0.7612\n",
      "\n",
      "\n"
     ]
    },
    {
     "ename": "KeyboardInterrupt",
     "evalue": "",
     "output_type": "error",
     "traceback": [
      "\u001b[0;31m---------------------------------------------------------------------------\u001b[0m",
      "\u001b[0;31mKeyboardInterrupt\u001b[0m                         Traceback (most recent call last)",
      "\u001b[0;32m<ipython-input-156-eeb126044218>\u001b[0m in \u001b[0;36m<module>\u001b[0;34m\u001b[0m\n\u001b[1;32m      2\u001b[0m \u001b[0;34m\u001b[0m\u001b[0m\n\u001b[1;32m      3\u001b[0m \u001b[0;32mif\u001b[0m \u001b[0;32mnot\u001b[0m \u001b[0mmodelfiles\u001b[0m\u001b[0;34m:\u001b[0m\u001b[0;34m\u001b[0m\u001b[0;34m\u001b[0m\u001b[0m\n\u001b[0;32m----> 4\u001b[0;31m     \u001b[0mmodelfiles\u001b[0m \u001b[0;34m=\u001b[0m \u001b[0;34m[\u001b[0m\u001b[0mtrain_mri_type\u001b[0m\u001b[0;34m(\u001b[0m\u001b[0mdf_train\u001b[0m\u001b[0;34m,\u001b[0m \u001b[0mdf_valid\u001b[0m\u001b[0;34m,\u001b[0m \u001b[0mm\u001b[0m\u001b[0;34m)\u001b[0m \u001b[0;32mfor\u001b[0m \u001b[0mm\u001b[0m \u001b[0;32min\u001b[0m \u001b[0mmri_types\u001b[0m\u001b[0;34m]\u001b[0m\u001b[0;34m\u001b[0m\u001b[0;34m\u001b[0m\u001b[0m\n\u001b[0m\u001b[1;32m      5\u001b[0m     \u001b[0mprint\u001b[0m\u001b[0;34m(\u001b[0m\u001b[0mmodelfiles\u001b[0m\u001b[0;34m)\u001b[0m\u001b[0;34m\u001b[0m\u001b[0;34m\u001b[0m\u001b[0m\n",
      "\u001b[0;32m<ipython-input-156-eeb126044218>\u001b[0m in \u001b[0;36m<listcomp>\u001b[0;34m(.0)\u001b[0m\n\u001b[1;32m      2\u001b[0m \u001b[0;34m\u001b[0m\u001b[0m\n\u001b[1;32m      3\u001b[0m \u001b[0;32mif\u001b[0m \u001b[0;32mnot\u001b[0m \u001b[0mmodelfiles\u001b[0m\u001b[0;34m:\u001b[0m\u001b[0;34m\u001b[0m\u001b[0;34m\u001b[0m\u001b[0m\n\u001b[0;32m----> 4\u001b[0;31m     \u001b[0mmodelfiles\u001b[0m \u001b[0;34m=\u001b[0m \u001b[0;34m[\u001b[0m\u001b[0mtrain_mri_type\u001b[0m\u001b[0;34m(\u001b[0m\u001b[0mdf_train\u001b[0m\u001b[0;34m,\u001b[0m \u001b[0mdf_valid\u001b[0m\u001b[0;34m,\u001b[0m \u001b[0mm\u001b[0m\u001b[0;34m)\u001b[0m \u001b[0;32mfor\u001b[0m \u001b[0mm\u001b[0m \u001b[0;32min\u001b[0m \u001b[0mmri_types\u001b[0m\u001b[0;34m]\u001b[0m\u001b[0;34m\u001b[0m\u001b[0;34m\u001b[0m\u001b[0m\n\u001b[0m\u001b[1;32m      5\u001b[0m     \u001b[0mprint\u001b[0m\u001b[0;34m(\u001b[0m\u001b[0mmodelfiles\u001b[0m\u001b[0;34m)\u001b[0m\u001b[0;34m\u001b[0m\u001b[0;34m\u001b[0m\u001b[0m\n",
      "\u001b[0;32m<ipython-input-154-1db7b9b3f4a7>\u001b[0m in \u001b[0;36mtrain_mri_type\u001b[0;34m(df_train, df_valid, mri_type)\u001b[0m\n\u001b[1;32m     66\u001b[0m     )\n\u001b[1;32m     67\u001b[0m \u001b[0;34m\u001b[0m\u001b[0m\n\u001b[0;32m---> 68\u001b[0;31m     history = trainer.fit(\n\u001b[0m\u001b[1;32m     69\u001b[0m         \u001b[0mcfg\u001b[0m\u001b[0;34m.\u001b[0m\u001b[0mepochs\u001b[0m\u001b[0;34m,\u001b[0m\u001b[0;34m\u001b[0m\u001b[0;34m\u001b[0m\u001b[0m\n\u001b[1;32m     70\u001b[0m         \u001b[0mtrain_loader\u001b[0m\u001b[0;34m,\u001b[0m\u001b[0;34m\u001b[0m\u001b[0;34m\u001b[0m\u001b[0m\n",
      "\u001b[0;32m<ipython-input-151-66308e783293>\u001b[0m in \u001b[0;36mfit\u001b[0;34m(self, epochs, train_loader, valid_loader, save_path, patience)\u001b[0m\n\u001b[1;32m     28\u001b[0m \u001b[0;34m\u001b[0m\u001b[0m\n\u001b[1;32m     29\u001b[0m \u001b[0;34m\u001b[0m\u001b[0m\n\u001b[0;32m---> 30\u001b[0;31m             \u001b[0mtrain_loss\u001b[0m\u001b[0;34m,\u001b[0m \u001b[0mtrain_time\u001b[0m \u001b[0;34m=\u001b[0m \u001b[0mself\u001b[0m\u001b[0;34m.\u001b[0m\u001b[0mtrain_epoch\u001b[0m\u001b[0;34m(\u001b[0m\u001b[0mtrain_loader\u001b[0m\u001b[0;34m,\u001b[0m \u001b[0mvalid_loader\u001b[0m\u001b[0;34m,\u001b[0m \u001b[0mn_epoch\u001b[0m\u001b[0;34m,\u001b[0m \u001b[0msave_path\u001b[0m\u001b[0;34m)\u001b[0m\u001b[0;34m\u001b[0m\u001b[0;34m\u001b[0m\u001b[0m\n\u001b[0m\u001b[1;32m     31\u001b[0m             \u001b[0mvalid_loss\u001b[0m\u001b[0;34m,\u001b[0m \u001b[0mvalid_auc\u001b[0m\u001b[0;34m,\u001b[0m \u001b[0mvalid_time\u001b[0m \u001b[0;34m=\u001b[0m \u001b[0mself\u001b[0m\u001b[0;34m.\u001b[0m\u001b[0mvalid_epoch\u001b[0m\u001b[0;34m(\u001b[0m\u001b[0mvalid_loader\u001b[0m\u001b[0;34m)\u001b[0m\u001b[0;34m\u001b[0m\u001b[0;34m\u001b[0m\u001b[0m\n\u001b[1;32m     32\u001b[0m \u001b[0;34m\u001b[0m\u001b[0m\n",
      "\u001b[0;32m<ipython-input-151-66308e783293>\u001b[0m in \u001b[0;36mtrain_epoch\u001b[0;34m(self, train_loader, valid_loader, n_epoch, save_path)\u001b[0m\n\u001b[1;32m     95\u001b[0m             \u001b[0;32mif\u001b[0m \u001b[0mn_epoch\u001b[0m \u001b[0;32min\u001b[0m \u001b[0mextra_check_epochs\u001b[0m\u001b[0;34m:\u001b[0m\u001b[0;34m\u001b[0m\u001b[0;34m\u001b[0m\u001b[0m\n\u001b[1;32m     96\u001b[0m                 \u001b[0;32mif\u001b[0m \u001b[0mstep\u001b[0m \u001b[0;34m%\u001b[0m \u001b[0;36m3\u001b[0m \u001b[0;34m==\u001b[0m \u001b[0;36m0\u001b[0m\u001b[0;34m:\u001b[0m\u001b[0;34m\u001b[0m\u001b[0;34m\u001b[0m\u001b[0m\n\u001b[0;32m---> 97\u001b[0;31m                     \u001b[0mvalid_loss\u001b[0m\u001b[0;34m,\u001b[0m \u001b[0mvalid_auc\u001b[0m\u001b[0;34m,\u001b[0m \u001b[0mvalid_time\u001b[0m \u001b[0;34m=\u001b[0m \u001b[0mself\u001b[0m\u001b[0;34m.\u001b[0m\u001b[0mvalid_epoch\u001b[0m\u001b[0;34m(\u001b[0m\u001b[0mvalid_loader\u001b[0m\u001b[0;34m)\u001b[0m\u001b[0;34m\u001b[0m\u001b[0;34m\u001b[0m\u001b[0m\n\u001b[0m\u001b[1;32m     98\u001b[0m                     \u001b[0mself\u001b[0m\u001b[0;34m.\u001b[0m\u001b[0mcheck_and_save\u001b[0m\u001b[0;34m(\u001b[0m\u001b[0mvalid_loss\u001b[0m\u001b[0;34m,\u001b[0m \u001b[0mvalid_auc\u001b[0m\u001b[0;34m,\u001b[0m \u001b[0mvalid_time\u001b[0m\u001b[0;34m,\u001b[0m \u001b[0mn_epoch\u001b[0m\u001b[0;34m,\u001b[0m \u001b[0msave_path\u001b[0m\u001b[0;34m)\u001b[0m\u001b[0;34m\u001b[0m\u001b[0;34m\u001b[0m\u001b[0m\n\u001b[1;32m     99\u001b[0m                     \u001b[0mself\u001b[0m\u001b[0;34m.\u001b[0m\u001b[0mprint_valid_message\u001b[0m\u001b[0;34m(\u001b[0m\u001b[0mvalid_loss\u001b[0m\u001b[0;34m,\u001b[0m \u001b[0mvalid_auc\u001b[0m\u001b[0;34m,\u001b[0m \u001b[0mvalid_time\u001b[0m\u001b[0;34m,\u001b[0m \u001b[0mn_epoch\u001b[0m\u001b[0;34m)\u001b[0m\u001b[0;34m\u001b[0m\u001b[0;34m\u001b[0m\u001b[0m\n",
      "\u001b[0;32m<ipython-input-151-66308e783293>\u001b[0m in \u001b[0;36mvalid_epoch\u001b[0;34m(self, valid_loader)\u001b[0m\n\u001b[1;32m    110\u001b[0m \u001b[0;34m\u001b[0m\u001b[0m\n\u001b[1;32m    111\u001b[0m         \u001b[0mtbar\u001b[0m \u001b[0;34m=\u001b[0m \u001b[0mtqdm\u001b[0m\u001b[0;34m(\u001b[0m\u001b[0menumerate\u001b[0m\u001b[0;34m(\u001b[0m\u001b[0mvalid_loader\u001b[0m\u001b[0;34m,\u001b[0m \u001b[0;36m1\u001b[0m\u001b[0;34m)\u001b[0m\u001b[0;34m,\u001b[0m \u001b[0mtotal\u001b[0m\u001b[0;34m=\u001b[0m\u001b[0mlen\u001b[0m\u001b[0;34m(\u001b[0m\u001b[0mvalid_loader\u001b[0m\u001b[0;34m)\u001b[0m\u001b[0;34m)\u001b[0m\u001b[0;34m\u001b[0m\u001b[0;34m\u001b[0m\u001b[0m\n\u001b[0;32m--> 112\u001b[0;31m         \u001b[0;32mfor\u001b[0m \u001b[0mstep\u001b[0m\u001b[0;34m,\u001b[0m \u001b[0mbatch\u001b[0m \u001b[0;32min\u001b[0m \u001b[0mtbar\u001b[0m\u001b[0;34m:\u001b[0m\u001b[0;34m\u001b[0m\u001b[0;34m\u001b[0m\u001b[0m\n\u001b[0m\u001b[1;32m    113\u001b[0m             \u001b[0;32mwith\u001b[0m \u001b[0mtorch\u001b[0m\u001b[0;34m.\u001b[0m\u001b[0mno_grad\u001b[0m\u001b[0;34m(\u001b[0m\u001b[0;34m)\u001b[0m\u001b[0;34m:\u001b[0m\u001b[0;34m\u001b[0m\u001b[0;34m\u001b[0m\u001b[0m\n\u001b[1;32m    114\u001b[0m                 \u001b[0mX\u001b[0m \u001b[0;34m=\u001b[0m \u001b[0mbatch\u001b[0m\u001b[0;34m[\u001b[0m\u001b[0;34m\"X\"\u001b[0m\u001b[0;34m]\u001b[0m\u001b[0;34m.\u001b[0m\u001b[0mto\u001b[0m\u001b[0;34m(\u001b[0m\u001b[0mself\u001b[0m\u001b[0;34m.\u001b[0m\u001b[0mdevice\u001b[0m\u001b[0;34m)\u001b[0m\u001b[0;34m\u001b[0m\u001b[0;34m\u001b[0m\u001b[0m\n",
      "\u001b[0;32m/opt/conda/lib/python3.8/site-packages/tqdm/notebook.py\u001b[0m in \u001b[0;36m__iter__\u001b[0;34m(self, *args, **kwargs)\u001b[0m\n\u001b[1;32m    226\u001b[0m     \u001b[0;32mdef\u001b[0m \u001b[0m__iter__\u001b[0m\u001b[0;34m(\u001b[0m\u001b[0mself\u001b[0m\u001b[0;34m,\u001b[0m \u001b[0;34m*\u001b[0m\u001b[0margs\u001b[0m\u001b[0;34m,\u001b[0m \u001b[0;34m**\u001b[0m\u001b[0mkwargs\u001b[0m\u001b[0;34m)\u001b[0m\u001b[0;34m:\u001b[0m\u001b[0;34m\u001b[0m\u001b[0;34m\u001b[0m\u001b[0m\n\u001b[1;32m    227\u001b[0m         \u001b[0;32mtry\u001b[0m\u001b[0;34m:\u001b[0m\u001b[0;34m\u001b[0m\u001b[0;34m\u001b[0m\u001b[0m\n\u001b[0;32m--> 228\u001b[0;31m             \u001b[0;32mfor\u001b[0m \u001b[0mobj\u001b[0m \u001b[0;32min\u001b[0m \u001b[0msuper\u001b[0m\u001b[0;34m(\u001b[0m\u001b[0mtqdm_notebook\u001b[0m\u001b[0;34m,\u001b[0m \u001b[0mself\u001b[0m\u001b[0;34m)\u001b[0m\u001b[0;34m.\u001b[0m\u001b[0m__iter__\u001b[0m\u001b[0;34m(\u001b[0m\u001b[0;34m*\u001b[0m\u001b[0margs\u001b[0m\u001b[0;34m,\u001b[0m \u001b[0;34m**\u001b[0m\u001b[0mkwargs\u001b[0m\u001b[0;34m)\u001b[0m\u001b[0;34m:\u001b[0m\u001b[0;34m\u001b[0m\u001b[0;34m\u001b[0m\u001b[0m\n\u001b[0m\u001b[1;32m    229\u001b[0m                 \u001b[0;31m# return super(tqdm...) will not catch exception\u001b[0m\u001b[0;34m\u001b[0m\u001b[0;34m\u001b[0m\u001b[0;34m\u001b[0m\u001b[0m\n\u001b[1;32m    230\u001b[0m                 \u001b[0;32myield\u001b[0m \u001b[0mobj\u001b[0m\u001b[0;34m\u001b[0m\u001b[0;34m\u001b[0m\u001b[0m\n",
      "\u001b[0;32m/opt/conda/lib/python3.8/site-packages/tqdm/std.py\u001b[0m in \u001b[0;36m__iter__\u001b[0;34m(self)\u001b[0m\n\u001b[1;32m   1131\u001b[0m \u001b[0;34m\u001b[0m\u001b[0m\n\u001b[1;32m   1132\u001b[0m         \u001b[0;32mtry\u001b[0m\u001b[0;34m:\u001b[0m\u001b[0;34m\u001b[0m\u001b[0;34m\u001b[0m\u001b[0m\n\u001b[0;32m-> 1133\u001b[0;31m             \u001b[0;32mfor\u001b[0m \u001b[0mobj\u001b[0m \u001b[0;32min\u001b[0m \u001b[0miterable\u001b[0m\u001b[0;34m:\u001b[0m\u001b[0;34m\u001b[0m\u001b[0;34m\u001b[0m\u001b[0m\n\u001b[0m\u001b[1;32m   1134\u001b[0m                 \u001b[0;32myield\u001b[0m \u001b[0mobj\u001b[0m\u001b[0;34m\u001b[0m\u001b[0;34m\u001b[0m\u001b[0m\n\u001b[1;32m   1135\u001b[0m                 \u001b[0;31m# Update and possibly print the progressbar.\u001b[0m\u001b[0;34m\u001b[0m\u001b[0;34m\u001b[0m\u001b[0;34m\u001b[0m\u001b[0m\n",
      "\u001b[0;32m/opt/conda/lib/python3.8/site-packages/torch/utils/data/dataloader.py\u001b[0m in \u001b[0;36m__next__\u001b[0;34m(self)\u001b[0m\n\u001b[1;32m    515\u001b[0m             \u001b[0;32mif\u001b[0m \u001b[0mself\u001b[0m\u001b[0;34m.\u001b[0m\u001b[0m_sampler_iter\u001b[0m \u001b[0;32mis\u001b[0m \u001b[0;32mNone\u001b[0m\u001b[0;34m:\u001b[0m\u001b[0;34m\u001b[0m\u001b[0;34m\u001b[0m\u001b[0m\n\u001b[1;32m    516\u001b[0m                 \u001b[0mself\u001b[0m\u001b[0;34m.\u001b[0m\u001b[0m_reset\u001b[0m\u001b[0;34m(\u001b[0m\u001b[0;34m)\u001b[0m\u001b[0;34m\u001b[0m\u001b[0;34m\u001b[0m\u001b[0m\n\u001b[0;32m--> 517\u001b[0;31m             \u001b[0mdata\u001b[0m \u001b[0;34m=\u001b[0m \u001b[0mself\u001b[0m\u001b[0;34m.\u001b[0m\u001b[0m_next_data\u001b[0m\u001b[0;34m(\u001b[0m\u001b[0;34m)\u001b[0m\u001b[0;34m\u001b[0m\u001b[0;34m\u001b[0m\u001b[0m\n\u001b[0m\u001b[1;32m    518\u001b[0m             \u001b[0mself\u001b[0m\u001b[0;34m.\u001b[0m\u001b[0m_num_yielded\u001b[0m \u001b[0;34m+=\u001b[0m \u001b[0;36m1\u001b[0m\u001b[0;34m\u001b[0m\u001b[0;34m\u001b[0m\u001b[0m\n\u001b[1;32m    519\u001b[0m             \u001b[0;32mif\u001b[0m \u001b[0mself\u001b[0m\u001b[0;34m.\u001b[0m\u001b[0m_dataset_kind\u001b[0m \u001b[0;34m==\u001b[0m \u001b[0m_DatasetKind\u001b[0m\u001b[0;34m.\u001b[0m\u001b[0mIterable\u001b[0m \u001b[0;32mand\u001b[0m\u001b[0;31m \u001b[0m\u001b[0;31m\\\u001b[0m\u001b[0;34m\u001b[0m\u001b[0;34m\u001b[0m\u001b[0m\n",
      "\u001b[0;32m/opt/conda/lib/python3.8/site-packages/torch/utils/data/dataloader.py\u001b[0m in \u001b[0;36m_next_data\u001b[0;34m(self)\u001b[0m\n\u001b[1;32m   1169\u001b[0m                 \u001b[0;31m# no valid `self._rcvd_idx` is found (i.e., didn't break)\u001b[0m\u001b[0;34m\u001b[0m\u001b[0;34m\u001b[0m\u001b[0;34m\u001b[0m\u001b[0m\n\u001b[1;32m   1170\u001b[0m                 \u001b[0;32mif\u001b[0m \u001b[0;32mnot\u001b[0m \u001b[0mself\u001b[0m\u001b[0;34m.\u001b[0m\u001b[0m_persistent_workers\u001b[0m\u001b[0;34m:\u001b[0m\u001b[0;34m\u001b[0m\u001b[0;34m\u001b[0m\u001b[0m\n\u001b[0;32m-> 1171\u001b[0;31m                     \u001b[0mself\u001b[0m\u001b[0;34m.\u001b[0m\u001b[0m_shutdown_workers\u001b[0m\u001b[0;34m(\u001b[0m\u001b[0;34m)\u001b[0m\u001b[0;34m\u001b[0m\u001b[0;34m\u001b[0m\u001b[0m\n\u001b[0m\u001b[1;32m   1172\u001b[0m                 \u001b[0;32mraise\u001b[0m \u001b[0mStopIteration\u001b[0m\u001b[0;34m\u001b[0m\u001b[0;34m\u001b[0m\u001b[0m\n\u001b[1;32m   1173\u001b[0m \u001b[0;34m\u001b[0m\u001b[0m\n",
      "\u001b[0;32m/opt/conda/lib/python3.8/site-packages/torch/utils/data/dataloader.py\u001b[0m in \u001b[0;36m_shutdown_workers\u001b[0;34m(self)\u001b[0m\n\u001b[1;32m   1295\u001b[0m                     \u001b[0;31m# wrong, we set a timeout and if the workers fail to join,\u001b[0m\u001b[0;34m\u001b[0m\u001b[0;34m\u001b[0m\u001b[0;34m\u001b[0m\u001b[0m\n\u001b[1;32m   1296\u001b[0m                     \u001b[0;31m# they are killed in the `finally` block.\u001b[0m\u001b[0;34m\u001b[0m\u001b[0;34m\u001b[0m\u001b[0;34m\u001b[0m\u001b[0m\n\u001b[0;32m-> 1297\u001b[0;31m                     \u001b[0mw\u001b[0m\u001b[0;34m.\u001b[0m\u001b[0mjoin\u001b[0m\u001b[0;34m(\u001b[0m\u001b[0mtimeout\u001b[0m\u001b[0;34m=\u001b[0m\u001b[0m_utils\u001b[0m\u001b[0;34m.\u001b[0m\u001b[0mMP_STATUS_CHECK_INTERVAL\u001b[0m\u001b[0;34m)\u001b[0m\u001b[0;34m\u001b[0m\u001b[0;34m\u001b[0m\u001b[0m\n\u001b[0m\u001b[1;32m   1298\u001b[0m                 \u001b[0;32mfor\u001b[0m \u001b[0mq\u001b[0m \u001b[0;32min\u001b[0m \u001b[0mself\u001b[0m\u001b[0;34m.\u001b[0m\u001b[0m_index_queues\u001b[0m\u001b[0;34m:\u001b[0m\u001b[0;34m\u001b[0m\u001b[0;34m\u001b[0m\u001b[0m\n\u001b[1;32m   1299\u001b[0m                     \u001b[0mq\u001b[0m\u001b[0;34m.\u001b[0m\u001b[0mcancel_join_thread\u001b[0m\u001b[0;34m(\u001b[0m\u001b[0;34m)\u001b[0m\u001b[0;34m\u001b[0m\u001b[0;34m\u001b[0m\u001b[0m\n",
      "\u001b[0;32m/opt/conda/lib/python3.8/multiprocessing/process.py\u001b[0m in \u001b[0;36mjoin\u001b[0;34m(self, timeout)\u001b[0m\n\u001b[1;32m    147\u001b[0m         \u001b[0;32massert\u001b[0m \u001b[0mself\u001b[0m\u001b[0;34m.\u001b[0m\u001b[0m_parent_pid\u001b[0m \u001b[0;34m==\u001b[0m \u001b[0mos\u001b[0m\u001b[0;34m.\u001b[0m\u001b[0mgetpid\u001b[0m\u001b[0;34m(\u001b[0m\u001b[0;34m)\u001b[0m\u001b[0;34m,\u001b[0m \u001b[0;34m'can only join a child process'\u001b[0m\u001b[0;34m\u001b[0m\u001b[0;34m\u001b[0m\u001b[0m\n\u001b[1;32m    148\u001b[0m         \u001b[0;32massert\u001b[0m \u001b[0mself\u001b[0m\u001b[0;34m.\u001b[0m\u001b[0m_popen\u001b[0m \u001b[0;32mis\u001b[0m \u001b[0;32mnot\u001b[0m \u001b[0;32mNone\u001b[0m\u001b[0;34m,\u001b[0m \u001b[0;34m'can only join a started process'\u001b[0m\u001b[0;34m\u001b[0m\u001b[0;34m\u001b[0m\u001b[0m\n\u001b[0;32m--> 149\u001b[0;31m         \u001b[0mres\u001b[0m \u001b[0;34m=\u001b[0m \u001b[0mself\u001b[0m\u001b[0;34m.\u001b[0m\u001b[0m_popen\u001b[0m\u001b[0;34m.\u001b[0m\u001b[0mwait\u001b[0m\u001b[0;34m(\u001b[0m\u001b[0mtimeout\u001b[0m\u001b[0;34m)\u001b[0m\u001b[0;34m\u001b[0m\u001b[0;34m\u001b[0m\u001b[0m\n\u001b[0m\u001b[1;32m    150\u001b[0m         \u001b[0;32mif\u001b[0m \u001b[0mres\u001b[0m \u001b[0;32mis\u001b[0m \u001b[0;32mnot\u001b[0m \u001b[0;32mNone\u001b[0m\u001b[0;34m:\u001b[0m\u001b[0;34m\u001b[0m\u001b[0;34m\u001b[0m\u001b[0m\n\u001b[1;32m    151\u001b[0m             \u001b[0m_children\u001b[0m\u001b[0;34m.\u001b[0m\u001b[0mdiscard\u001b[0m\u001b[0;34m(\u001b[0m\u001b[0mself\u001b[0m\u001b[0;34m)\u001b[0m\u001b[0;34m\u001b[0m\u001b[0;34m\u001b[0m\u001b[0m\n",
      "\u001b[0;32m/opt/conda/lib/python3.8/multiprocessing/popen_fork.py\u001b[0m in \u001b[0;36mwait\u001b[0;34m(self, timeout)\u001b[0m\n\u001b[1;32m     42\u001b[0m             \u001b[0;32mif\u001b[0m \u001b[0mtimeout\u001b[0m \u001b[0;32mis\u001b[0m \u001b[0;32mnot\u001b[0m \u001b[0;32mNone\u001b[0m\u001b[0;34m:\u001b[0m\u001b[0;34m\u001b[0m\u001b[0;34m\u001b[0m\u001b[0m\n\u001b[1;32m     43\u001b[0m                 \u001b[0;32mfrom\u001b[0m \u001b[0mmultiprocessing\u001b[0m\u001b[0;34m.\u001b[0m\u001b[0mconnection\u001b[0m \u001b[0;32mimport\u001b[0m \u001b[0mwait\u001b[0m\u001b[0;34m\u001b[0m\u001b[0;34m\u001b[0m\u001b[0m\n\u001b[0;32m---> 44\u001b[0;31m                 \u001b[0;32mif\u001b[0m \u001b[0;32mnot\u001b[0m \u001b[0mwait\u001b[0m\u001b[0;34m(\u001b[0m\u001b[0;34m[\u001b[0m\u001b[0mself\u001b[0m\u001b[0;34m.\u001b[0m\u001b[0msentinel\u001b[0m\u001b[0;34m]\u001b[0m\u001b[0;34m,\u001b[0m \u001b[0mtimeout\u001b[0m\u001b[0;34m)\u001b[0m\u001b[0;34m:\u001b[0m\u001b[0;34m\u001b[0m\u001b[0;34m\u001b[0m\u001b[0m\n\u001b[0m\u001b[1;32m     45\u001b[0m                     \u001b[0;32mreturn\u001b[0m \u001b[0;32mNone\u001b[0m\u001b[0;34m\u001b[0m\u001b[0;34m\u001b[0m\u001b[0m\n\u001b[1;32m     46\u001b[0m             \u001b[0;31m# This shouldn't block if wait() returned successfully.\u001b[0m\u001b[0;34m\u001b[0m\u001b[0;34m\u001b[0m\u001b[0;34m\u001b[0m\u001b[0m\n",
      "\u001b[0;32m/opt/conda/lib/python3.8/multiprocessing/connection.py\u001b[0m in \u001b[0;36mwait\u001b[0;34m(object_list, timeout)\u001b[0m\n\u001b[1;32m    929\u001b[0m \u001b[0;34m\u001b[0m\u001b[0m\n\u001b[1;32m    930\u001b[0m             \u001b[0;32mwhile\u001b[0m \u001b[0;32mTrue\u001b[0m\u001b[0;34m:\u001b[0m\u001b[0;34m\u001b[0m\u001b[0;34m\u001b[0m\u001b[0m\n\u001b[0;32m--> 931\u001b[0;31m                 \u001b[0mready\u001b[0m \u001b[0;34m=\u001b[0m \u001b[0mselector\u001b[0m\u001b[0;34m.\u001b[0m\u001b[0mselect\u001b[0m\u001b[0;34m(\u001b[0m\u001b[0mtimeout\u001b[0m\u001b[0;34m)\u001b[0m\u001b[0;34m\u001b[0m\u001b[0;34m\u001b[0m\u001b[0m\n\u001b[0m\u001b[1;32m    932\u001b[0m                 \u001b[0;32mif\u001b[0m \u001b[0mready\u001b[0m\u001b[0;34m:\u001b[0m\u001b[0;34m\u001b[0m\u001b[0;34m\u001b[0m\u001b[0m\n\u001b[1;32m    933\u001b[0m                     \u001b[0;32mreturn\u001b[0m \u001b[0;34m[\u001b[0m\u001b[0mkey\u001b[0m\u001b[0;34m.\u001b[0m\u001b[0mfileobj\u001b[0m \u001b[0;32mfor\u001b[0m \u001b[0;34m(\u001b[0m\u001b[0mkey\u001b[0m\u001b[0;34m,\u001b[0m \u001b[0mevents\u001b[0m\u001b[0;34m)\u001b[0m \u001b[0;32min\u001b[0m \u001b[0mready\u001b[0m\u001b[0;34m]\u001b[0m\u001b[0;34m\u001b[0m\u001b[0;34m\u001b[0m\u001b[0m\n",
      "\u001b[0;32m/opt/conda/lib/python3.8/selectors.py\u001b[0m in \u001b[0;36mselect\u001b[0;34m(self, timeout)\u001b[0m\n\u001b[1;32m    413\u001b[0m         \u001b[0mready\u001b[0m \u001b[0;34m=\u001b[0m \u001b[0;34m[\u001b[0m\u001b[0;34m]\u001b[0m\u001b[0;34m\u001b[0m\u001b[0;34m\u001b[0m\u001b[0m\n\u001b[1;32m    414\u001b[0m         \u001b[0;32mtry\u001b[0m\u001b[0;34m:\u001b[0m\u001b[0;34m\u001b[0m\u001b[0;34m\u001b[0m\u001b[0m\n\u001b[0;32m--> 415\u001b[0;31m             \u001b[0mfd_event_list\u001b[0m \u001b[0;34m=\u001b[0m \u001b[0mself\u001b[0m\u001b[0;34m.\u001b[0m\u001b[0m_selector\u001b[0m\u001b[0;34m.\u001b[0m\u001b[0mpoll\u001b[0m\u001b[0;34m(\u001b[0m\u001b[0mtimeout\u001b[0m\u001b[0;34m)\u001b[0m\u001b[0;34m\u001b[0m\u001b[0;34m\u001b[0m\u001b[0m\n\u001b[0m\u001b[1;32m    416\u001b[0m         \u001b[0;32mexcept\u001b[0m \u001b[0mInterruptedError\u001b[0m\u001b[0;34m:\u001b[0m\u001b[0;34m\u001b[0m\u001b[0;34m\u001b[0m\u001b[0m\n\u001b[1;32m    417\u001b[0m             \u001b[0;32mreturn\u001b[0m \u001b[0mready\u001b[0m\u001b[0;34m\u001b[0m\u001b[0;34m\u001b[0m\u001b[0m\n",
      "\u001b[0;31mKeyboardInterrupt\u001b[0m: "
     ]
    }
   ],
   "source": [
    "modelfiles = None\n",
    "\n",
    "if not modelfiles:\n",
    "    modelfiles = [train_mri_type(df_train, df_valid, m) for m in mri_types]\n",
    "    print(modelfiles)"
   ]
  },
  {
   "cell_type": "markdown",
   "id": "05788d01-ab53-4443-a1f5-267130f622f2",
   "metadata": {},
   "source": [
    "## Predict Function"
   ]
  },
  {
   "cell_type": "code",
   "execution_count": null,
   "id": "13ff8d67-0664-4d2d-b7d6-09c3416086b1",
   "metadata": {},
   "outputs": [],
   "source": [
    "def predict(modelfile, df, mri_type, split):\n",
    "    print(\"Predict:\", modelfile, mri_type, df.shape)\n",
    "    df.loc[:,\"MRI_Type\"] = mri_type\n",
    "    data_retriever = Dataset(\n",
    "        df.index.values, \n",
    "        mri_type=df[\"MRI_Type\"].values,\n",
    "        split=split\n",
    "    )\n",
    "\n",
    "    data_loader = torch_data.DataLoader(\n",
    "        data_retriever,\n",
    "        batch_size=cfg.batch_size,\n",
    "        shuffle=False,\n",
    "        num_workers=8,\n",
    "    )\n",
    "   \n",
    "    model = Model()\n",
    "    model.to(device)\n",
    "    \n",
    "    checkpoint = torch.load(modelfile)\n",
    "    model.load_state_dict(checkpoint[\"model_state_dict\"])\n",
    "    model.eval()\n",
    "    \n",
    "    y_pred = []\n",
    "    ids = []\n",
    "\n",
    "    for e, batch in enumerate(data_loader,1):\n",
    "        print(f\"{e}/{len(data_loader)}\", end=\"\\r\")\n",
    "        with torch.no_grad():\n",
    "            tmp_pred = torch.sigmoid(model(batch[\"X\"].to(device)).cpu().numpy().squeeze())\n",
    "            print('tmp_pred', tmp_pred)\n",
    "            if tmp_pred.size == 1:\n",
    "                y_pred.append(tmp_pred)\n",
    "            else:\n",
    "                y_pred.extend(tmp_pred.tolist())\n",
    "            ids.extend(batch[\"id\"].numpy().tolist())\n",
    "            \n",
    "    preddf = pd.DataFrame({\"BraTS21ID\": ids, \"MGMT_value\": y_pred}) \n",
    "    preddf = preddf.set_index(\"BraTS21ID\")\n",
    "    return preddf"
   ]
  },
  {
   "cell_type": "markdown",
   "id": "5e7d0f6a-db8a-4850-aed9-6703416c64df",
   "metadata": {},
   "source": [
    "## Ensemble for validation"
   ]
  },
  {
   "cell_type": "code",
   "execution_count": null,
   "id": "233526bf-87ff-40b6-8c3f-a9bbcfeb3fd7",
   "metadata": {},
   "outputs": [],
   "source": [
    "df_valid = df_valid.set_index(\"BraTS21ID\")"
   ]
  },
  {
   "cell_type": "code",
   "execution_count": null,
   "id": "b7ab574f-f3ff-41e2-a5a7-103a4587c42d",
   "metadata": {},
   "outputs": [],
   "source": [
    "def normalize_results(preds, train):\n",
    "    return (preds - (preds.mean() - train.mean()))"
   ]
  },
  {
   "cell_type": "code",
   "execution_count": null,
   "id": "b6116db7-eb98-410d-8f58-9afca0e5c6fe",
   "metadata": {},
   "outputs": [],
   "source": [
    "df_valid[\"MGMT_pred\"] = 0\n",
    "for m, mtype in zip(modelfiles,  mri_types):\n",
    "    pred = predict(m, df_valid, mtype, \"train\")\n",
    "    df_valid[\"MGMT_pred\"] += pred[\"MGMT_value\"]\n",
    "df_valid[\"MGMT_pred\"] /= len(modelfiles)\n",
    "auc = roc_auc_score(df_valid[\"MGMT_value\"], df_valid[\"MGMT_pred\"])\n",
    "print(f\"Validation ensemble AUC: {auc:.4f}\")\n",
    "sns.displot(df_valid[\"MGMT_pred\"])"
   ]
  },
  {
   "cell_type": "code",
   "execution_count": null,
   "id": "142f6cbb-0b0c-4b56-9e42-9db887cda75d",
   "metadata": {},
   "outputs": [],
   "source": [
    "df_valid[\"MGMT_pred\"].describe()"
   ]
  },
  {
   "cell_type": "code",
   "execution_count": null,
   "id": "3763131e-34f4-40de-959c-c1d67e98d34f",
   "metadata": {},
   "outputs": [],
   "source": [
    "normalize_results(df_valid[\"MGMT_pred\"], train_df['MGMT_value']).describe()"
   ]
  },
  {
   "cell_type": "markdown",
   "id": "46e297d0-7053-4020-a641-d12bed19f3c2",
   "metadata": {},
   "source": [
    "## Export to Kaggle"
   ]
  },
  {
   "cell_type": "code",
   "execution_count": null,
   "id": "49bff872-f714-475e-8f53-5fa0fe7ec93d",
   "metadata": {},
   "outputs": [],
   "source": [
    "import shutil\n",
    "\n",
    "if not Path(cfg.models_path/cfg.model_name).exists():\n",
    "    os.mkdir(cfg.models_path/cfg.model_name)\n",
    "for m in modelfiles:\n",
    "    shutil.copy(m, cfg.models_path/cfg.model_name)\n",
    "    \n",
    "shutil.make_archive(cfg.models_path/cfg.model_name, 'zip', cfg.models_path/cfg.model_name)"
   ]
  },
  {
   "cell_type": "code",
   "execution_count": null,
   "id": "f42f2bd7-08f4-465f-91bf-fd9022607820",
   "metadata": {},
   "outputs": [],
   "source": [
    "!du -h {cfg.models_path/cfg.model_name}"
   ]
  },
  {
   "cell_type": "code",
   "execution_count": null,
   "id": "a9a82981-4b50-4d8f-9293-d4be7e0496e4",
   "metadata": {},
   "outputs": [],
   "source": [
    "!rm -rf {cfg.models_path}/*.pth\n",
    "!rm -rf {cfg.models_path/cfg.model_name}/*.pth"
   ]
  },
  {
   "cell_type": "code",
   "execution_count": null,
   "id": "13ec0334-cd15-4f25-b042-bc4c60330bd4",
   "metadata": {},
   "outputs": [],
   "source": [
    "!mv {cfg.models_path/cfg.model_name}.zip {cfg.models_path/cfg.model_name}"
   ]
  },
  {
   "cell_type": "code",
   "execution_count": null,
   "id": "3b841211-646e-4e1e-bc9c-7a662821756b",
   "metadata": {},
   "outputs": [],
   "source": [
    "!kaggle datasets init -p {cfg.models_path/cfg.model_name}"
   ]
  },
  {
   "cell_type": "code",
   "execution_count": null,
   "id": "a7bda21d-cd62-4f78-ba42-5d1f1c7db7d2",
   "metadata": {},
   "outputs": [],
   "source": [
    "dataset_json_path = Path(cfg.models_path/cfg.model_name/'dataset-metadata.json')\n",
    "assert dataset_json_path.exists()"
   ]
  },
  {
   "cell_type": "code",
   "execution_count": null,
   "id": "c2f55eea-99a6-4573-ae4f-dbae945d4073",
   "metadata": {},
   "outputs": [],
   "source": [
    "with open(dataset_json_path, 'r') as f:\n",
    "    dataset_json = f.read()\n",
    "    dataset_json = dataset_json.replace('INSERT_TITLE_HERE', f'rsna-{cfg.model_name}').replace('INSERT_SLUG_HERE', f'rsna-{cfg.model_name}')\n",
    "    print(dataset_json)\n",
    "with(open(dataset_json_path, 'w')) as f:\n",
    "    f.write(dataset_json)"
   ]
  },
  {
   "cell_type": "code",
   "execution_count": null,
   "id": "6ff5db06-1a02-46b4-adde-e5de79ac43e8",
   "metadata": {},
   "outputs": [],
   "source": [
    "!kaggle datasets create -p {cfg.models_path/cfg.model_name}"
   ]
  },
  {
   "cell_type": "code",
   "execution_count": null,
   "id": "6920eaa3-920e-4e22-9131-2818ea113d03",
   "metadata": {},
   "outputs": [],
   "source": []
  }
 ],
 "metadata": {
  "kernelspec": {
   "display_name": "Python 3",
   "language": "python",
   "name": "python3"
  },
  "language_info": {
   "codemirror_mode": {
    "name": "ipython",
    "version": 3
   },
   "file_extension": ".py",
   "mimetype": "text/x-python",
   "name": "python",
   "nbconvert_exporter": "python",
   "pygments_lexer": "ipython3",
   "version": "3.8.5"
  }
 },
 "nbformat": 4,
 "nbformat_minor": 5
}
