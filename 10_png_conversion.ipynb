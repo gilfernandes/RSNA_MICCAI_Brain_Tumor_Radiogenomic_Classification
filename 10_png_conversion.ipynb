{
 "cells": [
  {
   "cell_type": "code",
   "execution_count": 1,
   "id": "27a7aa55-df2f-42cd-850b-c18769b893f5",
   "metadata": {},
   "outputs": [],
   "source": [
    "import numpy as np\n",
    "import pandas as pd\n",
    "import pydicom\n",
    "import cv2\n",
    "import os, glob, re, random, time\n",
    "from functools import partial\n",
    "from pathlib import Path\n",
    "import imageio\n",
    "from pydicom.pixel_data_handlers.util import apply_voi_lut\n",
    "from tqdm.notebook import tqdm\n",
    "\n",
    "import matplotlib.pyplot as plt\n",
    "import matplotlib.image as mpimg\n",
    "from functools import cmp_to_key\n",
    "\n",
    "import torch\n",
    "import torch.nn as nn\n",
    "import torch.nn.functional as F\n",
    "from torch.utils import data as torch_data\n",
    "from sklearn import model_selection as sk_model_selection\n",
    "from sklearn.metrics import roc_auc_score"
   ]
  },
  {
   "cell_type": "code",
   "execution_count": 2,
   "id": "40805aa7-e58b-4348-a080-9f237f1fa70b",
   "metadata": {},
   "outputs": [],
   "source": [
    "class Config():\n",
    "    device = torch.device(\"cuda\" if torch.cuda.is_available() else \"cpu\")\n",
    "    base_path = Path('/home/RSNA_MICCAI_Brain_Tumor/data')\n",
    "    assert base_path.exists(), f'{base_path} does not exist'\n",
    "    models_path = Path('/home/RSNA_MICCAI_Brain_Tumor/models')\n",
    "    assert models_path.exists()\n",
    "    png_folder = 'png'\n",
    "    num_images = 32\n",
    "    size = 256\n",
    "    seed = 42\n",
    "    test_size = 0.1\n",
    "    clahe = False\n",
    "    batch_size = 4\n",
    "    num_workers = 7\n",
    "    lr = 1e-3\n",
    "    epochs = 20\n",
    "    extra_check_epochs = [8]\n",
    "    check_frequency = 4\n",
    "    \n",
    "cfg = Config()"
   ]
  },
  {
   "cell_type": "markdown",
   "id": "f707c6e3-1b34-4742-a78a-89facad27049",
   "metadata": {},
   "source": [
    "### Function for loading images"
   ]
  },
  {
   "cell_type": "code",
   "execution_count": 3,
   "id": "6305b318-bbac-4af9-aae5-8a1cb03051a5",
   "metadata": {},
   "outputs": [],
   "source": [
    "def load_dicom(path):\n",
    "    # read file\n",
    "    dicom = pydicom.read_file(path)\n",
    "    # get pixel data into a useful format. \n",
    "    data = dicom.pixel_array\n",
    "    # transform data into black and white scale / grayscale\n",
    "    data = data - np.min(data)\n",
    "    if np.max(data) != 0:\n",
    "        data = data / np.max(data)\n",
    "    data = (data * 255).astype(np.uint8)\n",
    "    return data\n",
    "\n",
    "\n",
    "def convert_dicom_to_png(path, png_image_path, resize = None, threshold=10):\n",
    "    dicom = pydicom.read_file(path)\n",
    "    data = apply_voi_lut(dicom.pixel_array, dicom)\n",
    "    # If Resize == True, Resize Image to Specified Resolution\n",
    "    if resize:\n",
    "        data = cv2.resize(data, resize)\n",
    "    # Transform Data as Necessary     \n",
    "    if dicom.PhotometricInterpretation == \"MONOCHROME1\":\n",
    "        data = np.amax(data) - data\n",
    "    data = data - np.min(data)\n",
    "    if np.max(data) != 0:\n",
    "        data = data / np.max(data)\n",
    "    data = (data * 255).astype(np.uint8)\n",
    "    if np.mean(data) <= threshold:\n",
    "        return 0\n",
    "    # SAVE PNG TO DISK     \n",
    "    imageio.imsave(png_image_path, data)\n",
    "    return 1"
   ]
  },
  {
   "cell_type": "markdown",
   "id": "169b00d0-6fec-43bf-a456-34845b93a9f2",
   "metadata": {},
   "source": [
    "### Loading data frames"
   ]
  },
  {
   "cell_type": "code",
   "execution_count": 4,
   "id": "cc1cf3d7-809e-4d3d-be18-b50dd9971eec",
   "metadata": {},
   "outputs": [
    {
     "data": {
      "text/html": [
       "<div>\n",
       "<style scoped>\n",
       "    .dataframe tbody tr th:only-of-type {\n",
       "        vertical-align: middle;\n",
       "    }\n",
       "\n",
       "    .dataframe tbody tr th {\n",
       "        vertical-align: top;\n",
       "    }\n",
       "\n",
       "    .dataframe thead th {\n",
       "        text-align: right;\n",
       "    }\n",
       "</style>\n",
       "<table border=\"1\" class=\"dataframe\">\n",
       "  <thead>\n",
       "    <tr style=\"text-align: right;\">\n",
       "      <th></th>\n",
       "      <th>BraTS21ID</th>\n",
       "      <th>MGMT_value</th>\n",
       "    </tr>\n",
       "  </thead>\n",
       "  <tbody>\n",
       "    <tr>\n",
       "      <th>0</th>\n",
       "      <td>0</td>\n",
       "      <td>1</td>\n",
       "    </tr>\n",
       "    <tr>\n",
       "      <th>1</th>\n",
       "      <td>2</td>\n",
       "      <td>1</td>\n",
       "    </tr>\n",
       "    <tr>\n",
       "      <th>2</th>\n",
       "      <td>3</td>\n",
       "      <td>0</td>\n",
       "    </tr>\n",
       "    <tr>\n",
       "      <th>3</th>\n",
       "      <td>5</td>\n",
       "      <td>1</td>\n",
       "    </tr>\n",
       "    <tr>\n",
       "      <th>4</th>\n",
       "      <td>6</td>\n",
       "      <td>1</td>\n",
       "    </tr>\n",
       "    <tr>\n",
       "      <th>...</th>\n",
       "      <td>...</td>\n",
       "      <td>...</td>\n",
       "    </tr>\n",
       "    <tr>\n",
       "      <th>580</th>\n",
       "      <td>1005</td>\n",
       "      <td>1</td>\n",
       "    </tr>\n",
       "    <tr>\n",
       "      <th>581</th>\n",
       "      <td>1007</td>\n",
       "      <td>1</td>\n",
       "    </tr>\n",
       "    <tr>\n",
       "      <th>582</th>\n",
       "      <td>1008</td>\n",
       "      <td>1</td>\n",
       "    </tr>\n",
       "    <tr>\n",
       "      <th>583</th>\n",
       "      <td>1009</td>\n",
       "      <td>0</td>\n",
       "    </tr>\n",
       "    <tr>\n",
       "      <th>584</th>\n",
       "      <td>1010</td>\n",
       "      <td>0</td>\n",
       "    </tr>\n",
       "  </tbody>\n",
       "</table>\n",
       "<p>582 rows × 2 columns</p>\n",
       "</div>"
      ],
      "text/plain": [
       "     BraTS21ID  MGMT_value\n",
       "0            0           1\n",
       "1            2           1\n",
       "2            3           0\n",
       "3            5           1\n",
       "4            6           1\n",
       "..         ...         ...\n",
       "580       1005           1\n",
       "581       1007           1\n",
       "582       1008           1\n",
       "583       1009           0\n",
       "584       1010           0\n",
       "\n",
       "[582 rows x 2 columns]"
      ]
     },
     "execution_count": 4,
     "metadata": {},
     "output_type": "execute_result"
    }
   ],
   "source": [
    "train_df = pd.read_csv(cfg.base_path/'train_labels.csv')\n",
    "train_df = train_df.drop(train_df[train_df['BraTS21ID'].isin([109, 123, 709])].index)\n",
    "train_df"
   ]
  },
  {
   "cell_type": "code",
   "execution_count": 5,
   "id": "92ccb493-321a-489a-8e02-c352f8408dfc",
   "metadata": {},
   "outputs": [],
   "source": [
    "def convert_all_dicom_to_png(df, mri_type = 'FLAIR', image_path = 'train'):\n",
    "    min_conversions = np.inf\n",
    "    for scan_id in tqdm(df['BraTS21ID'], total=len(df)):\n",
    "        dir_name = str(scan_id).zfill(5)\n",
    "        png_dir = cfg.base_path/cfg.png_folder/image_path/dir_name/mri_type\n",
    "        if not png_dir.exists():\n",
    "            png_dir.mkdir(parents=True)\n",
    "        source_dir = ((cfg.base_path/image_path)/dir_name)\n",
    "        assert source_dir.exists()\n",
    "        files = glob.glob(f\"{str(source_dir/mri_type)}/*.dcm\")\n",
    "        print(f'Processing {png_dir}')\n",
    "        conversions_sum = 0\n",
    "        for f in files:\n",
    "            f_name = re.sub(r'.+/(.+)\\.dcm', r'\\1.png', f)\n",
    "            png_file = png_dir/f_name\n",
    "            conversions_sum += convert_dicom_to_png(f, png_file, resize=(256,256))\n",
    "        if min_conversions > conversions_sum:\n",
    "            min_conversions = conversions_sum\n",
    "            print('Min conversion', min_conversions)\n",
    "    return min_conversions"
   ]
  },
  {
   "cell_type": "code",
   "execution_count": 6,
   "id": "bae0325a-402e-4386-ab4c-90d6edf53343",
   "metadata": {},
   "outputs": [
    {
     "data": {
      "text/html": [
       "<div>\n",
       "<style scoped>\n",
       "    .dataframe tbody tr th:only-of-type {\n",
       "        vertical-align: middle;\n",
       "    }\n",
       "\n",
       "    .dataframe tbody tr th {\n",
       "        vertical-align: top;\n",
       "    }\n",
       "\n",
       "    .dataframe thead th {\n",
       "        text-align: right;\n",
       "    }\n",
       "</style>\n",
       "<table border=\"1\" class=\"dataframe\">\n",
       "  <thead>\n",
       "    <tr style=\"text-align: right;\">\n",
       "      <th></th>\n",
       "      <th>BraTS21ID</th>\n",
       "      <th>MGMT_value</th>\n",
       "    </tr>\n",
       "  </thead>\n",
       "  <tbody>\n",
       "    <tr>\n",
       "      <th>0</th>\n",
       "      <td>1</td>\n",
       "      <td>0.5</td>\n",
       "    </tr>\n",
       "    <tr>\n",
       "      <th>1</th>\n",
       "      <td>13</td>\n",
       "      <td>0.5</td>\n",
       "    </tr>\n",
       "    <tr>\n",
       "      <th>2</th>\n",
       "      <td>15</td>\n",
       "      <td>0.5</td>\n",
       "    </tr>\n",
       "    <tr>\n",
       "      <th>3</th>\n",
       "      <td>27</td>\n",
       "      <td>0.5</td>\n",
       "    </tr>\n",
       "    <tr>\n",
       "      <th>4</th>\n",
       "      <td>37</td>\n",
       "      <td>0.5</td>\n",
       "    </tr>\n",
       "    <tr>\n",
       "      <th>...</th>\n",
       "      <td>...</td>\n",
       "      <td>...</td>\n",
       "    </tr>\n",
       "    <tr>\n",
       "      <th>82</th>\n",
       "      <td>826</td>\n",
       "      <td>0.5</td>\n",
       "    </tr>\n",
       "    <tr>\n",
       "      <th>83</th>\n",
       "      <td>829</td>\n",
       "      <td>0.5</td>\n",
       "    </tr>\n",
       "    <tr>\n",
       "      <th>84</th>\n",
       "      <td>833</td>\n",
       "      <td>0.5</td>\n",
       "    </tr>\n",
       "    <tr>\n",
       "      <th>85</th>\n",
       "      <td>997</td>\n",
       "      <td>0.5</td>\n",
       "    </tr>\n",
       "    <tr>\n",
       "      <th>86</th>\n",
       "      <td>1006</td>\n",
       "      <td>0.5</td>\n",
       "    </tr>\n",
       "  </tbody>\n",
       "</table>\n",
       "<p>87 rows × 2 columns</p>\n",
       "</div>"
      ],
      "text/plain": [
       "    BraTS21ID  MGMT_value\n",
       "0           1         0.5\n",
       "1          13         0.5\n",
       "2          15         0.5\n",
       "3          27         0.5\n",
       "4          37         0.5\n",
       "..        ...         ...\n",
       "82        826         0.5\n",
       "83        829         0.5\n",
       "84        833         0.5\n",
       "85        997         0.5\n",
       "86       1006         0.5\n",
       "\n",
       "[87 rows x 2 columns]"
      ]
     },
     "execution_count": 6,
     "metadata": {},
     "output_type": "execute_result"
    }
   ],
   "source": [
    "submission_df = pd.read_csv(cfg.base_path/'sample_submission.csv')\n",
    "submission_df"
   ]
  },
  {
   "cell_type": "markdown",
   "id": "50bc940b-7f33-47fe-98cb-a4c00e45b14c",
   "metadata": {},
   "source": [
    "## Transform to png\n",
    "Comment out if not needed"
   ]
  },
  {
   "cell_type": "code",
   "execution_count": 7,
   "id": "b7bdd68c-316a-425a-93f4-19ab4178d520",
   "metadata": {},
   "outputs": [],
   "source": [
    "!rm -rf {cfg.base_path/cfg.png_folder}\n",
    "if not (cfg.base_path/cfg.png_folder).exists():\n",
    "    os.mkdir(cfg.base_path/cfg.png_folder)\n",
    "convert_all_dicom_to_png(train_df, mri_type='FLAIR', image_path='train')"
   ]
  },
  {
   "cell_type": "code",
   "execution_count": 9,
   "id": "0b77c0d0-1e68-4c46-af11-bf2e9636da1e",
   "metadata": {},
   "outputs": [
    {
     "data": {
      "application/vnd.jupyter.widget-view+json": {
       "model_id": "3043575db6fb4e8ba75e5f66fe70d63d",
       "version_major": 2,
       "version_minor": 0
      },
      "text/plain": [
       "HBox(children=(FloatProgress(value=0.0, max=87.0), HTML(value='')))"
      ]
     },
     "metadata": {},
     "output_type": "display_data"
    },
    {
     "name": "stdout",
     "output_type": "stream",
     "text": [
      "Processing /home/RSNA_MICCAI_Brain_Tumor/data/png/test/00001/FLAIR\n",
      "Min conversion 125\n",
      "Processing /home/RSNA_MICCAI_Brain_Tumor/data/png/test/00013/FLAIR\n",
      "Min conversion 60\n",
      "Processing /home/RSNA_MICCAI_Brain_Tumor/data/png/test/00015/FLAIR\n",
      "Processing /home/RSNA_MICCAI_Brain_Tumor/data/png/test/00027/FLAIR\n",
      "Min conversion 56\n",
      "Processing /home/RSNA_MICCAI_Brain_Tumor/data/png/test/00037/FLAIR\n",
      "Processing /home/RSNA_MICCAI_Brain_Tumor/data/png/test/00047/FLAIR\n",
      "Processing /home/RSNA_MICCAI_Brain_Tumor/data/png/test/00079/FLAIR\n",
      "Processing /home/RSNA_MICCAI_Brain_Tumor/data/png/test/00080/FLAIR\n",
      "Processing /home/RSNA_MICCAI_Brain_Tumor/data/png/test/00082/FLAIR\n",
      "Processing /home/RSNA_MICCAI_Brain_Tumor/data/png/test/00091/FLAIR\n",
      "Processing /home/RSNA_MICCAI_Brain_Tumor/data/png/test/00114/FLAIR\n",
      "Min conversion 16\n",
      "Processing /home/RSNA_MICCAI_Brain_Tumor/data/png/test/00119/FLAIR\n",
      "Processing /home/RSNA_MICCAI_Brain_Tumor/data/png/test/00125/FLAIR\n",
      "Processing /home/RSNA_MICCAI_Brain_Tumor/data/png/test/00129/FLAIR\n",
      "Processing /home/RSNA_MICCAI_Brain_Tumor/data/png/test/00135/FLAIR\n",
      "Processing /home/RSNA_MICCAI_Brain_Tumor/data/png/test/00145/FLAIR\n",
      "Processing /home/RSNA_MICCAI_Brain_Tumor/data/png/test/00153/FLAIR\n",
      "Processing /home/RSNA_MICCAI_Brain_Tumor/data/png/test/00161/FLAIR\n",
      "Processing /home/RSNA_MICCAI_Brain_Tumor/data/png/test/00163/FLAIR\n",
      "Processing /home/RSNA_MICCAI_Brain_Tumor/data/png/test/00174/FLAIR\n",
      "Processing /home/RSNA_MICCAI_Brain_Tumor/data/png/test/00181/FLAIR\n",
      "Processing /home/RSNA_MICCAI_Brain_Tumor/data/png/test/00182/FLAIR\n",
      "Processing /home/RSNA_MICCAI_Brain_Tumor/data/png/test/00190/FLAIR\n",
      "Processing /home/RSNA_MICCAI_Brain_Tumor/data/png/test/00200/FLAIR\n",
      "Processing /home/RSNA_MICCAI_Brain_Tumor/data/png/test/00208/FLAIR\n",
      "Processing /home/RSNA_MICCAI_Brain_Tumor/data/png/test/00213/FLAIR\n",
      "Processing /home/RSNA_MICCAI_Brain_Tumor/data/png/test/00229/FLAIR\n",
      "Processing /home/RSNA_MICCAI_Brain_Tumor/data/png/test/00252/FLAIR\n",
      "Processing /home/RSNA_MICCAI_Brain_Tumor/data/png/test/00256/FLAIR\n",
      "Processing /home/RSNA_MICCAI_Brain_Tumor/data/png/test/00264/FLAIR\n",
      "Processing /home/RSNA_MICCAI_Brain_Tumor/data/png/test/00287/FLAIR\n",
      "Processing /home/RSNA_MICCAI_Brain_Tumor/data/png/test/00307/FLAIR\n",
      "Processing /home/RSNA_MICCAI_Brain_Tumor/data/png/test/00323/FLAIR\n",
      "Processing /home/RSNA_MICCAI_Brain_Tumor/data/png/test/00333/FLAIR\n",
      "Processing /home/RSNA_MICCAI_Brain_Tumor/data/png/test/00335/FLAIR\n",
      "Processing /home/RSNA_MICCAI_Brain_Tumor/data/png/test/00337/FLAIR\n",
      "Processing /home/RSNA_MICCAI_Brain_Tumor/data/png/test/00355/FLAIR\n",
      "Processing /home/RSNA_MICCAI_Brain_Tumor/data/png/test/00372/FLAIR\n",
      "Processing /home/RSNA_MICCAI_Brain_Tumor/data/png/test/00381/FLAIR\n",
      "Processing /home/RSNA_MICCAI_Brain_Tumor/data/png/test/00384/FLAIR\n",
      "Processing /home/RSNA_MICCAI_Brain_Tumor/data/png/test/00393/FLAIR\n",
      "Processing /home/RSNA_MICCAI_Brain_Tumor/data/png/test/00422/FLAIR\n",
      "Processing /home/RSNA_MICCAI_Brain_Tumor/data/png/test/00428/FLAIR\n",
      "Processing /home/RSNA_MICCAI_Brain_Tumor/data/png/test/00434/FLAIR\n",
      "Processing /home/RSNA_MICCAI_Brain_Tumor/data/png/test/00438/FLAIR\n",
      "Processing /home/RSNA_MICCAI_Brain_Tumor/data/png/test/00447/FLAIR\n",
      "Processing /home/RSNA_MICCAI_Brain_Tumor/data/png/test/00450/FLAIR\n",
      "Processing /home/RSNA_MICCAI_Brain_Tumor/data/png/test/00458/FLAIR\n",
      "Processing /home/RSNA_MICCAI_Brain_Tumor/data/png/test/00460/FLAIR\n",
      "Processing /home/RSNA_MICCAI_Brain_Tumor/data/png/test/00462/FLAIR\n",
      "Processing /home/RSNA_MICCAI_Brain_Tumor/data/png/test/00463/FLAIR\n",
      "Processing /home/RSNA_MICCAI_Brain_Tumor/data/png/test/00467/FLAIR\n",
      "Processing /home/RSNA_MICCAI_Brain_Tumor/data/png/test/00474/FLAIR\n",
      "Processing /home/RSNA_MICCAI_Brain_Tumor/data/png/test/00489/FLAIR\n",
      "Processing /home/RSNA_MICCAI_Brain_Tumor/data/png/test/00492/FLAIR\n",
      "Processing /home/RSNA_MICCAI_Brain_Tumor/data/png/test/00503/FLAIR\n",
      "Processing /home/RSNA_MICCAI_Brain_Tumor/data/png/test/00521/FLAIR\n",
      "Processing /home/RSNA_MICCAI_Brain_Tumor/data/png/test/00535/FLAIR\n",
      "Processing /home/RSNA_MICCAI_Brain_Tumor/data/png/test/00553/FLAIR\n",
      "Processing /home/RSNA_MICCAI_Brain_Tumor/data/png/test/00560/FLAIR\n",
      "Processing /home/RSNA_MICCAI_Brain_Tumor/data/png/test/00573/FLAIR\n",
      "Processing /home/RSNA_MICCAI_Brain_Tumor/data/png/test/00585/FLAIR\n",
      "Min conversion 15\n",
      "Processing /home/RSNA_MICCAI_Brain_Tumor/data/png/test/00592/FLAIR\n",
      "Processing /home/RSNA_MICCAI_Brain_Tumor/data/png/test/00595/FLAIR\n",
      "Processing /home/RSNA_MICCAI_Brain_Tumor/data/png/test/00603/FLAIR\n",
      "Processing /home/RSNA_MICCAI_Brain_Tumor/data/png/test/00644/FLAIR\n",
      "Processing /home/RSNA_MICCAI_Brain_Tumor/data/png/test/00647/FLAIR\n",
      "Processing /home/RSNA_MICCAI_Brain_Tumor/data/png/test/00662/FLAIR\n",
      "Processing /home/RSNA_MICCAI_Brain_Tumor/data/png/test/00671/FLAIR\n",
      "Processing /home/RSNA_MICCAI_Brain_Tumor/data/png/test/00681/FLAIR\n",
      "Processing /home/RSNA_MICCAI_Brain_Tumor/data/png/test/00699/FLAIR\n",
      "Processing /home/RSNA_MICCAI_Brain_Tumor/data/png/test/00702/FLAIR\n",
      "Processing /home/RSNA_MICCAI_Brain_Tumor/data/png/test/00712/FLAIR\n",
      "Processing /home/RSNA_MICCAI_Brain_Tumor/data/png/test/00719/FLAIR\n",
      "Processing /home/RSNA_MICCAI_Brain_Tumor/data/png/test/00721/FLAIR\n",
      "Processing /home/RSNA_MICCAI_Brain_Tumor/data/png/test/00749/FLAIR\n",
      "Processing /home/RSNA_MICCAI_Brain_Tumor/data/png/test/00762/FLAIR\n",
      "Processing /home/RSNA_MICCAI_Brain_Tumor/data/png/test/00769/FLAIR\n",
      "Processing /home/RSNA_MICCAI_Brain_Tumor/data/png/test/00779/FLAIR\n",
      "Processing /home/RSNA_MICCAI_Brain_Tumor/data/png/test/00821/FLAIR\n",
      "Processing /home/RSNA_MICCAI_Brain_Tumor/data/png/test/00822/FLAIR\n",
      "Processing /home/RSNA_MICCAI_Brain_Tumor/data/png/test/00825/FLAIR\n",
      "Processing /home/RSNA_MICCAI_Brain_Tumor/data/png/test/00826/FLAIR\n",
      "Processing /home/RSNA_MICCAI_Brain_Tumor/data/png/test/00829/FLAIR\n",
      "Processing /home/RSNA_MICCAI_Brain_Tumor/data/png/test/00833/FLAIR\n",
      "Processing /home/RSNA_MICCAI_Brain_Tumor/data/png/test/00997/FLAIR\n",
      "Processing /home/RSNA_MICCAI_Brain_Tumor/data/png/test/01006/FLAIR\n",
      "\n"
     ]
    },
    {
     "data": {
      "text/plain": [
       "15"
      ]
     },
     "execution_count": 9,
     "metadata": {},
     "output_type": "execute_result"
    }
   ],
   "source": [
    "convert_all_dicom_to_png(submission_df, mri_type='FLAIR', image_path='test')"
   ]
  },
  {
   "cell_type": "code",
   "execution_count": 10,
   "id": "8d76757a-0e1e-4830-a67e-302a9917ddb2",
   "metadata": {},
   "outputs": [],
   "source": [
    "!cp -R {cfg.base_path}/png/test/00013 {cfg.base_path}/png/train/00013\n",
    "!cp -R {cfg.base_path}/png/test/00001 {cfg.base_path}/png/train/00001"
   ]
  },
  {
   "cell_type": "markdown",
   "id": "fd65dec2-aa62-42f8-9569-32e9871925f1",
   "metadata": {},
   "source": [
    "### Load PNGs"
   ]
  },
  {
   "cell_type": "code",
   "execution_count": 11,
   "id": "58cf67b4-5a72-4da9-b2cd-9511bd9c0203",
   "metadata": {},
   "outputs": [],
   "source": [
    "def read_png(path):\n",
    "    return mpimg.imread(path)\n",
    "\n",
    "def convert_path_to_int(x):\n",
    "    res = int(re.sub(r'.+\\-+(\\d+)\\..+', r'\\1', x))\n",
    "    return res\n",
    "\n",
    "def load_png_images_3d(scan_id, num_imgs=cfg.num_images, img_size=cfg.size, mri_type=\"FLAIR\", split=\"train\", clahe=False):\n",
    "\n",
    "    glob_expr = f'{cfg.base_path}/png/{split}/{scan_id}/{mri_type}/*.png'\n",
    "    files = glob.glob(glob_expr)\n",
    "    files.sort(key=cmp_to_key(lambda x, y: -1 if convert_path_to_int(x) < convert_path_to_int(y) else 1))\n",
    "    \n",
    "    middle = len(files)//2\n",
    "    num_imgs2 = num_imgs//2\n",
    "    p1 = max(0, middle - num_imgs2)\n",
    "    p2 = min(len(files), middle + num_imgs2)\n",
    "    try:\n",
    "        img3d = np.stack([read_png(f) for f in files[p1:p2]]).T \n",
    "        if img3d.shape[-1] < num_imgs:\n",
    "            n_zero = np.zeros((img_size, img_size, num_imgs - img3d.shape[-1]))\n",
    "            img3d = np.concatenate((img3d,  n_zero), axis = -1)\n",
    "    except Exception as e:\n",
    "        print(f'Error on glob expression', glob_expr)\n",
    "        raise e\n",
    "            \n",
    "    return np.expand_dims(img3d,0)"
   ]
  },
  {
   "cell_type": "code",
   "execution_count": 12,
   "id": "18143cbb-076f-435e-9dbb-a75ae78619d4",
   "metadata": {},
   "outputs": [
    {
     "data": {
      "text/plain": [
       "(-0.5, 255.5, 255.5, -0.5)"
      ]
     },
     "execution_count": 12,
     "metadata": {},
     "output_type": "execute_result"
    },
    {
     "data": {
      "image/png": "[encoded data removed]",
      "text/plain": [
       "<Figure size 432x288 with 1 Axes>"
      ]
     },
     "metadata": {
      "needs_background": "light"
     },
     "output_type": "display_data"
    }
   ],
   "source": [
    "sample_img = read_png(cfg.base_path/'png/train/00000/FLAIR/Image-100.png')\n",
    "plt.imshow(sample_img)\n",
    "plt.axis('off')"
   ]
  },
  {
   "cell_type": "code",
   "execution_count": 13,
   "id": "203e3976-96b4-4a66-bf1c-9878e16215f0",
   "metadata": {},
   "outputs": [
    {
     "data": {
      "image/png": "[encoded data removed]",
      "text/plain": [
       "<Figure size 1440x1296 with 9 Axes>"
      ]
     },
     "metadata": {
      "needs_background": "light"
     },
     "output_type": "display_data"
    }
   ],
   "source": [
    "sample_images = load_png_images_3d('00000').squeeze()\n",
    "f, axarr = plt.subplots(3, 3, figsize=(20, 18))\n",
    "for r in range(3):\n",
    "    for c in range(3):\n",
    "        axarr[r, c].imshow(sample_images[:,:,r * 2 + c * 2])\n",
    "        axarr[r, c].axis('off')"
   ]
  },
  {
   "cell_type": "markdown",
   "id": "6a377541-6c0a-4de9-a49e-7c922e1269f8",
   "metadata": {},
   "source": [
    "### Seeding"
   ]
  },
  {
   "cell_type": "code",
   "execution_count": 14,
   "id": "b1e641d4-6864-4f74-9cb7-47f757efdb08",
   "metadata": {},
   "outputs": [],
   "source": [
    "def set_seed(seed):\n",
    "    random.seed(seed)\n",
    "    os.environ[\"PYTHONHASHSEED\"] = str(seed)\n",
    "    np.random.seed(seed)\n",
    "    torch.manual_seed(seed)\n",
    "    if torch.cuda.is_available():\n",
    "        torch.cuda.manual_seed_all(seed)\n",
    "        torch.backends.cudnn.deterministic = True\n",
    "\n",
    "set_seed(cfg.seed)"
   ]
  },
  {
   "cell_type": "markdown",
   "id": "6627f967-43f3-4fb9-bdb6-b1f4d509e4f7",
   "metadata": {},
   "source": [
    "### Train / Test Split"
   ]
  },
  {
   "cell_type": "code",
   "execution_count": 15,
   "id": "f0875449-3d8a-4ae1-804b-7430c9b9b119",
   "metadata": {},
   "outputs": [],
   "source": [
    "df_train, df_valid = sk_model_selection.train_test_split(\n",
    "    train_df, \n",
    "    test_size=cfg.test_size, \n",
    "    random_state=42, \n",
    "    stratify=train_df[\"MGMT_value\"],\n",
    ")"
   ]
  },
  {
   "cell_type": "code",
   "execution_count": 16,
   "id": "88344ca0-ff52-4447-85ac-4355c92ff467",
   "metadata": {},
   "outputs": [
    {
     "data": {
      "text/plain": [
       "0.11281070745697896"
      ]
     },
     "execution_count": 16,
     "metadata": {},
     "output_type": "execute_result"
    }
   ],
   "source": [
    "len(df_valid) / len(df_train)"
   ]
  },
  {
   "cell_type": "code",
   "execution_count": 17,
   "id": "9be6a334-1944-476e-953e-93ac281b0018",
   "metadata": {},
   "outputs": [],
   "source": [
    "df_valid = df_valid.append(pd.DataFrame([{'BraTS21ID': 1, 'MGMT_value': 1}, {'BraTS21ID': 13, 'MGMT_value': 1}]))"
   ]
  },
  {
   "cell_type": "code",
   "execution_count": 18,
   "id": "9f513e51-82d8-4988-8020-4726ec11dbc8",
   "metadata": {},
   "outputs": [
    {
     "data": {
      "text/plain": [
       "0.11663479923518165"
      ]
     },
     "execution_count": 18,
     "metadata": {},
     "output_type": "execute_result"
    }
   ],
   "source": [
    "len(df_valid) / len(df_train)"
   ]
  },
  {
   "cell_type": "markdown",
   "id": "d1abb28e-1989-42bf-a870-0f7aece73a93",
   "metadata": {},
   "source": [
    "### Dataset"
   ]
  },
  {
   "cell_type": "code",
   "execution_count": 19,
   "id": "4ee29ac2-9116-4606-a0f8-bcab380a6117",
   "metadata": {},
   "outputs": [],
   "source": [
    "class Dataset(torch_data.Dataset):\n",
    "    def __init__(self, paths, targets=None, mri_type=None, label_smoothing=0.01, split=\"train\"):\n",
    "        self.paths = paths\n",
    "        self.targets = targets\n",
    "        self.mri_type = mri_type\n",
    "        self.label_smoothing = label_smoothing\n",
    "        self.split = split\n",
    "          \n",
    "    def __len__(self):\n",
    "        return len(self.paths)\n",
    "    \n",
    "    def __getitem__(self, index):\n",
    "        scan_id = self.paths[index]\n",
    "        mri_type = self.mri_type[index]\n",
    "        if self.targets is None:\n",
    "            data = load_png_images_3d(str(scan_id).zfill(5), mri_type=mri_type, split=self.split, clahe=cfg.clahe)\n",
    "        else:\n",
    "            data = load_png_images_3d(str(scan_id).zfill(5), mri_type=mri_type, split=\"train\", clahe=cfg.clahe)\n",
    "\n",
    "        if self.targets is None:\n",
    "            return {\"X\": torch.tensor(data).float(), \"id\": scan_id}\n",
    "        else:\n",
    "            y = torch.tensor(abs(self.targets[index]-self.label_smoothing), dtype=torch.float)\n",
    "            return {\"X\": torch.tensor(data).float(), \"y\": y}\n"
   ]
  },
  {
   "cell_type": "code",
   "execution_count": 20,
   "id": "238fde14-5d64-4c73-9996-0fa9f6b72c73",
   "metadata": {},
   "outputs": [
    {
     "name": "stderr",
     "output_type": "stream",
     "text": [
      "/opt/conda/lib/python3.8/site-packages/pandas/core/indexing.py:1597: SettingWithCopyWarning: \n",
      "A value is trying to be set on a copy of a slice from a DataFrame.\n",
      "Try using .loc[row_indexer,col_indexer] = value instead\n",
      "\n",
      "See the caveats in the documentation: https://pandas.pydata.org/pandas-docs/stable/user_guide/indexing.html#returning-a-view-versus-a-copy\n",
      "  self.obj[key] = value\n",
      "/opt/conda/lib/python3.8/site-packages/pandas/core/indexing.py:1720: SettingWithCopyWarning: \n",
      "A value is trying to be set on a copy of a slice from a DataFrame.\n",
      "Try using .loc[row_indexer,col_indexer] = value instead\n",
      "\n",
      "See the caveats in the documentation: https://pandas.pydata.org/pandas-docs/stable/user_guide/indexing.html#returning-a-view-versus-a-copy\n",
      "  self._setitem_single_column(loc, value, pi)\n"
     ]
    }
   ],
   "source": [
    "df_train.loc[:,\"MRI_Type\"] = 'FLAIR'\n",
    "sample_ds = Dataset(df_train['BraTS21ID'], df_train['MGMT_value'], df_train['MRI_Type'])"
   ]
  },
  {
   "cell_type": "code",
   "execution_count": 21,
   "id": "8bcab4df-689c-43dd-be3f-fdcc60288e41",
   "metadata": {},
   "outputs": [
    {
     "data": {
      "text/plain": [
       "torch.Size([1, 256, 256, 32])"
      ]
     },
     "execution_count": 21,
     "metadata": {},
     "output_type": "execute_result"
    }
   ],
   "source": [
    "sample_ds[0]['X'].shape"
   ]
  },
  {
   "cell_type": "markdown",
   "id": "97dd933b-8c23-43a4-a2fe-1033a551a5b4",
   "metadata": {},
   "source": [
    "### Model"
   ]
  },
  {
   "cell_type": "code",
   "execution_count": 22,
   "id": "ae346136-e0e6-4e1c-ac81-f31259b0c2b6",
   "metadata": {},
   "outputs": [],
   "source": [
    "def conv3x3x3(in_planes, out_planes, stride=1):\n",
    "    return nn.Conv3d(in_planes,\n",
    "                     out_planes,\n",
    "                     kernel_size=3,\n",
    "                     stride=stride,\n",
    "                     padding=1,\n",
    "                     bias=False)"
   ]
  },
  {
   "cell_type": "code",
   "execution_count": 23,
   "id": "4c6b2437-5798-4a5d-a80a-40a8ed843821",
   "metadata": {},
   "outputs": [],
   "source": [
    "def conv1x1x1(in_planes, out_planes, stride=1):\n",
    "    return nn.Conv3d(in_planes,\n",
    "                     out_planes,\n",
    "                     kernel_size=1,\n",
    "                     stride=stride,\n",
    "                     bias=False)\n",
    "\n",
    "class SimpleBlock(nn.Module):\n",
    "    \n",
    "    def __init__(self, in_planes, out_planes, drop=None):\n",
    "        super().__init__()\n",
    "        self.conv = conv3x3x3(in_planes, out_planes, stride=1)\n",
    "        self.relu = nn.ReLU(inplace=False)\n",
    "        self.maxpool = nn.MaxPool3d(kernel_size=2)\n",
    "        self.bn = nn.BatchNorm3d(out_planes)\n",
    "        if drop != None:\n",
    "            self.drop = nn.Dropout(drop)\n",
    "        else:\n",
    "            self.drop = None\n",
    "        \n",
    "    def forward(self, x):\n",
    "        x = self.bn(self.maxpool(self.relu(self.conv(x))))\n",
    "        if self.drop != None:\n",
    "            x = self.drop(x)\n",
    "        return x\n",
    "\n",
    "class CustomModel(nn.Module):\n",
    "\n",
    "    def __init__(self):\n",
    "        super().__init__()\n",
    "        in_planes = 1\n",
    "        out_planes = 32\n",
    "        self.block1 = SimpleBlock(1, 64)\n",
    "        self.block2 = SimpleBlock(64, 128, drop=0.02)\n",
    "        self.block3 = SimpleBlock(128, 256, drop=0.03)\n",
    "#         self.block4 = SimpleBlock(256, 512, drop=0.04)\n",
    "        self.avg = nn.AdaptiveAvgPool3d((4, 1, 1))\n",
    "        self.fc = nn.Linear(1024, 1024)\n",
    "        self.relu = nn.ReLU()\n",
    "        self.regressor = nn.Linear(1024, 1)\n",
    "\n",
    "    def forward(self, x):\n",
    "        x = self.block1(x)\n",
    "        x = self.block2(x)\n",
    "        x = self.block3(x)\n",
    "#         x = self.block4(x)\n",
    "        x = self.avg(x).view(x.shape[0], -1)\n",
    "        x = self.relu(self.fc(x))\n",
    "        x = self.regressor(x)\n",
    "        x = torch.sigmoid(x)\n",
    "        return x"
   ]
  },
  {
   "cell_type": "code",
   "execution_count": 24,
   "id": "712e9de7-d530-44ca-a9fa-ad449e96d225",
   "metadata": {},
   "outputs": [
    {
     "data": {
      "text/plain": [
       "torch.Size([4, 512, 2, 1, 1])"
      ]
     },
     "execution_count": 24,
     "metadata": {},
     "output_type": "execute_result"
    }
   ],
   "source": [
    "m = nn.AdaptiveAvgPool3d((2,1,1))\n",
    "a = torch.randn([4, 512, 4, 16, 16])\n",
    "m(a).shape"
   ]
  },
  {
   "cell_type": "code",
   "execution_count": 25,
   "id": "d7b9a42d-e83b-460b-8fc1-e32fac9eed59",
   "metadata": {},
   "outputs": [],
   "source": [
    "def create_model():\n",
    "    model = CustomModel()\n",
    "    model.to(cfg.device)\n",
    "    return model"
   ]
  },
  {
   "cell_type": "code",
   "execution_count": 26,
   "id": "7eac7e3b-7201-4f17-9bb9-509d2666afc6",
   "metadata": {},
   "outputs": [],
   "source": [
    "# sample_model = CustomModel()\n",
    "# sample_model.to(cfg.device)\n",
    "# torch.backends.cudnn.enabled = False\n",
    "# sample_data = torch.randn([4, 1, 64, 256, 256]).to(cfg.device)\n",
    "# sample_model(sample_data).shape"
   ]
  },
  {
   "cell_type": "markdown",
   "id": "4026eff3-7602-4822-8bf3-058ca76862f9",
   "metadata": {},
   "source": [
    "### Trainer"
   ]
  },
  {
   "cell_type": "code",
   "execution_count": 27,
   "id": "95ecdd77-241e-4218-97f9-f556a8fc807a",
   "metadata": {},
   "outputs": [],
   "source": [
    "class Trainer:\n",
    "    def __init__(\n",
    "        self, \n",
    "        model, \n",
    "        device, \n",
    "        optimizer, \n",
    "        criterion\n",
    "    ):\n",
    "        self.model = model\n",
    "        self.device = device\n",
    "        self.optimizer = optimizer\n",
    "        self.criterion = criterion\n",
    "\n",
    "        self.best_valid_score = -np.inf\n",
    "        self.n_patience = 0\n",
    "        self.lastmodel = None\n",
    "        \n",
    "    def fit(self, epochs, train_loader, valid_loader, save_path, patience):  \n",
    "        tbar = tqdm(range(1, epochs + 1), total=epochs)\n",
    "#         self.lr_sched = torch.optim.lr_scheduler.CosineAnnealingWarmRestarts(self.optimizer, T_0=int(len(train_loader) / 2), T_mult=1, eta_min=0.0001, last_epoch=-1)\n",
    "        self.lr_sched = torch.optim.lr_scheduler.OneCycleLR(self.optimizer, max_lr=1e-3, steps_per_epoch=len(train_loader), epochs=epochs)\n",
    "        self.lrs = []\n",
    "        \n",
    "        for n_epoch in tbar:\n",
    "            \n",
    "            self.info_message(\"EPOCH: {}\", n_epoch)\n",
    "            tbar.set_description(f'EPOCH: {n_epoch}')\n",
    "            \n",
    "            train_loss, train_time = self.train_epoch(train_loader, valid_loader, n_epoch, save_path)\n",
    "            valid_loss, valid_auc, valid_time = self.valid_epoch(valid_loader)\n",
    "            \n",
    "            self.info_message(\n",
    "                \"[Epoch Train: {}] loss: {:.4f}, time: {:.2f} s            \",\n",
    "                n_epoch, train_loss, train_time\n",
    "            )\n",
    "            \n",
    "            self.print_valid_message(valid_loss, valid_auc, valid_time, n_epoch)\n",
    "            \n",
    "            self.check_and_save(valid_loss, valid_auc, valid_time, n_epoch, save_path)\n",
    "            \n",
    "            if self.n_patience >= patience:\n",
    "                self.info_message(\"\\nValid auc didn't improve last {} epochs.\", patience)\n",
    "                break\n",
    "        plt.plot(self.lrs)\n",
    "        \n",
    "    def check_and_save(self, valid_loss, valid_auc, valid_time, n_epoch, save_path):\n",
    "        # if True:\n",
    "        # if self.best_valid_score < valid_auc: \n",
    "        if self.best_valid_score < valid_auc and valid_auc > 0.5: \n",
    "            self.save_model(n_epoch, save_path, valid_loss, valid_auc)\n",
    "            self.info_message(\n",
    "                 \"auc improved from {:.4f} to {:.4f}. Saved model to '{}'\", \n",
    "                self.best_valid_score, valid_loss, self.lastmodel\n",
    "            )\n",
    "            self.best_valid_score = valid_auc\n",
    "            self.n_patience = 0\n",
    "        else:\n",
    "            self.n_patience += 1\n",
    "            \n",
    "    def print_valid_message(self, valid_loss, valid_auc, valid_time, n_epoch):\n",
    "        self.info_message(\n",
    "            \"[Epoch Valid: {}] loss: {:.4f}, auc: {:.4f}, time: {:.2f} s\",\n",
    "            n_epoch, valid_loss, valid_auc, valid_time\n",
    "        )\n",
    "            \n",
    "    def train_epoch(self, train_loader, valid_loader, n_epoch, save_path):\n",
    "        self.model.train()\n",
    "        t = time.time()\n",
    "        sum_loss = 0\n",
    "\n",
    "        tbar = tqdm(enumerate(train_loader, 1), total=len(train_loader))\n",
    "        \n",
    "        scaler = torch.cuda.amp.GradScaler() # fp16\n",
    "        for step, batch in tbar:\n",
    "            X = batch[\"X\"].to(self.device)\n",
    "            targets = batch[\"y\"].to(self.device)\n",
    "            self.optimizer.zero_grad()\n",
    "            with torch.cuda.amp.autocast():\n",
    "                outputs = self.model(X).squeeze(1)\n",
    "                loss = self.criterion(outputs, targets)\n",
    "                \n",
    "#             loss.backward()\n",
    "            scaler.scale(loss).backward()\n",
    "            scaler.step(self.optimizer)\n",
    "            scaler.update()\n",
    "\n",
    "            sum_loss += loss.detach().item()\n",
    "#             torch.nn.utils.clip_grad_norm_(self.model.parameters(), 1.0)\n",
    "#             self.optimizer.step()\n",
    "            self.lr_sched.step()\n",
    "            current_lr = self.optimizer.param_groups[0][\"lr\"]\n",
    "            self.lrs.append(\n",
    "                current_lr\n",
    "            )\n",
    "            \n",
    "            message = 'Train Step {}/{}, train_loss: {:.4f}'\n",
    "            self.info_message(message, step, len(train_loader), sum_loss/step, end=\"\\r\")\n",
    "            \n",
    "            if n_epoch in cfg.extra_check_epochs:\n",
    "                if step % cfg.check_frequency == 0:\n",
    "                    valid_loss, valid_auc, valid_time = self.valid_epoch(valid_loader)\n",
    "                    self.check_and_save(valid_loss, valid_auc, valid_time, n_epoch, save_path)\n",
    "                    self.print_valid_message(valid_loss, valid_auc, valid_time, n_epoch)\n",
    "            \n",
    "        \n",
    "        return sum_loss/len(train_loader), int(time.time() - t)\n",
    "    \n",
    "    def valid_epoch(self, valid_loader):\n",
    "        self.model.eval()\n",
    "        t = time.time()\n",
    "        sum_loss = 0\n",
    "        y_all = []\n",
    "        outputs_all = []\n",
    "\n",
    "        tbar = tqdm(enumerate(valid_loader, 1), total=len(valid_loader))\n",
    "        for step, batch in tbar:\n",
    "            with torch.no_grad():\n",
    "                X = batch[\"X\"].to(self.device)\n",
    "                targets = batch[\"y\"].to(self.device)\n",
    "\n",
    "                outputs = torch.sigmoid(self.model(X).squeeze(1))\n",
    "                loss = self.criterion(outputs, targets)\n",
    "                print('outputs', outputs.mean().item(), outputs.std().item())\n",
    "                print('targets', targets.mean().item(), targets.std().item())\n",
    "                \n",
    "                sum_loss += loss.detach().item()\n",
    "                y_all.extend(batch[\"y\"].tolist())\n",
    "                outputs_all.extend(outputs.tolist())\n",
    "\n",
    "            message = 'Valid Step {}/{}, valid_loss: {:.4f}'\n",
    "            self.info_message(message, step, len(valid_loader), sum_loss/step, end=\"\\r\")\n",
    "            \n",
    "        y_all = [1 if x > 0.5 else 0 for x in y_all]\n",
    "        auc = roc_auc_score(y_all, outputs_all)\n",
    "        \n",
    "        return sum_loss/len(valid_loader), auc, int(time.time() - t)\n",
    "    \n",
    "    def save_model(self, n_epoch, save_path, loss, auc):\n",
    "        self.lastmodel = str(cfg.models_path/f\"{save_path}-e{n_epoch}-loss{loss:.3f}-auc{auc:.3f}.pth\")\n",
    "        torch.save(\n",
    "            {\n",
    "                \"model_state_dict\": self.model.state_dict(),\n",
    "                \"optimizer_state_dict\": self.optimizer.state_dict(),\n",
    "                \"best_valid_score\": self.best_valid_score,\n",
    "                \"n_epoch\": n_epoch,\n",
    "            },\n",
    "            self.lastmodel,\n",
    "        )\n",
    "    \n",
    "    @staticmethod\n",
    "    def info_message(message, *args, end=\"\\n\"):\n",
    "        print(message.format(*args), end=end)"
   ]
  },
  {
   "cell_type": "code",
   "execution_count": 28,
   "id": "18b92968-dc45-4456-bac2-deadc2e363f3",
   "metadata": {},
   "outputs": [],
   "source": [
    "def loss_func(input, target):\n",
    "#     return F.binary_cross_entropy_with_logits(input, target) * 0.5 + F.mse_loss(input, target) * 0.5\n",
    "#     return F.binary_cross_entropy_with_logits(input, target) * 0.2 + dice_loss(input, target) * 0.8\n",
    "    return F.binary_cross_entropy_with_logits(input, target)"
   ]
  },
  {
   "cell_type": "code",
   "execution_count": 29,
   "id": "3d84cb25-fa28-43a2-83e1-5f2278b9866f",
   "metadata": {},
   "outputs": [],
   "source": [
    "def train_mri_type(df_train, df_valid, mri_type):\n",
    "    if mri_type==\"all\":\n",
    "        train_list = []\n",
    "        valid_list = []\n",
    "        for mri_type in mri_types:\n",
    "            df_train.loc[:,\"MRI_Type\"] = mri_type\n",
    "            train_list.append(df_train.copy())\n",
    "            df_valid.loc[:,\"MRI_Type\"] = mri_type\n",
    "            valid_list.append(df_valid.copy())\n",
    "\n",
    "        df_train = pd.concat(train_list)\n",
    "        df_valid = pd.concat(valid_list)\n",
    "    else:\n",
    "        df_train.loc[:,\"MRI_Type\"] = mri_type\n",
    "        df_valid.loc[:,\"MRI_Type\"] = mri_type\n",
    "\n",
    "    print(df_train.shape, df_valid.shape)\n",
    "    display(df_train.head())\n",
    "    \n",
    "    train_data_retriever = Dataset(\n",
    "        df_train[\"BraTS21ID\"].values, \n",
    "        df_train[\"MGMT_value\"].values, \n",
    "        df_train[\"MRI_Type\"].values\n",
    "    )\n",
    "\n",
    "    valid_data_retriever = Dataset(\n",
    "        df_valid[\"BraTS21ID\"].values, \n",
    "        df_valid[\"MGMT_value\"].values,\n",
    "        df_valid[\"MRI_Type\"].values\n",
    "    )\n",
    "\n",
    "    train_loader = torch_data.DataLoader(\n",
    "        train_data_retriever,\n",
    "        batch_size=cfg.batch_size,\n",
    "        shuffle=True,\n",
    "        num_workers=cfg.num_workers,\n",
    "    )\n",
    "\n",
    "    valid_loader = torch_data.DataLoader(\n",
    "        valid_data_retriever, \n",
    "        batch_size=cfg.batch_size,\n",
    "        shuffle=False,\n",
    "        num_workers=cfg.num_workers,\n",
    "    )\n",
    "\n",
    "    model = create_model()\n",
    "\n",
    "    #checkpoint = torch.load(\"best-model-all-auc0.555.pth\")\n",
    "    #model.load_state_dict(checkpoint[\"model_state_dict\"])\n",
    "\n",
    "    #print(model)\n",
    "\n",
    "    optimizer = torch.optim.Adam(model.parameters(), lr=cfg.lr)\n",
    "    #optimizer = torch.optim.SGD(model.parameters(), lr=0.001, momentum=0.9)\n",
    "\n",
    "    criterion = loss_func\n",
    "\n",
    "    trainer = Trainer(\n",
    "        model, \n",
    "        cfg.device, \n",
    "        optimizer, \n",
    "        criterion\n",
    "    )\n",
    "\n",
    "    history = trainer.fit(\n",
    "        cfg.epochs, \n",
    "        train_loader, \n",
    "        valid_loader, \n",
    "        f\"{mri_type}\", \n",
    "        cfg.epochs + 100,\n",
    "    )\n",
    "    \n",
    "    return trainer.lastmodel"
   ]
  },
  {
   "cell_type": "code",
   "execution_count": 30,
   "id": "14204846-557d-44db-a61f-80c24a2f0965",
   "metadata": {},
   "outputs": [],
   "source": [
    "!rm -rf {str(cfg.models_path)}/*.pth"
   ]
  },
  {
   "cell_type": "code",
   "execution_count": 31,
   "id": "aac522d8-2996-439a-b776-40803258708f",
   "metadata": {},
   "outputs": [
    {
     "name": "stdout",
     "output_type": "stream",
     "text": [
      "(523, 3) (61, 3)\n"
     ]
    },
    {
     "data": {
      "text/html": [
       "<div>\n",
       "<style scoped>\n",
       "    .dataframe tbody tr th:only-of-type {\n",
       "        vertical-align: middle;\n",
       "    }\n",
       "\n",
       "    .dataframe tbody tr th {\n",
       "        vertical-align: top;\n",
       "    }\n",
       "\n",
       "    .dataframe thead th {\n",
       "        text-align: right;\n",
       "    }\n",
       "</style>\n",
       "<table border=\"1\" class=\"dataframe\">\n",
       "  <thead>\n",
       "    <tr style=\"text-align: right;\">\n",
       "      <th></th>\n",
       "      <th>BraTS21ID</th>\n",
       "      <th>MGMT_value</th>\n",
       "      <th>MRI_Type</th>\n",
       "    </tr>\n",
       "  </thead>\n",
       "  <tbody>\n",
       "    <tr>\n",
       "      <th>549</th>\n",
       "      <td>803</td>\n",
       "      <td>0</td>\n",
       "      <td>FLAIR</td>\n",
       "    </tr>\n",
       "    <tr>\n",
       "      <th>353</th>\n",
       "      <td>520</td>\n",
       "      <td>1</td>\n",
       "      <td>FLAIR</td>\n",
       "    </tr>\n",
       "    <tr>\n",
       "      <th>272</th>\n",
       "      <td>399</td>\n",
       "      <td>0</td>\n",
       "      <td>FLAIR</td>\n",
       "    </tr>\n",
       "    <tr>\n",
       "      <th>137</th>\n",
       "      <td>206</td>\n",
       "      <td>0</td>\n",
       "      <td>FLAIR</td>\n",
       "    </tr>\n",
       "    <tr>\n",
       "      <th>292</th>\n",
       "      <td>423</td>\n",
       "      <td>0</td>\n",
       "      <td>FLAIR</td>\n",
       "    </tr>\n",
       "  </tbody>\n",
       "</table>\n",
       "</div>"
      ],
      "text/plain": [
       "     BraTS21ID  MGMT_value MRI_Type\n",
       "549        803           0    FLAIR\n",
       "353        520           1    FLAIR\n",
       "272        399           0    FLAIR\n",
       "137        206           0    FLAIR\n",
       "292        423           0    FLAIR"
      ]
     },
     "metadata": {},
     "output_type": "display_data"
    },
    {
     "data": {
      "application/vnd.jupyter.widget-view+json": {
       "model_id": "517ca71f922a430f90256f0edad95322",
       "version_major": 2,
       "version_minor": 0
      },
      "text/plain": [
       "HBox(children=(FloatProgress(value=0.0, max=20.0), HTML(value='')))"
      ]
     },
     "metadata": {},
     "output_type": "display_data"
    },
    {
     "name": "stdout",
     "output_type": "stream",
     "text": [
      "EPOCH: 1\n"
     ]
    },
    {
     "data": {
      "application/vnd.jupyter.widget-view+json": {
       "model_id": "26f6f26844604229aff6e6d8159cf747",
       "version_major": 2,
       "version_minor": 0
      },
      "text/plain": [
       "HBox(children=(FloatProgress(value=0.0, max=131.0), HTML(value='')))"
      ]
     },
     "metadata": {},
     "output_type": "display_data"
    },
    {
     "name": "stdout",
     "output_type": "stream",
     "text": [
      "Train Step 131/131, train_loss: 0.6958\n"
     ]
    },
    {
     "data": {
      "application/vnd.jupyter.widget-view+json": {
       "model_id": "c89b559176ea4f38b8234970434f261f",
       "version_major": 2,
       "version_minor": 0
      },
      "text/plain": [
       "HBox(children=(FloatProgress(value=0.0, max=16.0), HTML(value='')))"
      ]
     },
     "metadata": {},
     "output_type": "display_data"
    },
    {
     "name": "stdout",
     "output_type": "stream",
     "text": [
      "outputs 0.5518558025360107 0.04138527438044548\n",
      "targets 0.5 0.5658032894134521\n",
      "outputs 0.6089212894439697 0.006986353080719709\n",
      "targets 0.5 0.5658032894134521\n",
      "outputs 0.5916014909744263 0.037967436015605927\n",
      "targets 0.7450000047683716 0.49000000953674316\n",
      "outputs 0.5105451941490173 0.009417681023478508\n",
      "targets 0.5 0.5658032894134521\n",
      "outputs 0.5875482559204102 0.04115379601716995\n",
      "targets 0.7450000047683716 0.49000000953674316\n",
      "outputs 0.5285516977310181 0.025595322251319885\n",
      "targets 0.2549999952316284 0.49000000953674316\n",
      "outputs 0.5669161677360535 0.06923791021108627\n",
      "targets 0.5 0.5658032894134521\n",
      "outputs 0.5892068147659302 0.05087981000542641\n",
      "targets 0.7450000047683716 0.49000000953674316\n",
      "outputs 0.5877606868743896 0.04600667208433151\n",
      "targets 0.5 0.5658032894134521\n",
      "outputs 0.5429596304893494 0.05927349627017975\n",
      "targets 0.2549999952316284 0.49000000953674316\n",
      "outputs 0.5809104442596436 0.04022100195288658\n",
      "targets 0.2549999952316284 0.49000000953674316\n",
      "outputs 0.5890165567398071 0.05589359998703003\n",
      "targets 0.5 0.5658032894134521\n",
      "outputs 0.5440212488174438 0.040958620607852936\n",
      "targets 0.5 0.5658032894134521\n",
      "outputs 0.5552685260772705 0.052987344563007355\n",
      "targets 0.7450000047683716 0.49000000953674316\n",
      "outputs 0.5364078879356384 0.05931483209133148\n",
      "targets 0.7450000047683716 0.49000000953674316\n",
      "outputs 0.5854334235191345 nan0.7086\n",
      "targets 0.9900000095367432 nan\n",
      "Valid Step 16/16, valid_loss: 0.6923\n",
      "[Epoch Train: 1] loss: 0.6958, time: 18.00 s            \n",
      "[Epoch Valid: 1] loss: 0.6923, auc: 0.6266, time: 3.00 s\n",
      "auc improved from -inf to 0.6923. Saved model to '/home/RSNA_MICCAI_Brain_Tumor/models/FLAIR-e1-loss0.692-auc0.627.pth'\n",
      "EPOCH: 2\n"
     ]
    },
    {
     "data": {
      "application/vnd.jupyter.widget-view+json": {
       "model_id": "838478aa366b48b796e9db535dbdc3d4",
       "version_major": 2,
       "version_minor": 0
      },
      "text/plain": [
       "HBox(children=(FloatProgress(value=0.0, max=131.0), HTML(value='')))"
      ]
     },
     "metadata": {},
     "output_type": "display_data"
    },
    {
     "name": "stdout",
     "output_type": "stream",
     "text": [
      "Train Step 131/131, train_loss: 0.6879\n"
     ]
    },
    {
     "data": {
      "application/vnd.jupyter.widget-view+json": {
       "model_id": "75246ae6730f4edc8515941408360d66",
       "version_major": 2,
       "version_minor": 0
      },
      "text/plain": [
       "HBox(children=(FloatProgress(value=0.0, max=16.0), HTML(value='')))"
      ]
     },
     "metadata": {},
     "output_type": "display_data"
    },
    {
     "name": "stdout",
     "output_type": "stream",
     "text": [
      "outputs 0.5000024437904358 3.380166845090571e-06\n",
      "targets 0.5 0.5658032894134521\n",
      "outputs 0.5000649690628052 0.00010169093729928136\n",
      "targets 0.5 0.5658032894134521\n",
      "outputs 0.5000067949295044 6.445345206884667e-06\n",
      "targets 0.7450000047683716 0.49000000953674316\n",
      "outputs 0.5 2.4333495218797907e-083\n",
      "targets 0.5 0.5658032894134521\n",
      "outputs 0.500002920627594 3.4290376333956374e-06\n",
      "targets 0.7450000047683716 0.49000000953674316\n",
      "outputs 0.5000019073486328 2.4799878701742273e-06\n",
      "targets 0.2549999952316284 0.49000000953674316\n",
      "outputs 0.500469446182251 0.0009306653519161046\n",
      "targets 0.5 0.5658032894134521\n",
      "outputs 0.5000637769699097 6.0975558881182224e-05\n",
      "targets 0.7450000047683716 0.49000000953674316\n",
      "outputs 0.500016450881958 2.4207252863561735e-05\n",
      "targets 0.5 0.5658032894134521\n",
      "outputs 0.5000668168067932 0.0001310770312556997\n",
      "targets 0.2549999952316284 0.49000000953674316\n",
      "outputs 0.500002920627594 3.470829824436805e-06\n",
      "targets 0.2549999952316284 0.49000000953674316\n",
      "outputs 0.5000269412994385 4.947847264702432e-05\n",
      "targets 0.5 0.5658032894134521\n",
      "outputs 0.5000028610229492 4.7615367293474264e-06\n",
      "targets 0.5 0.5658032894134521\n",
      "outputs 0.5000047087669373 6.617368399020052e-06\n",
      "targets 0.7450000047683716 0.49000000953674316\n",
      "outputs 0.5000889301300049 0.00017786026000976562\n",
      "targets 0.7450000047683716 0.49000000953674316\n",
      "outputs 0.5000017881393433 nan0.7078\n",
      "targets 0.9900000095367432 nan\n",
      "Valid Step 16/16, valid_loss: 0.6935\n",
      "[Epoch Train: 2] loss: 0.6879, time: 17.00 s            \n",
      "[Epoch Valid: 2] loss: 0.6935, auc: 0.6174, time: 2.00 s\n",
      "EPOCH: 3\n"
     ]
    },
    {
     "data": {
      "application/vnd.jupyter.widget-view+json": {
       "model_id": "765005d5d9bb451a9936cb2210a7c993",
       "version_major": 2,
       "version_minor": 0
      },
      "text/plain": [
       "HBox(children=(FloatProgress(value=0.0, max=131.0), HTML(value='')))"
      ]
     },
     "metadata": {},
     "output_type": "display_data"
    },
    {
     "name": "stdout",
     "output_type": "stream",
     "text": [
      "Train Step 131/131, train_loss: 0.6931\n"
     ]
    },
    {
     "data": {
      "application/vnd.jupyter.widget-view+json": {
       "model_id": "93c2d6ce277c4917a05a00e04ef87530",
       "version_major": 2,
       "version_minor": 0
      },
      "text/plain": [
       "HBox(children=(FloatProgress(value=0.0, max=16.0), HTML(value='')))"
      ]
     },
     "metadata": {},
     "output_type": "display_data"
    },
    {
     "name": "stdout",
     "output_type": "stream",
     "text": [
      "outputs 0.5005434155464172 0.0007658966351300478\n",
      "targets 0.5 0.5658032894134521\n",
      "outputs 0.5024753212928772 0.0033903075382113457\n",
      "targets 0.5 0.5658032894134521\n",
      "outputs 0.5006736516952515 0.00046437059063464403\n",
      "targets 0.7450000047683716 0.49000000953674316\n",
      "outputs 0.500029444694519 3.4823347959900275e-05\n",
      "targets 0.5 0.5658032894134521\n",
      "outputs 0.5002871155738831 0.00022891098342370242\n",
      "targets 0.7450000047683716 0.49000000953674316\n",
      "outputs 0.5004949569702148 0.0005693298880942166\n",
      "targets 0.2549999952316284 0.49000000953674316\n",
      "outputs 0.5060694813728333 0.0116255022585392\n",
      "targets 0.5 0.5658032894134521\n",
      "outputs 0.5023151636123657 0.0019470457918941975\n",
      "targets 0.7450000047683716 0.49000000953674316\n",
      "outputs 0.500792384147644 0.0008314884616993368\n",
      "targets 0.5 0.5658032894134521\n",
      "outputs 0.5018680691719055 0.0023978736717253923\n",
      "targets 0.2549999952316284 0.49000000953674316\n",
      "outputs 0.5003700256347656 0.0003763908171094954\n",
      "targets 0.2549999952316284 0.49000000953674316\n",
      "outputs 0.5009025931358337 0.0013944340171292424\n",
      "targets 0.5 0.5658032894134521\n",
      "outputs 0.5004136562347412 0.0002491592022124678\n",
      "targets 0.5 0.5658032894134521\n",
      "outputs 0.500373125076294 0.0004514524189289659\n",
      "targets 0.7450000047683716 0.49000000953674316\n",
      "outputs 0.5018116235733032 0.0036119292490184307\n",
      "targets 0.7450000047683716 0.49000000953674316\n",
      "outputs 0.5002802610397339 nan0.7080\n",
      "targets 0.9900000095367432 nan\n",
      "Valid Step 16/16, valid_loss: 0.6936\n",
      "[Epoch Train: 3] loss: 0.6931, time: 17.00 s            \n",
      "[Epoch Valid: 3] loss: 0.6936, auc: 0.5812, time: 3.00 s\n",
      "EPOCH: 4\n"
     ]
    },
    {
     "data": {
      "application/vnd.jupyter.widget-view+json": {
       "model_id": "83b7112bd27f4cf2b079e51ee8a878d0",
       "version_major": 2,
       "version_minor": 0
      },
      "text/plain": [
       "HBox(children=(FloatProgress(value=0.0, max=131.0), HTML(value='')))"
      ]
     },
     "metadata": {},
     "output_type": "display_data"
    },
    {
     "name": "stdout",
     "output_type": "stream",
     "text": [
      "Train Step 131/131, train_loss: 0.6920\n"
     ]
    },
    {
     "data": {
      "application/vnd.jupyter.widget-view+json": {
       "model_id": "3c9fb5df665f4a938253657e97c19dbd",
       "version_major": 2,
       "version_minor": 0
      },
      "text/plain": [
       "HBox(children=(FloatProgress(value=0.0, max=16.0), HTML(value='')))"
      ]
     },
     "metadata": {},
     "output_type": "display_data"
    },
    {
     "name": "stdout",
     "output_type": "stream",
     "text": [
      "outputs 0.5000241994857788 2.6826406610780396e-05\n",
      "targets 0.5 0.5658032894134521\n",
      "outputs 0.5000840425491333 5.036577567807399e-05\n",
      "targets 0.5 0.5658032894134521\n",
      "outputs 0.5000857710838318 0.00012866857287008315\n",
      "targets 0.7450000047683716 0.49000000953674316\n",
      "outputs 0.500001072883606 1.2880673239124008e-06\n",
      "targets 0.5 0.5658032894134521\n",
      "outputs 0.5000725984573364 6.082719482947141e-05\n",
      "targets 0.7450000047683716 0.49000000953674316\n",
      "outputs 0.5000859498977661 0.00015609005640726537\n",
      "targets 0.2549999952316284 0.49000000953674316\n",
      "outputs 0.5000952482223511 0.00011105660087196156\n",
      "targets 0.5 0.5658032894134521\n",
      "outputs 0.500108003616333 8.71008014655672e-05\n",
      "targets 0.7450000047683716 0.49000000953674316\n",
      "outputs 0.5000878572463989 6.324885180220008e-05\n",
      "targets 0.5 0.5658032894134521\n",
      "outputs 0.5000494718551636 9.408015466760844e-05\n",
      "targets 0.2549999952316284 0.49000000953674316\n",
      "outputs 0.5000854730606079 9.714431507745758e-05\n",
      "targets 0.2549999952316284 0.49000000953674316\n",
      "outputs 0.5000662803649902 6.192916771396995e-05\n",
      "targets 0.5 0.5658032894134521\n",
      "outputs 0.5000473260879517 6.369554466800764e-05\n",
      "targets 0.5 0.5658032894134521\n",
      "outputs 0.5000661015510559 6.561649934155867e-05\n",
      "targets 0.7450000047683716 0.49000000953674316\n",
      "outputs 0.5000444650650024 8.863235416356474e-05\n",
      "targets 0.7450000047683716 0.49000000953674316\n",
      "outputs 0.5001077651977539 nan0.7077\n",
      "targets 0.9900000095367432 nan\n",
      "Valid Step 16/16, valid_loss: 0.6934\n",
      "[Epoch Train: 4] loss: 0.6920, time: 17.00 s            \n",
      "[Epoch Valid: 4] loss: 0.6934, auc: 0.6228, time: 3.00 s\n",
      "EPOCH: 5\n"
     ]
    },
    {
     "data": {
      "application/vnd.jupyter.widget-view+json": {
       "model_id": "1047beae5ab24de7877c546c28f3d9c5",
       "version_major": 2,
       "version_minor": 0
      },
      "text/plain": [
       "HBox(children=(FloatProgress(value=0.0, max=131.0), HTML(value='')))"
      ]
     },
     "metadata": {},
     "output_type": "display_data"
    },
    {
     "name": "stdout",
     "output_type": "stream",
     "text": [
      "Train Step 131/131, train_loss: 0.6931\n"
     ]
    },
    {
     "data": {
      "application/vnd.jupyter.widget-view+json": {
       "model_id": "3e9237e7f5ce49cd8fe2167f8a7ac946",
       "version_major": 2,
       "version_minor": 0
      },
      "text/plain": [
       "HBox(children=(FloatProgress(value=0.0, max=16.0), HTML(value='')))"
      ]
     },
     "metadata": {},
     "output_type": "display_data"
    },
    {
     "name": "stdout",
     "output_type": "stream",
     "text": [
      "outputs 0.5000414848327637 4.3908967199968174e-05\n",
      "targets 0.5 0.5658032894134521\n",
      "outputs 0.5001310110092163 8.579945279052481e-05\n",
      "targets 0.5 0.5658032894134521\n",
      "outputs 0.5001202821731567 0.00016176114149857312\n",
      "targets 0.7450000047683716 0.49000000953674316\n",
      "outputs 0.5000019669532776 2.3086060991772683e-06\n",
      "targets 0.5 0.5658032894134521\n",
      "outputs 0.5001147985458374 7.913557783467695e-05\n",
      "targets 0.7450000047683716 0.49000000953674316\n",
      "outputs 0.500106155872345 0.00018506721244193614\n",
      "targets 0.2549999952316284 0.49000000953674316\n",
      "outputs 0.500123143196106 0.00014174914394970983\n",
      "targets 0.5 0.5658032894134521\n",
      "outputs 0.5001599192619324 0.00012376703671179712\n",
      "targets 0.7450000047683716 0.49000000953674316\n",
      "outputs 0.5001400113105774 9.005529136629775e-05\n",
      "targets 0.5 0.5658032894134521\n",
      "outputs 0.5000680088996887 0.00012694511679001153\n",
      "targets 0.2549999952316284 0.49000000953674316\n",
      "outputs 0.5001389980316162 0.0001498372876085341\n",
      "targets 0.2549999952316284 0.49000000953674316\n",
      "outputs 0.5001077055931091 0.00010022017522715032\n",
      "targets 0.5 0.5658032894134521\n",
      "outputs 0.5000784397125244 0.00010137175559066236\n",
      "targets 0.5 0.5658032894134521\n",
      "outputs 0.5001113414764404 0.00010795494017656893\n",
      "targets 0.7450000047683716 0.49000000953674316\n",
      "outputs 0.5000659227371216 0.00013138900976628065\n",
      "targets 0.7450000047683716 0.49000000953674316\n",
      "outputs 0.5001919865608215 nan0.7077\n",
      "targets 0.9900000095367432 nan\n",
      "Valid Step 16/16, valid_loss: 0.6934\n",
      "[Epoch Train: 5] loss: 0.6931, time: 17.00 s            \n",
      "[Epoch Valid: 5] loss: 0.6934, auc: 0.6277, time: 3.00 s\n",
      "auc improved from 0.6266 to 0.6934. Saved model to '/home/RSNA_MICCAI_Brain_Tumor/models/FLAIR-e5-loss0.693-auc0.628.pth'\n",
      "EPOCH: 6\n"
     ]
    },
    {
     "data": {
      "application/vnd.jupyter.widget-view+json": {
       "model_id": "6b9e0f7e58f54e329d8eb5795b44882b",
       "version_major": 2,
       "version_minor": 0
      },
      "text/plain": [
       "HBox(children=(FloatProgress(value=0.0, max=131.0), HTML(value='')))"
      ]
     },
     "metadata": {},
     "output_type": "display_data"
    },
    {
     "name": "stdout",
     "output_type": "stream",
     "text": [
      "Train Step 131/131, train_loss: 0.6932\n"
     ]
    },
    {
     "data": {
      "application/vnd.jupyter.widget-view+json": {
       "model_id": "457b196f34d34835a0f36ec3d345eba5",
       "version_major": 2,
       "version_minor": 0
      },
      "text/plain": [
       "HBox(children=(FloatProgress(value=0.0, max=16.0), HTML(value='')))"
      ]
     },
     "metadata": {},
     "output_type": "display_data"
    },
    {
     "name": "stdout",
     "output_type": "stream",
     "text": [
      "outputs 0.5000361204147339 3.941011891583912e-05\n",
      "targets 0.5 0.5658032894134521\n",
      "outputs 0.5001139044761658 7.288598135346547e-05\n",
      "targets 0.5 0.5658032894134521\n",
      "outputs 0.5000752210617065 8.619594154879451e-05\n",
      "targets 0.7450000047683716 0.49000000953674316\n",
      "outputs 0.5000020861625671 2.4452438083244488e-06\n",
      "targets 0.5 0.5658032894134521\n",
      "outputs 0.5000907182693481 5.5569613323314115e-05\n",
      "targets 0.7450000047683716 0.49000000953674316\n",
      "outputs 0.5000717639923096 0.00012238157796673477\n",
      "targets 0.2549999952316284 0.49000000953674316\n",
      "outputs 0.5000852346420288 9.773748024599627e-05\n",
      "targets 0.5 0.5658032894134521\n",
      "outputs 0.500114381313324 8.491454354953021e-05\n",
      "targets 0.7450000047683716 0.49000000953674316\n",
      "outputs 0.5001130700111389 6.662544910795987e-05\n",
      "targets 0.5 0.5658032894134521\n",
      "outputs 0.5000468492507935 8.473566413158551e-05\n",
      "targets 0.2549999952316284 0.49000000953674316\n",
      "outputs 0.5001111030578613 0.00010672789358068258\n",
      "targets 0.2549999952316284 0.49000000953674316\n",
      "outputs 0.5000815391540527 7.517768972320482e-05\n",
      "targets 0.5 0.5658032894134521\n",
      "outputs 0.5000613331794739 7.596101931994781e-05\n",
      "targets 0.5 0.5658032894134521\n",
      "outputs 0.5000913739204407 8.644885383546352e-05\n",
      "targets 0.7450000047683716 0.49000000953674316\n",
      "outputs 0.5000468492507935 9.292501636082307e-05\n",
      "targets 0.7450000047683716 0.49000000953674316\n",
      "outputs 0.5001622438430786 nan0.7077\n",
      "targets 0.9900000095367432 nan\n",
      "Valid Step 16/16, valid_loss: 0.6934\n",
      "[Epoch Train: 6] loss: 0.6932, time: 17.00 s            \n",
      "[Epoch Valid: 6] loss: 0.6934, auc: 0.6212, time: 3.00 s\n",
      "EPOCH: 7\n"
     ]
    },
    {
     "data": {
      "application/vnd.jupyter.widget-view+json": {
       "model_id": "e082c66b59404540aeca97b6e6914730",
       "version_major": 2,
       "version_minor": 0
      },
      "text/plain": [
       "HBox(children=(FloatProgress(value=0.0, max=131.0), HTML(value='')))"
      ]
     },
     "metadata": {},
     "output_type": "display_data"
    },
    {
     "name": "stdout",
     "output_type": "stream",
     "text": [
      "Train Step 131/131, train_loss: 0.6932\n"
     ]
    },
    {
     "data": {
      "application/vnd.jupyter.widget-view+json": {
       "model_id": "1d5b7a57bbd64447bbe32d610d50a00d",
       "version_major": 2,
       "version_minor": 0
      },
      "text/plain": [
       "HBox(children=(FloatProgress(value=0.0, max=16.0), HTML(value='')))"
      ]
     },
     "metadata": {},
     "output_type": "display_data"
    },
    {
     "name": "stdout",
     "output_type": "stream",
     "text": [
      "outputs 0.5000828504562378 9.946869977284223e-05\n",
      "targets 0.5 0.5658032894134521\n",
      "outputs 0.5003033876419067 0.00017468526493757963\n",
      "targets 0.5 0.5658032894134521\n",
      "outputs 0.5001589059829712 0.00015309137233998626\n",
      "targets 0.7450000047683716 0.49000000953674316\n",
      "outputs 0.5000014305114746 1.7305887922702823e-06\n",
      "targets 0.5 0.5658032894134521\n",
      "outputs 0.500220537185669 0.00014801819634158164\n",
      "targets 0.7450000047683716 0.49000000953674316\n",
      "outputs 0.5001093745231628 0.00016717093240004033\n",
      "targets 0.2549999952316284 0.49000000953674316\n",
      "outputs 0.5002392530441284 0.00028134422609582543\n",
      "targets 0.5 0.5658032894134521\n",
      "outputs 0.5003068447113037 0.0002240815374534577\n",
      "targets 0.7450000047683716 0.49000000953674316\n",
      "outputs 0.5002874135971069 0.00019170904124621302\n",
      "targets 0.5 0.5658032894134521\n",
      "outputs 0.5001199245452881 0.00022965326206758618\n",
      "targets 0.2549999952316284 0.49000000953674316\n",
      "outputs 0.5001952052116394 0.00013753309031017125\n",
      "targets 0.2549999952316284 0.49000000953674316\n",
      "outputs 0.5002135038375854 0.00017966404266189784\n",
      "targets 0.5 0.5658032894134521\n",
      "outputs 0.5001316070556641 0.00019904671353287995\n",
      "targets 0.5 0.5658032894134521\n",
      "outputs 0.50022292137146 0.000224322167923674\n",
      "targets 0.7450000047683716 0.49000000953674316\n",
      "outputs 0.5001208782196045 0.00024141879111994058\n",
      "targets 0.7450000047683716 0.49000000953674316\n",
      "outputs 0.5002918243408203 nan0.7077\n",
      "targets 0.9900000095367432 nan\n",
      "Valid Step 16/16, valid_loss: 0.6934\n",
      "[Epoch Train: 7] loss: 0.6932, time: 17.00 s            \n",
      "[Epoch Valid: 7] loss: 0.6934, auc: 0.6450, time: 2.00 s\n",
      "auc improved from 0.6277 to 0.6934. Saved model to '/home/RSNA_MICCAI_Brain_Tumor/models/FLAIR-e7-loss0.693-auc0.645.pth'\n",
      "EPOCH: 8\n"
     ]
    },
    {
     "data": {
      "application/vnd.jupyter.widget-view+json": {
       "model_id": "e6294c6b4f3f4e50ab4243c5e8eb9116",
       "version_major": 2,
       "version_minor": 0
      },
      "text/plain": [
       "HBox(children=(FloatProgress(value=0.0, max=131.0), HTML(value='')))"
      ]
     },
     "metadata": {},
     "output_type": "display_data"
    },
    {
     "name": "stdout",
     "output_type": "stream",
     "text": [
      "Train Step 4/131, train_loss: 0.6932\r"
     ]
    },
    {
     "data": {
      "application/vnd.jupyter.widget-view+json": {
       "model_id": "5f5df9348cd04bbcbfec3a35ed11f4f0",
       "version_major": 2,
       "version_minor": 0
      },
      "text/plain": [
       "HBox(children=(FloatProgress(value=0.0, max=16.0), HTML(value='')))"
      ]
     },
     "metadata": {},
     "output_type": "display_data"
    },
    {
     "name": "stdout",
     "output_type": "stream",
     "text": [
      "outputs 0.5000572204589844 7.089599967002869e-05\n",
      "targets 0.5 0.5658032894134521\n",
      "outputs 0.5001970529556274 0.00011542758875293657\n",
      "targets 0.5 0.5658032894134521\n",
      "outputs 0.5000939965248108 8.57466584420763e-05\n",
      "targets 0.7450000047683716 0.49000000953674316\n",
      "outputs 0.5000012516975403 1.4938863159841276e-06\n",
      "targets 0.5 0.5658032894134521\n",
      "outputs 0.5001364350318909 9.172257705358788e-05\n",
      "targets 0.7450000047683716 0.49000000953674316\n",
      "outputs 0.5000736713409424 0.00011405234545236453\n",
      "targets 0.2549999952316284 0.49000000953674316\n",
      "outputs 0.500148594379425 0.00017516044317744672\n",
      "targets 0.5 0.5658032894134521\n",
      "outputs 0.5001899600028992 0.0001380381581839174\n",
      "targets 0.7450000047683716 0.49000000953674316\n",
      "outputs 0.5001822710037231 0.00011996242392342538\n",
      "targets 0.5 0.5658032894134521\n",
      "outputs 0.5000738501548767 0.00013953741290606558\n",
      "targets 0.2549999952316284 0.49000000953674316\n",
      "outputs 0.500124990940094 8.735025039641187e-05\n",
      "targets 0.2549999952316284 0.49000000953674316\n",
      "outputs 0.5001304149627686 0.0001111006349674426\n",
      "targets 0.5 0.5658032894134521\n",
      "outputs 0.5000845789909363 0.0001211614508065395\n",
      "targets 0.5 0.5658032894134521\n",
      "outputs 0.5001416206359863 0.0001398823515046388\n",
      "targets 0.7450000047683716 0.49000000953674316\n",
      "outputs 0.5000745058059692 0.0001487534900661558\n",
      "targets 0.7450000047683716 0.49000000953674316\n",
      "outputs 0.5001857280731201 nan0.7077\n",
      "targets 0.9900000095367432 nan\n",
      "Valid Step 16/16, valid_loss: 0.6934\n",
      "[Epoch Valid: 8] loss: 0.6934, auc: 0.6402, time: 3.00 s\n",
      "Train Step 8/131, train_loss: 0.6932\r"
     ]
    },
    {
     "data": {
      "application/vnd.jupyter.widget-view+json": {
       "model_id": "1aefecb971e84be3b7cbd1f7b1d2a925",
       "version_major": 2,
       "version_minor": 0
      },
      "text/plain": [
       "HBox(children=(FloatProgress(value=0.0, max=16.0), HTML(value='')))"
      ]
     },
     "metadata": {},
     "output_type": "display_data"
    },
    {
     "name": "stdout",
     "output_type": "stream",
     "text": [
      "outputs 0.5000343918800354 4.5386168494587764e-05\n",
      "targets 0.5 0.5658032894134521\n",
      "outputs 0.5001147389411926 7.018505857558921e-05\n",
      "targets 0.5 0.5658032894134521\n",
      "outputs 0.5000496506690979 4.415854346007109e-05\n",
      "targets 0.7450000047683716 0.49000000953674316\n",
      "outputs 0.5000007152557373 8.348197297891602e-07\n",
      "targets 0.5 0.5658032894134521\n",
      "outputs 0.5000751614570618 5.0841059419326484e-05\n",
      "targets 0.7450000047683716 0.49000000953674316\n",
      "outputs 0.5000432133674622 6.744911661371589e-05\n",
      "targets 0.2549999952316284 0.49000000953674316\n",
      "outputs 0.5000832080841064 9.891059744404629e-05\n",
      "targets 0.5 0.5658032894134521\n",
      "outputs 0.5001059770584106 7.689047924941406e-05\n",
      "targets 0.7450000047683716 0.49000000953674316\n",
      "outputs 0.5001037120819092 6.828505138400942e-05\n",
      "targets 0.5 0.5658032894134521\n",
      "outputs 0.5000403523445129 7.587663276353851e-05\n",
      "targets 0.2549999952316284 0.49000000953674316\n",
      "outputs 0.5000706315040588 4.986836211173795e-05\n",
      "targets 0.2549999952316284 0.49000000953674316\n",
      "outputs 0.5000718832015991 6.242991366889328e-05\n",
      "targets 0.5 0.5658032894134521\n",
      "outputs 0.5000478029251099 6.704429688397795e-05\n",
      "targets 0.5 0.5658032894134521\n",
      "outputs 0.5000810623168945 7.952317537274212e-05\n",
      "targets 0.7450000047683716 0.49000000953674316\n",
      "outputs 0.5000412464141846 8.223466284107417e-05\n",
      "targets 0.7450000047683716 0.49000000953674316\n",
      "outputs 0.5001066327095032 nan0.7077\n",
      "targets 0.9900000095367432 nan\n",
      "Valid Step 16/16, valid_loss: 0.6934\n",
      "[Epoch Valid: 8] loss: 0.6934, auc: 0.6342, time: 3.00 s\n",
      "Train Step 12/131, train_loss: 0.6932\r"
     ]
    },
    {
     "data": {
      "application/vnd.jupyter.widget-view+json": {
       "model_id": "e5ec44dbe2b6445db6d909de7f7b1e40",
       "version_major": 2,
       "version_minor": 0
      },
      "text/plain": [
       "HBox(children=(FloatProgress(value=0.0, max=16.0), HTML(value='')))"
      ]
     },
     "metadata": {},
     "output_type": "display_data"
    },
    {
     "name": "stdout",
     "output_type": "stream",
     "text": [
      "outputs 0.5000292062759399 3.941384420613758e-05\n",
      "targets 0.5 0.5658032894134521\n",
      "outputs 0.500097393989563 6.070497693144716e-05\n",
      "targets 0.5 0.5658032894134521\n",
      "outputs 0.5000403523445129 3.5464545362628996e-05\n",
      "targets 0.7450000047683716 0.49000000953674316\n",
      "outputs 0.5000005960464478 6.561024861184706e-07\n",
      "targets 0.5 0.5658032894134521\n",
      "outputs 0.5000623464584351 4.269829878467135e-05\n",
      "targets 0.7450000047683716 0.49000000953674316\n",
      "outputs 0.50003582239151 5.587991836364381e-05\n",
      "targets 0.2549999952316284 0.49000000953674316\n",
      "outputs 0.5000701546669006 8.365024405065924e-05\n",
      "targets 0.5 0.5658032894134521\n",
      "outputs 0.5000890493392944 6.459223368437961e-05\n",
      "targets 0.7450000047683716 0.49000000953674316\n",
      "outputs 0.5000873804092407 5.7786961406236514e-05\n",
      "targets 0.5 0.5658032894134521\n",
      "outputs 0.5000336170196533 6.330167525447905e-05\n",
      "targets 0.2549999952316284 0.49000000953674316\n",
      "outputs 0.5000580549240112 4.0890856325859204e-05\n",
      "targets 0.2549999952316284 0.49000000953674316\n",
      "outputs 0.500059962272644 5.2369898185133934e-05\n",
      "targets 0.5 0.5658032894134521\n",
      "outputs 0.5000398755073547 5.6331977248191833e-05\n",
      "targets 0.5 0.5658032894134521\n",
      "outputs 0.500068187713623 6.721101090079173e-05\n",
      "targets 0.7450000047683716 0.49000000953674316\n",
      "outputs 0.5000343918800354 6.86646017129533e-05\n",
      "targets 0.7450000047683716 0.49000000953674316\n",
      "outputs 0.500087320804596 nan 0.7077\n",
      "targets 0.9900000095367432 nan\n",
      "Valid Step 16/16, valid_loss: 0.6934\n",
      "[Epoch Valid: 8] loss: 0.6934, auc: 0.6353, time: 3.00 s\n",
      "Train Step 16/131, train_loss: 0.6931\r"
     ]
    },
    {
     "data": {
      "application/vnd.jupyter.widget-view+json": {
       "model_id": "c498639e36be4d0fa2cb630cd47f939f",
       "version_major": 2,
       "version_minor": 0
      },
      "text/plain": [
       "HBox(children=(FloatProgress(value=0.0, max=16.0), HTML(value='')))"
      ]
     },
     "metadata": {},
     "output_type": "display_data"
    },
    {
     "name": "stdout",
     "output_type": "stream",
     "text": [
      "outputs 0.5000386238098145 5.1087648898828775e-05\n",
      "targets 0.5 0.5658032894134521\n",
      "outputs 0.5001354813575745 8.27185795060359e-05\n",
      "targets 0.5 0.5658032894134521\n",
      "outputs 0.5000571608543396 4.9739341193344444e-05\n",
      "targets 0.7450000047683716 0.49000000953674316\n",
      "outputs 0.5000005960464478 7.484280217795458e-07\n",
      "targets 0.5 0.5658032894134521\n",
      "outputs 0.5000880360603333 6.17599071119912e-05\n",
      "targets 0.7450000047683716 0.49000000953674316\n",
      "outputs 0.500045657157898 6.978534656809643e-05\n",
      "targets 0.2549999952316284 0.49000000953674316\n",
      "outputs 0.5001007318496704 0.00011996646935585886\n",
      "targets 0.5 0.5658032894134521\n",
      "outputs 0.5001280307769775 9.294143092120066e-05\n",
      "targets 0.7450000047683716 0.49000000953674316\n",
      "outputs 0.500123143196106 8.254962449427694e-05\n",
      "targets 0.5 0.5658032894134521\n",
      "outputs 0.5000483989715576 9.238313941750675e-05\n",
      "targets 0.2549999952316284 0.49000000953674316\n",
      "outputs 0.5000767111778259 5.270921246847138e-05\n",
      "targets 0.2549999952316284 0.49000000953674316\n",
      "outputs 0.5000864863395691 7.407548400806263e-05\n",
      "targets 0.5 0.5658032894134521\n",
      "outputs 0.5000548362731934 8.162962330970913e-05\n",
      "targets 0.5 0.5658032894134521\n",
      "outputs 0.5000948905944824 9.545656939735636e-05\n",
      "targets 0.7450000047683716 0.49000000953674316\n",
      "outputs 0.5000492334365845 9.83278441708535e-05\n",
      "targets 0.7450000047683716 0.49000000953674316\n",
      "outputs 0.5001111030578613 nan0.7077\n",
      "targets 0.9900000095367432 nan\n",
      "Valid Step 16/16, valid_loss: 0.6934\n",
      "[Epoch Valid: 8] loss: 0.6934, auc: 0.6396, time: 3.00 s\n",
      "Train Step 20/131, train_loss: 0.6931\r"
     ]
    },
    {
     "data": {
      "application/vnd.jupyter.widget-view+json": {
       "model_id": "714245e990344b75bc8be5ea20f895bd",
       "version_major": 2,
       "version_minor": 0
      },
      "text/plain": [
       "HBox(children=(FloatProgress(value=0.0, max=16.0), HTML(value='')))"
      ]
     },
     "metadata": {},
     "output_type": "display_data"
    },
    {
     "name": "stdout",
     "output_type": "stream",
     "text": [
      "outputs 0.5000434517860413 5.664854688802734e-05\n",
      "targets 0.5 0.5658032894134521\n",
      "outputs 0.5001548528671265 9.346171282231808e-05\n",
      "targets 0.5 0.5658032894134521\n",
      "outputs 0.5000666379928589 5.7911798649001867e-05\n",
      "targets 0.7450000047683716 0.49000000953674316\n",
      "outputs 0.5000006556510925 7.817075697857945e-07\n",
      "targets 0.5 0.5658032894134521\n",
      "outputs 0.5001012086868286 7.106431439751759e-05\n",
      "targets 0.7450000047683716 0.49000000953674316\n",
      "outputs 0.5000509023666382 7.69292819313705e-05\n",
      "targets 0.2549999952316284 0.49000000953674316\n",
      "outputs 0.5001163482666016 0.00013856856094207615\n",
      "targets 0.5 0.5658032894134521\n",
      "outputs 0.5001477003097534 0.00010712462972151116\n",
      "targets 0.7450000047683716 0.49000000953674316\n",
      "outputs 0.5001411437988281 9.514050179859623e-05\n",
      "targets 0.5 0.5658032894134521\n",
      "outputs 0.5000558495521545 0.00010684801964089274\n",
      "targets 0.2549999952316284 0.49000000953674316\n",
      "outputs 0.5000861883163452 5.881255492568016e-05\n",
      "targets 0.2549999952316284 0.49000000953674316\n",
      "outputs 0.5001003742218018 8.532858919352293e-05\n",
      "targets 0.5 0.5658032894134521\n",
      "outputs 0.5000624060630798 9.405873424839228e-05\n",
      "targets 0.5 0.5658032894134521\n",
      "outputs 0.5001084208488464 0.00010947079135803506\n",
      "targets 0.7450000047683716 0.49000000953674316\n",
      "outputs 0.5000566244125366 0.00011308993271086365\n",
      "targets 0.7450000047683716 0.49000000953674316\n",
      "outputs 0.5001237988471985 nan0.7077\n",
      "targets 0.9900000095367432 nan\n",
      "Valid Step 16/16, valid_loss: 0.6934\n",
      "[Epoch Valid: 8] loss: 0.6934, auc: 0.6439, time: 3.00 s\n",
      "Train Step 24/131, train_loss: 0.6931\r"
     ]
    },
    {
     "data": {
      "application/vnd.jupyter.widget-view+json": {
       "model_id": "74d6696297994ab89883d71cbfc03b11",
       "version_major": 2,
       "version_minor": 0
      },
      "text/plain": [
       "HBox(children=(FloatProgress(value=0.0, max=16.0), HTML(value='')))"
      ]
     },
     "metadata": {},
     "output_type": "display_data"
    },
    {
     "name": "stdout",
     "output_type": "stream",
     "text": [
      "outputs 0.5000475645065308 6.128459062892944e-05\n",
      "targets 0.5 0.5658032894134521\n",
      "outputs 0.500170111656189 0.0001016003661789\n",
      "targets 0.5 0.5658032894134521\n",
      "outputs 0.5000742673873901 6.415371899493039e-05\n",
      "targets 0.7450000047683716 0.49000000953674316\n",
      "outputs 0.5000007152557373 8.485379794365144e-07\n",
      "targets 0.5 0.5658032894134521\n",
      "outputs 0.5001115798950195 7.827508670743555e-05\n",
      "targets 0.7450000047683716 0.49000000953674316\n",
      "outputs 0.5000551342964172 8.258791058324277e-05\n",
      "targets 0.2549999952316284 0.49000000953674316\n",
      "outputs 0.5001281499862671 0.00015264131070580333\n",
      "targets 0.5 0.5658032894134521\n",
      "outputs 0.5001629590988159 0.00011802052904386073\n",
      "targets 0.7450000047683716 0.49000000953674316\n",
      "outputs 0.5001553297042847 0.00010485406528459862\n",
      "targets 0.5 0.5658032894134521\n",
      "outputs 0.5000616312026978 0.00011805605026893318\n",
      "targets 0.2549999952316284 0.49000000953674316\n",
      "outputs 0.5000940561294556 6.392035720637068e-05\n",
      "targets 0.2549999952316284 0.49000000953674316\n",
      "outputs 0.5001111626625061 9.39246965572238e-05\n",
      "targets 0.5 0.5658032894134521\n",
      "outputs 0.5000685453414917 0.00010374397970736027\n",
      "targets 0.5 0.5658032894134521\n",
      "outputs 0.5001190900802612 0.00012035386316711083\n",
      "targets 0.7450000047683716 0.49000000953674316\n",
      "outputs 0.5000622868537903 0.00012439495185390115\n",
      "targets 0.7450000047683716 0.49000000953674316\n",
      "outputs 0.5001345276832581 nan0.7077\n",
      "targets 0.9900000095367432 nan\n",
      "Valid Step 16/16, valid_loss: 0.6934\n",
      "[Epoch Valid: 8] loss: 0.6934, auc: 0.6439, time: 3.00 s\n",
      "Train Step 28/131, train_loss: 0.6931\r"
     ]
    },
    {
     "data": {
      "application/vnd.jupyter.widget-view+json": {
       "model_id": "ddaa930fe4584875a80df7e5836cf190",
       "version_major": 2,
       "version_minor": 0
      },
      "text/plain": [
       "HBox(children=(FloatProgress(value=0.0, max=16.0), HTML(value='')))"
      ]
     },
     "metadata": {},
     "output_type": "display_data"
    },
    {
     "name": "stdout",
     "output_type": "stream",
     "text": [
      "outputs 0.500058650970459 7.296568946912885e-05\n",
      "targets 0.5 0.5658032894134521\n",
      "outputs 0.5002230405807495 0.00013210375618655235\n",
      "targets 0.5 0.5658032894134521\n",
      "outputs 0.5000988245010376 8.494700159644708e-05\n",
      "targets 0.7450000047683716 0.49000000953674316\n",
      "outputs 0.5000008344650269 9.408601613358769e-07\n",
      "targets 0.5 0.5658032894134521\n",
      "outputs 0.5001469850540161 0.00010577632929198444\n",
      "targets 0.7450000047683716 0.49000000953674316\n",
      "outputs 0.5000659227371216 9.737890650285408e-05\n",
      "targets 0.2549999952316284 0.49000000953674316\n",
      "outputs 0.5001739263534546 0.00020741713524330407\n",
      "targets 0.5 0.5658032894134521\n",
      "outputs 0.5002199411392212 0.00015924179751891643\n",
      "targets 0.7450000047683716 0.49000000953674316\n",
      "outputs 0.5002060532569885 0.0001411807315889746\n",
      "targets 0.5 0.5658032894134521\n",
      "outputs 0.500083327293396 0.0001608067686902359\n",
      "targets 0.2549999952316284 0.49000000953674316\n",
      "outputs 0.5001175999641418 7.93366925790906e-05\n",
      "targets 0.2549999952316284 0.49000000953674316\n",
      "outputs 0.5001502633094788 0.00012521565076895058\n",
      "targets 0.5 0.5658032894134521\n",
      "outputs 0.5000891089439392 0.0001401294575771317\n",
      "targets 0.5 0.5658032894134521\n",
      "outputs 0.5001562833786011 0.00016074640734586865\n",
      "targets 0.7450000047683716 0.49000000953674316\n",
      "outputs 0.5000835061073303 0.00016683344438206404\n",
      "targets 0.7450000047683716 0.49000000953674316\n",
      "outputs 0.5001582503318787 nan0.7077\n",
      "targets 0.9900000095367432 nan\n",
      "Valid Step 16/16, valid_loss: 0.6934\n",
      "auc improved from 0.6450 to 0.6934. Saved model to '/home/RSNA_MICCAI_Brain_Tumor/models/FLAIR-e8-loss0.693-auc0.646.pth'\n",
      "[Epoch Valid: 8] loss: 0.6934, auc: 0.6461, time: 3.00 s\n",
      "Train Step 32/131, train_loss: 0.6931\r"
     ]
    },
    {
     "data": {
      "application/vnd.jupyter.widget-view+json": {
       "model_id": "001f2ebdd8b44a77802ee6f6c0e12b69",
       "version_major": 2,
       "version_minor": 0
      },
      "text/plain": [
       "HBox(children=(FloatProgress(value=0.0, max=16.0), HTML(value='')))"
      ]
     },
     "metadata": {},
     "output_type": "display_data"
    },
    {
     "name": "stdout",
     "output_type": "stream",
     "text": [
      "outputs 0.5000755190849304 8.989850903162733e-05\n",
      "targets 0.5 0.5658032894134521\n",
      "outputs 0.5002926588058472 0.0001678681292105466\n",
      "targets 0.5 0.5658032894134521\n",
      "outputs 0.5001344084739685 0.00011353101581335068\n",
      "targets 0.7450000047683716 0.49000000953674316\n",
      "outputs 0.5000010132789612 1.2005071994281025e-06\n",
      "targets 0.5 0.5658032894134521\n",
      "outputs 0.5001957416534424 0.00014187017222866416\n",
      "targets 0.7450000047683716 0.49000000953674316\n",
      "outputs 0.5000824928283691 0.00011965811427216977\n",
      "targets 0.2549999952316284 0.49000000953674316\n",
      "outputs 0.5002341270446777 0.00027915145619772375\n",
      "targets 0.5 0.5658032894134521\n",
      "outputs 0.5002954602241516 0.00021334606572054327\n",
      "targets 0.7450000047683716 0.49000000953674316\n",
      "outputs 0.5002729892730713 0.00018849500338546932\n",
      "targets 0.5 0.5658032894134521\n",
      "outputs 0.5001122355461121 0.00021722061501350254\n",
      "targets 0.2549999952316284 0.49000000953674316\n",
      "outputs 0.5001506209373474 0.00010114978795172647\n",
      "targets 0.2549999952316284 0.49000000953674316\n",
      "outputs 0.5002031326293945 0.0001663694274611771\n",
      "targets 0.5 0.5658032894134521\n",
      "outputs 0.5001175999641418 0.00018732500029727817\n",
      "targets 0.5 0.5658032894134521\n",
      "outputs 0.5002051591873169 0.00021216916502453387\n",
      "targets 0.7450000047683716 0.49000000953674316\n",
      "outputs 0.50011146068573 0.000222702874452807\n",
      "targets 0.7450000047683716 0.49000000953674316\n",
      "outputs 0.5001940727233887 nan0.7077\n",
      "targets 0.9900000095367432 nan\n",
      "Valid Step 16/16, valid_loss: 0.6934\n",
      "[Epoch Valid: 8] loss: 0.6934, auc: 0.6461, time: 2.00 s\n",
      "Train Step 36/131, train_loss: 0.6931\r"
     ]
    },
    {
     "data": {
      "application/vnd.jupyter.widget-view+json": {
       "model_id": "ee21a202e7b9490ba233771acdc8d18a",
       "version_major": 2,
       "version_minor": 0
      },
      "text/plain": [
       "HBox(children=(FloatProgress(value=0.0, max=16.0), HTML(value='')))"
      ]
     },
     "metadata": {},
     "output_type": "display_data"
    },
    {
     "name": "stdout",
     "output_type": "stream",
     "text": [
      "outputs 0.5001202821731567 0.0001318691356573254\n",
      "targets 0.5 0.5658032894134521\n",
      "outputs 0.5004714131355286 0.00025360312429256737\n",
      "targets 0.5 0.5658032894134521\n",
      "outputs 0.5002322196960449 0.00018856704991776496\n",
      "targets 0.7450000047683716 0.49000000953674316\n",
      "outputs 0.5000016093254089 1.8660791738511762e-06\n",
      "targets 0.5 0.5658032894134521\n",
      "outputs 0.5003234148025513 0.00023919239174574614\n",
      "targets 0.7450000047683716 0.49000000953674316\n",
      "outputs 0.5001223087310791 0.00017132892389781773\n",
      "targets 0.2549999952316284 0.49000000953674316\n",
      "outputs 0.5003975629806519 0.00047354184789583087\n",
      "targets 0.5 0.5658032894134521\n",
      "outputs 0.5004976987838745 0.00035794591531157494\n",
      "targets 0.7450000047683716 0.49000000953674316\n",
      "outputs 0.5004465579986572 0.0003140089684166014\n",
      "targets 0.5 0.5658032894134521\n",
      "outputs 0.5001910924911499 0.0003713174082804471\n",
      "targets 0.2549999952316284 0.49000000953674316\n",
      "outputs 0.5002323389053345 0.00015687738778069615\n",
      "targets 0.2549999952316284 0.49000000953674316\n",
      "outputs 0.5003457069396973 0.0002731987915467471\n",
      "targets 0.5 0.5658032894134521\n",
      "outputs 0.5001921057701111 0.0003112813865300268\n",
      "targets 0.5 0.5658032894134521\n",
      "outputs 0.5003310441970825 0.0003446648479439318\n",
      "targets 0.7450000047683716 0.49000000953674316\n",
      "outputs 0.5001859068870544 0.00037147608236409724\n",
      "targets 0.7450000047683716 0.49000000953674316\n",
      "outputs 0.5002697110176086 nan0.7077\n",
      "targets 0.9900000095367432 nan\n",
      "Valid Step 16/16, valid_loss: 0.6934\n",
      "auc improved from 0.6461 to 0.6934. Saved model to '/home/RSNA_MICCAI_Brain_Tumor/models/FLAIR-e8-loss0.693-auc0.652.pth'\n",
      "[Epoch Valid: 8] loss: 0.6934, auc: 0.6515, time: 2.00 s\n",
      "Train Step 40/131, train_loss: 0.6931\r"
     ]
    },
    {
     "data": {
      "application/vnd.jupyter.widget-view+json": {
       "model_id": "fabec136356d457fb9c7794895ffea3d",
       "version_major": 2,
       "version_minor": 0
      },
      "text/plain": [
       "HBox(children=(FloatProgress(value=0.0, max=16.0), HTML(value='')))"
      ]
     },
     "metadata": {},
     "output_type": "display_data"
    },
    {
     "name": "stdout",
     "output_type": "stream",
     "text": [
      "outputs 0.500184953212738 0.0001887891412479803\n",
      "targets 0.5 0.5658032894134521\n",
      "outputs 0.5007660388946533 0.00038784826756455004\n",
      "targets 0.5 0.5658032894134521\n",
      "outputs 0.5003936290740967 0.00029866682598367333\n",
      "targets 0.7450000047683716 0.49000000953674316\n",
      "outputs 0.500001847743988 2.150453155991272e-06\n",
      "targets 0.5 0.5658032894134521\n",
      "outputs 0.500520646572113 0.00043623600504361093\n",
      "targets 0.7450000047683716 0.49000000953674316\n",
      "outputs 0.5001533031463623 0.000204166179173626\n",
      "targets 0.2549999952316284 0.49000000953674316\n",
      "outputs 0.5007592439651489 0.0009143755305558443\n",
      "targets 0.5 0.5658032894134521\n",
      "outputs 0.5008944869041443 0.0006483890465460718\n",
      "targets 0.7450000047683716 0.49000000953674316\n",
      "outputs 0.500746488571167 0.0005697122542187572\n",
      "targets 0.5 0.5658032894134521\n",
      "outputs 0.5003571510314941 0.0007019582553766668\n",
      "targets 0.2549999952316284 0.49000000953674316\n",
      "outputs 0.5003232955932617 0.00024127979122567922\n",
      "targets 0.2549999952316284 0.49000000953674316\n",
      "outputs 0.5006058216094971 0.0004522705276031047\n",
      "targets 0.5 0.5658032894134521\n",
      "outputs 0.5003064274787903 0.0005264569190330803\n",
      "targets 0.5 0.5658032894134521\n",
      "outputs 0.5005213618278503 0.00056023511569947\n",
      "targets 0.7450000047683716 0.49000000953674316\n",
      "outputs 0.5003262758255005 0.0006521344766952097\n",
      "targets 0.7450000047683716 0.49000000953674316\n",
      "outputs 0.5002861618995667 nan0.7077\n",
      "targets 0.9900000095367432 nan\n",
      "Valid Step 16/16, valid_loss: 0.6934\n",
      "[Epoch Valid: 8] loss: 0.6934, auc: 0.6494, time: 3.00 s\n",
      "Train Step 44/131, train_loss: 0.6931\r"
     ]
    },
    {
     "data": {
      "application/vnd.jupyter.widget-view+json": {
       "model_id": "574379be5095416f941f5a92349b4c69",
       "version_major": 2,
       "version_minor": 0
      },
      "text/plain": [
       "HBox(children=(FloatProgress(value=0.0, max=16.0), HTML(value='')))"
      ]
     },
     "metadata": {},
     "output_type": "display_data"
    },
    {
     "name": "stdout",
     "output_type": "stream",
     "text": [
      "outputs 0.5002960562705994 0.0002999340940732509\n",
      "targets 0.5 0.5658032894134521\n",
      "outputs 0.5011665225028992 0.0005649678059853613\n",
      "targets 0.5 0.5658032894134521\n",
      "outputs 0.500617504119873 0.00042375712655484676\n",
      "targets 0.7450000047683716 0.49000000953674316\n",
      "outputs 0.5000032186508179 3.6819237720919773e-06\n",
      "targets 0.5 0.5658032894134521\n",
      "outputs 0.5007948875427246 0.0006377834943123162\n",
      "targets 0.7450000047683716 0.49000000953674316\n",
      "outputs 0.5002154111862183 0.0002740839554462582\n",
      "targets 0.2549999952316284 0.49000000953674316\n",
      "outputs 0.5011223554611206 0.0013523929519578815\n",
      "targets 0.5 0.5658032894134521\n",
      "outputs 0.5013313293457031 0.0009491043165326118\n",
      "targets 0.7450000047683716 0.49000000953674316\n",
      "outputs 0.5011359453201294 0.0008523736032657325\n",
      "targets 0.5 0.5658032894134521\n",
      "outputs 0.5005307197570801 0.0010408400557935238\n",
      "targets 0.2549999952316284 0.49000000953674316\n",
      "outputs 0.5005050897598267 0.0003911889798473567\n",
      "targets 0.2549999952316284 0.49000000953674316\n",
      "outputs 0.5009462833404541 0.0006962507031857967\n",
      "targets 0.5 0.5658032894134521\n",
      "outputs 0.5004619359970093 0.0007864594226703048\n",
      "targets 0.5 0.5658032894134521\n",
      "outputs 0.5007864236831665 0.0008395559852942824\n",
      "targets 0.7450000047683716 0.49000000953674316\n",
      "outputs 0.5004826188087463 0.0009645026293583214\n",
      "targets 0.7450000047683716 0.49000000953674316\n",
      "outputs 0.5004169940948486 nan0.7077\n",
      "targets 0.9900000095367432 nan\n",
      "Valid Step 16/16, valid_loss: 0.6934\n",
      "[Epoch Valid: 8] loss: 0.6934, auc: 0.6483, time: 3.00 s\n",
      "Train Step 48/131, train_loss: 0.6932\r"
     ]
    },
    {
     "data": {
      "application/vnd.jupyter.widget-view+json": {
       "model_id": "80f86974759c4d1dbfba69ed33ae9242",
       "version_major": 2,
       "version_minor": 0
      },
      "text/plain": [
       "HBox(children=(FloatProgress(value=0.0, max=16.0), HTML(value='')))"
      ]
     },
     "metadata": {},
     "output_type": "display_data"
    },
    {
     "name": "stdout",
     "output_type": "stream",
     "text": [
      "outputs 0.5001266598701477 0.00013228130410425365\n",
      "targets 0.5 0.5658032894134521\n",
      "outputs 0.5004686117172241 0.0002490627521183342\n",
      "targets 0.5 0.5658032894134521\n",
      "outputs 0.5002208352088928 0.00015122804325073957\n",
      "targets 0.7450000047683716 0.49000000953674316\n",
      "outputs 0.5000021457672119 2.4822550130920717e-06\n",
      "targets 0.5 0.5658032894134521\n",
      "outputs 0.5003165006637573 0.00021495080727618188\n",
      "targets 0.7450000047683716 0.49000000953674316\n",
      "outputs 0.500103235244751 0.00013676336675416678\n",
      "targets 0.2549999952316284 0.49000000953674316\n",
      "outputs 0.5003583431243896 0.0004243903676979244\n",
      "targets 0.5 0.5658032894134521\n",
      "outputs 0.5004642009735107 0.000327557441778481\n",
      "targets 0.7450000047683716 0.49000000953674316\n",
      "outputs 0.5004397630691528 0.0002990907814819366\n",
      "targets 0.5 0.5658032894134521\n",
      "outputs 0.5001735687255859 0.000332693278323859\n",
      "targets 0.2549999952316284 0.49000000953674316\n",
      "outputs 0.5002381801605225 0.00016175767814274877\n",
      "targets 0.2549999952316284 0.49000000953674316\n",
      "outputs 0.5003373622894287 0.0002654510026331991\n",
      "targets 0.5 0.5658032894134521\n",
      "outputs 0.500187337398529 0.0002927964669652283\n",
      "targets 0.5 0.5658032894134521\n",
      "outputs 0.50032639503479 0.0003337389207445085\n",
      "targets 0.7450000047683716 0.49000000953674316\n",
      "outputs 0.5001705884933472 0.0003407202020753175\n",
      "targets 0.7450000047683716 0.49000000953674316\n",
      "outputs 0.5002925395965576 nan0.7077\n",
      "targets 0.9900000095367432 nan\n",
      "Valid Step 16/16, valid_loss: 0.6934\n",
      "[Epoch Valid: 8] loss: 0.6934, auc: 0.6515, time: 2.00 s\n",
      "Train Step 52/131, train_loss: 0.6932\r"
     ]
    },
    {
     "data": {
      "application/vnd.jupyter.widget-view+json": {
       "model_id": "94cb739a6f104d33b0920f5563b289f5",
       "version_major": 2,
       "version_minor": 0
      },
      "text/plain": [
       "HBox(children=(FloatProgress(value=0.0, max=16.0), HTML(value='')))"
      ]
     },
     "metadata": {},
     "output_type": "display_data"
    },
    {
     "name": "stdout",
     "output_type": "stream",
     "text": [
      "outputs 0.5000507831573486 5.5372522183461115e-05\n",
      "targets 0.5 0.5658032894134521\n",
      "outputs 0.5001647472381592 9.450953803025186e-05\n",
      "targets 0.5 0.5658032894134521\n",
      "outputs 0.5000731348991394 4.674243973568082e-05\n",
      "targets 0.7450000047683716 0.49000000953674316\n",
      "outputs 0.5000013113021851 1.5577237491015694e-06\n",
      "targets 0.5 0.5658032894134521\n",
      "outputs 0.5001088380813599 6.792860222049057e-05\n",
      "targets 0.7450000047683716 0.49000000953674316\n",
      "outputs 0.5000414848327637 5.649715967592783e-05\n",
      "targets 0.2549999952316284 0.49000000953674316\n",
      "outputs 0.5001130700111389 0.00013320539437700063\n",
      "targets 0.5 0.5658032894134521\n",
      "outputs 0.5001492500305176 0.00010461900819791481\n",
      "targets 0.7450000047683716 0.49000000953674316\n",
      "outputs 0.5001500844955444 9.807682363316417e-05\n",
      "targets 0.5 0.5658032894134521\n",
      "outputs 0.5000547170639038 0.0001010145278996788\n",
      "targets 0.2549999952316284 0.49000000953674316\n",
      "outputs 0.5000921487808228 6.0041620599804446e-05\n",
      "targets 0.2549999952316284 0.49000000953674316\n",
      "outputs 0.500108540058136 8.87977221282199e-05\n",
      "targets 0.5 0.5658032894134521\n",
      "outputs 0.5000684261322021 9.460793808102608e-05\n",
      "targets 0.5 0.5658032894134521\n",
      "outputs 0.5001150369644165 0.00011164363968418911\n",
      "targets 0.7450000047683716 0.49000000953674316\n",
      "outputs 0.500054657459259 0.00010893774742726237\n",
      "targets 0.7450000047683716 0.49000000953674316\n",
      "outputs 0.5001307129859924 nan0.7077\n",
      "targets 0.9900000095367432 nan\n",
      "Valid Step 16/16, valid_loss: 0.6934\n",
      "[Epoch Valid: 8] loss: 0.6934, auc: 0.6423, time: 3.00 s\n",
      "Train Step 56/131, train_loss: 0.6932\r"
     ]
    },
    {
     "data": {
      "application/vnd.jupyter.widget-view+json": {
       "model_id": "97929ec052b74f2a8ef239655485710f",
       "version_major": 2,
       "version_minor": 0
      },
      "text/plain": [
       "HBox(children=(FloatProgress(value=0.0, max=16.0), HTML(value='')))"
      ]
     },
     "metadata": {},
     "output_type": "display_data"
    },
    {
     "name": "stdout",
     "output_type": "stream",
     "text": [
      "outputs 0.5000273585319519 2.9739332603639923e-05\n",
      "targets 0.5 0.5658032894134521\n",
      "outputs 0.5000810623168945 4.800632086698897e-05\n",
      "targets 0.5 0.5658032894134521\n",
      "outputs 0.5000352263450623 2.08592555281939e-05\n",
      "targets 0.7450000047683716 0.49000000953674316\n",
      "outputs 0.5000009536743164 1.1137724413856631e-06\n",
      "targets 0.5 0.5658032894134521\n",
      "outputs 0.5000529289245605 3.137920793960802e-05\n",
      "targets 0.7450000047683716 0.49000000953674316\n",
      "outputs 0.5000218152999878 2.9992539566592313e-05\n",
      "targets 0.2549999952316284 0.49000000953674316\n",
      "outputs 0.5000525712966919 6.153043068479747e-05\n",
      "targets 0.5 0.5658032894134521\n",
      "outputs 0.5000708103179932 4.9185378884430975e-05\n",
      "targets 0.7450000047683716 0.49000000953674316\n",
      "outputs 0.5000730752944946 4.6711811592103913e-05\n",
      "targets 0.5 0.5658032894134521\n",
      "outputs 0.5000259876251221 4.634082506527193e-05\n",
      "targets 0.2549999952316284 0.49000000953674316\n",
      "outputs 0.5000474452972412 3.057730646105483e-05\n",
      "targets 0.2549999952316284 0.49000000953674316\n",
      "outputs 0.5000510215759277 4.254193481756374e-05\n",
      "targets 0.5 0.5658032894134521\n",
      "outputs 0.5000351667404175 4.420609911903739e-05\n",
      "targets 0.5 0.5658032894134521\n",
      "outputs 0.500056803226471 5.3048610425321385e-05\n",
      "targets 0.7450000047683716 0.49000000953674316\n",
      "outputs 0.500025749206543 5.116103056934662e-05\n",
      "targets 0.7450000047683716 0.49000000953674316\n",
      "outputs 0.5000697374343872 nan0.7077\n",
      "targets 0.9900000095367432 nan\n",
      "Valid Step 16/16, valid_loss: 0.6934\n",
      "[Epoch Valid: 8] loss: 0.6934, auc: 0.6402, time: 3.00 s\n",
      "Train Step 60/131, train_loss: 0.6932\r"
     ]
    },
    {
     "data": {
      "application/vnd.jupyter.widget-view+json": {
       "model_id": "7c80e1509bae40ba857da676653a5d98",
       "version_major": 2,
       "version_minor": 0
      },
      "text/plain": [
       "HBox(children=(FloatProgress(value=0.0, max=16.0), HTML(value='')))"
      ]
     },
     "metadata": {},
     "output_type": "display_data"
    },
    {
     "name": "stdout",
     "output_type": "stream",
     "text": [
      "outputs 0.5000185370445251 1.9751634681597352e-05\n",
      "targets 0.5 0.5658032894134521\n",
      "outputs 0.5000507831573486 3.0385228455998003e-05\n",
      "targets 0.5 0.5658032894134521\n",
      "outputs 0.5000221729278564 1.217496901517734e-05\n",
      "targets 0.7450000047683716 0.49000000953674316\n",
      "outputs 0.5000008344650269 9.408601613358769e-07\n",
      "targets 0.5 0.5658032894134521\n",
      "outputs 0.5000330209732056 1.8753420590655878e-05\n",
      "targets 0.7450000047683716 0.49000000953674316\n",
      "outputs 0.5000144243240356 1.9824168703053147e-05\n",
      "targets 0.2549999952316284 0.49000000953674316\n",
      "outputs 0.5000318288803101 3.704003756865859e-05\n",
      "targets 0.5 0.5658032894134521\n",
      "outputs 0.500043511390686 2.9825350793544203e-05\n",
      "targets 0.7450000047683716 0.49000000953674316\n",
      "outputs 0.5000454187393188 2.847166615538299e-05\n",
      "targets 0.5 0.5658032894134521\n",
      "outputs 0.5000160932540894 2.7792068067356013e-05\n",
      "targets 0.2549999952316284 0.49000000953674316\n",
      "outputs 0.5000303983688354 1.926664299389813e-05\n",
      "targets 0.2549999952316284 0.49000000953674316\n",
      "outputs 0.5000312328338623 2.633750955283176e-05\n",
      "targets 0.5 0.5658032894134521\n",
      "outputs 0.5000230073928833 2.6563549909042194e-05\n",
      "targets 0.5 0.5658032894134521\n",
      "outputs 0.50003582239151 3.236442353227176e-05\n",
      "targets 0.7450000047683716 0.49000000953674316\n",
      "outputs 0.5000156760215759 3.11140829580836e-05\n",
      "targets 0.7450000047683716 0.49000000953674316\n",
      "outputs 0.5000452399253845 nan0.7077\n",
      "targets 0.9900000095367432 nan\n",
      "Valid Step 16/16, valid_loss: 0.6935\n",
      "[Epoch Valid: 8] loss: 0.6935, auc: 0.6396, time: 2.00 s\n",
      "Train Step 64/131, train_loss: 0.6932\r"
     ]
    },
    {
     "data": {
      "application/vnd.jupyter.widget-view+json": {
       "model_id": "87db0e2bc5cf4f0e84fa73be1b337228",
       "version_major": 2,
       "version_minor": 0
      },
      "text/plain": [
       "HBox(children=(FloatProgress(value=0.0, max=16.0), HTML(value='')))"
      ]
     },
     "metadata": {},
     "output_type": "display_data"
    },
    {
     "name": "stdout",
     "output_type": "stream",
     "text": [
      "outputs 0.5000169277191162 1.8152444681618363e-05\n",
      "targets 0.5 0.5658032894134521\n",
      "outputs 0.5000462532043457 2.797157139866613e-05\n",
      "targets 0.5 0.5658032894134521\n",
      "outputs 0.500019907951355 1.0945394024020061e-05\n",
      "targets 0.7450000047683716 0.49000000953674316\n",
      "outputs 0.5000007152557373 8.681977874402946e-07\n",
      "targets 0.5 0.5658032894134521\n",
      "outputs 0.5000298619270325 1.6957512343651615e-05\n",
      "targets 0.7450000047683716 0.49000000953674316\n",
      "outputs 0.5000131130218506 1.811956644814927e-05\n",
      "targets 0.2549999952316284 0.49000000953674316\n",
      "outputs 0.5000287294387817 3.336688314448111e-05\n",
      "targets 0.5 0.5658032894134521\n",
      "outputs 0.5000393390655518 2.6929559680866078e-05\n",
      "targets 0.7450000047683716 0.49000000953674316\n",
      "outputs 0.5000412464141846 2.5798610295169055e-05\n",
      "targets 0.5 0.5658032894134521\n",
      "outputs 0.5000145435333252 2.5042263587238267e-05\n",
      "targets 0.2549999952316284 0.49000000953674316\n",
      "outputs 0.5000277757644653 1.7590053175808862e-05\n",
      "targets 0.2549999952316284 0.49000000953674316\n",
      "outputs 0.5000281929969788 2.387570930295624e-05\n",
      "targets 0.5 0.5658032894134521\n",
      "outputs 0.5000209808349609 2.4059932911768556e-05\n",
      "targets 0.5 0.5658032894134521\n",
      "outputs 0.5000326037406921 2.9341412300709635e-05\n",
      "targets 0.7450000047683716 0.49000000953674316\n",
      "outputs 0.5000141859054565 2.8114116503275e-05\n",
      "targets 0.7450000047683716 0.49000000953674316\n",
      "outputs 0.5000413656234741 nan0.7077\n",
      "targets 0.9900000095367432 nan\n",
      "Valid Step 16/16, valid_loss: 0.6935\n",
      "[Epoch Valid: 8] loss: 0.6935, auc: 0.6407, time: 2.00 s\n",
      "Train Step 68/131, train_loss: 0.6932\r"
     ]
    },
    {
     "data": {
      "application/vnd.jupyter.widget-view+json": {
       "model_id": "7cc8181f7c46461abda942175e64e4d2",
       "version_major": 2,
       "version_minor": 0
      },
      "text/plain": [
       "HBox(children=(FloatProgress(value=0.0, max=16.0), HTML(value='')))"
      ]
     },
     "metadata": {},
     "output_type": "display_data"
    },
    {
     "name": "stdout",
     "output_type": "stream",
     "text": [
      "outputs 0.5000181198120117 1.9780585716944188e-05\n",
      "targets 0.5 0.5658032894134521\n",
      "outputs 0.5000509023666382 3.121446570730768e-05\n",
      "targets 0.5 0.5658032894134521\n",
      "outputs 0.5000216364860535 1.227045231644297e-05\n",
      "targets 0.7450000047683716 0.49000000953674316\n",
      "outputs 0.5000007152557373 8.681977874402946e-07\n",
      "targets 0.5 0.5658032894134521\n",
      "outputs 0.5000327229499817 1.893835360533558e-05\n",
      "targets 0.7450000047683716 0.49000000953674316\n",
      "outputs 0.5000141859054565 1.9716933820745908e-05\n",
      "targets 0.2549999952316284 0.49000000953674316\n",
      "outputs 0.5000317692756653 3.7062716728542e-05\n",
      "targets 0.5 0.5658032894134521\n",
      "outputs 0.5000433921813965 2.9869946956750937e-05\n",
      "targets 0.7450000047683716 0.49000000953674316\n",
      "outputs 0.5000454187393188 2.8642238248721696e-05\n",
      "targets 0.5 0.5658032894134521\n",
      "outputs 0.5000160336494446 2.7795540518127382e-05\n",
      "targets 0.2549999952316284 0.49000000953674316\n",
      "outputs 0.5000302791595459 1.9443466953816824e-05\n",
      "targets 0.2549999952316284 0.49000000953674316\n",
      "outputs 0.500031054019928 2.6341409466112964e-05\n",
      "targets 0.5 0.5658032894134521\n",
      "outputs 0.5000227093696594 2.6785253794514574e-05\n",
      "targets 0.5 0.5658032894134521\n",
      "outputs 0.50003582239151 3.268257205490954e-05\n",
      "targets 0.7450000047683716 0.49000000953674316\n",
      "outputs 0.5000156760215759 3.109429235337302e-05\n",
      "targets 0.7450000047683716 0.49000000953674316\n",
      "outputs 0.5000454187393188 nan0.7077\n",
      "targets 0.9900000095367432 nan\n",
      "Valid Step 16/16, valid_loss: 0.6935\n",
      "[Epoch Valid: 8] loss: 0.6935, auc: 0.6391, time: 2.00 s\n",
      "Train Step 72/131, train_loss: 0.6932\r"
     ]
    },
    {
     "data": {
      "application/vnd.jupyter.widget-view+json": {
       "model_id": "29397a397c3942a3a8e8957b8d7d642f",
       "version_major": 2,
       "version_minor": 0
      },
      "text/plain": [
       "HBox(children=(FloatProgress(value=0.0, max=16.0), HTML(value='')))"
      ]
     },
     "metadata": {},
     "output_type": "display_data"
    },
    {
     "name": "stdout",
     "output_type": "stream",
     "text": [
      "outputs 0.500020444393158 2.2524944142787717e-05\n",
      "targets 0.5 0.5658032894134521\n",
      "outputs 0.5000590085983276 3.6382258258527145e-05\n",
      "targets 0.5 0.5658032894134521\n",
      "outputs 0.5000248551368713 1.4631635167461354e-05\n",
      "targets 0.7450000047683716 0.49000000953674316\n",
      "outputs 0.5000007152557373 8.940696716308594e-07\n",
      "targets 0.5 0.5658032894134521\n",
      "outputs 0.5000379085540771 2.2260679543251172e-05\n",
      "targets 0.7450000047683716 0.49000000953674316\n",
      "outputs 0.5000162124633789 2.267884337925352e-05\n",
      "targets 0.2549999952316284 0.49000000953674316\n",
      "outputs 0.5000371932983398 4.33998902735766e-05\n",
      "targets 0.5 0.5658032894134521\n",
      "outputs 0.5000506043434143 3.4975771995959803e-05\n",
      "targets 0.7450000047683716 0.49000000953674316\n",
      "outputs 0.500052809715271 3.3520260330988094e-05\n",
      "targets 0.5 0.5658032894134521\n",
      "outputs 0.5000185966491699 3.2618085242575034e-05\n",
      "targets 0.2549999952316284 0.49000000953674316\n",
      "outputs 0.5000349283218384 2.256713378301356e-05\n",
      "targets 0.2549999952316284 0.49000000953674316\n",
      "outputs 0.5000360608100891 3.059899972868152e-05\n",
      "targets 0.5 0.5658032894134521\n",
      "outputs 0.5000258684158325 3.140972330584191e-05\n",
      "targets 0.5 0.5658032894134521\n",
      "outputs 0.5000414252281189 3.819230187218636e-05\n",
      "targets 0.7450000047683716 0.49000000953674316\n",
      "outputs 0.5000182390213013 3.6299621569924057e-05\n",
      "targets 0.7450000047683716 0.49000000953674316\n",
      "outputs 0.5000523328781128 nan0.7077\n",
      "targets 0.9900000095367432 nan\n",
      "Valid Step 16/16, valid_loss: 0.6934\n",
      "[Epoch Valid: 8] loss: 0.6934, auc: 0.6380, time: 3.00 s\n",
      "Train Step 76/131, train_loss: 0.6932\r"
     ]
    },
    {
     "data": {
      "application/vnd.jupyter.widget-view+json": {
       "model_id": "5f11e8a8f2d64534906e8f1adb407398",
       "version_major": 2,
       "version_minor": 0
      },
      "text/plain": [
       "HBox(children=(FloatProgress(value=0.0, max=16.0), HTML(value='')))"
      ]
     },
     "metadata": {},
     "output_type": "display_data"
    },
    {
     "name": "stdout",
     "output_type": "stream",
     "text": [
      "outputs 0.5000209808349609 2.3352447897195816e-05\n",
      "targets 0.5 0.5658032894134521\n",
      "outputs 0.5000615119934082 3.8162266719155014e-05\n",
      "targets 0.5 0.5658032894134521\n",
      "outputs 0.500025749206543 1.5325427739298902e-05\n",
      "targets 0.7450000047683716 0.49000000953674316\n",
      "outputs 0.5000007152557373 8.940696716308594e-07\n",
      "targets 0.5 0.5658032894134521\n",
      "outputs 0.5000393986701965 2.3402017177431844e-05\n",
      "targets 0.7450000047683716 0.49000000953674316\n",
      "outputs 0.5000167489051819 2.3408922061207704e-05\n",
      "targets 0.2549999952316284 0.49000000953674316\n",
      "outputs 0.5000388026237488 4.537063432508148e-05\n",
      "targets 0.5 0.5658032894134521\n",
      "outputs 0.5000526905059814 3.655716136563569e-05\n",
      "targets 0.7450000047683716 0.49000000953674316\n",
      "outputs 0.5000550746917725 3.514418858685531e-05\n",
      "targets 0.5 0.5658032894134521\n",
      "outputs 0.500019371509552 3.411901343497448e-05\n",
      "targets 0.2549999952316284 0.49000000953674316\n",
      "outputs 0.5000361800193787 2.3534652427770197e-05\n",
      "targets 0.2549999952316284 0.49000000953674316\n",
      "outputs 0.5000376105308533 3.195672616129741e-05\n",
      "targets 0.5 0.5658032894134521\n",
      "outputs 0.5000267028808594 3.290700988145545e-05\n",
      "targets 0.5 0.5658032894134521\n",
      "outputs 0.5000431537628174 3.995532460976392e-05\n",
      "targets 0.7450000047683716 0.49000000953674316\n",
      "outputs 0.5000190734863281 3.790892878896557e-05\n",
      "targets 0.7450000047683716 0.49000000953674316\n",
      "outputs 0.5000543594360352 nan0.7077\n",
      "targets 0.9900000095367432 nan\n",
      "Valid Step 16/16, valid_loss: 0.6934\n",
      "[Epoch Valid: 8] loss: 0.6934, auc: 0.6380, time: 2.00 s\n",
      "Train Step 80/131, train_loss: 0.6932\r"
     ]
    },
    {
     "data": {
      "application/vnd.jupyter.widget-view+json": {
       "model_id": "ff624bb25ea04dfcac120ecc088ab855",
       "version_major": 2,
       "version_minor": 0
      },
      "text/plain": [
       "HBox(children=(FloatProgress(value=0.0, max=16.0), HTML(value='')))"
      ]
     },
     "metadata": {},
     "output_type": "display_data"
    },
    {
     "name": "stdout",
     "output_type": "stream",
     "text": [
      "outputs 0.5000205039978027 2.2890797481522895e-05\n",
      "targets 0.5 0.5658032894134521\n",
      "outputs 0.5000603199005127 3.7446923670358956e-05\n",
      "targets 0.5 0.5658032894134521\n",
      "outputs 0.5000251531600952 1.495175911259139e-05\n",
      "targets 0.7450000047683716 0.49000000953674316\n",
      "outputs 0.5000007152557373 8.547951892978745e-07\n",
      "targets 0.5 0.5658032894134521\n",
      "outputs 0.5000385046005249 2.2903364879311994e-05\n",
      "targets 0.7450000047683716 0.49000000953674316\n",
      "outputs 0.5000163316726685 2.2805261323810555e-05\n",
      "targets 0.2549999952316284 0.49000000953674316\n",
      "outputs 0.5000379085540771 4.434376023709774e-05\n",
      "targets 0.5 0.5658032894134521\n",
      "outputs 0.5000516176223755 3.580441261874512e-05\n",
      "targets 0.7450000047683716 0.49000000953674316\n",
      "outputs 0.5000539422035217 3.44432337442413e-05\n",
      "targets 0.5 0.5658032894134521\n",
      "outputs 0.5000188946723938 3.335803558002226e-05\n",
      "targets 0.2549999952316284 0.49000000953674316\n",
      "outputs 0.5000354051589966 2.300068808835931e-05\n",
      "targets 0.2549999952316284 0.49000000953674316\n",
      "outputs 0.5000368356704712 3.130254117422737e-05\n",
      "targets 0.5 0.5658032894134521\n",
      "outputs 0.5000260472297668 3.228080095141195e-05\n",
      "targets 0.5 0.5658032894134521\n",
      "outputs 0.5000422596931458 3.921013922081329e-05\n",
      "targets 0.7450000047683716 0.49000000953674316\n",
      "outputs 0.5000185966491699 3.705448762048036e-05\n",
      "targets 0.7450000047683716 0.49000000953674316\n",
      "outputs 0.5000531077384949 nan0.7077\n",
      "targets 0.9900000095367432 nan\n",
      "Valid Step 16/16, valid_loss: 0.6934\n",
      "[Epoch Valid: 8] loss: 0.6934, auc: 0.6385, time: 3.00 s\n",
      "Train Step 84/131, train_loss: 0.6932\r"
     ]
    },
    {
     "data": {
      "application/vnd.jupyter.widget-view+json": {
       "model_id": "51dc461552eb49e39a3d3d1e457671a5",
       "version_major": 2,
       "version_minor": 0
      },
      "text/plain": [
       "HBox(children=(FloatProgress(value=0.0, max=16.0), HTML(value='')))"
      ]
     },
     "metadata": {},
     "output_type": "display_data"
    },
    {
     "name": "stdout",
     "output_type": "stream",
     "text": [
      "outputs 0.5000190734863281 2.1278843632899225e-05\n",
      "targets 0.5 0.5658032894134521\n",
      "outputs 0.5000559091567993 3.486471905489452e-05\n",
      "targets 0.5 0.5658032894134521\n",
      "outputs 0.5000231266021729 1.3530539035855327e-05\n",
      "targets 0.7450000047683716 0.49000000953674316\n",
      "outputs 0.5000007152557373 8.08150446118816e-07\n",
      "targets 0.5 0.5658032894134521\n",
      "outputs 0.5000355839729309 2.1086414562887512e-05\n",
      "targets 0.7450000047683716 0.49000000953674316\n",
      "outputs 0.5000150203704834 2.088174005621113e-05\n",
      "targets 0.2549999952316284 0.49000000953674316\n",
      "outputs 0.5000349283218384 4.084399915882386e-05\n",
      "targets 0.5 0.5658032894134521\n",
      "outputs 0.5000476837158203 3.298941737739369e-05\n",
      "targets 0.7450000047683716 0.49000000953674316\n",
      "outputs 0.5000499486923218 3.181736246915534e-05\n",
      "targets 0.5 0.5658032894134521\n",
      "outputs 0.5000174045562744 3.068854857701808e-05\n",
      "targets 0.2549999952316284 0.49000000953674316\n",
      "outputs 0.5000326633453369 2.1198915419518016e-05\n",
      "targets 0.2549999952316284 0.49000000953674316\n",
      "outputs 0.500033974647522 2.8976308385608718e-05\n",
      "targets 0.5 0.5658032894134521\n",
      "outputs 0.5000241994857788 2.9807586543029174e-05\n",
      "targets 0.5 0.5658032894134521\n",
      "outputs 0.5000391602516174 3.6255190934753045e-05\n",
      "targets 0.7450000047683716 0.49000000953674316\n",
      "outputs 0.5000171661376953 3.413388185435906e-05\n",
      "targets 0.7450000047683716 0.49000000953674316\n",
      "outputs 0.5000488758087158 nan0.7077\n",
      "targets 0.9900000095367432 nan\n",
      "Valid Step 16/16, valid_loss: 0.6934\n",
      "[Epoch Valid: 8] loss: 0.6934, auc: 0.6374, time: 3.00 s\n",
      "Train Step 88/131, train_loss: 0.6932\r"
     ]
    },
    {
     "data": {
      "application/vnd.jupyter.widget-view+json": {
       "model_id": "3b2ca3f3168949babbf9b09d9512f6df",
       "version_major": 2,
       "version_minor": 0
      },
      "text/plain": [
       "HBox(children=(FloatProgress(value=0.0, max=16.0), HTML(value='')))"
      ]
     },
     "metadata": {},
     "output_type": "display_data"
    },
    {
     "name": "stdout",
     "output_type": "stream",
     "text": [
      "outputs 0.5000200271606445 2.2445059585152194e-05\n",
      "targets 0.5 0.5658032894134521\n",
      "outputs 0.5000592470169067 3.697495776577853e-05\n",
      "targets 0.5 0.5658032894134521\n",
      "outputs 0.5000243782997131 1.4361153262143489e-05\n",
      "targets 0.7450000047683716 0.49000000953674316\n",
      "outputs 0.5000007152557373 8.28054169232928e-07\n",
      "targets 0.5 0.5658032894134521\n",
      "outputs 0.500037670135498 2.242494883830659e-05\n",
      "targets 0.7450000047683716 0.49000000953674316\n",
      "outputs 0.5000157356262207 2.1950079826638103e-05\n",
      "targets 0.2549999952316284 0.49000000953674316\n",
      "outputs 0.5000370740890503 4.3378822738304734e-05\n",
      "targets 0.5 0.5658032894134521\n",
      "outputs 0.5000505447387695 3.5021654184674844e-05\n",
      "targets 0.7450000047683716 0.49000000953674316\n",
      "outputs 0.5000529289245605 3.3811633329605684e-05\n",
      "targets 0.5 0.5658032894134521\n",
      "outputs 0.5000184178352356 3.255615956732072e-05\n",
      "targets 0.2549999952316284 0.49000000953674316\n",
      "outputs 0.5000344514846802 2.246341318823397e-05\n",
      "targets 0.2549999952316284 0.49000000953674316\n",
      "outputs 0.5000360608100891 3.0692946893395856e-05\n",
      "targets 0.5 0.5658032894134521\n",
      "outputs 0.5000254511833191 3.170713171130046e-05\n",
      "targets 0.5 0.5658032894134521\n",
      "outputs 0.5000414252281189 3.848990309052169e-05\n",
      "targets 0.7450000047683716 0.49000000953674316\n",
      "outputs 0.5000181794166565 3.618024129536934e-05\n",
      "targets 0.7450000047683716 0.49000000953674316\n",
      "outputs 0.5000514984130859 nan0.7077\n",
      "targets 0.9900000095367432 nan\n",
      "Valid Step 16/16, valid_loss: 0.6934\n",
      "[Epoch Valid: 8] loss: 0.6934, auc: 0.6391, time: 3.00 s\n",
      "Train Step 92/131, train_loss: 0.6932\r"
     ]
    },
    {
     "data": {
      "application/vnd.jupyter.widget-view+json": {
       "model_id": "1eddbfef08ad417f9b89277ec7345c7b",
       "version_major": 2,
       "version_minor": 0
      },
      "text/plain": [
       "HBox(children=(FloatProgress(value=0.0, max=16.0), HTML(value='')))"
      ]
     },
     "metadata": {},
     "output_type": "display_data"
    },
    {
     "name": "stdout",
     "output_type": "stream",
     "text": [
      "outputs 0.500023365020752 2.6717545551946387e-05\n",
      "targets 0.5 0.5658032894134521\n",
      "outputs 0.5000718832015991 4.519962749327533e-05\n",
      "targets 0.5 0.5658032894134521\n",
      "outputs 0.5000293254852295 1.7988921172218397e-05\n",
      "targets 0.7450000047683716 0.49000000953674316\n",
      "outputs 0.5000007152557373 8.547951892978745e-07\n",
      "targets 0.5 0.5658032894134521\n",
      "outputs 0.500045657157898 2.7740376026486047e-05\n",
      "targets 0.7450000047683716 0.49000000953674316\n",
      "outputs 0.5000187158584595 2.614908771647606e-05\n",
      "targets 0.2549999952316284 0.49000000953674316\n",
      "outputs 0.500045657157898 5.34665523446165e-05\n",
      "targets 0.5 0.5658032894134521\n",
      "outputs 0.5000617504119873 4.3033687688875943e-05\n",
      "targets 0.7450000047683716 0.49000000953674316\n",
      "outputs 0.500064492225647 4.158612136961892e-05\n",
      "targets 0.5 0.5658032894134521\n",
      "outputs 0.5000224113464355 4.0214617911260575e-05\n",
      "targets 0.2549999952316284 0.49000000953674316\n",
      "outputs 0.5000413656234741 2.7267948098597117e-05\n",
      "targets 0.2549999952316284 0.49000000953674316\n",
      "outputs 0.500044047832489 3.744532659766264e-05\n",
      "targets 0.5 0.5658032894134521\n",
      "outputs 0.5000302791595459 3.911095700459555e-05\n",
      "targets 0.5 0.5658032894134521\n",
      "outputs 0.5000501871109009 4.7297769924625754e-05\n",
      "targets 0.7450000047683716 0.49000000953674316\n",
      "outputs 0.500022292137146 4.436599192558788e-05\n",
      "targets 0.7450000047683716 0.49000000953674316\n",
      "outputs 0.5000619888305664 nan0.7077\n",
      "targets 0.9900000095367432 nan\n",
      "Valid Step 16/16, valid_loss: 0.6934\n",
      "[Epoch Valid: 8] loss: 0.6934, auc: 0.6396, time: 3.00 s\n",
      "Train Step 96/131, train_loss: 0.6932\r"
     ]
    },
    {
     "data": {
      "application/vnd.jupyter.widget-view+json": {
       "model_id": "5287320bb0bb40b89f766e12bb7fd0ec",
       "version_major": 2,
       "version_minor": 0
      },
      "text/plain": [
       "HBox(children=(FloatProgress(value=0.0, max=16.0), HTML(value='')))"
      ]
     },
     "metadata": {},
     "output_type": "display_data"
    },
    {
     "name": "stdout",
     "output_type": "stream",
     "text": [
      "outputs 0.500026524066925 3.055450724787079e-05\n",
      "targets 0.5 0.5658032894134521\n",
      "outputs 0.5000830888748169 5.2194369345670566e-05\n",
      "targets 0.5 0.5658032894134521\n",
      "outputs 0.5000337958335876 2.1135401766514406e-05\n",
      "targets 0.7450000047683716 0.49000000953674316\n",
      "outputs 0.5000007152557373 8.940696716308594e-07\n",
      "targets 0.5 0.5658032894134521\n",
      "outputs 0.5000526905059814 3.243421815568581e-05\n",
      "targets 0.7450000047683716 0.49000000953674316\n",
      "outputs 0.5000213384628296 2.980264980578795e-05\n",
      "targets 0.2549999952316284 0.49000000953674316\n",
      "outputs 0.5000531077384949 6.224546086741611e-05\n",
      "targets 0.5 0.5658032894134521\n",
      "outputs 0.5000715255737305 5.005220009479672e-05\n",
      "targets 0.7450000047683716 0.49000000953674316\n",
      "outputs 0.5000746250152588 4.836210791836493e-05\n",
      "targets 0.5 0.5658032894134521\n",
      "outputs 0.5000258684158325 4.684842861024663e-05\n",
      "targets 0.2549999952316284 0.49000000953674316\n",
      "outputs 0.5000474452972412 3.144605943816714e-05\n",
      "targets 0.2549999952316284 0.49000000953674316\n",
      "outputs 0.5000511407852173 4.334577533882111e-05\n",
      "targets 0.5 0.5658032894134521\n",
      "outputs 0.5000345706939697 4.56254965683911e-05\n",
      "targets 0.5 0.5658032894134521\n",
      "outputs 0.5000578761100769 5.5077198339859024e-05\n",
      "targets 0.7450000047683716 0.49000000953674316\n",
      "outputs 0.5000258088111877 5.13993036292959e-05\n",
      "targets 0.7450000047683716 0.49000000953674316\n",
      "outputs 0.5000709891319275 nan0.7077\n",
      "targets 0.9900000095367432 nan\n",
      "Valid Step 16/16, valid_loss: 0.6934\n",
      "[Epoch Valid: 8] loss: 0.6934, auc: 0.6407, time: 3.00 s\n",
      "Train Step 100/131, train_loss: 0.6932\r"
     ]
    },
    {
     "data": {
      "application/vnd.jupyter.widget-view+json": {
       "model_id": "05e2c6c26f3a41a983898de90ce82263",
       "version_major": 2,
       "version_minor": 0
      },
      "text/plain": [
       "HBox(children=(FloatProgress(value=0.0, max=16.0), HTML(value='')))"
      ]
     },
     "metadata": {},
     "output_type": "display_data"
    },
    {
     "name": "stdout",
     "output_type": "stream",
     "text": [
      "outputs 0.5000255107879639 2.9390690542641096e-05\n",
      "targets 0.5 0.5658032894134521\n",
      "outputs 0.5000790953636169 4.9604255764279515e-05\n",
      "targets 0.5 0.5658032894134521\n",
      "outputs 0.5000322461128235 1.9943967345170677e-05\n",
      "targets 0.7450000047683716 0.49000000953674316\n",
      "outputs 0.5000007152557373 8.547951892978745e-07\n",
      "targets 0.5 0.5658032894134521\n",
      "outputs 0.5000502467155457 3.077179644606076e-05\n",
      "targets 0.7450000047683716 0.49000000953674316\n",
      "outputs 0.5000203847885132 2.8372405722620897e-05\n",
      "targets 0.2549999952316284 0.49000000953674316\n",
      "outputs 0.5000503063201904 5.8963156334357336e-05\n",
      "targets 0.5 0.5658032894134521\n",
      "outputs 0.5000680685043335 4.754796464112587e-05\n",
      "targets 0.7450000047683716 0.49000000953674316\n",
      "outputs 0.5000709891319275 4.595154678099789e-05\n",
      "targets 0.5 0.5658032894134521\n",
      "outputs 0.5000245571136475 4.4381831685313955e-05\n",
      "targets 0.2549999952316284 0.49000000953674316\n",
      "outputs 0.5000451803207397 2.9875594918848947e-05\n",
      "targets 0.2549999952316284 0.49000000953674316\n",
      "outputs 0.5000486373901367 4.124166298424825e-05\n",
      "targets 0.5 0.5658032894134521\n",
      "outputs 0.5000330209732056 4.33440254710149e-05\n",
      "targets 0.5 0.5658032894134521\n",
      "outputs 0.5000551342964172 5.228855661698617e-05\n",
      "targets 0.7450000047683716 0.49000000953674316\n",
      "outputs 0.5000244975090027 4.8796537157613784e-05\n",
      "targets 0.7450000047683716 0.49000000953674316\n",
      "outputs 0.500067412853241 nan 0.7077\n",
      "targets 0.9900000095367432 nan\n",
      "Valid Step 16/16, valid_loss: 0.6934\n",
      "[Epoch Valid: 8] loss: 0.6934, auc: 0.6402, time: 3.00 s\n",
      "Train Step 104/131, train_loss: 0.6932\r"
     ]
    },
    {
     "data": {
      "application/vnd.jupyter.widget-view+json": {
       "model_id": "e438c9ec313c4adfa2f038d42276912a",
       "version_major": 2,
       "version_minor": 0
      },
      "text/plain": [
       "HBox(children=(FloatProgress(value=0.0, max=16.0), HTML(value='')))"
      ]
     },
     "metadata": {},
     "output_type": "display_data"
    },
    {
     "name": "stdout",
     "output_type": "stream",
     "text": [
      "outputs 0.5000249147415161 2.861571374523919e-05\n",
      "targets 0.5 0.5658032894134521\n",
      "outputs 0.5000766515731812 4.806523065781221e-05\n",
      "targets 0.5 0.5658032894134521\n",
      "outputs 0.5000312328338623 1.914303720695898e-05\n",
      "targets 0.7450000047683716 0.49000000953674316\n",
      "outputs 0.5000007152557373 8.547951892978745e-07\n",
      "targets 0.5 0.5658032894134521\n",
      "outputs 0.5000486373901367 2.9721895771217532e-05\n",
      "targets 0.7450000047683716 0.49000000953674316\n",
      "outputs 0.5000197887420654 2.750258681771811e-05\n",
      "targets 0.2549999952316284 0.49000000953674316\n",
      "outputs 0.5000485181808472 5.687067096005194e-05\n",
      "targets 0.5 0.5658032894134521\n",
      "outputs 0.500065803527832 4.59025104646571e-05\n",
      "targets 0.7450000047683716 0.49000000953674316\n",
      "outputs 0.5000686645507812 4.443444049684331e-05\n",
      "targets 0.5 0.5658032894134521\n",
      "outputs 0.5000237226486206 4.281157816876657e-05\n",
      "targets 0.2549999952316284 0.49000000953674316\n",
      "outputs 0.5000437498092651 2.8920672775711864e-05\n",
      "targets 0.2549999952316284 0.49000000953674316\n",
      "outputs 0.5000470876693726 3.988207026850432e-05\n",
      "targets 0.5 0.5658032894134521\n",
      "outputs 0.5000320672988892 4.1888022678904235e-05\n",
      "targets 0.5 0.5658032894134521\n",
      "outputs 0.5000534057617188 5.051193875260651e-05\n",
      "targets 0.7450000047683716 0.49000000953674316\n",
      "outputs 0.5000236630439758 4.710779103334062e-05\n",
      "targets 0.7450000047683716 0.49000000953674316\n",
      "outputs 0.500065267086029 nan 0.7077\n",
      "targets 0.9900000095367432 nan\n",
      "Valid Step 16/16, valid_loss: 0.6934\n",
      "[Epoch Valid: 8] loss: 0.6934, auc: 0.6396, time: 2.00 s\n",
      "Train Step 108/131, train_loss: 0.6932\r"
     ]
    },
    {
     "data": {
      "application/vnd.jupyter.widget-view+json": {
       "model_id": "a9c167cb5c1d4e1e9240f26428394a45",
       "version_major": 2,
       "version_minor": 0
      },
      "text/plain": [
       "HBox(children=(FloatProgress(value=0.0, max=16.0), HTML(value='')))"
      ]
     },
     "metadata": {},
     "output_type": "display_data"
    },
    {
     "name": "stdout",
     "output_type": "stream",
     "text": [
      "outputs 0.5000232458114624 2.6476798666408285e-05\n",
      "targets 0.5 0.5658032894134521\n",
      "outputs 0.5000698566436768 4.351470488472842e-05\n",
      "targets 0.5 0.5658032894134521\n",
      "outputs 0.5000287294387817 1.7141665011877194e-05\n",
      "targets 0.7450000047683716 0.49000000953674316\n",
      "outputs 0.5000007152557373 8.547951892978745e-07\n",
      "targets 0.5 0.5658032894134521\n",
      "outputs 0.5000444650650024 2.680467878235504e-05\n",
      "targets 0.7450000047683716 0.49000000953674316\n",
      "outputs 0.5000183582305908 2.5426359570701607e-05\n",
      "targets 0.2549999952316284 0.49000000953674316\n",
      "outputs 0.5000438690185547 5.1338240155018866e-05\n",
      "targets 0.5 0.5658032894134521\n",
      "outputs 0.5000597834587097 4.1568680899217725e-05\n",
      "targets 0.7450000047683716 0.49000000953674316\n",
      "outputs 0.5000624656677246 4.0242237446364015e-05\n",
      "targets 0.5 0.5658032894134521\n",
      "outputs 0.5000216364860535 3.865194594254717e-05\n",
      "targets 0.2549999952316284 0.49000000953674316\n",
      "outputs 0.5000401735305786 2.6402167350170203e-05\n",
      "targets 0.2549999952316284 0.49000000953674316\n",
      "outputs 0.5000428557395935 3.6278572224546224e-05\n",
      "targets 0.5 0.5658032894134521\n",
      "outputs 0.5000296235084534 3.7810874346178025e-05\n",
      "targets 0.5 0.5658032894134521\n",
      "outputs 0.5000487565994263 4.56937741546426e-05\n",
      "targets 0.7450000047683716 0.49000000953674316\n",
      "outputs 0.5000214576721191 4.273671584087424e-05\n",
      "targets 0.7450000047683716 0.49000000953674316\n",
      "outputs 0.5000599026679993 nan0.7077\n",
      "targets 0.9900000095367432 nan\n",
      "Valid Step 16/16, valid_loss: 0.6934\n",
      "[Epoch Valid: 8] loss: 0.6934, auc: 0.6396, time: 2.00 s\n",
      "Train Step 112/131, train_loss: 0.6931\r"
     ]
    },
    {
     "data": {
      "application/vnd.jupyter.widget-view+json": {
       "model_id": "6dd6ad57ad73446fac010f835afa8922",
       "version_major": 2,
       "version_minor": 0
      },
      "text/plain": [
       "HBox(children=(FloatProgress(value=0.0, max=16.0), HTML(value='')))"
      ]
     },
     "metadata": {},
     "output_type": "display_data"
    },
    {
     "name": "stdout",
     "output_type": "stream",
     "text": [
      "outputs 0.5000256896018982 2.9385371817625128e-05\n",
      "targets 0.5 0.5658032894134521\n",
      "outputs 0.5000786185264587 4.89521335111931e-05\n",
      "targets 0.5 0.5658032894134521\n",
      "outputs 0.500032365322113 1.991262070077937e-05\n",
      "targets 0.7450000047683716 0.49000000953674316\n",
      "outputs 0.5000007152557373 8.940696716308594e-07\n",
      "targets 0.5 0.5658032894134521\n",
      "outputs 0.5000501275062561 3.060602102777921e-05\n",
      "targets 0.7450000047683716 0.49000000953674316\n",
      "outputs 0.5000205039978027 2.8513799406937324e-05\n",
      "targets 0.2549999952316284 0.49000000953674316\n",
      "outputs 0.5000500082969666 5.856240386492573e-05\n",
      "targets 0.5 0.5658032894134521\n",
      "outputs 0.5000677108764648 4.727312261820771e-05\n",
      "targets 0.7450000047683716 0.49000000953674316\n",
      "outputs 0.5000705718994141 4.562504909699783e-05\n",
      "targets 0.5 0.5658032894134521\n",
      "outputs 0.5000244379043579 4.41474694525823e-05\n",
      "targets 0.2549999952316284 0.49000000953674316\n",
      "outputs 0.500045120716095 2.9777855161228217e-05\n",
      "targets 0.2549999952316284 0.49000000953674316\n",
      "outputs 0.5000484585762024 4.0983108192449436e-05\n",
      "targets 0.5 0.5658032894134521\n",
      "outputs 0.5000330209732056 4.29805695603136e-05\n",
      "targets 0.5 0.5658032894134521\n",
      "outputs 0.5000548362731934 5.1824128604494035e-05\n",
      "targets 0.7450000047683716 0.49000000953674316\n",
      "outputs 0.5000243782997131 4.855811857851222e-05\n",
      "targets 0.7450000047683716 0.49000000953674316\n",
      "outputs 0.5000673532485962 nan0.7077\n",
      "targets 0.9900000095367432 nan\n",
      "Valid Step 16/16, valid_loss: 0.6934\n",
      "[Epoch Valid: 8] loss: 0.6934, auc: 0.6407, time: 3.00 s\n",
      "Train Step 116/131, train_loss: 0.6931\r"
     ]
    },
    {
     "data": {
      "application/vnd.jupyter.widget-view+json": {
       "model_id": "84a86e64aa434bc28f1f0629baabd046",
       "version_major": 2,
       "version_minor": 0
      },
      "text/plain": [
       "HBox(children=(FloatProgress(value=0.0, max=16.0), HTML(value='')))"
      ]
     },
     "metadata": {},
     "output_type": "display_data"
    },
    {
     "name": "stdout",
     "output_type": "stream",
     "text": [
      "outputs 0.5000303983688354 3.531782567733899e-05\n",
      "targets 0.5 0.5658032894134521\n",
      "outputs 0.5000964999198914 6.018889325787313e-05\n",
      "targets 0.5 0.5658032894134521\n",
      "outputs 0.5000396370887756 2.551385114202276e-05\n",
      "targets 0.7450000047683716 0.49000000953674316\n",
      "outputs 0.5000007748603821 9.5398468147323e-07\n",
      "targets 0.5 0.5658032894134521\n",
      "outputs 0.5000617504119873 3.838037810055539e-05\n",
      "targets 0.7450000047683716 0.49000000953674316\n",
      "outputs 0.5000247955322266 3.4650911402422935e-05\n",
      "targets 0.2549999952316284 0.49000000953674316\n",
      "outputs 0.5000625848770142 7.347387145273387e-05\n",
      "targets 0.5 0.5658032894134521\n",
      "outputs 0.5000839233398438 5.8958092267857864e-05\n",
      "targets 0.7450000047683716 0.49000000953674316\n",
      "outputs 0.5000871419906616 5.67143433727324e-05\n",
      "targets 0.5 0.5658032894134521\n",
      "outputs 0.5000303387641907 5.5427073675673455e-05\n",
      "targets 0.2549999952316284 0.49000000953674316\n",
      "outputs 0.5000550746917725 3.661011942313053e-05\n",
      "targets 0.2549999952316284 0.49000000953674316\n",
      "outputs 0.5000600814819336 5.066442827228457e-05\n",
      "targets 0.5 0.5658032894134521\n",
      "outputs 0.50003981590271 5.383265670388937e-05\n",
      "targets 0.5 0.5658032894134521\n",
      "outputs 0.5000673532485962 6.450647924793884e-05\n",
      "targets 0.7450000047683716 0.49000000953674316\n",
      "outputs 0.5000302791595459 6.0379741626093164e-05\n",
      "targets 0.7450000047683716 0.49000000953674316\n",
      "outputs 0.5000823140144348 nan0.7077\n",
      "targets 0.9900000095367432 nan\n",
      "Valid Step 16/16, valid_loss: 0.6934\n",
      "[Epoch Valid: 8] loss: 0.6934, auc: 0.6402, time: 3.00 s\n",
      "Train Step 120/131, train_loss: 0.6931\r"
     ]
    },
    {
     "data": {
      "application/vnd.jupyter.widget-view+json": {
       "model_id": "60b9225170a24d8b8ef1bb5f894cbc34",
       "version_major": 2,
       "version_minor": 0
      },
      "text/plain": [
       "HBox(children=(FloatProgress(value=0.0, max=16.0), HTML(value='')))"
      ]
     },
     "metadata": {},
     "output_type": "display_data"
    },
    {
     "name": "stdout",
     "output_type": "stream",
     "text": [
      "outputs 0.5000345706939697 4.04042839363683e-05\n",
      "targets 0.5 0.5658032894134521\n",
      "outputs 0.5001121163368225 6.98462754371576e-05\n",
      "targets 0.5 0.5658032894134521\n",
      "outputs 0.5000460147857666 3.0169470846885815e-05\n",
      "targets 0.7450000047683716 0.49000000953674316\n",
      "outputs 0.5000008344650269 1.0068305300592328e-06\n",
      "targets 0.5 0.5658032894134521\n",
      "outputs 0.5000718235969543 4.511698352871463e-05\n",
      "targets 0.7450000047683716 0.49000000953674316\n",
      "outputs 0.5000284314155579 3.97224685002584e-05\n",
      "targets 0.2549999952316284 0.49000000953674316\n",
      "outputs 0.5000734925270081 8.62594970385544e-05\n",
      "targets 0.5 0.5658032894134521\n",
      "outputs 0.5000979900360107 6.905428745085374e-05\n",
      "targets 0.7450000047683716 0.49000000953674316\n",
      "outputs 0.5001014471054077 6.628435221500695e-05\n",
      "targets 0.5 0.5658032894134521\n",
      "outputs 0.5000354647636414 6.518132431665435e-05\n",
      "targets 0.2549999952316284 0.49000000953674316\n",
      "outputs 0.5000635981559753 4.243521470925771e-05\n",
      "targets 0.2549999952316284 0.49000000953674316\n",
      "outputs 0.5000701546669006 5.907783634029329e-05\n",
      "targets 0.5 0.5658032894134521\n",
      "outputs 0.500045895576477 6.330556789180264e-05\n",
      "targets 0.5 0.5658032894134521\n",
      "outputs 0.5000782012939453 7.551677845185623e-05\n",
      "targets 0.7450000047683716 0.49000000953674316\n",
      "outputs 0.5000354051589966 7.059193740133196e-05\n",
      "targets 0.7450000047683716 0.49000000953674316\n",
      "outputs 0.5000948309898376 nan0.7077\n",
      "targets 0.9900000095367432 nan\n",
      "Valid Step 16/16, valid_loss: 0.6934\n",
      "[Epoch Valid: 8] loss: 0.6934, auc: 0.6402, time: 2.00 s\n",
      "Train Step 124/131, train_loss: 0.6931\r"
     ]
    },
    {
     "data": {
      "application/vnd.jupyter.widget-view+json": {
       "model_id": "707e1100858d4e239d10ab02aee96a0f",
       "version_major": 2,
       "version_minor": 0
      },
      "text/plain": [
       "HBox(children=(FloatProgress(value=0.0, max=16.0), HTML(value='')))"
      ]
     },
     "metadata": {},
     "output_type": "display_data"
    },
    {
     "name": "stdout",
     "output_type": "stream",
     "text": [
      "outputs 0.5000342726707458 3.995492443209514e-05\n",
      "targets 0.5 0.5658032894134521\n",
      "outputs 0.5001107454299927 6.90653978381306e-05\n",
      "targets 0.5 0.5658032894134521\n",
      "outputs 0.5000454187393188 2.966873762488831e-05\n",
      "targets 0.7450000047683716 0.49000000953674316\n",
      "outputs 0.5000008344650269 1.0068305300592328e-06\n",
      "targets 0.5 0.5658032894134521\n",
      "outputs 0.5000709295272827 4.455516682355665e-05\n",
      "targets 0.7450000047683716 0.49000000953674316\n",
      "outputs 0.500028133392334 3.923155600205064e-05\n",
      "targets 0.2549999952316284 0.49000000953674316\n",
      "outputs 0.5000725984573364 8.520930714439601e-05\n",
      "targets 0.5 0.5658032894134521\n",
      "outputs 0.5000967979431152 6.816355744376779e-05\n",
      "targets 0.7450000047683716 0.49000000953674316\n",
      "outputs 0.5001001954078674 6.547472003148869e-05\n",
      "targets 0.5 0.5658032894134521\n",
      "outputs 0.5000350475311279 6.43472230876796e-05\n",
      "targets 0.2549999952316284 0.49000000953674316\n",
      "outputs 0.5000628232955933 4.189968967693858e-05\n",
      "targets 0.2549999952316284 0.49000000953674316\n",
      "outputs 0.500069260597229 5.83183609705884e-05\n",
      "targets 0.5 0.5658032894134521\n",
      "outputs 0.5000454187393188 6.241329538170248e-05\n",
      "targets 0.5 0.5658032894134521\n",
      "outputs 0.5000772476196289 7.454543811036274e-05\n",
      "targets 0.7450000047683716 0.49000000953674316\n",
      "outputs 0.5000349879264832 6.971780385356396e-05\n",
      "targets 0.7450000047683716 0.49000000953674316\n",
      "outputs 0.5000936388969421 nan0.7077\n",
      "targets 0.9900000095367432 nan\n",
      "Valid Step 16/16, valid_loss: 0.6934\n",
      "[Epoch Valid: 8] loss: 0.6934, auc: 0.6402, time: 3.00 s\n",
      "Train Step 128/131, train_loss: 0.6931\r"
     ]
    },
    {
     "data": {
      "application/vnd.jupyter.widget-view+json": {
       "model_id": "cbad98ffd7b44f73a78714eb8d6be7e9",
       "version_major": 2,
       "version_minor": 0
      },
      "text/plain": [
       "HBox(children=(FloatProgress(value=0.0, max=16.0), HTML(value='')))"
      ]
     },
     "metadata": {},
     "output_type": "display_data"
    },
    {
     "name": "stdout",
     "output_type": "stream",
     "text": [
      "outputs 0.5000342130661011 4.000849003205076e-05\n",
      "targets 0.5 0.5658032894134521\n",
      "outputs 0.5001120567321777 7.004599319770932e-05\n",
      "targets 0.5 0.5658032894134521\n",
      "outputs 0.500045657157898 3.0104398319963366e-05\n",
      "targets 0.7450000047683716 0.49000000953674316\n",
      "outputs 0.5000007748603821 9.73947976490308e-07\n",
      "targets 0.5 0.5658032894134521\n",
      "outputs 0.50007164478302 4.5272772695170715e-05\n",
      "targets 0.7450000047683716 0.49000000953674316\n",
      "outputs 0.5000279545783997 3.900719093508087e-05\n",
      "targets 0.2549999952316284 0.49000000953674316\n",
      "outputs 0.5000735521316528 8.644816261949018e-05\n",
      "targets 0.5 0.5658032894134521\n",
      "outputs 0.5000979900360107 6.911576929269359e-05\n",
      "targets 0.7450000047683716 0.49000000953674316\n",
      "outputs 0.5001014471054077 6.642712833127007e-05\n",
      "targets 0.5 0.5658032894134521\n",
      "outputs 0.5000354051589966 6.528977246489376e-05\n",
      "targets 0.2549999952316284 0.49000000953674316\n",
      "outputs 0.5000631809234619 4.220319533487782e-05\n",
      "targets 0.2549999952316284 0.49000000953674316\n",
      "outputs 0.5000701546669006 5.9088259149575606e-05\n",
      "targets 0.5 0.5658032894134521\n",
      "outputs 0.5000455379486084 6.34459502180107e-05\n",
      "targets 0.5 0.5658032894134521\n",
      "outputs 0.5000780820846558 7.57176021579653e-05\n",
      "targets 0.7450000047683716 0.49000000953674316\n",
      "outputs 0.5000354051589966 7.059193740133196e-05\n",
      "targets 0.7450000047683716 0.49000000953674316\n",
      "outputs 0.5000938177108765 nan0.7077\n",
      "targets 0.9900000095367432 nan\n",
      "Valid Step 16/16, valid_loss: 0.6934\n",
      "[Epoch Valid: 8] loss: 0.6934, auc: 0.6402, time: 2.00 s\n",
      "Train Step 131/131, train_loss: 0.6931\n"
     ]
    },
    {
     "data": {
      "application/vnd.jupyter.widget-view+json": {
       "model_id": "a9bb2ce9fd064778a4f4a5d08c3e02c2",
       "version_major": 2,
       "version_minor": 0
      },
      "text/plain": [
       "HBox(children=(FloatProgress(value=0.0, max=16.0), HTML(value='')))"
      ]
     },
     "metadata": {},
     "output_type": "display_data"
    },
    {
     "name": "stdout",
     "output_type": "stream",
     "text": [
      "outputs 0.5000338554382324 3.9635087887290865e-05\n",
      "targets 0.5 0.5658032894134521\n",
      "outputs 0.5001113414764404 6.969936657696962e-05\n",
      "targets 0.5 0.5658032894134521\n",
      "outputs 0.5000452995300293 2.9947741495561786e-05\n",
      "targets 0.7450000047683716 0.49000000953674316\n",
      "outputs 0.5000007748603821 9.411747328158526e-07\n",
      "targets 0.5 0.5658032894134521\n",
      "outputs 0.5000711679458618 4.51047089882195e-05\n",
      "targets 0.7450000047683716 0.49000000953674316\n",
      "outputs 0.500027596950531 3.8487873098347336e-05\n",
      "targets 0.2549999952316284 0.49000000953674316\n",
      "outputs 0.5000730752944946 8.586884359829128e-05\n",
      "targets 0.5 0.5658032894134521\n",
      "outputs 0.500097393989563 6.870264769531786e-05\n",
      "targets 0.7450000047683716 0.49000000953674316\n",
      "outputs 0.50010085105896 6.608930561924353e-05\n",
      "targets 0.5 0.5658032894134521\n",
      "outputs 0.5000351667404175 6.490998202934861e-05\n",
      "targets 0.2549999952316284 0.49000000953674316\n",
      "outputs 0.5000626444816589 4.191980406176299e-05\n",
      "targets 0.2549999952316284 0.49000000953674316\n",
      "outputs 0.5000697374343872 5.8748890296556056e-05\n",
      "targets 0.5 0.5658032894134521\n",
      "outputs 0.5000451803207397 6.318086525425315e-05\n",
      "targets 0.5 0.5658032894134521\n",
      "outputs 0.5000775456428528 7.538676436524838e-05\n",
      "targets 0.7450000047683716 0.49000000953674316\n",
      "outputs 0.5000351667404175 7.01945464243181e-05\n",
      "targets 0.7450000047683716 0.49000000953674316\n",
      "outputs 0.5000929832458496 nan0.7077\n",
      "targets 0.9900000095367432 nan\n",
      "Valid Step 16/16, valid_loss: 0.6934\n",
      "[Epoch Train: 8] loss: 0.6931, time: 114.00 s            \n",
      "[Epoch Valid: 8] loss: 0.6934, auc: 0.6407, time: 3.00 s\n",
      "EPOCH: 9\n"
     ]
    },
    {
     "data": {
      "application/vnd.jupyter.widget-view+json": {
       "model_id": "4f065c7300f344e2a4664b3dc1ec9d27",
       "version_major": 2,
       "version_minor": 0
      },
      "text/plain": [
       "HBox(children=(FloatProgress(value=0.0, max=131.0), HTML(value='')))"
      ]
     },
     "metadata": {},
     "output_type": "display_data"
    },
    {
     "name": "stdout",
     "output_type": "stream",
     "text": [
      "Train Step 131/131, train_loss: 0.6931\n"
     ]
    },
    {
     "data": {
      "application/vnd.jupyter.widget-view+json": {
       "model_id": "4a17338777e044dfbbebb6230992a99a",
       "version_major": 2,
       "version_minor": 0
      },
      "text/plain": [
       "HBox(children=(FloatProgress(value=0.0, max=16.0), HTML(value='')))"
      ]
     },
     "metadata": {},
     "output_type": "display_data"
    },
    {
     "name": "stdout",
     "output_type": "stream",
     "text": [
      "outputs 0.5000500679016113 5.928563041379675e-05\n",
      "targets 0.5 0.5658032894134521\n",
      "outputs 0.5002894401550293 0.00020952113845851272\n",
      "targets 0.5 0.5658032894134521\n",
      "outputs 0.5000966191291809 8.029140735743567e-05\n",
      "targets 0.7450000047683716 0.49000000953674316\n",
      "outputs 0.5000005960464478 7.094371881066763e-07\n",
      "targets 0.5 0.5658032894134521\n",
      "outputs 0.5001730918884277 0.000133967274450697\n",
      "targets 0.7450000047683716 0.49000000953674316\n",
      "outputs 0.5000453591346741 6.702951941406354e-05\n",
      "targets 0.2549999952316284 0.49000000953674316\n",
      "outputs 0.5002193450927734 0.00025974787422455847\n",
      "targets 0.5 0.5658032894134521\n",
      "outputs 0.5002714395523071 0.00019895190780516714\n",
      "targets 0.7450000047683716 0.49000000953674316\n",
      "outputs 0.5002728700637817 0.00018969751545228064\n",
      "targets 0.5 0.5658032894134521\n",
      "outputs 0.5000997185707092 0.00019514921586960554\n",
      "targets 0.2549999952316284 0.49000000953674316\n",
      "outputs 0.5001282691955566 9.646937542129308e-05\n",
      "targets 0.2549999952316284 0.49000000953674316\n",
      "outputs 0.5001851916313171 0.00015981454635038972\n",
      "targets 0.5 0.5658032894134521\n",
      "outputs 0.5001028776168823 0.00018344081763643771\n",
      "targets 0.5 0.5658032894134521\n",
      "outputs 0.5001969337463379 0.00021575595019385219\n",
      "targets 0.7450000047683716 0.49000000953674316\n",
      "outputs 0.500099778175354 0.00019945704843848944\n",
      "targets 0.7450000047683716 0.49000000953674316\n",
      "outputs 0.5001460313796997 nan0.7077\n",
      "targets 0.9900000095367432 nan\n",
      "Valid Step 16/16, valid_loss: 0.6934\n",
      "[Epoch Train: 9] loss: 0.6931, time: 17.00 s            \n",
      "[Epoch Valid: 9] loss: 0.6934, auc: 0.6439, time: 3.00 s\n",
      "EPOCH: 10\n"
     ]
    },
    {
     "data": {
      "application/vnd.jupyter.widget-view+json": {
       "model_id": "97bb2482fdd94866b3f72e14571b9632",
       "version_major": 2,
       "version_minor": 0
      },
      "text/plain": [
       "HBox(children=(FloatProgress(value=0.0, max=131.0), HTML(value='')))"
      ]
     },
     "metadata": {},
     "output_type": "display_data"
    },
    {
     "name": "stdout",
     "output_type": "stream",
     "text": [
      "Train Step 131/131, train_loss: 0.6936\n"
     ]
    },
    {
     "data": {
      "application/vnd.jupyter.widget-view+json": {
       "model_id": "b66bf974c31842008864cad301683944",
       "version_major": 2,
       "version_minor": 0
      },
      "text/plain": [
       "HBox(children=(FloatProgress(value=0.0, max=16.0), HTML(value='')))"
      ]
     },
     "metadata": {},
     "output_type": "display_data"
    },
    {
     "name": "stdout",
     "output_type": "stream",
     "text": [
      "outputs 0.5000014305114746 1.658430733186833e-06\n",
      "targets 0.5 0.5658032894134521\n",
      "outputs 0.5000197291374207 1.8868753613787703e-05\n",
      "targets 0.5 0.5658032894134521\n",
      "outputs 0.5000038743019104 4.95334552397253e-06\n",
      "targets 0.7450000047683716 0.49000000953674316\n",
      "outputs 0.5 0.0, valid_loss: 0.6832\n",
      "targets 0.5 0.5658032894134521\n",
      "outputs 0.5000103712081909 1.3936147297499701e-05\n",
      "targets 0.7450000047683716 0.49000000953674316\n",
      "outputs 0.5000006556510925 9.712082373880548e-07\n",
      "targets 0.2549999952316284 0.49000000953674316\n",
      "outputs 0.5000262260437012 3.4432177926646546e-05\n",
      "targets 0.5 0.5658032894134521\n",
      "outputs 0.500025749206543 2.3125001462176442e-05\n",
      "targets 0.7450000047683716 0.49000000953674316\n",
      "outputs 0.5000206232070923 2.2583921236218885e-05\n",
      "targets 0.5 0.5658032894134521\n",
      "outputs 0.5000110268592834 2.205371856689453e-05\n",
      "targets 0.2549999952316284 0.49000000953674316\n",
      "outputs 0.500003457069397 3.391272230146569e-06\n",
      "targets 0.2549999952316284 0.49000000953674316\n",
      "outputs 0.5000115036964417 1.0315220606571529e-05\n",
      "targets 0.5 0.5658032894134521\n",
      "outputs 0.500005841255188 1.1483940397738479e-05\n",
      "targets 0.5 0.5658032894134521\n",
      "outputs 0.50001060962677 1.3280159691930749e-05\n",
      "targets 0.7450000047683716 0.49000000953674316\n",
      "outputs 0.5000113248825073 2.2669637473882176e-05\n",
      "targets 0.7450000047683716 0.49000000953674316\n",
      "outputs 0.5000028014183044 nan0.7077\n",
      "targets 0.9900000095367432 nan\n",
      "Valid Step 16/16, valid_loss: 0.6935\n",
      "[Epoch Train: 10] loss: 0.6936, time: 17.00 s            \n",
      "[Epoch Valid: 10] loss: 0.6935, auc: 0.6824, time: 2.00 s\n",
      "auc improved from 0.6515 to 0.6935. Saved model to '/home/RSNA_MICCAI_Brain_Tumor/models/FLAIR-e10-loss0.693-auc0.682.pth'\n",
      "EPOCH: 11\n"
     ]
    },
    {
     "data": {
      "application/vnd.jupyter.widget-view+json": {
       "model_id": "e39c8a4ad76c4f3c9efb461311563cdc",
       "version_major": 2,
       "version_minor": 0
      },
      "text/plain": [
       "HBox(children=(FloatProgress(value=0.0, max=131.0), HTML(value='')))"
      ]
     },
     "metadata": {},
     "output_type": "display_data"
    },
    {
     "name": "stdout",
     "output_type": "stream",
     "text": [
      "Train Step 131/131, train_loss: 0.6931\n"
     ]
    },
    {
     "data": {
      "application/vnd.jupyter.widget-view+json": {
       "model_id": "f3675c9dc8534ab58997dd786a4c3fe2",
       "version_major": 2,
       "version_minor": 0
      },
      "text/plain": [
       "HBox(children=(FloatProgress(value=0.0, max=16.0), HTML(value='')))"
      ]
     },
     "metadata": {},
     "output_type": "display_data"
    },
    {
     "name": "stdout",
     "output_type": "stream",
     "text": [
      "outputs 0.5000022053718567 2.5495648969808826e-06\n",
      "targets 0.5 0.5658032894134521\n",
      "outputs 0.5000258088111877 2.419931479380466e-05\n",
      "targets 0.5 0.5658032894134521\n",
      "outputs 0.5000057220458984 7.2834013735700864e-06\n",
      "targets 0.7450000047683716 0.49000000953674316\n",
      "outputs 0.5 0.0, valid_loss: 0.6832\n",
      "targets 0.5 0.5658032894134521\n",
      "outputs 0.5000137686729431 1.8019967683358118e-05\n",
      "targets 0.7450000047683716 0.49000000953674316\n",
      "outputs 0.5000011324882507 1.721326043480076e-06\n",
      "targets 0.2549999952316284 0.49000000953674316\n",
      "outputs 0.5000318288803101 4.051836731377989e-05\n",
      "targets 0.5 0.5658032894134521\n",
      "outputs 0.500032901763916 2.8898100936203264e-05\n",
      "targets 0.7450000047683716 0.49000000953674316\n",
      "outputs 0.5000261664390564 2.7398282327339984e-05\n",
      "targets 0.5 0.5658032894134521\n",
      "outputs 0.5000135898590088 2.719959957175888e-05\n",
      "targets 0.2549999952316284 0.49000000953674316\n",
      "outputs 0.5000051259994507 4.769737188325962e-06\n",
      "targets 0.2549999952316284 0.49000000953674316\n",
      "outputs 0.5000151991844177 1.3357337593333796e-05\n",
      "targets 0.5 0.5658032894134521\n",
      "outputs 0.5000076293945312 1.5080348021001555e-05\n",
      "targets 0.5 0.5658032894134521\n",
      "outputs 0.5000148415565491 1.858891118899919e-05\n",
      "targets 0.7450000047683716 0.49000000953674316\n",
      "outputs 0.5000141859054565 2.8371810913085938e-05\n",
      "targets 0.7450000047683716 0.49000000953674316\n",
      "outputs 0.5000048279762268 nan0.7077\n",
      "targets 0.9900000095367432 nan\n",
      "Valid Step 16/16, valid_loss: 0.6935\n",
      "[Epoch Train: 11] loss: 0.6931, time: 17.00 s            \n",
      "[Epoch Valid: 11] loss: 0.6935, auc: 0.6775, time: 2.00 s\n",
      "EPOCH: 12\n"
     ]
    },
    {
     "data": {
      "application/vnd.jupyter.widget-view+json": {
       "model_id": "3f0f146a00f14652b820fe00ada46185",
       "version_major": 2,
       "version_minor": 0
      },
      "text/plain": [
       "HBox(children=(FloatProgress(value=0.0, max=131.0), HTML(value='')))"
      ]
     },
     "metadata": {},
     "output_type": "display_data"
    },
    {
     "name": "stdout",
     "output_type": "stream",
     "text": [
      "Train Step 131/131, train_loss: 0.6931\n"
     ]
    },
    {
     "data": {
      "application/vnd.jupyter.widget-view+json": {
       "model_id": "ca792c26cc9e4cb99094f0e0baf2b275",
       "version_major": 2,
       "version_minor": 0
      },
      "text/plain": [
       "HBox(children=(FloatProgress(value=0.0, max=16.0), HTML(value='')))"
      ]
     },
     "metadata": {},
     "output_type": "display_data"
    },
    {
     "name": "stdout",
     "output_type": "stream",
     "text": [
      "outputs 0.5000043511390686 5.008327207178809e-06\n",
      "targets 0.5 0.5658032894134521\n",
      "outputs 0.5000439882278442 3.9959220885066316e-05\n",
      "targets 0.5 0.5658032894134521\n",
      "outputs 0.5000106692314148 1.2851633073296398e-05\n",
      "targets 0.7450000047683716 0.49000000953674316\n",
      "outputs 0.5 0.0, valid_loss: 0.6832\n",
      "targets 0.5 0.5658032894134521\n",
      "outputs 0.5000235438346863 2.743713412201032e-05\n",
      "targets 0.7450000047683716 0.49000000953674316\n",
      "outputs 0.5000028014183044 4.3092277337564155e-06\n",
      "targets 0.2549999952316284 0.49000000953674316\n",
      "outputs 0.5000430345535278 5.27961747138761e-05\n",
      "targets 0.5 0.5658032894134521\n",
      "outputs 0.5000507831573486 4.142982288612984e-05\n",
      "targets 0.7450000047683716 0.49000000953674316\n",
      "outputs 0.5000424385070801 3.90445529774297e-05\n",
      "targets 0.5 0.5658032894134521\n",
      "outputs 0.5000193119049072 3.850465509458445e-05\n",
      "targets 0.2549999952316284 0.49000000953674316\n",
      "outputs 0.5000110864639282 1.0135886441275943e-05\n",
      "targets 0.2549999952316284 0.49000000953674316\n",
      "outputs 0.5000272989273071 2.400780067546293e-05\n",
      "targets 0.5 0.5658032894134521\n",
      "outputs 0.5000139474868774 2.7240768758929335e-05\n",
      "targets 0.5 0.5658032894134521\n",
      "outputs 0.5000261664390564 3.165975431329571e-05\n",
      "targets 0.7450000047683716 0.49000000953674316\n",
      "outputs 0.5000209808349609 4.202127456665039e-05\n",
      "targets 0.7450000047683716 0.49000000953674316\n",
      "outputs 0.5000104904174805 nan0.7077\n",
      "targets 0.9900000095367432 nan\n",
      "Valid Step 16/16, valid_loss: 0.6934\n",
      "[Epoch Train: 12] loss: 0.6931, time: 17.00 s            \n",
      "[Epoch Valid: 12] loss: 0.6934, auc: 0.6656, time: 3.00 s\n",
      "EPOCH: 13\n"
     ]
    },
    {
     "data": {
      "application/vnd.jupyter.widget-view+json": {
       "model_id": "c2e2b1306b614bdda8722b642d6daa81",
       "version_major": 2,
       "version_minor": 0
      },
      "text/plain": [
       "HBox(children=(FloatProgress(value=0.0, max=131.0), HTML(value='')))"
      ]
     },
     "metadata": {},
     "output_type": "display_data"
    },
    {
     "name": "stdout",
     "output_type": "stream",
     "text": [
      "Train Step 131/131, train_loss: 0.6931\n"
     ]
    },
    {
     "data": {
      "application/vnd.jupyter.widget-view+json": {
       "model_id": "e76469780f6d4d42ad3e15c9b11fb95f",
       "version_major": 2,
       "version_minor": 0
      },
      "text/plain": [
       "HBox(children=(FloatProgress(value=0.0, max=16.0), HTML(value='')))"
      ]
     },
     "metadata": {},
     "output_type": "display_data"
    },
    {
     "name": "stdout",
     "output_type": "stream",
     "text": [
      "outputs 0.5000052452087402 5.921244792261859e-06\n",
      "targets 0.5 0.5658032894134521\n",
      "outputs 0.5000588297843933 5.3841580665903166e-05\n",
      "targets 0.5 0.5658032894134521\n",
      "outputs 0.5000135898590088 1.6144829714903608e-05\n",
      "targets 0.7450000047683716 0.49000000953674316\n",
      "outputs 0.5 0.0, valid_loss: 0.6832\n",
      "targets 0.5 0.5658032894134521\n",
      "outputs 0.5000319480895996 3.8392568967537954e-05\n",
      "targets 0.7450000047683716 0.49000000953674316\n",
      "outputs 0.500002920627594 4.413494934851769e-06\n",
      "targets 0.2549999952316284 0.49000000953674316\n",
      "outputs 0.5000622272491455 7.740566798020154e-05\n",
      "targets 0.5 0.5658032894134521\n",
      "outputs 0.5000696182250977 5.780226274509914e-05\n",
      "targets 0.7450000047683716 0.49000000953674316\n",
      "outputs 0.5000579953193665 5.512861389433965e-05\n",
      "targets 0.5 0.5658032894134521\n",
      "outputs 0.5000278949737549 5.575023533310741e-05\n",
      "targets 0.2549999952316284 0.49000000953674316\n",
      "outputs 0.5000139474868774 1.2972172044101171e-05\n",
      "targets 0.2549999952316284 0.49000000953674316\n",
      "outputs 0.5000369548797607 3.231438677175902e-05\n",
      "targets 0.5 0.5658032894134521\n",
      "outputs 0.5000182390213013 3.588309118640609e-05\n",
      "targets 0.5 0.5658032894134521\n",
      "outputs 0.5000340938568115 4.131948298891075e-05\n",
      "targets 0.7450000047683716 0.49000000953674316\n",
      "outputs 0.5000296235084534 5.9227149904472753e-05\n",
      "targets 0.7450000047683716 0.49000000953674316\n",
      "outputs 0.500012218952179 nan 0.7077\n",
      "targets 0.9900000095367432 nan\n",
      "Valid Step 16/16, valid_loss: 0.6934\n",
      "[Epoch Train: 13] loss: 0.6931, time: 17.00 s            \n",
      "[Epoch Valid: 13] loss: 0.6934, auc: 0.6667, time: 2.00 s\n",
      "EPOCH: 14\n"
     ]
    },
    {
     "data": {
      "application/vnd.jupyter.widget-view+json": {
       "model_id": "64ce1c4f6da54080afeca50b6c153466",
       "version_major": 2,
       "version_minor": 0
      },
      "text/plain": [
       "HBox(children=(FloatProgress(value=0.0, max=131.0), HTML(value='')))"
      ]
     },
     "metadata": {},
     "output_type": "display_data"
    },
    {
     "name": "stdout",
     "output_type": "stream",
     "text": [
      "Train Step 131/131, train_loss: 0.6931\n"
     ]
    },
    {
     "data": {
      "application/vnd.jupyter.widget-view+json": {
       "model_id": "13471cb5fab8410bb6b1252d0afdf950",
       "version_major": 2,
       "version_minor": 0
      },
      "text/plain": [
       "HBox(children=(FloatProgress(value=0.0, max=16.0), HTML(value='')))"
      ]
     },
     "metadata": {},
     "output_type": "display_data"
    },
    {
     "name": "stdout",
     "output_type": "stream",
     "text": [
      "outputs 0.5000100135803223 1.1830658877443057e-05\n",
      "targets 0.5 0.5658032894134521\n",
      "outputs 0.5001033544540405 9.264500113204122e-05\n",
      "targets 0.5 0.5658032894134521\n",
      "outputs 0.500024676322937 2.770635182969272e-05\n",
      "targets 0.7450000047683716 0.49000000953674316\n",
      "outputs 0.5 0.0, valid_loss: 0.6832\n",
      "targets 0.5 0.5658032894134521\n",
      "outputs 0.5000572204589844 7.02169127180241e-05\n",
      "targets 0.7450000047683716 0.49000000953674316\n",
      "outputs 0.5000036954879761 5.254457391856704e-06\n",
      "targets 0.2549999952316284 0.49000000953674316\n",
      "outputs 0.5001108050346375 0.00013583817053586245\n",
      "targets 0.5 0.5658032894134521\n",
      "outputs 0.5001272559165955 0.00010355516860727221\n",
      "targets 0.7450000047683716 0.49000000953674316\n",
      "outputs 0.5001029968261719 0.00010010091500589624\n",
      "targets 0.5 0.5658032894134521\n",
      "outputs 0.5000499486923218 9.977819718187675e-05\n",
      "targets 0.2549999952316284 0.49000000953674316\n",
      "outputs 0.5000230669975281 2.226061224064324e-05\n",
      "targets 0.2549999952316284 0.49000000953674316\n",
      "outputs 0.5000671744346619 5.6034074077615514e-05\n",
      "targets 0.5 0.5658032894134521\n",
      "outputs 0.5000321865081787 6.375780503731221e-05\n",
      "targets 0.5 0.5658032894134521\n",
      "outputs 0.5000612735748291 7.48167876736261e-05\n",
      "targets 0.7450000047683716 0.49000000953674316\n",
      "outputs 0.500052273273468 0.00010454654693603516\n",
      "targets 0.7450000047683716 0.49000000953674316\n",
      "outputs 0.500018298625946 nan 0.7077\n",
      "targets 0.9900000095367432 nan\n",
      "Valid Step 16/16, valid_loss: 0.6934\n",
      "[Epoch Train: 14] loss: 0.6931, time: 17.00 s            \n",
      "[Epoch Valid: 14] loss: 0.6934, auc: 0.6688, time: 2.00 s\n",
      "EPOCH: 15\n"
     ]
    },
    {
     "data": {
      "application/vnd.jupyter.widget-view+json": {
       "model_id": "e6b6e42923fe4a17b76c7e3e4f8ab61a",
       "version_major": 2,
       "version_minor": 0
      },
      "text/plain": [
       "HBox(children=(FloatProgress(value=0.0, max=131.0), HTML(value='')))"
      ]
     },
     "metadata": {},
     "output_type": "display_data"
    },
    {
     "name": "stdout",
     "output_type": "stream",
     "text": [
      "Train Step 131/131, train_loss: 0.6931\n"
     ]
    },
    {
     "data": {
      "application/vnd.jupyter.widget-view+json": {
       "model_id": "4373d97c8eeb47c187401331c00d3358",
       "version_major": 2,
       "version_minor": 0
      },
      "text/plain": [
       "HBox(children=(FloatProgress(value=0.0, max=16.0), HTML(value='')))"
      ]
     },
     "metadata": {},
     "output_type": "display_data"
    },
    {
     "name": "stdout",
     "output_type": "stream",
     "text": [
      "outputs 0.5000218152999878 2.9017730412306264e-05\n",
      "targets 0.5 0.5658032894134521\n",
      "outputs 0.5002261400222778 0.00020210009824950248\n",
      "targets 0.5 0.5658032894134521\n",
      "outputs 0.500054121017456 5.6653869251022115e-05\n",
      "targets 0.7450000047683716 0.49000000953674316\n",
      "outputs 0.5 2.4333495218797907e-082\n",
      "targets 0.5 0.5658032894134521\n",
      "outputs 0.5001316666603088 0.00016077165491878986\n",
      "targets 0.7450000047683716 0.49000000953674316\n",
      "outputs 0.5000059604644775 8.119113772409037e-06\n",
      "targets 0.2549999952316284 0.49000000953674316\n",
      "outputs 0.500247597694397 0.0003019516007043421\n",
      "targets 0.5 0.5658032894134521\n",
      "outputs 0.5002808570861816 0.0002260697801830247\n",
      "targets 0.7450000047683716 0.49000000953674316\n",
      "outputs 0.5002298355102539 0.00022289871412795037\n",
      "targets 0.5 0.5658032894134521\n",
      "outputs 0.500115156173706 0.00023017330386210233\n",
      "targets 0.2549999952316284 0.49000000953674316\n",
      "outputs 0.5000522136688232 5.0645503506530076e-05\n",
      "targets 0.2549999952316284 0.49000000953674316\n",
      "outputs 0.5001552700996399 0.00012673319724854082\n",
      "targets 0.5 0.5658032894134521\n",
      "outputs 0.5000705718994141 0.0001401710615027696\n",
      "targets 0.5 0.5658032894134521\n",
      "outputs 0.5001334547996521 0.0001615703949937597\n",
      "targets 0.7450000047683716 0.49000000953674316\n",
      "outputs 0.5001182556152344 0.00023651123046875\n",
      "targets 0.7450000047683716 0.49000000953674316\n",
      "outputs 0.5000373721122742 nan0.7077\n",
      "targets 0.9900000095367432 nan\n",
      "Valid Step 16/16, valid_loss: 0.6934\n",
      "[Epoch Train: 15] loss: 0.6931, time: 17.00 s            \n",
      "[Epoch Valid: 15] loss: 0.6934, auc: 0.6672, time: 2.00 s\n",
      "EPOCH: 16\n"
     ]
    },
    {
     "data": {
      "application/vnd.jupyter.widget-view+json": {
       "model_id": "53accfd73b9f41eca00edddcb29e1fc9",
       "version_major": 2,
       "version_minor": 0
      },
      "text/plain": [
       "HBox(children=(FloatProgress(value=0.0, max=131.0), HTML(value='')))"
      ]
     },
     "metadata": {},
     "output_type": "display_data"
    },
    {
     "name": "stdout",
     "output_type": "stream",
     "text": [
      "Train Step 131/131, train_loss: 0.6931\n"
     ]
    },
    {
     "data": {
      "application/vnd.jupyter.widget-view+json": {
       "model_id": "bd4b9e742f36474c83b2169a23884eba",
       "version_major": 2,
       "version_minor": 0
      },
      "text/plain": [
       "HBox(children=(FloatProgress(value=0.0, max=16.0), HTML(value='')))"
      ]
     },
     "metadata": {},
     "output_type": "display_data"
    },
    {
     "name": "stdout",
     "output_type": "stream",
     "text": [
      "outputs 0.5000627636909485 9.790992771741003e-05\n",
      "targets 0.5 0.5658032894134521\n",
      "outputs 0.5005461573600769 0.0004814675485249609\n",
      "targets 0.5 0.5658032894134521\n",
      "outputs 0.5001335144042969 0.00012413224612828344\n",
      "targets 0.7450000047683716 0.49000000953674316\n",
      "outputs 0.5 2.4333495218797907e-082\n",
      "targets 0.5 0.5658032894134521\n",
      "outputs 0.5003313422203064 0.0004065979737788439\n",
      "targets 0.7450000047683716 0.49000000953674316\n",
      "outputs 0.5000090003013611 1.1249787348788232e-05\n",
      "targets 0.2549999952316284 0.49000000953674316\n",
      "outputs 0.5005958080291748 0.0007126048440113664\n",
      "targets 0.5 0.5658032894134521\n",
      "outputs 0.5006951093673706 0.0005431759636849165\n",
      "targets 0.7450000047683716 0.49000000953674316\n",
      "outputs 0.5005527138710022 0.0005406137206591666\n",
      "targets 0.5 0.5658032894134521\n",
      "outputs 0.5002812147140503 0.0005623300676234066\n",
      "targets 0.2549999952316284 0.49000000953674316\n",
      "outputs 0.5001242160797119 0.00012662287917919457\n",
      "targets 0.2549999952316284 0.49000000953674316\n",
      "outputs 0.5003992915153503 0.00030594883719459176\n",
      "targets 0.5 0.5658032894134521\n",
      "outputs 0.5001735687255859 0.0003458465216681361\n",
      "targets 0.5 0.5658032894134521\n",
      "outputs 0.5003252625465393 0.000394856499042362\n",
      "targets 0.7450000047683716 0.49000000953674316\n",
      "outputs 0.5002861022949219 0.0005722244386561215\n",
      "targets 0.7450000047683716 0.49000000953674316\n",
      "outputs 0.5000731348991394 nan0.7077\n",
      "targets 0.9900000095367432 nan\n",
      "Valid Step 16/16, valid_loss: 0.6934\n",
      "[Epoch Train: 16] loss: 0.6931, time: 17.00 s            \n",
      "[Epoch Valid: 16] loss: 0.6934, auc: 0.6683, time: 2.00 s\n",
      "EPOCH: 17\n"
     ]
    },
    {
     "data": {
      "application/vnd.jupyter.widget-view+json": {
       "model_id": "e489fc426a45441892b11e98c998bd36",
       "version_major": 2,
       "version_minor": 0
      },
      "text/plain": [
       "HBox(children=(FloatProgress(value=0.0, max=131.0), HTML(value='')))"
      ]
     },
     "metadata": {},
     "output_type": "display_data"
    },
    {
     "name": "stdout",
     "output_type": "stream",
     "text": [
      "Train Step 131/131, train_loss: 0.6930\n"
     ]
    },
    {
     "data": {
      "application/vnd.jupyter.widget-view+json": {
       "model_id": "21c0ede41eba4f0da1e5537a667e4a65",
       "version_major": 2,
       "version_minor": 0
      },
      "text/plain": [
       "HBox(children=(FloatProgress(value=0.0, max=16.0), HTML(value='')))"
      ]
     },
     "metadata": {},
     "output_type": "display_data"
    },
    {
     "name": "stdout",
     "output_type": "stream",
     "text": [
      "outputs 0.5003055930137634 0.00039748879498802125\n",
      "targets 0.5 0.5658032894134521\n",
      "outputs 0.5018936991691589 0.0013358400901779532\n",
      "targets 0.5 0.5658032894134521\n",
      "outputs 0.5007292628288269 0.0005662496550939977\n",
      "targets 0.7450000047683716 0.49000000953674316\n",
      "outputs 0.5000002384185791 2.920019426255749e-07\n",
      "targets 0.5 0.5658032894134521\n",
      "outputs 0.5012959837913513 0.001146251684986055\n",
      "targets 0.7450000047683716 0.49000000953674316\n",
      "outputs 0.500089168548584 0.00011078162788180634\n",
      "targets 0.2549999952316284 0.49000000953674316\n",
      "outputs 0.5014932751655579 0.0017443445976823568\n",
      "targets 0.5 0.5658032894134521\n",
      "outputs 0.5020188093185425 0.0014161961153149605\n",
      "targets 0.7450000047683716 0.49000000953674316\n",
      "outputs 0.5018317699432373 0.0013521405635401607\n",
      "targets 0.5 0.5658032894134521\n",
      "outputs 0.5007150769233704 0.0014271155232563615\n",
      "targets 0.2549999952316284 0.49000000953674316\n",
      "outputs 0.5007932186126709 0.0007527195266447961\n",
      "targets 0.2549999952316284 0.49000000953674316\n",
      "outputs 0.5015242099761963 0.0011499891988933086\n",
      "targets 0.5 0.5658032894134521\n",
      "outputs 0.5006588697433472 0.0012997046578675508\n",
      "targets 0.5 0.5658032894134521\n",
      "outputs 0.5012823343276978 0.0014828183921054006\n",
      "targets 0.7450000047683716 0.49000000953674316\n",
      "outputs 0.5007489919662476 0.0014980038395151496\n",
      "targets 0.7450000047683716 0.49000000953674316\n",
      "outputs 0.5006023645401001 nan0.7076\n",
      "targets 0.9900000095367432 nan\n",
      "Valid Step 16/16, valid_loss: 0.6933\n",
      "[Epoch Train: 17] loss: 0.6930, time: 17.00 s            \n",
      "[Epoch Valid: 17] loss: 0.6933, auc: 0.6461, time: 2.00 s\n",
      "EPOCH: 18\n"
     ]
    },
    {
     "data": {
      "application/vnd.jupyter.widget-view+json": {
       "model_id": "f0ee87b8ff01421cbd49cf6e4a88e163",
       "version_major": 2,
       "version_minor": 0
      },
      "text/plain": [
       "HBox(children=(FloatProgress(value=0.0, max=131.0), HTML(value='')))"
      ]
     },
     "metadata": {},
     "output_type": "display_data"
    },
    {
     "name": "stdout",
     "output_type": "stream",
     "text": [
      "Train Step 131/131, train_loss: 0.6919\n"
     ]
    },
    {
     "data": {
      "application/vnd.jupyter.widget-view+json": {
       "model_id": "b02ce703edb14393b89f7ca248c8dc51",
       "version_major": 2,
       "version_minor": 0
      },
      "text/plain": [
       "HBox(children=(FloatProgress(value=0.0, max=16.0), HTML(value='')))"
      ]
     },
     "metadata": {},
     "output_type": "display_data"
    },
    {
     "name": "stdout",
     "output_type": "stream",
     "text": [
      "outputs 0.5034787654876709 0.00530361570417881\n",
      "targets 0.5 0.5658032894134521\n",
      "outputs 0.5163609385490417 0.00756355095654726\n",
      "targets 0.5 0.5658032894134521\n",
      "outputs 0.5085344314575195 0.0057853530161082745\n",
      "targets 0.7450000047683716 0.49000000953674316\n",
      "outputs 0.5000011920928955 1.5605720591338468e-06\n",
      "targets 0.5 0.5658032894134521\n",
      "outputs 0.5124375224113464 0.008943694643676281\n",
      "targets 0.7450000047683716 0.49000000953674316\n",
      "outputs 0.500637412071228 0.0007387907826341689\n",
      "targets 0.2549999952316284 0.49000000953674316\n",
      "outputs 0.5111803412437439 0.012983803637325764\n",
      "targets 0.5 0.5658032894134521\n",
      "outputs 0.5154274106025696 0.010455734096467495\n",
      "targets 0.7450000047683716 0.49000000953674316\n",
      "outputs 0.5154387950897217 0.010489160194993019\n",
      "targets 0.5 0.5658032894134521\n",
      "outputs 0.5054228901863098 0.010827191174030304\n",
      "targets 0.2549999952316284 0.49000000953674316\n",
      "outputs 0.508742094039917 0.008498607203364372\n",
      "targets 0.2549999952316284 0.49000000953674316\n",
      "outputs 0.5134420990943909 0.00943963322788477\n",
      "targets 0.5 0.5658032894134521\n",
      "outputs 0.5051735043525696 0.010244680568575859\n",
      "targets 0.5 0.5658032894134521\n",
      "outputs 0.5105114579200745 0.01203201524913311\n",
      "targets 0.7450000047683716 0.49000000953674316\n",
      "outputs 0.5054041147232056 0.010808050632476807\n",
      "targets 0.7450000047683716 0.49000000953674316\n",
      "outputs 0.5065053701400757 nan0.7071\n",
      "targets 0.9900000095367432 nan\n",
      "Valid Step 16/16, valid_loss: 0.6927\n",
      "[Epoch Train: 18] loss: 0.6919, time: 17.00 s            \n",
      "[Epoch Valid: 18] loss: 0.6927, auc: 0.6494, time: 3.00 s\n",
      "EPOCH: 19\n"
     ]
    },
    {
     "data": {
      "application/vnd.jupyter.widget-view+json": {
       "model_id": "ca46c185f2d44768915b7db14fcc18fa",
       "version_major": 2,
       "version_minor": 0
      },
      "text/plain": [
       "HBox(children=(FloatProgress(value=0.0, max=131.0), HTML(value='')))"
      ]
     },
     "metadata": {},
     "output_type": "display_data"
    },
    {
     "name": "stdout",
     "output_type": "stream",
     "text": [
      "Train Step 131/131, train_loss: 0.6907\n"
     ]
    },
    {
     "data": {
      "application/vnd.jupyter.widget-view+json": {
       "model_id": "e3f57f7ad2f44eb6bb6111317d4c06e7",
       "version_major": 2,
       "version_minor": 0
      },
      "text/plain": [
       "HBox(children=(FloatProgress(value=0.0, max=16.0), HTML(value='')))"
      ]
     },
     "metadata": {},
     "output_type": "display_data"
    },
    {
     "name": "stdout",
     "output_type": "stream",
     "text": [
      "outputs 0.510739803314209 0.018700402230024338\n",
      "targets 0.5 0.5658032894134521\n",
      "outputs 0.5437688231468201 0.015360898338258266\n",
      "targets 0.5 0.5658032894134521\n",
      "outputs 0.525765061378479 0.017729954794049263\n",
      "targets 0.7450000047683716 0.49000000953674316\n",
      "outputs 0.5000008344650269 1.2364672556941514e-06\n",
      "targets 0.5 0.5658032894134521\n",
      "outputs 0.5337400436401367 0.02348371222615242\n",
      "targets 0.7450000047683716 0.49000000953674316\n",
      "outputs 0.5009624361991882 0.00120531243737787\n",
      "targets 0.2549999952316284 0.49000000953674316\n",
      "outputs 0.5277490019798279 0.03210014849901199\n",
      "targets 0.5 0.5658032894134521\n",
      "outputs 0.5395821928977966 0.026498708873987198\n",
      "targets 0.7450000047683716 0.49000000953674316\n",
      "outputs 0.5399967432022095 0.02685408480465412\n",
      "targets 0.5 0.5658032894134521\n",
      "outputs 0.5134768486022949 0.026935163885354996\n",
      "targets 0.2549999952316284 0.49000000953674316\n",
      "outputs 0.5239428877830505 0.024427779018878937\n",
      "targets 0.2549999952316284 0.49000000953674316\n",
      "outputs 0.5370966196060181 0.02521534077823162\n",
      "targets 0.5 0.5658032894134521\n",
      "outputs 0.5133301615715027 0.026562422513961792\n",
      "targets 0.5 0.5658032894134521\n",
      "outputs 0.5272127389907837 0.03127746656537056\n",
      "targets 0.7450000047683716 0.49000000953674316\n",
      "outputs 0.5133086442947388 0.026617228984832764\n",
      "targets 0.7450000047683716 0.49000000953674316\n",
      "outputs 0.5157515406608582 nan0.7062\n",
      "targets 0.9900000095367432 nan\n",
      "Valid Step 16/16, valid_loss: 0.6916\n",
      "[Epoch Train: 19] loss: 0.6907, time: 17.00 s            \n",
      "[Epoch Valid: 19] loss: 0.6916, auc: 0.6450, time: 2.00 s\n",
      "EPOCH: 20\n"
     ]
    },
    {
     "data": {
      "application/vnd.jupyter.widget-view+json": {
       "model_id": "c03bdadbb4fb45a6b7aade775df7a051",
       "version_major": 2,
       "version_minor": 0
      },
      "text/plain": [
       "HBox(children=(FloatProgress(value=0.0, max=131.0), HTML(value='')))"
      ]
     },
     "metadata": {},
     "output_type": "display_data"
    },
    {
     "name": "stdout",
     "output_type": "stream",
     "text": [
      "Train Step 131/131, train_loss: 0.6868\n"
     ]
    },
    {
     "data": {
      "application/vnd.jupyter.widget-view+json": {
       "model_id": "4d97dfaa7d6946838a4efcdd554fb14e",
       "version_major": 2,
       "version_minor": 0
      },
      "text/plain": [
       "HBox(children=(FloatProgress(value=0.0, max=16.0), HTML(value='')))"
      ]
     },
     "metadata": {},
     "output_type": "display_data"
    },
    {
     "name": "stdout",
     "output_type": "stream",
     "text": [
      "outputs 0.5132878422737122 0.020802251994609833\n",
      "targets 0.5 0.5658032894134521\n",
      "outputs 0.5516767501831055 0.013628186658024788\n",
      "targets 0.5 0.5658032894134521\n",
      "outputs 0.5306070446968079 0.020752878859639168\n",
      "targets 0.7450000047683716 0.49000000953674316\n",
      "outputs 0.5000035762786865 5.0787098189175595e-06\n",
      "targets 0.5 0.5658032894134521\n",
      "outputs 0.5393239259719849 0.026466593146324158\n",
      "targets 0.7450000047683716 0.49000000953674316\n",
      "outputs 0.502123236656189 0.0026239061262458563\n",
      "targets 0.2549999952316284 0.49000000953674316\n",
      "outputs 0.5304796695709229 0.03524197265505791\n",
      "targets 0.5 0.5658032894134521\n",
      "outputs 0.5436905026435852 0.02921774610877037\n",
      "targets 0.7450000047683716 0.49000000953674316\n",
      "outputs 0.5446739196777344 0.029858054593205452\n",
      "targets 0.5 0.5658032894134521\n",
      "outputs 0.5148580074310303 0.029651498422026634\n",
      "targets 0.2549999952316284 0.49000000953674316\n",
      "outputs 0.5289006233215332 0.02699851430952549\n",
      "targets 0.2549999952316284 0.49000000953674316\n",
      "outputs 0.5413326025009155 0.028018010780215263\n",
      "targets 0.5 0.5658032894134521\n",
      "outputs 0.5148197412490845 0.02934921719133854\n",
      "targets 0.5 0.5658032894134521\n",
      "outputs 0.5303243398666382 0.034575749188661575\n",
      "targets 0.7450000047683716 0.49000000953674316\n",
      "outputs 0.5146864652633667 0.02937237359583378\n",
      "targets 0.7450000047683716 0.49000000953674316\n",
      "outputs 0.527946412563324 nan 0.7062\n",
      "targets 0.9900000095367432 nan\n",
      "Valid Step 16/16, valid_loss: 0.6914\n",
      "[Epoch Train: 20] loss: 0.6868, time: 17.00 s            \n",
      "[Epoch Valid: 20] loss: 0.6914, auc: 0.6374, time: 3.00 s\n",
      "\n"
     ]
    },
    {
     "data": {
      "image/png": "[encoded data removed]",
      "text/plain": [
       "<Figure size 432x288 with 1 Axes>"
      ]
     },
     "metadata": {
      "needs_background": "light"
     },
     "output_type": "display_data"
    }
   ],
   "source": [
    "modelfiles = []\n",
    "\n",
    "modelfiles.append(train_mri_type(df_train, df_valid, 'FLAIR'))"
   ]
  },
  {
   "cell_type": "code",
   "execution_count": null,
   "id": "3d0aa38d-e13e-4fcb-92c6-477d0c1c7c5a",
   "metadata": {},
   "outputs": [],
   "source": []
  }
 ],
 "metadata": {
  "kernelspec": {
   "display_name": "Python 3",
   "language": "python",
   "name": "python3"
  },
  "language_info": {
   "codemirror_mode": {
    "name": "ipython",
    "version": 3
   },
   "file_extension": ".py",
   "mimetype": "text/x-python",
   "name": "python",
   "nbconvert_exporter": "python",
   "pygments_lexer": "ipython3",
   "version": "3.8.5"
  }
 },
 "nbformat": 4,
 "nbformat_minor": 5
}
