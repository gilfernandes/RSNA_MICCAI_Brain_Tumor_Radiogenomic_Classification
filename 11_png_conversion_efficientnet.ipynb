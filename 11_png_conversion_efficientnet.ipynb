{
 "cells": [
  {
   "cell_type": "code",
   "execution_count": 1,
   "id": "27a7aa55-df2f-42cd-850b-c18769b893f5",
   "metadata": {},
   "outputs": [],
   "source": [
    "import numpy as np\n",
    "import pandas as pd\n",
    "import pydicom\n",
    "import cv2\n",
    "import os, glob, re, random, time\n",
    "from functools import partial\n",
    "from pathlib import Path\n",
    "import imageio\n",
    "from pydicom.pixel_data_handlers.util import apply_voi_lut\n",
    "from tqdm.notebook import tqdm\n",
    "\n",
    "import matplotlib.pyplot as plt\n",
    "import matplotlib.image as mpimg\n",
    "from functools import cmp_to_key\n",
    "\n",
    "import torch\n",
    "import torch.nn as nn\n",
    "import torch.nn.functional as F\n",
    "from torch.utils import data as torch_data\n",
    "from sklearn import model_selection as sk_model_selection\n",
    "from sklearn.metrics import roc_auc_score\n",
    "\n",
    "from efficientnet_pytorch_3d import EfficientNet3D\n",
    "import seaborn as sns"
   ]
  },
  {
   "cell_type": "code",
   "execution_count": 2,
   "id": "40805aa7-e58b-4348-a080-9f237f1fa70b",
   "metadata": {},
   "outputs": [],
   "source": [
    "class Config():\n",
    "    device = torch.device(\"cuda\" if torch.cuda.is_available() else \"cpu\")\n",
    "    base_path = Path('/home/RSNA_MICCAI_Brain_Tumor/data')\n",
    "    assert base_path.exists(), f'{base_path} does not exist'\n",
    "    models_path = Path('/home/RSNA_MICCAI_Brain_Tumor/models')\n",
    "    assert models_path.exists()\n",
    "    png_folder = 'png'\n",
    "    num_images = 32\n",
    "    size = 256\n",
    "    seed = 42\n",
    "    test_size = 0.1\n",
    "    clahe = False\n",
    "    batch_size = 8\n",
    "    num_workers = 7\n",
    "    lr = 1e-3\n",
    "    epochs = 20\n",
    "    extra_check_epochs = [8]\n",
    "    check_frequency = 4\n",
    "    \n",
    "cfg = Config()"
   ]
  },
  {
   "cell_type": "markdown",
   "id": "f707c6e3-1b34-4742-a78a-89facad27049",
   "metadata": {},
   "source": [
    "### Function for loading images"
   ]
  },
  {
   "cell_type": "code",
   "execution_count": 3,
   "id": "6305b318-bbac-4af9-aae5-8a1cb03051a5",
   "metadata": {},
   "outputs": [],
   "source": [
    "def load_dicom(path):\n",
    "    # read file\n",
    "    dicom = pydicom.read_file(path)\n",
    "    # get pixel data into a useful format. \n",
    "    data = dicom.pixel_array\n",
    "    # transform data into black and white scale / grayscale\n",
    "    data = data - np.min(data)\n",
    "    if np.max(data) != 0:\n",
    "        data = data / np.max(data)\n",
    "    data = (data * 255).astype(np.uint8)\n",
    "    return data\n",
    "\n",
    "\n",
    "def convert_dicom_to_png(path, png_image_path, resize = None, threshold=15):\n",
    "    dicom = pydicom.read_file(path)\n",
    "    data = apply_voi_lut(dicom.pixel_array, dicom)\n",
    "    # If Resize == True, Resize Image to Specified Resolution\n",
    "    if resize:\n",
    "        data = cv2.resize(data, resize)\n",
    "    # Transform Data as Necessary     \n",
    "    if dicom.PhotometricInterpretation == \"MONOCHROME1\":\n",
    "        data = np.amax(data) - data\n",
    "    data = data - np.min(data)\n",
    "    if np.max(data) != 0:\n",
    "        data = data / np.max(data)\n",
    "    data = (data * 255).astype(np.uint8)\n",
    "    if np.mean(data) <= threshold:\n",
    "        return 0\n",
    "    # SAVE PNG TO DISK     \n",
    "    imageio.imsave(png_image_path, data)\n",
    "    return 1"
   ]
  },
  {
   "cell_type": "markdown",
   "id": "169b00d0-6fec-43bf-a456-34845b93a9f2",
   "metadata": {},
   "source": [
    "### Loading data frames"
   ]
  },
  {
   "cell_type": "code",
   "execution_count": 4,
   "id": "cc1cf3d7-809e-4d3d-be18-b50dd9971eec",
   "metadata": {},
   "outputs": [
    {
     "data": {
      "text/html": [
       "<div>\n",
       "<style scoped>\n",
       "    .dataframe tbody tr th:only-of-type {\n",
       "        vertical-align: middle;\n",
       "    }\n",
       "\n",
       "    .dataframe tbody tr th {\n",
       "        vertical-align: top;\n",
       "    }\n",
       "\n",
       "    .dataframe thead th {\n",
       "        text-align: right;\n",
       "    }\n",
       "</style>\n",
       "<table border=\"1\" class=\"dataframe\">\n",
       "  <thead>\n",
       "    <tr style=\"text-align: right;\">\n",
       "      <th></th>\n",
       "      <th>BraTS21ID</th>\n",
       "      <th>MGMT_value</th>\n",
       "    </tr>\n",
       "  </thead>\n",
       "  <tbody>\n",
       "    <tr>\n",
       "      <th>0</th>\n",
       "      <td>0</td>\n",
       "      <td>1</td>\n",
       "    </tr>\n",
       "    <tr>\n",
       "      <th>1</th>\n",
       "      <td>2</td>\n",
       "      <td>1</td>\n",
       "    </tr>\n",
       "    <tr>\n",
       "      <th>2</th>\n",
       "      <td>3</td>\n",
       "      <td>0</td>\n",
       "    </tr>\n",
       "    <tr>\n",
       "      <th>3</th>\n",
       "      <td>5</td>\n",
       "      <td>1</td>\n",
       "    </tr>\n",
       "    <tr>\n",
       "      <th>4</th>\n",
       "      <td>6</td>\n",
       "      <td>1</td>\n",
       "    </tr>\n",
       "    <tr>\n",
       "      <th>...</th>\n",
       "      <td>...</td>\n",
       "      <td>...</td>\n",
       "    </tr>\n",
       "    <tr>\n",
       "      <th>580</th>\n",
       "      <td>1005</td>\n",
       "      <td>1</td>\n",
       "    </tr>\n",
       "    <tr>\n",
       "      <th>581</th>\n",
       "      <td>1007</td>\n",
       "      <td>1</td>\n",
       "    </tr>\n",
       "    <tr>\n",
       "      <th>582</th>\n",
       "      <td>1008</td>\n",
       "      <td>1</td>\n",
       "    </tr>\n",
       "    <tr>\n",
       "      <th>583</th>\n",
       "      <td>1009</td>\n",
       "      <td>0</td>\n",
       "    </tr>\n",
       "    <tr>\n",
       "      <th>584</th>\n",
       "      <td>1010</td>\n",
       "      <td>0</td>\n",
       "    </tr>\n",
       "  </tbody>\n",
       "</table>\n",
       "<p>582 rows × 2 columns</p>\n",
       "</div>"
      ],
      "text/plain": [
       "     BraTS21ID  MGMT_value\n",
       "0            0           1\n",
       "1            2           1\n",
       "2            3           0\n",
       "3            5           1\n",
       "4            6           1\n",
       "..         ...         ...\n",
       "580       1005           1\n",
       "581       1007           1\n",
       "582       1008           1\n",
       "583       1009           0\n",
       "584       1010           0\n",
       "\n",
       "[582 rows x 2 columns]"
      ]
     },
     "execution_count": 4,
     "metadata": {},
     "output_type": "execute_result"
    }
   ],
   "source": [
    "train_df = pd.read_csv(cfg.base_path/'train_labels.csv')\n",
    "train_df = train_df.drop(train_df[train_df['BraTS21ID'].isin([109, 123, 709])].index)\n",
    "train_df"
   ]
  },
  {
   "cell_type": "code",
   "execution_count": 5,
   "id": "92ccb493-321a-489a-8e02-c352f8408dfc",
   "metadata": {},
   "outputs": [],
   "source": [
    "def convert_all_dicom_to_png(df, mri_type = 'FLAIR', image_path = 'train'):\n",
    "    min_conversions = np.inf\n",
    "    for scan_id in tqdm(df['BraTS21ID'], total=len(df)):\n",
    "        dir_name = str(scan_id).zfill(5)\n",
    "        png_dir = cfg.base_path/cfg.png_folder/image_path/dir_name/mri_type\n",
    "        if not png_dir.exists():\n",
    "            png_dir.mkdir(parents=True)\n",
    "        source_dir = ((cfg.base_path/image_path)/dir_name)\n",
    "        assert source_dir.exists()\n",
    "        files = glob.glob(f\"{str(source_dir/mri_type)}/*.dcm\")\n",
    "        print(f'Processing {png_dir}')\n",
    "        conversions_sum = 0\n",
    "        for f in files:\n",
    "            f_name = re.sub(r'.+/(.+)\\.dcm', r'\\1.png', f)\n",
    "            png_file = png_dir/f_name\n",
    "            conversions_sum += convert_dicom_to_png(f, png_file, resize=(256,256))\n",
    "        if min_conversions > conversions_sum:\n",
    "            min_conversions = conversions_sum\n",
    "            print('Min conversion', min_conversions)\n",
    "    return min_conversions"
   ]
  },
  {
   "cell_type": "code",
   "execution_count": 6,
   "id": "bae0325a-402e-4386-ab4c-90d6edf53343",
   "metadata": {},
   "outputs": [
    {
     "data": {
      "text/html": [
       "<div>\n",
       "<style scoped>\n",
       "    .dataframe tbody tr th:only-of-type {\n",
       "        vertical-align: middle;\n",
       "    }\n",
       "\n",
       "    .dataframe tbody tr th {\n",
       "        vertical-align: top;\n",
       "    }\n",
       "\n",
       "    .dataframe thead th {\n",
       "        text-align: right;\n",
       "    }\n",
       "</style>\n",
       "<table border=\"1\" class=\"dataframe\">\n",
       "  <thead>\n",
       "    <tr style=\"text-align: right;\">\n",
       "      <th></th>\n",
       "      <th>BraTS21ID</th>\n",
       "      <th>MGMT_value</th>\n",
       "    </tr>\n",
       "  </thead>\n",
       "  <tbody>\n",
       "    <tr>\n",
       "      <th>0</th>\n",
       "      <td>1</td>\n",
       "      <td>0.5</td>\n",
       "    </tr>\n",
       "    <tr>\n",
       "      <th>1</th>\n",
       "      <td>13</td>\n",
       "      <td>0.5</td>\n",
       "    </tr>\n",
       "    <tr>\n",
       "      <th>2</th>\n",
       "      <td>15</td>\n",
       "      <td>0.5</td>\n",
       "    </tr>\n",
       "    <tr>\n",
       "      <th>3</th>\n",
       "      <td>27</td>\n",
       "      <td>0.5</td>\n",
       "    </tr>\n",
       "    <tr>\n",
       "      <th>4</th>\n",
       "      <td>37</td>\n",
       "      <td>0.5</td>\n",
       "    </tr>\n",
       "    <tr>\n",
       "      <th>...</th>\n",
       "      <td>...</td>\n",
       "      <td>...</td>\n",
       "    </tr>\n",
       "    <tr>\n",
       "      <th>82</th>\n",
       "      <td>826</td>\n",
       "      <td>0.5</td>\n",
       "    </tr>\n",
       "    <tr>\n",
       "      <th>83</th>\n",
       "      <td>829</td>\n",
       "      <td>0.5</td>\n",
       "    </tr>\n",
       "    <tr>\n",
       "      <th>84</th>\n",
       "      <td>833</td>\n",
       "      <td>0.5</td>\n",
       "    </tr>\n",
       "    <tr>\n",
       "      <th>85</th>\n",
       "      <td>997</td>\n",
       "      <td>0.5</td>\n",
       "    </tr>\n",
       "    <tr>\n",
       "      <th>86</th>\n",
       "      <td>1006</td>\n",
       "      <td>0.5</td>\n",
       "    </tr>\n",
       "  </tbody>\n",
       "</table>\n",
       "<p>87 rows × 2 columns</p>\n",
       "</div>"
      ],
      "text/plain": [
       "    BraTS21ID  MGMT_value\n",
       "0           1         0.5\n",
       "1          13         0.5\n",
       "2          15         0.5\n",
       "3          27         0.5\n",
       "4          37         0.5\n",
       "..        ...         ...\n",
       "82        826         0.5\n",
       "83        829         0.5\n",
       "84        833         0.5\n",
       "85        997         0.5\n",
       "86       1006         0.5\n",
       "\n",
       "[87 rows x 2 columns]"
      ]
     },
     "execution_count": 6,
     "metadata": {},
     "output_type": "execute_result"
    }
   ],
   "source": [
    "submission_df = pd.read_csv(cfg.base_path/'sample_submission.csv')\n",
    "submission_df"
   ]
  },
  {
   "cell_type": "markdown",
   "id": "50bc940b-7f33-47fe-98cb-a4c00e45b14c",
   "metadata": {},
   "source": [
    "## Transform to png\n",
    "Comment out if not needed"
   ]
  },
  {
   "cell_type": "code",
   "execution_count": 7,
   "id": "b7bdd68c-316a-425a-93f4-19ab4178d520",
   "metadata": {},
   "outputs": [
    {
     "data": {
      "application/vnd.jupyter.widget-view+json": {
       "model_id": "b41b25e446ab49b88c57a43c5093935e",
       "version_major": 2,
       "version_minor": 0
      },
      "text/plain": [
       "HBox(children=(FloatProgress(value=0.0, max=582.0), HTML(value='')))"
      ]
     },
     "metadata": {},
     "output_type": "display_data"
    },
    {
     "name": "stdout",
     "output_type": "stream",
     "text": [
      "Processing /home/RSNA_MICCAI_Brain_Tumor/data/png/train/00000/FLAIR\n",
      "Min conversion 159\n",
      "Processing /home/RSNA_MICCAI_Brain_Tumor/data/png/train/00002/FLAIR\n",
      "Min conversion 53\n",
      "Processing /home/RSNA_MICCAI_Brain_Tumor/data/png/train/00003/FLAIR\n",
      "Processing /home/RSNA_MICCAI_Brain_Tumor/data/png/train/00005/FLAIR\n",
      "Processing /home/RSNA_MICCAI_Brain_Tumor/data/png/train/00006/FLAIR\n",
      "Min conversion 50\n",
      "Processing /home/RSNA_MICCAI_Brain_Tumor/data/png/train/00008/FLAIR\n",
      "Processing /home/RSNA_MICCAI_Brain_Tumor/data/png/train/00009/FLAIR\n",
      "Processing /home/RSNA_MICCAI_Brain_Tumor/data/png/train/00011/FLAIR\n",
      "Min conversion 49\n",
      "Processing /home/RSNA_MICCAI_Brain_Tumor/data/png/train/00012/FLAIR\n",
      "Processing /home/RSNA_MICCAI_Brain_Tumor/data/png/train/00014/FLAIR\n",
      "Processing /home/RSNA_MICCAI_Brain_Tumor/data/png/train/00017/FLAIR\n",
      "Processing /home/RSNA_MICCAI_Brain_Tumor/data/png/train/00018/FLAIR\n",
      "Processing /home/RSNA_MICCAI_Brain_Tumor/data/png/train/00019/FLAIR\n",
      "Processing /home/RSNA_MICCAI_Brain_Tumor/data/png/train/00020/FLAIR\n",
      "Processing /home/RSNA_MICCAI_Brain_Tumor/data/png/train/00021/FLAIR\n",
      "Processing /home/RSNA_MICCAI_Brain_Tumor/data/png/train/00022/FLAIR\n",
      "Processing /home/RSNA_MICCAI_Brain_Tumor/data/png/train/00024/FLAIR\n",
      "Processing /home/RSNA_MICCAI_Brain_Tumor/data/png/train/00025/FLAIR\n",
      "Processing /home/RSNA_MICCAI_Brain_Tumor/data/png/train/00026/FLAIR\n",
      "Processing /home/RSNA_MICCAI_Brain_Tumor/data/png/train/00028/FLAIR\n",
      "Processing /home/RSNA_MICCAI_Brain_Tumor/data/png/train/00030/FLAIR\n",
      "Processing /home/RSNA_MICCAI_Brain_Tumor/data/png/train/00031/FLAIR\n",
      "Processing /home/RSNA_MICCAI_Brain_Tumor/data/png/train/00032/FLAIR\n",
      "Processing /home/RSNA_MICCAI_Brain_Tumor/data/png/train/00033/FLAIR\n",
      "Processing /home/RSNA_MICCAI_Brain_Tumor/data/png/train/00035/FLAIR\n",
      "Processing /home/RSNA_MICCAI_Brain_Tumor/data/png/train/00036/FLAIR\n",
      "Processing /home/RSNA_MICCAI_Brain_Tumor/data/png/train/00043/FLAIR\n",
      "Min conversion 45\n",
      "Processing /home/RSNA_MICCAI_Brain_Tumor/data/png/train/00044/FLAIR\n",
      "Processing /home/RSNA_MICCAI_Brain_Tumor/data/png/train/00045/FLAIR\n",
      "Processing /home/RSNA_MICCAI_Brain_Tumor/data/png/train/00046/FLAIR\n",
      "Processing /home/RSNA_MICCAI_Brain_Tumor/data/png/train/00048/FLAIR\n",
      "Processing /home/RSNA_MICCAI_Brain_Tumor/data/png/train/00049/FLAIR\n",
      "Processing /home/RSNA_MICCAI_Brain_Tumor/data/png/train/00052/FLAIR\n",
      "Processing /home/RSNA_MICCAI_Brain_Tumor/data/png/train/00053/FLAIR\n",
      "Processing /home/RSNA_MICCAI_Brain_Tumor/data/png/train/00054/FLAIR\n",
      "Processing /home/RSNA_MICCAI_Brain_Tumor/data/png/train/00056/FLAIR\n",
      "Processing /home/RSNA_MICCAI_Brain_Tumor/data/png/train/00058/FLAIR\n",
      "Processing /home/RSNA_MICCAI_Brain_Tumor/data/png/train/00059/FLAIR\n",
      "Processing /home/RSNA_MICCAI_Brain_Tumor/data/png/train/00060/FLAIR\n",
      "Processing /home/RSNA_MICCAI_Brain_Tumor/data/png/train/00061/FLAIR\n",
      "Processing /home/RSNA_MICCAI_Brain_Tumor/data/png/train/00062/FLAIR\n",
      "Processing /home/RSNA_MICCAI_Brain_Tumor/data/png/train/00063/FLAIR\n",
      "Processing /home/RSNA_MICCAI_Brain_Tumor/data/png/train/00064/FLAIR\n",
      "Processing /home/RSNA_MICCAI_Brain_Tumor/data/png/train/00066/FLAIR\n",
      "Processing /home/RSNA_MICCAI_Brain_Tumor/data/png/train/00068/FLAIR\n",
      "Processing /home/RSNA_MICCAI_Brain_Tumor/data/png/train/00070/FLAIR\n",
      "Processing /home/RSNA_MICCAI_Brain_Tumor/data/png/train/00071/FLAIR\n",
      "Processing /home/RSNA_MICCAI_Brain_Tumor/data/png/train/00072/FLAIR\n",
      "Processing /home/RSNA_MICCAI_Brain_Tumor/data/png/train/00074/FLAIR\n",
      "Processing /home/RSNA_MICCAI_Brain_Tumor/data/png/train/00077/FLAIR\n",
      "Processing /home/RSNA_MICCAI_Brain_Tumor/data/png/train/00078/FLAIR\n",
      "Processing /home/RSNA_MICCAI_Brain_Tumor/data/png/train/00081/FLAIR\n",
      "Processing /home/RSNA_MICCAI_Brain_Tumor/data/png/train/00084/FLAIR\n",
      "Processing /home/RSNA_MICCAI_Brain_Tumor/data/png/train/00085/FLAIR\n",
      "Processing /home/RSNA_MICCAI_Brain_Tumor/data/png/train/00087/FLAIR\n",
      "Processing /home/RSNA_MICCAI_Brain_Tumor/data/png/train/00088/FLAIR\n",
      "Processing /home/RSNA_MICCAI_Brain_Tumor/data/png/train/00089/FLAIR\n",
      "Processing /home/RSNA_MICCAI_Brain_Tumor/data/png/train/00090/FLAIR\n",
      "Processing /home/RSNA_MICCAI_Brain_Tumor/data/png/train/00094/FLAIR\n",
      "Processing /home/RSNA_MICCAI_Brain_Tumor/data/png/train/00095/FLAIR\n",
      "Processing /home/RSNA_MICCAI_Brain_Tumor/data/png/train/00096/FLAIR\n",
      "Processing /home/RSNA_MICCAI_Brain_Tumor/data/png/train/00097/FLAIR\n",
      "Processing /home/RSNA_MICCAI_Brain_Tumor/data/png/train/00098/FLAIR\n",
      "Processing /home/RSNA_MICCAI_Brain_Tumor/data/png/train/00099/FLAIR\n",
      "Processing /home/RSNA_MICCAI_Brain_Tumor/data/png/train/00100/FLAIR\n",
      "Min conversion 13\n",
      "Processing /home/RSNA_MICCAI_Brain_Tumor/data/png/train/00102/FLAIR\n",
      "Processing /home/RSNA_MICCAI_Brain_Tumor/data/png/train/00104/FLAIR\n",
      "Processing /home/RSNA_MICCAI_Brain_Tumor/data/png/train/00105/FLAIR\n",
      "Processing /home/RSNA_MICCAI_Brain_Tumor/data/png/train/00106/FLAIR\n",
      "Processing /home/RSNA_MICCAI_Brain_Tumor/data/png/train/00107/FLAIR\n",
      "Processing /home/RSNA_MICCAI_Brain_Tumor/data/png/train/00108/FLAIR\n",
      "Processing /home/RSNA_MICCAI_Brain_Tumor/data/png/train/00110/FLAIR\n",
      "Processing /home/RSNA_MICCAI_Brain_Tumor/data/png/train/00111/FLAIR\n",
      "Processing /home/RSNA_MICCAI_Brain_Tumor/data/png/train/00112/FLAIR\n",
      "Processing /home/RSNA_MICCAI_Brain_Tumor/data/png/train/00113/FLAIR\n",
      "Processing /home/RSNA_MICCAI_Brain_Tumor/data/png/train/00116/FLAIR\n",
      "Processing /home/RSNA_MICCAI_Brain_Tumor/data/png/train/00117/FLAIR\n",
      "Processing /home/RSNA_MICCAI_Brain_Tumor/data/png/train/00120/FLAIR\n",
      "Processing /home/RSNA_MICCAI_Brain_Tumor/data/png/train/00121/FLAIR\n",
      "Processing /home/RSNA_MICCAI_Brain_Tumor/data/png/train/00122/FLAIR\n",
      "Processing /home/RSNA_MICCAI_Brain_Tumor/data/png/train/00124/FLAIR\n",
      "Processing /home/RSNA_MICCAI_Brain_Tumor/data/png/train/00128/FLAIR\n",
      "Processing /home/RSNA_MICCAI_Brain_Tumor/data/png/train/00130/FLAIR\n",
      "Processing /home/RSNA_MICCAI_Brain_Tumor/data/png/train/00132/FLAIR\n",
      "Processing /home/RSNA_MICCAI_Brain_Tumor/data/png/train/00133/FLAIR\n",
      "Processing /home/RSNA_MICCAI_Brain_Tumor/data/png/train/00134/FLAIR\n",
      "Processing /home/RSNA_MICCAI_Brain_Tumor/data/png/train/00136/FLAIR\n",
      "Processing /home/RSNA_MICCAI_Brain_Tumor/data/png/train/00137/FLAIR\n",
      "Processing /home/RSNA_MICCAI_Brain_Tumor/data/png/train/00138/FLAIR\n",
      "Processing /home/RSNA_MICCAI_Brain_Tumor/data/png/train/00139/FLAIR\n",
      "Processing /home/RSNA_MICCAI_Brain_Tumor/data/png/train/00140/FLAIR\n",
      "Processing /home/RSNA_MICCAI_Brain_Tumor/data/png/train/00142/FLAIR\n",
      "Processing /home/RSNA_MICCAI_Brain_Tumor/data/png/train/00143/FLAIR\n",
      "Processing /home/RSNA_MICCAI_Brain_Tumor/data/png/train/00144/FLAIR\n",
      "Processing /home/RSNA_MICCAI_Brain_Tumor/data/png/train/00146/FLAIR\n",
      "Processing /home/RSNA_MICCAI_Brain_Tumor/data/png/train/00147/FLAIR\n",
      "Processing /home/RSNA_MICCAI_Brain_Tumor/data/png/train/00148/FLAIR\n",
      "Min conversion 12\n",
      "Processing /home/RSNA_MICCAI_Brain_Tumor/data/png/train/00149/FLAIR\n",
      "Processing /home/RSNA_MICCAI_Brain_Tumor/data/png/train/00150/FLAIR\n",
      "Processing /home/RSNA_MICCAI_Brain_Tumor/data/png/train/00151/FLAIR\n",
      "Processing /home/RSNA_MICCAI_Brain_Tumor/data/png/train/00154/FLAIR\n",
      "Processing /home/RSNA_MICCAI_Brain_Tumor/data/png/train/00155/FLAIR\n",
      "Processing /home/RSNA_MICCAI_Brain_Tumor/data/png/train/00156/FLAIR\n",
      "Processing /home/RSNA_MICCAI_Brain_Tumor/data/png/train/00157/FLAIR\n",
      "Processing /home/RSNA_MICCAI_Brain_Tumor/data/png/train/00158/FLAIR\n",
      "Processing /home/RSNA_MICCAI_Brain_Tumor/data/png/train/00159/FLAIR\n",
      "Processing /home/RSNA_MICCAI_Brain_Tumor/data/png/train/00160/FLAIR\n",
      "Processing /home/RSNA_MICCAI_Brain_Tumor/data/png/train/00162/FLAIR\n",
      "Processing /home/RSNA_MICCAI_Brain_Tumor/data/png/train/00165/FLAIR\n",
      "Processing /home/RSNA_MICCAI_Brain_Tumor/data/png/train/00166/FLAIR\n",
      "Processing /home/RSNA_MICCAI_Brain_Tumor/data/png/train/00167/FLAIR\n",
      "Processing /home/RSNA_MICCAI_Brain_Tumor/data/png/train/00169/FLAIR\n",
      "Processing /home/RSNA_MICCAI_Brain_Tumor/data/png/train/00170/FLAIR\n",
      "Processing /home/RSNA_MICCAI_Brain_Tumor/data/png/train/00171/FLAIR\n",
      "Processing /home/RSNA_MICCAI_Brain_Tumor/data/png/train/00172/FLAIR\n",
      "Processing /home/RSNA_MICCAI_Brain_Tumor/data/png/train/00176/FLAIR\n",
      "Processing /home/RSNA_MICCAI_Brain_Tumor/data/png/train/00177/FLAIR\n",
      "Processing /home/RSNA_MICCAI_Brain_Tumor/data/png/train/00178/FLAIR\n",
      "Processing /home/RSNA_MICCAI_Brain_Tumor/data/png/train/00183/FLAIR\n",
      "Processing /home/RSNA_MICCAI_Brain_Tumor/data/png/train/00184/FLAIR\n",
      "Processing /home/RSNA_MICCAI_Brain_Tumor/data/png/train/00185/FLAIR\n",
      "Processing /home/RSNA_MICCAI_Brain_Tumor/data/png/train/00186/FLAIR\n",
      "Processing /home/RSNA_MICCAI_Brain_Tumor/data/png/train/00187/FLAIR\n",
      "Processing /home/RSNA_MICCAI_Brain_Tumor/data/png/train/00188/FLAIR\n",
      "Processing /home/RSNA_MICCAI_Brain_Tumor/data/png/train/00191/FLAIR\n",
      "Processing /home/RSNA_MICCAI_Brain_Tumor/data/png/train/00192/FLAIR\n",
      "Processing /home/RSNA_MICCAI_Brain_Tumor/data/png/train/00193/FLAIR\n",
      "Processing /home/RSNA_MICCAI_Brain_Tumor/data/png/train/00194/FLAIR\n",
      "Processing /home/RSNA_MICCAI_Brain_Tumor/data/png/train/00195/FLAIR\n",
      "Processing /home/RSNA_MICCAI_Brain_Tumor/data/png/train/00196/FLAIR\n",
      "Processing /home/RSNA_MICCAI_Brain_Tumor/data/png/train/00197/FLAIR\n",
      "Processing /home/RSNA_MICCAI_Brain_Tumor/data/png/train/00199/FLAIR\n",
      "Processing /home/RSNA_MICCAI_Brain_Tumor/data/png/train/00201/FLAIR\n",
      "Processing /home/RSNA_MICCAI_Brain_Tumor/data/png/train/00203/FLAIR\n",
      "Processing /home/RSNA_MICCAI_Brain_Tumor/data/png/train/00204/FLAIR\n",
      "Processing /home/RSNA_MICCAI_Brain_Tumor/data/png/train/00206/FLAIR\n",
      "Processing /home/RSNA_MICCAI_Brain_Tumor/data/png/train/00209/FLAIR\n",
      "Processing /home/RSNA_MICCAI_Brain_Tumor/data/png/train/00210/FLAIR\n",
      "Processing /home/RSNA_MICCAI_Brain_Tumor/data/png/train/00211/FLAIR\n",
      "Processing /home/RSNA_MICCAI_Brain_Tumor/data/png/train/00212/FLAIR\n",
      "Processing /home/RSNA_MICCAI_Brain_Tumor/data/png/train/00214/FLAIR\n",
      "Processing /home/RSNA_MICCAI_Brain_Tumor/data/png/train/00216/FLAIR\n",
      "Processing /home/RSNA_MICCAI_Brain_Tumor/data/png/train/00217/FLAIR\n",
      "Processing /home/RSNA_MICCAI_Brain_Tumor/data/png/train/00218/FLAIR\n",
      "Processing /home/RSNA_MICCAI_Brain_Tumor/data/png/train/00219/FLAIR\n",
      "Processing /home/RSNA_MICCAI_Brain_Tumor/data/png/train/00220/FLAIR\n",
      "Processing /home/RSNA_MICCAI_Brain_Tumor/data/png/train/00221/FLAIR\n",
      "Processing /home/RSNA_MICCAI_Brain_Tumor/data/png/train/00222/FLAIR\n",
      "Processing /home/RSNA_MICCAI_Brain_Tumor/data/png/train/00227/FLAIR\n",
      "Processing /home/RSNA_MICCAI_Brain_Tumor/data/png/train/00228/FLAIR\n",
      "Processing /home/RSNA_MICCAI_Brain_Tumor/data/png/train/00230/FLAIR\n",
      "Processing /home/RSNA_MICCAI_Brain_Tumor/data/png/train/00231/FLAIR\n",
      "Processing /home/RSNA_MICCAI_Brain_Tumor/data/png/train/00233/FLAIR\n",
      "Processing /home/RSNA_MICCAI_Brain_Tumor/data/png/train/00234/FLAIR\n",
      "Processing /home/RSNA_MICCAI_Brain_Tumor/data/png/train/00235/FLAIR\n",
      "Processing /home/RSNA_MICCAI_Brain_Tumor/data/png/train/00236/FLAIR\n",
      "Processing /home/RSNA_MICCAI_Brain_Tumor/data/png/train/00237/FLAIR\n",
      "Processing /home/RSNA_MICCAI_Brain_Tumor/data/png/train/00238/FLAIR\n",
      "Processing /home/RSNA_MICCAI_Brain_Tumor/data/png/train/00239/FLAIR\n",
      "Processing /home/RSNA_MICCAI_Brain_Tumor/data/png/train/00240/FLAIR\n",
      "Processing /home/RSNA_MICCAI_Brain_Tumor/data/png/train/00241/FLAIR\n",
      "Processing /home/RSNA_MICCAI_Brain_Tumor/data/png/train/00242/FLAIR\n",
      "Processing /home/RSNA_MICCAI_Brain_Tumor/data/png/train/00243/FLAIR\n",
      "Processing /home/RSNA_MICCAI_Brain_Tumor/data/png/train/00245/FLAIR\n",
      "Processing /home/RSNA_MICCAI_Brain_Tumor/data/png/train/00246/FLAIR\n",
      "Processing /home/RSNA_MICCAI_Brain_Tumor/data/png/train/00247/FLAIR\n",
      "Processing /home/RSNA_MICCAI_Brain_Tumor/data/png/train/00249/FLAIR\n",
      "Processing /home/RSNA_MICCAI_Brain_Tumor/data/png/train/00250/FLAIR\n",
      "Processing /home/RSNA_MICCAI_Brain_Tumor/data/png/train/00251/FLAIR\n",
      "Processing /home/RSNA_MICCAI_Brain_Tumor/data/png/train/00253/FLAIR\n",
      "Processing /home/RSNA_MICCAI_Brain_Tumor/data/png/train/00254/FLAIR\n",
      "Processing /home/RSNA_MICCAI_Brain_Tumor/data/png/train/00258/FLAIR\n",
      "Processing /home/RSNA_MICCAI_Brain_Tumor/data/png/train/00259/FLAIR\n",
      "Processing /home/RSNA_MICCAI_Brain_Tumor/data/png/train/00260/FLAIR\n",
      "Processing /home/RSNA_MICCAI_Brain_Tumor/data/png/train/00261/FLAIR\n",
      "Processing /home/RSNA_MICCAI_Brain_Tumor/data/png/train/00262/FLAIR\n",
      "Processing /home/RSNA_MICCAI_Brain_Tumor/data/png/train/00263/FLAIR\n",
      "Processing /home/RSNA_MICCAI_Brain_Tumor/data/png/train/00266/FLAIR\n",
      "Processing /home/RSNA_MICCAI_Brain_Tumor/data/png/train/00267/FLAIR\n",
      "Processing /home/RSNA_MICCAI_Brain_Tumor/data/png/train/00269/FLAIR\n",
      "Processing /home/RSNA_MICCAI_Brain_Tumor/data/png/train/00270/FLAIR\n",
      "Processing /home/RSNA_MICCAI_Brain_Tumor/data/png/train/00271/FLAIR\n",
      "Processing /home/RSNA_MICCAI_Brain_Tumor/data/png/train/00273/FLAIR\n",
      "Processing /home/RSNA_MICCAI_Brain_Tumor/data/png/train/00274/FLAIR\n",
      "Processing /home/RSNA_MICCAI_Brain_Tumor/data/png/train/00275/FLAIR\n",
      "Processing /home/RSNA_MICCAI_Brain_Tumor/data/png/train/00280/FLAIR\n",
      "Processing /home/RSNA_MICCAI_Brain_Tumor/data/png/train/00281/FLAIR\n",
      "Processing /home/RSNA_MICCAI_Brain_Tumor/data/png/train/00282/FLAIR\n",
      "Processing /home/RSNA_MICCAI_Brain_Tumor/data/png/train/00283/FLAIR\n",
      "Processing /home/RSNA_MICCAI_Brain_Tumor/data/png/train/00284/FLAIR\n",
      "Processing /home/RSNA_MICCAI_Brain_Tumor/data/png/train/00285/FLAIR\n",
      "Processing /home/RSNA_MICCAI_Brain_Tumor/data/png/train/00286/FLAIR\n",
      "Processing /home/RSNA_MICCAI_Brain_Tumor/data/png/train/00288/FLAIR\n",
      "Processing /home/RSNA_MICCAI_Brain_Tumor/data/png/train/00289/FLAIR\n",
      "Processing /home/RSNA_MICCAI_Brain_Tumor/data/png/train/00290/FLAIR\n",
      "Processing /home/RSNA_MICCAI_Brain_Tumor/data/png/train/00291/FLAIR\n",
      "Processing /home/RSNA_MICCAI_Brain_Tumor/data/png/train/00293/FLAIR\n",
      "Processing /home/RSNA_MICCAI_Brain_Tumor/data/png/train/00294/FLAIR\n",
      "Processing /home/RSNA_MICCAI_Brain_Tumor/data/png/train/00296/FLAIR\n",
      "Processing /home/RSNA_MICCAI_Brain_Tumor/data/png/train/00297/FLAIR\n",
      "Processing /home/RSNA_MICCAI_Brain_Tumor/data/png/train/00298/FLAIR\n",
      "Processing /home/RSNA_MICCAI_Brain_Tumor/data/png/train/00299/FLAIR\n",
      "Processing /home/RSNA_MICCAI_Brain_Tumor/data/png/train/00300/FLAIR\n",
      "Processing /home/RSNA_MICCAI_Brain_Tumor/data/png/train/00301/FLAIR\n",
      "Processing /home/RSNA_MICCAI_Brain_Tumor/data/png/train/00303/FLAIR\n",
      "Processing /home/RSNA_MICCAI_Brain_Tumor/data/png/train/00304/FLAIR\n",
      "Processing /home/RSNA_MICCAI_Brain_Tumor/data/png/train/00305/FLAIR\n",
      "Processing /home/RSNA_MICCAI_Brain_Tumor/data/png/train/00306/FLAIR\n",
      "Processing /home/RSNA_MICCAI_Brain_Tumor/data/png/train/00308/FLAIR\n",
      "Processing /home/RSNA_MICCAI_Brain_Tumor/data/png/train/00309/FLAIR\n",
      "Processing /home/RSNA_MICCAI_Brain_Tumor/data/png/train/00310/FLAIR\n",
      "Processing /home/RSNA_MICCAI_Brain_Tumor/data/png/train/00311/FLAIR\n",
      "Processing /home/RSNA_MICCAI_Brain_Tumor/data/png/train/00312/FLAIR\n",
      "Processing /home/RSNA_MICCAI_Brain_Tumor/data/png/train/00313/FLAIR\n",
      "Processing /home/RSNA_MICCAI_Brain_Tumor/data/png/train/00314/FLAIR\n",
      "Processing /home/RSNA_MICCAI_Brain_Tumor/data/png/train/00316/FLAIR\n",
      "Processing /home/RSNA_MICCAI_Brain_Tumor/data/png/train/00317/FLAIR\n",
      "Processing /home/RSNA_MICCAI_Brain_Tumor/data/png/train/00318/FLAIR\n",
      "Processing /home/RSNA_MICCAI_Brain_Tumor/data/png/train/00320/FLAIR\n",
      "Processing /home/RSNA_MICCAI_Brain_Tumor/data/png/train/00321/FLAIR\n",
      "Processing /home/RSNA_MICCAI_Brain_Tumor/data/png/train/00322/FLAIR\n",
      "Processing /home/RSNA_MICCAI_Brain_Tumor/data/png/train/00324/FLAIR\n",
      "Processing /home/RSNA_MICCAI_Brain_Tumor/data/png/train/00325/FLAIR\n",
      "Processing /home/RSNA_MICCAI_Brain_Tumor/data/png/train/00327/FLAIR\n",
      "Processing /home/RSNA_MICCAI_Brain_Tumor/data/png/train/00328/FLAIR\n",
      "Processing /home/RSNA_MICCAI_Brain_Tumor/data/png/train/00329/FLAIR\n",
      "Processing /home/RSNA_MICCAI_Brain_Tumor/data/png/train/00331/FLAIR\n",
      "Processing /home/RSNA_MICCAI_Brain_Tumor/data/png/train/00332/FLAIR\n",
      "Processing /home/RSNA_MICCAI_Brain_Tumor/data/png/train/00334/FLAIR\n",
      "Processing /home/RSNA_MICCAI_Brain_Tumor/data/png/train/00336/FLAIR\n",
      "Processing /home/RSNA_MICCAI_Brain_Tumor/data/png/train/00338/FLAIR\n",
      "Processing /home/RSNA_MICCAI_Brain_Tumor/data/png/train/00339/FLAIR\n",
      "Processing /home/RSNA_MICCAI_Brain_Tumor/data/png/train/00340/FLAIR\n",
      "Processing /home/RSNA_MICCAI_Brain_Tumor/data/png/train/00341/FLAIR\n",
      "Processing /home/RSNA_MICCAI_Brain_Tumor/data/png/train/00343/FLAIR\n",
      "Processing /home/RSNA_MICCAI_Brain_Tumor/data/png/train/00344/FLAIR\n",
      "Processing /home/RSNA_MICCAI_Brain_Tumor/data/png/train/00346/FLAIR\n",
      "Processing /home/RSNA_MICCAI_Brain_Tumor/data/png/train/00347/FLAIR\n",
      "Processing /home/RSNA_MICCAI_Brain_Tumor/data/png/train/00348/FLAIR\n",
      "Processing /home/RSNA_MICCAI_Brain_Tumor/data/png/train/00349/FLAIR\n",
      "Processing /home/RSNA_MICCAI_Brain_Tumor/data/png/train/00350/FLAIR\n",
      "Processing /home/RSNA_MICCAI_Brain_Tumor/data/png/train/00351/FLAIR\n",
      "Processing /home/RSNA_MICCAI_Brain_Tumor/data/png/train/00352/FLAIR\n",
      "Processing /home/RSNA_MICCAI_Brain_Tumor/data/png/train/00353/FLAIR\n",
      "Processing /home/RSNA_MICCAI_Brain_Tumor/data/png/train/00356/FLAIR\n",
      "Processing /home/RSNA_MICCAI_Brain_Tumor/data/png/train/00359/FLAIR\n",
      "Min conversion 10\n",
      "Processing /home/RSNA_MICCAI_Brain_Tumor/data/png/train/00360/FLAIR\n",
      "Processing /home/RSNA_MICCAI_Brain_Tumor/data/png/train/00364/FLAIR\n",
      "Processing /home/RSNA_MICCAI_Brain_Tumor/data/png/train/00366/FLAIR\n",
      "Processing /home/RSNA_MICCAI_Brain_Tumor/data/png/train/00367/FLAIR\n",
      "Processing /home/RSNA_MICCAI_Brain_Tumor/data/png/train/00369/FLAIR\n",
      "Processing /home/RSNA_MICCAI_Brain_Tumor/data/png/train/00370/FLAIR\n",
      "Processing /home/RSNA_MICCAI_Brain_Tumor/data/png/train/00371/FLAIR\n",
      "Processing /home/RSNA_MICCAI_Brain_Tumor/data/png/train/00373/FLAIR\n",
      "Processing /home/RSNA_MICCAI_Brain_Tumor/data/png/train/00376/FLAIR\n",
      "Processing /home/RSNA_MICCAI_Brain_Tumor/data/png/train/00377/FLAIR\n",
      "Processing /home/RSNA_MICCAI_Brain_Tumor/data/png/train/00378/FLAIR\n",
      "Processing /home/RSNA_MICCAI_Brain_Tumor/data/png/train/00379/FLAIR\n",
      "Processing /home/RSNA_MICCAI_Brain_Tumor/data/png/train/00380/FLAIR\n",
      "Processing /home/RSNA_MICCAI_Brain_Tumor/data/png/train/00382/FLAIR\n",
      "Processing /home/RSNA_MICCAI_Brain_Tumor/data/png/train/00383/FLAIR\n",
      "Processing /home/RSNA_MICCAI_Brain_Tumor/data/png/train/00386/FLAIR\n",
      "Processing /home/RSNA_MICCAI_Brain_Tumor/data/png/train/00387/FLAIR\n",
      "Processing /home/RSNA_MICCAI_Brain_Tumor/data/png/train/00388/FLAIR\n",
      "Processing /home/RSNA_MICCAI_Brain_Tumor/data/png/train/00389/FLAIR\n",
      "Processing /home/RSNA_MICCAI_Brain_Tumor/data/png/train/00390/FLAIR\n",
      "Processing /home/RSNA_MICCAI_Brain_Tumor/data/png/train/00391/FLAIR\n",
      "Processing /home/RSNA_MICCAI_Brain_Tumor/data/png/train/00392/FLAIR\n",
      "Processing /home/RSNA_MICCAI_Brain_Tumor/data/png/train/00395/FLAIR\n",
      "Processing /home/RSNA_MICCAI_Brain_Tumor/data/png/train/00397/FLAIR\n",
      "Processing /home/RSNA_MICCAI_Brain_Tumor/data/png/train/00399/FLAIR\n",
      "Processing /home/RSNA_MICCAI_Brain_Tumor/data/png/train/00400/FLAIR\n",
      "Processing /home/RSNA_MICCAI_Brain_Tumor/data/png/train/00401/FLAIR\n",
      "Processing /home/RSNA_MICCAI_Brain_Tumor/data/png/train/00402/FLAIR\n",
      "Processing /home/RSNA_MICCAI_Brain_Tumor/data/png/train/00403/FLAIR\n",
      "Processing /home/RSNA_MICCAI_Brain_Tumor/data/png/train/00404/FLAIR\n",
      "Processing /home/RSNA_MICCAI_Brain_Tumor/data/png/train/00405/FLAIR\n",
      "Processing /home/RSNA_MICCAI_Brain_Tumor/data/png/train/00406/FLAIR\n",
      "Processing /home/RSNA_MICCAI_Brain_Tumor/data/png/train/00407/FLAIR\n",
      "Processing /home/RSNA_MICCAI_Brain_Tumor/data/png/train/00408/FLAIR\n",
      "Processing /home/RSNA_MICCAI_Brain_Tumor/data/png/train/00409/FLAIR\n",
      "Processing /home/RSNA_MICCAI_Brain_Tumor/data/png/train/00410/FLAIR\n",
      "Processing /home/RSNA_MICCAI_Brain_Tumor/data/png/train/00412/FLAIR\n",
      "Processing /home/RSNA_MICCAI_Brain_Tumor/data/png/train/00413/FLAIR\n",
      "Processing /home/RSNA_MICCAI_Brain_Tumor/data/png/train/00414/FLAIR\n",
      "Processing /home/RSNA_MICCAI_Brain_Tumor/data/png/train/00416/FLAIR\n",
      "Processing /home/RSNA_MICCAI_Brain_Tumor/data/png/train/00417/FLAIR\n",
      "Processing /home/RSNA_MICCAI_Brain_Tumor/data/png/train/00418/FLAIR\n",
      "Processing /home/RSNA_MICCAI_Brain_Tumor/data/png/train/00419/FLAIR\n",
      "Processing /home/RSNA_MICCAI_Brain_Tumor/data/png/train/00421/FLAIR\n",
      "Processing /home/RSNA_MICCAI_Brain_Tumor/data/png/train/00423/FLAIR\n",
      "Processing /home/RSNA_MICCAI_Brain_Tumor/data/png/train/00425/FLAIR\n",
      "Processing /home/RSNA_MICCAI_Brain_Tumor/data/png/train/00426/FLAIR\n",
      "Processing /home/RSNA_MICCAI_Brain_Tumor/data/png/train/00429/FLAIR\n",
      "Processing /home/RSNA_MICCAI_Brain_Tumor/data/png/train/00430/FLAIR\n",
      "Processing /home/RSNA_MICCAI_Brain_Tumor/data/png/train/00431/FLAIR\n",
      "Processing /home/RSNA_MICCAI_Brain_Tumor/data/png/train/00432/FLAIR\n",
      "Processing /home/RSNA_MICCAI_Brain_Tumor/data/png/train/00433/FLAIR\n",
      "Processing /home/RSNA_MICCAI_Brain_Tumor/data/png/train/00436/FLAIR\n",
      "Processing /home/RSNA_MICCAI_Brain_Tumor/data/png/train/00440/FLAIR\n",
      "Processing /home/RSNA_MICCAI_Brain_Tumor/data/png/train/00441/FLAIR\n",
      "Processing /home/RSNA_MICCAI_Brain_Tumor/data/png/train/00442/FLAIR\n",
      "Processing /home/RSNA_MICCAI_Brain_Tumor/data/png/train/00443/FLAIR\n",
      "Processing /home/RSNA_MICCAI_Brain_Tumor/data/png/train/00444/FLAIR\n",
      "Processing /home/RSNA_MICCAI_Brain_Tumor/data/png/train/00445/FLAIR\n",
      "Processing /home/RSNA_MICCAI_Brain_Tumor/data/png/train/00446/FLAIR\n",
      "Processing /home/RSNA_MICCAI_Brain_Tumor/data/png/train/00449/FLAIR\n",
      "Processing /home/RSNA_MICCAI_Brain_Tumor/data/png/train/00451/FLAIR\n",
      "Processing /home/RSNA_MICCAI_Brain_Tumor/data/png/train/00452/FLAIR\n",
      "Processing /home/RSNA_MICCAI_Brain_Tumor/data/png/train/00454/FLAIR\n",
      "Processing /home/RSNA_MICCAI_Brain_Tumor/data/png/train/00455/FLAIR\n",
      "Processing /home/RSNA_MICCAI_Brain_Tumor/data/png/train/00456/FLAIR\n",
      "Processing /home/RSNA_MICCAI_Brain_Tumor/data/png/train/00457/FLAIR\n",
      "Processing /home/RSNA_MICCAI_Brain_Tumor/data/png/train/00459/FLAIR\n",
      "Processing /home/RSNA_MICCAI_Brain_Tumor/data/png/train/00464/FLAIR\n",
      "Processing /home/RSNA_MICCAI_Brain_Tumor/data/png/train/00466/FLAIR\n",
      "Processing /home/RSNA_MICCAI_Brain_Tumor/data/png/train/00468/FLAIR\n",
      "Processing /home/RSNA_MICCAI_Brain_Tumor/data/png/train/00469/FLAIR\n",
      "Processing /home/RSNA_MICCAI_Brain_Tumor/data/png/train/00470/FLAIR\n",
      "Processing /home/RSNA_MICCAI_Brain_Tumor/data/png/train/00472/FLAIR\n",
      "Processing /home/RSNA_MICCAI_Brain_Tumor/data/png/train/00477/FLAIR\n",
      "Processing /home/RSNA_MICCAI_Brain_Tumor/data/png/train/00478/FLAIR\n",
      "Processing /home/RSNA_MICCAI_Brain_Tumor/data/png/train/00479/FLAIR\n",
      "Processing /home/RSNA_MICCAI_Brain_Tumor/data/png/train/00480/FLAIR\n",
      "Processing /home/RSNA_MICCAI_Brain_Tumor/data/png/train/00481/FLAIR\n",
      "Processing /home/RSNA_MICCAI_Brain_Tumor/data/png/train/00483/FLAIR\n",
      "Processing /home/RSNA_MICCAI_Brain_Tumor/data/png/train/00485/FLAIR\n",
      "Processing /home/RSNA_MICCAI_Brain_Tumor/data/png/train/00488/FLAIR\n",
      "Processing /home/RSNA_MICCAI_Brain_Tumor/data/png/train/00491/FLAIR\n",
      "Processing /home/RSNA_MICCAI_Brain_Tumor/data/png/train/00493/FLAIR\n",
      "Processing /home/RSNA_MICCAI_Brain_Tumor/data/png/train/00494/FLAIR\n",
      "Processing /home/RSNA_MICCAI_Brain_Tumor/data/png/train/00495/FLAIR\n",
      "Processing /home/RSNA_MICCAI_Brain_Tumor/data/png/train/00496/FLAIR\n",
      "Processing /home/RSNA_MICCAI_Brain_Tumor/data/png/train/00498/FLAIR\n",
      "Processing /home/RSNA_MICCAI_Brain_Tumor/data/png/train/00499/FLAIR\n",
      "Processing /home/RSNA_MICCAI_Brain_Tumor/data/png/train/00500/FLAIR\n",
      "Processing /home/RSNA_MICCAI_Brain_Tumor/data/png/train/00501/FLAIR\n",
      "Processing /home/RSNA_MICCAI_Brain_Tumor/data/png/train/00502/FLAIR\n",
      "Processing /home/RSNA_MICCAI_Brain_Tumor/data/png/train/00504/FLAIR\n",
      "Processing /home/RSNA_MICCAI_Brain_Tumor/data/png/train/00505/FLAIR\n",
      "Processing /home/RSNA_MICCAI_Brain_Tumor/data/png/train/00506/FLAIR\n",
      "Processing /home/RSNA_MICCAI_Brain_Tumor/data/png/train/00507/FLAIR\n",
      "Processing /home/RSNA_MICCAI_Brain_Tumor/data/png/train/00510/FLAIR\n",
      "Processing /home/RSNA_MICCAI_Brain_Tumor/data/png/train/00511/FLAIR\n",
      "Processing /home/RSNA_MICCAI_Brain_Tumor/data/png/train/00512/FLAIR\n",
      "Processing /home/RSNA_MICCAI_Brain_Tumor/data/png/train/00513/FLAIR\n",
      "Processing /home/RSNA_MICCAI_Brain_Tumor/data/png/train/00514/FLAIR\n",
      "Processing /home/RSNA_MICCAI_Brain_Tumor/data/png/train/00516/FLAIR\n",
      "Processing /home/RSNA_MICCAI_Brain_Tumor/data/png/train/00517/FLAIR\n",
      "Processing /home/RSNA_MICCAI_Brain_Tumor/data/png/train/00518/FLAIR\n",
      "Processing /home/RSNA_MICCAI_Brain_Tumor/data/png/train/00519/FLAIR\n",
      "Processing /home/RSNA_MICCAI_Brain_Tumor/data/png/train/00520/FLAIR\n",
      "Processing /home/RSNA_MICCAI_Brain_Tumor/data/png/train/00523/FLAIR\n",
      "Processing /home/RSNA_MICCAI_Brain_Tumor/data/png/train/00524/FLAIR\n",
      "Processing /home/RSNA_MICCAI_Brain_Tumor/data/png/train/00525/FLAIR\n",
      "Processing /home/RSNA_MICCAI_Brain_Tumor/data/png/train/00526/FLAIR\n",
      "Processing /home/RSNA_MICCAI_Brain_Tumor/data/png/train/00528/FLAIR\n",
      "Processing /home/RSNA_MICCAI_Brain_Tumor/data/png/train/00529/FLAIR\n",
      "Processing /home/RSNA_MICCAI_Brain_Tumor/data/png/train/00530/FLAIR\n",
      "Processing /home/RSNA_MICCAI_Brain_Tumor/data/png/train/00532/FLAIR\n",
      "Processing /home/RSNA_MICCAI_Brain_Tumor/data/png/train/00533/FLAIR\n",
      "Processing /home/RSNA_MICCAI_Brain_Tumor/data/png/train/00537/FLAIR\n",
      "Processing /home/RSNA_MICCAI_Brain_Tumor/data/png/train/00538/FLAIR\n",
      "Processing /home/RSNA_MICCAI_Brain_Tumor/data/png/train/00539/FLAIR\n",
      "Processing /home/RSNA_MICCAI_Brain_Tumor/data/png/train/00540/FLAIR\n",
      "Processing /home/RSNA_MICCAI_Brain_Tumor/data/png/train/00542/FLAIR\n",
      "Processing /home/RSNA_MICCAI_Brain_Tumor/data/png/train/00543/FLAIR\n",
      "Processing /home/RSNA_MICCAI_Brain_Tumor/data/png/train/00544/FLAIR\n",
      "Processing /home/RSNA_MICCAI_Brain_Tumor/data/png/train/00545/FLAIR\n",
      "Processing /home/RSNA_MICCAI_Brain_Tumor/data/png/train/00547/FLAIR\n",
      "Processing /home/RSNA_MICCAI_Brain_Tumor/data/png/train/00548/FLAIR\n",
      "Processing /home/RSNA_MICCAI_Brain_Tumor/data/png/train/00549/FLAIR\n",
      "Processing /home/RSNA_MICCAI_Brain_Tumor/data/png/train/00550/FLAIR\n",
      "Processing /home/RSNA_MICCAI_Brain_Tumor/data/png/train/00551/FLAIR\n",
      "Processing /home/RSNA_MICCAI_Brain_Tumor/data/png/train/00552/FLAIR\n",
      "Processing /home/RSNA_MICCAI_Brain_Tumor/data/png/train/00554/FLAIR\n",
      "Processing /home/RSNA_MICCAI_Brain_Tumor/data/png/train/00555/FLAIR\n",
      "Processing /home/RSNA_MICCAI_Brain_Tumor/data/png/train/00556/FLAIR\n",
      "Processing /home/RSNA_MICCAI_Brain_Tumor/data/png/train/00557/FLAIR\n",
      "Processing /home/RSNA_MICCAI_Brain_Tumor/data/png/train/00558/FLAIR\n",
      "Processing /home/RSNA_MICCAI_Brain_Tumor/data/png/train/00559/FLAIR\n",
      "Processing /home/RSNA_MICCAI_Brain_Tumor/data/png/train/00561/FLAIR\n",
      "Processing /home/RSNA_MICCAI_Brain_Tumor/data/png/train/00563/FLAIR\n",
      "Processing /home/RSNA_MICCAI_Brain_Tumor/data/png/train/00564/FLAIR\n",
      "Processing /home/RSNA_MICCAI_Brain_Tumor/data/png/train/00565/FLAIR\n",
      "Processing /home/RSNA_MICCAI_Brain_Tumor/data/png/train/00567/FLAIR\n",
      "Processing /home/RSNA_MICCAI_Brain_Tumor/data/png/train/00568/FLAIR\n",
      "Processing /home/RSNA_MICCAI_Brain_Tumor/data/png/train/00569/FLAIR\n",
      "Processing /home/RSNA_MICCAI_Brain_Tumor/data/png/train/00570/FLAIR\n",
      "Processing /home/RSNA_MICCAI_Brain_Tumor/data/png/train/00571/FLAIR\n",
      "Processing /home/RSNA_MICCAI_Brain_Tumor/data/png/train/00572/FLAIR\n",
      "Processing /home/RSNA_MICCAI_Brain_Tumor/data/png/train/00574/FLAIR\n",
      "Processing /home/RSNA_MICCAI_Brain_Tumor/data/png/train/00575/FLAIR\n",
      "Processing /home/RSNA_MICCAI_Brain_Tumor/data/png/train/00576/FLAIR\n",
      "Processing /home/RSNA_MICCAI_Brain_Tumor/data/png/train/00577/FLAIR\n",
      "Processing /home/RSNA_MICCAI_Brain_Tumor/data/png/train/00578/FLAIR\n",
      "Processing /home/RSNA_MICCAI_Brain_Tumor/data/png/train/00579/FLAIR\n",
      "Processing /home/RSNA_MICCAI_Brain_Tumor/data/png/train/00581/FLAIR\n",
      "Processing /home/RSNA_MICCAI_Brain_Tumor/data/png/train/00582/FLAIR\n",
      "Processing /home/RSNA_MICCAI_Brain_Tumor/data/png/train/00583/FLAIR\n",
      "Processing /home/RSNA_MICCAI_Brain_Tumor/data/png/train/00584/FLAIR\n",
      "Processing /home/RSNA_MICCAI_Brain_Tumor/data/png/train/00586/FLAIR\n",
      "Processing /home/RSNA_MICCAI_Brain_Tumor/data/png/train/00587/FLAIR\n",
      "Processing /home/RSNA_MICCAI_Brain_Tumor/data/png/train/00588/FLAIR\n",
      "Processing /home/RSNA_MICCAI_Brain_Tumor/data/png/train/00589/FLAIR\n",
      "Processing /home/RSNA_MICCAI_Brain_Tumor/data/png/train/00590/FLAIR\n",
      "Processing /home/RSNA_MICCAI_Brain_Tumor/data/png/train/00591/FLAIR\n",
      "Processing /home/RSNA_MICCAI_Brain_Tumor/data/png/train/00593/FLAIR\n",
      "Processing /home/RSNA_MICCAI_Brain_Tumor/data/png/train/00594/FLAIR\n",
      "Processing /home/RSNA_MICCAI_Brain_Tumor/data/png/train/00596/FLAIR\n",
      "Processing /home/RSNA_MICCAI_Brain_Tumor/data/png/train/00597/FLAIR\n",
      "Processing /home/RSNA_MICCAI_Brain_Tumor/data/png/train/00598/FLAIR\n",
      "Processing /home/RSNA_MICCAI_Brain_Tumor/data/png/train/00599/FLAIR\n",
      "Processing /home/RSNA_MICCAI_Brain_Tumor/data/png/train/00601/FLAIR\n",
      "Processing /home/RSNA_MICCAI_Brain_Tumor/data/png/train/00602/FLAIR\n",
      "Processing /home/RSNA_MICCAI_Brain_Tumor/data/png/train/00604/FLAIR\n",
      "Processing /home/RSNA_MICCAI_Brain_Tumor/data/png/train/00605/FLAIR\n",
      "Processing /home/RSNA_MICCAI_Brain_Tumor/data/png/train/00606/FLAIR\n",
      "Processing /home/RSNA_MICCAI_Brain_Tumor/data/png/train/00607/FLAIR\n",
      "Processing /home/RSNA_MICCAI_Brain_Tumor/data/png/train/00608/FLAIR\n",
      "Processing /home/RSNA_MICCAI_Brain_Tumor/data/png/train/00610/FLAIR\n",
      "Processing /home/RSNA_MICCAI_Brain_Tumor/data/png/train/00611/FLAIR\n",
      "Processing /home/RSNA_MICCAI_Brain_Tumor/data/png/train/00612/FLAIR\n",
      "Processing /home/RSNA_MICCAI_Brain_Tumor/data/png/train/00613/FLAIR\n",
      "Processing /home/RSNA_MICCAI_Brain_Tumor/data/png/train/00615/FLAIR\n",
      "Processing /home/RSNA_MICCAI_Brain_Tumor/data/png/train/00616/FLAIR\n",
      "Processing /home/RSNA_MICCAI_Brain_Tumor/data/png/train/00618/FLAIR\n",
      "Processing /home/RSNA_MICCAI_Brain_Tumor/data/png/train/00619/FLAIR\n",
      "Processing /home/RSNA_MICCAI_Brain_Tumor/data/png/train/00620/FLAIR\n",
      "Processing /home/RSNA_MICCAI_Brain_Tumor/data/png/train/00621/FLAIR\n",
      "Processing /home/RSNA_MICCAI_Brain_Tumor/data/png/train/00622/FLAIR\n",
      "Processing /home/RSNA_MICCAI_Brain_Tumor/data/png/train/00623/FLAIR\n",
      "Processing /home/RSNA_MICCAI_Brain_Tumor/data/png/train/00624/FLAIR\n",
      "Processing /home/RSNA_MICCAI_Brain_Tumor/data/png/train/00625/FLAIR\n",
      "Processing /home/RSNA_MICCAI_Brain_Tumor/data/png/train/00626/FLAIR\n",
      "Processing /home/RSNA_MICCAI_Brain_Tumor/data/png/train/00628/FLAIR\n",
      "Processing /home/RSNA_MICCAI_Brain_Tumor/data/png/train/00630/FLAIR\n",
      "Processing /home/RSNA_MICCAI_Brain_Tumor/data/png/train/00631/FLAIR\n",
      "Processing /home/RSNA_MICCAI_Brain_Tumor/data/png/train/00636/FLAIR\n",
      "Processing /home/RSNA_MICCAI_Brain_Tumor/data/png/train/00638/FLAIR\n",
      "Processing /home/RSNA_MICCAI_Brain_Tumor/data/png/train/00639/FLAIR\n",
      "Processing /home/RSNA_MICCAI_Brain_Tumor/data/png/train/00640/FLAIR\n",
      "Processing /home/RSNA_MICCAI_Brain_Tumor/data/png/train/00641/FLAIR\n",
      "Processing /home/RSNA_MICCAI_Brain_Tumor/data/png/train/00642/FLAIR\n",
      "Processing /home/RSNA_MICCAI_Brain_Tumor/data/png/train/00645/FLAIR\n",
      "Processing /home/RSNA_MICCAI_Brain_Tumor/data/png/train/00646/FLAIR\n",
      "Processing /home/RSNA_MICCAI_Brain_Tumor/data/png/train/00649/FLAIR\n",
      "Processing /home/RSNA_MICCAI_Brain_Tumor/data/png/train/00650/FLAIR\n",
      "Processing /home/RSNA_MICCAI_Brain_Tumor/data/png/train/00651/FLAIR\n",
      "Processing /home/RSNA_MICCAI_Brain_Tumor/data/png/train/00652/FLAIR\n",
      "Processing /home/RSNA_MICCAI_Brain_Tumor/data/png/train/00654/FLAIR\n",
      "Processing /home/RSNA_MICCAI_Brain_Tumor/data/png/train/00655/FLAIR\n",
      "Processing /home/RSNA_MICCAI_Brain_Tumor/data/png/train/00656/FLAIR\n",
      "Processing /home/RSNA_MICCAI_Brain_Tumor/data/png/train/00657/FLAIR\n",
      "Processing /home/RSNA_MICCAI_Brain_Tumor/data/png/train/00658/FLAIR\n",
      "Processing /home/RSNA_MICCAI_Brain_Tumor/data/png/train/00659/FLAIR\n",
      "Processing /home/RSNA_MICCAI_Brain_Tumor/data/png/train/00661/FLAIR\n",
      "Processing /home/RSNA_MICCAI_Brain_Tumor/data/png/train/00663/FLAIR\n",
      "Processing /home/RSNA_MICCAI_Brain_Tumor/data/png/train/00667/FLAIR\n",
      "Processing /home/RSNA_MICCAI_Brain_Tumor/data/png/train/00668/FLAIR\n",
      "Processing /home/RSNA_MICCAI_Brain_Tumor/data/png/train/00674/FLAIR\n",
      "Processing /home/RSNA_MICCAI_Brain_Tumor/data/png/train/00675/FLAIR\n",
      "Processing /home/RSNA_MICCAI_Brain_Tumor/data/png/train/00676/FLAIR\n",
      "Processing /home/RSNA_MICCAI_Brain_Tumor/data/png/train/00677/FLAIR\n",
      "Processing /home/RSNA_MICCAI_Brain_Tumor/data/png/train/00679/FLAIR\n",
      "Processing /home/RSNA_MICCAI_Brain_Tumor/data/png/train/00680/FLAIR\n",
      "Processing /home/RSNA_MICCAI_Brain_Tumor/data/png/train/00682/FLAIR\n",
      "Processing /home/RSNA_MICCAI_Brain_Tumor/data/png/train/00683/FLAIR\n",
      "Processing /home/RSNA_MICCAI_Brain_Tumor/data/png/train/00684/FLAIR\n",
      "Processing /home/RSNA_MICCAI_Brain_Tumor/data/png/train/00685/FLAIR\n",
      "Processing /home/RSNA_MICCAI_Brain_Tumor/data/png/train/00686/FLAIR\n",
      "Processing /home/RSNA_MICCAI_Brain_Tumor/data/png/train/00687/FLAIR\n",
      "Processing /home/RSNA_MICCAI_Brain_Tumor/data/png/train/00688/FLAIR\n",
      "Processing /home/RSNA_MICCAI_Brain_Tumor/data/png/train/00690/FLAIR\n",
      "Processing /home/RSNA_MICCAI_Brain_Tumor/data/png/train/00691/FLAIR\n",
      "Processing /home/RSNA_MICCAI_Brain_Tumor/data/png/train/00692/FLAIR\n",
      "Processing /home/RSNA_MICCAI_Brain_Tumor/data/png/train/00693/FLAIR\n",
      "Processing /home/RSNA_MICCAI_Brain_Tumor/data/png/train/00694/FLAIR\n",
      "Processing /home/RSNA_MICCAI_Brain_Tumor/data/png/train/00697/FLAIR\n",
      "Processing /home/RSNA_MICCAI_Brain_Tumor/data/png/train/00698/FLAIR\n",
      "Processing /home/RSNA_MICCAI_Brain_Tumor/data/png/train/00703/FLAIR\n",
      "Processing /home/RSNA_MICCAI_Brain_Tumor/data/png/train/00704/FLAIR\n",
      "Processing /home/RSNA_MICCAI_Brain_Tumor/data/png/train/00705/FLAIR\n",
      "Processing /home/RSNA_MICCAI_Brain_Tumor/data/png/train/00706/FLAIR\n",
      "Processing /home/RSNA_MICCAI_Brain_Tumor/data/png/train/00707/FLAIR\n",
      "Processing /home/RSNA_MICCAI_Brain_Tumor/data/png/train/00708/FLAIR\n",
      "Processing /home/RSNA_MICCAI_Brain_Tumor/data/png/train/00714/FLAIR\n",
      "Processing /home/RSNA_MICCAI_Brain_Tumor/data/png/train/00715/FLAIR\n",
      "Processing /home/RSNA_MICCAI_Brain_Tumor/data/png/train/00716/FLAIR\n",
      "Processing /home/RSNA_MICCAI_Brain_Tumor/data/png/train/00718/FLAIR\n",
      "Processing /home/RSNA_MICCAI_Brain_Tumor/data/png/train/00723/FLAIR\n",
      "Processing /home/RSNA_MICCAI_Brain_Tumor/data/png/train/00724/FLAIR\n",
      "Processing /home/RSNA_MICCAI_Brain_Tumor/data/png/train/00725/FLAIR\n",
      "Processing /home/RSNA_MICCAI_Brain_Tumor/data/png/train/00727/FLAIR\n",
      "Processing /home/RSNA_MICCAI_Brain_Tumor/data/png/train/00728/FLAIR\n",
      "Processing /home/RSNA_MICCAI_Brain_Tumor/data/png/train/00729/FLAIR\n",
      "Processing /home/RSNA_MICCAI_Brain_Tumor/data/png/train/00730/FLAIR\n",
      "Processing /home/RSNA_MICCAI_Brain_Tumor/data/png/train/00731/FLAIR\n",
      "Processing /home/RSNA_MICCAI_Brain_Tumor/data/png/train/00732/FLAIR\n",
      "Processing /home/RSNA_MICCAI_Brain_Tumor/data/png/train/00733/FLAIR\n",
      "Processing /home/RSNA_MICCAI_Brain_Tumor/data/png/train/00734/FLAIR\n",
      "Processing /home/RSNA_MICCAI_Brain_Tumor/data/png/train/00735/FLAIR\n",
      "Processing /home/RSNA_MICCAI_Brain_Tumor/data/png/train/00736/FLAIR\n",
      "Processing /home/RSNA_MICCAI_Brain_Tumor/data/png/train/00737/FLAIR\n",
      "Processing /home/RSNA_MICCAI_Brain_Tumor/data/png/train/00739/FLAIR\n",
      "Processing /home/RSNA_MICCAI_Brain_Tumor/data/png/train/00740/FLAIR\n",
      "Processing /home/RSNA_MICCAI_Brain_Tumor/data/png/train/00742/FLAIR\n",
      "Processing /home/RSNA_MICCAI_Brain_Tumor/data/png/train/00744/FLAIR\n",
      "Processing /home/RSNA_MICCAI_Brain_Tumor/data/png/train/00746/FLAIR\n",
      "Processing /home/RSNA_MICCAI_Brain_Tumor/data/png/train/00747/FLAIR\n",
      "Processing /home/RSNA_MICCAI_Brain_Tumor/data/png/train/00750/FLAIR\n",
      "Processing /home/RSNA_MICCAI_Brain_Tumor/data/png/train/00751/FLAIR\n",
      "Processing /home/RSNA_MICCAI_Brain_Tumor/data/png/train/00753/FLAIR\n",
      "Processing /home/RSNA_MICCAI_Brain_Tumor/data/png/train/00756/FLAIR\n",
      "Processing /home/RSNA_MICCAI_Brain_Tumor/data/png/train/00757/FLAIR\n",
      "Processing /home/RSNA_MICCAI_Brain_Tumor/data/png/train/00758/FLAIR\n",
      "Processing /home/RSNA_MICCAI_Brain_Tumor/data/png/train/00759/FLAIR\n",
      "Processing /home/RSNA_MICCAI_Brain_Tumor/data/png/train/00760/FLAIR\n",
      "Processing /home/RSNA_MICCAI_Brain_Tumor/data/png/train/00764/FLAIR\n",
      "Processing /home/RSNA_MICCAI_Brain_Tumor/data/png/train/00765/FLAIR\n",
      "Processing /home/RSNA_MICCAI_Brain_Tumor/data/png/train/00767/FLAIR\n",
      "Processing /home/RSNA_MICCAI_Brain_Tumor/data/png/train/00768/FLAIR\n",
      "Processing /home/RSNA_MICCAI_Brain_Tumor/data/png/train/00772/FLAIR\n",
      "Processing /home/RSNA_MICCAI_Brain_Tumor/data/png/train/00773/FLAIR\n",
      "Processing /home/RSNA_MICCAI_Brain_Tumor/data/png/train/00774/FLAIR\n",
      "Processing /home/RSNA_MICCAI_Brain_Tumor/data/png/train/00775/FLAIR\n",
      "Processing /home/RSNA_MICCAI_Brain_Tumor/data/png/train/00777/FLAIR\n",
      "Processing /home/RSNA_MICCAI_Brain_Tumor/data/png/train/00778/FLAIR\n",
      "Processing /home/RSNA_MICCAI_Brain_Tumor/data/png/train/00780/FLAIR\n",
      "Processing /home/RSNA_MICCAI_Brain_Tumor/data/png/train/00781/FLAIR\n",
      "Processing /home/RSNA_MICCAI_Brain_Tumor/data/png/train/00782/FLAIR\n",
      "Processing /home/RSNA_MICCAI_Brain_Tumor/data/png/train/00784/FLAIR\n",
      "Processing /home/RSNA_MICCAI_Brain_Tumor/data/png/train/00787/FLAIR\n",
      "Processing /home/RSNA_MICCAI_Brain_Tumor/data/png/train/00788/FLAIR\n",
      "Processing /home/RSNA_MICCAI_Brain_Tumor/data/png/train/00789/FLAIR\n",
      "Processing /home/RSNA_MICCAI_Brain_Tumor/data/png/train/00791/FLAIR\n",
      "Processing /home/RSNA_MICCAI_Brain_Tumor/data/png/train/00792/FLAIR\n",
      "Processing /home/RSNA_MICCAI_Brain_Tumor/data/png/train/00793/FLAIR\n",
      "Processing /home/RSNA_MICCAI_Brain_Tumor/data/png/train/00794/FLAIR\n",
      "Processing /home/RSNA_MICCAI_Brain_Tumor/data/png/train/00795/FLAIR\n",
      "Processing /home/RSNA_MICCAI_Brain_Tumor/data/png/train/00796/FLAIR\n",
      "Processing /home/RSNA_MICCAI_Brain_Tumor/data/png/train/00797/FLAIR\n",
      "Processing /home/RSNA_MICCAI_Brain_Tumor/data/png/train/00799/FLAIR\n",
      "Processing /home/RSNA_MICCAI_Brain_Tumor/data/png/train/00800/FLAIR\n",
      "Processing /home/RSNA_MICCAI_Brain_Tumor/data/png/train/00801/FLAIR\n",
      "Processing /home/RSNA_MICCAI_Brain_Tumor/data/png/train/00802/FLAIR\n",
      "Processing /home/RSNA_MICCAI_Brain_Tumor/data/png/train/00803/FLAIR\n",
      "Processing /home/RSNA_MICCAI_Brain_Tumor/data/png/train/00804/FLAIR\n",
      "Processing /home/RSNA_MICCAI_Brain_Tumor/data/png/train/00805/FLAIR\n",
      "Processing /home/RSNA_MICCAI_Brain_Tumor/data/png/train/00806/FLAIR\n",
      "Processing /home/RSNA_MICCAI_Brain_Tumor/data/png/train/00807/FLAIR\n",
      "Processing /home/RSNA_MICCAI_Brain_Tumor/data/png/train/00808/FLAIR\n",
      "Processing /home/RSNA_MICCAI_Brain_Tumor/data/png/train/00809/FLAIR\n",
      "Processing /home/RSNA_MICCAI_Brain_Tumor/data/png/train/00810/FLAIR\n",
      "Processing /home/RSNA_MICCAI_Brain_Tumor/data/png/train/00811/FLAIR\n",
      "Processing /home/RSNA_MICCAI_Brain_Tumor/data/png/train/00814/FLAIR\n",
      "Processing /home/RSNA_MICCAI_Brain_Tumor/data/png/train/00816/FLAIR\n",
      "Processing /home/RSNA_MICCAI_Brain_Tumor/data/png/train/00818/FLAIR\n",
      "Processing /home/RSNA_MICCAI_Brain_Tumor/data/png/train/00819/FLAIR\n",
      "Processing /home/RSNA_MICCAI_Brain_Tumor/data/png/train/00820/FLAIR\n",
      "Processing /home/RSNA_MICCAI_Brain_Tumor/data/png/train/00823/FLAIR\n",
      "Processing /home/RSNA_MICCAI_Brain_Tumor/data/png/train/00824/FLAIR\n",
      "Processing /home/RSNA_MICCAI_Brain_Tumor/data/png/train/00828/FLAIR\n",
      "Processing /home/RSNA_MICCAI_Brain_Tumor/data/png/train/00830/FLAIR\n",
      "Processing /home/RSNA_MICCAI_Brain_Tumor/data/png/train/00834/FLAIR\n",
      "Processing /home/RSNA_MICCAI_Brain_Tumor/data/png/train/00836/FLAIR\n",
      "Processing /home/RSNA_MICCAI_Brain_Tumor/data/png/train/00837/FLAIR\n",
      "Processing /home/RSNA_MICCAI_Brain_Tumor/data/png/train/00838/FLAIR\n",
      "Processing /home/RSNA_MICCAI_Brain_Tumor/data/png/train/00839/FLAIR\n",
      "Processing /home/RSNA_MICCAI_Brain_Tumor/data/png/train/00840/FLAIR\n",
      "Processing /home/RSNA_MICCAI_Brain_Tumor/data/png/train/00998/FLAIR\n",
      "Processing /home/RSNA_MICCAI_Brain_Tumor/data/png/train/00999/FLAIR\n",
      "Processing /home/RSNA_MICCAI_Brain_Tumor/data/png/train/01000/FLAIR\n",
      "Processing /home/RSNA_MICCAI_Brain_Tumor/data/png/train/01001/FLAIR\n",
      "Processing /home/RSNA_MICCAI_Brain_Tumor/data/png/train/01002/FLAIR\n",
      "Processing /home/RSNA_MICCAI_Brain_Tumor/data/png/train/01003/FLAIR\n",
      "Processing /home/RSNA_MICCAI_Brain_Tumor/data/png/train/01004/FLAIR\n",
      "Processing /home/RSNA_MICCAI_Brain_Tumor/data/png/train/01005/FLAIR\n",
      "Processing /home/RSNA_MICCAI_Brain_Tumor/data/png/train/01007/FLAIR\n",
      "Processing /home/RSNA_MICCAI_Brain_Tumor/data/png/train/01008/FLAIR\n",
      "Processing /home/RSNA_MICCAI_Brain_Tumor/data/png/train/01009/FLAIR\n",
      "Processing /home/RSNA_MICCAI_Brain_Tumor/data/png/train/01010/FLAIR\n",
      "\n"
     ]
    },
    {
     "data": {
      "text/plain": [
       "10"
      ]
     },
     "execution_count": 7,
     "metadata": {},
     "output_type": "execute_result"
    }
   ],
   "source": [
    "!rm -rf {cfg.base_path/cfg.png_folder}\n",
    "if not (cfg.base_path/cfg.png_folder).exists():\n",
    "    os.mkdir(cfg.base_path/cfg.png_folder)\n",
    "convert_all_dicom_to_png(train_df, mri_type='FLAIR', image_path='train')"
   ]
  },
  {
   "cell_type": "code",
   "execution_count": 8,
   "id": "0b77c0d0-1e68-4c46-af11-bf2e9636da1e",
   "metadata": {},
   "outputs": [
    {
     "data": {
      "application/vnd.jupyter.widget-view+json": {
       "model_id": "668a4e1fbf18411784c819aaed3ba8e8",
       "version_major": 2,
       "version_minor": 0
      },
      "text/plain": [
       "HBox(children=(FloatProgress(value=0.0, max=87.0), HTML(value='')))"
      ]
     },
     "metadata": {},
     "output_type": "display_data"
    },
    {
     "name": "stdout",
     "output_type": "stream",
     "text": [
      "Processing /home/RSNA_MICCAI_Brain_Tumor/data/png/test/00001/FLAIR\n",
      "Min conversion 79\n",
      "Processing /home/RSNA_MICCAI_Brain_Tumor/data/png/test/00013/FLAIR\n",
      "Min conversion 52\n",
      "Processing /home/RSNA_MICCAI_Brain_Tumor/data/png/test/00015/FLAIR\n",
      "Min conversion 46\n",
      "Processing /home/RSNA_MICCAI_Brain_Tumor/data/png/test/00027/FLAIR\n",
      "Processing /home/RSNA_MICCAI_Brain_Tumor/data/png/test/00037/FLAIR\n",
      "Processing /home/RSNA_MICCAI_Brain_Tumor/data/png/test/00047/FLAIR\n",
      "Processing /home/RSNA_MICCAI_Brain_Tumor/data/png/test/00079/FLAIR\n",
      "Processing /home/RSNA_MICCAI_Brain_Tumor/data/png/test/00080/FLAIR\n",
      "Processing /home/RSNA_MICCAI_Brain_Tumor/data/png/test/00082/FLAIR\n",
      "Processing /home/RSNA_MICCAI_Brain_Tumor/data/png/test/00091/FLAIR\n",
      "Processing /home/RSNA_MICCAI_Brain_Tumor/data/png/test/00114/FLAIR\n",
      "Min conversion 15\n",
      "Processing /home/RSNA_MICCAI_Brain_Tumor/data/png/test/00119/FLAIR\n",
      "Processing /home/RSNA_MICCAI_Brain_Tumor/data/png/test/00125/FLAIR\n",
      "Processing /home/RSNA_MICCAI_Brain_Tumor/data/png/test/00129/FLAIR\n",
      "Processing /home/RSNA_MICCAI_Brain_Tumor/data/png/test/00135/FLAIR\n",
      "Processing /home/RSNA_MICCAI_Brain_Tumor/data/png/test/00145/FLAIR\n",
      "Processing /home/RSNA_MICCAI_Brain_Tumor/data/png/test/00153/FLAIR\n",
      "Processing /home/RSNA_MICCAI_Brain_Tumor/data/png/test/00161/FLAIR\n",
      "Processing /home/RSNA_MICCAI_Brain_Tumor/data/png/test/00163/FLAIR\n",
      "Processing /home/RSNA_MICCAI_Brain_Tumor/data/png/test/00174/FLAIR\n",
      "Processing /home/RSNA_MICCAI_Brain_Tumor/data/png/test/00181/FLAIR\n",
      "Processing /home/RSNA_MICCAI_Brain_Tumor/data/png/test/00182/FLAIR\n",
      "Processing /home/RSNA_MICCAI_Brain_Tumor/data/png/test/00190/FLAIR\n",
      "Processing /home/RSNA_MICCAI_Brain_Tumor/data/png/test/00200/FLAIR\n",
      "Processing /home/RSNA_MICCAI_Brain_Tumor/data/png/test/00208/FLAIR\n",
      "Processing /home/RSNA_MICCAI_Brain_Tumor/data/png/test/00213/FLAIR\n",
      "Processing /home/RSNA_MICCAI_Brain_Tumor/data/png/test/00229/FLAIR\n",
      "Processing /home/RSNA_MICCAI_Brain_Tumor/data/png/test/00252/FLAIR\n",
      "Processing /home/RSNA_MICCAI_Brain_Tumor/data/png/test/00256/FLAIR\n",
      "Processing /home/RSNA_MICCAI_Brain_Tumor/data/png/test/00264/FLAIR\n",
      "Processing /home/RSNA_MICCAI_Brain_Tumor/data/png/test/00287/FLAIR\n",
      "Processing /home/RSNA_MICCAI_Brain_Tumor/data/png/test/00307/FLAIR\n",
      "Processing /home/RSNA_MICCAI_Brain_Tumor/data/png/test/00323/FLAIR\n",
      "Processing /home/RSNA_MICCAI_Brain_Tumor/data/png/test/00333/FLAIR\n",
      "Processing /home/RSNA_MICCAI_Brain_Tumor/data/png/test/00335/FLAIR\n",
      "Processing /home/RSNA_MICCAI_Brain_Tumor/data/png/test/00337/FLAIR\n",
      "Processing /home/RSNA_MICCAI_Brain_Tumor/data/png/test/00355/FLAIR\n",
      "Processing /home/RSNA_MICCAI_Brain_Tumor/data/png/test/00372/FLAIR\n",
      "Processing /home/RSNA_MICCAI_Brain_Tumor/data/png/test/00381/FLAIR\n",
      "Processing /home/RSNA_MICCAI_Brain_Tumor/data/png/test/00384/FLAIR\n",
      "Processing /home/RSNA_MICCAI_Brain_Tumor/data/png/test/00393/FLAIR\n",
      "Processing /home/RSNA_MICCAI_Brain_Tumor/data/png/test/00422/FLAIR\n",
      "Processing /home/RSNA_MICCAI_Brain_Tumor/data/png/test/00428/FLAIR\n",
      "Processing /home/RSNA_MICCAI_Brain_Tumor/data/png/test/00434/FLAIR\n",
      "Processing /home/RSNA_MICCAI_Brain_Tumor/data/png/test/00438/FLAIR\n",
      "Processing /home/RSNA_MICCAI_Brain_Tumor/data/png/test/00447/FLAIR\n",
      "Processing /home/RSNA_MICCAI_Brain_Tumor/data/png/test/00450/FLAIR\n",
      "Processing /home/RSNA_MICCAI_Brain_Tumor/data/png/test/00458/FLAIR\n",
      "Processing /home/RSNA_MICCAI_Brain_Tumor/data/png/test/00460/FLAIR\n",
      "Processing /home/RSNA_MICCAI_Brain_Tumor/data/png/test/00462/FLAIR\n",
      "Processing /home/RSNA_MICCAI_Brain_Tumor/data/png/test/00463/FLAIR\n",
      "Processing /home/RSNA_MICCAI_Brain_Tumor/data/png/test/00467/FLAIR\n",
      "Processing /home/RSNA_MICCAI_Brain_Tumor/data/png/test/00474/FLAIR\n",
      "Processing /home/RSNA_MICCAI_Brain_Tumor/data/png/test/00489/FLAIR\n",
      "Processing /home/RSNA_MICCAI_Brain_Tumor/data/png/test/00492/FLAIR\n",
      "Processing /home/RSNA_MICCAI_Brain_Tumor/data/png/test/00503/FLAIR\n",
      "Processing /home/RSNA_MICCAI_Brain_Tumor/data/png/test/00521/FLAIR\n",
      "Processing /home/RSNA_MICCAI_Brain_Tumor/data/png/test/00535/FLAIR\n",
      "Processing /home/RSNA_MICCAI_Brain_Tumor/data/png/test/00553/FLAIR\n",
      "Processing /home/RSNA_MICCAI_Brain_Tumor/data/png/test/00560/FLAIR\n",
      "Processing /home/RSNA_MICCAI_Brain_Tumor/data/png/test/00573/FLAIR\n",
      "Processing /home/RSNA_MICCAI_Brain_Tumor/data/png/test/00585/FLAIR\n",
      "Min conversion 13\n",
      "Processing /home/RSNA_MICCAI_Brain_Tumor/data/png/test/00592/FLAIR\n",
      "Processing /home/RSNA_MICCAI_Brain_Tumor/data/png/test/00595/FLAIR\n",
      "Processing /home/RSNA_MICCAI_Brain_Tumor/data/png/test/00603/FLAIR\n",
      "Processing /home/RSNA_MICCAI_Brain_Tumor/data/png/test/00644/FLAIR\n",
      "Processing /home/RSNA_MICCAI_Brain_Tumor/data/png/test/00647/FLAIR\n",
      "Processing /home/RSNA_MICCAI_Brain_Tumor/data/png/test/00662/FLAIR\n",
      "Processing /home/RSNA_MICCAI_Brain_Tumor/data/png/test/00671/FLAIR\n",
      "Processing /home/RSNA_MICCAI_Brain_Tumor/data/png/test/00681/FLAIR\n",
      "Processing /home/RSNA_MICCAI_Brain_Tumor/data/png/test/00699/FLAIR\n",
      "Processing /home/RSNA_MICCAI_Brain_Tumor/data/png/test/00702/FLAIR\n",
      "Processing /home/RSNA_MICCAI_Brain_Tumor/data/png/test/00712/FLAIR\n",
      "Processing /home/RSNA_MICCAI_Brain_Tumor/data/png/test/00719/FLAIR\n",
      "Processing /home/RSNA_MICCAI_Brain_Tumor/data/png/test/00721/FLAIR\n",
      "Processing /home/RSNA_MICCAI_Brain_Tumor/data/png/test/00749/FLAIR\n",
      "Processing /home/RSNA_MICCAI_Brain_Tumor/data/png/test/00762/FLAIR\n",
      "Processing /home/RSNA_MICCAI_Brain_Tumor/data/png/test/00769/FLAIR\n",
      "Processing /home/RSNA_MICCAI_Brain_Tumor/data/png/test/00779/FLAIR\n",
      "Processing /home/RSNA_MICCAI_Brain_Tumor/data/png/test/00821/FLAIR\n",
      "Processing /home/RSNA_MICCAI_Brain_Tumor/data/png/test/00822/FLAIR\n",
      "Processing /home/RSNA_MICCAI_Brain_Tumor/data/png/test/00825/FLAIR\n",
      "Processing /home/RSNA_MICCAI_Brain_Tumor/data/png/test/00826/FLAIR\n",
      "Processing /home/RSNA_MICCAI_Brain_Tumor/data/png/test/00829/FLAIR\n",
      "Processing /home/RSNA_MICCAI_Brain_Tumor/data/png/test/00833/FLAIR\n",
      "Processing /home/RSNA_MICCAI_Brain_Tumor/data/png/test/00997/FLAIR\n",
      "Processing /home/RSNA_MICCAI_Brain_Tumor/data/png/test/01006/FLAIR\n",
      "\n"
     ]
    },
    {
     "data": {
      "text/plain": [
       "13"
      ]
     },
     "execution_count": 8,
     "metadata": {},
     "output_type": "execute_result"
    }
   ],
   "source": [
    "convert_all_dicom_to_png(submission_df, mri_type='FLAIR', image_path='test')"
   ]
  },
  {
   "cell_type": "code",
   "execution_count": 9,
   "id": "8d76757a-0e1e-4830-a67e-302a9917ddb2",
   "metadata": {},
   "outputs": [],
   "source": [
    "!cp -R {cfg.base_path}/png/test/00013 {cfg.base_path}/png/train/00013\n",
    "!cp -R {cfg.base_path}/png/test/00001 {cfg.base_path}/png/train/00001"
   ]
  },
  {
   "cell_type": "markdown",
   "id": "fd65dec2-aa62-42f8-9569-32e9871925f1",
   "metadata": {},
   "source": [
    "### Load PNGs"
   ]
  },
  {
   "cell_type": "code",
   "execution_count": 10,
   "id": "58cf67b4-5a72-4da9-b2cd-9511bd9c0203",
   "metadata": {},
   "outputs": [],
   "source": [
    "def read_png(path):\n",
    "    return mpimg.imread(path)\n",
    "\n",
    "def convert_path_to_int(x):\n",
    "    res = int(re.sub(r'.+\\-+(\\d+)\\..+', r'\\1', x))\n",
    "    return res\n",
    "\n",
    "def load_png_images_3d(scan_id, num_imgs=cfg.num_images, img_size=cfg.size, mri_type=\"FLAIR\", split=\"train\", clahe=False):\n",
    "\n",
    "    glob_expr = f'{cfg.base_path}/png/{split}/{scan_id}/{mri_type}/*.png'\n",
    "    files = glob.glob(glob_expr)\n",
    "    files.sort(key=cmp_to_key(lambda x, y: -1 if convert_path_to_int(x) < convert_path_to_int(y) else 1))\n",
    "    \n",
    "    middle = len(files)//2\n",
    "    num_imgs2 = num_imgs//2\n",
    "    p1 = max(0, middle - num_imgs2)\n",
    "    p2 = min(len(files), middle + num_imgs2)\n",
    "    try:\n",
    "        img3d = np.stack([read_png(f) for f in files[p1:p2]]).T \n",
    "        if img3d.shape[-1] < num_imgs:\n",
    "            n_zero = np.zeros((img_size, img_size, num_imgs - img3d.shape[-1]))\n",
    "            img3d = np.concatenate((img3d,  n_zero), axis = -1)\n",
    "    except Exception as e:\n",
    "        print(f'Error on glob expression', glob_expr)\n",
    "        raise e\n",
    "            \n",
    "    return np.expand_dims(img3d,0)"
   ]
  },
  {
   "cell_type": "code",
   "execution_count": 11,
   "id": "18143cbb-076f-435e-9dbb-a75ae78619d4",
   "metadata": {},
   "outputs": [
    {
     "data": {
      "text/plain": [
       "(-0.5, 255.5, 255.5, -0.5)"
      ]
     },
     "execution_count": 11,
     "metadata": {},
     "output_type": "execute_result"
    },
    {
     "data": {
      "image/png": "[encoded data removed]",
      "text/plain": [
       "<Figure size 432x288 with 1 Axes>"
      ]
     },
     "metadata": {
      "needs_background": "light"
     },
     "output_type": "display_data"
    }
   ],
   "source": [
    "sample_img = read_png(cfg.base_path/'png/train/00000/FLAIR/Image-100.png')\n",
    "plt.imshow(sample_img)\n",
    "plt.axis('off')"
   ]
  },
  {
   "cell_type": "code",
   "execution_count": 12,
   "id": "203e3976-96b4-4a66-bf1c-9878e16215f0",
   "metadata": {},
   "outputs": [
    {
     "data": {
      "image/png": "[encoded data removed]",
      "text/plain": [
       "<Figure size 1440x1296 with 9 Axes>"
      ]
     },
     "metadata": {
      "needs_background": "light"
     },
     "output_type": "display_data"
    }
   ],
   "source": [
    "sample_images = load_png_images_3d('00000').squeeze()\n",
    "f, axarr = plt.subplots(3, 3, figsize=(20, 18))\n",
    "for r in range(3):\n",
    "    for c in range(3):\n",
    "        axarr[r, c].imshow(sample_images[:,:,r * 2 + c * 2])\n",
    "        axarr[r, c].axis('off')"
   ]
  },
  {
   "cell_type": "markdown",
   "id": "6a377541-6c0a-4de9-a49e-7c922e1269f8",
   "metadata": {},
   "source": [
    "### Seeding"
   ]
  },
  {
   "cell_type": "code",
   "execution_count": 13,
   "id": "b1e641d4-6864-4f74-9cb7-47f757efdb08",
   "metadata": {},
   "outputs": [],
   "source": [
    "def set_seed(seed):\n",
    "    random.seed(seed)\n",
    "    os.environ[\"PYTHONHASHSEED\"] = str(seed)\n",
    "    np.random.seed(seed)\n",
    "    torch.manual_seed(seed)\n",
    "    if torch.cuda.is_available():\n",
    "        torch.cuda.manual_seed_all(seed)\n",
    "        torch.backends.cudnn.deterministic = True\n",
    "\n",
    "set_seed(cfg.seed)"
   ]
  },
  {
   "cell_type": "markdown",
   "id": "6627f967-43f3-4fb9-bdb6-b1f4d509e4f7",
   "metadata": {},
   "source": [
    "### Train / Test Split"
   ]
  },
  {
   "cell_type": "code",
   "execution_count": 14,
   "id": "f0875449-3d8a-4ae1-804b-7430c9b9b119",
   "metadata": {},
   "outputs": [],
   "source": [
    "df_train, df_valid = sk_model_selection.train_test_split(\n",
    "    train_df, \n",
    "    test_size=cfg.test_size, \n",
    "    random_state=42, \n",
    "    stratify=train_df[\"MGMT_value\"],\n",
    ")"
   ]
  },
  {
   "cell_type": "code",
   "execution_count": 15,
   "id": "88344ca0-ff52-4447-85ac-4355c92ff467",
   "metadata": {},
   "outputs": [
    {
     "data": {
      "text/plain": [
       "0.11281070745697896"
      ]
     },
     "execution_count": 15,
     "metadata": {},
     "output_type": "execute_result"
    }
   ],
   "source": [
    "len(df_valid) / len(df_train)"
   ]
  },
  {
   "cell_type": "code",
   "execution_count": 16,
   "id": "9be6a334-1944-476e-953e-93ac281b0018",
   "metadata": {},
   "outputs": [],
   "source": [
    "df_valid = df_valid.append(pd.DataFrame([{'BraTS21ID': 1, 'MGMT_value': 1}, {'BraTS21ID': 13, 'MGMT_value': 1}]))"
   ]
  },
  {
   "cell_type": "code",
   "execution_count": 17,
   "id": "9f513e51-82d8-4988-8020-4726ec11dbc8",
   "metadata": {},
   "outputs": [
    {
     "data": {
      "text/plain": [
       "0.11663479923518165"
      ]
     },
     "execution_count": 17,
     "metadata": {},
     "output_type": "execute_result"
    }
   ],
   "source": [
    "len(df_valid) / len(df_train)"
   ]
  },
  {
   "cell_type": "markdown",
   "id": "d1abb28e-1989-42bf-a870-0f7aece73a93",
   "metadata": {},
   "source": [
    "### Dataset"
   ]
  },
  {
   "cell_type": "code",
   "execution_count": 18,
   "id": "4ee29ac2-9116-4606-a0f8-bcab380a6117",
   "metadata": {},
   "outputs": [],
   "source": [
    "class Dataset(torch_data.Dataset):\n",
    "    def __init__(self, paths, targets=None, mri_type=None, label_smoothing=0.01, split=\"train\"):\n",
    "        self.paths = paths\n",
    "        self.targets = targets\n",
    "        self.mri_type = mri_type\n",
    "        self.label_smoothing = label_smoothing\n",
    "        self.split = split\n",
    "          \n",
    "    def __len__(self):\n",
    "        return len(self.paths)\n",
    "    \n",
    "    def __getitem__(self, index):\n",
    "        scan_id = self.paths[index]\n",
    "        mri_type = self.mri_type[index]\n",
    "        if self.targets is None:\n",
    "            data = load_png_images_3d(str(scan_id).zfill(5), mri_type=mri_type, split=self.split, clahe=cfg.clahe)\n",
    "        else:\n",
    "            data = load_png_images_3d(str(scan_id).zfill(5), mri_type=mri_type, split=\"train\", clahe=cfg.clahe)\n",
    "        data = np.moveaxis(data, -1, 1)\n",
    "        if self.targets is None:\n",
    "            return {\"X\": torch.tensor(data).float(), \"id\": scan_id}\n",
    "        else:\n",
    "            y = torch.tensor(abs(self.targets[index]-self.label_smoothing), dtype=torch.float)\n",
    "            return {\"X\": torch.tensor(data).float(), \"y\": y}\n"
   ]
  },
  {
   "cell_type": "code",
   "execution_count": 19,
   "id": "238fde14-5d64-4c73-9996-0fa9f6b72c73",
   "metadata": {},
   "outputs": [
    {
     "name": "stderr",
     "output_type": "stream",
     "text": [
      "/opt/conda/lib/python3.8/site-packages/pandas/core/indexing.py:1597: SettingWithCopyWarning: \n",
      "A value is trying to be set on a copy of a slice from a DataFrame.\n",
      "Try using .loc[row_indexer,col_indexer] = value instead\n",
      "\n",
      "See the caveats in the documentation: https://pandas.pydata.org/pandas-docs/stable/user_guide/indexing.html#returning-a-view-versus-a-copy\n",
      "  self.obj[key] = value\n",
      "/opt/conda/lib/python3.8/site-packages/pandas/core/indexing.py:1720: SettingWithCopyWarning: \n",
      "A value is trying to be set on a copy of a slice from a DataFrame.\n",
      "Try using .loc[row_indexer,col_indexer] = value instead\n",
      "\n",
      "See the caveats in the documentation: https://pandas.pydata.org/pandas-docs/stable/user_guide/indexing.html#returning-a-view-versus-a-copy\n",
      "  self._setitem_single_column(loc, value, pi)\n"
     ]
    }
   ],
   "source": [
    "df_train.loc[:,\"MRI_Type\"] = 'FLAIR'\n",
    "sample_ds = Dataset(df_train['BraTS21ID'], df_train['MGMT_value'], df_train['MRI_Type'])"
   ]
  },
  {
   "cell_type": "code",
   "execution_count": 20,
   "id": "8bcab4df-689c-43dd-be3f-fdcc60288e41",
   "metadata": {},
   "outputs": [
    {
     "data": {
      "text/plain": [
       "torch.Size([1, 32, 256, 256])"
      ]
     },
     "execution_count": 20,
     "metadata": {},
     "output_type": "execute_result"
    }
   ],
   "source": [
    "sample_ds[0]['X'].shape"
   ]
  },
  {
   "cell_type": "markdown",
   "id": "97dd933b-8c23-43a4-a2fe-1033a551a5b4",
   "metadata": {},
   "source": [
    "### Model"
   ]
  },
  {
   "cell_type": "code",
   "execution_count": 21,
   "id": "4c6b2437-5798-4a5d-a80a-40a8ed843821",
   "metadata": {},
   "outputs": [],
   "source": [
    "class ModelHead(nn.Module):\n",
    "    \n",
    "    def __init__(self, in_features, hidden_dim):\n",
    "        super().__init__()\n",
    "        self._fc = nn.Linear(in_features=in_features, out_features=hidden_dim, bias=True)\n",
    "        self._fc_2 = nn.Linear(in_features=hidden_dim, out_features=1, bias=True)\n",
    "        \n",
    "    def forward(self, x):\n",
    "        x = self._fc(x)\n",
    "        x = self._fc_2(x)\n",
    "        return x\n",
    "\n",
    "class Model(nn.Module):\n",
    "    def __init__(self):\n",
    "        super().__init__()\n",
    "        self.net = EfficientNet3D.from_name(\"efficientnet-b0\", override_params={'num_classes': 2}, in_channels=1)\n",
    "        n_features = self.net._fc.in_features\n",
    "        self.net._fc = ModelHead(n_features, 600)\n",
    "        \n",
    "    \n",
    "    def forward(self, x):\n",
    "        x = torch.cat([x, x], axis=2)\n",
    "        out = self.net(x)\n",
    "        return out\n",
    "    "
   ]
  },
  {
   "cell_type": "code",
   "execution_count": 22,
   "id": "d7b9a42d-e83b-460b-8fc1-e32fac9eed59",
   "metadata": {},
   "outputs": [],
   "source": [
    "def create_model():\n",
    "    model = Model()\n",
    "    model.to(cfg.device)\n",
    "    return model"
   ]
  },
  {
   "cell_type": "code",
   "execution_count": 23,
   "id": "2c9c81e9-2a05-41d6-910d-c56cd203e657",
   "metadata": {},
   "outputs": [],
   "source": [
    "# sample_data = torch.randn([4, 1, 32, 256, 256]).to(cfg.device)\n",
    "# torch.cat([sample_data, sample_data], axis=2).shape\n",
    "# conv32_64 = nn.Conv3d(1, 1, kernel_size=1, stride=1, bias=False).to(cfg.device)\n",
    "# m = nn.ConvTranspose3d(1, 1, 2, stride=2)\n",
    "# input = torch.randn([4, 1, 32, 256, 256])\n",
    "# m(input).shape"
   ]
  },
  {
   "cell_type": "code",
   "execution_count": 24,
   "id": "7eac7e3b-7201-4f17-9bb9-509d2666afc6",
   "metadata": {},
   "outputs": [],
   "source": [
    "# sample_model = CustomModel()\n",
    "# sample_model.to(cfg.device)\n",
    "# torch.backends.cudnn.enabled = False\n",
    "# sample_data = torch.randn([4, 1, 64, 256, 256]).to(cfg.device)\n",
    "# sample_model(sample_data).shape"
   ]
  },
  {
   "cell_type": "markdown",
   "id": "4026eff3-7602-4822-8bf3-058ca76862f9",
   "metadata": {},
   "source": [
    "### Trainer"
   ]
  },
  {
   "cell_type": "code",
   "execution_count": 25,
   "id": "95ecdd77-241e-4218-97f9-f556a8fc807a",
   "metadata": {},
   "outputs": [],
   "source": [
    "class Trainer:\n",
    "    def __init__(\n",
    "        self, \n",
    "        model, \n",
    "        device, \n",
    "        optimizer, \n",
    "        criterion\n",
    "    ):\n",
    "        self.model = model\n",
    "        self.device = device\n",
    "        self.optimizer = optimizer\n",
    "        self.criterion = criterion\n",
    "\n",
    "        self.best_valid_score = -np.inf\n",
    "        self.n_patience = 0\n",
    "        self.lastmodel = None\n",
    "        \n",
    "    def fit(self, epochs, train_loader, valid_loader, save_path, patience):  \n",
    "        tbar = tqdm(range(1, epochs + 1), total=epochs)\n",
    "#         self.lr_sched = torch.optim.lr_scheduler.CosineAnnealingWarmRestarts(self.optimizer, T_0=int(len(train_loader) / 2), T_mult=1, eta_min=0.0001, last_epoch=-1)\n",
    "        self.lr_sched = torch.optim.lr_scheduler.OneCycleLR(self.optimizer, max_lr=1e-3, steps_per_epoch=len(train_loader), epochs=epochs)\n",
    "        self.lrs = []\n",
    "        \n",
    "        for n_epoch in tbar:\n",
    "            \n",
    "            self.info_message(\"EPOCH: {}\", n_epoch)\n",
    "            tbar.set_description(f'EPOCH: {n_epoch}')\n",
    "            \n",
    "            train_loss, train_time = self.train_epoch(train_loader, valid_loader, n_epoch, save_path)\n",
    "            valid_loss, valid_auc, valid_time = self.valid_epoch(valid_loader)\n",
    "            \n",
    "            self.info_message(\n",
    "                \"[Epoch Train: {}] loss: {:.4f}, time: {:.2f} s            \",\n",
    "                n_epoch, train_loss, train_time\n",
    "            )\n",
    "            \n",
    "            self.print_valid_message(valid_loss, valid_auc, valid_time, n_epoch)\n",
    "            \n",
    "            self.check_and_save(valid_loss, valid_auc, valid_time, n_epoch, save_path)\n",
    "            \n",
    "            if self.n_patience >= patience:\n",
    "                self.info_message(\"\\nValid auc didn't improve last {} epochs.\", patience)\n",
    "                break\n",
    "        plt.plot(self.lrs)\n",
    "        \n",
    "    def check_and_save(self, valid_loss, valid_auc, valid_time, n_epoch, save_path):\n",
    "        # if True:\n",
    "        # if self.best_valid_score < valid_auc: \n",
    "        if self.best_valid_score < valid_auc and valid_auc > 0.5: \n",
    "            self.save_model(n_epoch, save_path, valid_loss, valid_auc)\n",
    "            self.info_message(\n",
    "                 \"auc improved from {:.4f} to {:.4f}. Saved model to '{}'\", \n",
    "                self.best_valid_score, valid_auc, self.lastmodel\n",
    "            )\n",
    "            self.best_valid_score = valid_auc\n",
    "            self.n_patience = 0\n",
    "        else:\n",
    "            self.n_patience += 1\n",
    "            \n",
    "    def print_valid_message(self, valid_loss, valid_auc, valid_time, n_epoch):\n",
    "        self.info_message(\n",
    "            \"[Epoch Valid: {}] loss: {:.4f}, auc: {:.4f}, time: {:.2f} s\",\n",
    "            n_epoch, valid_loss, valid_auc, valid_time\n",
    "        )\n",
    "            \n",
    "    def train_epoch(self, train_loader, valid_loader, n_epoch, save_path):\n",
    "        self.model.train()\n",
    "        t = time.time()\n",
    "        sum_loss = 0\n",
    "\n",
    "        tbar = tqdm(enumerate(train_loader, 1), total=len(train_loader))\n",
    "        \n",
    "        scaler = torch.cuda.amp.GradScaler() # fp16\n",
    "        for step, batch in tbar:\n",
    "            X = batch[\"X\"].to(self.device)\n",
    "            targets = batch[\"y\"].to(self.device)\n",
    "            self.optimizer.zero_grad()\n",
    "            with torch.cuda.amp.autocast():\n",
    "                outputs = self.model(X).squeeze(1)\n",
    "                loss = self.criterion(outputs, targets)\n",
    "                \n",
    "#             loss.backward()\n",
    "            scaler.scale(loss).backward()\n",
    "            scaler.step(self.optimizer)\n",
    "            scaler.update()\n",
    "\n",
    "            sum_loss += loss.detach().item()\n",
    "#             torch.nn.utils.clip_grad_norm_(self.model.parameters(), 1.0)\n",
    "#             self.optimizer.step()\n",
    "            self.lr_sched.step()\n",
    "            current_lr = self.optimizer.param_groups[0][\"lr\"]\n",
    "            self.lrs.append(\n",
    "                current_lr\n",
    "            )\n",
    "            \n",
    "            message = 'Train Step {}/{}, train_loss: {:.4f}'\n",
    "            self.info_message(message, step, len(train_loader), sum_loss/step, end=\"\\r\")\n",
    "            \n",
    "            if n_epoch in cfg.extra_check_epochs:\n",
    "                if step % cfg.check_frequency == 0:\n",
    "                    valid_loss, valid_auc, valid_time = self.valid_epoch(valid_loader)\n",
    "                    self.check_and_save(valid_loss, valid_auc, valid_time, n_epoch, save_path)\n",
    "                    self.print_valid_message(valid_loss, valid_auc, valid_time, n_epoch)\n",
    "            \n",
    "        \n",
    "        return sum_loss/len(train_loader), int(time.time() - t)\n",
    "    \n",
    "    def valid_epoch(self, valid_loader):\n",
    "        self.model.eval()\n",
    "        t = time.time()\n",
    "        sum_loss = 0\n",
    "        y_all = []\n",
    "        outputs_all = []\n",
    "\n",
    "        tbar = tqdm(enumerate(valid_loader, 1), total=len(valid_loader))\n",
    "        for step, batch in tbar:\n",
    "            with torch.no_grad():\n",
    "                X = batch[\"X\"].to(self.device)\n",
    "                targets = batch[\"y\"].to(self.device)\n",
    "\n",
    "                outputs = torch.sigmoid(self.model(X).squeeze(1))\n",
    "                loss = self.criterion(outputs, targets)\n",
    "                print('outputs', outputs.mean().item(), outputs.std().item())\n",
    "                print('targets', targets.mean().item(), targets.std().item())\n",
    "                \n",
    "                sum_loss += loss.detach().item()\n",
    "                y_all.extend(batch[\"y\"].tolist())\n",
    "                outputs_all.extend(outputs.tolist())\n",
    "\n",
    "            message = 'Valid Step {}/{}, valid_loss: {:.4f}'\n",
    "            self.info_message(message, step, len(valid_loader), sum_loss/step, end=\"\\r\")\n",
    "            \n",
    "        y_all = [1 if x > 0.5 else 0 for x in y_all]\n",
    "        auc = roc_auc_score(y_all, outputs_all)\n",
    "        \n",
    "        return sum_loss/len(valid_loader), auc, int(time.time() - t)\n",
    "    \n",
    "    def save_model(self, n_epoch, save_path, loss, auc):\n",
    "        self.lastmodel = str(cfg.models_path/f\"{save_path}-e{n_epoch}-loss{loss:.3f}-auc{auc:.3f}.pth\")\n",
    "        torch.save(\n",
    "            {\n",
    "                \"model_state_dict\": self.model.state_dict(),\n",
    "                \"optimizer_state_dict\": self.optimizer.state_dict(),\n",
    "                \"best_valid_score\": self.best_valid_score,\n",
    "                \"n_epoch\": n_epoch,\n",
    "            },\n",
    "            self.lastmodel,\n",
    "        )\n",
    "    \n",
    "    @staticmethod\n",
    "    def info_message(message, *args, end=\"\\n\"):\n",
    "        print(message.format(*args), end=end)"
   ]
  },
  {
   "cell_type": "code",
   "execution_count": 26,
   "id": "18b92968-dc45-4456-bac2-deadc2e363f3",
   "metadata": {},
   "outputs": [],
   "source": [
    "def loss_func(input, target):\n",
    "#     return F.binary_cross_entropy_with_logits(input, target) * 0.5 + F.mse_loss(input, target) * 0.5\n",
    "#     return F.binary_cross_entropy_with_logits(input, target) * 0.2 + dice_loss(input, target) * 0.8\n",
    "    return F.binary_cross_entropy_with_logits(input, target)"
   ]
  },
  {
   "cell_type": "code",
   "execution_count": 27,
   "id": "3d84cb25-fa28-43a2-83e1-5f2278b9866f",
   "metadata": {},
   "outputs": [],
   "source": [
    "def train_mri_type(df_train, df_valid, mri_type):\n",
    "    if mri_type==\"all\":\n",
    "        train_list = []\n",
    "        valid_list = []\n",
    "        for mri_type in mri_types:\n",
    "            df_train.loc[:,\"MRI_Type\"] = mri_type\n",
    "            train_list.append(df_train.copy())\n",
    "            df_valid.loc[:,\"MRI_Type\"] = mri_type\n",
    "            valid_list.append(df_valid.copy())\n",
    "\n",
    "        df_train = pd.concat(train_list)\n",
    "        df_valid = pd.concat(valid_list)\n",
    "    else:\n",
    "        df_train.loc[:,\"MRI_Type\"] = mri_type\n",
    "        df_valid.loc[:,\"MRI_Type\"] = mri_type\n",
    "\n",
    "    print(df_train.shape, df_valid.shape)\n",
    "    display(df_train.head())\n",
    "    \n",
    "    train_data_retriever = Dataset(\n",
    "        df_train[\"BraTS21ID\"].values, \n",
    "        df_train[\"MGMT_value\"].values, \n",
    "        df_train[\"MRI_Type\"].values\n",
    "    )\n",
    "\n",
    "    valid_data_retriever = Dataset(\n",
    "        df_valid[\"BraTS21ID\"].values, \n",
    "        df_valid[\"MGMT_value\"].values,\n",
    "        df_valid[\"MRI_Type\"].values\n",
    "    )\n",
    "\n",
    "    train_loader = torch_data.DataLoader(\n",
    "        train_data_retriever,\n",
    "        batch_size=cfg.batch_size,\n",
    "        shuffle=True,\n",
    "        num_workers=cfg.num_workers,\n",
    "    )\n",
    "\n",
    "    valid_loader = torch_data.DataLoader(\n",
    "        valid_data_retriever, \n",
    "        batch_size=cfg.batch_size,\n",
    "        shuffle=False,\n",
    "        num_workers=cfg.num_workers,\n",
    "    )\n",
    "\n",
    "    model = create_model()\n",
    "\n",
    "    #checkpoint = torch.load(\"best-model-all-auc0.555.pth\")\n",
    "    #model.load_state_dict(checkpoint[\"model_state_dict\"])\n",
    "\n",
    "    #print(model)\n",
    "\n",
    "    optimizer = torch.optim.Adam(model.parameters(), lr=cfg.lr)\n",
    "    #optimizer = torch.optim.SGD(model.parameters(), lr=0.001, momentum=0.9)\n",
    "\n",
    "    criterion = loss_func\n",
    "\n",
    "    trainer = Trainer(\n",
    "        model, \n",
    "        cfg.device, \n",
    "        optimizer, \n",
    "        criterion\n",
    "    )\n",
    "\n",
    "    history = trainer.fit(\n",
    "        cfg.epochs, \n",
    "        train_loader, \n",
    "        valid_loader, \n",
    "        f\"{mri_type}\", \n",
    "        cfg.epochs + 100,\n",
    "    )\n",
    "    \n",
    "    return trainer.lastmodel"
   ]
  },
  {
   "cell_type": "code",
   "execution_count": 28,
   "id": "14204846-557d-44db-a61f-80c24a2f0965",
   "metadata": {},
   "outputs": [],
   "source": [
    "!rm -rf {str(cfg.models_path)}/*.pth"
   ]
  },
  {
   "cell_type": "code",
   "execution_count": 29,
   "id": "aac522d8-2996-439a-b776-40803258708f",
   "metadata": {},
   "outputs": [
    {
     "name": "stdout",
     "output_type": "stream",
     "text": [
      "(523, 3) (61, 3)\n"
     ]
    },
    {
     "data": {
      "text/html": [
       "<div>\n",
       "<style scoped>\n",
       "    .dataframe tbody tr th:only-of-type {\n",
       "        vertical-align: middle;\n",
       "    }\n",
       "\n",
       "    .dataframe tbody tr th {\n",
       "        vertical-align: top;\n",
       "    }\n",
       "\n",
       "    .dataframe thead th {\n",
       "        text-align: right;\n",
       "    }\n",
       "</style>\n",
       "<table border=\"1\" class=\"dataframe\">\n",
       "  <thead>\n",
       "    <tr style=\"text-align: right;\">\n",
       "      <th></th>\n",
       "      <th>BraTS21ID</th>\n",
       "      <th>MGMT_value</th>\n",
       "      <th>MRI_Type</th>\n",
       "    </tr>\n",
       "  </thead>\n",
       "  <tbody>\n",
       "    <tr>\n",
       "      <th>549</th>\n",
       "      <td>803</td>\n",
       "      <td>0</td>\n",
       "      <td>FLAIR</td>\n",
       "    </tr>\n",
       "    <tr>\n",
       "      <th>353</th>\n",
       "      <td>520</td>\n",
       "      <td>1</td>\n",
       "      <td>FLAIR</td>\n",
       "    </tr>\n",
       "    <tr>\n",
       "      <th>272</th>\n",
       "      <td>399</td>\n",
       "      <td>0</td>\n",
       "      <td>FLAIR</td>\n",
       "    </tr>\n",
       "    <tr>\n",
       "      <th>137</th>\n",
       "      <td>206</td>\n",
       "      <td>0</td>\n",
       "      <td>FLAIR</td>\n",
       "    </tr>\n",
       "    <tr>\n",
       "      <th>292</th>\n",
       "      <td>423</td>\n",
       "      <td>0</td>\n",
       "      <td>FLAIR</td>\n",
       "    </tr>\n",
       "  </tbody>\n",
       "</table>\n",
       "</div>"
      ],
      "text/plain": [
       "     BraTS21ID  MGMT_value MRI_Type\n",
       "549        803           0    FLAIR\n",
       "353        520           1    FLAIR\n",
       "272        399           0    FLAIR\n",
       "137        206           0    FLAIR\n",
       "292        423           0    FLAIR"
      ]
     },
     "metadata": {},
     "output_type": "display_data"
    },
    {
     "data": {
      "application/vnd.jupyter.widget-view+json": {
       "model_id": "58d4d694c46242d1ad211ac7a1cce3f1",
       "version_major": 2,
       "version_minor": 0
      },
      "text/plain": [
       "HBox(children=(FloatProgress(value=0.0, max=20.0), HTML(value='')))"
      ]
     },
     "metadata": {},
     "output_type": "display_data"
    },
    {
     "name": "stdout",
     "output_type": "stream",
     "text": [
      "EPOCH: 1\n"
     ]
    },
    {
     "data": {
      "application/vnd.jupyter.widget-view+json": {
       "model_id": "47242b2fd31a4c1c90470c9c4c3e4561",
       "version_major": 2,
       "version_minor": 0
      },
      "text/plain": [
       "HBox(children=(FloatProgress(value=0.0, max=66.0), HTML(value='')))"
      ]
     },
     "metadata": {},
     "output_type": "display_data"
    },
    {
     "name": "stdout",
     "output_type": "stream",
     "text": [
      "Train Step 66/66, train_loss: 0.7299\n"
     ]
    },
    {
     "data": {
      "application/vnd.jupyter.widget-view+json": {
       "model_id": "2f1047dae155495b81ad9d1cd2a74f96",
       "version_major": 2,
       "version_minor": 0
      },
      "text/plain": [
       "HBox(children=(FloatProgress(value=0.0, max=8.0), HTML(value='')))"
      ]
     },
     "metadata": {},
     "output_type": "display_data"
    },
    {
     "name": "stdout",
     "output_type": "stream",
     "text": [
      "outputs 0.5060909390449524 0.0\n",
      "targets 0.5 0.5238320827484131\n",
      "outputs 0.5060909390449524 0.07248\n",
      "targets 0.6225000023841858 0.5071982145309448\n",
      "outputs 0.5060909390449524 0.06938\n",
      "targets 0.5 0.5238320827484131\n",
      "outputs 0.5060909390449524 0.07042\n",
      "targets 0.6225000023841858 0.5071982145309448\n",
      "outputs 0.5060909390449524 0.06938\n",
      "targets 0.3774999976158142 0.5071982145309448\n",
      "outputs 0.5060909390449524 0.07124\n",
      "targets 0.3774999976158142 0.5071982145309448\n",
      "outputs 0.5060909390449524 0.07248\n",
      "targets 0.6225000023841858 0.5071982145309448\n",
      "outputs 0.5060909390449524 0.07160\n",
      "targets 0.7940000295639038 0.43826931715011597\n",
      "Valid Step 8/8, valid_loss: 0.6985\n",
      "[Epoch Train: 1] loss: 0.7299, time: 50.00 s            \n",
      "[Epoch Valid: 1] loss: 0.6985, auc: 0.5000, time: 3.00 s\n",
      "EPOCH: 2\n"
     ]
    },
    {
     "data": {
      "application/vnd.jupyter.widget-view+json": {
       "model_id": "b707132ab68b45239462ccd3bf62e286",
       "version_major": 2,
       "version_minor": 0
      },
      "text/plain": [
       "HBox(children=(FloatProgress(value=0.0, max=66.0), HTML(value='')))"
      ]
     },
     "metadata": {},
     "output_type": "display_data"
    },
    {
     "name": "stdout",
     "output_type": "stream",
     "text": [
      "Train Step 66/66, train_loss: 0.7033\n"
     ]
    },
    {
     "data": {
      "application/vnd.jupyter.widget-view+json": {
       "model_id": "7f40e6073e5745eca39a52e1d27626f4",
       "version_major": 2,
       "version_minor": 0
      },
      "text/plain": [
       "HBox(children=(FloatProgress(value=0.0, max=8.0), HTML(value='')))"
      ]
     },
     "metadata": {},
     "output_type": "display_data"
    },
    {
     "name": "stdout",
     "output_type": "stream",
     "text": [
      "outputs 0.5104498863220215 0.0\n",
      "targets 0.5 0.5238320827484131\n",
      "outputs 0.5104498863220215 0.07254\n",
      "targets 0.6225000023841858 0.5071982145309448\n",
      "outputs 0.5104498863220215 0.06941\n",
      "targets 0.5 0.5238320827484131\n",
      "outputs 0.5104498863220215 0.07045\n",
      "targets 0.6225000023841858 0.5071982145309448\n",
      "outputs 0.5104498863220215 0.06941\n",
      "targets 0.3774999976158142 0.5071982145309448\n",
      "outputs 0.5104498863220215 0.07129\n",
      "targets 0.3774999976158142 0.5071982145309448\n",
      "outputs 0.5104498863220215 0.07254\n",
      "targets 0.6225000023841858 0.5071982145309448\n",
      "outputs 0.5104498863220215 0.07164\n",
      "targets 0.7940000295639038 0.43826931715011597\n",
      "Valid Step 8/8, valid_loss: 0.6988\n",
      "[Epoch Train: 2] loss: 0.7033, time: 49.00 s            \n",
      "[Epoch Valid: 2] loss: 0.6988, auc: 0.5000, time: 3.00 s\n",
      "EPOCH: 3\n"
     ]
    },
    {
     "data": {
      "application/vnd.jupyter.widget-view+json": {
       "model_id": "ce9ee1091e33498d829ba4f541a9e6f3",
       "version_major": 2,
       "version_minor": 0
      },
      "text/plain": [
       "HBox(children=(FloatProgress(value=0.0, max=66.0), HTML(value='')))"
      ]
     },
     "metadata": {},
     "output_type": "display_data"
    },
    {
     "name": "stdout",
     "output_type": "stream",
     "text": [
      "Train Step 66/66, train_loss: 0.7227\n"
     ]
    },
    {
     "data": {
      "application/vnd.jupyter.widget-view+json": {
       "model_id": "883f8bc334aa41ae9ad60e3f8a9ebe81",
       "version_major": 2,
       "version_minor": 0
      },
      "text/plain": [
       "HBox(children=(FloatProgress(value=0.0, max=8.0), HTML(value='')))"
      ]
     },
     "metadata": {},
     "output_type": "display_data"
    },
    {
     "name": "stdout",
     "output_type": "stream",
     "text": [
      "outputs 0.5327075719833374 0.0\n",
      "targets 0.5 0.5238320827484131\n",
      "outputs 0.5327075719833374 0.07282\n",
      "targets 0.6225000023841858 0.5071982145309448\n",
      "outputs 0.5327075719833374 0.06956\n",
      "targets 0.5 0.5238320827484131\n",
      "outputs 0.5327075719833374 0.07065\n",
      "targets 0.6225000023841858 0.5071982145309448\n",
      "outputs 0.5327075719833374 0.06956\n",
      "targets 0.3774999976158142 0.5071982145309448\n",
      "outputs 0.5327075719833374 0.07152\n",
      "targets 0.3774999976158142 0.5071982145309448\n",
      "outputs 0.5327075719833374 0.07282\n",
      "targets 0.6225000023841858 0.5071982145309448\n",
      "outputs 0.5327076315879822 0.07189\n",
      "targets 0.7940000295639038 0.43826931715011597\n",
      "Valid Step 8/8, valid_loss: 0.7005\n",
      "[Epoch Train: 3] loss: 0.7227, time: 49.00 s            \n",
      "[Epoch Valid: 3] loss: 0.7005, auc: 0.5000, time: 3.00 s\n",
      "EPOCH: 4\n"
     ]
    },
    {
     "data": {
      "application/vnd.jupyter.widget-view+json": {
       "model_id": "dd2d5584cd4d4de3ae2df42ce55cfb47",
       "version_major": 2,
       "version_minor": 0
      },
      "text/plain": [
       "HBox(children=(FloatProgress(value=0.0, max=66.0), HTML(value='')))"
      ]
     },
     "metadata": {},
     "output_type": "display_data"
    },
    {
     "name": "stdout",
     "output_type": "stream",
     "text": [
      "Train Step 66/66, train_loss: 0.7238\n"
     ]
    },
    {
     "data": {
      "application/vnd.jupyter.widget-view+json": {
       "model_id": "c531299660ad4ac5873541b03f6981f5",
       "version_major": 2,
       "version_minor": 0
      },
      "text/plain": [
       "HBox(children=(FloatProgress(value=0.0, max=8.0), HTML(value='')))"
      ]
     },
     "metadata": {},
     "output_type": "display_data"
    },
    {
     "name": "stdout",
     "output_type": "stream",
     "text": [
      "outputs 0.47168248891830444 8.315709720818631e-08\n",
      "targets 0.5 0.5238320827484131\n",
      "outputs 0.47168248891830444 8.46691676770206e-08\n",
      "targets 0.6225000023841858 0.5071982145309448\n",
      "outputs 0.47168242931365967 3.379265578473678e-08\n",
      "targets 0.5 0.5238320827484131\n",
      "outputs 0.47168245911598206 8.083598146413351e-08\n",
      "targets 0.6225000023841858 0.5071982145309448\n",
      "outputs 0.4716823995113373 8.90514755269578e-08\n",
      "targets 0.3774999976158142 0.5071982145309448\n",
      "outputs 0.47168245911598206 7.763327403154108e-08\n",
      "targets 0.3774999976158142 0.5071982145309448\n",
      "outputs 0.47168242931365967 5.798611724117109e-08\n",
      "targets 0.6225000023841858 0.5071982145309448\n",
      "outputs 0.47168245911598206 8.924124728082461e-08\n",
      "targets 0.7940000295639038 0.43826931715011597\n",
      "Valid Step 8/8, valid_loss: 0.6961\n",
      "[Epoch Train: 4] loss: 0.7238, time: 49.00 s            \n",
      "[Epoch Valid: 4] loss: 0.6961, auc: 0.4253, time: 3.00 s\n",
      "EPOCH: 5\n"
     ]
    },
    {
     "data": {
      "application/vnd.jupyter.widget-view+json": {
       "model_id": "ff5a22e55fcb4445887ca0505fb8fb3d",
       "version_major": 2,
       "version_minor": 0
      },
      "text/plain": [
       "HBox(children=(FloatProgress(value=0.0, max=66.0), HTML(value='')))"
      ]
     },
     "metadata": {},
     "output_type": "display_data"
    },
    {
     "name": "stdout",
     "output_type": "stream",
     "text": [
      "Train Step 66/66, train_loss: 0.7038\n"
     ]
    },
    {
     "data": {
      "application/vnd.jupyter.widget-view+json": {
       "model_id": "6e72daf86d6643f0a152fb98a605d757",
       "version_major": 2,
       "version_minor": 0
      },
      "text/plain": [
       "HBox(children=(FloatProgress(value=0.0, max=8.0), HTML(value='')))"
      ]
     },
     "metadata": {},
     "output_type": "display_data"
    },
    {
     "name": "stdout",
     "output_type": "stream",
     "text": [
      "outputs 0.5350828766822815 1.111910250983783e-06\n",
      "targets 0.5 0.5238320827484131\n",
      "outputs 0.5350826978683472 1.1099685934823356e-06\n",
      "targets 0.6225000023841858 0.5071982145309448\n",
      "outputs 0.5350825786590576 9.768098152562743e-07\n",
      "targets 0.5 0.5238320827484131\n",
      "outputs 0.535082221031189 1.5050278534545214e-06\n",
      "targets 0.6225000023841858 0.5071982145309448\n",
      "outputs 0.5350823402404785 7.881734518377925e-07\n",
      "targets 0.3774999976158142 0.5071982145309448\n",
      "outputs 0.5350819230079651 6.664001830358757e-07\n",
      "targets 0.3774999976158142 0.5071982145309448\n",
      "outputs 0.5350823402404785 1.0057377721750527e-06\n",
      "targets 0.6225000023841858 0.5071982145309448\n",
      "outputs 0.5350818634033203 2.046554072876461e-06\n",
      "targets 0.7940000295639038 0.43826931715011597\n",
      "Valid Step 8/8, valid_loss: 0.7007\n",
      "[Epoch Train: 5] loss: 0.7038, time: 49.00 s            \n",
      "[Epoch Valid: 5] loss: 0.7007, auc: 0.4102, time: 3.00 s\n",
      "EPOCH: 6\n"
     ]
    },
    {
     "data": {
      "application/vnd.jupyter.widget-view+json": {
       "model_id": "4a0847bc22b24f1abf5897a119d7d5dc",
       "version_major": 2,
       "version_minor": 0
      },
      "text/plain": [
       "HBox(children=(FloatProgress(value=0.0, max=66.0), HTML(value='')))"
      ]
     },
     "metadata": {},
     "output_type": "display_data"
    },
    {
     "name": "stdout",
     "output_type": "stream",
     "text": [
      "Train Step 66/66, train_loss: 0.6904\n"
     ]
    },
    {
     "data": {
      "application/vnd.jupyter.widget-view+json": {
       "model_id": "7d01c9fa37684122939338691b8c98df",
       "version_major": 2,
       "version_minor": 0
      },
      "text/plain": [
       "HBox(children=(FloatProgress(value=0.0, max=8.0), HTML(value='')))"
      ]
     },
     "metadata": {},
     "output_type": "display_data"
    },
    {
     "name": "stdout",
     "output_type": "stream",
     "text": [
      "outputs 0.5431711673736572 0.000142559758387506\n",
      "targets 0.5 0.5238320827484131\n",
      "outputs 0.5431385636329651 0.00015217324835248291\n",
      "targets 0.6225000023841858 0.5071982145309448\n",
      "outputs 0.5431627631187439 0.00020461266103666276\n",
      "targets 0.5 0.5238320827484131\n",
      "outputs 0.5431908369064331 0.00020241453603375703\n",
      "targets 0.6225000023841858 0.5071982145309448\n",
      "outputs 0.5432788133621216 0.00017370845307596028\n",
      "targets 0.3774999976158142 0.5071982145309448\n",
      "outputs 0.5432332754135132 0.00020471330208238214\n",
      "targets 0.3774999976158142 0.5071982145309448\n",
      "outputs 0.5432013869285583 0.00023148863692767918\n",
      "targets 0.6225000023841858 0.5071982145309448\n",
      "outputs 0.543204665184021 0.0002726336242631078\n",
      "targets 0.7940000295639038 0.43826931715011597\n",
      "Valid Step 8/8, valid_loss: 0.7013\n",
      "[Epoch Train: 6] loss: 0.6904, time: 49.00 s            \n",
      "[Epoch Valid: 6] loss: 0.7013, auc: 0.5422, time: 3.00 s\n",
      "auc improved from -inf to 0.5422. Saved model to '/home/RSNA_MICCAI_Brain_Tumor/models/FLAIR-e6-loss0.701-auc0.542.pth'\n",
      "EPOCH: 7\n"
     ]
    },
    {
     "data": {
      "application/vnd.jupyter.widget-view+json": {
       "model_id": "f0db898c37094dc384164052c225f5ef",
       "version_major": 2,
       "version_minor": 0
      },
      "text/plain": [
       "HBox(children=(FloatProgress(value=0.0, max=66.0), HTML(value='')))"
      ]
     },
     "metadata": {},
     "output_type": "display_data"
    },
    {
     "name": "stdout",
     "output_type": "stream",
     "text": [
      "Train Step 66/66, train_loss: 0.7024\n"
     ]
    },
    {
     "data": {
      "application/vnd.jupyter.widget-view+json": {
       "model_id": "1d37d2cb1f854d4fa3cc51276c42f24e",
       "version_major": 2,
       "version_minor": 0
      },
      "text/plain": [
       "HBox(children=(FloatProgress(value=0.0, max=8.0), HTML(value='')))"
      ]
     },
     "metadata": {},
     "output_type": "display_data"
    },
    {
     "name": "stdout",
     "output_type": "stream",
     "text": [
      "outputs 0.5730744004249573 0.00436022412031889\n",
      "targets 0.5 0.5238320827484131\n",
      "outputs 0.5704848766326904 0.00709855230525136\n",
      "targets 0.6225000023841858 0.5071982145309448\n",
      "outputs 0.5718319416046143 0.0038711070083081722\n",
      "targets 0.5 0.5238320827484131\n",
      "outputs 0.5733031034469604 0.003676237538456917\n",
      "targets 0.6225000023841858 0.5071982145309448\n",
      "outputs 0.5720085501670837 0.008630928583443165\n",
      "targets 0.3774999976158142 0.5071982145309448\n",
      "outputs 0.5709866881370544 0.00638799462467432\n",
      "targets 0.3774999976158142 0.5071982145309448\n",
      "outputs 0.5740667581558228 0.004436303861439228\n",
      "targets 0.6225000023841858 0.5071982145309448\n",
      "outputs 0.5613858103752136 0.014461444690823555\n",
      "targets 0.7940000295639038 0.43826931715011597\n",
      "Valid Step 8/8, valid_loss: 0.7038\n",
      "[Epoch Train: 7] loss: 0.7024, time: 49.00 s            \n",
      "[Epoch Valid: 7] loss: 0.7038, auc: 0.5390, time: 3.00 s\n",
      "EPOCH: 8\n"
     ]
    },
    {
     "data": {
      "application/vnd.jupyter.widget-view+json": {
       "model_id": "a293fd9bf48e43a6b7d2649994738977",
       "version_major": 2,
       "version_minor": 0
      },
      "text/plain": [
       "HBox(children=(FloatProgress(value=0.0, max=66.0), HTML(value='')))"
      ]
     },
     "metadata": {},
     "output_type": "display_data"
    },
    {
     "name": "stdout",
     "output_type": "stream",
     "text": [
      "Train Step 4/66, train_loss: 0.7259\r"
     ]
    },
    {
     "data": {
      "application/vnd.jupyter.widget-view+json": {
       "model_id": "c6d2dc5ebaff44aa88941839c958a921",
       "version_major": 2,
       "version_minor": 0
      },
      "text/plain": [
       "HBox(children=(FloatProgress(value=0.0, max=8.0), HTML(value='')))"
      ]
     },
     "metadata": {},
     "output_type": "display_data"
    },
    {
     "name": "stdout",
     "output_type": "stream",
     "text": [
      "outputs 0.49747174978256226 0.005796139128506184\n",
      "targets 0.5 0.5238320827484131\n",
      "outputs 0.4951162040233612 0.004128629807382822\n",
      "targets 0.6225000023841858 0.5071982145309448\n",
      "outputs 0.4983372688293457 0.0046419426798820496\n",
      "targets 0.5 0.5238320827484131\n",
      "outputs 0.49836504459381104 0.003909547813236713\n",
      "targets 0.6225000023841858 0.5071982145309448\n",
      "outputs 0.49721935391426086 0.007047794293612242\n",
      "targets 0.3774999976158142 0.5071982145309448\n",
      "outputs 0.4955735206604004 0.0045509496703743935\n",
      "targets 0.3774999976158142 0.5071982145309448\n",
      "outputs 0.49914276599884033 0.0037625108379870653\n",
      "targets 0.6225000023841858 0.5071982145309448\n",
      "outputs 0.4932694435119629 0.00937110185623169\n",
      "targets 0.7940000295639038 0.43826931715011597\n",
      "Valid Step 8/8, valid_loss: 0.6975\n",
      "auc improved from 0.5422 to 0.6136. Saved model to '/home/RSNA_MICCAI_Brain_Tumor/models/FLAIR-e8-loss0.697-auc0.614.pth'\n",
      "[Epoch Valid: 8] loss: 0.6975, auc: 0.6136, time: 3.00 s\n",
      "Train Step 8/66, train_loss: 0.7158\r"
     ]
    },
    {
     "data": {
      "application/vnd.jupyter.widget-view+json": {
       "model_id": "914da17d770d407e8c342fcab335b90c",
       "version_major": 2,
       "version_minor": 0
      },
      "text/plain": [
       "HBox(children=(FloatProgress(value=0.0, max=8.0), HTML(value='')))"
      ]
     },
     "metadata": {},
     "output_type": "display_data"
    },
    {
     "name": "stdout",
     "output_type": "stream",
     "text": [
      "outputs 0.470571905374527 0.0008479248499497771\n",
      "targets 0.5 0.5238320827484131\n",
      "outputs 0.47070246934890747 0.0009645461104810238\n",
      "targets 0.6225000023841858 0.5071982145309448\n",
      "outputs 0.47074252367019653 0.0015007179463282228\n",
      "targets 0.5 0.5238320827484131\n",
      "outputs 0.4707299768924713 0.0017312145791947842\n",
      "targets 0.6225000023841858 0.5071982145309448\n",
      "outputs 0.47066637873649597 0.0012454161187633872\n",
      "targets 0.3774999976158142 0.5071982145309448\n",
      "outputs 0.470600962638855 0.001047288067638874\n",
      "targets 0.3774999976158142 0.5071982145309448\n",
      "outputs 0.47035619616508484 0.0005082535790279508\n",
      "targets 0.6225000023841858 0.5071982145309448\n",
      "outputs 0.4722575843334198 0.002819688757881522\n",
      "targets 0.7940000295639038 0.43826931715011597\n",
      "Valid Step 8/8, valid_loss: 0.6961\n",
      "[Epoch Valid: 8] loss: 0.6961, auc: 0.4968, time: 3.00 s\n",
      "Train Step 12/66, train_loss: 0.7044\r"
     ]
    },
    {
     "data": {
      "application/vnd.jupyter.widget-view+json": {
       "model_id": "ed4516e2b3ad49a293d0e9939b443357",
       "version_major": 2,
       "version_minor": 0
      },
      "text/plain": [
       "HBox(children=(FloatProgress(value=0.0, max=8.0), HTML(value='')))"
      ]
     },
     "metadata": {},
     "output_type": "display_data"
    },
    {
     "name": "stdout",
     "output_type": "stream",
     "text": [
      "outputs 0.4436720013618469 0.003910743165761232\n",
      "targets 0.5 0.5238320827484131\n",
      "outputs 0.44500863552093506 0.00399350980296731\n",
      "targets 0.6225000023841858 0.5071982145309448\n",
      "outputs 0.4435904622077942 0.002972258487716317\n",
      "targets 0.5 0.5238320827484131\n",
      "outputs 0.44384297728538513 0.0037994165904819965\n",
      "targets 0.6225000023841858 0.5071982145309448\n",
      "outputs 0.44460803270339966 0.005296857096254826\n",
      "targets 0.3774999976158142 0.5071982145309448\n",
      "outputs 0.44429004192352295 0.002870314521715045\n",
      "targets 0.3774999976158142 0.5071982145309448\n",
      "outputs 0.44268998503685 0.002266647992655635\n",
      "targets 0.6225000023841858 0.5071982145309448\n",
      "outputs 0.447998583316803 0.01002611592411995\n",
      "targets 0.7940000295639038 0.43826931715011597\n",
      "Valid Step 8/8, valid_loss: 0.6948\n",
      "[Epoch Valid: 8] loss: 0.6948, auc: 0.3853, time: 3.00 s\n",
      "Train Step 16/66, train_loss: 0.7076\r"
     ]
    },
    {
     "data": {
      "application/vnd.jupyter.widget-view+json": {
       "model_id": "632039ff07b04c66b82a3d5610f22d70",
       "version_major": 2,
       "version_minor": 0
      },
      "text/plain": [
       "HBox(children=(FloatProgress(value=0.0, max=8.0), HTML(value='')))"
      ]
     },
     "metadata": {},
     "output_type": "display_data"
    },
    {
     "name": "stdout",
     "output_type": "stream",
     "text": [
      "outputs 0.4956051707267761 0.006692021153867245\n",
      "targets 0.5 0.5238320827484131\n",
      "outputs 0.49817824363708496 0.006292961537837982\n",
      "targets 0.6225000023841858 0.5071982145309448\n",
      "outputs 0.49438953399658203 0.005670809652656317\n",
      "targets 0.5 0.5238320827484131\n",
      "outputs 0.49449464678764343 0.005518792197108269\n",
      "targets 0.6225000023841858 0.5071982145309448\n",
      "outputs 0.4962978959083557 0.008604612201452255\n",
      "targets 0.3774999976158142 0.5071982145309448\n",
      "outputs 0.4970689117908478 0.005629686173051596\n",
      "targets 0.3774999976158142 0.5071982145309448\n",
      "outputs 0.4936854839324951 0.005407220218330622\n",
      "targets 0.6225000023841858 0.5071982145309448\n",
      "outputs 0.4987269937992096 0.01191397849470377\n",
      "targets 0.7940000295639038 0.43826931715011597\n",
      "Valid Step 8/8, valid_loss: 0.6984\n",
      "[Epoch Valid: 8] loss: 0.6984, auc: 0.3755, time: 3.00 s\n",
      "Train Step 20/66, train_loss: 0.7051\r"
     ]
    },
    {
     "data": {
      "application/vnd.jupyter.widget-view+json": {
       "model_id": "9adfc3481a7e4edda29a54dba1fc1326",
       "version_major": 2,
       "version_minor": 0
      },
      "text/plain": [
       "HBox(children=(FloatProgress(value=0.0, max=8.0), HTML(value='')))"
      ]
     },
     "metadata": {},
     "output_type": "display_data"
    },
    {
     "name": "stdout",
     "output_type": "stream",
     "text": [
      "outputs 0.5231313705444336 0.003680095775052905\n",
      "targets 0.5 0.5238320827484131\n",
      "outputs 0.5245852470397949 0.0035669554490596056\n",
      "targets 0.6225000023841858 0.5071982145309448\n",
      "outputs 0.5219254493713379 0.004615245386958122\n",
      "targets 0.5 0.5238320827484131\n",
      "outputs 0.5218376517295837 0.005941833835095167\n",
      "targets 0.6225000023841858 0.5071982145309448\n",
      "outputs 0.523019552230835 0.004824404139071703\n",
      "targets 0.3774999976158142 0.5071982145309448\n",
      "outputs 0.523901641368866 0.004367873538285494\n",
      "targets 0.3774999976158142 0.5071982145309448\n",
      "outputs 0.5218003392219543 0.004303569905459881\n",
      "targets 0.6225000023841858 0.5071982145309448\n",
      "outputs 0.5230989456176758 0.00512976897880435\n",
      "targets 0.7940000295639038 0.43826931715011597\n",
      "Valid Step 8/8, valid_loss: 0.7001\n",
      "[Epoch Valid: 8] loss: 0.7001, auc: 0.3766, time: 3.00 s\n",
      "Train Step 24/66, train_loss: 0.7052\r"
     ]
    },
    {
     "data": {
      "application/vnd.jupyter.widget-view+json": {
       "model_id": "7c3b054401ae461888bbd88247dbcad5",
       "version_major": 2,
       "version_minor": 0
      },
      "text/plain": [
       "HBox(children=(FloatProgress(value=0.0, max=8.0), HTML(value='')))"
      ]
     },
     "metadata": {},
     "output_type": "display_data"
    },
    {
     "name": "stdout",
     "output_type": "stream",
     "text": [
      "outputs 0.517187237739563 0.0014203384052962065\n",
      "targets 0.5 0.5238320827484131\n",
      "outputs 0.517776370048523 0.0013949052663519979\n",
      "targets 0.6225000023841858 0.5071982145309448\n",
      "outputs 0.5166149735450745 0.0021253267768770456\n",
      "targets 0.5 0.5238320827484131\n",
      "outputs 0.5165914297103882 0.0030790790915489197\n",
      "targets 0.6225000023841858 0.5071982145309448\n",
      "outputs 0.5168187618255615 0.0019194937776774168\n",
      "targets 0.3774999976158142 0.5071982145309448\n",
      "outputs 0.5174294114112854 0.0021291973534971476\n",
      "targets 0.3774999976158142 0.5071982145309448\n",
      "outputs 0.5165106058120728 0.002229441190138459\n",
      "targets 0.6225000023841858 0.5071982145309448\n",
      "outputs 0.5162752270698547 0.002043006243184209\n",
      "targets 0.7940000295639038 0.43826931715011597\n",
      "Valid Step 8/8, valid_loss: 0.6995\n",
      "[Epoch Valid: 8] loss: 0.6995, auc: 0.3528, time: 3.00 s\n",
      "Train Step 28/66, train_loss: 0.7029\r"
     ]
    },
    {
     "data": {
      "application/vnd.jupyter.widget-view+json": {
       "model_id": "d7bf14e1965a4e598fb0bfc72832e114",
       "version_major": 2,
       "version_minor": 0
      },
      "text/plain": [
       "HBox(children=(FloatProgress(value=0.0, max=8.0), HTML(value='')))"
      ]
     },
     "metadata": {},
     "output_type": "display_data"
    },
    {
     "name": "stdout",
     "output_type": "stream",
     "text": [
      "outputs 0.5099807381629944 0.004111632704734802\n",
      "targets 0.5 0.5238320827484131\n",
      "outputs 0.5087271928787231 0.0036596031859517097\n",
      "targets 0.6225000023841858 0.5071982145309448\n",
      "outputs 0.5103821754455566 0.002990078879520297\n",
      "targets 0.5 0.5238320827484131\n",
      "outputs 0.5107659101486206 0.0020655044354498386\n",
      "targets 0.6225000023841858 0.5071982145309448\n",
      "outputs 0.5087486505508423 0.0054015046916902065\n",
      "targets 0.3774999976158142 0.5071982145309448\n",
      "outputs 0.5087398886680603 0.0037466452922672033\n",
      "targets 0.3774999976158142 0.5071982145309448\n",
      "outputs 0.5108223557472229 0.002830235054716468\n",
      "targets 0.6225000023841858 0.5071982145309448\n",
      "outputs 0.5072615742683411 0.00856329221278429\n",
      "targets 0.7940000295639038 0.43826931715011597\n",
      "Valid Step 8/8, valid_loss: 0.6985\n",
      "[Epoch Valid: 8] loss: 0.6985, auc: 0.6136, time: 3.00 s\n",
      "Train Step 32/66, train_loss: 0.7003\r"
     ]
    },
    {
     "data": {
      "application/vnd.jupyter.widget-view+json": {
       "model_id": "c47bfc4ee74648f6a8339a26f36a4efd",
       "version_major": 2,
       "version_minor": 0
      },
      "text/plain": [
       "HBox(children=(FloatProgress(value=0.0, max=8.0), HTML(value='')))"
      ]
     },
     "metadata": {},
     "output_type": "display_data"
    },
    {
     "name": "stdout",
     "output_type": "stream",
     "text": [
      "outputs 0.5154163837432861 0.014971572905778885\n",
      "targets 0.5 0.5238320827484131\n",
      "outputs 0.5109544992446899 0.013835187070071697\n",
      "targets 0.6225000023841858 0.5071982145309448\n",
      "outputs 0.5174432396888733 0.011509650386869907\n",
      "targets 0.5 0.5238320827484131\n",
      "outputs 0.5198373794555664 0.008396454155445099\n",
      "targets 0.6225000023841858 0.5071982145309448\n",
      "outputs 0.5113969445228577 0.020476898178458214\n",
      "targets 0.3774999976158142 0.5071982145309448\n",
      "outputs 0.5111156105995178 0.014552096836268902\n",
      "targets 0.3774999976158142 0.5071982145309448\n",
      "outputs 0.518949031829834 0.011470959521830082\n",
      "targets 0.6225000023841858 0.5071982145309448\n",
      "outputs 0.50657057762146 0.030459929257631302\n",
      "targets 0.7940000295639038 0.43826931715011597\n",
      "Valid Step 8/8, valid_loss: 0.6982\n",
      "auc improved from 0.6136 to 0.6201. Saved model to '/home/RSNA_MICCAI_Brain_Tumor/models/FLAIR-e8-loss0.698-auc0.620.pth'\n",
      "[Epoch Valid: 8] loss: 0.6982, auc: 0.6201, time: 3.00 s\n",
      "Train Step 36/66, train_loss: 0.6992\r"
     ]
    },
    {
     "data": {
      "application/vnd.jupyter.widget-view+json": {
       "model_id": "9353bd6ec7ae42a99cc41d7daa5022e7",
       "version_major": 2,
       "version_minor": 0
      },
      "text/plain": [
       "HBox(children=(FloatProgress(value=0.0, max=8.0), HTML(value='')))"
      ]
     },
     "metadata": {},
     "output_type": "display_data"
    },
    {
     "name": "stdout",
     "output_type": "stream",
     "text": [
      "outputs 0.5670808553695679 0.006419739220291376\n",
      "targets 0.5 0.5238320827484131\n",
      "outputs 0.5624051690101624 0.00816513691097498\n",
      "targets 0.6225000023841858 0.5071982145309448\n",
      "outputs 0.5652714967727661 0.007549090310931206\n",
      "targets 0.5 0.5238320827484131\n",
      "outputs 0.5688897371292114 0.0058981855399906635\n",
      "targets 0.6225000023841858 0.5071982145309448\n",
      "outputs 0.5626134276390076 0.01474672555923462\n",
      "targets 0.3774999976158142 0.5071982145309448\n",
      "outputs 0.560436487197876 0.010427968576550484\n",
      "targets 0.3774999976158142 0.5071982145309448\n",
      "outputs 0.5674639344215393 0.005915150046348572\n",
      "targets 0.6225000023841858 0.5071982145309448\n",
      "outputs 0.5518190860748291 0.03790593892335892\n",
      "targets 0.7940000295639038 0.43826931715011597\n",
      "Valid Step 8/8, valid_loss: 0.7029\n",
      "[Epoch Valid: 8] loss: 0.7029, auc: 0.6093, time: 3.00 s\n",
      "Train Step 40/66, train_loss: 0.6989\r"
     ]
    },
    {
     "data": {
      "application/vnd.jupyter.widget-view+json": {
       "model_id": "5a45aa1a5ebf4918a406d2e67f48da88",
       "version_major": 2,
       "version_minor": 0
      },
      "text/plain": [
       "HBox(children=(FloatProgress(value=0.0, max=8.0), HTML(value='')))"
      ]
     },
     "metadata": {},
     "output_type": "display_data"
    },
    {
     "name": "stdout",
     "output_type": "stream",
     "text": [
      "outputs 0.5068745017051697 0.017505494877696037\n",
      "targets 0.5 0.5238320827484131\n",
      "outputs 0.5084249377250671 0.014371836557984352\n",
      "targets 0.6225000023841858 0.5071982145309448\n",
      "outputs 0.5059986710548401 0.013182686641812325\n",
      "targets 0.5 0.5238320827484131\n",
      "outputs 0.49614983797073364 0.017809420824050903\n",
      "targets 0.6225000023841858 0.5071982145309448\n",
      "outputs 0.5083063840866089 0.024179404601454735\n",
      "targets 0.3774999976158142 0.5071982145309448\n",
      "outputs 0.5119599103927612 0.018741903826594353\n",
      "targets 0.3774999976158142 0.5071982145309448\n",
      "outputs 0.5060024261474609 0.023278042674064636\n",
      "targets 0.6225000023841858 0.5071982145309448\n",
      "outputs 0.516652524471283 0.0262193214148283\n",
      "targets 0.7940000295639038 0.43826931715011597\n",
      "Valid Step 8/8, valid_loss: 0.6998\n",
      "[Epoch Valid: 8] loss: 0.6998, auc: 0.4426, time: 3.00 s\n",
      "Train Step 44/66, train_loss: 0.6989\r"
     ]
    },
    {
     "data": {
      "application/vnd.jupyter.widget-view+json": {
       "model_id": "c229207dd76748659de884c47c6e9580",
       "version_major": 2,
       "version_minor": 0
      },
      "text/plain": [
       "HBox(children=(FloatProgress(value=0.0, max=8.0), HTML(value='')))"
      ]
     },
     "metadata": {},
     "output_type": "display_data"
    },
    {
     "name": "stdout",
     "output_type": "stream",
     "text": [
      "outputs 0.5177724957466125 0.016056092455983162\n",
      "targets 0.5 0.5238320827484131\n",
      "outputs 0.5133813619613647 0.016243712976574898\n",
      "targets 0.6225000023841858 0.5071982145309448\n",
      "outputs 0.5150076746940613 0.01729653589427471\n",
      "targets 0.5 0.5238320827484131\n",
      "outputs 0.5089194774627686 0.024102969095110893\n",
      "targets 0.6225000023841858 0.5071982145309448\n",
      "outputs 0.5195878744125366 0.018026353791356087\n",
      "targets 0.3774999976158142 0.5071982145309448\n",
      "outputs 0.5193279981613159 0.011869500391185284\n",
      "targets 0.3774999976158142 0.5071982145309448\n",
      "outputs 0.5142421722412109 0.025542953982949257\n",
      "targets 0.6225000023841858 0.5071982145309448\n",
      "outputs 0.5204409956932068 0.01915515772998333\n",
      "targets 0.7940000295639038 0.43826931715011597\n",
      "Valid Step 8/8, valid_loss: 0.6995\n",
      "[Epoch Valid: 8] loss: 0.6995, auc: 0.4784, time: 3.00 s\n",
      "Train Step 48/66, train_loss: 0.7033\r"
     ]
    },
    {
     "data": {
      "application/vnd.jupyter.widget-view+json": {
       "model_id": "9578959ccf6d492883cf7d34043f2f72",
       "version_major": 2,
       "version_minor": 0
      },
      "text/plain": [
       "HBox(children=(FloatProgress(value=0.0, max=8.0), HTML(value='')))"
      ]
     },
     "metadata": {},
     "output_type": "display_data"
    },
    {
     "name": "stdout",
     "output_type": "stream",
     "text": [
      "outputs 0.34656089544296265 0.05488530546426773\n",
      "targets 0.5 0.5238320827484131\n",
      "outputs 0.34675395488739014 0.0640704408288002\n",
      "targets 0.6225000023841858 0.5071982145309448\n",
      "outputs 0.3670927882194519 0.05544039234519005\n",
      "targets 0.5 0.5238320827484131\n",
      "outputs 0.340808242559433 0.08205405622720718\n",
      "targets 0.6225000023841858 0.5071982145309448\n",
      "outputs 0.36738282442092896 0.059751350432634354\n",
      "targets 0.3774999976158142 0.5071982145309448\n",
      "outputs 0.38287895917892456 0.05017022415995598\n",
      "targets 0.3774999976158142 0.5071982145309448\n",
      "outputs 0.34684160351753235 0.08519852161407471\n",
      "targets 0.6225000023841858 0.5071982145309448\n",
      "outputs 0.36691123247146606 0.0649409070611\n",
      "targets 0.7940000295639038 0.43826931715011597\n",
      "Valid Step 8/8, valid_loss: 0.6893\n",
      "[Epoch Valid: 8] loss: 0.6893, auc: 0.5606, time: 3.00 s\n",
      "Train Step 52/66, train_loss: 0.7042\r"
     ]
    },
    {
     "data": {
      "application/vnd.jupyter.widget-view+json": {
       "model_id": "b50e085b2cca449b82e00a6bbe8e1daa",
       "version_major": 2,
       "version_minor": 0
      },
      "text/plain": [
       "HBox(children=(FloatProgress(value=0.0, max=8.0), HTML(value='')))"
      ]
     },
     "metadata": {},
     "output_type": "display_data"
    },
    {
     "name": "stdout",
     "output_type": "stream",
     "text": [
      "outputs 0.5125704407691956 0.0013743456220254302\n",
      "targets 0.5 0.5238320827484131\n",
      "outputs 0.5130000114440918 0.0013559457147493958\n",
      "targets 0.6225000023841858 0.5071982145309448\n",
      "outputs 0.5130898356437683 0.0012952116085216403\n",
      "targets 0.5 0.5238320827484131\n",
      "outputs 0.5116086006164551 0.0010410599643364549\n",
      "targets 0.6225000023841858 0.5071982145309448\n",
      "outputs 0.5122551918029785 0.0018091954989358783\n",
      "targets 0.3774999976158142 0.5071982145309448\n",
      "outputs 0.5127242207527161 0.002014376688748598\n",
      "targets 0.3774999976158142 0.5071982145309448\n",
      "outputs 0.5126935243606567 0.0017084808787330985\n",
      "targets 0.6225000023841858 0.5071982145309448\n",
      "outputs 0.5129536986351013 0.0015146658988669515\n",
      "targets 0.7940000295639038 0.43826931715011597\n",
      "Valid Step 8/8, valid_loss: 0.6990\n",
      "[Epoch Valid: 8] loss: 0.6990, auc: 0.4697, time: 3.00 s\n",
      "Train Step 56/66, train_loss: 0.7031\r"
     ]
    },
    {
     "data": {
      "application/vnd.jupyter.widget-view+json": {
       "model_id": "602bd3a0f0d04e8bb43062471df1eb2a",
       "version_major": 2,
       "version_minor": 0
      },
      "text/plain": [
       "HBox(children=(FloatProgress(value=0.0, max=8.0), HTML(value='')))"
      ]
     },
     "metadata": {},
     "output_type": "display_data"
    },
    {
     "name": "stdout",
     "output_type": "stream",
     "text": [
      "outputs 0.5142198801040649 0.00030951114604249597\n",
      "targets 0.5 0.5238320827484131\n",
      "outputs 0.5138070583343506 0.0005577317788265646\n",
      "targets 0.6225000023841858 0.5071982145309448\n",
      "outputs 0.5140426158905029 0.00045721721835434437\n",
      "targets 0.5 0.5238320827484131\n",
      "outputs 0.5144082307815552 0.0004370847891550511\n",
      "targets 0.6225000023841858 0.5071982145309448\n",
      "outputs 0.5141370892524719 0.0006076394347473979\n",
      "targets 0.3774999976158142 0.5071982145309448\n",
      "outputs 0.5139493942260742 0.0006687099230475724\n",
      "targets 0.3774999976158142 0.5071982145309448\n",
      "outputs 0.5140220522880554 0.000524778151884675\n",
      "targets 0.6225000023841858 0.5071982145309448\n",
      "outputs 0.5139753818511963 0.00038141111144796014\n",
      "targets 0.7940000295639038 0.43826931715011597\n",
      "Valid Step 8/8, valid_loss: 0.6991\n",
      "[Epoch Valid: 8] loss: 0.6991, auc: 0.4697, time: 3.00 s\n",
      "Train Step 60/66, train_loss: 0.7026\r"
     ]
    },
    {
     "data": {
      "application/vnd.jupyter.widget-view+json": {
       "model_id": "01f960e4d60848988a1eb7a9acf7af91",
       "version_major": 2,
       "version_minor": 0
      },
      "text/plain": [
       "HBox(children=(FloatProgress(value=0.0, max=8.0), HTML(value='')))"
      ]
     },
     "metadata": {},
     "output_type": "display_data"
    },
    {
     "name": "stdout",
     "output_type": "stream",
     "text": [
      "outputs 0.5277033448219299 0.0031629016157239676\n",
      "targets 0.5 0.5238320827484131\n",
      "outputs 0.5226768851280212 0.008868616074323654\n",
      "targets 0.6225000023841858 0.5071982145309448\n",
      "outputs 0.52582848072052 0.0053014629520475864\n",
      "targets 0.5 0.5238320827484131\n",
      "outputs 0.5294139385223389 0.002864829497411847\n",
      "targets 0.6225000023841858 0.5071982145309448\n",
      "outputs 0.5282440185546875 0.0061665927059948444\n",
      "targets 0.3774999976158142 0.5071982145309448\n",
      "outputs 0.5210116505622864 0.01172559056431055\n",
      "targets 0.3774999976158142 0.5071982145309448\n",
      "outputs 0.5253581404685974 0.008635319769382477\n",
      "targets 0.6225000023841858 0.5071982145309448\n",
      "outputs 0.5238378643989563 0.004896130412817001\n",
      "targets 0.7940000295639038 0.43826931715011597\n",
      "Valid Step 8/8, valid_loss: 0.6999\n",
      "[Epoch Valid: 8] loss: 0.6999, auc: 0.4968, time: 3.00 s\n",
      "Train Step 64/66, train_loss: 0.7023\r"
     ]
    },
    {
     "data": {
      "application/vnd.jupyter.widget-view+json": {
       "model_id": "b616b351696e471bad59b18b353386cb",
       "version_major": 2,
       "version_minor": 0
      },
      "text/plain": [
       "HBox(children=(FloatProgress(value=0.0, max=8.0), HTML(value='')))"
      ]
     },
     "metadata": {},
     "output_type": "display_data"
    },
    {
     "name": "stdout",
     "output_type": "stream",
     "text": [
      "outputs 0.5388166904449463 0.003922680392861366\n",
      "targets 0.5 0.5238320827484131\n",
      "outputs 0.5313517451286316 0.012490220367908478\n",
      "targets 0.6225000023841858 0.5071982145309448\n",
      "outputs 0.5362590551376343 0.0062782797031104565\n",
      "targets 0.5 0.5238320827484131\n",
      "outputs 0.5411391258239746 0.0031273155473172665\n",
      "targets 0.6225000023841858 0.5071982145309448\n",
      "outputs 0.5392162203788757 0.0074022687040269375\n",
      "targets 0.3774999976158142 0.5071982145309448\n",
      "outputs 0.5289176106452942 0.016452061012387276\n",
      "targets 0.3774999976158142 0.5071982145309448\n",
      "outputs 0.5349892377853394 0.0120439687743783\n",
      "targets 0.6225000023841858 0.5071982145309448\n",
      "outputs 0.5340554118156433 0.006600429303944111\n",
      "targets 0.7940000295639038 0.43826931715011597\n",
      "Valid Step 8/8, valid_loss: 0.7005\n",
      "[Epoch Valid: 8] loss: 0.7005, auc: 0.5216, time: 3.00 s\n",
      "Train Step 66/66, train_loss: 0.7014\n"
     ]
    },
    {
     "data": {
      "application/vnd.jupyter.widget-view+json": {
       "model_id": "6ce97b563bca4e1c81225cdaa5683d0e",
       "version_major": 2,
       "version_minor": 0
      },
      "text/plain": [
       "HBox(children=(FloatProgress(value=0.0, max=8.0), HTML(value='')))"
      ]
     },
     "metadata": {},
     "output_type": "display_data"
    },
    {
     "name": "stdout",
     "output_type": "stream",
     "text": [
      "outputs 0.5401182770729065 0.003943286370486021\n",
      "targets 0.5 0.5238320827484131\n",
      "outputs 0.5328731536865234 0.012005318887531757\n",
      "targets 0.6225000023841858 0.5071982145309448\n",
      "outputs 0.5378135442733765 0.005606965161859989\n",
      "targets 0.5 0.5238320827484131\n",
      "outputs 0.5427781939506531 0.002456762595102191\n",
      "targets 0.6225000023841858 0.5071982145309448\n",
      "outputs 0.5404012203216553 0.006911551579833031\n",
      "targets 0.3774999976158142 0.5071982145309448\n",
      "outputs 0.530656099319458 0.015779975801706314\n",
      "targets 0.3774999976158142 0.5071982145309448\n",
      "outputs 0.5364925265312195 0.011370554566383362\n",
      "targets 0.6225000023841858 0.5071982145309448\n",
      "outputs 0.5367044806480408 0.005700675304979086\n",
      "targets 0.7940000295639038 0.43826931715011597\n",
      "Valid Step 8/8, valid_loss: 0.7005\n",
      "[Epoch Train: 8] loss: 0.7014, time: 106.00 s            \n",
      "[Epoch Valid: 8] loss: 0.7005, auc: 0.5271, time: 3.00 s\n",
      "EPOCH: 9\n"
     ]
    },
    {
     "data": {
      "application/vnd.jupyter.widget-view+json": {
       "model_id": "602b797798694278bcd9b4cbe257fbbb",
       "version_major": 2,
       "version_minor": 0
      },
      "text/plain": [
       "HBox(children=(FloatProgress(value=0.0, max=66.0), HTML(value='')))"
      ]
     },
     "metadata": {},
     "output_type": "display_data"
    },
    {
     "name": "stdout",
     "output_type": "stream",
     "text": [
      "Train Step 66/66, train_loss: 0.6979\n"
     ]
    },
    {
     "data": {
      "application/vnd.jupyter.widget-view+json": {
       "model_id": "e7fd1d9368a845ff8d0c669fc695cc97",
       "version_major": 2,
       "version_minor": 0
      },
      "text/plain": [
       "HBox(children=(FloatProgress(value=0.0, max=8.0), HTML(value='')))"
      ]
     },
     "metadata": {},
     "output_type": "display_data"
    },
    {
     "name": "stdout",
     "output_type": "stream",
     "text": [
      "outputs 0.5024348497390747 0.0071664429269731045\n",
      "targets 0.5 0.5238320827484131\n",
      "outputs 0.503751814365387 0.005158540792763233\n",
      "targets 0.6225000023841858 0.5071982145309448\n",
      "outputs 0.5025505423545837 0.010077542625367641\n",
      "targets 0.5 0.5238320827484131\n",
      "outputs 0.5046837329864502 0.007348336279392242\n",
      "targets 0.6225000023841858 0.5071982145309448\n",
      "outputs 0.5032281279563904 0.0073300679214298725\n",
      "targets 0.3774999976158142 0.5071982145309448\n",
      "outputs 0.4991982579231262 0.007276494055986404\n",
      "targets 0.3774999976158142 0.5071982145309448\n",
      "outputs 0.5029059648513794 0.009584634564816952\n",
      "targets 0.6225000023841858 0.5071982145309448\n",
      "outputs 0.4968391954898834 0.012328287586569786\n",
      "targets 0.7940000295639038 0.43826931715011597\n",
      "Valid Step 8/8, valid_loss: 0.6983\n",
      "[Epoch Train: 9] loss: 0.6979, time: 49.00 s            \n",
      "[Epoch Valid: 9] loss: 0.6983, auc: 0.5260, time: 3.00 s\n",
      "EPOCH: 10\n"
     ]
    },
    {
     "data": {
      "application/vnd.jupyter.widget-view+json": {
       "model_id": "fcb12c8f327d4dcda814573501f50a36",
       "version_major": 2,
       "version_minor": 0
      },
      "text/plain": [
       "HBox(children=(FloatProgress(value=0.0, max=66.0), HTML(value='')))"
      ]
     },
     "metadata": {},
     "output_type": "display_data"
    },
    {
     "name": "stdout",
     "output_type": "stream",
     "text": [
      "Train Step 66/66, train_loss: 0.6820\n"
     ]
    },
    {
     "data": {
      "application/vnd.jupyter.widget-view+json": {
       "model_id": "9500080d28034d7c975fd308a54f4ca8",
       "version_major": 2,
       "version_minor": 0
      },
      "text/plain": [
       "HBox(children=(FloatProgress(value=0.0, max=8.0), HTML(value='')))"
      ]
     },
     "metadata": {},
     "output_type": "display_data"
    },
    {
     "name": "stdout",
     "output_type": "stream",
     "text": [
      "outputs 0.764594554901123 0.054787762463092804\n",
      "targets 0.5 0.5238320827484131\n",
      "outputs 0.6608542203903198 0.10526534169912338\n",
      "targets 0.6225000023841858 0.5071982145309448\n",
      "outputs 0.7674951553344727 0.06875748187303543\n",
      "targets 0.5 0.5238320827484131\n",
      "outputs 0.7229281663894653 0.09060933440923691\n",
      "targets 0.6225000023841858 0.5071982145309448\n",
      "outputs 0.6779478192329407 0.0980745479464531\n",
      "targets 0.3774999976158142 0.5071982145309448\n",
      "outputs 0.6824676990509033 0.15406078100204468\n",
      "targets 0.3774999976158142 0.5071982145309448\n",
      "outputs 0.7427159547805786 0.06438592821359634\n",
      "targets 0.6225000023841858 0.5071982145309448\n",
      "outputs 0.6173136830329895 0.1314878612756729\n",
      "targets 0.7940000295639038 0.43826931715011597\n",
      "Valid Step 8/8, valid_loss: 0.7156\n",
      "[Epoch Train: 10] loss: 0.6820, time: 49.00 s            \n",
      "[Epoch Valid: 10] loss: 0.7156, auc: 0.4589, time: 3.00 s\n",
      "EPOCH: 11\n"
     ]
    },
    {
     "data": {
      "application/vnd.jupyter.widget-view+json": {
       "model_id": "740adcd76ef6470587e3996a29a4b095",
       "version_major": 2,
       "version_minor": 0
      },
      "text/plain": [
       "HBox(children=(FloatProgress(value=0.0, max=66.0), HTML(value='')))"
      ]
     },
     "metadata": {},
     "output_type": "display_data"
    },
    {
     "name": "stdout",
     "output_type": "stream",
     "text": [
      "Train Step 66/66, train_loss: 0.6810\n"
     ]
    },
    {
     "data": {
      "application/vnd.jupyter.widget-view+json": {
       "model_id": "845368ed7c5f4ac488474d646ba7d0b5",
       "version_major": 2,
       "version_minor": 0
      },
      "text/plain": [
       "HBox(children=(FloatProgress(value=0.0, max=8.0), HTML(value='')))"
      ]
     },
     "metadata": {},
     "output_type": "display_data"
    },
    {
     "name": "stdout",
     "output_type": "stream",
     "text": [
      "outputs 0.5036776065826416 0.0941789299249649\n",
      "targets 0.5 0.5238320827484131\n",
      "outputs 0.5228573083877563 0.11136630922555923\n",
      "targets 0.6225000023841858 0.5071982145309448\n",
      "outputs 0.4919126033782959 0.09237665683031082\n",
      "targets 0.5 0.5238320827484131\n",
      "outputs 0.537257730960846 0.09603606909513474\n",
      "targets 0.6225000023841858 0.5071982145309448\n",
      "outputs 0.5156697630882263 0.09065945446491241\n",
      "targets 0.3774999976158142 0.5071982145309448\n",
      "outputs 0.5778868198394775 0.032520655542612076\n",
      "targets 0.3774999976158142 0.5071982145309448\n",
      "outputs 0.43392258882522583 0.10535355657339096\n",
      "targets 0.6225000023841858 0.5071982145309448\n",
      "outputs 0.5029078125953674 0.08100442588329315\n",
      "targets 0.7940000295639038 0.43826931715011597\n",
      "Valid Step 8/8, valid_loss: 0.6934\n",
      "[Epoch Train: 11] loss: 0.6810, time: 49.00 s            \n",
      "[Epoch Valid: 11] loss: 0.6934, auc: 0.6071, time: 3.00 s\n",
      "EPOCH: 12\n"
     ]
    },
    {
     "data": {
      "application/vnd.jupyter.widget-view+json": {
       "model_id": "86a4c1d85a494831aa080baa1afa304a",
       "version_major": 2,
       "version_minor": 0
      },
      "text/plain": [
       "HBox(children=(FloatProgress(value=0.0, max=66.0), HTML(value='')))"
      ]
     },
     "metadata": {},
     "output_type": "display_data"
    },
    {
     "name": "stdout",
     "output_type": "stream",
     "text": [
      "Train Step 66/66, train_loss: 0.6242\n"
     ]
    },
    {
     "data": {
      "application/vnd.jupyter.widget-view+json": {
       "model_id": "fd2c81b6f7ba4ecf9b21a61a99889f80",
       "version_major": 2,
       "version_minor": 0
      },
      "text/plain": [
       "HBox(children=(FloatProgress(value=0.0, max=8.0), HTML(value='')))"
      ]
     },
     "metadata": {},
     "output_type": "display_data"
    },
    {
     "name": "stdout",
     "output_type": "stream",
     "text": [
      "outputs 0.4987989664077759 0.33036836981773376\n",
      "targets 0.5 0.5238320827484131\n",
      "outputs 0.37184035778045654 0.28155821561813354\n",
      "targets 0.6225000023841858 0.5071982145309448\n",
      "outputs 0.38317739963531494 0.29768845438957214\n",
      "targets 0.5 0.5238320827484131\n",
      "outputs 0.47592246532440186 0.3110983073711395\n",
      "targets 0.6225000023841858 0.5071982145309448\n",
      "outputs 0.5230014324188232 0.2773588001728058\n",
      "targets 0.3774999976158142 0.5071982145309448\n",
      "outputs 0.4262371361255646 0.28761252760887146\n",
      "targets 0.3774999976158142 0.5071982145309448\n",
      "outputs 0.42934921383857727 0.37184518575668335\n",
      "targets 0.6225000023841858 0.5071982145309448\n",
      "outputs 0.24590127170085907 0.2026430070400238\n",
      "targets 0.7940000295639038 0.43826931715011597\n",
      "Valid Step 8/8, valid_loss: 0.6996\n",
      "[Epoch Train: 12] loss: 0.6242, time: 49.00 s            \n",
      "[Epoch Valid: 12] loss: 0.6996, auc: 0.5195, time: 3.00 s\n",
      "EPOCH: 13\n"
     ]
    },
    {
     "data": {
      "application/vnd.jupyter.widget-view+json": {
       "model_id": "7bb3ddd06bbf46c7baf97ff1fd94c368",
       "version_major": 2,
       "version_minor": 0
      },
      "text/plain": [
       "HBox(children=(FloatProgress(value=0.0, max=66.0), HTML(value='')))"
      ]
     },
     "metadata": {},
     "output_type": "display_data"
    },
    {
     "name": "stdout",
     "output_type": "stream",
     "text": [
      "Train Step 66/66, train_loss: 0.4986\n"
     ]
    },
    {
     "data": {
      "application/vnd.jupyter.widget-view+json": {
       "model_id": "f21677ce6b174e99b7b787ac9ddbaab3",
       "version_major": 2,
       "version_minor": 0
      },
      "text/plain": [
       "HBox(children=(FloatProgress(value=0.0, max=8.0), HTML(value='')))"
      ]
     },
     "metadata": {},
     "output_type": "display_data"
    },
    {
     "name": "stdout",
     "output_type": "stream",
     "text": [
      "outputs 0.5144076347351074 0.3746855854988098\n",
      "targets 0.5 0.5238320827484131\n",
      "outputs 0.5531104803085327 0.46789348125457764\n",
      "targets 0.6225000023841858 0.5071982145309448\n",
      "outputs 0.6441813707351685 0.36384955048561096\n",
      "targets 0.5 0.5238320827484131\n",
      "outputs 0.6552995443344116 0.3410334289073944\n",
      "targets 0.6225000023841858 0.5071982145309448\n",
      "outputs 0.44188714027404785 0.3653299808502197\n",
      "targets 0.3774999976158142 0.5071982145309448\n",
      "outputs 0.7509750127792358 0.3449714183807373\n",
      "targets 0.3774999976158142 0.5071982145309448\n",
      "outputs 0.30097073316574097 0.4075004458427429\n",
      "targets 0.6225000023841858 0.5071982145309448\n",
      "outputs 0.6097519993782043 0.4646557867527008\n",
      "targets 0.7940000295639038 0.43826931715011597\n",
      "Valid Step 8/8, valid_loss: 0.6908\n",
      "[Epoch Train: 13] loss: 0.4986, time: 49.00 s            \n",
      "[Epoch Valid: 13] loss: 0.6908, auc: 0.6353, time: 3.00 s\n",
      "auc improved from 0.6201 to 0.6353. Saved model to '/home/RSNA_MICCAI_Brain_Tumor/models/FLAIR-e13-loss0.691-auc0.635.pth'\n",
      "EPOCH: 14\n"
     ]
    },
    {
     "data": {
      "application/vnd.jupyter.widget-view+json": {
       "model_id": "dcd269d5ab5b442a86fd3c55713513d0",
       "version_major": 2,
       "version_minor": 0
      },
      "text/plain": [
       "HBox(children=(FloatProgress(value=0.0, max=66.0), HTML(value='')))"
      ]
     },
     "metadata": {},
     "output_type": "display_data"
    },
    {
     "name": "stdout",
     "output_type": "stream",
     "text": [
      "Train Step 66/66, train_loss: 0.4642\n"
     ]
    },
    {
     "data": {
      "application/vnd.jupyter.widget-view+json": {
       "model_id": "0065ab486f7f44779b7afb17cbae8ca9",
       "version_major": 2,
       "version_minor": 0
      },
      "text/plain": [
       "HBox(children=(FloatProgress(value=0.0, max=8.0), HTML(value='')))"
      ]
     },
     "metadata": {},
     "output_type": "display_data"
    },
    {
     "name": "stdout",
     "output_type": "stream",
     "text": [
      "outputs 0.3708629906177521 0.2620803117752075\n",
      "targets 0.5 0.5238320827484131\n",
      "outputs 0.5304830074310303 0.3761390149593353\n",
      "targets 0.6225000023841858 0.5071982145309448\n",
      "outputs 0.3119603395462036 0.27756616473197937\n",
      "targets 0.5 0.5238320827484131\n",
      "outputs 0.6499030590057373 0.3327748775482178\n",
      "targets 0.6225000023841858 0.5071982145309448\n",
      "outputs 0.3542877435684204 0.28054279088974\n",
      "targets 0.3774999976158142 0.5071982145309448\n",
      "outputs 0.6793546080589294 0.32926011085510254\n",
      "targets 0.3774999976158142 0.5071982145309448\n",
      "outputs 0.5810348987579346 0.3544817268848419\n",
      "targets 0.6225000023841858 0.5071982145309448\n",
      "outputs 0.4249865710735321 0.25765466690063477\n",
      "targets 0.7940000295639038 0.43826931715011597\n",
      "Valid Step 8/8, valid_loss: 0.6827\n",
      "[Epoch Train: 14] loss: 0.4642, time: 49.00 s            \n",
      "[Epoch Valid: 14] loss: 0.6827, auc: 0.6201, time: 3.00 s\n",
      "EPOCH: 15\n"
     ]
    },
    {
     "data": {
      "application/vnd.jupyter.widget-view+json": {
       "model_id": "7bdcc26ced144f0994a694c27249cd35",
       "version_major": 2,
       "version_minor": 0
      },
      "text/plain": [
       "HBox(children=(FloatProgress(value=0.0, max=66.0), HTML(value='')))"
      ]
     },
     "metadata": {},
     "output_type": "display_data"
    },
    {
     "name": "stdout",
     "output_type": "stream",
     "text": [
      "Train Step 66/66, train_loss: 0.2426\n"
     ]
    },
    {
     "data": {
      "application/vnd.jupyter.widget-view+json": {
       "model_id": "0851d533dd5644ef9ec2cbe171b5a3df",
       "version_major": 2,
       "version_minor": 0
      },
      "text/plain": [
       "HBox(children=(FloatProgress(value=0.0, max=8.0), HTML(value='')))"
      ]
     },
     "metadata": {},
     "output_type": "display_data"
    },
    {
     "name": "stdout",
     "output_type": "stream",
     "text": [
      "outputs 0.6489312648773193 0.39378270506858826\n",
      "targets 0.5 0.5238320827484131\n",
      "outputs 0.5618534684181213 0.45465293526649475\n",
      "targets 0.6225000023841858 0.5071982145309448\n",
      "outputs 0.5551797747612 0.3937271237373352\n",
      "targets 0.5 0.5238320827484131\n",
      "outputs 0.5956836938858032 0.3674505352973938\n",
      "targets 0.6225000023841858 0.5071982145309448\n",
      "outputs 0.5049037933349609 0.3954530954360962\n",
      "targets 0.3774999976158142 0.5071982145309448\n",
      "outputs 0.604387640953064 0.3348062038421631\n",
      "targets 0.3774999976158142 0.5071982145309448\n",
      "outputs 0.735934853553772 0.29358407855033875\n",
      "targets 0.6225000023841858 0.5071982145309448\n",
      "outputs 0.5016423463821411 0.4552786350250244\n",
      "targets 0.7940000295639038 0.43826931715011597\n",
      "Valid Step 8/8, valid_loss: 0.7072\n",
      "[Epoch Train: 15] loss: 0.2426, time: 49.00 s            \n",
      "[Epoch Valid: 15] loss: 0.7072, auc: 0.5498, time: 3.00 s\n",
      "EPOCH: 16\n"
     ]
    },
    {
     "data": {
      "application/vnd.jupyter.widget-view+json": {
       "model_id": "592cdbd4e7784e4a995cd5bbe06cf788",
       "version_major": 2,
       "version_minor": 0
      },
      "text/plain": [
       "HBox(children=(FloatProgress(value=0.0, max=66.0), HTML(value='')))"
      ]
     },
     "metadata": {},
     "output_type": "display_data"
    },
    {
     "name": "stdout",
     "output_type": "stream",
     "text": [
      "Train Step 66/66, train_loss: 0.2119\n"
     ]
    },
    {
     "data": {
      "application/vnd.jupyter.widget-view+json": {
       "model_id": "5aafd2c8ec9b419eac1ab44c6085f3ea",
       "version_major": 2,
       "version_minor": 0
      },
      "text/plain": [
       "HBox(children=(FloatProgress(value=0.0, max=8.0), HTML(value='')))"
      ]
     },
     "metadata": {},
     "output_type": "display_data"
    },
    {
     "name": "stdout",
     "output_type": "stream",
     "text": [
      "outputs 0.6249541640281677 0.4625820815563202\n",
      "targets 0.5 0.5238320827484131\n",
      "outputs 0.41192060708999634 0.45499855279922485\n",
      "targets 0.6225000023841858 0.5071982145309448\n",
      "outputs 0.3788802921772003 0.4425785541534424\n",
      "targets 0.5 0.5238320827484131\n",
      "outputs 0.37893232703208923 0.3556773364543915\n",
      "targets 0.6225000023841858 0.5071982145309448\n",
      "outputs 0.5296882390975952 0.43536755442619324\n",
      "targets 0.3774999976158142 0.5071982145309448\n",
      "outputs 0.5469996929168701 0.43194055557250977\n",
      "targets 0.3774999976158142 0.5071982145309448\n",
      "outputs 0.48250994086265564 0.4423491358757019\n",
      "targets 0.6225000023841858 0.5071982145309448\n",
      "outputs 0.3617149293422699 0.40188169479370117\n",
      "targets 0.7940000295639038 0.43826931715011597\n",
      "Valid Step 8/8, valid_loss: 0.7033\n",
      "[Epoch Train: 16] loss: 0.2119, time: 49.00 s            \n",
      "[Epoch Valid: 16] loss: 0.7033, auc: 0.5281, time: 3.00 s\n",
      "EPOCH: 17\n"
     ]
    },
    {
     "data": {
      "application/vnd.jupyter.widget-view+json": {
       "model_id": "984207278bcf477995457feaf6afaccb",
       "version_major": 2,
       "version_minor": 0
      },
      "text/plain": [
       "HBox(children=(FloatProgress(value=0.0, max=66.0), HTML(value='')))"
      ]
     },
     "metadata": {},
     "output_type": "display_data"
    },
    {
     "name": "stdout",
     "output_type": "stream",
     "text": [
      "Train Step 66/66, train_loss: 0.1438\n"
     ]
    },
    {
     "data": {
      "application/vnd.jupyter.widget-view+json": {
       "model_id": "d6164559aae041f6886b6d66b26058ed",
       "version_major": 2,
       "version_minor": 0
      },
      "text/plain": [
       "HBox(children=(FloatProgress(value=0.0, max=8.0), HTML(value='')))"
      ]
     },
     "metadata": {},
     "output_type": "display_data"
    },
    {
     "name": "stdout",
     "output_type": "stream",
     "text": [
      "outputs 0.618233323097229 0.46277663111686707\n",
      "targets 0.5 0.5238320827484131\n",
      "outputs 0.49328356981277466 0.4852183759212494\n",
      "targets 0.6225000023841858 0.5071982145309448\n",
      "outputs 0.3915489912033081 0.4335983395576477\n",
      "targets 0.5 0.5238320827484131\n",
      "outputs 0.32327115535736084 0.4038819372653961\n",
      "targets 0.6225000023841858 0.5071982145309448\n",
      "outputs 0.5667937994003296 0.4345986545085907\n",
      "targets 0.3774999976158142 0.5071982145309448\n",
      "outputs 0.6203405261039734 0.48578721284866333\n",
      "targets 0.3774999976158142 0.5071982145309448\n",
      "outputs 0.46751168370246887 0.42422762513160706\n",
      "targets 0.6225000023841858 0.5071982145309448\n",
      "outputs 0.48593974113464355 0.4538784623146057\n",
      "targets 0.7940000295639038 0.43826931715011597\n",
      "Valid Step 8/8, valid_loss: 0.7015\n",
      "[Epoch Train: 17] loss: 0.1438, time: 49.00 s            \n",
      "[Epoch Valid: 17] loss: 0.7015, auc: 0.5476, time: 3.00 s\n",
      "EPOCH: 18\n"
     ]
    },
    {
     "data": {
      "application/vnd.jupyter.widget-view+json": {
       "model_id": "580888fccfb147af817705baa6188d76",
       "version_major": 2,
       "version_minor": 0
      },
      "text/plain": [
       "HBox(children=(FloatProgress(value=0.0, max=66.0), HTML(value='')))"
      ]
     },
     "metadata": {},
     "output_type": "display_data"
    },
    {
     "name": "stdout",
     "output_type": "stream",
     "text": [
      "Train Step 66/66, train_loss: 0.1346\n"
     ]
    },
    {
     "data": {
      "application/vnd.jupyter.widget-view+json": {
       "model_id": "6478763976af41e0a4a7eecfc8cc3930",
       "version_major": 2,
       "version_minor": 0
      },
      "text/plain": [
       "HBox(children=(FloatProgress(value=0.0, max=8.0), HTML(value='')))"
      ]
     },
     "metadata": {},
     "output_type": "display_data"
    },
    {
     "name": "stdout",
     "output_type": "stream",
     "text": [
      "outputs 0.6472846865653992 0.403169184923172\n",
      "targets 0.5 0.5238320827484131\n",
      "outputs 0.47754618525505066 0.4864388108253479\n",
      "targets 0.6225000023841858 0.5071982145309448\n",
      "outputs 0.40152716636657715 0.41644126176834106\n",
      "targets 0.5 0.5238320827484131\n",
      "outputs 0.4072985053062439 0.4167150557041168\n",
      "targets 0.6225000023841858 0.5071982145309448\n",
      "outputs 0.543145477771759 0.4337964355945587\n",
      "targets 0.3774999976158142 0.5071982145309448\n",
      "outputs 0.6209250688552856 0.49229392409324646\n",
      "targets 0.3774999976158142 0.5071982145309448\n",
      "outputs 0.5533555746078491 0.45145291090011597\n",
      "targets 0.6225000023841858 0.5071982145309448\n",
      "outputs 0.510285496711731 0.47791677713394165\n",
      "targets 0.7940000295639038 0.43826931715011597\n",
      "Valid Step 8/8, valid_loss: 0.6988\n",
      "[Epoch Train: 18] loss: 0.1346, time: 49.00 s            \n",
      "[Epoch Valid: 18] loss: 0.6988, auc: 0.5628, time: 3.00 s\n",
      "EPOCH: 19\n"
     ]
    },
    {
     "data": {
      "application/vnd.jupyter.widget-view+json": {
       "model_id": "5f89e48701d249b3ad90afe7fada6f53",
       "version_major": 2,
       "version_minor": 0
      },
      "text/plain": [
       "HBox(children=(FloatProgress(value=0.0, max=66.0), HTML(value='')))"
      ]
     },
     "metadata": {},
     "output_type": "display_data"
    },
    {
     "name": "stdout",
     "output_type": "stream",
     "text": [
      "Train Step 66/66, train_loss: 0.1396\n"
     ]
    },
    {
     "data": {
      "application/vnd.jupyter.widget-view+json": {
       "model_id": "69493706b6fb4ff1bdcd1f05a2c95271",
       "version_major": 2,
       "version_minor": 0
      },
      "text/plain": [
       "HBox(children=(FloatProgress(value=0.0, max=8.0), HTML(value='')))"
      ]
     },
     "metadata": {},
     "output_type": "display_data"
    },
    {
     "name": "stdout",
     "output_type": "stream",
     "text": [
      "outputs 0.67146897315979 0.3964156210422516\n",
      "targets 0.5 0.5238320827484131\n",
      "outputs 0.47429749369621277 0.4857198894023895\n",
      "targets 0.6225000023841858 0.5071982145309448\n",
      "outputs 0.4664004445075989 0.4677324891090393\n",
      "targets 0.5 0.5238320827484131\n",
      "outputs 0.4205050766468048 0.42985421419143677\n",
      "targets 0.6225000023841858 0.5071982145309448\n",
      "outputs 0.5317089557647705 0.42695504426956177\n",
      "targets 0.3774999976158142 0.5071982145309448\n",
      "outputs 0.6232287883758545 0.4988522231578827\n",
      "targets 0.3774999976158142 0.5071982145309448\n",
      "outputs 0.5941752195358276 0.4716480076313019\n",
      "targets 0.6225000023841858 0.5071982145309448\n",
      "outputs 0.49993863701820374 0.4870833158493042\n",
      "targets 0.7940000295639038 0.43826931715011597\n",
      "Valid Step 8/8, valid_loss: 0.7089\n",
      "[Epoch Train: 19] loss: 0.1396, time: 49.00 s            \n",
      "[Epoch Valid: 19] loss: 0.7089, auc: 0.5325, time: 3.00 s\n",
      "EPOCH: 20\n"
     ]
    },
    {
     "data": {
      "application/vnd.jupyter.widget-view+json": {
       "model_id": "bd87aa8af94c4f21a79899343c63dfe4",
       "version_major": 2,
       "version_minor": 0
      },
      "text/plain": [
       "HBox(children=(FloatProgress(value=0.0, max=66.0), HTML(value='')))"
      ]
     },
     "metadata": {},
     "output_type": "display_data"
    },
    {
     "name": "stdout",
     "output_type": "stream",
     "text": [
      "Train Step 66/66, train_loss: 0.0966\n"
     ]
    },
    {
     "data": {
      "application/vnd.jupyter.widget-view+json": {
       "model_id": "e4b3183456b74f7b9bf88cb9bd654933",
       "version_major": 2,
       "version_minor": 0
      },
      "text/plain": [
       "HBox(children=(FloatProgress(value=0.0, max=8.0), HTML(value='')))"
      ]
     },
     "metadata": {},
     "output_type": "display_data"
    },
    {
     "name": "stdout",
     "output_type": "stream",
     "text": [
      "outputs 0.688805103302002 0.39908894896507263\n",
      "targets 0.5 0.5238320827484131\n",
      "outputs 0.47842901945114136 0.48662060499191284\n",
      "targets 0.6225000023841858 0.5071982145309448\n",
      "outputs 0.47377362847328186 0.47984832525253296\n",
      "targets 0.5 0.5238320827484131\n",
      "outputs 0.4042466878890991 0.4344313144683838\n",
      "targets 0.6225000023841858 0.5071982145309448\n",
      "outputs 0.5268121957778931 0.41981083154678345\n",
      "targets 0.3774999976158142 0.5071982145309448\n",
      "outputs 0.6230644583702087 0.4996320903301239\n",
      "targets 0.3774999976158142 0.5071982145309448\n",
      "outputs 0.6030771732330322 0.475765198469162\n",
      "targets 0.6225000023841858 0.5071982145309448\n",
      "outputs 0.5066754817962646 0.4888018071651459\n",
      "targets 0.7940000295639038 0.43826931715011597\n",
      "Valid Step 8/8, valid_loss: 0.7128\n",
      "[Epoch Train: 20] loss: 0.0966, time: 49.00 s            \n",
      "[Epoch Valid: 20] loss: 0.7128, auc: 0.5281, time: 3.00 s\n",
      "\n"
     ]
    },
    {
     "data": {
      "image/png": "[encoded data removed]",
      "text/plain": [
       "<Figure size 432x288 with 1 Axes>"
      ]
     },
     "metadata": {
      "needs_background": "light"
     },
     "output_type": "display_data"
    }
   ],
   "source": [
    "modelfiles = []\n",
    "\n",
    "modelfiles.append(train_mri_type(df_train, df_valid, 'FLAIR'))"
   ]
  },
  {
   "cell_type": "markdown",
   "id": "3152c42b-620d-4dbe-9788-f1e1d72316bc",
   "metadata": {},
   "source": [
    "## Predict Function"
   ]
  },
  {
   "cell_type": "code",
   "execution_count": 30,
   "id": "c39a33b3-04d9-4b94-81e3-7330497bad82",
   "metadata": {},
   "outputs": [],
   "source": [
    "def predict(modelfile, df, mri_type, split):\n",
    "    print(\"Predict:\", modelfile, mri_type, df.shape)\n",
    "    df.loc[:,\"MRI_Type\"] = mri_type\n",
    "    data_retriever = Dataset(\n",
    "        df.index.values, \n",
    "        mri_type=df[\"MRI_Type\"].values,\n",
    "        split=split\n",
    "    )\n",
    "\n",
    "    data_loader = torch_data.DataLoader(\n",
    "        data_retriever,\n",
    "        batch_size=cfg.batch_size,\n",
    "        shuffle=False,\n",
    "        num_workers=8,\n",
    "    )\n",
    "   \n",
    "    model = create_model()\n",
    "    \n",
    "    checkpoint = torch.load(modelfile)\n",
    "    model.load_state_dict(checkpoint[\"model_state_dict\"])\n",
    "    model.eval()\n",
    "    \n",
    "    y_pred = []\n",
    "    ids = []\n",
    "\n",
    "    for e, batch in enumerate(data_loader,1):\n",
    "        print(f\"{e}/{len(data_loader)}\", end=\"\\r\")\n",
    "        with torch.no_grad():\n",
    "            tmp_pred = torch.sigmoid(model(batch[\"X\"].to(cfg.device))).cpu().numpy().squeeze()\n",
    "            print('tmp_pred', tmp_pred)\n",
    "            if tmp_pred.size == 1:\n",
    "                y_pred.append(tmp_pred)\n",
    "            else:\n",
    "                y_pred.extend(tmp_pred.tolist())\n",
    "            ids.extend(batch[\"id\"].numpy().tolist())\n",
    "            \n",
    "    preddf = pd.DataFrame({\"BraTS21ID\": ids, \"MGMT_value\": y_pred}) \n",
    "    preddf = preddf.set_index(\"BraTS21ID\")\n",
    "    return preddf"
   ]
  },
  {
   "cell_type": "markdown",
   "id": "3d294be0-ac8a-476f-ac70-9de85ee8c76e",
   "metadata": {},
   "source": [
    "## Ensemble for validation"
   ]
  },
  {
   "cell_type": "code",
   "execution_count": 31,
   "id": "4b905000-3014-4f23-b715-b882527edf2d",
   "metadata": {},
   "outputs": [],
   "source": [
    "df_valid = df_valid.set_index(\"BraTS21ID\")"
   ]
  },
  {
   "cell_type": "code",
   "execution_count": 32,
   "id": "055e4130-2097-406d-b946-7d379ea24126",
   "metadata": {},
   "outputs": [
    {
     "name": "stdout",
     "output_type": "stream",
     "text": [
      "Predict: /home/RSNA_MICCAI_Brain_Tumor/models/FLAIR-e13-loss0.691-auc0.635.pth FLAIR (61, 3)\n"
     ]
    },
    {
     "name": "stderr",
     "output_type": "stream",
     "text": [
      "/opt/conda/lib/python3.8/site-packages/torch/utils/data/dataloader.py:474: UserWarning: This DataLoader will create 8 worker processes in total. Our suggested max number of worker in current system is 7, which is smaller than what this DataLoader is going to create. Please be aware that excessive worker creation might get DataLoader running slow or even freeze, lower the worker number to avoid potential slowness/freeze if necessary.\n",
      "  warnings.warn(_create_warning_msg(\n"
     ]
    },
    {
     "name": "stdout",
     "output_type": "stream",
     "text": [
      "tmp_pred [0.20538683 0.9714096  0.08439184 0.85764676 0.02867107 0.48457825\n",
      " 0.6081684  0.8750083 ]\n",
      "tmp_pred [0.03179292 0.9944435  0.0068042  0.92296636 0.5368448  0.93676764\n",
      " 0.00923379 0.98603094]\n",
      "tmp_pred [0.66226596 0.8253953  0.94973546 0.0018513  0.8724228  0.8575659\n",
      " 0.8411833  0.1430309 ]\n",
      "tmp_pred [0.27293274 0.80958825 0.91542584 0.94567233 0.92216015 0.8977027\n",
      " 0.1491482  0.329766  ]\n",
      "tmp_pred [0.8240062  0.3392947  0.1069571  0.75913674 0.08463106 0.4557307\n",
      " 0.9483667  0.016974  ]\n",
      "tmp_pred [9.6495551e-01 9.3880039e-01 6.9606077e-04 9.7024405e-01 4.8014799e-01\n",
      " 8.7953526e-01 9.7112107e-01 8.0229968e-01]\n",
      "tmp_pred [0.01095867 0.14775349 0.03960513 0.20737153 0.07884777 0.91480994\n",
      " 0.98845726 0.01996204]\n",
      "tmp_pred [0.99422956 0.07450246 0.92078567 0.9294468  0.12979539]\n",
      "Validation ensemble AUC: 0.6353\n"
     ]
    },
    {
     "data": {
      "text/plain": [
       "<seaborn.axisgrid.FacetGrid at 0x7facbf2c0df0>"
      ]
     },
     "execution_count": 32,
     "metadata": {},
     "output_type": "execute_result"
    },
    {
     "data": {
      "image/png": "[encoded data removed]",
      "text/plain": [
       "<Figure size 360x360 with 1 Axes>"
      ]
     },
     "metadata": {
      "needs_background": "light"
     },
     "output_type": "display_data"
    }
   ],
   "source": [
    "df_valid[\"MGMT_pred\"] = 0\n",
    "mri_types = ['FLAIR']\n",
    "for m, mtype in zip(modelfiles,  mri_types):\n",
    "    pred = predict(m, df_valid, mtype, \"train\")\n",
    "    df_valid[\"MGMT_pred\"] += pred[\"MGMT_value\"]\n",
    "df_valid[\"MGMT_pred\"] /= len(modelfiles)\n",
    "auc = roc_auc_score(df_valid[\"MGMT_value\"], df_valid[\"MGMT_pred\"])\n",
    "print(f\"Validation ensemble AUC: {auc:.4f}\")\n",
    "sns.displot(df_valid[\"MGMT_pred\"])"
   ]
  },
  {
   "cell_type": "code",
   "execution_count": null,
   "id": "3d0aa38d-e13e-4fcb-92c6-477d0c1c7c5a",
   "metadata": {},
   "outputs": [],
   "source": []
  }
 ],
 "metadata": {
  "kernelspec": {
   "display_name": "Python 3",
   "language": "python",
   "name": "python3"
  },
  "language_info": {
   "codemirror_mode": {
    "name": "ipython",
    "version": 3
   },
   "file_extension": ".py",
   "mimetype": "text/x-python",
   "name": "python",
   "nbconvert_exporter": "python",
   "pygments_lexer": "ipython3",
   "version": "3.8.5"
  }
 },
 "nbformat": 4,
 "nbformat_minor": 5
}
