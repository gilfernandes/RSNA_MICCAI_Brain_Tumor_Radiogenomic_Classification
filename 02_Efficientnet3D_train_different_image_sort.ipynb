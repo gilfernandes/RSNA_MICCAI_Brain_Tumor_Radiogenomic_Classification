{
 "cells": [
  {
   "cell_type": "code",
   "execution_count": 1,
   "id": "72117177-df3f-4363-a641-da66a457edf3",
   "metadata": {},
   "outputs": [],
   "source": [
    "# !pip install pydicom"
   ]
  },
  {
   "cell_type": "code",
   "execution_count": 2,
   "id": "c33b20de-fe4a-4b0d-bc34-4279cfb9ef3c",
   "metadata": {},
   "outputs": [],
   "source": [
    "# !pip install git+https://github.com/shijianjian/EfficientNet-PyTorch-3D"
   ]
  },
  {
   "cell_type": "code",
   "execution_count": 1,
   "id": "44c5d7f0-ba25-4c0d-bd2f-0b1e48ef8f55",
   "metadata": {},
   "outputs": [],
   "source": [
    "import os\n",
    "import sys \n",
    "import json\n",
    "import glob\n",
    "import random\n",
    "import collections\n",
    "import time\n",
    "import re\n",
    "\n",
    "import numpy as np\n",
    "import pandas as pd\n",
    "import pydicom\n",
    "import cv2\n",
    "import matplotlib.pyplot as plt\n",
    "import seaborn as sns\n",
    "\n",
    "import torch\n",
    "from torch import nn\n",
    "from torch.utils import data as torch_data\n",
    "from sklearn import model_selection as sk_model_selection\n",
    "from torch.nn import functional as torch_functional\n",
    "import torch.nn.functional as F\n",
    "\n",
    "from sklearn.model_selection import StratifiedKFold\n",
    "from sklearn.metrics import roc_auc_score\n",
    "\n",
    "from pathlib import Path\n",
    "from efficientnet_pytorch_3d import EfficientNet3D\n",
    "\n",
    "from tqdm.notebook import tqdm\n",
    "\n",
    "from functools import cmp_to_key"
   ]
  },
  {
   "cell_type": "code",
   "execution_count": 2,
   "id": "74596712-6d6f-4683-85fe-4a5997117a7d",
   "metadata": {},
   "outputs": [],
   "source": [
    "class Config():\n",
    "    epochs = 15\n",
    "    batch_size = 8\n",
    "    base_path = Path('/home/RSNA_MICCAI_Brain_Tumor/data')\n",
    "    assert base_path.exists()\n",
    "    models_path = Path('/home/RSNA_MICCAI_Brain_Tumor/models')\n",
    "    assert models_path.exists()\n",
    "    seed = 42\n",
    "    num_workers = 7\n",
    "    model_name = 'efficientnet3d-0'\n",
    "    \n",
    "cfg = Config()"
   ]
  },
  {
   "cell_type": "code",
   "execution_count": 3,
   "id": "6f7b5414-6108-42cc-8c59-f77b4b22386a",
   "metadata": {},
   "outputs": [],
   "source": [
    "if os.path.exists(cfg.base_path):\n",
    "    data_directory = cfg.base_path\n",
    "else:\n",
    "    assert False, \"data_directory does not exist\"\n",
    "    \n",
    "# mri_types = ['FLAIR']\n",
    "mri_types = ['FLAIR','T1w','T1wCE','T2w']\n",
    "SIZE = 256\n",
    "NUM_IMAGES = 64"
   ]
  },
  {
   "cell_type": "markdown",
   "id": "4dd6e771-9bbb-4c33-9025-28f3a3852827",
   "metadata": {},
   "source": [
    "### Functions to load images"
   ]
  },
  {
   "cell_type": "code",
   "execution_count": 4,
   "id": "07ebc209-c89b-4e98-8266-e8daedfd0e02",
   "metadata": {},
   "outputs": [
    {
     "data": {
      "text/plain": [
       "(1, 256, 256, 64)"
      ]
     },
     "execution_count": 4,
     "metadata": {},
     "output_type": "execute_result"
    }
   ],
   "source": [
    "def load_dicom_image(path, img_size=SIZE):\n",
    "    dicom = pydicom.read_file(path)\n",
    "    data = dicom.pixel_array\n",
    "    if np.min(data)==np.max(data):\n",
    "        data = np.zeros((img_size,img_size))\n",
    "        return data\n",
    "    data = data - np.min(data)\n",
    "    if np.max(data) != 0:\n",
    "        data = data / np.max(data)\n",
    "    \n",
    "    #data = (data * 255).astype(np.uint8)\n",
    "    data = cv2.resize(data, (img_size, img_size))\n",
    "    return data\n",
    "\n",
    "def convert_path_to_int(x):\n",
    "    res = int(re.sub(r'.+\\-+(\\d+)\\..+', r'\\1', x))\n",
    "    return res\n",
    "\n",
    "def load_dicom_images_3d(scan_id, num_imgs=NUM_IMAGES, img_size=SIZE, mri_type=\"FLAIR\", split=\"train\"):\n",
    "\n",
    "    glob_expr = f'{cfg.base_path}/{split}/{scan_id}/{mri_type}/*.dcm'\n",
    "    files = glob.glob(glob_expr)\n",
    "    files.sort(key=cmp_to_key(lambda x, y: -1 if convert_path_to_int(x) < convert_path_to_int(y) else 1))\n",
    "    \n",
    "    \n",
    "    middle = len(files)//2\n",
    "    num_imgs2 = num_imgs//2\n",
    "    p1 = max(0, middle - num_imgs2)\n",
    "    p2 = min(len(files), middle + num_imgs2)\n",
    "    img3d = np.stack([load_dicom_image(f) for f in files[p1:p2]]).T \n",
    "    if img3d.shape[-1] < num_imgs:\n",
    "        n_zero = np.zeros((img_size, img_size, num_imgs - img3d.shape[-1]))\n",
    "        img3d = np.concatenate((img3d,  n_zero), axis = -1)\n",
    "            \n",
    "    return np.expand_dims(img3d,0)\n",
    "\n",
    "load_dicom_images_3d(\"00000\").shape"
   ]
  },
  {
   "cell_type": "code",
   "execution_count": 5,
   "id": "b5ac59ed-8eba-4bb4-a1b5-da9a88ab513c",
   "metadata": {},
   "outputs": [],
   "source": [
    "def set_seed(seed):\n",
    "    random.seed(seed)\n",
    "    os.environ[\"PYTHONHASHSEED\"] = str(seed)\n",
    "    np.random.seed(seed)\n",
    "    torch.manual_seed(seed)\n",
    "    if torch.cuda.is_available():\n",
    "        torch.cuda.manual_seed_all(seed)\n",
    "        torch.backends.cudnn.deterministic = True\n",
    "\n",
    "set_seed(cfg.seed)"
   ]
  },
  {
   "cell_type": "markdown",
   "id": "3d6e1a77-ceea-4ab9-b78a-ea23ee7ee1c4",
   "metadata": {},
   "source": [
    "### train / test splits"
   ]
  },
  {
   "cell_type": "code",
   "execution_count": 6,
   "id": "5aaaeb81-51ab-4642-a231-de6a2d696e86",
   "metadata": {},
   "outputs": [
    {
     "data": {
      "text/html": [
       "<div>\n",
       "<style scoped>\n",
       "    .dataframe tbody tr th:only-of-type {\n",
       "        vertical-align: middle;\n",
       "    }\n",
       "\n",
       "    .dataframe tbody tr th {\n",
       "        vertical-align: top;\n",
       "    }\n",
       "\n",
       "    .dataframe thead th {\n",
       "        text-align: right;\n",
       "    }\n",
       "</style>\n",
       "<table border=\"1\" class=\"dataframe\">\n",
       "  <thead>\n",
       "    <tr style=\"text-align: right;\">\n",
       "      <th></th>\n",
       "      <th>BraTS21ID</th>\n",
       "      <th>MGMT_value</th>\n",
       "    </tr>\n",
       "  </thead>\n",
       "  <tbody>\n",
       "    <tr>\n",
       "      <th>0</th>\n",
       "      <td>0</td>\n",
       "      <td>1</td>\n",
       "    </tr>\n",
       "    <tr>\n",
       "      <th>1</th>\n",
       "      <td>2</td>\n",
       "      <td>1</td>\n",
       "    </tr>\n",
       "    <tr>\n",
       "      <th>2</th>\n",
       "      <td>3</td>\n",
       "      <td>0</td>\n",
       "    </tr>\n",
       "    <tr>\n",
       "      <th>3</th>\n",
       "      <td>5</td>\n",
       "      <td>1</td>\n",
       "    </tr>\n",
       "    <tr>\n",
       "      <th>4</th>\n",
       "      <td>6</td>\n",
       "      <td>1</td>\n",
       "    </tr>\n",
       "    <tr>\n",
       "      <th>...</th>\n",
       "      <td>...</td>\n",
       "      <td>...</td>\n",
       "    </tr>\n",
       "    <tr>\n",
       "      <th>580</th>\n",
       "      <td>1005</td>\n",
       "      <td>1</td>\n",
       "    </tr>\n",
       "    <tr>\n",
       "      <th>581</th>\n",
       "      <td>1007</td>\n",
       "      <td>1</td>\n",
       "    </tr>\n",
       "    <tr>\n",
       "      <th>582</th>\n",
       "      <td>1008</td>\n",
       "      <td>1</td>\n",
       "    </tr>\n",
       "    <tr>\n",
       "      <th>583</th>\n",
       "      <td>1009</td>\n",
       "      <td>0</td>\n",
       "    </tr>\n",
       "    <tr>\n",
       "      <th>584</th>\n",
       "      <td>1010</td>\n",
       "      <td>0</td>\n",
       "    </tr>\n",
       "  </tbody>\n",
       "</table>\n",
       "<p>585 rows × 2 columns</p>\n",
       "</div>"
      ],
      "text/plain": [
       "     BraTS21ID  MGMT_value\n",
       "0            0           1\n",
       "1            2           1\n",
       "2            3           0\n",
       "3            5           1\n",
       "4            6           1\n",
       "..         ...         ...\n",
       "580       1005           1\n",
       "581       1007           1\n",
       "582       1008           1\n",
       "583       1009           0\n",
       "584       1010           0\n",
       "\n",
       "[585 rows x 2 columns]"
      ]
     },
     "metadata": {},
     "output_type": "display_data"
    }
   ],
   "source": [
    "train_df = pd.read_csv(f\"{data_directory}/train_labels.csv\")\n",
    "display(train_df)\n",
    "\n",
    "df_train, df_valid = sk_model_selection.train_test_split(\n",
    "    train_df, \n",
    "    test_size=0.2, \n",
    "    random_state=42, \n",
    "    stratify=train_df[\"MGMT_value\"],\n",
    ")\n"
   ]
  },
  {
   "cell_type": "code",
   "execution_count": 7,
   "id": "c4abc40f-9634-4ca7-b027-d0d5686b9126",
   "metadata": {},
   "outputs": [
    {
     "data": {
      "text/html": [
       "<div>\n",
       "<style scoped>\n",
       "    .dataframe tbody tr th:only-of-type {\n",
       "        vertical-align: middle;\n",
       "    }\n",
       "\n",
       "    .dataframe tbody tr th {\n",
       "        vertical-align: top;\n",
       "    }\n",
       "\n",
       "    .dataframe thead th {\n",
       "        text-align: right;\n",
       "    }\n",
       "</style>\n",
       "<table border=\"1\" class=\"dataframe\">\n",
       "  <thead>\n",
       "    <tr style=\"text-align: right;\">\n",
       "      <th></th>\n",
       "      <th>BraTS21ID</th>\n",
       "      <th>MGMT_value</th>\n",
       "    </tr>\n",
       "  </thead>\n",
       "  <tbody>\n",
       "    <tr>\n",
       "      <th>549</th>\n",
       "      <td>803</td>\n",
       "      <td>0</td>\n",
       "    </tr>\n",
       "    <tr>\n",
       "      <th>504</th>\n",
       "      <td>735</td>\n",
       "      <td>0</td>\n",
       "    </tr>\n",
       "    <tr>\n",
       "      <th>2</th>\n",
       "      <td>3</td>\n",
       "      <td>0</td>\n",
       "    </tr>\n",
       "    <tr>\n",
       "      <th>550</th>\n",
       "      <td>804</td>\n",
       "      <td>0</td>\n",
       "    </tr>\n",
       "    <tr>\n",
       "      <th>247</th>\n",
       "      <td>359</td>\n",
       "      <td>1</td>\n",
       "    </tr>\n",
       "  </tbody>\n",
       "</table>\n",
       "</div>"
      ],
      "text/plain": [
       "     BraTS21ID  MGMT_value\n",
       "549        803           0\n",
       "504        735           0\n",
       "2            3           0\n",
       "550        804           0\n",
       "247        359           1"
      ]
     },
     "execution_count": 7,
     "metadata": {},
     "output_type": "execute_result"
    }
   ],
   "source": [
    "df_train.tail()"
   ]
  },
  {
   "cell_type": "markdown",
   "id": "c2be3fc3-c1a7-4feb-8928-027733a61d3b",
   "metadata": {},
   "source": [
    "### Model and training classes"
   ]
  },
  {
   "cell_type": "code",
   "execution_count": 8,
   "id": "49d9c846-1f59-4092-ab69-34fa0814087c",
   "metadata": {},
   "outputs": [],
   "source": [
    "class Dataset(torch_data.Dataset):\n",
    "    def __init__(self, paths, targets=None, mri_type=None, label_smoothing=0.01, split=\"train\"):\n",
    "        self.paths = paths\n",
    "        self.targets = targets\n",
    "        self.mri_type = mri_type\n",
    "        self.label_smoothing = label_smoothing\n",
    "        self.split = split\n",
    "          \n",
    "    def __len__(self):\n",
    "        return len(self.paths)\n",
    "    \n",
    "    def __getitem__(self, index):\n",
    "        scan_id = self.paths[index]\n",
    "        if self.targets is None:\n",
    "            data = load_dicom_images_3d(str(scan_id).zfill(5), mri_type=self.mri_type[index], split=self.split)\n",
    "        else:\n",
    "            data = load_dicom_images_3d(str(scan_id).zfill(5), mri_type=self.mri_type[index], split=\"train\")\n",
    "\n",
    "        if self.targets is None:\n",
    "            return {\"X\": torch.tensor(data).float(), \"id\": scan_id}\n",
    "        else:\n",
    "            y = torch.tensor(abs(self.targets[index]-self.label_smoothing), dtype=torch.float)\n",
    "            return {\"X\": torch.tensor(data).float(), \"y\": y}\n"
   ]
  },
  {
   "cell_type": "code",
   "execution_count": 9,
   "id": "d1c66e18-c105-4a53-92df-65de433a9fe7",
   "metadata": {},
   "outputs": [
    {
     "data": {
      "text/plain": [
       "tensor([0.3367, 0.1288, 0.2345, 0.2303, 0.0000, 0.0000, 2.2082, 0.0000, 0.4617,\n",
       "        0.2674])"
      ]
     },
     "execution_count": 9,
     "metadata": {},
     "output_type": "execute_result"
    }
   ],
   "source": [
    "torch.clamp(torch.randn([10]), min=0.0)"
   ]
  },
  {
   "cell_type": "code",
   "execution_count": 11,
   "id": "5c581d12-2c88-4907-943e-388405ad5ec4",
   "metadata": {},
   "outputs": [],
   "source": [
    "# sample_model = EfficientNet3D.from_name(\"efficientnet-b0\", override_params={'num_classes': 2}, in_channels=1)"
   ]
  },
  {
   "cell_type": "code",
   "execution_count": 10,
   "id": "c18c0d48-a6ec-4756-86ed-fde82ff59fe6",
   "metadata": {},
   "outputs": [],
   "source": [
    "class ModelHead(nn.Module):\n",
    "    \n",
    "    def __init__(self, in_features, hidden_dim):\n",
    "        super().__init__()\n",
    "        self._fc = nn.Linear(in_features=in_features, out_features=hidden_dim, bias=True)\n",
    "        self._fc_2 = nn.Linear(in_features=hidden_dim, out_features=1, bias=True)\n",
    "        \n",
    "    def forward(self, x):\n",
    "        x = self._fc(x)\n",
    "        x = self._fc_2(x)\n",
    "        return x\n",
    "\n",
    "class Model(nn.Module):\n",
    "    def __init__(self):\n",
    "        super().__init__()\n",
    "        self.net = EfficientNet3D.from_name(\"efficientnet-b0\", override_params={'num_classes': 2}, in_channels=1)\n",
    "        n_features = self.net._fc.in_features\n",
    "        self.net._fc = ModelHead(n_features, 600)\n",
    "        \n",
    "    \n",
    "    def forward(self, x):\n",
    "        out = self.net(x)\n",
    "        return out\n",
    "    "
   ]
  },
  {
   "cell_type": "code",
   "execution_count": 13,
   "id": "fd7f3eee-d04b-4401-8ee8-bc167c76b2bd",
   "metadata": {},
   "outputs": [],
   "source": [
    "class Trainer:\n",
    "    def __init__(\n",
    "        self, \n",
    "        model, \n",
    "        device, \n",
    "        optimizer, \n",
    "        criterion\n",
    "    ):\n",
    "        self.model = model\n",
    "        self.device = device\n",
    "        self.optimizer = optimizer\n",
    "        self.criterion = criterion\n",
    "\n",
    "        self.best_valid_score = np.inf\n",
    "        self.n_patience = 0\n",
    "        self.lastmodel = None\n",
    "        \n",
    "    def fit(self, epochs, train_loader, valid_loader, save_path, patience):  \n",
    "        tbar = tqdm(range(1, epochs + 1), total=epochs)\n",
    "        self.lr_sched = torch.optim.lr_scheduler.CosineAnnealingWarmRestarts(self.optimizer, T_0=int(len(train_loader)), T_mult=1, eta_min=0.0001, last_epoch=-1)\n",
    "        self.lrs = []\n",
    "        \n",
    "        for n_epoch in tbar:\n",
    "            \n",
    "            self.info_message(\"EPOCH: {}\", n_epoch)\n",
    "            tbar.set_description(f'EPOCH: {n_epoch}')\n",
    "            \n",
    "            \n",
    "            train_loss, train_time = self.train_epoch(train_loader)\n",
    "            valid_loss, valid_auc, valid_time = self.valid_epoch(valid_loader)\n",
    "            \n",
    "            self.info_message(\n",
    "                \"[Epoch Train: {}] loss: {:.4f}, time: {:.2f} s            \",\n",
    "                n_epoch, train_loss, train_time\n",
    "            )\n",
    "            \n",
    "            self.info_message(\n",
    "                \"[Epoch Valid: {}] loss: {:.4f}, auc: {:.4f}, time: {:.2f} s\",\n",
    "                n_epoch, valid_loss, valid_auc, valid_time\n",
    "            )\n",
    "\n",
    "            # if True:\n",
    "            # if self.best_valid_score < valid_auc: \n",
    "            if self.best_valid_score > valid_loss and n_epoch > 4 and valid_auc > 0.5: \n",
    "                self.save_model(n_epoch, save_path, valid_loss, valid_auc)\n",
    "                self.info_message(\n",
    "                     \"auc improved from {:.4f} to {:.4f}. Saved model to '{}'\", \n",
    "                    self.best_valid_score, valid_loss, self.lastmodel\n",
    "                )\n",
    "                self.best_valid_score = valid_loss\n",
    "                self.n_patience = 0\n",
    "            else:\n",
    "                self.n_patience += 1\n",
    "            \n",
    "            if self.n_patience >= patience:\n",
    "                self.info_message(\"\\nValid auc didn't improve last {} epochs.\", patience)\n",
    "                break\n",
    "        plt.plot(self.lrs)\n",
    "            \n",
    "    def train_epoch(self, train_loader):\n",
    "        self.model.train()\n",
    "        t = time.time()\n",
    "        sum_loss = 0\n",
    "\n",
    "        tbar = tqdm(enumerate(train_loader, 1), total=len(train_loader))\n",
    "        \n",
    "        for step, batch in tbar:\n",
    "            X = batch[\"X\"].to(self.device)\n",
    "            targets = batch[\"y\"].to(self.device)\n",
    "            self.optimizer.zero_grad()\n",
    "            outputs = self.model(X).squeeze(1)\n",
    "            \n",
    "            loss = self.criterion(outputs, targets)\n",
    "            loss.backward()\n",
    "\n",
    "            sum_loss += loss.detach().item()\n",
    "            torch.nn.utils.clip_grad_norm_(self.model.parameters(), 1.0)\n",
    "            self.optimizer.step()\n",
    "            self.lr_sched.step()\n",
    "            current_lr = self.optimizer.param_groups[0][\"lr\"]\n",
    "            self.lrs.append(\n",
    "                current_lr\n",
    "            )\n",
    "            \n",
    "            message = 'Train Step {}/{}, train_loss: {:.4f}'\n",
    "            self.info_message(message, step, len(train_loader), sum_loss/step, end=\"\\r\")\n",
    "        \n",
    "        return sum_loss/len(train_loader), int(time.time() - t)\n",
    "    \n",
    "    def valid_epoch(self, valid_loader):\n",
    "        self.model.eval()\n",
    "        t = time.time()\n",
    "        sum_loss = 0\n",
    "        y_all = []\n",
    "        outputs_all = []\n",
    "\n",
    "        tbar = tqdm(enumerate(valid_loader, 1), total=len(valid_loader))\n",
    "        for step, batch in tbar:\n",
    "            with torch.no_grad():\n",
    "                X = batch[\"X\"].to(self.device)\n",
    "                targets = batch[\"y\"].to(self.device)\n",
    "\n",
    "                outputs = self.model(X).squeeze(1)\n",
    "                outputs = torch.sigmoid(outputs)\n",
    "                loss = self.criterion(outputs, targets)\n",
    "                print('outputs', outputs.mean(), outputs.std())\n",
    "                print('targets', targets.mean(), targets.std())\n",
    "                \n",
    "                sum_loss += loss.detach().item()\n",
    "                y_all.extend(batch[\"y\"].tolist())\n",
    "                outputs_all.extend(outputs.tolist())\n",
    "\n",
    "            message = 'Valid Step {}/{}, valid_loss: {:.4f}'\n",
    "            self.info_message(message, step, len(valid_loader), sum_loss/step, end=\"\\r\")\n",
    "            \n",
    "        y_all = [1 if x > 0.5 else 0 for x in y_all]\n",
    "        auc = roc_auc_score(y_all, outputs_all)\n",
    "        \n",
    "        return sum_loss/len(valid_loader), auc, int(time.time() - t)\n",
    "    \n",
    "    def save_model(self, n_epoch, save_path, loss, auc):\n",
    "        self.lastmodel = str(cfg.models_path/f\"{save_path}-e{n_epoch}-loss{loss:.3f}-auc{auc:.3f}.pth\")\n",
    "        torch.save(\n",
    "            {\n",
    "                \"model_state_dict\": self.model.state_dict(),\n",
    "                \"optimizer_state_dict\": self.optimizer.state_dict(),\n",
    "                \"best_valid_score\": self.best_valid_score,\n",
    "                \"n_epoch\": n_epoch,\n",
    "            },\n",
    "            self.lastmodel,\n",
    "        )\n",
    "    \n",
    "    @staticmethod\n",
    "    def info_message(message, *args, end=\"\\n\"):\n",
    "        print(message.format(*args), end=end)"
   ]
  },
  {
   "cell_type": "code",
   "execution_count": 14,
   "id": "02bd6b73-6c36-4da3-850a-24a96a670b17",
   "metadata": {},
   "outputs": [],
   "source": [
    "device = torch.device(\"cuda\" if torch.cuda.is_available() else \"cpu\")\n",
    "\n",
    "def train_mri_type(df_train, df_valid, mri_type):\n",
    "    if mri_type==\"all\":\n",
    "        train_list = []\n",
    "        valid_list = []\n",
    "        for mri_type in mri_types:\n",
    "            df_train.loc[:,\"MRI_Type\"] = mri_type\n",
    "            train_list.append(df_train.copy())\n",
    "            df_valid.loc[:,\"MRI_Type\"] = mri_type\n",
    "            valid_list.append(df_valid.copy())\n",
    "\n",
    "        df_train = pd.concat(train_list)\n",
    "        df_valid = pd.concat(valid_list)\n",
    "    else:\n",
    "        df_train.loc[:,\"MRI_Type\"] = mri_type\n",
    "        df_valid.loc[:,\"MRI_Type\"] = mri_type\n",
    "\n",
    "    print(df_train.shape, df_valid.shape)\n",
    "    display(df_train.head())\n",
    "    \n",
    "    train_data_retriever = Dataset(\n",
    "        df_train[\"BraTS21ID\"].values, \n",
    "        df_train[\"MGMT_value\"].values, \n",
    "        df_train[\"MRI_Type\"].values\n",
    "    )\n",
    "\n",
    "    valid_data_retriever = Dataset(\n",
    "        df_valid[\"BraTS21ID\"].values, \n",
    "        df_valid[\"MGMT_value\"].values,\n",
    "        df_valid[\"MRI_Type\"].values\n",
    "    )\n",
    "\n",
    "    train_loader = torch_data.DataLoader(\n",
    "        train_data_retriever,\n",
    "        batch_size=cfg.batch_size,\n",
    "        shuffle=True,\n",
    "        num_workers=cfg.num_workers,\n",
    "    )\n",
    "\n",
    "    valid_loader = torch_data.DataLoader(\n",
    "        valid_data_retriever, \n",
    "        batch_size=cfg.batch_size,\n",
    "        shuffle=False,\n",
    "        num_workers=cfg.num_workers,\n",
    "    )\n",
    "\n",
    "    model = Model()\n",
    "    model.to(device)\n",
    "\n",
    "    #checkpoint = torch.load(\"best-model-all-auc0.555.pth\")\n",
    "    #model.load_state_dict(checkpoint[\"model_state_dict\"])\n",
    "\n",
    "    #print(model)\n",
    "\n",
    "    optimizer = torch.optim.Adam(model.parameters(), lr=0.001)\n",
    "    #optimizer = torch.optim.SGD(model.parameters(), lr=0.001, momentum=0.9)\n",
    "\n",
    "    criterion = torch_functional.binary_cross_entropy_with_logits\n",
    "\n",
    "    trainer = Trainer(\n",
    "        model, \n",
    "        device, \n",
    "        optimizer, \n",
    "        criterion\n",
    "    )\n",
    "\n",
    "    history = trainer.fit(\n",
    "        cfg.epochs, \n",
    "        train_loader, \n",
    "        valid_loader, \n",
    "        f\"{mri_type}\", \n",
    "        cfg.epochs,\n",
    "    )\n",
    "    \n",
    "    return trainer.lastmodel"
   ]
  },
  {
   "cell_type": "code",
   "execution_count": 15,
   "id": "9461defa-ea31-47fd-b163-c2b00ddc9ffe",
   "metadata": {},
   "outputs": [],
   "source": [
    "!rm -rf {str(cfg.models_path)}/*.pth"
   ]
  },
  {
   "cell_type": "code",
   "execution_count": 16,
   "id": "da597e83-3a85-4eb4-83bb-999c9ef78bf6",
   "metadata": {},
   "outputs": [
    {
     "name": "stdout",
     "output_type": "stream",
     "text": [
      "(468, 3) (117, 3)\n"
     ]
    },
    {
     "name": "stderr",
     "output_type": "stream",
     "text": [
      "/opt/conda/lib/python3.8/site-packages/pandas/core/indexing.py:1597: SettingWithCopyWarning: \n",
      "A value is trying to be set on a copy of a slice from a DataFrame.\n",
      "Try using .loc[row_indexer,col_indexer] = value instead\n",
      "\n",
      "See the caveats in the documentation: https://pandas.pydata.org/pandas-docs/stable/user_guide/indexing.html#returning-a-view-versus-a-copy\n",
      "  self.obj[key] = value\n",
      "/opt/conda/lib/python3.8/site-packages/pandas/core/indexing.py:1720: SettingWithCopyWarning: \n",
      "A value is trying to be set on a copy of a slice from a DataFrame.\n",
      "Try using .loc[row_indexer,col_indexer] = value instead\n",
      "\n",
      "See the caveats in the documentation: https://pandas.pydata.org/pandas-docs/stable/user_guide/indexing.html#returning-a-view-versus-a-copy\n",
      "  self._setitem_single_column(loc, value, pi)\n"
     ]
    },
    {
     "data": {
      "text/html": [
       "<div>\n",
       "<style scoped>\n",
       "    .dataframe tbody tr th:only-of-type {\n",
       "        vertical-align: middle;\n",
       "    }\n",
       "\n",
       "    .dataframe tbody tr th {\n",
       "        vertical-align: top;\n",
       "    }\n",
       "\n",
       "    .dataframe thead th {\n",
       "        text-align: right;\n",
       "    }\n",
       "</style>\n",
       "<table border=\"1\" class=\"dataframe\">\n",
       "  <thead>\n",
       "    <tr style=\"text-align: right;\">\n",
       "      <th></th>\n",
       "      <th>BraTS21ID</th>\n",
       "      <th>MGMT_value</th>\n",
       "      <th>MRI_Type</th>\n",
       "    </tr>\n",
       "  </thead>\n",
       "  <tbody>\n",
       "    <tr>\n",
       "      <th>102</th>\n",
       "      <td>154</td>\n",
       "      <td>0</td>\n",
       "      <td>FLAIR</td>\n",
       "    </tr>\n",
       "    <tr>\n",
       "      <th>161</th>\n",
       "      <td>240</td>\n",
       "      <td>1</td>\n",
       "      <td>FLAIR</td>\n",
       "    </tr>\n",
       "    <tr>\n",
       "      <th>508</th>\n",
       "      <td>740</td>\n",
       "      <td>1</td>\n",
       "      <td>FLAIR</td>\n",
       "    </tr>\n",
       "    <tr>\n",
       "      <th>495</th>\n",
       "      <td>725</td>\n",
       "      <td>1</td>\n",
       "      <td>FLAIR</td>\n",
       "    </tr>\n",
       "    <tr>\n",
       "      <th>298</th>\n",
       "      <td>432</td>\n",
       "      <td>0</td>\n",
       "      <td>FLAIR</td>\n",
       "    </tr>\n",
       "  </tbody>\n",
       "</table>\n",
       "</div>"
      ],
      "text/plain": [
       "     BraTS21ID  MGMT_value MRI_Type\n",
       "102        154           0    FLAIR\n",
       "161        240           1    FLAIR\n",
       "508        740           1    FLAIR\n",
       "495        725           1    FLAIR\n",
       "298        432           0    FLAIR"
      ]
     },
     "metadata": {},
     "output_type": "display_data"
    },
    {
     "data": {
      "application/vnd.jupyter.widget-view+json": {
       "model_id": "920679f922734410b54fded4330558aa",
       "version_major": 2,
       "version_minor": 0
      },
      "text/plain": [
       "HBox(children=(FloatProgress(value=0.0, max=15.0), HTML(value='')))"
      ]
     },
     "metadata": {},
     "output_type": "display_data"
    },
    {
     "name": "stdout",
     "output_type": "stream",
     "text": [
      "EPOCH: 1\n"
     ]
    },
    {
     "data": {
      "application/vnd.jupyter.widget-view+json": {
       "model_id": "b03649a7aa314fd4ac7a7332676e6657",
       "version_major": 2,
       "version_minor": 0
      },
      "text/plain": [
       "HBox(children=(FloatProgress(value=0.0, max=59.0), HTML(value='')))"
      ]
     },
     "metadata": {},
     "output_type": "display_data"
    },
    {
     "name": "stdout",
     "output_type": "stream",
     "text": [
      "Train Step 59/59, train_loss: 0.8708\n"
     ]
    },
    {
     "data": {
      "application/vnd.jupyter.widget-view+json": {
       "model_id": "f1f4d512e6664bc8bafc0f40ed4ff849",
       "version_major": 2,
       "version_minor": 0
      },
      "text/plain": [
       "HBox(children=(FloatProgress(value=0.0, max=15.0), HTML(value='')))"
      ]
     },
     "metadata": {},
     "output_type": "display_data"
    },
    {
     "name": "stdout",
     "output_type": "stream",
     "text": [
      "outputs tensor(0.5070, device='cuda:0') tensor(0., device='cuda:0')\n",
      "targets tensor(0.7450, device='cuda:0') tensor(0.4537, device='cuda:0')\n",
      "outputs tensor(0.5070, device='cuda:0') tensor(0., device='cuda:0')\n",
      "targets tensor(0.2550, device='cuda:0') tensor(0.4537, device='cuda:0')\n",
      "outputs tensor(0.5070, device='cuda:0') tensor(0., device='cuda:0')\n",
      "targets tensor(0.2550, device='cuda:0') tensor(0.4537, device='cuda:0')\n",
      "outputs tensor(0.5070, device='cuda:0') tensor(0., device='cuda:0')\n",
      "targets tensor(0.6225, device='cuda:0') tensor(0.5072, device='cuda:0')\n",
      "outputs tensor(0.5070, device='cuda:0') tensor(0., device='cuda:0')\n",
      "targets tensor(0.7450, device='cuda:0') tensor(0.4537, device='cuda:0')\n",
      "outputs tensor(0.5070, device='cuda:0') tensor(0., device='cuda:0')\n",
      "targets tensor(0.5000, device='cuda:0') tensor(0.5238, device='cuda:0')\n",
      "outputs tensor(0.5070, device='cuda:0') tensor(0., device='cuda:0')\n",
      "targets tensor(0.5000, device='cuda:0') tensor(0.5238, device='cuda:0')\n",
      "outputs tensor(0.5070, device='cuda:0') tensor(0., device='cuda:0')\n",
      "targets tensor(0.6225, device='cuda:0') tensor(0.5072, device='cuda:0')\n",
      "outputs tensor(0.5070, device='cuda:0') tensor(0., device='cuda:0')\n",
      "targets tensor(0.2550, device='cuda:0') tensor(0.4537, device='cuda:0')\n",
      "outputs tensor(0.5070, device='cuda:0') tensor(0., device='cuda:0')\n",
      "targets tensor(0.7450, device='cuda:0') tensor(0.4537, device='cuda:0')\n",
      "outputs tensor(0.5070, device='cuda:0') tensor(0., device='cuda:0')\n",
      "targets tensor(0.6225, device='cuda:0') tensor(0.5072, device='cuda:0')\n",
      "outputs tensor(0.5070, device='cuda:0') tensor(0., device='cuda:0')\n",
      "targets tensor(0.6225, device='cuda:0') tensor(0.5072, device='cuda:0')\n",
      "outputs tensor(0.5070, device='cuda:0') tensor(0., device='cuda:0')\n",
      "targets tensor(0.6225, device='cuda:0') tensor(0.5072, device='cuda:0')\n",
      "outputs tensor(0.5070, device='cuda:0') tensor(0., device='cuda:0')\n",
      "targets tensor(0.2550, device='cuda:0') tensor(0.4537, device='cuda:0')\n",
      "outputs tensor(0.5070, device='cuda:0') tensor(0., device='cuda:0')\n",
      "targets tensor(0.4020, device='cuda:0') tensor(0.5368, device='cuda:0')\n",
      "Valid Step 15/15, valid_loss: 0.7158\n",
      "[Epoch Train: 1] loss: 0.8708, time: 53.00 s            \n",
      "[Epoch Valid: 1] loss: 0.7158, auc: 0.5000, time: 7.00 s\n",
      "EPOCH: 2\n"
     ]
    },
    {
     "data": {
      "application/vnd.jupyter.widget-view+json": {
       "model_id": "00a4620e15da4e4c9cb4abe03fa45af0",
       "version_major": 2,
       "version_minor": 0
      },
      "text/plain": [
       "HBox(children=(FloatProgress(value=0.0, max=59.0), HTML(value='')))"
      ]
     },
     "metadata": {},
     "output_type": "display_data"
    },
    {
     "name": "stdout",
     "output_type": "stream",
     "text": [
      "Train Step 59/59, train_loss: 0.7222\n"
     ]
    },
    {
     "data": {
      "application/vnd.jupyter.widget-view+json": {
       "model_id": "aad308ebf4624fdba3e7bf0c068cef1b",
       "version_major": 2,
       "version_minor": 0
      },
      "text/plain": [
       "HBox(children=(FloatProgress(value=0.0, max=15.0), HTML(value='')))"
      ]
     },
     "metadata": {},
     "output_type": "display_data"
    },
    {
     "name": "stdout",
     "output_type": "stream",
     "text": [
      "outputs tensor(0.5094, device='cuda:0') tensor(0., device='cuda:0')\n",
      "targets tensor(0.7450, device='cuda:0') tensor(0.4537, device='cuda:0')\n",
      "outputs tensor(0.5094, device='cuda:0') tensor(0., device='cuda:0')\n",
      "targets tensor(0.2550, device='cuda:0') tensor(0.4537, device='cuda:0')\n",
      "outputs tensor(0.5094, device='cuda:0') tensor(0., device='cuda:0')\n",
      "targets tensor(0.2550, device='cuda:0') tensor(0.4537, device='cuda:0')\n",
      "outputs tensor(0.5094, device='cuda:0') tensor(0., device='cuda:0')\n",
      "targets tensor(0.6225, device='cuda:0') tensor(0.5072, device='cuda:0')\n",
      "outputs tensor(0.5094, device='cuda:0') tensor(0., device='cuda:0')\n",
      "targets tensor(0.7450, device='cuda:0') tensor(0.4537, device='cuda:0')\n",
      "outputs tensor(0.5094, device='cuda:0') tensor(0., device='cuda:0')\n",
      "targets tensor(0.5000, device='cuda:0') tensor(0.5238, device='cuda:0')\n",
      "outputs tensor(0.5094, device='cuda:0') tensor(0., device='cuda:0')\n",
      "targets tensor(0.5000, device='cuda:0') tensor(0.5238, device='cuda:0')\n",
      "outputs tensor(0.5094, device='cuda:0') tensor(0., device='cuda:0')\n",
      "targets tensor(0.6225, device='cuda:0') tensor(0.5072, device='cuda:0')\n",
      "outputs tensor(0.5094, device='cuda:0') tensor(0., device='cuda:0')\n",
      "targets tensor(0.2550, device='cuda:0') tensor(0.4537, device='cuda:0')\n",
      "outputs tensor(0.5094, device='cuda:0') tensor(0., device='cuda:0')\n",
      "targets tensor(0.7450, device='cuda:0') tensor(0.4537, device='cuda:0')\n",
      "outputs tensor(0.5094, device='cuda:0') tensor(0., device='cuda:0')\n",
      "targets tensor(0.6225, device='cuda:0') tensor(0.5072, device='cuda:0')\n",
      "outputs tensor(0.5094, device='cuda:0') tensor(0., device='cuda:0')\n",
      "targets tensor(0.6225, device='cuda:0') tensor(0.5072, device='cuda:0')\n",
      "outputs tensor(0.5094, device='cuda:0') tensor(0., device='cuda:0')\n",
      "targets tensor(0.6225, device='cuda:0') tensor(0.5072, device='cuda:0')\n",
      "outputs tensor(0.5094, device='cuda:0') tensor(0., device='cuda:0')\n",
      "targets tensor(0.2550, device='cuda:0') tensor(0.4537, device='cuda:0')\n",
      "outputs tensor(0.5094, device='cuda:0') tensor(0., device='cuda:0')\n",
      "targets tensor(0.4020, device='cuda:0') tensor(0.5368, device='cuda:0')\n",
      "Valid Step 15/15, valid_loss: 0.7161\n",
      "[Epoch Train: 2] loss: 0.7222, time: 51.00 s            \n",
      "[Epoch Valid: 2] loss: 0.7161, auc: 0.5000, time: 7.00 s\n",
      "EPOCH: 3\n"
     ]
    },
    {
     "data": {
      "application/vnd.jupyter.widget-view+json": {
       "model_id": "768d2309f960485cb6113e4052f8d7e8",
       "version_major": 2,
       "version_minor": 0
      },
      "text/plain": [
       "HBox(children=(FloatProgress(value=0.0, max=59.0), HTML(value='')))"
      ]
     },
     "metadata": {},
     "output_type": "display_data"
    },
    {
     "name": "stdout",
     "output_type": "stream",
     "text": [
      "Train Step 59/59, train_loss: 0.7165\n"
     ]
    },
    {
     "data": {
      "application/vnd.jupyter.widget-view+json": {
       "model_id": "5435b713fcb141e3b65532ffc68d981c",
       "version_major": 2,
       "version_minor": 0
      },
      "text/plain": [
       "HBox(children=(FloatProgress(value=0.0, max=15.0), HTML(value='')))"
      ]
     },
     "metadata": {},
     "output_type": "display_data"
    },
    {
     "name": "stdout",
     "output_type": "stream",
     "text": [
      "outputs tensor(0.4998, device='cuda:0') tensor(0., device='cuda:0')\n",
      "targets tensor(0.7450, device='cuda:0') tensor(0.4537, device='cuda:0')\n",
      "outputs tensor(0.4998, device='cuda:0') tensor(0., device='cuda:0')\n",
      "targets tensor(0.2550, device='cuda:0') tensor(0.4537, device='cuda:0')\n",
      "outputs tensor(0.4998, device='cuda:0') tensor(0., device='cuda:0')\n",
      "targets tensor(0.2550, device='cuda:0') tensor(0.4537, device='cuda:0')\n",
      "outputs tensor(0.4998, device='cuda:0') tensor(0., device='cuda:0')\n",
      "targets tensor(0.6225, device='cuda:0') tensor(0.5072, device='cuda:0')\n",
      "outputs tensor(0.4998, device='cuda:0') tensor(0., device='cuda:0')\n",
      "targets tensor(0.7450, device='cuda:0') tensor(0.4537, device='cuda:0')\n",
      "outputs tensor(0.4998, device='cuda:0') tensor(0., device='cuda:0')\n",
      "targets tensor(0.5000, device='cuda:0') tensor(0.5238, device='cuda:0')\n",
      "outputs tensor(0.4998, device='cuda:0') tensor(0., device='cuda:0')\n",
      "targets tensor(0.5000, device='cuda:0') tensor(0.5238, device='cuda:0')\n",
      "outputs tensor(0.4998, device='cuda:0') tensor(0., device='cuda:0')\n",
      "targets tensor(0.6225, device='cuda:0') tensor(0.5072, device='cuda:0')\n",
      "outputs tensor(0.4998, device='cuda:0') tensor(0., device='cuda:0')\n",
      "targets tensor(0.2550, device='cuda:0') tensor(0.4537, device='cuda:0')\n",
      "outputs tensor(0.4998, device='cuda:0') tensor(0., device='cuda:0')\n",
      "targets tensor(0.7450, device='cuda:0') tensor(0.4537, device='cuda:0')\n",
      "outputs tensor(0.4998, device='cuda:0') tensor(0., device='cuda:0')\n",
      "targets tensor(0.6225, device='cuda:0') tensor(0.5072, device='cuda:0')\n",
      "outputs tensor(0.4998, device='cuda:0') tensor(0., device='cuda:0')\n",
      "targets tensor(0.6225, device='cuda:0') tensor(0.5072, device='cuda:0')\n",
      "outputs tensor(0.4998, device='cuda:0') tensor(0., device='cuda:0')\n",
      "targets tensor(0.6225, device='cuda:0') tensor(0.5072, device='cuda:0')\n",
      "outputs tensor(0.4998, device='cuda:0') tensor(0., device='cuda:0')\n",
      "targets tensor(0.2550, device='cuda:0') tensor(0.4537, device='cuda:0')\n",
      "outputs tensor(0.4998, device='cuda:0') tensor(0., device='cuda:0')\n",
      "targets tensor(0.4020, device='cuda:0') tensor(0.5368, device='cuda:0')\n",
      "Valid Step 15/15, valid_loss: 0.7151\n",
      "[Epoch Train: 3] loss: 0.7165, time: 52.00 s            \n",
      "[Epoch Valid: 3] loss: 0.7151, auc: 0.5000, time: 7.00 s\n",
      "EPOCH: 4\n"
     ]
    },
    {
     "data": {
      "application/vnd.jupyter.widget-view+json": {
       "model_id": "8c5c90a212e24ce581dffe088f0fc575",
       "version_major": 2,
       "version_minor": 0
      },
      "text/plain": [
       "HBox(children=(FloatProgress(value=0.0, max=59.0), HTML(value='')))"
      ]
     },
     "metadata": {},
     "output_type": "display_data"
    },
    {
     "name": "stdout",
     "output_type": "stream",
     "text": [
      "Train Step 59/59, train_loss: 0.7137\n"
     ]
    },
    {
     "data": {
      "application/vnd.jupyter.widget-view+json": {
       "model_id": "105e2ccb44e94bcc93d7a2d2879f025b",
       "version_major": 2,
       "version_minor": 0
      },
      "text/plain": [
       "HBox(children=(FloatProgress(value=0.0, max=15.0), HTML(value='')))"
      ]
     },
     "metadata": {},
     "output_type": "display_data"
    },
    {
     "name": "stdout",
     "output_type": "stream",
     "text": [
      "outputs tensor(0.5396, device='cuda:0') tensor(4.2147e-08, device='cuda:0')\n",
      "targets tensor(0.7450, device='cuda:0') tensor(0.4537, device='cuda:0')\n",
      "outputs tensor(0.5396, device='cuda:0') tensor(3.9020e-08, device='cuda:0')\n",
      "targets tensor(0.2550, device='cuda:0') tensor(0.4537, device='cuda:0')\n",
      "outputs tensor(0.5396, device='cuda:0') tensor(7.9650e-08, device='cuda:0')\n",
      "targets tensor(0.2550, device='cuda:0') tensor(0.4537, device='cuda:0')\n",
      "outputs tensor(0.5396, device='cuda:0') tensor(8.1227e-08, device='cuda:0')\n",
      "targets tensor(0.6225, device='cuda:0') tensor(0.5072, device='cuda:0')\n",
      "outputs tensor(0.5396, device='cuda:0') tensor(3.9020e-08, device='cuda:0')\n",
      "targets tensor(0.7450, device='cuda:0') tensor(0.4537, device='cuda:0')\n",
      "outputs tensor(0.5396, device='cuda:0') tensor(4.2147e-08, device='cuda:0')\n",
      "targets tensor(0.5000, device='cuda:0') tensor(0.5238, device='cuda:0')\n",
      "outputs tensor(0.5396, device='cuda:0') tensor(5.2834e-08, device='cuda:0')\n",
      "targets tensor(0.5000, device='cuda:0') tensor(0.5238, device='cuda:0')\n",
      "outputs tensor(0.5396, device='cuda:0') tensor(3.5621e-08, device='cuda:0')\n",
      "targets tensor(0.6225, device='cuda:0') tensor(0.5072, device='cuda:0')\n",
      "outputs tensor(0.5396, device='cuda:0') tensor(3.5621e-08, device='cuda:0')\n",
      "targets tensor(0.2550, device='cuda:0') tensor(0.4537, device='cuda:0')\n",
      "outputs tensor(0.5396, device='cuda:0') tensor(7.3000e-08, device='cuda:0')\n",
      "targets tensor(0.7450, device='cuda:0') tensor(0.4537, device='cuda:0')\n",
      "outputs tensor(0.5396, device='cuda:0') tensor(7.3000e-08, device='cuda:0')\n",
      "targets tensor(0.6225, device='cuda:0') tensor(0.5072, device='cuda:0')\n",
      "outputs tensor(0.5396, device='cuda:0') tensor(3.9020e-08, device='cuda:0')\n",
      "targets tensor(0.6225, device='cuda:0') tensor(0.5072, device='cuda:0')\n",
      "outputs tensor(0.5396, device='cuda:0') tensor(4.2147e-08, device='cuda:0')\n",
      "targets tensor(0.6225, device='cuda:0') tensor(0.5072, device='cuda:0')\n",
      "outputs tensor(0.5396, device='cuda:0') tensor(6.5681e-08, device='cuda:0')\n",
      "targets tensor(0.2550, device='cuda:0') tensor(0.4537, device='cuda:0')\n",
      "outputs tensor(0.5396, device='cuda:0') tensor(2.9802e-08, device='cuda:0')\n",
      "targets tensor(0.4020, device='cuda:0') tensor(0.5368, device='cuda:0')\n",
      "Valid Step 15/15, valid_loss: 0.7194\n",
      "[Epoch Train: 4] loss: 0.7137, time: 52.00 s            \n",
      "[Epoch Valid: 4] loss: 0.7194, auc: 0.5310, time: 7.00 s\n",
      "EPOCH: 5\n"
     ]
    },
    {
     "data": {
      "application/vnd.jupyter.widget-view+json": {
       "model_id": "d75c137ea1564ce2a337436920e1b3e0",
       "version_major": 2,
       "version_minor": 0
      },
      "text/plain": [
       "HBox(children=(FloatProgress(value=0.0, max=59.0), HTML(value='')))"
      ]
     },
     "metadata": {},
     "output_type": "display_data"
    },
    {
     "name": "stdout",
     "output_type": "stream",
     "text": [
      "Train Step 59/59, train_loss: 0.7036\n"
     ]
    },
    {
     "data": {
      "application/vnd.jupyter.widget-view+json": {
       "model_id": "dbae644cf4104a84a708bc3c9b12979a",
       "version_major": 2,
       "version_minor": 0
      },
      "text/plain": [
       "HBox(children=(FloatProgress(value=0.0, max=15.0), HTML(value='')))"
      ]
     },
     "metadata": {},
     "output_type": "display_data"
    },
    {
     "name": "stdout",
     "output_type": "stream",
     "text": [
      "outputs tensor(0.5240, device='cuda:0') tensor(2.7499e-07, device='cuda:0')\n",
      "targets tensor(0.7450, device='cuda:0') tensor(0.4537, device='cuda:0')\n",
      "outputs tensor(0.5240, device='cuda:0') tensor(4.0676e-07, device='cuda:0')\n",
      "targets tensor(0.2550, device='cuda:0') tensor(0.4537, device='cuda:0')\n",
      "outputs tensor(0.5240, device='cuda:0') tensor(8.5192e-07, device='cuda:0')\n",
      "targets tensor(0.2550, device='cuda:0') tensor(0.4537, device='cuda:0')\n",
      "outputs tensor(0.5240, device='cuda:0') tensor(8.0269e-07, device='cuda:0')\n",
      "targets tensor(0.6225, device='cuda:0') tensor(0.5072, device='cuda:0')\n",
      "outputs tensor(0.5240, device='cuda:0') tensor(6.7077e-07, device='cuda:0')\n",
      "targets tensor(0.7450, device='cuda:0') tensor(0.4537, device='cuda:0')\n",
      "outputs tensor(0.5240, device='cuda:0') tensor(6.4117e-07, device='cuda:0')\n",
      "targets tensor(0.5000, device='cuda:0') tensor(0.5238, device='cuda:0')\n",
      "outputs tensor(0.5240, device='cuda:0') tensor(8.6903e-07, device='cuda:0')\n",
      "targets tensor(0.5000, device='cuda:0') tensor(0.5238, device='cuda:0')\n",
      "outputs tensor(0.5240, device='cuda:0') tensor(8.5266e-07, device='cuda:0')\n",
      "targets tensor(0.6225, device='cuda:0') tensor(0.5072, device='cuda:0')\n",
      "outputs tensor(0.5240, device='cuda:0') tensor(4.2087e-07, device='cuda:0')\n",
      "targets tensor(0.2550, device='cuda:0') tensor(0.4537, device='cuda:0')\n",
      "outputs tensor(0.5240, device='cuda:0') tensor(9.7512e-07, device='cuda:0')\n",
      "targets tensor(0.7450, device='cuda:0') tensor(0.4537, device='cuda:0')\n",
      "outputs tensor(0.5240, device='cuda:0') tensor(8.6800e-07, device='cuda:0')\n",
      "targets tensor(0.6225, device='cuda:0') tensor(0.5072, device='cuda:0')\n",
      "outputs tensor(0.5240, device='cuda:0') tensor(4.0801e-07, device='cuda:0')\n",
      "targets tensor(0.6225, device='cuda:0') tensor(0.5072, device='cuda:0')\n",
      "outputs tensor(0.5240, device='cuda:0') tensor(4.1632e-07, device='cuda:0')\n",
      "targets tensor(0.6225, device='cuda:0') tensor(0.5072, device='cuda:0')\n",
      "outputs tensor(0.5240, device='cuda:0') tensor(7.9187e-07, device='cuda:0')\n",
      "targets tensor(0.2550, device='cuda:0') tensor(0.4537, device='cuda:0')\n",
      "outputs tensor(0.5240, device='cuda:0') tensor(7.9595e-07, device='cuda:0')\n",
      "targets tensor(0.4020, device='cuda:0') tensor(0.5368, device='cuda:0')\n",
      "Valid Step 15/15, valid_loss: 0.7177\n",
      "[Epoch Train: 5] loss: 0.7036, time: 52.00 s            \n",
      "[Epoch Valid: 5] loss: 0.7177, auc: 0.3674, time: 7.00 s\n",
      "EPOCH: 6\n"
     ]
    },
    {
     "data": {
      "application/vnd.jupyter.widget-view+json": {
       "model_id": "46f0b7656a354557929b7dd03e2bb818",
       "version_major": 2,
       "version_minor": 0
      },
      "text/plain": [
       "HBox(children=(FloatProgress(value=0.0, max=59.0), HTML(value='')))"
      ]
     },
     "metadata": {},
     "output_type": "display_data"
    },
    {
     "name": "stdout",
     "output_type": "stream",
     "text": [
      "Train Step 59/59, train_loss: 0.6931\n"
     ]
    },
    {
     "data": {
      "application/vnd.jupyter.widget-view+json": {
       "model_id": "89a93e9c65a841e58573650498756ba5",
       "version_major": 2,
       "version_minor": 0
      },
      "text/plain": [
       "HBox(children=(FloatProgress(value=0.0, max=15.0), HTML(value='')))"
      ]
     },
     "metadata": {},
     "output_type": "display_data"
    },
    {
     "name": "stdout",
     "output_type": "stream",
     "text": [
      "outputs tensor(0.5193, device='cuda:0') tensor(3.6560e-06, device='cuda:0')\n",
      "targets tensor(0.7450, device='cuda:0') tensor(0.4537, device='cuda:0')\n",
      "outputs tensor(0.5193, device='cuda:0') tensor(3.7549e-06, device='cuda:0')\n",
      "targets tensor(0.2550, device='cuda:0') tensor(0.4537, device='cuda:0')\n",
      "outputs tensor(0.5193, device='cuda:0') tensor(1.1706e-05, device='cuda:0')\n",
      "targets tensor(0.2550, device='cuda:0') tensor(0.4537, device='cuda:0')\n",
      "outputs tensor(0.5193, device='cuda:0') tensor(1.1738e-05, device='cuda:0')\n",
      "targets tensor(0.6225, device='cuda:0') tensor(0.5072, device='cuda:0')\n",
      "outputs tensor(0.5193, device='cuda:0') tensor(1.0654e-05, device='cuda:0')\n",
      "targets tensor(0.7450, device='cuda:0') tensor(0.4537, device='cuda:0')\n",
      "outputs tensor(0.5193, device='cuda:0') tensor(8.4560e-06, device='cuda:0')\n",
      "targets tensor(0.5000, device='cuda:0') tensor(0.5238, device='cuda:0')\n",
      "outputs tensor(0.5193, device='cuda:0') tensor(1.0564e-05, device='cuda:0')\n",
      "targets tensor(0.5000, device='cuda:0') tensor(0.5238, device='cuda:0')\n",
      "outputs tensor(0.5193, device='cuda:0') tensor(1.3139e-05, device='cuda:0')\n",
      "targets tensor(0.6225, device='cuda:0') tensor(0.5072, device='cuda:0')\n",
      "outputs tensor(0.5193, device='cuda:0') tensor(5.5905e-06, device='cuda:0')\n",
      "targets tensor(0.2550, device='cuda:0') tensor(0.4537, device='cuda:0')\n",
      "outputs tensor(0.5193, device='cuda:0') tensor(1.1590e-05, device='cuda:0')\n",
      "targets tensor(0.7450, device='cuda:0') tensor(0.4537, device='cuda:0')\n",
      "outputs tensor(0.5193, device='cuda:0') tensor(1.2314e-05, device='cuda:0')\n",
      "targets tensor(0.6225, device='cuda:0') tensor(0.5072, device='cuda:0')\n",
      "outputs tensor(0.5193, device='cuda:0') tensor(1.2462e-06, device='cuda:0')\n",
      "targets tensor(0.6225, device='cuda:0') tensor(0.5072, device='cuda:0')\n",
      "outputs tensor(0.5193, device='cuda:0') tensor(2.9082e-06, device='cuda:0')\n",
      "targets tensor(0.6225, device='cuda:0') tensor(0.5072, device='cuda:0')\n",
      "outputs tensor(0.5193, device='cuda:0') tensor(1.2143e-05, device='cuda:0')\n",
      "targets tensor(0.2550, device='cuda:0') tensor(0.4537, device='cuda:0')\n",
      "outputs tensor(0.5192, device='cuda:0') tensor(1.1917e-05, device='cuda:0')\n",
      "targets tensor(0.4020, device='cuda:0') tensor(0.5368, device='cuda:0')\n",
      "Valid Step 15/15, valid_loss: 0.7171\n",
      "[Epoch Train: 6] loss: 0.6931, time: 52.00 s            \n",
      "[Epoch Valid: 6] loss: 0.7171, auc: 0.4640, time: 7.00 s\n",
      "EPOCH: 7\n"
     ]
    },
    {
     "data": {
      "application/vnd.jupyter.widget-view+json": {
       "model_id": "15392c9ffc3b4fb09ab987f6972f29e0",
       "version_major": 2,
       "version_minor": 0
      },
      "text/plain": [
       "HBox(children=(FloatProgress(value=0.0, max=59.0), HTML(value='')))"
      ]
     },
     "metadata": {},
     "output_type": "display_data"
    },
    {
     "name": "stdout",
     "output_type": "stream",
     "text": [
      "Train Step 59/59, train_loss: 0.7024\n"
     ]
    },
    {
     "data": {
      "application/vnd.jupyter.widget-view+json": {
       "model_id": "509b87b9f67b4fefa40a311e1cacad42",
       "version_major": 2,
       "version_minor": 0
      },
      "text/plain": [
       "HBox(children=(FloatProgress(value=0.0, max=15.0), HTML(value='')))"
      ]
     },
     "metadata": {},
     "output_type": "display_data"
    },
    {
     "name": "stdout",
     "output_type": "stream",
     "text": [
      "outputs tensor(0.5066, device='cuda:0') tensor(0.0015, device='cuda:0')\n",
      "targets tensor(0.7450, device='cuda:0') tensor(0.4537, device='cuda:0')\n",
      "outputs tensor(0.5060, device='cuda:0') tensor(0.0006, device='cuda:0')\n",
      "targets tensor(0.2550, device='cuda:0') tensor(0.4537, device='cuda:0')\n",
      "outputs tensor(0.5071, device='cuda:0') tensor(0.0036, device='cuda:0')\n",
      "targets tensor(0.2550, device='cuda:0') tensor(0.4537, device='cuda:0')\n",
      "outputs tensor(0.5056, device='cuda:0') tensor(0.0004, device='cuda:0')\n",
      "targets tensor(0.6225, device='cuda:0') tensor(0.5072, device='cuda:0')\n",
      "outputs tensor(0.5060, device='cuda:0') tensor(0.0005, device='cuda:0')\n",
      "targets tensor(0.7450, device='cuda:0') tensor(0.4537, device='cuda:0')\n",
      "outputs tensor(0.5057, device='cuda:0') tensor(0.0003, device='cuda:0')\n",
      "targets tensor(0.5000, device='cuda:0') tensor(0.5238, device='cuda:0')\n",
      "outputs tensor(0.5058, device='cuda:0') tensor(0.0004, device='cuda:0')\n",
      "targets tensor(0.5000, device='cuda:0') tensor(0.5238, device='cuda:0')\n",
      "outputs tensor(0.5057, device='cuda:0') tensor(0.0004, device='cuda:0')\n",
      "targets tensor(0.6225, device='cuda:0') tensor(0.5072, device='cuda:0')\n",
      "outputs tensor(0.5070, device='cuda:0') tensor(0.0018, device='cuda:0')\n",
      "targets tensor(0.2550, device='cuda:0') tensor(0.4537, device='cuda:0')\n",
      "outputs tensor(0.5069, device='cuda:0') tensor(0.0040, device='cuda:0')\n",
      "targets tensor(0.7450, device='cuda:0') tensor(0.4537, device='cuda:0')\n",
      "outputs tensor(0.5066, device='cuda:0') tensor(0.0024, device='cuda:0')\n",
      "targets tensor(0.6225, device='cuda:0') tensor(0.5072, device='cuda:0')\n",
      "outputs tensor(0.5062, device='cuda:0') tensor(0.0009, device='cuda:0')\n",
      "targets tensor(0.6225, device='cuda:0') tensor(0.5072, device='cuda:0')\n",
      "outputs tensor(0.5056, device='cuda:0') tensor(8.5931e-05, device='cuda:0')\n",
      "targets tensor(0.6225, device='cuda:0') tensor(0.5072, device='cuda:0')\n",
      "outputs tensor(0.5057, device='cuda:0') tensor(0.0004, device='cuda:0')\n",
      "targets tensor(0.2550, device='cuda:0') tensor(0.4537, device='cuda:0')\n",
      "outputs tensor(0.5056, device='cuda:0') tensor(0.0002, device='cuda:0')\n",
      "targets tensor(0.4020, device='cuda:0') tensor(0.5368, device='cuda:0')\n",
      "Valid Step 15/15, valid_loss: 0.7158\n",
      "[Epoch Train: 7] loss: 0.7024, time: 52.00 s            \n",
      "[Epoch Valid: 7] loss: 0.7158, auc: 0.4977, time: 7.00 s\n",
      "EPOCH: 8\n"
     ]
    },
    {
     "data": {
      "application/vnd.jupyter.widget-view+json": {
       "model_id": "2826e880be8842dcacae90f6372dbbe7",
       "version_major": 2,
       "version_minor": 0
      },
      "text/plain": [
       "HBox(children=(FloatProgress(value=0.0, max=59.0), HTML(value='')))"
      ]
     },
     "metadata": {},
     "output_type": "display_data"
    },
    {
     "name": "stdout",
     "output_type": "stream",
     "text": [
      "Train Step 59/59, train_loss: 0.6931\n"
     ]
    },
    {
     "data": {
      "application/vnd.jupyter.widget-view+json": {
       "model_id": "87a6937018e748f1a1df15e07723aac1",
       "version_major": 2,
       "version_minor": 0
      },
      "text/plain": [
       "HBox(children=(FloatProgress(value=0.0, max=15.0), HTML(value='')))"
      ]
     },
     "metadata": {},
     "output_type": "display_data"
    },
    {
     "name": "stdout",
     "output_type": "stream",
     "text": [
      "outputs tensor(0.5090, device='cuda:0') tensor(0.0010, device='cuda:0')\n",
      "targets tensor(0.7450, device='cuda:0') tensor(0.4537, device='cuda:0')\n",
      "outputs tensor(0.5123, device='cuda:0') tensor(0.0079, device='cuda:0')\n",
      "targets tensor(0.2550, device='cuda:0') tensor(0.4537, device='cuda:0')\n",
      "outputs tensor(0.5093, device='cuda:0') tensor(0.0023, device='cuda:0')\n",
      "targets tensor(0.2550, device='cuda:0') tensor(0.4537, device='cuda:0')\n",
      "outputs tensor(0.5135, device='cuda:0') tensor(0.0057, device='cuda:0')\n",
      "targets tensor(0.6225, device='cuda:0') tensor(0.5072, device='cuda:0')\n",
      "outputs tensor(0.5112, device='cuda:0') tensor(0.0065, device='cuda:0')\n",
      "targets tensor(0.7450, device='cuda:0') tensor(0.4537, device='cuda:0')\n",
      "outputs tensor(0.5107, device='cuda:0') tensor(0.0052, device='cuda:0')\n",
      "targets tensor(0.5000, device='cuda:0') tensor(0.5238, device='cuda:0')\n",
      "outputs tensor(0.5091, device='cuda:0') tensor(0.0034, device='cuda:0')\n",
      "targets tensor(0.5000, device='cuda:0') tensor(0.5238, device='cuda:0')\n",
      "outputs tensor(0.5125, device='cuda:0') tensor(0.0061, device='cuda:0')\n",
      "targets tensor(0.6225, device='cuda:0') tensor(0.5072, device='cuda:0')\n",
      "outputs tensor(0.5095, device='cuda:0') tensor(0.0050, device='cuda:0')\n",
      "targets tensor(0.2550, device='cuda:0') tensor(0.4537, device='cuda:0')\n",
      "outputs tensor(0.5126, device='cuda:0') tensor(0.0079, device='cuda:0')\n",
      "targets tensor(0.7450, device='cuda:0') tensor(0.4537, device='cuda:0')\n",
      "outputs tensor(0.5088, device='cuda:0') tensor(0.0023, device='cuda:0')\n",
      "targets tensor(0.6225, device='cuda:0') tensor(0.5072, device='cuda:0')\n",
      "outputs tensor(0.5092, device='cuda:0') tensor(0.0014, device='cuda:0')\n",
      "targets tensor(0.6225, device='cuda:0') tensor(0.5072, device='cuda:0')\n",
      "outputs tensor(0.5082, device='cuda:0') tensor(0.0014, device='cuda:0')\n",
      "targets tensor(0.6225, device='cuda:0') tensor(0.5072, device='cuda:0')\n",
      "outputs tensor(0.5113, device='cuda:0') tensor(0.0034, device='cuda:0')\n",
      "targets tensor(0.2550, device='cuda:0') tensor(0.4537, device='cuda:0')\n",
      "outputs tensor(0.5156, device='cuda:0') tensor(0.0084, device='cuda:0')\n",
      "targets tensor(0.4020, device='cuda:0') tensor(0.5368, device='cuda:0')\n",
      "Valid Step 15/15, valid_loss: 0.7160\n",
      "[Epoch Train: 8] loss: 0.6931, time: 52.00 s            \n",
      "[Epoch Valid: 8] loss: 0.7160, auc: 0.6227, time: 7.00 s\n",
      "auc improved from inf to 0.7160. Saved model to '/home/RSNA_MICCAI_Brain_Tumor/models/FLAIR-e8-loss0.716-auc0.623.pth'\n",
      "EPOCH: 9\n"
     ]
    },
    {
     "data": {
      "application/vnd.jupyter.widget-view+json": {
       "model_id": "d0a4161cb9c24f20a4a5359a583668be",
       "version_major": 2,
       "version_minor": 0
      },
      "text/plain": [
       "HBox(children=(FloatProgress(value=0.0, max=59.0), HTML(value='')))"
      ]
     },
     "metadata": {},
     "output_type": "display_data"
    },
    {
     "name": "stdout",
     "output_type": "stream",
     "text": [
      "Train Step 59/59, train_loss: 0.7043\n"
     ]
    },
    {
     "data": {
      "application/vnd.jupyter.widget-view+json": {
       "model_id": "d944d879f8934d70be56692ae426ec32",
       "version_major": 2,
       "version_minor": 0
      },
      "text/plain": [
       "HBox(children=(FloatProgress(value=0.0, max=15.0), HTML(value='')))"
      ]
     },
     "metadata": {},
     "output_type": "display_data"
    },
    {
     "name": "stdout",
     "output_type": "stream",
     "text": [
      "outputs tensor(0.5033, device='cuda:0') tensor(0.0038, device='cuda:0')\n",
      "targets tensor(0.7450, device='cuda:0') tensor(0.4537, device='cuda:0')\n",
      "outputs tensor(0.5044, device='cuda:0') tensor(0.0051, device='cuda:0')\n",
      "targets tensor(0.2550, device='cuda:0') tensor(0.4537, device='cuda:0')\n",
      "outputs tensor(0.5040, device='cuda:0') tensor(0.0038, device='cuda:0')\n",
      "targets tensor(0.2550, device='cuda:0') tensor(0.4537, device='cuda:0')\n",
      "outputs tensor(0.5006, device='cuda:0') tensor(0.0008, device='cuda:0')\n",
      "targets tensor(0.6225, device='cuda:0') tensor(0.5072, device='cuda:0')\n",
      "outputs tensor(0.5054, device='cuda:0') tensor(0.0068, device='cuda:0')\n",
      "targets tensor(0.7450, device='cuda:0') tensor(0.4537, device='cuda:0')\n",
      "outputs tensor(0.5043, device='cuda:0') tensor(0.0062, device='cuda:0')\n",
      "targets tensor(0.5000, device='cuda:0') tensor(0.5238, device='cuda:0')\n",
      "outputs tensor(0.5050, device='cuda:0') tensor(0.0041, device='cuda:0')\n",
      "targets tensor(0.5000, device='cuda:0') tensor(0.5238, device='cuda:0')\n",
      "outputs tensor(0.5025, device='cuda:0') tensor(0.0032, device='cuda:0')\n",
      "targets tensor(0.6225, device='cuda:0') tensor(0.5072, device='cuda:0')\n",
      "outputs tensor(0.5074, device='cuda:0') tensor(0.0089, device='cuda:0')\n",
      "targets tensor(0.2550, device='cuda:0') tensor(0.4537, device='cuda:0')\n",
      "outputs tensor(0.5039, device='cuda:0') tensor(0.0087, device='cuda:0')\n",
      "targets tensor(0.7450, device='cuda:0') tensor(0.4537, device='cuda:0')\n",
      "outputs tensor(0.5062, device='cuda:0') tensor(0.0063, device='cuda:0')\n",
      "targets tensor(0.6225, device='cuda:0') tensor(0.5072, device='cuda:0')\n",
      "outputs tensor(0.5040, device='cuda:0') tensor(0.0038, device='cuda:0')\n",
      "targets tensor(0.6225, device='cuda:0') tensor(0.5072, device='cuda:0')\n",
      "outputs tensor(0.5057, device='cuda:0') tensor(0.0047, device='cuda:0')\n",
      "targets tensor(0.6225, device='cuda:0') tensor(0.5072, device='cuda:0')\n",
      "outputs tensor(0.5014, device='cuda:0') tensor(0.0021, device='cuda:0')\n",
      "targets tensor(0.2550, device='cuda:0') tensor(0.4537, device='cuda:0')\n",
      "outputs tensor(0.5028, device='cuda:0') tensor(0.0055, device='cuda:0')\n",
      "targets tensor(0.4020, device='cuda:0') tensor(0.5368, device='cuda:0')\n",
      "Valid Step 15/15, valid_loss: 0.7161\n",
      "[Epoch Train: 9] loss: 0.7043, time: 52.00 s            \n",
      "[Epoch Valid: 9] loss: 0.7161, auc: 0.3891, time: 7.00 s\n",
      "EPOCH: 10\n"
     ]
    },
    {
     "data": {
      "application/vnd.jupyter.widget-view+json": {
       "model_id": "2a6de60bfe554cfea73ac35853b8071e",
       "version_major": 2,
       "version_minor": 0
      },
      "text/plain": [
       "HBox(children=(FloatProgress(value=0.0, max=59.0), HTML(value='')))"
      ]
     },
     "metadata": {},
     "output_type": "display_data"
    },
    {
     "name": "stdout",
     "output_type": "stream",
     "text": [
      "Train Step 59/59, train_loss: 0.6957\n"
     ]
    },
    {
     "data": {
      "application/vnd.jupyter.widget-view+json": {
       "model_id": "5f745b59251c46ca80a56645cc51c42b",
       "version_major": 2,
       "version_minor": 0
      },
      "text/plain": [
       "HBox(children=(FloatProgress(value=0.0, max=15.0), HTML(value='')))"
      ]
     },
     "metadata": {},
     "output_type": "display_data"
    },
    {
     "name": "stdout",
     "output_type": "stream",
     "text": [
      "outputs tensor(0.5068, device='cuda:0') tensor(0.0010, device='cuda:0')\n",
      "targets tensor(0.7450, device='cuda:0') tensor(0.4537, device='cuda:0')\n",
      "outputs tensor(0.5071, device='cuda:0') tensor(0.0014, device='cuda:0')\n",
      "targets tensor(0.2550, device='cuda:0') tensor(0.4537, device='cuda:0')\n",
      "outputs tensor(0.5067, device='cuda:0') tensor(0.0015, device='cuda:0')\n",
      "targets tensor(0.2550, device='cuda:0') tensor(0.4537, device='cuda:0')\n",
      "outputs tensor(0.5072, device='cuda:0') tensor(0.0011, device='cuda:0')\n",
      "targets tensor(0.6225, device='cuda:0') tensor(0.5072, device='cuda:0')\n",
      "outputs tensor(0.5070, device='cuda:0') tensor(0.0011, device='cuda:0')\n",
      "targets tensor(0.7450, device='cuda:0') tensor(0.4537, device='cuda:0')\n",
      "outputs tensor(0.5071, device='cuda:0') tensor(0.0011, device='cuda:0')\n",
      "targets tensor(0.5000, device='cuda:0') tensor(0.5238, device='cuda:0')\n",
      "outputs tensor(0.5070, device='cuda:0') tensor(0.0016, device='cuda:0')\n",
      "targets tensor(0.5000, device='cuda:0') tensor(0.5238, device='cuda:0')\n",
      "outputs tensor(0.5069, device='cuda:0') tensor(0.0014, device='cuda:0')\n",
      "targets tensor(0.6225, device='cuda:0') tensor(0.5072, device='cuda:0')\n",
      "outputs tensor(0.5074, device='cuda:0') tensor(0.0008, device='cuda:0')\n",
      "targets tensor(0.2550, device='cuda:0') tensor(0.4537, device='cuda:0')\n",
      "outputs tensor(0.5065, device='cuda:0') tensor(0.0013, device='cuda:0')\n",
      "targets tensor(0.7450, device='cuda:0') tensor(0.4537, device='cuda:0')\n",
      "outputs tensor(0.5072, device='cuda:0') tensor(0.0011, device='cuda:0')\n",
      "targets tensor(0.6225, device='cuda:0') tensor(0.5072, device='cuda:0')\n",
      "outputs tensor(0.5071, device='cuda:0') tensor(0.0011, device='cuda:0')\n",
      "targets tensor(0.6225, device='cuda:0') tensor(0.5072, device='cuda:0')\n",
      "outputs tensor(0.5072, device='cuda:0') tensor(0.0010, device='cuda:0')\n",
      "targets tensor(0.6225, device='cuda:0') tensor(0.5072, device='cuda:0')\n",
      "outputs tensor(0.5067, device='cuda:0') tensor(0.0011, device='cuda:0')\n",
      "targets tensor(0.2550, device='cuda:0') tensor(0.4537, device='cuda:0')\n",
      "outputs tensor(0.5076, device='cuda:0') tensor(0.0003, device='cuda:0')\n",
      "targets tensor(0.4020, device='cuda:0') tensor(0.5368, device='cuda:0')\n",
      "Valid Step 15/15, valid_loss: 0.7160\n",
      "[Epoch Train: 10] loss: 0.6957, time: 52.00 s            \n",
      "[Epoch Valid: 10] loss: 0.7160, auc: 0.3326, time: 7.00 s\n",
      "EPOCH: 11\n"
     ]
    },
    {
     "data": {
      "application/vnd.jupyter.widget-view+json": {
       "model_id": "8866faa37ca34e808e8f4d207e22f7ef",
       "version_major": 2,
       "version_minor": 0
      },
      "text/plain": [
       "HBox(children=(FloatProgress(value=0.0, max=59.0), HTML(value='')))"
      ]
     },
     "metadata": {},
     "output_type": "display_data"
    },
    {
     "name": "stdout",
     "output_type": "stream",
     "text": [
      "Train Step 59/59, train_loss: 0.6996\n"
     ]
    },
    {
     "data": {
      "application/vnd.jupyter.widget-view+json": {
       "model_id": "74b2d332bc8b433d85d1737a2741eee0",
       "version_major": 2,
       "version_minor": 0
      },
      "text/plain": [
       "HBox(children=(FloatProgress(value=0.0, max=15.0), HTML(value='')))"
      ]
     },
     "metadata": {},
     "output_type": "display_data"
    },
    {
     "name": "stdout",
     "output_type": "stream",
     "text": [
      "outputs tensor(0.5846, device='cuda:0') tensor(0.0802, device='cuda:0')\n",
      "targets tensor(0.7450, device='cuda:0') tensor(0.4537, device='cuda:0')\n",
      "outputs tensor(0.6089, device='cuda:0') tensor(0.1340, device='cuda:0')\n",
      "targets tensor(0.2550, device='cuda:0') tensor(0.4537, device='cuda:0')\n",
      "outputs tensor(0.6282, device='cuda:0') tensor(0.1016, device='cuda:0')\n",
      "targets tensor(0.2550, device='cuda:0') tensor(0.4537, device='cuda:0')\n",
      "outputs tensor(0.6266, device='cuda:0') tensor(0.1078, device='cuda:0')\n",
      "targets tensor(0.6225, device='cuda:0') tensor(0.5072, device='cuda:0')\n",
      "outputs tensor(0.5749, device='cuda:0') tensor(0.0634, device='cuda:0')\n",
      "targets tensor(0.7450, device='cuda:0') tensor(0.4537, device='cuda:0')\n",
      "outputs tensor(0.5843, device='cuda:0') tensor(0.0884, device='cuda:0')\n",
      "targets tensor(0.5000, device='cuda:0') tensor(0.5238, device='cuda:0')\n",
      "outputs tensor(0.5643, device='cuda:0') tensor(0.0559, device='cuda:0')\n",
      "targets tensor(0.5000, device='cuda:0') tensor(0.5238, device='cuda:0')\n",
      "outputs tensor(0.5575, device='cuda:0') tensor(0.0424, device='cuda:0')\n",
      "targets tensor(0.6225, device='cuda:0') tensor(0.5072, device='cuda:0')\n",
      "outputs tensor(0.6040, device='cuda:0') tensor(0.0758, device='cuda:0')\n",
      "targets tensor(0.2550, device='cuda:0') tensor(0.4537, device='cuda:0')\n",
      "outputs tensor(0.6002, device='cuda:0') tensor(0.1315, device='cuda:0')\n",
      "targets tensor(0.7450, device='cuda:0') tensor(0.4537, device='cuda:0')\n",
      "outputs tensor(0.5563, device='cuda:0') tensor(0.0432, device='cuda:0')\n",
      "targets tensor(0.6225, device='cuda:0') tensor(0.5072, device='cuda:0')\n",
      "outputs tensor(0.5949, device='cuda:0') tensor(0.0842, device='cuda:0')\n",
      "targets tensor(0.6225, device='cuda:0') tensor(0.5072, device='cuda:0')\n",
      "outputs tensor(0.5303, device='cuda:0') tensor(0.0550, device='cuda:0')\n",
      "targets tensor(0.6225, device='cuda:0') tensor(0.5072, device='cuda:0')\n",
      "outputs tensor(0.5947, device='cuda:0') tensor(0.0760, device='cuda:0')\n",
      "targets tensor(0.2550, device='cuda:0') tensor(0.4537, device='cuda:0')\n",
      "outputs tensor(0.5441, device='cuda:0') tensor(0.0542, device='cuda:0')\n",
      "targets tensor(0.4020, device='cuda:0') tensor(0.5368, device='cuda:0')\n",
      "Valid Step 15/15, valid_loss: 0.7221\n",
      "[Epoch Train: 11] loss: 0.6996, time: 52.00 s            \n",
      "[Epoch Valid: 11] loss: 0.7221, auc: 0.5729, time: 7.00 s\n",
      "EPOCH: 12\n"
     ]
    },
    {
     "data": {
      "application/vnd.jupyter.widget-view+json": {
       "model_id": "e9228c43714f4af1885a91b278d2f090",
       "version_major": 2,
       "version_minor": 0
      },
      "text/plain": [
       "HBox(children=(FloatProgress(value=0.0, max=59.0), HTML(value='')))"
      ]
     },
     "metadata": {},
     "output_type": "display_data"
    },
    {
     "name": "stdout",
     "output_type": "stream",
     "text": [
      "Train Step 59/59, train_loss: 0.6939\n"
     ]
    },
    {
     "data": {
      "application/vnd.jupyter.widget-view+json": {
       "model_id": "b6f51f51c2db467ba4b5baa536468052",
       "version_major": 2,
       "version_minor": 0
      },
      "text/plain": [
       "HBox(children=(FloatProgress(value=0.0, max=15.0), HTML(value='')))"
      ]
     },
     "metadata": {},
     "output_type": "display_data"
    },
    {
     "name": "stdout",
     "output_type": "stream",
     "text": [
      "outputs tensor(0.5024, device='cuda:0') tensor(0.0206, device='cuda:0')\n",
      "targets tensor(0.7450, device='cuda:0') tensor(0.4537, device='cuda:0')\n",
      "outputs tensor(0.4991, device='cuda:0') tensor(0.0278, device='cuda:0')\n",
      "targets tensor(0.2550, device='cuda:0') tensor(0.4537, device='cuda:0')\n",
      "outputs tensor(0.4962, device='cuda:0') tensor(0.0223, device='cuda:0')\n",
      "targets tensor(0.2550, device='cuda:0') tensor(0.4537, device='cuda:0')\n",
      "outputs tensor(0.4860, device='cuda:0') tensor(0.0175, device='cuda:0')\n",
      "targets tensor(0.6225, device='cuda:0') tensor(0.5072, device='cuda:0')\n",
      "outputs tensor(0.4961, device='cuda:0') tensor(0.0210, device='cuda:0')\n",
      "targets tensor(0.7450, device='cuda:0') tensor(0.4537, device='cuda:0')\n",
      "outputs tensor(0.5026, device='cuda:0') tensor(0.0204, device='cuda:0')\n",
      "targets tensor(0.5000, device='cuda:0') tensor(0.5238, device='cuda:0')\n",
      "outputs tensor(0.5039, device='cuda:0') tensor(0.0204, device='cuda:0')\n",
      "targets tensor(0.5000, device='cuda:0') tensor(0.5238, device='cuda:0')\n",
      "outputs tensor(0.4995, device='cuda:0') tensor(0.0182, device='cuda:0')\n",
      "targets tensor(0.6225, device='cuda:0') tensor(0.5072, device='cuda:0')\n",
      "outputs tensor(0.4949, device='cuda:0') tensor(0.0185, device='cuda:0')\n",
      "targets tensor(0.2550, device='cuda:0') tensor(0.4537, device='cuda:0')\n",
      "outputs tensor(0.5051, device='cuda:0') tensor(0.0254, device='cuda:0')\n",
      "targets tensor(0.7450, device='cuda:0') tensor(0.4537, device='cuda:0')\n",
      "outputs tensor(0.5087, device='cuda:0') tensor(0.0183, device='cuda:0')\n",
      "targets tensor(0.6225, device='cuda:0') tensor(0.5072, device='cuda:0')\n",
      "outputs tensor(0.5019, device='cuda:0') tensor(0.0181, device='cuda:0')\n",
      "targets tensor(0.6225, device='cuda:0') tensor(0.5072, device='cuda:0')\n",
      "outputs tensor(0.5166, device='cuda:0') tensor(0.0173, device='cuda:0')\n",
      "targets tensor(0.6225, device='cuda:0') tensor(0.5072, device='cuda:0')\n",
      "outputs tensor(0.4930, device='cuda:0') tensor(0.0152, device='cuda:0')\n",
      "targets tensor(0.2550, device='cuda:0') tensor(0.4537, device='cuda:0')\n",
      "outputs tensor(0.4982, device='cuda:0') tensor(0.0251, device='cuda:0')\n",
      "targets tensor(0.4020, device='cuda:0') tensor(0.5368, device='cuda:0')\n",
      "Valid Step 15/15, valid_loss: 0.7159\n",
      "[Epoch Train: 12] loss: 0.6939, time: 52.00 s            \n",
      "[Epoch Valid: 12] loss: 0.7159, auc: 0.4880, time: 7.00 s\n",
      "EPOCH: 13\n"
     ]
    },
    {
     "data": {
      "application/vnd.jupyter.widget-view+json": {
       "model_id": "0798c3d4ef1a43bfb972626e078ab91f",
       "version_major": 2,
       "version_minor": 0
      },
      "text/plain": [
       "HBox(children=(FloatProgress(value=0.0, max=59.0), HTML(value='')))"
      ]
     },
     "metadata": {},
     "output_type": "display_data"
    },
    {
     "name": "stdout",
     "output_type": "stream",
     "text": [
      "Train Step 59/59, train_loss: 0.6965\n"
     ]
    },
    {
     "data": {
      "application/vnd.jupyter.widget-view+json": {
       "model_id": "3a2875f2a65d4d7cb45ffbcb30c31421",
       "version_major": 2,
       "version_minor": 0
      },
      "text/plain": [
       "HBox(children=(FloatProgress(value=0.0, max=15.0), HTML(value='')))"
      ]
     },
     "metadata": {},
     "output_type": "display_data"
    },
    {
     "name": "stdout",
     "output_type": "stream",
     "text": [
      "outputs tensor(0.5234, device='cuda:0') tensor(0.0084, device='cuda:0')\n",
      "targets tensor(0.7450, device='cuda:0') tensor(0.4537, device='cuda:0')\n",
      "outputs tensor(0.5310, device='cuda:0') tensor(0.0198, device='cuda:0')\n",
      "targets tensor(0.2550, device='cuda:0') tensor(0.4537, device='cuda:0')\n",
      "outputs tensor(0.5259, device='cuda:0') tensor(0.0079, device='cuda:0')\n",
      "targets tensor(0.2550, device='cuda:0') tensor(0.4537, device='cuda:0')\n",
      "outputs tensor(0.5248, device='cuda:0') tensor(0.0108, device='cuda:0')\n",
      "targets tensor(0.6225, device='cuda:0') tensor(0.5072, device='cuda:0')\n",
      "outputs tensor(0.5235, device='cuda:0') tensor(0.0054, device='cuda:0')\n",
      "targets tensor(0.7450, device='cuda:0') tensor(0.4537, device='cuda:0')\n",
      "outputs tensor(0.5237, device='cuda:0') tensor(0.0063, device='cuda:0')\n",
      "targets tensor(0.5000, device='cuda:0') tensor(0.5238, device='cuda:0')\n",
      "outputs tensor(0.5230, device='cuda:0') tensor(0.0032, device='cuda:0')\n",
      "targets tensor(0.5000, device='cuda:0') tensor(0.5238, device='cuda:0')\n",
      "outputs tensor(0.5184, device='cuda:0') tensor(0.0030, device='cuda:0')\n",
      "targets tensor(0.6225, device='cuda:0') tensor(0.5072, device='cuda:0')\n",
      "outputs tensor(0.5258, device='cuda:0') tensor(0.0045, device='cuda:0')\n",
      "targets tensor(0.2550, device='cuda:0') tensor(0.4537, device='cuda:0')\n",
      "outputs tensor(0.5264, device='cuda:0') tensor(0.0220, device='cuda:0')\n",
      "targets tensor(0.7450, device='cuda:0') tensor(0.4537, device='cuda:0')\n",
      "outputs tensor(0.5206, device='cuda:0') tensor(0.0045, device='cuda:0')\n",
      "targets tensor(0.6225, device='cuda:0') tensor(0.5072, device='cuda:0')\n",
      "outputs tensor(0.5227, device='cuda:0') tensor(0.0076, device='cuda:0')\n",
      "targets tensor(0.6225, device='cuda:0') tensor(0.5072, device='cuda:0')\n",
      "outputs tensor(0.5243, device='cuda:0') tensor(0.0069, device='cuda:0')\n",
      "targets tensor(0.6225, device='cuda:0') tensor(0.5072, device='cuda:0')\n",
      "outputs tensor(0.5213, device='cuda:0') tensor(0.0060, device='cuda:0')\n",
      "targets tensor(0.2550, device='cuda:0') tensor(0.4537, device='cuda:0')\n",
      "outputs tensor(0.5186, device='cuda:0') tensor(0.0047, device='cuda:0')\n",
      "targets tensor(0.4020, device='cuda:0') tensor(0.5368, device='cuda:0')\n",
      "Valid Step 15/15, valid_loss: 0.7177\n",
      "[Epoch Train: 13] loss: 0.6965, time: 52.00 s            \n",
      "[Epoch Valid: 13] loss: 0.7177, auc: 0.4573, time: 7.00 s\n",
      "EPOCH: 14\n"
     ]
    },
    {
     "data": {
      "application/vnd.jupyter.widget-view+json": {
       "model_id": "c7a5fd74a12b4369891000034ebdbeef",
       "version_major": 2,
       "version_minor": 0
      },
      "text/plain": [
       "HBox(children=(FloatProgress(value=0.0, max=59.0), HTML(value='')))"
      ]
     },
     "metadata": {},
     "output_type": "display_data"
    },
    {
     "name": "stdout",
     "output_type": "stream",
     "text": [
      "Train Step 59/59, train_loss: 0.6948\n"
     ]
    },
    {
     "data": {
      "application/vnd.jupyter.widget-view+json": {
       "model_id": "5747be9af7094da4aedd44f613fe2d31",
       "version_major": 2,
       "version_minor": 0
      },
      "text/plain": [
       "HBox(children=(FloatProgress(value=0.0, max=15.0), HTML(value='')))"
      ]
     },
     "metadata": {},
     "output_type": "display_data"
    },
    {
     "name": "stdout",
     "output_type": "stream",
     "text": [
      "outputs tensor(0.5294, device='cuda:0') tensor(0.0233, device='cuda:0')\n",
      "targets tensor(0.7450, device='cuda:0') tensor(0.4537, device='cuda:0')\n",
      "outputs tensor(0.5366, device='cuda:0') tensor(0.0182, device='cuda:0')\n",
      "targets tensor(0.2550, device='cuda:0') tensor(0.4537, device='cuda:0')\n",
      "outputs tensor(0.5190, device='cuda:0') tensor(0.0090, device='cuda:0')\n",
      "targets tensor(0.2550, device='cuda:0') tensor(0.4537, device='cuda:0')\n",
      "outputs tensor(0.5238, device='cuda:0') tensor(0.0137, device='cuda:0')\n",
      "targets tensor(0.6225, device='cuda:0') tensor(0.5072, device='cuda:0')\n",
      "outputs tensor(0.5310, device='cuda:0') tensor(0.0155, device='cuda:0')\n",
      "targets tensor(0.7450, device='cuda:0') tensor(0.4537, device='cuda:0')\n",
      "outputs tensor(0.5228, device='cuda:0') tensor(0.0145, device='cuda:0')\n",
      "targets tensor(0.5000, device='cuda:0') tensor(0.5238, device='cuda:0')\n",
      "outputs tensor(0.5185, device='cuda:0') tensor(0.0062, device='cuda:0')\n",
      "targets tensor(0.5000, device='cuda:0') tensor(0.5238, device='cuda:0')\n",
      "outputs tensor(0.5241, device='cuda:0') tensor(0.0151, device='cuda:0')\n",
      "targets tensor(0.6225, device='cuda:0') tensor(0.5072, device='cuda:0')\n",
      "outputs tensor(0.5385, device='cuda:0') tensor(0.0206, device='cuda:0')\n",
      "targets tensor(0.2550, device='cuda:0') tensor(0.4537, device='cuda:0')\n",
      "outputs tensor(0.5275, device='cuda:0') tensor(0.0218, device='cuda:0')\n",
      "targets tensor(0.7450, device='cuda:0') tensor(0.4537, device='cuda:0')\n",
      "outputs tensor(0.5238, device='cuda:0') tensor(0.0125, device='cuda:0')\n",
      "targets tensor(0.6225, device='cuda:0') tensor(0.5072, device='cuda:0')\n",
      "outputs tensor(0.5248, device='cuda:0') tensor(0.0162, device='cuda:0')\n",
      "targets tensor(0.6225, device='cuda:0') tensor(0.5072, device='cuda:0')\n",
      "outputs tensor(0.5278, device='cuda:0') tensor(0.0119, device='cuda:0')\n",
      "targets tensor(0.6225, device='cuda:0') tensor(0.5072, device='cuda:0')\n",
      "outputs tensor(0.5150, device='cuda:0') tensor(0.0030, device='cuda:0')\n",
      "targets tensor(0.2550, device='cuda:0') tensor(0.4537, device='cuda:0')\n",
      "outputs tensor(0.5166, device='cuda:0') tensor(0.0065, device='cuda:0')\n",
      "targets tensor(0.4020, device='cuda:0') tensor(0.5368, device='cuda:0')\n",
      "Valid Step 15/15, valid_loss: 0.7184\n",
      "[Epoch Train: 14] loss: 0.6948, time: 52.00 s            \n",
      "[Epoch Valid: 14] loss: 0.7184, auc: 0.4277, time: 7.00 s\n",
      "EPOCH: 15\n"
     ]
    },
    {
     "data": {
      "application/vnd.jupyter.widget-view+json": {
       "model_id": "c47309856f6f4754af5a265b9a8d71a4",
       "version_major": 2,
       "version_minor": 0
      },
      "text/plain": [
       "HBox(children=(FloatProgress(value=0.0, max=59.0), HTML(value='')))"
      ]
     },
     "metadata": {},
     "output_type": "display_data"
    },
    {
     "name": "stdout",
     "output_type": "stream",
     "text": [
      "Train Step 59/59, train_loss: 0.6948\n"
     ]
    },
    {
     "data": {
      "application/vnd.jupyter.widget-view+json": {
       "model_id": "8507c85f141244ff89a4c59d861873d3",
       "version_major": 2,
       "version_minor": 0
      },
      "text/plain": [
       "HBox(children=(FloatProgress(value=0.0, max=15.0), HTML(value='')))"
      ]
     },
     "metadata": {},
     "output_type": "display_data"
    },
    {
     "name": "stdout",
     "output_type": "stream",
     "text": [
      "outputs tensor(0.5222, device='cuda:0') tensor(0.0254, device='cuda:0')\n",
      "targets tensor(0.7450, device='cuda:0') tensor(0.4537, device='cuda:0')\n",
      "outputs tensor(0.5299, device='cuda:0') tensor(0.0409, device='cuda:0')\n",
      "targets tensor(0.2550, device='cuda:0') tensor(0.4537, device='cuda:0')\n",
      "outputs tensor(0.5222, device='cuda:0') tensor(0.0182, device='cuda:0')\n",
      "targets tensor(0.2550, device='cuda:0') tensor(0.4537, device='cuda:0')\n",
      "outputs tensor(0.5288, device='cuda:0') tensor(0.0276, device='cuda:0')\n",
      "targets tensor(0.6225, device='cuda:0') tensor(0.5072, device='cuda:0')\n",
      "outputs tensor(0.5168, device='cuda:0') tensor(0.0070, device='cuda:0')\n",
      "targets tensor(0.7450, device='cuda:0') tensor(0.4537, device='cuda:0')\n",
      "outputs tensor(0.5137, device='cuda:0') tensor(0.0014, device='cuda:0')\n",
      "targets tensor(0.5000, device='cuda:0') tensor(0.5238, device='cuda:0')\n",
      "outputs tensor(0.5127, device='cuda:0') tensor(0.0006, device='cuda:0')\n",
      "targets tensor(0.5000, device='cuda:0') tensor(0.5238, device='cuda:0')\n",
      "outputs tensor(0.5157, device='cuda:0') tensor(0.0054, device='cuda:0')\n",
      "targets tensor(0.6225, device='cuda:0') tensor(0.5072, device='cuda:0')\n",
      "outputs tensor(0.5232, device='cuda:0') tensor(0.0123, device='cuda:0')\n",
      "targets tensor(0.2550, device='cuda:0') tensor(0.4537, device='cuda:0')\n",
      "outputs tensor(0.5277, device='cuda:0') tensor(0.0418, device='cuda:0')\n",
      "targets tensor(0.7450, device='cuda:0') tensor(0.4537, device='cuda:0')\n",
      "outputs tensor(0.5128, device='cuda:0') tensor(0.0004, device='cuda:0')\n",
      "targets tensor(0.6225, device='cuda:0') tensor(0.5072, device='cuda:0')\n",
      "outputs tensor(0.5227, device='cuda:0') tensor(0.0188, device='cuda:0')\n",
      "targets tensor(0.6225, device='cuda:0') tensor(0.5072, device='cuda:0')\n",
      "outputs tensor(0.5140, device='cuda:0') tensor(0.0027, device='cuda:0')\n",
      "targets tensor(0.6225, device='cuda:0') tensor(0.5072, device='cuda:0')\n",
      "outputs tensor(0.5132, device='cuda:0') tensor(0.0016, device='cuda:0')\n",
      "targets tensor(0.2550, device='cuda:0') tensor(0.4537, device='cuda:0')\n",
      "outputs tensor(0.5132, device='cuda:0') tensor(0.0013, device='cuda:0')\n",
      "targets tensor(0.4020, device='cuda:0') tensor(0.5368, device='cuda:0')\n",
      "Valid Step 15/15, valid_loss: 0.7172\n",
      "[Epoch Train: 15] loss: 0.6948, time: 51.00 s            \n",
      "[Epoch Valid: 15] loss: 0.7172, auc: 0.4611, time: 7.00 s\n",
      "\n",
      "(468, 3) (117, 3)\n"
     ]
    },
    {
     "name": "stderr",
     "output_type": "stream",
     "text": [
      "/opt/conda/lib/python3.8/site-packages/pandas/core/indexing.py:1720: SettingWithCopyWarning: \n",
      "A value is trying to be set on a copy of a slice from a DataFrame.\n",
      "Try using .loc[row_indexer,col_indexer] = value instead\n",
      "\n",
      "See the caveats in the documentation: https://pandas.pydata.org/pandas-docs/stable/user_guide/indexing.html#returning-a-view-versus-a-copy\n",
      "  self._setitem_single_column(loc, value, pi)\n"
     ]
    },
    {
     "data": {
      "text/html": [
       "<div>\n",
       "<style scoped>\n",
       "    .dataframe tbody tr th:only-of-type {\n",
       "        vertical-align: middle;\n",
       "    }\n",
       "\n",
       "    .dataframe tbody tr th {\n",
       "        vertical-align: top;\n",
       "    }\n",
       "\n",
       "    .dataframe thead th {\n",
       "        text-align: right;\n",
       "    }\n",
       "</style>\n",
       "<table border=\"1\" class=\"dataframe\">\n",
       "  <thead>\n",
       "    <tr style=\"text-align: right;\">\n",
       "      <th></th>\n",
       "      <th>BraTS21ID</th>\n",
       "      <th>MGMT_value</th>\n",
       "      <th>MRI_Type</th>\n",
       "    </tr>\n",
       "  </thead>\n",
       "  <tbody>\n",
       "    <tr>\n",
       "      <th>102</th>\n",
       "      <td>154</td>\n",
       "      <td>0</td>\n",
       "      <td>T1w</td>\n",
       "    </tr>\n",
       "    <tr>\n",
       "      <th>161</th>\n",
       "      <td>240</td>\n",
       "      <td>1</td>\n",
       "      <td>T1w</td>\n",
       "    </tr>\n",
       "    <tr>\n",
       "      <th>508</th>\n",
       "      <td>740</td>\n",
       "      <td>1</td>\n",
       "      <td>T1w</td>\n",
       "    </tr>\n",
       "    <tr>\n",
       "      <th>495</th>\n",
       "      <td>725</td>\n",
       "      <td>1</td>\n",
       "      <td>T1w</td>\n",
       "    </tr>\n",
       "    <tr>\n",
       "      <th>298</th>\n",
       "      <td>432</td>\n",
       "      <td>0</td>\n",
       "      <td>T1w</td>\n",
       "    </tr>\n",
       "  </tbody>\n",
       "</table>\n",
       "</div>"
      ],
      "text/plain": [
       "     BraTS21ID  MGMT_value MRI_Type\n",
       "102        154           0      T1w\n",
       "161        240           1      T1w\n",
       "508        740           1      T1w\n",
       "495        725           1      T1w\n",
       "298        432           0      T1w"
      ]
     },
     "metadata": {},
     "output_type": "display_data"
    },
    {
     "data": {
      "application/vnd.jupyter.widget-view+json": {
       "model_id": "68b6fe9c532f4f2688e287442300b7f0",
       "version_major": 2,
       "version_minor": 0
      },
      "text/plain": [
       "HBox(children=(FloatProgress(value=0.0, max=15.0), HTML(value='')))"
      ]
     },
     "metadata": {},
     "output_type": "display_data"
    },
    {
     "name": "stdout",
     "output_type": "stream",
     "text": [
      "EPOCH: 1\n"
     ]
    },
    {
     "data": {
      "application/vnd.jupyter.widget-view+json": {
       "model_id": "2e5893a0d51e4116b38dee7e89a22854",
       "version_major": 2,
       "version_minor": 0
      },
      "text/plain": [
       "HBox(children=(FloatProgress(value=0.0, max=59.0), HTML(value='')))"
      ]
     },
     "metadata": {},
     "output_type": "display_data"
    },
    {
     "name": "stdout",
     "output_type": "stream",
     "text": [
      "Train Step 59/59, train_loss: 0.9391\n"
     ]
    },
    {
     "data": {
      "application/vnd.jupyter.widget-view+json": {
       "model_id": "82333cc1982646c7826995e5fffb8b64",
       "version_major": 2,
       "version_minor": 0
      },
      "text/plain": [
       "HBox(children=(FloatProgress(value=0.0, max=15.0), HTML(value='')))"
      ]
     },
     "metadata": {},
     "output_type": "display_data"
    },
    {
     "name": "stdout",
     "output_type": "stream",
     "text": [
      "outputs tensor(0.5230, device='cuda:0') tensor(0., device='cuda:0')\n",
      "targets tensor(0.7450, device='cuda:0') tensor(0.4537, device='cuda:0')\n",
      "outputs tensor(0.5230, device='cuda:0') tensor(0., device='cuda:0')\n",
      "targets tensor(0.2550, device='cuda:0') tensor(0.4537, device='cuda:0')\n",
      "outputs tensor(0.5230, device='cuda:0') tensor(0., device='cuda:0')\n",
      "targets tensor(0.2550, device='cuda:0') tensor(0.4537, device='cuda:0')\n",
      "outputs tensor(0.5230, device='cuda:0') tensor(0., device='cuda:0')\n",
      "targets tensor(0.6225, device='cuda:0') tensor(0.5072, device='cuda:0')\n",
      "outputs tensor(0.5230, device='cuda:0') tensor(0., device='cuda:0')\n",
      "targets tensor(0.7450, device='cuda:0') tensor(0.4537, device='cuda:0')\n",
      "outputs tensor(0.5230, device='cuda:0') tensor(0., device='cuda:0')\n",
      "targets tensor(0.5000, device='cuda:0') tensor(0.5238, device='cuda:0')\n",
      "outputs tensor(0.5230, device='cuda:0') tensor(0., device='cuda:0')\n",
      "targets tensor(0.5000, device='cuda:0') tensor(0.5238, device='cuda:0')\n",
      "outputs tensor(0.5230, device='cuda:0') tensor(0., device='cuda:0')\n",
      "targets tensor(0.6225, device='cuda:0') tensor(0.5072, device='cuda:0')\n",
      "outputs tensor(0.5230, device='cuda:0') tensor(0., device='cuda:0')\n",
      "targets tensor(0.2550, device='cuda:0') tensor(0.4537, device='cuda:0')\n",
      "outputs tensor(0.5230, device='cuda:0') tensor(0., device='cuda:0')\n",
      "targets tensor(0.7450, device='cuda:0') tensor(0.4537, device='cuda:0')\n",
      "outputs tensor(0.5230, device='cuda:0') tensor(0., device='cuda:0')\n",
      "targets tensor(0.6225, device='cuda:0') tensor(0.5072, device='cuda:0')\n",
      "outputs tensor(0.5230, device='cuda:0') tensor(0., device='cuda:0')\n",
      "targets tensor(0.6225, device='cuda:0') tensor(0.5072, device='cuda:0')\n",
      "outputs tensor(0.5230, device='cuda:0') tensor(0., device='cuda:0')\n",
      "targets tensor(0.6225, device='cuda:0') tensor(0.5072, device='cuda:0')\n",
      "outputs tensor(0.5230, device='cuda:0') tensor(0., device='cuda:0')\n",
      "targets tensor(0.2550, device='cuda:0') tensor(0.4537, device='cuda:0')\n",
      "outputs tensor(0.5230, device='cuda:0') tensor(0., device='cuda:0')\n",
      "targets tensor(0.4020, device='cuda:0') tensor(0.5368, device='cuda:0')\n",
      "Valid Step 15/15, valid_loss: 0.7176\n",
      "[Epoch Train: 1] loss: 0.9391, time: 51.00 s            \n",
      "[Epoch Valid: 1] loss: 0.7176, auc: 0.5000, time: 6.00 s\n",
      "EPOCH: 2\n"
     ]
    },
    {
     "data": {
      "application/vnd.jupyter.widget-view+json": {
       "model_id": "d532ebbee0424dd9980432a064a85207",
       "version_major": 2,
       "version_minor": 0
      },
      "text/plain": [
       "HBox(children=(FloatProgress(value=0.0, max=59.0), HTML(value='')))"
      ]
     },
     "metadata": {},
     "output_type": "display_data"
    },
    {
     "name": "stdout",
     "output_type": "stream",
     "text": [
      "Train Step 59/59, train_loss: 0.7154\n"
     ]
    },
    {
     "data": {
      "application/vnd.jupyter.widget-view+json": {
       "model_id": "3c6fdd8110b64ca3bfbbddf0ee2dc1fd",
       "version_major": 2,
       "version_minor": 0
      },
      "text/plain": [
       "HBox(children=(FloatProgress(value=0.0, max=15.0), HTML(value='')))"
      ]
     },
     "metadata": {},
     "output_type": "display_data"
    },
    {
     "name": "stdout",
     "output_type": "stream",
     "text": [
      "outputs tensor(0.5638, device='cuda:0') tensor(0., device='cuda:0')\n",
      "targets tensor(0.7450, device='cuda:0') tensor(0.4537, device='cuda:0')\n",
      "outputs tensor(0.5638, device='cuda:0') tensor(0., device='cuda:0')\n",
      "targets tensor(0.2550, device='cuda:0') tensor(0.4537, device='cuda:0')\n",
      "outputs tensor(0.5638, device='cuda:0') tensor(0., device='cuda:0')\n",
      "targets tensor(0.2550, device='cuda:0') tensor(0.4537, device='cuda:0')\n",
      "outputs tensor(0.5638, device='cuda:0') tensor(0., device='cuda:0')\n",
      "targets tensor(0.6225, device='cuda:0') tensor(0.5072, device='cuda:0')\n",
      "outputs tensor(0.5638, device='cuda:0') tensor(0., device='cuda:0')\n",
      "targets tensor(0.7450, device='cuda:0') tensor(0.4537, device='cuda:0')\n",
      "outputs tensor(0.5638, device='cuda:0') tensor(0., device='cuda:0')\n",
      "targets tensor(0.5000, device='cuda:0') tensor(0.5238, device='cuda:0')\n",
      "outputs tensor(0.5638, device='cuda:0') tensor(0., device='cuda:0')\n",
      "targets tensor(0.5000, device='cuda:0') tensor(0.5238, device='cuda:0')\n",
      "outputs tensor(0.5638, device='cuda:0') tensor(0., device='cuda:0')\n",
      "targets tensor(0.6225, device='cuda:0') tensor(0.5072, device='cuda:0')\n",
      "outputs tensor(0.5638, device='cuda:0') tensor(0., device='cuda:0')\n",
      "targets tensor(0.2550, device='cuda:0') tensor(0.4537, device='cuda:0')\n",
      "outputs tensor(0.5638, device='cuda:0') tensor(0., device='cuda:0')\n",
      "targets tensor(0.7450, device='cuda:0') tensor(0.4537, device='cuda:0')\n",
      "outputs tensor(0.5638, device='cuda:0') tensor(0., device='cuda:0')\n",
      "targets tensor(0.6225, device='cuda:0') tensor(0.5072, device='cuda:0')\n",
      "outputs tensor(0.5638, device='cuda:0') tensor(0., device='cuda:0')\n",
      "targets tensor(0.6225, device='cuda:0') tensor(0.5072, device='cuda:0')\n",
      "outputs tensor(0.5638, device='cuda:0') tensor(0., device='cuda:0')\n",
      "targets tensor(0.6225, device='cuda:0') tensor(0.5072, device='cuda:0')\n",
      "outputs tensor(0.5638, device='cuda:0') tensor(0., device='cuda:0')\n",
      "targets tensor(0.2550, device='cuda:0') tensor(0.4537, device='cuda:0')\n",
      "outputs tensor(0.5638, device='cuda:0') tensor(0., device='cuda:0')\n",
      "targets tensor(0.4020, device='cuda:0') tensor(0.5368, device='cuda:0')\n",
      "Valid Step 15/15, valid_loss: 0.7222\n",
      "[Epoch Train: 2] loss: 0.7154, time: 51.00 s            \n",
      "[Epoch Valid: 2] loss: 0.7222, auc: 0.5000, time: 6.00 s\n",
      "EPOCH: 3\n"
     ]
    },
    {
     "data": {
      "application/vnd.jupyter.widget-view+json": {
       "model_id": "c2e767f495d2486c9c8cd87770d6e732",
       "version_major": 2,
       "version_minor": 0
      },
      "text/plain": [
       "HBox(children=(FloatProgress(value=0.0, max=59.0), HTML(value='')))"
      ]
     },
     "metadata": {},
     "output_type": "display_data"
    },
    {
     "name": "stdout",
     "output_type": "stream",
     "text": [
      "Train Step 59/59, train_loss: 0.7366\n"
     ]
    },
    {
     "data": {
      "application/vnd.jupyter.widget-view+json": {
       "model_id": "3e5c5e20e38046ac9562e3962d82dec0",
       "version_major": 2,
       "version_minor": 0
      },
      "text/plain": [
       "HBox(children=(FloatProgress(value=0.0, max=15.0), HTML(value='')))"
      ]
     },
     "metadata": {},
     "output_type": "display_data"
    },
    {
     "name": "stdout",
     "output_type": "stream",
     "text": [
      "outputs tensor(0.5058, device='cuda:0') tensor(0., device='cuda:0')\n",
      "targets tensor(0.7450, device='cuda:0') tensor(0.4537, device='cuda:0')\n",
      "outputs tensor(0.5058, device='cuda:0') tensor(0., device='cuda:0')\n",
      "targets tensor(0.2550, device='cuda:0') tensor(0.4537, device='cuda:0')\n",
      "outputs tensor(0.5058, device='cuda:0') tensor(0., device='cuda:0')\n",
      "targets tensor(0.2550, device='cuda:0') tensor(0.4537, device='cuda:0')\n",
      "outputs tensor(0.5058, device='cuda:0') tensor(0., device='cuda:0')\n",
      "targets tensor(0.6225, device='cuda:0') tensor(0.5072, device='cuda:0')\n",
      "outputs tensor(0.5058, device='cuda:0') tensor(0., device='cuda:0')\n",
      "targets tensor(0.7450, device='cuda:0') tensor(0.4537, device='cuda:0')\n",
      "outputs tensor(0.5058, device='cuda:0') tensor(0., device='cuda:0')\n",
      "targets tensor(0.5000, device='cuda:0') tensor(0.5238, device='cuda:0')\n",
      "outputs tensor(0.5058, device='cuda:0') tensor(0., device='cuda:0')\n",
      "targets tensor(0.5000, device='cuda:0') tensor(0.5238, device='cuda:0')\n",
      "outputs tensor(0.5058, device='cuda:0') tensor(0., device='cuda:0')\n",
      "targets tensor(0.6225, device='cuda:0') tensor(0.5072, device='cuda:0')\n",
      "outputs tensor(0.5058, device='cuda:0') tensor(0., device='cuda:0')\n",
      "targets tensor(0.2550, device='cuda:0') tensor(0.4537, device='cuda:0')\n",
      "outputs tensor(0.5058, device='cuda:0') tensor(0., device='cuda:0')\n",
      "targets tensor(0.7450, device='cuda:0') tensor(0.4537, device='cuda:0')\n",
      "outputs tensor(0.5058, device='cuda:0') tensor(0., device='cuda:0')\n",
      "targets tensor(0.6225, device='cuda:0') tensor(0.5072, device='cuda:0')\n",
      "outputs tensor(0.5058, device='cuda:0') tensor(0., device='cuda:0')\n",
      "targets tensor(0.6225, device='cuda:0') tensor(0.5072, device='cuda:0')\n",
      "outputs tensor(0.5058, device='cuda:0') tensor(0., device='cuda:0')\n",
      "targets tensor(0.6225, device='cuda:0') tensor(0.5072, device='cuda:0')\n",
      "outputs tensor(0.5058, device='cuda:0') tensor(0., device='cuda:0')\n",
      "targets tensor(0.2550, device='cuda:0') tensor(0.4537, device='cuda:0')\n",
      "outputs tensor(0.5058, device='cuda:0') tensor(0., device='cuda:0')\n",
      "targets tensor(0.4020, device='cuda:0') tensor(0.5368, device='cuda:0')\n",
      "Valid Step 15/15, valid_loss: 0.7157\n",
      "[Epoch Train: 3] loss: 0.7366, time: 51.00 s            \n",
      "[Epoch Valid: 3] loss: 0.7157, auc: 0.5000, time: 6.00 s\n",
      "EPOCH: 4\n"
     ]
    },
    {
     "data": {
      "application/vnd.jupyter.widget-view+json": {
       "model_id": "ea68403d1a1a4891b65fa17889c9510f",
       "version_major": 2,
       "version_minor": 0
      },
      "text/plain": [
       "HBox(children=(FloatProgress(value=0.0, max=59.0), HTML(value='')))"
      ]
     },
     "metadata": {},
     "output_type": "display_data"
    },
    {
     "name": "stdout",
     "output_type": "stream",
     "text": [
      "Train Step 59/59, train_loss: 0.7182\n"
     ]
    },
    {
     "data": {
      "application/vnd.jupyter.widget-view+json": {
       "model_id": "758b32414bc2431d9592d27a72c59734",
       "version_major": 2,
       "version_minor": 0
      },
      "text/plain": [
       "HBox(children=(FloatProgress(value=0.0, max=15.0), HTML(value='')))"
      ]
     },
     "metadata": {},
     "output_type": "display_data"
    },
    {
     "name": "stdout",
     "output_type": "stream",
     "text": [
      "outputs tensor(0.5372, device='cuda:0') tensor(0., device='cuda:0')\n",
      "targets tensor(0.7450, device='cuda:0') tensor(0.4537, device='cuda:0')\n",
      "outputs tensor(0.5372, device='cuda:0') tensor(0., device='cuda:0')\n",
      "targets tensor(0.2550, device='cuda:0') tensor(0.4537, device='cuda:0')\n",
      "outputs tensor(0.5372, device='cuda:0') tensor(0., device='cuda:0')\n",
      "targets tensor(0.2550, device='cuda:0') tensor(0.4537, device='cuda:0')\n",
      "outputs tensor(0.5372, device='cuda:0') tensor(0., device='cuda:0')\n",
      "targets tensor(0.6225, device='cuda:0') tensor(0.5072, device='cuda:0')\n",
      "outputs tensor(0.5372, device='cuda:0') tensor(0., device='cuda:0')\n",
      "targets tensor(0.7450, device='cuda:0') tensor(0.4537, device='cuda:0')\n",
      "outputs tensor(0.5372, device='cuda:0') tensor(0., device='cuda:0')\n",
      "targets tensor(0.5000, device='cuda:0') tensor(0.5238, device='cuda:0')\n",
      "outputs tensor(0.5372, device='cuda:0') tensor(0., device='cuda:0')\n",
      "targets tensor(0.5000, device='cuda:0') tensor(0.5238, device='cuda:0')\n",
      "outputs tensor(0.5372, device='cuda:0') tensor(0., device='cuda:0')\n",
      "targets tensor(0.6225, device='cuda:0') tensor(0.5072, device='cuda:0')\n",
      "outputs tensor(0.5372, device='cuda:0') tensor(0., device='cuda:0')\n",
      "targets tensor(0.2550, device='cuda:0') tensor(0.4537, device='cuda:0')\n",
      "outputs tensor(0.5372, device='cuda:0') tensor(0., device='cuda:0')\n",
      "targets tensor(0.7450, device='cuda:0') tensor(0.4537, device='cuda:0')\n",
      "outputs tensor(0.5372, device='cuda:0') tensor(0., device='cuda:0')\n",
      "targets tensor(0.6225, device='cuda:0') tensor(0.5072, device='cuda:0')\n",
      "outputs tensor(0.5372, device='cuda:0') tensor(0., device='cuda:0')\n",
      "targets tensor(0.6225, device='cuda:0') tensor(0.5072, device='cuda:0')\n",
      "outputs tensor(0.5372, device='cuda:0') tensor(0., device='cuda:0')\n",
      "targets tensor(0.6225, device='cuda:0') tensor(0.5072, device='cuda:0')\n",
      "outputs tensor(0.5372, device='cuda:0') tensor(0., device='cuda:0')\n",
      "targets tensor(0.2550, device='cuda:0') tensor(0.4537, device='cuda:0')\n",
      "outputs tensor(0.5372, device='cuda:0') tensor(0., device='cuda:0')\n",
      "targets tensor(0.4020, device='cuda:0') tensor(0.5368, device='cuda:0')\n",
      "Valid Step 15/15, valid_loss: 0.7191\n",
      "[Epoch Train: 4] loss: 0.7182, time: 52.00 s            \n",
      "[Epoch Valid: 4] loss: 0.7191, auc: 0.5000, time: 6.00 s\n",
      "EPOCH: 5\n"
     ]
    },
    {
     "data": {
      "application/vnd.jupyter.widget-view+json": {
       "model_id": "b915746c1f254280867988602a2a25bf",
       "version_major": 2,
       "version_minor": 0
      },
      "text/plain": [
       "HBox(children=(FloatProgress(value=0.0, max=59.0), HTML(value='')))"
      ]
     },
     "metadata": {},
     "output_type": "display_data"
    },
    {
     "name": "stdout",
     "output_type": "stream",
     "text": [
      "Train Step 59/59, train_loss: 0.7004\n"
     ]
    },
    {
     "data": {
      "application/vnd.jupyter.widget-view+json": {
       "model_id": "be2c2394425a438dbebd76625cefa373",
       "version_major": 2,
       "version_minor": 0
      },
      "text/plain": [
       "HBox(children=(FloatProgress(value=0.0, max=15.0), HTML(value='')))"
      ]
     },
     "metadata": {},
     "output_type": "display_data"
    },
    {
     "name": "stdout",
     "output_type": "stream",
     "text": [
      "outputs tensor(0.5358, device='cuda:0') tensor(1.3631e-06, device='cuda:0')\n",
      "targets tensor(0.7450, device='cuda:0') tensor(0.4537, device='cuda:0')\n",
      "outputs tensor(0.5358, device='cuda:0') tensor(1.2997e-06, device='cuda:0')\n",
      "targets tensor(0.2550, device='cuda:0') tensor(0.4537, device='cuda:0')\n",
      "outputs tensor(0.5358, device='cuda:0') tensor(1.7212e-06, device='cuda:0')\n",
      "targets tensor(0.2550, device='cuda:0') tensor(0.4537, device='cuda:0')\n",
      "outputs tensor(0.5358, device='cuda:0') tensor(1.2473e-06, device='cuda:0')\n",
      "targets tensor(0.6225, device='cuda:0') tensor(0.5072, device='cuda:0')\n",
      "outputs tensor(0.5358, device='cuda:0') tensor(1.7054e-06, device='cuda:0')\n",
      "targets tensor(0.7450, device='cuda:0') tensor(0.4537, device='cuda:0')\n",
      "outputs tensor(0.5358, device='cuda:0') tensor(1.6609e-06, device='cuda:0')\n",
      "targets tensor(0.5000, device='cuda:0') tensor(0.5238, device='cuda:0')\n",
      "outputs tensor(0.5358, device='cuda:0') tensor(1.2819e-06, device='cuda:0')\n",
      "targets tensor(0.5000, device='cuda:0') tensor(0.5238, device='cuda:0')\n",
      "outputs tensor(0.5358, device='cuda:0') tensor(1.4502e-06, device='cuda:0')\n",
      "targets tensor(0.6225, device='cuda:0') tensor(0.5072, device='cuda:0')\n",
      "outputs tensor(0.5358, device='cuda:0') tensor(1.4673e-06, device='cuda:0')\n",
      "targets tensor(0.2550, device='cuda:0') tensor(0.4537, device='cuda:0')\n",
      "outputs tensor(0.5358, device='cuda:0') tensor(1.4308e-06, device='cuda:0')\n",
      "targets tensor(0.7450, device='cuda:0') tensor(0.4537, device='cuda:0')\n",
      "outputs tensor(0.5358, device='cuda:0') tensor(1.6609e-06, device='cuda:0')\n",
      "targets tensor(0.6225, device='cuda:0') tensor(0.5072, device='cuda:0')\n",
      "outputs tensor(0.5358, device='cuda:0') tensor(1.5516e-06, device='cuda:0')\n",
      "targets tensor(0.6225, device='cuda:0') tensor(0.5072, device='cuda:0')\n",
      "outputs tensor(0.5358, device='cuda:0') tensor(1.5381e-06, device='cuda:0')\n",
      "targets tensor(0.6225, device='cuda:0') tensor(0.5072, device='cuda:0')\n",
      "outputs tensor(0.5358, device='cuda:0') tensor(1.6406e-06, device='cuda:0')\n",
      "targets tensor(0.2550, device='cuda:0') tensor(0.4537, device='cuda:0')\n",
      "outputs tensor(0.5358, device='cuda:0') tensor(1.6997e-06, device='cuda:0')\n",
      "targets tensor(0.4020, device='cuda:0') tensor(0.5368, device='cuda:0')\n",
      "Valid Step 15/15, valid_loss: 0.7190\n",
      "[Epoch Train: 5] loss: 0.7004, time: 51.00 s            \n",
      "[Epoch Valid: 5] loss: 0.7190, auc: 0.5621, time: 6.00 s\n",
      "auc improved from inf to 0.7190. Saved model to '/home/RSNA_MICCAI_Brain_Tumor/models/T1w-e5-loss0.719-auc0.562.pth'\n",
      "EPOCH: 6\n"
     ]
    },
    {
     "data": {
      "application/vnd.jupyter.widget-view+json": {
       "model_id": "6aa8f85d3d40483ea0ddf338c824f50d",
       "version_major": 2,
       "version_minor": 0
      },
      "text/plain": [
       "HBox(children=(FloatProgress(value=0.0, max=59.0), HTML(value='')))"
      ]
     },
     "metadata": {},
     "output_type": "display_data"
    },
    {
     "name": "stdout",
     "output_type": "stream",
     "text": [
      "Train Step 59/59, train_loss: 0.6987\n"
     ]
    },
    {
     "data": {
      "application/vnd.jupyter.widget-view+json": {
       "model_id": "1470896d36ae4bb8a8a10506525fc2f4",
       "version_major": 2,
       "version_minor": 0
      },
      "text/plain": [
       "HBox(children=(FloatProgress(value=0.0, max=15.0), HTML(value='')))"
      ]
     },
     "metadata": {},
     "output_type": "display_data"
    },
    {
     "name": "stdout",
     "output_type": "stream",
     "text": [
      "outputs tensor(0.5253, device='cuda:0') tensor(2.2838e-06, device='cuda:0')\n",
      "targets tensor(0.7450, device='cuda:0') tensor(0.4537, device='cuda:0')\n",
      "outputs tensor(0.5253, device='cuda:0') tensor(1.9196e-06, device='cuda:0')\n",
      "targets tensor(0.2550, device='cuda:0') tensor(0.4537, device='cuda:0')\n",
      "outputs tensor(0.5253, device='cuda:0') tensor(2.8979e-06, device='cuda:0')\n",
      "targets tensor(0.2550, device='cuda:0') tensor(0.4537, device='cuda:0')\n",
      "outputs tensor(0.5253, device='cuda:0') tensor(2.5182e-06, device='cuda:0')\n",
      "targets tensor(0.6225, device='cuda:0') tensor(0.5072, device='cuda:0')\n",
      "outputs tensor(0.5253, device='cuda:0') tensor(2.8695e-06, device='cuda:0')\n",
      "targets tensor(0.7450, device='cuda:0') tensor(0.4537, device='cuda:0')\n",
      "outputs tensor(0.5253, device='cuda:0') tensor(2.9575e-06, device='cuda:0')\n",
      "targets tensor(0.5000, device='cuda:0') tensor(0.5238, device='cuda:0')\n",
      "outputs tensor(0.5253, device='cuda:0') tensor(2.7509e-06, device='cuda:0')\n",
      "targets tensor(0.5000, device='cuda:0') tensor(0.5238, device='cuda:0')\n",
      "outputs tensor(0.5253, device='cuda:0') tensor(2.3890e-06, device='cuda:0')\n",
      "targets tensor(0.6225, device='cuda:0') tensor(0.5072, device='cuda:0')\n",
      "outputs tensor(0.5253, device='cuda:0') tensor(2.7624e-06, device='cuda:0')\n",
      "targets tensor(0.2550, device='cuda:0') tensor(0.4537, device='cuda:0')\n",
      "outputs tensor(0.5253, device='cuda:0') tensor(2.7166e-06, device='cuda:0')\n",
      "targets tensor(0.7450, device='cuda:0') tensor(0.4537, device='cuda:0')\n",
      "outputs tensor(0.5253, device='cuda:0') tensor(3.2535e-06, device='cuda:0')\n",
      "targets tensor(0.6225, device='cuda:0') tensor(0.5072, device='cuda:0')\n",
      "outputs tensor(0.5253, device='cuda:0') tensor(2.9658e-06, device='cuda:0')\n",
      "targets tensor(0.6225, device='cuda:0') tensor(0.5072, device='cuda:0')\n",
      "outputs tensor(0.5253, device='cuda:0') tensor(2.6586e-06, device='cuda:0')\n",
      "targets tensor(0.6225, device='cuda:0') tensor(0.5072, device='cuda:0')\n",
      "outputs tensor(0.5253, device='cuda:0') tensor(3.3951e-06, device='cuda:0')\n",
      "targets tensor(0.2550, device='cuda:0') tensor(0.4537, device='cuda:0')\n",
      "outputs tensor(0.5253, device='cuda:0') tensor(2.9147e-06, device='cuda:0')\n",
      "targets tensor(0.4020, device='cuda:0') tensor(0.5368, device='cuda:0')\n",
      "Valid Step 15/15, valid_loss: 0.7178\n",
      "[Epoch Train: 6] loss: 0.6987, time: 51.00 s            \n",
      "[Epoch Valid: 6] loss: 0.7178, auc: 0.3832, time: 6.00 s\n",
      "EPOCH: 7\n"
     ]
    },
    {
     "data": {
      "application/vnd.jupyter.widget-view+json": {
       "model_id": "f90ef56f857a4b6f8bad3d159ef3faf8",
       "version_major": 2,
       "version_minor": 0
      },
      "text/plain": [
       "HBox(children=(FloatProgress(value=0.0, max=59.0), HTML(value='')))"
      ]
     },
     "metadata": {},
     "output_type": "display_data"
    },
    {
     "name": "stdout",
     "output_type": "stream",
     "text": [
      "Train Step 59/59, train_loss: 0.7104\n"
     ]
    },
    {
     "data": {
      "application/vnd.jupyter.widget-view+json": {
       "model_id": "024d8a84e41f487fb179d16408798524",
       "version_major": 2,
       "version_minor": 0
      },
      "text/plain": [
       "HBox(children=(FloatProgress(value=0.0, max=15.0), HTML(value='')))"
      ]
     },
     "metadata": {},
     "output_type": "display_data"
    },
    {
     "name": "stdout",
     "output_type": "stream",
     "text": [
      "outputs tensor(0.5057, device='cuda:0') tensor(1.4773e-07, device='cuda:0')\n",
      "targets tensor(0.7450, device='cuda:0') tensor(0.4537, device='cuda:0')\n",
      "outputs tensor(0.5057, device='cuda:0') tensor(2.5087e-07, device='cuda:0')\n",
      "targets tensor(0.2550, device='cuda:0') tensor(0.4537, device='cuda:0')\n",
      "outputs tensor(0.5057, device='cuda:0') tensor(4.7790e-07, device='cuda:0')\n",
      "targets tensor(0.2550, device='cuda:0') tensor(0.4537, device='cuda:0')\n",
      "outputs tensor(0.5057, device='cuda:0') tensor(2.6798e-07, device='cuda:0')\n",
      "targets tensor(0.6225, device='cuda:0') tensor(0.5072, device='cuda:0')\n",
      "outputs tensor(0.5057, device='cuda:0') tensor(5.6118e-07, device='cuda:0')\n",
      "targets tensor(0.7450, device='cuda:0') tensor(0.4537, device='cuda:0')\n",
      "outputs tensor(0.5057, device='cuda:0') tensor(5.5732e-07, device='cuda:0')\n",
      "targets tensor(0.5000, device='cuda:0') tensor(0.5238, device='cuda:0')\n",
      "outputs tensor(0.5057, device='cuda:0') tensor(5.0676e-07, device='cuda:0')\n",
      "targets tensor(0.5000, device='cuda:0') tensor(0.5238, device='cuda:0')\n",
      "outputs tensor(0.5057, device='cuda:0') tensor(3.6777e-07, device='cuda:0')\n",
      "targets tensor(0.6225, device='cuda:0') tensor(0.5072, device='cuda:0')\n",
      "outputs tensor(0.5057, device='cuda:0') tensor(4.9460e-07, device='cuda:0')\n",
      "targets tensor(0.2550, device='cuda:0') tensor(0.4537, device='cuda:0')\n",
      "outputs tensor(0.5057, device='cuda:0') tensor(3.3072e-07, device='cuda:0')\n",
      "targets tensor(0.7450, device='cuda:0') tensor(0.4537, device='cuda:0')\n",
      "outputs tensor(0.5057, device='cuda:0') tensor(3.8398e-07, device='cuda:0')\n",
      "targets tensor(0.6225, device='cuda:0') tensor(0.5072, device='cuda:0')\n",
      "outputs tensor(0.5057, device='cuda:0') tensor(3.2569e-07, device='cuda:0')\n",
      "targets tensor(0.6225, device='cuda:0') tensor(0.5072, device='cuda:0')\n",
      "outputs tensor(0.5057, device='cuda:0') tensor(4.2952e-07, device='cuda:0')\n",
      "targets tensor(0.6225, device='cuda:0') tensor(0.5072, device='cuda:0')\n",
      "outputs tensor(0.5057, device='cuda:0') tensor(4.4147e-07, device='cuda:0')\n",
      "targets tensor(0.2550, device='cuda:0') tensor(0.4537, device='cuda:0')\n",
      "outputs tensor(0.5057, device='cuda:0') tensor(4.3543e-07, device='cuda:0')\n",
      "targets tensor(0.4020, device='cuda:0') tensor(0.5368, device='cuda:0')\n",
      "Valid Step 15/15, valid_loss: 0.7157\n",
      "[Epoch Train: 7] loss: 0.7104, time: 51.00 s            \n",
      "[Epoch Valid: 7] loss: 0.7157, auc: 0.3870, time: 6.00 s\n",
      "EPOCH: 8\n"
     ]
    },
    {
     "data": {
      "application/vnd.jupyter.widget-view+json": {
       "model_id": "5b9ea9a87d6342009fd0180923cb4781",
       "version_major": 2,
       "version_minor": 0
      },
      "text/plain": [
       "HBox(children=(FloatProgress(value=0.0, max=59.0), HTML(value='')))"
      ]
     },
     "metadata": {},
     "output_type": "display_data"
    },
    {
     "name": "stdout",
     "output_type": "stream",
     "text": [
      "Train Step 59/59, train_loss: 0.6954\n"
     ]
    },
    {
     "data": {
      "application/vnd.jupyter.widget-view+json": {
       "model_id": "e49c6efd2c1d48dead03db74806008a6",
       "version_major": 2,
       "version_minor": 0
      },
      "text/plain": [
       "HBox(children=(FloatProgress(value=0.0, max=15.0), HTML(value='')))"
      ]
     },
     "metadata": {},
     "output_type": "display_data"
    },
    {
     "name": "stdout",
     "output_type": "stream",
     "text": [
      "outputs tensor(0.5119, device='cuda:0') tensor(9.0325e-07, device='cuda:0')\n",
      "targets tensor(0.7450, device='cuda:0') tensor(0.4537, device='cuda:0')\n",
      "outputs tensor(0.5119, device='cuda:0') tensor(7.4531e-07, device='cuda:0')\n",
      "targets tensor(0.2550, device='cuda:0') tensor(0.4537, device='cuda:0')\n",
      "outputs tensor(0.5119, device='cuda:0') tensor(1.1205e-06, device='cuda:0')\n",
      "targets tensor(0.2550, device='cuda:0') tensor(0.4537, device='cuda:0')\n",
      "outputs tensor(0.5119, device='cuda:0') tensor(1.0157e-06, device='cuda:0')\n",
      "targets tensor(0.6225, device='cuda:0') tensor(0.5072, device='cuda:0')\n",
      "outputs tensor(0.5119, device='cuda:0') tensor(1.0319e-06, device='cuda:0')\n",
      "targets tensor(0.7450, device='cuda:0') tensor(0.4537, device='cuda:0')\n",
      "outputs tensor(0.5119, device='cuda:0') tensor(1.1371e-06, device='cuda:0')\n",
      "targets tensor(0.5000, device='cuda:0') tensor(0.5238, device='cuda:0')\n",
      "outputs tensor(0.5119, device='cuda:0') tensor(1.5808e-06, device='cuda:0')\n",
      "targets tensor(0.5000, device='cuda:0') tensor(0.5238, device='cuda:0')\n",
      "outputs tensor(0.5119, device='cuda:0') tensor(6.7866e-07, device='cuda:0')\n",
      "targets tensor(0.6225, device='cuda:0') tensor(0.5072, device='cuda:0')\n",
      "outputs tensor(0.5119, device='cuda:0') tensor(8.9350e-07, device='cuda:0')\n",
      "targets tensor(0.2550, device='cuda:0') tensor(0.4537, device='cuda:0')\n",
      "outputs tensor(0.5119, device='cuda:0') tensor(1.3183e-06, device='cuda:0')\n",
      "targets tensor(0.7450, device='cuda:0') tensor(0.4537, device='cuda:0')\n",
      "outputs tensor(0.5119, device='cuda:0') tensor(9.0745e-07, device='cuda:0')\n",
      "targets tensor(0.6225, device='cuda:0') tensor(0.5072, device='cuda:0')\n",
      "outputs tensor(0.5119, device='cuda:0') tensor(9.8547e-07, device='cuda:0')\n",
      "targets tensor(0.6225, device='cuda:0') tensor(0.5072, device='cuda:0')\n",
      "outputs tensor(0.5119, device='cuda:0') tensor(1.0665e-06, device='cuda:0')\n",
      "targets tensor(0.6225, device='cuda:0') tensor(0.5072, device='cuda:0')\n",
      "outputs tensor(0.5119, device='cuda:0') tensor(8.5519e-07, device='cuda:0')\n",
      "targets tensor(0.2550, device='cuda:0') tensor(0.4537, device='cuda:0')\n",
      "outputs tensor(0.5119, device='cuda:0') tensor(4.9842e-07, device='cuda:0')\n",
      "targets tensor(0.4020, device='cuda:0') tensor(0.5368, device='cuda:0')\n",
      "Valid Step 15/15, valid_loss: 0.7164\n",
      "[Epoch Train: 8] loss: 0.6954, time: 51.00 s            \n",
      "[Epoch Valid: 8] loss: 0.7164, auc: 0.3948, time: 6.00 s\n",
      "EPOCH: 9\n"
     ]
    },
    {
     "data": {
      "application/vnd.jupyter.widget-view+json": {
       "model_id": "acb13c87aa0746f7a921391227d13894",
       "version_major": 2,
       "version_minor": 0
      },
      "text/plain": [
       "HBox(children=(FloatProgress(value=0.0, max=59.0), HTML(value='')))"
      ]
     },
     "metadata": {},
     "output_type": "display_data"
    },
    {
     "name": "stdout",
     "output_type": "stream",
     "text": [
      "Train Step 59/59, train_loss: 0.6949\n"
     ]
    },
    {
     "data": {
      "application/vnd.jupyter.widget-view+json": {
       "model_id": "fa792bc803614f4fb10cc0c2b1bd4910",
       "version_major": 2,
       "version_minor": 0
      },
      "text/plain": [
       "HBox(children=(FloatProgress(value=0.0, max=15.0), HTML(value='')))"
      ]
     },
     "metadata": {},
     "output_type": "display_data"
    },
    {
     "name": "stdout",
     "output_type": "stream",
     "text": [
      "outputs tensor(0.5071, device='cuda:0') tensor(1.4166e-06, device='cuda:0')\n",
      "targets tensor(0.7450, device='cuda:0') tensor(0.4537, device='cuda:0')\n",
      "outputs tensor(0.5071, device='cuda:0') tensor(9.9436e-06, device='cuda:0')\n",
      "targets tensor(0.2550, device='cuda:0') tensor(0.4537, device='cuda:0')\n",
      "outputs tensor(0.5071, device='cuda:0') tensor(2.9617e-06, device='cuda:0')\n",
      "targets tensor(0.2550, device='cuda:0') tensor(0.4537, device='cuda:0')\n",
      "outputs tensor(0.5071, device='cuda:0') tensor(1.2267e-06, device='cuda:0')\n",
      "targets tensor(0.6225, device='cuda:0') tensor(0.5072, device='cuda:0')\n",
      "outputs tensor(0.5071, device='cuda:0') tensor(4.9830e-06, device='cuda:0')\n",
      "targets tensor(0.7450, device='cuda:0') tensor(0.4537, device='cuda:0')\n",
      "outputs tensor(0.5071, device='cuda:0') tensor(1.8209e-06, device='cuda:0')\n",
      "targets tensor(0.5000, device='cuda:0') tensor(0.5238, device='cuda:0')\n",
      "outputs tensor(0.5071, device='cuda:0') tensor(1.0967e-05, device='cuda:0')\n",
      "targets tensor(0.5000, device='cuda:0') tensor(0.5238, device='cuda:0')\n",
      "outputs tensor(0.5071, device='cuda:0') tensor(1.1277e-06, device='cuda:0')\n",
      "targets tensor(0.6225, device='cuda:0') tensor(0.5072, device='cuda:0')\n",
      "outputs tensor(0.5071, device='cuda:0') tensor(9.5128e-07, device='cuda:0')\n",
      "targets tensor(0.2550, device='cuda:0') tensor(0.4537, device='cuda:0')\n",
      "outputs tensor(0.5071, device='cuda:0') tensor(6.3257e-06, device='cuda:0')\n",
      "targets tensor(0.7450, device='cuda:0') tensor(0.4537, device='cuda:0')\n",
      "outputs tensor(0.5071, device='cuda:0') tensor(4.7637e-06, device='cuda:0')\n",
      "targets tensor(0.6225, device='cuda:0') tensor(0.5072, device='cuda:0')\n",
      "outputs tensor(0.5071, device='cuda:0') tensor(4.1830e-06, device='cuda:0')\n",
      "targets tensor(0.6225, device='cuda:0') tensor(0.5072, device='cuda:0')\n",
      "outputs tensor(0.5071, device='cuda:0') tensor(7.2764e-06, device='cuda:0')\n",
      "targets tensor(0.6225, device='cuda:0') tensor(0.5072, device='cuda:0')\n",
      "outputs tensor(0.5071, device='cuda:0') tensor(1.7233e-06, device='cuda:0')\n",
      "targets tensor(0.2550, device='cuda:0') tensor(0.4537, device='cuda:0')\n",
      "outputs tensor(0.5071, device='cuda:0') tensor(7.4801e-07, device='cuda:0')\n",
      "targets tensor(0.4020, device='cuda:0') tensor(0.5368, device='cuda:0')\n",
      "Valid Step 15/15, valid_loss: 0.7158\n",
      "[Epoch Train: 9] loss: 0.6949, time: 51.00 s            \n",
      "[Epoch Valid: 9] loss: 0.7158, auc: 0.5991, time: 6.00 s\n",
      "auc improved from 0.7190 to 0.7158. Saved model to '/home/RSNA_MICCAI_Brain_Tumor/models/T1w-e9-loss0.716-auc0.599.pth'\n",
      "EPOCH: 10\n"
     ]
    },
    {
     "data": {
      "application/vnd.jupyter.widget-view+json": {
       "model_id": "87c4ca248daf486a8186877d71a2f5d0",
       "version_major": 2,
       "version_minor": 0
      },
      "text/plain": [
       "HBox(children=(FloatProgress(value=0.0, max=59.0), HTML(value='')))"
      ]
     },
     "metadata": {},
     "output_type": "display_data"
    },
    {
     "name": "stdout",
     "output_type": "stream",
     "text": [
      "Train Step 59/59, train_loss: 0.6947\n"
     ]
    },
    {
     "data": {
      "application/vnd.jupyter.widget-view+json": {
       "model_id": "9201f07cceb64723ae51649371846907",
       "version_major": 2,
       "version_minor": 0
      },
      "text/plain": [
       "HBox(children=(FloatProgress(value=0.0, max=15.0), HTML(value='')))"
      ]
     },
     "metadata": {},
     "output_type": "display_data"
    },
    {
     "name": "stdout",
     "output_type": "stream",
     "text": [
      "outputs tensor(0.5100, device='cuda:0') tensor(3.0468e-05, device='cuda:0')\n",
      "targets tensor(0.7450, device='cuda:0') tensor(0.4537, device='cuda:0')\n",
      "outputs tensor(0.5098, device='cuda:0') tensor(0.0002, device='cuda:0')\n",
      "targets tensor(0.2550, device='cuda:0') tensor(0.4537, device='cuda:0')\n",
      "outputs tensor(0.5099, device='cuda:0') tensor(7.3384e-05, device='cuda:0')\n",
      "targets tensor(0.2550, device='cuda:0') tensor(0.4537, device='cuda:0')\n",
      "outputs tensor(0.5100, device='cuda:0') tensor(1.1736e-05, device='cuda:0')\n",
      "targets tensor(0.6225, device='cuda:0') tensor(0.5072, device='cuda:0')\n",
      "outputs tensor(0.5123, device='cuda:0') tensor(0.0068, device='cuda:0')\n",
      "targets tensor(0.7450, device='cuda:0') tensor(0.4537, device='cuda:0')\n",
      "outputs tensor(0.5099, device='cuda:0') tensor(8.5878e-05, device='cuda:0')\n",
      "targets tensor(0.5000, device='cuda:0') tensor(0.5238, device='cuda:0')\n",
      "outputs tensor(0.5122, device='cuda:0') tensor(0.0067, device='cuda:0')\n",
      "targets tensor(0.5000, device='cuda:0') tensor(0.5238, device='cuda:0')\n",
      "outputs tensor(0.5100, device='cuda:0') tensor(7.7115e-06, device='cuda:0')\n",
      "targets tensor(0.6225, device='cuda:0') tensor(0.5072, device='cuda:0')\n",
      "outputs tensor(0.5100, device='cuda:0') tensor(1.1681e-05, device='cuda:0')\n",
      "targets tensor(0.2550, device='cuda:0') tensor(0.4537, device='cuda:0')\n",
      "outputs tensor(0.5126, device='cuda:0') tensor(0.0073, device='cuda:0')\n",
      "targets tensor(0.7450, device='cuda:0') tensor(0.4537, device='cuda:0')\n",
      "outputs tensor(0.5099, device='cuda:0') tensor(0.0001, device='cuda:0')\n",
      "targets tensor(0.6225, device='cuda:0') tensor(0.5072, device='cuda:0')\n",
      "outputs tensor(0.5099, device='cuda:0') tensor(0.0002, device='cuda:0')\n",
      "targets tensor(0.6225, device='cuda:0') tensor(0.5072, device='cuda:0')\n",
      "outputs tensor(0.5099, device='cuda:0') tensor(0.0003, device='cuda:0')\n",
      "targets tensor(0.6225, device='cuda:0') tensor(0.5072, device='cuda:0')\n",
      "outputs tensor(0.5100, device='cuda:0') tensor(2.0834e-05, device='cuda:0')\n",
      "targets tensor(0.2550, device='cuda:0') tensor(0.4537, device='cuda:0')\n",
      "outputs tensor(0.5100, device='cuda:0') tensor(4.6128e-06, device='cuda:0')\n",
      "targets tensor(0.4020, device='cuda:0') tensor(0.5368, device='cuda:0')\n",
      "Valid Step 15/15, valid_loss: 0.7164\n",
      "[Epoch Train: 10] loss: 0.6947, time: 52.00 s            \n",
      "[Epoch Valid: 10] loss: 0.7164, auc: 0.4501, time: 6.00 s\n",
      "EPOCH: 11\n"
     ]
    },
    {
     "data": {
      "application/vnd.jupyter.widget-view+json": {
       "model_id": "31b0c60a80434860998928b3e584f213",
       "version_major": 2,
       "version_minor": 0
      },
      "text/plain": [
       "HBox(children=(FloatProgress(value=0.0, max=59.0), HTML(value='')))"
      ]
     },
     "metadata": {},
     "output_type": "display_data"
    },
    {
     "name": "stdout",
     "output_type": "stream",
     "text": [
      "Train Step 59/59, train_loss: 0.6960\n"
     ]
    },
    {
     "data": {
      "application/vnd.jupyter.widget-view+json": {
       "model_id": "9b67f666717a4e3c9375ec7d75dcfbfa",
       "version_major": 2,
       "version_minor": 0
      },
      "text/plain": [
       "HBox(children=(FloatProgress(value=0.0, max=15.0), HTML(value='')))"
      ]
     },
     "metadata": {},
     "output_type": "display_data"
    },
    {
     "name": "stdout",
     "output_type": "stream",
     "text": [
      "outputs tensor(0.5511, device='cuda:0') tensor(0.0336, device='cuda:0')\n",
      "targets tensor(0.7450, device='cuda:0') tensor(0.4537, device='cuda:0')\n",
      "outputs tensor(0.5953, device='cuda:0') tensor(0.0615, device='cuda:0')\n",
      "targets tensor(0.2550, device='cuda:0') tensor(0.4537, device='cuda:0')\n",
      "outputs tensor(0.5850, device='cuda:0') tensor(0.0445, device='cuda:0')\n",
      "targets tensor(0.2550, device='cuda:0') tensor(0.4537, device='cuda:0')\n",
      "outputs tensor(0.5593, device='cuda:0') tensor(0.0440, device='cuda:0')\n",
      "targets tensor(0.6225, device='cuda:0') tensor(0.5072, device='cuda:0')\n",
      "outputs tensor(0.5625, device='cuda:0') tensor(0.0572, device='cuda:0')\n",
      "targets tensor(0.7450, device='cuda:0') tensor(0.4537, device='cuda:0')\n",
      "outputs tensor(0.5791, device='cuda:0') tensor(0.0494, device='cuda:0')\n",
      "targets tensor(0.5000, device='cuda:0') tensor(0.5238, device='cuda:0')\n",
      "outputs tensor(0.6224, device='cuda:0') tensor(0.0408, device='cuda:0')\n",
      "targets tensor(0.5000, device='cuda:0') tensor(0.5238, device='cuda:0')\n",
      "outputs tensor(0.5697, device='cuda:0') tensor(0.0573, device='cuda:0')\n",
      "targets tensor(0.6225, device='cuda:0') tensor(0.5072, device='cuda:0')\n",
      "outputs tensor(0.5816, device='cuda:0') tensor(0.0653, device='cuda:0')\n",
      "targets tensor(0.2550, device='cuda:0') tensor(0.4537, device='cuda:0')\n",
      "outputs tensor(0.5613, device='cuda:0') tensor(0.0506, device='cuda:0')\n",
      "targets tensor(0.7450, device='cuda:0') tensor(0.4537, device='cuda:0')\n",
      "outputs tensor(0.5866, device='cuda:0') tensor(0.0588, device='cuda:0')\n",
      "targets tensor(0.6225, device='cuda:0') tensor(0.5072, device='cuda:0')\n",
      "outputs tensor(0.5883, device='cuda:0') tensor(0.0483, device='cuda:0')\n",
      "targets tensor(0.6225, device='cuda:0') tensor(0.5072, device='cuda:0')\n",
      "outputs tensor(0.6042, device='cuda:0') tensor(0.0495, device='cuda:0')\n",
      "targets tensor(0.6225, device='cuda:0') tensor(0.5072, device='cuda:0')\n",
      "outputs tensor(0.5605, device='cuda:0') tensor(0.0438, device='cuda:0')\n",
      "targets tensor(0.2550, device='cuda:0') tensor(0.4537, device='cuda:0')\n",
      "outputs tensor(0.5511, device='cuda:0') tensor(0.0427, device='cuda:0')\n",
      "targets tensor(0.4020, device='cuda:0') tensor(0.5368, device='cuda:0')\n",
      "Valid Step 15/15, valid_loss: 0.7285\n",
      "[Epoch Train: 11] loss: 0.6960, time: 51.00 s            \n",
      "[Epoch Valid: 11] loss: 0.7285, auc: 0.4142, time: 6.00 s\n",
      "EPOCH: 12\n"
     ]
    },
    {
     "data": {
      "application/vnd.jupyter.widget-view+json": {
       "model_id": "7987f07bf0304c5bb32e204f2b2c34d4",
       "version_major": 2,
       "version_minor": 0
      },
      "text/plain": [
       "HBox(children=(FloatProgress(value=0.0, max=59.0), HTML(value='')))"
      ]
     },
     "metadata": {},
     "output_type": "display_data"
    },
    {
     "name": "stdout",
     "output_type": "stream",
     "text": [
      "Train Step 59/59, train_loss: 0.6944\n"
     ]
    },
    {
     "data": {
      "application/vnd.jupyter.widget-view+json": {
       "model_id": "eb25f5a1d7444038a4272c1335e0e594",
       "version_major": 2,
       "version_minor": 0
      },
      "text/plain": [
       "HBox(children=(FloatProgress(value=0.0, max=15.0), HTML(value='')))"
      ]
     },
     "metadata": {},
     "output_type": "display_data"
    },
    {
     "name": "stdout",
     "output_type": "stream",
     "text": [
      "outputs tensor(0.5157, device='cuda:0') tensor(0.0196, device='cuda:0')\n",
      "targets tensor(0.7450, device='cuda:0') tensor(0.4537, device='cuda:0')\n",
      "outputs tensor(0.4840, device='cuda:0') tensor(0.0350, device='cuda:0')\n",
      "targets tensor(0.2550, device='cuda:0') tensor(0.4537, device='cuda:0')\n",
      "outputs tensor(0.4868, device='cuda:0') tensor(0.0331, device='cuda:0')\n",
      "targets tensor(0.2550, device='cuda:0') tensor(0.4537, device='cuda:0')\n",
      "outputs tensor(0.5228, device='cuda:0') tensor(0.0013, device='cuda:0')\n",
      "targets tensor(0.6225, device='cuda:0') tensor(0.5072, device='cuda:0')\n",
      "outputs tensor(0.4961, device='cuda:0') tensor(0.0379, device='cuda:0')\n",
      "targets tensor(0.7450, device='cuda:0') tensor(0.4537, device='cuda:0')\n",
      "outputs tensor(0.4997, device='cuda:0') tensor(0.0368, device='cuda:0')\n",
      "targets tensor(0.5000, device='cuda:0') tensor(0.5238, device='cuda:0')\n",
      "outputs tensor(0.4665, device='cuda:0') tensor(0.0423, device='cuda:0')\n",
      "targets tensor(0.5000, device='cuda:0') tensor(0.5238, device='cuda:0')\n",
      "outputs tensor(0.5131, device='cuda:0') tensor(0.0285, device='cuda:0')\n",
      "targets tensor(0.6225, device='cuda:0') tensor(0.5072, device='cuda:0')\n",
      "outputs tensor(0.5050, device='cuda:0') tensor(0.0341, device='cuda:0')\n",
      "targets tensor(0.2550, device='cuda:0') tensor(0.4537, device='cuda:0')\n",
      "outputs tensor(0.5117, device='cuda:0') tensor(0.0324, device='cuda:0')\n",
      "targets tensor(0.7450, device='cuda:0') tensor(0.4537, device='cuda:0')\n",
      "outputs tensor(0.4863, device='cuda:0') tensor(0.0379, device='cuda:0')\n",
      "targets tensor(0.6225, device='cuda:0') tensor(0.5072, device='cuda:0')\n",
      "outputs tensor(0.4952, device='cuda:0') tensor(0.0378, device='cuda:0')\n",
      "targets tensor(0.6225, device='cuda:0') tensor(0.5072, device='cuda:0')\n",
      "outputs tensor(0.4816, device='cuda:0') tensor(0.0450, device='cuda:0')\n",
      "targets tensor(0.6225, device='cuda:0') tensor(0.5072, device='cuda:0')\n",
      "outputs tensor(0.5040, device='cuda:0') tensor(0.0299, device='cuda:0')\n",
      "targets tensor(0.2550, device='cuda:0') tensor(0.4537, device='cuda:0')\n",
      "outputs tensor(0.5115, device='cuda:0') tensor(0.0263, device='cuda:0')\n",
      "targets tensor(0.4020, device='cuda:0') tensor(0.5368, device='cuda:0')\n",
      "Valid Step 15/15, valid_loss: 0.7101\n",
      "[Epoch Train: 12] loss: 0.6944, time: 51.00 s            \n",
      "[Epoch Valid: 12] loss: 0.7101, auc: 0.6765, time: 6.00 s\n",
      "auc improved from 0.7158 to 0.7101. Saved model to '/home/RSNA_MICCAI_Brain_Tumor/models/T1w-e12-loss0.710-auc0.677.pth'\n",
      "EPOCH: 13\n"
     ]
    },
    {
     "data": {
      "application/vnd.jupyter.widget-view+json": {
       "model_id": "6c00ff60220f46daa08e49027af6058b",
       "version_major": 2,
       "version_minor": 0
      },
      "text/plain": [
       "HBox(children=(FloatProgress(value=0.0, max=59.0), HTML(value='')))"
      ]
     },
     "metadata": {},
     "output_type": "display_data"
    },
    {
     "name": "stdout",
     "output_type": "stream",
     "text": [
      "Train Step 59/59, train_loss: 0.6952\n"
     ]
    },
    {
     "data": {
      "application/vnd.jupyter.widget-view+json": {
       "model_id": "27965ad4315d4f3a9736a87fb8ce4c8c",
       "version_major": 2,
       "version_minor": 0
      },
      "text/plain": [
       "HBox(children=(FloatProgress(value=0.0, max=15.0), HTML(value='')))"
      ]
     },
     "metadata": {},
     "output_type": "display_data"
    },
    {
     "name": "stdout",
     "output_type": "stream",
     "text": [
      "outputs tensor(0.4982, device='cuda:0') tensor(0.0008, device='cuda:0')\n",
      "targets tensor(0.7450, device='cuda:0') tensor(0.4537, device='cuda:0')\n",
      "outputs tensor(0.4968, device='cuda:0') tensor(0.0007, device='cuda:0')\n",
      "targets tensor(0.2550, device='cuda:0') tensor(0.4537, device='cuda:0')\n",
      "outputs tensor(0.4972, device='cuda:0') tensor(0.0008, device='cuda:0')\n",
      "targets tensor(0.2550, device='cuda:0') tensor(0.4537, device='cuda:0')\n",
      "outputs tensor(0.4982, device='cuda:0') tensor(0.0016, device='cuda:0')\n",
      "targets tensor(0.6225, device='cuda:0') tensor(0.5072, device='cuda:0')\n",
      "outputs tensor(0.4983, device='cuda:0') tensor(0.0018, device='cuda:0')\n",
      "targets tensor(0.7450, device='cuda:0') tensor(0.4537, device='cuda:0')\n",
      "outputs tensor(0.4982, device='cuda:0') tensor(0.0013, device='cuda:0')\n",
      "targets tensor(0.5000, device='cuda:0') tensor(0.5238, device='cuda:0')\n",
      "outputs tensor(0.4999, device='cuda:0') tensor(0.0052, device='cuda:0')\n",
      "targets tensor(0.5000, device='cuda:0') tensor(0.5238, device='cuda:0')\n",
      "outputs tensor(0.4976, device='cuda:0') tensor(0.0006, device='cuda:0')\n",
      "targets tensor(0.6225, device='cuda:0') tensor(0.5072, device='cuda:0')\n",
      "outputs tensor(0.4973, device='cuda:0') tensor(0.0007, device='cuda:0')\n",
      "targets tensor(0.2550, device='cuda:0') tensor(0.4537, device='cuda:0')\n",
      "outputs tensor(0.5000, device='cuda:0') tensor(0.0064, device='cuda:0')\n",
      "targets tensor(0.7450, device='cuda:0') tensor(0.4537, device='cuda:0')\n",
      "outputs tensor(0.4972, device='cuda:0') tensor(0.0008, device='cuda:0')\n",
      "targets tensor(0.6225, device='cuda:0') tensor(0.5072, device='cuda:0')\n",
      "outputs tensor(0.4970, device='cuda:0') tensor(0.0008, device='cuda:0')\n",
      "targets tensor(0.6225, device='cuda:0') tensor(0.5072, device='cuda:0')\n",
      "outputs tensor(0.4987, device='cuda:0') tensor(0.0032, device='cuda:0')\n",
      "targets tensor(0.6225, device='cuda:0') tensor(0.5072, device='cuda:0')\n",
      "outputs tensor(0.4977, device='cuda:0') tensor(0.0005, device='cuda:0')\n",
      "targets tensor(0.2550, device='cuda:0') tensor(0.4537, device='cuda:0')\n",
      "outputs tensor(0.4979, device='cuda:0') tensor(0.0003, device='cuda:0')\n",
      "targets tensor(0.4020, device='cuda:0') tensor(0.5368, device='cuda:0')\n",
      "Valid Step 15/15, valid_loss: 0.7150\n",
      "[Epoch Train: 13] loss: 0.6952, time: 51.00 s            \n",
      "[Epoch Valid: 13] loss: 0.7150, auc: 0.4660, time: 6.00 s\n",
      "EPOCH: 14\n"
     ]
    },
    {
     "data": {
      "application/vnd.jupyter.widget-view+json": {
       "model_id": "1477bdd60bb44ba0a6e199a4d1f2274e",
       "version_major": 2,
       "version_minor": 0
      },
      "text/plain": [
       "HBox(children=(FloatProgress(value=0.0, max=59.0), HTML(value='')))"
      ]
     },
     "metadata": {},
     "output_type": "display_data"
    },
    {
     "name": "stdout",
     "output_type": "stream",
     "text": [
      "Train Step 59/59, train_loss: 0.6944\n"
     ]
    },
    {
     "data": {
      "application/vnd.jupyter.widget-view+json": {
       "model_id": "175acbf8896a4e6ea7e05285cb291f93",
       "version_major": 2,
       "version_minor": 0
      },
      "text/plain": [
       "HBox(children=(FloatProgress(value=0.0, max=15.0), HTML(value='')))"
      ]
     },
     "metadata": {},
     "output_type": "display_data"
    },
    {
     "name": "stdout",
     "output_type": "stream",
     "text": [
      "outputs tensor(0.5051, device='cuda:0') tensor(0.0112, device='cuda:0')\n",
      "targets tensor(0.7450, device='cuda:0') tensor(0.4537, device='cuda:0')\n",
      "outputs tensor(0.4934, device='cuda:0') tensor(0.0119, device='cuda:0')\n",
      "targets tensor(0.2550, device='cuda:0') tensor(0.4537, device='cuda:0')\n",
      "outputs tensor(0.4966, device='cuda:0') tensor(0.0130, device='cuda:0')\n",
      "targets tensor(0.2550, device='cuda:0') tensor(0.4537, device='cuda:0')\n",
      "outputs tensor(0.5071, device='cuda:0') tensor(0.0076, device='cuda:0')\n",
      "targets tensor(0.6225, device='cuda:0') tensor(0.5072, device='cuda:0')\n",
      "outputs tensor(0.5012, device='cuda:0') tensor(0.0145, device='cuda:0')\n",
      "targets tensor(0.7450, device='cuda:0') tensor(0.4537, device='cuda:0')\n",
      "outputs tensor(0.4999, device='cuda:0') tensor(0.0154, device='cuda:0')\n",
      "targets tensor(0.5000, device='cuda:0') tensor(0.5238, device='cuda:0')\n",
      "outputs tensor(0.4874, device='cuda:0') tensor(0.0168, device='cuda:0')\n",
      "targets tensor(0.5000, device='cuda:0') tensor(0.5238, device='cuda:0')\n",
      "outputs tensor(0.5029, device='cuda:0') tensor(0.0137, device='cuda:0')\n",
      "targets tensor(0.6225, device='cuda:0') tensor(0.5072, device='cuda:0')\n",
      "outputs tensor(0.5032, device='cuda:0') tensor(0.0139, device='cuda:0')\n",
      "targets tensor(0.2550, device='cuda:0') tensor(0.4537, device='cuda:0')\n",
      "outputs tensor(0.5042, device='cuda:0') tensor(0.0159, device='cuda:0')\n",
      "targets tensor(0.7450, device='cuda:0') tensor(0.4537, device='cuda:0')\n",
      "outputs tensor(0.4964, device='cuda:0') tensor(0.0152, device='cuda:0')\n",
      "targets tensor(0.6225, device='cuda:0') tensor(0.5072, device='cuda:0')\n",
      "outputs tensor(0.4961, device='cuda:0') tensor(0.0144, device='cuda:0')\n",
      "targets tensor(0.6225, device='cuda:0') tensor(0.5072, device='cuda:0')\n",
      "outputs tensor(0.4939, device='cuda:0') tensor(0.0175, device='cuda:0')\n",
      "targets tensor(0.6225, device='cuda:0') tensor(0.5072, device='cuda:0')\n",
      "outputs tensor(0.5009, device='cuda:0') tensor(0.0129, device='cuda:0')\n",
      "targets tensor(0.2550, device='cuda:0') tensor(0.4537, device='cuda:0')\n",
      "outputs tensor(0.5048, device='cuda:0') tensor(0.0141, device='cuda:0')\n",
      "targets tensor(0.4020, device='cuda:0') tensor(0.5368, device='cuda:0')\n",
      "Valid Step 15/15, valid_loss: 0.7131\n",
      "[Epoch Train: 14] loss: 0.6944, time: 51.00 s            \n",
      "[Epoch Valid: 14] loss: 0.7131, auc: 0.6614, time: 6.00 s\n",
      "EPOCH: 15\n"
     ]
    },
    {
     "data": {
      "application/vnd.jupyter.widget-view+json": {
       "model_id": "3c443f8899004a85ad35241b03d71d43",
       "version_major": 2,
       "version_minor": 0
      },
      "text/plain": [
       "HBox(children=(FloatProgress(value=0.0, max=59.0), HTML(value='')))"
      ]
     },
     "metadata": {},
     "output_type": "display_data"
    },
    {
     "name": "stdout",
     "output_type": "stream",
     "text": [
      "Train Step 59/59, train_loss: 0.6970\n"
     ]
    },
    {
     "data": {
      "application/vnd.jupyter.widget-view+json": {
       "model_id": "d7d0f56e9c8d4b9190c4367b64c5dbf2",
       "version_major": 2,
       "version_minor": 0
      },
      "text/plain": [
       "HBox(children=(FloatProgress(value=0.0, max=15.0), HTML(value='')))"
      ]
     },
     "metadata": {},
     "output_type": "display_data"
    },
    {
     "name": "stdout",
     "output_type": "stream",
     "text": [
      "outputs tensor(0.5141, device='cuda:0') tensor(0.0038, device='cuda:0')\n",
      "targets tensor(0.7450, device='cuda:0') tensor(0.4537, device='cuda:0')\n",
      "outputs tensor(0.5124, device='cuda:0') tensor(0.0092, device='cuda:0')\n",
      "targets tensor(0.2550, device='cuda:0') tensor(0.4537, device='cuda:0')\n",
      "outputs tensor(0.5153, device='cuda:0') tensor(0.0037, device='cuda:0')\n",
      "targets tensor(0.2550, device='cuda:0') tensor(0.4537, device='cuda:0')\n",
      "outputs tensor(0.5203, device='cuda:0') tensor(0.0092, device='cuda:0')\n",
      "targets tensor(0.6225, device='cuda:0') tensor(0.5072, device='cuda:0')\n",
      "outputs tensor(0.5131, device='cuda:0') tensor(0.0058, device='cuda:0')\n",
      "targets tensor(0.7450, device='cuda:0') tensor(0.4537, device='cuda:0')\n",
      "outputs tensor(0.5165, device='cuda:0') tensor(0.0135, device='cuda:0')\n",
      "targets tensor(0.5000, device='cuda:0') tensor(0.5238, device='cuda:0')\n",
      "outputs tensor(0.5098, device='cuda:0') tensor(0.0140, device='cuda:0')\n",
      "targets tensor(0.5000, device='cuda:0') tensor(0.5238, device='cuda:0')\n",
      "outputs tensor(0.5153, device='cuda:0') tensor(0.0113, device='cuda:0')\n",
      "targets tensor(0.6225, device='cuda:0') tensor(0.5072, device='cuda:0')\n",
      "outputs tensor(0.5172, device='cuda:0') tensor(0.0077, device='cuda:0')\n",
      "targets tensor(0.2550, device='cuda:0') tensor(0.4537, device='cuda:0')\n",
      "outputs tensor(0.5140, device='cuda:0') tensor(0.0113, device='cuda:0')\n",
      "targets tensor(0.7450, device='cuda:0') tensor(0.4537, device='cuda:0')\n",
      "outputs tensor(0.5132, device='cuda:0') tensor(0.0062, device='cuda:0')\n",
      "targets tensor(0.6225, device='cuda:0') tensor(0.5072, device='cuda:0')\n",
      "outputs tensor(0.5153, device='cuda:0') tensor(0.0104, device='cuda:0')\n",
      "targets tensor(0.6225, device='cuda:0') tensor(0.5072, device='cuda:0')\n",
      "outputs tensor(0.5146, device='cuda:0') tensor(0.0151, device='cuda:0')\n",
      "targets tensor(0.6225, device='cuda:0') tensor(0.5072, device='cuda:0')\n",
      "outputs tensor(0.5174, device='cuda:0') tensor(0.0069, device='cuda:0')\n",
      "targets tensor(0.2550, device='cuda:0') tensor(0.4537, device='cuda:0')\n",
      "outputs tensor(0.5148, device='cuda:0') tensor(0.0020, device='cuda:0')\n",
      "targets tensor(0.4020, device='cuda:0') tensor(0.5368, device='cuda:0')\n",
      "Valid Step 15/15, valid_loss: 0.7153\n",
      "[Epoch Train: 15] loss: 0.6970, time: 51.00 s            \n",
      "[Epoch Valid: 15] loss: 0.7153, auc: 0.6803, time: 6.00 s\n",
      "\n",
      "(468, 3) (117, 3)\n"
     ]
    },
    {
     "name": "stderr",
     "output_type": "stream",
     "text": [
      "/opt/conda/lib/python3.8/site-packages/pandas/core/indexing.py:1720: SettingWithCopyWarning: \n",
      "A value is trying to be set on a copy of a slice from a DataFrame.\n",
      "Try using .loc[row_indexer,col_indexer] = value instead\n",
      "\n",
      "See the caveats in the documentation: https://pandas.pydata.org/pandas-docs/stable/user_guide/indexing.html#returning-a-view-versus-a-copy\n",
      "  self._setitem_single_column(loc, value, pi)\n"
     ]
    },
    {
     "data": {
      "text/html": [
       "<div>\n",
       "<style scoped>\n",
       "    .dataframe tbody tr th:only-of-type {\n",
       "        vertical-align: middle;\n",
       "    }\n",
       "\n",
       "    .dataframe tbody tr th {\n",
       "        vertical-align: top;\n",
       "    }\n",
       "\n",
       "    .dataframe thead th {\n",
       "        text-align: right;\n",
       "    }\n",
       "</style>\n",
       "<table border=\"1\" class=\"dataframe\">\n",
       "  <thead>\n",
       "    <tr style=\"text-align: right;\">\n",
       "      <th></th>\n",
       "      <th>BraTS21ID</th>\n",
       "      <th>MGMT_value</th>\n",
       "      <th>MRI_Type</th>\n",
       "    </tr>\n",
       "  </thead>\n",
       "  <tbody>\n",
       "    <tr>\n",
       "      <th>102</th>\n",
       "      <td>154</td>\n",
       "      <td>0</td>\n",
       "      <td>T1wCE</td>\n",
       "    </tr>\n",
       "    <tr>\n",
       "      <th>161</th>\n",
       "      <td>240</td>\n",
       "      <td>1</td>\n",
       "      <td>T1wCE</td>\n",
       "    </tr>\n",
       "    <tr>\n",
       "      <th>508</th>\n",
       "      <td>740</td>\n",
       "      <td>1</td>\n",
       "      <td>T1wCE</td>\n",
       "    </tr>\n",
       "    <tr>\n",
       "      <th>495</th>\n",
       "      <td>725</td>\n",
       "      <td>1</td>\n",
       "      <td>T1wCE</td>\n",
       "    </tr>\n",
       "    <tr>\n",
       "      <th>298</th>\n",
       "      <td>432</td>\n",
       "      <td>0</td>\n",
       "      <td>T1wCE</td>\n",
       "    </tr>\n",
       "  </tbody>\n",
       "</table>\n",
       "</div>"
      ],
      "text/plain": [
       "     BraTS21ID  MGMT_value MRI_Type\n",
       "102        154           0    T1wCE\n",
       "161        240           1    T1wCE\n",
       "508        740           1    T1wCE\n",
       "495        725           1    T1wCE\n",
       "298        432           0    T1wCE"
      ]
     },
     "metadata": {},
     "output_type": "display_data"
    },
    {
     "data": {
      "application/vnd.jupyter.widget-view+json": {
       "model_id": "391e5ee6bd36423587a51958909f86cf",
       "version_major": 2,
       "version_minor": 0
      },
      "text/plain": [
       "HBox(children=(FloatProgress(value=0.0, max=15.0), HTML(value='')))"
      ]
     },
     "metadata": {},
     "output_type": "display_data"
    },
    {
     "name": "stdout",
     "output_type": "stream",
     "text": [
      "EPOCH: 1\n"
     ]
    },
    {
     "data": {
      "application/vnd.jupyter.widget-view+json": {
       "model_id": "6de35550a02743f98fac9f93720de67f",
       "version_major": 2,
       "version_minor": 0
      },
      "text/plain": [
       "HBox(children=(FloatProgress(value=0.0, max=59.0), HTML(value='')))"
      ]
     },
     "metadata": {},
     "output_type": "display_data"
    },
    {
     "name": "stdout",
     "output_type": "stream",
     "text": [
      "Train Step 59/59, train_loss: 0.9694\n"
     ]
    },
    {
     "data": {
      "application/vnd.jupyter.widget-view+json": {
       "model_id": "247fee6daacf4f5397815c2c24caa6b6",
       "version_major": 2,
       "version_minor": 0
      },
      "text/plain": [
       "HBox(children=(FloatProgress(value=0.0, max=15.0), HTML(value='')))"
      ]
     },
     "metadata": {},
     "output_type": "display_data"
    },
    {
     "name": "stdout",
     "output_type": "stream",
     "text": [
      "outputs tensor(0.4944, device='cuda:0') tensor(0., device='cuda:0')\n",
      "targets tensor(0.7450, device='cuda:0') tensor(0.4537, device='cuda:0')\n",
      "outputs tensor(0.4944, device='cuda:0') tensor(0., device='cuda:0')\n",
      "targets tensor(0.2550, device='cuda:0') tensor(0.4537, device='cuda:0')\n",
      "outputs tensor(0.4944, device='cuda:0') tensor(0., device='cuda:0')\n",
      "targets tensor(0.2550, device='cuda:0') tensor(0.4537, device='cuda:0')\n",
      "outputs tensor(0.4944, device='cuda:0') tensor(0., device='cuda:0')\n",
      "targets tensor(0.6225, device='cuda:0') tensor(0.5072, device='cuda:0')\n",
      "outputs tensor(0.4944, device='cuda:0') tensor(0., device='cuda:0')\n",
      "targets tensor(0.7450, device='cuda:0') tensor(0.4537, device='cuda:0')\n",
      "outputs tensor(0.4944, device='cuda:0') tensor(0., device='cuda:0')\n",
      "targets tensor(0.5000, device='cuda:0') tensor(0.5238, device='cuda:0')\n",
      "outputs tensor(0.4944, device='cuda:0') tensor(0., device='cuda:0')\n",
      "targets tensor(0.5000, device='cuda:0') tensor(0.5238, device='cuda:0')\n",
      "outputs tensor(0.4944, device='cuda:0') tensor(0., device='cuda:0')\n",
      "targets tensor(0.6225, device='cuda:0') tensor(0.5072, device='cuda:0')\n",
      "outputs tensor(0.4944, device='cuda:0') tensor(0., device='cuda:0')\n",
      "targets tensor(0.2550, device='cuda:0') tensor(0.4537, device='cuda:0')\n",
      "outputs tensor(0.4944, device='cuda:0') tensor(0., device='cuda:0')\n",
      "targets tensor(0.7450, device='cuda:0') tensor(0.4537, device='cuda:0')\n",
      "outputs tensor(0.4944, device='cuda:0') tensor(0., device='cuda:0')\n",
      "targets tensor(0.6225, device='cuda:0') tensor(0.5072, device='cuda:0')\n",
      "outputs tensor(0.4944, device='cuda:0') tensor(0., device='cuda:0')\n",
      "targets tensor(0.6225, device='cuda:0') tensor(0.5072, device='cuda:0')\n",
      "outputs tensor(0.4944, device='cuda:0') tensor(0., device='cuda:0')\n",
      "targets tensor(0.6225, device='cuda:0') tensor(0.5072, device='cuda:0')\n",
      "outputs tensor(0.4944, device='cuda:0') tensor(0., device='cuda:0')\n",
      "targets tensor(0.2550, device='cuda:0') tensor(0.4537, device='cuda:0')\n",
      "outputs tensor(0.4944, device='cuda:0') tensor(0., device='cuda:0')\n",
      "targets tensor(0.4020, device='cuda:0') tensor(0.5368, device='cuda:0')\n",
      "Valid Step 15/15, valid_loss: 0.7145\n",
      "[Epoch Train: 1] loss: 0.9694, time: 51.00 s            \n",
      "[Epoch Valid: 1] loss: 0.7145, auc: 0.5000, time: 7.00 s\n",
      "EPOCH: 2\n"
     ]
    },
    {
     "data": {
      "application/vnd.jupyter.widget-view+json": {
       "model_id": "f69b1de34b5e452785d2a6636f3d6a90",
       "version_major": 2,
       "version_minor": 0
      },
      "text/plain": [
       "HBox(children=(FloatProgress(value=0.0, max=59.0), HTML(value='')))"
      ]
     },
     "metadata": {},
     "output_type": "display_data"
    },
    {
     "name": "stdout",
     "output_type": "stream",
     "text": [
      "Train Step 59/59, train_loss: 0.7212\n"
     ]
    },
    {
     "data": {
      "application/vnd.jupyter.widget-view+json": {
       "model_id": "29ced05b6e144cbd993f82b6310a88fa",
       "version_major": 2,
       "version_minor": 0
      },
      "text/plain": [
       "HBox(children=(FloatProgress(value=0.0, max=15.0), HTML(value='')))"
      ]
     },
     "metadata": {},
     "output_type": "display_data"
    },
    {
     "name": "stdout",
     "output_type": "stream",
     "text": [
      "outputs tensor(0.4829, device='cuda:0') tensor(0., device='cuda:0')\n",
      "targets tensor(0.7450, device='cuda:0') tensor(0.4537, device='cuda:0')\n",
      "outputs tensor(0.4829, device='cuda:0') tensor(0., device='cuda:0')\n",
      "targets tensor(0.2550, device='cuda:0') tensor(0.4537, device='cuda:0')\n",
      "outputs tensor(0.4829, device='cuda:0') tensor(0., device='cuda:0')\n",
      "targets tensor(0.2550, device='cuda:0') tensor(0.4537, device='cuda:0')\n",
      "outputs tensor(0.4829, device='cuda:0') tensor(0., device='cuda:0')\n",
      "targets tensor(0.6225, device='cuda:0') tensor(0.5072, device='cuda:0')\n",
      "outputs tensor(0.4829, device='cuda:0') tensor(0., device='cuda:0')\n",
      "targets tensor(0.7450, device='cuda:0') tensor(0.4537, device='cuda:0')\n",
      "outputs tensor(0.4829, device='cuda:0') tensor(0., device='cuda:0')\n",
      "targets tensor(0.5000, device='cuda:0') tensor(0.5238, device='cuda:0')\n",
      "outputs tensor(0.4829, device='cuda:0') tensor(0., device='cuda:0')\n",
      "targets tensor(0.5000, device='cuda:0') tensor(0.5238, device='cuda:0')\n",
      "outputs tensor(0.4829, device='cuda:0') tensor(0., device='cuda:0')\n",
      "targets tensor(0.6225, device='cuda:0') tensor(0.5072, device='cuda:0')\n",
      "outputs tensor(0.4829, device='cuda:0') tensor(0., device='cuda:0')\n",
      "targets tensor(0.2550, device='cuda:0') tensor(0.4537, device='cuda:0')\n",
      "outputs tensor(0.4829, device='cuda:0') tensor(0., device='cuda:0')\n",
      "targets tensor(0.7450, device='cuda:0') tensor(0.4537, device='cuda:0')\n",
      "outputs tensor(0.4829, device='cuda:0') tensor(0., device='cuda:0')\n",
      "targets tensor(0.6225, device='cuda:0') tensor(0.5072, device='cuda:0')\n",
      "outputs tensor(0.4829, device='cuda:0') tensor(0., device='cuda:0')\n",
      "targets tensor(0.6225, device='cuda:0') tensor(0.5072, device='cuda:0')\n",
      "outputs tensor(0.4829, device='cuda:0') tensor(0., device='cuda:0')\n",
      "targets tensor(0.6225, device='cuda:0') tensor(0.5072, device='cuda:0')\n",
      "outputs tensor(0.4829, device='cuda:0') tensor(0., device='cuda:0')\n",
      "targets tensor(0.2550, device='cuda:0') tensor(0.4537, device='cuda:0')\n",
      "outputs tensor(0.4829, device='cuda:0') tensor(0., device='cuda:0')\n",
      "targets tensor(0.4020, device='cuda:0') tensor(0.5368, device='cuda:0')\n",
      "Valid Step 15/15, valid_loss: 0.7133\n",
      "[Epoch Train: 2] loss: 0.7212, time: 52.00 s            \n",
      "[Epoch Valid: 2] loss: 0.7133, auc: 0.5000, time: 7.00 s\n",
      "EPOCH: 3\n"
     ]
    },
    {
     "data": {
      "application/vnd.jupyter.widget-view+json": {
       "model_id": "fa6d78e1a55b40c58f15a662133c4ccc",
       "version_major": 2,
       "version_minor": 0
      },
      "text/plain": [
       "HBox(children=(FloatProgress(value=0.0, max=59.0), HTML(value='')))"
      ]
     },
     "metadata": {},
     "output_type": "display_data"
    },
    {
     "name": "stdout",
     "output_type": "stream",
     "text": [
      "Train Step 59/59, train_loss: 0.6987\n"
     ]
    },
    {
     "data": {
      "application/vnd.jupyter.widget-view+json": {
       "model_id": "f2ec01ed4f7344f19dfb8da1a4228cae",
       "version_major": 2,
       "version_minor": 0
      },
      "text/plain": [
       "HBox(children=(FloatProgress(value=0.0, max=15.0), HTML(value='')))"
      ]
     },
     "metadata": {},
     "output_type": "display_data"
    },
    {
     "name": "stdout",
     "output_type": "stream",
     "text": [
      "outputs tensor(0.5459, device='cuda:0') tensor(0., device='cuda:0')\n",
      "targets tensor(0.7450, device='cuda:0') tensor(0.4537, device='cuda:0')\n",
      "outputs tensor(0.5459, device='cuda:0') tensor(0., device='cuda:0')\n",
      "targets tensor(0.2550, device='cuda:0') tensor(0.4537, device='cuda:0')\n",
      "outputs tensor(0.5459, device='cuda:0') tensor(0., device='cuda:0')\n",
      "targets tensor(0.2550, device='cuda:0') tensor(0.4537, device='cuda:0')\n",
      "outputs tensor(0.5459, device='cuda:0') tensor(0., device='cuda:0')\n",
      "targets tensor(0.6225, device='cuda:0') tensor(0.5072, device='cuda:0')\n",
      "outputs tensor(0.5459, device='cuda:0') tensor(0., device='cuda:0')\n",
      "targets tensor(0.7450, device='cuda:0') tensor(0.4537, device='cuda:0')\n",
      "outputs tensor(0.5459, device='cuda:0') tensor(0., device='cuda:0')\n",
      "targets tensor(0.5000, device='cuda:0') tensor(0.5238, device='cuda:0')\n",
      "outputs tensor(0.5459, device='cuda:0') tensor(0., device='cuda:0')\n",
      "targets tensor(0.5000, device='cuda:0') tensor(0.5238, device='cuda:0')\n",
      "outputs tensor(0.5459, device='cuda:0') tensor(0., device='cuda:0')\n",
      "targets tensor(0.6225, device='cuda:0') tensor(0.5072, device='cuda:0')\n",
      "outputs tensor(0.5459, device='cuda:0') tensor(0., device='cuda:0')\n",
      "targets tensor(0.2550, device='cuda:0') tensor(0.4537, device='cuda:0')\n",
      "outputs tensor(0.5459, device='cuda:0') tensor(0., device='cuda:0')\n",
      "targets tensor(0.7450, device='cuda:0') tensor(0.4537, device='cuda:0')\n",
      "outputs tensor(0.5459, device='cuda:0') tensor(0., device='cuda:0')\n",
      "targets tensor(0.6225, device='cuda:0') tensor(0.5072, device='cuda:0')\n",
      "outputs tensor(0.5459, device='cuda:0') tensor(0., device='cuda:0')\n",
      "targets tensor(0.6225, device='cuda:0') tensor(0.5072, device='cuda:0')\n",
      "outputs tensor(0.5459, device='cuda:0') tensor(0., device='cuda:0')\n",
      "targets tensor(0.6225, device='cuda:0') tensor(0.5072, device='cuda:0')\n",
      "outputs tensor(0.5459, device='cuda:0') tensor(0., device='cuda:0')\n",
      "targets tensor(0.2550, device='cuda:0') tensor(0.4537, device='cuda:0')\n",
      "outputs tensor(0.5459, device='cuda:0') tensor(0., device='cuda:0')\n",
      "targets tensor(0.4020, device='cuda:0') tensor(0.5368, device='cuda:0')\n",
      "Valid Step 15/15, valid_loss: 0.7201\n",
      "[Epoch Train: 3] loss: 0.6987, time: 52.00 s            \n",
      "[Epoch Valid: 3] loss: 0.7201, auc: 0.5000, time: 7.00 s\n",
      "EPOCH: 4\n"
     ]
    },
    {
     "data": {
      "application/vnd.jupyter.widget-view+json": {
       "model_id": "0da717de44de45b4866dd492a54603ab",
       "version_major": 2,
       "version_minor": 0
      },
      "text/plain": [
       "HBox(children=(FloatProgress(value=0.0, max=59.0), HTML(value='')))"
      ]
     },
     "metadata": {},
     "output_type": "display_data"
    },
    {
     "name": "stdout",
     "output_type": "stream",
     "text": [
      "Train Step 59/59, train_loss: 0.7091\n"
     ]
    },
    {
     "data": {
      "application/vnd.jupyter.widget-view+json": {
       "model_id": "fcac12d3dee94284b133d62b02598abf",
       "version_major": 2,
       "version_minor": 0
      },
      "text/plain": [
       "HBox(children=(FloatProgress(value=0.0, max=15.0), HTML(value='')))"
      ]
     },
     "metadata": {},
     "output_type": "display_data"
    },
    {
     "name": "stdout",
     "output_type": "stream",
     "text": [
      "outputs tensor(0.6219, device='cuda:0') tensor(5.6231e-07, device='cuda:0')\n",
      "targets tensor(0.7450, device='cuda:0') tensor(0.4537, device='cuda:0')\n",
      "outputs tensor(0.6219, device='cuda:0') tensor(4.6279e-07, device='cuda:0')\n",
      "targets tensor(0.2550, device='cuda:0') tensor(0.4537, device='cuda:0')\n",
      "outputs tensor(0.6219, device='cuda:0') tensor(7.0651e-07, device='cuda:0')\n",
      "targets tensor(0.2550, device='cuda:0') tensor(0.4537, device='cuda:0')\n",
      "outputs tensor(0.6219, device='cuda:0') tensor(6.5274e-07, device='cuda:0')\n",
      "targets tensor(0.6225, device='cuda:0') tensor(0.5072, device='cuda:0')\n",
      "outputs tensor(0.6219, device='cuda:0') tensor(6.9273e-07, device='cuda:0')\n",
      "targets tensor(0.7450, device='cuda:0') tensor(0.4537, device='cuda:0')\n",
      "outputs tensor(0.6219, device='cuda:0') tensor(6.7378e-07, device='cuda:0')\n",
      "targets tensor(0.5000, device='cuda:0') tensor(0.5238, device='cuda:0')\n",
      "outputs tensor(0.6219, device='cuda:0') tensor(6.8332e-07, device='cuda:0')\n",
      "targets tensor(0.5000, device='cuda:0') tensor(0.5238, device='cuda:0')\n",
      "outputs tensor(0.6219, device='cuda:0') tensor(7.2722e-07, device='cuda:0')\n",
      "targets tensor(0.6225, device='cuda:0') tensor(0.5072, device='cuda:0')\n",
      "outputs tensor(0.6219, device='cuda:0') tensor(5.1299e-07, device='cuda:0')\n",
      "targets tensor(0.2550, device='cuda:0') tensor(0.4537, device='cuda:0')\n",
      "outputs tensor(0.6219, device='cuda:0') tensor(6.3080e-07, device='cuda:0')\n",
      "targets tensor(0.7450, device='cuda:0') tensor(0.4537, device='cuda:0')\n",
      "outputs tensor(0.6219, device='cuda:0') tensor(6.5546e-07, device='cuda:0')\n",
      "targets tensor(0.6225, device='cuda:0') tensor(0.5072, device='cuda:0')\n",
      "outputs tensor(0.6219, device='cuda:0') tensor(6.3780e-07, device='cuda:0')\n",
      "targets tensor(0.6225, device='cuda:0') tensor(0.5072, device='cuda:0')\n",
      "outputs tensor(0.6219, device='cuda:0') tensor(4.8397e-07, device='cuda:0')\n",
      "targets tensor(0.6225, device='cuda:0') tensor(0.5072, device='cuda:0')\n",
      "outputs tensor(0.6219, device='cuda:0') tensor(8.7601e-07, device='cuda:0')\n",
      "targets tensor(0.2550, device='cuda:0') tensor(0.4537, device='cuda:0')\n",
      "outputs tensor(0.6219, device='cuda:0') tensor(8.3572e-07, device='cuda:0')\n",
      "targets tensor(0.4020, device='cuda:0') tensor(0.5368, device='cuda:0')\n",
      "Valid Step 15/15, valid_loss: 0.7296\n",
      "[Epoch Train: 4] loss: 0.7091, time: 51.00 s            \n",
      "[Epoch Valid: 4] loss: 0.7296, auc: 0.4271, time: 7.00 s\n",
      "EPOCH: 5\n"
     ]
    },
    {
     "data": {
      "application/vnd.jupyter.widget-view+json": {
       "model_id": "c297a81ee93b4680befb60f4ace1d3bc",
       "version_major": 2,
       "version_minor": 0
      },
      "text/plain": [
       "HBox(children=(FloatProgress(value=0.0, max=59.0), HTML(value='')))"
      ]
     },
     "metadata": {},
     "output_type": "display_data"
    },
    {
     "name": "stdout",
     "output_type": "stream",
     "text": [
      "Train Step 59/59, train_loss: 0.6841\n"
     ]
    },
    {
     "data": {
      "application/vnd.jupyter.widget-view+json": {
       "model_id": "3206e5bea09d4adf9a7145b621b9107b",
       "version_major": 2,
       "version_minor": 0
      },
      "text/plain": [
       "HBox(children=(FloatProgress(value=0.0, max=15.0), HTML(value='')))"
      ]
     },
     "metadata": {},
     "output_type": "display_data"
    },
    {
     "name": "stdout",
     "output_type": "stream",
     "text": [
      "outputs tensor(0.6330, device='cuda:0') tensor(2.2620e-06, device='cuda:0')\n",
      "targets tensor(0.7450, device='cuda:0') tensor(0.4537, device='cuda:0')\n",
      "outputs tensor(0.6330, device='cuda:0') tensor(1.9163e-06, device='cuda:0')\n",
      "targets tensor(0.2550, device='cuda:0') tensor(0.4537, device='cuda:0')\n",
      "outputs tensor(0.6330, device='cuda:0') tensor(3.4383e-06, device='cuda:0')\n",
      "targets tensor(0.2550, device='cuda:0') tensor(0.4537, device='cuda:0')\n",
      "outputs tensor(0.6330, device='cuda:0') tensor(2.6366e-06, device='cuda:0')\n",
      "targets tensor(0.6225, device='cuda:0') tensor(0.5072, device='cuda:0')\n",
      "outputs tensor(0.6330, device='cuda:0') tensor(2.9077e-06, device='cuda:0')\n",
      "targets tensor(0.7450, device='cuda:0') tensor(0.4537, device='cuda:0')\n",
      "outputs tensor(0.6330, device='cuda:0') tensor(2.9034e-06, device='cuda:0')\n",
      "targets tensor(0.5000, device='cuda:0') tensor(0.5238, device='cuda:0')\n",
      "outputs tensor(0.6330, device='cuda:0') tensor(2.7638e-06, device='cuda:0')\n",
      "targets tensor(0.5000, device='cuda:0') tensor(0.5238, device='cuda:0')\n",
      "outputs tensor(0.6330, device='cuda:0') tensor(3.2108e-06, device='cuda:0')\n",
      "targets tensor(0.6225, device='cuda:0') tensor(0.5072, device='cuda:0')\n",
      "outputs tensor(0.6330, device='cuda:0') tensor(2.2136e-06, device='cuda:0')\n",
      "targets tensor(0.2550, device='cuda:0') tensor(0.4537, device='cuda:0')\n",
      "outputs tensor(0.6330, device='cuda:0') tensor(2.4861e-06, device='cuda:0')\n",
      "targets tensor(0.7450, device='cuda:0') tensor(0.4537, device='cuda:0')\n",
      "outputs tensor(0.6330, device='cuda:0') tensor(2.3577e-06, device='cuda:0')\n",
      "targets tensor(0.6225, device='cuda:0') tensor(0.5072, device='cuda:0')\n",
      "outputs tensor(0.6330, device='cuda:0') tensor(2.4358e-06, device='cuda:0')\n",
      "targets tensor(0.6225, device='cuda:0') tensor(0.5072, device='cuda:0')\n",
      "outputs tensor(0.6330, device='cuda:0') tensor(1.8081e-06, device='cuda:0')\n",
      "targets tensor(0.6225, device='cuda:0') tensor(0.5072, device='cuda:0')\n",
      "outputs tensor(0.6330, device='cuda:0') tensor(2.9433e-06, device='cuda:0')\n",
      "targets tensor(0.2550, device='cuda:0') tensor(0.4537, device='cuda:0')\n",
      "outputs tensor(0.6330, device='cuda:0') tensor(3.8009e-06, device='cuda:0')\n",
      "targets tensor(0.4020, device='cuda:0') tensor(0.5368, device='cuda:0')\n",
      "Valid Step 15/15, valid_loss: 0.7310\n",
      "[Epoch Train: 5] loss: 0.6841, time: 52.00 s            \n",
      "[Epoch Valid: 5] loss: 0.7310, auc: 0.4082, time: 7.00 s\n",
      "EPOCH: 6\n"
     ]
    },
    {
     "data": {
      "application/vnd.jupyter.widget-view+json": {
       "model_id": "e0931e5f261e42e3898786922850e1f0",
       "version_major": 2,
       "version_minor": 0
      },
      "text/plain": [
       "HBox(children=(FloatProgress(value=0.0, max=59.0), HTML(value='')))"
      ]
     },
     "metadata": {},
     "output_type": "display_data"
    },
    {
     "name": "stdout",
     "output_type": "stream",
     "text": [
      "Train Step 59/59, train_loss: 0.6783\n"
     ]
    },
    {
     "data": {
      "application/vnd.jupyter.widget-view+json": {
       "model_id": "a8e4b0678e2d4af88ceaa29fa4a985c1",
       "version_major": 2,
       "version_minor": 0
      },
      "text/plain": [
       "HBox(children=(FloatProgress(value=0.0, max=15.0), HTML(value='')))"
      ]
     },
     "metadata": {},
     "output_type": "display_data"
    },
    {
     "name": "stdout",
     "output_type": "stream",
     "text": [
      "outputs tensor(0.6286, device='cuda:0') tensor(4.0215e-05, device='cuda:0')\n",
      "targets tensor(0.7450, device='cuda:0') tensor(0.4537, device='cuda:0')\n",
      "outputs tensor(0.6286, device='cuda:0') tensor(2.8838e-05, device='cuda:0')\n",
      "targets tensor(0.2550, device='cuda:0') tensor(0.4537, device='cuda:0')\n",
      "outputs tensor(0.6286, device='cuda:0') tensor(5.3589e-05, device='cuda:0')\n",
      "targets tensor(0.2550, device='cuda:0') tensor(0.4537, device='cuda:0')\n",
      "outputs tensor(0.6286, device='cuda:0') tensor(4.9013e-05, device='cuda:0')\n",
      "targets tensor(0.6225, device='cuda:0') tensor(0.5072, device='cuda:0')\n",
      "outputs tensor(0.6286, device='cuda:0') tensor(4.7408e-05, device='cuda:0')\n",
      "targets tensor(0.7450, device='cuda:0') tensor(0.4537, device='cuda:0')\n",
      "outputs tensor(0.6286, device='cuda:0') tensor(4.6823e-05, device='cuda:0')\n",
      "targets tensor(0.5000, device='cuda:0') tensor(0.5238, device='cuda:0')\n",
      "outputs tensor(0.6286, device='cuda:0') tensor(4.9709e-05, device='cuda:0')\n",
      "targets tensor(0.5000, device='cuda:0') tensor(0.5238, device='cuda:0')\n",
      "outputs tensor(0.6286, device='cuda:0') tensor(5.1719e-05, device='cuda:0')\n",
      "targets tensor(0.6225, device='cuda:0') tensor(0.5072, device='cuda:0')\n",
      "outputs tensor(0.6286, device='cuda:0') tensor(3.4931e-05, device='cuda:0')\n",
      "targets tensor(0.2550, device='cuda:0') tensor(0.4537, device='cuda:0')\n",
      "outputs tensor(0.6286, device='cuda:0') tensor(4.3175e-05, device='cuda:0')\n",
      "targets tensor(0.7450, device='cuda:0') tensor(0.4537, device='cuda:0')\n",
      "outputs tensor(0.6286, device='cuda:0') tensor(3.9127e-05, device='cuda:0')\n",
      "targets tensor(0.6225, device='cuda:0') tensor(0.5072, device='cuda:0')\n",
      "outputs tensor(0.6286, device='cuda:0') tensor(3.7583e-05, device='cuda:0')\n",
      "targets tensor(0.6225, device='cuda:0') tensor(0.5072, device='cuda:0')\n",
      "outputs tensor(0.6286, device='cuda:0') tensor(2.0736e-05, device='cuda:0')\n",
      "targets tensor(0.6225, device='cuda:0') tensor(0.5072, device='cuda:0')\n",
      "outputs tensor(0.6286, device='cuda:0') tensor(5.6714e-05, device='cuda:0')\n",
      "targets tensor(0.2550, device='cuda:0') tensor(0.4537, device='cuda:0')\n",
      "outputs tensor(0.6286, device='cuda:0') tensor(7.4158e-05, device='cuda:0')\n",
      "targets tensor(0.4020, device='cuda:0') tensor(0.5368, device='cuda:0')\n",
      "Valid Step 15/15, valid_loss: 0.7305\n",
      "[Epoch Train: 6] loss: 0.6783, time: 52.00 s            \n",
      "[Epoch Valid: 6] loss: 0.7305, auc: 0.5558, time: 7.00 s\n",
      "auc improved from inf to 0.7305. Saved model to '/home/RSNA_MICCAI_Brain_Tumor/models/T1wCE-e6-loss0.730-auc0.556.pth'\n",
      "EPOCH: 7\n"
     ]
    },
    {
     "data": {
      "application/vnd.jupyter.widget-view+json": {
       "model_id": "08301a0ab7e94bbfbfdff25176b4c86e",
       "version_major": 2,
       "version_minor": 0
      },
      "text/plain": [
       "HBox(children=(FloatProgress(value=0.0, max=59.0), HTML(value='')))"
      ]
     },
     "metadata": {},
     "output_type": "display_data"
    },
    {
     "name": "stdout",
     "output_type": "stream",
     "text": [
      "Train Step 59/59, train_loss: 0.6184\n"
     ]
    },
    {
     "data": {
      "application/vnd.jupyter.widget-view+json": {
       "model_id": "0b3a3cf074cd4b5cbf800d40405749fb",
       "version_major": 2,
       "version_minor": 0
      },
      "text/plain": [
       "HBox(children=(FloatProgress(value=0.0, max=15.0), HTML(value='')))"
      ]
     },
     "metadata": {},
     "output_type": "display_data"
    },
    {
     "name": "stdout",
     "output_type": "stream",
     "text": [
      "outputs tensor(0.6808, device='cuda:0') tensor(0.0003, device='cuda:0')\n",
      "targets tensor(0.7450, device='cuda:0') tensor(0.4537, device='cuda:0')\n",
      "outputs tensor(0.6806, device='cuda:0') tensor(0.0002, device='cuda:0')\n",
      "targets tensor(0.2550, device='cuda:0') tensor(0.4537, device='cuda:0')\n",
      "outputs tensor(0.6806, device='cuda:0') tensor(0.0005, device='cuda:0')\n",
      "targets tensor(0.2550, device='cuda:0') tensor(0.4537, device='cuda:0')\n",
      "outputs tensor(0.6807, device='cuda:0') tensor(0.0004, device='cuda:0')\n",
      "targets tensor(0.6225, device='cuda:0') tensor(0.5072, device='cuda:0')\n",
      "outputs tensor(0.6808, device='cuda:0') tensor(0.0005, device='cuda:0')\n",
      "targets tensor(0.7450, device='cuda:0') tensor(0.4537, device='cuda:0')\n",
      "outputs tensor(0.6806, device='cuda:0') tensor(0.0004, device='cuda:0')\n",
      "targets tensor(0.5000, device='cuda:0') tensor(0.5238, device='cuda:0')\n",
      "outputs tensor(0.6804, device='cuda:0') tensor(0.0005, device='cuda:0')\n",
      "targets tensor(0.5000, device='cuda:0') tensor(0.5238, device='cuda:0')\n",
      "outputs tensor(0.6808, device='cuda:0') tensor(0.0004, device='cuda:0')\n",
      "targets tensor(0.6225, device='cuda:0') tensor(0.5072, device='cuda:0')\n",
      "outputs tensor(0.6806, device='cuda:0') tensor(0.0003, device='cuda:0')\n",
      "targets tensor(0.2550, device='cuda:0') tensor(0.4537, device='cuda:0')\n",
      "outputs tensor(0.6808, device='cuda:0') tensor(0.0003, device='cuda:0')\n",
      "targets tensor(0.7450, device='cuda:0') tensor(0.4537, device='cuda:0')\n",
      "outputs tensor(0.6805, device='cuda:0') tensor(0.0004, device='cuda:0')\n",
      "targets tensor(0.6225, device='cuda:0') tensor(0.5072, device='cuda:0')\n",
      "outputs tensor(0.6806, device='cuda:0') tensor(0.0003, device='cuda:0')\n",
      "targets tensor(0.6225, device='cuda:0') tensor(0.5072, device='cuda:0')\n",
      "outputs tensor(0.6805, device='cuda:0') tensor(0.0002, device='cuda:0')\n",
      "targets tensor(0.6225, device='cuda:0') tensor(0.5072, device='cuda:0')\n",
      "outputs tensor(0.6808, device='cuda:0') tensor(0.0005, device='cuda:0')\n",
      "targets tensor(0.2550, device='cuda:0') tensor(0.4537, device='cuda:0')\n",
      "outputs tensor(0.6807, device='cuda:0') tensor(0.0006, device='cuda:0')\n",
      "targets tensor(0.4020, device='cuda:0') tensor(0.5368, device='cuda:0')\n",
      "Valid Step 15/15, valid_loss: 0.7377\n",
      "[Epoch Train: 7] loss: 0.6184, time: 52.00 s            \n",
      "[Epoch Valid: 7] loss: 0.7377, auc: 0.5451, time: 7.00 s\n",
      "EPOCH: 8\n"
     ]
    },
    {
     "data": {
      "application/vnd.jupyter.widget-view+json": {
       "model_id": "e7274c885572442490fd10c1299c27a8",
       "version_major": 2,
       "version_minor": 0
      },
      "text/plain": [
       "HBox(children=(FloatProgress(value=0.0, max=59.0), HTML(value='')))"
      ]
     },
     "metadata": {},
     "output_type": "display_data"
    },
    {
     "name": "stdout",
     "output_type": "stream",
     "text": [
      "Train Step 59/59, train_loss: 0.5453\n"
     ]
    },
    {
     "data": {
      "application/vnd.jupyter.widget-view+json": {
       "model_id": "690f8106a7a246c0ba50c00f11b7124f",
       "version_major": 2,
       "version_minor": 0
      },
      "text/plain": [
       "HBox(children=(FloatProgress(value=0.0, max=15.0), HTML(value='')))"
      ]
     },
     "metadata": {},
     "output_type": "display_data"
    },
    {
     "name": "stdout",
     "output_type": "stream",
     "text": [
      "outputs tensor(0.9128, device='cuda:0') tensor(0.0017, device='cuda:0')\n",
      "targets tensor(0.7450, device='cuda:0') tensor(0.4537, device='cuda:0')\n",
      "outputs tensor(0.9124, device='cuda:0') tensor(0.0013, device='cuda:0')\n",
      "targets tensor(0.2550, device='cuda:0') tensor(0.4537, device='cuda:0')\n",
      "outputs tensor(0.9118, device='cuda:0') tensor(0.0025, device='cuda:0')\n",
      "targets tensor(0.2550, device='cuda:0') tensor(0.4537, device='cuda:0')\n",
      "outputs tensor(0.9129, device='cuda:0') tensor(0.0011, device='cuda:0')\n",
      "targets tensor(0.6225, device='cuda:0') tensor(0.5072, device='cuda:0')\n",
      "outputs tensor(0.9124, device='cuda:0') tensor(0.0024, device='cuda:0')\n",
      "targets tensor(0.7450, device='cuda:0') tensor(0.4537, device='cuda:0')\n",
      "outputs tensor(0.9119, device='cuda:0') tensor(0.0021, device='cuda:0')\n",
      "targets tensor(0.5000, device='cuda:0') tensor(0.5238, device='cuda:0')\n",
      "outputs tensor(0.9109, device='cuda:0') tensor(0.0018, device='cuda:0')\n",
      "targets tensor(0.5000, device='cuda:0') tensor(0.5238, device='cuda:0')\n",
      "outputs tensor(0.9129, device='cuda:0') tensor(0.0019, device='cuda:0')\n",
      "targets tensor(0.6225, device='cuda:0') tensor(0.5072, device='cuda:0')\n",
      "outputs tensor(0.9117, device='cuda:0') tensor(0.0019, device='cuda:0')\n",
      "targets tensor(0.2550, device='cuda:0') tensor(0.4537, device='cuda:0')\n",
      "outputs tensor(0.9128, device='cuda:0') tensor(0.0017, device='cuda:0')\n",
      "targets tensor(0.7450, device='cuda:0') tensor(0.4537, device='cuda:0')\n",
      "outputs tensor(0.9112, device='cuda:0') tensor(0.0015, device='cuda:0')\n",
      "targets tensor(0.6225, device='cuda:0') tensor(0.5072, device='cuda:0')\n",
      "outputs tensor(0.9114, device='cuda:0') tensor(0.0017, device='cuda:0')\n",
      "targets tensor(0.6225, device='cuda:0') tensor(0.5072, device='cuda:0')\n",
      "outputs tensor(0.9116, device='cuda:0') tensor(0.0018, device='cuda:0')\n",
      "targets tensor(0.6225, device='cuda:0') tensor(0.5072, device='cuda:0')\n",
      "outputs tensor(0.9127, device='cuda:0') tensor(0.0020, device='cuda:0')\n",
      "targets tensor(0.2550, device='cuda:0') tensor(0.4537, device='cuda:0')\n",
      "outputs tensor(0.9122, device='cuda:0') tensor(0.0025, device='cuda:0')\n",
      "targets tensor(0.4020, device='cuda:0') tensor(0.5368, device='cuda:0')\n",
      "Valid Step 15/15, valid_loss: 0.7773\n",
      "[Epoch Train: 8] loss: 0.5453, time: 52.00 s            \n",
      "[Epoch Valid: 8] loss: 0.7773, auc: 0.5498, time: 7.00 s\n",
      "EPOCH: 9\n"
     ]
    },
    {
     "data": {
      "application/vnd.jupyter.widget-view+json": {
       "model_id": "099711d35dac47c69aed172575c7c5d7",
       "version_major": 2,
       "version_minor": 0
      },
      "text/plain": [
       "HBox(children=(FloatProgress(value=0.0, max=59.0), HTML(value='')))"
      ]
     },
     "metadata": {},
     "output_type": "display_data"
    },
    {
     "name": "stdout",
     "output_type": "stream",
     "text": [
      "Train Step 59/59, train_loss: 0.4596\n"
     ]
    },
    {
     "data": {
      "application/vnd.jupyter.widget-view+json": {
       "model_id": "ca6e6cb7421e40999d59b4d4772c63e6",
       "version_major": 2,
       "version_minor": 0
      },
      "text/plain": [
       "HBox(children=(FloatProgress(value=0.0, max=15.0), HTML(value='')))"
      ]
     },
     "metadata": {},
     "output_type": "display_data"
    },
    {
     "name": "stdout",
     "output_type": "stream",
     "text": [
      "outputs tensor(0.9688, device='cuda:0') tensor(0.0017, device='cuda:0')\n",
      "targets tensor(0.7450, device='cuda:0') tensor(0.4537, device='cuda:0')\n",
      "outputs tensor(0.9681, device='cuda:0') tensor(0.0029, device='cuda:0')\n",
      "targets tensor(0.2550, device='cuda:0') tensor(0.4537, device='cuda:0')\n",
      "outputs tensor(0.9658, device='cuda:0') tensor(0.0031, device='cuda:0')\n",
      "targets tensor(0.2550, device='cuda:0') tensor(0.4537, device='cuda:0')\n",
      "outputs tensor(0.9683, device='cuda:0') tensor(0.0022, device='cuda:0')\n",
      "targets tensor(0.6225, device='cuda:0') tensor(0.5072, device='cuda:0')\n",
      "outputs tensor(0.9647, device='cuda:0') tensor(0.0045, device='cuda:0')\n",
      "targets tensor(0.7450, device='cuda:0') tensor(0.4537, device='cuda:0')\n",
      "outputs tensor(0.9664, device='cuda:0') tensor(0.0033, device='cuda:0')\n",
      "targets tensor(0.5000, device='cuda:0') tensor(0.5238, device='cuda:0')\n",
      "outputs tensor(0.9644, device='cuda:0') tensor(0.0031, device='cuda:0')\n",
      "targets tensor(0.5000, device='cuda:0') tensor(0.5238, device='cuda:0')\n",
      "outputs tensor(0.9654, device='cuda:0') tensor(0.0037, device='cuda:0')\n",
      "targets tensor(0.6225, device='cuda:0') tensor(0.5072, device='cuda:0')\n",
      "outputs tensor(0.9647, device='cuda:0') tensor(0.0048, device='cuda:0')\n",
      "targets tensor(0.2550, device='cuda:0') tensor(0.4537, device='cuda:0')\n",
      "outputs tensor(0.9658, device='cuda:0') tensor(0.0034, device='cuda:0')\n",
      "targets tensor(0.7450, device='cuda:0') tensor(0.4537, device='cuda:0')\n",
      "outputs tensor(0.9654, device='cuda:0') tensor(0.0031, device='cuda:0')\n",
      "targets tensor(0.6225, device='cuda:0') tensor(0.5072, device='cuda:0')\n",
      "outputs tensor(0.9662, device='cuda:0') tensor(0.0033, device='cuda:0')\n",
      "targets tensor(0.6225, device='cuda:0') tensor(0.5072, device='cuda:0')\n",
      "outputs tensor(0.9651, device='cuda:0') tensor(0.0057, device='cuda:0')\n",
      "targets tensor(0.6225, device='cuda:0') tensor(0.5072, device='cuda:0')\n",
      "outputs tensor(0.9665, device='cuda:0') tensor(0.0032, device='cuda:0')\n",
      "targets tensor(0.2550, device='cuda:0') tensor(0.4537, device='cuda:0')\n",
      "outputs tensor(0.9667, device='cuda:0') tensor(0.0010, device='cuda:0')\n",
      "targets tensor(0.4020, device='cuda:0') tensor(0.5368, device='cuda:0')\n",
      "Valid Step 15/15, valid_loss: 0.7880\n",
      "[Epoch Train: 9] loss: 0.4596, time: 51.00 s            \n",
      "[Epoch Valid: 9] loss: 0.7880, auc: 0.5647, time: 6.00 s\n",
      "EPOCH: 10\n"
     ]
    },
    {
     "data": {
      "application/vnd.jupyter.widget-view+json": {
       "model_id": "6ebfdfa6f7354e739fa7e38ad23b3f3d",
       "version_major": 2,
       "version_minor": 0
      },
      "text/plain": [
       "HBox(children=(FloatProgress(value=0.0, max=59.0), HTML(value='')))"
      ]
     },
     "metadata": {},
     "output_type": "display_data"
    },
    {
     "name": "stdout",
     "output_type": "stream",
     "text": [
      "Train Step 59/59, train_loss: 0.5303\n"
     ]
    },
    {
     "data": {
      "application/vnd.jupyter.widget-view+json": {
       "model_id": "9ddac6edcdab4338af1c0f581e2a17b9",
       "version_major": 2,
       "version_minor": 0
      },
      "text/plain": [
       "HBox(children=(FloatProgress(value=0.0, max=15.0), HTML(value='')))"
      ]
     },
     "metadata": {},
     "output_type": "display_data"
    },
    {
     "name": "stdout",
     "output_type": "stream",
     "text": [
      "outputs tensor(0.8270, device='cuda:0') tensor(0.1551, device='cuda:0')\n",
      "targets tensor(0.7450, device='cuda:0') tensor(0.4537, device='cuda:0')\n",
      "outputs tensor(0.7159, device='cuda:0') tensor(0.2452, device='cuda:0')\n",
      "targets tensor(0.2550, device='cuda:0') tensor(0.4537, device='cuda:0')\n",
      "outputs tensor(0.5630, device='cuda:0') tensor(0.3309, device='cuda:0')\n",
      "targets tensor(0.2550, device='cuda:0') tensor(0.4537, device='cuda:0')\n",
      "outputs tensor(0.7072, device='cuda:0') tensor(0.3047, device='cuda:0')\n",
      "targets tensor(0.6225, device='cuda:0') tensor(0.5072, device='cuda:0')\n",
      "outputs tensor(0.4553, device='cuda:0') tensor(0.3704, device='cuda:0')\n",
      "targets tensor(0.7450, device='cuda:0') tensor(0.4537, device='cuda:0')\n",
      "outputs tensor(0.6191, device='cuda:0') tensor(0.2840, device='cuda:0')\n",
      "targets tensor(0.5000, device='cuda:0') tensor(0.5238, device='cuda:0')\n",
      "outputs tensor(0.6049, device='cuda:0') tensor(0.3434, device='cuda:0')\n",
      "targets tensor(0.5000, device='cuda:0') tensor(0.5238, device='cuda:0')\n",
      "outputs tensor(0.7061, device='cuda:0') tensor(0.2308, device='cuda:0')\n",
      "targets tensor(0.6225, device='cuda:0') tensor(0.5072, device='cuda:0')\n",
      "outputs tensor(0.5064, device='cuda:0') tensor(0.2737, device='cuda:0')\n",
      "targets tensor(0.2550, device='cuda:0') tensor(0.4537, device='cuda:0')\n",
      "outputs tensor(0.6466, device='cuda:0') tensor(0.3237, device='cuda:0')\n",
      "targets tensor(0.7450, device='cuda:0') tensor(0.4537, device='cuda:0')\n",
      "outputs tensor(0.4615, device='cuda:0') tensor(0.3776, device='cuda:0')\n",
      "targets tensor(0.6225, device='cuda:0') tensor(0.5072, device='cuda:0')\n",
      "outputs tensor(0.4814, device='cuda:0') tensor(0.3154, device='cuda:0')\n",
      "targets tensor(0.6225, device='cuda:0') tensor(0.5072, device='cuda:0')\n",
      "outputs tensor(0.5144, device='cuda:0') tensor(0.3586, device='cuda:0')\n",
      "targets tensor(0.6225, device='cuda:0') tensor(0.5072, device='cuda:0')\n",
      "outputs tensor(0.7483, device='cuda:0') tensor(0.2641, device='cuda:0')\n",
      "targets tensor(0.2550, device='cuda:0') tensor(0.4537, device='cuda:0')\n",
      "outputs tensor(0.4453, device='cuda:0') tensor(0.2266, device='cuda:0')\n",
      "targets tensor(0.4020, device='cuda:0') tensor(0.5368, device='cuda:0')\n",
      "Valid Step 15/15, valid_loss: 0.7302\n",
      "[Epoch Train: 10] loss: 0.5303, time: 52.00 s            \n",
      "[Epoch Valid: 10] loss: 0.7302, auc: 0.5261, time: 7.00 s\n",
      "auc improved from 0.7305 to 0.7302. Saved model to '/home/RSNA_MICCAI_Brain_Tumor/models/T1wCE-e10-loss0.730-auc0.526.pth'\n",
      "EPOCH: 11\n"
     ]
    },
    {
     "data": {
      "application/vnd.jupyter.widget-view+json": {
       "model_id": "d8a61ceaf9554dd5b9452379176eafc4",
       "version_major": 2,
       "version_minor": 0
      },
      "text/plain": [
       "HBox(children=(FloatProgress(value=0.0, max=59.0), HTML(value='')))"
      ]
     },
     "metadata": {},
     "output_type": "display_data"
    },
    {
     "name": "stdout",
     "output_type": "stream",
     "text": [
      "Train Step 59/59, train_loss: 0.3739\n"
     ]
    },
    {
     "data": {
      "application/vnd.jupyter.widget-view+json": {
       "model_id": "5532f3cf64094c638f5711825fa03746",
       "version_major": 2,
       "version_minor": 0
      },
      "text/plain": [
       "HBox(children=(FloatProgress(value=0.0, max=15.0), HTML(value='')))"
      ]
     },
     "metadata": {},
     "output_type": "display_data"
    },
    {
     "name": "stdout",
     "output_type": "stream",
     "text": [
      "outputs tensor(0.9002, device='cuda:0') tensor(0.1093, device='cuda:0')\n",
      "targets tensor(0.7450, device='cuda:0') tensor(0.4537, device='cuda:0')\n",
      "outputs tensor(0.9238, device='cuda:0') tensor(0.1190, device='cuda:0')\n",
      "targets tensor(0.2550, device='cuda:0') tensor(0.4537, device='cuda:0')\n",
      "outputs tensor(0.8249, device='cuda:0') tensor(0.2541, device='cuda:0')\n",
      "targets tensor(0.2550, device='cuda:0') tensor(0.4537, device='cuda:0')\n",
      "outputs tensor(0.8947, device='cuda:0') tensor(0.1823, device='cuda:0')\n",
      "targets tensor(0.6225, device='cuda:0') tensor(0.5072, device='cuda:0')\n",
      "outputs tensor(0.5916, device='cuda:0') tensor(0.3413, device='cuda:0')\n",
      "targets tensor(0.7450, device='cuda:0') tensor(0.4537, device='cuda:0')\n",
      "outputs tensor(0.7243, device='cuda:0') tensor(0.3732, device='cuda:0')\n",
      "targets tensor(0.5000, device='cuda:0') tensor(0.5238, device='cuda:0')\n",
      "outputs tensor(0.7540, device='cuda:0') tensor(0.2847, device='cuda:0')\n",
      "targets tensor(0.5000, device='cuda:0') tensor(0.5238, device='cuda:0')\n",
      "outputs tensor(0.7120, device='cuda:0') tensor(0.3229, device='cuda:0')\n",
      "targets tensor(0.6225, device='cuda:0') tensor(0.5072, device='cuda:0')\n",
      "outputs tensor(0.8323, device='cuda:0') tensor(0.2051, device='cuda:0')\n",
      "targets tensor(0.2550, device='cuda:0') tensor(0.4537, device='cuda:0')\n",
      "outputs tensor(0.7974, device='cuda:0') tensor(0.2815, device='cuda:0')\n",
      "targets tensor(0.7450, device='cuda:0') tensor(0.4537, device='cuda:0')\n",
      "outputs tensor(0.7528, device='cuda:0') tensor(0.3496, device='cuda:0')\n",
      "targets tensor(0.6225, device='cuda:0') tensor(0.5072, device='cuda:0')\n",
      "outputs tensor(0.6986, device='cuda:0') tensor(0.3486, device='cuda:0')\n",
      "targets tensor(0.6225, device='cuda:0') tensor(0.5072, device='cuda:0')\n",
      "outputs tensor(0.7310, device='cuda:0') tensor(0.3450, device='cuda:0')\n",
      "targets tensor(0.6225, device='cuda:0') tensor(0.5072, device='cuda:0')\n",
      "outputs tensor(0.8168, device='cuda:0') tensor(0.2349, device='cuda:0')\n",
      "targets tensor(0.2550, device='cuda:0') tensor(0.4537, device='cuda:0')\n",
      "outputs tensor(0.6395, device='cuda:0') tensor(0.3586, device='cuda:0')\n",
      "targets tensor(0.4020, device='cuda:0') tensor(0.5368, device='cuda:0')\n",
      "Valid Step 15/15, valid_loss: 0.7680\n",
      "[Epoch Train: 11] loss: 0.3739, time: 52.00 s            \n",
      "[Epoch Valid: 11] loss: 0.7680, auc: 0.4742, time: 7.00 s\n",
      "EPOCH: 12\n"
     ]
    },
    {
     "data": {
      "application/vnd.jupyter.widget-view+json": {
       "model_id": "45a722a013644b5e9f41cfb68c95faa2",
       "version_major": 2,
       "version_minor": 0
      },
      "text/plain": [
       "HBox(children=(FloatProgress(value=0.0, max=59.0), HTML(value='')))"
      ]
     },
     "metadata": {},
     "output_type": "display_data"
    },
    {
     "name": "stdout",
     "output_type": "stream",
     "text": [
      "Train Step 59/59, train_loss: 0.3919\n"
     ]
    },
    {
     "data": {
      "application/vnd.jupyter.widget-view+json": {
       "model_id": "a0bbe313bf5146dd82900f7b1f6b92d6",
       "version_major": 2,
       "version_minor": 0
      },
      "text/plain": [
       "HBox(children=(FloatProgress(value=0.0, max=15.0), HTML(value='')))"
      ]
     },
     "metadata": {},
     "output_type": "display_data"
    },
    {
     "name": "stdout",
     "output_type": "stream",
     "text": [
      "outputs tensor(0.6264, device='cuda:0') tensor(0.3051, device='cuda:0')\n",
      "targets tensor(0.7450, device='cuda:0') tensor(0.4537, device='cuda:0')\n",
      "outputs tensor(0.7736, device='cuda:0') tensor(0.2465, device='cuda:0')\n",
      "targets tensor(0.2550, device='cuda:0') tensor(0.4537, device='cuda:0')\n",
      "outputs tensor(0.7596, device='cuda:0') tensor(0.2827, device='cuda:0')\n",
      "targets tensor(0.2550, device='cuda:0') tensor(0.4537, device='cuda:0')\n",
      "outputs tensor(0.8126, device='cuda:0') tensor(0.2863, device='cuda:0')\n",
      "targets tensor(0.6225, device='cuda:0') tensor(0.5072, device='cuda:0')\n",
      "outputs tensor(0.5859, device='cuda:0') tensor(0.4197, device='cuda:0')\n",
      "targets tensor(0.7450, device='cuda:0') tensor(0.4537, device='cuda:0')\n",
      "outputs tensor(0.6152, device='cuda:0') tensor(0.3866, device='cuda:0')\n",
      "targets tensor(0.5000, device='cuda:0') tensor(0.5238, device='cuda:0')\n",
      "outputs tensor(0.5539, device='cuda:0') tensor(0.3886, device='cuda:0')\n",
      "targets tensor(0.5000, device='cuda:0') tensor(0.5238, device='cuda:0')\n",
      "outputs tensor(0.5739, device='cuda:0') tensor(0.4198, device='cuda:0')\n",
      "targets tensor(0.6225, device='cuda:0') tensor(0.5072, device='cuda:0')\n",
      "outputs tensor(0.6272, device='cuda:0') tensor(0.2810, device='cuda:0')\n",
      "targets tensor(0.2550, device='cuda:0') tensor(0.4537, device='cuda:0')\n",
      "outputs tensor(0.6836, device='cuda:0') tensor(0.3563, device='cuda:0')\n",
      "targets tensor(0.7450, device='cuda:0') tensor(0.4537, device='cuda:0')\n",
      "outputs tensor(0.5717, device='cuda:0') tensor(0.3438, device='cuda:0')\n",
      "targets tensor(0.6225, device='cuda:0') tensor(0.5072, device='cuda:0')\n",
      "outputs tensor(0.5571, device='cuda:0') tensor(0.2832, device='cuda:0')\n",
      "targets tensor(0.6225, device='cuda:0') tensor(0.5072, device='cuda:0')\n",
      "outputs tensor(0.6831, device='cuda:0') tensor(0.2475, device='cuda:0')\n",
      "targets tensor(0.6225, device='cuda:0') tensor(0.5072, device='cuda:0')\n",
      "outputs tensor(0.7925, device='cuda:0') tensor(0.2705, device='cuda:0')\n",
      "targets tensor(0.2550, device='cuda:0') tensor(0.4537, device='cuda:0')\n",
      "outputs tensor(0.5783, device='cuda:0') tensor(0.4093, device='cuda:0')\n",
      "targets tensor(0.4020, device='cuda:0') tensor(0.5368, device='cuda:0')\n",
      "Valid Step 15/15, valid_loss: 0.7463\n",
      "[Epoch Train: 12] loss: 0.3919, time: 52.00 s            \n",
      "[Epoch Valid: 12] loss: 0.7463, auc: 0.5202, time: 7.00 s\n",
      "EPOCH: 13\n"
     ]
    },
    {
     "data": {
      "application/vnd.jupyter.widget-view+json": {
       "model_id": "23c380b27daf469ca766eae9280b5151",
       "version_major": 2,
       "version_minor": 0
      },
      "text/plain": [
       "HBox(children=(FloatProgress(value=0.0, max=59.0), HTML(value='')))"
      ]
     },
     "metadata": {},
     "output_type": "display_data"
    },
    {
     "name": "stdout",
     "output_type": "stream",
     "text": [
      "Train Step 59/59, train_loss: 0.2951\n"
     ]
    },
    {
     "data": {
      "application/vnd.jupyter.widget-view+json": {
       "model_id": "6ee133d7a18e4a87b65acb62ca45e6c5",
       "version_major": 2,
       "version_minor": 0
      },
      "text/plain": [
       "HBox(children=(FloatProgress(value=0.0, max=15.0), HTML(value='')))"
      ]
     },
     "metadata": {},
     "output_type": "display_data"
    },
    {
     "name": "stdout",
     "output_type": "stream",
     "text": [
      "outputs tensor(0.4528, device='cuda:0') tensor(0.3184, device='cuda:0')\n",
      "targets tensor(0.7450, device='cuda:0') tensor(0.4537, device='cuda:0')\n",
      "outputs tensor(0.8298, device='cuda:0') tensor(0.1759, device='cuda:0')\n",
      "targets tensor(0.2550, device='cuda:0') tensor(0.4537, device='cuda:0')\n",
      "outputs tensor(0.4844, device='cuda:0') tensor(0.4360, device='cuda:0')\n",
      "targets tensor(0.2550, device='cuda:0') tensor(0.4537, device='cuda:0')\n",
      "outputs tensor(0.6236, device='cuda:0') tensor(0.3897, device='cuda:0')\n",
      "targets tensor(0.6225, device='cuda:0') tensor(0.5072, device='cuda:0')\n",
      "outputs tensor(0.3670, device='cuda:0') tensor(0.4238, device='cuda:0')\n",
      "targets tensor(0.7450, device='cuda:0') tensor(0.4537, device='cuda:0')\n",
      "outputs tensor(0.4973, device='cuda:0') tensor(0.4312, device='cuda:0')\n",
      "targets tensor(0.5000, device='cuda:0') tensor(0.5238, device='cuda:0')\n",
      "outputs tensor(0.5713, device='cuda:0') tensor(0.3464, device='cuda:0')\n",
      "targets tensor(0.5000, device='cuda:0') tensor(0.5238, device='cuda:0')\n",
      "outputs tensor(0.5456, device='cuda:0') tensor(0.4083, device='cuda:0')\n",
      "targets tensor(0.6225, device='cuda:0') tensor(0.5072, device='cuda:0')\n",
      "outputs tensor(0.5066, device='cuda:0') tensor(0.3929, device='cuda:0')\n",
      "targets tensor(0.2550, device='cuda:0') tensor(0.4537, device='cuda:0')\n",
      "outputs tensor(0.4347, device='cuda:0') tensor(0.4032, device='cuda:0')\n",
      "targets tensor(0.7450, device='cuda:0') tensor(0.4537, device='cuda:0')\n",
      "outputs tensor(0.3111, device='cuda:0') tensor(0.3239, device='cuda:0')\n",
      "targets tensor(0.6225, device='cuda:0') tensor(0.5072, device='cuda:0')\n",
      "outputs tensor(0.5479, device='cuda:0') tensor(0.4291, device='cuda:0')\n",
      "targets tensor(0.6225, device='cuda:0') tensor(0.5072, device='cuda:0')\n",
      "outputs tensor(0.5257, device='cuda:0') tensor(0.4226, device='cuda:0')\n",
      "targets tensor(0.6225, device='cuda:0') tensor(0.5072, device='cuda:0')\n",
      "outputs tensor(0.5072, device='cuda:0') tensor(0.3771, device='cuda:0')\n",
      "targets tensor(0.2550, device='cuda:0') tensor(0.4537, device='cuda:0')\n",
      "outputs tensor(0.1279, device='cuda:0') tensor(0.1122, device='cuda:0')\n",
      "targets tensor(0.4020, device='cuda:0') tensor(0.5368, device='cuda:0')\n",
      "Valid Step 15/15, valid_loss: 0.7394\n",
      "[Epoch Train: 13] loss: 0.2951, time: 52.00 s            \n",
      "[Epoch Valid: 13] loss: 0.7394, auc: 0.4690, time: 6.00 s\n",
      "EPOCH: 14\n"
     ]
    },
    {
     "data": {
      "application/vnd.jupyter.widget-view+json": {
       "model_id": "07ebd69340d54d8cbe694358b6fcebc5",
       "version_major": 2,
       "version_minor": 0
      },
      "text/plain": [
       "HBox(children=(FloatProgress(value=0.0, max=59.0), HTML(value='')))"
      ]
     },
     "metadata": {},
     "output_type": "display_data"
    },
    {
     "name": "stdout",
     "output_type": "stream",
     "text": [
      "Train Step 59/59, train_loss: 0.2774\n"
     ]
    },
    {
     "data": {
      "application/vnd.jupyter.widget-view+json": {
       "model_id": "a486bf5f8a1741f49c598494cdd8c211",
       "version_major": 2,
       "version_minor": 0
      },
      "text/plain": [
       "HBox(children=(FloatProgress(value=0.0, max=15.0), HTML(value='')))"
      ]
     },
     "metadata": {},
     "output_type": "display_data"
    },
    {
     "name": "stdout",
     "output_type": "stream",
     "text": [
      "outputs tensor(0.8386, device='cuda:0') tensor(0.2359, device='cuda:0')\n",
      "targets tensor(0.7450, device='cuda:0') tensor(0.4537, device='cuda:0')\n",
      "outputs tensor(0.9808, device='cuda:0') tensor(0.0301, device='cuda:0')\n",
      "targets tensor(0.2550, device='cuda:0') tensor(0.4537, device='cuda:0')\n",
      "outputs tensor(0.9948, device='cuda:0') tensor(0.0080, device='cuda:0')\n",
      "targets tensor(0.2550, device='cuda:0') tensor(0.4537, device='cuda:0')\n",
      "outputs tensor(0.9569, device='cuda:0') tensor(0.0728, device='cuda:0')\n",
      "targets tensor(0.6225, device='cuda:0') tensor(0.5072, device='cuda:0')\n",
      "outputs tensor(0.6308, device='cuda:0') tensor(0.4884, device='cuda:0')\n",
      "targets tensor(0.7450, device='cuda:0') tensor(0.4537, device='cuda:0')\n",
      "outputs tensor(0.8430, device='cuda:0') tensor(0.3236, device='cuda:0')\n",
      "targets tensor(0.5000, device='cuda:0') tensor(0.5238, device='cuda:0')\n",
      "outputs tensor(0.8889, device='cuda:0') tensor(0.2738, device='cuda:0')\n",
      "targets tensor(0.5000, device='cuda:0') tensor(0.5238, device='cuda:0')\n",
      "outputs tensor(0.8667, device='cuda:0') tensor(0.3471, device='cuda:0')\n",
      "targets tensor(0.6225, device='cuda:0') tensor(0.5072, device='cuda:0')\n",
      "outputs tensor(0.6370, device='cuda:0') tensor(0.4023, device='cuda:0')\n",
      "targets tensor(0.2550, device='cuda:0') tensor(0.4537, device='cuda:0')\n",
      "outputs tensor(0.8210, device='cuda:0') tensor(0.3464, device='cuda:0')\n",
      "targets tensor(0.7450, device='cuda:0') tensor(0.4537, device='cuda:0')\n",
      "outputs tensor(0.7509, device='cuda:0') tensor(0.4505, device='cuda:0')\n",
      "targets tensor(0.6225, device='cuda:0') tensor(0.5072, device='cuda:0')\n",
      "outputs tensor(0.9281, device='cuda:0') tensor(0.1098, device='cuda:0')\n",
      "targets tensor(0.6225, device='cuda:0') tensor(0.5072, device='cuda:0')\n",
      "outputs tensor(0.8770, device='cuda:0') tensor(0.3397, device='cuda:0')\n",
      "targets tensor(0.6225, device='cuda:0') tensor(0.5072, device='cuda:0')\n",
      "outputs tensor(0.9779, device='cuda:0') tensor(0.0357, device='cuda:0')\n",
      "targets tensor(0.2550, device='cuda:0') tensor(0.4537, device='cuda:0')\n",
      "outputs tensor(0.9757, device='cuda:0') tensor(0.0227, device='cuda:0')\n",
      "targets tensor(0.4020, device='cuda:0') tensor(0.5368, device='cuda:0')\n",
      "Valid Step 15/15, valid_loss: 0.7973\n",
      "[Epoch Train: 14] loss: 0.2774, time: 51.00 s            \n",
      "[Epoch Valid: 14] loss: 0.7973, auc: 0.4215, time: 7.00 s\n",
      "EPOCH: 15\n"
     ]
    },
    {
     "data": {
      "application/vnd.jupyter.widget-view+json": {
       "model_id": "f81f6572377c4eb68f85b329876c4d9c",
       "version_major": 2,
       "version_minor": 0
      },
      "text/plain": [
       "HBox(children=(FloatProgress(value=0.0, max=59.0), HTML(value='')))"
      ]
     },
     "metadata": {},
     "output_type": "display_data"
    },
    {
     "name": "stdout",
     "output_type": "stream",
     "text": [
      "Train Step 59/59, train_loss: 0.2440\n"
     ]
    },
    {
     "data": {
      "application/vnd.jupyter.widget-view+json": {
       "model_id": "c02f6e62e22b42a0a95275b6b037934e",
       "version_major": 2,
       "version_minor": 0
      },
      "text/plain": [
       "HBox(children=(FloatProgress(value=0.0, max=15.0), HTML(value='')))"
      ]
     },
     "metadata": {},
     "output_type": "display_data"
    },
    {
     "name": "stdout",
     "output_type": "stream",
     "text": [
      "outputs tensor(0.9090, device='cuda:0') tensor(0.1250, device='cuda:0')\n",
      "targets tensor(0.7450, device='cuda:0') tensor(0.4537, device='cuda:0')\n",
      "outputs tensor(0.9833, device='cuda:0') tensor(0.0203, device='cuda:0')\n",
      "targets tensor(0.2550, device='cuda:0') tensor(0.4537, device='cuda:0')\n",
      "outputs tensor(0.8741, device='cuda:0') tensor(0.3289, device='cuda:0')\n",
      "targets tensor(0.2550, device='cuda:0') tensor(0.4537, device='cuda:0')\n",
      "outputs tensor(0.9894, device='cuda:0') tensor(0.0150, device='cuda:0')\n",
      "targets tensor(0.6225, device='cuda:0') tensor(0.5072, device='cuda:0')\n",
      "outputs tensor(0.4998, device='cuda:0') tensor(0.5024, device='cuda:0')\n",
      "targets tensor(0.7450, device='cuda:0') tensor(0.4537, device='cuda:0')\n",
      "outputs tensor(0.6467, device='cuda:0') tensor(0.4534, device='cuda:0')\n",
      "targets tensor(0.5000, device='cuda:0') tensor(0.5238, device='cuda:0')\n",
      "outputs tensor(0.7529, device='cuda:0') tensor(0.3956, device='cuda:0')\n",
      "targets tensor(0.5000, device='cuda:0') tensor(0.5238, device='cuda:0')\n",
      "outputs tensor(0.6452, device='cuda:0') tensor(0.4797, device='cuda:0')\n",
      "targets tensor(0.6225, device='cuda:0') tensor(0.5072, device='cuda:0')\n",
      "outputs tensor(0.6665, device='cuda:0') tensor(0.3897, device='cuda:0')\n",
      "targets tensor(0.2550, device='cuda:0') tensor(0.4537, device='cuda:0')\n",
      "outputs tensor(0.8288, device='cuda:0') tensor(0.3401, device='cuda:0')\n",
      "targets tensor(0.7450, device='cuda:0') tensor(0.4537, device='cuda:0')\n",
      "outputs tensor(0.6150, device='cuda:0') tensor(0.4054, device='cuda:0')\n",
      "targets tensor(0.6225, device='cuda:0') tensor(0.5072, device='cuda:0')\n",
      "outputs tensor(0.6877, device='cuda:0') tensor(0.3871, device='cuda:0')\n",
      "targets tensor(0.6225, device='cuda:0') tensor(0.5072, device='cuda:0')\n",
      "outputs tensor(0.8193, device='cuda:0') tensor(0.3478, device='cuda:0')\n",
      "targets tensor(0.6225, device='cuda:0') tensor(0.5072, device='cuda:0')\n",
      "outputs tensor(0.6241, device='cuda:0') tensor(0.4274, device='cuda:0')\n",
      "targets tensor(0.2550, device='cuda:0') tensor(0.4537, device='cuda:0')\n",
      "outputs tensor(0.4095, device='cuda:0') tensor(0.5316, device='cuda:0')\n",
      "targets tensor(0.4020, device='cuda:0') tensor(0.5368, device='cuda:0')\n",
      "Valid Step 15/15, valid_loss: 0.7693\n",
      "[Epoch Train: 15] loss: 0.2440, time: 51.00 s            \n",
      "[Epoch Valid: 15] loss: 0.7693, auc: 0.4772, time: 7.00 s\n",
      "\n",
      "(468, 3) (117, 3)\n"
     ]
    },
    {
     "name": "stderr",
     "output_type": "stream",
     "text": [
      "/opt/conda/lib/python3.8/site-packages/pandas/core/indexing.py:1720: SettingWithCopyWarning: \n",
      "A value is trying to be set on a copy of a slice from a DataFrame.\n",
      "Try using .loc[row_indexer,col_indexer] = value instead\n",
      "\n",
      "See the caveats in the documentation: https://pandas.pydata.org/pandas-docs/stable/user_guide/indexing.html#returning-a-view-versus-a-copy\n",
      "  self._setitem_single_column(loc, value, pi)\n"
     ]
    },
    {
     "data": {
      "text/html": [
       "<div>\n",
       "<style scoped>\n",
       "    .dataframe tbody tr th:only-of-type {\n",
       "        vertical-align: middle;\n",
       "    }\n",
       "\n",
       "    .dataframe tbody tr th {\n",
       "        vertical-align: top;\n",
       "    }\n",
       "\n",
       "    .dataframe thead th {\n",
       "        text-align: right;\n",
       "    }\n",
       "</style>\n",
       "<table border=\"1\" class=\"dataframe\">\n",
       "  <thead>\n",
       "    <tr style=\"text-align: right;\">\n",
       "      <th></th>\n",
       "      <th>BraTS21ID</th>\n",
       "      <th>MGMT_value</th>\n",
       "      <th>MRI_Type</th>\n",
       "    </tr>\n",
       "  </thead>\n",
       "  <tbody>\n",
       "    <tr>\n",
       "      <th>102</th>\n",
       "      <td>154</td>\n",
       "      <td>0</td>\n",
       "      <td>T2w</td>\n",
       "    </tr>\n",
       "    <tr>\n",
       "      <th>161</th>\n",
       "      <td>240</td>\n",
       "      <td>1</td>\n",
       "      <td>T2w</td>\n",
       "    </tr>\n",
       "    <tr>\n",
       "      <th>508</th>\n",
       "      <td>740</td>\n",
       "      <td>1</td>\n",
       "      <td>T2w</td>\n",
       "    </tr>\n",
       "    <tr>\n",
       "      <th>495</th>\n",
       "      <td>725</td>\n",
       "      <td>1</td>\n",
       "      <td>T2w</td>\n",
       "    </tr>\n",
       "    <tr>\n",
       "      <th>298</th>\n",
       "      <td>432</td>\n",
       "      <td>0</td>\n",
       "      <td>T2w</td>\n",
       "    </tr>\n",
       "  </tbody>\n",
       "</table>\n",
       "</div>"
      ],
      "text/plain": [
       "     BraTS21ID  MGMT_value MRI_Type\n",
       "102        154           0      T2w\n",
       "161        240           1      T2w\n",
       "508        740           1      T2w\n",
       "495        725           1      T2w\n",
       "298        432           0      T2w"
      ]
     },
     "metadata": {},
     "output_type": "display_data"
    },
    {
     "data": {
      "application/vnd.jupyter.widget-view+json": {
       "model_id": "0fad0e3ea4fa45f1b4a6374faa18e939",
       "version_major": 2,
       "version_minor": 0
      },
      "text/plain": [
       "HBox(children=(FloatProgress(value=0.0, max=15.0), HTML(value='')))"
      ]
     },
     "metadata": {},
     "output_type": "display_data"
    },
    {
     "name": "stdout",
     "output_type": "stream",
     "text": [
      "EPOCH: 1\n"
     ]
    },
    {
     "data": {
      "application/vnd.jupyter.widget-view+json": {
       "model_id": "c4287cbe758f4e0ea240b50b5eafa086",
       "version_major": 2,
       "version_minor": 0
      },
      "text/plain": [
       "HBox(children=(FloatProgress(value=0.0, max=59.0), HTML(value='')))"
      ]
     },
     "metadata": {},
     "output_type": "display_data"
    },
    {
     "name": "stdout",
     "output_type": "stream",
     "text": [
      "Train Step 59/59, train_loss: 0.8743\n"
     ]
    },
    {
     "data": {
      "application/vnd.jupyter.widget-view+json": {
       "model_id": "fc589e15a17d4eb5a5e883a8b2dd1547",
       "version_major": 2,
       "version_minor": 0
      },
      "text/plain": [
       "HBox(children=(FloatProgress(value=0.0, max=15.0), HTML(value='')))"
      ]
     },
     "metadata": {},
     "output_type": "display_data"
    },
    {
     "name": "stdout",
     "output_type": "stream",
     "text": [
      "outputs tensor(0.4913, device='cuda:0') tensor(0., device='cuda:0')\n",
      "targets tensor(0.7450, device='cuda:0') tensor(0.4537, device='cuda:0')\n",
      "outputs tensor(0.4913, device='cuda:0') tensor(0., device='cuda:0')\n",
      "targets tensor(0.2550, device='cuda:0') tensor(0.4537, device='cuda:0')\n",
      "outputs tensor(0.4913, device='cuda:0') tensor(0., device='cuda:0')\n",
      "targets tensor(0.2550, device='cuda:0') tensor(0.4537, device='cuda:0')\n",
      "outputs tensor(0.4913, device='cuda:0') tensor(0., device='cuda:0')\n",
      "targets tensor(0.6225, device='cuda:0') tensor(0.5072, device='cuda:0')\n",
      "outputs tensor(0.4913, device='cuda:0') tensor(0., device='cuda:0')\n",
      "targets tensor(0.7450, device='cuda:0') tensor(0.4537, device='cuda:0')\n",
      "outputs tensor(0.4913, device='cuda:0') tensor(0., device='cuda:0')\n",
      "targets tensor(0.5000, device='cuda:0') tensor(0.5238, device='cuda:0')\n",
      "outputs tensor(0.4913, device='cuda:0') tensor(0., device='cuda:0')\n",
      "targets tensor(0.5000, device='cuda:0') tensor(0.5238, device='cuda:0')\n",
      "outputs tensor(0.4913, device='cuda:0') tensor(0., device='cuda:0')\n",
      "targets tensor(0.6225, device='cuda:0') tensor(0.5072, device='cuda:0')\n",
      "outputs tensor(0.4913, device='cuda:0') tensor(0., device='cuda:0')\n",
      "targets tensor(0.2550, device='cuda:0') tensor(0.4537, device='cuda:0')\n",
      "outputs tensor(0.4913, device='cuda:0') tensor(0., device='cuda:0')\n",
      "targets tensor(0.7450, device='cuda:0') tensor(0.4537, device='cuda:0')\n",
      "outputs tensor(0.4913, device='cuda:0') tensor(0., device='cuda:0')\n",
      "targets tensor(0.6225, device='cuda:0') tensor(0.5072, device='cuda:0')\n",
      "outputs tensor(0.4913, device='cuda:0') tensor(0., device='cuda:0')\n",
      "targets tensor(0.6225, device='cuda:0') tensor(0.5072, device='cuda:0')\n",
      "outputs tensor(0.4913, device='cuda:0') tensor(0., device='cuda:0')\n",
      "targets tensor(0.6225, device='cuda:0') tensor(0.5072, device='cuda:0')\n",
      "outputs tensor(0.4913, device='cuda:0') tensor(0., device='cuda:0')\n",
      "targets tensor(0.2550, device='cuda:0') tensor(0.4537, device='cuda:0')\n",
      "outputs tensor(0.4913, device='cuda:0') tensor(0., device='cuda:0')\n",
      "targets tensor(0.4020, device='cuda:0') tensor(0.5368, device='cuda:0')\n",
      "Valid Step 15/15, valid_loss: 0.7142\n",
      "[Epoch Train: 1] loss: 0.8743, time: 52.00 s            \n",
      "[Epoch Valid: 1] loss: 0.7142, auc: 0.5000, time: 7.00 s\n",
      "EPOCH: 2\n"
     ]
    },
    {
     "data": {
      "application/vnd.jupyter.widget-view+json": {
       "model_id": "53b406c503754fddbdff676c866c9d7a",
       "version_major": 2,
       "version_minor": 0
      },
      "text/plain": [
       "HBox(children=(FloatProgress(value=0.0, max=59.0), HTML(value='')))"
      ]
     },
     "metadata": {},
     "output_type": "display_data"
    },
    {
     "name": "stdout",
     "output_type": "stream",
     "text": [
      "Train Step 59/59, train_loss: 0.7382\n"
     ]
    },
    {
     "data": {
      "application/vnd.jupyter.widget-view+json": {
       "model_id": "14edbad7edf844bfaa866b58bdc82a19",
       "version_major": 2,
       "version_minor": 0
      },
      "text/plain": [
       "HBox(children=(FloatProgress(value=0.0, max=15.0), HTML(value='')))"
      ]
     },
     "metadata": {},
     "output_type": "display_data"
    },
    {
     "name": "stdout",
     "output_type": "stream",
     "text": [
      "outputs tensor(0.5252, device='cuda:0') tensor(0., device='cuda:0')\n",
      "targets tensor(0.7450, device='cuda:0') tensor(0.4537, device='cuda:0')\n",
      "outputs tensor(0.5252, device='cuda:0') tensor(0., device='cuda:0')\n",
      "targets tensor(0.2550, device='cuda:0') tensor(0.4537, device='cuda:0')\n",
      "outputs tensor(0.5252, device='cuda:0') tensor(0., device='cuda:0')\n",
      "targets tensor(0.2550, device='cuda:0') tensor(0.4537, device='cuda:0')\n",
      "outputs tensor(0.5252, device='cuda:0') tensor(0., device='cuda:0')\n",
      "targets tensor(0.6225, device='cuda:0') tensor(0.5072, device='cuda:0')\n",
      "outputs tensor(0.5252, device='cuda:0') tensor(0., device='cuda:0')\n",
      "targets tensor(0.7450, device='cuda:0') tensor(0.4537, device='cuda:0')\n",
      "outputs tensor(0.5252, device='cuda:0') tensor(0., device='cuda:0')\n",
      "targets tensor(0.5000, device='cuda:0') tensor(0.5238, device='cuda:0')\n",
      "outputs tensor(0.5252, device='cuda:0') tensor(0., device='cuda:0')\n",
      "targets tensor(0.5000, device='cuda:0') tensor(0.5238, device='cuda:0')\n",
      "outputs tensor(0.5252, device='cuda:0') tensor(0., device='cuda:0')\n",
      "targets tensor(0.6225, device='cuda:0') tensor(0.5072, device='cuda:0')\n",
      "outputs tensor(0.5252, device='cuda:0') tensor(0., device='cuda:0')\n",
      "targets tensor(0.2550, device='cuda:0') tensor(0.4537, device='cuda:0')\n",
      "outputs tensor(0.5252, device='cuda:0') tensor(0., device='cuda:0')\n",
      "targets tensor(0.7450, device='cuda:0') tensor(0.4537, device='cuda:0')\n",
      "outputs tensor(0.5252, device='cuda:0') tensor(0., device='cuda:0')\n",
      "targets tensor(0.6225, device='cuda:0') tensor(0.5072, device='cuda:0')\n",
      "outputs tensor(0.5252, device='cuda:0') tensor(0., device='cuda:0')\n",
      "targets tensor(0.6225, device='cuda:0') tensor(0.5072, device='cuda:0')\n",
      "outputs tensor(0.5252, device='cuda:0') tensor(0., device='cuda:0')\n",
      "targets tensor(0.6225, device='cuda:0') tensor(0.5072, device='cuda:0')\n",
      "outputs tensor(0.5252, device='cuda:0') tensor(0., device='cuda:0')\n",
      "targets tensor(0.2550, device='cuda:0') tensor(0.4537, device='cuda:0')\n",
      "outputs tensor(0.5252, device='cuda:0') tensor(0., device='cuda:0')\n",
      "targets tensor(0.4020, device='cuda:0') tensor(0.5368, device='cuda:0')\n",
      "Valid Step 15/15, valid_loss: 0.7178\n",
      "[Epoch Train: 2] loss: 0.7382, time: 52.00 s            \n",
      "[Epoch Valid: 2] loss: 0.7178, auc: 0.5000, time: 7.00 s\n",
      "EPOCH: 3\n"
     ]
    },
    {
     "data": {
      "application/vnd.jupyter.widget-view+json": {
       "model_id": "29e88b8d29f049cc8ebcdf6169f176d3",
       "version_major": 2,
       "version_minor": 0
      },
      "text/plain": [
       "HBox(children=(FloatProgress(value=0.0, max=59.0), HTML(value='')))"
      ]
     },
     "metadata": {},
     "output_type": "display_data"
    },
    {
     "name": "stdout",
     "output_type": "stream",
     "text": [
      "Train Step 59/59, train_loss: 0.7070\n"
     ]
    },
    {
     "data": {
      "application/vnd.jupyter.widget-view+json": {
       "model_id": "1b94891c293b4ea791898d5ca30cdf6f",
       "version_major": 2,
       "version_minor": 0
      },
      "text/plain": [
       "HBox(children=(FloatProgress(value=0.0, max=15.0), HTML(value='')))"
      ]
     },
     "metadata": {},
     "output_type": "display_data"
    },
    {
     "name": "stdout",
     "output_type": "stream",
     "text": [
      "outputs tensor(0.4991, device='cuda:0') tensor(0., device='cuda:0')\n",
      "targets tensor(0.7450, device='cuda:0') tensor(0.4537, device='cuda:0')\n",
      "outputs tensor(0.4991, device='cuda:0') tensor(0., device='cuda:0')\n",
      "targets tensor(0.2550, device='cuda:0') tensor(0.4537, device='cuda:0')\n",
      "outputs tensor(0.4991, device='cuda:0') tensor(0., device='cuda:0')\n",
      "targets tensor(0.2550, device='cuda:0') tensor(0.4537, device='cuda:0')\n",
      "outputs tensor(0.4991, device='cuda:0') tensor(0., device='cuda:0')\n",
      "targets tensor(0.6225, device='cuda:0') tensor(0.5072, device='cuda:0')\n",
      "outputs tensor(0.4991, device='cuda:0') tensor(0., device='cuda:0')\n",
      "targets tensor(0.7450, device='cuda:0') tensor(0.4537, device='cuda:0')\n",
      "outputs tensor(0.4991, device='cuda:0') tensor(0., device='cuda:0')\n",
      "targets tensor(0.5000, device='cuda:0') tensor(0.5238, device='cuda:0')\n",
      "outputs tensor(0.4991, device='cuda:0') tensor(0., device='cuda:0')\n",
      "targets tensor(0.5000, device='cuda:0') tensor(0.5238, device='cuda:0')\n",
      "outputs tensor(0.4991, device='cuda:0') tensor(0., device='cuda:0')\n",
      "targets tensor(0.6225, device='cuda:0') tensor(0.5072, device='cuda:0')\n",
      "outputs tensor(0.4991, device='cuda:0') tensor(0., device='cuda:0')\n",
      "targets tensor(0.2550, device='cuda:0') tensor(0.4537, device='cuda:0')\n",
      "outputs tensor(0.4991, device='cuda:0') tensor(0., device='cuda:0')\n",
      "targets tensor(0.7450, device='cuda:0') tensor(0.4537, device='cuda:0')\n",
      "outputs tensor(0.4991, device='cuda:0') tensor(0., device='cuda:0')\n",
      "targets tensor(0.6225, device='cuda:0') tensor(0.5072, device='cuda:0')\n",
      "outputs tensor(0.4991, device='cuda:0') tensor(0., device='cuda:0')\n",
      "targets tensor(0.6225, device='cuda:0') tensor(0.5072, device='cuda:0')\n",
      "outputs tensor(0.4991, device='cuda:0') tensor(0., device='cuda:0')\n",
      "targets tensor(0.6225, device='cuda:0') tensor(0.5072, device='cuda:0')\n",
      "outputs tensor(0.4991, device='cuda:0') tensor(0., device='cuda:0')\n",
      "targets tensor(0.2550, device='cuda:0') tensor(0.4537, device='cuda:0')\n",
      "outputs tensor(0.4991, device='cuda:0') tensor(0., device='cuda:0')\n",
      "targets tensor(0.4020, device='cuda:0') tensor(0.5368, device='cuda:0')\n",
      "Valid Step 15/15, valid_loss: 0.7150\n",
      "[Epoch Train: 3] loss: 0.7070, time: 52.00 s            \n",
      "[Epoch Valid: 3] loss: 0.7150, auc: 0.5000, time: 7.00 s\n",
      "EPOCH: 4\n"
     ]
    },
    {
     "data": {
      "application/vnd.jupyter.widget-view+json": {
       "model_id": "3872cbc259ab439ca89bed4ff1a10d77",
       "version_major": 2,
       "version_minor": 0
      },
      "text/plain": [
       "HBox(children=(FloatProgress(value=0.0, max=59.0), HTML(value='')))"
      ]
     },
     "metadata": {},
     "output_type": "display_data"
    },
    {
     "name": "stdout",
     "output_type": "stream",
     "text": [
      "Train Step 59/59, train_loss: 0.7039\n"
     ]
    },
    {
     "data": {
      "application/vnd.jupyter.widget-view+json": {
       "model_id": "14025ead0d21474480a0b72f75a0c629",
       "version_major": 2,
       "version_minor": 0
      },
      "text/plain": [
       "HBox(children=(FloatProgress(value=0.0, max=15.0), HTML(value='')))"
      ]
     },
     "metadata": {},
     "output_type": "display_data"
    },
    {
     "name": "stdout",
     "output_type": "stream",
     "text": [
      "outputs tensor(0.4774, device='cuda:0') tensor(9.5248e-08, device='cuda:0')\n",
      "targets tensor(0.7450, device='cuda:0') tensor(0.4537, device='cuda:0')\n",
      "outputs tensor(0.4774, device='cuda:0') tensor(1.1320e-07, device='cuda:0')\n",
      "targets tensor(0.2550, device='cuda:0') tensor(0.4537, device='cuda:0')\n",
      "outputs tensor(0.4774, device='cuda:0') tensor(9.3228e-08, device='cuda:0')\n",
      "targets tensor(0.2550, device='cuda:0') tensor(0.4537, device='cuda:0')\n",
      "outputs tensor(0.4774, device='cuda:0') tensor(1.3494e-07, device='cuda:0')\n",
      "targets tensor(0.6225, device='cuda:0') tensor(0.5072, device='cuda:0')\n",
      "outputs tensor(0.4774, device='cuda:0') tensor(8.2005e-08, device='cuda:0')\n",
      "targets tensor(0.7450, device='cuda:0') tensor(0.4537, device='cuda:0')\n",
      "outputs tensor(0.4774, device='cuda:0') tensor(1.1679e-07, device='cuda:0')\n",
      "targets tensor(0.5000, device='cuda:0') tensor(0.5238, device='cuda:0')\n",
      "outputs tensor(0.4774, device='cuda:0') tensor(7.9251e-08, device='cuda:0')\n",
      "targets tensor(0.5000, device='cuda:0') tensor(0.5238, device='cuda:0')\n",
      "outputs tensor(0.4774, device='cuda:0') tensor(7.8041e-08, device='cuda:0')\n",
      "targets tensor(0.6225, device='cuda:0') tensor(0.5072, device='cuda:0')\n",
      "outputs tensor(0.4774, device='cuda:0') tensor(8.2005e-08, device='cuda:0')\n",
      "targets tensor(0.2550, device='cuda:0') tensor(0.4537, device='cuda:0')\n",
      "outputs tensor(0.4774, device='cuda:0') tensor(1.2132e-07, device='cuda:0')\n",
      "targets tensor(0.7450, device='cuda:0') tensor(0.4537, device='cuda:0')\n",
      "outputs tensor(0.4774, device='cuda:0') tensor(1.3517e-07, device='cuda:0')\n",
      "targets tensor(0.6225, device='cuda:0') tensor(0.5072, device='cuda:0')\n",
      "outputs tensor(0.4774, device='cuda:0') tensor(9.8843e-08, device='cuda:0')\n",
      "targets tensor(0.6225, device='cuda:0') tensor(0.5072, device='cuda:0')\n",
      "outputs tensor(0.4774, device='cuda:0') tensor(1.2132e-07, device='cuda:0')\n",
      "targets tensor(0.6225, device='cuda:0') tensor(0.5072, device='cuda:0')\n",
      "outputs tensor(0.4774, device='cuda:0') tensor(1.4944e-07, device='cuda:0')\n",
      "targets tensor(0.2550, device='cuda:0') tensor(0.4537, device='cuda:0')\n",
      "outputs tensor(0.4774, device='cuda:0') tensor(1.2139e-07, device='cuda:0')\n",
      "targets tensor(0.4020, device='cuda:0') tensor(0.5368, device='cuda:0')\n",
      "Valid Step 15/15, valid_loss: 0.7128\n",
      "[Epoch Train: 4] loss: 0.7039, time: 52.00 s            \n",
      "[Epoch Valid: 4] loss: 0.7128, auc: 0.6530, time: 7.00 s\n",
      "EPOCH: 5\n"
     ]
    },
    {
     "data": {
      "application/vnd.jupyter.widget-view+json": {
       "model_id": "d4c5215429db42e49cc33f4137269059",
       "version_major": 2,
       "version_minor": 0
      },
      "text/plain": [
       "HBox(children=(FloatProgress(value=0.0, max=59.0), HTML(value='')))"
      ]
     },
     "metadata": {},
     "output_type": "display_data"
    },
    {
     "name": "stdout",
     "output_type": "stream",
     "text": [
      "Train Step 59/59, train_loss: 0.7254\n"
     ]
    },
    {
     "data": {
      "application/vnd.jupyter.widget-view+json": {
       "model_id": "f8f9061abc2c4eaea9ddc7085ceb3b4b",
       "version_major": 2,
       "version_minor": 0
      },
      "text/plain": [
       "HBox(children=(FloatProgress(value=0.0, max=15.0), HTML(value='')))"
      ]
     },
     "metadata": {},
     "output_type": "display_data"
    },
    {
     "name": "stdout",
     "output_type": "stream",
     "text": [
      "outputs tensor(0.4783, device='cuda:0') tensor(1.1118e-06, device='cuda:0')\n",
      "targets tensor(0.7450, device='cuda:0') tensor(0.4537, device='cuda:0')\n",
      "outputs tensor(0.4783, device='cuda:0') tensor(1.1536e-06, device='cuda:0')\n",
      "targets tensor(0.2550, device='cuda:0') tensor(0.4537, device='cuda:0')\n",
      "outputs tensor(0.4783, device='cuda:0') tensor(9.1118e-07, device='cuda:0')\n",
      "targets tensor(0.2550, device='cuda:0') tensor(0.4537, device='cuda:0')\n",
      "outputs tensor(0.4783, device='cuda:0') tensor(1.8058e-06, device='cuda:0')\n",
      "targets tensor(0.6225, device='cuda:0') tensor(0.5072, device='cuda:0')\n",
      "outputs tensor(0.4783, device='cuda:0') tensor(1.0448e-06, device='cuda:0')\n",
      "targets tensor(0.7450, device='cuda:0') tensor(0.4537, device='cuda:0')\n",
      "outputs tensor(0.4783, device='cuda:0') tensor(1.2957e-06, device='cuda:0')\n",
      "targets tensor(0.5000, device='cuda:0') tensor(0.5238, device='cuda:0')\n",
      "outputs tensor(0.4783, device='cuda:0') tensor(1.2068e-06, device='cuda:0')\n",
      "targets tensor(0.5000, device='cuda:0') tensor(0.5238, device='cuda:0')\n",
      "outputs tensor(0.4783, device='cuda:0') tensor(9.2860e-07, device='cuda:0')\n",
      "targets tensor(0.6225, device='cuda:0') tensor(0.5072, device='cuda:0')\n",
      "outputs tensor(0.4783, device='cuda:0') tensor(1.1382e-06, device='cuda:0')\n",
      "targets tensor(0.2550, device='cuda:0') tensor(0.4537, device='cuda:0')\n",
      "outputs tensor(0.4783, device='cuda:0') tensor(1.2834e-06, device='cuda:0')\n",
      "targets tensor(0.7450, device='cuda:0') tensor(0.4537, device='cuda:0')\n",
      "outputs tensor(0.4783, device='cuda:0') tensor(1.6157e-06, device='cuda:0')\n",
      "targets tensor(0.6225, device='cuda:0') tensor(0.5072, device='cuda:0')\n",
      "outputs tensor(0.4783, device='cuda:0') tensor(8.4200e-07, device='cuda:0')\n",
      "targets tensor(0.6225, device='cuda:0') tensor(0.5072, device='cuda:0')\n",
      "outputs tensor(0.4783, device='cuda:0') tensor(9.5941e-07, device='cuda:0')\n",
      "targets tensor(0.6225, device='cuda:0') tensor(0.5072, device='cuda:0')\n",
      "outputs tensor(0.4783, device='cuda:0') tensor(1.7108e-06, device='cuda:0')\n",
      "targets tensor(0.2550, device='cuda:0') tensor(0.4537, device='cuda:0')\n",
      "outputs tensor(0.4783, device='cuda:0') tensor(1.2663e-06, device='cuda:0')\n",
      "targets tensor(0.4020, device='cuda:0') tensor(0.5368, device='cuda:0')\n",
      "Valid Step 15/15, valid_loss: 0.7129\n",
      "[Epoch Train: 5] loss: 0.7254, time: 52.00 s            \n",
      "[Epoch Valid: 5] loss: 0.7129, auc: 0.5689, time: 7.00 s\n",
      "auc improved from inf to 0.7129. Saved model to '/home/RSNA_MICCAI_Brain_Tumor/models/T2w-e5-loss0.713-auc0.569.pth'\n",
      "EPOCH: 6\n"
     ]
    },
    {
     "data": {
      "application/vnd.jupyter.widget-view+json": {
       "model_id": "63fbd85d703c42d2aedb9cdec3955589",
       "version_major": 2,
       "version_minor": 0
      },
      "text/plain": [
       "HBox(children=(FloatProgress(value=0.0, max=59.0), HTML(value='')))"
      ]
     },
     "metadata": {},
     "output_type": "display_data"
    },
    {
     "name": "stdout",
     "output_type": "stream",
     "text": [
      "Train Step 59/59, train_loss: 0.7040\n"
     ]
    },
    {
     "data": {
      "application/vnd.jupyter.widget-view+json": {
       "model_id": "d2ebcab2026a4e80bba5fdc206c8123d",
       "version_major": 2,
       "version_minor": 0
      },
      "text/plain": [
       "HBox(children=(FloatProgress(value=0.0, max=15.0), HTML(value='')))"
      ]
     },
     "metadata": {},
     "output_type": "display_data"
    },
    {
     "name": "stdout",
     "output_type": "stream",
     "text": [
      "outputs tensor(0.4836, device='cuda:0') tensor(2.4797e-06, device='cuda:0')\n",
      "targets tensor(0.7450, device='cuda:0') tensor(0.4537, device='cuda:0')\n",
      "outputs tensor(0.4836, device='cuda:0') tensor(2.4110e-06, device='cuda:0')\n",
      "targets tensor(0.2550, device='cuda:0') tensor(0.4537, device='cuda:0')\n",
      "outputs tensor(0.4836, device='cuda:0') tensor(2.3788e-06, device='cuda:0')\n",
      "targets tensor(0.2550, device='cuda:0') tensor(0.4537, device='cuda:0')\n",
      "outputs tensor(0.4836, device='cuda:0') tensor(3.1388e-06, device='cuda:0')\n",
      "targets tensor(0.6225, device='cuda:0') tensor(0.5072, device='cuda:0')\n",
      "outputs tensor(0.4836, device='cuda:0') tensor(2.9317e-06, device='cuda:0')\n",
      "targets tensor(0.7450, device='cuda:0') tensor(0.4537, device='cuda:0')\n",
      "outputs tensor(0.4836, device='cuda:0') tensor(3.2434e-06, device='cuda:0')\n",
      "targets tensor(0.5000, device='cuda:0') tensor(0.5238, device='cuda:0')\n",
      "outputs tensor(0.4836, device='cuda:0') tensor(2.6482e-06, device='cuda:0')\n",
      "targets tensor(0.5000, device='cuda:0') tensor(0.5238, device='cuda:0')\n",
      "outputs tensor(0.4836, device='cuda:0') tensor(2.1934e-06, device='cuda:0')\n",
      "targets tensor(0.6225, device='cuda:0') tensor(0.5072, device='cuda:0')\n",
      "outputs tensor(0.4836, device='cuda:0') tensor(2.3709e-06, device='cuda:0')\n",
      "targets tensor(0.2550, device='cuda:0') tensor(0.4537, device='cuda:0')\n",
      "outputs tensor(0.4836, device='cuda:0') tensor(2.8732e-06, device='cuda:0')\n",
      "targets tensor(0.7450, device='cuda:0') tensor(0.4537, device='cuda:0')\n",
      "outputs tensor(0.4836, device='cuda:0') tensor(3.7565e-06, device='cuda:0')\n",
      "targets tensor(0.6225, device='cuda:0') tensor(0.5072, device='cuda:0')\n",
      "outputs tensor(0.4836, device='cuda:0') tensor(1.9148e-06, device='cuda:0')\n",
      "targets tensor(0.6225, device='cuda:0') tensor(0.5072, device='cuda:0')\n",
      "outputs tensor(0.4836, device='cuda:0') tensor(2.4997e-06, device='cuda:0')\n",
      "targets tensor(0.6225, device='cuda:0') tensor(0.5072, device='cuda:0')\n",
      "outputs tensor(0.4836, device='cuda:0') tensor(3.8950e-06, device='cuda:0')\n",
      "targets tensor(0.2550, device='cuda:0') tensor(0.4537, device='cuda:0')\n",
      "outputs tensor(0.4836, device='cuda:0') tensor(3.9360e-06, device='cuda:0')\n",
      "targets tensor(0.4020, device='cuda:0') tensor(0.5368, device='cuda:0')\n",
      "Valid Step 15/15, valid_loss: 0.7134\n",
      "[Epoch Train: 6] loss: 0.7040, time: 52.00 s            \n",
      "[Epoch Valid: 6] loss: 0.7134, auc: 0.6439, time: 7.00 s\n",
      "EPOCH: 7\n"
     ]
    },
    {
     "data": {
      "application/vnd.jupyter.widget-view+json": {
       "model_id": "e2666c7d1e454db4b39faad754cba383",
       "version_major": 2,
       "version_minor": 0
      },
      "text/plain": [
       "HBox(children=(FloatProgress(value=0.0, max=59.0), HTML(value='')))"
      ]
     },
     "metadata": {},
     "output_type": "display_data"
    },
    {
     "name": "stdout",
     "output_type": "stream",
     "text": [
      "Train Step 59/59, train_loss: 0.7073\n"
     ]
    },
    {
     "data": {
      "application/vnd.jupyter.widget-view+json": {
       "model_id": "e21f4da182114449a2640d803aa5e172",
       "version_major": 2,
       "version_minor": 0
      },
      "text/plain": [
       "HBox(children=(FloatProgress(value=0.0, max=15.0), HTML(value='')))"
      ]
     },
     "metadata": {},
     "output_type": "display_data"
    },
    {
     "name": "stdout",
     "output_type": "stream",
     "text": [
      "outputs tensor(0.5982, device='cuda:0') tensor(0.0004, device='cuda:0')\n",
      "targets tensor(0.7450, device='cuda:0') tensor(0.4537, device='cuda:0')\n",
      "outputs tensor(0.5983, device='cuda:0') tensor(0.0004, device='cuda:0')\n",
      "targets tensor(0.2550, device='cuda:0') tensor(0.4537, device='cuda:0')\n",
      "outputs tensor(0.5982, device='cuda:0') tensor(0.0006, device='cuda:0')\n",
      "targets tensor(0.2550, device='cuda:0') tensor(0.4537, device='cuda:0')\n",
      "outputs tensor(0.5981, device='cuda:0') tensor(0.0006, device='cuda:0')\n",
      "targets tensor(0.6225, device='cuda:0') tensor(0.5072, device='cuda:0')\n",
      "outputs tensor(0.5980, device='cuda:0') tensor(0.0007, device='cuda:0')\n",
      "targets tensor(0.7450, device='cuda:0') tensor(0.4537, device='cuda:0')\n",
      "outputs tensor(0.5980, device='cuda:0') tensor(0.0007, device='cuda:0')\n",
      "targets tensor(0.5000, device='cuda:0') tensor(0.5238, device='cuda:0')\n",
      "outputs tensor(0.5984, device='cuda:0') tensor(0.0008, device='cuda:0')\n",
      "targets tensor(0.5000, device='cuda:0') tensor(0.5238, device='cuda:0')\n",
      "outputs tensor(0.5979, device='cuda:0') tensor(0.0006, device='cuda:0')\n",
      "targets tensor(0.6225, device='cuda:0') tensor(0.5072, device='cuda:0')\n",
      "outputs tensor(0.5981, device='cuda:0') tensor(0.0004, device='cuda:0')\n",
      "targets tensor(0.2550, device='cuda:0') tensor(0.4537, device='cuda:0')\n",
      "outputs tensor(0.5982, device='cuda:0') tensor(0.0005, device='cuda:0')\n",
      "targets tensor(0.7450, device='cuda:0') tensor(0.4537, device='cuda:0')\n",
      "outputs tensor(0.5982, device='cuda:0') tensor(0.0006, device='cuda:0')\n",
      "targets tensor(0.6225, device='cuda:0') tensor(0.5072, device='cuda:0')\n",
      "outputs tensor(0.5984, device='cuda:0') tensor(0.0003, device='cuda:0')\n",
      "targets tensor(0.6225, device='cuda:0') tensor(0.5072, device='cuda:0')\n",
      "outputs tensor(0.5984, device='cuda:0') tensor(0.0002, device='cuda:0')\n",
      "targets tensor(0.6225, device='cuda:0') tensor(0.5072, device='cuda:0')\n",
      "outputs tensor(0.5980, device='cuda:0') tensor(0.0007, device='cuda:0')\n",
      "targets tensor(0.2550, device='cuda:0') tensor(0.4537, device='cuda:0')\n",
      "outputs tensor(0.5976, device='cuda:0') tensor(0.0009, device='cuda:0')\n",
      "targets tensor(0.4020, device='cuda:0') tensor(0.5368, device='cuda:0')\n",
      "Valid Step 15/15, valid_loss: 0.7265\n",
      "[Epoch Train: 7] loss: 0.7073, time: 52.00 s            \n",
      "[Epoch Valid: 7] loss: 0.7265, auc: 0.4628, time: 7.00 s\n",
      "EPOCH: 8\n"
     ]
    },
    {
     "data": {
      "application/vnd.jupyter.widget-view+json": {
       "model_id": "2c70a2a9c30a489a8ab8c6f730ad219d",
       "version_major": 2,
       "version_minor": 0
      },
      "text/plain": [
       "HBox(children=(FloatProgress(value=0.0, max=59.0), HTML(value='')))"
      ]
     },
     "metadata": {},
     "output_type": "display_data"
    },
    {
     "name": "stdout",
     "output_type": "stream",
     "text": [
      "Train Step 59/59, train_loss: 0.7033\n"
     ]
    },
    {
     "data": {
      "application/vnd.jupyter.widget-view+json": {
       "model_id": "d17965706bba426196a9194f2d4819bb",
       "version_major": 2,
       "version_minor": 0
      },
      "text/plain": [
       "HBox(children=(FloatProgress(value=0.0, max=15.0), HTML(value='')))"
      ]
     },
     "metadata": {},
     "output_type": "display_data"
    },
    {
     "name": "stdout",
     "output_type": "stream",
     "text": [
      "outputs tensor(0.5748, device='cuda:0') tensor(0.0014, device='cuda:0')\n",
      "targets tensor(0.7450, device='cuda:0') tensor(0.4537, device='cuda:0')\n",
      "outputs tensor(0.5730, device='cuda:0') tensor(0.0023, device='cuda:0')\n",
      "targets tensor(0.2550, device='cuda:0') tensor(0.4537, device='cuda:0')\n",
      "outputs tensor(0.5739, device='cuda:0') tensor(0.0011, device='cuda:0')\n",
      "targets tensor(0.2550, device='cuda:0') tensor(0.4537, device='cuda:0')\n",
      "outputs tensor(0.5737, device='cuda:0') tensor(0.0022, device='cuda:0')\n",
      "targets tensor(0.6225, device='cuda:0') tensor(0.5072, device='cuda:0')\n",
      "outputs tensor(0.5742, device='cuda:0') tensor(0.0013, device='cuda:0')\n",
      "targets tensor(0.7450, device='cuda:0') tensor(0.4537, device='cuda:0')\n",
      "outputs tensor(0.5736, device='cuda:0') tensor(0.0014, device='cuda:0')\n",
      "targets tensor(0.5000, device='cuda:0') tensor(0.5238, device='cuda:0')\n",
      "outputs tensor(0.5721, device='cuda:0') tensor(0.0021, device='cuda:0')\n",
      "targets tensor(0.5000, device='cuda:0') tensor(0.5238, device='cuda:0')\n",
      "outputs tensor(0.5734, device='cuda:0') tensor(0.0022, device='cuda:0')\n",
      "targets tensor(0.6225, device='cuda:0') tensor(0.5072, device='cuda:0')\n",
      "outputs tensor(0.5732, device='cuda:0') tensor(0.0025, device='cuda:0')\n",
      "targets tensor(0.2550, device='cuda:0') tensor(0.4537, device='cuda:0')\n",
      "outputs tensor(0.5737, device='cuda:0') tensor(0.0013, device='cuda:0')\n",
      "targets tensor(0.7450, device='cuda:0') tensor(0.4537, device='cuda:0')\n",
      "outputs tensor(0.5727, device='cuda:0') tensor(0.0022, device='cuda:0')\n",
      "targets tensor(0.6225, device='cuda:0') tensor(0.5072, device='cuda:0')\n",
      "outputs tensor(0.5740, device='cuda:0') tensor(0.0013, device='cuda:0')\n",
      "targets tensor(0.6225, device='cuda:0') tensor(0.5072, device='cuda:0')\n",
      "outputs tensor(0.5727, device='cuda:0') tensor(0.0022, device='cuda:0')\n",
      "targets tensor(0.6225, device='cuda:0') tensor(0.5072, device='cuda:0')\n",
      "outputs tensor(0.5743, device='cuda:0') tensor(0.0018, device='cuda:0')\n",
      "targets tensor(0.2550, device='cuda:0') tensor(0.4537, device='cuda:0')\n",
      "outputs tensor(0.5746, device='cuda:0') tensor(0.0017, device='cuda:0')\n",
      "targets tensor(0.4020, device='cuda:0') tensor(0.5368, device='cuda:0')\n",
      "Valid Step 15/15, valid_loss: 0.7234\n",
      "[Epoch Train: 8] loss: 0.7033, time: 51.00 s            \n",
      "[Epoch Valid: 8] loss: 0.7234, auc: 0.4997, time: 7.00 s\n",
      "EPOCH: 9\n"
     ]
    },
    {
     "data": {
      "application/vnd.jupyter.widget-view+json": {
       "model_id": "170a3758ab8d4caf95d8861da435441b",
       "version_major": 2,
       "version_minor": 0
      },
      "text/plain": [
       "HBox(children=(FloatProgress(value=0.0, max=59.0), HTML(value='')))"
      ]
     },
     "metadata": {},
     "output_type": "display_data"
    },
    {
     "name": "stdout",
     "output_type": "stream",
     "text": [
      "Train Step 59/59, train_loss: 0.6980\n"
     ]
    },
    {
     "data": {
      "application/vnd.jupyter.widget-view+json": {
       "model_id": "0ae42c480f4a478f9dcbabaf13b7ac08",
       "version_major": 2,
       "version_minor": 0
      },
      "text/plain": [
       "HBox(children=(FloatProgress(value=0.0, max=15.0), HTML(value='')))"
      ]
     },
     "metadata": {},
     "output_type": "display_data"
    },
    {
     "name": "stdout",
     "output_type": "stream",
     "text": [
      "outputs tensor(0.6718, device='cuda:0') tensor(0.0892, device='cuda:0')\n",
      "targets tensor(0.7450, device='cuda:0') tensor(0.4537, device='cuda:0')\n",
      "outputs tensor(0.6577, device='cuda:0') tensor(0.0821, device='cuda:0')\n",
      "targets tensor(0.2550, device='cuda:0') tensor(0.4537, device='cuda:0')\n",
      "outputs tensor(0.6253, device='cuda:0') tensor(0.0884, device='cuda:0')\n",
      "targets tensor(0.2550, device='cuda:0') tensor(0.4537, device='cuda:0')\n",
      "outputs tensor(0.6378, device='cuda:0') tensor(0.0806, device='cuda:0')\n",
      "targets tensor(0.6225, device='cuda:0') tensor(0.5072, device='cuda:0')\n",
      "outputs tensor(0.6371, device='cuda:0') tensor(0.0926, device='cuda:0')\n",
      "targets tensor(0.7450, device='cuda:0') tensor(0.4537, device='cuda:0')\n",
      "outputs tensor(0.6328, device='cuda:0') tensor(0.0795, device='cuda:0')\n",
      "targets tensor(0.5000, device='cuda:0') tensor(0.5238, device='cuda:0')\n",
      "outputs tensor(0.6257, device='cuda:0') tensor(0.0726, device='cuda:0')\n",
      "targets tensor(0.5000, device='cuda:0') tensor(0.5238, device='cuda:0')\n",
      "outputs tensor(0.6447, device='cuda:0') tensor(0.0884, device='cuda:0')\n",
      "targets tensor(0.6225, device='cuda:0') tensor(0.5072, device='cuda:0')\n",
      "outputs tensor(0.6720, device='cuda:0') tensor(0.0575, device='cuda:0')\n",
      "targets tensor(0.2550, device='cuda:0') tensor(0.4537, device='cuda:0')\n",
      "outputs tensor(0.6456, device='cuda:0') tensor(0.0910, device='cuda:0')\n",
      "targets tensor(0.7450, device='cuda:0') tensor(0.4537, device='cuda:0')\n",
      "outputs tensor(0.6580, device='cuda:0') tensor(0.0818, device='cuda:0')\n",
      "targets tensor(0.6225, device='cuda:0') tensor(0.5072, device='cuda:0')\n",
      "outputs tensor(0.6810, device='cuda:0') tensor(0.0898, device='cuda:0')\n",
      "targets tensor(0.6225, device='cuda:0') tensor(0.5072, device='cuda:0')\n",
      "outputs tensor(0.6646, device='cuda:0') tensor(0.0697, device='cuda:0')\n",
      "targets tensor(0.6225, device='cuda:0') tensor(0.5072, device='cuda:0')\n",
      "outputs tensor(0.6706, device='cuda:0') tensor(0.1006, device='cuda:0')\n",
      "targets tensor(0.2550, device='cuda:0') tensor(0.4537, device='cuda:0')\n",
      "outputs tensor(0.5802, device='cuda:0') tensor(0.0756, device='cuda:0')\n",
      "targets tensor(0.4020, device='cuda:0') tensor(0.5368, device='cuda:0')\n",
      "Valid Step 15/15, valid_loss: 0.7221\n",
      "[Epoch Train: 9] loss: 0.6980, time: 52.00 s            \n",
      "[Epoch Valid: 9] loss: 0.7221, auc: 0.6677, time: 7.00 s\n",
      "EPOCH: 10\n"
     ]
    },
    {
     "data": {
      "application/vnd.jupyter.widget-view+json": {
       "model_id": "0945125a077343d7ad757ba6565fa51c",
       "version_major": 2,
       "version_minor": 0
      },
      "text/plain": [
       "HBox(children=(FloatProgress(value=0.0, max=59.0), HTML(value='')))"
      ]
     },
     "metadata": {},
     "output_type": "display_data"
    },
    {
     "name": "stdout",
     "output_type": "stream",
     "text": [
      "Train Step 59/59, train_loss: 0.7803\n"
     ]
    },
    {
     "data": {
      "application/vnd.jupyter.widget-view+json": {
       "model_id": "7c1ca2b71cd348d7b5e1b87fb6cf273f",
       "version_major": 2,
       "version_minor": 0
      },
      "text/plain": [
       "HBox(children=(FloatProgress(value=0.0, max=15.0), HTML(value='')))"
      ]
     },
     "metadata": {},
     "output_type": "display_data"
    },
    {
     "name": "stdout",
     "output_type": "stream",
     "text": [
      "outputs tensor(0.8490, device='cuda:0') tensor(0.2349, device='cuda:0')\n",
      "targets tensor(0.7450, device='cuda:0') tensor(0.4537, device='cuda:0')\n",
      "outputs tensor(0.8045, device='cuda:0') tensor(0.2700, device='cuda:0')\n",
      "targets tensor(0.2550, device='cuda:0') tensor(0.4537, device='cuda:0')\n",
      "outputs tensor(0.8629, device='cuda:0') tensor(0.2465, device='cuda:0')\n",
      "targets tensor(0.2550, device='cuda:0') tensor(0.4537, device='cuda:0')\n",
      "outputs tensor(0.8038, device='cuda:0') tensor(0.2711, device='cuda:0')\n",
      "targets tensor(0.6225, device='cuda:0') tensor(0.5072, device='cuda:0')\n",
      "outputs tensor(0.7355, device='cuda:0') tensor(0.2816, device='cuda:0')\n",
      "targets tensor(0.7450, device='cuda:0') tensor(0.4537, device='cuda:0')\n",
      "outputs tensor(0.7472, device='cuda:0') tensor(0.2710, device='cuda:0')\n",
      "targets tensor(0.5000, device='cuda:0') tensor(0.5238, device='cuda:0')\n",
      "outputs tensor(0.6865, device='cuda:0') tensor(0.2622, device='cuda:0')\n",
      "targets tensor(0.5000, device='cuda:0') tensor(0.5238, device='cuda:0')\n",
      "outputs tensor(0.8070, device='cuda:0') tensor(0.2667, device='cuda:0')\n",
      "targets tensor(0.6225, device='cuda:0') tensor(0.5072, device='cuda:0')\n",
      "outputs tensor(0.8686, device='cuda:0') tensor(0.2435, device='cuda:0')\n",
      "targets tensor(0.2550, device='cuda:0') tensor(0.4537, device='cuda:0')\n",
      "outputs tensor(0.8030, device='cuda:0') tensor(0.2715, device='cuda:0')\n",
      "targets tensor(0.7450, device='cuda:0') tensor(0.4537, device='cuda:0')\n",
      "outputs tensor(0.8893, device='cuda:0') tensor(0.2075, device='cuda:0')\n",
      "targets tensor(0.6225, device='cuda:0') tensor(0.5072, device='cuda:0')\n",
      "outputs tensor(0.9329, device='cuda:0') tensor(0.1898, device='cuda:0')\n",
      "targets tensor(0.6225, device='cuda:0') tensor(0.5072, device='cuda:0')\n",
      "outputs tensor(0.9995, device='cuda:0') tensor(0.0012, device='cuda:0')\n",
      "targets tensor(0.6225, device='cuda:0') tensor(0.5072, device='cuda:0')\n",
      "outputs tensor(0.8313, device='cuda:0') tensor(0.2432, device='cuda:0')\n",
      "targets tensor(0.2550, device='cuda:0') tensor(0.4537, device='cuda:0')\n",
      "outputs tensor(0.6861, device='cuda:0') tensor(0.2865, device='cuda:0')\n",
      "targets tensor(0.4020, device='cuda:0') tensor(0.5368, device='cuda:0')\n",
      "Valid Step 15/15, valid_loss: 0.7499\n",
      "[Epoch Train: 10] loss: 0.7803, time: 52.00 s            \n",
      "[Epoch Valid: 10] loss: 0.7499, auc: 0.6174, time: 7.00 s\n",
      "EPOCH: 11\n"
     ]
    },
    {
     "data": {
      "application/vnd.jupyter.widget-view+json": {
       "model_id": "80c44b29d0634a34893cbd2263727f8b",
       "version_major": 2,
       "version_minor": 0
      },
      "text/plain": [
       "HBox(children=(FloatProgress(value=0.0, max=59.0), HTML(value='')))"
      ]
     },
     "metadata": {},
     "output_type": "display_data"
    },
    {
     "name": "stdout",
     "output_type": "stream",
     "text": [
      "Train Step 59/59, train_loss: 0.7129\n"
     ]
    },
    {
     "data": {
      "application/vnd.jupyter.widget-view+json": {
       "model_id": "6a865def743740ce9529f4e55f66ba71",
       "version_major": 2,
       "version_minor": 0
      },
      "text/plain": [
       "HBox(children=(FloatProgress(value=0.0, max=15.0), HTML(value='')))"
      ]
     },
     "metadata": {},
     "output_type": "display_data"
    },
    {
     "name": "stdout",
     "output_type": "stream",
     "text": [
      "outputs tensor(0.5724, device='cuda:0') tensor(0.1728, device='cuda:0')\n",
      "targets tensor(0.7450, device='cuda:0') tensor(0.4537, device='cuda:0')\n",
      "outputs tensor(0.6365, device='cuda:0') tensor(0.2246, device='cuda:0')\n",
      "targets tensor(0.2550, device='cuda:0') tensor(0.4537, device='cuda:0')\n",
      "outputs tensor(0.7024, device='cuda:0') tensor(0.2471, device='cuda:0')\n",
      "targets tensor(0.2550, device='cuda:0') tensor(0.4537, device='cuda:0')\n",
      "outputs tensor(0.5650, device='cuda:0') tensor(0.1543, device='cuda:0')\n",
      "targets tensor(0.6225, device='cuda:0') tensor(0.5072, device='cuda:0')\n",
      "outputs tensor(0.6329, device='cuda:0') tensor(0.2266, device='cuda:0')\n",
      "targets tensor(0.7450, device='cuda:0') tensor(0.4537, device='cuda:0')\n",
      "outputs tensor(0.6334, device='cuda:0') tensor(0.2262, device='cuda:0')\n",
      "targets tensor(0.5000, device='cuda:0') tensor(0.5238, device='cuda:0')\n",
      "outputs tensor(0.8166, device='cuda:0') tensor(0.2531, device='cuda:0')\n",
      "targets tensor(0.5000, device='cuda:0') tensor(0.5238, device='cuda:0')\n",
      "outputs tensor(0.5711, device='cuda:0') tensor(0.1733, device='cuda:0')\n",
      "targets tensor(0.6225, device='cuda:0') tensor(0.5072, device='cuda:0')\n",
      "outputs tensor(0.6700, device='cuda:0') tensor(0.2274, device='cuda:0')\n",
      "targets tensor(0.2550, device='cuda:0') tensor(0.4537, device='cuda:0')\n",
      "outputs tensor(0.5722, device='cuda:0') tensor(0.1729, device='cuda:0')\n",
      "targets tensor(0.7450, device='cuda:0') tensor(0.4537, device='cuda:0')\n",
      "outputs tensor(0.6938, device='cuda:0') tensor(0.2536, device='cuda:0')\n",
      "targets tensor(0.6225, device='cuda:0') tensor(0.5072, device='cuda:0')\n",
      "outputs tensor(0.6332, device='cuda:0') tensor(0.2264, device='cuda:0')\n",
      "targets tensor(0.6225, device='cuda:0') tensor(0.5072, device='cuda:0')\n",
      "outputs tensor(0.7553, device='cuda:0') tensor(0.2616, device='cuda:0')\n",
      "targets tensor(0.6225, device='cuda:0') tensor(0.5072, device='cuda:0')\n",
      "outputs tensor(0.5728, device='cuda:0') tensor(0.1726, device='cuda:0')\n",
      "targets tensor(0.2550, device='cuda:0') tensor(0.4537, device='cuda:0')\n",
      "outputs tensor(0.6094, device='cuda:0') tensor(0.2183, device='cuda:0')\n",
      "targets tensor(0.4020, device='cuda:0') tensor(0.5368, device='cuda:0')\n",
      "Valid Step 15/15, valid_loss: 0.7695\n",
      "[Epoch Train: 11] loss: 0.7129, time: 52.00 s            \n",
      "[Epoch Valid: 11] loss: 0.7695, auc: 0.3749, time: 7.00 s\n",
      "EPOCH: 12\n"
     ]
    },
    {
     "data": {
      "application/vnd.jupyter.widget-view+json": {
       "model_id": "f0f421a6743543e399f92c716c39e741",
       "version_major": 2,
       "version_minor": 0
      },
      "text/plain": [
       "HBox(children=(FloatProgress(value=0.0, max=59.0), HTML(value='')))"
      ]
     },
     "metadata": {},
     "output_type": "display_data"
    },
    {
     "name": "stdout",
     "output_type": "stream",
     "text": [
      "Train Step 59/59, train_loss: 0.7229\n"
     ]
    },
    {
     "data": {
      "application/vnd.jupyter.widget-view+json": {
       "model_id": "15ee050a315a4413b40f1910f405ecb8",
       "version_major": 2,
       "version_minor": 0
      },
      "text/plain": [
       "HBox(children=(FloatProgress(value=0.0, max=15.0), HTML(value='')))"
      ]
     },
     "metadata": {},
     "output_type": "display_data"
    },
    {
     "name": "stdout",
     "output_type": "stream",
     "text": [
      "outputs tensor(0.3877, device='cuda:0') tensor(0.2071, device='cuda:0')\n",
      "targets tensor(0.7450, device='cuda:0') tensor(0.4537, device='cuda:0')\n",
      "outputs tensor(0.3474, device='cuda:0') tensor(0.1801, device='cuda:0')\n",
      "targets tensor(0.2550, device='cuda:0') tensor(0.4537, device='cuda:0')\n",
      "outputs tensor(0.3133, device='cuda:0') tensor(0.1898, device='cuda:0')\n",
      "targets tensor(0.2550, device='cuda:0') tensor(0.4537, device='cuda:0')\n",
      "outputs tensor(0.3341, device='cuda:0') tensor(0.2136, device='cuda:0')\n",
      "targets tensor(0.6225, device='cuda:0') tensor(0.5072, device='cuda:0')\n",
      "outputs tensor(0.3590, device='cuda:0') tensor(0.1707, device='cuda:0')\n",
      "targets tensor(0.7450, device='cuda:0') tensor(0.4537, device='cuda:0')\n",
      "outputs tensor(0.3639, device='cuda:0') tensor(0.1836, device='cuda:0')\n",
      "targets tensor(0.5000, device='cuda:0') tensor(0.5238, device='cuda:0')\n",
      "outputs tensor(0.3872, device='cuda:0') tensor(0.1198, device='cuda:0')\n",
      "targets tensor(0.5000, device='cuda:0') tensor(0.5238, device='cuda:0')\n",
      "outputs tensor(0.3436, device='cuda:0') tensor(0.1646, device='cuda:0')\n",
      "targets tensor(0.6225, device='cuda:0') tensor(0.5072, device='cuda:0')\n",
      "outputs tensor(0.4281, device='cuda:0') tensor(0.1297, device='cuda:0')\n",
      "targets tensor(0.2550, device='cuda:0') tensor(0.4537, device='cuda:0')\n",
      "outputs tensor(0.3522, device='cuda:0') tensor(0.1970, device='cuda:0')\n",
      "targets tensor(0.7450, device='cuda:0') tensor(0.4537, device='cuda:0')\n",
      "outputs tensor(0.4482, device='cuda:0') tensor(0.0901, device='cuda:0')\n",
      "targets tensor(0.6225, device='cuda:0') tensor(0.5072, device='cuda:0')\n",
      "outputs tensor(0.3558, device='cuda:0') tensor(0.2196, device='cuda:0')\n",
      "targets tensor(0.6225, device='cuda:0') tensor(0.5072, device='cuda:0')\n",
      "outputs tensor(0.4592, device='cuda:0') tensor(0.0887, device='cuda:0')\n",
      "targets tensor(0.6225, device='cuda:0') tensor(0.5072, device='cuda:0')\n",
      "outputs tensor(0.4578, device='cuda:0') tensor(0.1019, device='cuda:0')\n",
      "targets tensor(0.2550, device='cuda:0') tensor(0.4537, device='cuda:0')\n",
      "outputs tensor(0.2936, device='cuda:0') tensor(0.1615, device='cuda:0')\n",
      "targets tensor(0.4020, device='cuda:0') tensor(0.5368, device='cuda:0')\n",
      "Valid Step 15/15, valid_loss: 0.6865\n",
      "[Epoch Train: 12] loss: 0.7229, time: 52.00 s            \n",
      "[Epoch Valid: 12] loss: 0.6865, auc: 0.6789, time: 7.00 s\n",
      "auc improved from 0.7129 to 0.6865. Saved model to '/home/RSNA_MICCAI_Brain_Tumor/models/T2w-e12-loss0.687-auc0.679.pth'\n",
      "EPOCH: 13\n"
     ]
    },
    {
     "data": {
      "application/vnd.jupyter.widget-view+json": {
       "model_id": "bba939cca8e948e49c69fdd4f89226aa",
       "version_major": 2,
       "version_minor": 0
      },
      "text/plain": [
       "HBox(children=(FloatProgress(value=0.0, max=59.0), HTML(value='')))"
      ]
     },
     "metadata": {},
     "output_type": "display_data"
    },
    {
     "name": "stdout",
     "output_type": "stream",
     "text": [
      "Train Step 59/59, train_loss: 0.8294\n"
     ]
    },
    {
     "data": {
      "application/vnd.jupyter.widget-view+json": {
       "model_id": "782b983f7bc0411fb76852fded1319e4",
       "version_major": 2,
       "version_minor": 0
      },
      "text/plain": [
       "HBox(children=(FloatProgress(value=0.0, max=15.0), HTML(value='')))"
      ]
     },
     "metadata": {},
     "output_type": "display_data"
    },
    {
     "name": "stdout",
     "output_type": "stream",
     "text": [
      "outputs tensor(0.5309, device='cuda:0') tensor(0.0014, device='cuda:0')\n",
      "targets tensor(0.7450, device='cuda:0') tensor(0.4537, device='cuda:0')\n",
      "outputs tensor(0.5306, device='cuda:0') tensor(0.0013, device='cuda:0')\n",
      "targets tensor(0.2550, device='cuda:0') tensor(0.4537, device='cuda:0')\n",
      "outputs tensor(0.5158, device='cuda:0') tensor(0.0418, device='cuda:0')\n",
      "targets tensor(0.2550, device='cuda:0') tensor(0.4537, device='cuda:0')\n",
      "outputs tensor(0.5321, device='cuda:0') tensor(0.0014, device='cuda:0')\n",
      "targets tensor(0.6225, device='cuda:0') tensor(0.5072, device='cuda:0')\n",
      "outputs tensor(0.5319, device='cuda:0') tensor(0.0047, device='cuda:0')\n",
      "targets tensor(0.7450, device='cuda:0') tensor(0.4537, device='cuda:0')\n",
      "outputs tensor(0.5314, device='cuda:0') tensor(0.0044, device='cuda:0')\n",
      "targets tensor(0.5000, device='cuda:0') tensor(0.5238, device='cuda:0')\n",
      "outputs tensor(0.5293, device='cuda:0') tensor(0.0013, device='cuda:0')\n",
      "targets tensor(0.5000, device='cuda:0') tensor(0.5238, device='cuda:0')\n",
      "outputs tensor(0.5096, device='cuda:0') tensor(0.0634, device='cuda:0')\n",
      "targets tensor(0.6225, device='cuda:0') tensor(0.5072, device='cuda:0')\n",
      "outputs tensor(0.5309, device='cuda:0') tensor(0.0019, device='cuda:0')\n",
      "targets tensor(0.2550, device='cuda:0') tensor(0.4537, device='cuda:0')\n",
      "outputs tensor(0.5327, device='cuda:0') tensor(0.0037, device='cuda:0')\n",
      "targets tensor(0.7450, device='cuda:0') tensor(0.4537, device='cuda:0')\n",
      "outputs tensor(0.5314, device='cuda:0') tensor(0.0033, device='cuda:0')\n",
      "targets tensor(0.6225, device='cuda:0') tensor(0.5072, device='cuda:0')\n",
      "outputs tensor(0.5310, device='cuda:0') tensor(0.0014, device='cuda:0')\n",
      "targets tensor(0.6225, device='cuda:0') tensor(0.5072, device='cuda:0')\n",
      "outputs tensor(0.5303, device='cuda:0') tensor(0.0014, device='cuda:0')\n",
      "targets tensor(0.6225, device='cuda:0') tensor(0.5072, device='cuda:0')\n",
      "outputs tensor(0.5299, device='cuda:0') tensor(0.0063, device='cuda:0')\n",
      "targets tensor(0.2550, device='cuda:0') tensor(0.4537, device='cuda:0')\n",
      "outputs tensor(0.5219, device='cuda:0') tensor(0.0211, device='cuda:0')\n",
      "targets tensor(0.4020, device='cuda:0') tensor(0.5368, device='cuda:0')\n",
      "Valid Step 15/15, valid_loss: 0.7163\n",
      "[Epoch Train: 13] loss: 0.8294, time: 52.00 s            \n",
      "[Epoch Valid: 13] loss: 0.7163, auc: 0.6727, time: 7.00 s\n",
      "EPOCH: 14\n"
     ]
    },
    {
     "data": {
      "application/vnd.jupyter.widget-view+json": {
       "model_id": "28e8939e53994799b06ed4ea2831bf2c",
       "version_major": 2,
       "version_minor": 0
      },
      "text/plain": [
       "HBox(children=(FloatProgress(value=0.0, max=59.0), HTML(value='')))"
      ]
     },
     "metadata": {},
     "output_type": "display_data"
    },
    {
     "name": "stdout",
     "output_type": "stream",
     "text": [
      "Train Step 59/59, train_loss: 0.7226\n"
     ]
    },
    {
     "data": {
      "application/vnd.jupyter.widget-view+json": {
       "model_id": "3c1e7bab08ca4025866bdc1a617542a4",
       "version_major": 2,
       "version_minor": 0
      },
      "text/plain": [
       "HBox(children=(FloatProgress(value=0.0, max=15.0), HTML(value='')))"
      ]
     },
     "metadata": {},
     "output_type": "display_data"
    },
    {
     "name": "stdout",
     "output_type": "stream",
     "text": [
      "outputs tensor(0.1635, device='cuda:0') tensor(0.1733, device='cuda:0')\n",
      "targets tensor(0.7450, device='cuda:0') tensor(0.4537, device='cuda:0')\n",
      "outputs tensor(0.2479, device='cuda:0') tensor(0.1986, device='cuda:0')\n",
      "targets tensor(0.2550, device='cuda:0') tensor(0.4537, device='cuda:0')\n",
      "outputs tensor(0.2777, device='cuda:0') tensor(0.2447, device='cuda:0')\n",
      "targets tensor(0.2550, device='cuda:0') tensor(0.4537, device='cuda:0')\n",
      "outputs tensor(0.1360, device='cuda:0') tensor(0.1629, device='cuda:0')\n",
      "targets tensor(0.6225, device='cuda:0') tensor(0.5072, device='cuda:0')\n",
      "outputs tensor(0.2332, device='cuda:0') tensor(0.2074, device='cuda:0')\n",
      "targets tensor(0.7450, device='cuda:0') tensor(0.4537, device='cuda:0')\n",
      "outputs tensor(0.2296, device='cuda:0') tensor(0.2289, device='cuda:0')\n",
      "targets tensor(0.5000, device='cuda:0') tensor(0.5238, device='cuda:0')\n",
      "outputs tensor(0.3645, device='cuda:0') tensor(0.2123, device='cuda:0')\n",
      "targets tensor(0.5000, device='cuda:0') tensor(0.5238, device='cuda:0')\n",
      "outputs tensor(0.1604, device='cuda:0') tensor(0.1857, device='cuda:0')\n",
      "targets tensor(0.6225, device='cuda:0') tensor(0.5072, device='cuda:0')\n",
      "outputs tensor(0.2565, device='cuda:0') tensor(0.2140, device='cuda:0')\n",
      "targets tensor(0.2550, device='cuda:0') tensor(0.4537, device='cuda:0')\n",
      "outputs tensor(0.1543, device='cuda:0') tensor(0.1642, device='cuda:0')\n",
      "targets tensor(0.7450, device='cuda:0') tensor(0.4537, device='cuda:0')\n",
      "outputs tensor(0.3244, device='cuda:0') tensor(0.2054, device='cuda:0')\n",
      "targets tensor(0.6225, device='cuda:0') tensor(0.5072, device='cuda:0')\n",
      "outputs tensor(0.2309, device='cuda:0') tensor(0.1824, device='cuda:0')\n",
      "targets tensor(0.6225, device='cuda:0') tensor(0.5072, device='cuda:0')\n",
      "outputs tensor(0.3340, device='cuda:0') tensor(0.1982, device='cuda:0')\n",
      "targets tensor(0.6225, device='cuda:0') tensor(0.5072, device='cuda:0')\n",
      "outputs tensor(0.1475, device='cuda:0') tensor(0.1598, device='cuda:0')\n",
      "targets tensor(0.2550, device='cuda:0') tensor(0.4537, device='cuda:0')\n",
      "outputs tensor(0.1677, device='cuda:0') tensor(0.2381, device='cuda:0')\n",
      "targets tensor(0.4020, device='cuda:0') tensor(0.5368, device='cuda:0')\n",
      "Valid Step 15/15, valid_loss: 0.7222\n",
      "[Epoch Train: 14] loss: 0.7226, time: 51.00 s            \n",
      "[Epoch Valid: 14] loss: 0.7222, auc: 0.4031, time: 7.00 s\n",
      "EPOCH: 15\n"
     ]
    },
    {
     "data": {
      "application/vnd.jupyter.widget-view+json": {
       "model_id": "de039e23b86e40728e8b6710685ad2f8",
       "version_major": 2,
       "version_minor": 0
      },
      "text/plain": [
       "HBox(children=(FloatProgress(value=0.0, max=59.0), HTML(value='')))"
      ]
     },
     "metadata": {},
     "output_type": "display_data"
    },
    {
     "name": "stdout",
     "output_type": "stream",
     "text": [
      "Train Step 59/59, train_loss: 0.7249\n"
     ]
    },
    {
     "data": {
      "application/vnd.jupyter.widget-view+json": {
       "model_id": "4653e97d4b1a49f2966194b82e2f1b65",
       "version_major": 2,
       "version_minor": 0
      },
      "text/plain": [
       "HBox(children=(FloatProgress(value=0.0, max=15.0), HTML(value='')))"
      ]
     },
     "metadata": {},
     "output_type": "display_data"
    },
    {
     "name": "stdout",
     "output_type": "stream",
     "text": [
      "outputs tensor(0.5068, device='cuda:0') tensor(0.2050, device='cuda:0')\n",
      "targets tensor(0.7450, device='cuda:0') tensor(0.4537, device='cuda:0')\n",
      "outputs tensor(0.5022, device='cuda:0') tensor(0.2033, device='cuda:0')\n",
      "targets tensor(0.2550, device='cuda:0') tensor(0.4537, device='cuda:0')\n",
      "outputs tensor(0.4309, device='cuda:0') tensor(0.2608, device='cuda:0')\n",
      "targets tensor(0.2550, device='cuda:0') tensor(0.4537, device='cuda:0')\n",
      "outputs tensor(0.3728, device='cuda:0') tensor(0.2893, device='cuda:0')\n",
      "targets tensor(0.6225, device='cuda:0') tensor(0.5072, device='cuda:0')\n",
      "outputs tensor(0.4290, device='cuda:0') tensor(0.2651, device='cuda:0')\n",
      "targets tensor(0.7450, device='cuda:0') tensor(0.4537, device='cuda:0')\n",
      "outputs tensor(0.4428, device='cuda:0') tensor(0.2410, device='cuda:0')\n",
      "targets tensor(0.5000, device='cuda:0') tensor(0.5238, device='cuda:0')\n",
      "outputs tensor(0.4938, device='cuda:0') tensor(0.2000, device='cuda:0')\n",
      "targets tensor(0.5000, device='cuda:0') tensor(0.5238, device='cuda:0')\n",
      "outputs tensor(0.4232, device='cuda:0') tensor(0.2624, device='cuda:0')\n",
      "targets tensor(0.6225, device='cuda:0') tensor(0.5072, device='cuda:0')\n",
      "outputs tensor(0.5034, device='cuda:0') tensor(0.2030, device='cuda:0')\n",
      "targets tensor(0.2550, device='cuda:0') tensor(0.4537, device='cuda:0')\n",
      "outputs tensor(0.4371, device='cuda:0') tensor(0.2650, device='cuda:0')\n",
      "targets tensor(0.7450, device='cuda:0') tensor(0.4537, device='cuda:0')\n",
      "outputs tensor(0.4989, device='cuda:0') tensor(0.2020, device='cuda:0')\n",
      "targets tensor(0.6225, device='cuda:0') tensor(0.5072, device='cuda:0')\n",
      "outputs tensor(0.5769, device='cuda:0') tensor(0.0123, device='cuda:0')\n",
      "targets tensor(0.6225, device='cuda:0') tensor(0.5072, device='cuda:0')\n",
      "outputs tensor(0.5695, device='cuda:0') tensor(0.0126, device='cuda:0')\n",
      "targets tensor(0.6225, device='cuda:0') tensor(0.5072, device='cuda:0')\n",
      "outputs tensor(0.4342, device='cuda:0') tensor(0.2682, device='cuda:0')\n",
      "targets tensor(0.2550, device='cuda:0') tensor(0.4537, device='cuda:0')\n",
      "outputs tensor(0.2258, device='cuda:0') tensor(0.3088, device='cuda:0')\n",
      "targets tensor(0.4020, device='cuda:0') tensor(0.5368, device='cuda:0')\n",
      "Valid Step 15/15, valid_loss: 0.7045\n",
      "[Epoch Train: 15] loss: 0.7249, time: 52.00 s            \n",
      "[Epoch Valid: 15] loss: 0.7045, auc: 0.6417, time: 7.00 s\n",
      "\n",
      "['/home/RSNA_MICCAI_Brain_Tumor/models/FLAIR-e8-loss0.716-auc0.623.pth', '/home/RSNA_MICCAI_Brain_Tumor/models/T1w-e12-loss0.710-auc0.677.pth', '/home/RSNA_MICCAI_Brain_Tumor/models/T1wCE-e10-loss0.730-auc0.526.pth', '/home/RSNA_MICCAI_Brain_Tumor/models/T2w-e12-loss0.687-auc0.679.pth']\n"
     ]
    },
    {
     "data": {
      "image/png": "[encoded data removed]",
      "text/plain": [
       "<Figure size 432x288 with 1 Axes>"
      ]
     },
     "metadata": {
      "needs_background": "light"
     },
     "output_type": "display_data"
    }
   ],
   "source": [
    "modelfiles = None\n",
    "\n",
    "if not modelfiles:\n",
    "    modelfiles = [train_mri_type(df_train, df_valid, m) for m in mri_types]\n",
    "    print(modelfiles)"
   ]
  },
  {
   "cell_type": "markdown",
   "id": "05788d01-ab53-4443-a1f5-267130f622f2",
   "metadata": {},
   "source": [
    "## Predict Function"
   ]
  },
  {
   "cell_type": "code",
   "execution_count": 17,
   "id": "13ff8d67-0664-4d2d-b7d6-09c3416086b1",
   "metadata": {},
   "outputs": [],
   "source": [
    "def predict(modelfile, df, mri_type, split):\n",
    "    print(\"Predict:\", modelfile, mri_type, df.shape)\n",
    "    df.loc[:,\"MRI_Type\"] = mri_type\n",
    "    data_retriever = Dataset(\n",
    "        df.index.values, \n",
    "        mri_type=df[\"MRI_Type\"].values,\n",
    "        split=split\n",
    "    )\n",
    "\n",
    "    data_loader = torch_data.DataLoader(\n",
    "        data_retriever,\n",
    "        batch_size=cfg.batch_size,\n",
    "        shuffle=False,\n",
    "        num_workers=8,\n",
    "    )\n",
    "   \n",
    "    model = Model()\n",
    "    model.to(device)\n",
    "    \n",
    "    checkpoint = torch.load(modelfile)\n",
    "    model.load_state_dict(checkpoint[\"model_state_dict\"])\n",
    "    model.eval()\n",
    "    \n",
    "    y_pred = []\n",
    "    ids = []\n",
    "\n",
    "    for e, batch in enumerate(data_loader,1):\n",
    "        print(f\"{e}/{len(data_loader)}\", end=\"\\r\")\n",
    "        with torch.no_grad():\n",
    "            tmp_pred = torch.sigmoid(model(batch[\"X\"].to(device))).cpu().numpy().squeeze()\n",
    "            print('tmp_pred', tmp_pred)\n",
    "            if tmp_pred.size == 1:\n",
    "                y_pred.append(tmp_pred)\n",
    "            else:\n",
    "                y_pred.extend(tmp_pred.tolist())\n",
    "            ids.extend(batch[\"id\"].numpy().tolist())\n",
    "            \n",
    "    preddf = pd.DataFrame({\"BraTS21ID\": ids, \"MGMT_value\": y_pred}) \n",
    "    preddf = preddf.set_index(\"BraTS21ID\")\n",
    "    return preddf"
   ]
  },
  {
   "cell_type": "markdown",
   "id": "5e7d0f6a-db8a-4850-aed9-6703416c64df",
   "metadata": {},
   "source": [
    "## Ensemble for validation"
   ]
  },
  {
   "cell_type": "code",
   "execution_count": 18,
   "id": "233526bf-87ff-40b6-8c3f-a9bbcfeb3fd7",
   "metadata": {},
   "outputs": [],
   "source": [
    "df_valid = df_valid.set_index(\"BraTS21ID\")"
   ]
  },
  {
   "cell_type": "code",
   "execution_count": 19,
   "id": "b6116db7-eb98-410d-8f58-9afca0e5c6fe",
   "metadata": {},
   "outputs": [
    {
     "name": "stdout",
     "output_type": "stream",
     "text": [
      "Predict: /home/RSNA_MICCAI_Brain_Tumor/models/FLAIR-e8-loss0.716-auc0.623.pth FLAIR (117, 3)\n"
     ]
    },
    {
     "name": "stderr",
     "output_type": "stream",
     "text": [
      "/opt/conda/lib/python3.8/site-packages/torch/utils/data/dataloader.py:474: UserWarning: This DataLoader will create 8 worker processes in total. Our suggested max number of worker in current system is 7, which is smaller than what this DataLoader is going to create. Please be aware that excessive worker creation might get DataLoader running slow or even freeze, lower the worker number to avoid potential slowness/freeze if necessary.\n",
      "  warnings.warn(_create_warning_msg(\n"
     ]
    },
    {
     "name": "stdout",
     "output_type": "stream",
     "text": [
      "tmp_pred [0.5092922  0.5067425  0.50951165 0.5090675  0.5096297  0.5084007\n",
      " 0.5091922  0.5098974 ]\n",
      "tmp_pred [0.52323115 0.50838447 0.5093175  0.50651276 0.5092457  0.52649707\n",
      " 0.50876033 0.506498  ]\n",
      "tmp_pred [0.51405674 0.5094469  0.50934297 0.5063783  0.5107217  0.50939256\n",
      " 0.50752944 0.5078062 ]\n",
      "tmp_pred [0.5171236  0.5259065  0.5103826  0.5138859  0.5095069  0.50932723\n",
      " 0.5095227  0.51249653]\n",
      "tmp_pred [0.50800145 0.5062631  0.50945157 0.50946015 0.51649094 0.5250601\n",
      " 0.50904095 0.5057214 ]\n",
      "tmp_pred [0.5102485  0.51052094 0.50631726 0.52249    0.5094456  0.51218987\n",
      " 0.5054665  0.5092802 ]\n",
      "tmp_pred [0.50579524 0.5096071  0.5075195  0.50951314 0.5168475  0.5090184\n",
      " 0.50742775 0.50702375]\n",
      "tmp_pred [0.5112423  0.5213739  0.5096964  0.50961226 0.50828695 0.5230575\n",
      " 0.5086485  0.5079027 ]\n",
      "tmp_pred [0.5076799  0.5198555  0.5082749  0.50821143 0.51345336 0.5039991\n",
      " 0.5052454  0.50953525]\n",
      "tmp_pred [0.5093812 0.5104857 0.5195993 0.5099816 0.5089545 0.5095392 0.5289198\n",
      " 0.5038551]\n",
      "tmp_pred [0.50987345 0.5092935  0.5068533  0.50600874 0.50952303 0.50821614\n",
      " 0.50722325 0.5134897 ]\n",
      "tmp_pred [0.5083413  0.5094543  0.507434   0.5094835  0.50782067 0.51141423\n",
      " 0.5092472  0.5106567 ]\n",
      "tmp_pred [0.5091714  0.5095796  0.5093902  0.5053119  0.50907636 0.5078967\n",
      " 0.5075725  0.5073489 ]\n",
      "tmp_pred [0.50789344 0.5093518  0.51780057 0.5095451  0.51124686 0.5150284\n",
      " 0.5098412  0.50941104]\n",
      "tmp_pred [0.5069613  0.5167611  0.5091322  0.52823466 0.5168487 ]\n",
      "Predict: /home/RSNA_MICCAI_Brain_Tumor/models/T1w-e12-loss0.710-auc0.677.pth T1w (117, 3)\n",
      "tmp_pred [0.5232453  0.46736932 0.5232535  0.52324253 0.5232354  0.5186764\n",
      " 0.5233005  0.5232379 ]\n",
      "tmp_pred [0.48988685 0.43947116 0.5232571  0.46606869 0.5108994  0.48418948\n",
      " 0.52323866 0.4346467 ]\n",
      "tmp_pred [0.52325094 0.46339983 0.49098775 0.45152065 0.5232636  0.523261\n",
      " 0.445787   0.47325832]\n",
      "tmp_pred [0.5233274  0.52322936 0.52327657 0.5232352  0.52329344 0.5233945\n",
      " 0.5196428  0.5233441 ]\n",
      "tmp_pred [0.5232647  0.44690523 0.52324504 0.4633652  0.52324224 0.52325517\n",
      " 0.5232709  0.4426108 ]\n",
      "tmp_pred [0.52339    0.5230677  0.44587687 0.5232518  0.52325463 0.49784958\n",
      " 0.4379339  0.52323765]\n",
      "tmp_pred [0.4457583  0.5233209  0.47975564 0.47551998 0.52323234 0.436532\n",
      " 0.4442135  0.40338954]\n",
      "tmp_pred [0.52323395 0.52336717 0.522681   0.5232313  0.5232636  0.5232488\n",
      " 0.52337927 0.44266307]\n",
      "tmp_pred [0.52338946 0.5232482  0.5233084  0.52323484 0.5234519  0.4553365\n",
      " 0.4446824  0.52323514]\n",
      "tmp_pred [0.52331334 0.52325064 0.5232347  0.5232334  0.52222574 0.5232761\n",
      " 0.5232701  0.43144333]\n",
      "tmp_pred [0.493373   0.52332526 0.5232279  0.4346534  0.49354658 0.43390208\n",
      " 0.46507144 0.52323705]\n",
      "tmp_pred [0.45072186 0.5204933  0.43545252 0.5233045  0.5232373  0.519204\n",
      " 0.52325046 0.4659177 ]\n",
      "tmp_pred [0.52328557 0.5234096  0.52333695 0.45055577 0.5232404  0.4401554\n",
      " 0.4401187  0.4283223 ]\n",
      "tmp_pred [0.44554368 0.5204071  0.5232465  0.5232338  0.50186294 0.5232531\n",
      " 0.47099587 0.5232617 ]\n",
      "tmp_pred [0.46435046 0.5232597  0.52322763 0.52326554 0.52324563]\n",
      "Predict: /home/RSNA_MICCAI_Brain_Tumor/models/T1wCE-e10-loss0.730-auc0.526.pth T1wCE (117, 3)\n",
      "tmp_pred [0.9475511  0.56839734 0.939757   0.95838636 0.81291765 0.9380082\n",
      " 0.6163215  0.83434546]\n",
      "tmp_pred [0.97735924 0.5111586  0.97466487 0.8272359  0.5916181  0.44604734\n",
      " 0.96643597 0.43279833]\n",
      "tmp_pred [0.9153994  0.8267398  0.2322976  0.4457047  0.79094404 0.2711169\n",
      " 0.11921833 0.9026375 ]\n",
      "tmp_pred [0.5400195  0.95330906 0.9667378  0.7407185  0.9750225  0.9295553\n",
      " 0.28633183 0.2661391 ]\n",
      "tmp_pred [0.9422351  0.10827241 0.15651973 0.86418986 0.86508644 0.31720513\n",
      " 0.08738014 0.30114034]\n",
      "tmp_pred [0.59528553 0.4438739  0.4035733  0.4563319  0.92332417 0.9211942\n",
      " 0.23301005 0.97635   ]\n",
      "tmp_pred [0.21604902 0.8838496  0.7024152  0.9298021  0.9332306  0.4281118\n",
      " 0.7152711  0.03024134]\n",
      "tmp_pred [0.89588445 0.9748716  0.41688615 0.45286247 0.9770866  0.7850005\n",
      " 0.5430606  0.6033298 ]\n",
      "tmp_pred [0.8518038  0.49632552 0.49768665 0.5223691  0.89604914 0.4201475\n",
      " 0.04787942 0.31887516]\n",
      "tmp_pred [0.74055886 0.08979446 0.9749297  0.8134236  0.96766776 0.535223\n",
      " 0.78464645 0.2664642 ]\n",
      "tmp_pred [0.7924027  0.963992   0.45838812 0.0484856  0.8858277  0.10177743\n",
      " 0.07896983 0.36201948]\n",
      "tmp_pred [0.14097518 0.96481365 0.13901822 0.5139003  0.88962483 0.5688814\n",
      " 0.32960996 0.30442637]\n",
      "tmp_pred [0.19384259 0.9756974  0.7969553  0.1495342  0.88393325 0.7022585\n",
      " 0.27761722 0.13501659]\n",
      "tmp_pred [0.4770013  0.34238535 0.89023614 0.9405137  0.97721577 0.93004286\n",
      " 0.4851405  0.9438285 ]\n",
      "tmp_pred [0.09042114 0.3509229  0.6423328  0.5696552  0.57295144]\n",
      "Predict: /home/RSNA_MICCAI_Brain_Tumor/models/T2w-e12-loss0.687-auc0.679.pth T2w (117, 3)\n",
      "tmp_pred [0.05709979 0.05820218 0.5148319  0.406686   0.51381975 0.51299167\n",
      " 0.5184646  0.5191062 ]\n",
      "tmp_pred [0.09339392 0.5104536  0.47615072 0.13050868 0.51473886 0.3133075\n",
      " 0.51553077 0.2249274 ]\n",
      "tmp_pred [0.24220325 0.51755506 0.5156464  0.26162982 0.02502771 0.50920576\n",
      " 0.32196388 0.11286826]\n",
      "tmp_pred [0.5113992  0.500994   0.29632744 0.2904239  0.03379675 0.5161495\n",
      " 0.50979394 0.01383144]\n",
      "tmp_pred [0.5126893  0.29532906 0.51750684 0.513882   0.1786926  0.15191197\n",
      " 0.5119272  0.19028176]\n",
      "tmp_pred [0.13673812 0.5126984  0.41763574 0.20595421 0.5188149  0.5136453\n",
      " 0.10230625 0.50373054]\n",
      "tmp_pred [0.3902813  0.5160086  0.22145393 0.51123846 0.5061237  0.23773226\n",
      " 0.32041875 0.39435947]\n",
      "tmp_pred [0.22372456 0.29205126 0.07387989 0.50819576 0.51543754 0.23145616\n",
      " 0.51148874 0.3925533 ]\n",
      "tmp_pred [0.5022467  0.160368   0.49917394 0.5182574  0.50930357 0.39978734\n",
      " 0.3183951  0.5172508 ]\n",
      "tmp_pred [0.3879744  0.51433533 0.15506044 0.51243234 0.5120906  0.51619625\n",
      " 0.04048581 0.17891578]\n",
      "tmp_pred [0.4762813  0.5137513  0.5183344  0.27436376 0.5156751  0.36200753\n",
      " 0.4163457  0.5085691 ]\n",
      "tmp_pred [0.0884614  0.5149197  0.11862615 0.5146711  0.51762974 0.5088514\n",
      " 0.51707464 0.06642626]\n",
      "tmp_pred [0.50282246 0.5113657  0.512918   0.49666968 0.5153252  0.36267802\n",
      " 0.4929614  0.27871254]\n",
      "tmp_pred [0.32779086 0.51546454 0.2634182  0.51704925 0.5143898  0.4925455\n",
      " 0.51562893 0.51626134]\n",
      "tmp_pred [0.22883186 0.41421217 0.49503094 0.08789308 0.24193153]\n",
      "Validation ensemble AUC: 0.6016\n"
     ]
    },
    {
     "data": {
      "text/plain": [
       "<seaborn.axisgrid.FacetGrid at 0x7fcf8b200a00>"
      ]
     },
     "execution_count": 19,
     "metadata": {},
     "output_type": "execute_result"
    },
    {
     "data": {
      "image/png": "[encoded data removed]",
      "text/plain": [
       "<Figure size 360x360 with 1 Axes>"
      ]
     },
     "metadata": {
      "needs_background": "light"
     },
     "output_type": "display_data"
    }
   ],
   "source": [
    "df_valid[\"MGMT_pred\"] = 0\n",
    "for m, mtype in zip(modelfiles,  mri_types):\n",
    "    pred = predict(m, df_valid, mtype, \"train\")\n",
    "    df_valid[\"MGMT_pred\"] += pred[\"MGMT_value\"]\n",
    "df_valid[\"MGMT_pred\"] /= len(modelfiles)\n",
    "auc = roc_auc_score(df_valid[\"MGMT_value\"], df_valid[\"MGMT_pred\"])\n",
    "print(f\"Validation ensemble AUC: {auc:.4f}\")\n",
    "sns.displot(df_valid[\"MGMT_pred\"])"
   ]
  },
  {
   "cell_type": "markdown",
   "id": "46e297d0-7053-4020-a641-d12bed19f3c2",
   "metadata": {},
   "source": [
    "## Export to Kaggle"
   ]
  },
  {
   "cell_type": "code",
   "execution_count": 20,
   "id": "f31d4b72-51cb-41ee-b22a-9a6256c53313",
   "metadata": {},
   "outputs": [],
   "source": [
    "!rm -rf {cfg.models_path/cfg.model_name}"
   ]
  },
  {
   "cell_type": "code",
   "execution_count": 21,
   "id": "49bff872-f714-475e-8f53-5fa0fe7ec93d",
   "metadata": {},
   "outputs": [
    {
     "data": {
      "text/plain": [
       "'/home/RSNA_MICCAI_Brain_Tumor/models/efficientnet3d-0.zip'"
      ]
     },
     "execution_count": 21,
     "metadata": {},
     "output_type": "execute_result"
    }
   ],
   "source": [
    "import shutil\n",
    "\n",
    "if not Path(cfg.models_path/cfg.model_name).exists():\n",
    "    os.mkdir(cfg.models_path/cfg.model_name)\n",
    "for m in modelfiles:\n",
    "    shutil.copy(m, cfg.models_path/cfg.model_name)\n",
    "    \n",
    "shutil.make_archive(cfg.models_path/cfg.model_name, 'zip', cfg.models_path/cfg.model_name)"
   ]
  },
  {
   "cell_type": "code",
   "execution_count": 22,
   "id": "f42f2bd7-08f4-465f-91bf-fd9022607820",
   "metadata": {},
   "outputs": [
    {
     "name": "stdout",
     "output_type": "stream",
     "text": [
      "252M\t/home/RSNA_MICCAI_Brain_Tumor/models/efficientnet3d-0\n"
     ]
    }
   ],
   "source": [
    "!du -h {cfg.models_path/cfg.model_name}"
   ]
  },
  {
   "cell_type": "code",
   "execution_count": 23,
   "id": "a9a82981-4b50-4d8f-9293-d4be7e0496e4",
   "metadata": {},
   "outputs": [],
   "source": [
    "!rm -rf {cfg.models_path}/*.pth\n",
    "!rm -rf {cfg.models_path/cfg.model_name}/*.pth"
   ]
  },
  {
   "cell_type": "code",
   "execution_count": 24,
   "id": "13ec0334-cd15-4f25-b042-bc4c60330bd4",
   "metadata": {},
   "outputs": [],
   "source": [
    "!mv {cfg.models_path/cfg.model_name}.zip {cfg.models_path/cfg.model_name}"
   ]
  },
  {
   "cell_type": "code",
   "execution_count": 25,
   "id": "3b841211-646e-4e1e-bc9c-7a662821756b",
   "metadata": {},
   "outputs": [
    {
     "name": "stdout",
     "output_type": "stream",
     "text": [
      "Data package template written to: /home/RSNA_MICCAI_Brain_Tumor/models/efficientnet3d-0/dataset-metadata.json\n"
     ]
    }
   ],
   "source": [
    "!kaggle datasets init -p {cfg.models_path/cfg.model_name}"
   ]
  },
  {
   "cell_type": "code",
   "execution_count": 26,
   "id": "a7bda21d-cd62-4f78-ba42-5d1f1c7db7d2",
   "metadata": {},
   "outputs": [],
   "source": [
    "dataset_json_path = Path(cfg.models_path/cfg.model_name/'dataset-metadata.json')\n",
    "assert dataset_json_path.exists()"
   ]
  },
  {
   "cell_type": "code",
   "execution_count": 27,
   "id": "c2f55eea-99a6-4573-ae4f-dbae945d4073",
   "metadata": {},
   "outputs": [
    {
     "name": "stdout",
     "output_type": "stream",
     "text": [
      "{\n",
      "  \"title\": \"rsna-efficientnet3d-0\",\n",
      "  \"id\": \"gilfernandes/rsna-efficientnet3d-0\",\n",
      "  \"licenses\": [\n",
      "    {\n",
      "      \"name\": \"CC0-1.0\"\n",
      "    }\n",
      "  ]\n",
      "}\n"
     ]
    }
   ],
   "source": [
    "with open(dataset_json_path, 'r') as f:\n",
    "    dataset_json = f.read()\n",
    "    dataset_json = dataset_json.replace('INSERT_TITLE_HERE', f'rsna-{cfg.model_name}').replace('INSERT_SLUG_HERE', f'rsna-{cfg.model_name}')\n",
    "    print(dataset_json)\n",
    "with(open(dataset_json_path, 'w')) as f:\n",
    "    f.write(dataset_json)"
   ]
  },
  {
   "cell_type": "code",
   "execution_count": 28,
   "id": "6ff5db06-1a02-46b4-adde-e5de79ac43e8",
   "metadata": {},
   "outputs": [],
   "source": [
    "# !kaggle datasets create -p {cfg.models_path/cfg.model_name}"
   ]
  },
  {
   "cell_type": "code",
   "execution_count": 29,
   "id": "6920eaa3-920e-4e22-9131-2818ea113d03",
   "metadata": {},
   "outputs": [
    {
     "name": "stdout",
     "output_type": "stream",
     "text": [
      "Starting upload for file efficientnet3d-0.zip\n",
      "100%|████████████████████████████████████████| 218M/218M [00:29<00:00, 7.85MB/s]\n",
      "Upload successful: efficientnet3d-0.zip (218MB)\n",
      "Dataset version is being created. Please check progress at /api/v1/datasets/status/gilfernandes/rsna-efficientnet3d-0\n"
     ]
    }
   ],
   "source": [
    "!kaggle datasets version -p {cfg.models_path/cfg.model_name} -m \"Improved data set\" -d"
   ]
  },
  {
   "cell_type": "code",
   "execution_count": null,
   "id": "1729bf7a-a9b2-4f7f-a635-ef9bf6e89a2e",
   "metadata": {},
   "outputs": [],
   "source": []
  }
 ],
 "metadata": {
  "kernelspec": {
   "display_name": "Python 3",
   "language": "python",
   "name": "python3"
  },
  "language_info": {
   "codemirror_mode": {
    "name": "ipython",
    "version": 3
   },
   "file_extension": ".py",
   "mimetype": "text/x-python",
   "name": "python",
   "nbconvert_exporter": "python",
   "pygments_lexer": "ipython3",
   "version": "3.8.5"
  }
 },
 "nbformat": 4,
 "nbformat_minor": 5
}
